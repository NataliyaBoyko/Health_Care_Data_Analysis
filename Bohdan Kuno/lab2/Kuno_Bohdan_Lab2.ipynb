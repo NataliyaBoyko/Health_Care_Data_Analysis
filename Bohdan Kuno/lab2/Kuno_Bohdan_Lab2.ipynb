{
 "cells": [
  {
   "cell_type": "markdown",
   "metadata": {},
   "source": [
    "<center>\n",
    "    <img src=\"https://cf-courses-data.s3.us.cloud-object-storage.appdomain.cloud/IBMDeveloperSkillsNetwork-DA0101EN-SkillsNetwork/labs/Module%202/images/IDSNlogo.png\" width=\"300\" alt=\"cognitiveclass.ai logo\"  />\n",
    "</center>\n",
    "\n",
    "# Data Wrangling\n",
    "\n",
    "Estimated time needed: **30** minutes\n",
    "\n",
    "## Objectives\n",
    "\n",
    "After completing this lab you will be able to:\n",
    "\n",
    "*   Handle missing values\n",
    "*   Correct data format\n",
    "*   Standardize and normalize data\n"
   ]
  },
  {
   "cell_type": "markdown",
   "metadata": {},
   "source": [
    "<h2>Table of Contents</h2>\n",
    "\n",
    "<div class=\"alert alert-block alert-info\" style=\"margin-top: 20px\">\n",
    "<ul>\n",
    "    <li><a href=\"https://#identify_handle_missing_values\">Identify and handle missing values</a>\n",
    "        <ul>\n",
    "            <li><a href=\"https://#identify_missing_values\">Identify missing values</a></li>\n",
    "            <li><a href=\"https://#deal_missing_values\">Deal with missing values</a></li>\n",
    "            <li><a href=\"https://#correct_data_format\">Correct data format</a></li>\n",
    "        </ul>\n",
    "    </li>\n",
    "    <li><a href=\"https://#data_standardization\">Data standardization</a></li>\n",
    "    <li><a href=\"https://#data_normalization\">Data normalization (centering/scaling)</a></li>\n",
    "    <li><a href=\"https://#binning\">Binning</a></li>\n",
    "    <li><a href=\"https://#indicator\">Indicator variable</a></li>\n",
    "</ul>\n",
    "\n",
    "</div>\n",
    "\n",
    "<hr>\n"
   ]
  },
  {
   "cell_type": "markdown",
   "metadata": {},
   "source": [
    "<h2>What is the purpose of data wrangling?</h2>\n"
   ]
  },
  {
   "cell_type": "markdown",
   "metadata": {},
   "source": [
    "Data wrangling is the process of converting data from the initial format to a format that may be better for analysis.\n"
   ]
  },
  {
   "cell_type": "markdown",
   "metadata": {},
   "source": [
    "<h3>Import data</h3>\n",
    "<p>\n",
    "You can find the \"The Heart Failure Prediction Dataset\" from the following link: <br><a href=\"https://www.kaggle.com/datasets/asgharalikhan/mortality-rate-heart-patient-pakistan-hospital\" target=\"_blank\">https://www.kaggle.com/datasets/asgharalikhan/mortality-rate-heart-patient-pakistan-hospital</a>. <br><br>\n",
    "The statistical data obtained from <a href=\\\"https://www.kaggle.com/datasets/asgharalikhan/mortality-rate-heart-patient-pakistan-hospital\\\" target=\\\"_blank\\\">https://www.kaggle.com/datasets/asgharalikhan/mortality-rate-heart-patient-pakistan-hospital</a> under <a href=\\\"https://creativecommons.org/publicdomain/zero/1.0/\\\" target=\\\"_black\\\">CC0: Public Domain</a> license.\n",
    "We will be using this dataset throughout this course.\n",
    "</p>\n"
   ]
  },
  {
   "cell_type": "markdown",
   "metadata": {},
   "source": [
    "<h4>Import pandas</h4> \n"
   ]
  },
  {
   "cell_type": "markdown",
   "metadata": {},
   "source": [
    "you are running the lab in your  browser, so we will install the libraries using `piplite`\n"
   ]
  },
  {
   "cell_type": "code",
   "execution_count": 476,
   "metadata": {
    "execution": {
     "iopub.execute_input": "2023-01-26T14:40:11.607071Z",
     "iopub.status.busy": "2023-01-26T14:40:11.606043Z",
     "iopub.status.idle": "2023-01-26T14:40:11.615036Z",
     "shell.execute_reply": "2023-01-26T14:40:11.614052Z"
    }
   },
   "outputs": [],
   "source": [
    "# import piplite\n",
    "# await piplite.install(['pandas'])\n",
    "# await piplite.install(['matplotlib'])"
   ]
  },
  {
   "cell_type": "markdown",
   "metadata": {},
   "source": [
    "If you run the lab locally using Anaconda, you can load the correct library and versions by uncommenting the following:\n"
   ]
  },
  {
   "cell_type": "code",
   "execution_count": 477,
   "metadata": {
    "execution": {
     "iopub.execute_input": "2023-01-26T14:40:11.618036Z",
     "iopub.status.busy": "2023-01-26T14:40:11.618036Z",
     "iopub.status.idle": "2023-01-26T14:40:11.630053Z",
     "shell.execute_reply": "2023-01-26T14:40:11.629039Z"
    }
   },
   "outputs": [],
   "source": [
    "#If you run the lab locally using Anaconda, you can load the correct library and versions by uncommenting the following:\n",
    "#install specific version of libraries used in lab\n",
    "#! mamba install pandas==1.3.3\n",
    "#! mamba install numpy=1.21.2\n"
   ]
  },
  {
   "cell_type": "code",
   "execution_count": 478,
   "metadata": {
    "execution": {
     "iopub.execute_input": "2023-01-26T14:40:11.633040Z",
     "iopub.status.busy": "2023-01-26T14:40:11.633040Z",
     "iopub.status.idle": "2023-01-26T14:40:14.380039Z",
     "shell.execute_reply": "2023-01-26T14:40:14.380039Z"
    }
   },
   "outputs": [],
   "source": [
    "import pandas as pd\n",
    "import numpy as np\n",
    "import random\n",
    "import matplotlib.pylab as plt"
   ]
  },
  {
   "cell_type": "markdown",
   "metadata": {},
   "source": [
    "This function will download the dataset into your browser\n"
   ]
  },
  {
   "cell_type": "code",
   "execution_count": 479,
   "metadata": {
    "execution": {
     "iopub.execute_input": "2023-01-26T14:40:14.383039Z",
     "iopub.status.busy": "2023-01-26T14:40:14.383039Z",
     "iopub.status.idle": "2023-01-26T14:40:14.396039Z",
     "shell.execute_reply": "2023-01-26T14:40:14.396039Z"
    }
   },
   "outputs": [],
   "source": [
    "#This function will download the dataset into your browser \n",
    "# from pyodide.http import pyfetch\n",
    "#\n",
    "# async def download(url, filename):\n",
    "#     response = await pyfetch(url)\n",
    "#     if response.status == 200:\n",
    "#         with open(filename, \"wb\") as f:\n",
    "#             f.write(await response.bytes())\n",
    "\n"
   ]
  },
  {
   "cell_type": "markdown",
   "metadata": {},
   "source": [
    "<h2>Reading the dataset from the URL and adding the related headers</h2>\n"
   ]
  },
  {
   "cell_type": "markdown",
   "metadata": {},
   "source": [
    "First, we assign the URL of the dataset to \"filename\".\n"
   ]
  },
  {
   "cell_type": "code",
   "execution_count": 480,
   "metadata": {
    "execution": {
     "iopub.execute_input": "2023-01-26T14:40:14.399039Z",
     "iopub.status.busy": "2023-01-26T14:40:14.399039Z",
     "iopub.status.idle": "2023-01-26T14:40:14.411039Z",
     "shell.execute_reply": "2023-01-26T14:40:14.410039Z"
    }
   },
   "outputs": [],
   "source": [
    "filename = \"heart_failure_data.csv\""
   ]
  },
  {
   "cell_type": "markdown",
   "metadata": {},
   "source": [
    "Then, we create a Python list <b>headers</b> containing name of headers.\n"
   ]
  },
  {
   "cell_type": "code",
   "execution_count": 481,
   "outputs": [],
   "source": [
    "headers = [\"Age\", \"AgeGroup\", \"Gender\", \"Locality\", \"MaritalStatus\", \"Lifestyle\", \"Sleep\", \"Category\", \"Depression\",\n",
    "            \"Hyperlipidemia\", \"Smoking\", \"Diabetes\", \"HTN\", \"Allergies\", \"BP\", \"Thrombolysis\", \"BGR\", \"CPK\", \"CK-MB\",\n",
    "            \"ESR\", \"WBC\", \"RBC\", \"Hemoglobin\", \"PCV\", \"MCV\", \"MCH\", \"MCHC\", \"PlateletCount\", \"Neutrophil\",\n",
    "            \"Lymphocyte\", \"Monocyte\", \"Eosinophil\", \"Others\", \"CO\", \"Diagnosis\", \"Hypersensitivity\", \"CP\", \"Trestbps\", \"Chol\",\n",
    "            \"FBS\", \"Restecg\", \"Thalach\", \"Exang\", \"Oldpeak\", \"Slope\", \"CA\", \"Thal\", \"Num\", \"SK\", \"SKReact\", \"Reaction\",\n",
    "            \"Mortality\", \"FollowUp\"]"
   ],
   "metadata": {
    "collapsed": false,
    "pycharm": {
     "name": "#%%\n"
    }
   }
  },
  {
   "cell_type": "markdown",
   "metadata": {},
   "source": [
    "you will need to download the dataset; if you are running locally, please comment out the following\n"
   ]
  },
  {
   "cell_type": "code",
   "execution_count": 482,
   "metadata": {
    "execution": {
     "iopub.execute_input": "2023-01-26T14:40:14.461040Z",
     "iopub.status.busy": "2023-01-26T14:40:14.461040Z",
     "iopub.status.idle": "2023-01-26T14:40:14.475040Z",
     "shell.execute_reply": "2023-01-26T14:40:14.475040Z"
    }
   },
   "outputs": [],
   "source": [
    "# await download(filename, \"auto.csv\")\n",
    "# filename=\"auto.csv\""
   ]
  },
  {
   "cell_type": "markdown",
   "metadata": {},
   "source": [
    "Use the Pandas method <b>read_csv()</b> to load the data from the web address.\n"
   ]
  },
  {
   "cell_type": "code",
   "execution_count": 483,
   "metadata": {
    "collapsed": false,
    "execution": {
     "iopub.execute_input": "2023-01-26T14:40:15.268040Z",
     "iopub.status.busy": "2023-01-26T14:40:15.268040Z",
     "iopub.status.idle": "2023-01-26T14:40:15.279039Z",
     "shell.execute_reply": "2023-01-26T14:40:15.279039Z"
    },
    "pycharm": {
     "name": "#%%\n"
    }
   },
   "outputs": [],
   "source": [
    "df = pd.read_csv(filename)"
   ]
  },
  {
   "cell_type": "markdown",
   "source": [
    "Delete unnecessary columns and rename headers as we did in the previous lab."
   ],
   "metadata": {
    "collapsed": false
   }
  },
  {
   "cell_type": "code",
   "execution_count": 484,
   "outputs": [],
   "source": [
    "columns = [\"F.History\", \"Family.History\", \"B.Urea\", \"S.Cr\", \"S.Sodium\", \"S.Potassium\", \"S.Chloride\"]\n",
    "df = df.drop(columns=columns)\n",
    "df.columns = headers"
   ],
   "metadata": {
    "collapsed": false,
    "pycharm": {
     "name": "#%%\n"
    }
   }
  },
  {
   "cell_type": "code",
   "execution_count": 485,
   "outputs": [],
   "source": [
    "pd.options.display.float_format = '{:.2f}'.format"
   ],
   "metadata": {
    "collapsed": false,
    "pycharm": {
     "name": "#%%\n"
    }
   }
  },
  {
   "cell_type": "markdown",
   "metadata": {},
   "source": [
    "Use the method <b>head()</b> to display the first five rows of the dataframe.\n"
   ]
  },
  {
   "cell_type": "code",
   "execution_count": 486,
   "metadata": {
    "execution": {
     "iopub.execute_input": "2023-01-26T14:40:15.285040Z",
     "iopub.status.busy": "2023-01-26T14:40:15.284039Z",
     "iopub.status.idle": "2023-01-26T14:40:15.310039Z",
     "shell.execute_reply": "2023-01-26T14:40:15.310039Z"
    },
    "pycharm": {
     "name": "#%%\n"
    }
   },
   "outputs": [
    {
     "data": {
      "text/plain": "   Age AgeGroup  Gender Locality MaritalStatus Lifestyle Sleep Category  \\\n0   45    41-50  Female    RURAL       MARRIED        NO    NO     FREE   \n1   51    51-60  Female    URBAN       MARRIED        NO    NO     FREE   \n2   55    51-60  Female    RURAL       MARRIED       YES   YES     FREE   \n3   55    51-60  Female    RURAL       MARRIED       YES   YES     FREE   \n4   56    51-60  Female    RURAL       MARRIED       YES    NO     FREE   \n\n  Depression Hyperlipidemia  ... Oldpeak  Slope CA Thal  Num  SK  SKReact  \\\n0        YES            YES  ...    3.00      2  0    7    2   1       NO   \n1        YES            YES  ...    1.20      2  0    7    2   1       NO   \n2        YES            YES  ...    3.40      2  0    3    2   1       NO   \n3        YES            YES  ...    2.00      2  1    7    3   1       NO   \n4        YES            YES  ...    4.00      3  2    7    3   1       NO   \n\n   Reaction  Mortality  FollowUp  \n0         0          0        60  \n1         0          0        15  \n2         0          0         6  \n3         0          0        52  \n4         0          0        34  \n\n[5 rows x 53 columns]",
      "text/html": "<div>\n<style scoped>\n    .dataframe tbody tr th:only-of-type {\n        vertical-align: middle;\n    }\n\n    .dataframe tbody tr th {\n        vertical-align: top;\n    }\n\n    .dataframe thead th {\n        text-align: right;\n    }\n</style>\n<table border=\"1\" class=\"dataframe\">\n  <thead>\n    <tr style=\"text-align: right;\">\n      <th></th>\n      <th>Age</th>\n      <th>AgeGroup</th>\n      <th>Gender</th>\n      <th>Locality</th>\n      <th>MaritalStatus</th>\n      <th>Lifestyle</th>\n      <th>Sleep</th>\n      <th>Category</th>\n      <th>Depression</th>\n      <th>Hyperlipidemia</th>\n      <th>...</th>\n      <th>Oldpeak</th>\n      <th>Slope</th>\n      <th>CA</th>\n      <th>Thal</th>\n      <th>Num</th>\n      <th>SK</th>\n      <th>SKReact</th>\n      <th>Reaction</th>\n      <th>Mortality</th>\n      <th>FollowUp</th>\n    </tr>\n  </thead>\n  <tbody>\n    <tr>\n      <th>0</th>\n      <td>45</td>\n      <td>41-50</td>\n      <td>Female</td>\n      <td>RURAL</td>\n      <td>MARRIED</td>\n      <td>NO</td>\n      <td>NO</td>\n      <td>FREE</td>\n      <td>YES</td>\n      <td>YES</td>\n      <td>...</td>\n      <td>3.00</td>\n      <td>2</td>\n      <td>0</td>\n      <td>7</td>\n      <td>2</td>\n      <td>1</td>\n      <td>NO</td>\n      <td>0</td>\n      <td>0</td>\n      <td>60</td>\n    </tr>\n    <tr>\n      <th>1</th>\n      <td>51</td>\n      <td>51-60</td>\n      <td>Female</td>\n      <td>URBAN</td>\n      <td>MARRIED</td>\n      <td>NO</td>\n      <td>NO</td>\n      <td>FREE</td>\n      <td>YES</td>\n      <td>YES</td>\n      <td>...</td>\n      <td>1.20</td>\n      <td>2</td>\n      <td>0</td>\n      <td>7</td>\n      <td>2</td>\n      <td>1</td>\n      <td>NO</td>\n      <td>0</td>\n      <td>0</td>\n      <td>15</td>\n    </tr>\n    <tr>\n      <th>2</th>\n      <td>55</td>\n      <td>51-60</td>\n      <td>Female</td>\n      <td>RURAL</td>\n      <td>MARRIED</td>\n      <td>YES</td>\n      <td>YES</td>\n      <td>FREE</td>\n      <td>YES</td>\n      <td>YES</td>\n      <td>...</td>\n      <td>3.40</td>\n      <td>2</td>\n      <td>0</td>\n      <td>3</td>\n      <td>2</td>\n      <td>1</td>\n      <td>NO</td>\n      <td>0</td>\n      <td>0</td>\n      <td>6</td>\n    </tr>\n    <tr>\n      <th>3</th>\n      <td>55</td>\n      <td>51-60</td>\n      <td>Female</td>\n      <td>RURAL</td>\n      <td>MARRIED</td>\n      <td>YES</td>\n      <td>YES</td>\n      <td>FREE</td>\n      <td>YES</td>\n      <td>YES</td>\n      <td>...</td>\n      <td>2.00</td>\n      <td>2</td>\n      <td>1</td>\n      <td>7</td>\n      <td>3</td>\n      <td>1</td>\n      <td>NO</td>\n      <td>0</td>\n      <td>0</td>\n      <td>52</td>\n    </tr>\n    <tr>\n      <th>4</th>\n      <td>56</td>\n      <td>51-60</td>\n      <td>Female</td>\n      <td>RURAL</td>\n      <td>MARRIED</td>\n      <td>YES</td>\n      <td>NO</td>\n      <td>FREE</td>\n      <td>YES</td>\n      <td>YES</td>\n      <td>...</td>\n      <td>4.00</td>\n      <td>3</td>\n      <td>2</td>\n      <td>7</td>\n      <td>3</td>\n      <td>1</td>\n      <td>NO</td>\n      <td>0</td>\n      <td>0</td>\n      <td>34</td>\n    </tr>\n  </tbody>\n</table>\n<p>5 rows × 53 columns</p>\n</div>"
     },
     "execution_count": 486,
     "metadata": {},
     "output_type": "execute_result"
    }
   ],
   "source": [
    "# To see what the data set looks like, we'll use the head() method.\n",
    "df.head()"
   ]
  },
  {
   "cell_type": "markdown",
   "source": [
    "<h4>Generate missing values</h4>\n",
    "\n",
    "In order to show how to deal with missing values of dataframe in practice, we need to create NaN values in some columns. We will change \"RBC\", \"Hemoglobin\", \"PCV\", \"Category\", \"Mortality\" columns.\n",
    "\n",
    "But before that we need to create new dataframe, so that we can compare it with original one and determine errors."
   ],
   "metadata": {
    "collapsed": false
   }
  },
  {
   "cell_type": "code",
   "execution_count": 487,
   "metadata": {
    "collapsed": false,
    "execution": {
     "iopub.execute_input": "2023-01-26T14:40:15.347039Z",
     "iopub.status.busy": "2023-01-26T14:40:15.347039Z",
     "iopub.status.idle": "2023-01-26T14:40:15.356039Z",
     "shell.execute_reply": "2023-01-26T14:40:15.357039Z"
    },
    "pycharm": {
     "name": "#%%\n"
    }
   },
   "outputs": [],
   "source": [
    "df2 = df.copy()"
   ]
  },
  {
   "cell_type": "markdown",
   "source": [
    "Now let's generate NaN values. We will do it randomly with <code>numpy.random</code> and replace values with <code>pandas.DataFrame.loc</code>"
   ],
   "metadata": {
    "collapsed": false
   }
  },
  {
   "cell_type": "code",
   "execution_count": 488,
   "metadata": {
    "collapsed": false,
    "execution": {
     "iopub.execute_input": "2023-01-26T14:40:15.377039Z",
     "iopub.status.busy": "2023-01-26T14:40:15.376039Z",
     "iopub.status.idle": "2023-01-26T14:40:15.388040Z",
     "shell.execute_reply": "2023-01-26T14:40:15.388040Z"
    },
    "pycharm": {
     "name": "#%%\n"
    }
   },
   "outputs": [
    {
     "data": {
      "text/plain": "     Age AgeGroup  Gender Locality MaritalStatus Lifestyle Sleep Category  \\\n0     45    41-50  Female    RURAL       MARRIED        NO    NO     FREE   \n1     51    51-60  Female    URBAN       MARRIED        NO    NO     FREE   \n2     55    51-60  Female    RURAL       MARRIED       YES   YES     FREE   \n3     55    51-60  Female    RURAL       MARRIED       YES   YES      NaN   \n4     56    51-60  Female    RURAL       MARRIED       YES    NO     FREE   \n..   ...      ...     ...      ...           ...       ...   ...      ...   \n363   55    51-60    Male    URBAN       MARRIED        NO    NO      NaN   \n364   55    51-60    Male    RURAL       MARRIED       YES    NO     FREE   \n365   58    51-60    Male    URBAN       MARRIED        NO    NO     FREE   \n366   58    51-60    Male    URBAN       MARRIED        NO    NO     FREE   \n367   50    41-50    Male    RURAL       MARRIED       YES    NO     FREE   \n\n    Depression Hyperlipidemia  ... Oldpeak  Slope CA Thal  Num  SK  \\\n0          YES            YES  ...    3.00      2  0    7    2   1   \n1          YES            YES  ...    1.20      2  0    7    2   1   \n2          YES            YES  ...    3.40      2  0    3    2   1   \n3          YES            YES  ...    2.00      2  1    7    3   1   \n4          YES            YES  ...    4.00      3  2    7    3   1   \n..         ...            ...  ...     ...    ... ..  ...  ...  ..   \n363        YES             NO  ...    0.50      2  0    7    3   0   \n364        YES            YES  ...    2.00      2  3    7    3   1   \n365        YES            YES  ...    0.80      1  3    3    1   1   \n366        YES            YES  ...    2.60      2  0    7    4   1   \n367        YES            YES  ...    0.60      2  1    7    1   1   \n\n              SKReact  Reaction  Mortality  FollowUp  \n0                  NO         0       0.00        60  \n1                  NO         0       0.00        15  \n2                  NO         0       0.00         6  \n3                  NO         0       0.00        52  \n4                  NO         0       0.00        34  \n..                ...       ...        ...       ...  \n363         BODY.PAIN         1       0.00        60  \n364  STOMACH.BLEEDING         1       0.00        36  \n365    COUGH.BLEEDING         1       0.00        32  \n366    COUGH.BLEEDING         1       0.00        32  \n367         BODY.PAIN         1       0.00        15  \n\n[368 rows x 53 columns]",
      "text/html": "<div>\n<style scoped>\n    .dataframe tbody tr th:only-of-type {\n        vertical-align: middle;\n    }\n\n    .dataframe tbody tr th {\n        vertical-align: top;\n    }\n\n    .dataframe thead th {\n        text-align: right;\n    }\n</style>\n<table border=\"1\" class=\"dataframe\">\n  <thead>\n    <tr style=\"text-align: right;\">\n      <th></th>\n      <th>Age</th>\n      <th>AgeGroup</th>\n      <th>Gender</th>\n      <th>Locality</th>\n      <th>MaritalStatus</th>\n      <th>Lifestyle</th>\n      <th>Sleep</th>\n      <th>Category</th>\n      <th>Depression</th>\n      <th>Hyperlipidemia</th>\n      <th>...</th>\n      <th>Oldpeak</th>\n      <th>Slope</th>\n      <th>CA</th>\n      <th>Thal</th>\n      <th>Num</th>\n      <th>SK</th>\n      <th>SKReact</th>\n      <th>Reaction</th>\n      <th>Mortality</th>\n      <th>FollowUp</th>\n    </tr>\n  </thead>\n  <tbody>\n    <tr>\n      <th>0</th>\n      <td>45</td>\n      <td>41-50</td>\n      <td>Female</td>\n      <td>RURAL</td>\n      <td>MARRIED</td>\n      <td>NO</td>\n      <td>NO</td>\n      <td>FREE</td>\n      <td>YES</td>\n      <td>YES</td>\n      <td>...</td>\n      <td>3.00</td>\n      <td>2</td>\n      <td>0</td>\n      <td>7</td>\n      <td>2</td>\n      <td>1</td>\n      <td>NO</td>\n      <td>0</td>\n      <td>0.00</td>\n      <td>60</td>\n    </tr>\n    <tr>\n      <th>1</th>\n      <td>51</td>\n      <td>51-60</td>\n      <td>Female</td>\n      <td>URBAN</td>\n      <td>MARRIED</td>\n      <td>NO</td>\n      <td>NO</td>\n      <td>FREE</td>\n      <td>YES</td>\n      <td>YES</td>\n      <td>...</td>\n      <td>1.20</td>\n      <td>2</td>\n      <td>0</td>\n      <td>7</td>\n      <td>2</td>\n      <td>1</td>\n      <td>NO</td>\n      <td>0</td>\n      <td>0.00</td>\n      <td>15</td>\n    </tr>\n    <tr>\n      <th>2</th>\n      <td>55</td>\n      <td>51-60</td>\n      <td>Female</td>\n      <td>RURAL</td>\n      <td>MARRIED</td>\n      <td>YES</td>\n      <td>YES</td>\n      <td>FREE</td>\n      <td>YES</td>\n      <td>YES</td>\n      <td>...</td>\n      <td>3.40</td>\n      <td>2</td>\n      <td>0</td>\n      <td>3</td>\n      <td>2</td>\n      <td>1</td>\n      <td>NO</td>\n      <td>0</td>\n      <td>0.00</td>\n      <td>6</td>\n    </tr>\n    <tr>\n      <th>3</th>\n      <td>55</td>\n      <td>51-60</td>\n      <td>Female</td>\n      <td>RURAL</td>\n      <td>MARRIED</td>\n      <td>YES</td>\n      <td>YES</td>\n      <td>NaN</td>\n      <td>YES</td>\n      <td>YES</td>\n      <td>...</td>\n      <td>2.00</td>\n      <td>2</td>\n      <td>1</td>\n      <td>7</td>\n      <td>3</td>\n      <td>1</td>\n      <td>NO</td>\n      <td>0</td>\n      <td>0.00</td>\n      <td>52</td>\n    </tr>\n    <tr>\n      <th>4</th>\n      <td>56</td>\n      <td>51-60</td>\n      <td>Female</td>\n      <td>RURAL</td>\n      <td>MARRIED</td>\n      <td>YES</td>\n      <td>NO</td>\n      <td>FREE</td>\n      <td>YES</td>\n      <td>YES</td>\n      <td>...</td>\n      <td>4.00</td>\n      <td>3</td>\n      <td>2</td>\n      <td>7</td>\n      <td>3</td>\n      <td>1</td>\n      <td>NO</td>\n      <td>0</td>\n      <td>0.00</td>\n      <td>34</td>\n    </tr>\n    <tr>\n      <th>...</th>\n      <td>...</td>\n      <td>...</td>\n      <td>...</td>\n      <td>...</td>\n      <td>...</td>\n      <td>...</td>\n      <td>...</td>\n      <td>...</td>\n      <td>...</td>\n      <td>...</td>\n      <td>...</td>\n      <td>...</td>\n      <td>...</td>\n      <td>...</td>\n      <td>...</td>\n      <td>...</td>\n      <td>...</td>\n      <td>...</td>\n      <td>...</td>\n      <td>...</td>\n      <td>...</td>\n    </tr>\n    <tr>\n      <th>363</th>\n      <td>55</td>\n      <td>51-60</td>\n      <td>Male</td>\n      <td>URBAN</td>\n      <td>MARRIED</td>\n      <td>NO</td>\n      <td>NO</td>\n      <td>NaN</td>\n      <td>YES</td>\n      <td>NO</td>\n      <td>...</td>\n      <td>0.50</td>\n      <td>2</td>\n      <td>0</td>\n      <td>7</td>\n      <td>3</td>\n      <td>0</td>\n      <td>BODY.PAIN</td>\n      <td>1</td>\n      <td>0.00</td>\n      <td>60</td>\n    </tr>\n    <tr>\n      <th>364</th>\n      <td>55</td>\n      <td>51-60</td>\n      <td>Male</td>\n      <td>RURAL</td>\n      <td>MARRIED</td>\n      <td>YES</td>\n      <td>NO</td>\n      <td>FREE</td>\n      <td>YES</td>\n      <td>YES</td>\n      <td>...</td>\n      <td>2.00</td>\n      <td>2</td>\n      <td>3</td>\n      <td>7</td>\n      <td>3</td>\n      <td>1</td>\n      <td>STOMACH.BLEEDING</td>\n      <td>1</td>\n      <td>0.00</td>\n      <td>36</td>\n    </tr>\n    <tr>\n      <th>365</th>\n      <td>58</td>\n      <td>51-60</td>\n      <td>Male</td>\n      <td>URBAN</td>\n      <td>MARRIED</td>\n      <td>NO</td>\n      <td>NO</td>\n      <td>FREE</td>\n      <td>YES</td>\n      <td>YES</td>\n      <td>...</td>\n      <td>0.80</td>\n      <td>1</td>\n      <td>3</td>\n      <td>3</td>\n      <td>1</td>\n      <td>1</td>\n      <td>COUGH.BLEEDING</td>\n      <td>1</td>\n      <td>0.00</td>\n      <td>32</td>\n    </tr>\n    <tr>\n      <th>366</th>\n      <td>58</td>\n      <td>51-60</td>\n      <td>Male</td>\n      <td>URBAN</td>\n      <td>MARRIED</td>\n      <td>NO</td>\n      <td>NO</td>\n      <td>FREE</td>\n      <td>YES</td>\n      <td>YES</td>\n      <td>...</td>\n      <td>2.60</td>\n      <td>2</td>\n      <td>0</td>\n      <td>7</td>\n      <td>4</td>\n      <td>1</td>\n      <td>COUGH.BLEEDING</td>\n      <td>1</td>\n      <td>0.00</td>\n      <td>32</td>\n    </tr>\n    <tr>\n      <th>367</th>\n      <td>50</td>\n      <td>41-50</td>\n      <td>Male</td>\n      <td>RURAL</td>\n      <td>MARRIED</td>\n      <td>YES</td>\n      <td>NO</td>\n      <td>FREE</td>\n      <td>YES</td>\n      <td>YES</td>\n      <td>...</td>\n      <td>0.60</td>\n      <td>2</td>\n      <td>1</td>\n      <td>7</td>\n      <td>1</td>\n      <td>1</td>\n      <td>BODY.PAIN</td>\n      <td>1</td>\n      <td>0.00</td>\n      <td>15</td>\n    </tr>\n  </tbody>\n</table>\n<p>368 rows × 53 columns</p>\n</div>"
     },
     "execution_count": 488,
     "metadata": {},
     "output_type": "execute_result"
    }
   ],
   "source": [
    "#Set percentage of NaN values in each column\n",
    "col = {'RBC': 0.15, 'Hemoglobin': 0.1, 'PCV': 0.12, 'Category': 0.1, 'Mortality': 0.01}\n",
    "#Create masks dictionary with positions of NaN values\n",
    "masks = {}\n",
    "#Replace values by NaN randomly\n",
    "for c in col:\n",
    "    m = np.random.rand(len(df2)) #creates arr of values from 0 to 1\n",
    "    mask = m < col[c]\n",
    "    masks.update({c:mask})\n",
    "    df2.loc[mask, c] = np.NaN\n",
    "df2"
   ]
  },
  {
   "cell_type": "markdown",
   "source": [
    "As we can see, several NaN values appeared in the dataframe; those are missing values which may hinder our further analysis.\n",
    "\n",
    "<div>So, how do we identify all those missing values and deal with them?</div>\n",
    "\n",
    "<b>How to work with missing data?</b>\n",
    "\n",
    "Steps for working with missing data:\n",
    "\n",
    "<ol>\n",
    "    <li>Identify missing data</li>\n",
    "    <li>Deal with missing data</li>\n",
    "    <li>Correct data format</li>\n",
    "</ol>"
   ],
   "metadata": {
    "collapsed": false
   }
  },
  {
   "cell_type": "markdown",
   "metadata": {},
   "source": [
    "<h2 id=\"identify_handle_missing_values\">Identify and handle missing values</h2>\n",
    "<h4>Evaluating for Missing Data</h4>\n",
    "\n",
    "The missing values are converted by default. We use the following functions to identify these missing values. There are two methods to detect missing data:\n",
    "\n",
    "<ol>\n",
    "    <li><b>.isnull()</b></li>\n",
    "    <li><b>.notnull()</b></li>\n",
    "</ol>\n",
    "The output is a boolean value indicating whether the value that is passed into the argument is in fact missing data.\n"
   ]
  },
  {
   "cell_type": "code",
   "execution_count": 489,
   "outputs": [
    {
     "data": {
      "text/plain": "   Category    RBC  Hemoglobin    PCV  Mortality\n0     False  False       False  False      False\n1     False  False        True  False      False\n2     False  False       False  False      False\n3      True  False       False  False      False\n4     False  False       False  False      False\n5     False  False       False  False      False\n6     False  False       False  False      False\n7     False  False       False  False      False\n8     False  False       False  False      False\n9     False  False       False   True      False",
      "text/html": "<div>\n<style scoped>\n    .dataframe tbody tr th:only-of-type {\n        vertical-align: middle;\n    }\n\n    .dataframe tbody tr th {\n        vertical-align: top;\n    }\n\n    .dataframe thead th {\n        text-align: right;\n    }\n</style>\n<table border=\"1\" class=\"dataframe\">\n  <thead>\n    <tr style=\"text-align: right;\">\n      <th></th>\n      <th>Category</th>\n      <th>RBC</th>\n      <th>Hemoglobin</th>\n      <th>PCV</th>\n      <th>Mortality</th>\n    </tr>\n  </thead>\n  <tbody>\n    <tr>\n      <th>0</th>\n      <td>False</td>\n      <td>False</td>\n      <td>False</td>\n      <td>False</td>\n      <td>False</td>\n    </tr>\n    <tr>\n      <th>1</th>\n      <td>False</td>\n      <td>False</td>\n      <td>True</td>\n      <td>False</td>\n      <td>False</td>\n    </tr>\n    <tr>\n      <th>2</th>\n      <td>False</td>\n      <td>False</td>\n      <td>False</td>\n      <td>False</td>\n      <td>False</td>\n    </tr>\n    <tr>\n      <th>3</th>\n      <td>True</td>\n      <td>False</td>\n      <td>False</td>\n      <td>False</td>\n      <td>False</td>\n    </tr>\n    <tr>\n      <th>4</th>\n      <td>False</td>\n      <td>False</td>\n      <td>False</td>\n      <td>False</td>\n      <td>False</td>\n    </tr>\n    <tr>\n      <th>5</th>\n      <td>False</td>\n      <td>False</td>\n      <td>False</td>\n      <td>False</td>\n      <td>False</td>\n    </tr>\n    <tr>\n      <th>6</th>\n      <td>False</td>\n      <td>False</td>\n      <td>False</td>\n      <td>False</td>\n      <td>False</td>\n    </tr>\n    <tr>\n      <th>7</th>\n      <td>False</td>\n      <td>False</td>\n      <td>False</td>\n      <td>False</td>\n      <td>False</td>\n    </tr>\n    <tr>\n      <th>8</th>\n      <td>False</td>\n      <td>False</td>\n      <td>False</td>\n      <td>False</td>\n      <td>False</td>\n    </tr>\n    <tr>\n      <th>9</th>\n      <td>False</td>\n      <td>False</td>\n      <td>False</td>\n      <td>True</td>\n      <td>False</td>\n    </tr>\n  </tbody>\n</table>\n</div>"
     },
     "execution_count": 489,
     "metadata": {},
     "output_type": "execute_result"
    }
   ],
   "source": [
    "missing_data = df2[['Category', 'RBC', 'Hemoglobin', 'PCV', 'Mortality']].isnull()\n",
    "missing_data.head(10)"
   ],
   "metadata": {
    "collapsed": false,
    "pycharm": {
     "name": "#%%\n"
    }
   }
  },
  {
   "cell_type": "markdown",
   "metadata": {},
   "source": [
    "\"True\" means the value is a missing value while \"False\" means the value is not a missing value.\n"
   ]
  },
  {
   "cell_type": "markdown",
   "metadata": {},
   "source": [
    "<h4>Count missing values in each column</h4>\n",
    "<p>\n",
    "Using a for loop in Python, we can quickly figure out the number of missing values in each column. As mentioned above, \"True\" represents a missing value and \"False\" means the value is present in the dataset.  In the body of the for loop the method \".value_counts()\" counts the number of \"True\" values. \n",
    "</p>\n"
   ]
  },
  {
   "cell_type": "code",
   "execution_count": 490,
   "metadata": {
    "execution": {
     "iopub.execute_input": "2023-01-26T14:40:15.469036Z",
     "iopub.status.busy": "2023-01-26T14:40:15.469036Z",
     "iopub.status.idle": "2023-01-26T14:40:15.496044Z",
     "shell.execute_reply": "2023-01-26T14:40:15.497036Z"
    }
   },
   "outputs": [
    {
     "name": "stdout",
     "output_type": "stream",
     "text": [
      "Category\n",
      "False    339\n",
      "True      29\n",
      "Name: Category, dtype: int64\n",
      "\n",
      "RBC\n",
      "False    310\n",
      "True      58\n",
      "Name: RBC, dtype: int64\n",
      "\n",
      "Hemoglobin\n",
      "False    335\n",
      "True      33\n",
      "Name: Hemoglobin, dtype: int64\n",
      "\n",
      "PCV\n",
      "False    326\n",
      "True      42\n",
      "Name: PCV, dtype: int64\n",
      "\n",
      "Mortality\n",
      "False    366\n",
      "True       2\n",
      "Name: Mortality, dtype: int64\n",
      "\n"
     ]
    }
   ],
   "source": [
    "for column in missing_data.columns.values.tolist():\n",
    "    print(column)\n",
    "    print (missing_data[column].value_counts())\n",
    "    print(\"\")"
   ]
  },
  {
   "cell_type": "markdown",
   "metadata": {},
   "source": [
    "Based on the summary above, each column has 368 rows of data and containing missing data:\n",
    "\n",
    "<ol>\n",
    "    <li>\"Category\": ~10% missing data</li>\n",
    "    <li>\"RBC\": ~15% missing data</li>\n",
    "    <li>\"Hemoglobin\": ~10% missing data</li>\n",
    "    <li>\"PCV\": ~12% missing data</li>\n",
    "    <li>\"Mortality\": ~1% missing data</li>\n",
    "</ol>\n"
   ]
  },
  {
   "cell_type": "markdown",
   "metadata": {},
   "source": [
    "<h3 id=\"deal_missing_values\">Deal with missing data</h3>\n",
    "<b>How to deal with missing data?</b>\n",
    "\n",
    "<ol>\n",
    "    <li>Drop data<br>\n",
    "        a. Drop the whole row<br>\n",
    "        b. Drop the whole column\n",
    "    </li>\n",
    "    <li>Replace data<br>\n",
    "        a. Replace it by mean<br>\n",
    "        b. Replace it by frequency<br>\n",
    "        c. Replace it based on other functions\n",
    "    </li>\n",
    "</ol>\n"
   ]
  },
  {
   "cell_type": "markdown",
   "metadata": {},
   "source": [
    "Whole columns should be dropped only if most entries in the column are empty. In our dataset, none of the columns are empty enough to drop entirely.\n",
    "We have some freedom in choosing which method to replace data; however, some methods may seem more reasonable than others. We will apply each method to many different columns:\n",
    "\n",
    "<b>Replace by mean:</b>\n",
    "\n",
    "<ul>\n",
    "    <li>\"RBC\": replace them with mean</li>\n",
    "    <li>\"Hemoglobin\": replace them with mean</li>\n",
    "    <li>\"PCV\": replace them with mean</li>\n",
    "</ul>\n",
    "\n",
    "<b>Replace by frequency:</b>\n",
    "\n",
    "<ul>\n",
    "    <li>\"Category\": replace them with \"FREE\".\n",
    "        <ul>\n",
    "            <li>Reason: 90% are \"FREE\". Since this value is most frequent, it is most likely to occur</li>\n",
    "        </ul>\n",
    "    </li>\n",
    "</ul>\n",
    "\n",
    "<b>Drop the whole row:</b>\n",
    "\n",
    "<ul>\n",
    "    <li>\"Mortality\": simply delete the whole row\n",
    "        <ul>\n",
    "            <li>Reason: mortality is what we want to predict. Any data entry without mortality data cannot be used for prediction; therefore any row now without price data is not useful to us</li>\n",
    "        </ul>\n",
    "    </li>\n",
    "</ul>\n"
   ]
  },
  {
   "cell_type": "markdown",
   "metadata": {},
   "source": [
    "<h4>Calculate the mean value for the \"RBC\" column </h4>\n"
   ]
  },
  {
   "cell_type": "code",
   "execution_count": 491,
   "metadata": {
    "collapsed": false,
    "execution": {
     "iopub.execute_input": "2023-01-26T14:40:15.532036Z",
     "iopub.status.busy": "2023-01-26T14:40:15.532036Z",
     "iopub.status.idle": "2023-01-26T14:40:15.545036Z",
     "shell.execute_reply": "2023-01-26T14:40:15.544036Z"
    },
    "pycharm": {
     "name": "#%%\n"
    }
   },
   "outputs": [
    {
     "name": "stdout",
     "output_type": "stream",
     "text": [
      "Average of RBC: 5.08\n"
     ]
    }
   ],
   "source": [
    "avg_rbc = df2[\"RBC\"].mean(axis=0)\n",
    "print(\"Average of RBC:\", round(avg_rbc, 2))"
   ]
  },
  {
   "cell_type": "markdown",
   "metadata": {},
   "source": [
    "<h4>Replace \"NaN\" with mean value in \"RBC\" column</h4>\n"
   ]
  },
  {
   "cell_type": "code",
   "execution_count": 492,
   "metadata": {
    "collapsed": false,
    "execution": {
     "iopub.execute_input": "2023-01-26T14:40:15.564036Z",
     "iopub.status.busy": "2023-01-26T14:40:15.564036Z",
     "iopub.status.idle": "2023-01-26T14:40:15.575036Z",
     "shell.execute_reply": "2023-01-26T14:40:15.576036Z"
    },
    "pycharm": {
     "name": "#%%\n"
    }
   },
   "outputs": [],
   "source": [
    "df2[\"RBC\"].replace(np.nan, avg_rbc, inplace=True)"
   ]
  },
  {
   "cell_type": "markdown",
   "source": [
    "<h4>Calculate error between old and new values in \"RBC\" column</h4>\n",
    "To calculate it we will use <code>sklearn.metrics.mean_absolute_percentage_error</code>. Mean absolute percentage error will show accuracy of recovery of missing values."
   ],
   "metadata": {
    "collapsed": false
   }
  },
  {
   "cell_type": "code",
   "execution_count": 493,
   "outputs": [
    {
     "name": "stdout",
     "output_type": "stream",
     "text": [
      "Error of RBC:  0.14\n"
     ]
    }
   ],
   "source": [
    "from sklearn.metrics import mean_absolute_percentage_error\n",
    "\n",
    "mape_rbc = mean_absolute_percentage_error(df.loc[masks['RBC'], 'RBC'], df2.loc[masks['RBC'], 'RBC'])\n",
    "print('Error of RBC: ', round(mape_rbc, 2))"
   ],
   "metadata": {
    "collapsed": false,
    "pycharm": {
     "name": "#%%\n"
    }
   }
  },
  {
   "cell_type": "markdown",
   "metadata": {},
   "source": [
    "<h4>Calculate the mean value for the \"Hemoglobin\" column</h4>\n"
   ]
  },
  {
   "cell_type": "code",
   "execution_count": 494,
   "metadata": {
    "collapsed": false,
    "execution": {
     "iopub.execute_input": "2023-01-26T14:40:15.596036Z",
     "iopub.status.busy": "2023-01-26T14:40:15.595036Z",
     "iopub.status.idle": "2023-01-26T14:40:15.608070Z",
     "shell.execute_reply": "2023-01-26T14:40:15.608070Z"
    },
    "pycharm": {
     "name": "#%%\n"
    }
   },
   "outputs": [
    {
     "name": "stdout",
     "output_type": "stream",
     "text": [
      "Average of Hemoglobin: 13.9\n"
     ]
    }
   ],
   "source": [
    "avg_hemoglobin = df2['Hemoglobin'].mean(axis=0)\n",
    "print(\"Average of Hemoglobin:\", round(avg_hemoglobin, 2))"
   ]
  },
  {
   "cell_type": "markdown",
   "metadata": {},
   "source": [
    "<h4>Replace \"NaN\" with the mean value in the \"Hemoglobin\" column</h4>\n"
   ]
  },
  {
   "cell_type": "code",
   "execution_count": 495,
   "metadata": {
    "collapsed": false,
    "execution": {
     "iopub.execute_input": "2023-01-26T14:40:15.627036Z",
     "iopub.status.busy": "2023-01-26T14:40:15.627036Z",
     "iopub.status.idle": "2023-01-26T14:40:15.640036Z",
     "shell.execute_reply": "2023-01-26T14:40:15.640036Z"
    },
    "pycharm": {
     "name": "#%%\n"
    }
   },
   "outputs": [],
   "source": [
    "df2[\"Hemoglobin\"].replace(np.nan, int(avg_hemoglobin), inplace=True)"
   ]
  },
  {
   "cell_type": "markdown",
   "source": [
    "<h4>Calculate error between old and new values in \"RBC\" column</h4>"
   ],
   "metadata": {
    "collapsed": false
   }
  },
  {
   "cell_type": "code",
   "execution_count": 496,
   "outputs": [
    {
     "name": "stdout",
     "output_type": "stream",
     "text": [
      "Error of Hemoglobin 0.15\n"
     ]
    }
   ],
   "source": [
    "mape_hemoglobin = mean_absolute_percentage_error(df.loc[masks['Hemoglobin'], 'Hemoglobin'],\n",
    "                                                 df2.loc[masks['Hemoglobin'], 'Hemoglobin'])\n",
    "print(\"Error of Hemoglobin\", round(mape_hemoglobin, 2))"
   ],
   "metadata": {
    "collapsed": false,
    "pycharm": {
     "name": "#%%\n"
    }
   }
  },
  {
   "cell_type": "markdown",
   "metadata": {},
   "source": [
    "<div class=\"alert alert-danger alertdanger\" style=\"margin-top: 20px\">\n",
    "<h1> Question  #1: </h1>\n",
    "\n",
    "<b>Based on the example above, replace NaN in \"PCV\" column with the mean value and calculate the error.</b>\n",
    "\n",
    "</div>\n"
   ]
  },
  {
   "cell_type": "code",
   "execution_count": 497,
   "metadata": {
    "execution": {
     "iopub.execute_input": "2023-01-26T14:40:15.644035Z",
     "iopub.status.busy": "2023-01-26T14:40:15.644035Z",
     "iopub.status.idle": "2023-01-26T14:40:15.655038Z",
     "shell.execute_reply": "2023-01-26T14:40:15.654040Z"
    }
   },
   "outputs": [],
   "source": [
    "# Write your code below and press Shift+Enter to execute"
   ]
  },
  {
   "cell_type": "markdown",
   "metadata": {},
   "source": [
    "<details><summary>Click here for the solution</summary>\n",
    "\n",
    "```python\n",
    "#Calculate the mean value for \"PCV\" column\n",
    "avg_pcv = df2[\"PCV\"].mean(axis = 0)\n",
    "print(\"Average of PCV:\", round(avg_pcv, 2))\n",
    "\n",
    "# replace NaN by mean value in \"PCV\" column\n",
    "df2[\"PCV\"].replace(np.nan, avg_pcv, inplace = True)\n",
    "\n",
    "# calculate the error\n",
    "mape_pcv = mean_absolute_percentage_error(df.loc[masks['PCV'], 'PCV'],\n",
    "                                                 df2.loc[masks['PCV'], 'PCV'])\n",
    "print(\"Error of PCV\", round(mape_pcv, 2))\n",
    "```\n",
    "\n",
    "</details>\n"
   ]
  },
  {
   "cell_type": "markdown",
   "metadata": {},
   "source": [
    "To see which values are present in a particular column, we can use the \".value_counts()\" method:\n"
   ]
  },
  {
   "cell_type": "code",
   "execution_count": 498,
   "metadata": {
    "collapsed": false,
    "execution": {
     "iopub.execute_input": "2023-01-26T14:40:18.929070Z",
     "iopub.status.busy": "2023-01-26T14:40:18.928035Z",
     "iopub.status.idle": "2023-01-26T14:40:18.940071Z",
     "shell.execute_reply": "2023-01-26T14:40:18.939072Z"
    },
    "pycharm": {
     "name": "#%%\n"
    }
   },
   "outputs": [
    {
     "data": {
      "text/plain": "FREE    307\nPAID     32\nName: Category, dtype: int64"
     },
     "execution_count": 498,
     "metadata": {},
     "output_type": "execute_result"
    }
   ],
   "source": [
    "df2['Category'].value_counts()"
   ]
  },
  {
   "cell_type": "markdown",
   "metadata": {},
   "source": [
    "We can see that \"FREE\" is the most common value. We can also use the \".idxmax()\" method to calculate the most common type automatically:\n"
   ]
  },
  {
   "cell_type": "code",
   "execution_count": 499,
   "metadata": {
    "collapsed": false,
    "execution": {
     "iopub.execute_input": "2023-01-26T14:40:18.959036Z",
     "iopub.status.busy": "2023-01-26T14:40:18.959036Z",
     "iopub.status.idle": "2023-01-26T14:40:18.971073Z",
     "shell.execute_reply": "2023-01-26T14:40:18.971073Z"
    },
    "pycharm": {
     "name": "#%%\n"
    }
   },
   "outputs": [
    {
     "data": {
      "text/plain": "'FREE'"
     },
     "execution_count": 499,
     "metadata": {},
     "output_type": "execute_result"
    }
   ],
   "source": [
    "df2['Category'].value_counts().idxmax()"
   ]
  },
  {
   "cell_type": "markdown",
   "metadata": {},
   "source": [
    "The replacement procedure is very similar to what we have seen previously:\n"
   ]
  },
  {
   "cell_type": "code",
   "execution_count": 500,
   "metadata": {
    "collapsed": false,
    "execution": {
     "iopub.execute_input": "2023-01-26T14:40:18.994037Z",
     "iopub.status.busy": "2023-01-26T14:40:18.993036Z",
     "iopub.status.idle": "2023-01-26T14:40:19.002037Z",
     "shell.execute_reply": "2023-01-26T14:40:19.003072Z"
    },
    "pycharm": {
     "name": "#%%\n"
    }
   },
   "outputs": [],
   "source": [
    "df2[\"Category\"].replace(np.nan, \"FREE\", inplace=True)"
   ]
  },
  {
   "cell_type": "markdown",
   "source": [
    "We can calculate error here as well, using <code>sklearn.metrics.confusion_matrix</code>. It will show how many values are recovered correctly. If there are numbers only in main diagonal of the matrix, all data has been recovered properly. And we can use <code>sklearn.metrics.recall_score</code> to see how many % of values are restored correctly."
   ],
   "metadata": {
    "collapsed": false
   }
  },
  {
   "cell_type": "code",
   "execution_count": 501,
   "outputs": [
    {
     "name": "stdout",
     "output_type": "stream",
     "text": [
      "[[24  0]\n",
      " [ 5  0]]\n",
      "Error of MaritalStatus 0.17\n"
     ]
    }
   ],
   "source": [
    "from sklearn.metrics import confusion_matrix, recall_score\n",
    "print(confusion_matrix(df.loc[masks['Category'], 'Category'], df2.loc[masks['Category'], 'Category']))\n",
    "\n",
    "error = 1 - recall_score(df.loc[masks['Category'], 'Category'], df2.loc[masks['Category'], 'Category'], average='micro')\n",
    "print(\"Error of MaritalStatus\", round(error, 2))"
   ],
   "metadata": {
    "collapsed": false,
    "pycharm": {
     "name": "#%%\n"
    }
   }
  },
  {
   "cell_type": "markdown",
   "metadata": {},
   "source": [
    "Finally, let's drop all rows that do not have mortality data:\n"
   ]
  },
  {
   "cell_type": "code",
   "execution_count": 502,
   "metadata": {
    "collapsed": false,
    "execution": {
     "iopub.execute_input": "2023-01-26T14:40:19.071037Z",
     "iopub.status.busy": "2023-01-26T14:40:19.070038Z",
     "iopub.status.idle": "2023-01-26T14:40:19.081037Z",
     "shell.execute_reply": "2023-01-26T14:40:19.082036Z"
    },
    "pycharm": {
     "name": "#%%\n"
    }
   },
   "outputs": [
    {
     "data": {
      "text/plain": "     Age AgeGroup  Gender Locality MaritalStatus Lifestyle Sleep Category  \\\n0     45    41-50  Female    RURAL       MARRIED        NO    NO     FREE   \n1     51    51-60  Female    URBAN       MARRIED        NO    NO     FREE   \n2     55    51-60  Female    RURAL       MARRIED       YES   YES     FREE   \n3     55    51-60  Female    RURAL       MARRIED       YES   YES     FREE   \n4     56    51-60  Female    RURAL       MARRIED       YES    NO     FREE   \n..   ...      ...     ...      ...           ...       ...   ...      ...   \n361   55    51-60    Male    URBAN       MARRIED        NO    NO     FREE   \n362   55    51-60    Male    RURAL       MARRIED       YES    NO     FREE   \n363   58    51-60    Male    URBAN       MARRIED        NO    NO     FREE   \n364   58    51-60    Male    URBAN       MARRIED        NO    NO     FREE   \n365   50    41-50    Male    RURAL       MARRIED       YES    NO     FREE   \n\n    Depression Hyperlipidemia  ... Oldpeak  Slope CA Thal  Num  SK  \\\n0          YES            YES  ...    3.00      2  0    7    2   1   \n1          YES            YES  ...    1.20      2  0    7    2   1   \n2          YES            YES  ...    3.40      2  0    3    2   1   \n3          YES            YES  ...    2.00      2  1    7    3   1   \n4          YES            YES  ...    4.00      3  2    7    3   1   \n..         ...            ...  ...     ...    ... ..  ...  ...  ..   \n361        YES             NO  ...    0.50      2  0    7    3   0   \n362        YES            YES  ...    2.00      2  3    7    3   1   \n363        YES            YES  ...    0.80      1  3    3    1   1   \n364        YES            YES  ...    2.60      2  0    7    4   1   \n365        YES            YES  ...    0.60      2  1    7    1   1   \n\n              SKReact  Reaction  Mortality  FollowUp  \n0                  NO         0       0.00        60  \n1                  NO         0       0.00        15  \n2                  NO         0       0.00         6  \n3                  NO         0       0.00        52  \n4                  NO         0       0.00        34  \n..                ...       ...        ...       ...  \n361         BODY.PAIN         1       0.00        60  \n362  STOMACH.BLEEDING         1       0.00        36  \n363    COUGH.BLEEDING         1       0.00        32  \n364    COUGH.BLEEDING         1       0.00        32  \n365         BODY.PAIN         1       0.00        15  \n\n[366 rows x 53 columns]",
      "text/html": "<div>\n<style scoped>\n    .dataframe tbody tr th:only-of-type {\n        vertical-align: middle;\n    }\n\n    .dataframe tbody tr th {\n        vertical-align: top;\n    }\n\n    .dataframe thead th {\n        text-align: right;\n    }\n</style>\n<table border=\"1\" class=\"dataframe\">\n  <thead>\n    <tr style=\"text-align: right;\">\n      <th></th>\n      <th>Age</th>\n      <th>AgeGroup</th>\n      <th>Gender</th>\n      <th>Locality</th>\n      <th>MaritalStatus</th>\n      <th>Lifestyle</th>\n      <th>Sleep</th>\n      <th>Category</th>\n      <th>Depression</th>\n      <th>Hyperlipidemia</th>\n      <th>...</th>\n      <th>Oldpeak</th>\n      <th>Slope</th>\n      <th>CA</th>\n      <th>Thal</th>\n      <th>Num</th>\n      <th>SK</th>\n      <th>SKReact</th>\n      <th>Reaction</th>\n      <th>Mortality</th>\n      <th>FollowUp</th>\n    </tr>\n  </thead>\n  <tbody>\n    <tr>\n      <th>0</th>\n      <td>45</td>\n      <td>41-50</td>\n      <td>Female</td>\n      <td>RURAL</td>\n      <td>MARRIED</td>\n      <td>NO</td>\n      <td>NO</td>\n      <td>FREE</td>\n      <td>YES</td>\n      <td>YES</td>\n      <td>...</td>\n      <td>3.00</td>\n      <td>2</td>\n      <td>0</td>\n      <td>7</td>\n      <td>2</td>\n      <td>1</td>\n      <td>NO</td>\n      <td>0</td>\n      <td>0.00</td>\n      <td>60</td>\n    </tr>\n    <tr>\n      <th>1</th>\n      <td>51</td>\n      <td>51-60</td>\n      <td>Female</td>\n      <td>URBAN</td>\n      <td>MARRIED</td>\n      <td>NO</td>\n      <td>NO</td>\n      <td>FREE</td>\n      <td>YES</td>\n      <td>YES</td>\n      <td>...</td>\n      <td>1.20</td>\n      <td>2</td>\n      <td>0</td>\n      <td>7</td>\n      <td>2</td>\n      <td>1</td>\n      <td>NO</td>\n      <td>0</td>\n      <td>0.00</td>\n      <td>15</td>\n    </tr>\n    <tr>\n      <th>2</th>\n      <td>55</td>\n      <td>51-60</td>\n      <td>Female</td>\n      <td>RURAL</td>\n      <td>MARRIED</td>\n      <td>YES</td>\n      <td>YES</td>\n      <td>FREE</td>\n      <td>YES</td>\n      <td>YES</td>\n      <td>...</td>\n      <td>3.40</td>\n      <td>2</td>\n      <td>0</td>\n      <td>3</td>\n      <td>2</td>\n      <td>1</td>\n      <td>NO</td>\n      <td>0</td>\n      <td>0.00</td>\n      <td>6</td>\n    </tr>\n    <tr>\n      <th>3</th>\n      <td>55</td>\n      <td>51-60</td>\n      <td>Female</td>\n      <td>RURAL</td>\n      <td>MARRIED</td>\n      <td>YES</td>\n      <td>YES</td>\n      <td>FREE</td>\n      <td>YES</td>\n      <td>YES</td>\n      <td>...</td>\n      <td>2.00</td>\n      <td>2</td>\n      <td>1</td>\n      <td>7</td>\n      <td>3</td>\n      <td>1</td>\n      <td>NO</td>\n      <td>0</td>\n      <td>0.00</td>\n      <td>52</td>\n    </tr>\n    <tr>\n      <th>4</th>\n      <td>56</td>\n      <td>51-60</td>\n      <td>Female</td>\n      <td>RURAL</td>\n      <td>MARRIED</td>\n      <td>YES</td>\n      <td>NO</td>\n      <td>FREE</td>\n      <td>YES</td>\n      <td>YES</td>\n      <td>...</td>\n      <td>4.00</td>\n      <td>3</td>\n      <td>2</td>\n      <td>7</td>\n      <td>3</td>\n      <td>1</td>\n      <td>NO</td>\n      <td>0</td>\n      <td>0.00</td>\n      <td>34</td>\n    </tr>\n    <tr>\n      <th>...</th>\n      <td>...</td>\n      <td>...</td>\n      <td>...</td>\n      <td>...</td>\n      <td>...</td>\n      <td>...</td>\n      <td>...</td>\n      <td>...</td>\n      <td>...</td>\n      <td>...</td>\n      <td>...</td>\n      <td>...</td>\n      <td>...</td>\n      <td>...</td>\n      <td>...</td>\n      <td>...</td>\n      <td>...</td>\n      <td>...</td>\n      <td>...</td>\n      <td>...</td>\n      <td>...</td>\n    </tr>\n    <tr>\n      <th>361</th>\n      <td>55</td>\n      <td>51-60</td>\n      <td>Male</td>\n      <td>URBAN</td>\n      <td>MARRIED</td>\n      <td>NO</td>\n      <td>NO</td>\n      <td>FREE</td>\n      <td>YES</td>\n      <td>NO</td>\n      <td>...</td>\n      <td>0.50</td>\n      <td>2</td>\n      <td>0</td>\n      <td>7</td>\n      <td>3</td>\n      <td>0</td>\n      <td>BODY.PAIN</td>\n      <td>1</td>\n      <td>0.00</td>\n      <td>60</td>\n    </tr>\n    <tr>\n      <th>362</th>\n      <td>55</td>\n      <td>51-60</td>\n      <td>Male</td>\n      <td>RURAL</td>\n      <td>MARRIED</td>\n      <td>YES</td>\n      <td>NO</td>\n      <td>FREE</td>\n      <td>YES</td>\n      <td>YES</td>\n      <td>...</td>\n      <td>2.00</td>\n      <td>2</td>\n      <td>3</td>\n      <td>7</td>\n      <td>3</td>\n      <td>1</td>\n      <td>STOMACH.BLEEDING</td>\n      <td>1</td>\n      <td>0.00</td>\n      <td>36</td>\n    </tr>\n    <tr>\n      <th>363</th>\n      <td>58</td>\n      <td>51-60</td>\n      <td>Male</td>\n      <td>URBAN</td>\n      <td>MARRIED</td>\n      <td>NO</td>\n      <td>NO</td>\n      <td>FREE</td>\n      <td>YES</td>\n      <td>YES</td>\n      <td>...</td>\n      <td>0.80</td>\n      <td>1</td>\n      <td>3</td>\n      <td>3</td>\n      <td>1</td>\n      <td>1</td>\n      <td>COUGH.BLEEDING</td>\n      <td>1</td>\n      <td>0.00</td>\n      <td>32</td>\n    </tr>\n    <tr>\n      <th>364</th>\n      <td>58</td>\n      <td>51-60</td>\n      <td>Male</td>\n      <td>URBAN</td>\n      <td>MARRIED</td>\n      <td>NO</td>\n      <td>NO</td>\n      <td>FREE</td>\n      <td>YES</td>\n      <td>YES</td>\n      <td>...</td>\n      <td>2.60</td>\n      <td>2</td>\n      <td>0</td>\n      <td>7</td>\n      <td>4</td>\n      <td>1</td>\n      <td>COUGH.BLEEDING</td>\n      <td>1</td>\n      <td>0.00</td>\n      <td>32</td>\n    </tr>\n    <tr>\n      <th>365</th>\n      <td>50</td>\n      <td>41-50</td>\n      <td>Male</td>\n      <td>RURAL</td>\n      <td>MARRIED</td>\n      <td>YES</td>\n      <td>NO</td>\n      <td>FREE</td>\n      <td>YES</td>\n      <td>YES</td>\n      <td>...</td>\n      <td>0.60</td>\n      <td>2</td>\n      <td>1</td>\n      <td>7</td>\n      <td>1</td>\n      <td>1</td>\n      <td>BODY.PAIN</td>\n      <td>1</td>\n      <td>0.00</td>\n      <td>15</td>\n    </tr>\n  </tbody>\n</table>\n<p>366 rows × 53 columns</p>\n</div>"
     },
     "execution_count": 502,
     "metadata": {},
     "output_type": "execute_result"
    }
   ],
   "source": [
    "# simply drop whole row with NaN in \"Mortality\" column\n",
    "df2.dropna(subset=[\"Mortality\"], axis=0, inplace=True)\n",
    "\n",
    "# reset index, because we dropped rows\n",
    "df2.reset_index(drop=True, inplace=True)\n",
    "df2"
   ]
  },
  {
   "cell_type": "markdown",
   "metadata": {},
   "source": [
    "<b>Good!</b> Now, we have a dataset with no missing values. So we can move back to initial dataset <code>df</code>, because it was only an example of how to fix missing values.\n"
   ]
  },
  {
   "cell_type": "markdown",
   "metadata": {},
   "source": [
    "<h3 id=\"correct_data_format\">Correct data format</h3>\n",
    "<b>We are almost there!</b>\n",
    "<p>The last step in data cleaning is checking and making sure that all data is in the correct format (int, float, text or other).</p>\n",
    "\n",
    "In Pandas, we use:\n",
    "\n",
    "<p><b>.dtype()</b> to check the data type</p>\n",
    "<p><b>.astype()</b> to change the data type</p>\n"
   ]
  },
  {
   "cell_type": "markdown",
   "metadata": {},
   "source": [
    "<h4>Let's list the data types for each column</h4>\n"
   ]
  },
  {
   "cell_type": "code",
   "execution_count": 503,
   "metadata": {
    "execution": {
     "iopub.execute_input": "2023-01-26T14:40:19.087037Z",
     "iopub.status.busy": "2023-01-26T14:40:19.086037Z",
     "iopub.status.idle": "2023-01-26T14:40:19.098039Z",
     "shell.execute_reply": "2023-01-26T14:40:19.098039Z"
    }
   },
   "outputs": [
    {
     "data": {
      "text/plain": "Age                   int64\nAgeGroup             object\nGender               object\nLocality             object\nMaritalStatus        object\nLifestyle            object\nSleep                object\nCategory             object\nDepression           object\nHyperlipidemia       object\nSmoking              object\nDiabetes              int64\nHTN                  object\nAllergies            object\nBP                  float64\nThrombolysis          int64\nBGR                   int64\nCPK                   int64\nCK-MB                 int64\nESR                   int64\nWBC                   int64\nRBC                 float64\nHemoglobin          float64\nPCV                 float64\nMCV                 float64\nMCH                 float64\nMCHC                float64\nPlateletCount         int64\nNeutrophil          float64\nLymphocyte          float64\nMonocyte            float64\nEosinophil            int64\nOthers               object\nCO                   object\nDiagnosis            object\nHypersensitivity     object\nCP                    int64\nTrestbps              int64\nChol                  int64\nFBS                   int64\nRestecg               int64\nThalach               int64\nExang                 int64\nOldpeak             float64\nSlope                 int64\nCA                    int64\nThal                  int64\nNum                   int64\nSK                    int64\nSKReact              object\nReaction              int64\nMortality             int64\nFollowUp              int64\ndtype: object"
     },
     "execution_count": 503,
     "metadata": {},
     "output_type": "execute_result"
    }
   ],
   "source": [
    "df.dtypes"
   ]
  },
  {
   "cell_type": "markdown",
   "metadata": {},
   "source": [
    "<p>As we can see above, some columns are not of the correct data type. For example, there are columns such as \"Lifestyle\", \"Sleep\", \"Depression\", which have 'YES' and 'NO' values. We need to convert them into boolean type. Columns with string data, that can be divided into categories should have categorical type. We have to convert data types into a proper format for each column using the \"astype()\" method.</p>\n"
   ]
  },
  {
   "cell_type": "markdown",
   "metadata": {},
   "source": [
    "<h4>Convert data types to proper format</h4>\n"
   ]
  },
  {
   "cell_type": "markdown",
   "source": [
    "Convert 'YES' and 'NO' values to boolean type using <code>pandas.Series.map</code>"
   ],
   "metadata": {
    "collapsed": false
   }
  },
  {
   "cell_type": "code",
   "execution_count": 504,
   "metadata": {
    "collapsed": false,
    "execution": {
     "iopub.execute_input": "2023-01-26T14:40:19.139071Z",
     "iopub.status.busy": "2023-01-26T14:40:19.138074Z",
     "iopub.status.idle": "2023-01-26T14:40:19.146072Z",
     "shell.execute_reply": "2023-01-26T14:40:19.146072Z"
    },
    "pycharm": {
     "name": "#%%\n"
    }
   },
   "outputs": [],
   "source": [
    "col = ['Lifestyle', 'Sleep', 'Depression', 'Hyperlipidemia', 'Smoking', 'HTN', 'Allergies', 'Hypersensitivity']\n",
    "for c in col:\n",
    "    df[c] = df[c].map({'YES': True, 'NO': False})"
   ]
  },
  {
   "cell_type": "markdown",
   "source": [
    "Convert some object columns to category"
   ],
   "metadata": {
    "collapsed": false
   }
  },
  {
   "cell_type": "code",
   "execution_count": 505,
   "metadata": {
    "collapsed": false,
    "execution": {
     "iopub.execute_input": "2023-01-26T14:40:19.153036Z",
     "iopub.status.busy": "2023-01-26T14:40:19.152036Z",
     "iopub.status.idle": "2023-01-26T14:40:19.162071Z",
     "shell.execute_reply": "2023-01-26T14:40:19.163072Z"
    },
    "pycharm": {
     "name": "#%%\n"
    }
   },
   "outputs": [],
   "source": [
    "col = ['AgeGroup', 'Gender', 'Locality', 'MaritalStatus', 'Category', 'SKReact', 'CP', 'Restecg', 'Slope', 'CA', 'Thal', 'Num']\n",
    "df[col] = df[col].astype(\"category\")"
   ]
  },
  {
   "cell_type": "markdown",
   "metadata": {},
   "source": [
    "<h4>Let us list the columns after the conversion</h4>\n"
   ]
  },
  {
   "cell_type": "code",
   "execution_count": 506,
   "metadata": {
    "execution": {
     "iopub.execute_input": "2023-01-26T14:40:19.168037Z",
     "iopub.status.busy": "2023-01-26T14:40:19.167035Z",
     "iopub.status.idle": "2023-01-26T14:40:19.178035Z",
     "shell.execute_reply": "2023-01-26T14:40:19.178035Z"
    }
   },
   "outputs": [
    {
     "data": {
      "text/plain": "Age                    int64\nAgeGroup            category\nGender              category\nLocality            category\nMaritalStatus       category\nLifestyle               bool\nSleep                   bool\nCategory            category\nDepression              bool\nHyperlipidemia          bool\nSmoking                 bool\nDiabetes               int64\nHTN                     bool\nAllergies               bool\nBP                   float64\nThrombolysis           int64\nBGR                    int64\nCPK                    int64\nCK-MB                  int64\nESR                    int64\nWBC                    int64\nRBC                  float64\nHemoglobin           float64\nPCV                  float64\nMCV                  float64\nMCH                  float64\nMCHC                 float64\nPlateletCount          int64\nNeutrophil           float64\nLymphocyte           float64\nMonocyte             float64\nEosinophil             int64\nOthers                object\nCO                    object\nDiagnosis             object\nHypersensitivity        bool\nCP                  category\nTrestbps               int64\nChol                   int64\nFBS                    int64\nRestecg             category\nThalach                int64\nExang                  int64\nOldpeak              float64\nSlope               category\nCA                  category\nThal                category\nNum                 category\nSK                     int64\nSKReact             category\nReaction               int64\nMortality              int64\nFollowUp               int64\ndtype: object"
     },
     "execution_count": 506,
     "metadata": {},
     "output_type": "execute_result"
    }
   ],
   "source": [
    "df.dtypes"
   ]
  },
  {
   "cell_type": "markdown",
   "metadata": {},
   "source": [
    "<b>Wonderful!</b>\n",
    "\n",
    "Now we have finally obtained the cleaned dataset with no missing values with all data in its proper format.\n"
   ]
  },
  {
   "cell_type": "markdown",
   "metadata": {},
   "source": [
    "<h2 id=\"data_standardization\">Data Standardization</h2>\n",
    "<p>\n",
    "Data is usually collected from different agencies in different formats.\n",
    "(Data standardization is also a term for a particular type of data normalization where we subtract the mean and divide by the standard deviation.)\n",
    "</p>\n",
    "\n",
    "<b>What is standardization?</b>\n",
    "\n",
    "<p>Standardization is the process of transforming data into a common format, allowing the researcher to make the meaningful comparison.\n",
    "</p>\n",
    "\n",
    "<b>Example</b>\n",
    "\n",
    "<p>Transform mg/dL to mmol/L:</p>\n",
    "<p>In our dataset, the columns \"Hemoglobin\" and \"Chol\" (Cholesterol) are represented by g/dL and mg/dL units.</p>\n",
    "<p>We will need to apply <b>data transformation</b> to transform g/dL and mg/dL into mmol/L.</p>\n"
   ]
  },
  {
   "cell_type": "markdown",
   "metadata": {},
   "source": [
    "<p>The formula for unit conversion of Hemoglobin is:<p>\n",
    "mmol/L = g/dL * 0.6206\n",
    "<p>We can do many mathematical operations directly in Pandas.</p>\n"
   ]
  },
  {
   "cell_type": "code",
   "execution_count": 507,
   "metadata": {
    "execution": {
     "iopub.execute_input": "2023-01-26T14:40:19.211072Z",
     "iopub.status.busy": "2023-01-26T14:40:19.210037Z",
     "iopub.status.idle": "2023-01-26T14:40:19.225049Z",
     "shell.execute_reply": "2023-01-26T14:40:19.226071Z"
    }
   },
   "outputs": [
    {
     "data": {
      "text/plain": "   Age AgeGroup  Gender Locality MaritalStatus  Lifestyle  Sleep Category  \\\n0   45    41-50  Female    RURAL       MARRIED      False  False     FREE   \n1   51    51-60  Female    URBAN       MARRIED      False  False     FREE   \n2   55    51-60  Female    RURAL       MARRIED       True   True     FREE   \n3   55    51-60  Female    RURAL       MARRIED       True   True     FREE   \n4   56    51-60  Female    RURAL       MARRIED       True  False     FREE   \n\n   Depression  Hyperlipidemia  ...  Oldpeak  Slope  CA  Thal  Num  SK  \\\n0        True            True  ...     3.00      2   0     7    2   1   \n1        True            True  ...     1.20      2   0     7    2   1   \n2        True            True  ...     3.40      2   0     3    2   1   \n3        True            True  ...     2.00      2   1     7    3   1   \n4        True            True  ...     4.00      3   2     7    3   1   \n\n   SKReact  Reaction  Mortality  FollowUp  \n0       NO         0          0        60  \n1       NO         0          0        15  \n2       NO         0          0         6  \n3       NO         0          0        52  \n4       NO         0          0        34  \n\n[5 rows x 53 columns]",
      "text/html": "<div>\n<style scoped>\n    .dataframe tbody tr th:only-of-type {\n        vertical-align: middle;\n    }\n\n    .dataframe tbody tr th {\n        vertical-align: top;\n    }\n\n    .dataframe thead th {\n        text-align: right;\n    }\n</style>\n<table border=\"1\" class=\"dataframe\">\n  <thead>\n    <tr style=\"text-align: right;\">\n      <th></th>\n      <th>Age</th>\n      <th>AgeGroup</th>\n      <th>Gender</th>\n      <th>Locality</th>\n      <th>MaritalStatus</th>\n      <th>Lifestyle</th>\n      <th>Sleep</th>\n      <th>Category</th>\n      <th>Depression</th>\n      <th>Hyperlipidemia</th>\n      <th>...</th>\n      <th>Oldpeak</th>\n      <th>Slope</th>\n      <th>CA</th>\n      <th>Thal</th>\n      <th>Num</th>\n      <th>SK</th>\n      <th>SKReact</th>\n      <th>Reaction</th>\n      <th>Mortality</th>\n      <th>FollowUp</th>\n    </tr>\n  </thead>\n  <tbody>\n    <tr>\n      <th>0</th>\n      <td>45</td>\n      <td>41-50</td>\n      <td>Female</td>\n      <td>RURAL</td>\n      <td>MARRIED</td>\n      <td>False</td>\n      <td>False</td>\n      <td>FREE</td>\n      <td>True</td>\n      <td>True</td>\n      <td>...</td>\n      <td>3.00</td>\n      <td>2</td>\n      <td>0</td>\n      <td>7</td>\n      <td>2</td>\n      <td>1</td>\n      <td>NO</td>\n      <td>0</td>\n      <td>0</td>\n      <td>60</td>\n    </tr>\n    <tr>\n      <th>1</th>\n      <td>51</td>\n      <td>51-60</td>\n      <td>Female</td>\n      <td>URBAN</td>\n      <td>MARRIED</td>\n      <td>False</td>\n      <td>False</td>\n      <td>FREE</td>\n      <td>True</td>\n      <td>True</td>\n      <td>...</td>\n      <td>1.20</td>\n      <td>2</td>\n      <td>0</td>\n      <td>7</td>\n      <td>2</td>\n      <td>1</td>\n      <td>NO</td>\n      <td>0</td>\n      <td>0</td>\n      <td>15</td>\n    </tr>\n    <tr>\n      <th>2</th>\n      <td>55</td>\n      <td>51-60</td>\n      <td>Female</td>\n      <td>RURAL</td>\n      <td>MARRIED</td>\n      <td>True</td>\n      <td>True</td>\n      <td>FREE</td>\n      <td>True</td>\n      <td>True</td>\n      <td>...</td>\n      <td>3.40</td>\n      <td>2</td>\n      <td>0</td>\n      <td>3</td>\n      <td>2</td>\n      <td>1</td>\n      <td>NO</td>\n      <td>0</td>\n      <td>0</td>\n      <td>6</td>\n    </tr>\n    <tr>\n      <th>3</th>\n      <td>55</td>\n      <td>51-60</td>\n      <td>Female</td>\n      <td>RURAL</td>\n      <td>MARRIED</td>\n      <td>True</td>\n      <td>True</td>\n      <td>FREE</td>\n      <td>True</td>\n      <td>True</td>\n      <td>...</td>\n      <td>2.00</td>\n      <td>2</td>\n      <td>1</td>\n      <td>7</td>\n      <td>3</td>\n      <td>1</td>\n      <td>NO</td>\n      <td>0</td>\n      <td>0</td>\n      <td>52</td>\n    </tr>\n    <tr>\n      <th>4</th>\n      <td>56</td>\n      <td>51-60</td>\n      <td>Female</td>\n      <td>RURAL</td>\n      <td>MARRIED</td>\n      <td>True</td>\n      <td>False</td>\n      <td>FREE</td>\n      <td>True</td>\n      <td>True</td>\n      <td>...</td>\n      <td>4.00</td>\n      <td>3</td>\n      <td>2</td>\n      <td>7</td>\n      <td>3</td>\n      <td>1</td>\n      <td>NO</td>\n      <td>0</td>\n      <td>0</td>\n      <td>34</td>\n    </tr>\n  </tbody>\n</table>\n<p>5 rows × 53 columns</p>\n</div>"
     },
     "execution_count": 507,
     "metadata": {},
     "output_type": "execute_result"
    }
   ],
   "source": [
    "df.head()"
   ]
  },
  {
   "cell_type": "code",
   "execution_count": 508,
   "metadata": {
    "collapsed": false,
    "execution": {
     "iopub.execute_input": "2023-01-26T14:40:19.294036Z",
     "iopub.status.busy": "2023-01-26T14:40:19.293071Z",
     "iopub.status.idle": "2023-01-26T14:40:19.557035Z",
     "shell.execute_reply": "2023-01-26T14:40:19.557035Z"
    },
    "pycharm": {
     "name": "#%%\n"
    }
   },
   "outputs": [
    {
     "data": {
      "text/plain": "     Age AgeGroup  Gender Locality MaritalStatus  Lifestyle  Sleep Category  \\\n0     45    41-50  Female    RURAL       MARRIED      False  False     FREE   \n1     51    51-60  Female    URBAN       MARRIED      False  False     FREE   \n2     55    51-60  Female    RURAL       MARRIED       True   True     FREE   \n3     55    51-60  Female    RURAL       MARRIED       True   True     FREE   \n4     56    51-60  Female    RURAL       MARRIED       True  False     FREE   \n..   ...      ...     ...      ...           ...        ...    ...      ...   \n363   55    51-60    Male    URBAN       MARRIED      False  False     FREE   \n364   55    51-60    Male    RURAL       MARRIED       True  False     FREE   \n365   58    51-60    Male    URBAN       MARRIED      False  False     FREE   \n366   58    51-60    Male    URBAN       MARRIED      False  False     FREE   \n367   50    41-50    Male    RURAL       MARRIED       True  False     FREE   \n\n     Depression  Hyperlipidemia  ...  Oldpeak  Slope  CA  Thal  Num  SK  \\\n0          True            True  ...     3.00      2   0     7    2   1   \n1          True            True  ...     1.20      2   0     7    2   1   \n2          True            True  ...     3.40      2   0     3    2   1   \n3          True            True  ...     2.00      2   1     7    3   1   \n4          True            True  ...     4.00      3   2     7    3   1   \n..          ...             ...  ...      ...    ...  ..   ...  ...  ..   \n363        True           False  ...     0.50      2   0     7    3   0   \n364        True            True  ...     2.00      2   3     7    3   1   \n365        True            True  ...     0.80      1   3     3    1   1   \n366        True            True  ...     2.60      2   0     7    4   1   \n367        True            True  ...     0.60      2   1     7    1   1   \n\n              SKReact  Reaction  Mortality  FollowUp  \n0                  NO         0          0        60  \n1                  NO         0          0        15  \n2                  NO         0          0         6  \n3                  NO         0          0        52  \n4                  NO         0          0        34  \n..                ...       ...        ...       ...  \n363         BODY.PAIN         1          0        60  \n364  STOMACH.BLEEDING         1          0        36  \n365    COUGH.BLEEDING         1          0        32  \n366    COUGH.BLEEDING         1          0        32  \n367         BODY.PAIN         1          0        15  \n\n[368 rows x 53 columns]",
      "text/html": "<div>\n<style scoped>\n    .dataframe tbody tr th:only-of-type {\n        vertical-align: middle;\n    }\n\n    .dataframe tbody tr th {\n        vertical-align: top;\n    }\n\n    .dataframe thead th {\n        text-align: right;\n    }\n</style>\n<table border=\"1\" class=\"dataframe\">\n  <thead>\n    <tr style=\"text-align: right;\">\n      <th></th>\n      <th>Age</th>\n      <th>AgeGroup</th>\n      <th>Gender</th>\n      <th>Locality</th>\n      <th>MaritalStatus</th>\n      <th>Lifestyle</th>\n      <th>Sleep</th>\n      <th>Category</th>\n      <th>Depression</th>\n      <th>Hyperlipidemia</th>\n      <th>...</th>\n      <th>Oldpeak</th>\n      <th>Slope</th>\n      <th>CA</th>\n      <th>Thal</th>\n      <th>Num</th>\n      <th>SK</th>\n      <th>SKReact</th>\n      <th>Reaction</th>\n      <th>Mortality</th>\n      <th>FollowUp</th>\n    </tr>\n  </thead>\n  <tbody>\n    <tr>\n      <th>0</th>\n      <td>45</td>\n      <td>41-50</td>\n      <td>Female</td>\n      <td>RURAL</td>\n      <td>MARRIED</td>\n      <td>False</td>\n      <td>False</td>\n      <td>FREE</td>\n      <td>True</td>\n      <td>True</td>\n      <td>...</td>\n      <td>3.00</td>\n      <td>2</td>\n      <td>0</td>\n      <td>7</td>\n      <td>2</td>\n      <td>1</td>\n      <td>NO</td>\n      <td>0</td>\n      <td>0</td>\n      <td>60</td>\n    </tr>\n    <tr>\n      <th>1</th>\n      <td>51</td>\n      <td>51-60</td>\n      <td>Female</td>\n      <td>URBAN</td>\n      <td>MARRIED</td>\n      <td>False</td>\n      <td>False</td>\n      <td>FREE</td>\n      <td>True</td>\n      <td>True</td>\n      <td>...</td>\n      <td>1.20</td>\n      <td>2</td>\n      <td>0</td>\n      <td>7</td>\n      <td>2</td>\n      <td>1</td>\n      <td>NO</td>\n      <td>0</td>\n      <td>0</td>\n      <td>15</td>\n    </tr>\n    <tr>\n      <th>2</th>\n      <td>55</td>\n      <td>51-60</td>\n      <td>Female</td>\n      <td>RURAL</td>\n      <td>MARRIED</td>\n      <td>True</td>\n      <td>True</td>\n      <td>FREE</td>\n      <td>True</td>\n      <td>True</td>\n      <td>...</td>\n      <td>3.40</td>\n      <td>2</td>\n      <td>0</td>\n      <td>3</td>\n      <td>2</td>\n      <td>1</td>\n      <td>NO</td>\n      <td>0</td>\n      <td>0</td>\n      <td>6</td>\n    </tr>\n    <tr>\n      <th>3</th>\n      <td>55</td>\n      <td>51-60</td>\n      <td>Female</td>\n      <td>RURAL</td>\n      <td>MARRIED</td>\n      <td>True</td>\n      <td>True</td>\n      <td>FREE</td>\n      <td>True</td>\n      <td>True</td>\n      <td>...</td>\n      <td>2.00</td>\n      <td>2</td>\n      <td>1</td>\n      <td>7</td>\n      <td>3</td>\n      <td>1</td>\n      <td>NO</td>\n      <td>0</td>\n      <td>0</td>\n      <td>52</td>\n    </tr>\n    <tr>\n      <th>4</th>\n      <td>56</td>\n      <td>51-60</td>\n      <td>Female</td>\n      <td>RURAL</td>\n      <td>MARRIED</td>\n      <td>True</td>\n      <td>False</td>\n      <td>FREE</td>\n      <td>True</td>\n      <td>True</td>\n      <td>...</td>\n      <td>4.00</td>\n      <td>3</td>\n      <td>2</td>\n      <td>7</td>\n      <td>3</td>\n      <td>1</td>\n      <td>NO</td>\n      <td>0</td>\n      <td>0</td>\n      <td>34</td>\n    </tr>\n    <tr>\n      <th>...</th>\n      <td>...</td>\n      <td>...</td>\n      <td>...</td>\n      <td>...</td>\n      <td>...</td>\n      <td>...</td>\n      <td>...</td>\n      <td>...</td>\n      <td>...</td>\n      <td>...</td>\n      <td>...</td>\n      <td>...</td>\n      <td>...</td>\n      <td>...</td>\n      <td>...</td>\n      <td>...</td>\n      <td>...</td>\n      <td>...</td>\n      <td>...</td>\n      <td>...</td>\n      <td>...</td>\n    </tr>\n    <tr>\n      <th>363</th>\n      <td>55</td>\n      <td>51-60</td>\n      <td>Male</td>\n      <td>URBAN</td>\n      <td>MARRIED</td>\n      <td>False</td>\n      <td>False</td>\n      <td>FREE</td>\n      <td>True</td>\n      <td>False</td>\n      <td>...</td>\n      <td>0.50</td>\n      <td>2</td>\n      <td>0</td>\n      <td>7</td>\n      <td>3</td>\n      <td>0</td>\n      <td>BODY.PAIN</td>\n      <td>1</td>\n      <td>0</td>\n      <td>60</td>\n    </tr>\n    <tr>\n      <th>364</th>\n      <td>55</td>\n      <td>51-60</td>\n      <td>Male</td>\n      <td>RURAL</td>\n      <td>MARRIED</td>\n      <td>True</td>\n      <td>False</td>\n      <td>FREE</td>\n      <td>True</td>\n      <td>True</td>\n      <td>...</td>\n      <td>2.00</td>\n      <td>2</td>\n      <td>3</td>\n      <td>7</td>\n      <td>3</td>\n      <td>1</td>\n      <td>STOMACH.BLEEDING</td>\n      <td>1</td>\n      <td>0</td>\n      <td>36</td>\n    </tr>\n    <tr>\n      <th>365</th>\n      <td>58</td>\n      <td>51-60</td>\n      <td>Male</td>\n      <td>URBAN</td>\n      <td>MARRIED</td>\n      <td>False</td>\n      <td>False</td>\n      <td>FREE</td>\n      <td>True</td>\n      <td>True</td>\n      <td>...</td>\n      <td>0.80</td>\n      <td>1</td>\n      <td>3</td>\n      <td>3</td>\n      <td>1</td>\n      <td>1</td>\n      <td>COUGH.BLEEDING</td>\n      <td>1</td>\n      <td>0</td>\n      <td>32</td>\n    </tr>\n    <tr>\n      <th>366</th>\n      <td>58</td>\n      <td>51-60</td>\n      <td>Male</td>\n      <td>URBAN</td>\n      <td>MARRIED</td>\n      <td>False</td>\n      <td>False</td>\n      <td>FREE</td>\n      <td>True</td>\n      <td>True</td>\n      <td>...</td>\n      <td>2.60</td>\n      <td>2</td>\n      <td>0</td>\n      <td>7</td>\n      <td>4</td>\n      <td>1</td>\n      <td>COUGH.BLEEDING</td>\n      <td>1</td>\n      <td>0</td>\n      <td>32</td>\n    </tr>\n    <tr>\n      <th>367</th>\n      <td>50</td>\n      <td>41-50</td>\n      <td>Male</td>\n      <td>RURAL</td>\n      <td>MARRIED</td>\n      <td>True</td>\n      <td>False</td>\n      <td>FREE</td>\n      <td>True</td>\n      <td>True</td>\n      <td>...</td>\n      <td>0.60</td>\n      <td>2</td>\n      <td>1</td>\n      <td>7</td>\n      <td>1</td>\n      <td>1</td>\n      <td>BODY.PAIN</td>\n      <td>1</td>\n      <td>0</td>\n      <td>15</td>\n    </tr>\n  </tbody>\n</table>\n<p>368 rows × 53 columns</p>\n</div>"
     },
     "execution_count": 508,
     "metadata": {},
     "output_type": "execute_result"
    }
   ],
   "source": [
    "# Set Hemoglobin as mmol/L\n",
    "df['Hemoglobin'] = df['Hemoglobin'] * 0.6206\n",
    "\n",
    "# check your transformed data\n",
    "df"
   ]
  },
  {
   "cell_type": "markdown",
   "metadata": {},
   "source": [
    "<div class=\"alert alert-danger alertdanger\" style=\"margin-top: 20px\">\n",
    "<h1> Question  #2: </h1>\n",
    "\n",
    "<b>According to the example above, transform mg/dL to mmol/L in the column of \"Chol\".</b>\n",
    "Formula:\n",
    "mmol/L = mg/dL * 0.02586\n",
    "\n",
    "</div>\n"
   ]
  },
  {
   "cell_type": "code",
   "execution_count": 509,
   "metadata": {
    "execution": {
     "iopub.execute_input": "2023-01-26T14:40:19.575039Z",
     "iopub.status.busy": "2023-01-26T14:40:19.568064Z",
     "iopub.status.idle": "2023-01-26T14:40:19.589039Z",
     "shell.execute_reply": "2023-01-26T14:40:19.589039Z"
    }
   },
   "outputs": [],
   "source": [
    "# Write your code below and press Shift+Enter to execute \n"
   ]
  },
  {
   "cell_type": "markdown",
   "metadata": {},
   "source": [
    "<details><summary>Click here for the solution</summary>\n",
    "\n",
    "```python\n",
    "# transform mpg to L/100km by mathematical operation (235 divided by mpg)\n",
    "df['Chol'] = df['Chol'] * 0.02586\n",
    "df\n",
    "\n",
    "```\n",
    "\n",
    "</details>\n"
   ]
  },
  {
   "cell_type": "markdown",
   "source": [
    "Let's have a look at \"Neutrophil\" column. There is data distributed in range from 0 to 1, so that we can see percentage of neutrophil cells, but there are some fields with 83 value. We need to visualise it."
   ],
   "metadata": {
    "collapsed": false
   }
  },
  {
   "cell_type": "code",
   "execution_count": 510,
   "outputs": [
    {
     "data": {
      "text/plain": "<AxesSubplot:>"
     },
     "execution_count": 510,
     "metadata": {},
     "output_type": "execute_result"
    },
    {
     "data": {
      "text/plain": "<Figure size 432x288 with 1 Axes>",
      "image/png": "[encoded data removed]"
     },
     "metadata": {
      "needs_background": "light"
     },
     "output_type": "display_data"
    }
   ],
   "source": [
    "df[['Neutrophil']].plot()"
   ],
   "metadata": {
    "collapsed": false,
    "pycharm": {
     "name": "#%%\n"
    }
   }
  },
  {
   "cell_type": "markdown",
   "source": [
    "Now we can see, that 10 incorrectly entered values must be fixed by dividing data higher than 1 by 100 and getting percentage in the correct form."
   ],
   "metadata": {
    "collapsed": false
   }
  },
  {
   "cell_type": "code",
   "execution_count": 511,
   "outputs": [
    {
     "data": {
      "text/plain": "<AxesSubplot:>"
     },
     "execution_count": 511,
     "metadata": {},
     "output_type": "execute_result"
    },
    {
     "data": {
      "text/plain": "<Figure size 432x288 with 1 Axes>",
      "image/png": "[encoded data removed]"
     },
     "metadata": {
      "needs_background": "light"
     },
     "output_type": "display_data"
    }
   ],
   "source": [
    "mask = df.Neutrophil > 1\n",
    "df.loc[mask, 'Neutrophil'] = df['Neutrophil'] / 100\n",
    "df[['Neutrophil']].plot()"
   ],
   "metadata": {
    "collapsed": false,
    "pycharm": {
     "name": "#%%\n"
    }
   }
  },
  {
   "cell_type": "markdown",
   "source": [
    "Now we can see that it's correct, all data is in range from 0 to 1."
   ],
   "metadata": {
    "collapsed": false
   }
  },
  {
   "cell_type": "markdown",
   "metadata": {},
   "source": [
    "<h2 id=\"data_normalization\">Data Normalization</h2>\n",
    "\n",
    "<b>Why normalization?</b>\n",
    "\n",
    "<p>Normalization is the process of transforming values of several variables into a similar range. Typical normalizations include scaling the variable so the variable average is 0, scaling the variable so the variance is 1, or scaling the variable so the variable values range from 0 to 1.\n",
    "</p>\n",
    "\n",
    "<b>Example</b>\n",
    "\n",
    "<p>To demonstrate normalization, let's say we want to scale the columns \"BP\" and \"Trestbps\".</p>\n",
    "<p><b>Target:</b> would like to normalize those variables so their value ranges from 0 to 1</p>\n",
    "<p><b>Approach:</b> replace original value with value of <code>MinMaxScaler</code></p>\n"
   ]
  },
  {
   "cell_type": "code",
   "execution_count": 512,
   "metadata": {
    "collapsed": false,
    "execution": {
     "iopub.execute_input": "2023-01-26T14:40:19.624038Z",
     "iopub.status.busy": "2023-01-26T14:40:19.623038Z",
     "iopub.status.idle": "2023-01-26T14:40:19.650039Z",
     "shell.execute_reply": "2023-01-26T14:40:19.651039Z"
    },
    "pycharm": {
     "name": "#%%\n"
    }
   },
   "outputs": [
    {
     "data": {
      "text/plain": "     Age AgeGroup  Gender Locality MaritalStatus  Lifestyle  Sleep Category  \\\n0     45    41-50  Female    RURAL       MARRIED      False  False     FREE   \n1     51    51-60  Female    URBAN       MARRIED      False  False     FREE   \n2     55    51-60  Female    RURAL       MARRIED       True   True     FREE   \n3     55    51-60  Female    RURAL       MARRIED       True   True     FREE   \n4     56    51-60  Female    RURAL       MARRIED       True  False     FREE   \n..   ...      ...     ...      ...           ...        ...    ...      ...   \n363   55    51-60    Male    URBAN       MARRIED      False  False     FREE   \n364   55    51-60    Male    RURAL       MARRIED       True  False     FREE   \n365   58    51-60    Male    URBAN       MARRIED      False  False     FREE   \n366   58    51-60    Male    URBAN       MARRIED      False  False     FREE   \n367   50    41-50    Male    RURAL       MARRIED       True  False     FREE   \n\n     Depression  Hyperlipidemia  ...  Oldpeak  Slope  CA  Thal  Num  SK  \\\n0          True            True  ...     3.00      2   0     7    2   1   \n1          True            True  ...     1.20      2   0     7    2   1   \n2          True            True  ...     3.40      2   0     3    2   1   \n3          True            True  ...     2.00      2   1     7    3   1   \n4          True            True  ...     4.00      3   2     7    3   1   \n..          ...             ...  ...      ...    ...  ..   ...  ...  ..   \n363        True           False  ...     0.50      2   0     7    3   0   \n364        True            True  ...     2.00      2   3     7    3   1   \n365        True            True  ...     0.80      1   3     3    1   1   \n366        True            True  ...     2.60      2   0     7    4   1   \n367        True            True  ...     0.60      2   1     7    1   1   \n\n              SKReact  Reaction  Mortality  FollowUp  \n0                  NO         0          0        60  \n1                  NO         0          0        15  \n2                  NO         0          0         6  \n3                  NO         0          0        52  \n4                  NO         0          0        34  \n..                ...       ...        ...       ...  \n363         BODY.PAIN         1          0        60  \n364  STOMACH.BLEEDING         1          0        36  \n365    COUGH.BLEEDING         1          0        32  \n366    COUGH.BLEEDING         1          0        32  \n367         BODY.PAIN         1          0        15  \n\n[368 rows x 53 columns]",
      "text/html": "<div>\n<style scoped>\n    .dataframe tbody tr th:only-of-type {\n        vertical-align: middle;\n    }\n\n    .dataframe tbody tr th {\n        vertical-align: top;\n    }\n\n    .dataframe thead th {\n        text-align: right;\n    }\n</style>\n<table border=\"1\" class=\"dataframe\">\n  <thead>\n    <tr style=\"text-align: right;\">\n      <th></th>\n      <th>Age</th>\n      <th>AgeGroup</th>\n      <th>Gender</th>\n      <th>Locality</th>\n      <th>MaritalStatus</th>\n      <th>Lifestyle</th>\n      <th>Sleep</th>\n      <th>Category</th>\n      <th>Depression</th>\n      <th>Hyperlipidemia</th>\n      <th>...</th>\n      <th>Oldpeak</th>\n      <th>Slope</th>\n      <th>CA</th>\n      <th>Thal</th>\n      <th>Num</th>\n      <th>SK</th>\n      <th>SKReact</th>\n      <th>Reaction</th>\n      <th>Mortality</th>\n      <th>FollowUp</th>\n    </tr>\n  </thead>\n  <tbody>\n    <tr>\n      <th>0</th>\n      <td>45</td>\n      <td>41-50</td>\n      <td>Female</td>\n      <td>RURAL</td>\n      <td>MARRIED</td>\n      <td>False</td>\n      <td>False</td>\n      <td>FREE</td>\n      <td>True</td>\n      <td>True</td>\n      <td>...</td>\n      <td>3.00</td>\n      <td>2</td>\n      <td>0</td>\n      <td>7</td>\n      <td>2</td>\n      <td>1</td>\n      <td>NO</td>\n      <td>0</td>\n      <td>0</td>\n      <td>60</td>\n    </tr>\n    <tr>\n      <th>1</th>\n      <td>51</td>\n      <td>51-60</td>\n      <td>Female</td>\n      <td>URBAN</td>\n      <td>MARRIED</td>\n      <td>False</td>\n      <td>False</td>\n      <td>FREE</td>\n      <td>True</td>\n      <td>True</td>\n      <td>...</td>\n      <td>1.20</td>\n      <td>2</td>\n      <td>0</td>\n      <td>7</td>\n      <td>2</td>\n      <td>1</td>\n      <td>NO</td>\n      <td>0</td>\n      <td>0</td>\n      <td>15</td>\n    </tr>\n    <tr>\n      <th>2</th>\n      <td>55</td>\n      <td>51-60</td>\n      <td>Female</td>\n      <td>RURAL</td>\n      <td>MARRIED</td>\n      <td>True</td>\n      <td>True</td>\n      <td>FREE</td>\n      <td>True</td>\n      <td>True</td>\n      <td>...</td>\n      <td>3.40</td>\n      <td>2</td>\n      <td>0</td>\n      <td>3</td>\n      <td>2</td>\n      <td>1</td>\n      <td>NO</td>\n      <td>0</td>\n      <td>0</td>\n      <td>6</td>\n    </tr>\n    <tr>\n      <th>3</th>\n      <td>55</td>\n      <td>51-60</td>\n      <td>Female</td>\n      <td>RURAL</td>\n      <td>MARRIED</td>\n      <td>True</td>\n      <td>True</td>\n      <td>FREE</td>\n      <td>True</td>\n      <td>True</td>\n      <td>...</td>\n      <td>2.00</td>\n      <td>2</td>\n      <td>1</td>\n      <td>7</td>\n      <td>3</td>\n      <td>1</td>\n      <td>NO</td>\n      <td>0</td>\n      <td>0</td>\n      <td>52</td>\n    </tr>\n    <tr>\n      <th>4</th>\n      <td>56</td>\n      <td>51-60</td>\n      <td>Female</td>\n      <td>RURAL</td>\n      <td>MARRIED</td>\n      <td>True</td>\n      <td>False</td>\n      <td>FREE</td>\n      <td>True</td>\n      <td>True</td>\n      <td>...</td>\n      <td>4.00</td>\n      <td>3</td>\n      <td>2</td>\n      <td>7</td>\n      <td>3</td>\n      <td>1</td>\n      <td>NO</td>\n      <td>0</td>\n      <td>0</td>\n      <td>34</td>\n    </tr>\n    <tr>\n      <th>...</th>\n      <td>...</td>\n      <td>...</td>\n      <td>...</td>\n      <td>...</td>\n      <td>...</td>\n      <td>...</td>\n      <td>...</td>\n      <td>...</td>\n      <td>...</td>\n      <td>...</td>\n      <td>...</td>\n      <td>...</td>\n      <td>...</td>\n      <td>...</td>\n      <td>...</td>\n      <td>...</td>\n      <td>...</td>\n      <td>...</td>\n      <td>...</td>\n      <td>...</td>\n      <td>...</td>\n    </tr>\n    <tr>\n      <th>363</th>\n      <td>55</td>\n      <td>51-60</td>\n      <td>Male</td>\n      <td>URBAN</td>\n      <td>MARRIED</td>\n      <td>False</td>\n      <td>False</td>\n      <td>FREE</td>\n      <td>True</td>\n      <td>False</td>\n      <td>...</td>\n      <td>0.50</td>\n      <td>2</td>\n      <td>0</td>\n      <td>7</td>\n      <td>3</td>\n      <td>0</td>\n      <td>BODY.PAIN</td>\n      <td>1</td>\n      <td>0</td>\n      <td>60</td>\n    </tr>\n    <tr>\n      <th>364</th>\n      <td>55</td>\n      <td>51-60</td>\n      <td>Male</td>\n      <td>RURAL</td>\n      <td>MARRIED</td>\n      <td>True</td>\n      <td>False</td>\n      <td>FREE</td>\n      <td>True</td>\n      <td>True</td>\n      <td>...</td>\n      <td>2.00</td>\n      <td>2</td>\n      <td>3</td>\n      <td>7</td>\n      <td>3</td>\n      <td>1</td>\n      <td>STOMACH.BLEEDING</td>\n      <td>1</td>\n      <td>0</td>\n      <td>36</td>\n    </tr>\n    <tr>\n      <th>365</th>\n      <td>58</td>\n      <td>51-60</td>\n      <td>Male</td>\n      <td>URBAN</td>\n      <td>MARRIED</td>\n      <td>False</td>\n      <td>False</td>\n      <td>FREE</td>\n      <td>True</td>\n      <td>True</td>\n      <td>...</td>\n      <td>0.80</td>\n      <td>1</td>\n      <td>3</td>\n      <td>3</td>\n      <td>1</td>\n      <td>1</td>\n      <td>COUGH.BLEEDING</td>\n      <td>1</td>\n      <td>0</td>\n      <td>32</td>\n    </tr>\n    <tr>\n      <th>366</th>\n      <td>58</td>\n      <td>51-60</td>\n      <td>Male</td>\n      <td>URBAN</td>\n      <td>MARRIED</td>\n      <td>False</td>\n      <td>False</td>\n      <td>FREE</td>\n      <td>True</td>\n      <td>True</td>\n      <td>...</td>\n      <td>2.60</td>\n      <td>2</td>\n      <td>0</td>\n      <td>7</td>\n      <td>4</td>\n      <td>1</td>\n      <td>COUGH.BLEEDING</td>\n      <td>1</td>\n      <td>0</td>\n      <td>32</td>\n    </tr>\n    <tr>\n      <th>367</th>\n      <td>50</td>\n      <td>41-50</td>\n      <td>Male</td>\n      <td>RURAL</td>\n      <td>MARRIED</td>\n      <td>True</td>\n      <td>False</td>\n      <td>FREE</td>\n      <td>True</td>\n      <td>True</td>\n      <td>...</td>\n      <td>0.60</td>\n      <td>2</td>\n      <td>1</td>\n      <td>7</td>\n      <td>1</td>\n      <td>1</td>\n      <td>BODY.PAIN</td>\n      <td>1</td>\n      <td>0</td>\n      <td>15</td>\n    </tr>\n  </tbody>\n</table>\n<p>368 rows × 53 columns</p>\n</div>"
     },
     "execution_count": 512,
     "metadata": {},
     "output_type": "execute_result"
    }
   ],
   "source": [
    "from sklearn import preprocessing\n",
    "\n",
    "scaler = preprocessing.MinMaxScaler()\n",
    "df['BP']  = scaler.fit_transform(df[['BP']])\n",
    "\n",
    "df"
   ]
  },
  {
   "cell_type": "markdown",
   "source": [
    "<h4>Testing for normality using statistical tests</h4>\n",
    "<p>Here we will check the normality of the sample distribution using such tests as: the Shapiro–Wilk test, the Kolmogorov–Smirnov test, and the D'Agostino's test.</p>"
   ],
   "metadata": {
    "collapsed": false
   }
  },
  {
   "cell_type": "code",
   "execution_count": 513,
   "outputs": [
    {
     "data": {
      "text/plain": "                    Test statistics  Value p\nShapiro–Wilk test              0.95     0.00\nKolmogorov–Smirnov             0.51     0.00\nD'Agostino's test             19.37     0.00",
      "text/html": "<div>\n<style scoped>\n    .dataframe tbody tr th:only-of-type {\n        vertical-align: middle;\n    }\n\n    .dataframe tbody tr th {\n        vertical-align: top;\n    }\n\n    .dataframe thead th {\n        text-align: right;\n    }\n</style>\n<table border=\"1\" class=\"dataframe\">\n  <thead>\n    <tr style=\"text-align: right;\">\n      <th></th>\n      <th>Test statistics</th>\n      <th>Value p</th>\n    </tr>\n  </thead>\n  <tbody>\n    <tr>\n      <th>Shapiro–Wilk test</th>\n      <td>0.95</td>\n      <td>0.00</td>\n    </tr>\n    <tr>\n      <th>Kolmogorov–Smirnov</th>\n      <td>0.51</td>\n      <td>0.00</td>\n    </tr>\n    <tr>\n      <th>D'Agostino's test</th>\n      <td>19.37</td>\n      <td>0.00</td>\n    </tr>\n  </tbody>\n</table>\n</div>"
     },
     "execution_count": 513,
     "metadata": {},
     "output_type": "execute_result"
    }
   ],
   "source": [
    "import scipy.stats as stats\n",
    "values = df[\"BP\"]\n",
    "\n",
    "results = {\n",
    "    \"Shapiro–Wilk test\" : stats.shapiro(values),\n",
    "    \"Kolmogorov–Smirnov\" : stats.kstest(values, \"norm\"),\n",
    "    \"D'Agostino's test\" : stats.normaltest(values)\n",
    "}\n",
    "\n",
    "pd.DataFrame.from_dict(results, orient = \"index\", columns = [\"Test statistics\", \"Value p\"])"
   ],
   "metadata": {
    "collapsed": false,
    "pycharm": {
     "name": "#%%\n"
    }
   }
  },
  {
   "cell_type": "markdown",
   "metadata": {},
   "source": [
    "<div class=\"alert alert-danger alertdanger\" style=\"margin-top: 20px\">\n",
    "<h1> Question #3: </h1>\n",
    "\n",
    "<b>According to the example above, normalize the column \"Trestbps\".</b>\n",
    "\n",
    "</div>\n"
   ]
  },
  {
   "cell_type": "code",
   "execution_count": 514,
   "metadata": {
    "execution": {
     "iopub.execute_input": "2023-01-26T14:40:19.673038Z",
     "iopub.status.busy": "2023-01-26T14:40:19.656040Z",
     "iopub.status.idle": "2023-01-26T14:40:19.683039Z",
     "shell.execute_reply": "2023-01-26T14:40:19.683039Z"
    }
   },
   "outputs": [],
   "source": [
    "# Write your code below and press Shift+Enter to execute \n"
   ]
  },
  {
   "cell_type": "markdown",
   "metadata": {},
   "source": [
    "<details><summary>Click here for the solution</summary>\n",
    "\n",
    "```python\n",
    "scaler = preprocessing.MinMaxScaler()\n",
    "df['Trestbps']  = scaler.fit_transform(df[['Trestbps']])\n",
    "\n",
    "df\n",
    "\n",
    "```\n",
    "\n",
    "</details>\n"
   ]
  },
  {
   "cell_type": "markdown",
   "metadata": {},
   "source": [
    "Here we can see we've normalized \"BP\" and \"Trestbps\"in the range of \\[0,1].\n"
   ]
  },
  {
   "cell_type": "markdown",
   "metadata": {},
   "source": [
    "<h2 id=\"binning\">Binning</h2>\n",
    "<b>Why binning?</b>\n",
    "<p>\n",
    "    Binning is a process of transforming continuous numerical variables into discrete categorical 'bins' for grouped analysis.\n",
    "</p>\n",
    "\n",
    "<b>Example: </b>\n",
    "\n",
    "<p>In our dataset, \"Thalach\" (maximum heart rate achieved) is a real valued variable ranging from 71 to 195 and it has 71 unique values. What if we only care about the difference between patients with high heart rate, medium heart rate and little heart rate (3 types)? Can we rearrange them into three ‘bins' to simplify analysis? </p>\n",
    "\n",
    "<p>We will use the pandas method 'cut' to segment the 'Thalach' column into 3 bins.</p>\n"
   ]
  },
  {
   "cell_type": "markdown",
   "metadata": {},
   "source": [
    "<h3>Example of Binning Data In Pandas</h3>\n"
   ]
  },
  {
   "cell_type": "markdown",
   "metadata": {},
   "source": [
    "Let's plot the histogram of max heart rate to see what the distribution looks like.\n"
   ]
  },
  {
   "cell_type": "code",
   "execution_count": 515,
   "metadata": {
    "collapsed": false,
    "execution": {
     "iopub.execute_input": "2023-01-26T14:40:19.863036Z",
     "iopub.status.busy": "2023-01-26T14:40:19.859037Z",
     "iopub.status.idle": "2023-01-26T14:40:19.999036Z",
     "shell.execute_reply": "2023-01-26T14:40:20.000072Z"
    },
    "pycharm": {
     "name": "#%%\n"
    }
   },
   "outputs": [
    {
     "data": {
      "text/plain": "Text(0.5, 1.0, 'Max heart rate bins')"
     },
     "execution_count": 515,
     "metadata": {},
     "output_type": "execute_result"
    },
    {
     "data": {
      "text/plain": "<Figure size 432x288 with 1 Axes>",
      "image/png": "[encoded data removed]"
     },
     "metadata": {
      "needs_background": "light"
     },
     "output_type": "display_data"
    }
   ],
   "source": [
    "%matplotlib inline\n",
    "import matplotlib as plt\n",
    "from matplotlib import pyplot\n",
    "plt.pyplot.hist(df[\"Thalach\"])\n",
    "\n",
    "# set x/y labels and plot title\n",
    "plt.pyplot.xlabel(\"Max heart rate achieved\")\n",
    "plt.pyplot.ylabel(\"count\")\n",
    "plt.pyplot.title(\"Max heart rate bins\")"
   ]
  },
  {
   "cell_type": "markdown",
   "metadata": {},
   "source": [
    "<p>We would like 3 bins of equal size bandwidth so we use numpy's <code>linspace(start_value, end_value, numbers_generated</code> function.</p>\n",
    "<p>Since we want to include the minimum value of heart rate, we want to set start_value = min(df[\"Thalach\"]).</p>\n",
    "<p>Since we want to include the maximum value of heart rate, we want to set end_value = max(df[\"Thalach\"]).</p>\n",
    "<p>Since we are building 3 bins of equal length, there should be 4 dividers, so numbers_generated = 4.</p>\n"
   ]
  },
  {
   "cell_type": "markdown",
   "metadata": {},
   "source": [
    "We build a bin array with a minimum value to a maximum value by using the bandwidth calculated above. The values will determine when one bin ends and another begins.\n"
   ]
  },
  {
   "cell_type": "code",
   "execution_count": 516,
   "metadata": {
    "collapsed": false,
    "execution": {
     "iopub.execute_input": "2023-01-26T14:40:20.019037Z",
     "iopub.status.busy": "2023-01-26T14:40:20.018035Z",
     "iopub.status.idle": "2023-01-26T14:40:20.029071Z",
     "shell.execute_reply": "2023-01-26T14:40:20.029071Z"
    },
    "pycharm": {
     "name": "#%%\n"
    }
   },
   "outputs": [
    {
     "data": {
      "text/plain": "array([ 71.        , 112.33333333, 153.66666667, 195.        ])"
     },
     "execution_count": 516,
     "metadata": {},
     "output_type": "execute_result"
    }
   ],
   "source": [
    "bins = np.linspace(min(df[\"Thalach\"]), max(df[\"Thalach\"]), 4)\n",
    "bins"
   ]
  },
  {
   "cell_type": "markdown",
   "metadata": {},
   "source": [
    "We set group  names:\n"
   ]
  },
  {
   "cell_type": "code",
   "execution_count": 517,
   "metadata": {
    "execution": {
     "iopub.execute_input": "2023-01-26T14:40:20.033037Z",
     "iopub.status.busy": "2023-01-26T14:40:20.033037Z",
     "iopub.status.idle": "2023-01-26T14:40:20.045070Z",
     "shell.execute_reply": "2023-01-26T14:40:20.045070Z"
    }
   },
   "outputs": [],
   "source": [
    "group_names = ['Low', 'Medium', 'High']"
   ]
  },
  {
   "cell_type": "markdown",
   "metadata": {},
   "source": [
    "We apply the function \"cut\" to determine what each value of `df['Thalach']` belongs to.\n"
   ]
  },
  {
   "cell_type": "code",
   "execution_count": 518,
   "metadata": {
    "collapsed": false,
    "execution": {
     "iopub.execute_input": "2023-01-26T14:40:20.070036Z",
     "iopub.status.busy": "2023-01-26T14:40:20.069036Z",
     "iopub.status.idle": "2023-01-26T14:40:20.076037Z",
     "shell.execute_reply": "2023-01-26T14:40:20.077068Z"
    },
    "pycharm": {
     "name": "#%%\n"
    }
   },
   "outputs": [
    {
     "data": {
      "text/plain": "    Thalach Thalach-binned\n0       136         Medium\n1       142         Medium\n2       117         Medium\n3       130         Medium\n4       133         Medium\n5       150         Medium\n6       123         Medium\n7       174           High\n8       152         Medium\n9       146         Medium\n10      143         Medium\n11      157           High\n12      161           High\n13      169           High\n14      146         Medium\n15      160           High\n16      145         Medium\n17       97            Low\n18      106            Low\n19      154           High",
      "text/html": "<div>\n<style scoped>\n    .dataframe tbody tr th:only-of-type {\n        vertical-align: middle;\n    }\n\n    .dataframe tbody tr th {\n        vertical-align: top;\n    }\n\n    .dataframe thead th {\n        text-align: right;\n    }\n</style>\n<table border=\"1\" class=\"dataframe\">\n  <thead>\n    <tr style=\"text-align: right;\">\n      <th></th>\n      <th>Thalach</th>\n      <th>Thalach-binned</th>\n    </tr>\n  </thead>\n  <tbody>\n    <tr>\n      <th>0</th>\n      <td>136</td>\n      <td>Medium</td>\n    </tr>\n    <tr>\n      <th>1</th>\n      <td>142</td>\n      <td>Medium</td>\n    </tr>\n    <tr>\n      <th>2</th>\n      <td>117</td>\n      <td>Medium</td>\n    </tr>\n    <tr>\n      <th>3</th>\n      <td>130</td>\n      <td>Medium</td>\n    </tr>\n    <tr>\n      <th>4</th>\n      <td>133</td>\n      <td>Medium</td>\n    </tr>\n    <tr>\n      <th>5</th>\n      <td>150</td>\n      <td>Medium</td>\n    </tr>\n    <tr>\n      <th>6</th>\n      <td>123</td>\n      <td>Medium</td>\n    </tr>\n    <tr>\n      <th>7</th>\n      <td>174</td>\n      <td>High</td>\n    </tr>\n    <tr>\n      <th>8</th>\n      <td>152</td>\n      <td>Medium</td>\n    </tr>\n    <tr>\n      <th>9</th>\n      <td>146</td>\n      <td>Medium</td>\n    </tr>\n    <tr>\n      <th>10</th>\n      <td>143</td>\n      <td>Medium</td>\n    </tr>\n    <tr>\n      <th>11</th>\n      <td>157</td>\n      <td>High</td>\n    </tr>\n    <tr>\n      <th>12</th>\n      <td>161</td>\n      <td>High</td>\n    </tr>\n    <tr>\n      <th>13</th>\n      <td>169</td>\n      <td>High</td>\n    </tr>\n    <tr>\n      <th>14</th>\n      <td>146</td>\n      <td>Medium</td>\n    </tr>\n    <tr>\n      <th>15</th>\n      <td>160</td>\n      <td>High</td>\n    </tr>\n    <tr>\n      <th>16</th>\n      <td>145</td>\n      <td>Medium</td>\n    </tr>\n    <tr>\n      <th>17</th>\n      <td>97</td>\n      <td>Low</td>\n    </tr>\n    <tr>\n      <th>18</th>\n      <td>106</td>\n      <td>Low</td>\n    </tr>\n    <tr>\n      <th>19</th>\n      <td>154</td>\n      <td>High</td>\n    </tr>\n  </tbody>\n</table>\n</div>"
     },
     "execution_count": 518,
     "metadata": {},
     "output_type": "execute_result"
    }
   ],
   "source": [
    "df['Thalach-binned'] = pd.cut(df['Thalach'], bins, labels=group_names, include_lowest=True )\n",
    "df[['Thalach','Thalach-binned']].head(20)"
   ]
  },
  {
   "cell_type": "markdown",
   "metadata": {},
   "source": [
    "Let's see the number of patients in each bin:\n"
   ]
  },
  {
   "cell_type": "code",
   "execution_count": 519,
   "metadata": {
    "collapsed": false,
    "execution": {
     "iopub.execute_input": "2023-01-26T14:40:20.118039Z",
     "iopub.status.busy": "2023-01-26T14:40:20.118039Z",
     "iopub.status.idle": "2023-01-26T14:40:20.124039Z",
     "shell.execute_reply": "2023-01-26T14:40:20.123040Z"
    },
    "pycharm": {
     "name": "#%%\n"
    }
   },
   "outputs": [
    {
     "data": {
      "text/plain": "Medium    192\nHigh      128\nLow        48\nName: Thalach-binned, dtype: int64"
     },
     "execution_count": 519,
     "metadata": {},
     "output_type": "execute_result"
    }
   ],
   "source": [
    "df['Thalach-binned'].value_counts()"
   ]
  },
  {
   "cell_type": "markdown",
   "metadata": {},
   "source": [
    "Let's plot the distribution of each bin:\n"
   ]
  },
  {
   "cell_type": "code",
   "execution_count": 520,
   "metadata": {
    "collapsed": false,
    "execution": {
     "iopub.execute_input": "2023-01-26T14:40:20.285038Z",
     "iopub.status.busy": "2023-01-26T14:40:20.285038Z",
     "iopub.status.idle": "2023-01-26T14:40:20.392065Z",
     "shell.execute_reply": "2023-01-26T14:40:20.392065Z"
    },
    "pycharm": {
     "name": "#%%\n"
    }
   },
   "outputs": [
    {
     "data": {
      "text/plain": "Text(0.5, 1.0, 'Max heart rate bins')"
     },
     "execution_count": 520,
     "metadata": {},
     "output_type": "execute_result"
    },
    {
     "data": {
      "text/plain": "<Figure size 432x288 with 1 Axes>",
      "image/png": "[encoded data removed]"
     },
     "metadata": {
      "needs_background": "light"
     },
     "output_type": "display_data"
    }
   ],
   "source": [
    "pyplot.bar(['Medium', 'High', 'Low'], df[\"Thalach-binned\"].value_counts())\n",
    "\n",
    "# set x/y labels and plot title\n",
    "plt.pyplot.xlabel(\"Max heart rate achieved\")\n",
    "plt.pyplot.ylabel(\"count\")\n",
    "plt.pyplot.title(\"Max heart rate bins\")"
   ]
  },
  {
   "cell_type": "markdown",
   "metadata": {},
   "source": [
    "<p>\n",
    "    Look at the dataframe above carefully. You will find that the last column provides the bins for \"Thalach\" based on 3 categories (\"Low\", \"Medium\" and \"High\").\n",
    "</p>\n",
    "<p>\n",
    "    We successfully narrowed down the intervals from 71 to 3!\n",
    "</p>\n"
   ]
  },
  {
   "cell_type": "markdown",
   "metadata": {},
   "source": [
    "<h3>Bins Visualization</h3>\n",
    "Normally, a histogram is used to visualize the distribution of bins we created above. \n"
   ]
  },
  {
   "cell_type": "code",
   "execution_count": 521,
   "metadata": {
    "collapsed": false,
    "execution": {
     "iopub.execute_input": "2023-01-26T14:40:20.602036Z",
     "iopub.status.busy": "2023-01-26T14:40:20.596036Z",
     "iopub.status.idle": "2023-01-26T14:40:20.740036Z",
     "shell.execute_reply": "2023-01-26T14:40:20.740036Z"
    },
    "pycharm": {
     "name": "#%%\n"
    }
   },
   "outputs": [
    {
     "data": {
      "text/plain": "Text(0.5, 1.0, 'Max heart rate bins')"
     },
     "execution_count": 521,
     "metadata": {},
     "output_type": "execute_result"
    },
    {
     "data": {
      "text/plain": "<Figure size 432x288 with 1 Axes>",
      "image/png": "[encoded data removed]"
     },
     "metadata": {
      "needs_background": "light"
     },
     "output_type": "display_data"
    }
   ],
   "source": [
    "# draw historgram of attribute \"horsepower\" with bins = 3\n",
    "plt.pyplot.hist(df[\"Thalach\"], bins = 3)\n",
    "\n",
    "# set x/y labels and plot title\n",
    "plt.pyplot.xlabel(\"Max heart rate achieved\")\n",
    "plt.pyplot.ylabel(\"count\")\n",
    "plt.pyplot.title(\"Max heart rate bins\")"
   ]
  },
  {
   "cell_type": "markdown",
   "metadata": {},
   "source": [
    "The plot above shows the binning result for the attribute \"Thalach\".\n"
   ]
  },
  {
   "cell_type": "markdown",
   "metadata": {},
   "source": [
    "<h2 id=\"indicator\">Indicator Variable (or Dummy Variable)</h2>\n",
    "<b>What is an indicator variable?</b>\n",
    "<p>\n",
    "    An indicator variable (or dummy variable) is a numerical variable used to label categories. They are called 'dummies' because the numbers themselves don't have inherent meaning. \n",
    "</p>\n",
    "\n",
    "<b>Why we use indicator variables?</b>\n",
    "\n",
    "<p>\n",
    "    We use indicator variables so we can use categorical variables for regression analysis in the later modules.\n",
    "</p>\n",
    "<b>Example</b>\n",
    "<p>\n",
    "    We see the column \"Gender\" has two unique values: \"Male\" or \"Female\". Regression doesn't understand words, only numbers. To use this attribute in regression analysis, we convert \"Gender\" to indicator variables.\n",
    "</p>\n",
    "\n",
    "<p>\n",
    "    We will use pandas' method 'get_dummies' to assign numerical values to different categories of fuel type. \n",
    "</p>\n"
   ]
  },
  {
   "cell_type": "code",
   "execution_count": 522,
   "metadata": {
    "execution": {
     "iopub.execute_input": "2023-01-26T14:40:20.745048Z",
     "iopub.status.busy": "2023-01-26T14:40:20.744037Z",
     "iopub.status.idle": "2023-01-26T14:40:20.757071Z",
     "shell.execute_reply": "2023-01-26T14:40:20.756036Z"
    }
   },
   "outputs": [
    {
     "data": {
      "text/plain": "Index(['Age', 'AgeGroup', 'Gender', 'Locality', 'MaritalStatus', 'Lifestyle',\n       'Sleep', 'Category', 'Depression', 'Hyperlipidemia', 'Smoking',\n       'Diabetes', 'HTN', 'Allergies', 'BP', 'Thrombolysis', 'BGR', 'CPK',\n       'CK-MB', 'ESR', 'WBC', 'RBC', 'Hemoglobin', 'PCV', 'MCV', 'MCH', 'MCHC',\n       'PlateletCount', 'Neutrophil', 'Lymphocyte', 'Monocyte', 'Eosinophil',\n       'Others', 'CO', 'Diagnosis', 'Hypersensitivity', 'CP', 'Trestbps',\n       'Chol', 'FBS', 'Restecg', 'Thalach', 'Exang', 'Oldpeak', 'Slope', 'CA',\n       'Thal', 'Num', 'SK', 'SKReact', 'Reaction', 'Mortality', 'FollowUp',\n       'Thalach-binned'],\n      dtype='object')"
     },
     "execution_count": 522,
     "metadata": {},
     "output_type": "execute_result"
    }
   ],
   "source": [
    "df.columns"
   ]
  },
  {
   "cell_type": "markdown",
   "metadata": {},
   "source": [
    "Get the indicator variables and assign it to data frame \"dummy_variable\\_1\":\n"
   ]
  },
  {
   "cell_type": "code",
   "execution_count": 523,
   "metadata": {
    "collapsed": false,
    "execution": {
     "iopub.execute_input": "2023-01-26T14:40:20.793035Z",
     "iopub.status.busy": "2023-01-26T14:40:20.793035Z",
     "iopub.status.idle": "2023-01-26T14:40:20.803039Z",
     "shell.execute_reply": "2023-01-26T14:40:20.803039Z"
    },
    "pycharm": {
     "name": "#%%\n"
    }
   },
   "outputs": [
    {
     "data": {
      "text/plain": "   Female  Male\n0       1     0\n1       1     0\n2       1     0\n3       1     0\n4       1     0",
      "text/html": "<div>\n<style scoped>\n    .dataframe tbody tr th:only-of-type {\n        vertical-align: middle;\n    }\n\n    .dataframe tbody tr th {\n        vertical-align: top;\n    }\n\n    .dataframe thead th {\n        text-align: right;\n    }\n</style>\n<table border=\"1\" class=\"dataframe\">\n  <thead>\n    <tr style=\"text-align: right;\">\n      <th></th>\n      <th>Female</th>\n      <th>Male</th>\n    </tr>\n  </thead>\n  <tbody>\n    <tr>\n      <th>0</th>\n      <td>1</td>\n      <td>0</td>\n    </tr>\n    <tr>\n      <th>1</th>\n      <td>1</td>\n      <td>0</td>\n    </tr>\n    <tr>\n      <th>2</th>\n      <td>1</td>\n      <td>0</td>\n    </tr>\n    <tr>\n      <th>3</th>\n      <td>1</td>\n      <td>0</td>\n    </tr>\n    <tr>\n      <th>4</th>\n      <td>1</td>\n      <td>0</td>\n    </tr>\n  </tbody>\n</table>\n</div>"
     },
     "execution_count": 523,
     "metadata": {},
     "output_type": "execute_result"
    }
   ],
   "source": [
    "dummy_variable_1 = pd.get_dummies(df[\"Gender\"])\n",
    "dummy_variable_1.head()"
   ]
  },
  {
   "cell_type": "markdown",
   "metadata": {},
   "source": [
    "Change the column names for clarity:\n"
   ]
  },
  {
   "cell_type": "code",
   "execution_count": 524,
   "metadata": {
    "collapsed": false,
    "execution": {
     "iopub.execute_input": "2023-01-26T14:40:20.825056Z",
     "iopub.status.busy": "2023-01-26T14:40:20.824041Z",
     "iopub.status.idle": "2023-01-26T14:40:20.835075Z",
     "shell.execute_reply": "2023-01-26T14:40:20.835075Z"
    },
    "pycharm": {
     "name": "#%%\n"
    }
   },
   "outputs": [
    {
     "data": {
      "text/plain": "   Gender-female  Gender-male\n0              1            0\n1              1            0\n2              1            0\n3              1            0\n4              1            0",
      "text/html": "<div>\n<style scoped>\n    .dataframe tbody tr th:only-of-type {\n        vertical-align: middle;\n    }\n\n    .dataframe tbody tr th {\n        vertical-align: top;\n    }\n\n    .dataframe thead th {\n        text-align: right;\n    }\n</style>\n<table border=\"1\" class=\"dataframe\">\n  <thead>\n    <tr style=\"text-align: right;\">\n      <th></th>\n      <th>Gender-female</th>\n      <th>Gender-male</th>\n    </tr>\n  </thead>\n  <tbody>\n    <tr>\n      <th>0</th>\n      <td>1</td>\n      <td>0</td>\n    </tr>\n    <tr>\n      <th>1</th>\n      <td>1</td>\n      <td>0</td>\n    </tr>\n    <tr>\n      <th>2</th>\n      <td>1</td>\n      <td>0</td>\n    </tr>\n    <tr>\n      <th>3</th>\n      <td>1</td>\n      <td>0</td>\n    </tr>\n    <tr>\n      <th>4</th>\n      <td>1</td>\n      <td>0</td>\n    </tr>\n  </tbody>\n</table>\n</div>"
     },
     "execution_count": 524,
     "metadata": {},
     "output_type": "execute_result"
    }
   ],
   "source": [
    "dummy_variable_1.rename(columns={'Male':'Gender-male', 'Female':'Gender-female'}, inplace=True)\n",
    "dummy_variable_1.head()"
   ]
  },
  {
   "cell_type": "markdown",
   "metadata": {},
   "source": [
    "In the dataframe, column 'Gender' has values for 'Male' and 'Female' as 0s and 1s now.\n"
   ]
  },
  {
   "cell_type": "code",
   "execution_count": 525,
   "metadata": {
    "collapsed": false,
    "execution": {
     "iopub.execute_input": "2023-01-26T14:40:20.889037Z",
     "iopub.status.busy": "2023-01-26T14:40:20.888036Z",
     "iopub.status.idle": "2023-01-26T14:40:20.899071Z",
     "shell.execute_reply": "2023-01-26T14:40:20.898038Z"
    },
    "pycharm": {
     "name": "#%%\n"
    }
   },
   "outputs": [
    {
     "data": {
      "text/plain": "   Age AgeGroup Locality MaritalStatus  Lifestyle  Sleep Category  Depression  \\\n0   45    41-50    RURAL       MARRIED      False  False     FREE        True   \n1   51    51-60    URBAN       MARRIED      False  False     FREE        True   \n2   55    51-60    RURAL       MARRIED       True   True     FREE        True   \n3   55    51-60    RURAL       MARRIED       True   True     FREE        True   \n4   56    51-60    RURAL       MARRIED       True  False     FREE        True   \n\n   Hyperlipidemia  Smoking  ...  Thal  Num  SK  SKReact  Reaction  Mortality  \\\n0            True    False  ...     7    2   1       NO         0          0   \n1            True    False  ...     7    2   1       NO         0          0   \n2            True    False  ...     3    2   1       NO         0          0   \n3            True    False  ...     7    3   1       NO         0          0   \n4            True    False  ...     7    3   1       NO         0          0   \n\n   FollowUp  Thalach-binned  Gender-female  Gender-male  \n0        60          Medium              1            0  \n1        15          Medium              1            0  \n2         6          Medium              1            0  \n3        52          Medium              1            0  \n4        34          Medium              1            0  \n\n[5 rows x 55 columns]",
      "text/html": "<div>\n<style scoped>\n    .dataframe tbody tr th:only-of-type {\n        vertical-align: middle;\n    }\n\n    .dataframe tbody tr th {\n        vertical-align: top;\n    }\n\n    .dataframe thead th {\n        text-align: right;\n    }\n</style>\n<table border=\"1\" class=\"dataframe\">\n  <thead>\n    <tr style=\"text-align: right;\">\n      <th></th>\n      <th>Age</th>\n      <th>AgeGroup</th>\n      <th>Locality</th>\n      <th>MaritalStatus</th>\n      <th>Lifestyle</th>\n      <th>Sleep</th>\n      <th>Category</th>\n      <th>Depression</th>\n      <th>Hyperlipidemia</th>\n      <th>Smoking</th>\n      <th>...</th>\n      <th>Thal</th>\n      <th>Num</th>\n      <th>SK</th>\n      <th>SKReact</th>\n      <th>Reaction</th>\n      <th>Mortality</th>\n      <th>FollowUp</th>\n      <th>Thalach-binned</th>\n      <th>Gender-female</th>\n      <th>Gender-male</th>\n    </tr>\n  </thead>\n  <tbody>\n    <tr>\n      <th>0</th>\n      <td>45</td>\n      <td>41-50</td>\n      <td>RURAL</td>\n      <td>MARRIED</td>\n      <td>False</td>\n      <td>False</td>\n      <td>FREE</td>\n      <td>True</td>\n      <td>True</td>\n      <td>False</td>\n      <td>...</td>\n      <td>7</td>\n      <td>2</td>\n      <td>1</td>\n      <td>NO</td>\n      <td>0</td>\n      <td>0</td>\n      <td>60</td>\n      <td>Medium</td>\n      <td>1</td>\n      <td>0</td>\n    </tr>\n    <tr>\n      <th>1</th>\n      <td>51</td>\n      <td>51-60</td>\n      <td>URBAN</td>\n      <td>MARRIED</td>\n      <td>False</td>\n      <td>False</td>\n      <td>FREE</td>\n      <td>True</td>\n      <td>True</td>\n      <td>False</td>\n      <td>...</td>\n      <td>7</td>\n      <td>2</td>\n      <td>1</td>\n      <td>NO</td>\n      <td>0</td>\n      <td>0</td>\n      <td>15</td>\n      <td>Medium</td>\n      <td>1</td>\n      <td>0</td>\n    </tr>\n    <tr>\n      <th>2</th>\n      <td>55</td>\n      <td>51-60</td>\n      <td>RURAL</td>\n      <td>MARRIED</td>\n      <td>True</td>\n      <td>True</td>\n      <td>FREE</td>\n      <td>True</td>\n      <td>True</td>\n      <td>False</td>\n      <td>...</td>\n      <td>3</td>\n      <td>2</td>\n      <td>1</td>\n      <td>NO</td>\n      <td>0</td>\n      <td>0</td>\n      <td>6</td>\n      <td>Medium</td>\n      <td>1</td>\n      <td>0</td>\n    </tr>\n    <tr>\n      <th>3</th>\n      <td>55</td>\n      <td>51-60</td>\n      <td>RURAL</td>\n      <td>MARRIED</td>\n      <td>True</td>\n      <td>True</td>\n      <td>FREE</td>\n      <td>True</td>\n      <td>True</td>\n      <td>False</td>\n      <td>...</td>\n      <td>7</td>\n      <td>3</td>\n      <td>1</td>\n      <td>NO</td>\n      <td>0</td>\n      <td>0</td>\n      <td>52</td>\n      <td>Medium</td>\n      <td>1</td>\n      <td>0</td>\n    </tr>\n    <tr>\n      <th>4</th>\n      <td>56</td>\n      <td>51-60</td>\n      <td>RURAL</td>\n      <td>MARRIED</td>\n      <td>True</td>\n      <td>False</td>\n      <td>FREE</td>\n      <td>True</td>\n      <td>True</td>\n      <td>False</td>\n      <td>...</td>\n      <td>7</td>\n      <td>3</td>\n      <td>1</td>\n      <td>NO</td>\n      <td>0</td>\n      <td>0</td>\n      <td>34</td>\n      <td>Medium</td>\n      <td>1</td>\n      <td>0</td>\n    </tr>\n  </tbody>\n</table>\n<p>5 rows × 55 columns</p>\n</div>"
     },
     "execution_count": 525,
     "metadata": {},
     "output_type": "execute_result"
    }
   ],
   "source": [
    "# merge data frame \"df\" and \"dummy_variable_1\"\n",
    "df = pd.concat([df, dummy_variable_1], axis=1)\n",
    "\n",
    "# drop original column \"fuel-type\" from \"df\"\n",
    "df.drop(\"Gender\", axis = 1, inplace=True)\n",
    "df.head()"
   ]
  },
  {
   "cell_type": "markdown",
   "metadata": {},
   "source": [
    "The last two columns are now the indicator variable representation of the fuel-type variable. They're all 0s and 1s now.\n"
   ]
  },
  {
   "cell_type": "markdown",
   "metadata": {},
   "source": [
    "<div class=\"alert alert-danger alertdanger\" style=\"margin-top: 20px\">\n",
    "<h1> Question  #4: </h1>\n",
    "\n",
    "<b>Similar to before, create an indicator variable for the column \"Locality\"</b>\n",
    "\n",
    "</div>\n"
   ]
  },
  {
   "cell_type": "code",
   "execution_count": 526,
   "metadata": {
    "execution": {
     "iopub.execute_input": "2023-01-26T14:40:20.905035Z",
     "iopub.status.busy": "2023-01-26T14:40:20.905035Z",
     "iopub.status.idle": "2023-01-26T14:40:20.915039Z",
     "shell.execute_reply": "2023-01-26T14:40:20.915039Z"
    }
   },
   "outputs": [],
   "source": [
    "# Write your code below and press Shift+Enter to execute"
   ]
  },
  {
   "cell_type": "markdown",
   "metadata": {},
   "source": [
    "<details><summary>Click here for the solution</summary>\n",
    "\n",
    "```python\n",
    "\n",
    "# get indicator variables of aspiration and assign it to data frame \"dummy_variable_2\"\n",
    "dummy_variable_2 = pd.get_dummies(df['Locality'])\n",
    "\n",
    "# change column names for clarity\n",
    "dummy_variable_2.rename(columns={'URBAN':'Locality-urban', 'RURAL': 'Locality-rural'}, inplace=True)\n",
    "\n",
    "# show first 5 instances of data frame \"dummy_variable_1\"\n",
    "dummy_variable_2.head()\n",
    "\n",
    "\n",
    "```\n",
    "\n",
    "</details>\n"
   ]
  },
  {
   "cell_type": "markdown",
   "metadata": {},
   "source": [
    " <div class=\"alert alert-danger alertdanger\" style=\"margin-top: 20px\">\n",
    "<h1> Question  #5: </h1>\n",
    "\n",
    "<b>Merge the new dataframe to the original dataframe, then drop the column 'Locality'.</b>\n",
    "\n",
    "</div>\n"
   ]
  },
  {
   "cell_type": "code",
   "execution_count": 527,
   "metadata": {
    "execution": {
     "iopub.execute_input": "2023-01-26T14:40:20.919040Z",
     "iopub.status.busy": "2023-01-26T14:40:20.918040Z",
     "iopub.status.idle": "2023-01-26T14:40:20.931037Z",
     "shell.execute_reply": "2023-01-26T14:40:20.930036Z"
    }
   },
   "outputs": [],
   "source": [
    "# Write your code below and press Shift+Enter to execute \n"
   ]
  },
  {
   "cell_type": "markdown",
   "metadata": {},
   "source": [
    "<details><summary>Click here for the solution</summary>\n",
    "\n",
    "```python\n",
    "# merge the new dataframe to the original datafram\n",
    "df = pd.concat([df, dummy_variable_2], axis=1)\n",
    "\n",
    "# drop original column \"aspiration\" from \"df\"\n",
    "df.drop('Locality', axis = 1, inplace=True)\n",
    "df.dtypes\n",
    "\n",
    "```\n",
    "\n",
    "</details>\n"
   ]
  },
  {
   "cell_type": "code",
   "execution_count": 528,
   "metadata": {
    "execution": {
     "iopub.execute_input": "2023-01-26T14:40:20.934038Z",
     "iopub.status.busy": "2023-01-26T14:40:20.933036Z",
     "iopub.status.idle": "2023-01-26T14:40:20.947041Z",
     "shell.execute_reply": "2023-01-26T14:40:20.947041Z"
    }
   },
   "outputs": [],
   "source": [
    "df.to_csv('clean_df.csv')"
   ]
  },
  {
   "cell_type": "markdown",
   "metadata": {},
   "source": [
    "Save the new csv:\n",
    "\n",
    "> Note : The  csv file cannot be viewed in the jupyterlite based SN labs environment.\n"
   ]
  },
  {
   "cell_type": "markdown",
   "metadata": {},
   "source": [
    "### Thank you for completing this lab!\n",
    "\n",
    "## Author\n",
    "\n",
    "<a href=\"https://www.linkedin.com/in/joseph-s-50398b136/?utm_medium=Exinfluencer&utm_source=Exinfluencer&utm_content=000026UJ&utm_term=10006555&utm_id=NA-SkillsNetwork-Channel-SkillsNetworkCoursesIBMDeveloperSkillsNetworkDA0101ENSkillsNetwork20235326-2021-01-01\" target=\"_blank\">Joseph Santarcangelo</a>\n",
    "\n",
    "### Other Contributors\n",
    "\n",
    "<a href=\"https://www.linkedin.com/in/mahdi-noorian-58219234/?utm_medium=Exinfluencer&utm_source=Exinfluencer&utm_content=000026UJ&utm_term=10006555&utm_id=NA-SkillsNetwork-Channel-SkillsNetworkCoursesIBMDeveloperSkillsNetworkDA0101ENSkillsNetwork20235326-2021-01-01\" target=\"_blank\">Mahdi Noorian PhD</a>\n",
    "\n",
    "Bahare Talayian\n",
    "\n",
    "Eric Xiao\n",
    "\n",
    "Steven Dong\n",
    "\n",
    "Parizad\n",
    "\n",
    "Hima Vasudevan\n",
    "\n",
    "<a href=\"https://www.linkedin.com/in/fiorellawever/?utm_medium=Exinfluencer&utm_source=Exinfluencer&utm_content=000026UJ&utm_term=10006555&utm_id=NA-SkillsNetwork-Channel-SkillsNetworkCoursesIBMDeveloperSkillsNetworkDA0101ENSkillsNetwork20235326-2021-01-01\" target=\"_blank\">Fiorella Wenver</a>\n",
    "\n",
    "<a href=\"https:// https://www.linkedin.com/in/yi-leng-yao-84451275/ \" target=\"_blank\" >Yi Yao</a>.\n",
    "\n",
    "## Change Log\n",
    "\n",
    "| Date (YYYY-MM-DD) | Version | Changed By | Change Description                  |\n",
    "| ----------------- | ------- | ---------- | ----------------------------------- |\n",
    "| 2022-04-22        | 2.3     | Lakshmi    | Made changes in markdown file       |\n",
    "| 2020-10-30        | 2.2     | Lakshmi    | Changed URL of csv                  |\n",
    "| 2020-09-09        | 2.1     | Lakshmi    | Updated Indicator Variables section |\n",
    "| 2020-08-27        | 2.0     | Lavanya    | Moved lab to course repo in GitLab  |\n",
    "\n",
    "<hr>\n",
    "\n",
    "## <h3 align=\"center\"> © IBM Corporation 2020. All rights reserved. <h3/>\n"
   ]
  }
 ],
 "metadata": {
  "anaconda-cloud": {},
  "kernelspec": {
   "display_name": "Python 3",
   "language": "python",
   "name": "python3"
  },
  "language_info": {
   "codemirror_mode": {
    "name": "ipython",
    "version": 3
   },
   "file_extension": ".py",
   "mimetype": "text/x-python",
   "name": "python",
   "nbconvert_exporter": "python",
   "pygments_lexer": "ipython3",
   "version": "3.8.8"
  }
 },
 "nbformat": 4,
 "nbformat_minor": 4
}