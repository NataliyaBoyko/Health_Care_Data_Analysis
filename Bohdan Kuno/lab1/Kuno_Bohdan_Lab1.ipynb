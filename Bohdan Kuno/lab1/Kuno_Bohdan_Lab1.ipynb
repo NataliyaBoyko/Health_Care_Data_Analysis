{
 "cells": [
  {
   "cell_type": "markdown",
   "metadata": {},
   "source": [
    "<center>\n",
    "    <img src=\"https://cf-courses-data.s3.us.cloud-object-storage.appdomain.cloud/assets/logos/SN_web_lightmode.png\" width=\"300\" alt=\"cognitiveclass.ai logo\">\n",
    "</center>\n",
    "\n",
    "# Forecasting of deaths from Heart Failure on medical measurement\n",
    "\n",
    "# Lab 1. Dataset investigation\n",
    "\n",
    "Estimated time needed: **10** minutes\n",
    "\n",
    "<div>\n",
    "In this course, you will learn how to understand data and learn how to use libraries in Python to help you import data from many sources. You will then learn how to perform some basic tasks to begin exploring and analyzing an imported heart failure prediction dataset and using Pandas.\n",
    "</div>\n",
    "\n",
    "## Objectives\n",
    "\n",
    "After completing this lab you will be able to:\n",
    "\n",
    "*   Acquire data in various ways\n",
    "*   Obtain insights from data with Pandas library\n"
   ]
  },
  {
   "cell_type": "markdown",
   "metadata": {},
   "source": [
    "<h2>Table of Contents</h2>\n",
    "\n",
    "<div class=\"alert alert-block alert-info\" style=\"margin-top: 20px\">\n",
    "<ol>\n",
    "    <li><a href=\"https://#data_acquisition\">Data Acquisition</a>\n",
    "    <li><a href=\"https://#basic_insight\">Basic Insight of Dataset</a></li>\n",
    "</ol>\n",
    "\n",
    "</div>\n",
    "<hr>\n"
   ]
  },
  {
   "cell_type": "markdown",
   "metadata": {},
   "source": [
    "<h1 id=\"data_acquisition\">Data Acquisition</h1>\n",
    "<p>\n",
    "There are various formats for a dataset: .csv, .json, .xlsx  etc. The dataset can be stored in different places, on your local machine or sometimes online.<br>\n",
    "\n",
    "In this section, you will learn how to load a dataset into our Jupyter Notebook.<br>\n",
    "\n",
    "In our case, the Heart Failure Dataset is an online source, and it is in a CSV (comma separated value) format. Let's use this dataset as an example to practice data reading.\n",
    "\n",
    "    \n",
    "The main goal of investigation is to create a model for predicting mortality caused by Heart Failure. The dataset contains complete history of heart patients, the data was collected from a Pakistan hospital in Faisalabad named Institute of Cardiology.  \n",
    "    \n",
    "    \n",
    "<ul>\n",
    "    <li>Data source: <a href=\"https://www.kaggle.com/datasets/asgharalikhan/mortality-rate-heart-patient-pakistan-hospital?utm_medium=Exinfluencer&utm_source=Exinfluencer&utm_content=000026UJ&utm_term=10006555&utm_id=NA-SkillsNetwork-Channel-SkillsNetworkGuidedProjectsIBMSkillsNetworkGPXX0RS9EN2296-2022-01-01\" target=\"_blank\">https://www.kaggle.com/datasets/asgharalikhan/mortality-rate-heart-patient-pakistan-hospital</a></li>\n",
    "    <li>Data type: csv</li>\n",
    "</ul>\n",
    "The Pandas Library is a useful tool that enables us to read various datasets into a dataframe; our Jupyter notebook platforms have a built-in <b>Pandas Library</b> so that all we need to do is import Pandas without installing.\n",
    "</p>\n"
   ]
  },
  {
   "cell_type": "code",
   "execution_count": 1,
   "metadata": {},
   "outputs": [],
   "source": [
    "#install specific version of libraries used in  lab\n",
    "#! mamba install pandas==1.3.3  -y\n",
    "#! mamba install numpy=1.21.2 -y"
   ]
  },
  {
   "cell_type": "code",
   "execution_count": 2,
   "metadata": {},
   "outputs": [],
   "source": [
    "# import pandas library\n",
    "import pandas as pd\n",
    "import numpy as np"
   ]
  },
  {
   "cell_type": "markdown",
   "metadata": {},
   "source": [
    "<h2>Read Data</h2>\n",
    "<p>\n",
    "We use <code>pandas.read_csv()</code> function to read the csv file. In the brackets, we put the file path along with a quotation mark so that pandas will read the file into a dataframe from that address. The file path can be either an URL or your local file address.<br>\n",
    "\n",
    "You can also assign the dataset to any variable you create.\n",
    "\n",
    "</p>\n"
   ]
  },
  {
   "cell_type": "code",
   "execution_count": 3,
   "metadata": {},
   "outputs": [],
   "source": [
    "path = \"https://cf-courses-data.s3.us.cloud-object-storage.appdomain.cloud/IBMSkillsNetwork-GPXX0RS9EN/heart_failure_data.csv\""
   ]
  },
  {
   "cell_type": "code",
   "execution_count": 4,
   "metadata": {},
   "outputs": [],
   "source": [
    "# Read the online file by the URL provides above, and assign it to variable \"df\"\n",
    "\n",
    "df = pd.read_csv(path)"
   ]
  },
  {
   "cell_type": "markdown",
   "metadata": {},
   "source": [
    "After reading the dataset, we can use the <code>dataframe.head(n)</code> method to check the top n rows of the dataframe, where n is an integer. Contrary to <code>dataframe.head(n)</code>, <code>dataframe.tail(n)</code> will show you the bottom n rows of the dataframe.\n"
   ]
  },
  {
   "cell_type": "code",
   "execution_count": 5,
   "metadata": {},
   "outputs": [
    {
     "name": "stdout",
     "output_type": "stream",
     "text": [
      "The first 5 rows of the dataframe\n"
     ]
    },
    {
     "data": {
      "text/plain": "   Age Age.Group  Gender Locality Marital status Life.Style Sleep Category  \\\n0   45     41-50  Female    RURAL        MARRIED         NO    NO     FREE   \n1   51     51-60  Female    URBAN        MARRIED         NO    NO     FREE   \n2   55     51-60  Female    RURAL        MARRIED        YES   YES     FREE   \n3   55     51-60  Female    RURAL        MARRIED        YES   YES     FREE   \n4   56     51-60  Female    RURAL        MARRIED        YES    NO     FREE   \n\n  Depression Hyperlipi  ... oldpeak slope  ca  thal num SK  SK.React  \\\n0        YES       YES  ...     3.0     2   0     7   2  1        NO   \n1        YES       YES  ...     1.2     2   0     7   2  1        NO   \n2        YES       YES  ...     3.4     2   0     3   2  1        NO   \n3        YES       YES  ...     2.0     2   1     7   3  1        NO   \n4        YES       YES  ...     4.0     3   2     7   3  1        NO   \n\n   Reaction  Mortality  Follow.Up  \n0         0          0         60  \n1         0          0         15  \n2         0          0          6  \n3         0          0         52  \n4         0          0         34  \n\n[5 rows x 60 columns]",
      "text/html": "<div>\n<style scoped>\n    .dataframe tbody tr th:only-of-type {\n        vertical-align: middle;\n    }\n\n    .dataframe tbody tr th {\n        vertical-align: top;\n    }\n\n    .dataframe thead th {\n        text-align: right;\n    }\n</style>\n<table border=\"1\" class=\"dataframe\">\n  <thead>\n    <tr style=\"text-align: right;\">\n      <th></th>\n      <th>Age</th>\n      <th>Age.Group</th>\n      <th>Gender</th>\n      <th>Locality</th>\n      <th>Marital status</th>\n      <th>Life.Style</th>\n      <th>Sleep</th>\n      <th>Category</th>\n      <th>Depression</th>\n      <th>Hyperlipi</th>\n      <th>...</th>\n      <th>oldpeak</th>\n      <th>slope</th>\n      <th>ca</th>\n      <th>thal</th>\n      <th>num</th>\n      <th>SK</th>\n      <th>SK.React</th>\n      <th>Reaction</th>\n      <th>Mortality</th>\n      <th>Follow.Up</th>\n    </tr>\n  </thead>\n  <tbody>\n    <tr>\n      <th>0</th>\n      <td>45</td>\n      <td>41-50</td>\n      <td>Female</td>\n      <td>RURAL</td>\n      <td>MARRIED</td>\n      <td>NO</td>\n      <td>NO</td>\n      <td>FREE</td>\n      <td>YES</td>\n      <td>YES</td>\n      <td>...</td>\n      <td>3.0</td>\n      <td>2</td>\n      <td>0</td>\n      <td>7</td>\n      <td>2</td>\n      <td>1</td>\n      <td>NO</td>\n      <td>0</td>\n      <td>0</td>\n      <td>60</td>\n    </tr>\n    <tr>\n      <th>1</th>\n      <td>51</td>\n      <td>51-60</td>\n      <td>Female</td>\n      <td>URBAN</td>\n      <td>MARRIED</td>\n      <td>NO</td>\n      <td>NO</td>\n      <td>FREE</td>\n      <td>YES</td>\n      <td>YES</td>\n      <td>...</td>\n      <td>1.2</td>\n      <td>2</td>\n      <td>0</td>\n      <td>7</td>\n      <td>2</td>\n      <td>1</td>\n      <td>NO</td>\n      <td>0</td>\n      <td>0</td>\n      <td>15</td>\n    </tr>\n    <tr>\n      <th>2</th>\n      <td>55</td>\n      <td>51-60</td>\n      <td>Female</td>\n      <td>RURAL</td>\n      <td>MARRIED</td>\n      <td>YES</td>\n      <td>YES</td>\n      <td>FREE</td>\n      <td>YES</td>\n      <td>YES</td>\n      <td>...</td>\n      <td>3.4</td>\n      <td>2</td>\n      <td>0</td>\n      <td>3</td>\n      <td>2</td>\n      <td>1</td>\n      <td>NO</td>\n      <td>0</td>\n      <td>0</td>\n      <td>6</td>\n    </tr>\n    <tr>\n      <th>3</th>\n      <td>55</td>\n      <td>51-60</td>\n      <td>Female</td>\n      <td>RURAL</td>\n      <td>MARRIED</td>\n      <td>YES</td>\n      <td>YES</td>\n      <td>FREE</td>\n      <td>YES</td>\n      <td>YES</td>\n      <td>...</td>\n      <td>2.0</td>\n      <td>2</td>\n      <td>1</td>\n      <td>7</td>\n      <td>3</td>\n      <td>1</td>\n      <td>NO</td>\n      <td>0</td>\n      <td>0</td>\n      <td>52</td>\n    </tr>\n    <tr>\n      <th>4</th>\n      <td>56</td>\n      <td>51-60</td>\n      <td>Female</td>\n      <td>RURAL</td>\n      <td>MARRIED</td>\n      <td>YES</td>\n      <td>NO</td>\n      <td>FREE</td>\n      <td>YES</td>\n      <td>YES</td>\n      <td>...</td>\n      <td>4.0</td>\n      <td>3</td>\n      <td>2</td>\n      <td>7</td>\n      <td>3</td>\n      <td>1</td>\n      <td>NO</td>\n      <td>0</td>\n      <td>0</td>\n      <td>34</td>\n    </tr>\n  </tbody>\n</table>\n<p>5 rows × 60 columns</p>\n</div>"
     },
     "execution_count": 5,
     "metadata": {},
     "output_type": "execute_result"
    }
   ],
   "source": [
    "# show the first 5 rows using dataframe.head() method\n",
    "print(\"The first 5 rows of the dataframe\") \n",
    "df.head(5)"
   ]
  },
  {
   "cell_type": "markdown",
   "metadata": {},
   "source": [
    "<div class=\"alert alert-danger alertdanger\" style=\"margin-top: 20px\">\n",
    "<h1> Question #1: </h1>\n",
    "<b>Check the bottom 10 rows of data frame \"df\".</b>\n",
    "</div>\n"
   ]
  },
  {
   "cell_type": "code",
   "execution_count": 6,
   "metadata": {},
   "outputs": [],
   "source": [
    "# Write your code below and press Shift+Enter to execute\n"
   ]
  },
  {
   "cell_type": "markdown",
   "metadata": {},
   "source": [
    "<details><summary>Click here for the solution</summary>\n",
    "\n",
    "```python\n",
    "print(\"The last 10 rows of the dataframe\\n\")\n",
    "df.tail(10)\n",
    "```\n"
   ]
  },
  {
   "cell_type": "markdown",
   "metadata": {},
   "source": [
    "<h3>Delete unnecessary columns</h3>\n",
    "<p>\n",
    "This dataset has big number of columns. Some of them are unnecessary and incomprehensible. Let`s reduce this amount to simplify our future work with this dataset.\n",
    "</p>\n",
    "<p>\n",
    "It can be done in three ways:\n",
    "</p>\n",
    "<p>\n",
    "DataFrame has a method called <code>drop()</code> that removes rows or columns according to specify column(label) names and corresponding axis.\n",
    "</p>\n",
    "<p>\n",
    "<code>del</code> is also an option, you can delete a column by <code>del df['column name']</code>. The Python would map this operation to <code>df.__delitem__('column name')</code>, which is an internal method of DataFrame.\n",
    "</p>\n",
    "<p>\n",
    "<code>pop()</code> function would also drop the column. Unlike the other two methods, this function would return the column.\n",
    "</p>\n",
    "<p>\n",
    "Let`s try the first one.\n",
    "</p>\n"
   ]
  },
  {
   "cell_type": "code",
   "execution_count": 7,
   "metadata": {},
   "outputs": [
    {
     "data": {
      "text/plain": "     Age Age.Group  Gender Locality Marital status Life.Style Sleep Category  \\\n0     45     41-50  Female    RURAL        MARRIED         NO    NO     FREE   \n1     51     51-60  Female    URBAN        MARRIED         NO    NO     FREE   \n2     55     51-60  Female    RURAL        MARRIED        YES   YES     FREE   \n3     55     51-60  Female    RURAL        MARRIED        YES   YES     FREE   \n4     56     51-60  Female    RURAL        MARRIED        YES    NO     FREE   \n..   ...       ...     ...      ...            ...        ...   ...      ...   \n363   55     51-60    Male    URBAN        MARRIED         NO    NO     FREE   \n364   55     51-60    Male    RURAL        MARRIED        YES    NO     FREE   \n365   58     51-60    Male    URBAN        MARRIED         NO    NO     FREE   \n366   58     51-60    Male    URBAN        MARRIED         NO    NO     FREE   \n367   50     41-50    Male    RURAL        MARRIED        YES    NO     FREE   \n\n    Depression Hyperlipi  ... oldpeak  slope ca thal  num  SK  \\\n0          YES       YES  ...     3.0      2  0    7    2   1   \n1          YES       YES  ...     1.2      2  0    7    2   1   \n2          YES       YES  ...     3.4      2  0    3    2   1   \n3          YES       YES  ...     2.0      2  1    7    3   1   \n4          YES       YES  ...     4.0      3  2    7    3   1   \n..         ...       ...  ...     ...    ... ..  ...  ...  ..   \n363        YES        NO  ...     0.5      2  0    7    3   0   \n364        YES       YES  ...     2.0      2  3    7    3   1   \n365        YES       YES  ...     0.8      1  3    3    1   1   \n366        YES       YES  ...     2.6      2  0    7    4   1   \n367        YES       YES  ...     0.6      2  1    7    1   1   \n\n             SK.React  Reaction  Mortality  Follow.Up  \n0                  NO         0          0         60  \n1                  NO         0          0         15  \n2                  NO         0          0          6  \n3                  NO         0          0         52  \n4                  NO         0          0         34  \n..                ...       ...        ...        ...  \n363         BODY.PAIN         1          0         60  \n364  STOMACH.BLEEDING         1          0         36  \n365    COUGH.BLEEDING         1          0         32  \n366    COUGH.BLEEDING         1          0         32  \n367         BODY.PAIN         1          0         15  \n\n[368 rows x 53 columns]",
      "text/html": "<div>\n<style scoped>\n    .dataframe tbody tr th:only-of-type {\n        vertical-align: middle;\n    }\n\n    .dataframe tbody tr th {\n        vertical-align: top;\n    }\n\n    .dataframe thead th {\n        text-align: right;\n    }\n</style>\n<table border=\"1\" class=\"dataframe\">\n  <thead>\n    <tr style=\"text-align: right;\">\n      <th></th>\n      <th>Age</th>\n      <th>Age.Group</th>\n      <th>Gender</th>\n      <th>Locality</th>\n      <th>Marital status</th>\n      <th>Life.Style</th>\n      <th>Sleep</th>\n      <th>Category</th>\n      <th>Depression</th>\n      <th>Hyperlipi</th>\n      <th>...</th>\n      <th>oldpeak</th>\n      <th>slope</th>\n      <th>ca</th>\n      <th>thal</th>\n      <th>num</th>\n      <th>SK</th>\n      <th>SK.React</th>\n      <th>Reaction</th>\n      <th>Mortality</th>\n      <th>Follow.Up</th>\n    </tr>\n  </thead>\n  <tbody>\n    <tr>\n      <th>0</th>\n      <td>45</td>\n      <td>41-50</td>\n      <td>Female</td>\n      <td>RURAL</td>\n      <td>MARRIED</td>\n      <td>NO</td>\n      <td>NO</td>\n      <td>FREE</td>\n      <td>YES</td>\n      <td>YES</td>\n      <td>...</td>\n      <td>3.0</td>\n      <td>2</td>\n      <td>0</td>\n      <td>7</td>\n      <td>2</td>\n      <td>1</td>\n      <td>NO</td>\n      <td>0</td>\n      <td>0</td>\n      <td>60</td>\n    </tr>\n    <tr>\n      <th>1</th>\n      <td>51</td>\n      <td>51-60</td>\n      <td>Female</td>\n      <td>URBAN</td>\n      <td>MARRIED</td>\n      <td>NO</td>\n      <td>NO</td>\n      <td>FREE</td>\n      <td>YES</td>\n      <td>YES</td>\n      <td>...</td>\n      <td>1.2</td>\n      <td>2</td>\n      <td>0</td>\n      <td>7</td>\n      <td>2</td>\n      <td>1</td>\n      <td>NO</td>\n      <td>0</td>\n      <td>0</td>\n      <td>15</td>\n    </tr>\n    <tr>\n      <th>2</th>\n      <td>55</td>\n      <td>51-60</td>\n      <td>Female</td>\n      <td>RURAL</td>\n      <td>MARRIED</td>\n      <td>YES</td>\n      <td>YES</td>\n      <td>FREE</td>\n      <td>YES</td>\n      <td>YES</td>\n      <td>...</td>\n      <td>3.4</td>\n      <td>2</td>\n      <td>0</td>\n      <td>3</td>\n      <td>2</td>\n      <td>1</td>\n      <td>NO</td>\n      <td>0</td>\n      <td>0</td>\n      <td>6</td>\n    </tr>\n    <tr>\n      <th>3</th>\n      <td>55</td>\n      <td>51-60</td>\n      <td>Female</td>\n      <td>RURAL</td>\n      <td>MARRIED</td>\n      <td>YES</td>\n      <td>YES</td>\n      <td>FREE</td>\n      <td>YES</td>\n      <td>YES</td>\n      <td>...</td>\n      <td>2.0</td>\n      <td>2</td>\n      <td>1</td>\n      <td>7</td>\n      <td>3</td>\n      <td>1</td>\n      <td>NO</td>\n      <td>0</td>\n      <td>0</td>\n      <td>52</td>\n    </tr>\n    <tr>\n      <th>4</th>\n      <td>56</td>\n      <td>51-60</td>\n      <td>Female</td>\n      <td>RURAL</td>\n      <td>MARRIED</td>\n      <td>YES</td>\n      <td>NO</td>\n      <td>FREE</td>\n      <td>YES</td>\n      <td>YES</td>\n      <td>...</td>\n      <td>4.0</td>\n      <td>3</td>\n      <td>2</td>\n      <td>7</td>\n      <td>3</td>\n      <td>1</td>\n      <td>NO</td>\n      <td>0</td>\n      <td>0</td>\n      <td>34</td>\n    </tr>\n    <tr>\n      <th>...</th>\n      <td>...</td>\n      <td>...</td>\n      <td>...</td>\n      <td>...</td>\n      <td>...</td>\n      <td>...</td>\n      <td>...</td>\n      <td>...</td>\n      <td>...</td>\n      <td>...</td>\n      <td>...</td>\n      <td>...</td>\n      <td>...</td>\n      <td>...</td>\n      <td>...</td>\n      <td>...</td>\n      <td>...</td>\n      <td>...</td>\n      <td>...</td>\n      <td>...</td>\n      <td>...</td>\n    </tr>\n    <tr>\n      <th>363</th>\n      <td>55</td>\n      <td>51-60</td>\n      <td>Male</td>\n      <td>URBAN</td>\n      <td>MARRIED</td>\n      <td>NO</td>\n      <td>NO</td>\n      <td>FREE</td>\n      <td>YES</td>\n      <td>NO</td>\n      <td>...</td>\n      <td>0.5</td>\n      <td>2</td>\n      <td>0</td>\n      <td>7</td>\n      <td>3</td>\n      <td>0</td>\n      <td>BODY.PAIN</td>\n      <td>1</td>\n      <td>0</td>\n      <td>60</td>\n    </tr>\n    <tr>\n      <th>364</th>\n      <td>55</td>\n      <td>51-60</td>\n      <td>Male</td>\n      <td>RURAL</td>\n      <td>MARRIED</td>\n      <td>YES</td>\n      <td>NO</td>\n      <td>FREE</td>\n      <td>YES</td>\n      <td>YES</td>\n      <td>...</td>\n      <td>2.0</td>\n      <td>2</td>\n      <td>3</td>\n      <td>7</td>\n      <td>3</td>\n      <td>1</td>\n      <td>STOMACH.BLEEDING</td>\n      <td>1</td>\n      <td>0</td>\n      <td>36</td>\n    </tr>\n    <tr>\n      <th>365</th>\n      <td>58</td>\n      <td>51-60</td>\n      <td>Male</td>\n      <td>URBAN</td>\n      <td>MARRIED</td>\n      <td>NO</td>\n      <td>NO</td>\n      <td>FREE</td>\n      <td>YES</td>\n      <td>YES</td>\n      <td>...</td>\n      <td>0.8</td>\n      <td>1</td>\n      <td>3</td>\n      <td>3</td>\n      <td>1</td>\n      <td>1</td>\n      <td>COUGH.BLEEDING</td>\n      <td>1</td>\n      <td>0</td>\n      <td>32</td>\n    </tr>\n    <tr>\n      <th>366</th>\n      <td>58</td>\n      <td>51-60</td>\n      <td>Male</td>\n      <td>URBAN</td>\n      <td>MARRIED</td>\n      <td>NO</td>\n      <td>NO</td>\n      <td>FREE</td>\n      <td>YES</td>\n      <td>YES</td>\n      <td>...</td>\n      <td>2.6</td>\n      <td>2</td>\n      <td>0</td>\n      <td>7</td>\n      <td>4</td>\n      <td>1</td>\n      <td>COUGH.BLEEDING</td>\n      <td>1</td>\n      <td>0</td>\n      <td>32</td>\n    </tr>\n    <tr>\n      <th>367</th>\n      <td>50</td>\n      <td>41-50</td>\n      <td>Male</td>\n      <td>RURAL</td>\n      <td>MARRIED</td>\n      <td>YES</td>\n      <td>NO</td>\n      <td>FREE</td>\n      <td>YES</td>\n      <td>YES</td>\n      <td>...</td>\n      <td>0.6</td>\n      <td>2</td>\n      <td>1</td>\n      <td>7</td>\n      <td>1</td>\n      <td>1</td>\n      <td>BODY.PAIN</td>\n      <td>1</td>\n      <td>0</td>\n      <td>15</td>\n    </tr>\n  </tbody>\n</table>\n<p>368 rows × 53 columns</p>\n</div>"
     },
     "execution_count": 7,
     "metadata": {},
     "output_type": "execute_result"
    }
   ],
   "source": [
    "columns = [\"F.History\", \"Family.History\", \"B.Urea\", \"S.Cr\", \"S.Sodium\", \"S.Potassium\", \"S.Chloride\"]\n",
    "df = df.drop(columns = columns)\n",
    "df"
   ]
  },
  {
   "cell_type": "markdown",
   "metadata": {},
   "source": [
    "<div class=\"alert alert-danger alertdanger\" style=\"margin-top: 20px\">\n",
    "<h1> Question #2: </h1>\n",
    "<b>Delete a column with a del method.</b>\n",
    "</div>\n"
   ]
  },
  {
   "cell_type": "code",
   "execution_count": 8,
   "metadata": {},
   "outputs": [],
   "source": [
    "# Write your code below and press Shift+Enter to execute\n"
   ]
  },
  {
   "cell_type": "markdown",
   "metadata": {},
   "source": [
    "<details><summary>Click here for the solution</summary>\n",
    "\n",
    "```python\n",
    "del df['ca']\n",
    "```\n",
    "\n",
    "</details>\n"
   ]
  },
  {
   "cell_type": "markdown",
   "metadata": {},
   "source": [
    "<h3>Change Headers</h3>\n",
    "<p>\n",
    "Take a look at our dataset. Pandas automatically set the header with a first row of .csv file.\n",
    "</p>\n",
    "<p>\n",
    "To better describe our data, we can introduce a header. This information is available at:  <a href=\"https://www.kaggle.com/datasets/asgharalikhan/mortality-rate-heart-patient-pakistan-hospital?utm_medium=Exinfluencer&utm_source=Exinfluencer&utm_content=000026UJ&utm_term=10006555&utm_id=NA-SkillsNetwork-Channel-SkillsNetworkGuidedProjectsIBMSkillsNetworkGPXX0RS9EN2296-2022-01-01\" target=\"_blank\">https://www.kaggle.com/datasets/asgharalikhan/mortality-rate-heart-patient-pakistan-hospital</a>.\n",
    "</p>\n",
    "<p>\n",
    "Thus, we can change headers of this dataset manually to make them look proper.\n",
    "</p>\n",
    "<p>\n",
    "First, we create a list \"headers\" that include all column names in order.\n",
    "Then, we use <code>dataframe.columns = headers</code> to replace the headers with the list we created.\n",
    "</p>\n"
   ]
  },
  {
   "cell_type": "code",
   "execution_count": 9,
   "metadata": {},
   "outputs": [
    {
     "name": "stdout",
     "output_type": "stream",
     "text": [
      "headers\n",
      " ['Age', 'Age Group', 'Gender', 'Locality', 'Marital Status', 'Lifestyle', 'Sleep', 'Category', 'Depression', 'Hyperlipidemia', 'Smoking', 'Diabetes', 'HTN', 'Allergies', 'BP', 'Thrombolysis', 'BGR', 'CPK', 'CK-MB', 'ESR', 'WBC', 'RBC', 'Hemoglobin', 'PCV', 'MCV', 'MCH', 'MCHC', 'PlateletCount', 'Neutrophil', 'Lymphocyte', 'Monocyte', 'Eosinophil', 'Others', 'CO', 'Diagnosis', 'Hypersensitivity', 'Chest pain type', 'Resting BP', 'Serum cholesterol', 'FBS', 'Resting electrocardiographic', 'Max heart rate', 'Angina', 'ST depression', 'Slope', 'Vessels num', 'Thal', 'Num', 'Streptokinase', 'SK React', 'Reaction', 'Mortality', 'Follow up']\n"
     ]
    }
   ],
   "source": [
    "headers = [\"Age\", \"Age Group\", \"Gender\", \"Locality\", \"Marital Status\", \"Lifestyle\", \"Sleep\", \"Category\", \"Depression\",\n",
    "            \"Hyperlipidemia\", \"Smoking\", \"Diabetes\", \"HTN\", \"Allergies\", \"BP\", \"Thrombolysis\", \"BGR\", \"CPK\", \"CK-MB\",\n",
    "            \"ESR\", \"WBC\", \"RBC\", \"Hemoglobin\", \"PCV\", \"MCV\", \"MCH\", \"MCHC\", \"PlateletCount\", \"Neutrophil\",\n",
    "            \"Lymphocyte\", \"Monocyte\", \"Eosinophil\", \"Others\", \"CO\", \"Diagnosis\", \"Hypersensitivity\", \"Chest pain type\", \n",
    "            \"Resting BP\", \"Serum cholesterol\", \"FBS\", \"Resting electrocardiographic\", \"Max heart rate\", \"Angina\",\n",
    "            \"ST depression\", \"Slope\", \"Vessels num\", \"Thal\", \"Num\", \"Streptokinase\", \"SK React\", \"Reaction\",\n",
    "            \"Mortality\", \"Follow up\"]\n",
    "print(\"headers\\n\", headers)"
   ]
  },
  {
   "cell_type": "markdown",
   "metadata": {},
   "source": [
    "We replace headers and recheck our dataframe:\n"
   ]
  },
  {
   "cell_type": "code",
   "execution_count": 10,
   "metadata": {},
   "outputs": [
    {
     "data": {
      "text/plain": "   Age Age Group  Gender Locality Marital Status Lifestyle Sleep Category  \\\n0   45     41-50  Female    RURAL        MARRIED        NO    NO     FREE   \n1   51     51-60  Female    URBAN        MARRIED        NO    NO     FREE   \n2   55     51-60  Female    RURAL        MARRIED       YES   YES     FREE   \n3   55     51-60  Female    RURAL        MARRIED       YES   YES     FREE   \n4   56     51-60  Female    RURAL        MARRIED       YES    NO     FREE   \n5   56     51-60  Female    URBAN        MARRIED        NO    NO     FREE   \n6   57     51-60  Female    RURAL        MARRIED       YES   YES     PAID   \n7   57     51-60  Female    RURAL        MARRIED        NO    NO     FREE   \n8   58     51-60  Female    URBAN        MARRIED        NO    NO     FREE   \n9   58     51-60  Female    RURAL        MARRIED       YES   YES     FREE   \n\n  Depression Hyperlipidemia  ... ST depression  Slope Vessels num Thal  Num  \\\n0        YES            YES  ...           3.0      2           0    7    2   \n1        YES            YES  ...           1.2      2           0    7    2   \n2        YES            YES  ...           3.4      2           0    3    2   \n3        YES            YES  ...           2.0      2           1    7    3   \n4        YES            YES  ...           4.0      3           2    7    3   \n5        YES            YES  ...           1.9      2           2    7    2   \n6        YES            YES  ...           0.2      2           0    7    1   \n7        YES            YES  ...           0.0      2           1    3    1   \n8        YES            YES  ...           0.0      1           2    3    3   \n9        YES            YES  ...           2.8      2           2    6    2   \n\n   Streptokinase  SK React  Reaction  Mortality  Follow up  \n0              1        NO         0          0         60  \n1              1        NO         0          0         15  \n2              1        NO         0          0          6  \n3              1        NO         0          0         52  \n4              1        NO         0          0         34  \n5              1        NO         0          1         32  \n6              1        NO         0          0         60  \n7              1        NO         0          1          3  \n8              1        NO         0          0         15  \n9              1        NO         0          0          6  \n\n[10 rows x 53 columns]",
      "text/html": "<div>\n<style scoped>\n    .dataframe tbody tr th:only-of-type {\n        vertical-align: middle;\n    }\n\n    .dataframe tbody tr th {\n        vertical-align: top;\n    }\n\n    .dataframe thead th {\n        text-align: right;\n    }\n</style>\n<table border=\"1\" class=\"dataframe\">\n  <thead>\n    <tr style=\"text-align: right;\">\n      <th></th>\n      <th>Age</th>\n      <th>Age Group</th>\n      <th>Gender</th>\n      <th>Locality</th>\n      <th>Marital Status</th>\n      <th>Lifestyle</th>\n      <th>Sleep</th>\n      <th>Category</th>\n      <th>Depression</th>\n      <th>Hyperlipidemia</th>\n      <th>...</th>\n      <th>ST depression</th>\n      <th>Slope</th>\n      <th>Vessels num</th>\n      <th>Thal</th>\n      <th>Num</th>\n      <th>Streptokinase</th>\n      <th>SK React</th>\n      <th>Reaction</th>\n      <th>Mortality</th>\n      <th>Follow up</th>\n    </tr>\n  </thead>\n  <tbody>\n    <tr>\n      <th>0</th>\n      <td>45</td>\n      <td>41-50</td>\n      <td>Female</td>\n      <td>RURAL</td>\n      <td>MARRIED</td>\n      <td>NO</td>\n      <td>NO</td>\n      <td>FREE</td>\n      <td>YES</td>\n      <td>YES</td>\n      <td>...</td>\n      <td>3.0</td>\n      <td>2</td>\n      <td>0</td>\n      <td>7</td>\n      <td>2</td>\n      <td>1</td>\n      <td>NO</td>\n      <td>0</td>\n      <td>0</td>\n      <td>60</td>\n    </tr>\n    <tr>\n      <th>1</th>\n      <td>51</td>\n      <td>51-60</td>\n      <td>Female</td>\n      <td>URBAN</td>\n      <td>MARRIED</td>\n      <td>NO</td>\n      <td>NO</td>\n      <td>FREE</td>\n      <td>YES</td>\n      <td>YES</td>\n      <td>...</td>\n      <td>1.2</td>\n      <td>2</td>\n      <td>0</td>\n      <td>7</td>\n      <td>2</td>\n      <td>1</td>\n      <td>NO</td>\n      <td>0</td>\n      <td>0</td>\n      <td>15</td>\n    </tr>\n    <tr>\n      <th>2</th>\n      <td>55</td>\n      <td>51-60</td>\n      <td>Female</td>\n      <td>RURAL</td>\n      <td>MARRIED</td>\n      <td>YES</td>\n      <td>YES</td>\n      <td>FREE</td>\n      <td>YES</td>\n      <td>YES</td>\n      <td>...</td>\n      <td>3.4</td>\n      <td>2</td>\n      <td>0</td>\n      <td>3</td>\n      <td>2</td>\n      <td>1</td>\n      <td>NO</td>\n      <td>0</td>\n      <td>0</td>\n      <td>6</td>\n    </tr>\n    <tr>\n      <th>3</th>\n      <td>55</td>\n      <td>51-60</td>\n      <td>Female</td>\n      <td>RURAL</td>\n      <td>MARRIED</td>\n      <td>YES</td>\n      <td>YES</td>\n      <td>FREE</td>\n      <td>YES</td>\n      <td>YES</td>\n      <td>...</td>\n      <td>2.0</td>\n      <td>2</td>\n      <td>1</td>\n      <td>7</td>\n      <td>3</td>\n      <td>1</td>\n      <td>NO</td>\n      <td>0</td>\n      <td>0</td>\n      <td>52</td>\n    </tr>\n    <tr>\n      <th>4</th>\n      <td>56</td>\n      <td>51-60</td>\n      <td>Female</td>\n      <td>RURAL</td>\n      <td>MARRIED</td>\n      <td>YES</td>\n      <td>NO</td>\n      <td>FREE</td>\n      <td>YES</td>\n      <td>YES</td>\n      <td>...</td>\n      <td>4.0</td>\n      <td>3</td>\n      <td>2</td>\n      <td>7</td>\n      <td>3</td>\n      <td>1</td>\n      <td>NO</td>\n      <td>0</td>\n      <td>0</td>\n      <td>34</td>\n    </tr>\n    <tr>\n      <th>5</th>\n      <td>56</td>\n      <td>51-60</td>\n      <td>Female</td>\n      <td>URBAN</td>\n      <td>MARRIED</td>\n      <td>NO</td>\n      <td>NO</td>\n      <td>FREE</td>\n      <td>YES</td>\n      <td>YES</td>\n      <td>...</td>\n      <td>1.9</td>\n      <td>2</td>\n      <td>2</td>\n      <td>7</td>\n      <td>2</td>\n      <td>1</td>\n      <td>NO</td>\n      <td>0</td>\n      <td>1</td>\n      <td>32</td>\n    </tr>\n    <tr>\n      <th>6</th>\n      <td>57</td>\n      <td>51-60</td>\n      <td>Female</td>\n      <td>RURAL</td>\n      <td>MARRIED</td>\n      <td>YES</td>\n      <td>YES</td>\n      <td>PAID</td>\n      <td>YES</td>\n      <td>YES</td>\n      <td>...</td>\n      <td>0.2</td>\n      <td>2</td>\n      <td>0</td>\n      <td>7</td>\n      <td>1</td>\n      <td>1</td>\n      <td>NO</td>\n      <td>0</td>\n      <td>0</td>\n      <td>60</td>\n    </tr>\n    <tr>\n      <th>7</th>\n      <td>57</td>\n      <td>51-60</td>\n      <td>Female</td>\n      <td>RURAL</td>\n      <td>MARRIED</td>\n      <td>NO</td>\n      <td>NO</td>\n      <td>FREE</td>\n      <td>YES</td>\n      <td>YES</td>\n      <td>...</td>\n      <td>0.0</td>\n      <td>2</td>\n      <td>1</td>\n      <td>3</td>\n      <td>1</td>\n      <td>1</td>\n      <td>NO</td>\n      <td>0</td>\n      <td>1</td>\n      <td>3</td>\n    </tr>\n    <tr>\n      <th>8</th>\n      <td>58</td>\n      <td>51-60</td>\n      <td>Female</td>\n      <td>URBAN</td>\n      <td>MARRIED</td>\n      <td>NO</td>\n      <td>NO</td>\n      <td>FREE</td>\n      <td>YES</td>\n      <td>YES</td>\n      <td>...</td>\n      <td>0.0</td>\n      <td>1</td>\n      <td>2</td>\n      <td>3</td>\n      <td>3</td>\n      <td>1</td>\n      <td>NO</td>\n      <td>0</td>\n      <td>0</td>\n      <td>15</td>\n    </tr>\n    <tr>\n      <th>9</th>\n      <td>58</td>\n      <td>51-60</td>\n      <td>Female</td>\n      <td>RURAL</td>\n      <td>MARRIED</td>\n      <td>YES</td>\n      <td>YES</td>\n      <td>FREE</td>\n      <td>YES</td>\n      <td>YES</td>\n      <td>...</td>\n      <td>2.8</td>\n      <td>2</td>\n      <td>2</td>\n      <td>6</td>\n      <td>2</td>\n      <td>1</td>\n      <td>NO</td>\n      <td>0</td>\n      <td>0</td>\n      <td>6</td>\n    </tr>\n  </tbody>\n</table>\n<p>10 rows × 53 columns</p>\n</div>"
     },
     "execution_count": 10,
     "metadata": {},
     "output_type": "execute_result"
    }
   ],
   "source": [
    "df.columns = headers\n",
    "df.head(10)"
   ]
  },
  {
   "cell_type": "markdown",
   "metadata": {},
   "source": [
    "Now, we have successfully read the raw dataset and added the correct headers into the dataframe.\n"
   ]
  },
  {
   "cell_type": "markdown",
   "metadata": {},
   "source": [
    " <div class=\"alert alert-danger alertdanger\" style=\"margin-top: 20px\">\n",
    "<h1> Question #3: </h1>\n",
    "<b>Find the name of the columns of the dataframe.</b>\n",
    "</div>\n"
   ]
  },
  {
   "cell_type": "code",
   "execution_count": 11,
   "metadata": {},
   "outputs": [],
   "source": [
    "# Write your code below and press Shift+Enter to execute \n"
   ]
  },
  {
   "cell_type": "markdown",
   "metadata": {},
   "source": [
    "<details><summary>Click here for the solution</summary>\n",
    "\n",
    "```python\n",
    "print(df.columns)\n",
    "```\n",
    "\n",
    "</details>\n"
   ]
  },
  {
   "cell_type": "markdown",
   "metadata": {},
   "source": [
    "<h2>Save Dataset</h2>\n",
    "<p>\n",
    "Correspondingly, Pandas enables us to save the dataset to csv. By using the <code>dataframe.to_csv()</code> method, you can add the file path and name along with quotation marks in the brackets.\n",
    "</p>\n",
    "<p>\n",
    "For example, if you would save the dataframe <b>df</b> as <b>heart_failure.csv</b> to your local machine, you may use the syntax below, where <code>index = False</code> means the row names will not be written.\n",
    "</p>\n"
   ]
  },
  {
   "cell_type": "raw",
   "metadata": {},
   "source": [
    "df.to_csv(\"heart_failure.csv\", index=False)"
   ]
  },
  {
   "cell_type": "markdown",
   "metadata": {},
   "source": [
    "We can also read and save other file formats. We can use similar functions like **`pd.read_csv()`** and **`df.to_csv()`** for other data formats. The functions are listed in the following table:\n"
   ]
  },
  {
   "cell_type": "markdown",
   "metadata": {},
   "source": [
    "<h2>Read/Save Other Data Formats</h2>\n",
    "\n",
    "| Data Formate |        Read       |            Save |\n",
    "| ------------ | :---------------: | --------------: |\n",
    "| csv          |  `pd.read_csv()`  |   `df.to_csv()` |\n",
    "| json         |  `pd.read_json()` |  `df.to_json()` |\n",
    "| excel        | `pd.read_excel()` | `df.to_excel()` |\n",
    "| hdf          |  `pd.read_hdf()`  |   `df.to_hdf()` |\n",
    "| sql          |  `pd.read_sql()`  |   `df.to_sql()` |\n",
    "| ...          |        ...        |             ... |\n"
   ]
  },
  {
   "cell_type": "markdown",
   "metadata": {},
   "source": [
    "<h1 id=\"basic_insight\">Basic Insight of Dataset</h1>\n",
    "<p>\n",
    "After reading data into Pandas dataframe, it is time for us to explore the dataset.<br>\n",
    "\n",
    "There are several ways to obtain essential insights of the data to help us better understand our dataset.\n",
    "\n",
    "</p>\n"
   ]
  },
  {
   "cell_type": "markdown",
   "metadata": {},
   "source": [
    "<h2>Data Types</h2>\n",
    "<p>\n",
    "Data has a variety of types.<br>\n",
    "\n",
    "The main types stored in Pandas dataframes are <b>object</b>, <b>float</b>, <b>int</b>, <b>bool</b> and <b>datetime64</b>. In order to better learn about each attribute, it is always good for us to know the data type of each column. In Pandas:\n",
    "\n",
    "</p>\n"
   ]
  },
  {
   "cell_type": "code",
   "execution_count": 12,
   "metadata": {},
   "outputs": [
    {
     "data": {
      "text/plain": "Age                               int64\nAge Group                        object\nGender                           object\nLocality                         object\nMarital Status                   object\nLifestyle                        object\nSleep                            object\nCategory                         object\nDepression                       object\nHyperlipidemia                   object\nSmoking                          object\nDiabetes                          int64\nHTN                              object\nAllergies                        object\nBP                              float64\nThrombolysis                      int64\nBGR                               int64\nCPK                               int64\nCK-MB                             int64\nESR                               int64\nWBC                               int64\nRBC                             float64\nHemoglobin                      float64\nPCV                             float64\nMCV                             float64\nMCH                             float64\nMCHC                            float64\nPlateletCount                     int64\nNeutrophil                      float64\nLymphocyte                      float64\nMonocyte                        float64\nEosinophil                        int64\nOthers                           object\nCO                               object\nDiagnosis                        object\nHypersensitivity                 object\nChest pain type                   int64\nResting BP                        int64\nSerum cholesterol                 int64\nFBS                               int64\nResting electrocardiographic      int64\nMax heart rate                    int64\nAngina                            int64\nST depression                   float64\nSlope                             int64\nVessels num                       int64\nThal                              int64\nNum                               int64\nStreptokinase                     int64\nSK React                         object\nReaction                          int64\nMortality                         int64\nFollow up                         int64\ndtype: object"
     },
     "execution_count": 12,
     "metadata": {},
     "output_type": "execute_result"
    }
   ],
   "source": [
    "df.dtypes\n"
   ]
  },
  {
   "cell_type": "markdown",
   "metadata": {},
   "source": [
    "A series with the data type of each column is returned.\n"
   ]
  },
  {
   "cell_type": "code",
   "execution_count": 13,
   "metadata": {},
   "outputs": [
    {
     "name": "stdout",
     "output_type": "stream",
     "text": [
      "Age                               int64\n",
      "Age Group                        object\n",
      "Gender                           object\n",
      "Locality                         object\n",
      "Marital Status                   object\n",
      "Lifestyle                        object\n",
      "Sleep                            object\n",
      "Category                         object\n",
      "Depression                       object\n",
      "Hyperlipidemia                   object\n",
      "Smoking                          object\n",
      "Diabetes                          int64\n",
      "HTN                              object\n",
      "Allergies                        object\n",
      "BP                              float64\n",
      "Thrombolysis                      int64\n",
      "BGR                               int64\n",
      "CPK                               int64\n",
      "CK-MB                             int64\n",
      "ESR                               int64\n",
      "WBC                               int64\n",
      "RBC                             float64\n",
      "Hemoglobin                      float64\n",
      "PCV                             float64\n",
      "MCV                             float64\n",
      "MCH                             float64\n",
      "MCHC                            float64\n",
      "PlateletCount                     int64\n",
      "Neutrophil                      float64\n",
      "Lymphocyte                      float64\n",
      "Monocyte                        float64\n",
      "Eosinophil                        int64\n",
      "Others                           object\n",
      "CO                               object\n",
      "Diagnosis                        object\n",
      "Hypersensitivity                 object\n",
      "Chest pain type                   int64\n",
      "Resting BP                        int64\n",
      "Serum cholesterol                 int64\n",
      "FBS                               int64\n",
      "Resting electrocardiographic      int64\n",
      "Max heart rate                    int64\n",
      "Angina                            int64\n",
      "ST depression                   float64\n",
      "Slope                             int64\n",
      "Vessels num                       int64\n",
      "Thal                              int64\n",
      "Num                               int64\n",
      "Streptokinase                     int64\n",
      "SK React                         object\n",
      "Reaction                          int64\n",
      "Mortality                         int64\n",
      "Follow up                         int64\n",
      "dtype: object\n"
     ]
    }
   ],
   "source": [
    "# check the data type of data frame \"df\" by .dtypes\n",
    "print(df.dtypes)"
   ]
  },
  {
   "cell_type": "markdown",
   "metadata": {},
   "source": [
    "<p>\n",
    "As shown above, it is clear to see that the data type of \"Age\" and \"Diabetes\" are <code>int64</code>, \"Gender\" and \"Locality\" are <code>object</code>, and \"BP\", \"RBC\" and \"Hemoglobin\" are <code>float64</code>, etc.\n",
    "</p>\n",
    "<p>\n",
    "These data types can be changed. For example, we have some fields like \"Lifestyle\", \"Sleep\", \"Depression\", which are <code>object</code> instead of <code>bool</code>. We will learn how to fix it in a later module.\n",
    "</p>\n"
   ]
  },
  {
   "cell_type": "markdown",
   "metadata": {},
   "source": [
    "<h2>Describe</h2>\n",
    "If we would like to get a statistical summary of each column e.g. count, column mean value, column standard deviation, etc., we use the describe method:\n"
   ]
  },
  {
   "cell_type": "raw",
   "metadata": {},
   "source": [
    "dataframe.describe()"
   ]
  },
  {
   "cell_type": "markdown",
   "metadata": {},
   "source": [
    "This method will provide various summary statistics, excluding <code>NaN</code> (Not a Number) values.\n"
   ]
  },
  {
   "cell_type": "code",
   "execution_count": 14,
   "metadata": {},
   "outputs": [
    {
     "data": {
      "text/plain": "              Age    Diabetes          BP  Thrombolysis         BGR  \\\ncount  368.000000  368.000000  368.000000    368.000000  368.000000   \nmean    54.293478    0.461957  121.213315      0.032609  219.991848   \nstd      8.718158    0.499229   24.539205      0.177852  139.337387   \nmin     24.000000    0.000000   80.500000      0.000000   60.000000   \n25%     50.750000    0.000000  100.700000      0.000000  117.000000   \n50%     55.000000    0.000000  120.800000      0.000000  164.000000   \n75%     60.250000    1.000000  140.700000      0.000000  291.000000   \nmax     77.000000    1.000000  190.110000      1.000000  563.000000   \n\n               CPK       CK-MB         ESR           WBC         RBC  ...  \\\ncount   368.000000  368.000000  368.000000    368.000000  368.000000  ...   \nmean    553.888587   62.491848   26.565217  11181.277174    5.090217  ...   \nstd     957.605017   89.789096   32.579496   3517.876535    0.771962  ...   \nmin      52.000000   14.000000    5.000000   5800.000000    3.460000  ...   \n25%     135.000000   21.000000   11.000000   7800.000000    4.400000  ...   \n50%     188.000000   36.000000   16.000000  10650.000000    5.200000  ...   \n75%     390.000000   52.000000   25.000000  13500.000000    5.650000  ...   \nmax    4289.000000  505.000000  154.000000  19590.000000    6.980000  ...   \n\n           Angina  ST depression       Slope  Vessels num        Thal  \\\ncount  368.000000     368.000000  368.000000   368.000000  368.000000   \nmean     0.562500       1.541848    1.842391     1.002717    5.858696   \nstd      0.496754       1.385381    0.564284     1.037442    1.744319   \nmin      0.000000       0.000000    1.000000     0.000000    3.000000   \n25%      0.000000       0.275000    1.750000     0.000000    3.000000   \n50%      1.000000       1.200000    2.000000     1.000000    7.000000   \n75%      1.000000       2.200000    2.000000     2.000000    7.000000   \nmax      1.000000       6.200000    3.000000     3.000000    7.000000   \n\n              Num  Streptokinase    Reaction   Mortality   Follow up  \ncount  368.000000     368.000000  368.000000  368.000000  368.000000  \nmean     2.035326       0.983696    0.747283    0.217391   28.652174  \nstd      1.031573       0.126816    0.435162    0.413033   15.811860  \nmin      1.000000       0.000000    0.000000    0.000000    1.000000  \n25%      1.000000       1.000000    0.000000    0.000000   15.000000  \n50%      2.000000       1.000000    1.000000    0.000000   32.000000  \n75%      3.000000       1.000000    1.000000    0.000000   36.000000  \nmax      4.000000       1.000000    1.000000    1.000000   60.000000  \n\n[8 rows x 36 columns]",
      "text/html": "<div>\n<style scoped>\n    .dataframe tbody tr th:only-of-type {\n        vertical-align: middle;\n    }\n\n    .dataframe tbody tr th {\n        vertical-align: top;\n    }\n\n    .dataframe thead th {\n        text-align: right;\n    }\n</style>\n<table border=\"1\" class=\"dataframe\">\n  <thead>\n    <tr style=\"text-align: right;\">\n      <th></th>\n      <th>Age</th>\n      <th>Diabetes</th>\n      <th>BP</th>\n      <th>Thrombolysis</th>\n      <th>BGR</th>\n      <th>CPK</th>\n      <th>CK-MB</th>\n      <th>ESR</th>\n      <th>WBC</th>\n      <th>RBC</th>\n      <th>...</th>\n      <th>Angina</th>\n      <th>ST depression</th>\n      <th>Slope</th>\n      <th>Vessels num</th>\n      <th>Thal</th>\n      <th>Num</th>\n      <th>Streptokinase</th>\n      <th>Reaction</th>\n      <th>Mortality</th>\n      <th>Follow up</th>\n    </tr>\n  </thead>\n  <tbody>\n    <tr>\n      <th>count</th>\n      <td>368.000000</td>\n      <td>368.000000</td>\n      <td>368.000000</td>\n      <td>368.000000</td>\n      <td>368.000000</td>\n      <td>368.000000</td>\n      <td>368.000000</td>\n      <td>368.000000</td>\n      <td>368.000000</td>\n      <td>368.000000</td>\n      <td>...</td>\n      <td>368.000000</td>\n      <td>368.000000</td>\n      <td>368.000000</td>\n      <td>368.000000</td>\n      <td>368.000000</td>\n      <td>368.000000</td>\n      <td>368.000000</td>\n      <td>368.000000</td>\n      <td>368.000000</td>\n      <td>368.000000</td>\n    </tr>\n    <tr>\n      <th>mean</th>\n      <td>54.293478</td>\n      <td>0.461957</td>\n      <td>121.213315</td>\n      <td>0.032609</td>\n      <td>219.991848</td>\n      <td>553.888587</td>\n      <td>62.491848</td>\n      <td>26.565217</td>\n      <td>11181.277174</td>\n      <td>5.090217</td>\n      <td>...</td>\n      <td>0.562500</td>\n      <td>1.541848</td>\n      <td>1.842391</td>\n      <td>1.002717</td>\n      <td>5.858696</td>\n      <td>2.035326</td>\n      <td>0.983696</td>\n      <td>0.747283</td>\n      <td>0.217391</td>\n      <td>28.652174</td>\n    </tr>\n    <tr>\n      <th>std</th>\n      <td>8.718158</td>\n      <td>0.499229</td>\n      <td>24.539205</td>\n      <td>0.177852</td>\n      <td>139.337387</td>\n      <td>957.605017</td>\n      <td>89.789096</td>\n      <td>32.579496</td>\n      <td>3517.876535</td>\n      <td>0.771962</td>\n      <td>...</td>\n      <td>0.496754</td>\n      <td>1.385381</td>\n      <td>0.564284</td>\n      <td>1.037442</td>\n      <td>1.744319</td>\n      <td>1.031573</td>\n      <td>0.126816</td>\n      <td>0.435162</td>\n      <td>0.413033</td>\n      <td>15.811860</td>\n    </tr>\n    <tr>\n      <th>min</th>\n      <td>24.000000</td>\n      <td>0.000000</td>\n      <td>80.500000</td>\n      <td>0.000000</td>\n      <td>60.000000</td>\n      <td>52.000000</td>\n      <td>14.000000</td>\n      <td>5.000000</td>\n      <td>5800.000000</td>\n      <td>3.460000</td>\n      <td>...</td>\n      <td>0.000000</td>\n      <td>0.000000</td>\n      <td>1.000000</td>\n      <td>0.000000</td>\n      <td>3.000000</td>\n      <td>1.000000</td>\n      <td>0.000000</td>\n      <td>0.000000</td>\n      <td>0.000000</td>\n      <td>1.000000</td>\n    </tr>\n    <tr>\n      <th>25%</th>\n      <td>50.750000</td>\n      <td>0.000000</td>\n      <td>100.700000</td>\n      <td>0.000000</td>\n      <td>117.000000</td>\n      <td>135.000000</td>\n      <td>21.000000</td>\n      <td>11.000000</td>\n      <td>7800.000000</td>\n      <td>4.400000</td>\n      <td>...</td>\n      <td>0.000000</td>\n      <td>0.275000</td>\n      <td>1.750000</td>\n      <td>0.000000</td>\n      <td>3.000000</td>\n      <td>1.000000</td>\n      <td>1.000000</td>\n      <td>0.000000</td>\n      <td>0.000000</td>\n      <td>15.000000</td>\n    </tr>\n    <tr>\n      <th>50%</th>\n      <td>55.000000</td>\n      <td>0.000000</td>\n      <td>120.800000</td>\n      <td>0.000000</td>\n      <td>164.000000</td>\n      <td>188.000000</td>\n      <td>36.000000</td>\n      <td>16.000000</td>\n      <td>10650.000000</td>\n      <td>5.200000</td>\n      <td>...</td>\n      <td>1.000000</td>\n      <td>1.200000</td>\n      <td>2.000000</td>\n      <td>1.000000</td>\n      <td>7.000000</td>\n      <td>2.000000</td>\n      <td>1.000000</td>\n      <td>1.000000</td>\n      <td>0.000000</td>\n      <td>32.000000</td>\n    </tr>\n    <tr>\n      <th>75%</th>\n      <td>60.250000</td>\n      <td>1.000000</td>\n      <td>140.700000</td>\n      <td>0.000000</td>\n      <td>291.000000</td>\n      <td>390.000000</td>\n      <td>52.000000</td>\n      <td>25.000000</td>\n      <td>13500.000000</td>\n      <td>5.650000</td>\n      <td>...</td>\n      <td>1.000000</td>\n      <td>2.200000</td>\n      <td>2.000000</td>\n      <td>2.000000</td>\n      <td>7.000000</td>\n      <td>3.000000</td>\n      <td>1.000000</td>\n      <td>1.000000</td>\n      <td>0.000000</td>\n      <td>36.000000</td>\n    </tr>\n    <tr>\n      <th>max</th>\n      <td>77.000000</td>\n      <td>1.000000</td>\n      <td>190.110000</td>\n      <td>1.000000</td>\n      <td>563.000000</td>\n      <td>4289.000000</td>\n      <td>505.000000</td>\n      <td>154.000000</td>\n      <td>19590.000000</td>\n      <td>6.980000</td>\n      <td>...</td>\n      <td>1.000000</td>\n      <td>6.200000</td>\n      <td>3.000000</td>\n      <td>3.000000</td>\n      <td>7.000000</td>\n      <td>4.000000</td>\n      <td>1.000000</td>\n      <td>1.000000</td>\n      <td>1.000000</td>\n      <td>60.000000</td>\n    </tr>\n  </tbody>\n</table>\n<p>8 rows × 36 columns</p>\n</div>"
     },
     "execution_count": 14,
     "metadata": {},
     "output_type": "execute_result"
    }
   ],
   "source": [
    "df.describe()"
   ]
  },
  {
   "cell_type": "markdown",
   "metadata": {},
   "source": [
    "<p>\n",
    "This shows the statistical summary of all numeric-typed (int, float) columns.<br>\n",
    "\n",
    "For example, the attribute \"BP\" (blood pressure) has 368 counts, the mean value of this column is 121.21, the standard deviation is 24.54, the minimum value is 80.5, 25th percentile is 100.7, 50th percentile is 120.8, 75th percentile is 140.7, and the maximum value is 109.11. <br>\n",
    "\n",
    "However, what if we would also like to check all the columns including those that are of type object? <br><br>\n",
    "\n",
    "You can add an argument <code>include = \"all\"</code> inside the bracket. Let's try it again.\n",
    "\n",
    "</p>\n"
   ]
  },
  {
   "cell_type": "code",
   "execution_count": 15,
   "metadata": {},
   "outputs": [
    {
     "data": {
      "text/plain": "               Age Age Group Gender Locality Marital Status Lifestyle Sleep  \\\ncount   368.000000       368    368      368            368       368   368   \nunique         NaN         5      2        2              2         2     2   \ntop            NaN     51-60   Male    URBAN        MARRIED       YES    NO   \nfreq           NaN       184    285      234            365       217   224   \nmean     54.293478       NaN    NaN      NaN            NaN       NaN   NaN   \nstd       8.718158       NaN    NaN      NaN            NaN       NaN   NaN   \nmin      24.000000       NaN    NaN      NaN            NaN       NaN   NaN   \n25%      50.750000       NaN    NaN      NaN            NaN       NaN   NaN   \n50%      55.000000       NaN    NaN      NaN            NaN       NaN   NaN   \n75%      60.250000       NaN    NaN      NaN            NaN       NaN   NaN   \nmax      77.000000       NaN    NaN      NaN            NaN       NaN   NaN   \n\n       Category Depression Hyperlipidemia  ... ST depression       Slope  \\\ncount       368        368            368  ...    368.000000  368.000000   \nunique        2          2              2  ...           NaN         NaN   \ntop        FREE        YES            YES  ...           NaN         NaN   \nfreq        331        351            341  ...           NaN         NaN   \nmean        NaN        NaN            NaN  ...      1.541848    1.842391   \nstd         NaN        NaN            NaN  ...      1.385381    0.564284   \nmin         NaN        NaN            NaN  ...      0.000000    1.000000   \n25%         NaN        NaN            NaN  ...      0.275000    1.750000   \n50%         NaN        NaN            NaN  ...      1.200000    2.000000   \n75%         NaN        NaN            NaN  ...      2.200000    2.000000   \nmax         NaN        NaN            NaN  ...      6.200000    3.000000   \n\n       Vessels num        Thal         Num  Streptokinase        SK React  \\\ncount   368.000000  368.000000  368.000000     368.000000             368   \nunique         NaN         NaN         NaN            NaN               7   \ntop            NaN         NaN         NaN            NaN  COUGH.BLEEDING   \nfreq           NaN         NaN         NaN            NaN             146   \nmean      1.002717    5.858696    2.035326       0.983696             NaN   \nstd       1.037442    1.744319    1.031573       0.126816             NaN   \nmin       0.000000    3.000000    1.000000       0.000000             NaN   \n25%       0.000000    3.000000    1.000000       1.000000             NaN   \n50%       1.000000    7.000000    2.000000       1.000000             NaN   \n75%       2.000000    7.000000    3.000000       1.000000             NaN   \nmax       3.000000    7.000000    4.000000       1.000000             NaN   \n\n          Reaction   Mortality   Follow up  \ncount   368.000000  368.000000  368.000000  \nunique         NaN         NaN         NaN  \ntop            NaN         NaN         NaN  \nfreq           NaN         NaN         NaN  \nmean      0.747283    0.217391   28.652174  \nstd       0.435162    0.413033   15.811860  \nmin       0.000000    0.000000    1.000000  \n25%       0.000000    0.000000   15.000000  \n50%       1.000000    0.000000   32.000000  \n75%       1.000000    0.000000   36.000000  \nmax       1.000000    1.000000   60.000000  \n\n[11 rows x 53 columns]",
      "text/html": "<div>\n<style scoped>\n    .dataframe tbody tr th:only-of-type {\n        vertical-align: middle;\n    }\n\n    .dataframe tbody tr th {\n        vertical-align: top;\n    }\n\n    .dataframe thead th {\n        text-align: right;\n    }\n</style>\n<table border=\"1\" class=\"dataframe\">\n  <thead>\n    <tr style=\"text-align: right;\">\n      <th></th>\n      <th>Age</th>\n      <th>Age Group</th>\n      <th>Gender</th>\n      <th>Locality</th>\n      <th>Marital Status</th>\n      <th>Lifestyle</th>\n      <th>Sleep</th>\n      <th>Category</th>\n      <th>Depression</th>\n      <th>Hyperlipidemia</th>\n      <th>...</th>\n      <th>ST depression</th>\n      <th>Slope</th>\n      <th>Vessels num</th>\n      <th>Thal</th>\n      <th>Num</th>\n      <th>Streptokinase</th>\n      <th>SK React</th>\n      <th>Reaction</th>\n      <th>Mortality</th>\n      <th>Follow up</th>\n    </tr>\n  </thead>\n  <tbody>\n    <tr>\n      <th>count</th>\n      <td>368.000000</td>\n      <td>368</td>\n      <td>368</td>\n      <td>368</td>\n      <td>368</td>\n      <td>368</td>\n      <td>368</td>\n      <td>368</td>\n      <td>368</td>\n      <td>368</td>\n      <td>...</td>\n      <td>368.000000</td>\n      <td>368.000000</td>\n      <td>368.000000</td>\n      <td>368.000000</td>\n      <td>368.000000</td>\n      <td>368.000000</td>\n      <td>368</td>\n      <td>368.000000</td>\n      <td>368.000000</td>\n      <td>368.000000</td>\n    </tr>\n    <tr>\n      <th>unique</th>\n      <td>NaN</td>\n      <td>5</td>\n      <td>2</td>\n      <td>2</td>\n      <td>2</td>\n      <td>2</td>\n      <td>2</td>\n      <td>2</td>\n      <td>2</td>\n      <td>2</td>\n      <td>...</td>\n      <td>NaN</td>\n      <td>NaN</td>\n      <td>NaN</td>\n      <td>NaN</td>\n      <td>NaN</td>\n      <td>NaN</td>\n      <td>7</td>\n      <td>NaN</td>\n      <td>NaN</td>\n      <td>NaN</td>\n    </tr>\n    <tr>\n      <th>top</th>\n      <td>NaN</td>\n      <td>51-60</td>\n      <td>Male</td>\n      <td>URBAN</td>\n      <td>MARRIED</td>\n      <td>YES</td>\n      <td>NO</td>\n      <td>FREE</td>\n      <td>YES</td>\n      <td>YES</td>\n      <td>...</td>\n      <td>NaN</td>\n      <td>NaN</td>\n      <td>NaN</td>\n      <td>NaN</td>\n      <td>NaN</td>\n      <td>NaN</td>\n      <td>COUGH.BLEEDING</td>\n      <td>NaN</td>\n      <td>NaN</td>\n      <td>NaN</td>\n    </tr>\n    <tr>\n      <th>freq</th>\n      <td>NaN</td>\n      <td>184</td>\n      <td>285</td>\n      <td>234</td>\n      <td>365</td>\n      <td>217</td>\n      <td>224</td>\n      <td>331</td>\n      <td>351</td>\n      <td>341</td>\n      <td>...</td>\n      <td>NaN</td>\n      <td>NaN</td>\n      <td>NaN</td>\n      <td>NaN</td>\n      <td>NaN</td>\n      <td>NaN</td>\n      <td>146</td>\n      <td>NaN</td>\n      <td>NaN</td>\n      <td>NaN</td>\n    </tr>\n    <tr>\n      <th>mean</th>\n      <td>54.293478</td>\n      <td>NaN</td>\n      <td>NaN</td>\n      <td>NaN</td>\n      <td>NaN</td>\n      <td>NaN</td>\n      <td>NaN</td>\n      <td>NaN</td>\n      <td>NaN</td>\n      <td>NaN</td>\n      <td>...</td>\n      <td>1.541848</td>\n      <td>1.842391</td>\n      <td>1.002717</td>\n      <td>5.858696</td>\n      <td>2.035326</td>\n      <td>0.983696</td>\n      <td>NaN</td>\n      <td>0.747283</td>\n      <td>0.217391</td>\n      <td>28.652174</td>\n    </tr>\n    <tr>\n      <th>std</th>\n      <td>8.718158</td>\n      <td>NaN</td>\n      <td>NaN</td>\n      <td>NaN</td>\n      <td>NaN</td>\n      <td>NaN</td>\n      <td>NaN</td>\n      <td>NaN</td>\n      <td>NaN</td>\n      <td>NaN</td>\n      <td>...</td>\n      <td>1.385381</td>\n      <td>0.564284</td>\n      <td>1.037442</td>\n      <td>1.744319</td>\n      <td>1.031573</td>\n      <td>0.126816</td>\n      <td>NaN</td>\n      <td>0.435162</td>\n      <td>0.413033</td>\n      <td>15.811860</td>\n    </tr>\n    <tr>\n      <th>min</th>\n      <td>24.000000</td>\n      <td>NaN</td>\n      <td>NaN</td>\n      <td>NaN</td>\n      <td>NaN</td>\n      <td>NaN</td>\n      <td>NaN</td>\n      <td>NaN</td>\n      <td>NaN</td>\n      <td>NaN</td>\n      <td>...</td>\n      <td>0.000000</td>\n      <td>1.000000</td>\n      <td>0.000000</td>\n      <td>3.000000</td>\n      <td>1.000000</td>\n      <td>0.000000</td>\n      <td>NaN</td>\n      <td>0.000000</td>\n      <td>0.000000</td>\n      <td>1.000000</td>\n    </tr>\n    <tr>\n      <th>25%</th>\n      <td>50.750000</td>\n      <td>NaN</td>\n      <td>NaN</td>\n      <td>NaN</td>\n      <td>NaN</td>\n      <td>NaN</td>\n      <td>NaN</td>\n      <td>NaN</td>\n      <td>NaN</td>\n      <td>NaN</td>\n      <td>...</td>\n      <td>0.275000</td>\n      <td>1.750000</td>\n      <td>0.000000</td>\n      <td>3.000000</td>\n      <td>1.000000</td>\n      <td>1.000000</td>\n      <td>NaN</td>\n      <td>0.000000</td>\n      <td>0.000000</td>\n      <td>15.000000</td>\n    </tr>\n    <tr>\n      <th>50%</th>\n      <td>55.000000</td>\n      <td>NaN</td>\n      <td>NaN</td>\n      <td>NaN</td>\n      <td>NaN</td>\n      <td>NaN</td>\n      <td>NaN</td>\n      <td>NaN</td>\n      <td>NaN</td>\n      <td>NaN</td>\n      <td>...</td>\n      <td>1.200000</td>\n      <td>2.000000</td>\n      <td>1.000000</td>\n      <td>7.000000</td>\n      <td>2.000000</td>\n      <td>1.000000</td>\n      <td>NaN</td>\n      <td>1.000000</td>\n      <td>0.000000</td>\n      <td>32.000000</td>\n    </tr>\n    <tr>\n      <th>75%</th>\n      <td>60.250000</td>\n      <td>NaN</td>\n      <td>NaN</td>\n      <td>NaN</td>\n      <td>NaN</td>\n      <td>NaN</td>\n      <td>NaN</td>\n      <td>NaN</td>\n      <td>NaN</td>\n      <td>NaN</td>\n      <td>...</td>\n      <td>2.200000</td>\n      <td>2.000000</td>\n      <td>2.000000</td>\n      <td>7.000000</td>\n      <td>3.000000</td>\n      <td>1.000000</td>\n      <td>NaN</td>\n      <td>1.000000</td>\n      <td>0.000000</td>\n      <td>36.000000</td>\n    </tr>\n    <tr>\n      <th>max</th>\n      <td>77.000000</td>\n      <td>NaN</td>\n      <td>NaN</td>\n      <td>NaN</td>\n      <td>NaN</td>\n      <td>NaN</td>\n      <td>NaN</td>\n      <td>NaN</td>\n      <td>NaN</td>\n      <td>NaN</td>\n      <td>...</td>\n      <td>6.200000</td>\n      <td>3.000000</td>\n      <td>3.000000</td>\n      <td>7.000000</td>\n      <td>4.000000</td>\n      <td>1.000000</td>\n      <td>NaN</td>\n      <td>1.000000</td>\n      <td>1.000000</td>\n      <td>60.000000</td>\n    </tr>\n  </tbody>\n</table>\n<p>11 rows × 53 columns</p>\n</div>"
     },
     "execution_count": 15,
     "metadata": {},
     "output_type": "execute_result"
    }
   ],
   "source": [
    "# describe all the columns in \"df\" \n",
    "df.describe(include = \"all\")"
   ]
  },
  {
   "cell_type": "markdown",
   "metadata": {},
   "source": [
    "<p>\n",
    "Now it provides the statistical summary of all the columns, including object-typed attributes.<br>\n",
    "\n",
    "We can now see how many unique values there, which one is the top value and the frequency of top value in the object-typed columns.<br>\n",
    "\n",
    "Some values in the table above show as \"NaN\". This is because those numbers are not available regarding a particular column type.<br>\n",
    "\n",
    "Let`s see what values are available for object-typed columns:\n",
    "\n",
    "</p>\n"
   ]
  },
  {
   "cell_type": "code",
   "execution_count": 16,
   "metadata": {},
   "outputs": [
    {
     "data": {
      "text/plain": "       Age Group Gender Locality Marital Status Lifestyle Sleep Category  \\\ncount        368    368      368            368       368   368      368   \nunique         5      2        2              2         2     2        2   \ntop        51-60   Male    URBAN        MARRIED       YES    NO     FREE   \nfreq         184    285      234            365       217   224      331   \n\n       Depression Hyperlipidemia Smoking  HTN Allergies Others           CO  \\\ncount         368            368     368  368       368    368          368   \nunique          2              2       2    2         2     17           37   \ntop           YES            YES     YES  YES        NO     no  Chest pain,   \nfreq          351            341     195  201       357    201           84   \n\n         Diagnosis Hypersensitivity        SK React  \ncount          368              368             368  \nunique          37                2               7  \ntop     AC I/W M.I               NO  COUGH.BLEEDING  \nfreq            44              356             146  ",
      "text/html": "<div>\n<style scoped>\n    .dataframe tbody tr th:only-of-type {\n        vertical-align: middle;\n    }\n\n    .dataframe tbody tr th {\n        vertical-align: top;\n    }\n\n    .dataframe thead th {\n        text-align: right;\n    }\n</style>\n<table border=\"1\" class=\"dataframe\">\n  <thead>\n    <tr style=\"text-align: right;\">\n      <th></th>\n      <th>Age Group</th>\n      <th>Gender</th>\n      <th>Locality</th>\n      <th>Marital Status</th>\n      <th>Lifestyle</th>\n      <th>Sleep</th>\n      <th>Category</th>\n      <th>Depression</th>\n      <th>Hyperlipidemia</th>\n      <th>Smoking</th>\n      <th>HTN</th>\n      <th>Allergies</th>\n      <th>Others</th>\n      <th>CO</th>\n      <th>Diagnosis</th>\n      <th>Hypersensitivity</th>\n      <th>SK React</th>\n    </tr>\n  </thead>\n  <tbody>\n    <tr>\n      <th>count</th>\n      <td>368</td>\n      <td>368</td>\n      <td>368</td>\n      <td>368</td>\n      <td>368</td>\n      <td>368</td>\n      <td>368</td>\n      <td>368</td>\n      <td>368</td>\n      <td>368</td>\n      <td>368</td>\n      <td>368</td>\n      <td>368</td>\n      <td>368</td>\n      <td>368</td>\n      <td>368</td>\n      <td>368</td>\n    </tr>\n    <tr>\n      <th>unique</th>\n      <td>5</td>\n      <td>2</td>\n      <td>2</td>\n      <td>2</td>\n      <td>2</td>\n      <td>2</td>\n      <td>2</td>\n      <td>2</td>\n      <td>2</td>\n      <td>2</td>\n      <td>2</td>\n      <td>2</td>\n      <td>17</td>\n      <td>37</td>\n      <td>37</td>\n      <td>2</td>\n      <td>7</td>\n    </tr>\n    <tr>\n      <th>top</th>\n      <td>51-60</td>\n      <td>Male</td>\n      <td>URBAN</td>\n      <td>MARRIED</td>\n      <td>YES</td>\n      <td>NO</td>\n      <td>FREE</td>\n      <td>YES</td>\n      <td>YES</td>\n      <td>YES</td>\n      <td>YES</td>\n      <td>NO</td>\n      <td>no</td>\n      <td>Chest pain,</td>\n      <td>AC I/W M.I</td>\n      <td>NO</td>\n      <td>COUGH.BLEEDING</td>\n    </tr>\n    <tr>\n      <th>freq</th>\n      <td>184</td>\n      <td>285</td>\n      <td>234</td>\n      <td>365</td>\n      <td>217</td>\n      <td>224</td>\n      <td>331</td>\n      <td>351</td>\n      <td>341</td>\n      <td>195</td>\n      <td>201</td>\n      <td>357</td>\n      <td>201</td>\n      <td>84</td>\n      <td>44</td>\n      <td>356</td>\n      <td>146</td>\n    </tr>\n  </tbody>\n</table>\n</div>"
     },
     "execution_count": 16,
     "metadata": {},
     "output_type": "execute_result"
    }
   ],
   "source": [
    "# describe all the columns in \"df\"\n",
    "df.describe(include = \"object\")"
   ]
  },
  {
   "cell_type": "markdown",
   "metadata": {},
   "source": [
    "<p>There are count, unique, top, freq values for object.</p>\n"
   ]
  },
  {
   "cell_type": "markdown",
   "metadata": {},
   "source": [
    "<div class=\"alert alert-danger alertdanger\" style=\"margin-top: 20px\">\n",
    "<h1> Question #4: </h1>\n",
    "\n",
    "<p>\n",
    "You can select the columns of a dataframe by indicating the name of each column. For example, you can select the three columns as follows:\n",
    "</p>\n",
    "<p>\n",
    "    <code>dataframe[[' column 1 ',column 2', 'column 3']]</code>\n",
    "</p>\n",
    "<p>\n",
    "Where \"column\" is the name of the column, you can apply the method  \".describe()\" to get the statistics of those columns as follows:\n",
    "</p>\n",
    "<p>\n",
    "    <code>dataframe[[' column 1 ',column 2', 'column 3'] ].describe()</code>\n",
    "</p>\n",
    "\n",
    "Apply the  method to \".describe()\" to the columns 'Age' and 'BP'.\n",
    "\n",
    "</div>\n"
   ]
  },
  {
   "cell_type": "code",
   "execution_count": 17,
   "metadata": {},
   "outputs": [],
   "source": [
    "# Write your code below and press Shift+Enter to execute \n"
   ]
  },
  {
   "cell_type": "markdown",
   "metadata": {},
   "source": [
    "<details><summary>Click here for the solution</summary>\n",
    "\n",
    "```python\n",
    "df[['Age', 'BP']].describe()\n",
    "```\n",
    "\n",
    "</details>\n"
   ]
  },
  {
   "cell_type": "markdown",
   "metadata": {},
   "source": [
    "<h2>Info</h2>\n",
    "Another method you can use to check your dataset is:\n"
   ]
  },
  {
   "cell_type": "raw",
   "metadata": {},
   "source": [
    "dataframe.info()"
   ]
  },
  {
   "cell_type": "markdown",
   "metadata": {},
   "source": [
    "It provides a concise summary of your DataFrame.\n",
    "\n",
    "This method prints information about a DataFrame including the index dtype and columns, non-null values and memory usage.\n"
   ]
  },
  {
   "cell_type": "code",
   "execution_count": 18,
   "metadata": {},
   "outputs": [
    {
     "name": "stdout",
     "output_type": "stream",
     "text": [
      "<class 'pandas.core.frame.DataFrame'>\n",
      "RangeIndex: 368 entries, 0 to 367\n",
      "Data columns (total 53 columns):\n",
      " #   Column                        Non-Null Count  Dtype  \n",
      "---  ------                        --------------  -----  \n",
      " 0   Age                           368 non-null    int64  \n",
      " 1   Age Group                     368 non-null    object \n",
      " 2   Gender                        368 non-null    object \n",
      " 3   Locality                      368 non-null    object \n",
      " 4   Marital Status                368 non-null    object \n",
      " 5   Lifestyle                     368 non-null    object \n",
      " 6   Sleep                         368 non-null    object \n",
      " 7   Category                      368 non-null    object \n",
      " 8   Depression                    368 non-null    object \n",
      " 9   Hyperlipidemia                368 non-null    object \n",
      " 10  Smoking                       368 non-null    object \n",
      " 11  Diabetes                      368 non-null    int64  \n",
      " 12  HTN                           368 non-null    object \n",
      " 13  Allergies                     368 non-null    object \n",
      " 14  BP                            368 non-null    float64\n",
      " 15  Thrombolysis                  368 non-null    int64  \n",
      " 16  BGR                           368 non-null    int64  \n",
      " 17  CPK                           368 non-null    int64  \n",
      " 18  CK-MB                         368 non-null    int64  \n",
      " 19  ESR                           368 non-null    int64  \n",
      " 20  WBC                           368 non-null    int64  \n",
      " 21  RBC                           368 non-null    float64\n",
      " 22  Hemoglobin                    368 non-null    float64\n",
      " 23  PCV                           368 non-null    float64\n",
      " 24  MCV                           368 non-null    float64\n",
      " 25  MCH                           368 non-null    float64\n",
      " 26  MCHC                          368 non-null    float64\n",
      " 27  PlateletCount                 368 non-null    int64  \n",
      " 28  Neutrophil                    368 non-null    float64\n",
      " 29  Lymphocyte                    368 non-null    float64\n",
      " 30  Monocyte                      368 non-null    float64\n",
      " 31  Eosinophil                    368 non-null    int64  \n",
      " 32  Others                        368 non-null    object \n",
      " 33  CO                            368 non-null    object \n",
      " 34  Diagnosis                     368 non-null    object \n",
      " 35  Hypersensitivity              368 non-null    object \n",
      " 36  Chest pain type               368 non-null    int64  \n",
      " 37  Resting BP                    368 non-null    int64  \n",
      " 38  Serum cholesterol             368 non-null    int64  \n",
      " 39  FBS                           368 non-null    int64  \n",
      " 40  Resting electrocardiographic  368 non-null    int64  \n",
      " 41  Max heart rate                368 non-null    int64  \n",
      " 42  Angina                        368 non-null    int64  \n",
      " 43  ST depression                 368 non-null    float64\n",
      " 44  Slope                         368 non-null    int64  \n",
      " 45  Vessels num                   368 non-null    int64  \n",
      " 46  Thal                          368 non-null    int64  \n",
      " 47  Num                           368 non-null    int64  \n",
      " 48  Streptokinase                 368 non-null    int64  \n",
      " 49  SK React                      368 non-null    object \n",
      " 50  Reaction                      368 non-null    int64  \n",
      " 51  Mortality                     368 non-null    int64  \n",
      " 52  Follow up                     368 non-null    int64  \n",
      "dtypes: float64(11), int64(25), object(17)\n",
      "memory usage: 152.5+ KB\n"
     ]
    }
   ],
   "source": [
    "# look at the info of \"df\"\n",
    "df.info()"
   ]
  },
  {
   "cell_type": "markdown",
   "metadata": {},
   "source": [
    "<h1>Excellent! You have just completed the  Introduction Notebook!</h1>\n"
   ]
  },
  {
   "cell_type": "markdown",
   "metadata": {},
   "source": [
    "### Thank you for completing this lab!\n",
    "\n",
    "## Author\n",
    "\n",
    "<a href=\"https://www.linkedin.com/in/joseph-s-50398b136/?utm_medium=Exinfluencer&utm_source=Exinfluencer&utm_content=000026UJ&utm_term=10006555&utm_id=NA-SkillsNetwork-Channel-SkillsNetworkCoursesIBMDeveloperSkillsNetworkDA0101ENSkillsNetwork20235326-2021-01-01\" target=\"_blank\">Joseph Santarcangelo</a>\n",
    "\n",
    "### Other Contributors\n",
    "\n",
    "<a href=\"https://www.linkedin.com/in/mahdi-noorian-58219234/?utm_medium=Exinfluencer&utm_source=Exinfluencer&utm_content=000026UJ&utm_term=10006555&utm_id=NA-SkillsNetwork-Channel-SkillsNetworkCoursesIBMDeveloperSkillsNetworkDA0101ENSkillsNetwork20235326-2021-01-01\" target=\"_blank\">Mahdi Noorian PhD</a>\n",
    "\n",
    "Bahare Talayian\n",
    "\n",
    "Eric Xiao\n",
    "\n",
    "Steven Dong\n",
    "\n",
    "Parizad\n",
    "\n",
    "Hima Vasudevan\n",
    "\n",
    "<a href=\"https://www.linkedin.com/in/fiorellawever/?utm_medium=Exinfluencer&utm_source=Exinfluencer&utm_content=000026UJ&utm_term=10006555&utm_id=NA-SkillsNetwork-Channel-SkillsNetworkCoursesIBMDeveloperSkillsNetworkDA0101ENSkillsNetwork20235326-2021-01-01\" target=\"_blank\">Fiorella Wenver</a>\n",
    "\n",
    "<a href=\"https:// https://www.linkedin.com/in/yi-leng-yao-84451275/ \" target=\"_blank\" >Yi Yao</a>.\n",
    "\n",
    "## Change Log\n",
    "\n",
    "| Date (YYYY-MM-DD) | Version | Changed By | Change Description                                         |\n",
    "| ----------------- | ------- | ---------- | ---------------------------------------------------------- |\n",
    "\n",
    "\n",
    "<hr>\n",
    "\n",
    "## <h3 align=\"center\"> © IBM Corporation 2020. All rights reserved. <h3/>\n"
   ]
  },
  {
   "cell_type": "code",
   "execution_count": 18,
   "metadata": {},
   "outputs": [],
   "source": []
  }
 ],
 "metadata": {
  "kernelspec": {
   "name": "python3",
   "language": "python",
   "display_name": "Python 3"
  },
  "language_info": {
   "codemirror_mode": {
    "name": "ipython",
    "version": 3
   },
   "file_extension": ".py",
   "mimetype": "text/x-python",
   "name": "python",
   "nbconvert_exporter": "python",
   "pygments_lexer": "ipython3",
   "version": "3.7.12"
  }
 },
 "nbformat": 4,
 "nbformat_minor": 4
}