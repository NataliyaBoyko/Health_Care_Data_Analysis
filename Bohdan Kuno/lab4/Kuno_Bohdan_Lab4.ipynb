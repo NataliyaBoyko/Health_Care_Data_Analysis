{
 "cells": [
  {
   "cell_type": "markdown",
   "id": "d07783c7-f207-41b1-a027-da7b844413db",
   "metadata": {},
   "outputs": [],
   "source": [
    "<center>\n",
    "    <img src=\"https://cf-courses-data.s3.us.cloud-object-storage.appdomain.cloud/assets/logos/SN_web_lightmode.png\" width=\"300\" alt=\"cognitiveclass.ai logo\">\n",
    "</center>\n",
    "\n",
    "# Forecasting of deaths from Heart Failure on medical measurement\n",
    "\n",
    "# Lab 4. Model Development"
   ]
  },
  {
   "cell_type": "markdown",
   "id": "59e414b0-89af-4386-aaa7-1b8ccc8f04b3",
   "metadata": {},
   "outputs": [],
   "source": [
    "The purpose of this lab is to master classification patients for machine learning models.\n",
    "\n",
    "After completing this lab you will be able to:\n",
    "\n",
    "1. preprocess (normilize and transform categorical data) and create DataSet\n",
    "2. features selection\n",
    "3. make classification of clients\n",
    "4. visualize decision tree of classification model  "
   ]
  },
  {
   "cell_type": "markdown",
   "id": "4cd3d2e9-db6f-4598-91da-376a0ff04e52",
   "metadata": {},
   "outputs": [],
   "source": [
    "## Outline"
   ]
  },
  {
   "cell_type": "markdown",
   "id": "b3304e44-6c05-4758-8394-c0f3665c5b73",
   "metadata": {},
   "outputs": [],
   "source": [
    "* Materials and Methods\n",
    "* General Part\n",
    "  * Import Libraries\n",
    "  * Load the Dataset\n",
    "  * Data preparation\n",
    "      * Data transformation\n",
    "      * Encoding and Normalization\n",
    "  * Features selection\n",
    "      * Chi-Squared Statistic\n",
    "      * Mutual Information Statistic\n",
    "      * Feature Importance\n",
    "      * Correlation Matrix with Heatmap\n",
    "  * Decision tree \n",
    "      * Build model\n",
    "      * Visualization of decision tree\n",
    "  * Classification models\n",
    "      * Extra Trees Classifier\n",
    "      * Logistic regression \n",
    "* Authors\n"
   ]
  },
  {
   "cell_type": "markdown",
   "id": "0158e3ee-ea10-4cc4-a377-3bc42597339d",
   "metadata": {},
   "outputs": [],
   "source": [
    "----"
   ]
  },
  {
   "cell_type": "markdown",
   "id": "7b9067ed-7613-4a00-9ed8-aaa0594f22e2",
   "metadata": {},
   "outputs": [],
   "source": [
    "## Materials and Methods"
   ]
  },
  {
   "cell_type": "markdown",
   "id": "dee32971-abca-4561-849e-91505ec74f84",
   "metadata": {},
   "outputs": [],
   "source": [
    "The data that we are going to use for this is a subset of an open source The Heart Failure Prediction Dataset. https://www.kaggle.com/datasets/asgharalikhan/mortality-rate-heart-patient-pakistan-hospital.\n",
    "\n",
    "> This dataset is public available for research.\n",
    "Please include this citation if you plan to use this database:\n",
    "The data contains complete history of heart patients (so data scientists from different parts of the world can work with it). The dataset is collected from Pakistan, Faisalabad hospital named institute of cardiology\n",
    "\n",
    "In this lesson, we will try to give answers to a set of questions that may be relevant when analyzing heart failure data:\n",
    "\n",
    "1. What are the most useful Python libraries for classification analysis?\n",
    "2. How to transform category data?\n",
    "3. How to create DataSet?\n",
    "4. How to do features selection?\n",
    "5. How to make, fit and visualize classification model?\n",
    "\n",
    "In addition, we will make the conclusions for the obtained results of our classification analysis to predict mortality rate of patients with heart disease."
   ]
  },
  {
   "cell_type": "markdown",
   "id": "e0be9ee0-e53b-4088-ba99-9203bc069068",
   "metadata": {},
   "outputs": [],
   "source": [
    "[Scikit-learn](https://scikit-learn.org/stable/) (formerly scikits.learn and also known as sklearn) is a free software machine learning library for the Python programming language. It features various classification, regression and clustering algorithms including support vector machines, random forests, gradient boosting, k-means and DBSCAN, and is designed to interoperate with the Python numerical and scientific libraries NumPy and SciPy."
   ]
  },
  {
   "cell_type": "code",
   "id": "04d70eb5-0eec-422f-88e1-3073eb2f19f5",
   "metadata": {},
   "outputs": [],
   "source": [
    "!conda install --yes scikit-learn==0.24.2\n",
    "!conda install --yes python-graphviz"
   ]
  },
  {
   "cell_type": "markdown",
   "id": "de783e28-337f-4290-a18d-eb049120ec9c",
   "metadata": {},
   "outputs": [],
   "source": [
    "## Import Libraries"
   ]
  },
  {
   "cell_type": "markdown",
   "id": "707e9e74-a52d-4c3a-b68c-097afbe68f2b",
   "metadata": {},
   "outputs": [],
   "source": [
    "Import the libraries necessary to use in this lab. We can add some aliases to make the libraries easier to use in our code and set a default figure size for further plots. Ignore the warnings.\n"
   ]
  },
  {
   "cell_type": "code",
   "id": "ea0f49f3-dc73-4ead-9305-5e54e4d47465",
   "metadata": {},
   "outputs": [],
   "source": [
    "import pandas as pd\n",
    "import matplotlib.pyplot as plt\n",
    "import seaborn as sns\n",
    "import numpy as np\n",
    "%matplotlib inline\n",
    "plt.rcParams[\"figure.figsize\"] = (8, 6)\n",
    "# Data transformation\n",
    "from sklearn.preprocessing import LabelEncoder, OrdinalEncoder\n",
    "from sklearn.preprocessing import MinMaxScaler\n",
    "# Features Selection\n",
    "from sklearn.feature_selection import SelectKBest\n",
    "from sklearn.feature_selection import chi2, mutual_info_classif\n",
    "# Classificators\n",
    "from sklearn.ensemble import ExtraTreesClassifier\n",
    "from sklearn.linear_model import LogisticRegression\n",
    "from sklearn.metrics import accuracy_score\n",
    "from sklearn.tree import DecisionTreeClassifier \n",
    "from sklearn import tree\n",
    "# warnings deactivate\n",
    "import warnings\n",
    "warnings.filterwarnings('ignore')\n",
    "import graphviz"
   ]
  },
  {
   "cell_type": "markdown",
   "id": "9032f485-e99c-4a36-8eda-d5aa6b64ae4a",
   "metadata": {},
   "outputs": [],
   "source": [
    "Further specify the value of the `precision` parameter equal to 2 to display two decimal signs (instead of 6 as default)."
   ]
  },
  {
   "cell_type": "code",
   "id": "f785abb4-bdb5-469d-b549-e896b750710d",
   "metadata": {},
   "outputs": [],
   "source": [
    "pd.options.display.float_format = '{:.2f}'.format"
   ]
  },
  {
   "cell_type": "markdown",
   "id": "af02e260-20fe-4abc-910d-ed04f7ddb643",
   "metadata": {},
   "outputs": [],
   "source": [
    "## Load the Dataset"
   ]
  },
  {
   "cell_type": "markdown",
   "id": "312d0ed6-2e4c-4dea-be6f-b6ba1f13b156",
   "metadata": {},
   "outputs": [],
   "source": [
    "We will use the same DataSet that we have saved in previous labs."
   ]
  },
  {
   "cell_type": "code",
   "id": "ef992174-9ea7-40e2-9dc2-103e35f10318",
   "metadata": {},
   "outputs": [],
   "source": [
    "df = pd.read_csv('https://cf-courses-data.s3.us.cloud-object-storage.appdomain.cloud/IBMSkillsNetwork-GPXX0MI1EN/clean_df_new.csv')\n",
    "df.head(5)"
   ]
  },
  {
   "cell_type": "code",
   "id": "456fad4f-5236-4787-9b72-d961b2074a3c",
   "metadata": {},
   "outputs": [],
   "source": [
    "df.shape"
   ]
  },
  {
   "cell_type": "markdown",
   "id": "6af1ccce-e92e-466e-90f4-ccce1ebc4aad",
   "metadata": {},
   "outputs": [],
   "source": [
    "As you can see DataSet consist 47 columns. Target column is 'Mortality'. Also DataSet consist 368 rows. In previous labs we investigated these columns."
   ]
  },
  {
   "cell_type": "markdown",
   "id": "efc6acbc-b1da-44f4-8279-67c4aaa75910",
   "metadata": {},
   "outputs": [],
   "source": [
    "<details>\n",
    "<summary><b>Click to see attribute information</b></summary>\n",
    "\n",
    "Input features (column names):\n",
    "\n",
    "1. `Age Group` - patient age divided by groups (categorical)\n",
    "2. `Marital Status` - married or single (categorical)\n",
    "3. `Lifestyle` - does the patient have healthy lifestyle (boolean)\n",
    "4. `Sleep` - does the patient sleep enough?(boolean)\n",
    "5. `Category` paid or free treatment (categorical)\n",
    "6. `Depression` - does patient feel depressed? (boolean)\n",
    "7. `Hyperlipidemia` - an excess of lipids or fats in your blood (boolean)\n",
    "8. `Smoking` - does the patient smoke? (boolean)\n",
    "9. `Diabetes` - does the patient have diabetes? (binary) \n",
    "10. `HTN` - hypertension, also known as high blood pressure (boolean) \n",
    "11. `Allergies` - does the patient have allergies? (boolean)\n",
    "12. `BP` - blood pressure (float, normalized) \n",
    "13. `Thrombolysis` - uses medications or a minimally invasive procedure to break up blood clots and prevent new clots from forming (binary) \n",
    "14. `BGR` - blood glucose level (int) \n",
    "15. `CPK` - creatine phosphokinase level (int)\n",
    "16. `ESR` - erythrocyte sedimentation rate (int) \n",
    "17. `WBC` - white blood cells, also known as leukocytes (int) \n",
    "18. `RBC` - red blood cells, also known as erythrocytes (float) \n",
    "19. `Hemoglobin` - hemoglobin level (float) \n",
    "20. `MCH` - mean corpuscular hemoglobin or the average amount in each of red blood cells of a hemoglobin (float)\n",
    "21. `MCHC` - mean corpuscular hemoglobin concentration (float)\n",
    "22. `PlateletCount` - count of platelets or thrombocytes (int)\n",
    "23. `Lymphocyte` - share of lymphocytes in blood (float)\n",
    "24. `Monocyte` -  share of monocytes in blood (float)\n",
    "25. `Eosinophil` - count of eosinophils (int)\n",
    "26. `Others` - other diseases, that weren't mentioned (categorical)\n",
    "27. `Diagnosis` - what is the patient's diagnosis? (float)\n",
    "28. `Hypersensitivity` - does the patient have hypersensitivity? (boolean)\n",
    "29. `Chest pain type` - patient's chest pain stage (int)\n",
    "30. `Resting BP` - resting blood pressure (float)\n",
    "31. `Serum cholesterol` - amount of total cholesterol in their blood (float)\n",
    "32. `FBS` - fasting blood sugar > 120 mg/dl (binary)\n",
    "33. `Resting electrocardiographic` - resting electrocardiographic results (0 = normal; 1 = having ST-T; 2 = hypertrophy) (int)\n",
    "34. `Max heart rate` - patient's maximum heart rate achieved (int)\n",
    "35. `Angina` - does the patient have exercise induced angina (binary)\n",
    "36. `ST depression` - ST depression induced by exercise relative to rest (float)\n",
    "37. `Slope` - the slope of the peak exercise ST segment (1 = upsloping; 2 = flat; 3 = downsloping) (int)\n",
    "38. `Vessels num` - number of major vessels (0-3) colored by flourosopy (int)\n",
    "39. `Thal` - 3 = normal; 6 = fixed defect; 7 = reversable defect (int)\n",
    "40. `Num` -  diagnosis of heart disease (angiographic disease status) (int)\n",
    "41. `Streptokinase` - used to dissolve blood clots that have formed in the blood vessels. Does the patient take it? (binary)\n",
    "42. `SK React` - what is the reaction from streptokinase (categorical)\n",
    "43. `Follow up` - number of patient's visiting time (int)\n",
    "44. `Max heart rate-binned` - patient's maximum heart rate achieved - binned (from Lab2) (categorical)\n",
    "45. `Gender-male` - is the patient male (from Lab2)? (binary)\n",
    "46. `Locality-urban` - is the patient's locality urban (from Lab2)? (binary)\n",
    "\n",
    "Output feature (desired target):\n",
    "\n",
    "47. `Mortality` - did the patient die of heart failure? (binary)\n",
    "</details>"
   ]
  },
  {
   "cell_type": "markdown",
   "id": "a65ef9f7-88f5-4929-a49f-285b0ba555f6",
   "metadata": {},
   "outputs": [],
   "source": [
    "Our goal is to create the model for predicting mortality caused by Heart Failure. To do this we must analize and prepare data for such type of model."
   ]
  },
  {
   "cell_type": "markdown",
   "id": "eaec4df3-6637-4d57-822d-1cf66f079352",
   "metadata": {},
   "outputs": [],
   "source": [
    "## Data preparation"
   ]
  },
  {
   "cell_type": "markdown",
   "id": "efe06040-caf2-4885-b933-c89c33cfe3e3",
   "metadata": {},
   "outputs": [],
   "source": [
    "### Data transformation"
   ]
  },
  {
   "cell_type": "markdown",
   "id": "adb900d6-e716-4911-9f66-17b381b876f9",
   "metadata": {},
   "outputs": [],
   "source": [
    "First of all we should investigate how pandas recognized types of features"
   ]
  },
  {
   "cell_type": "code",
   "id": "349113fd-c277-4b2e-bb78-9b4d92255206",
   "metadata": {},
   "outputs": [],
   "source": [
    "df.info()"
   ]
  },
  {
   "cell_type": "markdown",
   "id": "6a5e74eb-d315-4cea-9ca8-c3cf70f62949",
   "metadata": {},
   "outputs": [],
   "source": [
    "As you can see all categorical features was recogized like object. We must change thair type on \"categorical\". "
   ]
  },
  {
   "cell_type": "code",
   "id": "58dd60ee-e69f-4eb1-a036-98a4c6cfc644",
   "metadata": {},
   "outputs": [],
   "source": [
    "col_cat = list(df.select_dtypes(include=['object']).columns)\n",
    "col_cat"
   ]
  },
  {
   "cell_type": "markdown",
   "id": "492ac7ee-9024-4650-8bf5-f0690ed51ea3",
   "metadata": {},
   "outputs": [],
   "source": [
    "Let's look at the dataset size."
   ]
  },
  {
   "cell_type": "code",
   "id": "c6487084-d43b-4558-be40-e68a0e7d9d9a",
   "metadata": {},
   "outputs": [],
   "source": [
    "df.loc[:, col_cat] = df[col_cat].astype('category')\n",
    "df.info()"
   ]
  },
  {
   "cell_type": "markdown",
   "id": "9225f372-149e-418a-a31e-5373807f5f01",
   "metadata": {},
   "outputs": [],
   "source": [
    "To see the unical values of exact feature (column) we can use:"
   ]
  },
  {
   "cell_type": "code",
   "id": "81b07e90-ca38-4b2c-aac6-23658fdf92f1",
   "metadata": {},
   "outputs": [],
   "source": [
    "df['Age Group'].unique()"
   ]
  },
  {
   "cell_type": "markdown",
   "id": "67c70a71-f66c-46d7-a005-ba8adaf26330",
   "metadata": {},
   "outputs": [],
   "source": [
    "As was signed earlier the dataset contains 368 objects (rows), for each of which 47 features are set (columns), including 1 target feature (y). 7 features are categorical. These data type of values cannot use for classification. We must transform it to int or float.\n",
    "To do this we can use **[LabelEncoder](https://scikit-learn.org/stable/modules/generated/sklearn.preprocessing.LabelEncoder.html)** and **[OrdinalEncoder](https://scikit-learn.org/stable/modules/generated/sklearn.preprocessing.OrdinalEncoder.html)**. These functions can encode categorical features as an integer array.\n",
    "\n",
    "First of all we separate DataSet on input and output(target) DataSets"
   ]
  },
  {
   "cell_type": "code",
   "id": "1cfd0fb2-2b0f-4afc-aafe-e5ec7c5ccf60",
   "metadata": {},
   "outputs": [],
   "source": [
    "X = df.drop(['Mortality'], axis=1)  #input columns\n",
    "y = df['Mortality']   #target column"
   ]
  },
  {
   "cell_type": "markdown",
   "id": "c8a54f4c-dd9a-4243-a7b3-58a331b2bfcf",
   "metadata": {},
   "outputs": [],
   "source": [
    "### Encoding and Normalization"
   ]
  },
  {
   "cell_type": "markdown",
   "id": "6a61cf1a-9555-49e7-ad08-80d4f909e438",
   "metadata": {},
   "outputs": [],
   "source": [
    "Let's see how many unique values our target column has."
   ]
  },
  {
   "cell_type": "code",
   "id": "642f9841-c4bb-46ed-8ed1-af3f4da5af70",
   "metadata": {},
   "outputs": [],
   "source": [
    "y.value_counts()"
   ]
  },
  {
   "cell_type": "markdown",
   "id": "eade31e2-5b28-41b6-a2a5-84854bace31c",
   "metadata": {},
   "outputs": [],
   "source": [
    "We have 288 0 values and 80 1 values, which is acceptable for predicting our target column."
   ]
  },
  {
   "cell_type": "markdown",
   "id": "8f3be09c-2a89-4218-ae9e-5f46031a1b13",
   "metadata": {},
   "outputs": [],
   "source": [
    "Than create list of categorical fields and transform thair values to int arrays:"
   ]
  },
  {
   "cell_type": "code",
   "id": "8a848636-fd51-47d9-870d-9d65862deabc",
   "metadata": {},
   "outputs": [],
   "source": [
    "col_cat = list(X.select_dtypes(include=['category']).columns)\n",
    "oe = OrdinalEncoder()\n",
    "oe.fit(X[col_cat])\n",
    "X_cat_enc = oe.transform(X[col_cat])"
   ]
  },
  {
   "cell_type": "code",
   "id": "ef86c4c6-2834-4d85-8100-074638a27dea",
   "metadata": {},
   "outputs": [],
   "source": [
    "X_cat_enc"
   ]
  },
  {
   "cell_type": "markdown",
   "id": "7f095f1d-a684-4ee0-a512-d2ea886de556",
   "metadata": {},
   "outputs": [],
   "source": [
    "Than we must transform arrays back into DataFrame:"
   ]
  },
  {
   "cell_type": "code",
   "id": "73884e3f-fd82-41e6-9df1-dd9573373aca",
   "metadata": {},
   "outputs": [],
   "source": [
    "X_cat_enc = pd.DataFrame(X_cat_enc)\n",
    "X_cat_enc.columns = col_cat"
   ]
  },
  {
   "cell_type": "markdown",
   "id": "d99660d2-c38b-4f4f-b833-07037321a777",
   "metadata": {},
   "outputs": [],
   "source": [
    "Numerical fields can have different scale and can consists negative values. These will lead to round mistakes and exeptions for some AI methods. To avoid it these features must be normalized.\n",
    "\n",
    "Let's create list of numerical fields and normilize it using by **[MinMaxScaler](https://scikit-learn.org/stable/modules/generated/sklearn.preprocessing.MinMaxScaler.html)**"
   ]
  },
  {
   "cell_type": "code",
   "id": "0b03a430-5809-49bd-ab60-121abff86c8e",
   "metadata": {},
   "outputs": [],
   "source": [
    "col_num = list(X.select_dtypes(include=['float', 'int', 'bool']).columns)\n",
    "scaler = MinMaxScaler(feature_range=(0, 1))\n",
    "X_num_enc = scaler.fit_transform(X[col_num])"
   ]
  },
  {
   "cell_type": "code",
   "id": "a46d1ae1-b101-49e5-bb1a-cee2572c3eee",
   "metadata": {},
   "outputs": [],
   "source": [
    "X_num_enc"
   ]
  },
  {
   "cell_type": "markdown",
   "id": "6ffe005d-d18d-459f-bdd0-7860b265b1c8",
   "metadata": {},
   "outputs": [],
   "source": [
    "Like in previous case transform back obtained arrays into DataFrame"
   ]
  },
  {
   "cell_type": "code",
   "id": "8a72d6c8-c653-4551-bf65-71a8889e325e",
   "metadata": {},
   "outputs": [],
   "source": [
    "X_num_enc = pd.DataFrame(X_num_enc)\n",
    "X_num_enc.columns = col_num\n",
    "X_num_enc"
   ]
  },
  {
   "cell_type": "markdown",
   "id": "c878b5e4-dad9-4b1e-96dc-90d3c544af1e",
   "metadata": {},
   "outputs": [],
   "source": [
    "Than we should concatenate these DataFrames in one input DataFrame"
   ]
  },
  {
   "cell_type": "code",
   "id": "0c7c72d1-f279-48af-a99f-f1dc1f149c94",
   "metadata": {},
   "outputs": [],
   "source": [
    "x_enc = pd.concat([X_cat_enc, X_num_enc], axis=1)\n",
    "x_enc"
   ]
  },
  {
   "cell_type": "markdown",
   "id": "0dd6dd80-89d7-4c35-9a46-29a17fa72deb",
   "metadata": {},
   "outputs": [],
   "source": [
    "Our target column is already normalized, so we don't need to encode it.<br>"
   ]
  },
  {
   "cell_type": "markdown",
   "id": "f3791e57-7c21-40cb-b57a-62b102a7bc75",
   "metadata": {},
   "outputs": [],
   "source": [
    "## Features selection"
   ]
  },
  {
   "cell_type": "markdown",
   "id": "53fbc25e-bc32-4a9a-93bd-9abf60971305",
   "metadata": {},
   "outputs": [],
   "source": [
    "As was signed before input fields consists 46 features. Of course some of them are more significant for classification.\n",
    "\n",
    "There are two popular feature selection techniques that can be used for categorical input data and a categorical (class) target variable.\n",
    "\n",
    "They are:\n",
    "\n",
    "* Chi-Squared Statistic.\n",
    "* Mutual Information Statistic.\n",
    "\n",
    "Let’s take a closer look at each in turn.\n",
    "\n",
    "To do this we can use **[SelectKBest](https://scikit-learn.org/stable/modules/generated/sklearn.feature_selection.SelectKBest.html)**"
   ]
  },
  {
   "cell_type": "markdown",
   "id": "7d3c6173-2690-484e-8c10-eb6cf2c046ea",
   "metadata": {},
   "outputs": [],
   "source": [
    "### Chi-Squared Statistic"
   ]
  },
  {
   "cell_type": "markdown",
   "id": "e1df8afb-fb75-4097-8be1-6f13a072594b",
   "metadata": {},
   "outputs": [],
   "source": [
    "Pearson’s chi-squared statistical hypothesis test is an example of a test for independence between categorical variables.\n",
    "\n",
    "You can learn more about this statistical test in the tutorial:\n",
    "\n",
    "[A Gentle Introduction to the Chi-Squared Test for Machine Learning](https://machinelearningmastery.com/chi-squared-test-for-machine-learning/)\n",
    "The results of this test can be used for feature selection, where those features that are independent of the target variable can be removed from the dataset.\n",
    "\n",
    "The scikit-learn machine library provides an implementation of the chi-squared test in the **[chi2()](https://scikit-learn.org/stable/modules/generated/sklearn.feature_selection.chi2.html#sklearn.feature_selection.chi2)** function. This function can be used in a feature selection strategy, such as selecting the top k most relevant features (largest values) via the SelectKBest class.\n",
    "\n",
    "For example, we can define the SelectKBest class to use the chi2() function and select all (or most significant) features."
   ]
  },
  {
   "cell_type": "markdown",
   "id": "174cf6be-71ff-4ac8-a71e-6637eacfc2d2",
   "metadata": {},
   "outputs": [],
   "source": [
    "Apply SelectKBest class to extract top 10 best features"
   ]
  },
  {
   "cell_type": "code",
   "id": "ce2f0041-a47d-4273-a6e3-cfff4e53ab7c",
   "metadata": {},
   "outputs": [],
   "source": [
    "bestfeatures = SelectKBest(score_func=chi2, k=10)\n",
    "fit = bestfeatures.fit(x_enc, y)\n",
    "dfscores = pd.DataFrame(fit.scores_)\n",
    "dfcolumns = pd.DataFrame(X.columns)"
   ]
  },
  {
   "cell_type": "markdown",
   "id": "58a12f7e-7f07-4663-8325-a83d16457c74",
   "metadata": {},
   "outputs": [],
   "source": [
    "concat two dataframes for better visualization "
   ]
  },
  {
   "cell_type": "code",
   "id": "7418cbcb-bba4-4b11-9261-36b96785201d",
   "metadata": {},
   "outputs": [],
   "source": [
    "featureScores = pd.concat([dfcolumns, dfscores],axis=1)\n",
    "featureScores.columns = ['Specs','Score']  #naming the dataframe columns\n",
    "print(featureScores.nlargest(10,'Score'))  #print 10 best features"
   ]
  },
  {
   "cell_type": "markdown",
   "id": "e69208a2-be17-4b0f-8bd7-f14355df3a73",
   "metadata": {},
   "outputs": [],
   "source": [
    "### Mutual Information Statistic"
   ]
  },
  {
   "cell_type": "markdown",
   "id": "29848568-0dfc-4ab1-a711-dbe640030b05",
   "metadata": {},
   "outputs": [],
   "source": [
    "Mutual information from the field of information theory is the application of information gain (typically used in the construction of decision trees) to feature selection.\n",
    "\n",
    "Mutual information is calculated between two variables and measures the reduction in uncertainty for one variable given a known value of the other variable.\n",
    "\n",
    "[You can learn more about mutual information in the following tutorial.](https://machinelearningmastery.com/information-gain-and-mutual-information)\n",
    "\n",
    "The scikit-learn machine learning library provides an implementation of mutual information for feature selection via the **[mutual_info_classif()](https://scikit-learn.org/stable/modules/generated/sklearn.feature_selection.mutual_info_classif.html#sklearn.feature_selection.mutual_info_classif)** function.\n",
    "\n",
    "Like chi2(), it can be used in the SelectKBest feature selection strategy (and other strategies)."
   ]
  },
  {
   "cell_type": "code",
   "id": "59a6a80a-cff6-4129-8a02-0e05cdb4c850",
   "metadata": {},
   "outputs": [],
   "source": [
    "bestfeatures = SelectKBest(score_func=mutual_info_classif, k=10)\n",
    "fit = bestfeatures.fit(x_enc, y)\n",
    "dfscores = pd.DataFrame(fit.scores_)\n",
    "dfcolumns = pd.DataFrame(X.columns)\n",
    "featureScores = pd.concat([dfcolumns, dfscores],axis=1)\n",
    "featureScores.columns = ['Specs','Score']  #naming the dataframe columns\n",
    "print(featureScores.nlargest(10,'Score'))  #print 10 best features"
   ]
  },
  {
   "cell_type": "markdown",
   "id": "769d4b07-64e8-467c-85de-148baba8f3f3",
   "metadata": {},
   "outputs": [],
   "source": [
    "As you can see these 2 function select different significant features."
   ]
  },
  {
   "cell_type": "markdown",
   "id": "2f6da8b8-f1aa-447d-94d5-c62d5c698cc0",
   "metadata": {},
   "outputs": [],
   "source": [
    "### Feature Importance"
   ]
  },
  {
   "cell_type": "markdown",
   "id": "9fbea168-5085-4e51-b020-e88c82a28162",
   "metadata": {},
   "outputs": [],
   "source": [
    "You can get the feature importance of each feature of your DataFrame by using the feature importance property of the exact classification model.\n",
    "Feature importance gives you a score for each feature of your data, the higher the score more important or relevant is the feature towards your output variable.\n",
    "For example:\n",
    "Feature importance is an inbuilt class that comes with **[Tree Based Classifiers](https://scikit-learn.org/stable/modules/generated/sklearn.ensemble.ExtraTreesClassifier.html)**, we will be using Extra Tree Classifier for extracting the top 10 features for the dataset."
   ]
  },
  {
   "cell_type": "markdown",
   "id": "18c31311-5523-400e-81c3-ef20bad1e2b8",
   "metadata": {},
   "outputs": [],
   "source": [
    "Let's create and fit the model:"
   ]
  },
  {
   "cell_type": "code",
   "id": "09e6e75e-99e0-49d9-bc92-56b2b7cacc30",
   "metadata": {},
   "outputs": [],
   "source": [
    "model = ExtraTreesClassifier()\n",
    "model.fit(x_enc, y)"
   ]
  },
  {
   "cell_type": "markdown",
   "id": "61eeb8ad-2ff1-4907-bae0-b590932f0a62",
   "metadata": {},
   "outputs": [],
   "source": [
    "use inbuilt class feature_importances of tree based classifiers"
   ]
  },
  {
   "cell_type": "code",
   "id": "aa4ad673-3f50-423b-bb08-d57a01f28ef0",
   "metadata": {},
   "outputs": [],
   "source": [
    "print(model.feature_importances_)"
   ]
  },
  {
   "cell_type": "markdown",
   "id": "a6e5b6d2-e9c8-43d3-92b2-d98141d1570f",
   "metadata": {},
   "outputs": [],
   "source": [
    "Let's transform it into Series and plot graph of feature importances for better visualization"
   ]
  },
  {
   "cell_type": "code",
   "id": "3dd95f55-80cc-4a26-83cb-b93f47c3ad32",
   "metadata": {},
   "outputs": [],
   "source": [
    "feat_importances = pd.Series(model.feature_importances_, index=x_enc.columns)\n",
    "feat_importances.nlargest(10).plot(kind='barh')\n",
    "plt.show()"
   ]
  },
  {
   "cell_type": "markdown",
   "id": "09fef84a-582f-4de1-ab5e-5981045b3764",
   "metadata": {},
   "outputs": [],
   "source": [
    "You can see that for Extra Tree Classifier impotance of features are different than in previous cases. It means that there are not exact rules for features selection. And their impotance strictly depedence on model."
   ]
  },
  {
   "cell_type": "markdown",
   "id": "3387819c-77c0-4a46-9f87-c07fbb2b93ec",
   "metadata": {},
   "outputs": [],
   "source": [
    "<div class=\"alert alert-danger alertdanger\" style=\"margin-top: 20px\">\n",
    "    <h1>Question 1:</h1>\n",
    "    <p>Plot graph of 5 least important features</p>\n",
    "</div>"
   ]
  },
  {
   "cell_type": "code",
   "id": "76961da8-148c-4755-93d0-f02653194aff",
   "metadata": {},
   "outputs": [],
   "source": [
    "# Write your code below and press Shift+Enter to execute\n"
   ]
  },
  {
   "cell_type": "markdown",
   "id": "45b8c0b6-4898-41d2-9d05-20f77ba82b00",
   "metadata": {},
   "outputs": [],
   "source": [
    "<details><summary>Click here for the solution</summary>\n",
    "\n",
    "```python\n",
    "feat_importances.nsmallest(5).plot(kind='barh')\n",
    "plt.show()\n",
    "\n",
    "```\n",
    "\n",
    "</details>"
   ]
  },
  {
   "cell_type": "markdown",
   "id": "e0dadacd-86b4-4ec6-a484-6cb56dadd637",
   "metadata": {},
   "outputs": [],
   "source": [
    "### Correlation Matrix with Heatmap"
   ]
  },
  {
   "cell_type": "markdown",
   "id": "d1e9818f-9cde-41d1-9a97-21d197f4f0d3",
   "metadata": {},
   "outputs": [],
   "source": [
    "Correlation states how the features are related to each other.\n",
    "Correlation can be positive (increase in one value of feature increases the value of the other variable) or negative (increase in one value of feature decreases the value of the other variable)\n",
    "Heatmap makes it easy to identify which features are most related to the other variable, we will plot heatmap of correlated features using the seaborn library."
   ]
  },
  {
   "cell_type": "code",
   "id": "800f386e-3b6e-4595-a579-e8a56c77971c",
   "metadata": {},
   "outputs": [],
   "source": [
    "corrmat = x_enc.corr()\n",
    "top_corr_features = corrmat.index\n",
    "plt.figure(figsize=(35,35))\n",
    "g=sns.heatmap(x_enc[top_corr_features].corr(),annot=True,cmap=\"RdYlGn\")"
   ]
  },
  {
   "cell_type": "markdown",
   "id": "6396531e-427c-48ce-b37c-3daffc58f158",
   "metadata": {},
   "outputs": [],
   "source": [
    "We have already removed strictly correlated columns, thus we can use all these features."
   ]
  },
  {
   "cell_type": "markdown",
   "id": "5da9c0f7-c4df-4cfe-a177-635fb6c58450",
   "metadata": {},
   "outputs": [],
   "source": [
    "## Classification models"
   ]
  },
  {
   "cell_type": "markdown",
   "id": "40529333-d291-4245-8ef7-88b8f48deabb",
   "metadata": {},
   "outputs": [],
   "source": [
    "## Decision tree"
   ]
  },
  {
   "cell_type": "markdown",
   "id": "7a3f972d-4f6b-4c54-9bc5-65d9ea5fa3ee",
   "metadata": {},
   "outputs": [],
   "source": [
    "### Build model"
   ]
  },
  {
   "cell_type": "markdown",
   "id": "8b48224c-8201-4cea-bfda-133fa4fdb85e",
   "metadata": {},
   "outputs": [],
   "source": [
    "As shown, the previous methods have high accuracy. However, the biggest drawback is the inability to visualize or justify the decision."
   ]
  },
  {
   "cell_type": "markdown",
   "id": "aa2caa1e-e2bf-4dae-bc9f-2f420cfce736",
   "metadata": {},
   "outputs": [],
   "source": [
    "Decision trees are a popular supervised learning method for a variety of reasons. Benefits of decision trees include that they can be used for both regression and classification, they don’t require feature scaling, and they are relatively easy to interpret as you can visualize decision trees. This is not only a powerful way to understand your model, but also to communicate how your model works. Consequently, it would help to know how to make a visualization based on your model."
   ]
  },
  {
   "cell_type": "markdown",
   "id": "6f17cb92-446e-4361-bc84-5d0aca5bd869",
   "metadata": {},
   "outputs": [],
   "source": [
    "A **[Decision Tree](https://scikit-learn.org/stable/modules/generated/sklearn.tree.DecisionTreeClassifier.html)** is a supervised algorithm used in machine learning. It is using a binary tree graph (each node has two children) to assign for each data sample a target value. The target values are presented in the tree leaves. To reach to the leaf, the sample is propagated through nodes, starting at the root node. In each node a decision is made, to which descendant node it should go. A decision is made based on the selected sample’s feature. Decision Tree learning is a process of finding the optimal rules in each internal tree node according to the selected metric."
   ]
  },
  {
   "cell_type": "markdown",
   "id": "5d585d3e-6e73-4ac3-bef2-f4a02b6c58e3",
   "metadata": {},
   "outputs": [],
   "source": [
    "This metod allows also to calculate features impotance.\n",
    "Let's calculate them. Choice best 10 of them. Refit the model and visualize decision tree."
   ]
  },
  {
   "cell_type": "code",
   "id": "2800aeda-8db5-401e-a961-af1d9eaad162",
   "metadata": {},
   "outputs": [],
   "source": [
    "model_dec_tree = DecisionTreeClassifier()\n",
    "model_dec_tree.fit(x_enc, y)\n",
    "yhat = model_dec_tree.predict(x_enc)\n",
    "accuracy = accuracy_score(y, yhat)\n",
    "print('Accuracy: %.2f' % (accuracy*100))"
   ]
  },
  {
   "cell_type": "markdown",
   "id": "3167c7f3-d345-47e2-9c52-d7138cfad4a4",
   "metadata": {},
   "outputs": [],
   "source": [
    "Create user function that will calculate accuracy of defined classificator model:"
   ]
  },
  {
   "cell_type": "code",
   "id": "65b945fa-43ea-4f2d-b3cd-ac5ee8edf6df",
   "metadata": {},
   "outputs": [],
   "source": [
    "def model_ac(x, y, model):\n",
    "    model.fit(x, y)\n",
    "    yhat = model.predict(x)\n",
    "    accuracy = accuracy_score(y, yhat)\n",
    "    return accuracy"
   ]
  },
  {
   "cell_type": "markdown",
   "id": "de341910-7abd-4288-ab09-8e97cc14072b",
   "metadata": {},
   "outputs": [],
   "source": [
    "Now let's create user function that will calculate features importance of defined classificator model. And let's create the variable, that contains features sorted by importance in descending order."
   ]
  },
  {
   "cell_type": "code",
   "id": "a8ec92db-844c-464c-b1c2-dac13362d576",
   "metadata": {},
   "outputs": [],
   "source": [
    "def model_imp(x, y, model):\n",
    "    feat_importances = pd.Series(model.feature_importances_, index=x.columns)\n",
    "    return feat_importances.sort_values(ascending=False)\n",
    "imp = model_imp(x_enc, y, model_dec_tree)\n",
    "print(imp)"
   ]
  },
  {
   "cell_type": "markdown",
   "id": "d96ed08a-9837-4a40-80f9-91520a913a8a",
   "metadata": {},
   "outputs": [],
   "source": [
    "Plot graph of feature importances for better visualization"
   ]
  },
  {
   "cell_type": "code",
   "id": "d7e6c2d6-3f15-45a9-9664-23531217fd42",
   "metadata": {},
   "outputs": [],
   "source": [
    "imp.nlargest(10).plot(kind='barh')\n",
    "plt.show()"
   ]
  },
  {
   "cell_type": "markdown",
   "id": "fb40658f-b44f-4a85-9877-5dc1c91cb8bb",
   "metadata": {},
   "outputs": [],
   "source": [
    "Build plot that show accuracy of defined model dependence on numbers of input features."
   ]
  },
  {
   "cell_type": "code",
   "id": "a07b4660-f1e1-4891-8454-bfc243b5d887",
   "metadata": {},
   "outputs": [],
   "source": [
    "col = []\n",
    "ac = []\n",
    "for c in imp.index:\n",
    "    col.append(c)\n",
    "    ac.append(model_ac(x_enc[col], y, model_dec_tree))\n",
    "    print('Input fields: ', len(col), 'Accuracy: %.2f' % (ac[-1]*100))\n",
    "ac = pd.Series(ac)\n",
    "ac.plot()"
   ]
  },
  {
   "cell_type": "markdown",
   "id": "8e9c0cbe-88af-43fa-9c04-d8fc3c1633ee",
   "metadata": {},
   "outputs": [],
   "source": [
    "We can see that 5 features is enough to make 100% accuracy. So let's create list of this 5 features in order to use them for our next classification models."
   ]
  },
  {
   "cell_type": "code",
   "id": "29deeea4-0044-4e5f-97bf-fd1e0f4575df",
   "metadata": {},
   "outputs": [],
   "source": [
    "col = imp.nlargest(5).index\n",
    "col"
   ]
  },
  {
   "cell_type": "markdown",
   "id": "09e50fcd-a5d8-42c6-8b14-e911bbb58b2d",
   "metadata": {},
   "outputs": [],
   "source": [
    "Let's refit the model on most important features"
   ]
  },
  {
   "cell_type": "code",
   "id": "7dcef061-719c-446e-a4e3-6cfd9a4bcb85",
   "metadata": {},
   "outputs": [],
   "source": [
    "X_most_imp = x_enc[col]\n",
    "model_dec_tree.fit(X_most_imp, y)\n",
    "yhat = model_dec_tree.predict(X_most_imp)\n",
    "accuracy = accuracy_score(y, yhat)\n",
    "print('Accuracy: %.2f' % (accuracy*100))"
   ]
  },
  {
   "cell_type": "markdown",
   "id": "b3fd25e7-9917-4da8-a525-83c4e98552c2",
   "metadata": {},
   "outputs": [],
   "source": [
    "### Extra Trees Classifier"
   ]
  },
  {
   "cell_type": "markdown",
   "id": "b492aa1b-8e81-4271-9f10-5f20fef7da27",
   "metadata": {},
   "outputs": [],
   "source": [
    "Let's create and fit ExtraTreesClassifier on most important features and calculate accuracy of classification:"
   ]
  },
  {
   "cell_type": "code",
   "id": "b0d50519-e81c-418c-80d0-ebb6a4acfec8",
   "metadata": {},
   "outputs": [],
   "source": [
    "model = ExtraTreesClassifier()\n",
    "model.fit(X_most_imp, y)"
   ]
  },
  {
   "cell_type": "markdown",
   "id": "e5470bfd-edf7-4028-83fd-012ab1b72891",
   "metadata": {},
   "outputs": [],
   "source": [
    "Evaluate the model for obtain predictions"
   ]
  },
  {
   "cell_type": "code",
   "id": "f33a24a4-5bce-47cb-bcef-10f7ac75c184",
   "metadata": {},
   "outputs": [],
   "source": [
    "yhat = model.predict(X_most_imp)\n",
    "print(yhat)"
   ]
  },
  {
   "cell_type": "markdown",
   "id": "4b362ca4-0b18-4435-adaa-f7c14a5c3ca0",
   "metadata": {},
   "outputs": [],
   "source": [
    "Evaluate accuracy: "
   ]
  },
  {
   "cell_type": "code",
   "id": "4aeea7f2-0eb1-479d-b9e7-c5632e369f9c",
   "metadata": {},
   "outputs": [],
   "source": [
    "accuracy = accuracy_score(y, yhat)\n",
    "print('Accuracy: %.2f' % (accuracy*100))"
   ]
  },
  {
   "cell_type": "markdown",
   "id": "3f0aa4e2-6fcb-46b9-a1d3-c3e7ab4d26f6",
   "metadata": {},
   "outputs": [],
   "source": [
    "<div class=\"alert alert-danger alertdanger\" style=\"margin-top: 20px\">\n",
    "    <h1>Question 2:</h1>\n",
    "    <p>Create the variable, that contains features sorted by importance in descending order for Extra Tree model (using 5 most important features)</p>\n",
    "</div>"
   ]
  },
  {
   "cell_type": "code",
   "id": "c219c028-61f9-4acf-ad40-593d433e6a5e",
   "metadata": {},
   "outputs": [],
   "source": [
    "# Write your code below and press Shift+Enter to execute\n"
   ]
  },
  {
   "cell_type": "markdown",
   "id": "fd6e22d1-22c5-4700-9299-5107843bc13f",
   "metadata": {},
   "outputs": [],
   "source": [
    "<details><summary>Click here for the solution</summary>\n",
    "\n",
    "```python\n",
    "imp = model_imp(X_most_imp, y, model)\n",
    "print(imp)\n",
    "\n",
    "```\n",
    "\n",
    "</details>"
   ]
  },
  {
   "cell_type": "markdown",
   "id": "012d9724-94dc-44e6-95cb-367e7063dc77",
   "metadata": {},
   "outputs": [],
   "source": [
    "<div class=\"alert alert-danger alertdanger\" style=\"margin-top: 20px\">\n",
    "    <h1>Question 3:</h1>\n",
    "    <p>Build plot that show accuracy of Extra Tree model dependence on numbers of input features (using 5 most important features).</p>\n",
    "</div>"
   ]
  },
  {
   "cell_type": "code",
   "id": "5a6345ee-effb-4f32-b9de-96262ccda924",
   "metadata": {},
   "outputs": [],
   "source": [
    "# Write your code below and press Shift+Enter to execute\n"
   ]
  },
  {
   "cell_type": "markdown",
   "id": "f1e40d01-63db-444f-8b88-a07500d4f1b3",
   "metadata": {},
   "outputs": [],
   "source": [
    "<details><summary>Click here for the solution</summary>\n",
    "\n",
    "```python\n",
    "col = []\n",
    "ac = []\n",
    "for c in imp.index:\n",
    "    col.append(c)\n",
    "    ac.append(model_ac(X_most_imp[col], y, model))\n",
    "    print('Input fields: ', len(col), 'Accuracy: %.2f' % (ac[-1]*100))\n",
    "ac = pd.Series(ac)\n",
    "ac.plot()\n",
    "\n",
    "```\n",
    "\n",
    "</details>"
   ]
  },
  {
   "cell_type": "markdown",
   "id": "2839ee35-7bad-462e-b1ba-f75419c1c1e4",
   "metadata": {},
   "outputs": [],
   "source": [
    "### Logistic regression "
   ]
  },
  {
   "cell_type": "markdown",
   "id": "508ecc3a-7bd2-44bc-bf7b-e34e7f1495d3",
   "metadata": {},
   "outputs": [],
   "source": [
    "There are many different techniques for scoring features and selecting features based on scores; how do you know which one to use?\n",
    "\n",
    "A robust approach is to evaluate models using different feature selection methods (and numbers of features) and select the method that results in a model with the best performance.\n",
    "\n",
    "**[Logistic regression](https://scikit-learn.org/stable/modules/generated/sklearn.linear_model.LogisticRegression.html)** is a good model for testing feature selection methods as it can perform better if irrelevant features are removed from the model. We will use this model in absolutelly similar way like previous one."
   ]
  },
  {
   "cell_type": "code",
   "id": "32cbdc5e-52ba-48b8-b772-31ac877e1bb1",
   "metadata": {},
   "outputs": [],
   "source": [
    "model = LogisticRegression(solver='lbfgs')\n",
    "model.fit(X_most_imp, y)\n",
    "yhat = model.predict(X_most_imp)\n",
    "accuracy = accuracy_score(y, yhat)\n",
    "print('Accuracy: %.2f' % (accuracy*100))"
   ]
  },
  {
   "cell_type": "markdown",
   "id": "563a0073-a561-4a6c-8052-01a66094b0c7",
   "metadata": {},
   "outputs": [],
   "source": [
    "As we can see, accuracy of Logistic Regression model is lower (about 80%)."
   ]
  },
  {
   "cell_type": "markdown",
   "id": "4302f011-3be0-4f9c-9f00-407df537942b",
   "metadata": {},
   "outputs": [],
   "source": [
    "<div class=\"alert alert-danger alertdanger\" style=\"margin-top: 20px\">\n",
    "    <h1>Question 4:</h1>\n",
    "    <p>Calculate accuracy of Logistic Regression model using all features.</p>\n",
    "</div>"
   ]
  },
  {
   "cell_type": "code",
   "id": "46cb0967-e6d1-42fb-929b-628a3a0b4aec",
   "metadata": {},
   "outputs": [],
   "source": [
    "# Write your code below and press Shift+Enter to execute\n"
   ]
  },
  {
   "cell_type": "markdown",
   "id": "41404d9d-0190-4357-bd1d-fb48db68ca4d",
   "metadata": {},
   "outputs": [],
   "source": [
    "<details><summary>Click here for the solution</summary>\n",
    "\n",
    "```python\n",
    "model = LogisticRegression(solver='lbfgs')\n",
    "model.fit(x_enc, y)\n",
    "yhat = model.predict(x_enc)\n",
    "accuracy = accuracy_score(y, yhat)\n",
    "print('Accuracy: %.2f' % (accuracy*100))\n",
    "\n",
    "```\n",
    "\n",
    "</details>"
   ]
  },
  {
   "cell_type": "markdown",
   "id": "88a511d0-0418-4057-925d-4db2d95536ed",
   "metadata": {},
   "outputs": [],
   "source": [
    "### Visualization of decision tree"
   ]
  },
  {
   "cell_type": "markdown",
   "id": "4fe4a0eb-e2ef-420e-9f74-ac16b228c00c",
   "metadata": {},
   "outputs": [],
   "source": [
    "Let's visualize decision tree.\n",
    "There are some ways to do it. "
   ]
  },
  {
   "cell_type": "markdown",
   "id": "324b4b08-17e5-4f37-8450-0f16b33a3aec",
   "metadata": {},
   "outputs": [],
   "source": [
    "### _Text visualization_"
   ]
  },
  {
   "cell_type": "code",
   "id": "405b055b-b840-4f9c-af70-4060dc53bdcf",
   "metadata": {},
   "outputs": [],
   "source": [
    "text_representation = tree.export_text(model_dec_tree)\n",
    "print(text_representation)"
   ]
  },
  {
   "cell_type": "markdown",
   "id": "efc2905a-9567-4cfa-8e45-0fb6ea2ed974",
   "metadata": {},
   "outputs": [],
   "source": [
    "You can save it into file:"
   ]
  },
  {
   "cell_type": "code",
   "id": "ed3b4139-d9ff-44c6-ba70-d1c8dd52569b",
   "metadata": {},
   "outputs": [],
   "source": [
    "with open(\"decistion_tree.log\", \"w\") as fout:\n",
    "    fout.write(text_representation)"
   ]
  },
  {
   "cell_type": "markdown",
   "id": "d35b4c30-b7c1-40c6-a86a-a05886aa57fc",
   "metadata": {},
   "outputs": [],
   "source": [
    "### _Plot tree_"
   ]
  },
  {
   "cell_type": "markdown",
   "id": "f03bbd7a-f9a8-4725-ba9b-9e528a6d494b",
   "metadata": {},
   "outputs": [],
   "source": [
    "You can plot tree using by two different way:"
   ]
  },
  {
   "cell_type": "markdown",
   "id": "675dd5b7-5b77-452a-af9d-8aa6ca10f768",
   "metadata": {},
   "outputs": [],
   "source": [
    "**[plot_tree](https://scikit-learn.org/stable/modules/generated/sklearn.tree.plot_tree.html)** (slow render - this can take some time): \n"
   ]
  },
  {
   "cell_type": "code",
   "id": "2e0a87f8-85d3-412d-8905-c991dd05aa92",
   "metadata": {},
   "outputs": [],
   "source": [
    "fig = plt.figure(figsize=(25,20))\n",
    "_ = tree.plot_tree(model_dec_tree,\n",
    "               feature_names = col, \n",
    "               filled = True)"
   ]
  },
  {
   "cell_type": "markdown",
   "id": "1937dd6d-1766-437a-9150-b31af1df14f7",
   "metadata": {},
   "outputs": [],
   "source": [
    "This tree is aimed to help the doctor make a decision about whether our patient is supposed to die of heart failure. But it's problematic to make a decision, because data is normalized here, so we need to fix that. Let's create a model, where the data isn't normalized. "
   ]
  },
  {
   "cell_type": "code",
   "id": "f836395a-02d4-4d9e-bb6c-f3b6cf076736",
   "metadata": {},
   "outputs": [],
   "source": [
    "model_real = DecisionTreeClassifier()\n",
    "X_most_imp_real = df[X_most_imp.columns]\n",
    "\n",
    "oe = OrdinalEncoder()\n",
    "oe.fit(X_most_imp_real[['Age Group']])\n",
    "X_most_imp_real['Age Group'] = oe.transform(X_most_imp_real[['Age Group']]) \n",
    "\n",
    "model_real.fit(X_most_imp_real, y)\n",
    "yhat = model_real.predict(X_most_imp_real)\n",
    "accuracy = accuracy_score(y, yhat)\n",
    "print('Accuracy: %.2f' % (accuracy*100))"
   ]
  },
  {
   "cell_type": "markdown",
   "id": "fd5dca31-878c-46a2-9f08-f30e4ae1c22c",
   "metadata": {},
   "outputs": [],
   "source": [
    "As you can see, we also use `OrdinalEncoder()` to encode categorical columns ('Age Group' in this case) in order to provide correct code executing. We can't make DecisionTree model using categorical values. So after that we can fit the model and predict our target column."
   ]
  },
  {
   "cell_type": "markdown",
   "id": "9864f8ee-ed50-4ed8-962d-2100170a23ba",
   "metadata": {},
   "outputs": [],
   "source": [
    "Let's plot what we've got"
   ]
  },
  {
   "cell_type": "code",
   "id": "93ed20be-84a0-4201-b3d3-207d65477902",
   "metadata": {},
   "outputs": [],
   "source": [
    "fig = plt.figure(figsize=(25,20))\n",
    "_ = tree.plot_tree(model_real,\n",
    "               feature_names = col, \n",
    "               filled = True)"
   ]
  },
  {
   "cell_type": "markdown",
   "id": "6d16cae0-4554-47f5-ac81-4bd672e310c4",
   "metadata": {},
   "outputs": [],
   "source": [
    "Save the picture"
   ]
  },
  {
   "cell_type": "code",
   "id": "c09af174-ab00-4ddb-826c-aeb9b94a0f25",
   "metadata": {},
   "outputs": [],
   "source": [
    "fig.savefig('decision_tree.png')"
   ]
  },
  {
   "cell_type": "markdown",
   "id": "bb18186d-873f-410a-b4af-b6cccdb3cdb4",
   "metadata": {},
   "outputs": [],
   "source": [
    "Now we can see our decision tree is much more understandable. But how can we read column 'Age Group'? In order to deal with this problem, we need to compare numerical values with categorical values. We have 5 categories and 5 numerical values: <br>\n",
    "'21-30' - 0, <br>\n",
    "'31-40' - 1, <br>\n",
    "'41-50' - 2, <br>\n",
    "'51-60' - 3, <br>\n",
    "'61-70' - 4 <br>\n",
    "So 'Age Group <= 2.5' means that first three categories are correct ('21-30', '31-40', '41-50')<br>\n",
    "<h3>How to make a decision</h3>\n",
    "<p>If the expression is true, we move to the left, false - right. For example, we have a patient and data about him:\n",
    "    'Age Group' - '51-60', <br>\n",
    "    'Serum cholesterol' - 8.0, <br>\n",
    "    'Gender-male' - 0, <br>\n",
    "    'Hemoglobin' - 8.0, <br>\n",
    "    'Diabetes' - 1 <br>\n",
    "Age Group <= 2.5' - false; Gender-male <= 0.5 - true; Serum cholesterol <= 7.913 - false; Hemoglobin <= 8.006 - true. Result is true, our patient will die of heart failure.</p>\n",
    "<p>Also, as another example, we can take real data from our DataSet. Let's take a patient with index 0 and check whether the result will be the same.\n",
    "    'Age Group' - '41-50', <br>\n",
    "    'Serum cholesterol' - 10-58, <br>\n",
    "    'Gender-male' - 0, <br>\n",
    "    'Hemoglobin' - 7.2, <br>\n",
    "    'Diabetes' - 1 <br>\n",
    "Age Group <= 2.5' - true; Hemoglobin <= 9.992 - true; Diabetes <= 0.5 - false; Hemoglobin <= 8.192 - true; Hemoglobin <= 6.951 - false. Result is false, this patient won't die of heart failure. Moreover, in the DataSet 'Mortality' of patient with 0 index is 0. So, the result is successful and we learned how to predict mortality of patients using a decision tree. </p>"
   ]
  },
  {
   "cell_type": "markdown",
   "id": "1d11672a-0618-4225-9b44-e47f9f374d2f",
   "metadata": {},
   "outputs": [],
   "source": [
    "Or you can use **[python-graphviz](https://scikit-learn.org/stable/modules/generated/sklearn.tree.export_graphviz.html)** library. This is more fast function"
   ]
  },
  {
   "cell_type": "code",
   "id": "3e0fa079-6e4a-484e-8b03-23b9383f08ec",
   "metadata": {},
   "outputs": [],
   "source": [
    "dot_data = tree.export_graphviz(model_real,\n               feature_names = col,\n                                filled=True)"
   ]
  },
  {
   "cell_type": "markdown",
   "id": "f817b349-bc18-4cf2-af26-c29fb78083a5",
   "metadata": {},
   "outputs": [],
   "source": [
    "After creation you can draw graph"
   ]
  },
  {
   "cell_type": "code",
   "id": "5ecd32fa-a497-4bd8-82cd-b9e644120e31",
   "metadata": {},
   "outputs": [],
   "source": [
    "graph = graphviz.Source(dot_data, format=\"png\") \ngraph"
   ]
  },
  {
   "cell_type": "markdown",
   "id": "723bedf6-35cf-47e5-9e8d-0113e38e0c03",
   "metadata": {},
   "outputs": [],
   "source": [
    "And render it into file:"
   ]
  },
  {
   "cell_type": "code",
   "id": "720e289f-40ba-41c4-89b4-6d8986438c90",
   "metadata": {},
   "outputs": [],
   "source": [
    "graph.render(\"decision_tree_graphivz\")"
   ]
  },
  {
   "cell_type": "markdown",
   "id": "a8a13a07-5f5b-4551-a31f-7ec6dbbf68b3",
   "metadata": {},
   "outputs": [],
   "source": [
    "## Conclusions"
   ]
  },
  {
   "cell_type": "markdown",
   "id": "2dd28831-7732-407c-b2ed-79a19ebfd14c",
   "metadata": {},
   "outputs": [],
   "source": [
    "In this lab we learned to do preliminary data processing. In particular, change data types, normalize and process categorical data. It was shown how to make feature selection by different methods. Shows how to work with different classifiers. It was also shown how to visualize a decision tree.\nAs a result of lab it was shown how on the basis of a statistical database predict if the patient will die of a heart failure.\n\nThe accuracy of Decision Tree and Extra Tree classifiers was 100%. And the accuracy of Logistic Regression about 80%. "
   ]
  },
  {
   "cell_type": "markdown",
   "id": "96acd6d8-81a2-4d5e-958f-60f6193f3a6e",
   "metadata": {},
   "outputs": [],
   "source": [
    "### Thank you for completing this lab!\n\n## Author\n\n<a href=\"https://www.linkedin.com/in/joseph-s-50398b136/?utm_medium=Exinfluencer&utm_source=Exinfluencer&utm_content=000026UJ&utm_term=10006555&utm_id=NA-SkillsNetwork-Channel-SkillsNetworkCoursesIBMDeveloperSkillsNetworkDA0101ENSkillsNetwork20235326-2021-01-01\" target=\"_blank\">Joseph Santarcangelo</a>\n\n### Other Contributors\n\n<a href=\"https://www.linkedin.com/in/mahdi-noorian-58219234/?utm_medium=Exinfluencer&utm_source=Exinfluencer&utm_content=000026UJ&utm_term=10006555&utm_id=NA-SkillsNetwork-Channel-SkillsNetworkCoursesIBMDeveloperSkillsNetworkDA0101ENSkillsNetwork20235326-2021-01-01\" target=\"_blank\">Mahdi Noorian PhD</a>\n\nBahare Talayian\n\nEric Xiao\n\nSteven Dong\n\nParizad\n\nHima Vasudevan\n\n<a href=\"https://www.linkedin.com/in/fiorellawever/?utm_medium=Exinfluencer&utm_source=Exinfluencer&utm_content=000026UJ&utm_term=10006555&utm_id=NA-SkillsNetwork-Channel-SkillsNetworkCoursesIBMDeveloperSkillsNetworkDA0101ENSkillsNetwork20235326-2021-01-01\" target=\"_blank\">Fiorella Wenver</a>\n\n<a href=\"https:// https://www.linkedin.com/in/yi-leng-yao-84451275/ \" target=\"_blank\" >Yi Yao</a>.\n\n## Change Log\n\n| Date (YYYY-MM-DD) | Version | Changed By | Change Description                 |\n| ----------------- | ------- | ---------- | ---------------------------------- |\n\n\n<hr>\n\n## <h3 align=\"center\"> © IBM Corporation 2020. All rights reserved. <h3/>"
   ]
  }
 ],
 "metadata": {
  "language_info": {
   "name": ""
  },
  "kernelspec": {
   "name": "",
   "display_name": ""
  }
 },
 "nbformat": 4,
 "nbformat_minor": 4
}