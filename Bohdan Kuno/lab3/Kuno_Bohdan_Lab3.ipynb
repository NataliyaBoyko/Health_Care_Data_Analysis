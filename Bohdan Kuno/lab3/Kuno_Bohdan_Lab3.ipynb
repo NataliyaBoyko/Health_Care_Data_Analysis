{
 "metadata": {
  "anaconda-cloud": {},
  "kernelspec": {
   "name": "python3",
   "language": "python",
   "display_name": "Python 3"
  },
  "language_info": {
   "codemirror_mode": {
    "name": "python",
    "version": 3
   },
   "file_extension": ".py",
   "mimetype": "text/x-python",
   "name": "python",
   "nbconvert_exporter": "python",
   "pygments_lexer": "ipython3",
   "version": "3.8"
  }
 },
 "nbformat_minor": 4,
 "nbformat": 4,
 "cells": [
  {
   "cell_type": "markdown",
   "source": [
    "<center>\n",
    "    <img src=\"https://cf-courses-data.s3.us.cloud-object-storage.appdomain.cloud/IBMDeveloperSkillsNetwork-DA0101EN-SkillsNetwork/labs/Module%203/images/IDSNlogo.png\" width=\"300\" alt=\"cognitiveclass.ai logo\"  />\n",
    "</center>\n",
    "\n",
    "# Data Analysis with Python\n",
    "\n",
    "Estimated time needed: **30** minutes\n",
    "\n",
    "## Objectives\n",
    "\n",
    "After completing this lab you will be able to:\n",
    "\n",
    "*   Explore features or charecteristics to predict price of car\n"
   ],
   "metadata": {}
  },
  {
   "cell_type": "markdown",
   "source": [
    "<h2>Table of Contents</h2>\n",
    "\n",
    "<div class=\"alert alert-block alert-info\" style=\"margin-top: 20px\">\n",
    "<ol>\n",
    "    <li><a href=\"https://#import_data\">Import Data from Module</a></li>\n",
    "    <li><a href=\"https://#pattern_visualization\">Analyzing Individual Feature Patterns using Visualization</a></li>\n",
    "    <li><a href=\"https://#discriptive_statistics\">Descriptive Statistical Analysis</a></li>\n",
    "    <li><a href=\"https://#basic_grouping\">Basics of Grouping</a></li>\n",
    "    <li><a href=\"https://#correlation_causation\">Correlation and Causation</a></li>\n",
    "    <li><a href=\"https://#anova\">ANOVA</a></li>\n",
    "</ol>\n",
    "\n",
    "</div>\n",
    "\n",
    "<hr>\n"
   ],
   "metadata": {}
  },
  {
   "cell_type": "markdown",
   "source": [
    "<h3>What are the main characteristics that have the most impact on the car price?</h3>\n"
   ],
   "metadata": {}
  },
  {
   "cell_type": "markdown",
   "source": [
    "<h2 id=\"import_data\">1. Import Data from Module 2</h2>\n"
   ],
   "metadata": {}
  },
  {
   "cell_type": "markdown",
   "source": [
    "<h4>Setup</h4>\n"
   ],
   "metadata": {}
  },
  {
   "cell_type": "markdown",
   "source": [
    "you are running the lab in your  browser, so we will install the libraries using `piplite`\n"
   ],
   "metadata": {}
  },
  {
   "cell_type": "code",
   "source": [
    "#you are running the lab in your  browser, so we will install the libraries using ``piplite``\n",
    "# import piplite\n",
    "# await piplite.install(['pandas'])\n",
    "# await piplite.install(['matplotlib'])\n",
    "# await piplite.install(['scipy'])\n",
    "# await piplite.install(['seaborn'])\n"
   ],
   "metadata": {
    "trusted": true
   },
   "execution_count": 1,
   "outputs": []
  },
  {
   "cell_type": "markdown",
   "source": [
    "Import libraries:\n"
   ],
   "metadata": {}
  },
  {
   "cell_type": "markdown",
   "source": [
    "If you run the lab locally using Anaconda, you can load the correct library and versions by uncommenting the following:\n"
   ],
   "metadata": {}
  },
  {
   "cell_type": "code",
   "source": [
    "#If you run the lab locally using Anaconda, you can load the correct library and versions by uncommenting the following:\n",
    "#install specific version of libraries used in lab\n",
    "#! mamba install pandas==1.3.3\n",
    "#! mamba install numpy=1.21.2\n",
    "#! mamba install scipy=1.7.1-y\n",
    "#!  mamba install seaborn=0.9.0-y"
   ],
   "metadata": {
    "trusted": true
   },
   "execution_count": 2,
   "outputs": []
  },
  {
   "cell_type": "code",
   "source": [
    "import pandas as pd\n",
    "import numpy as np"
   ],
   "metadata": {
    "trusted": true
   },
   "execution_count": 3,
   "outputs": []
  },
  {
   "cell_type": "markdown",
   "source": [
    "This function will download the dataset into your browser\n"
   ],
   "metadata": {}
  },
  {
   "cell_type": "code",
   "source": [
    "#This function will download the dataset into your browser \n",
    "#\n",
    "# from pyodide.http import pyfetch\n",
    "#\n",
    "# async def download(url, filename):\n",
    "#     response = await pyfetch(url)\n",
    "#     if response.status == 200:\n",
    "#         with open(filename, \"wb\") as f:\n",
    "#             f.write(await response.bytes())\n"
   ],
   "metadata": {
    "trusted": true
   },
   "execution_count": 4,
   "outputs": []
  },
  {
   "cell_type": "markdown",
   "source": [
    "Load the data and store it in dataframe `df`:\n"
   ],
   "metadata": {}
  },
  {
   "cell_type": "code",
   "source": [
    "path='clean_df.csv'"
   ],
   "metadata": {
    "trusted": true
   },
   "execution_count": 5,
   "outputs": []
  },
  {
   "cell_type": "markdown",
   "source": [
    "\\#you will need to download the dataset; if you are running locally, please comment out the following\n",
    "await download(path, \"auto.csv\")\n",
    "path=\"auto.csv\"\n"
   ],
   "metadata": {}
  },
  {
   "cell_type": "code",
   "source": [
    "# await download(path, \"auto.csv\")\n",
    "# filename=\"auto.csv\""
   ],
   "metadata": {
    "trusted": true
   },
   "execution_count": 6,
   "outputs": []
  },
  {
   "cell_type": "code",
   "source": [
    "df = pd.read_csv(path)\n",
    "df.head()"
   ],
   "metadata": {
    "trusted": true
   },
   "execution_count": 7,
   "outputs": [
    {
     "data": {
      "text/plain": "   Age AgeGroup MaritalStatus  Lifestyle  Sleep Category  Depression  \\\n0   45    41-50       MARRIED      False  False     FREE        True   \n1   51    51-60       MARRIED      False  False     FREE        True   \n2   55    51-60       MARRIED       True   True     FREE        True   \n3   55    51-60       MARRIED       True   True     FREE        True   \n4   56    51-60       MARRIED       True  False     FREE        True   \n\n   Hyperlipidemia  Smoking  Diabetes  ...  SK  SKReact  Reaction  Mortality  \\\n0            True    False         1  ...   1       NO         0          0   \n1            True    False         0  ...   1       NO         0          0   \n2            True    False         1  ...   1       NO         0          0   \n3            True    False         1  ...   1       NO         0          0   \n4            True    False         1  ...   1       NO         0          0   \n\n   FollowUp  Thalach-binned  Gender-female  Gender-male  Locality-rural  \\\n0        60          Medium              1            0               1   \n1        15          Medium              1            0               0   \n2         6          Medium              1            0               1   \n3        52          Medium              1            0               1   \n4        34          Medium              1            0               1   \n\n   Locality-urban  \n0               0  \n1               1  \n2               0  \n3               0  \n4               0  \n\n[5 rows x 56 columns]",
      "text/html": "<div>\n<style scoped>\n    .dataframe tbody tr th:only-of-type {\n        vertical-align: middle;\n    }\n\n    .dataframe tbody tr th {\n        vertical-align: top;\n    }\n\n    .dataframe thead th {\n        text-align: right;\n    }\n</style>\n<table border=\"1\" class=\"dataframe\">\n  <thead>\n    <tr style=\"text-align: right;\">\n      <th></th>\n      <th>Age</th>\n      <th>AgeGroup</th>\n      <th>MaritalStatus</th>\n      <th>Lifestyle</th>\n      <th>Sleep</th>\n      <th>Category</th>\n      <th>Depression</th>\n      <th>Hyperlipidemia</th>\n      <th>Smoking</th>\n      <th>Diabetes</th>\n      <th>...</th>\n      <th>SK</th>\n      <th>SKReact</th>\n      <th>Reaction</th>\n      <th>Mortality</th>\n      <th>FollowUp</th>\n      <th>Thalach-binned</th>\n      <th>Gender-female</th>\n      <th>Gender-male</th>\n      <th>Locality-rural</th>\n      <th>Locality-urban</th>\n    </tr>\n  </thead>\n  <tbody>\n    <tr>\n      <th>0</th>\n      <td>45</td>\n      <td>41-50</td>\n      <td>MARRIED</td>\n      <td>False</td>\n      <td>False</td>\n      <td>FREE</td>\n      <td>True</td>\n      <td>True</td>\n      <td>False</td>\n      <td>1</td>\n      <td>...</td>\n      <td>1</td>\n      <td>NO</td>\n      <td>0</td>\n      <td>0</td>\n      <td>60</td>\n      <td>Medium</td>\n      <td>1</td>\n      <td>0</td>\n      <td>1</td>\n      <td>0</td>\n    </tr>\n    <tr>\n      <th>1</th>\n      <td>51</td>\n      <td>51-60</td>\n      <td>MARRIED</td>\n      <td>False</td>\n      <td>False</td>\n      <td>FREE</td>\n      <td>True</td>\n      <td>True</td>\n      <td>False</td>\n      <td>0</td>\n      <td>...</td>\n      <td>1</td>\n      <td>NO</td>\n      <td>0</td>\n      <td>0</td>\n      <td>15</td>\n      <td>Medium</td>\n      <td>1</td>\n      <td>0</td>\n      <td>0</td>\n      <td>1</td>\n    </tr>\n    <tr>\n      <th>2</th>\n      <td>55</td>\n      <td>51-60</td>\n      <td>MARRIED</td>\n      <td>True</td>\n      <td>True</td>\n      <td>FREE</td>\n      <td>True</td>\n      <td>True</td>\n      <td>False</td>\n      <td>1</td>\n      <td>...</td>\n      <td>1</td>\n      <td>NO</td>\n      <td>0</td>\n      <td>0</td>\n      <td>6</td>\n      <td>Medium</td>\n      <td>1</td>\n      <td>0</td>\n      <td>1</td>\n      <td>0</td>\n    </tr>\n    <tr>\n      <th>3</th>\n      <td>55</td>\n      <td>51-60</td>\n      <td>MARRIED</td>\n      <td>True</td>\n      <td>True</td>\n      <td>FREE</td>\n      <td>True</td>\n      <td>True</td>\n      <td>False</td>\n      <td>1</td>\n      <td>...</td>\n      <td>1</td>\n      <td>NO</td>\n      <td>0</td>\n      <td>0</td>\n      <td>52</td>\n      <td>Medium</td>\n      <td>1</td>\n      <td>0</td>\n      <td>1</td>\n      <td>0</td>\n    </tr>\n    <tr>\n      <th>4</th>\n      <td>56</td>\n      <td>51-60</td>\n      <td>MARRIED</td>\n      <td>True</td>\n      <td>False</td>\n      <td>FREE</td>\n      <td>True</td>\n      <td>True</td>\n      <td>False</td>\n      <td>1</td>\n      <td>...</td>\n      <td>1</td>\n      <td>NO</td>\n      <td>0</td>\n      <td>0</td>\n      <td>34</td>\n      <td>Medium</td>\n      <td>1</td>\n      <td>0</td>\n      <td>1</td>\n      <td>0</td>\n    </tr>\n  </tbody>\n</table>\n<p>5 rows × 56 columns</p>\n</div>"
     },
     "execution_count": 7,
     "metadata": {},
     "output_type": "execute_result"
    }
   ]
  },
  {
   "cell_type": "markdown",
   "source": [
    "Let’s set number of digits in float type."
   ],
   "metadata": {
    "collapsed": false
   }
  },
  {
   "cell_type": "code",
   "execution_count": 8,
   "outputs": [],
   "source": [
    "pd.options.display.float_format = '{:.2f}'.format"
   ],
   "metadata": {
    "collapsed": false,
    "pycharm": {
     "name": "#%%\n"
    }
   }
  },
  {
   "cell_type": "markdown",
   "source": [
    "<h2 id=\"pattern_visualization\">2. Analyzing Individual Feature Patterns Using Visualization</h2>\n"
   ],
   "metadata": {}
  },
  {
   "cell_type": "markdown",
   "source": [
    "To install Seaborn we use pip, the Python package manager.\n"
   ],
   "metadata": {}
  },
  {
   "cell_type": "markdown",
   "source": [
    "Import visualization packages \"Matplotlib\" and \"Seaborn\". Don't forget about \"%matplotlib inline\" to plot in a Jupyter notebook.\n"
   ],
   "metadata": {}
  },
  {
   "cell_type": "code",
   "source": [
    "import matplotlib.pyplot as plt\n",
    "import seaborn as sns\n",
    "%matplotlib inline "
   ],
   "metadata": {
    "trusted": true
   },
   "execution_count": 9,
   "outputs": []
  },
  {
   "cell_type": "markdown",
   "source": [
    "<h4>How to choose the right visualization method?</h4>\n",
    "<p>When visualizing individual variables, it is important to first understand what type of variable you are dealing with. This will help us find the right visualization method for that variable.</p>\n"
   ],
   "metadata": {}
  },
  {
   "cell_type": "code",
   "source": [
    "# list the data types for each column\n",
    "print(df.dtypes)"
   ],
   "metadata": {
    "trusted": true
   },
   "execution_count": 10,
   "outputs": [
    {
     "name": "stdout",
     "output_type": "stream",
     "text": [
      "Age                   int64\n",
      "AgeGroup             object\n",
      "MaritalStatus        object\n",
      "Lifestyle              bool\n",
      "Sleep                  bool\n",
      "Category             object\n",
      "Depression             bool\n",
      "Hyperlipidemia         bool\n",
      "Smoking                bool\n",
      "Diabetes              int64\n",
      "HTN                    bool\n",
      "Allergies              bool\n",
      "BP                  float64\n",
      "Thrombolysis          int64\n",
      "BGR                   int64\n",
      "CPK                   int64\n",
      "CK-MB                 int64\n",
      "ESR                   int64\n",
      "WBC                   int64\n",
      "RBC                 float64\n",
      "Hemoglobin          float64\n",
      "PCV                 float64\n",
      "MCV                 float64\n",
      "MCH                 float64\n",
      "MCHC                float64\n",
      "PlateletCount         int64\n",
      "Neutrophil          float64\n",
      "Lymphocyte          float64\n",
      "Monocyte            float64\n",
      "Eosinophil            int64\n",
      "Others               object\n",
      "CO                   object\n",
      "Diagnosis            object\n",
      "Hypersensitivity       bool\n",
      "CP                    int64\n",
      "Trestbps            float64\n",
      "Chol                float64\n",
      "FBS                   int64\n",
      "Restecg               int64\n",
      "Thalach               int64\n",
      "Exang                 int64\n",
      "Oldpeak             float64\n",
      "Slope                 int64\n",
      "CA                    int64\n",
      "Thal                  int64\n",
      "Num                   int64\n",
      "SK                    int64\n",
      "SKReact              object\n",
      "Reaction              int64\n",
      "Mortality             int64\n",
      "FollowUp              int64\n",
      "Thalach-binned       object\n",
      "Gender-female         int64\n",
      "Gender-male           int64\n",
      "Locality-rural        int64\n",
      "Locality-urban        int64\n",
      "dtype: object\n"
     ]
    }
   ]
  },
  {
   "cell_type": "markdown",
   "source": [
    "<div class=\"alert alert-danger alertdanger\" style=\"margin-top: 20px\">\n",
    "<h3>Question  #1:</h3>\n",
    "\n",
    "<b>What is the data type of the column \"BP\"? </b>\n",
    "\n",
    "</div>\n"
   ],
   "metadata": {}
  },
  {
   "cell_type": "code",
   "source": [
    "# Write your code below and press Shift+Enter to execute \n"
   ],
   "metadata": {
    "trusted": true
   },
   "execution_count": 11,
   "outputs": []
  },
  {
   "cell_type": "markdown",
   "source": [
    "<details><summary>Click here for the solution</summary>\n",
    "\n",
    "```python\n",
    "df['BP'].dtypes\n",
    "```\n",
    "\n",
    "</details>\n"
   ],
   "metadata": {}
  },
  {
   "cell_type": "markdown",
   "source": [
    "For example, we can calculate the correlation between variables  of type \"int64\" or \"float64\" using the method \"corr\":\n"
   ],
   "metadata": {}
  },
  {
   "cell_type": "code",
   "source": [
    "corr = df.corr()\n",
    "corr"
   ],
   "metadata": {
    "trusted": true
   },
   "execution_count": 12,
   "outputs": [
    {
     "data": {
      "text/plain": "                   Age  Lifestyle  Sleep  Depression  Hyperlipidemia  Smoking  \\\nAge               1.00       0.02  -0.01        0.07           -0.02    -0.18   \nLifestyle         0.02       1.00   0.27        0.08            0.19     0.14   \nSleep            -0.01       0.27   1.00       -0.01            0.08    -0.04   \nDepression        0.07       0.08  -0.01        1.00            0.68     0.23   \nHyperlipidemia   -0.02       0.19   0.08        0.68            1.00     0.30   \nSmoking          -0.18       0.14  -0.04        0.23            0.30     1.00   \nDiabetes          0.23       0.05   0.21       -0.03           -0.01    -0.27   \nHTN               0.15       0.01   0.06        0.01           -0.09    -0.33   \nAllergies        -0.10      -0.21  -0.14        0.04            0.05     0.13   \nBP               -0.03       0.07   0.03        0.16            0.11     0.16   \nThrombolysis      0.10      -0.03  -0.15        0.04           -0.30    -0.01   \nBGR              -0.07       0.14  -0.10       -0.14           -0.21     0.22   \nCPK               0.01       0.23  -0.01       -0.01            0.01     0.31   \nCK-MB             0.01       0.19   0.03        0.03            0.04     0.31   \nESR               0.13      -0.31  -0.08       -0.23           -0.14    -0.23   \nWBC               0.02      -0.34  -0.32        0.02            0.10     0.22   \nRBC              -0.23       0.09  -0.11        0.02           -0.02     0.35   \nHemoglobin       -0.20      -0.01   0.08        0.15            0.12     0.24   \nPCV              -0.28       0.03   0.05        0.07            0.09     0.31   \nMCV               0.05      -0.02   0.34        0.17            0.18    -0.07   \nMCH               0.04      -0.17   0.25        0.18            0.18    -0.16   \nMCHC              0.08      -0.26   0.08        0.43            0.28    -0.03   \nPlateletCount     0.05      -0.23   0.11       -0.04            0.09     0.10   \nNeutrophil        0.11       0.04  -0.28       -0.05           -0.13    -0.01   \nLymphocyte       -0.13      -0.03   0.30        0.06            0.14     0.03   \nMonocyte         -0.13      -0.24   0.03       -0.20           -0.10    -0.19   \nEosinophil        0.03      -0.03   0.17        0.14            0.24    -0.03   \nHypersensitivity -0.06      -0.13  -0.15        0.04            0.05    -0.10   \nCP                0.04      -0.08   0.05       -0.09            0.10    -0.08   \nTrestbps          0.30      -0.03  -0.11       -0.01            0.03    -0.12   \nChol              0.18      -0.06  -0.05        0.06           -0.01    -0.12   \nFBS               0.12      -0.04  -0.10        0.05            0.11    -0.01   \nRestecg           0.13      -0.32  -0.11       -0.02           -0.01     0.02   \nThalach          -0.10      -0.08  -0.03        0.00           -0.00     0.01   \nExang            -0.16      -0.11  -0.03       -0.12            0.00     0.03   \nOldpeak           0.10       0.18   0.11        0.14            0.13    -0.06   \nSlope             0.15       0.09   0.02        0.10            0.07    -0.10   \nCA                0.44       0.06   0.02        0.05            0.11    -0.10   \nThal             -0.26       0.11   0.03       -0.11           -0.08     0.10   \nNum               0.12       0.09  -0.16        0.05            0.03    -0.05   \nSK               -0.08       0.15   0.10       -0.03            0.46     0.14   \nReaction         -0.29      -0.00   0.01       -0.04           -0.14     0.54   \nMortality        -0.10      -0.03   0.06        0.05            0.02    -0.16   \nFollowUp          0.17       0.01  -0.04       -0.15           -0.34    -0.01   \nGender-female     0.40       0.03   0.03        0.09            0.15    -0.57   \nGender-male      -0.40      -0.03  -0.03       -0.09           -0.15     0.57   \nLocality-rural    0.26       0.45   0.08        0.14            0.21     0.02   \nLocality-urban   -0.26      -0.45  -0.08       -0.14           -0.21    -0.02   \n\n                  Diabetes   HTN  Allergies    BP  ...  Thal   Num    SK  \\\nAge                   0.23  0.15      -0.10 -0.03  ... -0.26  0.12 -0.08   \nLifestyle             0.05  0.01      -0.21  0.07  ...  0.11  0.09  0.15   \nSleep                 0.21  0.06      -0.14  0.03  ...  0.03 -0.16  0.10   \nDepression           -0.03  0.01       0.04  0.16  ... -0.11  0.05 -0.03   \nHyperlipidemia       -0.01 -0.09       0.05  0.11  ... -0.08  0.03  0.46   \nSmoking              -0.27 -0.33       0.13  0.16  ...  0.10 -0.05  0.14   \nDiabetes              1.00  0.65       0.19  0.01  ... -0.09 -0.01  0.12   \nHTN                   0.65  1.00       0.16 -0.05  ... -0.07  0.15 -0.12   \nAllergies             0.19  0.16       1.00  0.11  ... -0.10  0.02  0.02   \nBP                    0.01 -0.05       0.11  1.00  ... -0.08 -0.06  0.00   \nThrombolysis         -0.17 -0.02      -0.03 -0.12  ... -0.06 -0.02 -0.70   \nBGR                  -0.24 -0.37      -0.09  0.08  ...  0.17 -0.03 -0.07   \nCPK                  -0.15 -0.20      -0.07 -0.11  ... -0.10 -0.13  0.06   \nCK-MB                -0.15 -0.20      -0.08 -0.12  ... -0.10 -0.14  0.03   \nESR                   0.15  0.11      -0.07  0.06  ... -0.10 -0.09  0.01   \nWBC                  -0.22 -0.03       0.06 -0.10  ...  0.00  0.06  0.14   \nRBC                  -0.36 -0.15      -0.16  0.13  ...  0.11  0.07  0.12   \nHemoglobin           -0.21  0.03      -0.15  0.04  ...  0.17  0.03  0.16   \nPCV                  -0.23 -0.03      -0.16  0.03  ...  0.22  0.03  0.17   \nMCV                   0.19  0.12      -0.00 -0.10  ...  0.17 -0.05  0.09   \nMCH                   0.20  0.18       0.04 -0.08  ...  0.11 -0.04  0.07   \nMCHC                  0.24  0.28       0.06  0.02  ... -0.10 -0.08 -0.06   \nPlateletCount         0.20  0.13       0.42  0.00  ... -0.23 -0.10  0.19   \nNeutrophil            0.12  0.12      -0.05 -0.15  ...  0.03  0.06 -0.08   \nLymphocyte           -0.13 -0.10       0.00  0.14  ... -0.03 -0.08  0.07   \nMonocyte              0.07 -0.07       0.51  0.17  ...  0.06  0.02  0.02   \nEosinophil            0.00 -0.11      -0.25  0.06  ... -0.10 -0.06  0.18   \nHypersensitivity     -0.11 -0.11       0.06 -0.01  ...  0.01  0.04  0.02   \nCP                    0.06  0.06       0.07  0.01  ... -0.00  0.14  0.06   \nTrestbps              0.09  0.04      -0.05 -0.13  ...  0.16  0.14  0.01   \nChol                  0.09 -0.04      -0.13 -0.07  ... -0.06  0.05 -0.09   \nFBS                  -0.08 -0.13      -0.07  0.07  ...  0.01 -0.01  0.05   \nRestecg              -0.09 -0.10       0.04  0.00  ... -0.10  0.10 -0.03   \nThalach              -0.02 -0.09       0.02  0.03  ... -0.06 -0.22 -0.08   \nExang                -0.03 -0.02      -0.01  0.03  ...  0.15  0.07  0.10   \nOldpeak              -0.04  0.12      -0.17 -0.16  ...  0.18  0.41  0.05   \nSlope                 0.09  0.15      -0.09 -0.13  ...  0.16  0.32  0.00   \nCA                    0.05 -0.02      -0.05 -0.08  ... -0.04  0.40  0.10   \nThal                 -0.09 -0.07      -0.10 -0.08  ...  1.00  0.27  0.01   \nNum                  -0.01  0.15       0.02 -0.06  ...  0.27  1.00 -0.04   \nSK                    0.12 -0.12       0.02  0.00  ...  0.01 -0.04  1.00   \nReaction             -0.43 -0.28       0.10  0.12  ...  0.20 -0.04 -0.07   \nMortality             0.32  0.18      -0.05 -0.04  ...  0.02 -0.11  0.07   \nFollowUp             -0.05 -0.04       0.05  0.16  ... -0.03 -0.05 -0.26   \nGender-female         0.49  0.31      -0.06 -0.07  ... -0.25  0.03  0.07   \nGender-male          -0.49 -0.31       0.06  0.07  ...  0.25 -0.03 -0.07   \nLocality-rural        0.10  0.02      -0.10 -0.39  ... -0.05  0.01  0.10   \nLocality-urban       -0.10 -0.02       0.10  0.39  ...  0.05 -0.01 -0.10   \n\n                  Reaction  Mortality  FollowUp  Gender-female  Gender-male  \\\nAge                  -0.29      -0.10      0.17           0.40        -0.40   \nLifestyle            -0.00      -0.03      0.01           0.03        -0.03   \nSleep                 0.01       0.06     -0.04           0.03        -0.03   \nDepression           -0.04       0.05     -0.15           0.09        -0.09   \nHyperlipidemia       -0.14       0.02     -0.34           0.15        -0.15   \nSmoking               0.54      -0.16     -0.01          -0.57         0.57   \nDiabetes             -0.43       0.32     -0.05           0.49        -0.49   \nHTN                  -0.28       0.18     -0.04           0.31        -0.31   \nAllergies             0.10      -0.05      0.05          -0.06         0.06   \nBP                    0.12      -0.04      0.16          -0.07         0.07   \nThrombolysis          0.11      -0.10      0.20          -0.10         0.10   \nBGR                   0.33      -0.11      0.23          -0.37         0.37   \nCPK                   0.23      -0.09      0.08          -0.21         0.21   \nCK-MB                 0.22      -0.06      0.08          -0.20         0.20   \nESR                  -0.32       0.02      0.03           0.31        -0.31   \nWBC                   0.28      -0.15     -0.09          -0.25         0.25   \nRBC                   0.44      -0.08     -0.12          -0.42         0.42   \nHemoglobin            0.43       0.01     -0.12          -0.40         0.40   \nPCV                   0.38       0.02     -0.09          -0.41         0.41   \nMCV                   0.00       0.09      0.06           0.02        -0.02   \nMCH                   0.04       0.10     -0.02          -0.02         0.02   \nMCHC                  0.04       0.08     -0.12           0.03        -0.03   \nPlateletCount        -0.15       0.04     -0.09           0.12        -0.12   \nNeutrophil            0.02      -0.10      0.00          -0.00         0.00   \nLymphocyte           -0.02       0.11     -0.00           0.00        -0.00   \nMonocyte             -0.01       0.05     -0.00          -0.02         0.02   \nEosinophil           -0.18       0.09     -0.05           0.16        -0.16   \nHypersensitivity     -0.07       0.01     -0.16          -0.06         0.06   \nCP                   -0.15      -0.04      0.03           0.15        -0.15   \nTrestbps             -0.30      -0.10      0.06           0.33        -0.33   \nChol                 -0.20       0.18     -0.21           0.22        -0.22   \nFBS                  -0.03      -0.02      0.15           0.04        -0.04   \nRestecg              -0.04      -0.01     -0.09           0.05        -0.05   \nThalach              -0.10      -0.04      0.01           0.09        -0.09   \nExang                 0.13      -0.11      0.01          -0.15         0.15   \nOldpeak              -0.08      -0.11     -0.08           0.10        -0.10   \nSlope                -0.13       0.03     -0.01           0.14        -0.14   \nCA                   -0.16      -0.16     -0.07           0.21        -0.21   \nThal                  0.20       0.02     -0.03          -0.25         0.25   \nNum                  -0.04      -0.11     -0.05           0.03        -0.03   \nSK                   -0.07       0.07     -0.26           0.07        -0.07   \nReaction              1.00      -0.28      0.01          -0.91         0.91   \nMortality            -0.28       1.00     -0.18           0.25        -0.25   \nFollowUp              0.01      -0.18      1.00           0.02        -0.02   \nGender-female        -0.91       0.25      0.02           1.00        -1.00   \nGender-male           0.91      -0.25     -0.02          -1.00         1.00   \nLocality-rural       -0.37       0.12      0.06           0.39        -0.39   \nLocality-urban        0.37      -0.12     -0.06          -0.39         0.39   \n\n                  Locality-rural  Locality-urban  \nAge                         0.26           -0.26  \nLifestyle                   0.45           -0.45  \nSleep                       0.08           -0.08  \nDepression                  0.14           -0.14  \nHyperlipidemia              0.21           -0.21  \nSmoking                     0.02           -0.02  \nDiabetes                    0.10           -0.10  \nHTN                         0.02           -0.02  \nAllergies                  -0.10            0.10  \nBP                         -0.39            0.39  \nThrombolysis                0.05           -0.05  \nBGR                        -0.16            0.16  \nCPK                         0.04           -0.04  \nCK-MB                       0.06           -0.06  \nESR                        -0.18            0.18  \nWBC                        -0.14            0.14  \nRBC                        -0.21            0.21  \nHemoglobin                 -0.20            0.20  \nPCV                        -0.16            0.16  \nMCV                         0.09           -0.09  \nMCH                        -0.06            0.06  \nMCHC                       -0.14            0.14  \nPlateletCount              -0.09            0.09  \nNeutrophil                  0.08           -0.08  \nLymphocyte                 -0.07            0.07  \nMonocyte                   -0.35            0.35  \nEosinophil                  0.05           -0.05  \nHypersensitivity           -0.04            0.04  \nCP                         -0.04            0.04  \nTrestbps                    0.07           -0.07  \nChol                        0.10           -0.10  \nFBS                         0.07           -0.07  \nRestecg                    -0.20            0.20  \nThalach                     0.02           -0.02  \nExang                      -0.13            0.13  \nOldpeak                     0.16           -0.16  \nSlope                       0.14           -0.14  \nCA                          0.17           -0.17  \nThal                       -0.05            0.05  \nNum                         0.01           -0.01  \nSK                          0.10           -0.10  \nReaction                   -0.37            0.37  \nMortality                   0.12           -0.12  \nFollowUp                    0.06           -0.06  \nGender-female               0.39           -0.39  \nGender-male                -0.39            0.39  \nLocality-rural              1.00           -1.00  \nLocality-urban             -1.00            1.00  \n\n[48 rows x 48 columns]",
      "text/html": "<div>\n<style scoped>\n    .dataframe tbody tr th:only-of-type {\n        vertical-align: middle;\n    }\n\n    .dataframe tbody tr th {\n        vertical-align: top;\n    }\n\n    .dataframe thead th {\n        text-align: right;\n    }\n</style>\n<table border=\"1\" class=\"dataframe\">\n  <thead>\n    <tr style=\"text-align: right;\">\n      <th></th>\n      <th>Age</th>\n      <th>Lifestyle</th>\n      <th>Sleep</th>\n      <th>Depression</th>\n      <th>Hyperlipidemia</th>\n      <th>Smoking</th>\n      <th>Diabetes</th>\n      <th>HTN</th>\n      <th>Allergies</th>\n      <th>BP</th>\n      <th>...</th>\n      <th>Thal</th>\n      <th>Num</th>\n      <th>SK</th>\n      <th>Reaction</th>\n      <th>Mortality</th>\n      <th>FollowUp</th>\n      <th>Gender-female</th>\n      <th>Gender-male</th>\n      <th>Locality-rural</th>\n      <th>Locality-urban</th>\n    </tr>\n  </thead>\n  <tbody>\n    <tr>\n      <th>Age</th>\n      <td>1.00</td>\n      <td>0.02</td>\n      <td>-0.01</td>\n      <td>0.07</td>\n      <td>-0.02</td>\n      <td>-0.18</td>\n      <td>0.23</td>\n      <td>0.15</td>\n      <td>-0.10</td>\n      <td>-0.03</td>\n      <td>...</td>\n      <td>-0.26</td>\n      <td>0.12</td>\n      <td>-0.08</td>\n      <td>-0.29</td>\n      <td>-0.10</td>\n      <td>0.17</td>\n      <td>0.40</td>\n      <td>-0.40</td>\n      <td>0.26</td>\n      <td>-0.26</td>\n    </tr>\n    <tr>\n      <th>Lifestyle</th>\n      <td>0.02</td>\n      <td>1.00</td>\n      <td>0.27</td>\n      <td>0.08</td>\n      <td>0.19</td>\n      <td>0.14</td>\n      <td>0.05</td>\n      <td>0.01</td>\n      <td>-0.21</td>\n      <td>0.07</td>\n      <td>...</td>\n      <td>0.11</td>\n      <td>0.09</td>\n      <td>0.15</td>\n      <td>-0.00</td>\n      <td>-0.03</td>\n      <td>0.01</td>\n      <td>0.03</td>\n      <td>-0.03</td>\n      <td>0.45</td>\n      <td>-0.45</td>\n    </tr>\n    <tr>\n      <th>Sleep</th>\n      <td>-0.01</td>\n      <td>0.27</td>\n      <td>1.00</td>\n      <td>-0.01</td>\n      <td>0.08</td>\n      <td>-0.04</td>\n      <td>0.21</td>\n      <td>0.06</td>\n      <td>-0.14</td>\n      <td>0.03</td>\n      <td>...</td>\n      <td>0.03</td>\n      <td>-0.16</td>\n      <td>0.10</td>\n      <td>0.01</td>\n      <td>0.06</td>\n      <td>-0.04</td>\n      <td>0.03</td>\n      <td>-0.03</td>\n      <td>0.08</td>\n      <td>-0.08</td>\n    </tr>\n    <tr>\n      <th>Depression</th>\n      <td>0.07</td>\n      <td>0.08</td>\n      <td>-0.01</td>\n      <td>1.00</td>\n      <td>0.68</td>\n      <td>0.23</td>\n      <td>-0.03</td>\n      <td>0.01</td>\n      <td>0.04</td>\n      <td>0.16</td>\n      <td>...</td>\n      <td>-0.11</td>\n      <td>0.05</td>\n      <td>-0.03</td>\n      <td>-0.04</td>\n      <td>0.05</td>\n      <td>-0.15</td>\n      <td>0.09</td>\n      <td>-0.09</td>\n      <td>0.14</td>\n      <td>-0.14</td>\n    </tr>\n    <tr>\n      <th>Hyperlipidemia</th>\n      <td>-0.02</td>\n      <td>0.19</td>\n      <td>0.08</td>\n      <td>0.68</td>\n      <td>1.00</td>\n      <td>0.30</td>\n      <td>-0.01</td>\n      <td>-0.09</td>\n      <td>0.05</td>\n      <td>0.11</td>\n      <td>...</td>\n      <td>-0.08</td>\n      <td>0.03</td>\n      <td>0.46</td>\n      <td>-0.14</td>\n      <td>0.02</td>\n      <td>-0.34</td>\n      <td>0.15</td>\n      <td>-0.15</td>\n      <td>0.21</td>\n      <td>-0.21</td>\n    </tr>\n    <tr>\n      <th>Smoking</th>\n      <td>-0.18</td>\n      <td>0.14</td>\n      <td>-0.04</td>\n      <td>0.23</td>\n      <td>0.30</td>\n      <td>1.00</td>\n      <td>-0.27</td>\n      <td>-0.33</td>\n      <td>0.13</td>\n      <td>0.16</td>\n      <td>...</td>\n      <td>0.10</td>\n      <td>-0.05</td>\n      <td>0.14</td>\n      <td>0.54</td>\n      <td>-0.16</td>\n      <td>-0.01</td>\n      <td>-0.57</td>\n      <td>0.57</td>\n      <td>0.02</td>\n      <td>-0.02</td>\n    </tr>\n    <tr>\n      <th>Diabetes</th>\n      <td>0.23</td>\n      <td>0.05</td>\n      <td>0.21</td>\n      <td>-0.03</td>\n      <td>-0.01</td>\n      <td>-0.27</td>\n      <td>1.00</td>\n      <td>0.65</td>\n      <td>0.19</td>\n      <td>0.01</td>\n      <td>...</td>\n      <td>-0.09</td>\n      <td>-0.01</td>\n      <td>0.12</td>\n      <td>-0.43</td>\n      <td>0.32</td>\n      <td>-0.05</td>\n      <td>0.49</td>\n      <td>-0.49</td>\n      <td>0.10</td>\n      <td>-0.10</td>\n    </tr>\n    <tr>\n      <th>HTN</th>\n      <td>0.15</td>\n      <td>0.01</td>\n      <td>0.06</td>\n      <td>0.01</td>\n      <td>-0.09</td>\n      <td>-0.33</td>\n      <td>0.65</td>\n      <td>1.00</td>\n      <td>0.16</td>\n      <td>-0.05</td>\n      <td>...</td>\n      <td>-0.07</td>\n      <td>0.15</td>\n      <td>-0.12</td>\n      <td>-0.28</td>\n      <td>0.18</td>\n      <td>-0.04</td>\n      <td>0.31</td>\n      <td>-0.31</td>\n      <td>0.02</td>\n      <td>-0.02</td>\n    </tr>\n    <tr>\n      <th>Allergies</th>\n      <td>-0.10</td>\n      <td>-0.21</td>\n      <td>-0.14</td>\n      <td>0.04</td>\n      <td>0.05</td>\n      <td>0.13</td>\n      <td>0.19</td>\n      <td>0.16</td>\n      <td>1.00</td>\n      <td>0.11</td>\n      <td>...</td>\n      <td>-0.10</td>\n      <td>0.02</td>\n      <td>0.02</td>\n      <td>0.10</td>\n      <td>-0.05</td>\n      <td>0.05</td>\n      <td>-0.06</td>\n      <td>0.06</td>\n      <td>-0.10</td>\n      <td>0.10</td>\n    </tr>\n    <tr>\n      <th>BP</th>\n      <td>-0.03</td>\n      <td>0.07</td>\n      <td>0.03</td>\n      <td>0.16</td>\n      <td>0.11</td>\n      <td>0.16</td>\n      <td>0.01</td>\n      <td>-0.05</td>\n      <td>0.11</td>\n      <td>1.00</td>\n      <td>...</td>\n      <td>-0.08</td>\n      <td>-0.06</td>\n      <td>0.00</td>\n      <td>0.12</td>\n      <td>-0.04</td>\n      <td>0.16</td>\n      <td>-0.07</td>\n      <td>0.07</td>\n      <td>-0.39</td>\n      <td>0.39</td>\n    </tr>\n    <tr>\n      <th>Thrombolysis</th>\n      <td>0.10</td>\n      <td>-0.03</td>\n      <td>-0.15</td>\n      <td>0.04</td>\n      <td>-0.30</td>\n      <td>-0.01</td>\n      <td>-0.17</td>\n      <td>-0.02</td>\n      <td>-0.03</td>\n      <td>-0.12</td>\n      <td>...</td>\n      <td>-0.06</td>\n      <td>-0.02</td>\n      <td>-0.70</td>\n      <td>0.11</td>\n      <td>-0.10</td>\n      <td>0.20</td>\n      <td>-0.10</td>\n      <td>0.10</td>\n      <td>0.05</td>\n      <td>-0.05</td>\n    </tr>\n    <tr>\n      <th>BGR</th>\n      <td>-0.07</td>\n      <td>0.14</td>\n      <td>-0.10</td>\n      <td>-0.14</td>\n      <td>-0.21</td>\n      <td>0.22</td>\n      <td>-0.24</td>\n      <td>-0.37</td>\n      <td>-0.09</td>\n      <td>0.08</td>\n      <td>...</td>\n      <td>0.17</td>\n      <td>-0.03</td>\n      <td>-0.07</td>\n      <td>0.33</td>\n      <td>-0.11</td>\n      <td>0.23</td>\n      <td>-0.37</td>\n      <td>0.37</td>\n      <td>-0.16</td>\n      <td>0.16</td>\n    </tr>\n    <tr>\n      <th>CPK</th>\n      <td>0.01</td>\n      <td>0.23</td>\n      <td>-0.01</td>\n      <td>-0.01</td>\n      <td>0.01</td>\n      <td>0.31</td>\n      <td>-0.15</td>\n      <td>-0.20</td>\n      <td>-0.07</td>\n      <td>-0.11</td>\n      <td>...</td>\n      <td>-0.10</td>\n      <td>-0.13</td>\n      <td>0.06</td>\n      <td>0.23</td>\n      <td>-0.09</td>\n      <td>0.08</td>\n      <td>-0.21</td>\n      <td>0.21</td>\n      <td>0.04</td>\n      <td>-0.04</td>\n    </tr>\n    <tr>\n      <th>CK-MB</th>\n      <td>0.01</td>\n      <td>0.19</td>\n      <td>0.03</td>\n      <td>0.03</td>\n      <td>0.04</td>\n      <td>0.31</td>\n      <td>-0.15</td>\n      <td>-0.20</td>\n      <td>-0.08</td>\n      <td>-0.12</td>\n      <td>...</td>\n      <td>-0.10</td>\n      <td>-0.14</td>\n      <td>0.03</td>\n      <td>0.22</td>\n      <td>-0.06</td>\n      <td>0.08</td>\n      <td>-0.20</td>\n      <td>0.20</td>\n      <td>0.06</td>\n      <td>-0.06</td>\n    </tr>\n    <tr>\n      <th>ESR</th>\n      <td>0.13</td>\n      <td>-0.31</td>\n      <td>-0.08</td>\n      <td>-0.23</td>\n      <td>-0.14</td>\n      <td>-0.23</td>\n      <td>0.15</td>\n      <td>0.11</td>\n      <td>-0.07</td>\n      <td>0.06</td>\n      <td>...</td>\n      <td>-0.10</td>\n      <td>-0.09</td>\n      <td>0.01</td>\n      <td>-0.32</td>\n      <td>0.02</td>\n      <td>0.03</td>\n      <td>0.31</td>\n      <td>-0.31</td>\n      <td>-0.18</td>\n      <td>0.18</td>\n    </tr>\n    <tr>\n      <th>WBC</th>\n      <td>0.02</td>\n      <td>-0.34</td>\n      <td>-0.32</td>\n      <td>0.02</td>\n      <td>0.10</td>\n      <td>0.22</td>\n      <td>-0.22</td>\n      <td>-0.03</td>\n      <td>0.06</td>\n      <td>-0.10</td>\n      <td>...</td>\n      <td>0.00</td>\n      <td>0.06</td>\n      <td>0.14</td>\n      <td>0.28</td>\n      <td>-0.15</td>\n      <td>-0.09</td>\n      <td>-0.25</td>\n      <td>0.25</td>\n      <td>-0.14</td>\n      <td>0.14</td>\n    </tr>\n    <tr>\n      <th>RBC</th>\n      <td>-0.23</td>\n      <td>0.09</td>\n      <td>-0.11</td>\n      <td>0.02</td>\n      <td>-0.02</td>\n      <td>0.35</td>\n      <td>-0.36</td>\n      <td>-0.15</td>\n      <td>-0.16</td>\n      <td>0.13</td>\n      <td>...</td>\n      <td>0.11</td>\n      <td>0.07</td>\n      <td>0.12</td>\n      <td>0.44</td>\n      <td>-0.08</td>\n      <td>-0.12</td>\n      <td>-0.42</td>\n      <td>0.42</td>\n      <td>-0.21</td>\n      <td>0.21</td>\n    </tr>\n    <tr>\n      <th>Hemoglobin</th>\n      <td>-0.20</td>\n      <td>-0.01</td>\n      <td>0.08</td>\n      <td>0.15</td>\n      <td>0.12</td>\n      <td>0.24</td>\n      <td>-0.21</td>\n      <td>0.03</td>\n      <td>-0.15</td>\n      <td>0.04</td>\n      <td>...</td>\n      <td>0.17</td>\n      <td>0.03</td>\n      <td>0.16</td>\n      <td>0.43</td>\n      <td>0.01</td>\n      <td>-0.12</td>\n      <td>-0.40</td>\n      <td>0.40</td>\n      <td>-0.20</td>\n      <td>0.20</td>\n    </tr>\n    <tr>\n      <th>PCV</th>\n      <td>-0.28</td>\n      <td>0.03</td>\n      <td>0.05</td>\n      <td>0.07</td>\n      <td>0.09</td>\n      <td>0.31</td>\n      <td>-0.23</td>\n      <td>-0.03</td>\n      <td>-0.16</td>\n      <td>0.03</td>\n      <td>...</td>\n      <td>0.22</td>\n      <td>0.03</td>\n      <td>0.17</td>\n      <td>0.38</td>\n      <td>0.02</td>\n      <td>-0.09</td>\n      <td>-0.41</td>\n      <td>0.41</td>\n      <td>-0.16</td>\n      <td>0.16</td>\n    </tr>\n    <tr>\n      <th>MCV</th>\n      <td>0.05</td>\n      <td>-0.02</td>\n      <td>0.34</td>\n      <td>0.17</td>\n      <td>0.18</td>\n      <td>-0.07</td>\n      <td>0.19</td>\n      <td>0.12</td>\n      <td>-0.00</td>\n      <td>-0.10</td>\n      <td>...</td>\n      <td>0.17</td>\n      <td>-0.05</td>\n      <td>0.09</td>\n      <td>0.00</td>\n      <td>0.09</td>\n      <td>0.06</td>\n      <td>0.02</td>\n      <td>-0.02</td>\n      <td>0.09</td>\n      <td>-0.09</td>\n    </tr>\n    <tr>\n      <th>MCH</th>\n      <td>0.04</td>\n      <td>-0.17</td>\n      <td>0.25</td>\n      <td>0.18</td>\n      <td>0.18</td>\n      <td>-0.16</td>\n      <td>0.20</td>\n      <td>0.18</td>\n      <td>0.04</td>\n      <td>-0.08</td>\n      <td>...</td>\n      <td>0.11</td>\n      <td>-0.04</td>\n      <td>0.07</td>\n      <td>0.04</td>\n      <td>0.10</td>\n      <td>-0.02</td>\n      <td>-0.02</td>\n      <td>0.02</td>\n      <td>-0.06</td>\n      <td>0.06</td>\n    </tr>\n    <tr>\n      <th>MCHC</th>\n      <td>0.08</td>\n      <td>-0.26</td>\n      <td>0.08</td>\n      <td>0.43</td>\n      <td>0.28</td>\n      <td>-0.03</td>\n      <td>0.24</td>\n      <td>0.28</td>\n      <td>0.06</td>\n      <td>0.02</td>\n      <td>...</td>\n      <td>-0.10</td>\n      <td>-0.08</td>\n      <td>-0.06</td>\n      <td>0.04</td>\n      <td>0.08</td>\n      <td>-0.12</td>\n      <td>0.03</td>\n      <td>-0.03</td>\n      <td>-0.14</td>\n      <td>0.14</td>\n    </tr>\n    <tr>\n      <th>PlateletCount</th>\n      <td>0.05</td>\n      <td>-0.23</td>\n      <td>0.11</td>\n      <td>-0.04</td>\n      <td>0.09</td>\n      <td>0.10</td>\n      <td>0.20</td>\n      <td>0.13</td>\n      <td>0.42</td>\n      <td>0.00</td>\n      <td>...</td>\n      <td>-0.23</td>\n      <td>-0.10</td>\n      <td>0.19</td>\n      <td>-0.15</td>\n      <td>0.04</td>\n      <td>-0.09</td>\n      <td>0.12</td>\n      <td>-0.12</td>\n      <td>-0.09</td>\n      <td>0.09</td>\n    </tr>\n    <tr>\n      <th>Neutrophil</th>\n      <td>0.11</td>\n      <td>0.04</td>\n      <td>-0.28</td>\n      <td>-0.05</td>\n      <td>-0.13</td>\n      <td>-0.01</td>\n      <td>0.12</td>\n      <td>0.12</td>\n      <td>-0.05</td>\n      <td>-0.15</td>\n      <td>...</td>\n      <td>0.03</td>\n      <td>0.06</td>\n      <td>-0.08</td>\n      <td>0.02</td>\n      <td>-0.10</td>\n      <td>0.00</td>\n      <td>-0.00</td>\n      <td>0.00</td>\n      <td>0.08</td>\n      <td>-0.08</td>\n    </tr>\n    <tr>\n      <th>Lymphocyte</th>\n      <td>-0.13</td>\n      <td>-0.03</td>\n      <td>0.30</td>\n      <td>0.06</td>\n      <td>0.14</td>\n      <td>0.03</td>\n      <td>-0.13</td>\n      <td>-0.10</td>\n      <td>0.00</td>\n      <td>0.14</td>\n      <td>...</td>\n      <td>-0.03</td>\n      <td>-0.08</td>\n      <td>0.07</td>\n      <td>-0.02</td>\n      <td>0.11</td>\n      <td>-0.00</td>\n      <td>0.00</td>\n      <td>-0.00</td>\n      <td>-0.07</td>\n      <td>0.07</td>\n    </tr>\n    <tr>\n      <th>Monocyte</th>\n      <td>-0.13</td>\n      <td>-0.24</td>\n      <td>0.03</td>\n      <td>-0.20</td>\n      <td>-0.10</td>\n      <td>-0.19</td>\n      <td>0.07</td>\n      <td>-0.07</td>\n      <td>0.51</td>\n      <td>0.17</td>\n      <td>...</td>\n      <td>0.06</td>\n      <td>0.02</td>\n      <td>0.02</td>\n      <td>-0.01</td>\n      <td>0.05</td>\n      <td>-0.00</td>\n      <td>-0.02</td>\n      <td>0.02</td>\n      <td>-0.35</td>\n      <td>0.35</td>\n    </tr>\n    <tr>\n      <th>Eosinophil</th>\n      <td>0.03</td>\n      <td>-0.03</td>\n      <td>0.17</td>\n      <td>0.14</td>\n      <td>0.24</td>\n      <td>-0.03</td>\n      <td>0.00</td>\n      <td>-0.11</td>\n      <td>-0.25</td>\n      <td>0.06</td>\n      <td>...</td>\n      <td>-0.10</td>\n      <td>-0.06</td>\n      <td>0.18</td>\n      <td>-0.18</td>\n      <td>0.09</td>\n      <td>-0.05</td>\n      <td>0.16</td>\n      <td>-0.16</td>\n      <td>0.05</td>\n      <td>-0.05</td>\n    </tr>\n    <tr>\n      <th>Hypersensitivity</th>\n      <td>-0.06</td>\n      <td>-0.13</td>\n      <td>-0.15</td>\n      <td>0.04</td>\n      <td>0.05</td>\n      <td>-0.10</td>\n      <td>-0.11</td>\n      <td>-0.11</td>\n      <td>0.06</td>\n      <td>-0.01</td>\n      <td>...</td>\n      <td>0.01</td>\n      <td>0.04</td>\n      <td>0.02</td>\n      <td>-0.07</td>\n      <td>0.01</td>\n      <td>-0.16</td>\n      <td>-0.06</td>\n      <td>0.06</td>\n      <td>-0.04</td>\n      <td>0.04</td>\n    </tr>\n    <tr>\n      <th>CP</th>\n      <td>0.04</td>\n      <td>-0.08</td>\n      <td>0.05</td>\n      <td>-0.09</td>\n      <td>0.10</td>\n      <td>-0.08</td>\n      <td>0.06</td>\n      <td>0.06</td>\n      <td>0.07</td>\n      <td>0.01</td>\n      <td>...</td>\n      <td>-0.00</td>\n      <td>0.14</td>\n      <td>0.06</td>\n      <td>-0.15</td>\n      <td>-0.04</td>\n      <td>0.03</td>\n      <td>0.15</td>\n      <td>-0.15</td>\n      <td>-0.04</td>\n      <td>0.04</td>\n    </tr>\n    <tr>\n      <th>Trestbps</th>\n      <td>0.30</td>\n      <td>-0.03</td>\n      <td>-0.11</td>\n      <td>-0.01</td>\n      <td>0.03</td>\n      <td>-0.12</td>\n      <td>0.09</td>\n      <td>0.04</td>\n      <td>-0.05</td>\n      <td>-0.13</td>\n      <td>...</td>\n      <td>0.16</td>\n      <td>0.14</td>\n      <td>0.01</td>\n      <td>-0.30</td>\n      <td>-0.10</td>\n      <td>0.06</td>\n      <td>0.33</td>\n      <td>-0.33</td>\n      <td>0.07</td>\n      <td>-0.07</td>\n    </tr>\n    <tr>\n      <th>Chol</th>\n      <td>0.18</td>\n      <td>-0.06</td>\n      <td>-0.05</td>\n      <td>0.06</td>\n      <td>-0.01</td>\n      <td>-0.12</td>\n      <td>0.09</td>\n      <td>-0.04</td>\n      <td>-0.13</td>\n      <td>-0.07</td>\n      <td>...</td>\n      <td>-0.06</td>\n      <td>0.05</td>\n      <td>-0.09</td>\n      <td>-0.20</td>\n      <td>0.18</td>\n      <td>-0.21</td>\n      <td>0.22</td>\n      <td>-0.22</td>\n      <td>0.10</td>\n      <td>-0.10</td>\n    </tr>\n    <tr>\n      <th>FBS</th>\n      <td>0.12</td>\n      <td>-0.04</td>\n      <td>-0.10</td>\n      <td>0.05</td>\n      <td>0.11</td>\n      <td>-0.01</td>\n      <td>-0.08</td>\n      <td>-0.13</td>\n      <td>-0.07</td>\n      <td>0.07</td>\n      <td>...</td>\n      <td>0.01</td>\n      <td>-0.01</td>\n      <td>0.05</td>\n      <td>-0.03</td>\n      <td>-0.02</td>\n      <td>0.15</td>\n      <td>0.04</td>\n      <td>-0.04</td>\n      <td>0.07</td>\n      <td>-0.07</td>\n    </tr>\n    <tr>\n      <th>Restecg</th>\n      <td>0.13</td>\n      <td>-0.32</td>\n      <td>-0.11</td>\n      <td>-0.02</td>\n      <td>-0.01</td>\n      <td>0.02</td>\n      <td>-0.09</td>\n      <td>-0.10</td>\n      <td>0.04</td>\n      <td>0.00</td>\n      <td>...</td>\n      <td>-0.10</td>\n      <td>0.10</td>\n      <td>-0.03</td>\n      <td>-0.04</td>\n      <td>-0.01</td>\n      <td>-0.09</td>\n      <td>0.05</td>\n      <td>-0.05</td>\n      <td>-0.20</td>\n      <td>0.20</td>\n    </tr>\n    <tr>\n      <th>Thalach</th>\n      <td>-0.10</td>\n      <td>-0.08</td>\n      <td>-0.03</td>\n      <td>0.00</td>\n      <td>-0.00</td>\n      <td>0.01</td>\n      <td>-0.02</td>\n      <td>-0.09</td>\n      <td>0.02</td>\n      <td>0.03</td>\n      <td>...</td>\n      <td>-0.06</td>\n      <td>-0.22</td>\n      <td>-0.08</td>\n      <td>-0.10</td>\n      <td>-0.04</td>\n      <td>0.01</td>\n      <td>0.09</td>\n      <td>-0.09</td>\n      <td>0.02</td>\n      <td>-0.02</td>\n    </tr>\n    <tr>\n      <th>Exang</th>\n      <td>-0.16</td>\n      <td>-0.11</td>\n      <td>-0.03</td>\n      <td>-0.12</td>\n      <td>0.00</td>\n      <td>0.03</td>\n      <td>-0.03</td>\n      <td>-0.02</td>\n      <td>-0.01</td>\n      <td>0.03</td>\n      <td>...</td>\n      <td>0.15</td>\n      <td>0.07</td>\n      <td>0.10</td>\n      <td>0.13</td>\n      <td>-0.11</td>\n      <td>0.01</td>\n      <td>-0.15</td>\n      <td>0.15</td>\n      <td>-0.13</td>\n      <td>0.13</td>\n    </tr>\n    <tr>\n      <th>Oldpeak</th>\n      <td>0.10</td>\n      <td>0.18</td>\n      <td>0.11</td>\n      <td>0.14</td>\n      <td>0.13</td>\n      <td>-0.06</td>\n      <td>-0.04</td>\n      <td>0.12</td>\n      <td>-0.17</td>\n      <td>-0.16</td>\n      <td>...</td>\n      <td>0.18</td>\n      <td>0.41</td>\n      <td>0.05</td>\n      <td>-0.08</td>\n      <td>-0.11</td>\n      <td>-0.08</td>\n      <td>0.10</td>\n      <td>-0.10</td>\n      <td>0.16</td>\n      <td>-0.16</td>\n    </tr>\n    <tr>\n      <th>Slope</th>\n      <td>0.15</td>\n      <td>0.09</td>\n      <td>0.02</td>\n      <td>0.10</td>\n      <td>0.07</td>\n      <td>-0.10</td>\n      <td>0.09</td>\n      <td>0.15</td>\n      <td>-0.09</td>\n      <td>-0.13</td>\n      <td>...</td>\n      <td>0.16</td>\n      <td>0.32</td>\n      <td>0.00</td>\n      <td>-0.13</td>\n      <td>0.03</td>\n      <td>-0.01</td>\n      <td>0.14</td>\n      <td>-0.14</td>\n      <td>0.14</td>\n      <td>-0.14</td>\n    </tr>\n    <tr>\n      <th>CA</th>\n      <td>0.44</td>\n      <td>0.06</td>\n      <td>0.02</td>\n      <td>0.05</td>\n      <td>0.11</td>\n      <td>-0.10</td>\n      <td>0.05</td>\n      <td>-0.02</td>\n      <td>-0.05</td>\n      <td>-0.08</td>\n      <td>...</td>\n      <td>-0.04</td>\n      <td>0.40</td>\n      <td>0.10</td>\n      <td>-0.16</td>\n      <td>-0.16</td>\n      <td>-0.07</td>\n      <td>0.21</td>\n      <td>-0.21</td>\n      <td>0.17</td>\n      <td>-0.17</td>\n    </tr>\n    <tr>\n      <th>Thal</th>\n      <td>-0.26</td>\n      <td>0.11</td>\n      <td>0.03</td>\n      <td>-0.11</td>\n      <td>-0.08</td>\n      <td>0.10</td>\n      <td>-0.09</td>\n      <td>-0.07</td>\n      <td>-0.10</td>\n      <td>-0.08</td>\n      <td>...</td>\n      <td>1.00</td>\n      <td>0.27</td>\n      <td>0.01</td>\n      <td>0.20</td>\n      <td>0.02</td>\n      <td>-0.03</td>\n      <td>-0.25</td>\n      <td>0.25</td>\n      <td>-0.05</td>\n      <td>0.05</td>\n    </tr>\n    <tr>\n      <th>Num</th>\n      <td>0.12</td>\n      <td>0.09</td>\n      <td>-0.16</td>\n      <td>0.05</td>\n      <td>0.03</td>\n      <td>-0.05</td>\n      <td>-0.01</td>\n      <td>0.15</td>\n      <td>0.02</td>\n      <td>-0.06</td>\n      <td>...</td>\n      <td>0.27</td>\n      <td>1.00</td>\n      <td>-0.04</td>\n      <td>-0.04</td>\n      <td>-0.11</td>\n      <td>-0.05</td>\n      <td>0.03</td>\n      <td>-0.03</td>\n      <td>0.01</td>\n      <td>-0.01</td>\n    </tr>\n    <tr>\n      <th>SK</th>\n      <td>-0.08</td>\n      <td>0.15</td>\n      <td>0.10</td>\n      <td>-0.03</td>\n      <td>0.46</td>\n      <td>0.14</td>\n      <td>0.12</td>\n      <td>-0.12</td>\n      <td>0.02</td>\n      <td>0.00</td>\n      <td>...</td>\n      <td>0.01</td>\n      <td>-0.04</td>\n      <td>1.00</td>\n      <td>-0.07</td>\n      <td>0.07</td>\n      <td>-0.26</td>\n      <td>0.07</td>\n      <td>-0.07</td>\n      <td>0.10</td>\n      <td>-0.10</td>\n    </tr>\n    <tr>\n      <th>Reaction</th>\n      <td>-0.29</td>\n      <td>-0.00</td>\n      <td>0.01</td>\n      <td>-0.04</td>\n      <td>-0.14</td>\n      <td>0.54</td>\n      <td>-0.43</td>\n      <td>-0.28</td>\n      <td>0.10</td>\n      <td>0.12</td>\n      <td>...</td>\n      <td>0.20</td>\n      <td>-0.04</td>\n      <td>-0.07</td>\n      <td>1.00</td>\n      <td>-0.28</td>\n      <td>0.01</td>\n      <td>-0.91</td>\n      <td>0.91</td>\n      <td>-0.37</td>\n      <td>0.37</td>\n    </tr>\n    <tr>\n      <th>Mortality</th>\n      <td>-0.10</td>\n      <td>-0.03</td>\n      <td>0.06</td>\n      <td>0.05</td>\n      <td>0.02</td>\n      <td>-0.16</td>\n      <td>0.32</td>\n      <td>0.18</td>\n      <td>-0.05</td>\n      <td>-0.04</td>\n      <td>...</td>\n      <td>0.02</td>\n      <td>-0.11</td>\n      <td>0.07</td>\n      <td>-0.28</td>\n      <td>1.00</td>\n      <td>-0.18</td>\n      <td>0.25</td>\n      <td>-0.25</td>\n      <td>0.12</td>\n      <td>-0.12</td>\n    </tr>\n    <tr>\n      <th>FollowUp</th>\n      <td>0.17</td>\n      <td>0.01</td>\n      <td>-0.04</td>\n      <td>-0.15</td>\n      <td>-0.34</td>\n      <td>-0.01</td>\n      <td>-0.05</td>\n      <td>-0.04</td>\n      <td>0.05</td>\n      <td>0.16</td>\n      <td>...</td>\n      <td>-0.03</td>\n      <td>-0.05</td>\n      <td>-0.26</td>\n      <td>0.01</td>\n      <td>-0.18</td>\n      <td>1.00</td>\n      <td>0.02</td>\n      <td>-0.02</td>\n      <td>0.06</td>\n      <td>-0.06</td>\n    </tr>\n    <tr>\n      <th>Gender-female</th>\n      <td>0.40</td>\n      <td>0.03</td>\n      <td>0.03</td>\n      <td>0.09</td>\n      <td>0.15</td>\n      <td>-0.57</td>\n      <td>0.49</td>\n      <td>0.31</td>\n      <td>-0.06</td>\n      <td>-0.07</td>\n      <td>...</td>\n      <td>-0.25</td>\n      <td>0.03</td>\n      <td>0.07</td>\n      <td>-0.91</td>\n      <td>0.25</td>\n      <td>0.02</td>\n      <td>1.00</td>\n      <td>-1.00</td>\n      <td>0.39</td>\n      <td>-0.39</td>\n    </tr>\n    <tr>\n      <th>Gender-male</th>\n      <td>-0.40</td>\n      <td>-0.03</td>\n      <td>-0.03</td>\n      <td>-0.09</td>\n      <td>-0.15</td>\n      <td>0.57</td>\n      <td>-0.49</td>\n      <td>-0.31</td>\n      <td>0.06</td>\n      <td>0.07</td>\n      <td>...</td>\n      <td>0.25</td>\n      <td>-0.03</td>\n      <td>-0.07</td>\n      <td>0.91</td>\n      <td>-0.25</td>\n      <td>-0.02</td>\n      <td>-1.00</td>\n      <td>1.00</td>\n      <td>-0.39</td>\n      <td>0.39</td>\n    </tr>\n    <tr>\n      <th>Locality-rural</th>\n      <td>0.26</td>\n      <td>0.45</td>\n      <td>0.08</td>\n      <td>0.14</td>\n      <td>0.21</td>\n      <td>0.02</td>\n      <td>0.10</td>\n      <td>0.02</td>\n      <td>-0.10</td>\n      <td>-0.39</td>\n      <td>...</td>\n      <td>-0.05</td>\n      <td>0.01</td>\n      <td>0.10</td>\n      <td>-0.37</td>\n      <td>0.12</td>\n      <td>0.06</td>\n      <td>0.39</td>\n      <td>-0.39</td>\n      <td>1.00</td>\n      <td>-1.00</td>\n    </tr>\n    <tr>\n      <th>Locality-urban</th>\n      <td>-0.26</td>\n      <td>-0.45</td>\n      <td>-0.08</td>\n      <td>-0.14</td>\n      <td>-0.21</td>\n      <td>-0.02</td>\n      <td>-0.10</td>\n      <td>-0.02</td>\n      <td>0.10</td>\n      <td>0.39</td>\n      <td>...</td>\n      <td>0.05</td>\n      <td>-0.01</td>\n      <td>-0.10</td>\n      <td>0.37</td>\n      <td>-0.12</td>\n      <td>-0.06</td>\n      <td>-0.39</td>\n      <td>0.39</td>\n      <td>-1.00</td>\n      <td>1.00</td>\n    </tr>\n  </tbody>\n</table>\n<p>48 rows × 48 columns</p>\n</div>"
     },
     "execution_count": 12,
     "metadata": {},
     "output_type": "execute_result"
    }
   ]
  },
  {
   "cell_type": "markdown",
   "source": [
    " Let's take a look on correlation heatmap of our data:"
   ],
   "metadata": {
    "collapsed": false
   }
  },
  {
   "cell_type": "code",
   "execution_count": 13,
   "outputs": [
    {
     "data": {
      "text/plain": "<AxesSubplot: >"
     },
     "execution_count": 13,
     "metadata": {},
     "output_type": "execute_result"
    },
    {
     "data": {
      "text/plain": "<Figure size 864x720 with 2 Axes>",
      "image/png": "[encoded data removed]"
     },
     "metadata": {
      "needs_background": "light"
     },
     "output_type": "display_data"
    }
   ],
   "source": [
    "plt.figure(figsize = (12,10))\n",
    "sns.heatmap(corr, linewidths=.5)"
   ],
   "metadata": {
    "collapsed": false,
    "pycharm": {
     "name": "#%%\n"
    }
   }
  },
  {
   "cell_type": "markdown",
   "source": [
    "To see the relationship between mortality and variables of string or category type we can use <code>dython.nominal.associations</code>. This method calculates the correlation/strength-of-association of features in data-set with both categorical and continuous features using: * Pearson's R for continuous-continuous cases * Correlation Ratio for categorical-continuous cases * Cramer's V or Theil's U for categorical-categorical cases."
   ],
   "metadata": {
    "collapsed": false
   }
  },
  {
   "cell_type": "code",
   "execution_count": 14,
   "outputs": [
    {
     "data": {
      "text/plain": "<Figure size 432x288 with 2 Axes>",
      "image/png": "[encoded data removed]"
     },
     "metadata": {
      "needs_background": "light"
     },
     "output_type": "display_data"
    },
    {
     "data": {
      "text/plain": "{'corr':                 Mortality  AgeGroup  MaritalStatus  Category  Others   CO  \\\n Mortality            1.00      0.52           0.05      0.13    0.35 0.49   \n AgeGroup             0.52      1.00           0.00      0.15    0.22 0.40   \n MaritalStatus        0.05      0.00           1.00      0.00    0.26 0.11   \n Category             0.13      0.15           0.00      1.00    0.24 0.69   \n Others               0.35      0.22           0.26      0.24    1.00 0.91   \n CO                   0.49      0.40           0.11      0.69    0.91 1.00   \n Diagnosis            0.55      0.44           0.09      0.53    0.83 0.87   \n SKReact              0.32      0.30           0.00      0.23    0.59 0.75   \n Thalach-binned       0.09      0.18           0.06      0.23    0.23 0.38   \n \n                 Diagnosis  SKReact  Thalach-binned  \n Mortality            0.55     0.32            0.09  \n AgeGroup             0.44     0.30            0.18  \n MaritalStatus        0.09     0.00            0.06  \n Category             0.53     0.23            0.23  \n Others               0.83     0.59            0.23  \n CO                   0.87     0.75            0.38  \n Diagnosis            1.00     0.76            0.39  \n SKReact              0.76     1.00            0.11  \n Thalach-binned       0.39     0.11            1.00  ,\n 'ax': <AxesSubplot: >}"
     },
     "execution_count": 14,
     "metadata": {},
     "output_type": "execute_result"
    }
   ],
   "source": [
    "from dython.nominal import associations\n",
    "associations(df[['Mortality', 'AgeGroup', 'MaritalStatus', 'Category', 'Others', 'CO', 'Diagnosis', 'SKReact', 'Thalach-binned']])"
   ],
   "metadata": {
    "collapsed": false,
    "pycharm": {
     "name": "#%%\n"
    }
   }
  },
  {
   "cell_type": "markdown",
   "source": [
    "The diagonal elements are always one; we will study correlation more precisely Pearson correlation in-depth at the end of the notebook.\n"
   ],
   "metadata": {}
  },
  {
   "cell_type": "markdown",
   "source": [
    "<div class=\"alert alert-danger alertdanger\" style=\"margin-top: 20px\">\n",
    "<h3> Question  #2: </h3>\n",
    "\n",
    "<p>Find the correlation between the following columns: BP, Trestbps, Eosinophil, and Monocyte.</p>\n",
    "<p>Hint: if you would like to select those columns, use the following syntax: df[['BP', 'Trestbps', 'Eosinophil', 'Monocyte']]</p>\n",
    "</div>\n"
   ],
   "metadata": {}
  },
  {
   "cell_type": "code",
   "source": [
    "# Write your code below and press Shift+Enter to execute \n"
   ],
   "metadata": {
    "trusted": true
   },
   "execution_count": 15,
   "outputs": []
  },
  {
   "cell_type": "markdown",
   "source": [
    "<details><summary>Click here for the solution</summary>\n",
    "\n",
    "```python\n",
    "df[['BP', 'Trestbps', 'Eosinophil', 'Monocyte']].corr()\n",
    "```\n",
    "\n",
    "</details>\n"
   ],
   "metadata": {}
  },
  {
   "cell_type": "markdown",
   "source": [
    "<h2>Continuous Numerical Variables:</h2> \n",
    "\n",
    "<p>Continuous numerical variables are variables that may contain any value within some range. They can be of type \"int64\" or \"float64\". A great way to visualize these variables is by using scatterplots with fitted lines.</p>\n",
    "\n",
    "<p>In order to start understanding the (linear) relationship variables, we can use \"regplot\" which plots the scatterplot plus the fitted regression line for the data.</p>\n"
   ],
   "metadata": {}
  },
  {
   "cell_type": "markdown",
   "source": [
    "We have chosen \"Mortality\" column to predict, but it only has two values: 1 and 0. Because of that, we need to choose continuous numerical variables to show examples of plots. Let's see several examples of different linear relationships:\n"
   ],
   "metadata": {}
  },
  {
   "cell_type": "markdown",
   "source": [
    "<h3>Positive Linear Relationship</h4>\n"
   ],
   "metadata": {}
  },
  {
   "cell_type": "markdown",
   "source": [
    "Let's find the scatterplot of \"CPK\" and \"CK-MB\".\n"
   ],
   "metadata": {}
  },
  {
   "cell_type": "code",
   "execution_count": 16,
   "outputs": [
    {
     "data": {
      "text/plain": "(0.0, 529.55)"
     },
     "execution_count": 16,
     "metadata": {},
     "output_type": "execute_result"
    },
    {
     "data": {
      "text/plain": "<Figure size 432x288 with 1 Axes>",
      "image/png": "[encoded data removed]"
     },
     "metadata": {
      "needs_background": "light"
     },
     "output_type": "display_data"
    }
   ],
   "source": [
    "# Engine size as potential predictor variable of price\n",
    "sns.regplot(x=\"CPK\", y=\"CK-MB\", data=df)\n",
    "plt.ylim(0,)"
   ],
   "metadata": {
    "collapsed": false,
    "pycharm": {
     "name": "#%%\n"
    }
   }
  },
  {
   "cell_type": "markdown",
   "source": [
    "<p>As the CK-MB goes up, the CPK goes up: this indicates a positive direct correlation between these two variables. CPK seems like a pretty good predictor of CK-MB since the regression line is almost a perfect diagonal line. So in the future labs we can merge this variables.</p>\n"
   ],
   "metadata": {}
  },
  {
   "cell_type": "markdown",
   "source": [
    "We can examine the correlation between 'CPK' and 'CK-MB' and see that it's approximately 0.96.\n"
   ],
   "metadata": {}
  },
  {
   "cell_type": "code",
   "execution_count": 17,
   "outputs": [
    {
     "data": {
      "text/plain": "       CPK  CK-MB\nCPK   1.00   0.96\nCK-MB 0.96   1.00",
      "text/html": "<div>\n<style scoped>\n    .dataframe tbody tr th:only-of-type {\n        vertical-align: middle;\n    }\n\n    .dataframe tbody tr th {\n        vertical-align: top;\n    }\n\n    .dataframe thead th {\n        text-align: right;\n    }\n</style>\n<table border=\"1\" class=\"dataframe\">\n  <thead>\n    <tr style=\"text-align: right;\">\n      <th></th>\n      <th>CPK</th>\n      <th>CK-MB</th>\n    </tr>\n  </thead>\n  <tbody>\n    <tr>\n      <th>CPK</th>\n      <td>1.00</td>\n      <td>0.96</td>\n    </tr>\n    <tr>\n      <th>CK-MB</th>\n      <td>0.96</td>\n      <td>1.00</td>\n    </tr>\n  </tbody>\n</table>\n</div>"
     },
     "execution_count": 17,
     "metadata": {},
     "output_type": "execute_result"
    }
   ],
   "source": [
    "df[['CPK', 'CK-MB']].corr()"
   ],
   "metadata": {
    "collapsed": false,
    "pycharm": {
     "name": "#%%\n"
    }
   }
  },
  {
   "cell_type": "markdown",
   "source": [
    "Neutrophils is a potential predictor variable of lymphocytes. Let's find the scatterplot of \"Neutrophil\" and \"Lymphocyte\".\n"
   ],
   "metadata": {}
  },
  {
   "cell_type": "code",
   "execution_count": 18,
   "outputs": [
    {
     "data": {
      "text/plain": "<AxesSubplot: xlabel='Neutrophil', ylabel='Lymphocyte'>"
     },
     "execution_count": 18,
     "metadata": {},
     "output_type": "execute_result"
    },
    {
     "data": {
      "text/plain": "<Figure size 432x288 with 1 Axes>",
      "image/png": "[encoded data removed]"
     },
     "metadata": {
      "needs_background": "light"
     },
     "output_type": "display_data"
    }
   ],
   "source": [
    "sns.regplot(x=\"Neutrophil\", y=\"Lymphocyte\", data=df)"
   ],
   "metadata": {
    "collapsed": false,
    "pycharm": {
     "name": "#%%\n"
    }
   }
  },
  {
   "cell_type": "markdown",
   "source": [
    "<p>As Neutrophils goes up, the lymphocytes goes down: this indicates an inverse/negative relationship between these two variables. Neutrophils could potentially be a predictor of lymphocytes.</p>\n"
   ],
   "metadata": {}
  },
  {
   "cell_type": "markdown",
   "source": [
    "We can examine the correlation between 'Neutrophil' and 'Lymphocyte' and see it's approximately -0.99.\n"
   ],
   "metadata": {}
  },
  {
   "cell_type": "code",
   "execution_count": 19,
   "outputs": [
    {
     "data": {
      "text/plain": "            Neutrophil  Lymphocyte\nNeutrophil        1.00       -0.99\nLymphocyte       -0.99        1.00",
      "text/html": "<div>\n<style scoped>\n    .dataframe tbody tr th:only-of-type {\n        vertical-align: middle;\n    }\n\n    .dataframe tbody tr th {\n        vertical-align: top;\n    }\n\n    .dataframe thead th {\n        text-align: right;\n    }\n</style>\n<table border=\"1\" class=\"dataframe\">\n  <thead>\n    <tr style=\"text-align: right;\">\n      <th></th>\n      <th>Neutrophil</th>\n      <th>Lymphocyte</th>\n    </tr>\n  </thead>\n  <tbody>\n    <tr>\n      <th>Neutrophil</th>\n      <td>1.00</td>\n      <td>-0.99</td>\n    </tr>\n    <tr>\n      <th>Lymphocyte</th>\n      <td>-0.99</td>\n      <td>1.00</td>\n    </tr>\n  </tbody>\n</table>\n</div>"
     },
     "execution_count": 19,
     "metadata": {},
     "output_type": "execute_result"
    }
   ],
   "source": [
    "df[['Neutrophil', 'Lymphocyte']].corr()"
   ],
   "metadata": {
    "collapsed": false,
    "pycharm": {
     "name": "#%%\n"
    }
   }
  },
  {
   "cell_type": "markdown",
   "source": [
    "<h3>Weak Linear Relationship</h3>\n"
   ],
   "metadata": {}
  },
  {
   "cell_type": "markdown",
   "source": [
    "Let's see if \"Chol\" is a predictor variable of \"Lymphocyte\".\n"
   ],
   "metadata": {}
  },
  {
   "cell_type": "code",
   "execution_count": 20,
   "outputs": [
    {
     "data": {
      "text/plain": "<AxesSubplot: xlabel='Chol', ylabel='Lymphocyte'>"
     },
     "execution_count": 20,
     "metadata": {},
     "output_type": "execute_result"
    },
    {
     "data": {
      "text/plain": "<Figure size 432x288 with 1 Axes>",
      "image/png": "[encoded data removed]"
     },
     "metadata": {
      "needs_background": "light"
     },
     "output_type": "display_data"
    }
   ],
   "source": [
    "sns.regplot(x=\"Chol\", y=\"Lymphocyte\", data=df)"
   ],
   "metadata": {
    "collapsed": false,
    "pycharm": {
     "name": "#%%\n"
    }
   }
  },
  {
   "cell_type": "markdown",
   "source": [
    "<p>Cholesterol does not seem like a good predictor of the lymphocytes at all since the regression line is close to horizontal. Also, the data points are very scattered and far from the fitted line, showing lots of variability. Therefore, it's not a reliable variable.</p>\n"
   ],
   "metadata": {}
  },
  {
   "cell_type": "markdown",
   "source": [
    "We can examine the correlation between 'CHol' and 'Lymphocyte' and see it's approximately -0.1.\n"
   ],
   "metadata": {}
  },
  {
   "cell_type": "code",
   "execution_count": 21,
   "outputs": [
    {
     "data": {
      "text/plain": "            Chol  Lymphocyte\nChol        1.00       -0.10\nLymphocyte -0.10        1.00",
      "text/html": "<div>\n<style scoped>\n    .dataframe tbody tr th:only-of-type {\n        vertical-align: middle;\n    }\n\n    .dataframe tbody tr th {\n        vertical-align: top;\n    }\n\n    .dataframe thead th {\n        text-align: right;\n    }\n</style>\n<table border=\"1\" class=\"dataframe\">\n  <thead>\n    <tr style=\"text-align: right;\">\n      <th></th>\n      <th>Chol</th>\n      <th>Lymphocyte</th>\n    </tr>\n  </thead>\n  <tbody>\n    <tr>\n      <th>Chol</th>\n      <td>1.00</td>\n      <td>-0.10</td>\n    </tr>\n    <tr>\n      <th>Lymphocyte</th>\n      <td>-0.10</td>\n      <td>1.00</td>\n    </tr>\n  </tbody>\n</table>\n</div>"
     },
     "execution_count": 21,
     "metadata": {},
     "output_type": "execute_result"
    }
   ],
   "source": [
    "df[['Chol', 'Lymphocyte']].corr()"
   ],
   "metadata": {
    "collapsed": false,
    "pycharm": {
     "name": "#%%\n"
    }
   }
  },
  {
   "cell_type": "markdown",
   "source": [
    " <div class=\"alert alert-danger alertdanger\" style=\"margin-top: 20px\">\n",
    "<h1> Question  3 a): </h1>\n",
    "\n",
    "<p>Find the correlation  between x=\"BP\" and y=\"Trestbps\".</p>\n",
    "<p>Hint: if you would like to select those columns, use the following syntax: df[[\"BP\",\"Trestbps\"]].  </p>\n",
    "</div>\n"
   ],
   "metadata": {}
  },
  {
   "cell_type": "code",
   "source": [
    "# Write your code below and press Shift+Enter to execute\n"
   ],
   "metadata": {
    "trusted": true
   },
   "execution_count": 22,
   "outputs": []
  },
  {
   "cell_type": "markdown",
   "source": [
    "<details><summary>Click here for the solution</summary>\n",
    "\n",
    "```python\n",
    "\n",
    "#The correlation is -0.13, the non-diagonal elements of the table.\n",
    "\n",
    "df[[\"BP\", \"Trestbps\"]].corr()\n",
    "\n",
    "```\n",
    "\n",
    "</details>\n"
   ],
   "metadata": {}
  },
  {
   "cell_type": "markdown",
   "source": [
    "<div class=\"alert alert-danger alertdanger\" style=\"margin-top: 20px\">\n",
    "<h1>Question  3 b):</h1>\n",
    "\n",
    "<p>Given the correlation results between \"BP\" and \"Trestbps\", do you expect a linear relationship?</p>\n",
    "<p>Verify your results using the function \"regplot()\".</p>\n",
    "</div>\n"
   ],
   "metadata": {}
  },
  {
   "cell_type": "code",
   "source": [
    "# Write your code below and press Shift+Enter to execute\n"
   ],
   "metadata": {
    "trusted": true
   },
   "execution_count": 23,
   "outputs": []
  },
  {
   "cell_type": "markdown",
   "source": [
    "<details><summary>Click here for the solution</summary>\n",
    "\n",
    "```python\n",
    "\n",
    "#There is a weak correlation between the variable 'BP' and 'Trestbps.' as such regression will not work well. We can see this using \"regplot\" to demonstrate this.\n",
    "\n",
    "#Code: \n",
    "sns.regplot(x=\"BP\", y=\"Trestbps\", data=df)\n",
    "\n",
    "```\n",
    "\n",
    "</details>\n"
   ],
   "metadata": {}
  },
  {
   "cell_type": "markdown",
   "source": [
    "<h3>Categorical Variables</h3>\n",
    "\n",
    "<p>These are variables that describe a 'characteristic' of a data unit, and are selected from a small group of categories. The categorical variables can have the type \"object\" or \"int64\". A good way to visualize categorical variables is by using boxplots. As an example, to see different cases we will compare numerical variables not only with 'Mortality', because it doesn't have strong correlation with other columns.</p>\n"
   ],
   "metadata": {}
  },
  {
   "cell_type": "markdown",
   "source": [
    "Let's look at the relationship between \"Mortality\" and \"Hemoglobin\".\n"
   ],
   "metadata": {}
  },
  {
   "cell_type": "code",
   "execution_count": 24,
   "outputs": [
    {
     "data": {
      "text/plain": "<AxesSubplot: xlabel='Mortality', ylabel='Hemoglobin'>"
     },
     "execution_count": 24,
     "metadata": {},
     "output_type": "execute_result"
    },
    {
     "data": {
      "text/plain": "<Figure size 432x288 with 1 Axes>",
      "image/png": "[encoded data removed]"
     },
     "metadata": {
      "needs_background": "light"
     },
     "output_type": "display_data"
    }
   ],
   "source": [
    "sns.boxplot(x=\"Mortality\", y=\"Hemoglobin\", data=df)"
   ],
   "metadata": {
    "collapsed": false,
    "pycharm": {
     "name": "#%%\n"
    }
   }
  },
  {
   "cell_type": "markdown",
   "source": [
    "<p>We see that the distributions of hemoglobin between the different categories have a significant overlap, so hemoglobin would not be a good predictor of mortality. Let's examine engine \"SKReact\" and \"RBC\":</p>\n"
   ],
   "metadata": {}
  },
  {
   "cell_type": "code",
   "execution_count": 25,
   "outputs": [
    {
     "data": {
      "text/plain": "<AxesSubplot: xlabel='RBC', ylabel='SKReact'>"
     },
     "execution_count": 25,
     "metadata": {},
     "output_type": "execute_result"
    },
    {
     "data": {
      "text/plain": "<Figure size 432x288 with 1 Axes>",
      "image/png": "[encoded data removed]"
     },
     "metadata": {
      "needs_background": "light"
     },
     "output_type": "display_data"
    }
   ],
   "source": [
    "sns.boxplot(x=\"RBC\", y=\"SKReact\", data=df, orient='h')"
   ],
   "metadata": {
    "collapsed": false,
    "pycharm": {
     "name": "#%%\n"
    }
   }
  },
  {
   "cell_type": "markdown",
   "source": [
    "<p>Here we see that the distribution of RBC (eritrocite count) between people who have different reaction to streptokinaze are distinct enough to take RBC as a potential good predictor of SK reaction.</p>\n"
   ],
   "metadata": {}
  },
  {
   "cell_type": "markdown",
   "source": [
    "Let's examine \"Smoking\" and \"Hemoglobin\".\n"
   ],
   "metadata": {}
  },
  {
   "cell_type": "code",
   "execution_count": 26,
   "outputs": [
    {
     "data": {
      "text/plain": "<AxesSubplot: xlabel='Smoking', ylabel='Hemoglobin'>"
     },
     "execution_count": 26,
     "metadata": {},
     "output_type": "execute_result"
    },
    {
     "data": {
      "text/plain": "<Figure size 432x288 with 1 Axes>",
      "image/png": "[encoded data removed]"
     },
     "metadata": {
      "needs_background": "light"
     },
     "output_type": "display_data"
    }
   ],
   "source": [
    "sns.boxplot(x=\"Smoking\", y=\"Hemoglobin\", data=df)"
   ],
   "metadata": {
    "collapsed": false,
    "pycharm": {
     "name": "#%%\n"
    }
   }
  },
  {
   "cell_type": "markdown",
   "source": [
    "<p>Here we see that the distribution of RBC (eritrocite count) between people who smoke and don't smoke slightly differs.\n"
   ],
   "metadata": {}
  },
  {
   "cell_type": "markdown",
   "source": [
    "<h2 id=\"discriptive_statistics\">3. Descriptive Statistical Analysis</h2>\n"
   ],
   "metadata": {}
  },
  {
   "cell_type": "markdown",
   "source": [
    "<p>Let's first take a look at the variables by utilizing a description method.</p>\n",
    "\n",
    "<p>The <b>describe</b> function automatically computes basic statistics for all continuous variables. Any NaN values are automatically skipped in these statistics.</p>\n",
    "\n",
    "This will show:\n",
    "\n",
    "<ul>\n",
    "    <li>the count of that variable</li>\n",
    "    <li>the mean</li>\n",
    "    <li>the standard deviation (std)</li> \n",
    "    <li>the minimum value</li>\n",
    "    <li>the IQR (Interquartile Range: 25%, 50% and 75%)</li>\n",
    "    <li>the maximum value</li>\n",
    "<ul>\n"
   ],
   "metadata": {}
  },
  {
   "cell_type": "markdown",
   "source": [
    "We can apply the method \"describe\" as follows:\n"
   ],
   "metadata": {}
  },
  {
   "cell_type": "code",
   "source": [
    "df.describe()"
   ],
   "metadata": {
    "trusted": true
   },
   "execution_count": 27,
   "outputs": [
    {
     "data": {
      "text/plain": "         Age  Diabetes     BP  Thrombolysis    BGR     CPK  CK-MB    ESR  \\\ncount 368.00    368.00 368.00        368.00 368.00  368.00 368.00 368.00   \nmean   54.29      0.46   0.37          0.03 219.99  553.89  62.49  26.57   \nstd     8.72      0.50   0.22          0.18 139.34  957.61  89.79  32.58   \nmin    24.00      0.00   0.00          0.00  60.00   52.00  14.00   5.00   \n25%    50.75      0.00   0.18          0.00 117.00  135.00  21.00  11.00   \n50%    55.00      0.00   0.37          0.00 164.00  188.00  36.00  16.00   \n75%    60.25      1.00   0.55          0.00 291.00  390.00  52.00  25.00   \nmax    77.00      1.00   1.00          1.00 563.00 4289.00 505.00 154.00   \n\n           WBC    RBC  ...   Thal    Num     SK  Reaction  Mortality  \\\ncount   368.00 368.00  ... 368.00 368.00 368.00    368.00     368.00   \nmean  11181.28   5.09  ...   5.86   2.04   0.98      0.75       0.22   \nstd    3517.88   0.77  ...   1.74   1.03   0.13      0.44       0.41   \nmin    5800.00   3.46  ...   3.00   1.00   0.00      0.00       0.00   \n25%    7800.00   4.40  ...   3.00   1.00   1.00      0.00       0.00   \n50%   10650.00   5.20  ...   7.00   2.00   1.00      1.00       0.00   \n75%   13500.00   5.65  ...   7.00   3.00   1.00      1.00       0.00   \nmax   19590.00   6.98  ...   7.00   4.00   1.00      1.00       1.00   \n\n       FollowUp  Gender-female  Gender-male  Locality-rural  Locality-urban  \ncount    368.00         368.00       368.00          368.00          368.00  \nmean      28.65           0.23         0.77            0.36            0.64  \nstd       15.81           0.42         0.42            0.48            0.48  \nmin        1.00           0.00         0.00            0.00            0.00  \n25%       15.00           0.00         1.00            0.00            0.00  \n50%       32.00           0.00         1.00            0.00            1.00  \n75%       36.00           0.00         1.00            1.00            1.00  \nmax       60.00           1.00         1.00            1.00            1.00  \n\n[8 rows x 40 columns]",
      "text/html": "<div>\n<style scoped>\n    .dataframe tbody tr th:only-of-type {\n        vertical-align: middle;\n    }\n\n    .dataframe tbody tr th {\n        vertical-align: top;\n    }\n\n    .dataframe thead th {\n        text-align: right;\n    }\n</style>\n<table border=\"1\" class=\"dataframe\">\n  <thead>\n    <tr style=\"text-align: right;\">\n      <th></th>\n      <th>Age</th>\n      <th>Diabetes</th>\n      <th>BP</th>\n      <th>Thrombolysis</th>\n      <th>BGR</th>\n      <th>CPK</th>\n      <th>CK-MB</th>\n      <th>ESR</th>\n      <th>WBC</th>\n      <th>RBC</th>\n      <th>...</th>\n      <th>Thal</th>\n      <th>Num</th>\n      <th>SK</th>\n      <th>Reaction</th>\n      <th>Mortality</th>\n      <th>FollowUp</th>\n      <th>Gender-female</th>\n      <th>Gender-male</th>\n      <th>Locality-rural</th>\n      <th>Locality-urban</th>\n    </tr>\n  </thead>\n  <tbody>\n    <tr>\n      <th>count</th>\n      <td>368.00</td>\n      <td>368.00</td>\n      <td>368.00</td>\n      <td>368.00</td>\n      <td>368.00</td>\n      <td>368.00</td>\n      <td>368.00</td>\n      <td>368.00</td>\n      <td>368.00</td>\n      <td>368.00</td>\n      <td>...</td>\n      <td>368.00</td>\n      <td>368.00</td>\n      <td>368.00</td>\n      <td>368.00</td>\n      <td>368.00</td>\n      <td>368.00</td>\n      <td>368.00</td>\n      <td>368.00</td>\n      <td>368.00</td>\n      <td>368.00</td>\n    </tr>\n    <tr>\n      <th>mean</th>\n      <td>54.29</td>\n      <td>0.46</td>\n      <td>0.37</td>\n      <td>0.03</td>\n      <td>219.99</td>\n      <td>553.89</td>\n      <td>62.49</td>\n      <td>26.57</td>\n      <td>11181.28</td>\n      <td>5.09</td>\n      <td>...</td>\n      <td>5.86</td>\n      <td>2.04</td>\n      <td>0.98</td>\n      <td>0.75</td>\n      <td>0.22</td>\n      <td>28.65</td>\n      <td>0.23</td>\n      <td>0.77</td>\n      <td>0.36</td>\n      <td>0.64</td>\n    </tr>\n    <tr>\n      <th>std</th>\n      <td>8.72</td>\n      <td>0.50</td>\n      <td>0.22</td>\n      <td>0.18</td>\n      <td>139.34</td>\n      <td>957.61</td>\n      <td>89.79</td>\n      <td>32.58</td>\n      <td>3517.88</td>\n      <td>0.77</td>\n      <td>...</td>\n      <td>1.74</td>\n      <td>1.03</td>\n      <td>0.13</td>\n      <td>0.44</td>\n      <td>0.41</td>\n      <td>15.81</td>\n      <td>0.42</td>\n      <td>0.42</td>\n      <td>0.48</td>\n      <td>0.48</td>\n    </tr>\n    <tr>\n      <th>min</th>\n      <td>24.00</td>\n      <td>0.00</td>\n      <td>0.00</td>\n      <td>0.00</td>\n      <td>60.00</td>\n      <td>52.00</td>\n      <td>14.00</td>\n      <td>5.00</td>\n      <td>5800.00</td>\n      <td>3.46</td>\n      <td>...</td>\n      <td>3.00</td>\n      <td>1.00</td>\n      <td>0.00</td>\n      <td>0.00</td>\n      <td>0.00</td>\n      <td>1.00</td>\n      <td>0.00</td>\n      <td>0.00</td>\n      <td>0.00</td>\n      <td>0.00</td>\n    </tr>\n    <tr>\n      <th>25%</th>\n      <td>50.75</td>\n      <td>0.00</td>\n      <td>0.18</td>\n      <td>0.00</td>\n      <td>117.00</td>\n      <td>135.00</td>\n      <td>21.00</td>\n      <td>11.00</td>\n      <td>7800.00</td>\n      <td>4.40</td>\n      <td>...</td>\n      <td>3.00</td>\n      <td>1.00</td>\n      <td>1.00</td>\n      <td>0.00</td>\n      <td>0.00</td>\n      <td>15.00</td>\n      <td>0.00</td>\n      <td>1.00</td>\n      <td>0.00</td>\n      <td>0.00</td>\n    </tr>\n    <tr>\n      <th>50%</th>\n      <td>55.00</td>\n      <td>0.00</td>\n      <td>0.37</td>\n      <td>0.00</td>\n      <td>164.00</td>\n      <td>188.00</td>\n      <td>36.00</td>\n      <td>16.00</td>\n      <td>10650.00</td>\n      <td>5.20</td>\n      <td>...</td>\n      <td>7.00</td>\n      <td>2.00</td>\n      <td>1.00</td>\n      <td>1.00</td>\n      <td>0.00</td>\n      <td>32.00</td>\n      <td>0.00</td>\n      <td>1.00</td>\n      <td>0.00</td>\n      <td>1.00</td>\n    </tr>\n    <tr>\n      <th>75%</th>\n      <td>60.25</td>\n      <td>1.00</td>\n      <td>0.55</td>\n      <td>0.00</td>\n      <td>291.00</td>\n      <td>390.00</td>\n      <td>52.00</td>\n      <td>25.00</td>\n      <td>13500.00</td>\n      <td>5.65</td>\n      <td>...</td>\n      <td>7.00</td>\n      <td>3.00</td>\n      <td>1.00</td>\n      <td>1.00</td>\n      <td>0.00</td>\n      <td>36.00</td>\n      <td>0.00</td>\n      <td>1.00</td>\n      <td>1.00</td>\n      <td>1.00</td>\n    </tr>\n    <tr>\n      <th>max</th>\n      <td>77.00</td>\n      <td>1.00</td>\n      <td>1.00</td>\n      <td>1.00</td>\n      <td>563.00</td>\n      <td>4289.00</td>\n      <td>505.00</td>\n      <td>154.00</td>\n      <td>19590.00</td>\n      <td>6.98</td>\n      <td>...</td>\n      <td>7.00</td>\n      <td>4.00</td>\n      <td>1.00</td>\n      <td>1.00</td>\n      <td>1.00</td>\n      <td>60.00</td>\n      <td>1.00</td>\n      <td>1.00</td>\n      <td>1.00</td>\n      <td>1.00</td>\n    </tr>\n  </tbody>\n</table>\n<p>8 rows × 40 columns</p>\n</div>"
     },
     "execution_count": 27,
     "metadata": {},
     "output_type": "execute_result"
    }
   ]
  },
  {
   "cell_type": "markdown",
   "source": [
    "The default setting of \"describe\" skips variables of type object. We can apply the method \"describe\" on the variables of type 'object' as follows:\n"
   ],
   "metadata": {}
  },
  {
   "cell_type": "code",
   "source": [
    "df.describe(include=['object'])"
   ],
   "metadata": {
    "scrolled": true,
    "trusted": true
   },
   "execution_count": 28,
   "outputs": [
    {
     "data": {
      "text/plain": "       AgeGroup MaritalStatus Category Others           CO   Diagnosis  \\\ncount       368           368      368    368          368         368   \nunique        5             2        2     17           37          37   \ntop       51-60       MARRIED     FREE     no  Chest pain,  AC I/W M.I   \nfreq        184           365      331    201           84          44   \n\n               SKReact Thalach-binned  \ncount              368            368  \nunique               7              3  \ntop     COUGH.BLEEDING         Medium  \nfreq               146            192  ",
      "text/html": "<div>\n<style scoped>\n    .dataframe tbody tr th:only-of-type {\n        vertical-align: middle;\n    }\n\n    .dataframe tbody tr th {\n        vertical-align: top;\n    }\n\n    .dataframe thead th {\n        text-align: right;\n    }\n</style>\n<table border=\"1\" class=\"dataframe\">\n  <thead>\n    <tr style=\"text-align: right;\">\n      <th></th>\n      <th>AgeGroup</th>\n      <th>MaritalStatus</th>\n      <th>Category</th>\n      <th>Others</th>\n      <th>CO</th>\n      <th>Diagnosis</th>\n      <th>SKReact</th>\n      <th>Thalach-binned</th>\n    </tr>\n  </thead>\n  <tbody>\n    <tr>\n      <th>count</th>\n      <td>368</td>\n      <td>368</td>\n      <td>368</td>\n      <td>368</td>\n      <td>368</td>\n      <td>368</td>\n      <td>368</td>\n      <td>368</td>\n    </tr>\n    <tr>\n      <th>unique</th>\n      <td>5</td>\n      <td>2</td>\n      <td>2</td>\n      <td>17</td>\n      <td>37</td>\n      <td>37</td>\n      <td>7</td>\n      <td>3</td>\n    </tr>\n    <tr>\n      <th>top</th>\n      <td>51-60</td>\n      <td>MARRIED</td>\n      <td>FREE</td>\n      <td>no</td>\n      <td>Chest pain,</td>\n      <td>AC I/W M.I</td>\n      <td>COUGH.BLEEDING</td>\n      <td>Medium</td>\n    </tr>\n    <tr>\n      <th>freq</th>\n      <td>184</td>\n      <td>365</td>\n      <td>331</td>\n      <td>201</td>\n      <td>84</td>\n      <td>44</td>\n      <td>146</td>\n      <td>192</td>\n    </tr>\n  </tbody>\n</table>\n</div>"
     },
     "execution_count": 28,
     "metadata": {},
     "output_type": "execute_result"
    }
   ]
  },
  {
   "cell_type": "markdown",
   "source": [
    "<h3>Value Counts</h3>\n"
   ],
   "metadata": {}
  },
  {
   "cell_type": "markdown",
   "source": [
    "<p>Value counts is a good way of understanding how many units of each characteristic/variable we have. We can apply the \"value_counts\" method on the column \"AgeGroup\". Don’t forget the method \"value_counts\" only works on pandas series, not pandas dataframes. As a result, we only include one bracket <code>df['AgeGroup']</code>, not two brackets <code>df[['AgeGroup']]</code>.</p>\n"
   ],
   "metadata": {}
  },
  {
   "cell_type": "code",
   "execution_count": 29,
   "outputs": [
    {
     "data": {
      "text/plain": "51-60    184\n61-70     91\n41-50     61\n31-40     20\n21-30     12\nName: AgeGroup, dtype: int64"
     },
     "execution_count": 29,
     "metadata": {},
     "output_type": "execute_result"
    }
   ],
   "source": [
    "df['AgeGroup'].value_counts()"
   ],
   "metadata": {
    "collapsed": false,
    "pycharm": {
     "name": "#%%\n"
    }
   }
  },
  {
   "cell_type": "markdown",
   "source": [
    "We can convert the series to a dataframe as follows:\n"
   ],
   "metadata": {}
  },
  {
   "cell_type": "code",
   "execution_count": 30,
   "outputs": [
    {
     "data": {
      "text/plain": "       AgeGroup\n51-60       184\n61-70        91\n41-50        61\n31-40        20\n21-30        12",
      "text/html": "<div>\n<style scoped>\n    .dataframe tbody tr th:only-of-type {\n        vertical-align: middle;\n    }\n\n    .dataframe tbody tr th {\n        vertical-align: top;\n    }\n\n    .dataframe thead th {\n        text-align: right;\n    }\n</style>\n<table border=\"1\" class=\"dataframe\">\n  <thead>\n    <tr style=\"text-align: right;\">\n      <th></th>\n      <th>AgeGroup</th>\n    </tr>\n  </thead>\n  <tbody>\n    <tr>\n      <th>51-60</th>\n      <td>184</td>\n    </tr>\n    <tr>\n      <th>61-70</th>\n      <td>91</td>\n    </tr>\n    <tr>\n      <th>41-50</th>\n      <td>61</td>\n    </tr>\n    <tr>\n      <th>31-40</th>\n      <td>20</td>\n    </tr>\n    <tr>\n      <th>21-30</th>\n      <td>12</td>\n    </tr>\n  </tbody>\n</table>\n</div>"
     },
     "execution_count": 30,
     "metadata": {},
     "output_type": "execute_result"
    }
   ],
   "source": [
    "df['AgeGroup'].value_counts().to_frame()"
   ],
   "metadata": {
    "collapsed": false,
    "pycharm": {
     "name": "#%%\n"
    }
   }
  },
  {
   "cell_type": "markdown",
   "source": [
    "Let's repeat the above steps but save the results to the dataframe \"age_group_counts\" and rename the column  'AgeGroup' to 'value_counts'.\n"
   ],
   "metadata": {}
  },
  {
   "cell_type": "code",
   "execution_count": 31,
   "outputs": [
    {
     "data": {
      "text/plain": "       value_counts\n51-60           184\n61-70            91\n41-50            61\n31-40            20\n21-30            12",
      "text/html": "<div>\n<style scoped>\n    .dataframe tbody tr th:only-of-type {\n        vertical-align: middle;\n    }\n\n    .dataframe tbody tr th {\n        vertical-align: top;\n    }\n\n    .dataframe thead th {\n        text-align: right;\n    }\n</style>\n<table border=\"1\" class=\"dataframe\">\n  <thead>\n    <tr style=\"text-align: right;\">\n      <th></th>\n      <th>value_counts</th>\n    </tr>\n  </thead>\n  <tbody>\n    <tr>\n      <th>51-60</th>\n      <td>184</td>\n    </tr>\n    <tr>\n      <th>61-70</th>\n      <td>91</td>\n    </tr>\n    <tr>\n      <th>41-50</th>\n      <td>61</td>\n    </tr>\n    <tr>\n      <th>31-40</th>\n      <td>20</td>\n    </tr>\n    <tr>\n      <th>21-30</th>\n      <td>12</td>\n    </tr>\n  </tbody>\n</table>\n</div>"
     },
     "execution_count": 31,
     "metadata": {},
     "output_type": "execute_result"
    }
   ],
   "source": [
    "age_group_counts = df['AgeGroup'].value_counts().to_frame()\n",
    "age_group_counts.rename(columns={'AgeGroup': 'value_counts'}, inplace=True)\n",
    "age_group_counts"
   ],
   "metadata": {
    "collapsed": false,
    "pycharm": {
     "name": "#%%\n"
    }
   }
  },
  {
   "cell_type": "markdown",
   "source": [
    "Now let's rename the index to 'AgeGroup':\n"
   ],
   "metadata": {}
  },
  {
   "cell_type": "code",
   "execution_count": 32,
   "outputs": [
    {
     "data": {
      "text/plain": "          value_counts\nAgeGroup              \n51-60              184\n61-70               91\n41-50               61\n31-40               20\n21-30               12",
      "text/html": "<div>\n<style scoped>\n    .dataframe tbody tr th:only-of-type {\n        vertical-align: middle;\n    }\n\n    .dataframe tbody tr th {\n        vertical-align: top;\n    }\n\n    .dataframe thead th {\n        text-align: right;\n    }\n</style>\n<table border=\"1\" class=\"dataframe\">\n  <thead>\n    <tr style=\"text-align: right;\">\n      <th></th>\n      <th>value_counts</th>\n    </tr>\n    <tr>\n      <th>AgeGroup</th>\n      <th></th>\n    </tr>\n  </thead>\n  <tbody>\n    <tr>\n      <th>51-60</th>\n      <td>184</td>\n    </tr>\n    <tr>\n      <th>61-70</th>\n      <td>91</td>\n    </tr>\n    <tr>\n      <th>41-50</th>\n      <td>61</td>\n    </tr>\n    <tr>\n      <th>31-40</th>\n      <td>20</td>\n    </tr>\n    <tr>\n      <th>21-30</th>\n      <td>12</td>\n    </tr>\n  </tbody>\n</table>\n</div>"
     },
     "execution_count": 32,
     "metadata": {},
     "output_type": "execute_result"
    }
   ],
   "source": [
    "age_group_counts.index.name = 'AgeGroup'\n",
    "age_group_counts"
   ],
   "metadata": {
    "collapsed": false,
    "pycharm": {
     "name": "#%%\n"
    }
   }
  },
  {
   "cell_type": "markdown",
   "source": [
    "We can repeat the above process for the variable 'SKReact'.\n"
   ],
   "metadata": {}
  },
  {
   "cell_type": "code",
   "execution_count": 33,
   "outputs": [
    {
     "data": {
      "text/plain": "               value_counts\nMaritalStatus              \nMARRIED                 365\nSINGLE                    3",
      "text/html": "<div>\n<style scoped>\n    .dataframe tbody tr th:only-of-type {\n        vertical-align: middle;\n    }\n\n    .dataframe tbody tr th {\n        vertical-align: top;\n    }\n\n    .dataframe thead th {\n        text-align: right;\n    }\n</style>\n<table border=\"1\" class=\"dataframe\">\n  <thead>\n    <tr style=\"text-align: right;\">\n      <th></th>\n      <th>value_counts</th>\n    </tr>\n    <tr>\n      <th>MaritalStatus</th>\n      <th></th>\n    </tr>\n  </thead>\n  <tbody>\n    <tr>\n      <th>MARRIED</th>\n      <td>365</td>\n    </tr>\n    <tr>\n      <th>SINGLE</th>\n      <td>3</td>\n    </tr>\n  </tbody>\n</table>\n</div>"
     },
     "execution_count": 33,
     "metadata": {},
     "output_type": "execute_result"
    }
   ],
   "source": [
    "skreact_counts = df['MaritalStatus'].value_counts().to_frame()\n",
    "skreact_counts.rename(columns={'MaritalStatus': 'value_counts'}, inplace=True)\n",
    "skreact_counts.index.name = 'MaritalStatus'\n",
    "skreact_counts.head(10)"
   ],
   "metadata": {
    "collapsed": false,
    "pycharm": {
     "name": "#%%\n"
    }
   }
  },
  {
   "cell_type": "markdown",
   "source": [
    "<p>After examining the value counts of the marital status, we see that it would not be a good predictor variable for the mortality. This is because we only have three single patients and 365 married so this result is skewed. Thus, we are not able to draw any conclusions about the marital status.</p>\n"
   ],
   "metadata": {}
  },
  {
   "cell_type": "markdown",
   "source": [
    "<h2 id=\"basic_grouping\">4. Basics of Grouping</h2>\n"
   ],
   "metadata": {}
  },
  {
   "cell_type": "markdown",
   "source": [
    "<p>The \"groupby\" method groups data by different categories. The data is grouped based on one or several variables, and analysis is performed on the individual groups.</p>\n",
    "\n",
    "<p>For example, let's group by the variable \"AgeGroup\". We see that there are 5 different categories of age.</p>\n"
   ],
   "metadata": {}
  },
  {
   "cell_type": "code",
   "execution_count": 34,
   "outputs": [
    {
     "data": {
      "text/plain": "array(['41-50', '51-60', '61-70', '21-30', '31-40'], dtype=object)"
     },
     "execution_count": 34,
     "metadata": {},
     "output_type": "execute_result"
    }
   ],
   "source": [
    "df['AgeGroup'].unique()"
   ],
   "metadata": {
    "collapsed": false,
    "pycharm": {
     "name": "#%%\n"
    }
   }
  },
  {
   "cell_type": "markdown",
   "source": [
    "<p>If we want to know, on average, which type of age groups is most valuable, we can group \"AgeGroup\" and then average them.</p>\n",
    "\n",
    "<p>We can select the columns 'AgeGroup', 'SKReact' and 'Mortality', then assign it to the variable \"df_group_one\".</p>\n"
   ],
   "metadata": {}
  },
  {
   "cell_type": "code",
   "execution_count": 35,
   "outputs": [],
   "source": [
    "df_group_one = df[['AgeGroup','SKReact','Mortality']]"
   ],
   "metadata": {
    "collapsed": false,
    "pycharm": {
     "name": "#%%\n"
    }
   }
  },
  {
   "cell_type": "markdown",
   "source": [
    "We can then calculate the average mortality rate for each of the different categories of data.\n"
   ],
   "metadata": {}
  },
  {
   "cell_type": "code",
   "execution_count": 36,
   "outputs": [
    {
     "data": {
      "text/plain": "  AgeGroup  Mortality\n0    21-30       0.00\n1    31-40       0.40\n2    41-50       0.59\n3    51-60       0.03\n4    61-70       0.33",
      "text/html": "<div>\n<style scoped>\n    .dataframe tbody tr th:only-of-type {\n        vertical-align: middle;\n    }\n\n    .dataframe tbody tr th {\n        vertical-align: top;\n    }\n\n    .dataframe thead th {\n        text-align: right;\n    }\n</style>\n<table border=\"1\" class=\"dataframe\">\n  <thead>\n    <tr style=\"text-align: right;\">\n      <th></th>\n      <th>AgeGroup</th>\n      <th>Mortality</th>\n    </tr>\n  </thead>\n  <tbody>\n    <tr>\n      <th>0</th>\n      <td>21-30</td>\n      <td>0.00</td>\n    </tr>\n    <tr>\n      <th>1</th>\n      <td>31-40</td>\n      <td>0.40</td>\n    </tr>\n    <tr>\n      <th>2</th>\n      <td>41-50</td>\n      <td>0.59</td>\n    </tr>\n    <tr>\n      <th>3</th>\n      <td>51-60</td>\n      <td>0.03</td>\n    </tr>\n    <tr>\n      <th>4</th>\n      <td>61-70</td>\n      <td>0.33</td>\n    </tr>\n  </tbody>\n</table>\n</div>"
     },
     "execution_count": 36,
     "metadata": {},
     "output_type": "execute_result"
    }
   ],
   "source": [
    "df_group_one = df_group_one.groupby(['AgeGroup'],as_index=False).mean()\n",
    "df_group_one"
   ],
   "metadata": {
    "collapsed": false,
    "pycharm": {
     "name": "#%%\n"
    }
   }
  },
  {
   "cell_type": "markdown",
   "source": [
    "<p>From our data, it seems patients of age between 41-50 have, on average, the highest mortality rate.</p>\n",
    "\n",
    "<p>You can also group by multiple variables. For example, let's group by both 'AgeGroup' and 'SKReact'. This groups the dataframe by the unique combination of 'AgeGroup' and 'SKReact'. We can store the results in the variable 'grouped_test1'.</p>\n"
   ],
   "metadata": {}
  },
  {
   "cell_type": "code",
   "execution_count": 37,
   "outputs": [
    {
     "data": {
      "text/plain": "   AgeGroup           SKReact  Mortality\n0     21-30    COUGH.BLEEDING       0.00\n1     21-30                NO       0.00\n2     21-30     SKIN.BLEEDING       0.00\n3     21-30  STOMACH.BLEEDING       0.00\n4     31-40    COUGH.BLEEDING       0.50\n5     31-40             LUNGS       0.00\n6     31-40                NO       0.00\n7     31-40     SKIN.BLEEDING       1.00\n8     41-50         BODY.PAIN       0.12\n9     41-50    COUGH.BLEEDING       0.69\n10    41-50             LUNGS       1.00\n11    41-50       NAUSEA.TEMP       0.20\n12    41-50                NO       0.86\n13    41-50     SKIN.BLEEDING       0.50\n14    51-60         BODY.PAIN       0.00\n15    51-60    COUGH.BLEEDING       0.03\n16    51-60             LUNGS       0.00\n17    51-60       NAUSEA.TEMP       0.00\n18    51-60                NO       0.15\n19    51-60     SKIN.BLEEDING       0.00\n20    51-60  STOMACH.BLEEDING       0.00\n21    61-70         BODY.PAIN       0.00\n22    61-70    COUGH.BLEEDING       0.00\n23    61-70             LUNGS       0.00\n24    61-70       NAUSEA.TEMP       0.00\n25    61-70                NO       0.50\n26    61-70     SKIN.BLEEDING       0.00\n27    61-70  STOMACH.BLEEDING       0.00",
      "text/html": "<div>\n<style scoped>\n    .dataframe tbody tr th:only-of-type {\n        vertical-align: middle;\n    }\n\n    .dataframe tbody tr th {\n        vertical-align: top;\n    }\n\n    .dataframe thead th {\n        text-align: right;\n    }\n</style>\n<table border=\"1\" class=\"dataframe\">\n  <thead>\n    <tr style=\"text-align: right;\">\n      <th></th>\n      <th>AgeGroup</th>\n      <th>SKReact</th>\n      <th>Mortality</th>\n    </tr>\n  </thead>\n  <tbody>\n    <tr>\n      <th>0</th>\n      <td>21-30</td>\n      <td>COUGH.BLEEDING</td>\n      <td>0.00</td>\n    </tr>\n    <tr>\n      <th>1</th>\n      <td>21-30</td>\n      <td>NO</td>\n      <td>0.00</td>\n    </tr>\n    <tr>\n      <th>2</th>\n      <td>21-30</td>\n      <td>SKIN.BLEEDING</td>\n      <td>0.00</td>\n    </tr>\n    <tr>\n      <th>3</th>\n      <td>21-30</td>\n      <td>STOMACH.BLEEDING</td>\n      <td>0.00</td>\n    </tr>\n    <tr>\n      <th>4</th>\n      <td>31-40</td>\n      <td>COUGH.BLEEDING</td>\n      <td>0.50</td>\n    </tr>\n    <tr>\n      <th>5</th>\n      <td>31-40</td>\n      <td>LUNGS</td>\n      <td>0.00</td>\n    </tr>\n    <tr>\n      <th>6</th>\n      <td>31-40</td>\n      <td>NO</td>\n      <td>0.00</td>\n    </tr>\n    <tr>\n      <th>7</th>\n      <td>31-40</td>\n      <td>SKIN.BLEEDING</td>\n      <td>1.00</td>\n    </tr>\n    <tr>\n      <th>8</th>\n      <td>41-50</td>\n      <td>BODY.PAIN</td>\n      <td>0.12</td>\n    </tr>\n    <tr>\n      <th>9</th>\n      <td>41-50</td>\n      <td>COUGH.BLEEDING</td>\n      <td>0.69</td>\n    </tr>\n    <tr>\n      <th>10</th>\n      <td>41-50</td>\n      <td>LUNGS</td>\n      <td>1.00</td>\n    </tr>\n    <tr>\n      <th>11</th>\n      <td>41-50</td>\n      <td>NAUSEA.TEMP</td>\n      <td>0.20</td>\n    </tr>\n    <tr>\n      <th>12</th>\n      <td>41-50</td>\n      <td>NO</td>\n      <td>0.86</td>\n    </tr>\n    <tr>\n      <th>13</th>\n      <td>41-50</td>\n      <td>SKIN.BLEEDING</td>\n      <td>0.50</td>\n    </tr>\n    <tr>\n      <th>14</th>\n      <td>51-60</td>\n      <td>BODY.PAIN</td>\n      <td>0.00</td>\n    </tr>\n    <tr>\n      <th>15</th>\n      <td>51-60</td>\n      <td>COUGH.BLEEDING</td>\n      <td>0.03</td>\n    </tr>\n    <tr>\n      <th>16</th>\n      <td>51-60</td>\n      <td>LUNGS</td>\n      <td>0.00</td>\n    </tr>\n    <tr>\n      <th>17</th>\n      <td>51-60</td>\n      <td>NAUSEA.TEMP</td>\n      <td>0.00</td>\n    </tr>\n    <tr>\n      <th>18</th>\n      <td>51-60</td>\n      <td>NO</td>\n      <td>0.15</td>\n    </tr>\n    <tr>\n      <th>19</th>\n      <td>51-60</td>\n      <td>SKIN.BLEEDING</td>\n      <td>0.00</td>\n    </tr>\n    <tr>\n      <th>20</th>\n      <td>51-60</td>\n      <td>STOMACH.BLEEDING</td>\n      <td>0.00</td>\n    </tr>\n    <tr>\n      <th>21</th>\n      <td>61-70</td>\n      <td>BODY.PAIN</td>\n      <td>0.00</td>\n    </tr>\n    <tr>\n      <th>22</th>\n      <td>61-70</td>\n      <td>COUGH.BLEEDING</td>\n      <td>0.00</td>\n    </tr>\n    <tr>\n      <th>23</th>\n      <td>61-70</td>\n      <td>LUNGS</td>\n      <td>0.00</td>\n    </tr>\n    <tr>\n      <th>24</th>\n      <td>61-70</td>\n      <td>NAUSEA.TEMP</td>\n      <td>0.00</td>\n    </tr>\n    <tr>\n      <th>25</th>\n      <td>61-70</td>\n      <td>NO</td>\n      <td>0.50</td>\n    </tr>\n    <tr>\n      <th>26</th>\n      <td>61-70</td>\n      <td>SKIN.BLEEDING</td>\n      <td>0.00</td>\n    </tr>\n    <tr>\n      <th>27</th>\n      <td>61-70</td>\n      <td>STOMACH.BLEEDING</td>\n      <td>0.00</td>\n    </tr>\n  </tbody>\n</table>\n</div>"
     },
     "execution_count": 37,
     "metadata": {},
     "output_type": "execute_result"
    }
   ],
   "source": [
    "# grouping results\n",
    "df_gptest = df[['AgeGroup','SKReact','Mortality']]\n",
    "grouped_test1 = df_gptest.groupby(['AgeGroup','SKReact'],as_index=False).mean()\n",
    "grouped_test1"
   ],
   "metadata": {
    "collapsed": false,
    "pycharm": {
     "name": "#%%\n"
    }
   }
  },
  {
   "cell_type": "markdown",
   "source": [
    "<p>This grouped data is much easier to visualize when it is made into a pivot table. A pivot table is like an Excel spreadsheet, with one variable along the column and another along the row. We can convert the dataframe to a pivot table using the method \"pivot\" to create a pivot table from the groups.</p>\n",
    "\n",
    "<p>In this case, we will leave the age group variable as the rows of the table, and pivot SK reaction to become the columns of the table:</p>\n"
   ],
   "metadata": {}
  },
  {
   "cell_type": "code",
   "execution_count": 38,
   "outputs": [
    {
     "data": {
      "text/plain": "         Mortality                                                      \\\nSKReact  BODY.PAIN COUGH.BLEEDING LUNGS NAUSEA.TEMP   NO SKIN.BLEEDING   \nAgeGroup                                                                 \n21-30          NaN           0.00   NaN         NaN 0.00          0.00   \n31-40          NaN           0.50  0.00         NaN 0.00          1.00   \n41-50         0.12           0.69  1.00        0.20 0.86          0.50   \n51-60         0.00           0.03  0.00        0.00 0.15          0.00   \n61-70         0.00           0.00  0.00        0.00 0.50          0.00   \n\n                           \nSKReact  STOMACH.BLEEDING  \nAgeGroup                   \n21-30                0.00  \n31-40                 NaN  \n41-50                 NaN  \n51-60                0.00  \n61-70                0.00  ",
      "text/html": "<div>\n<style scoped>\n    .dataframe tbody tr th:only-of-type {\n        vertical-align: middle;\n    }\n\n    .dataframe tbody tr th {\n        vertical-align: top;\n    }\n\n    .dataframe thead tr th {\n        text-align: left;\n    }\n\n    .dataframe thead tr:last-of-type th {\n        text-align: right;\n    }\n</style>\n<table border=\"1\" class=\"dataframe\">\n  <thead>\n    <tr>\n      <th></th>\n      <th colspan=\"7\" halign=\"left\">Mortality</th>\n    </tr>\n    <tr>\n      <th>SKReact</th>\n      <th>BODY.PAIN</th>\n      <th>COUGH.BLEEDING</th>\n      <th>LUNGS</th>\n      <th>NAUSEA.TEMP</th>\n      <th>NO</th>\n      <th>SKIN.BLEEDING</th>\n      <th>STOMACH.BLEEDING</th>\n    </tr>\n    <tr>\n      <th>AgeGroup</th>\n      <th></th>\n      <th></th>\n      <th></th>\n      <th></th>\n      <th></th>\n      <th></th>\n      <th></th>\n    </tr>\n  </thead>\n  <tbody>\n    <tr>\n      <th>21-30</th>\n      <td>NaN</td>\n      <td>0.00</td>\n      <td>NaN</td>\n      <td>NaN</td>\n      <td>0.00</td>\n      <td>0.00</td>\n      <td>0.00</td>\n    </tr>\n    <tr>\n      <th>31-40</th>\n      <td>NaN</td>\n      <td>0.50</td>\n      <td>0.00</td>\n      <td>NaN</td>\n      <td>0.00</td>\n      <td>1.00</td>\n      <td>NaN</td>\n    </tr>\n    <tr>\n      <th>41-50</th>\n      <td>0.12</td>\n      <td>0.69</td>\n      <td>1.00</td>\n      <td>0.20</td>\n      <td>0.86</td>\n      <td>0.50</td>\n      <td>NaN</td>\n    </tr>\n    <tr>\n      <th>51-60</th>\n      <td>0.00</td>\n      <td>0.03</td>\n      <td>0.00</td>\n      <td>0.00</td>\n      <td>0.15</td>\n      <td>0.00</td>\n      <td>0.00</td>\n    </tr>\n    <tr>\n      <th>61-70</th>\n      <td>0.00</td>\n      <td>0.00</td>\n      <td>0.00</td>\n      <td>0.00</td>\n      <td>0.50</td>\n      <td>0.00</td>\n      <td>0.00</td>\n    </tr>\n  </tbody>\n</table>\n</div>"
     },
     "execution_count": 38,
     "metadata": {},
     "output_type": "execute_result"
    }
   ],
   "source": [
    "grouped_pivot = grouped_test1.pivot(index='AgeGroup',columns='SKReact')\n",
    "grouped_pivot"
   ],
   "metadata": {
    "collapsed": false,
    "pycharm": {
     "name": "#%%\n"
    }
   }
  },
  {
   "cell_type": "markdown",
   "source": [
    "<p>Often, we won't have data for some of the pivot cells. We can fill these missing cells with the value 0, but any other value could potentially be used as well. It should be mentioned that missing data is quite a complex subject and is an entire course on its own.</p>\n"
   ],
   "metadata": {}
  },
  {
   "cell_type": "code",
   "execution_count": 39,
   "outputs": [
    {
     "data": {
      "text/plain": "         Mortality                                                      \\\nSKReact  BODY.PAIN COUGH.BLEEDING LUNGS NAUSEA.TEMP   NO SKIN.BLEEDING   \nAgeGroup                                                                 \n21-30                        0.00                   0.00          0.00   \n31-40                        0.50  0.00             0.00          1.00   \n41-50         0.12           0.69  1.00        0.20 0.86          0.50   \n51-60         0.00           0.03  0.00        0.00 0.15          0.00   \n61-70         0.00           0.00  0.00        0.00 0.50          0.00   \n\n                           \nSKReact  STOMACH.BLEEDING  \nAgeGroup                   \n21-30                0.00  \n31-40                      \n41-50                      \n51-60                0.00  \n61-70                0.00  ",
      "text/html": "<div>\n<style scoped>\n    .dataframe tbody tr th:only-of-type {\n        vertical-align: middle;\n    }\n\n    .dataframe tbody tr th {\n        vertical-align: top;\n    }\n\n    .dataframe thead tr th {\n        text-align: left;\n    }\n\n    .dataframe thead tr:last-of-type th {\n        text-align: right;\n    }\n</style>\n<table border=\"1\" class=\"dataframe\">\n  <thead>\n    <tr>\n      <th></th>\n      <th colspan=\"7\" halign=\"left\">Mortality</th>\n    </tr>\n    <tr>\n      <th>SKReact</th>\n      <th>BODY.PAIN</th>\n      <th>COUGH.BLEEDING</th>\n      <th>LUNGS</th>\n      <th>NAUSEA.TEMP</th>\n      <th>NO</th>\n      <th>SKIN.BLEEDING</th>\n      <th>STOMACH.BLEEDING</th>\n    </tr>\n    <tr>\n      <th>AgeGroup</th>\n      <th></th>\n      <th></th>\n      <th></th>\n      <th></th>\n      <th></th>\n      <th></th>\n      <th></th>\n    </tr>\n  </thead>\n  <tbody>\n    <tr>\n      <th>21-30</th>\n      <td></td>\n      <td>0.00</td>\n      <td></td>\n      <td></td>\n      <td>0.00</td>\n      <td>0.00</td>\n      <td>0.00</td>\n    </tr>\n    <tr>\n      <th>31-40</th>\n      <td></td>\n      <td>0.50</td>\n      <td>0.00</td>\n      <td></td>\n      <td>0.00</td>\n      <td>1.00</td>\n      <td></td>\n    </tr>\n    <tr>\n      <th>41-50</th>\n      <td>0.12</td>\n      <td>0.69</td>\n      <td>1.00</td>\n      <td>0.20</td>\n      <td>0.86</td>\n      <td>0.50</td>\n      <td></td>\n    </tr>\n    <tr>\n      <th>51-60</th>\n      <td>0.00</td>\n      <td>0.03</td>\n      <td>0.00</td>\n      <td>0.00</td>\n      <td>0.15</td>\n      <td>0.00</td>\n      <td>0.00</td>\n    </tr>\n    <tr>\n      <th>61-70</th>\n      <td>0.00</td>\n      <td>0.00</td>\n      <td>0.00</td>\n      <td>0.00</td>\n      <td>0.50</td>\n      <td>0.00</td>\n      <td>0.00</td>\n    </tr>\n  </tbody>\n</table>\n</div>"
     },
     "execution_count": 39,
     "metadata": {},
     "output_type": "execute_result"
    }
   ],
   "source": [
    "grouped_pivot = grouped_pivot.fillna('') #fill missing values with empty value\n",
    "grouped_pivot"
   ],
   "metadata": {
    "collapsed": false,
    "pycharm": {
     "name": "#%%\n"
    }
   }
  },
  {
   "cell_type": "markdown",
   "source": [
    "We have a lot of 0 values because of lack of data, but we will use it as an example."
   ],
   "metadata": {
    "collapsed": false
   }
  },
  {
   "cell_type": "markdown",
   "source": [
    "<div class=\"alert alert-danger alertdanger\" style=\"margin-top: 20px\">\n",
    "<h1>Question 4:</h1>\n",
    "\n",
    "<p>Use the \"groupby\" function to find the average \"Mortality\" of each \"SKReact\".</p>\n",
    "</div>\n"
   ],
   "metadata": {}
  },
  {
   "cell_type": "code",
   "source": [
    "# Write your code below and press Shift+Enter to execute\n"
   ],
   "metadata": {
    "trusted": true
   },
   "execution_count": 40,
   "outputs": []
  },
  {
   "cell_type": "markdown",
   "source": [
    "<details><summary>Click here for the solution</summary>\n",
    "\n",
    "```python\n",
    "# grouping results\n",
    "df_gptest2 = df[['SKReact','Mortality']]\n",
    "grouped_test_skreact = df_gptest2.groupby(['SKReact'],as_index= False).mean()\n",
    "grouped_test_skreact\n",
    "\n",
    "```\n",
    "\n",
    "</details>\n"
   ],
   "metadata": {}
  },
  {
   "cell_type": "markdown",
   "source": [
    "If you did not import \"pyplot\", let's do it again.\n"
   ],
   "metadata": {}
  },
  {
   "cell_type": "code",
   "source": [
    "import matplotlib.pyplot as plt\n",
    "%matplotlib inline "
   ],
   "metadata": {
    "trusted": true
   },
   "execution_count": 41,
   "outputs": []
  },
  {
   "cell_type": "markdown",
   "source": [
    "<h4>Variables: Age group and SK reaction vs. Mortality</h4>\n"
   ],
   "metadata": {}
  },
  {
   "cell_type": "markdown",
   "source": [
    "Let's use a heat map to visualize the relationship between Age group and SK reaction vs. Mortality.\n"
   ],
   "metadata": {}
  },
  {
   "cell_type": "code",
   "source": [
    "#use the grouped results\n",
    "grouped_pivot = grouped_test1.pivot(index='AgeGroup',columns='SKReact').fillna(0)\n",
    "plt.pcolor(grouped_pivot, cmap='RdBu')\n",
    "plt.colorbar()\n",
    "plt.show()"
   ],
   "metadata": {
    "trusted": true
   },
   "execution_count": 42,
   "outputs": [
    {
     "data": {
      "text/plain": "<Figure size 432x288 with 2 Axes>",
      "image/png": "[encoded data removed]"
     },
     "metadata": {
      "needs_background": "light"
     },
     "output_type": "display_data"
    }
   ]
  },
  {
   "cell_type": "markdown",
   "source": [
    "<p>The heatmap plots the target variable (Mortality) proportional to colour with respect to the variables 'AgeGroup' and 'SKReact' on the vertical and horizontal axis, respectively. This allows us to visualize how the mortality is related to 'AgeGroup' and 'SKReact'.</p>\n",
    "\n",
    "<p>The default labels convey no useful information to us. Let's change that:</p>\n"
   ],
   "metadata": {}
  },
  {
   "cell_type": "code",
   "source": [
    "fig, ax = plt.subplots()\n",
    "im = ax.pcolor(grouped_pivot, cmap='RdBu')\n",
    "\n",
    "#label names\n",
    "row_labels = grouped_pivot.columns.levels[1]\n",
    "col_labels = grouped_pivot.index\n",
    "\n",
    "#move ticks and labels to the center\n",
    "ax.set_xticks(np.arange(grouped_pivot.shape[1]) + 0.5, minor=False)\n",
    "ax.set_yticks(np.arange(grouped_pivot.shape[0]) + 0.5, minor=False)\n",
    "\n",
    "#insert labels\n",
    "ax.set_xticklabels(row_labels, minor=False)\n",
    "ax.set_yticklabels(col_labels, minor=False)\n",
    "\n",
    "#rotate label if too long\n",
    "plt.xticks(rotation=90)\n",
    "\n",
    "fig.colorbar(im)\n",
    "plt.show()"
   ],
   "metadata": {
    "trusted": true
   },
   "execution_count": 43,
   "outputs": [
    {
     "data": {
      "text/plain": "<Figure size 432x288 with 2 Axes>",
      "image/png": "[encoded data removed]"
     },
     "metadata": {
      "needs_background": "light"
     },
     "output_type": "display_data"
    }
   ]
  },
  {
   "cell_type": "markdown",
   "source": [
    "<p>Visualization is very important in data science, and Python visualization packages provide great freedom. We will go more in-depth in a separate Python visualizations course.</p>\n",
    "\n",
    "<p>The main question we want to answer in this module is, \"What are the main characteristics which have the most impact on the mortality rate?\".</p>\n",
    "\n",
    "<p>To get a better measure of the important characteristics, we look at the assotiation of these variables with the mortality rate. In other words: how is the mortality rate dependent on this variable?</p>\n"
   ],
   "metadata": {}
  },
  {
   "cell_type": "markdown",
   "source": [
    "<h2 id=\"correlation_causation\">5. Correlation and Causation</h2>\n"
   ],
   "metadata": {}
  },
  {
   "cell_type": "markdown",
   "source": [
    "<p><b>Correlation</b>: a measure of the extent of interdependence between variables.</p>\n",
    "\n",
    "<p><b>Causation</b>: the relationship between cause and effect between two variables.</p>\n",
    "\n",
    "<p>It is important to know the difference between these two. Correlation does not imply causation. Determining correlation is much simpler  the determining causation as causation may require independent experimentation.</p>\n"
   ],
   "metadata": {}
  },
  {
   "cell_type": "markdown",
   "source": [
    "<p><b>Pearson Correlation</b></p>\n",
    "<p>The Pearson Correlation measures the linear dependence between two variables X and Y.</p>\n",
    "<p>The resulting coefficient is a value between -1 and 1 inclusive, where:</p>\n",
    "<ul>\n",
    "    <li><b>1</b>: Perfect positive linear correlation.</li>\n",
    "    <li><b>0</b>: No linear correlation, the two variables most likely do not affect each other.</li>\n",
    "    <li><b>-1</b>: Perfect negative linear correlation.</li>\n",
    "</ul>\n"
   ],
   "metadata": {}
  },
  {
   "cell_type": "markdown",
   "source": [
    "<p>Pearson Correlation is the default method of the function \"corr\". Like before, we can calculate the Pearson Correlation of the of the 'int64' or 'float64'  variables.</p>\n"
   ],
   "metadata": {}
  },
  {
   "cell_type": "code",
   "source": [
    "df.corr()"
   ],
   "metadata": {
    "trusted": true
   },
   "execution_count": 44,
   "outputs": [
    {
     "data": {
      "text/plain": "                   Age  Lifestyle  Sleep  Depression  Hyperlipidemia  Smoking  \\\nAge               1.00       0.02  -0.01        0.07           -0.02    -0.18   \nLifestyle         0.02       1.00   0.27        0.08            0.19     0.14   \nSleep            -0.01       0.27   1.00       -0.01            0.08    -0.04   \nDepression        0.07       0.08  -0.01        1.00            0.68     0.23   \nHyperlipidemia   -0.02       0.19   0.08        0.68            1.00     0.30   \nSmoking          -0.18       0.14  -0.04        0.23            0.30     1.00   \nDiabetes          0.23       0.05   0.21       -0.03           -0.01    -0.27   \nHTN               0.15       0.01   0.06        0.01           -0.09    -0.33   \nAllergies        -0.10      -0.21  -0.14        0.04            0.05     0.13   \nBP               -0.03       0.07   0.03        0.16            0.11     0.16   \nThrombolysis      0.10      -0.03  -0.15        0.04           -0.30    -0.01   \nBGR              -0.07       0.14  -0.10       -0.14           -0.21     0.22   \nCPK               0.01       0.23  -0.01       -0.01            0.01     0.31   \nCK-MB             0.01       0.19   0.03        0.03            0.04     0.31   \nESR               0.13      -0.31  -0.08       -0.23           -0.14    -0.23   \nWBC               0.02      -0.34  -0.32        0.02            0.10     0.22   \nRBC              -0.23       0.09  -0.11        0.02           -0.02     0.35   \nHemoglobin       -0.20      -0.01   0.08        0.15            0.12     0.24   \nPCV              -0.28       0.03   0.05        0.07            0.09     0.31   \nMCV               0.05      -0.02   0.34        0.17            0.18    -0.07   \nMCH               0.04      -0.17   0.25        0.18            0.18    -0.16   \nMCHC              0.08      -0.26   0.08        0.43            0.28    -0.03   \nPlateletCount     0.05      -0.23   0.11       -0.04            0.09     0.10   \nNeutrophil        0.11       0.04  -0.28       -0.05           -0.13    -0.01   \nLymphocyte       -0.13      -0.03   0.30        0.06            0.14     0.03   \nMonocyte         -0.13      -0.24   0.03       -0.20           -0.10    -0.19   \nEosinophil        0.03      -0.03   0.17        0.14            0.24    -0.03   \nHypersensitivity -0.06      -0.13  -0.15        0.04            0.05    -0.10   \nCP                0.04      -0.08   0.05       -0.09            0.10    -0.08   \nTrestbps          0.30      -0.03  -0.11       -0.01            0.03    -0.12   \nChol              0.18      -0.06  -0.05        0.06           -0.01    -0.12   \nFBS               0.12      -0.04  -0.10        0.05            0.11    -0.01   \nRestecg           0.13      -0.32  -0.11       -0.02           -0.01     0.02   \nThalach          -0.10      -0.08  -0.03        0.00           -0.00     0.01   \nExang            -0.16      -0.11  -0.03       -0.12            0.00     0.03   \nOldpeak           0.10       0.18   0.11        0.14            0.13    -0.06   \nSlope             0.15       0.09   0.02        0.10            0.07    -0.10   \nCA                0.44       0.06   0.02        0.05            0.11    -0.10   \nThal             -0.26       0.11   0.03       -0.11           -0.08     0.10   \nNum               0.12       0.09  -0.16        0.05            0.03    -0.05   \nSK               -0.08       0.15   0.10       -0.03            0.46     0.14   \nReaction         -0.29      -0.00   0.01       -0.04           -0.14     0.54   \nMortality        -0.10      -0.03   0.06        0.05            0.02    -0.16   \nFollowUp          0.17       0.01  -0.04       -0.15           -0.34    -0.01   \nGender-female     0.40       0.03   0.03        0.09            0.15    -0.57   \nGender-male      -0.40      -0.03  -0.03       -0.09           -0.15     0.57   \nLocality-rural    0.26       0.45   0.08        0.14            0.21     0.02   \nLocality-urban   -0.26      -0.45  -0.08       -0.14           -0.21    -0.02   \n\n                  Diabetes   HTN  Allergies    BP  ...  Thal   Num    SK  \\\nAge                   0.23  0.15      -0.10 -0.03  ... -0.26  0.12 -0.08   \nLifestyle             0.05  0.01      -0.21  0.07  ...  0.11  0.09  0.15   \nSleep                 0.21  0.06      -0.14  0.03  ...  0.03 -0.16  0.10   \nDepression           -0.03  0.01       0.04  0.16  ... -0.11  0.05 -0.03   \nHyperlipidemia       -0.01 -0.09       0.05  0.11  ... -0.08  0.03  0.46   \nSmoking              -0.27 -0.33       0.13  0.16  ...  0.10 -0.05  0.14   \nDiabetes              1.00  0.65       0.19  0.01  ... -0.09 -0.01  0.12   \nHTN                   0.65  1.00       0.16 -0.05  ... -0.07  0.15 -0.12   \nAllergies             0.19  0.16       1.00  0.11  ... -0.10  0.02  0.02   \nBP                    0.01 -0.05       0.11  1.00  ... -0.08 -0.06  0.00   \nThrombolysis         -0.17 -0.02      -0.03 -0.12  ... -0.06 -0.02 -0.70   \nBGR                  -0.24 -0.37      -0.09  0.08  ...  0.17 -0.03 -0.07   \nCPK                  -0.15 -0.20      -0.07 -0.11  ... -0.10 -0.13  0.06   \nCK-MB                -0.15 -0.20      -0.08 -0.12  ... -0.10 -0.14  0.03   \nESR                   0.15  0.11      -0.07  0.06  ... -0.10 -0.09  0.01   \nWBC                  -0.22 -0.03       0.06 -0.10  ...  0.00  0.06  0.14   \nRBC                  -0.36 -0.15      -0.16  0.13  ...  0.11  0.07  0.12   \nHemoglobin           -0.21  0.03      -0.15  0.04  ...  0.17  0.03  0.16   \nPCV                  -0.23 -0.03      -0.16  0.03  ...  0.22  0.03  0.17   \nMCV                   0.19  0.12      -0.00 -0.10  ...  0.17 -0.05  0.09   \nMCH                   0.20  0.18       0.04 -0.08  ...  0.11 -0.04  0.07   \nMCHC                  0.24  0.28       0.06  0.02  ... -0.10 -0.08 -0.06   \nPlateletCount         0.20  0.13       0.42  0.00  ... -0.23 -0.10  0.19   \nNeutrophil            0.12  0.12      -0.05 -0.15  ...  0.03  0.06 -0.08   \nLymphocyte           -0.13 -0.10       0.00  0.14  ... -0.03 -0.08  0.07   \nMonocyte              0.07 -0.07       0.51  0.17  ...  0.06  0.02  0.02   \nEosinophil            0.00 -0.11      -0.25  0.06  ... -0.10 -0.06  0.18   \nHypersensitivity     -0.11 -0.11       0.06 -0.01  ...  0.01  0.04  0.02   \nCP                    0.06  0.06       0.07  0.01  ... -0.00  0.14  0.06   \nTrestbps              0.09  0.04      -0.05 -0.13  ...  0.16  0.14  0.01   \nChol                  0.09 -0.04      -0.13 -0.07  ... -0.06  0.05 -0.09   \nFBS                  -0.08 -0.13      -0.07  0.07  ...  0.01 -0.01  0.05   \nRestecg              -0.09 -0.10       0.04  0.00  ... -0.10  0.10 -0.03   \nThalach              -0.02 -0.09       0.02  0.03  ... -0.06 -0.22 -0.08   \nExang                -0.03 -0.02      -0.01  0.03  ...  0.15  0.07  0.10   \nOldpeak              -0.04  0.12      -0.17 -0.16  ...  0.18  0.41  0.05   \nSlope                 0.09  0.15      -0.09 -0.13  ...  0.16  0.32  0.00   \nCA                    0.05 -0.02      -0.05 -0.08  ... -0.04  0.40  0.10   \nThal                 -0.09 -0.07      -0.10 -0.08  ...  1.00  0.27  0.01   \nNum                  -0.01  0.15       0.02 -0.06  ...  0.27  1.00 -0.04   \nSK                    0.12 -0.12       0.02  0.00  ...  0.01 -0.04  1.00   \nReaction             -0.43 -0.28       0.10  0.12  ...  0.20 -0.04 -0.07   \nMortality             0.32  0.18      -0.05 -0.04  ...  0.02 -0.11  0.07   \nFollowUp             -0.05 -0.04       0.05  0.16  ... -0.03 -0.05 -0.26   \nGender-female         0.49  0.31      -0.06 -0.07  ... -0.25  0.03  0.07   \nGender-male          -0.49 -0.31       0.06  0.07  ...  0.25 -0.03 -0.07   \nLocality-rural        0.10  0.02      -0.10 -0.39  ... -0.05  0.01  0.10   \nLocality-urban       -0.10 -0.02       0.10  0.39  ...  0.05 -0.01 -0.10   \n\n                  Reaction  Mortality  FollowUp  Gender-female  Gender-male  \\\nAge                  -0.29      -0.10      0.17           0.40        -0.40   \nLifestyle            -0.00      -0.03      0.01           0.03        -0.03   \nSleep                 0.01       0.06     -0.04           0.03        -0.03   \nDepression           -0.04       0.05     -0.15           0.09        -0.09   \nHyperlipidemia       -0.14       0.02     -0.34           0.15        -0.15   \nSmoking               0.54      -0.16     -0.01          -0.57         0.57   \nDiabetes             -0.43       0.32     -0.05           0.49        -0.49   \nHTN                  -0.28       0.18     -0.04           0.31        -0.31   \nAllergies             0.10      -0.05      0.05          -0.06         0.06   \nBP                    0.12      -0.04      0.16          -0.07         0.07   \nThrombolysis          0.11      -0.10      0.20          -0.10         0.10   \nBGR                   0.33      -0.11      0.23          -0.37         0.37   \nCPK                   0.23      -0.09      0.08          -0.21         0.21   \nCK-MB                 0.22      -0.06      0.08          -0.20         0.20   \nESR                  -0.32       0.02      0.03           0.31        -0.31   \nWBC                   0.28      -0.15     -0.09          -0.25         0.25   \nRBC                   0.44      -0.08     -0.12          -0.42         0.42   \nHemoglobin            0.43       0.01     -0.12          -0.40         0.40   \nPCV                   0.38       0.02     -0.09          -0.41         0.41   \nMCV                   0.00       0.09      0.06           0.02        -0.02   \nMCH                   0.04       0.10     -0.02          -0.02         0.02   \nMCHC                  0.04       0.08     -0.12           0.03        -0.03   \nPlateletCount        -0.15       0.04     -0.09           0.12        -0.12   \nNeutrophil            0.02      -0.10      0.00          -0.00         0.00   \nLymphocyte           -0.02       0.11     -0.00           0.00        -0.00   \nMonocyte             -0.01       0.05     -0.00          -0.02         0.02   \nEosinophil           -0.18       0.09     -0.05           0.16        -0.16   \nHypersensitivity     -0.07       0.01     -0.16          -0.06         0.06   \nCP                   -0.15      -0.04      0.03           0.15        -0.15   \nTrestbps             -0.30      -0.10      0.06           0.33        -0.33   \nChol                 -0.20       0.18     -0.21           0.22        -0.22   \nFBS                  -0.03      -0.02      0.15           0.04        -0.04   \nRestecg              -0.04      -0.01     -0.09           0.05        -0.05   \nThalach              -0.10      -0.04      0.01           0.09        -0.09   \nExang                 0.13      -0.11      0.01          -0.15         0.15   \nOldpeak              -0.08      -0.11     -0.08           0.10        -0.10   \nSlope                -0.13       0.03     -0.01           0.14        -0.14   \nCA                   -0.16      -0.16     -0.07           0.21        -0.21   \nThal                  0.20       0.02     -0.03          -0.25         0.25   \nNum                  -0.04      -0.11     -0.05           0.03        -0.03   \nSK                   -0.07       0.07     -0.26           0.07        -0.07   \nReaction              1.00      -0.28      0.01          -0.91         0.91   \nMortality            -0.28       1.00     -0.18           0.25        -0.25   \nFollowUp              0.01      -0.18      1.00           0.02        -0.02   \nGender-female        -0.91       0.25      0.02           1.00        -1.00   \nGender-male           0.91      -0.25     -0.02          -1.00         1.00   \nLocality-rural       -0.37       0.12      0.06           0.39        -0.39   \nLocality-urban        0.37      -0.12     -0.06          -0.39         0.39   \n\n                  Locality-rural  Locality-urban  \nAge                         0.26           -0.26  \nLifestyle                   0.45           -0.45  \nSleep                       0.08           -0.08  \nDepression                  0.14           -0.14  \nHyperlipidemia              0.21           -0.21  \nSmoking                     0.02           -0.02  \nDiabetes                    0.10           -0.10  \nHTN                         0.02           -0.02  \nAllergies                  -0.10            0.10  \nBP                         -0.39            0.39  \nThrombolysis                0.05           -0.05  \nBGR                        -0.16            0.16  \nCPK                         0.04           -0.04  \nCK-MB                       0.06           -0.06  \nESR                        -0.18            0.18  \nWBC                        -0.14            0.14  \nRBC                        -0.21            0.21  \nHemoglobin                 -0.20            0.20  \nPCV                        -0.16            0.16  \nMCV                         0.09           -0.09  \nMCH                        -0.06            0.06  \nMCHC                       -0.14            0.14  \nPlateletCount              -0.09            0.09  \nNeutrophil                  0.08           -0.08  \nLymphocyte                 -0.07            0.07  \nMonocyte                   -0.35            0.35  \nEosinophil                  0.05           -0.05  \nHypersensitivity           -0.04            0.04  \nCP                         -0.04            0.04  \nTrestbps                    0.07           -0.07  \nChol                        0.10           -0.10  \nFBS                         0.07           -0.07  \nRestecg                    -0.20            0.20  \nThalach                     0.02           -0.02  \nExang                      -0.13            0.13  \nOldpeak                     0.16           -0.16  \nSlope                       0.14           -0.14  \nCA                          0.17           -0.17  \nThal                       -0.05            0.05  \nNum                         0.01           -0.01  \nSK                          0.10           -0.10  \nReaction                   -0.37            0.37  \nMortality                   0.12           -0.12  \nFollowUp                    0.06           -0.06  \nGender-female               0.39           -0.39  \nGender-male                -0.39            0.39  \nLocality-rural              1.00           -1.00  \nLocality-urban             -1.00            1.00  \n\n[48 rows x 48 columns]",
      "text/html": "<div>\n<style scoped>\n    .dataframe tbody tr th:only-of-type {\n        vertical-align: middle;\n    }\n\n    .dataframe tbody tr th {\n        vertical-align: top;\n    }\n\n    .dataframe thead th {\n        text-align: right;\n    }\n</style>\n<table border=\"1\" class=\"dataframe\">\n  <thead>\n    <tr style=\"text-align: right;\">\n      <th></th>\n      <th>Age</th>\n      <th>Lifestyle</th>\n      <th>Sleep</th>\n      <th>Depression</th>\n      <th>Hyperlipidemia</th>\n      <th>Smoking</th>\n      <th>Diabetes</th>\n      <th>HTN</th>\n      <th>Allergies</th>\n      <th>BP</th>\n      <th>...</th>\n      <th>Thal</th>\n      <th>Num</th>\n      <th>SK</th>\n      <th>Reaction</th>\n      <th>Mortality</th>\n      <th>FollowUp</th>\n      <th>Gender-female</th>\n      <th>Gender-male</th>\n      <th>Locality-rural</th>\n      <th>Locality-urban</th>\n    </tr>\n  </thead>\n  <tbody>\n    <tr>\n      <th>Age</th>\n      <td>1.00</td>\n      <td>0.02</td>\n      <td>-0.01</td>\n      <td>0.07</td>\n      <td>-0.02</td>\n      <td>-0.18</td>\n      <td>0.23</td>\n      <td>0.15</td>\n      <td>-0.10</td>\n      <td>-0.03</td>\n      <td>...</td>\n      <td>-0.26</td>\n      <td>0.12</td>\n      <td>-0.08</td>\n      <td>-0.29</td>\n      <td>-0.10</td>\n      <td>0.17</td>\n      <td>0.40</td>\n      <td>-0.40</td>\n      <td>0.26</td>\n      <td>-0.26</td>\n    </tr>\n    <tr>\n      <th>Lifestyle</th>\n      <td>0.02</td>\n      <td>1.00</td>\n      <td>0.27</td>\n      <td>0.08</td>\n      <td>0.19</td>\n      <td>0.14</td>\n      <td>0.05</td>\n      <td>0.01</td>\n      <td>-0.21</td>\n      <td>0.07</td>\n      <td>...</td>\n      <td>0.11</td>\n      <td>0.09</td>\n      <td>0.15</td>\n      <td>-0.00</td>\n      <td>-0.03</td>\n      <td>0.01</td>\n      <td>0.03</td>\n      <td>-0.03</td>\n      <td>0.45</td>\n      <td>-0.45</td>\n    </tr>\n    <tr>\n      <th>Sleep</th>\n      <td>-0.01</td>\n      <td>0.27</td>\n      <td>1.00</td>\n      <td>-0.01</td>\n      <td>0.08</td>\n      <td>-0.04</td>\n      <td>0.21</td>\n      <td>0.06</td>\n      <td>-0.14</td>\n      <td>0.03</td>\n      <td>...</td>\n      <td>0.03</td>\n      <td>-0.16</td>\n      <td>0.10</td>\n      <td>0.01</td>\n      <td>0.06</td>\n      <td>-0.04</td>\n      <td>0.03</td>\n      <td>-0.03</td>\n      <td>0.08</td>\n      <td>-0.08</td>\n    </tr>\n    <tr>\n      <th>Depression</th>\n      <td>0.07</td>\n      <td>0.08</td>\n      <td>-0.01</td>\n      <td>1.00</td>\n      <td>0.68</td>\n      <td>0.23</td>\n      <td>-0.03</td>\n      <td>0.01</td>\n      <td>0.04</td>\n      <td>0.16</td>\n      <td>...</td>\n      <td>-0.11</td>\n      <td>0.05</td>\n      <td>-0.03</td>\n      <td>-0.04</td>\n      <td>0.05</td>\n      <td>-0.15</td>\n      <td>0.09</td>\n      <td>-0.09</td>\n      <td>0.14</td>\n      <td>-0.14</td>\n    </tr>\n    <tr>\n      <th>Hyperlipidemia</th>\n      <td>-0.02</td>\n      <td>0.19</td>\n      <td>0.08</td>\n      <td>0.68</td>\n      <td>1.00</td>\n      <td>0.30</td>\n      <td>-0.01</td>\n      <td>-0.09</td>\n      <td>0.05</td>\n      <td>0.11</td>\n      <td>...</td>\n      <td>-0.08</td>\n      <td>0.03</td>\n      <td>0.46</td>\n      <td>-0.14</td>\n      <td>0.02</td>\n      <td>-0.34</td>\n      <td>0.15</td>\n      <td>-0.15</td>\n      <td>0.21</td>\n      <td>-0.21</td>\n    </tr>\n    <tr>\n      <th>Smoking</th>\n      <td>-0.18</td>\n      <td>0.14</td>\n      <td>-0.04</td>\n      <td>0.23</td>\n      <td>0.30</td>\n      <td>1.00</td>\n      <td>-0.27</td>\n      <td>-0.33</td>\n      <td>0.13</td>\n      <td>0.16</td>\n      <td>...</td>\n      <td>0.10</td>\n      <td>-0.05</td>\n      <td>0.14</td>\n      <td>0.54</td>\n      <td>-0.16</td>\n      <td>-0.01</td>\n      <td>-0.57</td>\n      <td>0.57</td>\n      <td>0.02</td>\n      <td>-0.02</td>\n    </tr>\n    <tr>\n      <th>Diabetes</th>\n      <td>0.23</td>\n      <td>0.05</td>\n      <td>0.21</td>\n      <td>-0.03</td>\n      <td>-0.01</td>\n      <td>-0.27</td>\n      <td>1.00</td>\n      <td>0.65</td>\n      <td>0.19</td>\n      <td>0.01</td>\n      <td>...</td>\n      <td>-0.09</td>\n      <td>-0.01</td>\n      <td>0.12</td>\n      <td>-0.43</td>\n      <td>0.32</td>\n      <td>-0.05</td>\n      <td>0.49</td>\n      <td>-0.49</td>\n      <td>0.10</td>\n      <td>-0.10</td>\n    </tr>\n    <tr>\n      <th>HTN</th>\n      <td>0.15</td>\n      <td>0.01</td>\n      <td>0.06</td>\n      <td>0.01</td>\n      <td>-0.09</td>\n      <td>-0.33</td>\n      <td>0.65</td>\n      <td>1.00</td>\n      <td>0.16</td>\n      <td>-0.05</td>\n      <td>...</td>\n      <td>-0.07</td>\n      <td>0.15</td>\n      <td>-0.12</td>\n      <td>-0.28</td>\n      <td>0.18</td>\n      <td>-0.04</td>\n      <td>0.31</td>\n      <td>-0.31</td>\n      <td>0.02</td>\n      <td>-0.02</td>\n    </tr>\n    <tr>\n      <th>Allergies</th>\n      <td>-0.10</td>\n      <td>-0.21</td>\n      <td>-0.14</td>\n      <td>0.04</td>\n      <td>0.05</td>\n      <td>0.13</td>\n      <td>0.19</td>\n      <td>0.16</td>\n      <td>1.00</td>\n      <td>0.11</td>\n      <td>...</td>\n      <td>-0.10</td>\n      <td>0.02</td>\n      <td>0.02</td>\n      <td>0.10</td>\n      <td>-0.05</td>\n      <td>0.05</td>\n      <td>-0.06</td>\n      <td>0.06</td>\n      <td>-0.10</td>\n      <td>0.10</td>\n    </tr>\n    <tr>\n      <th>BP</th>\n      <td>-0.03</td>\n      <td>0.07</td>\n      <td>0.03</td>\n      <td>0.16</td>\n      <td>0.11</td>\n      <td>0.16</td>\n      <td>0.01</td>\n      <td>-0.05</td>\n      <td>0.11</td>\n      <td>1.00</td>\n      <td>...</td>\n      <td>-0.08</td>\n      <td>-0.06</td>\n      <td>0.00</td>\n      <td>0.12</td>\n      <td>-0.04</td>\n      <td>0.16</td>\n      <td>-0.07</td>\n      <td>0.07</td>\n      <td>-0.39</td>\n      <td>0.39</td>\n    </tr>\n    <tr>\n      <th>Thrombolysis</th>\n      <td>0.10</td>\n      <td>-0.03</td>\n      <td>-0.15</td>\n      <td>0.04</td>\n      <td>-0.30</td>\n      <td>-0.01</td>\n      <td>-0.17</td>\n      <td>-0.02</td>\n      <td>-0.03</td>\n      <td>-0.12</td>\n      <td>...</td>\n      <td>-0.06</td>\n      <td>-0.02</td>\n      <td>-0.70</td>\n      <td>0.11</td>\n      <td>-0.10</td>\n      <td>0.20</td>\n      <td>-0.10</td>\n      <td>0.10</td>\n      <td>0.05</td>\n      <td>-0.05</td>\n    </tr>\n    <tr>\n      <th>BGR</th>\n      <td>-0.07</td>\n      <td>0.14</td>\n      <td>-0.10</td>\n      <td>-0.14</td>\n      <td>-0.21</td>\n      <td>0.22</td>\n      <td>-0.24</td>\n      <td>-0.37</td>\n      <td>-0.09</td>\n      <td>0.08</td>\n      <td>...</td>\n      <td>0.17</td>\n      <td>-0.03</td>\n      <td>-0.07</td>\n      <td>0.33</td>\n      <td>-0.11</td>\n      <td>0.23</td>\n      <td>-0.37</td>\n      <td>0.37</td>\n      <td>-0.16</td>\n      <td>0.16</td>\n    </tr>\n    <tr>\n      <th>CPK</th>\n      <td>0.01</td>\n      <td>0.23</td>\n      <td>-0.01</td>\n      <td>-0.01</td>\n      <td>0.01</td>\n      <td>0.31</td>\n      <td>-0.15</td>\n      <td>-0.20</td>\n      <td>-0.07</td>\n      <td>-0.11</td>\n      <td>...</td>\n      <td>-0.10</td>\n      <td>-0.13</td>\n      <td>0.06</td>\n      <td>0.23</td>\n      <td>-0.09</td>\n      <td>0.08</td>\n      <td>-0.21</td>\n      <td>0.21</td>\n      <td>0.04</td>\n      <td>-0.04</td>\n    </tr>\n    <tr>\n      <th>CK-MB</th>\n      <td>0.01</td>\n      <td>0.19</td>\n      <td>0.03</td>\n      <td>0.03</td>\n      <td>0.04</td>\n      <td>0.31</td>\n      <td>-0.15</td>\n      <td>-0.20</td>\n      <td>-0.08</td>\n      <td>-0.12</td>\n      <td>...</td>\n      <td>-0.10</td>\n      <td>-0.14</td>\n      <td>0.03</td>\n      <td>0.22</td>\n      <td>-0.06</td>\n      <td>0.08</td>\n      <td>-0.20</td>\n      <td>0.20</td>\n      <td>0.06</td>\n      <td>-0.06</td>\n    </tr>\n    <tr>\n      <th>ESR</th>\n      <td>0.13</td>\n      <td>-0.31</td>\n      <td>-0.08</td>\n      <td>-0.23</td>\n      <td>-0.14</td>\n      <td>-0.23</td>\n      <td>0.15</td>\n      <td>0.11</td>\n      <td>-0.07</td>\n      <td>0.06</td>\n      <td>...</td>\n      <td>-0.10</td>\n      <td>-0.09</td>\n      <td>0.01</td>\n      <td>-0.32</td>\n      <td>0.02</td>\n      <td>0.03</td>\n      <td>0.31</td>\n      <td>-0.31</td>\n      <td>-0.18</td>\n      <td>0.18</td>\n    </tr>\n    <tr>\n      <th>WBC</th>\n      <td>0.02</td>\n      <td>-0.34</td>\n      <td>-0.32</td>\n      <td>0.02</td>\n      <td>0.10</td>\n      <td>0.22</td>\n      <td>-0.22</td>\n      <td>-0.03</td>\n      <td>0.06</td>\n      <td>-0.10</td>\n      <td>...</td>\n      <td>0.00</td>\n      <td>0.06</td>\n      <td>0.14</td>\n      <td>0.28</td>\n      <td>-0.15</td>\n      <td>-0.09</td>\n      <td>-0.25</td>\n      <td>0.25</td>\n      <td>-0.14</td>\n      <td>0.14</td>\n    </tr>\n    <tr>\n      <th>RBC</th>\n      <td>-0.23</td>\n      <td>0.09</td>\n      <td>-0.11</td>\n      <td>0.02</td>\n      <td>-0.02</td>\n      <td>0.35</td>\n      <td>-0.36</td>\n      <td>-0.15</td>\n      <td>-0.16</td>\n      <td>0.13</td>\n      <td>...</td>\n      <td>0.11</td>\n      <td>0.07</td>\n      <td>0.12</td>\n      <td>0.44</td>\n      <td>-0.08</td>\n      <td>-0.12</td>\n      <td>-0.42</td>\n      <td>0.42</td>\n      <td>-0.21</td>\n      <td>0.21</td>\n    </tr>\n    <tr>\n      <th>Hemoglobin</th>\n      <td>-0.20</td>\n      <td>-0.01</td>\n      <td>0.08</td>\n      <td>0.15</td>\n      <td>0.12</td>\n      <td>0.24</td>\n      <td>-0.21</td>\n      <td>0.03</td>\n      <td>-0.15</td>\n      <td>0.04</td>\n      <td>...</td>\n      <td>0.17</td>\n      <td>0.03</td>\n      <td>0.16</td>\n      <td>0.43</td>\n      <td>0.01</td>\n      <td>-0.12</td>\n      <td>-0.40</td>\n      <td>0.40</td>\n      <td>-0.20</td>\n      <td>0.20</td>\n    </tr>\n    <tr>\n      <th>PCV</th>\n      <td>-0.28</td>\n      <td>0.03</td>\n      <td>0.05</td>\n      <td>0.07</td>\n      <td>0.09</td>\n      <td>0.31</td>\n      <td>-0.23</td>\n      <td>-0.03</td>\n      <td>-0.16</td>\n      <td>0.03</td>\n      <td>...</td>\n      <td>0.22</td>\n      <td>0.03</td>\n      <td>0.17</td>\n      <td>0.38</td>\n      <td>0.02</td>\n      <td>-0.09</td>\n      <td>-0.41</td>\n      <td>0.41</td>\n      <td>-0.16</td>\n      <td>0.16</td>\n    </tr>\n    <tr>\n      <th>MCV</th>\n      <td>0.05</td>\n      <td>-0.02</td>\n      <td>0.34</td>\n      <td>0.17</td>\n      <td>0.18</td>\n      <td>-0.07</td>\n      <td>0.19</td>\n      <td>0.12</td>\n      <td>-0.00</td>\n      <td>-0.10</td>\n      <td>...</td>\n      <td>0.17</td>\n      <td>-0.05</td>\n      <td>0.09</td>\n      <td>0.00</td>\n      <td>0.09</td>\n      <td>0.06</td>\n      <td>0.02</td>\n      <td>-0.02</td>\n      <td>0.09</td>\n      <td>-0.09</td>\n    </tr>\n    <tr>\n      <th>MCH</th>\n      <td>0.04</td>\n      <td>-0.17</td>\n      <td>0.25</td>\n      <td>0.18</td>\n      <td>0.18</td>\n      <td>-0.16</td>\n      <td>0.20</td>\n      <td>0.18</td>\n      <td>0.04</td>\n      <td>-0.08</td>\n      <td>...</td>\n      <td>0.11</td>\n      <td>-0.04</td>\n      <td>0.07</td>\n      <td>0.04</td>\n      <td>0.10</td>\n      <td>-0.02</td>\n      <td>-0.02</td>\n      <td>0.02</td>\n      <td>-0.06</td>\n      <td>0.06</td>\n    </tr>\n    <tr>\n      <th>MCHC</th>\n      <td>0.08</td>\n      <td>-0.26</td>\n      <td>0.08</td>\n      <td>0.43</td>\n      <td>0.28</td>\n      <td>-0.03</td>\n      <td>0.24</td>\n      <td>0.28</td>\n      <td>0.06</td>\n      <td>0.02</td>\n      <td>...</td>\n      <td>-0.10</td>\n      <td>-0.08</td>\n      <td>-0.06</td>\n      <td>0.04</td>\n      <td>0.08</td>\n      <td>-0.12</td>\n      <td>0.03</td>\n      <td>-0.03</td>\n      <td>-0.14</td>\n      <td>0.14</td>\n    </tr>\n    <tr>\n      <th>PlateletCount</th>\n      <td>0.05</td>\n      <td>-0.23</td>\n      <td>0.11</td>\n      <td>-0.04</td>\n      <td>0.09</td>\n      <td>0.10</td>\n      <td>0.20</td>\n      <td>0.13</td>\n      <td>0.42</td>\n      <td>0.00</td>\n      <td>...</td>\n      <td>-0.23</td>\n      <td>-0.10</td>\n      <td>0.19</td>\n      <td>-0.15</td>\n      <td>0.04</td>\n      <td>-0.09</td>\n      <td>0.12</td>\n      <td>-0.12</td>\n      <td>-0.09</td>\n      <td>0.09</td>\n    </tr>\n    <tr>\n      <th>Neutrophil</th>\n      <td>0.11</td>\n      <td>0.04</td>\n      <td>-0.28</td>\n      <td>-0.05</td>\n      <td>-0.13</td>\n      <td>-0.01</td>\n      <td>0.12</td>\n      <td>0.12</td>\n      <td>-0.05</td>\n      <td>-0.15</td>\n      <td>...</td>\n      <td>0.03</td>\n      <td>0.06</td>\n      <td>-0.08</td>\n      <td>0.02</td>\n      <td>-0.10</td>\n      <td>0.00</td>\n      <td>-0.00</td>\n      <td>0.00</td>\n      <td>0.08</td>\n      <td>-0.08</td>\n    </tr>\n    <tr>\n      <th>Lymphocyte</th>\n      <td>-0.13</td>\n      <td>-0.03</td>\n      <td>0.30</td>\n      <td>0.06</td>\n      <td>0.14</td>\n      <td>0.03</td>\n      <td>-0.13</td>\n      <td>-0.10</td>\n      <td>0.00</td>\n      <td>0.14</td>\n      <td>...</td>\n      <td>-0.03</td>\n      <td>-0.08</td>\n      <td>0.07</td>\n      <td>-0.02</td>\n      <td>0.11</td>\n      <td>-0.00</td>\n      <td>0.00</td>\n      <td>-0.00</td>\n      <td>-0.07</td>\n      <td>0.07</td>\n    </tr>\n    <tr>\n      <th>Monocyte</th>\n      <td>-0.13</td>\n      <td>-0.24</td>\n      <td>0.03</td>\n      <td>-0.20</td>\n      <td>-0.10</td>\n      <td>-0.19</td>\n      <td>0.07</td>\n      <td>-0.07</td>\n      <td>0.51</td>\n      <td>0.17</td>\n      <td>...</td>\n      <td>0.06</td>\n      <td>0.02</td>\n      <td>0.02</td>\n      <td>-0.01</td>\n      <td>0.05</td>\n      <td>-0.00</td>\n      <td>-0.02</td>\n      <td>0.02</td>\n      <td>-0.35</td>\n      <td>0.35</td>\n    </tr>\n    <tr>\n      <th>Eosinophil</th>\n      <td>0.03</td>\n      <td>-0.03</td>\n      <td>0.17</td>\n      <td>0.14</td>\n      <td>0.24</td>\n      <td>-0.03</td>\n      <td>0.00</td>\n      <td>-0.11</td>\n      <td>-0.25</td>\n      <td>0.06</td>\n      <td>...</td>\n      <td>-0.10</td>\n      <td>-0.06</td>\n      <td>0.18</td>\n      <td>-0.18</td>\n      <td>0.09</td>\n      <td>-0.05</td>\n      <td>0.16</td>\n      <td>-0.16</td>\n      <td>0.05</td>\n      <td>-0.05</td>\n    </tr>\n    <tr>\n      <th>Hypersensitivity</th>\n      <td>-0.06</td>\n      <td>-0.13</td>\n      <td>-0.15</td>\n      <td>0.04</td>\n      <td>0.05</td>\n      <td>-0.10</td>\n      <td>-0.11</td>\n      <td>-0.11</td>\n      <td>0.06</td>\n      <td>-0.01</td>\n      <td>...</td>\n      <td>0.01</td>\n      <td>0.04</td>\n      <td>0.02</td>\n      <td>-0.07</td>\n      <td>0.01</td>\n      <td>-0.16</td>\n      <td>-0.06</td>\n      <td>0.06</td>\n      <td>-0.04</td>\n      <td>0.04</td>\n    </tr>\n    <tr>\n      <th>CP</th>\n      <td>0.04</td>\n      <td>-0.08</td>\n      <td>0.05</td>\n      <td>-0.09</td>\n      <td>0.10</td>\n      <td>-0.08</td>\n      <td>0.06</td>\n      <td>0.06</td>\n      <td>0.07</td>\n      <td>0.01</td>\n      <td>...</td>\n      <td>-0.00</td>\n      <td>0.14</td>\n      <td>0.06</td>\n      <td>-0.15</td>\n      <td>-0.04</td>\n      <td>0.03</td>\n      <td>0.15</td>\n      <td>-0.15</td>\n      <td>-0.04</td>\n      <td>0.04</td>\n    </tr>\n    <tr>\n      <th>Trestbps</th>\n      <td>0.30</td>\n      <td>-0.03</td>\n      <td>-0.11</td>\n      <td>-0.01</td>\n      <td>0.03</td>\n      <td>-0.12</td>\n      <td>0.09</td>\n      <td>0.04</td>\n      <td>-0.05</td>\n      <td>-0.13</td>\n      <td>...</td>\n      <td>0.16</td>\n      <td>0.14</td>\n      <td>0.01</td>\n      <td>-0.30</td>\n      <td>-0.10</td>\n      <td>0.06</td>\n      <td>0.33</td>\n      <td>-0.33</td>\n      <td>0.07</td>\n      <td>-0.07</td>\n    </tr>\n    <tr>\n      <th>Chol</th>\n      <td>0.18</td>\n      <td>-0.06</td>\n      <td>-0.05</td>\n      <td>0.06</td>\n      <td>-0.01</td>\n      <td>-0.12</td>\n      <td>0.09</td>\n      <td>-0.04</td>\n      <td>-0.13</td>\n      <td>-0.07</td>\n      <td>...</td>\n      <td>-0.06</td>\n      <td>0.05</td>\n      <td>-0.09</td>\n      <td>-0.20</td>\n      <td>0.18</td>\n      <td>-0.21</td>\n      <td>0.22</td>\n      <td>-0.22</td>\n      <td>0.10</td>\n      <td>-0.10</td>\n    </tr>\n    <tr>\n      <th>FBS</th>\n      <td>0.12</td>\n      <td>-0.04</td>\n      <td>-0.10</td>\n      <td>0.05</td>\n      <td>0.11</td>\n      <td>-0.01</td>\n      <td>-0.08</td>\n      <td>-0.13</td>\n      <td>-0.07</td>\n      <td>0.07</td>\n      <td>...</td>\n      <td>0.01</td>\n      <td>-0.01</td>\n      <td>0.05</td>\n      <td>-0.03</td>\n      <td>-0.02</td>\n      <td>0.15</td>\n      <td>0.04</td>\n      <td>-0.04</td>\n      <td>0.07</td>\n      <td>-0.07</td>\n    </tr>\n    <tr>\n      <th>Restecg</th>\n      <td>0.13</td>\n      <td>-0.32</td>\n      <td>-0.11</td>\n      <td>-0.02</td>\n      <td>-0.01</td>\n      <td>0.02</td>\n      <td>-0.09</td>\n      <td>-0.10</td>\n      <td>0.04</td>\n      <td>0.00</td>\n      <td>...</td>\n      <td>-0.10</td>\n      <td>0.10</td>\n      <td>-0.03</td>\n      <td>-0.04</td>\n      <td>-0.01</td>\n      <td>-0.09</td>\n      <td>0.05</td>\n      <td>-0.05</td>\n      <td>-0.20</td>\n      <td>0.20</td>\n    </tr>\n    <tr>\n      <th>Thalach</th>\n      <td>-0.10</td>\n      <td>-0.08</td>\n      <td>-0.03</td>\n      <td>0.00</td>\n      <td>-0.00</td>\n      <td>0.01</td>\n      <td>-0.02</td>\n      <td>-0.09</td>\n      <td>0.02</td>\n      <td>0.03</td>\n      <td>...</td>\n      <td>-0.06</td>\n      <td>-0.22</td>\n      <td>-0.08</td>\n      <td>-0.10</td>\n      <td>-0.04</td>\n      <td>0.01</td>\n      <td>0.09</td>\n      <td>-0.09</td>\n      <td>0.02</td>\n      <td>-0.02</td>\n    </tr>\n    <tr>\n      <th>Exang</th>\n      <td>-0.16</td>\n      <td>-0.11</td>\n      <td>-0.03</td>\n      <td>-0.12</td>\n      <td>0.00</td>\n      <td>0.03</td>\n      <td>-0.03</td>\n      <td>-0.02</td>\n      <td>-0.01</td>\n      <td>0.03</td>\n      <td>...</td>\n      <td>0.15</td>\n      <td>0.07</td>\n      <td>0.10</td>\n      <td>0.13</td>\n      <td>-0.11</td>\n      <td>0.01</td>\n      <td>-0.15</td>\n      <td>0.15</td>\n      <td>-0.13</td>\n      <td>0.13</td>\n    </tr>\n    <tr>\n      <th>Oldpeak</th>\n      <td>0.10</td>\n      <td>0.18</td>\n      <td>0.11</td>\n      <td>0.14</td>\n      <td>0.13</td>\n      <td>-0.06</td>\n      <td>-0.04</td>\n      <td>0.12</td>\n      <td>-0.17</td>\n      <td>-0.16</td>\n      <td>...</td>\n      <td>0.18</td>\n      <td>0.41</td>\n      <td>0.05</td>\n      <td>-0.08</td>\n      <td>-0.11</td>\n      <td>-0.08</td>\n      <td>0.10</td>\n      <td>-0.10</td>\n      <td>0.16</td>\n      <td>-0.16</td>\n    </tr>\n    <tr>\n      <th>Slope</th>\n      <td>0.15</td>\n      <td>0.09</td>\n      <td>0.02</td>\n      <td>0.10</td>\n      <td>0.07</td>\n      <td>-0.10</td>\n      <td>0.09</td>\n      <td>0.15</td>\n      <td>-0.09</td>\n      <td>-0.13</td>\n      <td>...</td>\n      <td>0.16</td>\n      <td>0.32</td>\n      <td>0.00</td>\n      <td>-0.13</td>\n      <td>0.03</td>\n      <td>-0.01</td>\n      <td>0.14</td>\n      <td>-0.14</td>\n      <td>0.14</td>\n      <td>-0.14</td>\n    </tr>\n    <tr>\n      <th>CA</th>\n      <td>0.44</td>\n      <td>0.06</td>\n      <td>0.02</td>\n      <td>0.05</td>\n      <td>0.11</td>\n      <td>-0.10</td>\n      <td>0.05</td>\n      <td>-0.02</td>\n      <td>-0.05</td>\n      <td>-0.08</td>\n      <td>...</td>\n      <td>-0.04</td>\n      <td>0.40</td>\n      <td>0.10</td>\n      <td>-0.16</td>\n      <td>-0.16</td>\n      <td>-0.07</td>\n      <td>0.21</td>\n      <td>-0.21</td>\n      <td>0.17</td>\n      <td>-0.17</td>\n    </tr>\n    <tr>\n      <th>Thal</th>\n      <td>-0.26</td>\n      <td>0.11</td>\n      <td>0.03</td>\n      <td>-0.11</td>\n      <td>-0.08</td>\n      <td>0.10</td>\n      <td>-0.09</td>\n      <td>-0.07</td>\n      <td>-0.10</td>\n      <td>-0.08</td>\n      <td>...</td>\n      <td>1.00</td>\n      <td>0.27</td>\n      <td>0.01</td>\n      <td>0.20</td>\n      <td>0.02</td>\n      <td>-0.03</td>\n      <td>-0.25</td>\n      <td>0.25</td>\n      <td>-0.05</td>\n      <td>0.05</td>\n    </tr>\n    <tr>\n      <th>Num</th>\n      <td>0.12</td>\n      <td>0.09</td>\n      <td>-0.16</td>\n      <td>0.05</td>\n      <td>0.03</td>\n      <td>-0.05</td>\n      <td>-0.01</td>\n      <td>0.15</td>\n      <td>0.02</td>\n      <td>-0.06</td>\n      <td>...</td>\n      <td>0.27</td>\n      <td>1.00</td>\n      <td>-0.04</td>\n      <td>-0.04</td>\n      <td>-0.11</td>\n      <td>-0.05</td>\n      <td>0.03</td>\n      <td>-0.03</td>\n      <td>0.01</td>\n      <td>-0.01</td>\n    </tr>\n    <tr>\n      <th>SK</th>\n      <td>-0.08</td>\n      <td>0.15</td>\n      <td>0.10</td>\n      <td>-0.03</td>\n      <td>0.46</td>\n      <td>0.14</td>\n      <td>0.12</td>\n      <td>-0.12</td>\n      <td>0.02</td>\n      <td>0.00</td>\n      <td>...</td>\n      <td>0.01</td>\n      <td>-0.04</td>\n      <td>1.00</td>\n      <td>-0.07</td>\n      <td>0.07</td>\n      <td>-0.26</td>\n      <td>0.07</td>\n      <td>-0.07</td>\n      <td>0.10</td>\n      <td>-0.10</td>\n    </tr>\n    <tr>\n      <th>Reaction</th>\n      <td>-0.29</td>\n      <td>-0.00</td>\n      <td>0.01</td>\n      <td>-0.04</td>\n      <td>-0.14</td>\n      <td>0.54</td>\n      <td>-0.43</td>\n      <td>-0.28</td>\n      <td>0.10</td>\n      <td>0.12</td>\n      <td>...</td>\n      <td>0.20</td>\n      <td>-0.04</td>\n      <td>-0.07</td>\n      <td>1.00</td>\n      <td>-0.28</td>\n      <td>0.01</td>\n      <td>-0.91</td>\n      <td>0.91</td>\n      <td>-0.37</td>\n      <td>0.37</td>\n    </tr>\n    <tr>\n      <th>Mortality</th>\n      <td>-0.10</td>\n      <td>-0.03</td>\n      <td>0.06</td>\n      <td>0.05</td>\n      <td>0.02</td>\n      <td>-0.16</td>\n      <td>0.32</td>\n      <td>0.18</td>\n      <td>-0.05</td>\n      <td>-0.04</td>\n      <td>...</td>\n      <td>0.02</td>\n      <td>-0.11</td>\n      <td>0.07</td>\n      <td>-0.28</td>\n      <td>1.00</td>\n      <td>-0.18</td>\n      <td>0.25</td>\n      <td>-0.25</td>\n      <td>0.12</td>\n      <td>-0.12</td>\n    </tr>\n    <tr>\n      <th>FollowUp</th>\n      <td>0.17</td>\n      <td>0.01</td>\n      <td>-0.04</td>\n      <td>-0.15</td>\n      <td>-0.34</td>\n      <td>-0.01</td>\n      <td>-0.05</td>\n      <td>-0.04</td>\n      <td>0.05</td>\n      <td>0.16</td>\n      <td>...</td>\n      <td>-0.03</td>\n      <td>-0.05</td>\n      <td>-0.26</td>\n      <td>0.01</td>\n      <td>-0.18</td>\n      <td>1.00</td>\n      <td>0.02</td>\n      <td>-0.02</td>\n      <td>0.06</td>\n      <td>-0.06</td>\n    </tr>\n    <tr>\n      <th>Gender-female</th>\n      <td>0.40</td>\n      <td>0.03</td>\n      <td>0.03</td>\n      <td>0.09</td>\n      <td>0.15</td>\n      <td>-0.57</td>\n      <td>0.49</td>\n      <td>0.31</td>\n      <td>-0.06</td>\n      <td>-0.07</td>\n      <td>...</td>\n      <td>-0.25</td>\n      <td>0.03</td>\n      <td>0.07</td>\n      <td>-0.91</td>\n      <td>0.25</td>\n      <td>0.02</td>\n      <td>1.00</td>\n      <td>-1.00</td>\n      <td>0.39</td>\n      <td>-0.39</td>\n    </tr>\n    <tr>\n      <th>Gender-male</th>\n      <td>-0.40</td>\n      <td>-0.03</td>\n      <td>-0.03</td>\n      <td>-0.09</td>\n      <td>-0.15</td>\n      <td>0.57</td>\n      <td>-0.49</td>\n      <td>-0.31</td>\n      <td>0.06</td>\n      <td>0.07</td>\n      <td>...</td>\n      <td>0.25</td>\n      <td>-0.03</td>\n      <td>-0.07</td>\n      <td>0.91</td>\n      <td>-0.25</td>\n      <td>-0.02</td>\n      <td>-1.00</td>\n      <td>1.00</td>\n      <td>-0.39</td>\n      <td>0.39</td>\n    </tr>\n    <tr>\n      <th>Locality-rural</th>\n      <td>0.26</td>\n      <td>0.45</td>\n      <td>0.08</td>\n      <td>0.14</td>\n      <td>0.21</td>\n      <td>0.02</td>\n      <td>0.10</td>\n      <td>0.02</td>\n      <td>-0.10</td>\n      <td>-0.39</td>\n      <td>...</td>\n      <td>-0.05</td>\n      <td>0.01</td>\n      <td>0.10</td>\n      <td>-0.37</td>\n      <td>0.12</td>\n      <td>0.06</td>\n      <td>0.39</td>\n      <td>-0.39</td>\n      <td>1.00</td>\n      <td>-1.00</td>\n    </tr>\n    <tr>\n      <th>Locality-urban</th>\n      <td>-0.26</td>\n      <td>-0.45</td>\n      <td>-0.08</td>\n      <td>-0.14</td>\n      <td>-0.21</td>\n      <td>-0.02</td>\n      <td>-0.10</td>\n      <td>-0.02</td>\n      <td>0.10</td>\n      <td>0.39</td>\n      <td>...</td>\n      <td>0.05</td>\n      <td>-0.01</td>\n      <td>-0.10</td>\n      <td>0.37</td>\n      <td>-0.12</td>\n      <td>-0.06</td>\n      <td>-0.39</td>\n      <td>0.39</td>\n      <td>-1.00</td>\n      <td>1.00</td>\n    </tr>\n  </tbody>\n</table>\n<p>48 rows × 48 columns</p>\n</div>"
     },
     "execution_count": 44,
     "metadata": {},
     "output_type": "execute_result"
    }
   ]
  },
  {
   "cell_type": "markdown",
   "source": [
    "Sometimes we would like to know the significant of the correlation estimate.\n"
   ],
   "metadata": {}
  },
  {
   "cell_type": "markdown",
   "source": [
    "<b>P-value</b>\n",
    "\n",
    "<p>What is this P-value? The P-value is the probability value that the correlation between these two variables is statistically significant. Normally, we choose a significance level of 0.05, which means that we are 95% confident that the correlation between the variables is significant.</p>\n",
    "\n",
    "By convention, when the\n",
    "\n",
    "<ul>\n",
    "    <li>p-value is $<$ 0.001: we say there is strong evidence that the correlation is significant.</li>\n",
    "    <li>the p-value is $<$ 0.05: there is moderate evidence that the correlation is significant.</li>\n",
    "    <li>the p-value is $<$ 0.1: there is weak evidence that the correlation is significant.</li>\n",
    "    <li>the p-value is $>$ 0.1: there is no evidence that the correlation is significant.</li>\n",
    "</ul>\n"
   ],
   "metadata": {}
  },
  {
   "cell_type": "markdown",
   "source": [
    "We can obtain this information using  \"stats\" module in the \"scipy\"  library.\n"
   ],
   "metadata": {}
  },
  {
   "cell_type": "code",
   "source": [
    "from scipy import stats"
   ],
   "metadata": {
    "trusted": true
   },
   "execution_count": 45,
   "outputs": []
  },
  {
   "cell_type": "markdown",
   "source": [
    "<h3>Each column vs. Mortality</h3>"
   ],
   "metadata": {
    "collapsed": false
   }
  },
  {
   "cell_type": "markdown",
   "source": [
    "Let's calculate the  Pearson Correlation Coefficient and P-value of different columns of float and int type and 'Mortality'.\n"
   ],
   "metadata": {}
  },
  {
   "cell_type": "code",
   "execution_count": 46,
   "outputs": [
    {
     "name": "stdout",
     "output_type": "stream",
     "text": [
      "Age :\n",
      "  Pearson Correlation Coefficient is -0.0994898681326397  with a P-value of P = 0.056548198859325785\n",
      "Diabetes :\n",
      "  Pearson Correlation Coefficient is 0.3177216584080506  with a P-value of P = 4.473191261059662e-10\n",
      "BP :\n",
      "  Pearson Correlation Coefficient is -0.04120337192555741  with a P-value of P = 0.43065962839602884\n",
      "Thrombolysis :\n",
      "  Pearson Correlation Coefficient is -0.09676412496452294  with a P-value of P = 0.0636968030738315\n",
      "BGR :\n",
      "  Pearson Correlation Coefficient is -0.11307837392488843  with a P-value of P = 0.030097864922532337\n",
      "CPK :\n",
      "  Pearson Correlation Coefficient is -0.0869963017114716  with a P-value of P = 0.09564145204247276\n",
      "CK-MB :\n",
      "  Pearson Correlation Coefficient is -0.059391503236196054  with a P-value of P = 0.25576663018678697\n",
      "ESR :\n",
      "  Pearson Correlation Coefficient is 0.015142789861759945  with a P-value of P = 0.7721854542747458\n",
      "WBC :\n",
      "  Pearson Correlation Coefficient is -0.14533925550423935  with a P-value of P = 0.005214872580172134\n",
      "RBC :\n",
      "  Pearson Correlation Coefficient is -0.07834290985741567  with a P-value of P = 0.13359599183887205\n",
      "Hemoglobin :\n",
      "  Pearson Correlation Coefficient is 0.006625851853142534  with a P-value of P = 0.8991977558950077\n",
      "PCV :\n",
      "  Pearson Correlation Coefficient is 0.016326712334294752  with a P-value of P = 0.754922024504989\n",
      "MCV :\n",
      "  Pearson Correlation Coefficient is 0.09436430088797096  with a P-value of P = 0.07059106185287639\n",
      "MCH :\n",
      "  Pearson Correlation Coefficient is 0.09505022806632937  with a P-value of P = 0.06856099872860769\n",
      "MCHC :\n",
      "  Pearson Correlation Coefficient is 0.08243537337927619  with a P-value of P = 0.11440656771249441\n",
      "PlateletCount :\n",
      "  Pearson Correlation Coefficient is 0.04052216874621392  with a P-value of P = 0.43832561636100187\n",
      "Neutrophil :\n",
      "  Pearson Correlation Coefficient is -0.09564888172074132  with a P-value of P = 0.0668285159988314\n",
      "Lymphocyte :\n",
      "  Pearson Correlation Coefficient is 0.10618731387741041  with a P-value of P = 0.041764914770078244\n",
      "Monocyte :\n",
      "  Pearson Correlation Coefficient is 0.04616062852819326  with a P-value of P = 0.377251089028367\n",
      "Eosinophil :\n",
      "  Pearson Correlation Coefficient is 0.08704028180009254  with a P-value of P = 0.09547324464305297\n",
      "CP :\n",
      "  Pearson Correlation Coefficient is -0.040081482873063894  with a P-value of P = 0.44332625975802575\n",
      "Trestbps :\n",
      "  Pearson Correlation Coefficient is -0.09875044099250599  with a P-value of P = 0.05841836639181333\n",
      "Chol :\n",
      "  Pearson Correlation Coefficient is 0.1751417899949484  with a P-value of P = 0.0007395233449807385\n",
      "FBS :\n",
      "  Pearson Correlation Coefficient is -0.02466918414831208  with a P-value of P = 0.6371417816687961\n",
      "Restecg :\n",
      "  Pearson Correlation Coefficient is -0.012401054052565965  with a P-value of P = 0.8125844460973195\n",
      "Thalach :\n",
      "  Pearson Correlation Coefficient is -0.039566633388698154  with a P-value of P = 0.4492093772574017\n",
      "Exang :\n",
      "  Pearson Correlation Coefficient is -0.10624254305194614  with a P-value of P = 0.041658066405374033\n",
      "Oldpeak :\n",
      "  Pearson Correlation Coefficient is -0.1102277007467513  with a P-value of P = 0.03453361550158886\n",
      "Slope :\n",
      "  Pearson Correlation Coefficient is 0.030498295574132847  with a P-value of P = 0.5597559602963298\n",
      "CA :\n",
      "  Pearson Correlation Coefficient is -0.16035620717738858  with a P-value of P = 0.0020307907927699827\n",
      "Thal :\n",
      "  Pearson Correlation Coefficient is 0.020061144619971827  with a P-value of P = 0.7012980412182023\n",
      "Num :\n",
      "  Pearson Correlation Coefficient is -0.11400017253983262  with a P-value of P = 0.028772064605675007\n",
      "SK :\n",
      "  Pearson Correlation Coefficient is 0.06785316179351958  with a P-value of P = 0.1940406444551322\n",
      "Reaction :\n",
      "  Pearson Correlation Coefficient is -0.2847440585607197  with a P-value of P = 2.7093149705344556e-08\n",
      "Mortality :\n",
      "  Pearson Correlation Coefficient is 1.0  with a P-value of P = 0.0\n",
      "FollowUp :\n",
      "  Pearson Correlation Coefficient is -0.17947780121522  with a P-value of P = 0.0005413812702963977\n",
      "Gender-female :\n",
      "  Pearson Correlation Coefficient is 0.2515262600580982  with a P-value of P = 1.0212860257419222e-06\n",
      "Gender-male :\n",
      "  Pearson Correlation Coefficient is -0.2515262600580982  with a P-value of P = 1.0212860257419222e-06\n",
      "Locality-rural :\n",
      "  Pearson Correlation Coefficient is 0.12143631633857899  with a P-value of P = 0.019792554312142538\n",
      "Locality-urban :\n",
      "  Pearson Correlation Coefficient is -0.12143631633857903  with a P-value of P = 0.019792554312142538\n"
     ]
    }
   ],
   "source": [
    "columns = df.select_dtypes(include=['int64', 'float'])\n",
    "for c in columns:\n",
    "    pearson_coef, p_value = stats.pearsonr(df[c], df['Mortality'])\n",
    "    print(c, \":\\n  Pearson Correlation Coefficient is\", pearson_coef, \" with a P-value of P =\", p_value)"
   ],
   "metadata": {
    "collapsed": false,
    "pycharm": {
     "name": "#%%\n"
    }
   }
  },
  {
   "cell_type": "markdown",
   "source": [
    "<h4>Conclusion:</h4>\n",
    "<p>Since the p-value is $<$ 0.001, the correlation between different columns and mortality is statistically significant, although the linear relationship isn't extremely strong. These columns are 'Diabetes', 'HTN', 'Chol', 'Reaction', 'FollowUp', 'Gender-male'</p>\n"
   ],
   "metadata": {}
  },
  {
   "cell_type": "markdown",
   "source": [
    "<h2 id=\"anova\">6. ANOVA</h2>\n"
   ],
   "metadata": {}
  },
  {
   "cell_type": "markdown",
   "source": [
    "<h3>ANOVA: Analysis of Variance</h3>\n",
    "<p>The Analysis of Variance  (ANOVA) is a statistical method used to test whether there are significant differences between the means of two or more groups. ANOVA returns two parameters:</p>\n",
    "\n",
    "<p><b>F-test score</b>: ANOVA assumes the means of all groups are the same, calculates how much the actual means deviate from the assumption, and reports it as the F-test score. A larger score means there is a larger difference between the means.</p>\n",
    "\n",
    "<p><b>P-value</b>:  P-value tells how statistically significant our calculated score value is.</p>\n",
    "\n",
    "<p>If our price variable is strongly correlated with the variable we are analyzing, we expect ANOVA to return a sizeable F-test score and a small p-value.</p>\n"
   ],
   "metadata": {}
  },
  {
   "cell_type": "markdown",
   "source": [
    "<h3>Age Group</h3>\n"
   ],
   "metadata": {}
  },
  {
   "cell_type": "markdown",
   "source": [
    "<p>Since ANOVA analyzes the difference between different groups of the same variable, the groupby function will come in handy. Because the ANOVA algorithm averages the data automatically, we do not need to take the average before hand.</p>\n",
    "\n",
    "<p>To see if different types of 'AgeHroup' impact  'Mortality', we group the data.</p>\n"
   ],
   "metadata": {}
  },
  {
   "cell_type": "code",
   "execution_count": 47,
   "outputs": [
    {
     "data": {
      "text/plain": "   AgeGroup  Mortality\n0     41-50          0\n1     51-60          0\n2     51-60          0\n13    61-70          1\n14    61-70          1\n25    21-30          0\n26    21-30          0\n27    31-40          0\n28    31-40          1\n31    41-50          1",
      "text/html": "<div>\n<style scoped>\n    .dataframe tbody tr th:only-of-type {\n        vertical-align: middle;\n    }\n\n    .dataframe tbody tr th {\n        vertical-align: top;\n    }\n\n    .dataframe thead th {\n        text-align: right;\n    }\n</style>\n<table border=\"1\" class=\"dataframe\">\n  <thead>\n    <tr style=\"text-align: right;\">\n      <th></th>\n      <th>AgeGroup</th>\n      <th>Mortality</th>\n    </tr>\n  </thead>\n  <tbody>\n    <tr>\n      <th>0</th>\n      <td>41-50</td>\n      <td>0</td>\n    </tr>\n    <tr>\n      <th>1</th>\n      <td>51-60</td>\n      <td>0</td>\n    </tr>\n    <tr>\n      <th>2</th>\n      <td>51-60</td>\n      <td>0</td>\n    </tr>\n    <tr>\n      <th>13</th>\n      <td>61-70</td>\n      <td>1</td>\n    </tr>\n    <tr>\n      <th>14</th>\n      <td>61-70</td>\n      <td>1</td>\n    </tr>\n    <tr>\n      <th>25</th>\n      <td>21-30</td>\n      <td>0</td>\n    </tr>\n    <tr>\n      <th>26</th>\n      <td>21-30</td>\n      <td>0</td>\n    </tr>\n    <tr>\n      <th>27</th>\n      <td>31-40</td>\n      <td>0</td>\n    </tr>\n    <tr>\n      <th>28</th>\n      <td>31-40</td>\n      <td>1</td>\n    </tr>\n    <tr>\n      <th>31</th>\n      <td>41-50</td>\n      <td>1</td>\n    </tr>\n  </tbody>\n</table>\n</div>"
     },
     "execution_count": 47,
     "metadata": {},
     "output_type": "execute_result"
    }
   ],
   "source": [
    "grouped_test2=df_gptest[['AgeGroup', 'Mortality']].groupby(['AgeGroup'])\n",
    "grouped_test2.head(2)"
   ],
   "metadata": {
    "collapsed": false,
    "pycharm": {
     "name": "#%%\n"
    }
   }
  },
  {
   "cell_type": "code",
   "source": [
    "df_gptest"
   ],
   "metadata": {
    "trusted": true
   },
   "execution_count": 48,
   "outputs": [
    {
     "data": {
      "text/plain": "    AgeGroup           SKReact  Mortality\n0      41-50                NO          0\n1      51-60                NO          0\n2      51-60                NO          0\n3      51-60                NO          0\n4      51-60                NO          0\n..       ...               ...        ...\n363    51-60         BODY.PAIN          0\n364    51-60  STOMACH.BLEEDING          0\n365    51-60    COUGH.BLEEDING          0\n366    51-60    COUGH.BLEEDING          0\n367    41-50         BODY.PAIN          0\n\n[368 rows x 3 columns]",
      "text/html": "<div>\n<style scoped>\n    .dataframe tbody tr th:only-of-type {\n        vertical-align: middle;\n    }\n\n    .dataframe tbody tr th {\n        vertical-align: top;\n    }\n\n    .dataframe thead th {\n        text-align: right;\n    }\n</style>\n<table border=\"1\" class=\"dataframe\">\n  <thead>\n    <tr style=\"text-align: right;\">\n      <th></th>\n      <th>AgeGroup</th>\n      <th>SKReact</th>\n      <th>Mortality</th>\n    </tr>\n  </thead>\n  <tbody>\n    <tr>\n      <th>0</th>\n      <td>41-50</td>\n      <td>NO</td>\n      <td>0</td>\n    </tr>\n    <tr>\n      <th>1</th>\n      <td>51-60</td>\n      <td>NO</td>\n      <td>0</td>\n    </tr>\n    <tr>\n      <th>2</th>\n      <td>51-60</td>\n      <td>NO</td>\n      <td>0</td>\n    </tr>\n    <tr>\n      <th>3</th>\n      <td>51-60</td>\n      <td>NO</td>\n      <td>0</td>\n    </tr>\n    <tr>\n      <th>4</th>\n      <td>51-60</td>\n      <td>NO</td>\n      <td>0</td>\n    </tr>\n    <tr>\n      <th>...</th>\n      <td>...</td>\n      <td>...</td>\n      <td>...</td>\n    </tr>\n    <tr>\n      <th>363</th>\n      <td>51-60</td>\n      <td>BODY.PAIN</td>\n      <td>0</td>\n    </tr>\n    <tr>\n      <th>364</th>\n      <td>51-60</td>\n      <td>STOMACH.BLEEDING</td>\n      <td>0</td>\n    </tr>\n    <tr>\n      <th>365</th>\n      <td>51-60</td>\n      <td>COUGH.BLEEDING</td>\n      <td>0</td>\n    </tr>\n    <tr>\n      <th>366</th>\n      <td>51-60</td>\n      <td>COUGH.BLEEDING</td>\n      <td>0</td>\n    </tr>\n    <tr>\n      <th>367</th>\n      <td>41-50</td>\n      <td>BODY.PAIN</td>\n      <td>0</td>\n    </tr>\n  </tbody>\n</table>\n<p>368 rows × 3 columns</p>\n</div>"
     },
     "execution_count": 48,
     "metadata": {},
     "output_type": "execute_result"
    }
   ]
  },
  {
   "cell_type": "markdown",
   "source": [
    "We can obtain the values of the method group using the method \"get_group\".\n"
   ],
   "metadata": {}
  },
  {
   "cell_type": "code",
   "execution_count": 49,
   "outputs": [
    {
     "data": {
      "text/plain": "25     0\n26     0\n138    0\n139    0\n140    0\n189    0\n190    0\n252    0\n253    0\n304    0\n341    0\n342    0\nName: Mortality, dtype: int64"
     },
     "execution_count": 49,
     "metadata": {},
     "output_type": "execute_result"
    }
   ],
   "source": [
    "grouped_test2.get_group('21-30')['Mortality']"
   ],
   "metadata": {
    "collapsed": false,
    "pycharm": {
     "name": "#%%\n"
    }
   }
  },
  {
   "cell_type": "markdown",
   "source": [
    "We can use the function 'f_oneway' in the module 'stats' to obtain the <b>F-test score</b> and <b>P-value</b>.\n"
   ],
   "metadata": {}
  },
  {
   "cell_type": "code",
   "execution_count": 50,
   "outputs": [
    {
     "name": "stdout",
     "output_type": "stream",
     "text": [
      "ANOVA results: F= 34.21034808415785 , P = 3.0897282069785437e-24\n"
     ]
    }
   ],
   "source": [
    "f_val, p_val = stats.f_oneway(grouped_test2.get_group('21-30')['Mortality'], grouped_test2.get_group('31-40')['Mortality'], grouped_test2.get_group('41-50')['Mortality'], grouped_test2.get_group('51-60')['Mortality'], grouped_test2.get_group('61-70')['Mortality'])\n",
    "\n",
    "print( \"ANOVA results: F=\", f_val, \", P =\", p_val)"
   ],
   "metadata": {
    "collapsed": false,
    "pycharm": {
     "name": "#%%\n"
    }
   }
  },
  {
   "cell_type": "markdown",
   "source": [
    "This is a great result with a large F-test score showing a strong correlation and a P-value of almost 0 implying almost certain statistical significance. But does this mean all five tested groups are all this highly correlated?\n",
    "\n",
    "Let's examine them separately.\n"
   ],
   "metadata": {}
  },
  {
   "cell_type": "markdown",
   "source": [
    "To compare pairs of groups we can use <code>itertools</code>"
   ],
   "metadata": {
    "collapsed": false
   }
  },
  {
   "cell_type": "code",
   "execution_count": 51,
   "outputs": [
    {
     "name": "stdout",
     "output_type": "stream",
     "text": [
      "21-30 and 31-40 ANOVA results: F= 7.5 , P = 0.0102798205292003\n",
      "21-30 and 41-50 ANOVA results: F= 16.80657534246576 , P = 0.00010863135579495785\n",
      "21-30 and 51-60 ANOVA results: F= 0.4003668883283647 , P = 0.5276449406200386\n",
      "21-30 and 61-70 ANOVA results: F= 5.787044405538755 , P = 0.017963899839037213\n",
      "31-40 and 41-50 ANOVA results: F= 2.2004951519818485 , P = 0.141945158683711\n",
      "31-40 and 51-60 ANOVA results: F= 46.381287734445976 , P = 1.0908628171244861e-10\n",
      "31-40 and 61-70 ANOVA results: F= 0.3548789657842067 , P = 0.552599132370185\n",
      "41-50 and 51-60 ANOVA results: F= 168.33458838213124 , P = 1.338505800641356e-29\n",
      "41-50 and 61-70 ANOVA results: F= 10.661933278398289 , P = 0.0013550567900535743\n",
      "51-60 and 61-70 ANOVA results: F= 56.603574515586466 , P = 7.745141921318115e-13\n"
     ]
    }
   ],
   "source": [
    "import itertools\n",
    "values = ['21-30', '31-40', '41-50', '51-60', '61-70']\n",
    "for a, b in itertools.combinations(values, 2):\n",
    "    f_val, p_val = stats.f_oneway(grouped_test2.get_group(a)['Mortality'], grouped_test2.get_group(b)['Mortality'])\n",
    "    print(a, \"and\", b, \"ANOVA results: F=\", f_val, \", P =\", p_val)"
   ],
   "metadata": {
    "collapsed": false,
    "pycharm": {
     "name": "#%%\n"
    }
   }
  },
  {
   "cell_type": "markdown",
   "source": [
    "Results represent that some of separately compared pairs of groups have different F and P value from other pairs. So only some of them are highly correlated."
   ],
   "metadata": {
    "collapsed": false
   }
  },
  {
   "cell_type": "markdown",
   "source": [
    "<h3>Conclusion: Important Variables</h3>\n"
   ],
   "metadata": {}
  },
  {
   "cell_type": "markdown",
   "source": [
    "<p>We now have a better idea of what our data looks like and which variables are important to take into account when predicting mortality from the heart failure. We have narrowed it down to the following variables:</p>\n",
    "\n",
    "Continuous numerical variables:\n",
    "\n",
    "<ul>\n",
    "    <li>Diabetes</li>\n",
    "    <li>HTN</li>\n",
    "    <li>Chol</li>\n",
    "    <li>Reaction</li>\n",
    "    <li>FollowUp</li>\n",
    "    <li>Gender-male</li>\n",
    "</ul>\n",
    "\n",
    "Categorical variables:\n",
    "\n",
    "<ul>\n",
    "    <li>AgeGroup</li>\n",
    "    <li>SKReact</li>\n",
    "    <li>Diagnosis</li>\n",
    "    <li>CO</li>\n",
    "    <li>Others</li>\n",
    "</ul>\n",
    "\n",
    "<p>As we now move into building machine learning models to automate our analysis, feeding the model with variables that meaningfully affect our target variable will improve our model's prediction performance.</p>\n"
   ],
   "metadata": {}
  },
  {
   "cell_type": "markdown",
   "source": [
    "### Thank you for completing this lab!\n",
    "\n",
    "## Author\n",
    "\n",
    "<a href=\"https://www.linkedin.com/in/joseph-s-50398b136/?utm_medium=Exinfluencer&utm_source=Exinfluencer&utm_content=000026UJ&utm_term=10006555&utm_id=NA-SkillsNetwork-Channel-SkillsNetworkCoursesIBMDeveloperSkillsNetworkDA0101ENSkillsNetwork20235326-2021-01-01\" target=\"_blank\">Joseph Santarcangelo</a>\n",
    "\n",
    "### Other Contributors\n",
    "\n",
    "<a href=\"https://www.linkedin.com/in/mahdi-noorian-58219234/?utm_medium=Exinfluencer&utm_source=Exinfluencer&utm_content=000026UJ&utm_term=10006555&utm_id=NA-SkillsNetwork-Channel-SkillsNetworkCoursesIBMDeveloperSkillsNetworkDA0101ENSkillsNetwork20235326-2021-01-01\" target=\"_blank\">Mahdi Noorian PhD</a>\n",
    "\n",
    "Bahare Talayian\n",
    "\n",
    "Eric Xiao\n",
    "\n",
    "Steven Dong\n",
    "\n",
    "Parizad\n",
    "\n",
    "Hima Vasudevan\n",
    "\n",
    "<a href=\"https://www.linkedin.com/in/fiorellawever/?utm_medium=Exinfluencer&utm_source=Exinfluencer&utm_content=000026UJ&utm_term=10006555&utm_id=NA-SkillsNetwork-Channel-SkillsNetworkCoursesIBMDeveloperSkillsNetworkDA0101ENSkillsNetwork20235326-2021-01-01\" target=\"_blank\">Fiorella Wenver</a>\n",
    "\n",
    "<a href=\"https:// https://www.linkedin.com/in/yi-leng-yao-84451275/ \" target=\"_blank\" >Yi Yao</a>.\n",
    "\n",
    "## Change Log\n",
    "\n",
    "| Date (YYYY-MM-DD) | Version | Changed By | Change Description                 |\n",
    "| ----------------- | ------- | ---------- | ---------------------------------- |\n",
    "| 2020-10-30        | 2.1     | Lakshmi    | changed URL of csv                 |\n",
    "| 2020-08-27        | 2.0     | Lavanya    | Moved lab to course repo in GitLab |\n",
    "\n",
    "<hr>\n",
    "\n",
    "## <h3 align=\"center\"> © IBM Corporation 2020. All rights reserved. <h3/>\n"
   ],
   "metadata": {
    "pycharm": {
     "name": "#%% md\n"
    }
   }
  }
 ]
}