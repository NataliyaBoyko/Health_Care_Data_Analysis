{
 "cells": [
  {
   "cell_type": "markdown",
   "metadata": {},
   "source": [
    "<center>\n",
    "    <img src=\"https://cf-courses-data.s3.us.cloud-object-storage.appdomain.cloud/assets/logos/SN_web_lightmode.png\" width=\"300\" alt=\"cognitiveclass.ai logo\">\n",
    "</center>\n",
    "\n",
    "# Forecasting of deaths from Heart Failure on medical measurement\n",
    "\n",
    "# Lab 5. Model Evaluation and Refinement\n"
   ]
  },
  {
   "cell_type": "markdown",
   "metadata": {},
   "source": [
    "Estimated time needed: **30** minutes\n"
   ]
  },
  {
   "cell_type": "markdown",
   "metadata": {},
   "source": [
    "## Abstract\n"
   ]
  },
  {
   "cell_type": "markdown",
   "metadata": {},
   "source": [
    "This lab is dedicated to the study of machine learning classification methods. The goal is to determine the impact of different measurements on mortality rate of patients with heart failure.\n"
   ]
  },
  {
   "cell_type": "markdown",
   "metadata": {},
   "source": [
    "## Introduction\n"
   ]
  },
  {
   "cell_type": "markdown",
   "metadata": {},
   "source": [
    "The main problem to be solved in this lab is the classification of customers and analysis of the impact of various marketing campaigns on them.\n",
    "\n",
    "The peculiarities of classification analysis are that you must first correctly prepare a data set. In addition, today there are many different methods of classification. Each of them has its own characteristics and opportunities for analysis. An various classifiers are demonstrated in this lab, as well as join them with into ensemble. It is also demonstrated how all stages of training preparation and analysis can be combined with Pipeline.\n"
   ]
  },
  {
   "cell_type": "markdown",
   "metadata": {},
   "source": [
    "## Materials and methods\n"
   ]
  },
  {
   "cell_type": "markdown",
   "metadata": {},
   "source": [
    "In this lab, we will learn how to download and pre-prepare data, classify and combine classifiers into an ensemble.\n",
    "This lab consists of the following steps:\n",
    "* Download data - download and display data from a file\n",
    "* Preliminary data preparation - preliminary analysis of data structure, change of data structure and tables\n",
    "* Pipeline classification - classification and analysis by grouping stages\n",
    "    * Logistic regression - classification and analysis of accuracy and errors using logistic regression\n",
    "    * Over-sampling problem - solve the problem of uneven distribution of data\n",
    "    * Ensemble of classifiers - study various classifiers and methods of combining them into an ensemble\n",
    "    * Decision tree - shows how to visualize the decision tree and determine the importance of factors\n"
   ]
  },
  {
   "cell_type": "markdown",
   "metadata": {},
   "source": [
    "The statistical data was obtained from the https://www.kaggle.com/datasets/jackdaoud/marketing-data. This DataSet released under CC0: Public Domain license that allow of copy, modify, distribute and perform the work, even for commercial purposes, all without asking permission. \n"
   ]
  },
  {
   "cell_type": "markdown",
   "metadata": {},
   "source": [
    "## Prerequisites\n",
    "* [Python](https://www.python.org/?utm_medium=Exinfluencer&utm_source=Exinfluencer&utm_content=000026UJ&utm_term=10006555&utm_id=NA-SkillsNetwork-Channel-SkillsNetworkGuidedProjectsIBMSkillsNetworkGPXX05QLEN2531-2023-01-01) - middle level\n",
    "* [Pandas](https://pandas.pydata.org/?utm_medium=Exinfluencer&utm_source=Exinfluencer&utm_content=000026UJ&utm_term=10006555&utm_id=NA-SkillsNetwork-Channel-SkillsNetworkGuidedProjectsIBMSkillsNetworkGPXX05QLEN2531-2023-01-01) - middle level \n",
    "* [Matplotlib](https://matplotlib.org/?utm_medium=Exinfluencer&utm_source=Exinfluencer&utm_content=000026UJ&utm_term=10006555&utm_id=NA-SkillsNetwork-Channel-SkillsNetworkGuidedProjectsIBMSkillsNetworkGPXX05QLEN2531-2023-01-01) - basic level\n",
    "* [SeaBorn](https://seaborn.pydata.org/?utm_medium=Exinfluencer&utm_source=Exinfluencer&utm_content=000026UJ&utm_term=10006555&utm_id=NA-SkillsNetwork-Channel-SkillsNetworkGuidedProjectsIBMSkillsNetworkGPXX05QLEN2531-2023-01-01) - basic level\n",
    "* [Scikit-Learn](https://scikit-learn.org/stable/?utm_medium=Exinfluencer&utm_source=Exinfluencer&utm_content=000026UJ&utm_term=10006555&utm_id=NA-SkillsNetwork-Channel-SkillsNetworkGuidedProjectsIBMSkillsNetworkGPXX05QLEN2531-2023-01-01) - middle level \n"
   ]
  },
  {
   "cell_type": "markdown",
   "metadata": {},
   "source": [
    "## Objectives\n"
   ]
  },
  {
   "cell_type": "markdown",
   "metadata": {},
   "source": [
    "After completing this lab, you will be able to:\n"
   ]
  },
  {
   "cell_type": "markdown",
   "metadata": {},
   "source": [
    "* Download DataSet from * .csv files\n",
    "* Conduct basic data analysis\n",
    "* Calculate new and change column types\n",
    "* Divide the DataSet into training and test\n",
    "* Use different machine learning classification methods\n",
    "* Combine classifiers into ensemble\n",
    "* Calculate accuracy and analyze errors\n",
    "* Visualize the decision tree\n",
    "* Combine all stages of data analysis with Pipeline\n"
   ]
  },
  {
   "cell_type": "markdown",
   "metadata": {},
   "source": [
    "## Import Libraries/Define Auxiliary Functions\n"
   ]
  },
  {
   "cell_type": "markdown",
   "metadata": {},
   "source": [
    "**Running outside Skills Network Labs.** This notebook was tested within Skills Network Labs. Running in another environment should work as well, but is not guaranteed and may require different setup routine.\n"
   ]
  },
  {
   "cell_type": "markdown",
   "metadata": {},
   "source": [
    "Libraries such as Pandas, MatplotLib, SeaBorn, Scikit-Learn, imbalanced-learn, python-graphviz should be installed.\n"
   ]
  },
  {
   "cell_type": "code",
   "execution_count": 75,
   "metadata": {},
   "outputs": [],
   "source": [
    "# conda install -c conda-forge pandas"
   ]
  },
  {
   "cell_type": "code",
   "execution_count": 76,
   "metadata": {},
   "outputs": [],
   "source": [
    "# conda install -c conda-forge matplotlib"
   ]
  },
  {
   "cell_type": "code",
   "execution_count": 77,
   "metadata": {},
   "outputs": [],
   "source": [
    "# conda install -c conda-forge seaborn "
   ]
  },
  {
   "cell_type": "code",
   "execution_count": 78,
   "metadata": {},
   "outputs": [],
   "source": [
    "# conda install -c intel scikit-learn"
   ]
  },
  {
   "cell_type": "code",
   "execution_count": 79,
   "metadata": {},
   "outputs": [],
   "source": [
    "#conda install -c conda-forge imbalanced-learn"
   ]
  },
  {
   "cell_type": "code",
   "execution_count": 80,
   "metadata": {},
   "outputs": [],
   "source": [
    "# conda install python-graphviz"
   ]
  },
  {
   "cell_type": "markdown",
   "metadata": {},
   "source": [
    "## Download data from a .csv file\n"
   ]
  },
  {
   "cell_type": "markdown",
   "metadata": {},
   "source": [
    "Some libraries should be imported before you can begin.\n"
   ]
  },
  {
   "cell_type": "code",
   "execution_count": 81,
   "metadata": {},
   "outputs": [],
   "source": [
    "import pandas as pd\n",
    "import matplotlib.pyplot as plt\n",
    "import numpy as np\n",
    "import seaborn as sns\n",
    "from sklearn.preprocessing import OrdinalEncoder\n",
    "from sklearn.preprocessing import StandardScaler                         \n",
    "from sklearn.compose import make_column_transformer\n",
    "from sklearn import set_config\n",
    "from sklearn.model_selection import train_test_split\n",
    "from imblearn.pipeline import make_pipeline\n",
    "from sklearn.metrics import plot_confusion_matrix\n",
    "from imblearn.over_sampling import RandomOverSampler\n",
    "from sklearn.linear_model import LogisticRegression\n",
    "from sklearn.svm import SVC\n",
    "from sklearn.tree import DecisionTreeClassifier, ExtraTreeClassifier\n",
    "from sklearn.ensemble import RandomForestClassifier, AdaBoostClassifier\n",
    "from sklearn.neural_network import MLPClassifier\n",
    "from sklearn.ensemble import GradientBoostingClassifier\n",
    "from sklearn.ensemble import BaggingClassifier\n",
    "from sklearn.ensemble import VotingClassifier\n",
    "from sklearn.metrics import recall_score\n",
    "from sklearn.model_selection import cross_val_score\n",
    "from sklearn.model_selection import cross_val_predict"
   ]
  },
  {
   "cell_type": "markdown",
   "metadata": {},
   "source": [
    "Let's disable warnings by **[warnings.filterwarnings()](https://docs.python.org/3/library/warnings.html?utm_medium=Exinfluencer&utm_source=Exinfluencer&utm_content=000026UJ&utm_term=10006555&utm_id=NA-SkillsNetwork-Channel-SkillsNetworkGuidedProjectsIBMSkillsNetworkGPXX05QLEN2531-2023-01-01)**\n"
   ]
  },
  {
   "cell_type": "code",
   "execution_count": 82,
   "metadata": {},
   "outputs": [],
   "source": [
    "import warnings\n",
    "warnings.filterwarnings('ignore')"
   ]
  },
  {
   "cell_type": "markdown",
   "metadata": {},
   "source": [
    "Further specify the value of the precision parameter equal to 2 to display two decimal signs (instead of 6 as default) by and  **[pd.options.display](https://pandas.pydata.org/pandas-docs/stable/user_guide/options.html?utm_medium=Exinfluencer&utm_source=Exinfluencer&utm_content=000026UJ&utm_term=10006555&utm_id=NA-SkillsNetwork-Channel-SkillsNetworkGuidedProjectsIBMSkillsNetworkGPXX05QLEN2531-2023-01-01)**.\n"
   ]
  },
  {
   "cell_type": "code",
   "execution_count": 83,
   "metadata": {},
   "outputs": [],
   "source": [
    "pd.options.display.float_format = '{:.2f}'.format"
   ]
  },
  {
   "cell_type": "markdown",
   "metadata": {},
   "source": [
    "The next step is to download the data file from the repository by **[read_csv()](https://pandas.pydata.org/docs/reference/api/pandas.read_csv.html?utm_medium=Exinfluencer&utm_source=Exinfluencer&utm_content=000026UJ&utm_term=10006555&utm_id=NA-SkillsNetwork-Channel-SkillsNetworkGuidedProjectsIBMSkillsNetworkGPXX05QLEN2531-2023-01-01)**.\n",
    "\n",
    "We will use the same DataSet like in previous lab. Therefore next some steps will be the same.\n"
   ]
  },
  {
   "cell_type": "code",
   "execution_count": 84,
   "metadata": {},
   "outputs": [],
   "source": [
    "df = pd.read_csv('https://cf-courses-data.s3.us.cloud-object-storage.appdomain.cloud/IBMSkillsNetwork-GPXX05QLEN/clean_df_new.csv')"
   ]
  },
  {
   "cell_type": "markdown",
   "metadata": {},
   "source": [
    "Now let's look at our DataSet.\n"
   ]
  },
  {
   "cell_type": "code",
   "execution_count": 85,
   "metadata": {},
   "outputs": [
    {
     "data": {
      "text/plain": "    Age Group Marital Status  Lifestyle  Sleep Category  Depression  \\\n0       41-50        MARRIED      False  False     FREE        True   \n1       51-60        MARRIED      False  False     FREE        True   \n2       51-60        MARRIED       True   True     FREE        True   \n3       51-60        MARRIED       True   True     FREE        True   \n4       51-60        MARRIED       True  False     FREE        True   \n..        ...            ...        ...    ...      ...         ...   \n363     51-60        MARRIED      False  False     FREE        True   \n364     51-60        MARRIED       True  False     FREE        True   \n365     51-60        MARRIED      False  False     FREE        True   \n366     51-60        MARRIED      False  False     FREE        True   \n367     41-50        MARRIED       True  False     FREE        True   \n\n     Hyperlipidemia  Smoking  Diabetes    HTN  ...  Vessels num  Thal  Num  \\\n0              True    False         1  False  ...            0     7    2   \n1              True    False         0  False  ...            0     7    2   \n2              True    False         1   True  ...            0     3    2   \n3              True    False         1   True  ...            1     7    3   \n4              True    False         1   True  ...            2     7    3   \n..              ...      ...       ...    ...  ...          ...   ...  ...   \n363           False    False         0   True  ...            0     7    3   \n364            True     True         0  False  ...            3     7    3   \n365            True    False         1   True  ...            3     3    1   \n366            True     True         0   True  ...            0     7    4   \n367            True     True         0   True  ...            1     7    1   \n\n     Streptokinase          SK React  Mortality  Follow up  \\\n0                1                NO          0         60   \n1                1                NO          0         15   \n2                1                NO          0          6   \n3                1                NO          0         52   \n4                1                NO          0         34   \n..             ...               ...        ...        ...   \n363              0         BODY.PAIN          0         60   \n364              1  STOMACH.BLEEDING          0         36   \n365              1    COUGH.BLEEDING          0         32   \n366              1    COUGH.BLEEDING          0         32   \n367              1         BODY.PAIN          0         15   \n\n     Max heart rate-binned  Gender-male  Locality-urban  \n0                   Medium            0               0  \n1                   Medium            0               1  \n2                   Medium            0               0  \n3                   Medium            0               0  \n4                   Medium            0               0  \n..                     ...          ...             ...  \n363                   High            1               1  \n364                 Medium            1               0  \n365                 Medium            1               1  \n366                 Medium            1               1  \n367                   High            1               0  \n\n[368 rows x 47 columns]",
      "text/html": "<div>\n<style scoped>\n    .dataframe tbody tr th:only-of-type {\n        vertical-align: middle;\n    }\n\n    .dataframe tbody tr th {\n        vertical-align: top;\n    }\n\n    .dataframe thead th {\n        text-align: right;\n    }\n</style>\n<table border=\"1\" class=\"dataframe\">\n  <thead>\n    <tr style=\"text-align: right;\">\n      <th></th>\n      <th>Age Group</th>\n      <th>Marital Status</th>\n      <th>Lifestyle</th>\n      <th>Sleep</th>\n      <th>Category</th>\n      <th>Depression</th>\n      <th>Hyperlipidemia</th>\n      <th>Smoking</th>\n      <th>Diabetes</th>\n      <th>HTN</th>\n      <th>...</th>\n      <th>Vessels num</th>\n      <th>Thal</th>\n      <th>Num</th>\n      <th>Streptokinase</th>\n      <th>SK React</th>\n      <th>Mortality</th>\n      <th>Follow up</th>\n      <th>Max heart rate-binned</th>\n      <th>Gender-male</th>\n      <th>Locality-urban</th>\n    </tr>\n  </thead>\n  <tbody>\n    <tr>\n      <th>0</th>\n      <td>41-50</td>\n      <td>MARRIED</td>\n      <td>False</td>\n      <td>False</td>\n      <td>FREE</td>\n      <td>True</td>\n      <td>True</td>\n      <td>False</td>\n      <td>1</td>\n      <td>False</td>\n      <td>...</td>\n      <td>0</td>\n      <td>7</td>\n      <td>2</td>\n      <td>1</td>\n      <td>NO</td>\n      <td>0</td>\n      <td>60</td>\n      <td>Medium</td>\n      <td>0</td>\n      <td>0</td>\n    </tr>\n    <tr>\n      <th>1</th>\n      <td>51-60</td>\n      <td>MARRIED</td>\n      <td>False</td>\n      <td>False</td>\n      <td>FREE</td>\n      <td>True</td>\n      <td>True</td>\n      <td>False</td>\n      <td>0</td>\n      <td>False</td>\n      <td>...</td>\n      <td>0</td>\n      <td>7</td>\n      <td>2</td>\n      <td>1</td>\n      <td>NO</td>\n      <td>0</td>\n      <td>15</td>\n      <td>Medium</td>\n      <td>0</td>\n      <td>1</td>\n    </tr>\n    <tr>\n      <th>2</th>\n      <td>51-60</td>\n      <td>MARRIED</td>\n      <td>True</td>\n      <td>True</td>\n      <td>FREE</td>\n      <td>True</td>\n      <td>True</td>\n      <td>False</td>\n      <td>1</td>\n      <td>True</td>\n      <td>...</td>\n      <td>0</td>\n      <td>3</td>\n      <td>2</td>\n      <td>1</td>\n      <td>NO</td>\n      <td>0</td>\n      <td>6</td>\n      <td>Medium</td>\n      <td>0</td>\n      <td>0</td>\n    </tr>\n    <tr>\n      <th>3</th>\n      <td>51-60</td>\n      <td>MARRIED</td>\n      <td>True</td>\n      <td>True</td>\n      <td>FREE</td>\n      <td>True</td>\n      <td>True</td>\n      <td>False</td>\n      <td>1</td>\n      <td>True</td>\n      <td>...</td>\n      <td>1</td>\n      <td>7</td>\n      <td>3</td>\n      <td>1</td>\n      <td>NO</td>\n      <td>0</td>\n      <td>52</td>\n      <td>Medium</td>\n      <td>0</td>\n      <td>0</td>\n    </tr>\n    <tr>\n      <th>4</th>\n      <td>51-60</td>\n      <td>MARRIED</td>\n      <td>True</td>\n      <td>False</td>\n      <td>FREE</td>\n      <td>True</td>\n      <td>True</td>\n      <td>False</td>\n      <td>1</td>\n      <td>True</td>\n      <td>...</td>\n      <td>2</td>\n      <td>7</td>\n      <td>3</td>\n      <td>1</td>\n      <td>NO</td>\n      <td>0</td>\n      <td>34</td>\n      <td>Medium</td>\n      <td>0</td>\n      <td>0</td>\n    </tr>\n    <tr>\n      <th>...</th>\n      <td>...</td>\n      <td>...</td>\n      <td>...</td>\n      <td>...</td>\n      <td>...</td>\n      <td>...</td>\n      <td>...</td>\n      <td>...</td>\n      <td>...</td>\n      <td>...</td>\n      <td>...</td>\n      <td>...</td>\n      <td>...</td>\n      <td>...</td>\n      <td>...</td>\n      <td>...</td>\n      <td>...</td>\n      <td>...</td>\n      <td>...</td>\n      <td>...</td>\n      <td>...</td>\n    </tr>\n    <tr>\n      <th>363</th>\n      <td>51-60</td>\n      <td>MARRIED</td>\n      <td>False</td>\n      <td>False</td>\n      <td>FREE</td>\n      <td>True</td>\n      <td>False</td>\n      <td>False</td>\n      <td>0</td>\n      <td>True</td>\n      <td>...</td>\n      <td>0</td>\n      <td>7</td>\n      <td>3</td>\n      <td>0</td>\n      <td>BODY.PAIN</td>\n      <td>0</td>\n      <td>60</td>\n      <td>High</td>\n      <td>1</td>\n      <td>1</td>\n    </tr>\n    <tr>\n      <th>364</th>\n      <td>51-60</td>\n      <td>MARRIED</td>\n      <td>True</td>\n      <td>False</td>\n      <td>FREE</td>\n      <td>True</td>\n      <td>True</td>\n      <td>True</td>\n      <td>0</td>\n      <td>False</td>\n      <td>...</td>\n      <td>3</td>\n      <td>7</td>\n      <td>3</td>\n      <td>1</td>\n      <td>STOMACH.BLEEDING</td>\n      <td>0</td>\n      <td>36</td>\n      <td>Medium</td>\n      <td>1</td>\n      <td>0</td>\n    </tr>\n    <tr>\n      <th>365</th>\n      <td>51-60</td>\n      <td>MARRIED</td>\n      <td>False</td>\n      <td>False</td>\n      <td>FREE</td>\n      <td>True</td>\n      <td>True</td>\n      <td>False</td>\n      <td>1</td>\n      <td>True</td>\n      <td>...</td>\n      <td>3</td>\n      <td>3</td>\n      <td>1</td>\n      <td>1</td>\n      <td>COUGH.BLEEDING</td>\n      <td>0</td>\n      <td>32</td>\n      <td>Medium</td>\n      <td>1</td>\n      <td>1</td>\n    </tr>\n    <tr>\n      <th>366</th>\n      <td>51-60</td>\n      <td>MARRIED</td>\n      <td>False</td>\n      <td>False</td>\n      <td>FREE</td>\n      <td>True</td>\n      <td>True</td>\n      <td>True</td>\n      <td>0</td>\n      <td>True</td>\n      <td>...</td>\n      <td>0</td>\n      <td>7</td>\n      <td>4</td>\n      <td>1</td>\n      <td>COUGH.BLEEDING</td>\n      <td>0</td>\n      <td>32</td>\n      <td>Medium</td>\n      <td>1</td>\n      <td>1</td>\n    </tr>\n    <tr>\n      <th>367</th>\n      <td>41-50</td>\n      <td>MARRIED</td>\n      <td>True</td>\n      <td>False</td>\n      <td>FREE</td>\n      <td>True</td>\n      <td>True</td>\n      <td>True</td>\n      <td>0</td>\n      <td>True</td>\n      <td>...</td>\n      <td>1</td>\n      <td>7</td>\n      <td>1</td>\n      <td>1</td>\n      <td>BODY.PAIN</td>\n      <td>0</td>\n      <td>15</td>\n      <td>High</td>\n      <td>1</td>\n      <td>0</td>\n    </tr>\n  </tbody>\n</table>\n<p>368 rows × 47 columns</p>\n</div>"
     },
     "execution_count": 85,
     "metadata": {},
     "output_type": "execute_result"
    }
   ],
   "source": [
    "df"
   ]
  },
  {
   "cell_type": "markdown",
   "metadata": {},
   "source": [
    "## Data investigation\n"
   ]
  },
  {
   "cell_type": "markdown",
   "metadata": {},
   "source": [
    "Let's study DataSet. As you can see DataSet consist 368 rows × 47 columns. As you can see DataSet consist information of different types. We should be sure that python recognized data types in right way. To do this we shoul use **[pandas.info()](https://pandas.pydata.org/docs/reference/api/pandas.DataFrame.info.html?utm_medium=Exinfluencer&utm_source=Exinfluencer&utm_content=000026UJ&utm_term=10006555&utm_id=NA-SkillsNetwork-Channel-SkillsNetworkGuidedProjectsIBMSkillsNetworkGPXX05QLEN2531-2023-01-01&highlight=info#pandas.DataFrame.info)**.\n"
   ]
  },
  {
   "cell_type": "code",
   "execution_count": 86,
   "metadata": {},
   "outputs": [
    {
     "name": "stdout",
     "output_type": "stream",
     "text": [
      "<class 'pandas.core.frame.DataFrame'>\n",
      "RangeIndex: 368 entries, 0 to 367\n",
      "Data columns (total 47 columns):\n",
      " #   Column                        Non-Null Count  Dtype  \n",
      "---  ------                        --------------  -----  \n",
      " 0   Age Group                     368 non-null    object \n",
      " 1   Marital Status                368 non-null    object \n",
      " 2   Lifestyle                     368 non-null    bool   \n",
      " 3   Sleep                         368 non-null    bool   \n",
      " 4   Category                      368 non-null    object \n",
      " 5   Depression                    368 non-null    bool   \n",
      " 6   Hyperlipidemia                368 non-null    bool   \n",
      " 7   Smoking                       368 non-null    bool   \n",
      " 8   Diabetes                      368 non-null    int64  \n",
      " 9   HTN                           368 non-null    bool   \n",
      " 10  Allergies                     368 non-null    bool   \n",
      " 11  BP                            368 non-null    float64\n",
      " 12  Thrombolysis                  368 non-null    int64  \n",
      " 13  BGR                           368 non-null    int64  \n",
      " 14  CPK                           368 non-null    int64  \n",
      " 15  ESR                           368 non-null    int64  \n",
      " 16  WBC                           368 non-null    int64  \n",
      " 17  RBC                           368 non-null    float64\n",
      " 18  Hemoglobin                    368 non-null    float64\n",
      " 19  MCH                           368 non-null    float64\n",
      " 20  MCHC                          368 non-null    float64\n",
      " 21  PlateletCount                 368 non-null    int64  \n",
      " 22  Lymphocyte                    368 non-null    float64\n",
      " 23  Monocyte                      368 non-null    float64\n",
      " 24  Eosinophil                    368 non-null    int64  \n",
      " 25  Others                        368 non-null    object \n",
      " 26  Diagnosis                     368 non-null    object \n",
      " 27  Hypersensitivity              368 non-null    bool   \n",
      " 28  Chest pain type               368 non-null    int64  \n",
      " 29  Resting BP                    368 non-null    float64\n",
      " 30  Serum cholesterol             368 non-null    float64\n",
      " 31  FBS                           368 non-null    int64  \n",
      " 32  Resting electrocardiographic  368 non-null    int64  \n",
      " 33  Max heart rate                368 non-null    int64  \n",
      " 34  Angina                        368 non-null    int64  \n",
      " 35  ST depression                 368 non-null    float64\n",
      " 36  Slope                         368 non-null    int64  \n",
      " 37  Vessels num                   368 non-null    int64  \n",
      " 38  Thal                          368 non-null    int64  \n",
      " 39  Num                           368 non-null    int64  \n",
      " 40  Streptokinase                 368 non-null    int64  \n",
      " 41  SK React                      368 non-null    object \n",
      " 42  Mortality                     368 non-null    int64  \n",
      " 43  Follow up                     368 non-null    int64  \n",
      " 44  Max heart rate-binned         368 non-null    object \n",
      " 45  Gender-male                   368 non-null    int64  \n",
      " 46  Locality-urban                368 non-null    int64  \n",
      "dtypes: bool(8), float64(10), int64(22), object(7)\n",
      "memory usage: 115.1+ KB\n"
     ]
    }
   ],
   "source": [
    "df.info()"
   ]
  },
  {
   "cell_type": "markdown",
   "metadata": {},
   "source": [
    "<details>\n",
    "<summary><b>Click to see attribute information</b></summary>\n",
    "    \n",
    "Input features (column names):\n",
    "\n",
    "1. `Age Group` - patient age divided by groups (categorical)\n",
    "2. `Marital Status` - married or single (categorical)\n",
    "3. `Lifestyle` - does the patient have healthy lifestyle (boolean)\n",
    "4. `Sleep` - does the patient sleep enough?(boolean)\n",
    "5. `Category` paid or free treatment (categorical)\n",
    "6. `Depression` - does patient feel depressed? (boolean)\n",
    "7. `Hyperlipidemia` - an excess of lipids or fats in your blood (boolean)\n",
    "8. `Smoking` - does the patient smoke? (boolean)\n",
    "9. `Diabetes` - does the patient have diabetes? (binary)\n",
    "10. `HTN` - hypertension, also known as high blood pressure (boolean)\n",
    "11. `Allergies` - does the patient have allergies? (boolean)\n",
    "12. `BP` - blood pressure (float, normalized)\n",
    "13. `Thrombolysis` - uses medications or a minimally invasive procedure to break up blood clots and prevent new clots from forming (binary)\n",
    "14. `BGR` - blood glucose level (int)\n",
    "15. `CPK` - creatine phosphokinase level (int)\n",
    "16. `ESR` - erythrocyte sedimentation rate (int)\n",
    "17. `WBC` - white blood cells, also known as leukocytes (int)\n",
    "18. `RBC` - red blood cells, also known as erythrocytes (float)\n",
    "19. `Hemoglobin` - hemoglobin level (float)\n",
    "20. `MCH` - mean corpuscular hemoglobin or the average amount in each of red blood cells of a hemoglobin (float)\n",
    "21. `MCHC` - mean corpuscular hemoglobin concentration (float)\n",
    "22. `PlateletCount` - count of platelets or thrombocytes (int)\n",
    "23. `Lymphocyte` - share of lymphocytes in blood (float)\n",
    "24. `Monocyte` -  share of monocytes in blood (float)\n",
    "25. `Eosinophil` - count of eosinophils (int)\n",
    "26. `Others` - other diseases, that weren't mentioned (categorical)\n",
    "27. `Diagnosis` - what is the patient's diagnosis? (float)\n",
    "28. `Hypersensitivity` - does the patient have hypersensitivity? (boolean)\n",
    "29. `Chest pain type` - patient's chest pain stage (int)\n",
    "30. `Resting BP` - resting blood pressure (float)\n",
    "31. `Serum cholesterol` - amount of total cholesterol in their blood (float)\n",
    "32. `FBS` - fasting blood sugar > 120 mg/dl (binary)\n",
    "33. `Resting electrocardiographic` - resting electrocardiographic results (0 = normal; 1 = having ST-T; 2 = hypertrophy) (int)\n",
    "34. `Max heart rate` - patient's maximum heart rate achieved (int)\n",
    "35. `Angina` - does the patient have exercise induced angina (binary)\n",
    "36. `ST depression` - ST depression induced by exercise relative to rest (float)\n",
    "37. `Slope` - the slope of the peak exercise ST segment (1 = upsloping; 2 = flat; 3 = downsloping) (int)\n",
    "38. `Vessels num` - number of major vessels (0-3) colored by flourosopy (int)\n",
    "39. `Thal` - 3 = normal; 6 = fixed defect; 7 = reversable defect (int)\n",
    "40. `Num` -  diagnosis of heart disease (angiographic disease status) (int)\n",
    "41. `Streptokinase` - used to dissolve blood clots that have formed in the blood vessels. Does the patient take it? (binary)\n",
    "42. `SK React` - what is the reaction from streptokinase (categorical)\n",
    "43. `Follow up` - number of patient's visiting time (int)\n",
    "44. `Max heart rate-binned` - patient's maximum heart rate achieved - binned (from Lab2) (categorical)\n",
    "45. `Gender-male` - is the patient male (from Lab2)? (binary)\n",
    "46. `Locality-urban` - is the patient's locality urban (from Lab2)? (binary)\n",
    "\n",
    "Output feature (desired target):\n",
    "\n",
    "47. `Mortality` - did the patient die of heart failure? (binary)\n",
    "    \n",
    "    </details>\n"
   ]
  },
  {
   "cell_type": "markdown",
   "metadata": {},
   "source": [
    "## Pipiline Classification\n"
   ]
  },
  {
   "cell_type": "markdown",
   "metadata": {},
   "source": [
    "### LogisticRegression\n"
   ]
  },
  {
   "cell_type": "markdown",
   "metadata": {},
   "source": [
    "Before classification, the dataset must be divided into input and target factors.\n"
   ]
  },
  {
   "cell_type": "code",
   "execution_count": 87,
   "metadata": {},
   "outputs": [],
   "source": [
    "x = df.drop(columns = ['Mortality'])"
   ]
  },
  {
   "cell_type": "code",
   "execution_count": 88,
   "metadata": {},
   "outputs": [],
   "source": [
    "y = df['Mortality']"
   ]
  },
  {
   "cell_type": "code",
   "execution_count": 89,
   "metadata": {},
   "outputs": [
    {
     "name": "stdout",
     "output_type": "stream",
     "text": [
      "<class 'pandas.core.frame.DataFrame'>\n",
      "RangeIndex: 368 entries, 0 to 367\n",
      "Data columns (total 46 columns):\n",
      " #   Column                        Non-Null Count  Dtype  \n",
      "---  ------                        --------------  -----  \n",
      " 0   Age Group                     368 non-null    object \n",
      " 1   Marital Status                368 non-null    object \n",
      " 2   Lifestyle                     368 non-null    bool   \n",
      " 3   Sleep                         368 non-null    bool   \n",
      " 4   Category                      368 non-null    object \n",
      " 5   Depression                    368 non-null    bool   \n",
      " 6   Hyperlipidemia                368 non-null    bool   \n",
      " 7   Smoking                       368 non-null    bool   \n",
      " 8   Diabetes                      368 non-null    int64  \n",
      " 9   HTN                           368 non-null    bool   \n",
      " 10  Allergies                     368 non-null    bool   \n",
      " 11  BP                            368 non-null    float64\n",
      " 12  Thrombolysis                  368 non-null    int64  \n",
      " 13  BGR                           368 non-null    int64  \n",
      " 14  CPK                           368 non-null    int64  \n",
      " 15  ESR                           368 non-null    int64  \n",
      " 16  WBC                           368 non-null    int64  \n",
      " 17  RBC                           368 non-null    float64\n",
      " 18  Hemoglobin                    368 non-null    float64\n",
      " 19  MCH                           368 non-null    float64\n",
      " 20  MCHC                          368 non-null    float64\n",
      " 21  PlateletCount                 368 non-null    int64  \n",
      " 22  Lymphocyte                    368 non-null    float64\n",
      " 23  Monocyte                      368 non-null    float64\n",
      " 24  Eosinophil                    368 non-null    int64  \n",
      " 25  Others                        368 non-null    object \n",
      " 26  Diagnosis                     368 non-null    object \n",
      " 27  Hypersensitivity              368 non-null    bool   \n",
      " 28  Chest pain type               368 non-null    int64  \n",
      " 29  Resting BP                    368 non-null    float64\n",
      " 30  Serum cholesterol             368 non-null    float64\n",
      " 31  FBS                           368 non-null    int64  \n",
      " 32  Resting electrocardiographic  368 non-null    int64  \n",
      " 33  Max heart rate                368 non-null    int64  \n",
      " 34  Angina                        368 non-null    int64  \n",
      " 35  ST depression                 368 non-null    float64\n",
      " 36  Slope                         368 non-null    int64  \n",
      " 37  Vessels num                   368 non-null    int64  \n",
      " 38  Thal                          368 non-null    int64  \n",
      " 39  Num                           368 non-null    int64  \n",
      " 40  Streptokinase                 368 non-null    int64  \n",
      " 41  SK React                      368 non-null    object \n",
      " 42  Follow up                     368 non-null    int64  \n",
      " 43  Max heart rate-binned         368 non-null    object \n",
      " 44  Gender-male                   368 non-null    int64  \n",
      " 45  Locality-urban                368 non-null    int64  \n",
      "dtypes: bool(8), float64(10), int64(21), object(7)\n",
      "memory usage: 112.2+ KB\n"
     ]
    }
   ],
   "source": [
    "x.info()"
   ]
  },
  {
   "cell_type": "markdown",
   "metadata": {},
   "source": [
    "You can see the input data set consists from 47 columns.\n",
    "\n",
    "As you can see, 7 columns are objects, and all others are numerical and boolean. To make classification, all numerical fields must be normalized and categorical fields must be digitized. This can be automated using the **[sklearn.preprocessing.OrdinalEncoder()](https://scikit-learn.org/stable/modules/generated/sklearn.preprocessing.OrdinalEncoder.html?utm_medium=Exinfluencer&utm_source=Exinfluencer&utm_content=000026UJ&utm_term=10006555&utm_id=NA-SkillsNetwork-Channel-SkillsNetworkGuidedProjectsIBMSkillsNetworkGPXX05QLEN2531-2023-01-01)** and **[sklearn. preprocessing.StandardScaler()](https://scikit-learn.org/stable/modules/generated/sklearn.preprocessing.StandardScaler.html?utm_medium=Exinfluencer&utm_source=Exinfluencer&utm_content=000026UJ&utm_term=10006555&utm_id=NA-SkillsNetwork-Channel-SkillsNetworkGuidedProjectsIBMSkillsNetworkGPXX05QLEN2531-2023-01-01)**.\n",
    "\n",
    "Since the machine learning process consists of several steps, each of which has the function `fit`,` predict` and etc, we can combine all these stages into one block using `Pipeline` (**[sklearn.pipeline.make_pipeline()](https://scikit-learn.org/stable/modules/generated/sklearn.pipeline.make_pipeline.html?utm_medium=Exinfluencer&utm_source=Exinfluencer&utm_content=000026UJ&utm_term=10006555&utm_id=NA-SkillsNetwork-Channel-SkillsNetworkGuidedProjectsIBMSkillsNetworkGPXX05QLEN2531-2023-01-01)**), **[sklearn.compose.make_column_transformer()](https://scikit-learn.org/stable/modules/generated/sklearn.compose.make_column_transformer.html?utm_medium=Exinfluencer&utm_source=Exinfluencer&utm_content=000026UJ&utm_term=10006555&utm_id=NA-SkillsNetwork-Channel-SkillsNetworkGuidedProjectsIBMSkillsNetworkGPXX05QLEN2531-2023-01-01)** and visualize it with: **[sklearn.set_config()](https://scikit-learn.org/stable/modules/generated/sklearn.set_config.html?utm_medium=Exinfluencer&utm_source=Exinfluencer&utm_content=000026UJ&utm_term=10006555&utm_id=NA-SkillsNetwork-Channel-SkillsNetworkGuidedProjectsIBMSkillsNetworkGPXX05QLEN2531-2023-01-01)**.\n"
   ]
  },
  {
   "cell_type": "code",
   "execution_count": 90,
   "metadata": {},
   "outputs": [],
   "source": [
    "col_cat = list(x.select_dtypes(include=['object']).columns)\n",
    "col_num = list(x.select_dtypes(include=['float', 'int', 'bool']).columns)"
   ]
  },
  {
   "cell_type": "code",
   "execution_count": 91,
   "metadata": {},
   "outputs": [
    {
     "data": {
      "text/plain": "ColumnTransformer(remainder='passthrough',\n                  transformers=[('ordinalencoder',\n                                 OrdinalEncoder(handle_unknown='use_encoded_value',\n                                                unknown_value=-1),\n                                 ['Age Group', 'Marital Status', 'Category',\n                                  'Others', 'Diagnosis', 'SK React',\n                                  'Max heart rate-binned']),\n                                ('standardscaler', StandardScaler(),\n                                 ['Lifestyle', 'Sleep', 'Depression',\n                                  'Hyperlipidemia', 'Smoking', 'Diabetes',\n                                  'HTN', 'Allergies', 'BP', 'Thrombolysis',\n                                  'BGR', 'CPK', 'ESR', 'WBC', 'RBC',\n                                  'Hemoglobin', 'MCH', 'MCHC', 'PlateletCount',\n                                  'Lymphocyte', 'Monocyte', 'Eosinophil',\n                                  'Hypersensitivity', 'Chest pain type',\n                                  'Resting BP', 'Serum cholesterol', 'FBS',\n                                  'Resting electrocardiographic',\n                                  'Max heart rate', 'Angina', ...])])",
      "text/html": "<style>#sk-container-id-9 {color: black;background-color: white;}#sk-container-id-9 pre{padding: 0;}#sk-container-id-9 div.sk-toggleable {background-color: white;}#sk-container-id-9 label.sk-toggleable__label {cursor: pointer;display: block;width: 100%;margin-bottom: 0;padding: 0.3em;box-sizing: border-box;text-align: center;}#sk-container-id-9 label.sk-toggleable__label-arrow:before {content: \"▸\";float: left;margin-right: 0.25em;color: #696969;}#sk-container-id-9 label.sk-toggleable__label-arrow:hover:before {color: black;}#sk-container-id-9 div.sk-estimator:hover label.sk-toggleable__label-arrow:before {color: black;}#sk-container-id-9 div.sk-toggleable__content {max-height: 0;max-width: 0;overflow: hidden;text-align: left;background-color: #f0f8ff;}#sk-container-id-9 div.sk-toggleable__content pre {margin: 0.2em;color: black;border-radius: 0.25em;background-color: #f0f8ff;}#sk-container-id-9 input.sk-toggleable__control:checked~div.sk-toggleable__content {max-height: 200px;max-width: 100%;overflow: auto;}#sk-container-id-9 input.sk-toggleable__control:checked~label.sk-toggleable__label-arrow:before {content: \"▾\";}#sk-container-id-9 div.sk-estimator input.sk-toggleable__control:checked~label.sk-toggleable__label {background-color: #d4ebff;}#sk-container-id-9 div.sk-label input.sk-toggleable__control:checked~label.sk-toggleable__label {background-color: #d4ebff;}#sk-container-id-9 input.sk-hidden--visually {border: 0;clip: rect(1px 1px 1px 1px);clip: rect(1px, 1px, 1px, 1px);height: 1px;margin: -1px;overflow: hidden;padding: 0;position: absolute;width: 1px;}#sk-container-id-9 div.sk-estimator {font-family: monospace;background-color: #f0f8ff;border: 1px dotted black;border-radius: 0.25em;box-sizing: border-box;margin-bottom: 0.5em;}#sk-container-id-9 div.sk-estimator:hover {background-color: #d4ebff;}#sk-container-id-9 div.sk-parallel-item::after {content: \"\";width: 100%;border-bottom: 1px solid gray;flex-grow: 1;}#sk-container-id-9 div.sk-label:hover label.sk-toggleable__label {background-color: #d4ebff;}#sk-container-id-9 div.sk-serial::before {content: \"\";position: absolute;border-left: 1px solid gray;box-sizing: border-box;top: 0;bottom: 0;left: 50%;z-index: 0;}#sk-container-id-9 div.sk-serial {display: flex;flex-direction: column;align-items: center;background-color: white;padding-right: 0.2em;padding-left: 0.2em;position: relative;}#sk-container-id-9 div.sk-item {position: relative;z-index: 1;}#sk-container-id-9 div.sk-parallel {display: flex;align-items: stretch;justify-content: center;background-color: white;position: relative;}#sk-container-id-9 div.sk-item::before, #sk-container-id-9 div.sk-parallel-item::before {content: \"\";position: absolute;border-left: 1px solid gray;box-sizing: border-box;top: 0;bottom: 0;left: 50%;z-index: -1;}#sk-container-id-9 div.sk-parallel-item {display: flex;flex-direction: column;z-index: 1;position: relative;background-color: white;}#sk-container-id-9 div.sk-parallel-item:first-child::after {align-self: flex-end;width: 50%;}#sk-container-id-9 div.sk-parallel-item:last-child::after {align-self: flex-start;width: 50%;}#sk-container-id-9 div.sk-parallel-item:only-child::after {width: 0;}#sk-container-id-9 div.sk-dashed-wrapped {border: 1px dashed gray;margin: 0 0.4em 0.5em 0.4em;box-sizing: border-box;padding-bottom: 0.4em;background-color: white;}#sk-container-id-9 div.sk-label label {font-family: monospace;font-weight: bold;display: inline-block;line-height: 1.2em;}#sk-container-id-9 div.sk-label-container {text-align: center;}#sk-container-id-9 div.sk-container {/* jupyter's `normalize.less` sets `[hidden] { display: none; }` but bootstrap.min.css set `[hidden] { display: none !important; }` so we also need the `!important` here to be able to override the default hidden behavior on the sphinx rendered scikit-learn.org. See: https://github.com/scikit-learn/scikit-learn/issues/21755 */display: inline-block !important;position: relative;}#sk-container-id-9 div.sk-text-repr-fallback {display: none;}</style><div id=\"sk-container-id-9\" class=\"sk-top-container\"><div class=\"sk-text-repr-fallback\"><pre>ColumnTransformer(remainder=&#x27;passthrough&#x27;,\n                  transformers=[(&#x27;ordinalencoder&#x27;,\n                                 OrdinalEncoder(handle_unknown=&#x27;use_encoded_value&#x27;,\n                                                unknown_value=-1),\n                                 [&#x27;Age Group&#x27;, &#x27;Marital Status&#x27;, &#x27;Category&#x27;,\n                                  &#x27;Others&#x27;, &#x27;Diagnosis&#x27;, &#x27;SK React&#x27;,\n                                  &#x27;Max heart rate-binned&#x27;]),\n                                (&#x27;standardscaler&#x27;, StandardScaler(),\n                                 [&#x27;Lifestyle&#x27;, &#x27;Sleep&#x27;, &#x27;Depression&#x27;,\n                                  &#x27;Hyperlipidemia&#x27;, &#x27;Smoking&#x27;, &#x27;Diabetes&#x27;,\n                                  &#x27;HTN&#x27;, &#x27;Allergies&#x27;, &#x27;BP&#x27;, &#x27;Thrombolysis&#x27;,\n                                  &#x27;BGR&#x27;, &#x27;CPK&#x27;, &#x27;ESR&#x27;, &#x27;WBC&#x27;, &#x27;RBC&#x27;,\n                                  &#x27;Hemoglobin&#x27;, &#x27;MCH&#x27;, &#x27;MCHC&#x27;, &#x27;PlateletCount&#x27;,\n                                  &#x27;Lymphocyte&#x27;, &#x27;Monocyte&#x27;, &#x27;Eosinophil&#x27;,\n                                  &#x27;Hypersensitivity&#x27;, &#x27;Chest pain type&#x27;,\n                                  &#x27;Resting BP&#x27;, &#x27;Serum cholesterol&#x27;, &#x27;FBS&#x27;,\n                                  &#x27;Resting electrocardiographic&#x27;,\n                                  &#x27;Max heart rate&#x27;, &#x27;Angina&#x27;, ...])])</pre><b>In a Jupyter environment, please rerun this cell to show the HTML representation or trust the notebook. <br />On GitHub, the HTML representation is unable to render, please try loading this page with nbviewer.org.</b></div><div class=\"sk-container\" hidden><div class=\"sk-item sk-dashed-wrapped\"><div class=\"sk-label-container\"><div class=\"sk-label sk-toggleable\"><input class=\"sk-toggleable__control sk-hidden--visually\" id=\"sk-estimator-id-93\" type=\"checkbox\" ><label for=\"sk-estimator-id-93\" class=\"sk-toggleable__label sk-toggleable__label-arrow\">ColumnTransformer</label><div class=\"sk-toggleable__content\"><pre>ColumnTransformer(remainder=&#x27;passthrough&#x27;,\n                  transformers=[(&#x27;ordinalencoder&#x27;,\n                                 OrdinalEncoder(handle_unknown=&#x27;use_encoded_value&#x27;,\n                                                unknown_value=-1),\n                                 [&#x27;Age Group&#x27;, &#x27;Marital Status&#x27;, &#x27;Category&#x27;,\n                                  &#x27;Others&#x27;, &#x27;Diagnosis&#x27;, &#x27;SK React&#x27;,\n                                  &#x27;Max heart rate-binned&#x27;]),\n                                (&#x27;standardscaler&#x27;, StandardScaler(),\n                                 [&#x27;Lifestyle&#x27;, &#x27;Sleep&#x27;, &#x27;Depression&#x27;,\n                                  &#x27;Hyperlipidemia&#x27;, &#x27;Smoking&#x27;, &#x27;Diabetes&#x27;,\n                                  &#x27;HTN&#x27;, &#x27;Allergies&#x27;, &#x27;BP&#x27;, &#x27;Thrombolysis&#x27;,\n                                  &#x27;BGR&#x27;, &#x27;CPK&#x27;, &#x27;ESR&#x27;, &#x27;WBC&#x27;, &#x27;RBC&#x27;,\n                                  &#x27;Hemoglobin&#x27;, &#x27;MCH&#x27;, &#x27;MCHC&#x27;, &#x27;PlateletCount&#x27;,\n                                  &#x27;Lymphocyte&#x27;, &#x27;Monocyte&#x27;, &#x27;Eosinophil&#x27;,\n                                  &#x27;Hypersensitivity&#x27;, &#x27;Chest pain type&#x27;,\n                                  &#x27;Resting BP&#x27;, &#x27;Serum cholesterol&#x27;, &#x27;FBS&#x27;,\n                                  &#x27;Resting electrocardiographic&#x27;,\n                                  &#x27;Max heart rate&#x27;, &#x27;Angina&#x27;, ...])])</pre></div></div></div><div class=\"sk-parallel\"><div class=\"sk-parallel-item\"><div class=\"sk-item\"><div class=\"sk-label-container\"><div class=\"sk-label sk-toggleable\"><input class=\"sk-toggleable__control sk-hidden--visually\" id=\"sk-estimator-id-94\" type=\"checkbox\" ><label for=\"sk-estimator-id-94\" class=\"sk-toggleable__label sk-toggleable__label-arrow\">ordinalencoder</label><div class=\"sk-toggleable__content\"><pre>[&#x27;Age Group&#x27;, &#x27;Marital Status&#x27;, &#x27;Category&#x27;, &#x27;Others&#x27;, &#x27;Diagnosis&#x27;, &#x27;SK React&#x27;, &#x27;Max heart rate-binned&#x27;]</pre></div></div></div><div class=\"sk-serial\"><div class=\"sk-item\"><div class=\"sk-estimator sk-toggleable\"><input class=\"sk-toggleable__control sk-hidden--visually\" id=\"sk-estimator-id-95\" type=\"checkbox\" ><label for=\"sk-estimator-id-95\" class=\"sk-toggleable__label sk-toggleable__label-arrow\">OrdinalEncoder</label><div class=\"sk-toggleable__content\"><pre>OrdinalEncoder(handle_unknown=&#x27;use_encoded_value&#x27;, unknown_value=-1)</pre></div></div></div></div></div></div><div class=\"sk-parallel-item\"><div class=\"sk-item\"><div class=\"sk-label-container\"><div class=\"sk-label sk-toggleable\"><input class=\"sk-toggleable__control sk-hidden--visually\" id=\"sk-estimator-id-96\" type=\"checkbox\" ><label for=\"sk-estimator-id-96\" class=\"sk-toggleable__label sk-toggleable__label-arrow\">standardscaler</label><div class=\"sk-toggleable__content\"><pre>[&#x27;Lifestyle&#x27;, &#x27;Sleep&#x27;, &#x27;Depression&#x27;, &#x27;Hyperlipidemia&#x27;, &#x27;Smoking&#x27;, &#x27;Diabetes&#x27;, &#x27;HTN&#x27;, &#x27;Allergies&#x27;, &#x27;BP&#x27;, &#x27;Thrombolysis&#x27;, &#x27;BGR&#x27;, &#x27;CPK&#x27;, &#x27;ESR&#x27;, &#x27;WBC&#x27;, &#x27;RBC&#x27;, &#x27;Hemoglobin&#x27;, &#x27;MCH&#x27;, &#x27;MCHC&#x27;, &#x27;PlateletCount&#x27;, &#x27;Lymphocyte&#x27;, &#x27;Monocyte&#x27;, &#x27;Eosinophil&#x27;, &#x27;Hypersensitivity&#x27;, &#x27;Chest pain type&#x27;, &#x27;Resting BP&#x27;, &#x27;Serum cholesterol&#x27;, &#x27;FBS&#x27;, &#x27;Resting electrocardiographic&#x27;, &#x27;Max heart rate&#x27;, &#x27;Angina&#x27;, &#x27;ST depression&#x27;, &#x27;Slope&#x27;, &#x27;Vessels num&#x27;, &#x27;Thal&#x27;, &#x27;Num&#x27;, &#x27;Streptokinase&#x27;, &#x27;Follow up&#x27;, &#x27;Gender-male&#x27;, &#x27;Locality-urban&#x27;]</pre></div></div></div><div class=\"sk-serial\"><div class=\"sk-item\"><div class=\"sk-estimator sk-toggleable\"><input class=\"sk-toggleable__control sk-hidden--visually\" id=\"sk-estimator-id-97\" type=\"checkbox\" ><label for=\"sk-estimator-id-97\" class=\"sk-toggleable__label sk-toggleable__label-arrow\">StandardScaler</label><div class=\"sk-toggleable__content\"><pre>StandardScaler()</pre></div></div></div></div></div></div><div class=\"sk-parallel-item\"><div class=\"sk-item\"><div class=\"sk-label-container\"><div class=\"sk-label sk-toggleable\"><input class=\"sk-toggleable__control sk-hidden--visually\" id=\"sk-estimator-id-98\" type=\"checkbox\" ><label for=\"sk-estimator-id-98\" class=\"sk-toggleable__label sk-toggleable__label-arrow\">remainder</label><div class=\"sk-toggleable__content\"><pre></pre></div></div></div><div class=\"sk-serial\"><div class=\"sk-item\"><div class=\"sk-estimator sk-toggleable\"><input class=\"sk-toggleable__control sk-hidden--visually\" id=\"sk-estimator-id-99\" type=\"checkbox\" ><label for=\"sk-estimator-id-99\" class=\"sk-toggleable__label sk-toggleable__label-arrow\">passthrough</label><div class=\"sk-toggleable__content\"><pre>passthrough</pre></div></div></div></div></div></div></div></div></div></div>"
     },
     "execution_count": 91,
     "metadata": {},
     "output_type": "execute_result"
    }
   ],
   "source": [
    "trans = make_column_transformer((OrdinalEncoder(handle_unknown='use_encoded_value', unknown_value=-1),col_cat),\n",
    "                                (StandardScaler(),col_num),\n",
    "                                remainder = 'passthrough')\n",
    "set_config(display = 'diagram')\n",
    "trans"
   ]
  },
  {
   "cell_type": "markdown",
   "metadata": {},
   "source": [
    "Next we must separate DataSets for train and test DataSets for calculate accuracy of models. To do this we can use **[sklearn.model_selection.train_test_split()](https://scikit-learn.org/stable/modules/generated/sklearn.model_selection.train_test_split.html?utm_medium=Exinfluencer&utm_source=Exinfluencer&utm_content=000026UJ&utm_term=10006555&utm_id=NA-SkillsNetwork-Channel-SkillsNetworkGuidedProjectsIBMSkillsNetworkGPXX05QLEN2531-2023-01-01)**. Let's separate DataSets in 0.33 proportion train/test\n"
   ]
  },
  {
   "cell_type": "code",
   "execution_count": 92,
   "metadata": {},
   "outputs": [],
   "source": [
    "x_train,x_test,y_train,y_test = train_test_split(x,y,test_size = 0.3, shuffle=False)"
   ]
  },
  {
   "cell_type": "code",
   "execution_count": 93,
   "metadata": {},
   "outputs": [
    {
     "data": {
      "text/plain": "(257, 46)"
     },
     "execution_count": 93,
     "metadata": {},
     "output_type": "execute_result"
    }
   ],
   "source": [
    "x_train.shape"
   ]
  },
  {
   "cell_type": "code",
   "execution_count": 94,
   "metadata": {},
   "outputs": [
    {
     "data": {
      "text/plain": "(111, 46)"
     },
     "execution_count": 94,
     "metadata": {},
     "output_type": "execute_result"
    }
   ],
   "source": [
    "x_test.shape"
   ]
  },
  {
   "cell_type": "markdown",
   "metadata": {},
   "source": [
    "Nowe let's create a logistic regression model (**[sklearn.linear_model.LogisticRegression()](https://scikit-learn.org/stable/modules/generated/sklearn.linear_model.LogisticRegression.html?utm_medium=Exinfluencer&utm_source=Exinfluencer&utm_content=000026UJ&utm_term=10006555&utm_id=NA-SkillsNetwork-Channel-SkillsNetworkGuidedProjectsIBMSkillsNetworkGPXX05QLEN2531-2023-01-01)**) and add it to our `Pipeline`.\n"
   ]
  },
  {
   "cell_type": "code",
   "execution_count": 95,
   "metadata": {},
   "outputs": [],
   "source": [
    "lr = LogisticRegression()\n",
    "pipe_lr = make_pipeline(trans ,lr)"
   ]
  },
  {
   "cell_type": "markdown",
   "metadata": {},
   "source": [
    "Let's fit our model and calculate its accuracy.\n"
   ]
  },
  {
   "cell_type": "code",
   "execution_count": 96,
   "metadata": {},
   "outputs": [
    {
     "data": {
      "text/plain": "Pipeline(steps=[('columntransformer',\n                 ColumnTransformer(remainder='passthrough',\n                                   transformers=[('ordinalencoder',\n                                                  OrdinalEncoder(handle_unknown='use_encoded_value',\n                                                                 unknown_value=-1),\n                                                  ['Age Group',\n                                                   'Marital Status', 'Category',\n                                                   'Others', 'Diagnosis',\n                                                   'SK React',\n                                                   'Max heart rate-binned']),\n                                                 ('standardscaler',\n                                                  StandardScaler(),\n                                                  ['Lifestyle', 'Sleep',\n                                                   'Depression',\n                                                   'Hyperli...'Smoking',\n                                                   'Diabetes', 'HTN',\n                                                   'Allergies', 'BP',\n                                                   'Thrombolysis', 'BGR', 'CPK',\n                                                   'ESR', 'WBC', 'RBC',\n                                                   'Hemoglobin', 'MCH', 'MCHC',\n                                                   'PlateletCount',\n                                                   'Lymphocyte', 'Monocyte',\n                                                   'Eosinophil',\n                                                   'Hypersensitivity',\n                                                   'Chest pain type',\n                                                   'Resting BP',\n                                                   'Serum cholesterol', 'FBS',\n                                                   'Resting '\n                                                   'electrocardiographic',\n                                                   'Max heart rate', 'Angina', ...])])),\n                ('logisticregression', LogisticRegression())])",
      "text/html": "<style>#sk-container-id-10 {color: black;background-color: white;}#sk-container-id-10 pre{padding: 0;}#sk-container-id-10 div.sk-toggleable {background-color: white;}#sk-container-id-10 label.sk-toggleable__label {cursor: pointer;display: block;width: 100%;margin-bottom: 0;padding: 0.3em;box-sizing: border-box;text-align: center;}#sk-container-id-10 label.sk-toggleable__label-arrow:before {content: \"▸\";float: left;margin-right: 0.25em;color: #696969;}#sk-container-id-10 label.sk-toggleable__label-arrow:hover:before {color: black;}#sk-container-id-10 div.sk-estimator:hover label.sk-toggleable__label-arrow:before {color: black;}#sk-container-id-10 div.sk-toggleable__content {max-height: 0;max-width: 0;overflow: hidden;text-align: left;background-color: #f0f8ff;}#sk-container-id-10 div.sk-toggleable__content pre {margin: 0.2em;color: black;border-radius: 0.25em;background-color: #f0f8ff;}#sk-container-id-10 input.sk-toggleable__control:checked~div.sk-toggleable__content {max-height: 200px;max-width: 100%;overflow: auto;}#sk-container-id-10 input.sk-toggleable__control:checked~label.sk-toggleable__label-arrow:before {content: \"▾\";}#sk-container-id-10 div.sk-estimator input.sk-toggleable__control:checked~label.sk-toggleable__label {background-color: #d4ebff;}#sk-container-id-10 div.sk-label input.sk-toggleable__control:checked~label.sk-toggleable__label {background-color: #d4ebff;}#sk-container-id-10 input.sk-hidden--visually {border: 0;clip: rect(1px 1px 1px 1px);clip: rect(1px, 1px, 1px, 1px);height: 1px;margin: -1px;overflow: hidden;padding: 0;position: absolute;width: 1px;}#sk-container-id-10 div.sk-estimator {font-family: monospace;background-color: #f0f8ff;border: 1px dotted black;border-radius: 0.25em;box-sizing: border-box;margin-bottom: 0.5em;}#sk-container-id-10 div.sk-estimator:hover {background-color: #d4ebff;}#sk-container-id-10 div.sk-parallel-item::after {content: \"\";width: 100%;border-bottom: 1px solid gray;flex-grow: 1;}#sk-container-id-10 div.sk-label:hover label.sk-toggleable__label {background-color: #d4ebff;}#sk-container-id-10 div.sk-serial::before {content: \"\";position: absolute;border-left: 1px solid gray;box-sizing: border-box;top: 0;bottom: 0;left: 50%;z-index: 0;}#sk-container-id-10 div.sk-serial {display: flex;flex-direction: column;align-items: center;background-color: white;padding-right: 0.2em;padding-left: 0.2em;position: relative;}#sk-container-id-10 div.sk-item {position: relative;z-index: 1;}#sk-container-id-10 div.sk-parallel {display: flex;align-items: stretch;justify-content: center;background-color: white;position: relative;}#sk-container-id-10 div.sk-item::before, #sk-container-id-10 div.sk-parallel-item::before {content: \"\";position: absolute;border-left: 1px solid gray;box-sizing: border-box;top: 0;bottom: 0;left: 50%;z-index: -1;}#sk-container-id-10 div.sk-parallel-item {display: flex;flex-direction: column;z-index: 1;position: relative;background-color: white;}#sk-container-id-10 div.sk-parallel-item:first-child::after {align-self: flex-end;width: 50%;}#sk-container-id-10 div.sk-parallel-item:last-child::after {align-self: flex-start;width: 50%;}#sk-container-id-10 div.sk-parallel-item:only-child::after {width: 0;}#sk-container-id-10 div.sk-dashed-wrapped {border: 1px dashed gray;margin: 0 0.4em 0.5em 0.4em;box-sizing: border-box;padding-bottom: 0.4em;background-color: white;}#sk-container-id-10 div.sk-label label {font-family: monospace;font-weight: bold;display: inline-block;line-height: 1.2em;}#sk-container-id-10 div.sk-label-container {text-align: center;}#sk-container-id-10 div.sk-container {/* jupyter's `normalize.less` sets `[hidden] { display: none; }` but bootstrap.min.css set `[hidden] { display: none !important; }` so we also need the `!important` here to be able to override the default hidden behavior on the sphinx rendered scikit-learn.org. See: https://github.com/scikit-learn/scikit-learn/issues/21755 */display: inline-block !important;position: relative;}#sk-container-id-10 div.sk-text-repr-fallback {display: none;}</style><div id=\"sk-container-id-10\" class=\"sk-top-container\"><div class=\"sk-text-repr-fallback\"><pre>Pipeline(steps=[(&#x27;columntransformer&#x27;,\n                 ColumnTransformer(remainder=&#x27;passthrough&#x27;,\n                                   transformers=[(&#x27;ordinalencoder&#x27;,\n                                                  OrdinalEncoder(handle_unknown=&#x27;use_encoded_value&#x27;,\n                                                                 unknown_value=-1),\n                                                  [&#x27;Age Group&#x27;,\n                                                   &#x27;Marital Status&#x27;, &#x27;Category&#x27;,\n                                                   &#x27;Others&#x27;, &#x27;Diagnosis&#x27;,\n                                                   &#x27;SK React&#x27;,\n                                                   &#x27;Max heart rate-binned&#x27;]),\n                                                 (&#x27;standardscaler&#x27;,\n                                                  StandardScaler(),\n                                                  [&#x27;Lifestyle&#x27;, &#x27;Sleep&#x27;,\n                                                   &#x27;Depression&#x27;,\n                                                   &#x27;Hyperli...&#x27;Smoking&#x27;,\n                                                   &#x27;Diabetes&#x27;, &#x27;HTN&#x27;,\n                                                   &#x27;Allergies&#x27;, &#x27;BP&#x27;,\n                                                   &#x27;Thrombolysis&#x27;, &#x27;BGR&#x27;, &#x27;CPK&#x27;,\n                                                   &#x27;ESR&#x27;, &#x27;WBC&#x27;, &#x27;RBC&#x27;,\n                                                   &#x27;Hemoglobin&#x27;, &#x27;MCH&#x27;, &#x27;MCHC&#x27;,\n                                                   &#x27;PlateletCount&#x27;,\n                                                   &#x27;Lymphocyte&#x27;, &#x27;Monocyte&#x27;,\n                                                   &#x27;Eosinophil&#x27;,\n                                                   &#x27;Hypersensitivity&#x27;,\n                                                   &#x27;Chest pain type&#x27;,\n                                                   &#x27;Resting BP&#x27;,\n                                                   &#x27;Serum cholesterol&#x27;, &#x27;FBS&#x27;,\n                                                   &#x27;Resting &#x27;\n                                                   &#x27;electrocardiographic&#x27;,\n                                                   &#x27;Max heart rate&#x27;, &#x27;Angina&#x27;, ...])])),\n                (&#x27;logisticregression&#x27;, LogisticRegression())])</pre><b>In a Jupyter environment, please rerun this cell to show the HTML representation or trust the notebook. <br />On GitHub, the HTML representation is unable to render, please try loading this page with nbviewer.org.</b></div><div class=\"sk-container\" hidden><div class=\"sk-item sk-dashed-wrapped\"><div class=\"sk-label-container\"><div class=\"sk-label sk-toggleable\"><input class=\"sk-toggleable__control sk-hidden--visually\" id=\"sk-estimator-id-100\" type=\"checkbox\" ><label for=\"sk-estimator-id-100\" class=\"sk-toggleable__label sk-toggleable__label-arrow\">Pipeline</label><div class=\"sk-toggleable__content\"><pre>Pipeline(steps=[(&#x27;columntransformer&#x27;,\n                 ColumnTransformer(remainder=&#x27;passthrough&#x27;,\n                                   transformers=[(&#x27;ordinalencoder&#x27;,\n                                                  OrdinalEncoder(handle_unknown=&#x27;use_encoded_value&#x27;,\n                                                                 unknown_value=-1),\n                                                  [&#x27;Age Group&#x27;,\n                                                   &#x27;Marital Status&#x27;, &#x27;Category&#x27;,\n                                                   &#x27;Others&#x27;, &#x27;Diagnosis&#x27;,\n                                                   &#x27;SK React&#x27;,\n                                                   &#x27;Max heart rate-binned&#x27;]),\n                                                 (&#x27;standardscaler&#x27;,\n                                                  StandardScaler(),\n                                                  [&#x27;Lifestyle&#x27;, &#x27;Sleep&#x27;,\n                                                   &#x27;Depression&#x27;,\n                                                   &#x27;Hyperli...&#x27;Smoking&#x27;,\n                                                   &#x27;Diabetes&#x27;, &#x27;HTN&#x27;,\n                                                   &#x27;Allergies&#x27;, &#x27;BP&#x27;,\n                                                   &#x27;Thrombolysis&#x27;, &#x27;BGR&#x27;, &#x27;CPK&#x27;,\n                                                   &#x27;ESR&#x27;, &#x27;WBC&#x27;, &#x27;RBC&#x27;,\n                                                   &#x27;Hemoglobin&#x27;, &#x27;MCH&#x27;, &#x27;MCHC&#x27;,\n                                                   &#x27;PlateletCount&#x27;,\n                                                   &#x27;Lymphocyte&#x27;, &#x27;Monocyte&#x27;,\n                                                   &#x27;Eosinophil&#x27;,\n                                                   &#x27;Hypersensitivity&#x27;,\n                                                   &#x27;Chest pain type&#x27;,\n                                                   &#x27;Resting BP&#x27;,\n                                                   &#x27;Serum cholesterol&#x27;, &#x27;FBS&#x27;,\n                                                   &#x27;Resting &#x27;\n                                                   &#x27;electrocardiographic&#x27;,\n                                                   &#x27;Max heart rate&#x27;, &#x27;Angina&#x27;, ...])])),\n                (&#x27;logisticregression&#x27;, LogisticRegression())])</pre></div></div></div><div class=\"sk-serial\"><div class=\"sk-item sk-dashed-wrapped\"><div class=\"sk-label-container\"><div class=\"sk-label sk-toggleable\"><input class=\"sk-toggleable__control sk-hidden--visually\" id=\"sk-estimator-id-101\" type=\"checkbox\" ><label for=\"sk-estimator-id-101\" class=\"sk-toggleable__label sk-toggleable__label-arrow\">columntransformer: ColumnTransformer</label><div class=\"sk-toggleable__content\"><pre>ColumnTransformer(remainder=&#x27;passthrough&#x27;,\n                  transformers=[(&#x27;ordinalencoder&#x27;,\n                                 OrdinalEncoder(handle_unknown=&#x27;use_encoded_value&#x27;,\n                                                unknown_value=-1),\n                                 [&#x27;Age Group&#x27;, &#x27;Marital Status&#x27;, &#x27;Category&#x27;,\n                                  &#x27;Others&#x27;, &#x27;Diagnosis&#x27;, &#x27;SK React&#x27;,\n                                  &#x27;Max heart rate-binned&#x27;]),\n                                (&#x27;standardscaler&#x27;, StandardScaler(),\n                                 [&#x27;Lifestyle&#x27;, &#x27;Sleep&#x27;, &#x27;Depression&#x27;,\n                                  &#x27;Hyperlipidemia&#x27;, &#x27;Smoking&#x27;, &#x27;Diabetes&#x27;,\n                                  &#x27;HTN&#x27;, &#x27;Allergies&#x27;, &#x27;BP&#x27;, &#x27;Thrombolysis&#x27;,\n                                  &#x27;BGR&#x27;, &#x27;CPK&#x27;, &#x27;ESR&#x27;, &#x27;WBC&#x27;, &#x27;RBC&#x27;,\n                                  &#x27;Hemoglobin&#x27;, &#x27;MCH&#x27;, &#x27;MCHC&#x27;, &#x27;PlateletCount&#x27;,\n                                  &#x27;Lymphocyte&#x27;, &#x27;Monocyte&#x27;, &#x27;Eosinophil&#x27;,\n                                  &#x27;Hypersensitivity&#x27;, &#x27;Chest pain type&#x27;,\n                                  &#x27;Resting BP&#x27;, &#x27;Serum cholesterol&#x27;, &#x27;FBS&#x27;,\n                                  &#x27;Resting electrocardiographic&#x27;,\n                                  &#x27;Max heart rate&#x27;, &#x27;Angina&#x27;, ...])])</pre></div></div></div><div class=\"sk-parallel\"><div class=\"sk-parallel-item\"><div class=\"sk-item\"><div class=\"sk-label-container\"><div class=\"sk-label sk-toggleable\"><input class=\"sk-toggleable__control sk-hidden--visually\" id=\"sk-estimator-id-102\" type=\"checkbox\" ><label for=\"sk-estimator-id-102\" class=\"sk-toggleable__label sk-toggleable__label-arrow\">ordinalencoder</label><div class=\"sk-toggleable__content\"><pre>[&#x27;Age Group&#x27;, &#x27;Marital Status&#x27;, &#x27;Category&#x27;, &#x27;Others&#x27;, &#x27;Diagnosis&#x27;, &#x27;SK React&#x27;, &#x27;Max heart rate-binned&#x27;]</pre></div></div></div><div class=\"sk-serial\"><div class=\"sk-item\"><div class=\"sk-estimator sk-toggleable\"><input class=\"sk-toggleable__control sk-hidden--visually\" id=\"sk-estimator-id-103\" type=\"checkbox\" ><label for=\"sk-estimator-id-103\" class=\"sk-toggleable__label sk-toggleable__label-arrow\">OrdinalEncoder</label><div class=\"sk-toggleable__content\"><pre>OrdinalEncoder(handle_unknown=&#x27;use_encoded_value&#x27;, unknown_value=-1)</pre></div></div></div></div></div></div><div class=\"sk-parallel-item\"><div class=\"sk-item\"><div class=\"sk-label-container\"><div class=\"sk-label sk-toggleable\"><input class=\"sk-toggleable__control sk-hidden--visually\" id=\"sk-estimator-id-104\" type=\"checkbox\" ><label for=\"sk-estimator-id-104\" class=\"sk-toggleable__label sk-toggleable__label-arrow\">standardscaler</label><div class=\"sk-toggleable__content\"><pre>[&#x27;Lifestyle&#x27;, &#x27;Sleep&#x27;, &#x27;Depression&#x27;, &#x27;Hyperlipidemia&#x27;, &#x27;Smoking&#x27;, &#x27;Diabetes&#x27;, &#x27;HTN&#x27;, &#x27;Allergies&#x27;, &#x27;BP&#x27;, &#x27;Thrombolysis&#x27;, &#x27;BGR&#x27;, &#x27;CPK&#x27;, &#x27;ESR&#x27;, &#x27;WBC&#x27;, &#x27;RBC&#x27;, &#x27;Hemoglobin&#x27;, &#x27;MCH&#x27;, &#x27;MCHC&#x27;, &#x27;PlateletCount&#x27;, &#x27;Lymphocyte&#x27;, &#x27;Monocyte&#x27;, &#x27;Eosinophil&#x27;, &#x27;Hypersensitivity&#x27;, &#x27;Chest pain type&#x27;, &#x27;Resting BP&#x27;, &#x27;Serum cholesterol&#x27;, &#x27;FBS&#x27;, &#x27;Resting electrocardiographic&#x27;, &#x27;Max heart rate&#x27;, &#x27;Angina&#x27;, &#x27;ST depression&#x27;, &#x27;Slope&#x27;, &#x27;Vessels num&#x27;, &#x27;Thal&#x27;, &#x27;Num&#x27;, &#x27;Streptokinase&#x27;, &#x27;Follow up&#x27;, &#x27;Gender-male&#x27;, &#x27;Locality-urban&#x27;]</pre></div></div></div><div class=\"sk-serial\"><div class=\"sk-item\"><div class=\"sk-estimator sk-toggleable\"><input class=\"sk-toggleable__control sk-hidden--visually\" id=\"sk-estimator-id-105\" type=\"checkbox\" ><label for=\"sk-estimator-id-105\" class=\"sk-toggleable__label sk-toggleable__label-arrow\">StandardScaler</label><div class=\"sk-toggleable__content\"><pre>StandardScaler()</pre></div></div></div></div></div></div><div class=\"sk-parallel-item\"><div class=\"sk-item\"><div class=\"sk-label-container\"><div class=\"sk-label sk-toggleable\"><input class=\"sk-toggleable__control sk-hidden--visually\" id=\"sk-estimator-id-106\" type=\"checkbox\" ><label for=\"sk-estimator-id-106\" class=\"sk-toggleable__label sk-toggleable__label-arrow\">remainder</label><div class=\"sk-toggleable__content\"><pre>[]</pre></div></div></div><div class=\"sk-serial\"><div class=\"sk-item\"><div class=\"sk-estimator sk-toggleable\"><input class=\"sk-toggleable__control sk-hidden--visually\" id=\"sk-estimator-id-107\" type=\"checkbox\" ><label for=\"sk-estimator-id-107\" class=\"sk-toggleable__label sk-toggleable__label-arrow\">passthrough</label><div class=\"sk-toggleable__content\"><pre>passthrough</pre></div></div></div></div></div></div></div></div><div class=\"sk-item\"><div class=\"sk-estimator sk-toggleable\"><input class=\"sk-toggleable__control sk-hidden--visually\" id=\"sk-estimator-id-108\" type=\"checkbox\" ><label for=\"sk-estimator-id-108\" class=\"sk-toggleable__label sk-toggleable__label-arrow\">LogisticRegression</label><div class=\"sk-toggleable__content\"><pre>LogisticRegression()</pre></div></div></div></div></div></div></div>"
     },
     "execution_count": 96,
     "metadata": {},
     "output_type": "execute_result"
    }
   ],
   "source": [
    "pipe_lr.fit(x_train,y_train)"
   ]
  },
  {
   "cell_type": "markdown",
   "metadata": {},
   "source": [
    "#### Cross-validation\n",
    "Cross-validation is a resampling method that uses different portions of the data to test and train a model on different iterations. It is mainly used in settings where the goal is prediction, and one wants to estimate how accurately a predictive model will perform in practice.\n",
    "The simplest way to use cross-validation is to call the cross_val_score helper function on the estimator and the dataset.\n"
   ]
  },
  {
   "cell_type": "code",
   "execution_count": 97,
   "metadata": {},
   "outputs": [
    {
     "name": "stdout",
     "output_type": "stream",
     "text": [
      "[0.84782609 0.86956522 0.93478261 0.88043478]\n",
      "The mean of the folds are 0.8831521739130436 and the standard deviation is 0.03203757098519457\n"
     ]
    }
   ],
   "source": [
    "Rcross = cross_val_score(pipe_lr, x, y, cv=4)\n",
    "print(Rcross)\n",
    "print(\"The mean of the folds are\", Rcross.mean(), \"and the standard deviation is\" , Rcross.std())"
   ]
  },
  {
   "cell_type": "markdown",
   "metadata": {},
   "source": [
    "Let's use `cros_val_predict` to generate cross-validated estimates for each input data point.\n"
   ]
  },
  {
   "cell_type": "code",
   "execution_count": 98,
   "metadata": {},
   "outputs": [
    {
     "data": {
      "text/plain": "array([1, 0, 1, 1, 0], dtype=int64)"
     },
     "execution_count": 98,
     "metadata": {},
     "output_type": "execute_result"
    }
   ],
   "source": [
    "yhat = cross_val_predict(pipe_lr, x, y,cv=4)\n",
    "yhat[0:5]"
   ]
  },
  {
   "cell_type": "markdown",
   "metadata": {},
   "source": [
    "#### Accuracy\n",
    "Let's calculate accuracy of this pipeline.\n"
   ]
  },
  {
   "cell_type": "code",
   "execution_count": 99,
   "metadata": {},
   "outputs": [
    {
     "name": "stdout",
     "output_type": "stream",
     "text": [
      "Training DataSet accuracy:  91.1% Test DataSet accuracy:  91.0%\n"
     ]
    }
   ],
   "source": [
    "scores_train = pipe_lr.score(x_train, y_train)\n",
    "scores_test = pipe_lr.score(x_test, y_test)\n",
    "print('Training DataSet accuracy: {: .1%}'.format(scores_train), 'Test DataSet accuracy: {: .1%}'.format(scores_test))"
   ]
  },
  {
   "cell_type": "markdown",
   "metadata": {},
   "source": [
    "Let's evaluate the correctness of the classification with: **[sklearn.metrics.plot_confusion_matrix()](https://scikit-learn.org/stable/modules/generated/sklearn.metrics.plot_confusion_matrix.html?utm_medium=Exinfluencer&utm_source=Exinfluencer&utm_content=000026UJ&utm_term=10006555&utm_id=NA-SkillsNetwork-Channel-SkillsNetworkGuidedProjectsIBMSkillsNetworkGPXX05QLEN2531-2023-01-01)** and convince of these conclusions.\n"
   ]
  },
  {
   "cell_type": "code",
   "execution_count": 100,
   "metadata": {},
   "outputs": [
    {
     "data": {
      "text/plain": "<Figure size 432x288 with 2 Axes>",
      "image/png": "[encoded data removed]"
     },
     "metadata": {
      "needs_background": "light"
     },
     "output_type": "display_data"
    }
   ],
   "source": [
    "plot_confusion_matrix(pipe_lr, x_test, y_test, cmap=plt.cm.Blues_r)\n",
    "\n",
    "plt.show() "
   ]
  },
  {
   "cell_type": "markdown",
   "metadata": {},
   "source": [
    "As you can see from the table, our model predicts patient's mortality very well. At the same time, errors in the classification of patients are also not too big. The correct forecast is 101 patients. In 8 cases when the patient actually died of heart failure, the model shows that the patient will survive. Conversely, in the 2 cases, our model predicts that the patient will die of heart failure, but in fact he will survive. That is, the error is great for those patient who really has a risk to die.\n",
    "\n",
    "The `Recall` metric is used to assess the accuracy of only purchased goods: **[sklearn.metrics.recall_score()](https://scikit-learn.org/stable/modules/generated/sklearn.metrics.recall_score.html?utm_medium=Exinfluencer&utm_source=Exinfluencer&utm_content=000026UJ&utm_term=10006555&utm_id=NA-SkillsNetwork-Channel-SkillsNetworkGuidedProjectsIBMSkillsNetworkGPXX05QLEN2531-2023-01-01)**\n"
   ]
  },
  {
   "cell_type": "code",
   "execution_count": 101,
   "metadata": {},
   "outputs": [
    {
     "name": "stdout",
     "output_type": "stream",
     "text": [
      "Training DataSet accuracy:  70.6% Test DataSet accuracy:  72.4%\n"
     ]
    }
   ],
   "source": [
    "scores_train = recall_score(y_train, pipe_lr.predict(x_train))\n",
    "scores_test = recall_score(y_test, pipe_lr.predict(x_test))\n",
    "print('Training DataSet accuracy: {: .1%}'.format(scores_train), 'Test DataSet accuracy: {: .1%}'.format(scores_test))"
   ]
  },
  {
   "cell_type": "markdown",
   "metadata": {},
   "source": [
    "As can be seen from this metric, the accuracy is lower. Moreover, the accuracy of the training and test data are approximately the same. This means that in order to increase this metric of accuracy, it is necessary to increase the training sample. Let's analyze it.\n"
   ]
  },
  {
   "cell_type": "markdown",
   "metadata": {},
   "source": [
    "### Over-sampling problem\n"
   ]
  },
  {
   "cell_type": "markdown",
   "metadata": {},
   "source": [
    "Let's analyze our target column `Mortality` (**[seaborn.countplot()](https://seaborn.pydata.org/generated/seaborn.countplot.html?utm_medium=Exinfluencer&utm_source=Exinfluencer&utm_content=000026UJ&utm_term=10006555&utm_id=NA-SkillsNetwork-Channel-SkillsNetworkGuidedProjectsIBMSkillsNetworkGPXX05QLEN2531-2023-01-01)**):\n"
   ]
  },
  {
   "cell_type": "code",
   "execution_count": 102,
   "metadata": {},
   "outputs": [
    {
     "data": {
      "text/plain": "<AxesSubplot: xlabel='Mortality', ylabel='count'>"
     },
     "execution_count": 102,
     "metadata": {},
     "output_type": "execute_result"
    },
    {
     "data": {
      "text/plain": "<Figure size 432x288 with 1 Axes>",
      "image/png": "[encoded data removed]"
     },
     "metadata": {
      "needs_background": "light"
     },
     "output_type": "display_data"
    }
   ],
   "source": [
    "sns.countplot(x = y)"
   ]
  },
  {
   "cell_type": "markdown",
   "metadata": {},
   "source": [
    "As you can see, the number of cases, when the patients survive is much greater than the number of deaths. To balance the data set, we can use a special function: **[imblearn.over_sampling.RandomOverSampler()](https://imbalanced-learn.org/stable/references/generated/imblearn.over_sampling.RandomOverSampler.html?utm_medium=Exinfluencer&utm_source=Exinfluencer&utm_content=000026UJ&utm_term=10006555&utm_id=NA-SkillsNetwork-Channel-SkillsNetworkGuidedProjectsIBMSkillsNetworkGPXX05QLEN2531-2023-01-01)**:\n"
   ]
  },
  {
   "cell_type": "code",
   "execution_count": 103,
   "metadata": {},
   "outputs": [
    {
     "data": {
      "text/plain": "<AxesSubplot: xlabel='Mortality', ylabel='count'>"
     },
     "execution_count": 103,
     "metadata": {},
     "output_type": "execute_result"
    },
    {
     "data": {
      "text/plain": "<Figure size 432x288 with 1 Axes>",
      "image/png": "[encoded data removed]"
     },
     "metadata": {
      "needs_background": "light"
     },
     "output_type": "display_data"
    }
   ],
   "source": [
    "ROS = RandomOverSampler()\n",
    "o_x, o_y = ROS.fit_resample(x,y)\n",
    "sns.countplot(x = o_y)"
   ]
  },
  {
   "cell_type": "markdown",
   "metadata": {},
   "source": [
    "Now, as we can see, these numbers are equal. Let's add this function to our `Pipeline`, fit the model and recalculate the accuracy.\n"
   ]
  },
  {
   "cell_type": "code",
   "execution_count": 104,
   "metadata": {},
   "outputs": [
    {
     "data": {
      "text/plain": "Pipeline(steps=[('columntransformer',\n                 ColumnTransformer(remainder='passthrough',\n                                   transformers=[('ordinalencoder',\n                                                  OrdinalEncoder(handle_unknown='use_encoded_value',\n                                                                 unknown_value=-1),\n                                                  ['Age Group',\n                                                   'Marital Status', 'Category',\n                                                   'Others', 'Diagnosis',\n                                                   'SK React',\n                                                   'Max heart rate-binned']),\n                                                 ('standardscaler',\n                                                  StandardScaler(),\n                                                  ['Lifestyle', 'Sleep',\n                                                   'Depression',\n                                                   'Hyperli...\n                                                   'Allergies', 'BP',\n                                                   'Thrombolysis', 'BGR', 'CPK',\n                                                   'ESR', 'WBC', 'RBC',\n                                                   'Hemoglobin', 'MCH', 'MCHC',\n                                                   'PlateletCount',\n                                                   'Lymphocyte', 'Monocyte',\n                                                   'Eosinophil',\n                                                   'Hypersensitivity',\n                                                   'Chest pain type',\n                                                   'Resting BP',\n                                                   'Serum cholesterol', 'FBS',\n                                                   'Resting '\n                                                   'electrocardiographic',\n                                                   'Max heart rate', 'Angina', ...])])),\n                ('randomoversampler', RandomOverSampler()),\n                ('logisticregression', LogisticRegression())])",
      "text/html": "<style>#sk-container-id-11 {color: black;background-color: white;}#sk-container-id-11 pre{padding: 0;}#sk-container-id-11 div.sk-toggleable {background-color: white;}#sk-container-id-11 label.sk-toggleable__label {cursor: pointer;display: block;width: 100%;margin-bottom: 0;padding: 0.3em;box-sizing: border-box;text-align: center;}#sk-container-id-11 label.sk-toggleable__label-arrow:before {content: \"▸\";float: left;margin-right: 0.25em;color: #696969;}#sk-container-id-11 label.sk-toggleable__label-arrow:hover:before {color: black;}#sk-container-id-11 div.sk-estimator:hover label.sk-toggleable__label-arrow:before {color: black;}#sk-container-id-11 div.sk-toggleable__content {max-height: 0;max-width: 0;overflow: hidden;text-align: left;background-color: #f0f8ff;}#sk-container-id-11 div.sk-toggleable__content pre {margin: 0.2em;color: black;border-radius: 0.25em;background-color: #f0f8ff;}#sk-container-id-11 input.sk-toggleable__control:checked~div.sk-toggleable__content {max-height: 200px;max-width: 100%;overflow: auto;}#sk-container-id-11 input.sk-toggleable__control:checked~label.sk-toggleable__label-arrow:before {content: \"▾\";}#sk-container-id-11 div.sk-estimator input.sk-toggleable__control:checked~label.sk-toggleable__label {background-color: #d4ebff;}#sk-container-id-11 div.sk-label input.sk-toggleable__control:checked~label.sk-toggleable__label {background-color: #d4ebff;}#sk-container-id-11 input.sk-hidden--visually {border: 0;clip: rect(1px 1px 1px 1px);clip: rect(1px, 1px, 1px, 1px);height: 1px;margin: -1px;overflow: hidden;padding: 0;position: absolute;width: 1px;}#sk-container-id-11 div.sk-estimator {font-family: monospace;background-color: #f0f8ff;border: 1px dotted black;border-radius: 0.25em;box-sizing: border-box;margin-bottom: 0.5em;}#sk-container-id-11 div.sk-estimator:hover {background-color: #d4ebff;}#sk-container-id-11 div.sk-parallel-item::after {content: \"\";width: 100%;border-bottom: 1px solid gray;flex-grow: 1;}#sk-container-id-11 div.sk-label:hover label.sk-toggleable__label {background-color: #d4ebff;}#sk-container-id-11 div.sk-serial::before {content: \"\";position: absolute;border-left: 1px solid gray;box-sizing: border-box;top: 0;bottom: 0;left: 50%;z-index: 0;}#sk-container-id-11 div.sk-serial {display: flex;flex-direction: column;align-items: center;background-color: white;padding-right: 0.2em;padding-left: 0.2em;position: relative;}#sk-container-id-11 div.sk-item {position: relative;z-index: 1;}#sk-container-id-11 div.sk-parallel {display: flex;align-items: stretch;justify-content: center;background-color: white;position: relative;}#sk-container-id-11 div.sk-item::before, #sk-container-id-11 div.sk-parallel-item::before {content: \"\";position: absolute;border-left: 1px solid gray;box-sizing: border-box;top: 0;bottom: 0;left: 50%;z-index: -1;}#sk-container-id-11 div.sk-parallel-item {display: flex;flex-direction: column;z-index: 1;position: relative;background-color: white;}#sk-container-id-11 div.sk-parallel-item:first-child::after {align-self: flex-end;width: 50%;}#sk-container-id-11 div.sk-parallel-item:last-child::after {align-self: flex-start;width: 50%;}#sk-container-id-11 div.sk-parallel-item:only-child::after {width: 0;}#sk-container-id-11 div.sk-dashed-wrapped {border: 1px dashed gray;margin: 0 0.4em 0.5em 0.4em;box-sizing: border-box;padding-bottom: 0.4em;background-color: white;}#sk-container-id-11 div.sk-label label {font-family: monospace;font-weight: bold;display: inline-block;line-height: 1.2em;}#sk-container-id-11 div.sk-label-container {text-align: center;}#sk-container-id-11 div.sk-container {/* jupyter's `normalize.less` sets `[hidden] { display: none; }` but bootstrap.min.css set `[hidden] { display: none !important; }` so we also need the `!important` here to be able to override the default hidden behavior on the sphinx rendered scikit-learn.org. See: https://github.com/scikit-learn/scikit-learn/issues/21755 */display: inline-block !important;position: relative;}#sk-container-id-11 div.sk-text-repr-fallback {display: none;}</style><div id=\"sk-container-id-11\" class=\"sk-top-container\"><div class=\"sk-text-repr-fallback\"><pre>Pipeline(steps=[(&#x27;columntransformer&#x27;,\n                 ColumnTransformer(remainder=&#x27;passthrough&#x27;,\n                                   transformers=[(&#x27;ordinalencoder&#x27;,\n                                                  OrdinalEncoder(handle_unknown=&#x27;use_encoded_value&#x27;,\n                                                                 unknown_value=-1),\n                                                  [&#x27;Age Group&#x27;,\n                                                   &#x27;Marital Status&#x27;, &#x27;Category&#x27;,\n                                                   &#x27;Others&#x27;, &#x27;Diagnosis&#x27;,\n                                                   &#x27;SK React&#x27;,\n                                                   &#x27;Max heart rate-binned&#x27;]),\n                                                 (&#x27;standardscaler&#x27;,\n                                                  StandardScaler(),\n                                                  [&#x27;Lifestyle&#x27;, &#x27;Sleep&#x27;,\n                                                   &#x27;Depression&#x27;,\n                                                   &#x27;Hyperli...\n                                                   &#x27;Allergies&#x27;, &#x27;BP&#x27;,\n                                                   &#x27;Thrombolysis&#x27;, &#x27;BGR&#x27;, &#x27;CPK&#x27;,\n                                                   &#x27;ESR&#x27;, &#x27;WBC&#x27;, &#x27;RBC&#x27;,\n                                                   &#x27;Hemoglobin&#x27;, &#x27;MCH&#x27;, &#x27;MCHC&#x27;,\n                                                   &#x27;PlateletCount&#x27;,\n                                                   &#x27;Lymphocyte&#x27;, &#x27;Monocyte&#x27;,\n                                                   &#x27;Eosinophil&#x27;,\n                                                   &#x27;Hypersensitivity&#x27;,\n                                                   &#x27;Chest pain type&#x27;,\n                                                   &#x27;Resting BP&#x27;,\n                                                   &#x27;Serum cholesterol&#x27;, &#x27;FBS&#x27;,\n                                                   &#x27;Resting &#x27;\n                                                   &#x27;electrocardiographic&#x27;,\n                                                   &#x27;Max heart rate&#x27;, &#x27;Angina&#x27;, ...])])),\n                (&#x27;randomoversampler&#x27;, RandomOverSampler()),\n                (&#x27;logisticregression&#x27;, LogisticRegression())])</pre><b>In a Jupyter environment, please rerun this cell to show the HTML representation or trust the notebook. <br />On GitHub, the HTML representation is unable to render, please try loading this page with nbviewer.org.</b></div><div class=\"sk-container\" hidden><div class=\"sk-item sk-dashed-wrapped\"><div class=\"sk-label-container\"><div class=\"sk-label sk-toggleable\"><input class=\"sk-toggleable__control sk-hidden--visually\" id=\"sk-estimator-id-109\" type=\"checkbox\" ><label for=\"sk-estimator-id-109\" class=\"sk-toggleable__label sk-toggleable__label-arrow\">Pipeline</label><div class=\"sk-toggleable__content\"><pre>Pipeline(steps=[(&#x27;columntransformer&#x27;,\n                 ColumnTransformer(remainder=&#x27;passthrough&#x27;,\n                                   transformers=[(&#x27;ordinalencoder&#x27;,\n                                                  OrdinalEncoder(handle_unknown=&#x27;use_encoded_value&#x27;,\n                                                                 unknown_value=-1),\n                                                  [&#x27;Age Group&#x27;,\n                                                   &#x27;Marital Status&#x27;, &#x27;Category&#x27;,\n                                                   &#x27;Others&#x27;, &#x27;Diagnosis&#x27;,\n                                                   &#x27;SK React&#x27;,\n                                                   &#x27;Max heart rate-binned&#x27;]),\n                                                 (&#x27;standardscaler&#x27;,\n                                                  StandardScaler(),\n                                                  [&#x27;Lifestyle&#x27;, &#x27;Sleep&#x27;,\n                                                   &#x27;Depression&#x27;,\n                                                   &#x27;Hyperli...\n                                                   &#x27;Allergies&#x27;, &#x27;BP&#x27;,\n                                                   &#x27;Thrombolysis&#x27;, &#x27;BGR&#x27;, &#x27;CPK&#x27;,\n                                                   &#x27;ESR&#x27;, &#x27;WBC&#x27;, &#x27;RBC&#x27;,\n                                                   &#x27;Hemoglobin&#x27;, &#x27;MCH&#x27;, &#x27;MCHC&#x27;,\n                                                   &#x27;PlateletCount&#x27;,\n                                                   &#x27;Lymphocyte&#x27;, &#x27;Monocyte&#x27;,\n                                                   &#x27;Eosinophil&#x27;,\n                                                   &#x27;Hypersensitivity&#x27;,\n                                                   &#x27;Chest pain type&#x27;,\n                                                   &#x27;Resting BP&#x27;,\n                                                   &#x27;Serum cholesterol&#x27;, &#x27;FBS&#x27;,\n                                                   &#x27;Resting &#x27;\n                                                   &#x27;electrocardiographic&#x27;,\n                                                   &#x27;Max heart rate&#x27;, &#x27;Angina&#x27;, ...])])),\n                (&#x27;randomoversampler&#x27;, RandomOverSampler()),\n                (&#x27;logisticregression&#x27;, LogisticRegression())])</pre></div></div></div><div class=\"sk-serial\"><div class=\"sk-item sk-dashed-wrapped\"><div class=\"sk-label-container\"><div class=\"sk-label sk-toggleable\"><input class=\"sk-toggleable__control sk-hidden--visually\" id=\"sk-estimator-id-110\" type=\"checkbox\" ><label for=\"sk-estimator-id-110\" class=\"sk-toggleable__label sk-toggleable__label-arrow\">columntransformer: ColumnTransformer</label><div class=\"sk-toggleable__content\"><pre>ColumnTransformer(remainder=&#x27;passthrough&#x27;,\n                  transformers=[(&#x27;ordinalencoder&#x27;,\n                                 OrdinalEncoder(handle_unknown=&#x27;use_encoded_value&#x27;,\n                                                unknown_value=-1),\n                                 [&#x27;Age Group&#x27;, &#x27;Marital Status&#x27;, &#x27;Category&#x27;,\n                                  &#x27;Others&#x27;, &#x27;Diagnosis&#x27;, &#x27;SK React&#x27;,\n                                  &#x27;Max heart rate-binned&#x27;]),\n                                (&#x27;standardscaler&#x27;, StandardScaler(),\n                                 [&#x27;Lifestyle&#x27;, &#x27;Sleep&#x27;, &#x27;Depression&#x27;,\n                                  &#x27;Hyperlipidemia&#x27;, &#x27;Smoking&#x27;, &#x27;Diabetes&#x27;,\n                                  &#x27;HTN&#x27;, &#x27;Allergies&#x27;, &#x27;BP&#x27;, &#x27;Thrombolysis&#x27;,\n                                  &#x27;BGR&#x27;, &#x27;CPK&#x27;, &#x27;ESR&#x27;, &#x27;WBC&#x27;, &#x27;RBC&#x27;,\n                                  &#x27;Hemoglobin&#x27;, &#x27;MCH&#x27;, &#x27;MCHC&#x27;, &#x27;PlateletCount&#x27;,\n                                  &#x27;Lymphocyte&#x27;, &#x27;Monocyte&#x27;, &#x27;Eosinophil&#x27;,\n                                  &#x27;Hypersensitivity&#x27;, &#x27;Chest pain type&#x27;,\n                                  &#x27;Resting BP&#x27;, &#x27;Serum cholesterol&#x27;, &#x27;FBS&#x27;,\n                                  &#x27;Resting electrocardiographic&#x27;,\n                                  &#x27;Max heart rate&#x27;, &#x27;Angina&#x27;, ...])])</pre></div></div></div><div class=\"sk-parallel\"><div class=\"sk-parallel-item\"><div class=\"sk-item\"><div class=\"sk-label-container\"><div class=\"sk-label sk-toggleable\"><input class=\"sk-toggleable__control sk-hidden--visually\" id=\"sk-estimator-id-111\" type=\"checkbox\" ><label for=\"sk-estimator-id-111\" class=\"sk-toggleable__label sk-toggleable__label-arrow\">ordinalencoder</label><div class=\"sk-toggleable__content\"><pre>[&#x27;Age Group&#x27;, &#x27;Marital Status&#x27;, &#x27;Category&#x27;, &#x27;Others&#x27;, &#x27;Diagnosis&#x27;, &#x27;SK React&#x27;, &#x27;Max heart rate-binned&#x27;]</pre></div></div></div><div class=\"sk-serial\"><div class=\"sk-item\"><div class=\"sk-estimator sk-toggleable\"><input class=\"sk-toggleable__control sk-hidden--visually\" id=\"sk-estimator-id-112\" type=\"checkbox\" ><label for=\"sk-estimator-id-112\" class=\"sk-toggleable__label sk-toggleable__label-arrow\">OrdinalEncoder</label><div class=\"sk-toggleable__content\"><pre>OrdinalEncoder(handle_unknown=&#x27;use_encoded_value&#x27;, unknown_value=-1)</pre></div></div></div></div></div></div><div class=\"sk-parallel-item\"><div class=\"sk-item\"><div class=\"sk-label-container\"><div class=\"sk-label sk-toggleable\"><input class=\"sk-toggleable__control sk-hidden--visually\" id=\"sk-estimator-id-113\" type=\"checkbox\" ><label for=\"sk-estimator-id-113\" class=\"sk-toggleable__label sk-toggleable__label-arrow\">standardscaler</label><div class=\"sk-toggleable__content\"><pre>[&#x27;Lifestyle&#x27;, &#x27;Sleep&#x27;, &#x27;Depression&#x27;, &#x27;Hyperlipidemia&#x27;, &#x27;Smoking&#x27;, &#x27;Diabetes&#x27;, &#x27;HTN&#x27;, &#x27;Allergies&#x27;, &#x27;BP&#x27;, &#x27;Thrombolysis&#x27;, &#x27;BGR&#x27;, &#x27;CPK&#x27;, &#x27;ESR&#x27;, &#x27;WBC&#x27;, &#x27;RBC&#x27;, &#x27;Hemoglobin&#x27;, &#x27;MCH&#x27;, &#x27;MCHC&#x27;, &#x27;PlateletCount&#x27;, &#x27;Lymphocyte&#x27;, &#x27;Monocyte&#x27;, &#x27;Eosinophil&#x27;, &#x27;Hypersensitivity&#x27;, &#x27;Chest pain type&#x27;, &#x27;Resting BP&#x27;, &#x27;Serum cholesterol&#x27;, &#x27;FBS&#x27;, &#x27;Resting electrocardiographic&#x27;, &#x27;Max heart rate&#x27;, &#x27;Angina&#x27;, &#x27;ST depression&#x27;, &#x27;Slope&#x27;, &#x27;Vessels num&#x27;, &#x27;Thal&#x27;, &#x27;Num&#x27;, &#x27;Streptokinase&#x27;, &#x27;Follow up&#x27;, &#x27;Gender-male&#x27;, &#x27;Locality-urban&#x27;]</pre></div></div></div><div class=\"sk-serial\"><div class=\"sk-item\"><div class=\"sk-estimator sk-toggleable\"><input class=\"sk-toggleable__control sk-hidden--visually\" id=\"sk-estimator-id-114\" type=\"checkbox\" ><label for=\"sk-estimator-id-114\" class=\"sk-toggleable__label sk-toggleable__label-arrow\">StandardScaler</label><div class=\"sk-toggleable__content\"><pre>StandardScaler()</pre></div></div></div></div></div></div><div class=\"sk-parallel-item\"><div class=\"sk-item\"><div class=\"sk-label-container\"><div class=\"sk-label sk-toggleable\"><input class=\"sk-toggleable__control sk-hidden--visually\" id=\"sk-estimator-id-115\" type=\"checkbox\" ><label for=\"sk-estimator-id-115\" class=\"sk-toggleable__label sk-toggleable__label-arrow\">remainder</label><div class=\"sk-toggleable__content\"><pre>[]</pre></div></div></div><div class=\"sk-serial\"><div class=\"sk-item\"><div class=\"sk-estimator sk-toggleable\"><input class=\"sk-toggleable__control sk-hidden--visually\" id=\"sk-estimator-id-116\" type=\"checkbox\" ><label for=\"sk-estimator-id-116\" class=\"sk-toggleable__label sk-toggleable__label-arrow\">passthrough</label><div class=\"sk-toggleable__content\"><pre>passthrough</pre></div></div></div></div></div></div></div></div><div class=\"sk-item\"><div class=\"sk-estimator sk-toggleable\"><input class=\"sk-toggleable__control sk-hidden--visually\" id=\"sk-estimator-id-117\" type=\"checkbox\" ><label for=\"sk-estimator-id-117\" class=\"sk-toggleable__label sk-toggleable__label-arrow\">RandomOverSampler</label><div class=\"sk-toggleable__content\"><pre>RandomOverSampler()</pre></div></div></div><div class=\"sk-item\"><div class=\"sk-estimator sk-toggleable\"><input class=\"sk-toggleable__control sk-hidden--visually\" id=\"sk-estimator-id-118\" type=\"checkbox\" ><label for=\"sk-estimator-id-118\" class=\"sk-toggleable__label sk-toggleable__label-arrow\">LogisticRegression</label><div class=\"sk-toggleable__content\"><pre>LogisticRegression()</pre></div></div></div></div></div></div></div>"
     },
     "execution_count": 104,
     "metadata": {},
     "output_type": "execute_result"
    }
   ],
   "source": [
    "pipe_s_lr = make_pipeline(trans, ROS, lr)\n",
    "pipe_s_lr"
   ]
  },
  {
   "cell_type": "code",
   "execution_count": 105,
   "metadata": {},
   "outputs": [
    {
     "name": "stdout",
     "output_type": "stream",
     "text": [
      "Training DataSet accuracy:  100.0% Test DataSet accuracy:  100.0%\n"
     ]
    }
   ],
   "source": [
    "pipe_s_lr.fit(x_train,y_train)\n",
    "scores_train = recall_score(y_train, pipe_s_lr.predict(x_train))\n",
    "scores_test = recall_score(y_test, pipe_s_lr.predict(x_test))\n",
    "print('Training DataSet accuracy: {: .1%}'.format(scores_train), 'Test DataSet accuracy: {: .1%}'.format(scores_test))"
   ]
  },
  {
   "cell_type": "markdown",
   "metadata": {},
   "source": [
    "As you can see, balancing the dataset has led to a sharp increase in the accuracy of the `Recall` metric.\n",
    "\n",
    "Let's analyze the errors of the model.\n"
   ]
  },
  {
   "cell_type": "code",
   "execution_count": 106,
   "metadata": {},
   "outputs": [
    {
     "data": {
      "text/plain": "<Figure size 432x288 with 2 Axes>",
      "image/png": "[encoded data removed]"
     },
     "metadata": {
      "needs_background": "light"
     },
     "output_type": "display_data"
    }
   ],
   "source": [
    "plot_confusion_matrix(pipe_s_lr, x_test, y_test, cmap=plt.cm.Blues_r)\n",
    "plt.show() "
   ]
  },
  {
   "cell_type": "markdown",
   "metadata": {},
   "source": [
    "As can be seen, the number of erroneous predictions about the patient, who will die, has decreased significantly. However, the error is high when the model predicts mortality rate of patients, who survived. The metric `Precision` is used to assess this accuracy.\n",
    "\n",
    "To further increase the `Recall` metric, it is necessary to change the model, because the accuracy of logistic regression on unknown data is about the same as on known data, and therefore it can no longer fit better.\n"
   ]
  },
  {
   "cell_type": "markdown",
   "metadata": {},
   "source": [
    "Let's calculate `cross_val_score` and `cross_val_predict` for new pipeline.\n"
   ]
  },
  {
   "cell_type": "code",
   "execution_count": 107,
   "metadata": {},
   "outputs": [
    {
     "name": "stdout",
     "output_type": "stream",
     "text": [
      "[0.79347826 0.86956522 0.83695652 0.83695652]\n",
      "The mean of the folds are 0.8342391304347826 and the standard deviation is 0.027037702095288593\n"
     ]
    },
    {
     "data": {
      "text/plain": "array([1, 0, 1, 1, 0], dtype=int64)"
     },
     "execution_count": 107,
     "metadata": {},
     "output_type": "execute_result"
    }
   ],
   "source": [
    "Rcross = cross_val_score(pipe_s_lr, x, y, cv=4)\n",
    "print(Rcross)\n",
    "print(\"The mean of the folds are\", Rcross.mean(), \"and the standard deviation is\" , Rcross.std())\n",
    "yhat = cross_val_predict(pipe_s_lr, x, y,cv=4)\n",
    "yhat[0:5]"
   ]
  },
  {
   "cell_type": "markdown",
   "metadata": {},
   "source": [
    "### Ensemble of classifiers\n"
   ]
  },
  {
   "cell_type": "markdown",
   "metadata": {},
   "source": [
    "Let's test other classifiers and compare the results.\n",
    "We will test:\n",
    "* [Logistic Regression](https://scikit-learn.org/stable/modules/generated/sklearn.linear_model.LogisticRegression.html?utm_medium=Exinfluencer&utm_source=Exinfluencer&utm_content=000026UJ&utm_term=10006555&utm_id=NA-SkillsNetwork-Channel-SkillsNetworkGuidedProjectsIBMSkillsNetworkGPXX05QLEN2531-2023-01-01&highlight=logistic+regression#sklearn.linear_model.LogisticRegression)\n",
    "* [Linear SVM](https://scikit-learn.org/stable/modules/generated/sklearn.svm.LinearSVR.html?utm_medium=Exinfluencer&utm_source=Exinfluencer&utm_content=000026UJ&utm_term=10006555&utm_id=NA-SkillsNetwork-Channel-SkillsNetworkGuidedProjectsIBMSkillsNetworkGPXX05QLEN2531-2023-01-01&highlight=linear+svm#sklearn.svm.LinearSVR)\n",
    "* [Decision Tree](https://scikit-learn.org/stable/modules/generated/sklearn.tree.DecisionTreeClassifier.html?utm_medium=Exinfluencer&utm_source=Exinfluencer&utm_content=000026UJ&utm_term=10006555&utm_id=NA-SkillsNetwork-Channel-SkillsNetworkGuidedProjectsIBMSkillsNetworkGPXX05QLEN2531-2023-01-01&highlight=decisiontreeclassifier#sklearn.tree.DecisionTreeClassifier)\n",
    "* [Extra Tree](https://scikit-learn.org/stable/modules/generated/sklearn.tree.ExtraTreeClassifier.html?utm_medium=Exinfluencer&utm_source=Exinfluencer&utm_content=000026UJ&utm_term=10006555&utm_id=NA-SkillsNetwork-Channel-SkillsNetworkGuidedProjectsIBMSkillsNetworkGPXX05QLEN2531-2023-01-01)\n",
    "* [Random Forest](https://scikit-learn.org/stable/modules/generated/sklearn.ensemble.RandomForestClassifier.html?utm_medium=Exinfluencer&utm_source=Exinfluencer&utm_content=000026UJ&utm_term=10006555&utm_id=NA-SkillsNetwork-Channel-SkillsNetworkGuidedProjectsIBMSkillsNetworkGPXX05QLEN2531-2023-01-01&highlight=randomforestclassifier#sklearn.ensemble.RandomForestClassifier)\n",
    "* [Multi-layer Perceptron classifier](https://scikit-learn.org/stable/modules/generated/sklearn.neural_network.MLPClassifier.html?utm_medium=Exinfluencer&utm_source=Exinfluencer&utm_content=000026UJ&utm_term=10006555&utm_id=NA-SkillsNetwork-Channel-SkillsNetworkGuidedProjectsIBMSkillsNetworkGPXX05QLEN2531-2023-01-01&highlight=mlpclassifier#sklearn.neural_network.MLPClassifier)\n",
    "* [Ada Boost](https://scikit-learn.org/stable/modules/generated/sklearn.ensemble.AdaBoostClassifier.html?utm_medium=Exinfluencer&utm_source=Exinfluencer&utm_content=000026UJ&utm_term=10006555&utm_id=NA-SkillsNetwork-Channel-SkillsNetworkGuidedProjectsIBMSkillsNetworkGPXX05QLEN2531-2023-01-01&highlight=adaboostclassifier#sklearn.ensemble.AdaBoostClassifier)\n",
    "* [Gradient Boosting for classification](https://scikit-learn.org/stable/modules/generated/sklearn.ensemble.GradientBoostingClassifier.html?utm_medium=Exinfluencer&utm_source=Exinfluencer&utm_content=000026UJ&utm_term=10006555&utm_id=NA-SkillsNetwork-Channel-SkillsNetworkGuidedProjectsIBMSkillsNetworkGPXX05QLEN2531-2023-01-01)\n",
    "* [Bagging classifier](https://scikit-learn.org/stable/modules/generated/sklearn.ensemble.BaggingClassifier.html?utm_medium=Exinfluencer&utm_source=Exinfluencer&utm_content=000026UJ&utm_term=10006555&utm_id=NA-SkillsNetwork-Channel-SkillsNetworkGuidedProjectsIBMSkillsNetworkGPXX05QLEN2531-2023-01-01)\n"
   ]
  },
  {
   "cell_type": "markdown",
   "metadata": {},
   "source": [
    "In addition, different classifiers may err in different situations. Therefore, to compensate for each other's mistakes, it is necessary to use model ensembles by Voting Classifier.\n",
    "\n",
    "A **[Voting Classifier](https://scikit-learn.org/stable/modules/generated/sklearn.ensemble.VotingClassifier.html?utm_medium=Exinfluencer&utm_source=Exinfluencer&utm_content=000026UJ&utm_term=10006555&utm_id=NA-SkillsNetwork-Channel-SkillsNetworkGuidedProjectsIBMSkillsNetworkGPXX05QLEN2531-2023-01-01)** is a machine learning model that trains on an ensemble of numerous models and predicts an output (class) based on their highest probability of chosen class as the output.\n",
    "It simply aggregates the findings of each classifier passed into Voting Classifier and predicts the output class based on the highest majority of voting. The idea is instead of creating separate dedicated models and finding the accuracy for each them, we create a single model which trains by these models and predicts output based on their combined majority of voting for each output class.\n",
    "\n",
    "Voting Classifier supports two types of votings.\n",
    "\n",
    "**Hard Voting**: In hard voting, the predicted output class is a class with the highest majority of votes i.e the class which had the highest probability of being predicted by each of the classifiers. Suppose three classifiers predicted the output class(A, A, B), so here the majority predicted A as output. Hence A will be the final prediction.\n",
    "\n",
    "\n",
    "**Soft Voting**: In soft voting, the output class is the prediction based on the average of probability given to that class. Suppose given some input to three models, the prediction probability for class A = (0.30, 0.47, 0.53) and B = (0.20, 0.32, 0.40). So the average for class A is 0.4333 and B is 0.3067, the winner is clearly class A because it had the highest probability averaged by each classifier.\n"
   ]
  },
  {
   "cell_type": "code",
   "execution_count": 108,
   "metadata": {},
   "outputs": [
    {
     "name": "stdout",
     "output_type": "stream",
     "text": [
      "Logistic Regression fitting.....\n",
      "Linear SVM fitting.....\n",
      "Decision Tree fitting.....\n",
      "Extra Tree fitting.....\n",
      "Random Forest fitting.....\n",
      "Neural Net fitting.....\n",
      "AdaBoost fitting.....\n",
      "GradientBoostingClassifier fitting.....\n",
      "BaggingClassifier fitting.....\n",
      "VotingClassifier fitting.....\n"
     ]
    }
   ],
   "source": [
    "names = [\"Logistic Regression\", \"Linear SVM\",\n",
    "         \"Decision Tree\", \"Extra Tree\", \"Random Forest\", \"Neural Net\",\n",
    "         \"AdaBoost\", \"GradientBoostingClassifier\", \"BaggingClassifier\", \"VotingClassifier\"]\n",
    "\n",
    "classifiers = [\n",
    "    LogisticRegression(),\n",
    "    SVC(kernel=\"linear\", C=0.025),\n",
    "    DecisionTreeClassifier(max_depth=5),\n",
    "    ExtraTreeClassifier(max_depth=5),\n",
    "    RandomForestClassifier(max_depth=5, n_estimators=10, max_features=1),\n",
    "    MLPClassifier(alpha=1, max_iter=1000),\n",
    "    AdaBoostClassifier(n_estimators=100, random_state=0),\n",
    "    GradientBoostingClassifier(n_estimators=100, learning_rate=1.0, max_depth=1, random_state=0),\n",
    "    BaggingClassifier(base_estimator=SVC(), n_estimators=10, random_state=0)]\n",
    "\n",
    "est = [(str(est), est) for est in classifiers]\n",
    "\n",
    "eclf = [VotingClassifier(\n",
    "     estimators=est,\n",
    "     voting='hard')]\n",
    "classifiers += eclf\n",
    "scores_train = []\n",
    "scores_test = []\n",
    "scores_train_s = []\n",
    "scores_test_s = []\n",
    "\n",
    "for name, classif in zip(names, classifiers):\n",
    "    print(name,'fitting.....')\n",
    "    clf = make_pipeline(trans, classif)\n",
    "    clf.fit(x_train,y_train)\n",
    "    score_train = recall_score(y_train, clf.predict(x_train))\n",
    "    score_test = recall_score(y_test, clf.predict(x_test))    \n",
    "    scores_train.append(score_train)\n",
    "    scores_test.append(score_test)\n",
    "    \n",
    "    clf_s = make_pipeline(trans, ROS, classif)\n",
    "    clf_s.fit(x_train,y_train)\n",
    "    score_train_s = recall_score(y_train, clf_s.predict(x_train))\n",
    "    score_test_s = recall_score(y_test, clf_s.predict(x_test))    \n",
    "    scores_train_s.append(score_train_s)\n",
    "    scores_test_s.append(score_test_s)"
   ]
  },
  {
   "cell_type": "markdown",
   "metadata": {},
   "source": [
    "Let's compare the accuracy of classifiers for balanced and unbalanced data sets.\n"
   ]
  },
  {
   "cell_type": "code",
   "execution_count": 109,
   "metadata": {},
   "outputs": [
    {
     "data": {
      "text/plain": "                            Train  Test  Train Over Sampler  Test Over Sampler\nClassifier accuracy                                                           \nLogistic Regression          0.71  0.72                0.92               0.93\nLinear SVM                   0.39  0.41                0.84               0.86\nDecision Tree                0.92  0.93                1.00               1.00\nExtra Tree                   0.69  0.79                0.80               0.83\nRandom Forest                0.12  0.14                1.00               1.00\nNeural Net                   1.00  1.00                1.00               1.00\nAdaBoost                     1.00  1.00                1.00               1.00\nGradientBoostingClassifier   1.00  1.00                1.00               1.00\nBaggingClassifier            0.00  0.00                0.82               0.83\nVotingClassifier             0.78  0.79                1.00               1.00",
      "text/html": "<div>\n<style scoped>\n    .dataframe tbody tr th:only-of-type {\n        vertical-align: middle;\n    }\n\n    .dataframe tbody tr th {\n        vertical-align: top;\n    }\n\n    .dataframe thead th {\n        text-align: right;\n    }\n</style>\n<table border=\"1\" class=\"dataframe\">\n  <thead>\n    <tr style=\"text-align: right;\">\n      <th></th>\n      <th>Train</th>\n      <th>Test</th>\n      <th>Train Over Sampler</th>\n      <th>Test Over Sampler</th>\n    </tr>\n    <tr>\n      <th>Classifier accuracy</th>\n      <th></th>\n      <th></th>\n      <th></th>\n      <th></th>\n    </tr>\n  </thead>\n  <tbody>\n    <tr>\n      <th>Logistic Regression</th>\n      <td>0.71</td>\n      <td>0.72</td>\n      <td>0.92</td>\n      <td>0.93</td>\n    </tr>\n    <tr>\n      <th>Linear SVM</th>\n      <td>0.39</td>\n      <td>0.41</td>\n      <td>0.84</td>\n      <td>0.86</td>\n    </tr>\n    <tr>\n      <th>Decision Tree</th>\n      <td>0.92</td>\n      <td>0.93</td>\n      <td>1.00</td>\n      <td>1.00</td>\n    </tr>\n    <tr>\n      <th>Extra Tree</th>\n      <td>0.69</td>\n      <td>0.79</td>\n      <td>0.80</td>\n      <td>0.83</td>\n    </tr>\n    <tr>\n      <th>Random Forest</th>\n      <td>0.12</td>\n      <td>0.14</td>\n      <td>1.00</td>\n      <td>1.00</td>\n    </tr>\n    <tr>\n      <th>Neural Net</th>\n      <td>1.00</td>\n      <td>1.00</td>\n      <td>1.00</td>\n      <td>1.00</td>\n    </tr>\n    <tr>\n      <th>AdaBoost</th>\n      <td>1.00</td>\n      <td>1.00</td>\n      <td>1.00</td>\n      <td>1.00</td>\n    </tr>\n    <tr>\n      <th>GradientBoostingClassifier</th>\n      <td>1.00</td>\n      <td>1.00</td>\n      <td>1.00</td>\n      <td>1.00</td>\n    </tr>\n    <tr>\n      <th>BaggingClassifier</th>\n      <td>0.00</td>\n      <td>0.00</td>\n      <td>0.82</td>\n      <td>0.83</td>\n    </tr>\n    <tr>\n      <th>VotingClassifier</th>\n      <td>0.78</td>\n      <td>0.79</td>\n      <td>1.00</td>\n      <td>1.00</td>\n    </tr>\n  </tbody>\n</table>\n</div>"
     },
     "execution_count": 109,
     "metadata": {},
     "output_type": "execute_result"
    }
   ],
   "source": [
    "res = pd.DataFrame(index = names)\n",
    "res['Train'] = np.array(scores_train)\n",
    "res['Test'] = np.array(scores_test)\n",
    "res['Train Over Sampler'] = np.array(scores_train_s)\n",
    "res['Test Over Sampler'] = np.array(scores_test_s)\n",
    "\n",
    "res.index.name = \"Classifier accuracy\"\n",
    "res\n"
   ]
  },
  {
   "cell_type": "code",
   "execution_count": 110,
   "metadata": {},
   "outputs": [
    {
     "data": {
      "text/plain": "<Figure size 720x720 with 1 Axes>",
      "image/png": "[encoded data removed]"
     },
     "metadata": {
      "needs_background": "light"
     },
     "output_type": "display_data"
    }
   ],
   "source": [
    "res[['Test', 'Test Over Sampler']].plot(kind=\"barh\", figsize=(10,10))\n",
    "plt.show()"
   ]
  },
  {
   "cell_type": "markdown",
   "metadata": {},
   "source": [
    "As you can see, the balanced data set leads to a sharp increase in accuracy in all classifiers. It can also be seen that the most accurate models were GradientBoostingClassifier, AdaBoost and Neural Net. The ensemble of models showed perfect accuracy.\n",
    "\n",
    "Let's display the last classifier:\n"
   ]
  },
  {
   "cell_type": "code",
   "execution_count": 111,
   "metadata": {},
   "outputs": [
    {
     "data": {
      "text/plain": "Pipeline(steps=[('columntransformer',\n                 ColumnTransformer(remainder='passthrough',\n                                   transformers=[('ordinalencoder',\n                                                  OrdinalEncoder(handle_unknown='use_encoded_value',\n                                                                 unknown_value=-1),\n                                                  ['Age Group',\n                                                   'Marital Status', 'Category',\n                                                   'Others', 'Diagnosis',\n                                                   'SK React',\n                                                   'Max heart rate-binned']),\n                                                 ('standardscaler',\n                                                  StandardScaler(),\n                                                  ['Lifestyle', 'Sleep',\n                                                   'Depression',\n                                                   'Hyperli...\n                                              ('AdaBoostClassifier(n_estimators=100, '\n                                               'random_state=0)',\n                                               AdaBoostClassifier(n_estimators=100,\n                                                                  random_state=0)),\n                                              ('GradientBoostingClassifier(learning_rate=1.0, '\n                                               'max_depth=1, random_state=0)',\n                                               GradientBoostingClassifier(learning_rate=1.0,\n                                                                          max_depth=1,\n                                                                          random_state=0)),\n                                              ('BaggingClassifier(base_estimator=SVC(), '\n                                               'random_state=0)',\n                                               BaggingClassifier(base_estimator=SVC(),\n                                                                 random_state=0))]))])",
      "text/html": "<style>#sk-container-id-12 {color: black;background-color: white;}#sk-container-id-12 pre{padding: 0;}#sk-container-id-12 div.sk-toggleable {background-color: white;}#sk-container-id-12 label.sk-toggleable__label {cursor: pointer;display: block;width: 100%;margin-bottom: 0;padding: 0.3em;box-sizing: border-box;text-align: center;}#sk-container-id-12 label.sk-toggleable__label-arrow:before {content: \"▸\";float: left;margin-right: 0.25em;color: #696969;}#sk-container-id-12 label.sk-toggleable__label-arrow:hover:before {color: black;}#sk-container-id-12 div.sk-estimator:hover label.sk-toggleable__label-arrow:before {color: black;}#sk-container-id-12 div.sk-toggleable__content {max-height: 0;max-width: 0;overflow: hidden;text-align: left;background-color: #f0f8ff;}#sk-container-id-12 div.sk-toggleable__content pre {margin: 0.2em;color: black;border-radius: 0.25em;background-color: #f0f8ff;}#sk-container-id-12 input.sk-toggleable__control:checked~div.sk-toggleable__content {max-height: 200px;max-width: 100%;overflow: auto;}#sk-container-id-12 input.sk-toggleable__control:checked~label.sk-toggleable__label-arrow:before {content: \"▾\";}#sk-container-id-12 div.sk-estimator input.sk-toggleable__control:checked~label.sk-toggleable__label {background-color: #d4ebff;}#sk-container-id-12 div.sk-label input.sk-toggleable__control:checked~label.sk-toggleable__label {background-color: #d4ebff;}#sk-container-id-12 input.sk-hidden--visually {border: 0;clip: rect(1px 1px 1px 1px);clip: rect(1px, 1px, 1px, 1px);height: 1px;margin: -1px;overflow: hidden;padding: 0;position: absolute;width: 1px;}#sk-container-id-12 div.sk-estimator {font-family: monospace;background-color: #f0f8ff;border: 1px dotted black;border-radius: 0.25em;box-sizing: border-box;margin-bottom: 0.5em;}#sk-container-id-12 div.sk-estimator:hover {background-color: #d4ebff;}#sk-container-id-12 div.sk-parallel-item::after {content: \"\";width: 100%;border-bottom: 1px solid gray;flex-grow: 1;}#sk-container-id-12 div.sk-label:hover label.sk-toggleable__label {background-color: #d4ebff;}#sk-container-id-12 div.sk-serial::before {content: \"\";position: absolute;border-left: 1px solid gray;box-sizing: border-box;top: 0;bottom: 0;left: 50%;z-index: 0;}#sk-container-id-12 div.sk-serial {display: flex;flex-direction: column;align-items: center;background-color: white;padding-right: 0.2em;padding-left: 0.2em;position: relative;}#sk-container-id-12 div.sk-item {position: relative;z-index: 1;}#sk-container-id-12 div.sk-parallel {display: flex;align-items: stretch;justify-content: center;background-color: white;position: relative;}#sk-container-id-12 div.sk-item::before, #sk-container-id-12 div.sk-parallel-item::before {content: \"\";position: absolute;border-left: 1px solid gray;box-sizing: border-box;top: 0;bottom: 0;left: 50%;z-index: -1;}#sk-container-id-12 div.sk-parallel-item {display: flex;flex-direction: column;z-index: 1;position: relative;background-color: white;}#sk-container-id-12 div.sk-parallel-item:first-child::after {align-self: flex-end;width: 50%;}#sk-container-id-12 div.sk-parallel-item:last-child::after {align-self: flex-start;width: 50%;}#sk-container-id-12 div.sk-parallel-item:only-child::after {width: 0;}#sk-container-id-12 div.sk-dashed-wrapped {border: 1px dashed gray;margin: 0 0.4em 0.5em 0.4em;box-sizing: border-box;padding-bottom: 0.4em;background-color: white;}#sk-container-id-12 div.sk-label label {font-family: monospace;font-weight: bold;display: inline-block;line-height: 1.2em;}#sk-container-id-12 div.sk-label-container {text-align: center;}#sk-container-id-12 div.sk-container {/* jupyter's `normalize.less` sets `[hidden] { display: none; }` but bootstrap.min.css set `[hidden] { display: none !important; }` so we also need the `!important` here to be able to override the default hidden behavior on the sphinx rendered scikit-learn.org. See: https://github.com/scikit-learn/scikit-learn/issues/21755 */display: inline-block !important;position: relative;}#sk-container-id-12 div.sk-text-repr-fallback {display: none;}</style><div id=\"sk-container-id-12\" class=\"sk-top-container\"><div class=\"sk-text-repr-fallback\"><pre>Pipeline(steps=[(&#x27;columntransformer&#x27;,\n                 ColumnTransformer(remainder=&#x27;passthrough&#x27;,\n                                   transformers=[(&#x27;ordinalencoder&#x27;,\n                                                  OrdinalEncoder(handle_unknown=&#x27;use_encoded_value&#x27;,\n                                                                 unknown_value=-1),\n                                                  [&#x27;Age Group&#x27;,\n                                                   &#x27;Marital Status&#x27;, &#x27;Category&#x27;,\n                                                   &#x27;Others&#x27;, &#x27;Diagnosis&#x27;,\n                                                   &#x27;SK React&#x27;,\n                                                   &#x27;Max heart rate-binned&#x27;]),\n                                                 (&#x27;standardscaler&#x27;,\n                                                  StandardScaler(),\n                                                  [&#x27;Lifestyle&#x27;, &#x27;Sleep&#x27;,\n                                                   &#x27;Depression&#x27;,\n                                                   &#x27;Hyperli...\n                                              (&#x27;AdaBoostClassifier(n_estimators=100, &#x27;\n                                               &#x27;random_state=0)&#x27;,\n                                               AdaBoostClassifier(n_estimators=100,\n                                                                  random_state=0)),\n                                              (&#x27;GradientBoostingClassifier(learning_rate=1.0, &#x27;\n                                               &#x27;max_depth=1, random_state=0)&#x27;,\n                                               GradientBoostingClassifier(learning_rate=1.0,\n                                                                          max_depth=1,\n                                                                          random_state=0)),\n                                              (&#x27;BaggingClassifier(base_estimator=SVC(), &#x27;\n                                               &#x27;random_state=0)&#x27;,\n                                               BaggingClassifier(base_estimator=SVC(),\n                                                                 random_state=0))]))])</pre><b>In a Jupyter environment, please rerun this cell to show the HTML representation or trust the notebook. <br />On GitHub, the HTML representation is unable to render, please try loading this page with nbviewer.org.</b></div><div class=\"sk-container\" hidden><div class=\"sk-item sk-dashed-wrapped\"><div class=\"sk-label-container\"><div class=\"sk-label sk-toggleable\"><input class=\"sk-toggleable__control sk-hidden--visually\" id=\"sk-estimator-id-119\" type=\"checkbox\" ><label for=\"sk-estimator-id-119\" class=\"sk-toggleable__label sk-toggleable__label-arrow\">Pipeline</label><div class=\"sk-toggleable__content\"><pre>Pipeline(steps=[(&#x27;columntransformer&#x27;,\n                 ColumnTransformer(remainder=&#x27;passthrough&#x27;,\n                                   transformers=[(&#x27;ordinalencoder&#x27;,\n                                                  OrdinalEncoder(handle_unknown=&#x27;use_encoded_value&#x27;,\n                                                                 unknown_value=-1),\n                                                  [&#x27;Age Group&#x27;,\n                                                   &#x27;Marital Status&#x27;, &#x27;Category&#x27;,\n                                                   &#x27;Others&#x27;, &#x27;Diagnosis&#x27;,\n                                                   &#x27;SK React&#x27;,\n                                                   &#x27;Max heart rate-binned&#x27;]),\n                                                 (&#x27;standardscaler&#x27;,\n                                                  StandardScaler(),\n                                                  [&#x27;Lifestyle&#x27;, &#x27;Sleep&#x27;,\n                                                   &#x27;Depression&#x27;,\n                                                   &#x27;Hyperli...\n                                              (&#x27;AdaBoostClassifier(n_estimators=100, &#x27;\n                                               &#x27;random_state=0)&#x27;,\n                                               AdaBoostClassifier(n_estimators=100,\n                                                                  random_state=0)),\n                                              (&#x27;GradientBoostingClassifier(learning_rate=1.0, &#x27;\n                                               &#x27;max_depth=1, random_state=0)&#x27;,\n                                               GradientBoostingClassifier(learning_rate=1.0,\n                                                                          max_depth=1,\n                                                                          random_state=0)),\n                                              (&#x27;BaggingClassifier(base_estimator=SVC(), &#x27;\n                                               &#x27;random_state=0)&#x27;,\n                                               BaggingClassifier(base_estimator=SVC(),\n                                                                 random_state=0))]))])</pre></div></div></div><div class=\"sk-serial\"><div class=\"sk-item sk-dashed-wrapped\"><div class=\"sk-label-container\"><div class=\"sk-label sk-toggleable\"><input class=\"sk-toggleable__control sk-hidden--visually\" id=\"sk-estimator-id-120\" type=\"checkbox\" ><label for=\"sk-estimator-id-120\" class=\"sk-toggleable__label sk-toggleable__label-arrow\">columntransformer: ColumnTransformer</label><div class=\"sk-toggleable__content\"><pre>ColumnTransformer(remainder=&#x27;passthrough&#x27;,\n                  transformers=[(&#x27;ordinalencoder&#x27;,\n                                 OrdinalEncoder(handle_unknown=&#x27;use_encoded_value&#x27;,\n                                                unknown_value=-1),\n                                 [&#x27;Age Group&#x27;, &#x27;Marital Status&#x27;, &#x27;Category&#x27;,\n                                  &#x27;Others&#x27;, &#x27;Diagnosis&#x27;, &#x27;SK React&#x27;,\n                                  &#x27;Max heart rate-binned&#x27;]),\n                                (&#x27;standardscaler&#x27;, StandardScaler(),\n                                 [&#x27;Lifestyle&#x27;, &#x27;Sleep&#x27;, &#x27;Depression&#x27;,\n                                  &#x27;Hyperlipidemia&#x27;, &#x27;Smoking&#x27;, &#x27;Diabetes&#x27;,\n                                  &#x27;HTN&#x27;, &#x27;Allergies&#x27;, &#x27;BP&#x27;, &#x27;Thrombolysis&#x27;,\n                                  &#x27;BGR&#x27;, &#x27;CPK&#x27;, &#x27;ESR&#x27;, &#x27;WBC&#x27;, &#x27;RBC&#x27;,\n                                  &#x27;Hemoglobin&#x27;, &#x27;MCH&#x27;, &#x27;MCHC&#x27;, &#x27;PlateletCount&#x27;,\n                                  &#x27;Lymphocyte&#x27;, &#x27;Monocyte&#x27;, &#x27;Eosinophil&#x27;,\n                                  &#x27;Hypersensitivity&#x27;, &#x27;Chest pain type&#x27;,\n                                  &#x27;Resting BP&#x27;, &#x27;Serum cholesterol&#x27;, &#x27;FBS&#x27;,\n                                  &#x27;Resting electrocardiographic&#x27;,\n                                  &#x27;Max heart rate&#x27;, &#x27;Angina&#x27;, ...])])</pre></div></div></div><div class=\"sk-parallel\"><div class=\"sk-parallel-item\"><div class=\"sk-item\"><div class=\"sk-label-container\"><div class=\"sk-label sk-toggleable\"><input class=\"sk-toggleable__control sk-hidden--visually\" id=\"sk-estimator-id-121\" type=\"checkbox\" ><label for=\"sk-estimator-id-121\" class=\"sk-toggleable__label sk-toggleable__label-arrow\">ordinalencoder</label><div class=\"sk-toggleable__content\"><pre>[&#x27;Age Group&#x27;, &#x27;Marital Status&#x27;, &#x27;Category&#x27;, &#x27;Others&#x27;, &#x27;Diagnosis&#x27;, &#x27;SK React&#x27;, &#x27;Max heart rate-binned&#x27;]</pre></div></div></div><div class=\"sk-serial\"><div class=\"sk-item\"><div class=\"sk-estimator sk-toggleable\"><input class=\"sk-toggleable__control sk-hidden--visually\" id=\"sk-estimator-id-122\" type=\"checkbox\" ><label for=\"sk-estimator-id-122\" class=\"sk-toggleable__label sk-toggleable__label-arrow\">OrdinalEncoder</label><div class=\"sk-toggleable__content\"><pre>OrdinalEncoder(handle_unknown=&#x27;use_encoded_value&#x27;, unknown_value=-1)</pre></div></div></div></div></div></div><div class=\"sk-parallel-item\"><div class=\"sk-item\"><div class=\"sk-label-container\"><div class=\"sk-label sk-toggleable\"><input class=\"sk-toggleable__control sk-hidden--visually\" id=\"sk-estimator-id-123\" type=\"checkbox\" ><label for=\"sk-estimator-id-123\" class=\"sk-toggleable__label sk-toggleable__label-arrow\">standardscaler</label><div class=\"sk-toggleable__content\"><pre>[&#x27;Lifestyle&#x27;, &#x27;Sleep&#x27;, &#x27;Depression&#x27;, &#x27;Hyperlipidemia&#x27;, &#x27;Smoking&#x27;, &#x27;Diabetes&#x27;, &#x27;HTN&#x27;, &#x27;Allergies&#x27;, &#x27;BP&#x27;, &#x27;Thrombolysis&#x27;, &#x27;BGR&#x27;, &#x27;CPK&#x27;, &#x27;ESR&#x27;, &#x27;WBC&#x27;, &#x27;RBC&#x27;, &#x27;Hemoglobin&#x27;, &#x27;MCH&#x27;, &#x27;MCHC&#x27;, &#x27;PlateletCount&#x27;, &#x27;Lymphocyte&#x27;, &#x27;Monocyte&#x27;, &#x27;Eosinophil&#x27;, &#x27;Hypersensitivity&#x27;, &#x27;Chest pain type&#x27;, &#x27;Resting BP&#x27;, &#x27;Serum cholesterol&#x27;, &#x27;FBS&#x27;, &#x27;Resting electrocardiographic&#x27;, &#x27;Max heart rate&#x27;, &#x27;Angina&#x27;, &#x27;ST depression&#x27;, &#x27;Slope&#x27;, &#x27;Vessels num&#x27;, &#x27;Thal&#x27;, &#x27;Num&#x27;, &#x27;Streptokinase&#x27;, &#x27;Follow up&#x27;, &#x27;Gender-male&#x27;, &#x27;Locality-urban&#x27;]</pre></div></div></div><div class=\"sk-serial\"><div class=\"sk-item\"><div class=\"sk-estimator sk-toggleable\"><input class=\"sk-toggleable__control sk-hidden--visually\" id=\"sk-estimator-id-124\" type=\"checkbox\" ><label for=\"sk-estimator-id-124\" class=\"sk-toggleable__label sk-toggleable__label-arrow\">StandardScaler</label><div class=\"sk-toggleable__content\"><pre>StandardScaler()</pre></div></div></div></div></div></div><div class=\"sk-parallel-item\"><div class=\"sk-item\"><div class=\"sk-label-container\"><div class=\"sk-label sk-toggleable\"><input class=\"sk-toggleable__control sk-hidden--visually\" id=\"sk-estimator-id-125\" type=\"checkbox\" ><label for=\"sk-estimator-id-125\" class=\"sk-toggleable__label sk-toggleable__label-arrow\">remainder</label><div class=\"sk-toggleable__content\"><pre>[]</pre></div></div></div><div class=\"sk-serial\"><div class=\"sk-item\"><div class=\"sk-estimator sk-toggleable\"><input class=\"sk-toggleable__control sk-hidden--visually\" id=\"sk-estimator-id-126\" type=\"checkbox\" ><label for=\"sk-estimator-id-126\" class=\"sk-toggleable__label sk-toggleable__label-arrow\">passthrough</label><div class=\"sk-toggleable__content\"><pre>passthrough</pre></div></div></div></div></div></div></div></div><div class=\"sk-item\"><div class=\"sk-estimator sk-toggleable\"><input class=\"sk-toggleable__control sk-hidden--visually\" id=\"sk-estimator-id-127\" type=\"checkbox\" ><label for=\"sk-estimator-id-127\" class=\"sk-toggleable__label sk-toggleable__label-arrow\">RandomOverSampler</label><div class=\"sk-toggleable__content\"><pre>RandomOverSampler()</pre></div></div></div><div class=\"sk-item sk-dashed-wrapped\"><div class=\"sk-label-container\"><div class=\"sk-label sk-toggleable\"><input class=\"sk-toggleable__control sk-hidden--visually\" id=\"sk-estimator-id-128\" type=\"checkbox\" ><label for=\"sk-estimator-id-128\" class=\"sk-toggleable__label sk-toggleable__label-arrow\">votingclassifier: VotingClassifier</label><div class=\"sk-toggleable__content\"><pre>VotingClassifier(estimators=[(&#x27;LogisticRegression()&#x27;, LogisticRegression()),\n                             (&quot;SVC(C=0.025, kernel=&#x27;linear&#x27;)&quot;,\n                              SVC(C=0.025, kernel=&#x27;linear&#x27;)),\n                             (&#x27;DecisionTreeClassifier(max_depth=5)&#x27;,\n                              DecisionTreeClassifier(max_depth=5)),\n                             (&#x27;ExtraTreeClassifier(max_depth=5)&#x27;,\n                              ExtraTreeClassifier(max_depth=5)),\n                             (&#x27;RandomForestClassifier(max_depth=5, &#x27;\n                              &#x27;max_features=1, n_estimators=...\n                             (&#x27;AdaBoostClassifier(n_estimators=100, &#x27;\n                              &#x27;random_state=0)&#x27;,\n                              AdaBoostClassifier(n_estimators=100,\n                                                 random_state=0)),\n                             (&#x27;GradientBoostingClassifier(learning_rate=1.0, &#x27;\n                              &#x27;max_depth=1, random_state=0)&#x27;,\n                              GradientBoostingClassifier(learning_rate=1.0,\n                                                         max_depth=1,\n                                                         random_state=0)),\n                             (&#x27;BaggingClassifier(base_estimator=SVC(), &#x27;\n                              &#x27;random_state=0)&#x27;,\n                              BaggingClassifier(base_estimator=SVC(),\n                                                random_state=0))])</pre></div></div></div><div class=\"sk-parallel\"><div class=\"sk-parallel-item\"><div class=\"sk-item\"><div class=\"sk-label-container\"><div class=\"sk-label sk-toggleable\"><label>LogisticRegression()</label></div></div><div class=\"sk-serial\"><div class=\"sk-item\"><div class=\"sk-estimator sk-toggleable\"><input class=\"sk-toggleable__control sk-hidden--visually\" id=\"sk-estimator-id-129\" type=\"checkbox\" ><label for=\"sk-estimator-id-129\" class=\"sk-toggleable__label sk-toggleable__label-arrow\">LogisticRegression</label><div class=\"sk-toggleable__content\"><pre>LogisticRegression()</pre></div></div></div></div></div></div><div class=\"sk-parallel-item\"><div class=\"sk-item\"><div class=\"sk-label-container\"><div class=\"sk-label sk-toggleable\"><label>SVC(C=0.025, kernel=&#x27;linear&#x27;)</label></div></div><div class=\"sk-serial\"><div class=\"sk-item\"><div class=\"sk-estimator sk-toggleable\"><input class=\"sk-toggleable__control sk-hidden--visually\" id=\"sk-estimator-id-130\" type=\"checkbox\" ><label for=\"sk-estimator-id-130\" class=\"sk-toggleable__label sk-toggleable__label-arrow\">SVC</label><div class=\"sk-toggleable__content\"><pre>SVC(C=0.025, kernel=&#x27;linear&#x27;)</pre></div></div></div></div></div></div><div class=\"sk-parallel-item\"><div class=\"sk-item\"><div class=\"sk-label-container\"><div class=\"sk-label sk-toggleable\"><label>DecisionTreeClassifier(max_depth=5)</label></div></div><div class=\"sk-serial\"><div class=\"sk-item\"><div class=\"sk-estimator sk-toggleable\"><input class=\"sk-toggleable__control sk-hidden--visually\" id=\"sk-estimator-id-131\" type=\"checkbox\" ><label for=\"sk-estimator-id-131\" class=\"sk-toggleable__label sk-toggleable__label-arrow\">DecisionTreeClassifier</label><div class=\"sk-toggleable__content\"><pre>DecisionTreeClassifier(max_depth=5)</pre></div></div></div></div></div></div><div class=\"sk-parallel-item\"><div class=\"sk-item\"><div class=\"sk-label-container\"><div class=\"sk-label sk-toggleable\"><label>ExtraTreeClassifier(max_depth=5)</label></div></div><div class=\"sk-serial\"><div class=\"sk-item\"><div class=\"sk-estimator sk-toggleable\"><input class=\"sk-toggleable__control sk-hidden--visually\" id=\"sk-estimator-id-132\" type=\"checkbox\" ><label for=\"sk-estimator-id-132\" class=\"sk-toggleable__label sk-toggleable__label-arrow\">ExtraTreeClassifier</label><div class=\"sk-toggleable__content\"><pre>ExtraTreeClassifier(max_depth=5)</pre></div></div></div></div></div></div><div class=\"sk-parallel-item\"><div class=\"sk-item\"><div class=\"sk-label-container\"><div class=\"sk-label sk-toggleable\"><label>RandomForestClassifier(max_depth=5, max_features=1, n_estimators=10)</label></div></div><div class=\"sk-serial\"><div class=\"sk-item\"><div class=\"sk-estimator sk-toggleable\"><input class=\"sk-toggleable__control sk-hidden--visually\" id=\"sk-estimator-id-133\" type=\"checkbox\" ><label for=\"sk-estimator-id-133\" class=\"sk-toggleable__label sk-toggleable__label-arrow\">RandomForestClassifier</label><div class=\"sk-toggleable__content\"><pre>RandomForestClassifier(max_depth=5, max_features=1, n_estimators=10)</pre></div></div></div></div></div></div><div class=\"sk-parallel-item\"><div class=\"sk-item\"><div class=\"sk-label-container\"><div class=\"sk-label sk-toggleable\"><label>MLPClassifier(alpha=1, max_iter=1000)</label></div></div><div class=\"sk-serial\"><div class=\"sk-item\"><div class=\"sk-estimator sk-toggleable\"><input class=\"sk-toggleable__control sk-hidden--visually\" id=\"sk-estimator-id-134\" type=\"checkbox\" ><label for=\"sk-estimator-id-134\" class=\"sk-toggleable__label sk-toggleable__label-arrow\">MLPClassifier</label><div class=\"sk-toggleable__content\"><pre>MLPClassifier(alpha=1, max_iter=1000)</pre></div></div></div></div></div></div><div class=\"sk-parallel-item\"><div class=\"sk-item\"><div class=\"sk-label-container\"><div class=\"sk-label sk-toggleable\"><label>AdaBoostClassifier(n_estimators=100, random_state=0)</label></div></div><div class=\"sk-serial\"><div class=\"sk-item\"><div class=\"sk-estimator sk-toggleable\"><input class=\"sk-toggleable__control sk-hidden--visually\" id=\"sk-estimator-id-135\" type=\"checkbox\" ><label for=\"sk-estimator-id-135\" class=\"sk-toggleable__label sk-toggleable__label-arrow\">AdaBoostClassifier</label><div class=\"sk-toggleable__content\"><pre>AdaBoostClassifier(n_estimators=100, random_state=0)</pre></div></div></div></div></div></div><div class=\"sk-parallel-item\"><div class=\"sk-item\"><div class=\"sk-label-container\"><div class=\"sk-label sk-toggleable\"><label>GradientBoostingClassifier(learning_rate=1.0, max_depth=1, random_state=0)</label></div></div><div class=\"sk-serial\"><div class=\"sk-item\"><div class=\"sk-estimator sk-toggleable\"><input class=\"sk-toggleable__control sk-hidden--visually\" id=\"sk-estimator-id-136\" type=\"checkbox\" ><label for=\"sk-estimator-id-136\" class=\"sk-toggleable__label sk-toggleable__label-arrow\">GradientBoostingClassifier</label><div class=\"sk-toggleable__content\"><pre>GradientBoostingClassifier(learning_rate=1.0, max_depth=1, random_state=0)</pre></div></div></div></div></div></div><div class=\"sk-parallel-item\"><div class=\"sk-item\"><div class=\"sk-label-container\"><div class=\"sk-label sk-toggleable\"><label>BaggingClassifier(base_estimator=SVC(), random_state=0)</label></div></div><div class=\"sk-serial\"><div class=\"sk-item sk-dashed-wrapped\"><div class=\"sk-parallel\"><div class=\"sk-parallel-item\"><div class=\"sk-item\"><div class=\"sk-label-container\"><div class=\"sk-label sk-toggleable\"><input class=\"sk-toggleable__control sk-hidden--visually\" id=\"sk-estimator-id-137\" type=\"checkbox\" ><label for=\"sk-estimator-id-137\" class=\"sk-toggleable__label sk-toggleable__label-arrow\">base_estimator: SVC</label><div class=\"sk-toggleable__content\"><pre>SVC()</pre></div></div></div><div class=\"sk-serial\"><div class=\"sk-item\"><div class=\"sk-estimator sk-toggleable\"><input class=\"sk-toggleable__control sk-hidden--visually\" id=\"sk-estimator-id-138\" type=\"checkbox\" ><label for=\"sk-estimator-id-138\" class=\"sk-toggleable__label sk-toggleable__label-arrow\">SVC</label><div class=\"sk-toggleable__content\"><pre>SVC()</pre></div></div></div></div></div></div></div></div></div></div></div></div></div></div></div></div></div>"
     },
     "execution_count": 111,
     "metadata": {},
     "output_type": "execute_result"
    }
   ],
   "source": [
    "clf_s"
   ]
  },
  {
   "cell_type": "markdown",
   "metadata": {},
   "source": [
    "## Conclusions\n"
   ]
  },
  {
   "cell_type": "markdown",
   "metadata": {},
   "source": [
    "In this lab we studied how to build training and test data sets and how to fit different classifiers, evaluate their accuracy and analyze errors.\n",
    "We also studied how to join them together in an ensemble and create a model based on Pipeline.\n",
    "We compared the accuracy of different classifiers and their ensemble and showed how they can be used in marketing on the example of customer classification.\n",
    "\n",
    "The accuracy of the decision was about 100%.\n"
   ]
  },
  {
   "cell_type": "markdown",
   "metadata": {},
   "source": [
    "### Thank you for completing this lab!\n",
    "\n",
    "## Author\n",
    "\n",
    "<a href=\"https://www.linkedin.com/in/joseph-s-50398b136/?utm_medium=Exinfluencer&utm_source=Exinfluencer&utm_content=000026UJ&utm_term=10006555&utm_id=NA-SkillsNetwork-Channel-SkillsNetworkCoursesIBMDeveloperSkillsNetworkDA0101ENSkillsNetwork20235326-2021-01-01\">Joseph Santarcangelo</a>\n",
    "\n",
    "### Other Contributors\n",
    "\n",
    "<a href=\"https://www.linkedin.com/in/mahdi-noorian-58219234/?utm_medium=Exinfluencer&utm_source=Exinfluencer&utm_content=000026UJ&utm_term=10006555&utm_id=NA-SkillsNetwork-Channel-SkillsNetworkCoursesIBMDeveloperSkillsNetworkDA0101ENSkillsNetwork20235326-2021-01-01\">Mahdi Noorian PhD</a>\n",
    "\n",
    "Bahare Talayian\n",
    "\n",
    "Eric Xiao\n",
    "\n",
    "Steven Dong\n",
    "\n",
    "Parizad\n",
    "\n",
    "Hima Vasudevan\n",
    "\n",
    "<a href=\"https://www.linkedin.com/in/fiorellawever/?utm_medium=Exinfluencer&utm_source=Exinfluencer&utm_content=000026UJ&utm_term=10006555&utm_id=NA-SkillsNetwork-Channel-SkillsNetworkCoursesIBMDeveloperSkillsNetworkDA0101ENSkillsNetwork20235326-2021-01-01\">Fiorella Wenver</a>\n",
    "\n",
    "<a href=\"https:// https://www.linkedin.com/in/yi-leng-yao-84451275/ \" target=\"_blank\" >Yi Yao</a>.\n",
    "\n",
    "## Change Log\n",
    "\n",
    "| Date (YYYY-MM-DD) | Version | Changed By | Change Description                 |\n",
    "| ----------------- | ------- | ---------- | ---------------------------------- |\n",
    "\n",
    "\n",
    "<hr>\n",
    "\n",
    "## <h3 align=\"center\"> © IBM Corporation 2020. All rights reserved. <h3/>\n"
   ]
  }
 ],
 "metadata": {
  "kernelspec": {
   "name": "python3",
   "language": "python",
   "display_name": "Python 3"
  },
  "language_info": {
   "codemirror_mode": {
    "name": "ipython",
    "version": 3
   },
   "file_extension": ".py",
   "mimetype": "text/x-python",
   "name": "python",
   "nbconvert_exporter": "python",
   "pygments_lexer": "ipython3",
   "version": "3.7.12"
  }
 },
 "nbformat": 4,
 "nbformat_minor": 4
}