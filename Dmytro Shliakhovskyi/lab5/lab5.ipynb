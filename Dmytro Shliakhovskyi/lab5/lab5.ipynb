{
 "cells": [
  {
   "cell_type": "markdown",
   "id": "d586d2af-77fd-47cd-8704-b9b98bea455f",
   "metadata": {},
   "source": [
    "<center>\n",
    "    <img src=\"https://cf-courses-data.s3.us.cloud-object-storage.appdomain.cloud/assets/logos/SN_web_lightmode_vertical.png\" width=\"300\" alt=\"cognitiveclass.ai logo\"  />\n",
    "</center>"
   ]
  },
  {
   "cell_type": "markdown",
   "id": "d681ec55-3f3c-4ca6-b356-e1996a144151",
   "metadata": {},
   "source": [
    "# **Forecasting of Breast Cancer on medical measurement**\n",
    "\n",
    "# Lab 5. Model Evaluating and Refinement"
   ]
  },
  {
   "cell_type": "markdown",
   "id": "f937ff65-33f2-4797-bf83-57e693af73a2",
   "metadata": {},
   "source": [
    "Estimated time needed: **45** minutes"
   ]
  },
  {
   "cell_type": "markdown",
   "id": "5c3a25dc-feea-4eda-86f1-5d7c8715bea7",
   "metadata": {},
   "source": [
    "## Abstract"
   ]
  },
  {
   "cell_type": "markdown",
   "id": "debc7913-bce1-40bb-a0d4-280ee898c647",
   "metadata": {},
   "source": [
    "This lab is dedicated to the study of machine learning classification methods. The objective is to assess the influence of various factors and predict the vital status of patients with breast cancer."
   ]
  },
  {
   "cell_type": "markdown",
   "id": "8c39bf3b-9ed0-41a9-ab99-ab93c93fa99a",
   "metadata": {},
   "source": [
    "## Introduction"
   ]
  },
  {
   "cell_type": "markdown",
   "id": "d250778e-bafe-4ad4-b4b8-0915836a5d50",
   "metadata": {},
   "source": [
    "The main problem to be addressed in this study is the prediction of vital status for patients with breast cancer and the analysis of factors that impact their outcomes.\n",
    "\n",
    "The peculiarities of classification analysis are that you must first correctly prepare a data set. In addition, today there are many different methods of classification. Each of them has its own characteristics and opportunities for analysis. An various classifiers are demonstrated in this lab, as well as join them with into ensemble. It is also demonstrated how all stages of training preparation and analysis can be combined with Pipeline."
   ]
  },
  {
   "cell_type": "markdown",
   "id": "174a5718-f977-44cf-91d6-b00ad801ac0d",
   "metadata": {},
   "source": [
    "## Table of Contents"
   ]
  },
  {
   "cell_type": "markdown",
   "id": "9f9ff429-7f82-42e1-b2ee-146c96f6746c",
   "metadata": {},
   "source": [
    "<div class=\"alert alert-block alert-info\" style=\"margin-top: 20px\">\n",
    "    <ol>\n",
    "        <li>Materials and methods\n",
    "            <ul>\n",
    "                <li>Prerequisites</li>\n",
    "            </ul>\n",
    "        </li>\n",
    "        <li>Import Libraries</li>\n",
    "        <li>Load the DataSet</li>\n",
    "        <li>Data pre-preparation</li>\n",
    "        <li>Pipeline Classification\n",
    "             <ul>\n",
    "                <li>RandomForestClassifier</li>\n",
    "                 <li>Cross-validation</li>\n",
    "                 <li>Accuracy</li>\n",
    "            </ul>\n",
    "        </li>\n",
    "         <li>Over-sampling problem</li>\n",
    "        <li>Ensemble of classifiers\n",
    "            <ul>\n",
    "                <li>Question 1</li>\n",
    "            </ul>\n",
    "        </li>\n",
    "        <li>Conclusions</li>\n",
    "        <li>Authors</li>\n",
    "    </ol>\n",
    "</div>"
   ]
  },
  {
   "cell_type": "markdown",
   "id": "ac37f742-ab1d-4df3-baa8-b05f8db4d0b8",
   "metadata": {},
   "source": [
    "## Materials and methods"
   ]
  },
  {
   "cell_type": "markdown",
   "id": "010a8627-c70a-46be-a8e2-faf13f146aea",
   "metadata": {},
   "source": [
    "In this lab, we will learn how to download and pre-prepare data, classify and combine classifiers into an ensemble.\n",
    "This lab consists of the following steps:\n",
    "* Download data - download and display data from a file\n",
    "* Preliminary data preparation - preliminary analysis of data structure, change of data structure and tables\n",
    "* Pipeline classification - classification and analysis by grouping stages\n",
    "    * Logistic regression - classification and analysis of accuracy and errors using logistic regression\n",
    "    * Over-sampling problem - solve the problem of uneven distribution of data\n",
    "    * Ensemble of classifiers - study various classifiers and methods of combining them into an ensemble"
   ]
  },
  {
   "cell_type": "markdown",
   "id": "14a9ac63-c0ec-43cd-b57a-10dd354303c0",
   "metadata": {},
   "source": [
    "The statistical data obtained from <a href=\"https://www.kaggle.com/datasets/gunesevitan/breast-cancer-metabric\">https://www.kaggle.com/datasets/gunesevitan/breast-cancer-metabric</a> under <a href=\"https://opendatacommons.org/licenses/odbl/1-0/\" target=\"_blank\">Database: Open Database, Contents: © Original Authors</a> license."
   ]
  },
  {
   "cell_type": "markdown",
   "id": "f93a51eb-454f-4b71-bb30-5a5698dbde5c",
   "metadata": {},
   "source": [
    "## Prerequisites\n",
    "* [Python](https://www.python.org) - middle level\n",
    "* [Pandas](https://pandas.pydata.org) - middle level \n",
    "* [Matplotlib](https://matplotlib.org) - basic level\n",
    "* [SeaBorn](https://seaborn.pydata.org) - basic level\n",
    "* [Scikit-Learn](https://scikit-learn.org/stable/) - middle level "
   ]
  },
  {
   "cell_type": "markdown",
   "id": "40e95b6e-ac68-449e-bdde-8022d1879a4c",
   "metadata": {},
   "source": [
    "## Objectives"
   ]
  },
  {
   "cell_type": "markdown",
   "id": "57f57b7a-a3c2-466c-a929-9ee3b3a2b98c",
   "metadata": {},
   "source": [
    "After completing this lab, you will be able to:"
   ]
  },
  {
   "cell_type": "markdown",
   "id": "7f155a31-b61f-4ffb-9218-1047d02e73ca",
   "metadata": {},
   "source": [
    "* Download DataSet from * .csv files\n",
    "* Conduct basic data analysis\n",
    "* Calculate new and change column types\n",
    "* Divide the DataSet into training and test\n",
    "* Use different machine learning classification methods\n",
    "* Combine classifiers into ensemble\n",
    "* Calculate accuracy and analyze errors\n",
    "* Combine all stages of data analysis with Pipeline"
   ]
  },
  {
   "cell_type": "markdown",
   "id": "b80d7966-e3e9-49b0-a072-b953412314cd",
   "metadata": {},
   "source": [
    "## Import Libraries/Define Auxiliary Functions"
   ]
  },
  {
   "cell_type": "markdown",
   "id": "a6874c26-f2ab-455a-80f3-8a51a5a65953",
   "metadata": {},
   "source": [
    "Libraries such as Scikit-Learn, imbalanced-learn should be installed."
   ]
  },
  {
   "cell_type": "code",
   "execution_count": null,
   "id": "dc1ed4ad-3a36-41ac-8bf3-7e2d61fe4ab0",
   "metadata": {},
   "outputs": [],
   "source": [
    "# conda install -c intel scikit-learn"
   ]
  },
  {
   "cell_type": "code",
   "execution_count": null,
   "id": "b29c9ab9-2541-47e8-bcf0-1ecb97b69668",
   "metadata": {},
   "outputs": [],
   "source": [
    "# conda install -c conda-forge imbalanced-learn"
   ]
  },
  {
   "cell_type": "markdown",
   "id": "a49e986a-1f0c-4afe-9f72-0bd7f80f7251",
   "metadata": {},
   "source": [
    "## Download data from a .csv file"
   ]
  },
  {
   "cell_type": "markdown",
   "id": "d8fd8013-4a93-4576-9208-3e5298b5683f",
   "metadata": {},
   "source": [
    "Some libraries should be imported before you can begin."
   ]
  },
  {
   "cell_type": "code",
   "execution_count": null,
   "id": "50d74d8b-34bc-4570-b7fe-b842047fb52c",
   "metadata": {},
   "outputs": [],
   "source": [
    "import pandas as pd\n",
    "import matplotlib.pyplot as plt\n",
    "import numpy as np\n",
    "import seaborn as sns\n",
    "from sklearn.linear_model import LogisticRegression\n",
    "from sklearn.preprocessing import OrdinalEncoder\n",
    "from sklearn.preprocessing import StandardScaler                         \n",
    "from sklearn.compose import make_column_transformer\n",
    "from sklearn import set_config\n",
    "from sklearn.model_selection import train_test_split\n",
    "from imblearn.pipeline import make_pipeline\n",
    "from sklearn.metrics import ConfusionMatrixDisplay\n",
    "from sklearn.metrics import confusion_matrix\n",
    "from sklearn.metrics import plot_confusion_matrix\n",
    "from imblearn.over_sampling import RandomOverSampler\n",
    "from sklearn.model_selection import cross_val_score\n",
    "from sklearn.model_selection import cross_val_predict\n",
    "#Classifiers\n",
    "from sklearn.tree import DecisionTreeClassifier, ExtraTreeClassifier\n",
    "from sklearn.ensemble import ExtraTreesClassifier\n",
    "from sklearn.neighbors import KNeighborsClassifier\n",
    "from sklearn.svm import SVC\n",
    "from sklearn.gaussian_process import GaussianProcessClassifier\n",
    "from sklearn.gaussian_process.kernels import RBF\n",
    "from sklearn.tree import DecisionTreeClassifier\n",
    "from sklearn.ensemble import RandomForestClassifier, AdaBoostClassifier\n",
    "from sklearn.naive_bayes import GaussianNB\n",
    "from sklearn.discriminant_analysis import QuadraticDiscriminantAnalysis\n",
    "from sklearn.neural_network import MLPClassifier\n",
    "from sklearn.ensemble import GradientBoostingClassifier\n",
    "from sklearn.ensemble import BaggingClassifier\n",
    "from sklearn.ensemble import VotingClassifier\n",
    "from sklearn import tree\n",
    "from sklearn.metrics import recall_score\n",
    "from sklearn.preprocessing import MinMaxScaler, LabelEncoder"
   ]
  },
  {
   "cell_type": "markdown",
   "id": "cfb2e433-eac7-4bd7-b2f0-2fa039b58f34",
   "metadata": {},
   "source": [
    "Let's disable warnings by **[warnings.filterwarnings()](https://docs.python.org/3/library/warnings.html)**"
   ]
  },
  {
   "cell_type": "code",
   "execution_count": null,
   "id": "f0f6aa15-7802-4887-804c-36acbacb28d7",
   "metadata": {},
   "outputs": [],
   "source": [
    "import warnings\n",
    "warnings.filterwarnings('ignore')"
   ]
  },
  {
   "cell_type": "markdown",
   "id": "f6239107-6530-46a2-8c35-e641cedc830d",
   "metadata": {},
   "source": [
    "Further specify the value of the precision parameter equal to 2 to display two decimal signs (instead of 6 as default) by and  **[pd.options.display](https://pandas.pydata.org/pandas-docs/stable/user_guide/options.html)**."
   ]
  },
  {
   "cell_type": "code",
   "execution_count": null,
   "id": "ba9a251b-6aa8-4323-8032-f7a117009e12",
   "metadata": {},
   "outputs": [],
   "source": [
    "pd.options.display.float_format = '{:.2f}'.format"
   ]
  },
  {
   "cell_type": "markdown",
   "id": "b0d0d601-8ad5-4a9f-9326-cc59c51106ec",
   "metadata": {},
   "source": [
    "The next step is to download the data file from the repository by **[read_csv()](https://pandas.pydata.org/docs/reference/api/pandas.read_csv.html)**.\n",
    "\n",
    "We will use the same DataSet like in previous lab. Therefore next some steps will be the same."
   ]
  },
  {
   "cell_type": "code",
   "execution_count": null,
   "id": "4aed472d-637d-4668-a38d-ebe1d482f2db",
   "metadata": {},
   "outputs": [],
   "source": [
    "df = pd.read_csv('https://cf-courses-data.s3.us.cloud-object-storage.appdomain.cloud/IBMSkillsNetwork-GPXX036XEN/breast_cancer.csv')"
   ]
  },
  {
   "cell_type": "markdown",
   "id": "d929f3cc-bc91-452d-92e1-5110ca42a052",
   "metadata": {},
   "source": [
    "Now let's look at our DataSet."
   ]
  },
  {
   "cell_type": "code",
   "execution_count": null,
   "id": "d0ac9c3f-a6d4-4983-8848-51bad1bd8f4d",
   "metadata": {},
   "outputs": [],
   "source": [
    "df"
   ]
  },
  {
   "cell_type": "markdown",
   "id": "a8ad8aae-b01f-4894-8b12-f7bd9bc1dc49",
   "metadata": {},
   "source": [
    "## Data pre-preparation"
   ]
  },
  {
   "cell_type": "markdown",
   "id": "246a821a-f663-4718-80f0-a67136036383",
   "metadata": {},
   "source": [
    "Let's study DataSet. As you can see DataSet consist 2509 rows × 29 columns. As you can see DataSet consist information of different types. We should be sure that python recognized data types in right way. To do this we shoul use **[pandas.info()](https://pandas.pydata.org/docs/reference/api/pandas.DataFrame.info.html?highlight=info#pandas.DataFrame.info)**."
   ]
  },
  {
   "cell_type": "code",
   "execution_count": null,
   "id": "11d949ef-eb54-4652-b812-3ae392ff2ddc",
   "metadata": {},
   "outputs": [],
   "source": [
    "df.info()"
   ]
  },
  {
   "cell_type": "markdown",
   "id": "3d7629d7-4b8b-48d0-8386-2296314e800e",
   "metadata": {},
   "source": [
    "<details>\n",
    "<summary><b>Click to see attribute information</b></summary>\n",
    "    \n",
    "Input features (column names):\n",
    "\n",
    "1. `Age at Diagnosis` - Age of the patient at diagnosis time (numeric)\n",
    "2. `Type of Breast Surgery` - Breast cancer surgery type (categorical: `Breast Conserving`, `Mastectomy`)\n",
    "3. `Cancer Type Detailed` - Detailed Breast cancer types (categorical: `Breast`, `Breast Angiosarcoma`, `Breast Invasive Ductal Carcinoma`, `Breast Invasive Lobular Carcinoma`, `Breast Invasive Mixed Mucinous Carcinoma`, `Breast Mixed Ductal and Lobular Carcinoma`, `Invasive Breast Carcinoma`, `Metaplastic Breast Cancer`)\n",
    "4. `Cellularity` - Cancer cellularity post chemotherapy, which refers to the amount of tumor cells in the specimen and their arrangement into clusters (categorical: `High`, `Low`, `Moderate`)\n",
    "5. `Chemotherapy` - Whether or not the patient had chemotherapy as a treatment (yes/no) (boolean)\n",
    "6. `Pam50 + Claudin-low subtype` - Pam 50: is a tumor profiling test that helps show whether some estrogen receptor-positive (ER-positive), HER2-negative breast cancers are likely to metastasize (when breast cancer spreads to other organs). (categorical: `Basal`, `Her2`, `LumA`, `LumB`, `NC`, `Normal`, `claudin-low`)\n",
    "7. `Cohort` - Cohort is a group of subjects who share a defining characteristic (numeric)\n",
    "8. `ER status measured by IHC` - To assess if estrogen receptors are expressed on cancer cells by using immune-histochemistry (a dye used in pathology that targets specific antigen, if it is there, it will give a color, it is not there, the tissue on the slide will be colored)(categorical: `Positve`, `Negative`)\n",
    "9. `ER Status` - Cancer cells are positive or negative for estrogen receptors (categorical: `Positve`, `Negative`)\n",
    "10. `Neoplasm Histologic Grade` - Determined by pathology by looking the nature of the cells, do they look aggressive or not (It takes a value from 1 to 3) (numeric).\n",
    "11. `HER2 status measured by SNP6` - To assess if the cancer positive for HER2 or not by using advance molecular techniques (Type of next generation sequencing) (categorical: `Gain`, `Loss`, `Neutral`, `Undef`)\n",
    "12. `Tumor Other Histologic Subtype` - Type of the cancer based on microscopic examination of the cancer tissue (categorical: `Ductal/NST`, `Lobular`, `Medullary`, `Metaplastic`, `Mixed`, `Mucinous`, `Other`, `Tubular/ cribriform`)\n",
    "13. `Hormone Therapy` - Whether or not the patient had hormonal as a treatment (yes/no) (boolean)\n",
    "14. `Integrative Cluster` - Molecular subtype of the cancer based on some gene expression (categorical: `1`, `2`, `3`, `4ER+`, `4ER-`, `5`, `6`, `7`,  `8`, `9`, `10`)\n",
    "15. `Primary Tumor Laterality` - Whether it is involving the right breast or the left breast (categorical: `Left`, `Right`)\n",
    "16. `Lymph nodes examined positive` - To take samples of the lymph node during the surgery and see if there were involved by the cancer (numeric)\n",
    "17. `Mutation Count` - Number of gene that has relevant mutations (numeric)\n",
    "18. `Nottingham prognostic index` - It is used to determine prognosis following surgery for breast cancer. Its value is calculated using three pathological criteria: the size of the tumour; the number of involved lymph nodes; and the grade of the tumour. (numeric)\n",
    "19. `Oncotree Code` - The OncoTree is an open-source ontology that was developed at Memorial Sloan Kettering Cancer Center (MSK) for standardizing cancer type diagnosis from a clinical perspective by assigning each diagnosis a unique OncoTree code (categorical: `BRCA`, `BREAST`, `IDC`, `ILC`, `IMMC`, `MBC`, `MDLC`, `PBS`)\n",
    "20. `PR Status` - Cancer cells are positive or negative for progesterone receptors (categorical: `Positve`, `Negative`)\n",
    "21. `Radio Therapy` - Whether or not the patient had radio as a treatment (yes/no) (boolean)\n",
    "22. `3-Gene classifier subtype` - Three Gene classifier subtype (categorical: `ER+/HER2- High Prolif`, `ER+/HER2- Low Prolif`, `ER-/HER2-`, `HER2+`)\n",
    "23. `Tumor Size` - Tumor size measured by imaging techniques (numeric)\n",
    "24. `Tumor Stage` - Stage of the cancer based on the involvement of surrounding structures, lymph nodes and distant spread (numeric)\n",
    "25. `Overall Survival (Years)` - Duration from the time of the intervention to death (numeric)\n",
    "26. `Relapse Free Status (Years)` - Absence of any signs or symptoms of cancer recurrence or metastasis after a patient has completed treatment for breast cancer. (numeric)\n",
    "27. `Nottingham prognostic index-binned` - (categorical)\n",
    "28. `Inferred Menopausal State-Post` - Whether the patient is post menopausal or not (numeric)\n",
    "29. `Relapse Free Status-Not Recurred` - Absence of any signs or symptoms of cancer recurrence or metastasis after a patient has completed treatment for breast cancer (numeric)\n",
    "\n",
    "\n",
    "Output feature (desired target):\n",
    "\n",
    "30. `Patient's Vital Status` - Patient's Vital Status (categorical: `Died of Disease`,`Died of Other Causes`, `Living`)\n",
    "    \n",
    "    </details>"
   ]
  },
  {
   "cell_type": "markdown",
   "id": "aa50f7df-764a-4311-a37a-d9213fb18223",
   "metadata": {},
   "source": [
    "Let's study information of DataSet columns. "
   ]
  },
  {
   "cell_type": "markdown",
   "id": "cfbed599-6cd7-4dd3-b2ef-ff9645185cbe",
   "metadata": {},
   "source": [
    "## Pipiline Classification"
   ]
  },
  {
   "cell_type": "markdown",
   "id": "10d46b10-a3fa-4764-aba5-a5f221fc235d",
   "metadata": {},
   "source": [
    "### LogisticRegression"
   ]
  },
  {
   "cell_type": "markdown",
   "id": "93171185-2109-4cb7-885a-7db4b6e7987c",
   "metadata": {},
   "source": [
    "Before classification, the dataset must be divided into input and target factors."
   ]
  },
  {
   "cell_type": "code",
   "execution_count": null,
   "id": "18c5c302-37c1-425a-835c-26f11ae37ae4",
   "metadata": {},
   "outputs": [],
   "source": [
    "x = df.drop(columns = [\"Patient's Vital Status\"])"
   ]
  },
  {
   "cell_type": "code",
   "execution_count": null,
   "id": "2fcc11eb-085c-4e82-ba2a-c3bbcb1b08cd",
   "metadata": {},
   "outputs": [],
   "source": [
    "y = df[\"Patient's Vital Status\"]"
   ]
  },
  {
   "cell_type": "code",
   "execution_count": null,
   "id": "1ba02bf1-e86f-40b4-b2e0-23f45ab52bb7",
   "metadata": {},
   "outputs": [],
   "source": [
    "x.info()"
   ]
  },
  {
   "cell_type": "markdown",
   "id": "9efd3a25-8243-46c8-864e-b5d1b79eca9c",
   "metadata": {},
   "source": [
    "You can see the input data set consists from 28 columns.\n",
    "\n",
    "As you can see, 14 columns are categorical, and all other 15 - numerical. To make classification, all numerical fields must be normalized and categorical fields must be digitized. This can be automated using the **[sklearn.preprocessing.OrdinalEncoder()](https://scikit-learn.org/stable/modules/generated/sklearn.preprocessing.OrdinalEncoder.html)** and **[sklearn. preprocessing.StandardScaler()](https://scikit-learn.org/stable/modules/generated/sklearn.preprocessing.StandardScaler.html)**.\n",
    "\n",
    "Since the machine learning process consists of several steps, each of which has the function `fit`,` predict` and etc, we can combine all these stages into one block using `Pipeline` (**[sklearn.pipeline.make_pipeline()](https://scikit-learn.org/stable/modules/generated/sklearn.pipeline.make_pipeline.html)**), **[sklearn.compose.make_column_transformer()](https://scikit-learn.org/stable/modules/generated/sklearn.compose.make_column_transformer.html)** and visualize it with: **[sklearn.set_config()](https://scikit-learn.org/stable/modules/generated/sklearn.set_config.html)**."
   ]
  },
  {
   "cell_type": "code",
   "execution_count": null,
   "id": "d46607e2-7594-41d7-9737-1b937d206b69",
   "metadata": {},
   "outputs": [],
   "source": [
    "col_cat = list(x.select_dtypes(include=['object']).columns)\n",
    "col_num = list(x.select_dtypes(include=['float', 'int', 'bool']).columns)"
   ]
  },
  {
   "cell_type": "code",
   "execution_count": null,
   "id": "c5aa5f41-1a66-4f79-b414-10d4561ad743",
   "metadata": {},
   "outputs": [],
   "source": [
    "trans = make_column_transformer((OrdinalEncoder(handle_unknown='use_encoded_value', unknown_value=-1),col_cat),\n",
    "                                (StandardScaler(),col_num),\n",
    "                                remainder = 'passthrough')\n",
    "set_config(display = 'diagram')\n",
    "trans"
   ]
  },
  {
   "cell_type": "markdown",
   "id": "31d54c53-ca00-49b1-8c65-158beccace9e",
   "metadata": {},
   "source": [
    "Next we must separate DataSets for train and test DataSets for calculate accuracy of models. To do this we can use **[sklearn.model_selection.train_test_split()](https://scikit-learn.org/stable/modules/generated/sklearn.model_selection.train_test_split.html)**. Let's separate DataSets in 0.3 proportion train/test"
   ]
  },
  {
   "cell_type": "code",
   "execution_count": null,
   "id": "fa175870-1ea4-403c-a5e4-ef42119f4969",
   "metadata": {},
   "outputs": [],
   "source": [
    "x_train,x_test,y_train,y_test = train_test_split(x,y,test_size = 0.3, shuffle=False)"
   ]
  },
  {
   "cell_type": "code",
   "execution_count": null,
   "id": "c5e22036-5a75-4061-8660-d265aab449cf",
   "metadata": {},
   "outputs": [],
   "source": [
    "x_train.shape"
   ]
  },
  {
   "cell_type": "code",
   "execution_count": null,
   "id": "fa1ab8f2-630a-42c1-8b76-dad4dd0412aa",
   "metadata": {},
   "outputs": [],
   "source": [
    "x_test.shape"
   ]
  },
  {
   "cell_type": "markdown",
   "id": "12c604aa-5022-4a78-9435-c5f1f5db3396",
   "metadata": {},
   "source": [
    "Nowe let's create a logistic regression model (**[sklearn.linear_model.LogisticRegression()](https://scikit-learn.org/stable/modules/generated/sklearn.linear_model.LogisticRegression.html)**) and add it to our `Pipeline`."
   ]
  },
  {
   "cell_type": "code",
   "execution_count": null,
   "id": "2e06fdcc-0573-4eb1-a3aa-9837efc49e81",
   "metadata": {},
   "outputs": [],
   "source": [
    "lr = LogisticRegression()\n",
    "pipe_lr = make_pipeline(trans,lr)"
   ]
  },
  {
   "cell_type": "markdown",
   "id": "8980ff8d-608c-42b5-a952-53bda3d16cd4",
   "metadata": {},
   "source": [
    "Let's fit our model and calculate its accuracy."
   ]
  },
  {
   "cell_type": "code",
   "execution_count": null,
   "id": "7a86e83f-8a05-4c29-8f4d-a9075ec6281f",
   "metadata": {},
   "outputs": [],
   "source": [
    "pipe_lr.fit(x_train,y_train)"
   ]
  },
  {
   "cell_type": "markdown",
   "id": "4f5d9f86-1596-4966-a313-1743f7ae85d1",
   "metadata": {},
   "source": [
    "### Cross-validation"
   ]
  },
  {
   "cell_type": "markdown",
   "id": "4d4292f3-425c-4383-ab6d-01c4a0adcf1d",
   "metadata": {},
   "source": [
    "Cross-validation is a technique in machine learning where the available dataset is split into multiple subsets or folds, and the model is trained and tested on different subsets in a rotation. The primary purpose of cross-validation is to estimate how well the model is expected to perform when it is deployed to make predictions on new, unseen data.\n",
    "\n",
    "One common way to implement cross-validation is by using the cross_val_score helper function, which takes an estimator (the model to be trained and tested) and the dataset, and returns the scores from each fold. This allows for easy evaluation and comparison of different models based on their performance metrics."
   ]
  },
  {
   "cell_type": "code",
   "execution_count": null,
   "id": "b9f98e6b-310d-4e4f-86d9-c47a6e072210",
   "metadata": {},
   "outputs": [],
   "source": [
    "Rcross = cross_val_score(pipe_lr, x, y, cv=4)\n",
    "print([round(val, 2) for val in Rcross])\n",
    "print(\"The mean of the folds are\", round(Rcross.mean(), 2), \"and the standard deviation is\", round(Rcross.std(), 2))"
   ]
  },
  {
   "cell_type": "markdown",
   "id": "a26cdb89-235e-49eb-9d7e-ee3b26751ec6",
   "metadata": {},
   "source": [
    "Let's use `cross_val_predict` to generate cross-validated estimates for each input data point."
   ]
  },
  {
   "cell_type": "code",
   "execution_count": null,
   "id": "4163ce4d-8943-4148-9717-41db732f42e1",
   "metadata": {},
   "outputs": [],
   "source": [
    "yhat = cross_val_predict(pipe_lr, x, y,cv=4)\n",
    "yhat[0:5]"
   ]
  },
  {
   "cell_type": "markdown",
   "id": "a93ecd6b-0617-4161-b623-7e607a6b7a03",
   "metadata": {},
   "source": [
    "#### Accuracy"
   ]
  },
  {
   "cell_type": "markdown",
   "id": "b9164579-b306-4212-b6a1-e99b1303e5c9",
   "metadata": {},
   "source": [
    "Let's calculate accuracy of this pipeline."
   ]
  },
  {
   "cell_type": "code",
   "execution_count": null,
   "id": "b24ff951-513b-4703-b4cb-fcd34d25240a",
   "metadata": {},
   "outputs": [],
   "source": [
    "scores_train = pipe_lr.score(x_train, y_train)\n",
    "scores_test = pipe_lr.score(x_test, y_test)\n",
    "print('Training DataSet accuracy: {: .1%}'.format(scores_train), 'Test DataSet accuracy: {: .1%}'.format(scores_test))"
   ]
  },
  {
   "cell_type": "markdown",
   "id": "0ca451a2-d0af-45e9-acf6-387b5d9e22ed",
   "metadata": {},
   "source": [
    "Let's evaluate the correctness of the classification with: **[sklearn.metrics.plot_confusion_matrix()](https://scikit-learn.org/stable/modules/generated/sklearn.metrics.plot_confusion_matrix.html)** and convince of these conclusions."
   ]
  },
  {
   "cell_type": "code",
   "execution_count": null,
   "id": "987ca048-5712-47be-b42f-2551c2ca491a",
   "metadata": {},
   "outputs": [],
   "source": [
    "plot_confusion_matrix(pipe_lr, x_test, y_test)\n",
    "plt.show() "
   ]
  },
  {
   "cell_type": "markdown",
   "id": "bf6055ac-da43-40bc-918e-cde942b3f24e",
   "metadata": {},
   "source": [
    "As you can see from the table, our model predicts patient's vital status very well. At the same time, errors in the classification of patients that they will live are very big. The correct forecast is only 321 patients. In 184 cases when the patients actually will die of disease, the model shows that the patient will live. However, there are 0 cases where the model predicts that the patient will die of the disease, when in fact the patient will live.\n",
    "\n",
    "The `Recall` metric is used to assess the accuracy of only patients who will live: **[sklearn.metrics.recall_score()](https://scikit-learn.org/stable/modules/generated/sklearn.metrics.recall_score.html)**"
   ]
  },
  {
   "cell_type": "code",
   "execution_count": null,
   "id": "8bed7b31-a9aa-42d3-b79f-e82f88ca967a",
   "metadata": {},
   "outputs": [],
   "source": [
    "scores_train = recall_score(y_train, pipe_lr.predict(x_train), average='macro')\n",
    "scores_test = recall_score(y_test, pipe_lr.predict(x_test), average='macro')\n",
    "print('Training DataSet accuracy: {: .1%}'.format(scores_train), 'Test DataSet accuracy: {: .1%}'.format(scores_test))"
   ]
  },
  {
   "cell_type": "markdown",
   "id": "08948591-e948-4092-8d43-28d0e60fcecc",
   "metadata": {},
   "source": [
    "As can be seen from this metric, the accuracy is very low. This means that in order to increase this metric of accuracy, it is necessary to increase the training sample. Let's analyze it."
   ]
  },
  {
   "cell_type": "markdown",
   "id": "5be72f75-8c7f-4146-a222-dff34aac0bf6",
   "metadata": {},
   "source": [
    "### Over-sampling problem"
   ]
  },
  {
   "cell_type": "markdown",
   "id": "11a129d2-61d2-462d-9fe5-5bdbb8a96733",
   "metadata": {},
   "source": [
    "Let's analyze the Patient's Vital Status (**[seaborn.countplot()](https://seaborn.pydata.org/generated/seaborn.countplot.html)**):"
   ]
  },
  {
   "cell_type": "code",
   "execution_count": null,
   "id": "e7ee4963-2997-4c6c-85d4-2acdfce7e8b2",
   "metadata": {},
   "outputs": [],
   "source": [
    "sns.countplot(x = y)"
   ]
  },
  {
   "cell_type": "markdown",
   "id": "9fc10c94-c033-482d-86d9-b520fc114bca",
   "metadata": {},
   "source": [
    "As you can see, the number of Living is much greater than the number of Died of Other Causes. To balance the data set, we can use a special function: **[imblearn.over_sampling.RandomOverSampler()](https://imbalanced-learn.org/stable/references/generated/imblearn.over_sampling.RandomOverSampler.html)**:"
   ]
  },
  {
   "cell_type": "code",
   "execution_count": null,
   "id": "54f48a47-c116-4128-ad0e-16f1186ddab8",
   "metadata": {},
   "outputs": [],
   "source": [
    "ROS = RandomOverSampler()\n",
    "o_x, o_y = ROS.fit_resample(x,y)\n",
    "sns.countplot(x = o_y)"
   ]
  },
  {
   "cell_type": "markdown",
   "id": "eeec4c42-6493-4fa7-8950-fd8f7375b68f",
   "metadata": {},
   "source": [
    "Let's add this function to our `Pipeline`, fit the model and recalculate the accuracy."
   ]
  },
  {
   "cell_type": "code",
   "execution_count": null,
   "id": "38ff1153-8b00-4309-894f-cf71c933f513",
   "metadata": {},
   "outputs": [],
   "source": [
    "pipe_s_lr = make_pipeline(trans, ROS, lr)\n",
    "pipe_s_lr"
   ]
  },
  {
   "cell_type": "code",
   "execution_count": null,
   "id": "c3a8e9cb-59c1-4577-967d-401812d5360c",
   "metadata": {},
   "outputs": [],
   "source": [
    "pipe_s_lr.fit(x_train,y_train)"
   ]
  },
  {
   "cell_type": "markdown",
   "id": "a076f107-e2da-4884-b124-0e3f94a07bd3",
   "metadata": {},
   "source": [
    "<div class=\"alert alert-danger alertdanger\" style=\"margin-top: 20px\">\n",
    "<h1> Question  #1: </h1>\n",
    "\n",
    "<b>Calculate the precision for `pipe_s_lr` using the `Recall` metric.</b>\n",
    "\n",
    "</div>"
   ]
  },
  {
   "cell_type": "code",
   "execution_count": null,
   "id": "b7953f25-067d-43b7-82cb-464dadbf156e",
   "metadata": {},
   "outputs": [],
   "source": [
    "# Write your code below and press Shift+Enter to execute\n"
   ]
  },
  {
   "cell_type": "markdown",
   "id": "9af3afc6-b935-44fa-8cd1-631c22e7621a",
   "metadata": {},
   "source": [
    "<details><summary>Click here for the solution</summary>\n",
    "\n",
    "```python\n",
    "scores_train = recall_score(y_train, pipe_s_lr.predict(x_train), average='macro')\n",
    "scores_test = recall_score(y_test, pipe_s_lr.predict(x_test), average='macro')\n",
    "print('Training DataSet accuracy: {: .1%}'.format(scores_train), 'Test DataSet accuracy: {: .1%}'.format(scores_test))\n",
    "```\n",
    "\n",
    "</details>"
   ]
  },
  {
   "cell_type": "markdown",
   "id": "cca77d66-b0dc-49a9-b7d3-e19b6a542669",
   "metadata": {},
   "source": [
    "As you can see, the balance for our dataset is barely changed.\n",
    "\n",
    "Let's analyze the model errors."
   ]
  },
  {
   "cell_type": "code",
   "execution_count": null,
   "id": "d1c2aa92-69e7-4b21-9f0e-5e11c0c2f068",
   "metadata": {},
   "outputs": [],
   "source": [
    "plot_confusion_matrix(pipe_s_lr, x_test, y_test)  \n",
    "plt.show() "
   ]
  },
  {
   "cell_type": "markdown",
   "id": "4404e926-aa03-4575-b693-e88fb536a29a",
   "metadata": {},
   "source": [
    "As we can see, the number of false predictions about a patient who will die has almost not changed. However, the error is high when the model predicts the patient's vital status. The `Precision` is used to assess this accuracy.\n",
    "\n",
    "To further increase the `Recall` metric, the model must be modified because the accuracy of logistic regression for unknown data is about the same as for known data. Therefore, it can no longer provide a better fit."
   ]
  },
  {
   "cell_type": "markdown",
   "id": "5966ecab-2182-468f-917c-459996f616a3",
   "metadata": {},
   "source": [
    "<div class=\"alert alert-danger alertdanger\" style=\"margin-top: 20px\">\n",
    "<h1> Question  #2: </h1>\n",
    "\n",
    "<b>Сalculate the cross-validation score for the new pipeline.</b>\n",
    "\n",
    "</div>"
   ]
  },
  {
   "cell_type": "code",
   "execution_count": null,
   "id": "fd8e9499-9663-4c1f-bd33-4d41f861cb88",
   "metadata": {},
   "outputs": [],
   "source": [
    "# Write your code below and press Shift+Enter to execute\n"
   ]
  },
  {
   "cell_type": "markdown",
   "id": "14279342-921b-4f4a-8695-be98f739e225",
   "metadata": {},
   "source": [
    "<details><summary>Click here for the solution</summary>\n",
    "\n",
    "```python\n",
    "Rcross = cross_val_score(pipe_s_lr, x, y, cv=4)\n",
    "print([round(val, 2) for val in Rcross])\n",
    "print(\"The mean of the folds are\", round(Rcross.mean(), 2), \"and the standard deviation is\", round(Rcross.std(), 2))\n",
    "```\n",
    "\n",
    "</details>"
   ]
  },
  {
   "cell_type": "markdown",
   "id": "a7928b03-06e6-4f8d-877d-b3ad5c07a6d4",
   "metadata": {},
   "source": [
    "<div class=\"alert alert-danger alertdanger\" style=\"margin-top: 20px\">\n",
    "<h1> Question  #3: </h1>\n",
    "\n",
    "<b>Use `cross_val_predict` to generate cross-validated estimates for each input data point using the new pipeline.</b>\n",
    "\n",
    "</div>"
   ]
  },
  {
   "cell_type": "code",
   "execution_count": null,
   "id": "f87c4b0b-8475-447b-9753-ecbd1b1270a2",
   "metadata": {},
   "outputs": [],
   "source": [
    "# Write your code below and press Shift+Enter to execute\n"
   ]
  },
  {
   "cell_type": "markdown",
   "id": "69fc782b-48db-449a-bd8e-0d1d50a6294a",
   "metadata": {},
   "source": [
    "<details><summary>Click here for the solution</summary>\n",
    "\n",
    "```python\n",
    "yhat = cross_val_predict(pipe_s_lr, x, y,cv=4)\n",
    "yhat[0:5]\n",
    "```\n",
    "\n",
    "</details>"
   ]
  },
  {
   "cell_type": "markdown",
   "id": "1d5b9e6d-0335-46a4-94c4-556cdff472d0",
   "metadata": {},
   "source": [
    "### Ensemble of classifiers"
   ]
  },
  {
   "cell_type": "markdown",
   "id": "4d1746a4-300c-4ef1-9b27-1f2e002aa33a",
   "metadata": {},
   "source": [
    "Let's test other classifiers and compare the results.\n",
    "We will test:\n",
    "* [Logistic Regression](https://scikit-learn.org/stable/modules/generated/sklearn.linear_model.LogisticRegression.html?highlight=logistic%20regression#sklearn.linear_model.LogisticRegression)\n",
    "* [Linear SVM](https://scikit-learn.org/stable/modules/generated/sklearn.svm.LinearSVR.html?highlight=linear%20svm#sklearn.svm.LinearSVR)\n",
    "* [Decision Tree](https://scikit-learn.org/stable/modules/generated/sklearn.tree.DecisionTreeClassifier.html?highlight=decisiontreeclassifier#sklearn.tree.DecisionTreeClassifier)\n",
    "* [Extra Tree](https://scikit-learn.org/stable/modules/generated/sklearn.ensemble.ExtraTreesClassifier.html)\n",
    "* [Random Forest](https://scikit-learn.org/stable/modules/generated/sklearn.ensemble.RandomForestClassifier.html?highlight=randomforestclassifier#sklearn.ensemble.RandomForestClassifier)\n",
    "* [Multi-layer Perceptron classifier](https://scikit-learn.org/stable/modules/generated/sklearn.neural_network.MLPClassifier.html?highlight=mlpclassifier#sklearn.neural_network.MLPClassifier)\n",
    "* [Ada Boost](https://scikit-learn.org/stable/modules/generated/sklearn.ensemble.AdaBoostClassifier.html?highlight=adaboostclassifier#sklearn.ensemble.AdaBoostClassifier)\n",
    "* [Gradient Boosting for classification](https://scikit-learn.org/stable/modules/generated/sklearn.ensemble.GradientBoostingClassifier.html)\n",
    "* [Bagging classifier](https://scikit-learn.org/stable/modules/generated/sklearn.ensemble.BaggingClassifier.html)"
   ]
  },
  {
   "cell_type": "markdown",
   "id": "8a06fd9f-5980-4071-9e22-49c3f8d537c0",
   "metadata": {},
   "source": [
    "In addition, different classifiers may err in different situations. Therefore, to compensate for each other's mistakes, it is necessary to use model ensembles by Voting Classifier.\n",
    "\n",
    "A **[Voting Classifier](https://scikit-learn.org/stable/modules/generated/sklearn.ensemble.VotingClassifier.html)** is a machine learning model that trains on an ensemble of numerous models and predicts an output (class) based on their highest probability of chosen class as the output.\n",
    "It simply aggregates the findings of each classifier passed into Voting Classifier and predicts the output class based on the highest majority of voting. The idea is instead of creating separate dedicated models and finding the accuracy for each them, we create a single model which trains by these models and predicts output based on their combined majority of voting for each output class.\n",
    "\n",
    "Voting Classifier supports two types of votings.\n",
    "\n",
    "**Hard Voting**: In hard voting, the predicted output class is a class with the highest majority of votes i.e the class which had the highest probability of being predicted by each of the classifiers. Suppose three classifiers predicted the output class(A, A, B), so here the majority predicted A as output. Hence A will be the final prediction.\n",
    "\n",
    "\n",
    "**Soft Voting**: In soft voting, the output class is the prediction based on the average of probability given to that class. Suppose given some input to three models, the prediction probability for class A = (0.30, 0.47, 0.53) and B = (0.20, 0.32, 0.40). So the average for class A is 0.4333 and B is 0.3067, the winner is clearly class A because it had the highest probability averaged by each classifier.\n"
   ]
  },
  {
   "cell_type": "code",
   "execution_count": null,
   "id": "d4decbe4-e96e-442f-9379-f7c166fc8751",
   "metadata": {},
   "outputs": [],
   "source": [
    "names = [\"Logistic Regression\", \"Linear SVM\",\n",
    "         \"Decision Tree\", \"Extra Tree\", \"Random Forest\", \"Neural Net\", \n",
    "         \"AdaBoost\", \"GradientBoostingClassifier\", \"BaggingClassifier\", \"VotingClassifier\"]\n",
    "\n",
    "classifiers = [\n",
    "    LogisticRegression(),\n",
    "    SVC(kernel=\"linear\", C=0.025),\n",
    "    DecisionTreeClassifier(max_depth=5),\n",
    "    ExtraTreeClassifier(max_depth=5),\n",
    "    RandomForestClassifier(max_depth=5, n_estimators=10, max_features=1),\n",
    "    MLPClassifier(alpha=1, max_iter=1000),\n",
    "    AdaBoostClassifier(n_estimators=100, random_state=0),\n",
    "    GradientBoostingClassifier(n_estimators=100, learning_rate=1.0, max_depth=1, random_state=0),\n",
    "    BaggingClassifier(base_estimator=SVC(), n_estimators=10, random_state=0)]\n",
    "\n",
    "est = [(str(est), est) for est in classifiers]\n",
    "\n",
    "eclf = [VotingClassifier(\n",
    "     estimators=est,\n",
    "     voting='hard')]\n",
    "classifiers += eclf\n",
    "scores_train = []\n",
    "scores_test = []\n",
    "scores_train_s = []\n",
    "scores_test_s = []\n",
    "\n",
    "for name, classif in zip(names, classifiers):\n",
    "    print(name,'fitting.....')\n",
    "    clf = make_pipeline(trans, classif)\n",
    "    clf.fit(x_train,y_train)\n",
    "    score_train = recall_score(y_train, clf.predict(x_train), average='macro')\n",
    "    score_test = recall_score(y_test, clf.predict(x_test), average='macro')\n",
    "    scores_train.append(score_train)\n",
    "    scores_test.append(score_test)\n",
    "    \n",
    "    clf_s = make_pipeline(trans, ROS, classif)\n",
    "    clf_s.fit(x_train,y_train)\n",
    "    score_train_s = recall_score(y_train, clf_s.predict(x_train), average='macro')\n",
    "    score_test_s = recall_score(y_test, clf_s.predict(x_test), average='macro')\n",
    "    scores_train_s.append(score_train_s)\n",
    "    scores_test_s.append(score_test_s)"
   ]
  },
  {
   "cell_type": "markdown",
   "id": "64cb34aa-4b20-4e95-a7b2-2bd2c9872f28",
   "metadata": {},
   "source": [
    "Let's compare the accuracy of classifiers for balanced and unbalanced data sets."
   ]
  },
  {
   "cell_type": "code",
   "execution_count": null,
   "id": "a89100e0-f71b-4f4a-9363-11933f3af5cb",
   "metadata": {},
   "outputs": [],
   "source": [
    "res = pd.DataFrame(index = names)\n",
    "res['Train'] = np.array(scores_train)\n",
    "res['Test'] = np.array(scores_test)\n",
    "res['Train Over Sampler'] = np.array(scores_train_s)\n",
    "res['Test Over Sampler'] = np.array(scores_test_s)\n",
    "\n",
    "res.index.name = \"Classifier accuracy\"\n",
    "pd.options.display.float_format = '{:,.2f}'.format\n",
    "res"
   ]
  },
  {
   "cell_type": "code",
   "execution_count": null,
   "id": "e5fc08ce-beb5-4952-88ac-0ceb1d46a971",
   "metadata": {},
   "outputs": [],
   "source": [
    "fig, ax = plt.subplots(figsize=(10, 6))\n",
    "ax.bar(names, scores_test, label='Test')\n",
    "ax.bar(names, scores_test_s, label='Test Over Sampler')\n",
    "ax.legend(['Test', 'Test Over Sampler'])\n",
    "\n",
    "ax.set_title('Classifier Test Accuracies')\n",
    "ax.set_xlabel('Classifier')\n",
    "ax.set_ylabel('Accuracy')\n",
    "\n",
    "plt.xticks(rotation=90)\n",
    "\n",
    "plt.show()"
   ]
  },
  {
   "cell_type": "markdown",
   "id": "18e37eba-d15b-48ac-8d73-2992d40d4d58",
   "metadata": {},
   "source": [
    "As you can see, the balanced data set leads to a sharp increase in accuracy in all classifiers. It can also be seen that the most accurate model was GradientBoostingClassifier. The ensemble of models showed better accuracy on the training data set and slightly worse on the test.\n",
    "\n",
    "Let's display the last classifier:"
   ]
  },
  {
   "cell_type": "code",
   "execution_count": null,
   "id": "b362d719-e21d-4edf-b85d-cdeb6de661cb",
   "metadata": {},
   "outputs": [],
   "source": [
    "clf_s"
   ]
  },
  {
   "cell_type": "markdown",
   "id": "bb31d336-da55-4324-9228-e8fa43e69ad4",
   "metadata": {},
   "source": [
    "## Conclusions"
   ]
  },
  {
   "cell_type": "markdown",
   "id": "c62ccddb-2e1b-4e32-9b66-c90480ce2a2b",
   "metadata": {},
   "source": [
    "In this lab we studied how to normalize numerical and categorical data. It was shown how to build training and test data sets. Shows how to fit different classifiers, evaluate their accuracy and analyze errors.\n",
    "We also studied how to join them together in an ensemble and create a model based on Pipeline.\n",
    "We compared the accuracy of different classifiers and their ensemble and showed how they can be used in medicine.\n",
    "\n",
    "The accuracy of the decision was about 70%."
   ]
  },
  {
   "cell_type": "markdown",
   "id": "57a16e24-e163-4623-9255-27fc211a86db",
   "metadata": {},
   "source": [
    "### Thank you for completing this lab!\n",
    "\n",
    "## Author\n",
    "\n",
    "<a href=\"https://author.skills.network/instructors/dmytro_shliakhovskyi\">Dmytro Shliakhovskyi</a>\n",
    "\n",
    "### Other Contributors\n",
    "\n",
    "<a href=\"https://author.skills.network/instructors/yaroslav_vyklyuk_2\">Prof. Yaroslav Vyklyuk, DrSc, PhD</a>\n",
    "\n",
    "<a href=\"https://author.skills.network/instructors/nataliya_boyko\">Ass. Prof. Nataliya Boyko, PhD</a>\n",
    "\n",
    "\n",
    "## Change Log\n",
    "\n",
    "| Date (YYYY-MM-DD) | Version | Changed By | Change Description                                         |\n",
    "| ----------------- | ------- | ---------- | ---------------------------------------------------------- |\n",
    "|    2023-03-25     | 01 | Dmytro Shliakhovkyi | Lab created |\n",
    "\n",
    "\n",
    "\n",
    "<hr>\n",
    "\n",
    "## <h3 align=\"center\"> © IBM Corporation 2020. All rights reserved. <h3/>"
   ]
  }
 ],
 "metadata": {
  "kernelspec": {
   "display_name": "Python 3 (ipykernel)",
   "language": "python",
   "name": "python3"
  },
  "language_info": {
   "codemirror_mode": {
    "name": "ipython",
    "version": 3
   },
   "file_extension": ".py",
   "mimetype": "text/x-python",
   "name": "python",
   "nbconvert_exporter": "python",
   "pygments_lexer": "ipython3",
   "version": "3.10.9"
  }
 },
 "nbformat": 4,
 "nbformat_minor": 5
}
