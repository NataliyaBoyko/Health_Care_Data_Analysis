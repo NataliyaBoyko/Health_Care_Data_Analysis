{
 "cells": [
  {
   "cell_type": "markdown",
   "id": "dec0fa21-b0ee-4a36-967c-d1dfd94ee0b0",
   "metadata": {},
   "source": [
    "<center>\n",
    "    <img src=\"https://cf-courses-data.s3.us.cloud-object-storage.appdomain.cloud/assets/logos/SN_web_lightmode_vertical.png\" width=\"300\" alt=\"cognitiveclass.ai logo\"  />\n",
    "</center>"
   ]
  },
  {
   "cell_type": "markdown",
   "id": "35d7a5ad-d516-477a-98f3-482993df3335",
   "metadata": {},
   "source": [
    "# **Forecasting of Breast Cancer on medical measurement**\n",
    "\n",
    "# Lab 4. Classification in medicine"
   ]
  },
  {
   "cell_type": "markdown",
   "id": "806abc4f-8a99-4737-83e8-f20154c637b3",
   "metadata": {},
   "source": [
    "The purpose of this lab is to master the classification of breast cancer of patients for machine learning models.\n",
    "\n",
    "After completing this lab you will be able to:\n",
    "\n",
    "1. preprocess (normalize and transform categorical data) and create DataSet\n",
    "2. features selection\n",
    "3. make classification of patients\n",
    "4. visualize the decision tree of the classification model  "
   ]
  },
  {
   "cell_type": "markdown",
   "id": "de6711d7-8dbf-4dc9-a26b-6b9f5541e023",
   "metadata": {},
   "source": [
    "## Outline"
   ]
  },
  {
   "cell_type": "markdown",
   "id": "1ff406c7-be1a-4fdf-904b-a6c9ff81b11c",
   "metadata": {},
   "source": [
    "* Materials and Methods\n",
    "* General Part\n",
    "  * Import Libraries\n",
    "  * Load the DataSet\n",
    "  * Data preparation\n",
    "      * Data transformation\n",
    "      * Encoding and Normalization\n",
    "  * Features selection\n",
    "      * Chi-Squared Statistic\n",
    "      * Mutual Information Statistic\n",
    "      * Feature Importance\n",
    "      * Correlation Matrix with Heatmap\n",
    "  * Decision tree \n",
    "      * Build model\n",
    "      * Visualization of decision tree\n",
    "  * Classification models\n",
    "      * Extra Trees Classifier\n",
    "      * Logistic regression \n",
    "* Authors\n"
   ]
  },
  {
   "cell_type": "markdown",
   "id": "ba710244-2e48-4f3e-b0a2-29be2d29c70d",
   "metadata": {},
   "source": [
    "----"
   ]
  },
  {
   "cell_type": "markdown",
   "id": "e41aad56-8a12-4b00-8648-6366d8ea2d82",
   "metadata": {},
   "source": [
    "## Materials and Methods"
   ]
  },
  {
   "cell_type": "markdown",
   "id": "b7c62c5e-f7c8-4db6-bcb3-ea7d68dfa73b",
   "metadata": {},
   "source": [
    "Clinical and genomic data was downloaded from cBioPortal.\n",
    "https://www.kaggle.com/datasets/gunesevitan/breast-cancer-metabric\n",
    "\n",
    "> The Molecular Taxonomy of Breast Cancer International Consortium (METABRIC) database is a Canada-UK Project which contains targeted sequencing data of 2,508 primary breast cancer samples.\n",
    "\n",
    "Predicting breast cancer is important because early detection can greatly increase the chances of successful treatment and recovery, ultimately improving the overall health and well-being of the patient.\n",
    "\n",
    "In this lesson, we will try to give answers to a set of questions that may be relevant when breast cancer data:\n",
    "\n",
    "1. What are the most useful Python libraries for classification analysis?\n",
    "2. How to transform category data?\n",
    "3. How to create DataSet?\n",
    "4. How to do features selection?\n",
    "5. How to make, fit, and visualize the classification model?\n",
    "\n",
    "In addition, we will make the conclusions from the obtained results of our classification analysis to predict the patient's vital status."
   ]
  },
  {
   "cell_type": "markdown",
   "id": "6f905c3e-2fdc-4bb9-9f81-19b8e44c62d3",
   "metadata": {},
   "source": [
    "[Scikit-learn](https://scikit-learn.org/stable/) (formerly scikits.learn and also known as sklearn) is a free software machine learning library for the Python programming language. It features various classification, regression, and clustering algorithms including support vector machines, random forests, gradient boosting, k-means, and DBSCAN, and is designed to interoperate with the Python numerical and scientific libraries NumPy and SciPy."
   ]
  },
  {
   "cell_type": "code",
   "execution_count": null,
   "id": "f12f3cca-9d4f-439f-a143-e9f64d93b592",
   "metadata": {},
   "outputs": [],
   "source": [
    "!conda install --yes scikit-learn==0.24.2\n",
    "!conda install --yes python-graphviz"
   ]
  },
  {
   "cell_type": "markdown",
   "id": "1c73b48f-956e-4a4f-9004-608f288edb49",
   "metadata": {},
   "source": [
    "## Import Libraries"
   ]
  },
  {
   "cell_type": "markdown",
   "id": "c51d7257-603c-4428-ac36-a35f0da201fa",
   "metadata": {},
   "source": [
    "Import the libraries necessary to use in this lab. We can add some aliases to make the libraries easier to use in our code and set a default figure size for further plots. Ignore the warnings.\n"
   ]
  },
  {
   "cell_type": "code",
   "execution_count": null,
   "id": "ba5a96e7-34be-4ed3-998f-c140e64c0c0d",
   "metadata": {},
   "outputs": [],
   "source": [
    "import pandas as pd\n",
    "import matplotlib.pyplot as plt\n",
    "import seaborn as sns\n",
    "import numpy as np\n",
    "%matplotlib inline\n",
    "plt.rcParams[\"figure.figsize\"] = (8, 6)\n",
    "# Data transformation\n",
    "from sklearn.preprocessing import LabelEncoder, OrdinalEncoder, StandardScaler\n",
    "from sklearn.preprocessing import MinMaxScaler\n",
    "# Features Selection\n",
    "from sklearn.feature_selection import SelectKBest\n",
    "from sklearn.feature_selection import chi2, mutual_info_classif\n",
    "# Classificators\n",
    "from sklearn.model_selection import train_test_split\n",
    "from sklearn.ensemble import ExtraTreesClassifier\n",
    "from sklearn.linear_model import LogisticRegression\n",
    "from sklearn.metrics import accuracy_score\n",
    "from sklearn.tree import DecisionTreeClassifier \n",
    "from sklearn import tree\n",
    "# warnings deactivate\n",
    "import warnings\n",
    "warnings.filterwarnings('ignore')\n",
    "import graphviz"
   ]
  },
  {
   "cell_type": "markdown",
   "id": "1b9d3191-613c-4d63-9bf1-413e93e5b675",
   "metadata": {},
   "source": [
    "## Load the Dataset"
   ]
  },
  {
   "cell_type": "markdown",
   "id": "e7b21763-c057-4207-8f42-6eec65282559",
   "metadata": {},
   "source": [
    "We will use the same DataSet as in previous labs. Therefore next some steps will be the same"
   ]
  },
  {
   "cell_type": "code",
   "execution_count": null,
   "id": "8852fc20-5faf-464b-a780-3fd92fbdb360",
   "metadata": {},
   "outputs": [],
   "source": [
    "df = pd.read_csv('https://cf-courses-data.s3.us.cloud-object-storage.appdomain.cloud/IBMSkillsNetwork-GPXX0OKHEN/clean_df.csv', index_col=0)\n",
    "df.head(5)"
   ]
  },
  {
   "cell_type": "code",
   "execution_count": null,
   "id": "78d78cb5-6540-40c9-8501-8fa52cee7aa0",
   "metadata": {},
   "outputs": [],
   "source": [
    "df.shape"
   ]
  },
  {
   "cell_type": "markdown",
   "id": "62a155b4-23fe-44e6-bf1d-6a642f1c3776",
   "metadata": {},
   "source": [
    "As you can see DataSet consists of 34 columns. The target column is: \"Patient's Vital Status\". Also, DataSet consists of 2509 rows. In previous labs, we investigated these columns."
   ]
  },
  {
   "cell_type": "markdown",
   "id": "6894795a-3886-49d7-a8eb-83025483085d",
   "metadata": {},
   "source": [
    "<details>\n",
    "<summary><b>Click to see attribute information</b></summary>\n",
    "Input features (column names):\n",
    "\n",
    "1. `Patient ID` - Patient ID (object)\n",
    "2. `Age at Diagnosis` - Age of the patient at diagnosis time (numeric)\n",
    "3. `Type of Breast Surgery` - Breast cancer surgery type (categorical: `Breast Conserving`, `Mastectomy`)\n",
    "4. `Cancer Type Detailed` - Detailed Breast cancer types (categorical: `Breast`, `Breast Angiosarcoma`, `Breast Invasive Ductal Carcinoma`, `Breast Invasive Lobular Carcinoma`, `Breast Invasive Mixed Mucinous Carcinoma`, `Breast Mixed Ductal and Lobular Carcinoma`, `Invasive Breast Carcinoma`, `Metaplastic Breast Cancer`)\n",
    "5. `Cellularity` - Cancer cellularity post-chemotherapy, which refers to the number of tumor cells in the specimen and their arrangement into clusters (categorical: `High`, `Low`, `Moderate`)\n",
    "6. `Chemotherapy` - Whether or not the patient had chemotherapy as a treatment (yes/no) (boolean)\n",
    "7. `Pam50 + Claudin-low subtype` - Pam 50: is a tumor profiling test that helps show whether some estrogen receptor-positive (ER-positive) and HER2-negative breast cancers are likely to metastasize (when breast cancer spreads to other organs). (categorical: `Basal`, `Her2`, `LumA`, `LumB`, `NC`, `Normal`, `claudin-low`)\n",
    "8. `Cohort` - A cohort is a group of subjects who share a defining characteristic (numeric)\n",
    "9. `ER status measured by IHC` - To assess if estrogen receptors are expressed on cancer cells by using immune-histochemistry (a dye used in pathology that targets specific antigens, if it is there, it will give a color, it is not there, the tissue on the slide will be colored)(categorical: `Positive`, `Negative`)\n",
    "10. `ER Status` - Cancer cells are positive or negative for estrogen receptors (categorical: `Positive`, `Negative`)\n",
    "11. `Neoplasm Histologic Grade` - Determined by pathology by looking at the nature of the cells, do they look aggressive or not (It takes a value from 1 to 3) (numeric).\n",
    "12. `HER2 status measured by SNP6` - To assess if cancer is positive for HER2 or not by using advance molecular techniques (Type of next-generation sequencing) (categorical: `Gain`, `Loss`, `Neutral`, `Undef`)\n",
    "13. `HER2 Status` - Whether the cancer is positive or negative for HER2 (categorical: `Positive`, `Negative`)\n",
    "14. `Tumor Other Histologic Subtype` - Type of cancer-based on microscopic examination of the cancer tissue (categorical: `Ductal/NST`, `Lobular`, `Medullary`, `Metaplastic`, `Mixed`, `Mucinous`, `Other`, `Tubular/ cribriform`)\n",
    "15. `Hormone Therapy` - Whether or not the patient had hormonal as a treatment (yes/no) (boolean)\n",
    "16. `Integrative Cluster` - Molecular subtype of cancer-based on some gene expression (categorical: `1`, `2`, `3`, `4ER+`, `4ER-`, `5`, `6`, `7`,  `8`, `9`, `10`)\n",
    "17. `Primary Tumor Laterality` - Whether it is involving the right breast or the left breast (categorical: `Left`, `Right`)\n",
    "18. `Lymph nodes examined positive` - To take samples of the lymph node during the surgery and see if there were involved by cancer (numeric)\n",
    "19. `Mutation Count` - Number of a gene that has relevant mutations (numeric)\n",
    "20. `Nottingham prognostic index` - It is used to determine the prognosis following surgery for breast cancer. Its value is calculated using three pathological criteria: the size of the tumor; the number of involved lymph nodes; and the grade of the tumor. (numeric)\n",
    "21. `Oncotree Code` - The OncoTree is an open-source ontology that was developed at Memorial Sloan Kettering Cancer Center (MSK) for standardizing cancer type diagnosis from a clinical perspective by assigning each diagnosis a unique OncoTree code (categorical: `BRCA`, `BREAST`, `IDC`, `ILC`, `IMMC`, `MBC`, `MDLC`, `PBS`)\n",
    "22. `PR Status` - Cancer cells are positive or negative for progesterone receptors (categorical: `Positive`, `Negative`)\n",
    "23. `Radio Therapy` - Whether or not the patient had radio as a treatment (yes/no) (boolean)\n",
    "24. `3-Gene classifier subtype` - Three Gene classifier subtype (categorical: `ER+/HER2- High Prolif`, `ER+/HER2- Low Prolif`, `ER-/HER2-`, `HER2+`)\n",
    "25. `Tumor Size` - Tumor size measured by imaging techniques (numeric)\n",
    "26. `Tumor Stage` - Stage of cancer-based on the involvement of surrounding structures, lymph nodes, and distant spread (numeric)\n",
    "27. `Overall Survival (Years)` - Duration from the time of the intervention to death (numeric)\n",
    "28. `Relapse Free Status (Years)` - Absence of any signs or symptoms of cancer recurrence or metastasis after a patient has completed treatment for breast cancer. (numeric)\n",
    "29. `Nottingham prognostic index-binned` - (categorical)\n",
    "30. `Inferred Menopausal State-Post` - Whether the patient is post-menopausal or not (numeric)\n",
    "31. `Inferred Menopausal State-Pre` - Whether the patient is post-menopausal or not (numeric)\n",
    "32. `Relapse Free Status-Not Recurred` - Absence of any signs or symptoms of cancer recurrence or metastasis after a patient has completed treatment for breast cancer (numeric)\n",
    "33. `Relapse Free Status-Recurred` - Absence of any signs or symptoms of cancer recurrence or metastasis after a patient has completed treatment for breast cancer (numeric)\n",
    "\n",
    "\n",
    "Output feature (desired target):\n",
    "\n",
    "34. `Patient's Vital Status` - Patient's Vital Status (categorical: `Died of Disease`,`Died of Other Causes`, `Living`)\n",
    "</details>"
   ]
  },
  {
   "cell_type": "markdown",
   "id": "af370da2-ccd7-4b75-8ea9-32dcbc6318ad",
   "metadata": {},
   "source": [
    "Our goal is to create a classification model that can predict a Patient's Vital Status. To do this we must analyze and prepare data for such type of model."
   ]
  },
  {
   "cell_type": "markdown",
   "id": "3da1ff92-95fb-4bc0-8b38-c724418d6b71",
   "metadata": {},
   "source": [
    "## Data preparation"
   ]
  },
  {
   "cell_type": "markdown",
   "id": "00c14398-7344-4b1d-a22f-f8c940371017",
   "metadata": {},
   "source": [
    "### Data transformation"
   ]
  },
  {
   "cell_type": "markdown",
   "id": "8cf300d2-26eb-4eb6-8398-c5c034be208b",
   "metadata": {},
   "source": [
    "First of all we should investigate how pandas recognized types of features"
   ]
  },
  {
   "cell_type": "code",
   "execution_count": null,
   "id": "bcad8a6d-6e21-4671-8f2f-9ffca3805206",
   "metadata": {},
   "outputs": [],
   "source": [
    "df.info()"
   ]
  },
  {
   "cell_type": "markdown",
   "id": "5060e4c4-95bb-4c52-a6fc-7819ed4e6305",
   "metadata": {},
   "source": [
    "As you can see all categorical features were recognized like objects. We must change their type on \"categorical\". "
   ]
  },
  {
   "cell_type": "code",
   "execution_count": null,
   "id": "fca42772-fe13-4123-b9f0-a0964c18c121",
   "metadata": {},
   "outputs": [],
   "source": [
    "col_cat = list(df.select_dtypes(include=['object']).columns)\n",
    "# Remove the first column \"Patient ID\"\n",
    "col_cat = col_cat[1:]\n",
    "col_cat"
   ]
  },
  {
   "cell_type": "markdown",
   "id": "218e67ba-3cec-4ff4-a319-6d83358f6203",
   "metadata": {},
   "source": [
    "Let's look at the DataSet size."
   ]
  },
  {
   "cell_type": "code",
   "execution_count": null,
   "id": "6aaf3d2a-dbdb-4c4e-803c-b75d1c5ed747",
   "metadata": {},
   "outputs": [],
   "source": [
    "df.loc[:, col_cat] = df[col_cat].astype('category')\n",
    "df.info()"
   ]
  },
  {
   "cell_type": "markdown",
   "id": "724602d6-5eea-48b9-9a43-3fa790e9cfe6",
   "metadata": {},
   "source": [
    "To see the unique values of exact feature (column) we can use:"
   ]
  },
  {
   "cell_type": "code",
   "execution_count": null,
   "id": "412d05e8-8f1d-4115-ba5c-fcec21146758",
   "metadata": {},
   "outputs": [],
   "source": [
    "df['Type of Breast Surgery'].unique()"
   ]
  },
  {
   "cell_type": "markdown",
   "id": "7c3d0ba1-ca6b-43ed-bde1-347e50a35688",
   "metadata": {},
   "source": [
    "As was signed earlier the dataset contains 2509 objects (rows), for each of which 34 features are set (columns), including 1 target feature (Patient's Vital Status). 33 features, including the target, are categorical. These data types of values cannot use for classification. We must transform it to int or float.\n",
    "To do this we can use **[LabelEncoder](https://scikit-learn.org/stable/modules/generated/sklearn.preprocessing.LabelEncoder.html)** and **[OrdinalEncoder](https://scikit-learn.org/stable/modules/generated/sklearn.preprocessing.OrdinalEncoder.html)**. These functions can encode categorical features as an integer array.\n",
    "\n",
    "First of all we separate DataSet on input and output(target) DataSets"
   ]
  },
  {
   "cell_type": "code",
   "execution_count": null,
   "id": "2148d940-934e-42a1-bc1a-28f15220eef8",
   "metadata": {},
   "outputs": [],
   "source": [
    "X = df.drop([\"Patient's Vital Status\", \"Patient ID\"], axis=1) #input columns\n",
    "y = df[\"Patient's Vital Status\"] #target column\n"
   ]
  },
  {
   "cell_type": "markdown",
   "id": "c465efc6-49cd-4496-b504-a641cf1e46a8",
   "metadata": {},
   "source": [
    "Let's create a list of boolean fields."
   ]
  },
  {
   "cell_type": "code",
   "execution_count": null,
   "id": "e834b14d-1ac7-4c14-9898-76d303161d6e",
   "metadata": {},
   "outputs": [],
   "source": [
    "col_bool = list(df.select_dtypes(include=['bool']).columns)\n",
    "col_bool"
   ]
  },
  {
   "cell_type": "markdown",
   "id": "cb6b2f0c-8ab8-42b6-a3f9-c349029b8e6e",
   "metadata": {},
   "source": [
    "### Encoding and Normalization"
   ]
  },
  {
   "cell_type": "markdown",
   "id": "bf79a3a7-4112-492e-b63e-2cddd45cddd3",
   "metadata": {},
   "source": [
    "Let's look at the value of the target column"
   ]
  },
  {
   "cell_type": "code",
   "execution_count": null,
   "id": "af8cb759-2dec-45f6-9a2e-f09cba83b4ca",
   "metadata": {},
   "outputs": [],
   "source": [
    "y.value_counts()"
   ]
  },
  {
   "cell_type": "markdown",
   "id": "901122d0-2047-4544-8791-efc0e6c0b178",
   "metadata": {},
   "source": [
    "Then create a list of categorical fields and transform their values into int arrays:"
   ]
  },
  {
   "cell_type": "code",
   "execution_count": null,
   "id": "497d681d-5705-463c-affc-00342fbc567c",
   "metadata": {},
   "outputs": [],
   "source": [
    "col_cat = df.loc[:, ~df.columns.isin([\"Patient's Vital Status\", \"Patient ID\"])].select_dtypes(include=['category']).columns\n",
    "oe = OrdinalEncoder()\n",
    "oe.fit(X[col_cat])\n",
    "X_cat_enc = oe.transform(X[col_cat])"
   ]
  },
  {
   "cell_type": "code",
   "execution_count": null,
   "id": "ede28947-e764-44e4-9b10-4f636e733302",
   "metadata": {},
   "outputs": [],
   "source": [
    "X_cat_enc"
   ]
  },
  {
   "cell_type": "markdown",
   "id": "b9431891-d946-4dc1-8dc6-259103231a59",
   "metadata": {},
   "source": [
    "Than we must transform arrays back into DataFrame:"
   ]
  },
  {
   "cell_type": "code",
   "execution_count": null,
   "id": "3f6e6177-e979-46b7-8132-90d728817c84",
   "metadata": {},
   "outputs": [],
   "source": [
    "X_cat_enc = pd.DataFrame(X_cat_enc)\n",
    "X_cat_enc.columns = col_cat\n",
    "X_cat_enc"
   ]
  },
  {
   "cell_type": "markdown",
   "id": "f5402766-9b98-4a74-ad1a-0fc03751544d",
   "metadata": {},
   "source": [
    "Numerical fields can have a different scale and can consist of negative values. These will lead to round mistakes and exceptions for some AI methods. To avoid it these features must be normalized.\n",
    "\n",
    "Let's create a list of numerical fields and normalize it using **[MinMaxScaler](https://scikit-learn.org/stable/modules/generated/sklearn.preprocessing.MinMaxScaler.html)**"
   ]
  },
  {
   "cell_type": "code",
   "execution_count": null,
   "id": "c8a49417-8011-424f-a0cd-29913ac14c30",
   "metadata": {},
   "outputs": [],
   "source": [
    "col_num = df.select_dtypes(include=['int64', 'float64']).columns\n",
    "\n",
    "scaler = MinMaxScaler(feature_range=(0, 1))\n",
    "X_num_enc = scaler.fit_transform(X[col_num])"
   ]
  },
  {
   "cell_type": "code",
   "execution_count": null,
   "id": "71a37a42-06ca-4777-b6c7-ac84dbec8b2d",
   "metadata": {},
   "outputs": [],
   "source": [
    "X_num_enc"
   ]
  },
  {
   "cell_type": "markdown",
   "id": "865bf0c9-62fa-4973-9761-dcde1351d8f7",
   "metadata": {},
   "source": [
    "Like in the previous case transform back obtained arrays into DataFrame"
   ]
  },
  {
   "cell_type": "code",
   "execution_count": null,
   "id": "c64ea10e-8468-4c0b-9cad-e966aff3cf52",
   "metadata": {},
   "outputs": [],
   "source": [
    "X_num_enc = pd.DataFrame(X_num_enc)\n",
    "X_num_enc.columns = col_num\n",
    "X_num_enc"
   ]
  },
  {
   "cell_type": "markdown",
   "id": "54ca0869-76a1-49d0-b67a-438a73bffc4e",
   "metadata": {},
   "source": [
    "<div class=\"alert alert-danger alertdanger\" style=\"margin-top: 20px\">\n",
    "<h3>Question  #1:</h3>\n",
    "\n",
    "<b>Transform the list of boolean and their values to int arrays: </b>\n",
    "\n",
    "</div>"
   ]
  },
  {
   "cell_type": "code",
   "execution_count": null,
   "id": "10c7a288-22ff-474f-a5ce-86c1a09b028e",
   "metadata": {},
   "outputs": [],
   "source": [
    "# Write your code below and press Shift+Enter to execute\n",
    "\n",
    "oe = OrdinalEncoder()\n",
    "oe.fit(X[col_bool])\n",
    "X_bool_enc = oe.transform(X[col_bool])"
   ]
  },
  {
   "cell_type": "markdown",
   "id": "fb22eb47-5816-4147-9bbc-58e62fe08147",
   "metadata": {},
   "source": [
    "<details><summary>Click here for the solution</summary>\n",
    "\n",
    "```python\n",
    "oe = OrdinalEncoder()\n",
    "oe.fit(X[col_bool])\n",
    "X_bool_enc = oe.transform(X[col_bool])\n",
    "```\n",
    "\n",
    "</details>"
   ]
  },
  {
   "cell_type": "code",
   "execution_count": null,
   "id": "8274ab47-21fa-4f7f-b0cb-7d64dc8ddc76",
   "metadata": {},
   "outputs": [],
   "source": [
    "col_bool"
   ]
  },
  {
   "cell_type": "code",
   "execution_count": null,
   "id": "6b8fe907-3c74-4cb2-a43f-c384d6865c59",
   "metadata": {},
   "outputs": [],
   "source": [
    "X_bool_enc"
   ]
  },
  {
   "cell_type": "markdown",
   "id": "783fcc37-725a-4449-9e99-15877f77a24e",
   "metadata": {},
   "source": [
    "<div class=\"alert alert-danger alertdanger\" style=\"margin-top: 20px\">\n",
    "<h3>Question  #2:</h3>\n",
    "\n",
    "<b>Transform arrays back into DataFrame: </b>\n",
    "\n",
    "</div>"
   ]
  },
  {
   "cell_type": "code",
   "execution_count": null,
   "id": "127612bf-401a-4fb8-a9c1-2186cfb60426",
   "metadata": {},
   "outputs": [],
   "source": [
    "# Write your code below and press Shift+Enter to execute\n",
    "\n",
    "X_bool_enc = pd.DataFrame(X_bool_enc)\n",
    "X_bool_enc.columns = col_bool\n",
    "X_bool_enc"
   ]
  },
  {
   "cell_type": "markdown",
   "id": "a93afe61-8025-4bce-8f4c-adbc7aa9f186",
   "metadata": {},
   "source": [
    "<details><summary>Click here for the solution</summary>\n",
    "\n",
    "```python\n",
    "X_bool_enc = pd.DataFrame(X_bool_enc)\n",
    "X_bool_enc.columns = col_bool\n",
    "X_bool_enc\n",
    "```\n",
    "\n",
    "</details>"
   ]
  },
  {
   "cell_type": "markdown",
   "id": "0ab55858-08f4-4bf2-9b41-84fd0f5ea91f",
   "metadata": {},
   "source": [
    "Then we should concatenate these DataFrames in one input DataFrame"
   ]
  },
  {
   "cell_type": "code",
   "execution_count": null,
   "id": "2a160b09-94d7-44f1-9ee9-862ef3490382",
   "metadata": {},
   "outputs": [],
   "source": [
    "x_enc = pd.concat([X_cat_enc, X_num_enc, X_bool_enc], axis=1)\n",
    "x_enc"
   ]
  },
  {
   "cell_type": "markdown",
   "id": "2a8953d9-05c0-4399-ad9a-ac235107230a",
   "metadata": {},
   "source": [
    "The same transformation we must do for the target field"
   ]
  },
  {
   "cell_type": "code",
   "execution_count": null,
   "id": "46e99bec-8289-49cb-ad5d-976930f22c09",
   "metadata": {},
   "outputs": [],
   "source": [
    "le = LabelEncoder()\n",
    "le.fit(y)\n",
    "y_enc = le.transform(y)\n",
    "y_enc = pd.Series(y_enc)\n",
    "y_enc.columns = y.name"
   ]
  },
  {
   "cell_type": "code",
   "execution_count": null,
   "id": "de048569-c780-45b7-91f0-35e51f97084d",
   "metadata": {},
   "outputs": [],
   "source": [
    "y"
   ]
  },
  {
   "cell_type": "code",
   "execution_count": null,
   "id": "f1e1c910-fd2b-43da-91a4-50b64cd48b49",
   "metadata": {},
   "outputs": [],
   "source": [
    "y_enc"
   ]
  },
  {
   "cell_type": "markdown",
   "id": "ada209a3-4e9a-4764-9141-aefee1610901",
   "metadata": {},
   "source": [
    "As you can see values 'Died of Disease' was changed to 0, 'Died of Other Causes' to 1, and 'Living' to 2."
   ]
  },
  {
   "cell_type": "markdown",
   "id": "9c724bdf-0c83-4e43-983e-02b7999ee98c",
   "metadata": {},
   "source": [
    "## Features selection"
   ]
  },
  {
   "cell_type": "markdown",
   "id": "8ae75c14-02ec-45b4-8fcb-46b06579ae00",
   "metadata": {},
   "source": [
    "As was signed before input fields consist of 32 features. Of course, some of them are more significant for classification.\n",
    "\n",
    "Two popular feature selection techniques can be used for categorical input data and a categorical (class) target variable.\n",
    "\n",
    "They are:\n",
    "\n",
    "* Chi-Squared Statistic.\n",
    "* Mutual Information Statistic.\n",
    "\n",
    "Let’s take a closer look at each in turn.\n",
    "\n",
    "To do this we can use **[SelectKBest](https://scikit-learn.org/stable/modules/generated/sklearn.feature_selection.SelectKBest.html)**"
   ]
  },
  {
   "cell_type": "markdown",
   "id": "b801cca1-21fd-45e4-ab1d-03267b4a6242",
   "metadata": {},
   "source": [
    "### Chi-Squared Statistic"
   ]
  },
  {
   "cell_type": "markdown",
   "id": "67da7d86-c54f-401c-8eba-8edb06e341ec",
   "metadata": {},
   "source": [
    "Pearson’s chi-squared statistical hypothesis test is an example of a test for independence between categorical variables.\n",
    "\n",
    "You can learn more about this statistical test in the tutorial:\n",
    "\n",
    "[A Gentle Introduction to the Chi-Squared Test for Machine Learning](https://machinelearningmastery.com/chi-squared-test-for-machine-learning/)\n",
    "The results of this test can be used for feature selection, where those features that are independent of the target variable can be removed from the dataset.\n",
    "\n",
    "The scikit-learn machine library provides an implementation of the chi-squared test in the **[chi2()](https://scikit-learn.org/stable/modules/generated/sklearn.feature_selection.chi2.html#sklearn.feature_selection.chi2)** function. This function can be used in a feature selection strategy, such as selecting the top k most relevant features (largest values) via the SelectKBest class.\n",
    "\n",
    "For example, we can define the SelectKBest class to use the chi2() function and select all (or most significant) features."
   ]
  },
  {
   "cell_type": "markdown",
   "id": "1271d2b7-7298-43e8-a94c-ff4134a45460",
   "metadata": {},
   "source": [
    "Apply SelectKBest class to extract top 10 best features"
   ]
  },
  {
   "cell_type": "code",
   "execution_count": null,
   "id": "403d927c-d520-4c49-96e6-d579c1fd0b72",
   "metadata": {},
   "outputs": [],
   "source": [
    "bestfeatures = SelectKBest(score_func=chi2, k=10)\n",
    "fit = bestfeatures.fit(x_enc, y_enc)\n",
    "dfscores = pd.DataFrame(fit.scores_)\n",
    "dfcolumns = pd.DataFrame(X.columns)"
   ]
  },
  {
   "cell_type": "markdown",
   "id": "7b31176f-d468-408f-9a6d-977d3ad81b2d",
   "metadata": {},
   "source": [
    "concat two DataFrames for better visualization "
   ]
  },
  {
   "cell_type": "code",
   "execution_count": null,
   "id": "adc21a1c-633b-42b2-8454-c4a850cecdc1",
   "metadata": {},
   "outputs": [],
   "source": [
    "featureScores = pd.concat([dfcolumns, dfscores],axis=1)\n",
    "featureScores.columns = ['Specs','Score']  #naming the dataframe columns\n",
    "print(round(featureScores.nlargest(10,'Score'),2))  #print 10 best features"
   ]
  },
  {
   "cell_type": "markdown",
   "id": "b61c8cc6-ace0-4522-a9db-e41e47a93cfc",
   "metadata": {},
   "source": [
    "### Mutual Information Statistic"
   ]
  },
  {
   "cell_type": "markdown",
   "id": "6efde3a0-86f2-4aa0-bb63-fcfea2d8988c",
   "metadata": {},
   "source": [
    "Mutual information from the field of information theory is the application of information gain (typically used in the construction of decision trees) to feature selection.\n",
    "\n",
    "Mutual information is calculated between two variables and measures the reduction in uncertainty for one variable given a known value of the other variable.\n",
    "\n",
    "[You can learn more about mutual information in the following tutorial.](https://machinelearningmastery.com/information-gain-and-mutual-information)\n",
    "\n",
    "The scikit-learn machine learning library provides an implementation of mutual information for feature selection via the **[mutual_info_classif()](https://scikit-learn.org/stable/modules/generated/sklearn.feature_selection.mutual_info_classif.html#sklearn.feature_selection.mutual_info_classif)** function.\n",
    "\n",
    "Like chi2(), it can be used in the SelectKBest feature selection strategy (and other strategies)."
   ]
  },
  {
   "cell_type": "markdown",
   "id": "75da1cf2-1ad0-4e5d-ab62-360e7ec00497",
   "metadata": {},
   "source": [
    "<div class=\"alert alert-danger alertdanger\" style=\"margin-top: 20px\">\n",
    "<h3>Question  #3:</h3>\n",
    "\n",
    "<b>Define the SelectKBest class to use the mutual_info_classif() function and select all (or most significant) features. </b>\n",
    "\n",
    "</div>"
   ]
  },
  {
   "cell_type": "code",
   "execution_count": null,
   "id": "c4870aa4-0724-42e3-aa73-62577421ba70",
   "metadata": {},
   "outputs": [],
   "source": [
    "# Write your code below and press Shift+Enter to execute\n",
    "\n",
    "bestfeatures = SelectKBest(score_func=mutual_info_classif, k=10)\n",
    "fit = bestfeatures.fit(x_enc, y_enc)\n",
    "dfscores = pd.DataFrame(fit.scores_)\n",
    "dfcolumns = pd.DataFrame(X.columns)\n",
    "featureScores = pd.concat([dfcolumns, dfscores],axis=1)\n",
    "featureScores.columns = ['Specs','Score']  #naming the dataframe columns\n",
    "print(round(featureScores.nlargest(10,'Score'),2))  #print 10 best features"
   ]
  },
  {
   "cell_type": "markdown",
   "id": "35c6556f-b3f0-4646-b7a6-4db592a4c504",
   "metadata": {},
   "source": [
    "<details><summary>Click here for the solution</summary>\n",
    "\n",
    "```python\n",
    "bestfeatures = SelectKBest(score_func=mutual_info_classif, k=10)\n",
    "fit = bestfeatures.fit(x_enc, y_enc)\n",
    "dfscores = pd.DataFrame(fit.scores_)\n",
    "dfcolumns = pd.DataFrame(X.columns)\n",
    "featureScores = pd.concat([dfcolumns, dfscores],axis=1)\n",
    "featureScores.columns = ['Specs','Score']  #naming the dataframe columns\n",
    "print(round(featureScores.nlargest(10,'Score'),2))  #print 10 best features\n",
    "```\n",
    "\n",
    "</details>"
   ]
  },
  {
   "cell_type": "markdown",
   "id": "08f024de-ec30-4708-880f-73735e6f8fb0",
   "metadata": {},
   "source": [
    "As you can see these 2 functions select different significant features."
   ]
  },
  {
   "cell_type": "markdown",
   "id": "a3b9abc7-96e3-40ad-b5a4-f4d18a91df5d",
   "metadata": {},
   "source": [
    "### Feature Importance"
   ]
  },
  {
   "cell_type": "markdown",
   "id": "c1ea1310-b037-431c-bc7c-46830ecbd62f",
   "metadata": {},
   "source": [
    "You can get the feature importance of each feature of your DataFrame by using the feature importance property of the exact classification model.\n",
    "Feature importance gives you a score for each feature of your data, the higher the score more important or relevant is the feature towards your output variable.\n",
    "For example:\n",
    "Feature importance is an inbuilt class that comes with **[Tree Based Classifiers](https://scikit-learn.org/stable/modules/generated/sklearn.ensemble.ExtraTreesClassifier.html)**, we will be using Extra Tree Classifier for extracting the top 10 features for the dataset."
   ]
  },
  {
   "cell_type": "markdown",
   "id": "fdda158f-d11e-46e3-94ac-69e4e1d1d3ce",
   "metadata": {},
   "source": [
    "Let's create and fit the model:"
   ]
  },
  {
   "cell_type": "code",
   "execution_count": null,
   "id": "1a1a93ba-5f59-4141-9bfa-7bdfec6f2f58",
   "metadata": {},
   "outputs": [],
   "source": [
    "model = ExtraTreesClassifier()\n",
    "model.fit(x_enc, y_enc)"
   ]
  },
  {
   "cell_type": "markdown",
   "id": "d208345e-f9d9-455b-b001-3423883541bd",
   "metadata": {},
   "source": [
    "use inbuilt class feature_importances of tree-based classifiers"
   ]
  },
  {
   "cell_type": "code",
   "execution_count": null,
   "id": "2636b605-4482-409d-866f-91215861af31",
   "metadata": {},
   "outputs": [],
   "source": [
    "print(model.feature_importances_)"
   ]
  },
  {
   "cell_type": "markdown",
   "id": "a2f8be9e-3139-4541-8fea-d6ee109626cd",
   "metadata": {},
   "source": [
    "Let's transform it into a Series and plot a graph of feature importances for better visualization"
   ]
  },
  {
   "cell_type": "code",
   "execution_count": null,
   "id": "97f5299f-3592-4510-b285-d63ba114dc5d",
   "metadata": {},
   "outputs": [],
   "source": [
    "feat_importances = pd.Series(model.feature_importances_, index=x_enc.columns)\n",
    "feat_importances.nlargest(10).plot(kind='barh')\n",
    "plt.show()"
   ]
  },
  {
   "cell_type": "markdown",
   "id": "7009c60e-3fd7-4840-9f9b-590e684da6ef",
   "metadata": {},
   "source": [
    "You can see that for the Extra Tree Classifier importance of features are different than in previous cases. It means that there are no exact rules for features selection. And their importance strictly dependence on model."
   ]
  },
  {
   "cell_type": "markdown",
   "id": "00001051-3a42-4cc6-926c-b4496b63299a",
   "metadata": {},
   "source": [
    "### Correlation Matrix with Heatmap"
   ]
  },
  {
   "cell_type": "markdown",
   "id": "e57ae4cf-d7bb-492e-83ae-2630ad986b44",
   "metadata": {},
   "source": [
    "Correlation states how the features are related to each other.\n",
    "Correlation can be positive (an increase in one value of a feature increases the value of the other variable) or negative (an increase in one value of a feature decreases the value of the other variable)\n",
    "Heatmap makes it easy to identify which features are most related to the other variable, we will plot heatmap of correlated features using the Seaborn library."
   ]
  },
  {
   "cell_type": "code",
   "execution_count": null,
   "id": "ec570c96-dbf8-4a73-b5e8-662bd6943a52",
   "metadata": {},
   "outputs": [],
   "source": [
    "corrmat = x_enc.corr()\n",
    "top_corr_features = corrmat.index\n",
    "plt.figure(figsize=(20,20))\n",
    "g=sns.heatmap(x_enc[top_corr_features].corr(),annot=True,cmap=\"RdYlGn\")"
   ]
  },
  {
   "cell_type": "markdown",
   "id": "b1e1a672-1213-48a6-a720-46654aaa82fd",
   "metadata": {},
   "source": [
    "As you can see fields 'Inferred Menopausal State-Post', 'Inferred Menopausal State-Pre', 'Relapse Free Status-Not Recurred', 'Relapse Free Status-Recurred' and 'HER2 status measured by SNP6', 'HER2 Status' strictly correlate each other. It means that three of them must be removed from the calculation because there are linear dependencies between them. If we know one of them we can easily calculate another three. Let's remove 'Inferred Menopausal State-Pre', 'Relapse Free Status-Recurred', and 'HER2 Status'."
   ]
  },
  {
   "cell_type": "code",
   "execution_count": null,
   "id": "7d58c79f-e511-482a-9d3c-8ab6a9bec0be",
   "metadata": {},
   "outputs": [],
   "source": [
    "col = x_enc.columns\n",
    "col"
   ]
  },
  {
   "cell_type": "code",
   "execution_count": null,
   "id": "f2737a71-3118-4e26-b562-52c78d612af8",
   "metadata": {},
   "outputs": [],
   "source": [
    "col = ['Type of Breast Surgery', 'Cancer Type Detailed', 'Cellularity',\n",
    "       'Pam50 + Claudin-low subtype', 'ER status measured by IHC',\n",
    "       'HER2 status measured by SNP6', 'Tumor Other Histologic Subtype',\n",
    "       'Integrative Cluster', 'Primary Tumor Laterality', 'Oncotree Code',\n",
    "       'PR Status', '3-Gene classifier subtype',\n",
    "       'Nottingham prognostic index-binned', 'Age at Diagnosis',\n",
    "       'Cohort', 'Neoplasm Histologic Grade',\n",
    "       'Lymph nodes examined positive', 'Mutation Count',\n",
    "       'Nottingham prognostic index', 'Tumor Size', 'Tumor Stage',\n",
    "       'Overall Survival (Years)', 'Relapse Free Status (Years)',\n",
    "       'Inferred Menopausal State-Post', 'Relapse Free Status-Recurred',\n",
    "       'Chemotherapy', 'Hormone Therapy', 'Radio Therapy']"
   ]
  },
  {
   "cell_type": "code",
   "execution_count": null,
   "id": "9fe6d4fd-4307-4b9f-9d25-f3b5524b18d8",
   "metadata": {},
   "outputs": [],
   "source": [
    "x_enc = x_enc[col]"
   ]
  },
  {
   "cell_type": "code",
   "execution_count": null,
   "id": "394ff09e-6983-43ff-9a36-51dc392c5d22",
   "metadata": {},
   "outputs": [],
   "source": [
    "x_enc"
   ]
  },
  {
   "cell_type": "code",
   "execution_count": null,
   "id": "c523d56d-8289-4dc0-a4a9-333c52df25c0",
   "metadata": {},
   "outputs": [],
   "source": [
    "col"
   ]
  },
  {
   "cell_type": "markdown",
   "id": "81759680-a195-47b8-bd31-8de9a2b585f9",
   "metadata": {},
   "source": [
    "## Classification models"
   ]
  },
  {
   "cell_type": "markdown",
   "id": "deba18e0-b9f4-4653-9565-841cd843586b",
   "metadata": {},
   "source": [
    "## Decision tree"
   ]
  },
  {
   "cell_type": "markdown",
   "id": "ec7f43c6-394e-498d-8350-e4a5b696e498",
   "metadata": {},
   "source": [
    "### Build model"
   ]
  },
  {
   "cell_type": "markdown",
   "id": "ee6b3397-9258-4d41-a0f6-438e723a0330",
   "metadata": {},
   "source": [
    "The biggest drawback is the inability to visualize or justify the decision."
   ]
  },
  {
   "cell_type": "markdown",
   "id": "3a88de81-62b9-4a63-813e-849d7400447c",
   "metadata": {},
   "source": [
    "Decision trees are a popular supervised learning method for a variety of reasons. The benefits of decision trees include that they can be used for both regression and classification, they don’t require feature scaling, and they are relatively easy to interpret as you can visualize decision trees. This is not only a powerful way to understand your model, but also to communicate how your model works. Consequently, it would help to know how to make a visualization based on your model."
   ]
  },
  {
   "cell_type": "markdown",
   "id": "e7edd98c-55d2-49eb-a94f-ee4d73bd2b58",
   "metadata": {},
   "source": [
    "A **[Decision Tree](https://scikit-learn.org/stable/modules/generated/sklearn.tree.DecisionTreeClassifier.html)** is a supervised algorithm used in machine learning. It is using a binary tree graph (each node has two children) to assign for each data sample a target value. The target values are presented in the tree leaves. To reach the leaf, the sample is propagated through nodes, starting at the root node. In each node, a decision is made, as to which descendant node it should go. A decision is made based on the selected sample’s features. Decision Tree learning is a process of finding the optimal rules in each internal tree node according to the selected metric."
   ]
  },
  {
   "cell_type": "markdown",
   "id": "b496f520-ecea-46c0-9aa8-32fbd9246306",
   "metadata": {},
   "source": [
    "Let's calculate the feature importance, choose the top 10 features, refit the model, and visualize the decision tree continuously."
   ]
  },
  {
   "cell_type": "code",
   "execution_count": null,
   "id": "e0d7e7c9-3179-498e-a90d-c4e08b7f5efb",
   "metadata": {},
   "outputs": [],
   "source": [
    "model_dec = DecisionTreeClassifier()\n",
    "model_dec.fit(x_enc, y_enc)\n",
    "yhat = model_dec.predict(x_enc)\n",
    "accuracy = accuracy_score(y_enc, yhat)\n",
    "print('Accuracy: %.2f' % (accuracy*100))"
   ]
  },
  {
   "cell_type": "markdown",
   "id": "09872dc8-5466-4e6a-b16e-9f18782f9005",
   "metadata": {},
   "source": [
    "Let's create a user function that calculates the accuracy of a defined classifier model"
   ]
  },
  {
   "cell_type": "code",
   "execution_count": null,
   "id": "d8d780d6-401f-4feb-9865-5d93b64a1c34",
   "metadata": {},
   "outputs": [],
   "source": [
    "def model_ac(x, y, clf):\n",
    "    model_dec.fit(x, y)\n",
    "    yhat = model_dec.predict(x)\n",
    "    accuracy = accuracy_score(y, yhat)\n",
    "    return accuracy"
   ]
  },
  {
   "cell_type": "markdown",
   "id": "b89084b1-1384-4b19-bbbb-84de1b6dd6ae",
   "metadata": {},
   "source": [
    "Now, we need to create a user function that will calculate feature importance of a defined classifier model"
   ]
  },
  {
   "cell_type": "code",
   "execution_count": null,
   "id": "e4addf71-a0f7-4668-ac4f-02cf6b63690b",
   "metadata": {},
   "outputs": [],
   "source": [
    "def model_imp(x, y, model_dec):\n",
    "    feat_importances = pd.Series(model_dec.feature_importances_, index=x.columns)\n",
    "    return feat_importances.sort_values(ascending=False)"
   ]
  },
  {
   "cell_type": "markdown",
   "id": "4f45eaef-116b-46e0-84bc-28bcda4426e7",
   "metadata": {},
   "source": [
    "We can see features sorted by importance in descending order."
   ]
  },
  {
   "cell_type": "code",
   "execution_count": null,
   "id": "0792db93-b42e-49ed-bfac-1a4043e62e15",
   "metadata": {},
   "outputs": [],
   "source": [
    "imp = model_imp(x_enc, y_enc, model_dec)\n",
    "print(imp)"
   ]
  },
  {
   "cell_type": "markdown",
   "id": "1125119d-3f4e-4ffd-b16b-91d9cfe655ab",
   "metadata": {},
   "source": [
    "Plot graph of feature importances for better visualization"
   ]
  },
  {
   "cell_type": "code",
   "execution_count": null,
   "id": "13b6037e-897c-459a-9a83-f75539337c70",
   "metadata": {},
   "outputs": [],
   "source": [
    "imp.nlargest(10).plot(kind='barh')\n",
    "plt.show()"
   ]
  },
  {
   "cell_type": "markdown",
   "id": "d97a1af7-15e2-43da-8dd7-e50cb0ca9c9f",
   "metadata": {},
   "source": [
    "Let's build a plot that shows the accuracy of a defined model as a function of the number of input features"
   ]
  },
  {
   "cell_type": "code",
   "execution_count": null,
   "id": "472c6b96-f1e7-459d-835e-8d3ea54e52cc",
   "metadata": {},
   "outputs": [],
   "source": [
    "col = []\n",
    "ac = []\n",
    "for c in imp.index:\n",
    "    col.append(c)\n",
    "    ac.append(model_ac(x_enc[col], y_enc, model))\n",
    "    print('Input fields: ', len(col), 'Accuracy: %.2f' % (ac[-1]*100))\n",
    "ac = pd.DataFrame(ac)\n",
    "ac.plot()"
   ]
  },
  {
   "cell_type": "markdown",
   "id": "14f515cb-3550-4419-a117-1a6cc8ced6ec",
   "metadata": {},
   "source": [
    "We can see that 3 features is enough to make 100% accuracy. So let's create list of this 3 features in order to use them for our next classification models."
   ]
  },
  {
   "cell_type": "code",
   "execution_count": null,
   "id": "e4560f40-578e-47de-b901-2f5265983679",
   "metadata": {},
   "outputs": [],
   "source": [
    "col = imp.nlargest(3).index\n",
    "col"
   ]
  },
  {
   "cell_type": "markdown",
   "id": "6b3c73a0-359e-429f-91cb-ac6ad4620c2f",
   "metadata": {},
   "source": [
    "Let's refit the model on most important features"
   ]
  },
  {
   "cell_type": "code",
   "execution_count": null,
   "id": "59bcbf13-25b8-4a85-aaeb-cf8029faf35e",
   "metadata": {},
   "outputs": [],
   "source": [
    "X_most_imp = x_enc[col]\n",
    "model_dec.fit(X_most_imp, y)\n",
    "yhat = model_dec.predict(X_most_imp)\n",
    "accuracy = accuracy_score(y, yhat)\n",
    "print('Accuracy: %.2f' % (accuracy*100))"
   ]
  },
  {
   "cell_type": "markdown",
   "id": "cdd9ac26-9131-442d-b9b5-2288deb54d2a",
   "metadata": {},
   "source": [
    "### Extra Trees Classifier"
   ]
  },
  {
   "cell_type": "markdown",
   "id": "91ec1b40-c387-41a4-8a7d-ef3c2989ded7",
   "metadata": {},
   "source": [
    "Let's create and fit ExtraTreesClassifier on train DataSet and calculate the accuracy of classification:"
   ]
  },
  {
   "cell_type": "code",
   "execution_count": null,
   "id": "f4dfce4d-f9b7-4bd8-a6dd-cc148a7c1e59",
   "metadata": {},
   "outputs": [],
   "source": [
    "model = ExtraTreesClassifier()\n",
    "model.fit(X_most_imp, y_enc)"
   ]
  },
  {
   "cell_type": "markdown",
   "id": "34ea062c-5449-4b2f-91b1-b007bc914f39",
   "metadata": {},
   "source": [
    "Evaluate the model on test data to obtain predictions"
   ]
  },
  {
   "cell_type": "code",
   "execution_count": null,
   "id": "8ada188f-6022-4ab7-a2c4-6aeb6c29fb24",
   "metadata": {},
   "outputs": [],
   "source": [
    "yhat = model.predict(X_most_imp)\n",
    "print(yhat)"
   ]
  },
  {
   "cell_type": "markdown",
   "id": "0364da00-d7ed-44af-80de-8006e9a7ae93",
   "metadata": {},
   "source": [
    "Evaluate accuracy: "
   ]
  },
  {
   "cell_type": "code",
   "execution_count": null,
   "id": "d5f54543-de0d-48dd-9e1a-3159b46b3140",
   "metadata": {},
   "outputs": [],
   "source": [
    "accuracy = accuracy_score(y_enc, yhat)\n",
    "print('Accuracy: %.2f' % (accuracy*100))"
   ]
  },
  {
   "cell_type": "code",
   "execution_count": null,
   "id": "c222787c-9cec-42b2-bf52-0731db7a7604",
   "metadata": {},
   "outputs": [],
   "source": [
    "imp = model_imp(X_most_imp, y, model)\n",
    "print(imp)"
   ]
  },
  {
   "cell_type": "markdown",
   "id": "eb694d06-13b7-4c79-bcb1-c439d4df15d5",
   "metadata": {},
   "source": [
    "<div class=\"alert alert-danger alertdanger\" style=\"margin-top: 20px\">\n",
    "<h3>Question  #4:</h3>\n",
    "\n",
    "<b>Build a plot that shows the accuracy of a defined model as a function of the number of input features (using most important features) </b>\n",
    "\n",
    "</div>"
   ]
  },
  {
   "cell_type": "code",
   "execution_count": null,
   "id": "2465f0ac-054f-46a1-9993-50bf36f9e5e9",
   "metadata": {},
   "outputs": [],
   "source": [
    "# Write your code below and press Shift+Enter to execute\n",
    "\n",
    "col = []\n",
    "ac = []\n",
    "for c in imp.index:\n",
    "    col.append(c)\n",
    "    ac.append(model_ac(X_most_imp[col], y_enc, model))\n",
    "    print('Input fields: ', len(col), 'Accuracy: %.2f' % (ac[-1]*100))\n",
    "ac = pd.Series(ac)\n",
    "ac.plot()"
   ]
  },
  {
   "cell_type": "markdown",
   "id": "85bd3465-7237-43ca-9077-4949b1df2407",
   "metadata": {},
   "source": [
    "<details><summary>Click here for the solution</summary>\n",
    "\n",
    "```python\n",
    "col = []\n",
    "ac = []\n",
    "for c in imp.index:\n",
    "    col.append(c)\n",
    "    ac.append(model_ac(X_most_imp[col], y_enc, model))\n",
    "    print('Input fields: ', len(col), 'Accuracy: %.2f' % (ac[-1]*100))\n",
    "ac = pd.Series(ac)\n",
    "ac.plot()\n",
    "```\n",
    "\n",
    "</details>"
   ]
  },
  {
   "cell_type": "markdown",
   "id": "edd41a9f-be49-4370-91af-06ed7fdb6157",
   "metadata": {},
   "source": [
    "### Logistic regression "
   ]
  },
  {
   "cell_type": "markdown",
   "id": "1a4495dd-21d2-47a3-839d-f33bc45fe7db",
   "metadata": {},
   "source": [
    "As you can see Accuracy of this model is very good.\n",
    "\n",
    "There are many different techniques for scoring features and selecting features based on scores; how do you know which one to use?\n",
    "\n",
    "A robust approach is to evaluate models using different feature selection methods (and numbers of features) and select the method that results in a model with the best performance.\n",
    "\n",
    "**[Logistic regression](https://scikit-learn.org/stable/modules/generated/sklearn.linear_model.LogisticRegression.html)** is a good model for testing feature selection methods as it can perform better if irrelevant features are removed from the model. We will use this model in absolutelly similar way like previous one."
   ]
  },
  {
   "cell_type": "code",
   "execution_count": null,
   "id": "86335549-9d39-4764-bda4-a3963ff04a8c",
   "metadata": {},
   "outputs": [],
   "source": [
    "model = LogisticRegression(solver='lbfgs')\n",
    "model.fit(X_most_imp, y_enc)\n",
    "yhat = model.predict(X_most_imp)\n",
    "accuracy = accuracy_score(y_enc, yhat)\n",
    "print('Accuracy: %.2f' % (accuracy*100))"
   ]
  },
  {
   "cell_type": "markdown",
   "id": "43bf16d8-2499-4056-9c0f-419a71067333",
   "metadata": {},
   "source": [
    "As we can see, the accuracy of the Logistic Regression model is lower (about 72%)."
   ]
  },
  {
   "cell_type": "markdown",
   "id": "13973b68-e99a-41a5-a98b-d9da61a97b79",
   "metadata": {},
   "source": [
    "<div class=\"alert alert-danger alertdanger\" style=\"margin-top: 20px\">\n",
    "<h3>Question  #5:</h3>\n",
    "    \n",
    "<b>Calculate the accuracy of the Logistic Regression model using all features</b>\n",
    "\n",
    "</div>"
   ]
  },
  {
   "cell_type": "code",
   "execution_count": null,
   "id": "8e3ac0ef-5464-49ff-ad97-2f67ad848c92",
   "metadata": {},
   "outputs": [],
   "source": [
    "# Write your code below and press Shift+Enter to execute\n",
    "\n",
    "model = LogisticRegression(solver='lbfgs')\n",
    "model.fit(x_enc, y)\n",
    "yhat = model.predict(x_enc)\n",
    "accuracy = accuracy_score(y, yhat)\n",
    "print('Accuracy: %.2f' % (accuracy*100))"
   ]
  },
  {
   "cell_type": "markdown",
   "id": "8d8dd70f-fc95-4e81-98ff-f70fbc2bc04e",
   "metadata": {},
   "source": [
    "### Visualization of decision tree"
   ]
  },
  {
   "cell_type": "markdown",
   "id": "51e05a66-3d48-4171-a7a4-f3e050e7be46",
   "metadata": {},
   "source": [
    "Let's visualize the decision tree.\n",
    "There are some ways to do it. "
   ]
  },
  {
   "cell_type": "markdown",
   "id": "ef552fa9-00b6-4cc7-966b-cd85ec69e705",
   "metadata": {},
   "source": [
    "Since when building the decision tree we will have many fields and because of this nothing will be visible, so we will set the limit max_depth = 3"
   ]
  },
  {
   "cell_type": "code",
   "execution_count": null,
   "id": "25cbf90b-606a-4d55-bc38-4bdc26821150",
   "metadata": {},
   "outputs": [],
   "source": [
    "model_dec = DecisionTreeClassifier(max_depth = 3)\n",
    "model_dec.fit(X_most_imp, y)\n",
    "yhat = model_dec.predict(X_most_imp)\n",
    "accuracy = accuracy_score(y, yhat)\n",
    "print('Accuracy: %.2f' % (accuracy*100))"
   ]
  },
  {
   "cell_type": "markdown",
   "id": "2e904bf0-4879-4269-a684-2fe516060a2c",
   "metadata": {},
   "source": [
    "Accuracy is quite high."
   ]
  },
  {
   "cell_type": "markdown",
   "id": "b9f02b60-72f1-4eb1-b868-b51eeaee2cb2",
   "metadata": {},
   "source": [
    "### _Text visualization_"
   ]
  },
  {
   "cell_type": "code",
   "execution_count": null,
   "id": "d7e2b945-b084-4ca7-a7e6-f8cfa71ace05",
   "metadata": {},
   "outputs": [],
   "source": [
    "text_representation = tree.export_text(model_dec, feature_names=list(X_most_imp.columns))\n",
    "print(text_representation)"
   ]
  },
  {
   "cell_type": "markdown",
   "id": "8af8c2a1-5fdb-4f7e-a38c-101ffbf12989",
   "metadata": {},
   "source": [
    "You can save it into the file:"
   ]
  },
  {
   "cell_type": "code",
   "execution_count": null,
   "id": "7482d846-9669-4fba-b1cb-2a0c452564c4",
   "metadata": {},
   "outputs": [],
   "source": [
    "with open(\"decistion_tree.log\", \"w\") as fout:\n",
    "    fout.write(text_representation)"
   ]
  },
  {
   "cell_type": "markdown",
   "id": "fc95bd24-bed9-4b15-b70a-4a5bfae87a94",
   "metadata": {},
   "source": [
    "### _Plot tree_"
   ]
  },
  {
   "cell_type": "markdown",
   "id": "c8a5b2b0-4e72-41c5-b611-b7ff3e95bebf",
   "metadata": {},
   "source": [
    "You can plot a tree using two different ways:"
   ]
  },
  {
   "cell_type": "markdown",
   "id": "744910ba-9d45-4b5c-bc81-0eddb3185f9f",
   "metadata": {},
   "source": [
    "**[plot_tree](https://scikit-learn.org/stable/modules/generated/sklearn.tree.plot_tree.html)** (slow render - this can take some time): \n"
   ]
  },
  {
   "cell_type": "code",
   "execution_count": null,
   "id": "01f66f62-3aea-4927-93fa-156b80592968",
   "metadata": {},
   "outputs": [],
   "source": [
    "fig = plt.figure(figsize=(25,20))\n",
    "_ = tree.plot_tree(model_dec,\n",
    "               feature_names = col,\n",
    "               filled = True)"
   ]
  },
  {
   "cell_type": "code",
   "execution_count": null,
   "id": "40e3a010-c83f-4620-952e-6fcaaf0055dd",
   "metadata": {},
   "outputs": [],
   "source": [
    "fig.savefig('decision_tree.png')"
   ]
  },
  {
   "cell_type": "markdown",
   "id": "1f2bced6-1e1e-4848-8448-41ffc837d00f",
   "metadata": {},
   "source": [
    "Or you can use **[python-graphviz](https://scikit-learn.org/stable/modules/generated/sklearn.tree.export_graphviz.html)** library. This is more fast function"
   ]
  },
  {
   "cell_type": "code",
   "execution_count": null,
   "id": "e78597f7-5ea0-4318-b839-7145108f956e",
   "metadata": {},
   "outputs": [],
   "source": [
    "dot_data = tree.export_graphviz(model_dec,\n",
    "               feature_names = col,\n",
    "               filled=True)"
   ]
  },
  {
   "cell_type": "markdown",
   "id": "17d86202-92cd-4a3e-83ef-eb12760429ce",
   "metadata": {},
   "source": [
    "After creation, you can draw a graph"
   ]
  },
  {
   "cell_type": "code",
   "execution_count": null,
   "id": "1c005732-350b-49e7-95a0-8a19c57ff6bb",
   "metadata": {},
   "outputs": [],
   "source": [
    "graph = graphviz.Source(dot_data, format=\"png\") \n",
    "graph"
   ]
  },
  {
   "cell_type": "markdown",
   "id": "5dc5eaaa-dbfe-48a5-a9bd-4de2c8091b4c",
   "metadata": {},
   "source": [
    "We can see that we have normalized data on the decision tree. An ordinary person will not be able to understand such data. So let's rebuild the decision tree and look at the real data."
   ]
  },
  {
   "cell_type": "code",
   "execution_count": null,
   "id": "97020a2d-eeae-466e-9af0-50a2e441e813",
   "metadata": {},
   "outputs": [],
   "source": [
    "model_real = DecisionTreeClassifier(max_depth = 3)\n",
    "X_most_imp_real = df[X_most_imp.columns]\n",
    "\n",
    "model_real.fit(X_most_imp_real, y)\n",
    "yhat = model_real.predict(X_most_imp_real)\n",
    "accuracy = accuracy_score(y, yhat)\n",
    "print('Accuracy: %.2f' % (accuracy*100))"
   ]
  },
  {
   "cell_type": "markdown",
   "id": "3d94d421-a37b-467d-bca8-ed5790a72990",
   "metadata": {},
   "source": [
    "The accuracy is the same."
   ]
  },
  {
   "cell_type": "code",
   "execution_count": null,
   "id": "a1cdbfd4-2919-44c0-bcef-e87af38fd1fa",
   "metadata": {},
   "outputs": [],
   "source": [
    "text_representation = tree.export_text(model_real, feature_names=list(X_most_imp_real.columns))\n",
    "print(text_representation)"
   ]
  },
  {
   "cell_type": "markdown",
   "id": "89ac2fc4-206c-475e-95ee-e1abf5155703",
   "metadata": {},
   "source": [
    "Save to a file"
   ]
  },
  {
   "cell_type": "code",
   "execution_count": null,
   "id": "529bffd6-6553-4474-b385-1ef9d20c2ffa",
   "metadata": {},
   "outputs": [],
   "source": [
    "with open(\"decistion_tree.log\", \"w\") as fout:\n",
    "    fout.write(text_representation)"
   ]
  },
  {
   "cell_type": "markdown",
   "id": "2fe73e11-66c5-4dd7-ad64-dd3c9a13d251",
   "metadata": {},
   "source": [
    "We build a decision tree using **[plot_tree](https://scikit-learn.org/stable/modules/generated/sklearn.tree.plot_tree.html)**"
   ]
  },
  {
   "cell_type": "code",
   "execution_count": null,
   "id": "11af3c86-5f93-4f11-9030-ef472a8b6b2b",
   "metadata": {},
   "outputs": [],
   "source": [
    "fig = plt.figure(figsize=(25,20))\n",
    "_ = tree.plot_tree(model_real,\n",
    "               feature_names = list(X_most_imp_real.columns),\n",
    "               filled = True)"
   ]
  },
  {
   "cell_type": "code",
   "execution_count": null,
   "id": "1fe6cf0c-01f7-4623-86f8-db5d37448cc2",
   "metadata": {},
   "outputs": [],
   "source": [
    "fig.savefig('decision_tree.png')"
   ]
  },
  {
   "cell_type": "markdown",
   "id": "cb178e28-cacf-4ed9-8496-f55b3389fe3e",
   "metadata": {},
   "source": [
    "Now build a decision tree using **[python-graphviz](https://scikit-learn.org/stable/modules/generated/sklearn.tree.export_graphviz.html)**"
   ]
  },
  {
   "cell_type": "code",
   "execution_count": null,
   "id": "9140b74e-3092-4cf6-9bc4-b8cdce4dd4ed",
   "metadata": {},
   "outputs": [],
   "source": [
    "dot_data = tree.export_graphviz(model_real,\n",
    "               feature_names = list(X_most_imp_real.columns),\n",
    "               filled=True)"
   ]
  },
  {
   "cell_type": "markdown",
   "id": "5c8dc0a1-bbc5-4666-affc-163836b00d00",
   "metadata": {},
   "source": [
    "Let's draw a graph"
   ]
  },
  {
   "cell_type": "code",
   "execution_count": null,
   "id": "28972586-6324-4336-9460-b5beef0b4cf2",
   "metadata": {},
   "outputs": [],
   "source": [
    "graph = graphviz.Source(dot_data, format=\"png\") \n",
    "graph"
   ]
  },
  {
   "cell_type": "markdown",
   "id": "2ddc58bb-8fb7-40c1-aee2-4cdaa549f162",
   "metadata": {},
   "source": [
    "Now, let's test our decision tree.\n",
    "\n",
    "For the test, we will take three patients with indices 1, 28, 40: \n",
    "\n",
    "Patient with index 1: Relapse Free Status-Recurred <= 0.50 - TRUE | Age at Diagnosis <= 64.01 - TRUE | Age at Diagnosis <= 53.76 - TRUE -> Result is **Living** in DataSet Patient's Vital Status value also **Living**.\n",
    "\n",
    "Patient with index 28: Relapse Free Status-Recurred <= 0.50 - FALSE | Overall Survival (Years) <= 10.43 - TRUE | Age at Diagnosis <= 59.26 - TRUE - > Result is **Died of Disease** in DataSet Patient's Vital Status value also **Died of Disease**.\n",
    "\n",
    "Patient with index 40: Relapse Free Status-Recurred <= 0.50 - FALSE | Overall Survival (Years) <= 10.43 - TRUE | Age at Diagnosis <= 59.26 - TRUE - > Result is **Died of Disease** in DataSet Patient's Vital Status value also **Died of Disease**."
   ]
  },
  {
   "cell_type": "markdown",
   "id": "70c0e4f7-faaf-48d2-bf56-303e9d77b604",
   "metadata": {},
   "source": [
    "And render it into the file:"
   ]
  },
  {
   "cell_type": "code",
   "execution_count": null,
   "id": "254464de-7e7a-4867-a5d0-77222b539b32",
   "metadata": {},
   "outputs": [],
   "source": [
    "graph.render(\"decision_tree_graphivz\")"
   ]
  },
  {
   "cell_type": "markdown",
   "id": "2ed5dfb4-7fe3-43df-9ab3-04c8f412e357",
   "metadata": {},
   "source": [
    "Save the new csv:"
   ]
  },
  {
   "cell_type": "code",
   "execution_count": null,
   "id": "567121c7-6dbc-4413-9463-3793eeb87115",
   "metadata": {},
   "outputs": [],
   "source": [
    "df = df.drop([\"Patient ID\", \"ER Status\", \"Inferred Menopausal State-Pre\", \"Relapse Free Status-Recurred\", \"HER2 Status\"], axis=1)\n",
    "df.to_csv('breast_cancer.csv', index=False)"
   ]
  },
  {
   "cell_type": "markdown",
   "id": "7aa8b88d-98f2-48fa-9012-e8176567a804",
   "metadata": {},
   "source": [
    "## Conclusions"
   ]
  },
  {
   "cell_type": "markdown",
   "id": "2ca63588-33b8-43e4-b8eb-9bb67f6f6fd5",
   "metadata": {},
   "source": [
    "In this lab, we learned to do preliminary data processing. In particular, change data types, and normalize and process categorical data. It was shown how to make feature selections by different methods. Learned how to build training and test DataSets. Shows how to work with different classifiers. It was also shown how to visualize a decision tree.\n",
    "As a result of the lab, it was shown how based on a statistical database predict Patient Vital Status.\n",
    "\n",
    "The Decision Tree and Extra Tree classifiers are highly accurate models for the given data. The accuracy of these models was found to be 100%, indicating that they are capable of accurately classifying the data. However, the accuracy of the Logistic Regression model was lower, at about 80%"
   ]
  },
  {
   "cell_type": "markdown",
   "id": "28d2ea63-dcc0-42bb-b9ef-8a7fa73bed9e",
   "metadata": {},
   "source": [
    "### Thank you for completing this lab!\n",
    "\n",
    "## Author\n",
    "\n",
    "<a href=\"https://author.skills.network/instructors/dmytro_shliakhovskyi\">Dmytro Shliakhovskyi</a>\n",
    "\n",
    "### Other Contributors\n",
    "\n",
    "<a href=\"https://author.skills.network/instructors/yaroslav_vyklyuk_2\">Prof. Yaroslav Vyklyuk, DrSc, PhD</a>\n",
    "\n",
    "<a href=\"https://author.skills.network/instructors/nataliya_boyko\">Ass. Prof. Nataliya Boyko, PhD</a>\n",
    "\n",
    "\n",
    "## Change Log\n",
    "\n",
    "| Date (YYYY-MM-DD) | Version | Changed By | Change Description                                         |\n",
    "| ----------------- | ------- | ---------- | ---------------------------------------------------------- |\n",
    "|    2023-03-18     | 01 | Dmytro Shliakhovkyi | Lab created |\n",
    "\n",
    "\n",
    "\n",
    "<hr>\n",
    "\n",
    "## <h3 align=\"center\"> © IBM Corporation 2020. All rights reserved. <h3/>"
   ]
  }
 ],
 "metadata": {
  "kernelspec": {
   "display_name": "Python 3 (ipykernel)",
   "language": "python",
   "name": "python3"
  },
  "language_info": {
   "codemirror_mode": {
    "name": "ipython",
    "version": 3
   },
   "file_extension": ".py",
   "mimetype": "text/x-python",
   "name": "python",
   "nbconvert_exporter": "python",
   "pygments_lexer": "ipython3",
   "version": "3.10.9"
  }
 },
 "nbformat": 4,
 "nbformat_minor": 5
}
