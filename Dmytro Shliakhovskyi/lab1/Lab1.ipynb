{
 "cells": [
  {
   "cell_type": "markdown",
   "id": "194138f5-96e9-4532-aee3-0d23eac33792",
   "metadata": {},
   "outputs": [],
   "source": [
    "<center>\n    <img src=\"https://cf-courses-data.s3.us.cloud-object-storage.appdomain.cloud/assets/logos/SN_web_lightmode.png\" width=\"300\" alt=\"cognitiveclass.ai logo\"  />\n</center>\n\n# **Forecasting of Breast Cancer on medical measurement**\n# Lab 1. DataSet investigation\n\nEstimated time needed: **10** minutes\n\n\nThe laboratory work involves analyzing a breast cancer dataset with the aim of identifying factors that could affect the patient's vital status. The dataset contains information on patients who have been diagnosed with breast cancer, and the predictor column is the patient's vital status. The vital status column has three possible values: Living, Died of Other Causes, and Died of Disease.\n\nThe purpose of this research is to identify the factors that contribute to the patient's vital status and to determine if there are any significant differences between the groups of patients who are still living, those who died of another causes, and those who died of the disease.\n\nTo accomplish this, various statistical and analytical techniques will be employed to explore the relationships between the patient's vital status and other variables in the dataset, such as age, tumor size, lymph node status, and hormone receptor status.\n\n## Objectives\n\nAfter completing this lab you will be able to:\n\n*   Acquire data in various ways\n*   Obtain insights from data with Pandas library\n"
   ]
  },
  {
   "cell_type": "markdown",
   "id": "137491f4-48cf-41d0-a3ff-f39f62417ea7",
   "metadata": {},
   "outputs": [],
   "source": [
    "<h2>Table of Contents</h2>\n\n<div class=\"alert alert-block alert-info\" style=\"margin-top: 20px\">\n<ol>\n    <li><a href=\"https://#data_acquisition\">Data Acquisition</a>\n    <li><a href=\"https://#basic_insight\">Basic Insight of Dataset</a></li>\n</ol>\n\n</div>\n<hr>\n"
   ]
  },
  {
   "cell_type": "markdown",
   "id": "869d7431-3a99-4e93-95aa-af6a81db403c",
   "metadata": {},
   "outputs": [],
   "source": [
    "<h1 id=\"data_acquisition\">Data Acquisition</h1>\n<p>\nThere are various formats for a dataset: .csv, .json, .xlsx  etc. The dataset can be stored in different places, on your local machine or sometimes online.<br>\n\nIn this section, you will learn how to load a dataset into our Jupyter Notebook.<br>\n\nIn our case, the Breast Cancer Dataset is an online source, and it is in a CSV (comma separated value) format. Let's use this dataset as an example to practice data reading.\n\n<ul>\n    <li>Data source: <a href=\"https://www.kaggle.com/datasets/gunesevitan/breast-cancer-metabric\">https://www.kaggle.com/datasets/gunesevitan/breast-cancer-metabric</a>.</li>\n    <li>Data type: csv</li>\n</ul>\n\nThe statistical data obtained from <a href=\"https://www.kaggle.com/datasets/gunesevitan/breast-cancer-metabric\">https://www.kaggle.com/datasets/gunesevitan/breast-cancer-metabric</a> under <a href=\"https://opendatacommons.org/licenses/odbl/1-0/\" target=\"_blank\">Database: Open Database, Contents: © Original Authors</a> license.\n\nThe Pandas Library is a useful tool that enables us to read various datasets into a dataframe; our Jupyter notebook platforms have a built-in <b>Pandas Library</b> so that all we need to do is import Pandas without installing.\n</p>\n"
   ]
  },
  {
   "cell_type": "markdown",
   "id": "ccc36e1a-4010-45e8-a13a-54f4d391dae2",
   "metadata": {},
   "outputs": [],
   "source": [
    "If you run the lab locally using Anaconda, you can load the correct library and versions by uncommenting the following:\n"
   ]
  },
  {
   "cell_type": "code",
   "id": "1699c8ad-3195-4497-9465-41941444c0ad",
   "metadata": {},
   "outputs": [],
   "source": [
    "# import pandas library\nimport pandas as pd\nimport numpy as np"
   ]
  },
  {
   "cell_type": "markdown",
   "id": "e4491610-7fcb-4a61-8ee1-79124eec70a0",
   "metadata": {},
   "outputs": [],
   "source": [
    "This function will download the dataset into your browser\n"
   ]
  },
  {
   "cell_type": "markdown",
   "id": "0885c660-130b-40f5-8eca-9ac018137aac",
   "metadata": {},
   "outputs": [],
   "source": [
    "<h2>Read Data</h2>\n<p>\nWe use <code>pandas.read_csv()</code> function to read the csv file. In the brackets, we put the file path along with a quotation mark so that pandas will read the file into a dataframe from that address. The file path can be either an URL or your local file address.<br>\n</p>\n"
   ]
  },
  {
   "cell_type": "code",
   "id": "227703cf-d13d-4cd6-b996-ec0f2cc85cef",
   "metadata": {},
   "outputs": [],
   "source": [
    "path = \"https://cf-courses-data.s3.us.cloud-object-storage.appdomain.cloud/IBMSkillsNetwork-GPXX0TDCEN/breast_cancer.csv\""
   ]
  },
  {
   "cell_type": "markdown",
   "id": "4b97cadc-0971-4438-8c3a-d43f2f400553",
   "metadata": {},
   "outputs": [],
   "source": [
    "This dataset was hosted on IBM Cloud object. Click <a href=\"https://cocl.us/DA101EN_object_storage?utm_medium=Exinfluencer&utm_source=Exinfluencer&utm_content=000026UJ&utm_term=10006555&utm_id=NA-SkillsNetwork-Channel-SkillsNetworkCoursesIBMDeveloperSkillsNetworkDA0101ENSkillsNetwork20235326-2021-01-01\">HERE</a> for free storage.\n"
   ]
  },
  {
   "cell_type": "code",
   "id": "c3dbb056-5ba4-4ce3-9aaf-035fbc39b88d",
   "metadata": {},
   "outputs": [],
   "source": [
    "# Read the online file by the URL provides above, and assign it to variable \"df\"\n\ndf = pd.read_csv(path)"
   ]
  },
  {
   "cell_type": "markdown",
   "id": "c8db8f7c-5bbd-443b-94f4-2adb46f8913e",
   "metadata": {},
   "outputs": [],
   "source": [
    "After reading the dataset, we can use the <code>dataframe.head(n)</code> method to check the top n rows of the dataframe, where n is an integer. Contrary to <code>dataframe.head(n)</code>, <code>dataframe.tail(n)</code> will show you the bottom n rows of the dataframe.\n"
   ]
  },
  {
   "cell_type": "code",
   "id": "922fe232-9d95-46c8-b31e-08033f59f8d6",
   "metadata": {},
   "outputs": [],
   "source": [
    "# show the first 5 rows using dataframe.head() method\nprint(\"The first 5 rows of the dataframe\") \ndf.head(5)"
   ]
  },
  {
   "cell_type": "markdown",
   "id": "479edd91-7ceb-4051-8ce1-5bffc525ecd6",
   "metadata": {},
   "outputs": [],
   "source": [
    "<div class=\"alert alert-danger alertdanger\" style=\"margin-top: 20px\">\n<h1> Question #1: </h1>\n<b>Check the bottom 10 rows of data frame \"df\".</b>\n</div>\n"
   ]
  },
  {
   "cell_type": "code",
   "id": "e26c5fef-7555-4c6a-b61a-0284278e863e",
   "metadata": {},
   "outputs": [],
   "source": [
    "# Write your code below and press Shift+Enter to execute\n"
   ]
  },
  {
   "cell_type": "markdown",
   "id": "53f9534b-76bf-43b4-bc0b-68570e5ea2d7",
   "metadata": {},
   "outputs": [],
   "source": [
    "<details><summary>Click here for the solution</summary>\n\n```python\nprint(\"The last 10 rows of the dataframe\\n\")\ndf.tail(10)\n```\n"
   ]
  },
  {
   "cell_type": "markdown",
   "id": "8b209948-5d62-4d63-9e6f-3c8371378bb8",
   "metadata": {},
   "outputs": [],
   "source": [
    "<h3>Rename Columns</h3>\n<p>\nTake a look at our dataset, it already has a header. But the names of some columns do not suit us, so we can rename them.\n</p>\n<p>\nWe will use the <code>rename()</code> function.\nThis method is very useful if we need to change some selected columns, then we need to specify only the information for the columns to be changed.\n</p>"
   ]
  },
  {
   "cell_type": "code",
   "id": "2c50754d-94ca-4736-bb3b-c4009e415a36",
   "metadata": {},
   "outputs": [],
   "source": [
    "# rename headers list\ndf = df.rename(columns={'ER status measured by IHC': 'ER Status Measured by IHC',\n                   'HER2 status measured by SNP6': 'HER2 Status Measured by SNP6',\n                   'Lymph nodes examined positive': 'Lymph Nodes Examined Positive',\n                   'Nottingham prognostic index': 'Nottingham Prognostic Index',\n                   '3-Gene classifier subtype': '3-Gene Classifier Subtype'})\ndf.head(10)"
   ]
  },
  {
   "cell_type": "markdown",
   "id": "c73bbe8c-b056-4dbf-8f53-3fb87eaa6e4c",
   "metadata": {},
   "outputs": [],
   "source": [
    "We can drop missing values along the column \"3-Gene Classifier Subtype\" as follows:"
   ]
  },
  {
   "cell_type": "code",
   "id": "8effe455-a7c8-4b00-b351-b9590107eea9",
   "metadata": {},
   "outputs": [],
   "source": [
    "df = df.dropna(subset=[\"3-Gene Classifier Subtype\"], axis=0)\ndf.head(20)"
   ]
  },
  {
   "cell_type": "markdown",
   "id": "946d528f-1890-4936-8a4a-9524dd7b057a",
   "metadata": {},
   "outputs": [],
   "source": [
    "Now, we have successfully read the raw dataset and added the correct headers into the dataframe.\n"
   ]
  },
  {
   "cell_type": "markdown",
   "id": "b9052530-66d3-498b-8b3c-27df639879a8",
   "metadata": {},
   "outputs": [],
   "source": [
    " <div class=\"alert alert-danger alertdanger\" style=\"margin-top: 20px\">\n<h1> Question #2: </h1>\n<b>Find the name of the columns of the dataframe.</b>\n</div>\n"
   ]
  },
  {
   "cell_type": "code",
   "id": "de891e4e-ba58-481c-aa25-d8ed9f63871b",
   "metadata": {},
   "outputs": [],
   "source": [
    "# Write your code below and press Shift+Enter to execute \n"
   ]
  },
  {
   "cell_type": "markdown",
   "id": "9deb862c-a6a5-408a-92cf-fcda49c8ffff",
   "metadata": {},
   "outputs": [],
   "source": [
    "<details><summary>Click here for the solution</summary>\n\n```python\nprint(df.columns)\n```\n\n</details>\n"
   ]
  },
  {
   "cell_type": "markdown",
   "id": "b2592050-572b-4529-a2af-c91fce6760cc",
   "metadata": {},
   "outputs": [],
   "source": [
    "<h2>Save Dataset</h2>\n<p>\nCorrespondingly, Pandas enables us to save the dataset to csv. By using the <code>dataframe.to_csv()</code> method, you can add the file path and name along with quotation marks in the brackets.\n</p>\n<p>\nFor example, if you would save the dataframe <b>df</b> as <b>breast_cancer.csv</b> to your local machine, you may use the syntax below, where <code>index = False</code> means the row names will not be written.\n</p>\n"
   ]
  },
  {
   "cell_type": "raw",
   "id": "03054c37-d221-4684-a424-f93e55b23b75",
   "metadata": {},
   "outputs": [],
   "source": [
    "df.to_csv(\"breast_cancer.csv\", index=False)"
   ]
  },
  {
   "cell_type": "markdown",
   "id": "6bf07569-5d13-41a6-845a-e770b3da74d9",
   "metadata": {},
   "outputs": [],
   "source": [
    "We can also read and save other file formats. We can use similar functions like **`pd.read_csv()`** and **`df.to_csv()`** for other data formats. The functions are listed in the following table:\n"
   ]
  },
  {
   "cell_type": "markdown",
   "id": "3738eaf8-4cf4-48ff-8dab-52a443a03532",
   "metadata": {},
   "outputs": [],
   "source": [
    "<h2>Read/Save Other Data Formats</h2>\n\n| Data Formate |        Read       |            Save |\n| ------------ | :---------------: | --------------: |\n| csv          |  `pd.read_csv()`  |   `df.to_csv()` |\n| json         |  `pd.read_json()` |  `df.to_json()` |\n| excel        | `pd.read_excel()` | `df.to_excel()` |\n| hdf          |  `pd.read_hdf()`  |   `df.to_hdf()` |\n| sql          |  `pd.read_sql()`  |   `df.to_sql()` |\n| ...          |        ...        |             ... |\n"
   ]
  },
  {
   "cell_type": "markdown",
   "id": "8e074b86-e674-46d1-a500-96fbfe697025",
   "metadata": {},
   "outputs": [],
   "source": [
    "<h1 id=\"basic_insight\">Basic Insight of Dataset</h1>\n<p>\nAfter reading data into Pandas dataframe, it is time for us to explore the dataset.<br>\n\nThere are several ways to obtain essential insights of the data to help us better understand our dataset.\n\n</p>\n"
   ]
  },
  {
   "cell_type": "markdown",
   "id": "2b1589b2-b9ee-4dfb-a77a-0a3756aa4489",
   "metadata": {},
   "outputs": [],
   "source": [
    "<h2>Data Types</h2>\n<p>\nData has a variety of types.<br>\n\nThe main types stored in Pandas dataframes are <b>object</b>, <b>float</b>, <b>int</b>, <b>bool</b> and <b>datetime64</b>. In order to better learn about each attribute, it is always good for us to know the data type of each column. In Pandas:\n\n</p>\n"
   ]
  },
  {
   "cell_type": "code",
   "id": "f251dac6-e512-4275-ba9a-eaaa369a49d2",
   "metadata": {},
   "outputs": [],
   "source": [
    "df.dtypes\n"
   ]
  },
  {
   "cell_type": "markdown",
   "id": "e8ed08aa-49f3-444e-af27-27531e6b2728",
   "metadata": {},
   "outputs": [],
   "source": [
    "A series with the data type of each column is returned.\n"
   ]
  },
  {
   "cell_type": "code",
   "id": "fb015d45-00d8-46a3-ad75-9d81e9fcc14f",
   "metadata": {},
   "outputs": [],
   "source": [
    "# check the data type of data frame \"df\" by .dtypes\nprint(df.dtypes)"
   ]
  },
  {
   "cell_type": "markdown",
   "id": "340a09f0-45d3-4255-99c9-ef897624138e",
   "metadata": {},
   "outputs": [],
   "source": [
    "<p>\nAs shown above, it is clear to see that the data type of \"Patient ID\" and \"Type of Breast Surgery\" are <code>object</code>, \"Age at Diagnosis\" and \"Cohort\" is <code>float64</code>, etc.\n</p>\n<p>\nThese data types can be changed; we will learn how to accomplish this in a later module.\n</p>\n"
   ]
  },
  {
   "cell_type": "markdown",
   "id": "ced3c7d9-9552-4121-adfa-14c6477167c9",
   "metadata": {},
   "outputs": [],
   "source": [
    "<h2>Describe</h2>\nIf we would like to get a statistical summary of each column e.g. count, column mean value, column standard deviation, etc., we use the describe method:\n"
   ]
  },
  {
   "cell_type": "raw",
   "id": "0d34f439-a369-4bc7-a395-a935854179ff",
   "metadata": {},
   "outputs": [],
   "source": [
    "dataframe.describe()"
   ]
  },
  {
   "cell_type": "markdown",
   "id": "416eff84-01aa-4c1b-a941-7e05c3f8cb8f",
   "metadata": {},
   "outputs": [],
   "source": [
    "This method will provide various summary statistics, excluding <code>NaN</code> (Not a Number) values.\n"
   ]
  },
  {
   "cell_type": "code",
   "id": "f1602591-2b57-40fa-b8ca-84fd3af1d51a",
   "metadata": {},
   "outputs": [],
   "source": [
    "df.describe()"
   ]
  },
  {
   "cell_type": "markdown",
   "id": "8482f3ed-3dbd-4aa7-a38b-40de68544127",
   "metadata": {},
   "outputs": [],
   "source": [
    "<p>\nThis shows the statistical summary of all numeric-typed (int, float) columns.<br>\n\nFor example, the attribute \"Age at Diagnosis\" has 1764 counts, the mean value of this column is 61.16, the standard deviation is 12.94, the minimum value is 21.93, 25th percentile is 51.45, 50th percentile is 61.88, 75th percentile is 70.76, and the maximum value is 96.29. <br>\n\nHowever, what if we would also like to check all the columns including those that are of type object? <br><br>\n\nYou can add an argument <code>include = \"all\"</code> inside the bracket. Let's try it again.\n\n</p>\n"
   ]
  },
  {
   "cell_type": "code",
   "id": "06cb8081-a9d1-4490-9448-d01c5e2ab116",
   "metadata": {},
   "outputs": [],
   "source": [
    "# describe all the columns in \"df\" \ndf.describe(include = \"all\")"
   ]
  },
  {
   "cell_type": "markdown",
   "id": "d6c972be-87b9-4f31-8700-e16c0acd12ab",
   "metadata": {},
   "outputs": [],
   "source": [
    "<p>\nNow it provides the statistical summary of all the columns, including object-typed attributes.<br>\n\nWe can now see how many unique values there, which one is the top value and the frequency of top value in the object-typed columns.<br>\n\nSome values in the table above show as \"NaN\". This is because those numbers are not available regarding a particular column type.<br>\n\n</p>\n"
   ]
  },
  {
   "cell_type": "markdown",
   "id": "3a6a23ac-33bc-4166-8f09-e708ee01b952",
   "metadata": {},
   "outputs": [],
   "source": [
    "<div class=\"alert alert-danger alertdanger\" style=\"margin-top: 20px\">\n<h1> Question #3: </h1>\n\n<p>\nYou can select the columns of a dataframe by indicating the name of each column. For example, you can select the three columns as follows:\n</p>\n<p>\n    <code>dataframe[[' column 1 ',column 2', 'column 3']]</code>\n</p>\n<p>\nWhere \"column\" is the name of the column, you can apply the method  \".describe()\" to get the statistics of those columns as follows:\n</p>\n<p>\n    <code>dataframe[[' column 1 ',column 2', 'column 3'] ].describe()</code>\n</p>\n\nApply the  method to \".describe()\" to the columns 'Age at Diagnosis' and 'Overall Survival (Months)'.\n\n</div>\n"
   ]
  },
  {
   "cell_type": "code",
   "id": "15e6e78a-7b4a-4018-811b-45911cb86622",
   "metadata": {},
   "outputs": [],
   "source": [
    "# Write your code below and press Shift+Enter to execute \n"
   ]
  },
  {
   "cell_type": "markdown",
   "id": "110bb953-07b2-4750-b449-6acf4bb2c3ca",
   "metadata": {},
   "outputs": [],
   "source": [
    "<details><summary>Click here for the solution</summary>\n\n```python\ndf[['Age at Diagnosis', 'Overall Survival (Months)']].describe()\n```\n\n</details>\n"
   ]
  },
  {
   "cell_type": "markdown",
   "id": "71a76f20-5519-42c8-afc5-f965a9461d0a",
   "metadata": {},
   "outputs": [],
   "source": [
    "<h2>Info</h2>\nAnother method you can use to check your dataset is:\n"
   ]
  },
  {
   "cell_type": "raw",
   "id": "634f5325-5750-4316-8a5d-7f0984238d1d",
   "metadata": {},
   "outputs": [],
   "source": [
    "dataframe.info()"
   ]
  },
  {
   "cell_type": "markdown",
   "id": "cf31dad3-59f1-48ec-9822-f25cf225a7ae",
   "metadata": {},
   "outputs": [],
   "source": [
    "It provides a concise summary of your DataFrame.\n\nThis method prints information about a DataFrame including the index dtype and columns, non-null values and memory usage.\n"
   ]
  },
  {
   "cell_type": "code",
   "id": "60b374e4-73e6-4b99-b72d-0f55ed52c722",
   "metadata": {},
   "outputs": [],
   "source": [
    "# look at the info of \"df\"\ndf.info()"
   ]
  },
  {
   "cell_type": "markdown",
   "id": "4341bafa-4617-470f-8a5a-0cddea9baa2c",
   "metadata": {},
   "outputs": [],
   "source": [
    "<h1>Excellent! You have just completed the  Introduction Notebook!</h1>\n"
   ]
  },
  {
   "cell_type": "markdown",
   "id": "7298a9f9-3732-4921-8281-433f88dfba89",
   "metadata": {},
   "outputs": [],
   "source": [
    "### Thank you for completing this lab!\n\n## Author\n\n<a href=\"https://author.skills.network/instructors/dmytro_shliakhovskyi\">Dmytro Shliakhovskyi</a>\n\n### Other Contributors\n\n<a href=\"https://author.skills.network/instructors/yaroslav_vyklyuk_2\">Prof. Yaroslav Vyklyuk, DrSc, PhD</a>\n\n<a href=\"https://author.skills.network/instructors/nataliya_boyko\">Ass. Prof. Nataliya Boyko, PhD</a>\n\n\n## Change Log\n\n| Date (YYYY-MM-DD) | Version | Changed By | Change Description                                         |\n| ----------------- | ------- | ---------- | ---------------------------------------------------------- |\n|    2023-02-25     | 01 | Dmytro Shliakhovkyi | Lab created |\n\n\n\n<hr>\n\n## <h3 align=\"center\"> © IBM Corporation 2020. All rights reserved. <h3/>\n"
   ]
  }
 ],
 "metadata": {
  "language_info": {
   "name": ""
  },
  "kernelspec": {
   "name": "",
   "display_name": ""
  }
 },
 "nbformat": 4,
 "nbformat_minor": 4
}
