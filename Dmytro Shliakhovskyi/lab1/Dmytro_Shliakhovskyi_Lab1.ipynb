{
 "cells": [
  {
   "cell_type": "markdown",
   "source": [
    "<center>\n",
    "    <img src=\"https://cf-courses-data.s3.us.cloud-object-storage.appdomain.cloud/IBMDeveloperSkillsNetwork-DA0101EN-SkillsNetwork/labs/Module%201/images/IDSNlogo.png\" width=\"300\" alt=\"cognitiveclass.ai logo\"  />\n",
    "</center>\n",
    "\n",
    "# Introduction  Notebook\n",
    "\n",
    "Estimated time needed: **10** minutes\n",
    "\n",
    "## Objectives\n",
    "\n",
    "After completing this lab you will be able to:\n",
    "\n",
    "*   Acquire data in various ways\n",
    "*   Obtain insights from data with Pandas library\n"
   ],
   "metadata": {
    "collapsed": false
   }
  },
  {
   "cell_type": "markdown",
   "source": [
    "<h2>Table of Contents</h2>\n",
    "\n",
    "<div class=\"alert alert-block alert-info\" style=\"margin-top: 20px\">\n",
    "<ol>\n",
    "    <li><a href=\"https://#data_acquisition\">Data Acquisition</a>\n",
    "    <li><a href=\"https://#basic_insight\">Basic Insight of Dataset</a></li>\n",
    "</ol>\n",
    "\n",
    "</div>\n",
    "<hr>\n"
   ],
   "metadata": {
    "collapsed": false
   }
  },
  {
   "cell_type": "markdown",
   "metadata": {},
   "source": [
    "<h1 id=\"data_acquisition\">Data Acquisition</h1>\n",
    "<p>\n",
    "There are various formats for a dataset: .csv, .json, .xlsx  etc. The dataset can be stored in different places, on your local machine or sometimes online.<br>\n",
    "\n",
    "In this section, you will learn how to load a dataset into our Jupyter Notebook.<br>\n",
    "\n",
    "In our case, the Breast Cancer Dataset is an online source, and it is in a CSV (comma separated value) format. Let's use this dataset as an example to practice data reading.\n",
    "\n",
    "<ul>\n",
    "    <li>Data source: <a href=\"https://www.kaggle.com/datasets/gunesevitan/breast-cancer-metabric\">https://www.kaggle.com/datasets/gunesevitan/breast-cancer-metabric</a>.</li>\n",
    "    <li>Data type: csv</li>\n",
    "</ul>\n",
    "\n",
    "The statistical data obtained from <a href=\"https://www.kaggle.com/datasets/gunesevitan/breast-cancer-metabric\">https://www.kaggle.com/datasets/gunesevitan/breast-cancer-metabric</a> under <a href=\"https://opendatacommons.org/licenses/odbl/1-0/\" target=\"_blank\">Database: Open Database, Contents: © Original Authors</a> license.\n",
    "\n",
    "The Pandas Library is a useful tool that enables us to read various datasets into a dataframe; our Jupyter notebook platforms have a built-in <b>Pandas Library</b> so that all we need to do is import Pandas without installing.\n",
    "</p>\n"
   ]
  },
  {
   "cell_type": "markdown",
   "metadata": {},
   "source": [
    "you are running the lab in your  browser, so we will install the libraries using `piplite`\n"
   ]
  },
  {
   "cell_type": "code",
   "execution_count": 1,
   "metadata": {},
   "outputs": [],
   "source": [
    "#you are running the lab in your  browser, so we will install the libraries using ``piplite``\n",
    "import piplite\n",
    "import micropip\n",
    "await piplite.install(['pandas'])\n",
    "await piplite.install(['matplotlib'])\n",
    "await piplite.install(['scipy'])\n",
    "await piplite.install(['seaborn'])\n",
    "await micropip.install(['ipywidgets'],keep_going=True)\n",
    "await micropip.install(['tqdm'],keep_going=True)"
   ]
  },
  {
   "cell_type": "markdown",
   "metadata": {},
   "source": [
    "If you run the lab locally using Anaconda, you can load the correct library and versions by uncommenting the following:\n"
   ]
  },
  {
   "cell_type": "code",
   "execution_count": 2,
   "metadata": {},
   "outputs": [],
   "source": [
    "#install specific version of libraries used in  lab\n",
    "#! mamba install pandas==1.3.3  -y\n",
    "#! mamba install numpy=1.21.2 -y"
   ]
  },
  {
   "cell_type": "code",
   "execution_count": 3,
   "metadata": {},
   "outputs": [],
   "source": [
    "# import pandas library\n",
    "import pandas as pd\n",
    "import numpy as np"
   ]
  },
  {
   "cell_type": "markdown",
   "metadata": {},
   "source": [
    "This function will download the dataset into your browser\n"
   ]
  },
  {
   "cell_type": "code",
   "execution_count": 4,
   "metadata": {},
   "outputs": [],
   "source": [
    "#This function will download the dataset into your browser\n",
    "\n",
    "from pyodide.http import pyfetch\n",
    "\n",
    "async def download(url, filename):\n",
    "    response = await pyfetch(url)\n",
    "    if response.status == 200:\n",
    "        with open(filename, \"wb\") as f:\n",
    "            f.write(await response.bytes())"
   ]
  },
  {
   "cell_type": "markdown",
   "metadata": {},
   "source": [
    "<h2>Read Data</h2>\n",
    "<p>\n",
    "We use <code>pandas.read_csv()</code> function to read the csv file. In the brackets, we put the file path along with a quotation mark so that pandas will read the file into a dataframe from that address. The file path can be either an URL or your local file address.<br>\n",
    "</p>\n"
   ]
  },
  {
   "cell_type": "code",
   "execution_count": 5,
   "metadata": {},
   "outputs": [],
   "source": [
    "path = \"breast_cancer.csv\""
   ]
  },
  {
   "cell_type": "markdown",
   "metadata": {},
   "source": [
    "you will need to download the dataset; if you are running locally, please comment out the following\n"
   ]
  },
  {
   "cell_type": "code",
   "execution_count": 6,
   "metadata": {},
   "outputs": [],
   "source": [
    "#you will need to download the dataset; if you are running locally, please comment out the following\n",
    "await download(path, \"breast_cancer.csv\")\n",
    "path=\"breast_cancer.csv\""
   ]
  },
  {
   "cell_type": "markdown",
   "metadata": {},
   "source": [
    "This dataset was hosted on IBM Cloud object. Click <a href=\"https://cocl.us/DA101EN_object_storage?utm_medium=Exinfluencer&utm_source=Exinfluencer&utm_content=000026UJ&utm_term=10006555&utm_id=NA-SkillsNetwork-Channel-SkillsNetworkCoursesIBMDeveloperSkillsNetworkDA0101ENSkillsNetwork20235326-2021-01-01\">HERE</a> for free storage.\n"
   ]
  },
  {
   "cell_type": "code",
   "execution_count": 7,
   "metadata": {},
   "outputs": [],
   "source": [
    "# Import pandas library\n",
    "import pandas as pd\n",
    "\n",
    "# Read the online file by the URL provides above, and assign it to variable \"df\"\n",
    "\n",
    "df = pd.read_csv(path)"
   ]
  },
  {
   "cell_type": "markdown",
   "metadata": {},
   "source": [
    "After reading the dataset, we can use the <code>dataframe.head(n)</code> method to check the top n rows of the dataframe, where n is an integer. Contrary to <code>dataframe.head(n)</code>, <code>dataframe.tail(n)</code> will show you the bottom n rows of the dataframe.\n"
   ]
  },
  {
   "cell_type": "code",
   "execution_count": 8,
   "metadata": {},
   "outputs": [
    {
     "name": "stdout",
     "output_type": "stream",
     "text": [
      "The first 5 rows of the dataframe\n"
     ]
    },
    {
     "data": {
      "text/plain": "  Patient ID  Age at Diagnosis Type of Breast Surgery    Cancer Type  \\\n0    MB-0000             75.65             Mastectomy  Breast Cancer   \n1    MB-0002             43.19      Breast Conserving  Breast Cancer   \n2    MB-0005             48.87             Mastectomy  Breast Cancer   \n3    MB-0006             47.68             Mastectomy  Breast Cancer   \n4    MB-0008             76.97             Mastectomy  Breast Cancer   \n\n                        Cancer Type Detailed Cellularity Chemotherapy  \\\n0           Breast Invasive Ductal Carcinoma         NaN           No   \n1           Breast Invasive Ductal Carcinoma        High           No   \n2           Breast Invasive Ductal Carcinoma        High          Yes   \n3  Breast Mixed Ductal and Lobular Carcinoma    Moderate          Yes   \n4  Breast Mixed Ductal and Lobular Carcinoma        High          Yes   \n\n  Pam50 + Claudin-low subtype  Cohort ER status measured by IHC  ...  \\\n0                 claudin-low     1.0                   Positve  ...   \n1                        LumA     1.0                   Positve  ...   \n2                        LumB     1.0                   Positve  ...   \n3                        LumB     1.0                   Positve  ...   \n4                        LumB     1.0                   Positve  ...   \n\n  Overall Survival Status  PR Status Radio Therapy  \\\n0                  Living   Negative           Yes   \n1                  Living   Positive           Yes   \n2                Deceased   Positive            No   \n3                  Living   Positive           Yes   \n4                Deceased   Positive           Yes   \n\n  Relapse Free Status (Months) Relapse Free Status     Sex  \\\n0                       138.65        Not Recurred  Female   \n1                        83.52        Not Recurred  Female   \n2                       151.28            Recurred  Female   \n3                       162.76        Not Recurred  Female   \n4                        18.55            Recurred  Female   \n\n  3-Gene classifier subtype Tumor Size Tumor Stage  Patient's Vital Status  \n0                 ER-/HER2-       22.0         2.0                  Living  \n1     ER+/HER2- High Prolif       10.0         1.0                  Living  \n2                       NaN       15.0         2.0         Died of Disease  \n3                       NaN       25.0         2.0                  Living  \n4     ER+/HER2- High Prolif       40.0         2.0         Died of Disease  \n\n[5 rows x 34 columns]",
      "text/html": "<div>\n<style scoped>\n    .dataframe tbody tr th:only-of-type {\n        vertical-align: middle;\n    }\n\n    .dataframe tbody tr th {\n        vertical-align: top;\n    }\n\n    .dataframe thead th {\n        text-align: right;\n    }\n</style>\n<table border=\"1\" class=\"dataframe\">\n  <thead>\n    <tr style=\"text-align: right;\">\n      <th></th>\n      <th>Patient ID</th>\n      <th>Age at Diagnosis</th>\n      <th>Type of Breast Surgery</th>\n      <th>Cancer Type</th>\n      <th>Cancer Type Detailed</th>\n      <th>Cellularity</th>\n      <th>Chemotherapy</th>\n      <th>Pam50 + Claudin-low subtype</th>\n      <th>Cohort</th>\n      <th>ER status measured by IHC</th>\n      <th>...</th>\n      <th>Overall Survival Status</th>\n      <th>PR Status</th>\n      <th>Radio Therapy</th>\n      <th>Relapse Free Status (Months)</th>\n      <th>Relapse Free Status</th>\n      <th>Sex</th>\n      <th>3-Gene classifier subtype</th>\n      <th>Tumor Size</th>\n      <th>Tumor Stage</th>\n      <th>Patient's Vital Status</th>\n    </tr>\n  </thead>\n  <tbody>\n    <tr>\n      <th>0</th>\n      <td>MB-0000</td>\n      <td>75.65</td>\n      <td>Mastectomy</td>\n      <td>Breast Cancer</td>\n      <td>Breast Invasive Ductal Carcinoma</td>\n      <td>NaN</td>\n      <td>No</td>\n      <td>claudin-low</td>\n      <td>1.0</td>\n      <td>Positve</td>\n      <td>...</td>\n      <td>Living</td>\n      <td>Negative</td>\n      <td>Yes</td>\n      <td>138.65</td>\n      <td>Not Recurred</td>\n      <td>Female</td>\n      <td>ER-/HER2-</td>\n      <td>22.0</td>\n      <td>2.0</td>\n      <td>Living</td>\n    </tr>\n    <tr>\n      <th>1</th>\n      <td>MB-0002</td>\n      <td>43.19</td>\n      <td>Breast Conserving</td>\n      <td>Breast Cancer</td>\n      <td>Breast Invasive Ductal Carcinoma</td>\n      <td>High</td>\n      <td>No</td>\n      <td>LumA</td>\n      <td>1.0</td>\n      <td>Positve</td>\n      <td>...</td>\n      <td>Living</td>\n      <td>Positive</td>\n      <td>Yes</td>\n      <td>83.52</td>\n      <td>Not Recurred</td>\n      <td>Female</td>\n      <td>ER+/HER2- High Prolif</td>\n      <td>10.0</td>\n      <td>1.0</td>\n      <td>Living</td>\n    </tr>\n    <tr>\n      <th>2</th>\n      <td>MB-0005</td>\n      <td>48.87</td>\n      <td>Mastectomy</td>\n      <td>Breast Cancer</td>\n      <td>Breast Invasive Ductal Carcinoma</td>\n      <td>High</td>\n      <td>Yes</td>\n      <td>LumB</td>\n      <td>1.0</td>\n      <td>Positve</td>\n      <td>...</td>\n      <td>Deceased</td>\n      <td>Positive</td>\n      <td>No</td>\n      <td>151.28</td>\n      <td>Recurred</td>\n      <td>Female</td>\n      <td>NaN</td>\n      <td>15.0</td>\n      <td>2.0</td>\n      <td>Died of Disease</td>\n    </tr>\n    <tr>\n      <th>3</th>\n      <td>MB-0006</td>\n      <td>47.68</td>\n      <td>Mastectomy</td>\n      <td>Breast Cancer</td>\n      <td>Breast Mixed Ductal and Lobular Carcinoma</td>\n      <td>Moderate</td>\n      <td>Yes</td>\n      <td>LumB</td>\n      <td>1.0</td>\n      <td>Positve</td>\n      <td>...</td>\n      <td>Living</td>\n      <td>Positive</td>\n      <td>Yes</td>\n      <td>162.76</td>\n      <td>Not Recurred</td>\n      <td>Female</td>\n      <td>NaN</td>\n      <td>25.0</td>\n      <td>2.0</td>\n      <td>Living</td>\n    </tr>\n    <tr>\n      <th>4</th>\n      <td>MB-0008</td>\n      <td>76.97</td>\n      <td>Mastectomy</td>\n      <td>Breast Cancer</td>\n      <td>Breast Mixed Ductal and Lobular Carcinoma</td>\n      <td>High</td>\n      <td>Yes</td>\n      <td>LumB</td>\n      <td>1.0</td>\n      <td>Positve</td>\n      <td>...</td>\n      <td>Deceased</td>\n      <td>Positive</td>\n      <td>Yes</td>\n      <td>18.55</td>\n      <td>Recurred</td>\n      <td>Female</td>\n      <td>ER+/HER2- High Prolif</td>\n      <td>40.0</td>\n      <td>2.0</td>\n      <td>Died of Disease</td>\n    </tr>\n  </tbody>\n</table>\n<p>5 rows × 34 columns</p>\n</div>"
     },
     "execution_count": 8,
     "metadata": {},
     "output_type": "execute_result"
    }
   ],
   "source": [
    "# show the first 5 rows using dataframe.head() method\n",
    "print(\"The first 5 rows of the dataframe\") \n",
    "df.head(5)"
   ]
  },
  {
   "cell_type": "markdown",
   "metadata": {},
   "source": [
    "<div class=\"alert alert-danger alertdanger\" style=\"margin-top: 20px\">\n",
    "<h1> Question #1: </h1>\n",
    "<b>Check the bottom 10 rows of data frame \"df\".</b>\n",
    "</div>\n"
   ]
  },
  {
   "cell_type": "code",
   "execution_count": 9,
   "metadata": {},
   "outputs": [],
   "source": [
    "# Write your code below and press Shift+Enter to execute\n"
   ]
  },
  {
   "cell_type": "markdown",
   "metadata": {},
   "source": [
    "<details><summary>Click here for the solution</summary>\n",
    "\n",
    "```python\n",
    "print(\"The last 10 rows of the dataframe\\n\")\n",
    "df.tail(10)\n",
    "```\n"
   ]
  },
  {
   "cell_type": "markdown",
   "metadata": {},
   "source": [
    "<h3>Rename Columns</h3>\n",
    "<p>\n",
    "Take a look at our dataset, it already has a header. But the names of some columns do not suit us, so we can rename them.\n",
    "</p>\n",
    "<p>\n",
    "We will use the <code>rename()</code> function.\n",
    "This method is very useful if we need to change some selected columns, then we need to specify only the information for the columns to be changed.\n",
    "</p>"
   ]
  },
  {
   "cell_type": "code",
   "execution_count": 10,
   "outputs": [
    {
     "data": {
      "text/plain": "  Patient ID  Age at Diagnosis Type of Breast Surgery    Cancer Type  \\\n0    MB-0000             75.65             Mastectomy  Breast Cancer   \n1    MB-0002             43.19      Breast Conserving  Breast Cancer   \n2    MB-0005             48.87             Mastectomy  Breast Cancer   \n3    MB-0006             47.68             Mastectomy  Breast Cancer   \n4    MB-0008             76.97             Mastectomy  Breast Cancer   \n5    MB-0010             78.77             Mastectomy  Breast Cancer   \n6    MB-0014             56.45      Breast Conserving  Breast Cancer   \n7    MB-0020             70.00             Mastectomy  Breast Cancer   \n8    MB-0022             89.08      Breast Conserving  Breast Cancer   \n9    MB-0025             76.24                    NaN  Breast Cancer   \n\n                        Cancer Type Detailed Cellularity Chemotherapy  \\\n0           Breast Invasive Ductal Carcinoma         NaN           No   \n1           Breast Invasive Ductal Carcinoma        High           No   \n2           Breast Invasive Ductal Carcinoma        High          Yes   \n3  Breast Mixed Ductal and Lobular Carcinoma    Moderate          Yes   \n4  Breast Mixed Ductal and Lobular Carcinoma        High          Yes   \n5           Breast Invasive Ductal Carcinoma    Moderate           No   \n6           Breast Invasive Ductal Carcinoma    Moderate          Yes   \n7          Breast Invasive Lobular Carcinoma        High          Yes   \n8  Breast Mixed Ductal and Lobular Carcinoma    Moderate           No   \n9           Breast Invasive Ductal Carcinoma         NaN          NaN   \n\n  Pam50 + Claudin-low subtype  Cohort ER Status Measured by IHC  ...  \\\n0                 claudin-low     1.0                   Positve  ...   \n1                        LumA     1.0                   Positve  ...   \n2                        LumB     1.0                   Positve  ...   \n3                        LumB     1.0                   Positve  ...   \n4                        LumB     1.0                   Positve  ...   \n5                        LumB     1.0                   Positve  ...   \n6                        LumB     1.0                   Positve  ...   \n7                      Normal     1.0                  Negative  ...   \n8                 claudin-low     1.0                   Positve  ...   \n9                         NaN     1.0                   Positve  ...   \n\n  Overall Survival Status  PR Status Radio Therapy  \\\n0                  Living   Negative           Yes   \n1                  Living   Positive           Yes   \n2                Deceased   Positive            No   \n3                  Living   Positive           Yes   \n4                Deceased   Positive           Yes   \n5                Deceased   Positive           Yes   \n6                  Living   Positive           Yes   \n7                Deceased   Negative           Yes   \n8                Deceased   Negative           Yes   \n9                     NaN        NaN           NaN   \n\n  Relapse Free Status (Months) Relapse Free Status     Sex  \\\n0                       138.65        Not Recurred  Female   \n1                        83.52        Not Recurred  Female   \n2                       151.28            Recurred  Female   \n3                       162.76        Not Recurred  Female   \n4                        18.55            Recurred  Female   \n5                         2.89            Recurred  Female   \n6                       162.17        Not Recurred  Female   \n7                        11.74            Recurred  Female   \n8                        98.22        Not Recurred  Female   \n9                       126.32            Recurred  Female   \n\n  3-Gene Classifier Subtype Tumor Size Tumor Stage  Patient's Vital Status  \n0                 ER-/HER2-       22.0         2.0                  Living  \n1     ER+/HER2- High Prolif       10.0         1.0                  Living  \n2                       NaN       15.0         2.0         Died of Disease  \n3                       NaN       25.0         2.0                  Living  \n4     ER+/HER2- High Prolif       40.0         2.0         Died of Disease  \n5     ER+/HER2- High Prolif       31.0         4.0         Died of Disease  \n6                       NaN       10.0         2.0                  Living  \n7                 ER-/HER2-       65.0         3.0         Died of Disease  \n8                       NaN       29.0         2.0    Died of Other Causes  \n9                       NaN       34.0         2.0                     NaN  \n\n[10 rows x 34 columns]",
      "text/html": "<div>\n<style scoped>\n    .dataframe tbody tr th:only-of-type {\n        vertical-align: middle;\n    }\n\n    .dataframe tbody tr th {\n        vertical-align: top;\n    }\n\n    .dataframe thead th {\n        text-align: right;\n    }\n</style>\n<table border=\"1\" class=\"dataframe\">\n  <thead>\n    <tr style=\"text-align: right;\">\n      <th></th>\n      <th>Patient ID</th>\n      <th>Age at Diagnosis</th>\n      <th>Type of Breast Surgery</th>\n      <th>Cancer Type</th>\n      <th>Cancer Type Detailed</th>\n      <th>Cellularity</th>\n      <th>Chemotherapy</th>\n      <th>Pam50 + Claudin-low subtype</th>\n      <th>Cohort</th>\n      <th>ER Status Measured by IHC</th>\n      <th>...</th>\n      <th>Overall Survival Status</th>\n      <th>PR Status</th>\n      <th>Radio Therapy</th>\n      <th>Relapse Free Status (Months)</th>\n      <th>Relapse Free Status</th>\n      <th>Sex</th>\n      <th>3-Gene Classifier Subtype</th>\n      <th>Tumor Size</th>\n      <th>Tumor Stage</th>\n      <th>Patient's Vital Status</th>\n    </tr>\n  </thead>\n  <tbody>\n    <tr>\n      <th>0</th>\n      <td>MB-0000</td>\n      <td>75.65</td>\n      <td>Mastectomy</td>\n      <td>Breast Cancer</td>\n      <td>Breast Invasive Ductal Carcinoma</td>\n      <td>NaN</td>\n      <td>No</td>\n      <td>claudin-low</td>\n      <td>1.0</td>\n      <td>Positve</td>\n      <td>...</td>\n      <td>Living</td>\n      <td>Negative</td>\n      <td>Yes</td>\n      <td>138.65</td>\n      <td>Not Recurred</td>\n      <td>Female</td>\n      <td>ER-/HER2-</td>\n      <td>22.0</td>\n      <td>2.0</td>\n      <td>Living</td>\n    </tr>\n    <tr>\n      <th>1</th>\n      <td>MB-0002</td>\n      <td>43.19</td>\n      <td>Breast Conserving</td>\n      <td>Breast Cancer</td>\n      <td>Breast Invasive Ductal Carcinoma</td>\n      <td>High</td>\n      <td>No</td>\n      <td>LumA</td>\n      <td>1.0</td>\n      <td>Positve</td>\n      <td>...</td>\n      <td>Living</td>\n      <td>Positive</td>\n      <td>Yes</td>\n      <td>83.52</td>\n      <td>Not Recurred</td>\n      <td>Female</td>\n      <td>ER+/HER2- High Prolif</td>\n      <td>10.0</td>\n      <td>1.0</td>\n      <td>Living</td>\n    </tr>\n    <tr>\n      <th>2</th>\n      <td>MB-0005</td>\n      <td>48.87</td>\n      <td>Mastectomy</td>\n      <td>Breast Cancer</td>\n      <td>Breast Invasive Ductal Carcinoma</td>\n      <td>High</td>\n      <td>Yes</td>\n      <td>LumB</td>\n      <td>1.0</td>\n      <td>Positve</td>\n      <td>...</td>\n      <td>Deceased</td>\n      <td>Positive</td>\n      <td>No</td>\n      <td>151.28</td>\n      <td>Recurred</td>\n      <td>Female</td>\n      <td>NaN</td>\n      <td>15.0</td>\n      <td>2.0</td>\n      <td>Died of Disease</td>\n    </tr>\n    <tr>\n      <th>3</th>\n      <td>MB-0006</td>\n      <td>47.68</td>\n      <td>Mastectomy</td>\n      <td>Breast Cancer</td>\n      <td>Breast Mixed Ductal and Lobular Carcinoma</td>\n      <td>Moderate</td>\n      <td>Yes</td>\n      <td>LumB</td>\n      <td>1.0</td>\n      <td>Positve</td>\n      <td>...</td>\n      <td>Living</td>\n      <td>Positive</td>\n      <td>Yes</td>\n      <td>162.76</td>\n      <td>Not Recurred</td>\n      <td>Female</td>\n      <td>NaN</td>\n      <td>25.0</td>\n      <td>2.0</td>\n      <td>Living</td>\n    </tr>\n    <tr>\n      <th>4</th>\n      <td>MB-0008</td>\n      <td>76.97</td>\n      <td>Mastectomy</td>\n      <td>Breast Cancer</td>\n      <td>Breast Mixed Ductal and Lobular Carcinoma</td>\n      <td>High</td>\n      <td>Yes</td>\n      <td>LumB</td>\n      <td>1.0</td>\n      <td>Positve</td>\n      <td>...</td>\n      <td>Deceased</td>\n      <td>Positive</td>\n      <td>Yes</td>\n      <td>18.55</td>\n      <td>Recurred</td>\n      <td>Female</td>\n      <td>ER+/HER2- High Prolif</td>\n      <td>40.0</td>\n      <td>2.0</td>\n      <td>Died of Disease</td>\n    </tr>\n    <tr>\n      <th>5</th>\n      <td>MB-0010</td>\n      <td>78.77</td>\n      <td>Mastectomy</td>\n      <td>Breast Cancer</td>\n      <td>Breast Invasive Ductal Carcinoma</td>\n      <td>Moderate</td>\n      <td>No</td>\n      <td>LumB</td>\n      <td>1.0</td>\n      <td>Positve</td>\n      <td>...</td>\n      <td>Deceased</td>\n      <td>Positive</td>\n      <td>Yes</td>\n      <td>2.89</td>\n      <td>Recurred</td>\n      <td>Female</td>\n      <td>ER+/HER2- High Prolif</td>\n      <td>31.0</td>\n      <td>4.0</td>\n      <td>Died of Disease</td>\n    </tr>\n    <tr>\n      <th>6</th>\n      <td>MB-0014</td>\n      <td>56.45</td>\n      <td>Breast Conserving</td>\n      <td>Breast Cancer</td>\n      <td>Breast Invasive Ductal Carcinoma</td>\n      <td>Moderate</td>\n      <td>Yes</td>\n      <td>LumB</td>\n      <td>1.0</td>\n      <td>Positve</td>\n      <td>...</td>\n      <td>Living</td>\n      <td>Positive</td>\n      <td>Yes</td>\n      <td>162.17</td>\n      <td>Not Recurred</td>\n      <td>Female</td>\n      <td>NaN</td>\n      <td>10.0</td>\n      <td>2.0</td>\n      <td>Living</td>\n    </tr>\n    <tr>\n      <th>7</th>\n      <td>MB-0020</td>\n      <td>70.00</td>\n      <td>Mastectomy</td>\n      <td>Breast Cancer</td>\n      <td>Breast Invasive Lobular Carcinoma</td>\n      <td>High</td>\n      <td>Yes</td>\n      <td>Normal</td>\n      <td>1.0</td>\n      <td>Negative</td>\n      <td>...</td>\n      <td>Deceased</td>\n      <td>Negative</td>\n      <td>Yes</td>\n      <td>11.74</td>\n      <td>Recurred</td>\n      <td>Female</td>\n      <td>ER-/HER2-</td>\n      <td>65.0</td>\n      <td>3.0</td>\n      <td>Died of Disease</td>\n    </tr>\n    <tr>\n      <th>8</th>\n      <td>MB-0022</td>\n      <td>89.08</td>\n      <td>Breast Conserving</td>\n      <td>Breast Cancer</td>\n      <td>Breast Mixed Ductal and Lobular Carcinoma</td>\n      <td>Moderate</td>\n      <td>No</td>\n      <td>claudin-low</td>\n      <td>1.0</td>\n      <td>Positve</td>\n      <td>...</td>\n      <td>Deceased</td>\n      <td>Negative</td>\n      <td>Yes</td>\n      <td>98.22</td>\n      <td>Not Recurred</td>\n      <td>Female</td>\n      <td>NaN</td>\n      <td>29.0</td>\n      <td>2.0</td>\n      <td>Died of Other Causes</td>\n    </tr>\n    <tr>\n      <th>9</th>\n      <td>MB-0025</td>\n      <td>76.24</td>\n      <td>NaN</td>\n      <td>Breast Cancer</td>\n      <td>Breast Invasive Ductal Carcinoma</td>\n      <td>NaN</td>\n      <td>NaN</td>\n      <td>NaN</td>\n      <td>1.0</td>\n      <td>Positve</td>\n      <td>...</td>\n      <td>NaN</td>\n      <td>NaN</td>\n      <td>NaN</td>\n      <td>126.32</td>\n      <td>Recurred</td>\n      <td>Female</td>\n      <td>NaN</td>\n      <td>34.0</td>\n      <td>2.0</td>\n      <td>NaN</td>\n    </tr>\n  </tbody>\n</table>\n<p>10 rows × 34 columns</p>\n</div>"
     },
     "execution_count": 10,
     "metadata": {},
     "output_type": "execute_result"
    }
   ],
   "source": [
    "# rename headers list\n",
    "df = df.rename(columns={'ER status measured by IHC': 'ER Status Measured by IHC',\n",
    "                   'HER2 status measured by SNP6': 'HER2 Status Measured by SNP6',\n",
    "                   'Lymph nodes examined positive': 'Lymph Nodes Examined Positive',\n",
    "                   'Nottingham prognostic index': 'Nottingham Prognostic Index',\n",
    "                   '3-Gene classifier subtype': '3-Gene Classifier Subtype'})\n",
    "df.head(10)"
   ],
   "metadata": {
    "collapsed": false
   }
  },
  {
   "cell_type": "markdown",
   "source": [
    "We can drop missing values along the column \"3-Gene Classifier Subtype\" as follows:"
   ],
   "metadata": {
    "collapsed": false
   }
  },
  {
   "cell_type": "code",
   "execution_count": 11,
   "metadata": {},
   "outputs": [
    {
     "data": {
      "text/plain": "   Patient ID  Age at Diagnosis Type of Breast Surgery    Cancer Type  \\\n0     MB-0000             75.65             Mastectomy  Breast Cancer   \n1     MB-0002             43.19      Breast Conserving  Breast Cancer   \n4     MB-0008             76.97             Mastectomy  Breast Cancer   \n5     MB-0010             78.77             Mastectomy  Breast Cancer   \n7     MB-0020             70.00             Mastectomy  Breast Cancer   \n10    MB-0028             86.41      Breast Conserving  Breast Cancer   \n11    MB-0035             84.22             Mastectomy  Breast Cancer   \n12    MB-0036             85.49             Mastectomy  Breast Cancer   \n17    MB-0050             44.64      Breast Conserving  Breast Cancer   \n21    MB-0059             75.58             Mastectomy  Breast Cancer   \n22    MB-0060             45.43      Breast Conserving  Breast Cancer   \n25    MB-0066             61.49      Breast Conserving  Breast Cancer   \n35    MB-0100             68.68             Mastectomy  Breast Cancer   \n36    MB-0101             46.89             Mastectomy  Breast Cancer   \n37    MB-0102             51.38             Mastectomy  Breast Cancer   \n38    MB-0106             49.87             Mastectomy  Breast Cancer   \n41    MB-0109             82.53                    NaN  Breast Cancer   \n43    MB-0111             54.23             Mastectomy  Breast Cancer   \n44    MB-0112             83.89             Mastectomy  Breast Cancer   \n45    MB-0113             36.96             Mastectomy  Breast Cancer   \n\n                         Cancer Type Detailed Cellularity Chemotherapy  \\\n0            Breast Invasive Ductal Carcinoma         NaN           No   \n1            Breast Invasive Ductal Carcinoma        High           No   \n4   Breast Mixed Ductal and Lobular Carcinoma        High          Yes   \n5            Breast Invasive Ductal Carcinoma    Moderate           No   \n7           Breast Invasive Lobular Carcinoma        High          Yes   \n10           Breast Invasive Ductal Carcinoma    Moderate           No   \n11          Breast Invasive Lobular Carcinoma        High           No   \n12           Breast Invasive Ductal Carcinoma    Moderate           No   \n17  Breast Mixed Ductal and Lobular Carcinoma    Moderate          Yes   \n21           Breast Invasive Ductal Carcinoma        High           No   \n22           Breast Invasive Ductal Carcinoma        High          Yes   \n25           Breast Invasive Ductal Carcinoma        High           No   \n35           Breast Invasive Ductal Carcinoma         Low          Yes   \n36          Breast Invasive Lobular Carcinoma    Moderate           No   \n37          Breast Invasive Lobular Carcinoma        High          Yes   \n38           Breast Invasive Ductal Carcinoma    Moderate          Yes   \n41           Breast Invasive Ductal Carcinoma        High           No   \n43           Breast Invasive Ductal Carcinoma        High           No   \n44          Breast Invasive Lobular Carcinoma        High           No   \n45           Breast Invasive Ductal Carcinoma         Low          Yes   \n\n   Pam50 + Claudin-low subtype  Cohort ER Status Measured by IHC  ...  \\\n0                  claudin-low     1.0                   Positve  ...   \n1                         LumA     1.0                   Positve  ...   \n4                         LumB     1.0                   Positve  ...   \n5                         LumB     1.0                   Positve  ...   \n7                       Normal     1.0                  Negative  ...   \n10                        LumB     1.0                   Positve  ...   \n11                        Her2     1.0                  Negative  ...   \n12                        LumA     1.0                   Positve  ...   \n17                      Normal     1.0                   Positve  ...   \n21                        LumA     1.0                   Positve  ...   \n22                        LumB     1.0                   Positve  ...   \n25                        LumB     1.0                   Positve  ...   \n35                       Basal     1.0                  Negative  ...   \n36                      Normal     1.0                   Positve  ...   \n37                        LumB     1.0                   Positve  ...   \n38                        LumA     1.0                   Positve  ...   \n41                       Basal     1.0                   Positve  ...   \n43                        LumA     1.0                   Positve  ...   \n44                        LumA     1.0                   Positve  ...   \n45                        Her2     1.0                   Positve  ...   \n\n   Overall Survival Status  PR Status Radio Therapy  \\\n0                   Living   Negative           Yes   \n1                   Living   Positive           Yes   \n4                 Deceased   Positive           Yes   \n5                 Deceased   Positive           Yes   \n7                 Deceased   Negative           Yes   \n10                Deceased   Negative           Yes   \n11                Deceased   Negative            No   \n12                Deceased   Positive           Yes   \n17                  Living   Positive           Yes   \n21                  Living   Positive           Yes   \n22                  Living   Positive           Yes   \n25                  Living   Positive           Yes   \n35                Deceased   Negative           Yes   \n36                  Living   Positive           Yes   \n37                Deceased   Positive           Yes   \n38                  Living   Positive           Yes   \n41                Deceased   Positive            No   \n43                  Living   Positive            No   \n44                Deceased   Negative           Yes   \n45                  Living   Negative           Yes   \n\n   Relapse Free Status (Months) Relapse Free Status     Sex  \\\n0                        138.65        Not Recurred  Female   \n1                         83.52        Not Recurred  Female   \n4                         18.55            Recurred  Female   \n5                          2.89            Recurred  Female   \n7                         11.74            Recurred  Female   \n10                        36.09        Not Recurred  Female   \n11                        35.79            Recurred  Female   \n12                       123.32            Recurred  Female   \n17                        74.34        Not Recurred  Female   \n21                       158.78        Not Recurred  Female   \n22                       139.01        Not Recurred  Female   \n25                       155.36        Not Recurred  Female   \n35                         7.83            Recurred  Female   \n36                        33.72            Recurred  Female   \n37                       100.66            Recurred  Female   \n38                        84.21        Not Recurred  Female   \n41                       110.92        Not Recurred  Female   \n43                       125.43        Not Recurred  Female   \n44                        25.13            Recurred  Female   \n45                        42.60        Not Recurred  Female   \n\n   3-Gene Classifier Subtype Tumor Size Tumor Stage  Patient's Vital Status  \n0                  ER-/HER2-       22.0         2.0                  Living  \n1      ER+/HER2- High Prolif       10.0         1.0                  Living  \n4      ER+/HER2- High Prolif       40.0         2.0         Died of Disease  \n5      ER+/HER2- High Prolif       31.0         4.0         Died of Disease  \n7                  ER-/HER2-       65.0         3.0         Died of Disease  \n10     ER+/HER2- High Prolif       16.0         2.0    Died of Other Causes  \n11     ER+/HER2- High Prolif       28.0         2.0         Died of Disease  \n12      ER+/HER2- Low Prolif       22.0         4.0         Died of Disease  \n17      ER+/HER2- Low Prolif       33.0         2.0                  Living  \n21     ER+/HER2- High Prolif       17.0         1.0                  Living  \n22     ER+/HER2- High Prolif       23.0         2.0                  Living  \n25     ER+/HER2- High Prolif       16.0         2.0                  Living  \n35                 ER-/HER2-       39.0         2.0         Died of Disease  \n36      ER+/HER2- Low Prolif       34.0         2.0                  Living  \n37     ER+/HER2- High Prolif       40.0         2.0         Died of Disease  \n38      ER+/HER2- Low Prolif       70.0         3.0                  Living  \n41     ER+/HER2- High Prolif       45.0         2.0    Died of Other Causes  \n43      ER+/HER2- Low Prolif       27.0         2.0                  Living  \n44      ER+/HER2- Low Prolif      150.0         3.0         Died of Disease  \n45                     HER2+       17.0         2.0                  Living  \n\n[20 rows x 34 columns]",
      "text/html": "<div>\n<style scoped>\n    .dataframe tbody tr th:only-of-type {\n        vertical-align: middle;\n    }\n\n    .dataframe tbody tr th {\n        vertical-align: top;\n    }\n\n    .dataframe thead th {\n        text-align: right;\n    }\n</style>\n<table border=\"1\" class=\"dataframe\">\n  <thead>\n    <tr style=\"text-align: right;\">\n      <th></th>\n      <th>Patient ID</th>\n      <th>Age at Diagnosis</th>\n      <th>Type of Breast Surgery</th>\n      <th>Cancer Type</th>\n      <th>Cancer Type Detailed</th>\n      <th>Cellularity</th>\n      <th>Chemotherapy</th>\n      <th>Pam50 + Claudin-low subtype</th>\n      <th>Cohort</th>\n      <th>ER Status Measured by IHC</th>\n      <th>...</th>\n      <th>Overall Survival Status</th>\n      <th>PR Status</th>\n      <th>Radio Therapy</th>\n      <th>Relapse Free Status (Months)</th>\n      <th>Relapse Free Status</th>\n      <th>Sex</th>\n      <th>3-Gene Classifier Subtype</th>\n      <th>Tumor Size</th>\n      <th>Tumor Stage</th>\n      <th>Patient's Vital Status</th>\n    </tr>\n  </thead>\n  <tbody>\n    <tr>\n      <th>0</th>\n      <td>MB-0000</td>\n      <td>75.65</td>\n      <td>Mastectomy</td>\n      <td>Breast Cancer</td>\n      <td>Breast Invasive Ductal Carcinoma</td>\n      <td>NaN</td>\n      <td>No</td>\n      <td>claudin-low</td>\n      <td>1.0</td>\n      <td>Positve</td>\n      <td>...</td>\n      <td>Living</td>\n      <td>Negative</td>\n      <td>Yes</td>\n      <td>138.65</td>\n      <td>Not Recurred</td>\n      <td>Female</td>\n      <td>ER-/HER2-</td>\n      <td>22.0</td>\n      <td>2.0</td>\n      <td>Living</td>\n    </tr>\n    <tr>\n      <th>1</th>\n      <td>MB-0002</td>\n      <td>43.19</td>\n      <td>Breast Conserving</td>\n      <td>Breast Cancer</td>\n      <td>Breast Invasive Ductal Carcinoma</td>\n      <td>High</td>\n      <td>No</td>\n      <td>LumA</td>\n      <td>1.0</td>\n      <td>Positve</td>\n      <td>...</td>\n      <td>Living</td>\n      <td>Positive</td>\n      <td>Yes</td>\n      <td>83.52</td>\n      <td>Not Recurred</td>\n      <td>Female</td>\n      <td>ER+/HER2- High Prolif</td>\n      <td>10.0</td>\n      <td>1.0</td>\n      <td>Living</td>\n    </tr>\n    <tr>\n      <th>4</th>\n      <td>MB-0008</td>\n      <td>76.97</td>\n      <td>Mastectomy</td>\n      <td>Breast Cancer</td>\n      <td>Breast Mixed Ductal and Lobular Carcinoma</td>\n      <td>High</td>\n      <td>Yes</td>\n      <td>LumB</td>\n      <td>1.0</td>\n      <td>Positve</td>\n      <td>...</td>\n      <td>Deceased</td>\n      <td>Positive</td>\n      <td>Yes</td>\n      <td>18.55</td>\n      <td>Recurred</td>\n      <td>Female</td>\n      <td>ER+/HER2- High Prolif</td>\n      <td>40.0</td>\n      <td>2.0</td>\n      <td>Died of Disease</td>\n    </tr>\n    <tr>\n      <th>5</th>\n      <td>MB-0010</td>\n      <td>78.77</td>\n      <td>Mastectomy</td>\n      <td>Breast Cancer</td>\n      <td>Breast Invasive Ductal Carcinoma</td>\n      <td>Moderate</td>\n      <td>No</td>\n      <td>LumB</td>\n      <td>1.0</td>\n      <td>Positve</td>\n      <td>...</td>\n      <td>Deceased</td>\n      <td>Positive</td>\n      <td>Yes</td>\n      <td>2.89</td>\n      <td>Recurred</td>\n      <td>Female</td>\n      <td>ER+/HER2- High Prolif</td>\n      <td>31.0</td>\n      <td>4.0</td>\n      <td>Died of Disease</td>\n    </tr>\n    <tr>\n      <th>7</th>\n      <td>MB-0020</td>\n      <td>70.00</td>\n      <td>Mastectomy</td>\n      <td>Breast Cancer</td>\n      <td>Breast Invasive Lobular Carcinoma</td>\n      <td>High</td>\n      <td>Yes</td>\n      <td>Normal</td>\n      <td>1.0</td>\n      <td>Negative</td>\n      <td>...</td>\n      <td>Deceased</td>\n      <td>Negative</td>\n      <td>Yes</td>\n      <td>11.74</td>\n      <td>Recurred</td>\n      <td>Female</td>\n      <td>ER-/HER2-</td>\n      <td>65.0</td>\n      <td>3.0</td>\n      <td>Died of Disease</td>\n    </tr>\n    <tr>\n      <th>10</th>\n      <td>MB-0028</td>\n      <td>86.41</td>\n      <td>Breast Conserving</td>\n      <td>Breast Cancer</td>\n      <td>Breast Invasive Ductal Carcinoma</td>\n      <td>Moderate</td>\n      <td>No</td>\n      <td>LumB</td>\n      <td>1.0</td>\n      <td>Positve</td>\n      <td>...</td>\n      <td>Deceased</td>\n      <td>Negative</td>\n      <td>Yes</td>\n      <td>36.09</td>\n      <td>Not Recurred</td>\n      <td>Female</td>\n      <td>ER+/HER2- High Prolif</td>\n      <td>16.0</td>\n      <td>2.0</td>\n      <td>Died of Other Causes</td>\n    </tr>\n    <tr>\n      <th>11</th>\n      <td>MB-0035</td>\n      <td>84.22</td>\n      <td>Mastectomy</td>\n      <td>Breast Cancer</td>\n      <td>Breast Invasive Lobular Carcinoma</td>\n      <td>High</td>\n      <td>No</td>\n      <td>Her2</td>\n      <td>1.0</td>\n      <td>Negative</td>\n      <td>...</td>\n      <td>Deceased</td>\n      <td>Negative</td>\n      <td>No</td>\n      <td>35.79</td>\n      <td>Recurred</td>\n      <td>Female</td>\n      <td>ER+/HER2- High Prolif</td>\n      <td>28.0</td>\n      <td>2.0</td>\n      <td>Died of Disease</td>\n    </tr>\n    <tr>\n      <th>12</th>\n      <td>MB-0036</td>\n      <td>85.49</td>\n      <td>Mastectomy</td>\n      <td>Breast Cancer</td>\n      <td>Breast Invasive Ductal Carcinoma</td>\n      <td>Moderate</td>\n      <td>No</td>\n      <td>LumA</td>\n      <td>1.0</td>\n      <td>Positve</td>\n      <td>...</td>\n      <td>Deceased</td>\n      <td>Positive</td>\n      <td>Yes</td>\n      <td>123.32</td>\n      <td>Recurred</td>\n      <td>Female</td>\n      <td>ER+/HER2- Low Prolif</td>\n      <td>22.0</td>\n      <td>4.0</td>\n      <td>Died of Disease</td>\n    </tr>\n    <tr>\n      <th>17</th>\n      <td>MB-0050</td>\n      <td>44.64</td>\n      <td>Breast Conserving</td>\n      <td>Breast Cancer</td>\n      <td>Breast Mixed Ductal and Lobular Carcinoma</td>\n      <td>Moderate</td>\n      <td>Yes</td>\n      <td>Normal</td>\n      <td>1.0</td>\n      <td>Positve</td>\n      <td>...</td>\n      <td>Living</td>\n      <td>Positive</td>\n      <td>Yes</td>\n      <td>74.34</td>\n      <td>Not Recurred</td>\n      <td>Female</td>\n      <td>ER+/HER2- Low Prolif</td>\n      <td>33.0</td>\n      <td>2.0</td>\n      <td>Living</td>\n    </tr>\n    <tr>\n      <th>21</th>\n      <td>MB-0059</td>\n      <td>75.58</td>\n      <td>Mastectomy</td>\n      <td>Breast Cancer</td>\n      <td>Breast Invasive Ductal Carcinoma</td>\n      <td>High</td>\n      <td>No</td>\n      <td>LumA</td>\n      <td>1.0</td>\n      <td>Positve</td>\n      <td>...</td>\n      <td>Living</td>\n      <td>Positive</td>\n      <td>Yes</td>\n      <td>158.78</td>\n      <td>Not Recurred</td>\n      <td>Female</td>\n      <td>ER+/HER2- High Prolif</td>\n      <td>17.0</td>\n      <td>1.0</td>\n      <td>Living</td>\n    </tr>\n    <tr>\n      <th>22</th>\n      <td>MB-0060</td>\n      <td>45.43</td>\n      <td>Breast Conserving</td>\n      <td>Breast Cancer</td>\n      <td>Breast Invasive Ductal Carcinoma</td>\n      <td>High</td>\n      <td>Yes</td>\n      <td>LumB</td>\n      <td>1.0</td>\n      <td>Positve</td>\n      <td>...</td>\n      <td>Living</td>\n      <td>Positive</td>\n      <td>Yes</td>\n      <td>139.01</td>\n      <td>Not Recurred</td>\n      <td>Female</td>\n      <td>ER+/HER2- High Prolif</td>\n      <td>23.0</td>\n      <td>2.0</td>\n      <td>Living</td>\n    </tr>\n    <tr>\n      <th>25</th>\n      <td>MB-0066</td>\n      <td>61.49</td>\n      <td>Breast Conserving</td>\n      <td>Breast Cancer</td>\n      <td>Breast Invasive Ductal Carcinoma</td>\n      <td>High</td>\n      <td>No</td>\n      <td>LumB</td>\n      <td>1.0</td>\n      <td>Positve</td>\n      <td>...</td>\n      <td>Living</td>\n      <td>Positive</td>\n      <td>Yes</td>\n      <td>155.36</td>\n      <td>Not Recurred</td>\n      <td>Female</td>\n      <td>ER+/HER2- High Prolif</td>\n      <td>16.0</td>\n      <td>2.0</td>\n      <td>Living</td>\n    </tr>\n    <tr>\n      <th>35</th>\n      <td>MB-0100</td>\n      <td>68.68</td>\n      <td>Mastectomy</td>\n      <td>Breast Cancer</td>\n      <td>Breast Invasive Ductal Carcinoma</td>\n      <td>Low</td>\n      <td>Yes</td>\n      <td>Basal</td>\n      <td>1.0</td>\n      <td>Negative</td>\n      <td>...</td>\n      <td>Deceased</td>\n      <td>Negative</td>\n      <td>Yes</td>\n      <td>7.83</td>\n      <td>Recurred</td>\n      <td>Female</td>\n      <td>ER-/HER2-</td>\n      <td>39.0</td>\n      <td>2.0</td>\n      <td>Died of Disease</td>\n    </tr>\n    <tr>\n      <th>36</th>\n      <td>MB-0101</td>\n      <td>46.89</td>\n      <td>Mastectomy</td>\n      <td>Breast Cancer</td>\n      <td>Breast Invasive Lobular Carcinoma</td>\n      <td>Moderate</td>\n      <td>No</td>\n      <td>Normal</td>\n      <td>1.0</td>\n      <td>Positve</td>\n      <td>...</td>\n      <td>Living</td>\n      <td>Positive</td>\n      <td>Yes</td>\n      <td>33.72</td>\n      <td>Recurred</td>\n      <td>Female</td>\n      <td>ER+/HER2- Low Prolif</td>\n      <td>34.0</td>\n      <td>2.0</td>\n      <td>Living</td>\n    </tr>\n    <tr>\n      <th>37</th>\n      <td>MB-0102</td>\n      <td>51.38</td>\n      <td>Mastectomy</td>\n      <td>Breast Cancer</td>\n      <td>Breast Invasive Lobular Carcinoma</td>\n      <td>High</td>\n      <td>Yes</td>\n      <td>LumB</td>\n      <td>1.0</td>\n      <td>Positve</td>\n      <td>...</td>\n      <td>Deceased</td>\n      <td>Positive</td>\n      <td>Yes</td>\n      <td>100.66</td>\n      <td>Recurred</td>\n      <td>Female</td>\n      <td>ER+/HER2- High Prolif</td>\n      <td>40.0</td>\n      <td>2.0</td>\n      <td>Died of Disease</td>\n    </tr>\n    <tr>\n      <th>38</th>\n      <td>MB-0106</td>\n      <td>49.87</td>\n      <td>Mastectomy</td>\n      <td>Breast Cancer</td>\n      <td>Breast Invasive Ductal Carcinoma</td>\n      <td>Moderate</td>\n      <td>Yes</td>\n      <td>LumA</td>\n      <td>1.0</td>\n      <td>Positve</td>\n      <td>...</td>\n      <td>Living</td>\n      <td>Positive</td>\n      <td>Yes</td>\n      <td>84.21</td>\n      <td>Not Recurred</td>\n      <td>Female</td>\n      <td>ER+/HER2- Low Prolif</td>\n      <td>70.0</td>\n      <td>3.0</td>\n      <td>Living</td>\n    </tr>\n    <tr>\n      <th>41</th>\n      <td>MB-0109</td>\n      <td>82.53</td>\n      <td>NaN</td>\n      <td>Breast Cancer</td>\n      <td>Breast Invasive Ductal Carcinoma</td>\n      <td>High</td>\n      <td>No</td>\n      <td>Basal</td>\n      <td>1.0</td>\n      <td>Positve</td>\n      <td>...</td>\n      <td>Deceased</td>\n      <td>Positive</td>\n      <td>No</td>\n      <td>110.92</td>\n      <td>Not Recurred</td>\n      <td>Female</td>\n      <td>ER+/HER2- High Prolif</td>\n      <td>45.0</td>\n      <td>2.0</td>\n      <td>Died of Other Causes</td>\n    </tr>\n    <tr>\n      <th>43</th>\n      <td>MB-0111</td>\n      <td>54.23</td>\n      <td>Mastectomy</td>\n      <td>Breast Cancer</td>\n      <td>Breast Invasive Ductal Carcinoma</td>\n      <td>High</td>\n      <td>No</td>\n      <td>LumA</td>\n      <td>1.0</td>\n      <td>Positve</td>\n      <td>...</td>\n      <td>Living</td>\n      <td>Positive</td>\n      <td>No</td>\n      <td>125.43</td>\n      <td>Not Recurred</td>\n      <td>Female</td>\n      <td>ER+/HER2- Low Prolif</td>\n      <td>27.0</td>\n      <td>2.0</td>\n      <td>Living</td>\n    </tr>\n    <tr>\n      <th>44</th>\n      <td>MB-0112</td>\n      <td>83.89</td>\n      <td>Mastectomy</td>\n      <td>Breast Cancer</td>\n      <td>Breast Invasive Lobular Carcinoma</td>\n      <td>High</td>\n      <td>No</td>\n      <td>LumA</td>\n      <td>1.0</td>\n      <td>Positve</td>\n      <td>...</td>\n      <td>Deceased</td>\n      <td>Negative</td>\n      <td>Yes</td>\n      <td>25.13</td>\n      <td>Recurred</td>\n      <td>Female</td>\n      <td>ER+/HER2- Low Prolif</td>\n      <td>150.0</td>\n      <td>3.0</td>\n      <td>Died of Disease</td>\n    </tr>\n    <tr>\n      <th>45</th>\n      <td>MB-0113</td>\n      <td>36.96</td>\n      <td>Mastectomy</td>\n      <td>Breast Cancer</td>\n      <td>Breast Invasive Ductal Carcinoma</td>\n      <td>Low</td>\n      <td>Yes</td>\n      <td>Her2</td>\n      <td>1.0</td>\n      <td>Positve</td>\n      <td>...</td>\n      <td>Living</td>\n      <td>Negative</td>\n      <td>Yes</td>\n      <td>42.60</td>\n      <td>Not Recurred</td>\n      <td>Female</td>\n      <td>HER2+</td>\n      <td>17.0</td>\n      <td>2.0</td>\n      <td>Living</td>\n    </tr>\n  </tbody>\n</table>\n<p>20 rows × 34 columns</p>\n</div>"
     },
     "execution_count": 11,
     "metadata": {},
     "output_type": "execute_result"
    }
   ],
   "source": [
    "df = df.dropna(subset=[\"3-Gene Classifier Subtype\"], axis=0)\n",
    "df.head(20)"
   ]
  },
  {
   "cell_type": "markdown",
   "metadata": {},
   "source": [
    "Now, we have successfully read the raw dataset and added the correct headers into the dataframe.\n"
   ]
  },
  {
   "cell_type": "markdown",
   "metadata": {},
   "source": [
    " <div class=\"alert alert-danger alertdanger\" style=\"margin-top: 20px\">\n",
    "<h1> Question #2: </h1>\n",
    "<b>Find the name of the columns of the dataframe.</b>\n",
    "</div>\n"
   ]
  },
  {
   "cell_type": "code",
   "execution_count": 12,
   "metadata": {},
   "outputs": [],
   "source": [
    "# Write your code below and press Shift+Enter to execute \n"
   ]
  },
  {
   "cell_type": "markdown",
   "metadata": {},
   "source": [
    "<details><summary>Click here for the solution</summary>\n",
    "\n",
    "```python\n",
    "print(df.columns)\n",
    "```\n",
    "\n",
    "</details>\n"
   ]
  },
  {
   "cell_type": "markdown",
   "metadata": {},
   "source": [
    "<h2>Save Dataset</h2>\n",
    "<p>\n",
    "Correspondingly, Pandas enables us to save the dataset to csv. By using the <code>dataframe.to_csv()</code> method, you can add the file path and name along with quotation marks in the brackets.\n",
    "</p>\n",
    "<p>\n",
    "For example, if you would save the dataframe <b>df</b> as <b>breast_cancer.csv</b> to your local machine, you may use the syntax below, where <code>index = False</code> means the row names will not be written.\n",
    "</p>\n"
   ]
  },
  {
   "cell_type": "raw",
   "metadata": {},
   "source": [
    "df.to_csv(\"breast_cancer.csv\", index=False)"
   ]
  },
  {
   "cell_type": "markdown",
   "metadata": {},
   "source": [
    "We can also read and save other file formats. We can use similar functions like **`pd.read_csv()`** and **`df.to_csv()`** for other data formats. The functions are listed in the following table:\n"
   ]
  },
  {
   "cell_type": "markdown",
   "metadata": {},
   "source": [
    "<h2>Read/Save Other Data Formats</h2>\n",
    "\n",
    "| Data Formate |        Read       |            Save |\n",
    "| ------------ | :---------------: | --------------: |\n",
    "| csv          |  `pd.read_csv()`  |   `df.to_csv()` |\n",
    "| json         |  `pd.read_json()` |  `df.to_json()` |\n",
    "| excel        | `pd.read_excel()` | `df.to_excel()` |\n",
    "| hdf          |  `pd.read_hdf()`  |   `df.to_hdf()` |\n",
    "| sql          |  `pd.read_sql()`  |   `df.to_sql()` |\n",
    "| ...          |        ...        |             ... |\n"
   ]
  },
  {
   "cell_type": "markdown",
   "metadata": {},
   "source": [
    "<h1 id=\"basic_insight\">Basic Insight of Dataset</h1>\n",
    "<p>\n",
    "After reading data into Pandas dataframe, it is time for us to explore the dataset.<br>\n",
    "\n",
    "There are several ways to obtain essential insights of the data to help us better understand our dataset.\n",
    "\n",
    "</p>\n"
   ]
  },
  {
   "cell_type": "markdown",
   "metadata": {},
   "source": [
    "<h2>Data Types</h2>\n",
    "<p>\n",
    "Data has a variety of types.<br>\n",
    "\n",
    "The main types stored in Pandas dataframes are <b>object</b>, <b>float</b>, <b>int</b>, <b>bool</b> and <b>datetime64</b>. In order to better learn about each attribute, it is always good for us to know the data type of each column. In Pandas:\n",
    "\n",
    "</p>\n"
   ]
  },
  {
   "cell_type": "code",
   "execution_count": 13,
   "metadata": {},
   "outputs": [
    {
     "data": {
      "text/plain": "Patient ID                         object\nAge at Diagnosis                  float64\nType of Breast Surgery             object\nCancer Type                        object\nCancer Type Detailed               object\nCellularity                        object\nChemotherapy                       object\nPam50 + Claudin-low subtype        object\nCohort                            float64\nER Status Measured by IHC          object\nER Status                          object\nNeoplasm Histologic Grade         float64\nHER2 Status Measured by SNP6       object\nHER2 Status                        object\nTumor Other Histologic Subtype     object\nHormone Therapy                    object\nInferred Menopausal State          object\nIntegrative Cluster                object\nPrimary Tumor Laterality           object\nLymph Nodes Examined Positive     float64\nMutation Count                    float64\nNottingham Prognostic Index       float64\nOncotree Code                      object\nOverall Survival (Months)         float64\nOverall Survival Status            object\nPR Status                          object\nRadio Therapy                      object\nRelapse Free Status (Months)      float64\nRelapse Free Status                object\nSex                                object\n3-Gene Classifier Subtype          object\nTumor Size                        float64\nTumor Stage                       float64\nPatient's Vital Status             object\ndtype: object"
     },
     "execution_count": 13,
     "metadata": {},
     "output_type": "execute_result"
    }
   ],
   "source": [
    "df.dtypes\n"
   ]
  },
  {
   "cell_type": "markdown",
   "metadata": {},
   "source": [
    "A series with the data type of each column is returned.\n"
   ]
  },
  {
   "cell_type": "code",
   "execution_count": 14,
   "metadata": {},
   "outputs": [
    {
     "name": "stdout",
     "output_type": "stream",
     "text": [
      "Patient ID                         object\n",
      "Age at Diagnosis                  float64\n",
      "Type of Breast Surgery             object\n",
      "Cancer Type                        object\n",
      "Cancer Type Detailed               object\n",
      "Cellularity                        object\n",
      "Chemotherapy                       object\n",
      "Pam50 + Claudin-low subtype        object\n",
      "Cohort                            float64\n",
      "ER Status Measured by IHC          object\n",
      "ER Status                          object\n",
      "Neoplasm Histologic Grade         float64\n",
      "HER2 Status Measured by SNP6       object\n",
      "HER2 Status                        object\n",
      "Tumor Other Histologic Subtype     object\n",
      "Hormone Therapy                    object\n",
      "Inferred Menopausal State          object\n",
      "Integrative Cluster                object\n",
      "Primary Tumor Laterality           object\n",
      "Lymph Nodes Examined Positive     float64\n",
      "Mutation Count                    float64\n",
      "Nottingham Prognostic Index       float64\n",
      "Oncotree Code                      object\n",
      "Overall Survival (Months)         float64\n",
      "Overall Survival Status            object\n",
      "PR Status                          object\n",
      "Radio Therapy                      object\n",
      "Relapse Free Status (Months)      float64\n",
      "Relapse Free Status                object\n",
      "Sex                                object\n",
      "3-Gene Classifier Subtype          object\n",
      "Tumor Size                        float64\n",
      "Tumor Stage                       float64\n",
      "Patient's Vital Status             object\n",
      "dtype: object\n"
     ]
    }
   ],
   "source": [
    "# check the data type of data frame \"df\" by .dtypes\n",
    "print(df.dtypes)"
   ]
  },
  {
   "cell_type": "markdown",
   "metadata": {},
   "source": [
    "<p>\n",
    "As shown above, it is clear to see that the data type of \"Patient ID\" and \"Type of Breast Surgery\" are <code>object</code>, \"Age at Diagnosis\" and \"Cohort\" is <code>float64</code>, etc.\n",
    "</p>\n",
    "<p>\n",
    "These data types can be changed; we will learn how to accomplish this in a later module.\n",
    "</p>\n"
   ]
  },
  {
   "cell_type": "markdown",
   "metadata": {},
   "source": [
    "<h2>Describe</h2>\n",
    "If we would like to get a statistical summary of each column e.g. count, column mean value, column standard deviation, etc., we use the describe method:\n"
   ]
  },
  {
   "cell_type": "raw",
   "metadata": {},
   "source": [
    "dataframe.describe()"
   ]
  },
  {
   "cell_type": "markdown",
   "metadata": {},
   "source": [
    "This method will provide various summary statistics, excluding <code>NaN</code> (Not a Number) values.\n"
   ]
  },
  {
   "cell_type": "code",
   "execution_count": 15,
   "metadata": {},
   "outputs": [
    {
     "data": {
      "text/plain": "       Age at Diagnosis       Cohort  Neoplasm Histologic Grade  \\\ncount       1764.000000  1764.000000                1689.000000   \nmean          61.161548     2.625850                   2.409118   \nstd           12.946276     1.231341                   0.649599   \nmin           21.930000     1.000000                   1.000000   \n25%           51.450000     1.000000                   2.000000   \n50%           61.880000     3.000000                   2.000000   \n75%           70.760000     3.000000                   3.000000   \nmax           96.290000     5.000000                   3.000000   \n\n       Lymph Nodes Examined Positive  Mutation Count  \\\ncount                    1700.000000     1660.000000   \nmean                        1.995882        5.695181   \nstd                         3.975571        4.139357   \nmin                         0.000000        1.000000   \n25%                         0.000000        3.000000   \n50%                         0.000000        5.000000   \n75%                         2.000000        7.000000   \nmax                        41.000000       80.000000   \n\n       Nottingham Prognostic Index  Overall Survival (Months)  \\\ncount                  1764.000000                1764.000000   \nmean                      4.010484                 124.837831   \nstd                       1.161724                  75.039486   \nmin                       1.000000                   0.000000   \n25%                       3.044000                  60.891667   \n50%                       4.040000                 115.816667   \n75%                       5.040500                 185.308333   \nmax                       6.360000                 337.033333   \n\n       Relapse Free Status (Months)   Tumor Size  Tumor Stage  \ncount                   1764.000000  1743.000000  1300.000000  \nmean                     109.909354    26.245990     1.732308  \nstd                       75.333860    15.376386     0.640465  \nmin                        0.000000     1.000000     0.000000  \n25%                       42.167500    17.000000     1.000000  \n50%                      100.740000    22.000000     2.000000  \n75%                      167.827500    30.000000     2.000000  \nmax                      326.020000   182.000000     4.000000  ",
      "text/html": "<div>\n<style scoped>\n    .dataframe tbody tr th:only-of-type {\n        vertical-align: middle;\n    }\n\n    .dataframe tbody tr th {\n        vertical-align: top;\n    }\n\n    .dataframe thead th {\n        text-align: right;\n    }\n</style>\n<table border=\"1\" class=\"dataframe\">\n  <thead>\n    <tr style=\"text-align: right;\">\n      <th></th>\n      <th>Age at Diagnosis</th>\n      <th>Cohort</th>\n      <th>Neoplasm Histologic Grade</th>\n      <th>Lymph Nodes Examined Positive</th>\n      <th>Mutation Count</th>\n      <th>Nottingham Prognostic Index</th>\n      <th>Overall Survival (Months)</th>\n      <th>Relapse Free Status (Months)</th>\n      <th>Tumor Size</th>\n      <th>Tumor Stage</th>\n    </tr>\n  </thead>\n  <tbody>\n    <tr>\n      <th>count</th>\n      <td>1764.000000</td>\n      <td>1764.000000</td>\n      <td>1689.000000</td>\n      <td>1700.000000</td>\n      <td>1660.000000</td>\n      <td>1764.000000</td>\n      <td>1764.000000</td>\n      <td>1764.000000</td>\n      <td>1743.000000</td>\n      <td>1300.000000</td>\n    </tr>\n    <tr>\n      <th>mean</th>\n      <td>61.161548</td>\n      <td>2.625850</td>\n      <td>2.409118</td>\n      <td>1.995882</td>\n      <td>5.695181</td>\n      <td>4.010484</td>\n      <td>124.837831</td>\n      <td>109.909354</td>\n      <td>26.245990</td>\n      <td>1.732308</td>\n    </tr>\n    <tr>\n      <th>std</th>\n      <td>12.946276</td>\n      <td>1.231341</td>\n      <td>0.649599</td>\n      <td>3.975571</td>\n      <td>4.139357</td>\n      <td>1.161724</td>\n      <td>75.039486</td>\n      <td>75.333860</td>\n      <td>15.376386</td>\n      <td>0.640465</td>\n    </tr>\n    <tr>\n      <th>min</th>\n      <td>21.930000</td>\n      <td>1.000000</td>\n      <td>1.000000</td>\n      <td>0.000000</td>\n      <td>1.000000</td>\n      <td>1.000000</td>\n      <td>0.000000</td>\n      <td>0.000000</td>\n      <td>1.000000</td>\n      <td>0.000000</td>\n    </tr>\n    <tr>\n      <th>25%</th>\n      <td>51.450000</td>\n      <td>1.000000</td>\n      <td>2.000000</td>\n      <td>0.000000</td>\n      <td>3.000000</td>\n      <td>3.044000</td>\n      <td>60.891667</td>\n      <td>42.167500</td>\n      <td>17.000000</td>\n      <td>1.000000</td>\n    </tr>\n    <tr>\n      <th>50%</th>\n      <td>61.880000</td>\n      <td>3.000000</td>\n      <td>2.000000</td>\n      <td>0.000000</td>\n      <td>5.000000</td>\n      <td>4.040000</td>\n      <td>115.816667</td>\n      <td>100.740000</td>\n      <td>22.000000</td>\n      <td>2.000000</td>\n    </tr>\n    <tr>\n      <th>75%</th>\n      <td>70.760000</td>\n      <td>3.000000</td>\n      <td>3.000000</td>\n      <td>2.000000</td>\n      <td>7.000000</td>\n      <td>5.040500</td>\n      <td>185.308333</td>\n      <td>167.827500</td>\n      <td>30.000000</td>\n      <td>2.000000</td>\n    </tr>\n    <tr>\n      <th>max</th>\n      <td>96.290000</td>\n      <td>5.000000</td>\n      <td>3.000000</td>\n      <td>41.000000</td>\n      <td>80.000000</td>\n      <td>6.360000</td>\n      <td>337.033333</td>\n      <td>326.020000</td>\n      <td>182.000000</td>\n      <td>4.000000</td>\n    </tr>\n  </tbody>\n</table>\n</div>"
     },
     "execution_count": 15,
     "metadata": {},
     "output_type": "execute_result"
    }
   ],
   "source": [
    "df.describe()"
   ]
  },
  {
   "cell_type": "markdown",
   "metadata": {},
   "source": [
    "<p>\n",
    "This shows the statistical summary of all numeric-typed (int, float) columns.<br>\n",
    "\n",
    "For example, the attribute \"Age at Diagnosis\" has 1764 counts, the mean value of this column is 61.16, the standard deviation is 12.94, the minimum value is 21.93, 25th percentile is 51.45, 50th percentile is 61.88, 75th percentile is 70.76, and the maximum value is 96.29. <br>\n",
    "\n",
    "However, what if we would also like to check all the columns including those that are of type object? <br><br>\n",
    "\n",
    "You can add an argument <code>include = \"all\"</code> inside the bracket. Let's try it again.\n",
    "\n",
    "</p>\n"
   ]
  },
  {
   "cell_type": "code",
   "execution_count": 16,
   "metadata": {},
   "outputs": [
    {
     "data": {
      "text/plain": "       Patient ID  Age at Diagnosis Type of Breast Surgery    Cancer Type  \\\ncount        1764       1764.000000                   1743           1764   \nunique       1764               NaN                      2              2   \ntop       MB-0000               NaN             Mastectomy  Breast Cancer   \nfreq            1               NaN                   1046           1762   \nmean          NaN         61.161548                    NaN            NaN   \nstd           NaN         12.946276                    NaN            NaN   \nmin           NaN         21.930000                    NaN            NaN   \n25%           NaN         51.450000                    NaN            NaN   \n50%           NaN         61.880000                    NaN            NaN   \n75%           NaN         70.760000                    NaN            NaN   \nmax           NaN         96.290000                    NaN            NaN   \n\n                    Cancer Type Detailed Cellularity Chemotherapy  \\\ncount                               1764        1711         1764   \nunique                                 8           3            2   \ntop     Breast Invasive Ductal Carcinoma        High           No   \nfreq                                1361         863         1402   \nmean                                 NaN         NaN          NaN   \nstd                                  NaN         NaN          NaN   \nmin                                  NaN         NaN          NaN   \n25%                                  NaN         NaN          NaN   \n50%                                  NaN         NaN          NaN   \n75%                                  NaN         NaN          NaN   \nmax                                  NaN         NaN          NaN   \n\n       Pam50 + Claudin-low subtype       Cohort ER Status Measured by IHC  \\\ncount                         1764  1764.000000                      1728   \nunique                           7          NaN                         2   \ntop                           LumA          NaN                   Positve   \nfreq                           649          NaN                      1349   \nmean                           NaN     2.625850                       NaN   \nstd                            NaN     1.231341                       NaN   \nmin                            NaN     1.000000                       NaN   \n25%                            NaN     1.000000                       NaN   \n50%                            NaN     3.000000                       NaN   \n75%                            NaN     3.000000                       NaN   \nmax                            NaN     5.000000                       NaN   \n\n        ... Overall Survival Status  PR Status Radio Therapy  \\\ncount   ...                    1764       1764          1764   \nunique  ...                       2          2             2   \ntop     ...                Deceased   Positive           Yes   \nfreq    ...                    1003        929          1024   \nmean    ...                     NaN        NaN           NaN   \nstd     ...                     NaN        NaN           NaN   \nmin     ...                     NaN        NaN           NaN   \n25%     ...                     NaN        NaN           NaN   \n50%     ...                     NaN        NaN           NaN   \n75%     ...                     NaN        NaN           NaN   \nmax     ...                     NaN        NaN           NaN   \n\n       Relapse Free Status (Months) Relapse Free Status     Sex  \\\ncount                   1764.000000                1763    1764   \nunique                          NaN                   2       1   \ntop                             NaN        Not Recurred  Female   \nfreq                            NaN                1058    1764   \nmean                     109.909354                 NaN     NaN   \nstd                       75.333860                 NaN     NaN   \nmin                        0.000000                 NaN     NaN   \n25%                       42.167500                 NaN     NaN   \n50%                      100.740000                 NaN     NaN   \n75%                      167.827500                 NaN     NaN   \nmax                      326.020000                 NaN     NaN   \n\n       3-Gene Classifier Subtype   Tumor Size  Tumor Stage  \\\ncount                       1764  1743.000000  1300.000000   \nunique                         4          NaN          NaN   \ntop         ER+/HER2- Low Prolif          NaN          NaN   \nfreq                         640          NaN          NaN   \nmean                         NaN    26.245990     1.732308   \nstd                          NaN    15.376386     0.640465   \nmin                          NaN     1.000000     0.000000   \n25%                          NaN    17.000000     1.000000   \n50%                          NaN    22.000000     2.000000   \n75%                          NaN    30.000000     2.000000   \nmax                          NaN   182.000000     4.000000   \n\n        Patient's Vital Status  \ncount                     1763  \nunique                       3  \ntop                     Living  \nfreq                       761  \nmean                       NaN  \nstd                        NaN  \nmin                        NaN  \n25%                        NaN  \n50%                        NaN  \n75%                        NaN  \nmax                        NaN  \n\n[11 rows x 34 columns]",
      "text/html": "<div>\n<style scoped>\n    .dataframe tbody tr th:only-of-type {\n        vertical-align: middle;\n    }\n\n    .dataframe tbody tr th {\n        vertical-align: top;\n    }\n\n    .dataframe thead th {\n        text-align: right;\n    }\n</style>\n<table border=\"1\" class=\"dataframe\">\n  <thead>\n    <tr style=\"text-align: right;\">\n      <th></th>\n      <th>Patient ID</th>\n      <th>Age at Diagnosis</th>\n      <th>Type of Breast Surgery</th>\n      <th>Cancer Type</th>\n      <th>Cancer Type Detailed</th>\n      <th>Cellularity</th>\n      <th>Chemotherapy</th>\n      <th>Pam50 + Claudin-low subtype</th>\n      <th>Cohort</th>\n      <th>ER Status Measured by IHC</th>\n      <th>...</th>\n      <th>Overall Survival Status</th>\n      <th>PR Status</th>\n      <th>Radio Therapy</th>\n      <th>Relapse Free Status (Months)</th>\n      <th>Relapse Free Status</th>\n      <th>Sex</th>\n      <th>3-Gene Classifier Subtype</th>\n      <th>Tumor Size</th>\n      <th>Tumor Stage</th>\n      <th>Patient's Vital Status</th>\n    </tr>\n  </thead>\n  <tbody>\n    <tr>\n      <th>count</th>\n      <td>1764</td>\n      <td>1764.000000</td>\n      <td>1743</td>\n      <td>1764</td>\n      <td>1764</td>\n      <td>1711</td>\n      <td>1764</td>\n      <td>1764</td>\n      <td>1764.000000</td>\n      <td>1728</td>\n      <td>...</td>\n      <td>1764</td>\n      <td>1764</td>\n      <td>1764</td>\n      <td>1764.000000</td>\n      <td>1763</td>\n      <td>1764</td>\n      <td>1764</td>\n      <td>1743.000000</td>\n      <td>1300.000000</td>\n      <td>1763</td>\n    </tr>\n    <tr>\n      <th>unique</th>\n      <td>1764</td>\n      <td>NaN</td>\n      <td>2</td>\n      <td>2</td>\n      <td>8</td>\n      <td>3</td>\n      <td>2</td>\n      <td>7</td>\n      <td>NaN</td>\n      <td>2</td>\n      <td>...</td>\n      <td>2</td>\n      <td>2</td>\n      <td>2</td>\n      <td>NaN</td>\n      <td>2</td>\n      <td>1</td>\n      <td>4</td>\n      <td>NaN</td>\n      <td>NaN</td>\n      <td>3</td>\n    </tr>\n    <tr>\n      <th>top</th>\n      <td>MB-0000</td>\n      <td>NaN</td>\n      <td>Mastectomy</td>\n      <td>Breast Cancer</td>\n      <td>Breast Invasive Ductal Carcinoma</td>\n      <td>High</td>\n      <td>No</td>\n      <td>LumA</td>\n      <td>NaN</td>\n      <td>Positve</td>\n      <td>...</td>\n      <td>Deceased</td>\n      <td>Positive</td>\n      <td>Yes</td>\n      <td>NaN</td>\n      <td>Not Recurred</td>\n      <td>Female</td>\n      <td>ER+/HER2- Low Prolif</td>\n      <td>NaN</td>\n      <td>NaN</td>\n      <td>Living</td>\n    </tr>\n    <tr>\n      <th>freq</th>\n      <td>1</td>\n      <td>NaN</td>\n      <td>1046</td>\n      <td>1762</td>\n      <td>1361</td>\n      <td>863</td>\n      <td>1402</td>\n      <td>649</td>\n      <td>NaN</td>\n      <td>1349</td>\n      <td>...</td>\n      <td>1003</td>\n      <td>929</td>\n      <td>1024</td>\n      <td>NaN</td>\n      <td>1058</td>\n      <td>1764</td>\n      <td>640</td>\n      <td>NaN</td>\n      <td>NaN</td>\n      <td>761</td>\n    </tr>\n    <tr>\n      <th>mean</th>\n      <td>NaN</td>\n      <td>61.161548</td>\n      <td>NaN</td>\n      <td>NaN</td>\n      <td>NaN</td>\n      <td>NaN</td>\n      <td>NaN</td>\n      <td>NaN</td>\n      <td>2.625850</td>\n      <td>NaN</td>\n      <td>...</td>\n      <td>NaN</td>\n      <td>NaN</td>\n      <td>NaN</td>\n      <td>109.909354</td>\n      <td>NaN</td>\n      <td>NaN</td>\n      <td>NaN</td>\n      <td>26.245990</td>\n      <td>1.732308</td>\n      <td>NaN</td>\n    </tr>\n    <tr>\n      <th>std</th>\n      <td>NaN</td>\n      <td>12.946276</td>\n      <td>NaN</td>\n      <td>NaN</td>\n      <td>NaN</td>\n      <td>NaN</td>\n      <td>NaN</td>\n      <td>NaN</td>\n      <td>1.231341</td>\n      <td>NaN</td>\n      <td>...</td>\n      <td>NaN</td>\n      <td>NaN</td>\n      <td>NaN</td>\n      <td>75.333860</td>\n      <td>NaN</td>\n      <td>NaN</td>\n      <td>NaN</td>\n      <td>15.376386</td>\n      <td>0.640465</td>\n      <td>NaN</td>\n    </tr>\n    <tr>\n      <th>min</th>\n      <td>NaN</td>\n      <td>21.930000</td>\n      <td>NaN</td>\n      <td>NaN</td>\n      <td>NaN</td>\n      <td>NaN</td>\n      <td>NaN</td>\n      <td>NaN</td>\n      <td>1.000000</td>\n      <td>NaN</td>\n      <td>...</td>\n      <td>NaN</td>\n      <td>NaN</td>\n      <td>NaN</td>\n      <td>0.000000</td>\n      <td>NaN</td>\n      <td>NaN</td>\n      <td>NaN</td>\n      <td>1.000000</td>\n      <td>0.000000</td>\n      <td>NaN</td>\n    </tr>\n    <tr>\n      <th>25%</th>\n      <td>NaN</td>\n      <td>51.450000</td>\n      <td>NaN</td>\n      <td>NaN</td>\n      <td>NaN</td>\n      <td>NaN</td>\n      <td>NaN</td>\n      <td>NaN</td>\n      <td>1.000000</td>\n      <td>NaN</td>\n      <td>...</td>\n      <td>NaN</td>\n      <td>NaN</td>\n      <td>NaN</td>\n      <td>42.167500</td>\n      <td>NaN</td>\n      <td>NaN</td>\n      <td>NaN</td>\n      <td>17.000000</td>\n      <td>1.000000</td>\n      <td>NaN</td>\n    </tr>\n    <tr>\n      <th>50%</th>\n      <td>NaN</td>\n      <td>61.880000</td>\n      <td>NaN</td>\n      <td>NaN</td>\n      <td>NaN</td>\n      <td>NaN</td>\n      <td>NaN</td>\n      <td>NaN</td>\n      <td>3.000000</td>\n      <td>NaN</td>\n      <td>...</td>\n      <td>NaN</td>\n      <td>NaN</td>\n      <td>NaN</td>\n      <td>100.740000</td>\n      <td>NaN</td>\n      <td>NaN</td>\n      <td>NaN</td>\n      <td>22.000000</td>\n      <td>2.000000</td>\n      <td>NaN</td>\n    </tr>\n    <tr>\n      <th>75%</th>\n      <td>NaN</td>\n      <td>70.760000</td>\n      <td>NaN</td>\n      <td>NaN</td>\n      <td>NaN</td>\n      <td>NaN</td>\n      <td>NaN</td>\n      <td>NaN</td>\n      <td>3.000000</td>\n      <td>NaN</td>\n      <td>...</td>\n      <td>NaN</td>\n      <td>NaN</td>\n      <td>NaN</td>\n      <td>167.827500</td>\n      <td>NaN</td>\n      <td>NaN</td>\n      <td>NaN</td>\n      <td>30.000000</td>\n      <td>2.000000</td>\n      <td>NaN</td>\n    </tr>\n    <tr>\n      <th>max</th>\n      <td>NaN</td>\n      <td>96.290000</td>\n      <td>NaN</td>\n      <td>NaN</td>\n      <td>NaN</td>\n      <td>NaN</td>\n      <td>NaN</td>\n      <td>NaN</td>\n      <td>5.000000</td>\n      <td>NaN</td>\n      <td>...</td>\n      <td>NaN</td>\n      <td>NaN</td>\n      <td>NaN</td>\n      <td>326.020000</td>\n      <td>NaN</td>\n      <td>NaN</td>\n      <td>NaN</td>\n      <td>182.000000</td>\n      <td>4.000000</td>\n      <td>NaN</td>\n    </tr>\n  </tbody>\n</table>\n<p>11 rows × 34 columns</p>\n</div>"
     },
     "execution_count": 16,
     "metadata": {},
     "output_type": "execute_result"
    }
   ],
   "source": [
    "# describe all the columns in \"df\" \n",
    "df.describe(include = \"all\")"
   ]
  },
  {
   "cell_type": "markdown",
   "metadata": {},
   "source": [
    "<p>\n",
    "Now it provides the statistical summary of all the columns, including object-typed attributes.<br>\n",
    "\n",
    "We can now see how many unique values there, which one is the top value and the frequency of top value in the object-typed columns.<br>\n",
    "\n",
    "Some values in the table above show as \"NaN\". This is because those numbers are not available regarding a particular column type.<br>\n",
    "\n",
    "</p>\n"
   ]
  },
  {
   "cell_type": "markdown",
   "metadata": {},
   "source": [
    "<div class=\"alert alert-danger alertdanger\" style=\"margin-top: 20px\">\n",
    "<h1> Question #3: </h1>\n",
    "\n",
    "<p>\n",
    "You can select the columns of a dataframe by indicating the name of each column. For example, you can select the three columns as follows:\n",
    "</p>\n",
    "<p>\n",
    "    <code>dataframe[[' column 1 ',column 2', 'column 3']]</code>\n",
    "</p>\n",
    "<p>\n",
    "Where \"column\" is the name of the column, you can apply the method  \".describe()\" to get the statistics of those columns as follows:\n",
    "</p>\n",
    "<p>\n",
    "    <code>dataframe[[' column 1 ',column 2', 'column 3'] ].describe()</code>\n",
    "</p>\n",
    "\n",
    "Apply the  method to \".describe()\" to the columns 'Age at Diagnosis' and 'Overall Survival (Months)'.\n",
    "\n",
    "</div>\n"
   ]
  },
  {
   "cell_type": "code",
   "execution_count": 17,
   "metadata": {},
   "outputs": [],
   "source": [
    "# Write your code below and press Shift+Enter to execute \n"
   ]
  },
  {
   "cell_type": "markdown",
   "metadata": {},
   "source": [
    "<details><summary>Click here for the solution</summary>\n",
    "\n",
    "```python\n",
    "df[['Age at Diagnosis', 'Overall Survival (Months)']].describe()\n",
    "```\n",
    "\n",
    "</details>\n"
   ]
  },
  {
   "cell_type": "markdown",
   "metadata": {},
   "source": [
    "<h2>Info</h2>\n",
    "Another method you can use to check your dataset is:\n"
   ]
  },
  {
   "cell_type": "raw",
   "metadata": {},
   "source": [
    "dataframe.info()"
   ]
  },
  {
   "cell_type": "markdown",
   "metadata": {},
   "source": [
    "It provides a concise summary of your DataFrame.\n",
    "\n",
    "This method prints information about a DataFrame including the index dtype and columns, non-null values and memory usage.\n"
   ]
  },
  {
   "cell_type": "code",
   "execution_count": 18,
   "metadata": {},
   "outputs": [
    {
     "name": "stdout",
     "output_type": "stream",
     "text": [
      "<class 'pandas.core.frame.DataFrame'>\n",
      "Int64Index: 1764 entries, 0 to 1984\n",
      "Data columns (total 34 columns):\n",
      " #   Column                          Non-Null Count  Dtype  \n",
      "---  ------                          --------------  -----  \n",
      " 0   Patient ID                      1764 non-null   object \n",
      " 1   Age at Diagnosis                1764 non-null   float64\n",
      " 2   Type of Breast Surgery          1743 non-null   object \n",
      " 3   Cancer Type                     1764 non-null   object \n",
      " 4   Cancer Type Detailed            1764 non-null   object \n",
      " 5   Cellularity                     1711 non-null   object \n",
      " 6   Chemotherapy                    1764 non-null   object \n",
      " 7   Pam50 + Claudin-low subtype     1764 non-null   object \n",
      " 8   Cohort                          1764 non-null   float64\n",
      " 9   ER Status Measured by IHC       1728 non-null   object \n",
      " 10  ER Status                       1764 non-null   object \n",
      " 11  Neoplasm Histologic Grade       1689 non-null   float64\n",
      " 12  HER2 Status Measured by SNP6    1764 non-null   object \n",
      " 13  HER2 Status                     1764 non-null   object \n",
      " 14  Tumor Other Histologic Subtype  1729 non-null   object \n",
      " 15  Hormone Therapy                 1764 non-null   object \n",
      " 16  Inferred Menopausal State       1764 non-null   object \n",
      " 17  Integrative Cluster             1764 non-null   object \n",
      " 18  Primary Tumor Laterality        1668 non-null   object \n",
      " 19  Lymph Nodes Examined Positive   1700 non-null   float64\n",
      " 20  Mutation Count                  1660 non-null   float64\n",
      " 21  Nottingham Prognostic Index     1764 non-null   float64\n",
      " 22  Oncotree Code                   1764 non-null   object \n",
      " 23  Overall Survival (Months)       1764 non-null   float64\n",
      " 24  Overall Survival Status         1764 non-null   object \n",
      " 25  PR Status                       1764 non-null   object \n",
      " 26  Radio Therapy                   1764 non-null   object \n",
      " 27  Relapse Free Status (Months)    1764 non-null   float64\n",
      " 28  Relapse Free Status             1763 non-null   object \n",
      " 29  Sex                             1764 non-null   object \n",
      " 30  3-Gene Classifier Subtype       1764 non-null   object \n",
      " 31  Tumor Size                      1743 non-null   float64\n",
      " 32  Tumor Stage                     1300 non-null   float64\n",
      " 33  Patient's Vital Status          1763 non-null   object \n",
      "dtypes: float64(10), object(24)\n",
      "memory usage: 482.3+ KB\n"
     ]
    }
   ],
   "source": [
    "# look at the info of \"df\"\n",
    "df.info()"
   ]
  },
  {
   "cell_type": "markdown",
   "metadata": {},
   "source": [
    "<h1>Excellent! You have just completed the  Introduction Notebook!</h1>\n"
   ]
  },
  {
   "cell_type": "markdown",
   "metadata": {},
   "source": [
    "### Thank you for completing this lab!\n",
    "\n",
    "## Author\n",
    "\n",
    "<a href=\"https://www.linkedin.com/in/joseph-s-50398b136/?utm_medium=Exinfluencer&utm_source=Exinfluencer&utm_content=000026UJ&utm_term=10006555&utm_id=NA-SkillsNetwork-Channel-SkillsNetworkCoursesIBMDeveloperSkillsNetworkDA0101ENSkillsNetwork20235326-2021-01-01\" target=\"_blank\">Joseph Santarcangelo</a>\n",
    "\n",
    "### Other Contributors\n",
    "\n",
    "<a href=\"https://www.linkedin.com/in/mahdi-noorian-58219234/?utm_medium=Exinfluencer&utm_source=Exinfluencer&utm_content=000026UJ&utm_term=10006555&utm_id=NA-SkillsNetwork-Channel-SkillsNetworkCoursesIBMDeveloperSkillsNetworkDA0101ENSkillsNetwork20235326-2021-01-01\" target=\"_blank\">Mahdi Noorian PhD</a>\n",
    "\n",
    "Bahare Talayian\n",
    "\n",
    "Eric Xiao\n",
    "\n",
    "Steven Dong\n",
    "\n",
    "Parizad\n",
    "\n",
    "Hima Vasudevan\n",
    "\n",
    "<a href=\"https://www.linkedin.com/in/fiorellawever/?utm_medium=Exinfluencer&utm_source=Exinfluencer&utm_content=000026UJ&utm_term=10006555&utm_id=NA-SkillsNetwork-Channel-SkillsNetworkCoursesIBMDeveloperSkillsNetworkDA0101ENSkillsNetwork20235326-2021-01-01\" target=\"_blank\">Fiorella Wenver</a>\n",
    "\n",
    "<a href=\"https:// https://www.linkedin.com/in/yi-leng-yao-84451275/ \" target=\"_blank\" >Yi Yao</a>.\n",
    "\n",
    "## Change Log\n",
    "\n",
    "| Date (YYYY-MM-DD) | Version | Changed By | Change Description                                         |\n",
    "| ----------------- | ------- | ---------- | ---------------------------------------------------------- |\n",
    "| 2022-08-23        | 2.4     | Malika     | Import micropip added and parameter for ipwidgets and tqdm |\n",
    "| 2020-10-30        | 2.3     | Lakshmi    | Changed URL of the csv                                     |\n",
    "| 2020-09-22        | 2.2     | Nayef      | Added replace() method to remove '?'                       |\n",
    "| 2020-09-09        | 2.1     | Lakshmi    | Made changes in info method of dataframe                   |\n",
    "| 2020-08-27        | 2.0     | Lavanya    | Moved lab to course repo in GitLab                         |\n",
    "\n",
    "<hr>\n",
    "\n",
    "## <h3 align=\"center\"> © IBM Corporation 2020. All rights reserved. <h3/>\n"
   ]
  }
 ],
 "metadata": {
  "anaconda-cloud": {},
  "kernelspec": {
   "display_name": "Python 3 (ipykernel)",
   "language": "python",
   "name": "python3"
  },
  "language_info": {
   "codemirror_mode": {
    "name": "ipython",
    "version": 3
   },
   "file_extension": ".py",
   "mimetype": "text/x-python",
   "name": "python",
   "nbconvert_exporter": "python",
   "pygments_lexer": "ipython3",
   "version": "3.10.9"
  }
 },
 "nbformat": 4,
 "nbformat_minor": 4
}
