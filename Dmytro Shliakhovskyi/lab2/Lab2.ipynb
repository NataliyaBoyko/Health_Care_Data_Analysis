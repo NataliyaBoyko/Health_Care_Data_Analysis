{
 "cells": [
  {
   "cell_type": "markdown",
   "id": "b2345caa-1167-4d7a-b785-eb2bdc681ad4",
   "metadata": {},
   "outputs": [],
   "source": [
    "<center>\n    <img src=\"https://cf-courses-data.s3.us.cloud-object-storage.appdomain.cloud/assets/logos/SN_web_lightmode.png\" width=\"300\" alt=\"cognitiveclass.ai logo\"  />\n</center>\n\n# **Forecasting of Breast Cancer on medical measurement**\n# Lab 2. Data Wrangling\n\nEstimated time needed: **30** minutes\n\n## Objectives\n\nAfter completing this lab you will be able to:\n\n*   Handle missing values\n*   Correct data format\n*   Standardize and normalize data\n"
   ]
  },
  {
   "cell_type": "markdown",
   "id": "8416abdb-4f0f-40a8-9561-94136f70e71c",
   "metadata": {},
   "outputs": [],
   "source": [
    "<h2>Table of Contents</h2>\n\n<div class=\"alert alert-block alert-info\" style=\"margin-top: 20px\">\n<ul>\n    <li><a href=\"https://#identify_handle_missing_values\">Identify and handle missing values</a>\n        <ul>\n            <li><a href=\"https://#identify_missing_values\">Identify missing values</a></li>\n            <li><a href=\"https://#deal_missing_values\">Deal with missing values</a></li>\n            <li><a href=\"https://#correct_data_format\">Correct data format</a></li>\n        </ul>\n    </li>\n    <li><a href=\"https://#data_standardization\">Data standardization</a></li>\n    <li><a href=\"https://#data_normalization\">Data normalization (centering/scaling)</a></li>\n    <li><a href=\"https://#binning\">Binning</a></li>\n    <li><a href=\"https://#indicator\">Indicator variable</a></li>\n</ul>\n\n</div>\n\n<hr>\n"
   ]
  },
  {
   "cell_type": "markdown",
   "id": "35a1e1b3-66f3-499a-8725-418f422c333f",
   "metadata": {},
   "outputs": [],
   "source": [
    "<h2>What is the purpose of data wrangling?</h2>\n"
   ]
  },
  {
   "cell_type": "markdown",
   "id": "452de122-074c-46b5-8031-a4f5e1cdc3e5",
   "metadata": {},
   "outputs": [],
   "source": [
    "Data wrangling is the process of converting data from the initial format to a format that may be better for analysis.\n"
   ]
  },
  {
   "cell_type": "markdown",
   "id": "a7f9433e-c5f6-42aa-a884-3e47dc177062",
   "metadata": {},
   "outputs": [],
   "source": [
    "<h3>How to transform months to years?</h3>\n"
   ]
  },
  {
   "cell_type": "markdown",
   "id": "316f7747-b92c-4c69-941e-b32f90520d80",
   "metadata": {},
   "outputs": [],
   "source": [
    "<h3>Import data</h3>\n<p>\nYou can find the \"Breast Cancer Dataset\" from the following link: <a href=\"https://www.kaggle.com/datasets/gunesevitan/breast-cancer-metabric\">https://www.kaggle.com/datasets/gunesevitan/breast-cancer-metabric</a>.\nWe will be using this dataset throughout this course.\n</p>\n"
   ]
  },
  {
   "cell_type": "markdown",
   "id": "a1ed22fc-972d-4a11-bc62-acba2331587b",
   "metadata": {},
   "outputs": [],
   "source": [
    "<h4>Import pandas</h4>"
   ]
  },
  {
   "cell_type": "markdown",
   "id": "4bce0c5f-f7e9-43df-937e-ca8cdcbd4234",
   "metadata": {},
   "outputs": [],
   "source": [
    "Now, let's import libraries that we will use"
   ]
  },
  {
   "cell_type": "code",
   "id": "3c509cc0-638c-4f79-8850-ba722d551711",
   "metadata": {},
   "outputs": [],
   "source": [
    "conda install -c anaconda scikit-learn"
   ]
  },
  {
   "cell_type": "code",
   "id": "f8a62611-8099-411a-b883-39742e6e6bbc",
   "metadata": {},
   "outputs": [],
   "source": [
    "import pandas as pd\nimport matplotlib.pylab as plt\nimport numpy as np\n\nfrom sklearn.metrics import mean_absolute_percentage_error\nfrom sklearn.metrics import confusion_matrix, recall_score\nfrom sklearn import preprocessing\n\n%matplotlib inline\nimport matplotlib as plt\nfrom matplotlib import pyplot"
   ]
  },
  {
   "cell_type": "markdown",
   "id": "68e54ca3-49ba-45b8-aeb9-b5291acc7227",
   "metadata": {},
   "outputs": [],
   "source": [
    "<h2>Reading the dataset from the URL and adding the related headers</h2>\n"
   ]
  },
  {
   "cell_type": "markdown",
   "id": "cd45ea62-396a-4b3b-9fae-9f2393d5530c",
   "metadata": {},
   "outputs": [],
   "source": [
    "First, we assign the URL of the dataset to \"filename\".\n"
   ]
  },
  {
   "cell_type": "code",
   "id": "46d1ea62-6087-46c3-aaf4-4d081db7db0f",
   "metadata": {},
   "outputs": [],
   "source": [
    "filename = \"https://cf-courses-data.s3.us.cloud-object-storage.appdomain.cloud/IBMSkillsNetwork-GPXX0XQ4EN/breast_cancer.csv\""
   ]
  },
  {
   "cell_type": "markdown",
   "id": "b5692003-5511-4f87-a553-b44f4aa4f8de",
   "metadata": {},
   "outputs": [],
   "source": [
    "Use the Pandas method <b>read_csv()</b> to load the data from the web address.\n"
   ]
  },
  {
   "cell_type": "code",
   "id": "0ebf07e8-8bf9-472a-ade4-209f1e147171",
   "metadata": {},
   "outputs": [],
   "source": [
    "df = pd.read_csv(filename)"
   ]
  },
  {
   "cell_type": "markdown",
   "id": "246ccb21-5835-4b49-a4f0-3bb06861c408",
   "metadata": {},
   "outputs": [],
   "source": [
    "Let's read the data in df2 and drop all the rows that have no data"
   ]
  },
  {
   "cell_type": "code",
   "id": "94026161-ac59-4edc-8473-17e3f53339c2",
   "metadata": {},
   "outputs": [],
   "source": [
    "df2=df.dropna().reset_index(drop=True)\ndf2.head(10)"
   ]
  },
  {
   "cell_type": "markdown",
   "id": "1e27e7e5-9d9e-45ce-aad2-a5ee959be660",
   "metadata": {},
   "outputs": [],
   "source": [
    "Now let's write in the dictionary <b>col</b> the columns in which we will generate empty fields."
   ]
  },
  {
   "cell_type": "code",
   "id": "9fdc3280-67d4-453d-9b97-1f327e993806",
   "metadata": {},
   "outputs": [],
   "source": [
    "cols = {'Age at Diagnosis': df2[['Age at Diagnosis']], 'Primary Tumor Laterality': df2[['Primary Tumor Laterality']],\n        'Nottingham prognostic index': df2[['Nottingham prognostic index']], 'Overall Survival (Months)': df2[['Overall Survival (Months)']], \"Patient's Vital Status\": df2[[\"Patient's Vital Status\"]]}\n\ncol = {'Age at Diagnosis': 0.07, 'Primary Tumor Laterality': 0.1, 'Nottingham prognostic index': 0.05, 'Overall Survival (Months)': 0.03, \"Patient's Vital Status\": 0.01}\nfor c in col:\n    m = np.random.rand(len(df2))\n    mask = m < col[c]\n    df2.loc[mask, c] = np.NaN\n"
   ]
  },
  {
   "cell_type": "markdown",
   "id": "0c9e34d8-6895-4e53-95b5-e017a588c405",
   "metadata": {},
   "outputs": [],
   "source": [
    "Use the method <b>head()</b> to display the first five rows of the dataframe.\n"
   ]
  },
  {
   "cell_type": "code",
   "id": "5ad9dcd2-ac80-46ac-88bd-46cd96ee100f",
   "metadata": {},
   "outputs": [],
   "source": [
    "# To see what the data set looks like, we'll use the head() method.\ndf2.head()"
   ]
  },
  {
   "cell_type": "markdown",
   "id": "fe5971bf-655c-47c6-ac9e-43e45d504536",
   "metadata": {},
   "outputs": [],
   "source": [
    "As we can see, several NaN appeared in the dataframe; those are missing values which may hinder our further analysis.\n\n<div>So, how do we identify all those missing values and deal with them?</div> \n\n<b>How to work with missing data?</b>\n\nSteps for working with missing data:\n\n<ol>\n    <li>Identify missing data</li>\n    <li>Deal with missing data</li>\n    <li>Correct data format</li>\n</ol>\n"
   ]
  },
  {
   "cell_type": "markdown",
   "id": "ac659585-65ae-413f-8352-b04c230c76fe",
   "metadata": {},
   "outputs": [],
   "source": [
    "<h2 id=\"identify_handle_missing_values\">Identify and handle missing values</h2>\n\n<h3 id=\"identify_missing_values\">Identify missing values</h3>\n"
   ]
  },
  {
   "cell_type": "markdown",
   "id": "4b6ce60f-3af0-4572-b7ec-1695a8d69c25",
   "metadata": {},
   "outputs": [],
   "source": [
    "<h4>Evaluating for Missing Data</h4>\n\nThe missing values are converted by default. We use the following functions to identify these missing values. There are two methods to detect missing data:\n\n<ol>\n    <li><b>.isnull()</b></li>\n    <li><b>.notnull()</b></li>\n</ol>\nThe output is a boolean value indicating whether the value that is passed into the argument is in fact missing data.\n"
   ]
  },
  {
   "cell_type": "code",
   "id": "0283fcc8-0c3e-4223-9dbd-b2f2f69bd480",
   "metadata": {},
   "outputs": [],
   "source": [
    "missing_data = df2.isnull()\nmissing_data.head(5)"
   ]
  },
  {
   "cell_type": "markdown",
   "id": "37ab1f69-f20b-4d95-b750-e101f7e0650e",
   "metadata": {},
   "outputs": [],
   "source": [
    "\"True\" means the value is a missing value while \"False\" means the value is not a missing value.\n"
   ]
  },
  {
   "cell_type": "markdown",
   "id": "24ddf6c3-028b-4f52-ac5b-f88421774681",
   "metadata": {},
   "outputs": [],
   "source": [
    "<h4>Count missing values in each column</h4>\n<p>\nUsing a for loop in Python, we can quickly figure out the number of missing values in each column. As mentioned above, \"True\" represents a missing value and \"False\" means the value is present in the dataset.  In the body of the for loop the method \".value_counts()\" counts the number of \"True\" values. \n</p>\n"
   ]
  },
  {
   "cell_type": "code",
   "id": "c24ac4f0-c391-4f10-bebd-ab2695650cc9",
   "metadata": {},
   "outputs": [],
   "source": [
    "for column in missing_data.columns.values.tolist():\n    print(column)\n    print (missing_data[column].value_counts())\n    print(\"\")"
   ]
  },
  {
   "cell_type": "markdown",
   "id": "268cf5fa-daf2-4e2c-bbcb-698e350c92a4",
   "metadata": {},
   "outputs": [],
   "source": [
    "Based on the summary above, each column contains more than 1000 rows of data and six of the columns containing missing data:\n\n<ol>\n    <li>\"Age at Diagnosis\"</li>\n    <li>\"Primary Tumor Laterality\"</li>\n    <li>\"Nottingham prognostic index\"</li>\n    <li>\"Overall Survival (Months)\"</li>\n    <li>\"Patient's Vital Status\"</li>\n</ol>\n"
   ]
  },
  {
   "cell_type": "markdown",
   "id": "b31f2108-da59-4be6-a299-525ce504d639",
   "metadata": {},
   "outputs": [],
   "source": [
    "<h3 id=\"deal_missing_values\">Deal with missing data</h3>\n<b>How to deal with missing data?</b>\n\n<ol>\n    <li>Drop data<br>\n        a. Drop the whole row<br>\n        b. Drop the whole column\n    </li>\n    <li>Replace data<br>\n        a. Replace it by mean<br>\n        b. Replace it by frequency<br>\n        c. Replace it based on other functions\n    </li>\n</ol>\n"
   ]
  },
  {
   "cell_type": "markdown",
   "id": "67dabe6e-6295-42f4-b438-8b00807a3fb1",
   "metadata": {},
   "outputs": [],
   "source": [
    "Whole columns should be dropped only if most entries in the column are empty. In our dataset, none of the columns are empty enough to drop entirely.\nWe have some freedom in choosing which method to replace data; however, some methods may seem more reasonable than others. We will apply each method to many different columns:\n\n<b>Replace by mean:</b>\n\n<ul>\n    <li>\"Age at Diagnosis\": replace them with mean</li>\n    <li>\"Nottingham prognostic index\": replace them with mean</li>\n    <li>\"Overall Survival (Months)\": replace them with mean</li>\n</ul>\n\n<b>Replace by frequency:</b>\n\n<ul>\n    <li>\"Primary Tumor Laterality\": replace them with \"Left\".\n        <ul>\n            <li>Reason: More than half of the data is \"Left\". Since \"Left\" is the most common, this is the most likely</li>\n        </ul>\n    </li>\n</ul>\n\n<b>Drop the whole row:</b>\n\n<ul>\n    <li>\"Patient's Vital Status\": simply delete the whole row\n    </li>\n</ul>\n"
   ]
  },
  {
   "cell_type": "markdown",
   "id": "26277399-e3e0-428d-917d-559f70f6e296",
   "metadata": {},
   "outputs": [],
   "source": [
    "<h4>Calculate the mean value for the \"Age at Diagnosis\" column </h4>\n"
   ]
  },
  {
   "cell_type": "code",
   "id": "897902d4-eed5-4fe0-9c65-6e84c51c6b1d",
   "metadata": {},
   "outputs": [],
   "source": [
    "avg_age_loss = df2[\"Age at Diagnosis\"].astype(\"float\").mean(axis=0)\nprint(\"Age at Diagnosis:\", round(avg_age_loss, 2))"
   ]
  },
  {
   "cell_type": "markdown",
   "id": "06282729-3daa-42fc-abd2-1bf30e82d104",
   "metadata": {},
   "outputs": [],
   "source": [
    "<h4>Replace \"NaN\" with mean value in \"Age at Diagnosis\" column</h4>\n"
   ]
  },
  {
   "cell_type": "code",
   "id": "a72b4f9a-121d-429f-9ca6-0189e3f0d216",
   "metadata": {},
   "outputs": [],
   "source": [
    "df2[\"Age at Diagnosis\"].replace(np.nan, avg_age_loss, inplace=True)"
   ]
  },
  {
   "cell_type": "markdown",
   "id": "5191f06d-3a2b-4eb9-b43f-e37ef100c606",
   "metadata": {},
   "outputs": [],
   "source": [
    "<h4>Let's calculate the error between the replaced data and the original data</h4>"
   ]
  },
  {
   "cell_type": "code",
   "id": "c4a241ec-af1c-47bd-9a5c-526b7f8a04c1",
   "metadata": {},
   "outputs": [],
   "source": [
    "mape_age = mean_absolute_percentage_error(cols['Age at Diagnosis'], df2['Age at Diagnosis'])\nprint('Error of Age at Diagnosis: ', round(mape_age, 2) * 100, '%')"
   ]
  },
  {
   "cell_type": "markdown",
   "id": "42c5d6fa-4946-490c-9924-e824fcb642c8",
   "metadata": {},
   "outputs": [],
   "source": [
    "<h4>Calculate the mean value for the \"Nottingham prognostic index\" column</h4>\n"
   ]
  },
  {
   "cell_type": "code",
   "id": "c2ea2965-4ec8-4fd6-aabb-de3ad8272399",
   "metadata": {},
   "outputs": [],
   "source": [
    "avg_nottingham=df2['Nottingham prognostic index'].astype('float').mean(axis=0)\nprint(\"Nottingham prognostic index:\", round(avg_nottingham, 2))"
   ]
  },
  {
   "cell_type": "markdown",
   "id": "4b337110-8e86-4b37-a106-bd933c4682d9",
   "metadata": {},
   "outputs": [],
   "source": [
    "<h4>Replace \"NaN\" with the mean value in the \"Nottingham prognostic index\" column</h4>\n"
   ]
  },
  {
   "cell_type": "code",
   "id": "3cc2a8b0-e582-45b9-9d97-6fe7dea3f780",
   "metadata": {},
   "outputs": [],
   "source": [
    "df2[\"Nottingham prognostic index\"].replace(np.nan, avg_nottingham, inplace=True)"
   ]
  },
  {
   "cell_type": "markdown",
   "id": "78d7a2ca-b8cb-4e35-b66d-839aa432d9bf",
   "metadata": {},
   "outputs": [],
   "source": [
    "<h4>Let's calculate the error between the replaced data and the original data</h4>"
   ]
  },
  {
   "cell_type": "code",
   "id": "92b2c65a-4b0d-47a6-a1cc-89044dcaacd4",
   "metadata": {},
   "outputs": [],
   "source": [
    "mape_nottingham = mean_absolute_percentage_error(cols['Nottingham prognostic index'], df2['Nottingham prognostic index'])\nprint('Error of Nottingham prognostic index: ', round(mape_nottingham, 2) * 100, '%')"
   ]
  },
  {
   "cell_type": "markdown",
   "id": "da775146-df09-482c-b7a2-ddb04dbe6158",
   "metadata": {},
   "outputs": [],
   "source": [
    "<div class=\"alert alert-danger alertdanger\" style=\"margin-top: 20px\">\n<h1> Question  #1: </h1>\n\n<b>Based on the example above, replace NaN in \"Overall Survival (Months)\" column with the mean value and calculate the error.</b>\n\n</div>\n"
   ]
  },
  {
   "cell_type": "code",
   "id": "613ee8a8-20d4-4795-afdd-c2904b10548d",
   "metadata": {},
   "outputs": [],
   "source": [
    "# Write your code below and press Shift+Enter to execute \n"
   ]
  },
  {
   "cell_type": "markdown",
   "id": "103615e2-e91a-4dc3-85b9-d605383f4b21",
   "metadata": {},
   "outputs": [],
   "source": [
    "<details><summary>Click here for the solution</summary>\n\n```python\n#Calculate the mean value for \"stroke\" column\navg_survival = df2['Overall Survival (Months)'].astype('float').mean(axis=0)\nprint(\"Overall Survival (Months):\", avg_survival)\n\n# replace NaN by mean value in \"stroke\" column\ndf2['Overall Survival (Months)'].replace(np.nan, avg_survival, inplace=True)\n\n#Let's calculate the error between the replaced data and the original data\nmape_survival = mean_absolute_percentage_error(cols['Overall Survival (Months)'], df2['Overall Survival (Months)'])\nprint('Error of Overall Survival (Months): ', round(mape_survival, 2) * 100, '%')\n```\n\n</details>\n"
   ]
  },
  {
   "cell_type": "markdown",
   "id": "c366d932-3496-486f-86c1-fcea36a26faf",
   "metadata": {},
   "outputs": [],
   "source": [
    "To see which values are present in a particular column, we can use the \".value_counts()\" method:\n"
   ]
  },
  {
   "cell_type": "code",
   "id": "f9739df6-3689-4e04-b6f4-f0b2fb683ea3",
   "metadata": {},
   "outputs": [],
   "source": [
    "df2['Primary Tumor Laterality'].value_counts()"
   ]
  },
  {
   "cell_type": "markdown",
   "id": "dd231067-b32f-4f26-9e3f-3b6ab30e13eb",
   "metadata": {},
   "outputs": [],
   "source": [
    "We can see that \"Left\" is the most common type. We can also use the \".idxmax()\" method to calculate the most common type automatically:\n"
   ]
  },
  {
   "cell_type": "code",
   "id": "a38263cf-263a-41cb-8f4d-86338c1c8875",
   "metadata": {},
   "outputs": [],
   "source": [
    "df2['Primary Tumor Laterality'].value_counts().idxmax()"
   ]
  },
  {
   "cell_type": "markdown",
   "id": "587d2434-fc43-4bf7-a19c-0f3bea00609d",
   "metadata": {},
   "outputs": [],
   "source": [
    "The replacement procedure is very similar to what we have seen previously:\n"
   ]
  },
  {
   "cell_type": "code",
   "id": "d46c515c-70ea-4d9a-a951-ba2291890074",
   "metadata": {},
   "outputs": [],
   "source": [
    "#replace the missing 'Primary Tumor Laterality' values by the most frequent\ndf2[\"Primary Tumor Laterality\"].replace(np.nan, \"Left\", inplace=True)"
   ]
  },
  {
   "cell_type": "markdown",
   "id": "6617f452-a555-412f-b303-97e5fa1c4d94",
   "metadata": {},
   "outputs": [],
   "source": [
    "<h4>Let's calculate the error between the replaced data and the original data</h4>"
   ]
  },
  {
   "cell_type": "code",
   "id": "78d28b11-cb7a-4a5d-b781-0f076b04616b",
   "metadata": {},
   "outputs": [],
   "source": [
    "confusion_matrix(cols['Primary Tumor Laterality'], df2[['Primary Tumor Laterality']])\n\nmape_primary = recall_score(cols['Primary Tumor Laterality'], df2[['Primary Tumor Laterality']], average='macro')\nprint('Error of Primary Tumor Laterality: ', round(1 - mape_primary, 2) * 100, '%')"
   ]
  },
  {
   "cell_type": "markdown",
   "id": "a33d1936-0bc8-4837-8335-f2754f1fbfa0",
   "metadata": {},
   "outputs": [],
   "source": [
    "Finally, let's drop all rows that do not have Patient's Vital Status data:\n"
   ]
  },
  {
   "cell_type": "code",
   "id": "e16e6064-7771-4feb-962d-e11c55a20a5c",
   "metadata": {},
   "outputs": [],
   "source": [
    "# simply drop whole row with NaN in \"Patient's Vital Status\" column\ndf2.dropna(subset=[\"Patient's Vital Status\"], axis=0, inplace=True)\n\n# reset index, because we droped two rows\ndf2.reset_index(drop=True, inplace=True)"
   ]
  },
  {
   "cell_type": "code",
   "id": "bc663d34-35c3-48fd-8f46-5d27c2632f85",
   "metadata": {},
   "outputs": [],
   "source": [
    "df2.head()"
   ]
  },
  {
   "cell_type": "markdown",
   "id": "ab5bd1cb-d418-4482-ad0c-5d4b0462503c",
   "metadata": {},
   "outputs": [],
   "source": [
    "We can notice that the errors we calculated are insignificant which is acceptable. So we can go back to our original <b>df</b> data and replace the empty values.\n\nLet's create two arrays in which we will write the names of the columns in which we will replace empty values. Data from the first array will be replaced by the mean. Data from the second array are replaced by the most frequent.\n"
   ]
  },
  {
   "cell_type": "code",
   "id": "ba34bdd3-524b-4f18-a2bb-9dfd4d00ad87",
   "metadata": {},
   "outputs": [],
   "source": [
    "col_mean = [\"Age at Diagnosis\", \"Nottingham prognostic index\", \"Overall Survival (Months)\",\n            \"Relapse Free Status (Months)\", \"Tumor Size\", ]\ncol_freq = [\"Type of Breast Surgery\", \"Cellularity\", \"Chemotherapy\", \"Pam50 + Claudin-low subtype\", \"Cohort\",\n            \"ER status measured by IHC\", \"ER Status\", \"Neoplasm Histologic Grade\", \"HER2 status measured by SNP6\", \"HER2 Status\", \"Tumor Other Histologic Subtype\", \"Hormone Therapy\", \"Inferred Menopausal State\", \"Integrative Cluster\", \"Primary Tumor Laterality\", \"Lymph nodes examined positive\", \"Mutation Count\", \"Oncotree Code\", \"Overall Survival Status\", \"PR Status\", \"Radio Therapy\", \"Relapse Free Status\", \"3-Gene classifier subtype\", \"Tumor Stage\", \"Patient's Vital Status\"]"
   ]
  },
  {
   "cell_type": "markdown",
   "id": "f4f73fdd-50d7-4bb0-bbc2-00267bb72f95",
   "metadata": {},
   "outputs": [],
   "source": [
    "Calculate the mean values for the <b>col_mean</b> array and replace them."
   ]
  },
  {
   "cell_type": "code",
   "id": "4416832c-526a-4d30-9c13-3f5843b1ae7c",
   "metadata": {},
   "outputs": [],
   "source": [
    "#Calculate the mean values for \"col_mean\" array\n\nfor c in col_mean:\n    avg_c = df[c].astype('float').mean(axis=0)\n    print(c, \":\", round(avg_c, 2))\n    df[c].replace(np.nan, avg_c, inplace=True)\n"
   ]
  },
  {
   "cell_type": "markdown",
   "id": "68378043-7bbb-454c-80ba-669a966b8ed7",
   "metadata": {},
   "outputs": [],
   "source": [
    "Let's determine the most common that value in the array using the \".idxmax()\" and replace them."
   ]
  },
  {
   "cell_type": "code",
   "id": "be93e0fe-7c8a-4ca1-b6f8-7df7b9955ac2",
   "metadata": {},
   "outputs": [],
   "source": [
    "#replace the missing values for \"col_freq\" array by the most frequent\n\nfor c in col_freq:\n    max_value = df[c].value_counts().idxmax()\n    #replace the missing values by the most frequent\n    df[c].replace(np.nan, max_value, inplace=True)\n\ndf.head()"
   ]
  },
  {
   "cell_type": "markdown",
   "id": "f8df7058-1ff5-4350-b5b1-a15bc8960895",
   "metadata": {},
   "outputs": [],
   "source": [
    "<b>Good!</b> Now, we have a dataset with no missing values.\n"
   ]
  },
  {
   "cell_type": "markdown",
   "id": "042cc9a4-0154-468a-bfa8-fe2c92a57bb4",
   "metadata": {},
   "outputs": [],
   "source": [
    "<h3 id=\"correct_data_format\">Correct data format</h3>\n<b>We are almost there!</b>\n<p>The last step in data cleaning is checking and making sure that all data is in the correct format (int, float, text or other).</p>\n\nIn Pandas, we use:\n\n<p><b>.dtype()</b> to check the data type</p>\n<p><b>.astype()</b> to change the data type</p>\n"
   ]
  },
  {
   "cell_type": "markdown",
   "id": "558a52cd-4718-45c0-84d3-cb976c90b1a3",
   "metadata": {},
   "outputs": [],
   "source": [
    "<h4>Let's list the data types for each column</h4>\n"
   ]
  },
  {
   "cell_type": "code",
   "id": "ada9f478-b396-4dc2-b536-1a87b4c49d80",
   "metadata": {},
   "outputs": [],
   "source": [
    "df.dtypes"
   ]
  },
  {
   "cell_type": "markdown",
   "id": "7cfcba1f-9faf-49d0-b077-f342cc210de7",
   "metadata": {},
   "outputs": [],
   "source": [
    "<p>As we can see above, some columns are not of the correct data type. Numerical variables should have type 'float' or 'int', and variables with strings such as categories should have type 'object'. For example, 'Cohort' and 'Neoplasm Histologic Grade' they are shown as type 'float', although they must be of type 'int'. We have to convert data types into a proper format for each column using the \"astype()\" method.</p>\n"
   ]
  },
  {
   "cell_type": "markdown",
   "id": "462a16eb-0854-41eb-a9dc-80f3c7e77487",
   "metadata": {},
   "outputs": [],
   "source": [
    "<h4>Convert data types to proper format</h4>\n"
   ]
  },
  {
   "cell_type": "code",
   "id": "2bdf11a5-b247-4d0f-82d3-621283eef6ea",
   "metadata": {},
   "outputs": [],
   "source": [
    "col_int = [\"Cohort\", \"Neoplasm Histologic Grade\",\"Lymph nodes examined positive\", \"Mutation Count\", \"Tumor Stage\"]\n\ncol_cat = list(df.select_dtypes(include=['object']).columns)\n#exceprt column \"Patient ID\"\ncol_cat = col_cat[1:]\n\ncol_bool = [\"Chemotherapy\", \"Hormone Therapy\", \"Radio Therapy\"]\n\ndf[col_int] = df[col_int].astype(\"int\")\ndf[col_cat] = df[col_cat].astype(\"category\")\nfor c in col_bool:\n    df[c] = df[c].map({'Yes': True, 'No': False})\n\ndf[col_bool] = df[col_bool].astype(\"bool\")"
   ]
  },
  {
   "cell_type": "markdown",
   "id": "36b62b02-8b53-421c-8ff5-494472a9e5c0",
   "metadata": {},
   "outputs": [],
   "source": [
    "<h4>Let us list the columns after the conversion</h4>\n"
   ]
  },
  {
   "cell_type": "code",
   "id": "26e38542-f6de-4940-a04c-247072c37036",
   "metadata": {},
   "outputs": [],
   "source": [
    "df.dtypes"
   ]
  },
  {
   "cell_type": "markdown",
   "id": "bb1669ed-53c0-4da5-a525-8aa50b9e8968",
   "metadata": {},
   "outputs": [],
   "source": [
    "<b>Wonderful!</b>\n\nNow we have finally obtained the cleaned dataset with no missing values with all data in its proper format.\n"
   ]
  },
  {
   "cell_type": "markdown",
   "id": "38afe76b-8e4c-46ef-89da-9a5b197bec91",
   "metadata": {},
   "outputs": [],
   "source": [
    "<h2 id=\"data_standardization\">Data Standardization</h2>\n<p>\nData is usually collected from different agencies in different formats.\n(Data standardization is also a term for a particular type of data normalization where we subtract the mean and divide by the standard deviation.)\n</p>\n\n<b>What is standardization?</b>\n\n<p>Standardization is the process of transforming data into a common format, allowing the researcher to make the meaningful comparison.\n</p>\n\n<b>Example</b>\n\n<p>Transform months to years:</p>\n<p>In our dataset, there are two columns in which the values are presented in months.</p>\n<p>We will need to apply <b>data transformation</b> to transform months to years.</p>\n"
   ]
  },
  {
   "cell_type": "markdown",
   "id": "17738c4d-4786-4328-aa46-d2fa03fa954c",
   "metadata": {},
   "outputs": [],
   "source": [
    "<p>We can do many mathematical operations directly in Pandas.</p>\n"
   ]
  },
  {
   "cell_type": "code",
   "id": "b5eabd1b-0410-466d-b51a-c1468a04972d",
   "metadata": {},
   "outputs": [],
   "source": [
    "df.head()"
   ]
  },
  {
   "cell_type": "code",
   "id": "8a6d0063-5805-4e52-9f53-2d799ddbda7a",
   "metadata": {},
   "outputs": [],
   "source": [
    "# Convert months to years by mathematical operation (Divide months by 12)\ndf['Overall Survival (Years)'] = df[\"Overall Survival (Months)\"]/12\n\ndf = df.drop(columns='Overall Survival (Months)')\n\n# check your transformed data\ndf.head()"
   ]
  },
  {
   "cell_type": "markdown",
   "id": "ce12ab3f-2e8a-446a-a024-182f39eedffe",
   "metadata": {},
   "outputs": [],
   "source": [
    "<div class=\"alert alert-danger alertdanger\" style=\"margin-top: 20px\">\n<h1> Question  #2: </h1>\n\n<b>According to the example above, transform months to years in the column of \"Relapse Free Status (Years)\".</b>\n\n</div>\n"
   ]
  },
  {
   "cell_type": "code",
   "id": "f8e56592-d7dc-438f-bc2c-9eb7ff117d62",
   "metadata": {},
   "outputs": [],
   "source": [
    "# Write your code below and press Shift+Enter to execute \n"
   ]
  },
  {
   "cell_type": "markdown",
   "id": "e967b932-0e04-46fd-a999-470ad97f3e22",
   "metadata": {},
   "outputs": [],
   "source": [
    "<details><summary>Click here for the solution</summary>\n\n```python\n# Convert months to years by mathematical operation (Divide months by 12)\ndf[\"Relapse Free Status (Years)\"] = df[\"Relapse Free Status (Months)\"]/12\n\n# check your transformed data\ndf.head()\n\n```\n\n</details>\n"
   ]
  },
  {
   "cell_type": "markdown",
   "id": "d1f9969f-366f-4dfe-b39a-597d18d07686",
   "metadata": {},
   "outputs": [],
   "source": [
    "<h2 id=\"data_normalization\">Data Normalization</h2>\n\n<b>Why normalization?</b>\n\n<p>Normalization is the process of transforming values of several variables into a similar range. Typical normalizations include scaling the variable so the variable average is 0, scaling the variable so the variance is 1, or scaling the variable so the variable values range from 0 to 1.\n</p>\n\n<b>Example</b>\n\n<p>To demonstrate normalization, let's say we want to scale the column \"Tumor Size\".</p>\n<p><b>Target:</b> would like to normalize this variable so their value ranges from 0 to 1</p>\n"
   ]
  },
  {
   "cell_type": "code",
   "id": "1cd6bce1-40fa-4b00-8e1c-704fdbc14676",
   "metadata": {},
   "outputs": [],
   "source": [
    "# replace (original value) by MinMaxScaler values\n\nscaler = preprocessing.MinMaxScaler()\ndf['Tumor Size']  = scaler.fit_transform(df[['Tumor Size']])\n\n# show the scaled column\ndf[[\"Tumor Size\"]].head()"
   ]
  },
  {
   "cell_type": "markdown",
   "id": "b00ef013-d404-4586-859e-3d5115623a85",
   "metadata": {},
   "outputs": [],
   "source": [
    "<div class=\"alert alert-danger alertdanger\" style=\"margin-top: 20px\">\n<h1> Question #3: </h1>\n\n<b>According to the task above, normalize the data by another method. Replace original value by (original value)/(maximum value)</b>\n\n</div>\n"
   ]
  },
  {
   "cell_type": "code",
   "id": "b5339cb4-6972-4026-91f1-52771c88a998",
   "metadata": {},
   "outputs": [],
   "source": [
    "# Write your code below and press Shift+Enter to execute\n"
   ]
  },
  {
   "cell_type": "markdown",
   "id": "e393371c-0b92-432b-9c2d-d3160935569e",
   "metadata": {},
   "outputs": [],
   "source": [
    "<details><summary>Click here for the solution</summary>\n\n```python\ndf['Tumor Size'] = df['Tumor Size']/df['Tumor Size'].max()\n\n# show the scaled column\ndf[[\"Tumor Size\"]].head()\n\n\n```\n\n</details>\n"
   ]
  },
  {
   "cell_type": "markdown",
   "id": "c25dd29c-97a5-4c5b-a432-db3f86d147f6",
   "metadata": {},
   "outputs": [],
   "source": [
    "Here we can see we've normalized column \"Tumor Size\" in the range of \\[0,1].\n"
   ]
  },
  {
   "cell_type": "markdown",
   "id": "6dba2d25-dee7-49a9-8a07-753da7224323",
   "metadata": {},
   "outputs": [],
   "source": [
    "<h2 id=\"binning\">Binning</h2>\n<b>Why binning?</b>\n<p>\n    Binning is a process of transforming continuous numerical variables into discrete categorical 'bins' for grouped analysis.\n</p>\n\n<b>Example: </b>\n\n<p>In our dataset, \"Nottingham prognostic index\" is a real valued variable ranging from 1 to 7. What if we only care about the difference between patients with high index, medium index, and little index (3 types)? Can we rearrange them into three ‘bins' to simplify analysis? </p>\n\n<p>We will use the pandas method 'cut' to segment the 'Nottingham prognostic index' column into 3 bins.</p>\n"
   ]
  },
  {
   "cell_type": "markdown",
   "id": "d07947f8-025a-45c1-90b2-4bead8cd2a47",
   "metadata": {},
   "outputs": [],
   "source": [
    "<h3>Example of Binning Data In Pandas</h3>\n"
   ]
  },
  {
   "cell_type": "markdown",
   "id": "a4a62fc6-8ae2-4622-b383-bff7919d9fb0",
   "metadata": {},
   "outputs": [],
   "source": [
    "Convert data to correct format:\n"
   ]
  },
  {
   "cell_type": "code",
   "id": "126d3479-cd6c-4d71-813a-3afc216e20d7",
   "metadata": {},
   "outputs": [],
   "source": [
    "df[\"Nottingham prognostic index\"]=df[\"Nottingham prognostic index\"].astype(int, copy=True)"
   ]
  },
  {
   "cell_type": "markdown",
   "id": "e2c21a27-caf3-49db-9489-9d545fc20024",
   "metadata": {},
   "outputs": [],
   "source": [
    "Let's plot the histogram of Nottingham prognostic index to see what the distribution of Nottingham prognostic index looks like.\n\n"
   ]
  },
  {
   "cell_type": "code",
   "id": "b506f4ac-bbb0-4f05-8bbb-9eba46d04a9a",
   "metadata": {},
   "outputs": [],
   "source": [
    "plt.pyplot.hist(df[\"Nottingham prognostic index\"])\n\n# set x/y labels and plot title\nplt.pyplot.xlabel(\"Nottingham prognostic index\")\nplt.pyplot.ylabel(\"count\")\nplt.pyplot.title(\"Nottingham prognostic index bins\")"
   ]
  },
  {
   "cell_type": "markdown",
   "id": "5355f14e-4001-44bc-855f-1db0b5aeaf0b",
   "metadata": {},
   "outputs": [],
   "source": [
    "<p>We would like 3 bins of equal size bandwidth so we use numpy's <code>linspace(start_value, end_value, numbers_generated</code> function.</p>\n<p>Since we want to include the minimum value of Nottingham prognostic index, we want to set start_value = min(df[\"Nottingham prognostic index\"]).</p>\n<p>Since we want to include the maximum value of Nottingham prognostic index, we want to set end_value = max(df[\"Nottingham prognostic index\"]).</p>\n<p>Since we are building 3 bins of equal length, there should be 4 dividers, so numbers_generated = 4.</p>\n"
   ]
  },
  {
   "cell_type": "markdown",
   "id": "a150fb4a-6371-4604-ac16-375170a34298",
   "metadata": {},
   "outputs": [],
   "source": [
    "We build a bin array with a minimum value to a maximum value by using the bandwidth calculated above. The values will determine when one bin ends and another begins.\n"
   ]
  },
  {
   "cell_type": "code",
   "id": "ef7fd844-dbf9-445b-8c80-3a527a4dd05f",
   "metadata": {},
   "outputs": [],
   "source": [
    "bins = np.linspace(min(df[\"Nottingham prognostic index\"]), max(df[\"Nottingham prognostic index\"]), 4)\nbins"
   ]
  },
  {
   "cell_type": "markdown",
   "id": "81e68dc8-c20d-480a-b05d-bbbebb752cda",
   "metadata": {},
   "outputs": [],
   "source": [
    "We set group  names:\n"
   ]
  },
  {
   "cell_type": "code",
   "id": "fb36f0f6-90c7-4ce1-ac5e-014708d85c76",
   "metadata": {},
   "outputs": [],
   "source": [
    "group_names = ['Low', 'Medium', 'High']"
   ]
  },
  {
   "cell_type": "markdown",
   "id": "7d934690-3782-4686-9366-ad06df90b163",
   "metadata": {},
   "outputs": [],
   "source": [
    "We apply the function \"cut\" to determine what each value of `df['Nottingham prognostic index']` belongs to.\n"
   ]
  },
  {
   "cell_type": "code",
   "id": "82506260-c4ae-446a-9bb1-49cc2b639ad5",
   "metadata": {},
   "outputs": [],
   "source": [
    "df['Nottingham prognostic index-binned'] = pd.cut(df['Nottingham prognostic index'], bins, labels=group_names, include_lowest=True )\ndf[['Nottingham prognostic index','Nottingham prognostic index-binned']].head(20)"
   ]
  },
  {
   "cell_type": "markdown",
   "id": "5b29f8bf-9fc0-4bec-80f0-75fe8d235380",
   "metadata": {},
   "outputs": [],
   "source": [
    "Let's see the number of patients in each bin:\n"
   ]
  },
  {
   "cell_type": "code",
   "id": "68a39008-947b-468c-815d-e684bc404a7c",
   "metadata": {},
   "outputs": [],
   "source": [
    "df[\"Nottingham prognostic index-binned\"].value_counts()"
   ]
  },
  {
   "cell_type": "markdown",
   "id": "d4b00c28-f5e4-48ba-b806-b03c07c3da34",
   "metadata": {},
   "outputs": [],
   "source": [
    "Let's plot the distribution of each bin:\n\n"
   ]
  },
  {
   "cell_type": "code",
   "id": "5d6eee13-9aba-44ba-b21b-15d2db3f32fb",
   "metadata": {},
   "outputs": [],
   "source": [
    "pyplot.bar(group_names, df[\"Nottingham prognostic index-binned\"].value_counts())\n\n# set x/y labels and plot title\nplt.pyplot.xlabel(\"Nottingham prognostic index\")\nplt.pyplot.ylabel(\"count\")\nplt.pyplot.title(\"Nottingham prognostic index bins\")"
   ]
  },
  {
   "cell_type": "markdown",
   "id": "2d710ffb-69ad-4b42-97f8-dd2507f74374",
   "metadata": {},
   "outputs": [],
   "source": [
    "<p>\n    Look at the dataframe above carefully. You will find that the last column provides the bins for \"Nottingham prognostic index\" based on 3 categories (\"Low\", \"Medium\" and \"High\").\n</p>\n"
   ]
  },
  {
   "cell_type": "markdown",
   "id": "ad781f1c-84cc-44c5-8d5d-cc7615fe76e5",
   "metadata": {},
   "outputs": [],
   "source": [
    "<h3>Bins Visualization</h3>\nNormally, a histogram is used to visualize the distribution of bins we created above. \n\n\n"
   ]
  },
  {
   "cell_type": "code",
   "id": "d8fd70a8-1808-4bc1-b320-c62a41166fa5",
   "metadata": {},
   "outputs": [],
   "source": [
    "# draw histogram of attribute \"Nottingham prognostic index\" with bins = 3\nplt.pyplot.hist(df[\"Nottingham prognostic index\"], bins = 3)\n\n# set x/y labels and plot title\nplt.pyplot.xlabel(\"Nottingham prognostic index\")\nplt.pyplot.ylabel(\"count\")\nplt.pyplot.title(\"Nottingham prognostic index bins\")"
   ]
  },
  {
   "cell_type": "markdown",
   "id": "7423a66d-1ad5-451d-923e-76cbba510802",
   "metadata": {},
   "outputs": [],
   "source": [
    "The plot above shows the binning result for the attribute \"Nottingham prognostic index\".\n"
   ]
  },
  {
   "cell_type": "markdown",
   "id": "2b1463dc-e9b7-43c8-9d7e-93920790ac1a",
   "metadata": {},
   "outputs": [],
   "source": [
    "<h2 id=\"indicator\">Indicator Variable (or Dummy Variable)</h2>\n<b>What is an indicator variable?</b>\n<p>\n    An indicator variable (or dummy variable) is a numerical variable used to label categories. They are called 'dummies' because the numbers themselves don't have inherent meaning. \n</p>\n\n<b>Why we use indicator variables?</b>\n\n<p>\n    We use indicator variables so we can use categorical variables for regression analysis in the later modules.\n</p>\n<b>Example</b>\n<p>\n    We see the column \"Inferred Menopausal State\" has two unique values: \"Post\" or \"Pre\". Regression doesn't understand words, only numbers. To use this attribute in regression analysis, we convert \"Inferred Menopausal State\" to indicator variables.\n</p>\n\n<p>\n    We will use pandas' method 'get_dummies' to assign numerical values to different categories of fuel type. \n</p>\n"
   ]
  },
  {
   "cell_type": "code",
   "id": "40d2924c-ff7f-43a0-8ab8-0be3c5d18fc8",
   "metadata": {},
   "outputs": [],
   "source": [
    "df.columns"
   ]
  },
  {
   "cell_type": "markdown",
   "id": "3f67f09a-f13a-4322-b2e1-2c37011ff4f9",
   "metadata": {},
   "outputs": [],
   "source": [
    "Get the indicator variables and assign it to data frame \"dummy_variable\\_1\":\n"
   ]
  },
  {
   "cell_type": "code",
   "id": "917dfabd-81f4-412e-bab1-138b896f3156",
   "metadata": {},
   "outputs": [],
   "source": [
    "dummy_variable_1 = pd.get_dummies(df[\"Inferred Menopausal State\"])\ndummy_variable_1.head()"
   ]
  },
  {
   "cell_type": "markdown",
   "id": "8d93aa97-e222-4cc8-825a-83ee7926ff7b",
   "metadata": {},
   "outputs": [],
   "source": [
    "Change the column names for clarity:\n"
   ]
  },
  {
   "cell_type": "code",
   "id": "35db5f80-f26a-44e7-9fef-61e6fe41bcca",
   "metadata": {},
   "outputs": [],
   "source": [
    "dummy_variable_1.rename(columns={'Post':'Inferred Menopausal State-Post',\n                                 'Pre':'Inferred Menopausal State-Pre'}, inplace=True)\ndummy_variable_1.head()"
   ]
  },
  {
   "cell_type": "markdown",
   "id": "f093a25d-ce0c-4916-9fe0-0336f8feb44f",
   "metadata": {},
   "outputs": [],
   "source": [
    "In the dataframe, column 'Inferred Menopausal State' has values for 'Post' and 'Pre' as 0s and 1s now.\n"
   ]
  },
  {
   "cell_type": "code",
   "id": "178580eb-8994-4137-ae48-ab2e58038eed",
   "metadata": {},
   "outputs": [],
   "source": [
    "# merge data frame \"df\" and \"dummy_variable_1\" \ndf = pd.concat([df, dummy_variable_1], axis=1)\n\n# drop original column \"Inferred Menopausal State\" from \"df\"\ndf.drop(\"Inferred Menopausal State\", axis = 1, inplace=True)"
   ]
  },
  {
   "cell_type": "code",
   "id": "0aaf00ac-f268-42a8-8b57-bb97bd0930b9",
   "metadata": {},
   "outputs": [],
   "source": [
    "df.head()"
   ]
  },
  {
   "cell_type": "markdown",
   "id": "7309da53-a4c5-4cc5-b47d-b941b260cbdd",
   "metadata": {},
   "outputs": [],
   "source": [
    "The last two columns are now the indicator variable representation of the Inferred Menopausal State variable. They're all 0s and 1s now.\n"
   ]
  },
  {
   "cell_type": "markdown",
   "id": "e46744bd-05dc-4963-b273-3ac2d5441519",
   "metadata": {},
   "outputs": [],
   "source": [
    "<div class=\"alert alert-danger alertdanger\" style=\"margin-top: 20px\">\n<h1> Question  #4: </h1>\n\n<b>Similar to before, create an indicator variable for the column \"Relapse Free Status\"</b>\n\n</div>\n"
   ]
  },
  {
   "cell_type": "code",
   "id": "c4bf4d33-4846-4d38-9297-07a32a006178",
   "metadata": {},
   "outputs": [],
   "source": [
    "# Write your code below and press Shift+Enter to execute\n"
   ]
  },
  {
   "cell_type": "markdown",
   "id": "36b9ba11-9960-4cca-accd-cfbd5cf0cd93",
   "metadata": {},
   "outputs": [],
   "source": [
    "<details><summary>Click here for the solution</summary>\n\n```python\n# get indicator variables of aspiration and assign it to data frame \"dummy_variable_2\"\ndummy_variable_2 = pd.get_dummies(df['Relapse Free Status'])\n\n# change column names for clarity\ndummy_variable_2.rename(columns={'Recurred':'Relapse Free Status-Recurred', 'Not Recurred': 'Relapse Free Status-Not Recurred'}, inplace=True)\n\n# show first 5 instances of data frame \"dummy_variable_1\"\ndummy_variable_2.head()\n```\n\n</details>\n"
   ]
  },
  {
   "cell_type": "markdown",
   "id": "37d6b28d-0f35-4dcf-b38a-1791df884798",
   "metadata": {},
   "outputs": [],
   "source": [
    " <div class=\"alert alert-danger alertdanger\" style=\"margin-top: 20px\">\n<h1> Question  #5: </h1>\n\n<b>Merge the new dataframe to the original dataframe, then drop the column 'aspiration'.</b>\n\n</div>\n"
   ]
  },
  {
   "cell_type": "code",
   "id": "5cb77b30-a8b0-43e5-b91b-1734985d07d6",
   "metadata": {},
   "outputs": [],
   "source": [
    "# Write your code below and press Shift+Enter to execute \n"
   ]
  },
  {
   "cell_type": "markdown",
   "id": "ada99783-2af9-4176-b2ca-a1f63877a4e7",
   "metadata": {},
   "outputs": [],
   "source": [
    "<details><summary>Click here for the solution</summary>\n\n```python\n# merge the new dataframe to the original datafram\ndf = pd.concat([df, dummy_variable_2], axis=1)\n\n# drop original column \"aspiration\" from \"df\"\ndf.drop('Relapse Free Status', axis = 1, inplace=True)\n```\n\n</details>\n"
   ]
  },
  {
   "cell_type": "code",
   "id": "f5751068-703f-41ec-8600-b5f72d9cfa7d",
   "metadata": {},
   "outputs": [],
   "source": [
    "df.to_csv('breast_cancer_clean')"
   ]
  },
  {
   "cell_type": "markdown",
   "id": "c02d1923-2c7b-46be-94fc-c3819b82ab72",
   "metadata": {},
   "outputs": [],
   "source": [
    "Save the new csv:\n\n> Note : The  csv file cannot be viewed in the jupyterlite based SN labs environment.However you can Click <a href=\"https://cf-courses-data.s3.us.cloud-object-storage.appdomain.cloud/IBMDeveloperSkillsNetwork-DA0101EN-SkillsNetwork/labs/Module%202/DA0101EN-2-Review-Data-Wrangling.ipynb?utm_medium=Exinfluencer&utm_source=Exinfluencer&utm_content=000026UJ&utm_term=10006555&utm_id=NA-SkillsNetwork-Channel-SkillsNetworkCoursesIBMDeveloperSkillsNetworkDA0101ENSkillsNetwork20235326-2022-01-01\">HERE</a> to download the lab notebook (.ipynb) to your local machine and view the csv file once the notebook is executed.\n"
   ]
  },
  {
   "cell_type": "markdown",
   "id": "a3b90a40-451a-4625-9caa-afc8f0ec8657",
   "metadata": {},
   "outputs": [],
   "source": [
    "### Thank you for completing this lab!\n\n## Author\n\n<a href=\"https://author.skills.network/instructors/dmytro_shliakhovskyi\">Dmytro Shliakhovskyi</a>\n\n### Other Contributors\n\n<a href=\"https://author.skills.network/instructors/yaroslav_vyklyuk_2\">Prof. Yaroslav Vyklyuk, DrSc, PhD</a>\n\n<a href=\"https://author.skills.network/instructors/nataliya_boyko\">Ass. Prof. Nataliya Boyko, PhD</a>\n\n\n## Change Log\n\n| Date (YYYY-MM-DD) | Version | Changed By | Change Description                                         |\n| ----------------- | ------- | ---------- | ---------------------------------------------------------- |\n|    2023-03-04     | 01 | Dmytro Shliakhovkyi | Lab created |\n\n\n\n<hr>\n\n## <h3 align=\"center\"> © IBM Corporation 2020. All rights reserved. <h3/>\n"
   ]
  }
 ],
 "metadata": {
  "language_info": {
   "name": ""
  },
  "kernelspec": {
   "name": "",
   "display_name": ""
  }
 },
 "nbformat": 4,
 "nbformat_minor": 4
}
