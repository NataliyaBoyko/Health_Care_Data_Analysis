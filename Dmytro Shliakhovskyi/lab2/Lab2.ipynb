{
 "cells": [
  {
   "cell_type": "markdown",
   "id": "b2345caa-1167-4d7a-b785-eb2bdc681ad4",
   "metadata": {},
   "source": [
    "<center>\n",
    "    <img src=\"https://cf-courses-data.s3.us.cloud-object-storage.appdomain.cloud/assets/logos/SN_web_lightmode.png\" width=\"300\" alt=\"cognitiveclass.ai logo\"  />\n",
    "</center>\n",
    "\n",
    "# **Forecasting of Breast Cancer on medical measurement**\n",
    "# Lab 2. Data Wrangling\n",
    "\n",
    "Estimated time needed: **30** minutes\n",
    "\n",
    "## Objectives\n",
    "\n",
    "After completing this lab you will be able to:\n",
    "\n",
    "*   Handle missing values\n",
    "*   Correct data format\n",
    "*   Standardize and normalize data\n"
   ]
  },
  {
   "cell_type": "markdown",
   "id": "8416abdb-4f0f-40a8-9561-94136f70e71c",
   "metadata": {},
   "source": [
    "<h2>Table of Contents</h2>\n",
    "\n",
    "<div class=\"alert alert-block alert-info\" style=\"margin-top: 20px\">\n",
    "<ul>\n",
    "    <li><a href=\"https://#identify_handle_missing_values\">Identify and handle missing values</a>\n",
    "        <ul>\n",
    "            <li><a href=\"https://#identify_missing_values\">Identify missing values</a></li>\n",
    "            <li><a href=\"https://#deal_missing_values\">Deal with missing values</a></li>\n",
    "            <li><a href=\"https://#correct_data_format\">Correct data format</a></li>\n",
    "        </ul>\n",
    "    </li>\n",
    "    <li><a href=\"https://#data_standardization\">Data standardization</a></li>\n",
    "    <li><a href=\"https://#data_normalization\">Data normalization (centering/scaling)</a></li>\n",
    "    <li><a href=\"https://#binning\">Binning</a></li>\n",
    "    <li><a href=\"https://#indicator\">Indicator variable</a></li>\n",
    "</ul>\n",
    "\n",
    "</div>\n",
    "\n",
    "<hr>\n"
   ]
  },
  {
   "cell_type": "markdown",
   "id": "35a1e1b3-66f3-499a-8725-418f422c333f",
   "metadata": {},
   "source": [
    "<h2>What is the purpose of data wrangling?</h2>\n"
   ]
  },
  {
   "cell_type": "markdown",
   "id": "452de122-074c-46b5-8031-a4f5e1cdc3e5",
   "metadata": {},
   "source": [
    "Data wrangling is the process of converting data from the initial format to a format that may be better for analysis.\n"
   ]
  },
  {
   "cell_type": "markdown",
   "id": "a7f9433e-c5f6-42aa-a884-3e47dc177062",
   "metadata": {},
   "source": [
    "<h3>How to transform months to years?</h3>\n"
   ]
  },
  {
   "cell_type": "markdown",
   "id": "316f7747-b92c-4c69-941e-b32f90520d80",
   "metadata": {},
   "source": [
    "<h3>Import data</h3>\n",
    "<p>\n",
    "You can find the \"Breast Cancer Dataset\" from the following link: <a href=\"https://www.kaggle.com/datasets/gunesevitan/breast-cancer-metabric\">https://www.kaggle.com/datasets/gunesevitan/breast-cancer-metabric</a>.\n",
    "We will be using this dataset throughout this course.\n",
    "</p>\n"
   ]
  },
  {
   "cell_type": "markdown",
   "id": "a1ed22fc-972d-4a11-bc62-acba2331587b",
   "metadata": {},
   "source": [
    "<h4>Import pandas</h4>"
   ]
  },
  {
   "cell_type": "markdown",
   "id": "4bce0c5f-f7e9-43df-937e-ca8cdcbd4234",
   "metadata": {},
   "source": [
    "Now, let's import libraries that we will use"
   ]
  },
  {
   "cell_type": "code",
   "execution_count": 2,
   "id": "3c509cc0-638c-4f79-8850-ba722d551711",
   "metadata": {
    "ExecuteTime": {
     "start_time": "2023-04-11T00:11:16.772679Z",
     "end_time": "2023-04-11T00:11:18.698790Z"
    }
   },
   "outputs": [],
   "source": [
    "# conda install -c anaconda scikit-learn"
   ]
  },
  {
   "cell_type": "code",
   "execution_count": 3,
   "id": "f8a62611-8099-411a-b883-39742e6e6bbc",
   "metadata": {
    "ExecuteTime": {
     "start_time": "2023-04-11T00:11:16.791694Z",
     "end_time": "2023-04-11T00:11:20.947038Z"
    }
   },
   "outputs": [],
   "source": [
    "import pandas as pd\n",
    "import matplotlib.pylab as plt\n",
    "import numpy as np\n",
    "\n",
    "from sklearn.metrics import mean_absolute_percentage_error\n",
    "from sklearn.metrics import confusion_matrix, recall_score\n",
    "from sklearn import preprocessing\n",
    "\n",
    "%matplotlib inline\n",
    "import matplotlib as plt\n",
    "from matplotlib import pyplot"
   ]
  },
  {
   "cell_type": "markdown",
   "id": "68e54ca3-49ba-45b8-aeb9-b5291acc7227",
   "metadata": {},
   "source": [
    "<h2>Reading the dataset from the URL and adding the related headers</h2>\n"
   ]
  },
  {
   "cell_type": "markdown",
   "id": "cd45ea62-396a-4b3b-9fae-9f2393d5530c",
   "metadata": {},
   "source": [
    "First, we assign the URL of the dataset to \"filename\".\n"
   ]
  },
  {
   "cell_type": "code",
   "execution_count": 4,
   "id": "46d1ea62-6087-46c3-aaf4-4d081db7db0f",
   "metadata": {
    "ExecuteTime": {
     "start_time": "2023-04-11T00:11:20.950037Z",
     "end_time": "2023-04-11T00:11:20.961044Z"
    }
   },
   "outputs": [],
   "source": [
    "filename = \"https://cf-courses-data.s3.us.cloud-object-storage.appdomain.cloud/IBMSkillsNetwork-GPXX0XQ4EN/breast_cancer.csv\""
   ]
  },
  {
   "cell_type": "markdown",
   "id": "b5692003-5511-4f87-a553-b44f4aa4f8de",
   "metadata": {},
   "source": [
    "Use the Pandas method <b>read_csv()</b> to load the data from the web address.\n"
   ]
  },
  {
   "cell_type": "code",
   "execution_count": 5,
   "id": "0ebf07e8-8bf9-472a-ade4-209f1e147171",
   "metadata": {
    "ExecuteTime": {
     "start_time": "2023-04-11T00:11:20.965043Z",
     "end_time": "2023-04-11T00:11:23.630490Z"
    }
   },
   "outputs": [],
   "source": [
    "df = pd.read_csv(filename)"
   ]
  },
  {
   "cell_type": "markdown",
   "id": "246ccb21-5835-4b49-a4f0-3bb06861c408",
   "metadata": {},
   "source": [
    "Let's read the data in df2 and drop all the rows that have no data"
   ]
  },
  {
   "cell_type": "code",
   "execution_count": 6,
   "id": "94026161-ac59-4edc-8473-17e3f53339c2",
   "metadata": {
    "ExecuteTime": {
     "start_time": "2023-04-11T00:11:23.644491Z",
     "end_time": "2023-04-11T00:11:23.734511Z"
    }
   },
   "outputs": [
    {
     "data": {
      "text/plain": "  Patient ID  Age at Diagnosis Type of Breast Surgery    Cancer Type  \\\n0    MB-0002             43.19      Breast Conserving  Breast Cancer   \n1    MB-0008             76.97             Mastectomy  Breast Cancer   \n2    MB-0010             78.77             Mastectomy  Breast Cancer   \n3    MB-0028             86.41      Breast Conserving  Breast Cancer   \n4    MB-0035             84.22             Mastectomy  Breast Cancer   \n5    MB-0036             85.49             Mastectomy  Breast Cancer   \n6    MB-0060             45.43      Breast Conserving  Breast Cancer   \n7    MB-0066             61.49      Breast Conserving  Breast Cancer   \n8    MB-0100             68.68             Mastectomy  Breast Cancer   \n9    MB-0101             46.89             Mastectomy  Breast Cancer   \n\n                        Cancer Type Detailed Cellularity Chemotherapy  \\\n0           Breast Invasive Ductal Carcinoma        High           No   \n1  Breast Mixed Ductal and Lobular Carcinoma        High          Yes   \n2           Breast Invasive Ductal Carcinoma    Moderate           No   \n3           Breast Invasive Ductal Carcinoma    Moderate           No   \n4          Breast Invasive Lobular Carcinoma        High           No   \n5           Breast Invasive Ductal Carcinoma    Moderate           No   \n6           Breast Invasive Ductal Carcinoma        High          Yes   \n7           Breast Invasive Ductal Carcinoma        High           No   \n8           Breast Invasive Ductal Carcinoma         Low          Yes   \n9          Breast Invasive Lobular Carcinoma    Moderate           No   \n\n  Pam50 + Claudin-low subtype  Cohort ER status measured by IHC  ...  \\\n0                        LumA     1.0                   Positve  ...   \n1                        LumB     1.0                   Positve  ...   \n2                        LumB     1.0                   Positve  ...   \n3                        LumB     1.0                   Positve  ...   \n4                        Her2     1.0                  Negative  ...   \n5                        LumA     1.0                   Positve  ...   \n6                        LumB     1.0                   Positve  ...   \n7                        LumB     1.0                   Positve  ...   \n8                       Basal     1.0                  Negative  ...   \n9                      Normal     1.0                   Positve  ...   \n\n  Overall Survival Status  PR Status Radio Therapy  \\\n0                  Living   Positive           Yes   \n1                Deceased   Positive           Yes   \n2                Deceased   Positive           Yes   \n3                Deceased   Negative           Yes   \n4                Deceased   Negative            No   \n5                Deceased   Positive           Yes   \n6                  Living   Positive           Yes   \n7                  Living   Positive           Yes   \n8                Deceased   Negative           Yes   \n9                  Living   Positive           Yes   \n\n  Relapse Free Status (Months) Relapse Free Status     Sex  \\\n0                        83.52        Not Recurred  Female   \n1                        18.55            Recurred  Female   \n2                         2.89            Recurred  Female   \n3                        36.09        Not Recurred  Female   \n4                        35.79            Recurred  Female   \n5                       123.32            Recurred  Female   \n6                       139.01        Not Recurred  Female   \n7                       155.36        Not Recurred  Female   \n8                         7.83            Recurred  Female   \n9                        33.72            Recurred  Female   \n\n  3-Gene classifier subtype Tumor Size Tumor Stage  Patient's Vital Status  \n0     ER+/HER2- High Prolif       10.0         1.0                  Living  \n1     ER+/HER2- High Prolif       40.0         2.0         Died of Disease  \n2     ER+/HER2- High Prolif       31.0         4.0         Died of Disease  \n3     ER+/HER2- High Prolif       16.0         2.0    Died of Other Causes  \n4     ER+/HER2- High Prolif       28.0         2.0         Died of Disease  \n5      ER+/HER2- Low Prolif       22.0         4.0         Died of Disease  \n6     ER+/HER2- High Prolif       23.0         2.0                  Living  \n7     ER+/HER2- High Prolif       16.0         2.0                  Living  \n8                 ER-/HER2-       39.0         2.0         Died of Disease  \n9      ER+/HER2- Low Prolif       34.0         2.0                  Living  \n\n[10 rows x 34 columns]",
      "text/html": "<div>\n<style scoped>\n    .dataframe tbody tr th:only-of-type {\n        vertical-align: middle;\n    }\n\n    .dataframe tbody tr th {\n        vertical-align: top;\n    }\n\n    .dataframe thead th {\n        text-align: right;\n    }\n</style>\n<table border=\"1\" class=\"dataframe\">\n  <thead>\n    <tr style=\"text-align: right;\">\n      <th></th>\n      <th>Patient ID</th>\n      <th>Age at Diagnosis</th>\n      <th>Type of Breast Surgery</th>\n      <th>Cancer Type</th>\n      <th>Cancer Type Detailed</th>\n      <th>Cellularity</th>\n      <th>Chemotherapy</th>\n      <th>Pam50 + Claudin-low subtype</th>\n      <th>Cohort</th>\n      <th>ER status measured by IHC</th>\n      <th>...</th>\n      <th>Overall Survival Status</th>\n      <th>PR Status</th>\n      <th>Radio Therapy</th>\n      <th>Relapse Free Status (Months)</th>\n      <th>Relapse Free Status</th>\n      <th>Sex</th>\n      <th>3-Gene classifier subtype</th>\n      <th>Tumor Size</th>\n      <th>Tumor Stage</th>\n      <th>Patient's Vital Status</th>\n    </tr>\n  </thead>\n  <tbody>\n    <tr>\n      <th>0</th>\n      <td>MB-0002</td>\n      <td>43.19</td>\n      <td>Breast Conserving</td>\n      <td>Breast Cancer</td>\n      <td>Breast Invasive Ductal Carcinoma</td>\n      <td>High</td>\n      <td>No</td>\n      <td>LumA</td>\n      <td>1.0</td>\n      <td>Positve</td>\n      <td>...</td>\n      <td>Living</td>\n      <td>Positive</td>\n      <td>Yes</td>\n      <td>83.52</td>\n      <td>Not Recurred</td>\n      <td>Female</td>\n      <td>ER+/HER2- High Prolif</td>\n      <td>10.0</td>\n      <td>1.0</td>\n      <td>Living</td>\n    </tr>\n    <tr>\n      <th>1</th>\n      <td>MB-0008</td>\n      <td>76.97</td>\n      <td>Mastectomy</td>\n      <td>Breast Cancer</td>\n      <td>Breast Mixed Ductal and Lobular Carcinoma</td>\n      <td>High</td>\n      <td>Yes</td>\n      <td>LumB</td>\n      <td>1.0</td>\n      <td>Positve</td>\n      <td>...</td>\n      <td>Deceased</td>\n      <td>Positive</td>\n      <td>Yes</td>\n      <td>18.55</td>\n      <td>Recurred</td>\n      <td>Female</td>\n      <td>ER+/HER2- High Prolif</td>\n      <td>40.0</td>\n      <td>2.0</td>\n      <td>Died of Disease</td>\n    </tr>\n    <tr>\n      <th>2</th>\n      <td>MB-0010</td>\n      <td>78.77</td>\n      <td>Mastectomy</td>\n      <td>Breast Cancer</td>\n      <td>Breast Invasive Ductal Carcinoma</td>\n      <td>Moderate</td>\n      <td>No</td>\n      <td>LumB</td>\n      <td>1.0</td>\n      <td>Positve</td>\n      <td>...</td>\n      <td>Deceased</td>\n      <td>Positive</td>\n      <td>Yes</td>\n      <td>2.89</td>\n      <td>Recurred</td>\n      <td>Female</td>\n      <td>ER+/HER2- High Prolif</td>\n      <td>31.0</td>\n      <td>4.0</td>\n      <td>Died of Disease</td>\n    </tr>\n    <tr>\n      <th>3</th>\n      <td>MB-0028</td>\n      <td>86.41</td>\n      <td>Breast Conserving</td>\n      <td>Breast Cancer</td>\n      <td>Breast Invasive Ductal Carcinoma</td>\n      <td>Moderate</td>\n      <td>No</td>\n      <td>LumB</td>\n      <td>1.0</td>\n      <td>Positve</td>\n      <td>...</td>\n      <td>Deceased</td>\n      <td>Negative</td>\n      <td>Yes</td>\n      <td>36.09</td>\n      <td>Not Recurred</td>\n      <td>Female</td>\n      <td>ER+/HER2- High Prolif</td>\n      <td>16.0</td>\n      <td>2.0</td>\n      <td>Died of Other Causes</td>\n    </tr>\n    <tr>\n      <th>4</th>\n      <td>MB-0035</td>\n      <td>84.22</td>\n      <td>Mastectomy</td>\n      <td>Breast Cancer</td>\n      <td>Breast Invasive Lobular Carcinoma</td>\n      <td>High</td>\n      <td>No</td>\n      <td>Her2</td>\n      <td>1.0</td>\n      <td>Negative</td>\n      <td>...</td>\n      <td>Deceased</td>\n      <td>Negative</td>\n      <td>No</td>\n      <td>35.79</td>\n      <td>Recurred</td>\n      <td>Female</td>\n      <td>ER+/HER2- High Prolif</td>\n      <td>28.0</td>\n      <td>2.0</td>\n      <td>Died of Disease</td>\n    </tr>\n    <tr>\n      <th>5</th>\n      <td>MB-0036</td>\n      <td>85.49</td>\n      <td>Mastectomy</td>\n      <td>Breast Cancer</td>\n      <td>Breast Invasive Ductal Carcinoma</td>\n      <td>Moderate</td>\n      <td>No</td>\n      <td>LumA</td>\n      <td>1.0</td>\n      <td>Positve</td>\n      <td>...</td>\n      <td>Deceased</td>\n      <td>Positive</td>\n      <td>Yes</td>\n      <td>123.32</td>\n      <td>Recurred</td>\n      <td>Female</td>\n      <td>ER+/HER2- Low Prolif</td>\n      <td>22.0</td>\n      <td>4.0</td>\n      <td>Died of Disease</td>\n    </tr>\n    <tr>\n      <th>6</th>\n      <td>MB-0060</td>\n      <td>45.43</td>\n      <td>Breast Conserving</td>\n      <td>Breast Cancer</td>\n      <td>Breast Invasive Ductal Carcinoma</td>\n      <td>High</td>\n      <td>Yes</td>\n      <td>LumB</td>\n      <td>1.0</td>\n      <td>Positve</td>\n      <td>...</td>\n      <td>Living</td>\n      <td>Positive</td>\n      <td>Yes</td>\n      <td>139.01</td>\n      <td>Not Recurred</td>\n      <td>Female</td>\n      <td>ER+/HER2- High Prolif</td>\n      <td>23.0</td>\n      <td>2.0</td>\n      <td>Living</td>\n    </tr>\n    <tr>\n      <th>7</th>\n      <td>MB-0066</td>\n      <td>61.49</td>\n      <td>Breast Conserving</td>\n      <td>Breast Cancer</td>\n      <td>Breast Invasive Ductal Carcinoma</td>\n      <td>High</td>\n      <td>No</td>\n      <td>LumB</td>\n      <td>1.0</td>\n      <td>Positve</td>\n      <td>...</td>\n      <td>Living</td>\n      <td>Positive</td>\n      <td>Yes</td>\n      <td>155.36</td>\n      <td>Not Recurred</td>\n      <td>Female</td>\n      <td>ER+/HER2- High Prolif</td>\n      <td>16.0</td>\n      <td>2.0</td>\n      <td>Living</td>\n    </tr>\n    <tr>\n      <th>8</th>\n      <td>MB-0100</td>\n      <td>68.68</td>\n      <td>Mastectomy</td>\n      <td>Breast Cancer</td>\n      <td>Breast Invasive Ductal Carcinoma</td>\n      <td>Low</td>\n      <td>Yes</td>\n      <td>Basal</td>\n      <td>1.0</td>\n      <td>Negative</td>\n      <td>...</td>\n      <td>Deceased</td>\n      <td>Negative</td>\n      <td>Yes</td>\n      <td>7.83</td>\n      <td>Recurred</td>\n      <td>Female</td>\n      <td>ER-/HER2-</td>\n      <td>39.0</td>\n      <td>2.0</td>\n      <td>Died of Disease</td>\n    </tr>\n    <tr>\n      <th>9</th>\n      <td>MB-0101</td>\n      <td>46.89</td>\n      <td>Mastectomy</td>\n      <td>Breast Cancer</td>\n      <td>Breast Invasive Lobular Carcinoma</td>\n      <td>Moderate</td>\n      <td>No</td>\n      <td>Normal</td>\n      <td>1.0</td>\n      <td>Positve</td>\n      <td>...</td>\n      <td>Living</td>\n      <td>Positive</td>\n      <td>Yes</td>\n      <td>33.72</td>\n      <td>Recurred</td>\n      <td>Female</td>\n      <td>ER+/HER2- Low Prolif</td>\n      <td>34.0</td>\n      <td>2.0</td>\n      <td>Living</td>\n    </tr>\n  </tbody>\n</table>\n<p>10 rows × 34 columns</p>\n</div>"
     },
     "execution_count": 6,
     "metadata": {},
     "output_type": "execute_result"
    }
   ],
   "source": [
    "df2=df.dropna().reset_index(drop=True)\n",
    "df2.head(10)"
   ]
  },
  {
   "cell_type": "markdown",
   "id": "1e27e7e5-9d9e-45ce-aad2-a5ee959be660",
   "metadata": {},
   "source": [
    "Now let's write in the dictionary <b>col</b> the columns in which we will generate empty fields."
   ]
  },
  {
   "cell_type": "code",
   "execution_count": 7,
   "id": "9fdc3280-67d4-453d-9b97-1f327e993806",
   "metadata": {
    "ExecuteTime": {
     "start_time": "2023-04-11T00:11:23.698500Z",
     "end_time": "2023-04-11T00:11:23.736516Z"
    }
   },
   "outputs": [],
   "source": [
    "cols = {'Age at Diagnosis': df2[['Age at Diagnosis']], 'Primary Tumor Laterality': df2[['Primary Tumor Laterality']],\n",
    "        'Nottingham prognostic index': df2[['Nottingham prognostic index']], 'Overall Survival (Months)': df2[['Overall Survival (Months)']], \"Patient's Vital Status\": df2[[\"Patient's Vital Status\"]]}\n",
    "\n",
    "col = {'Age at Diagnosis': 0.07, 'Primary Tumor Laterality': 0.1, 'Nottingham prognostic index': 0.05, 'Overall Survival (Months)': 0.03, \"Patient's Vital Status\": 0.01}\n",
    "for c in col:\n",
    "    m = np.random.rand(len(df2))\n",
    "    mask = m < col[c]\n",
    "    df2.loc[mask, c] = np.NaN\n"
   ]
  },
  {
   "cell_type": "markdown",
   "id": "0c9e34d8-6895-4e53-95b5-e017a588c405",
   "metadata": {},
   "source": [
    "Use the method <b>head()</b> to display the first five rows of the dataframe.\n"
   ]
  },
  {
   "cell_type": "code",
   "execution_count": 8,
   "id": "5ad9dcd2-ac80-46ac-88bd-46cd96ee100f",
   "metadata": {
    "ExecuteTime": {
     "start_time": "2023-04-11T00:11:23.730513Z",
     "end_time": "2023-04-11T00:11:23.933557Z"
    }
   },
   "outputs": [
    {
     "data": {
      "text/plain": "  Patient ID  Age at Diagnosis Type of Breast Surgery    Cancer Type  \\\n0    MB-0002             43.19      Breast Conserving  Breast Cancer   \n1    MB-0008             76.97             Mastectomy  Breast Cancer   \n2    MB-0010             78.77             Mastectomy  Breast Cancer   \n3    MB-0028             86.41      Breast Conserving  Breast Cancer   \n4    MB-0035             84.22             Mastectomy  Breast Cancer   \n\n                        Cancer Type Detailed Cellularity Chemotherapy  \\\n0           Breast Invasive Ductal Carcinoma        High           No   \n1  Breast Mixed Ductal and Lobular Carcinoma        High          Yes   \n2           Breast Invasive Ductal Carcinoma    Moderate           No   \n3           Breast Invasive Ductal Carcinoma    Moderate           No   \n4          Breast Invasive Lobular Carcinoma        High           No   \n\n  Pam50 + Claudin-low subtype  Cohort ER status measured by IHC  ...  \\\n0                        LumA     1.0                   Positve  ...   \n1                        LumB     1.0                   Positve  ...   \n2                        LumB     1.0                   Positve  ...   \n3                        LumB     1.0                   Positve  ...   \n4                        Her2     1.0                  Negative  ...   \n\n  Overall Survival Status  PR Status Radio Therapy  \\\n0                  Living   Positive           Yes   \n1                Deceased   Positive           Yes   \n2                Deceased   Positive           Yes   \n3                Deceased   Negative           Yes   \n4                Deceased   Negative            No   \n\n  Relapse Free Status (Months) Relapse Free Status     Sex  \\\n0                        83.52        Not Recurred  Female   \n1                        18.55            Recurred  Female   \n2                         2.89            Recurred  Female   \n3                        36.09        Not Recurred  Female   \n4                        35.79            Recurred  Female   \n\n  3-Gene classifier subtype Tumor Size Tumor Stage  Patient's Vital Status  \n0     ER+/HER2- High Prolif       10.0         1.0                  Living  \n1     ER+/HER2- High Prolif       40.0         2.0         Died of Disease  \n2     ER+/HER2- High Prolif       31.0         4.0         Died of Disease  \n3     ER+/HER2- High Prolif       16.0         2.0    Died of Other Causes  \n4     ER+/HER2- High Prolif       28.0         2.0         Died of Disease  \n\n[5 rows x 34 columns]",
      "text/html": "<div>\n<style scoped>\n    .dataframe tbody tr th:only-of-type {\n        vertical-align: middle;\n    }\n\n    .dataframe tbody tr th {\n        vertical-align: top;\n    }\n\n    .dataframe thead th {\n        text-align: right;\n    }\n</style>\n<table border=\"1\" class=\"dataframe\">\n  <thead>\n    <tr style=\"text-align: right;\">\n      <th></th>\n      <th>Patient ID</th>\n      <th>Age at Diagnosis</th>\n      <th>Type of Breast Surgery</th>\n      <th>Cancer Type</th>\n      <th>Cancer Type Detailed</th>\n      <th>Cellularity</th>\n      <th>Chemotherapy</th>\n      <th>Pam50 + Claudin-low subtype</th>\n      <th>Cohort</th>\n      <th>ER status measured by IHC</th>\n      <th>...</th>\n      <th>Overall Survival Status</th>\n      <th>PR Status</th>\n      <th>Radio Therapy</th>\n      <th>Relapse Free Status (Months)</th>\n      <th>Relapse Free Status</th>\n      <th>Sex</th>\n      <th>3-Gene classifier subtype</th>\n      <th>Tumor Size</th>\n      <th>Tumor Stage</th>\n      <th>Patient's Vital Status</th>\n    </tr>\n  </thead>\n  <tbody>\n    <tr>\n      <th>0</th>\n      <td>MB-0002</td>\n      <td>43.19</td>\n      <td>Breast Conserving</td>\n      <td>Breast Cancer</td>\n      <td>Breast Invasive Ductal Carcinoma</td>\n      <td>High</td>\n      <td>No</td>\n      <td>LumA</td>\n      <td>1.0</td>\n      <td>Positve</td>\n      <td>...</td>\n      <td>Living</td>\n      <td>Positive</td>\n      <td>Yes</td>\n      <td>83.52</td>\n      <td>Not Recurred</td>\n      <td>Female</td>\n      <td>ER+/HER2- High Prolif</td>\n      <td>10.0</td>\n      <td>1.0</td>\n      <td>Living</td>\n    </tr>\n    <tr>\n      <th>1</th>\n      <td>MB-0008</td>\n      <td>76.97</td>\n      <td>Mastectomy</td>\n      <td>Breast Cancer</td>\n      <td>Breast Mixed Ductal and Lobular Carcinoma</td>\n      <td>High</td>\n      <td>Yes</td>\n      <td>LumB</td>\n      <td>1.0</td>\n      <td>Positve</td>\n      <td>...</td>\n      <td>Deceased</td>\n      <td>Positive</td>\n      <td>Yes</td>\n      <td>18.55</td>\n      <td>Recurred</td>\n      <td>Female</td>\n      <td>ER+/HER2- High Prolif</td>\n      <td>40.0</td>\n      <td>2.0</td>\n      <td>Died of Disease</td>\n    </tr>\n    <tr>\n      <th>2</th>\n      <td>MB-0010</td>\n      <td>78.77</td>\n      <td>Mastectomy</td>\n      <td>Breast Cancer</td>\n      <td>Breast Invasive Ductal Carcinoma</td>\n      <td>Moderate</td>\n      <td>No</td>\n      <td>LumB</td>\n      <td>1.0</td>\n      <td>Positve</td>\n      <td>...</td>\n      <td>Deceased</td>\n      <td>Positive</td>\n      <td>Yes</td>\n      <td>2.89</td>\n      <td>Recurred</td>\n      <td>Female</td>\n      <td>ER+/HER2- High Prolif</td>\n      <td>31.0</td>\n      <td>4.0</td>\n      <td>Died of Disease</td>\n    </tr>\n    <tr>\n      <th>3</th>\n      <td>MB-0028</td>\n      <td>86.41</td>\n      <td>Breast Conserving</td>\n      <td>Breast Cancer</td>\n      <td>Breast Invasive Ductal Carcinoma</td>\n      <td>Moderate</td>\n      <td>No</td>\n      <td>LumB</td>\n      <td>1.0</td>\n      <td>Positve</td>\n      <td>...</td>\n      <td>Deceased</td>\n      <td>Negative</td>\n      <td>Yes</td>\n      <td>36.09</td>\n      <td>Not Recurred</td>\n      <td>Female</td>\n      <td>ER+/HER2- High Prolif</td>\n      <td>16.0</td>\n      <td>2.0</td>\n      <td>Died of Other Causes</td>\n    </tr>\n    <tr>\n      <th>4</th>\n      <td>MB-0035</td>\n      <td>84.22</td>\n      <td>Mastectomy</td>\n      <td>Breast Cancer</td>\n      <td>Breast Invasive Lobular Carcinoma</td>\n      <td>High</td>\n      <td>No</td>\n      <td>Her2</td>\n      <td>1.0</td>\n      <td>Negative</td>\n      <td>...</td>\n      <td>Deceased</td>\n      <td>Negative</td>\n      <td>No</td>\n      <td>35.79</td>\n      <td>Recurred</td>\n      <td>Female</td>\n      <td>ER+/HER2- High Prolif</td>\n      <td>28.0</td>\n      <td>2.0</td>\n      <td>Died of Disease</td>\n    </tr>\n  </tbody>\n</table>\n<p>5 rows × 34 columns</p>\n</div>"
     },
     "execution_count": 8,
     "metadata": {},
     "output_type": "execute_result"
    }
   ],
   "source": [
    "# To see what the data set looks like, we'll use the head() method.\n",
    "df2.head()"
   ]
  },
  {
   "cell_type": "markdown",
   "id": "fe5971bf-655c-47c6-ac9e-43e45d504536",
   "metadata": {},
   "source": [
    "As we can see, several NaN appeared in the dataframe; those are missing values which may hinder our further analysis.\n",
    "\n",
    "<div>So, how do we identify all those missing values and deal with them?</div> \n",
    "\n",
    "<b>How to work with missing data?</b>\n",
    "\n",
    "Steps for working with missing data:\n",
    "\n",
    "<ol>\n",
    "    <li>Identify missing data</li>\n",
    "    <li>Deal with missing data</li>\n",
    "    <li>Correct data format</li>\n",
    "</ol>\n"
   ]
  },
  {
   "cell_type": "markdown",
   "id": "ac659585-65ae-413f-8352-b04c230c76fe",
   "metadata": {},
   "source": [
    "<h2 id=\"identify_handle_missing_values\">Identify and handle missing values</h2>\n",
    "\n",
    "<h3 id=\"identify_missing_values\">Identify missing values</h3>\n"
   ]
  },
  {
   "cell_type": "markdown",
   "id": "4b6ce60f-3af0-4572-b7ec-1695a8d69c25",
   "metadata": {},
   "source": [
    "<h4>Evaluating for Missing Data</h4>\n",
    "\n",
    "The missing values are converted by default. We use the following functions to identify these missing values. There are two methods to detect missing data:\n",
    "\n",
    "<ol>\n",
    "    <li><b>.isnull()</b></li>\n",
    "    <li><b>.notnull()</b></li>\n",
    "</ol>\n",
    "The output is a boolean value indicating whether the value that is passed into the argument is in fact missing data.\n"
   ]
  },
  {
   "cell_type": "code",
   "execution_count": 9,
   "id": "0283fcc8-0c3e-4223-9dbd-b2f2f69bd480",
   "metadata": {
    "ExecuteTime": {
     "start_time": "2023-04-11T00:11:23.761518Z",
     "end_time": "2023-04-11T00:11:24.011585Z"
    }
   },
   "outputs": [
    {
     "data": {
      "text/plain": "   Patient ID  Age at Diagnosis  Type of Breast Surgery  Cancer Type  \\\n0       False             False                   False        False   \n1       False             False                   False        False   \n2       False             False                   False        False   \n3       False             False                   False        False   \n4       False             False                   False        False   \n\n   Cancer Type Detailed  Cellularity  Chemotherapy  \\\n0                 False        False         False   \n1                 False        False         False   \n2                 False        False         False   \n3                 False        False         False   \n4                 False        False         False   \n\n   Pam50 + Claudin-low subtype  Cohort  ER status measured by IHC  ...  \\\n0                        False   False                      False  ...   \n1                        False   False                      False  ...   \n2                        False   False                      False  ...   \n3                        False   False                      False  ...   \n4                        False   False                      False  ...   \n\n   Overall Survival Status  PR Status  Radio Therapy  \\\n0                    False      False          False   \n1                    False      False          False   \n2                    False      False          False   \n3                    False      False          False   \n4                    False      False          False   \n\n   Relapse Free Status (Months)  Relapse Free Status    Sex  \\\n0                         False                False  False   \n1                         False                False  False   \n2                         False                False  False   \n3                         False                False  False   \n4                         False                False  False   \n\n   3-Gene classifier subtype  Tumor Size  Tumor Stage  Patient's Vital Status  \n0                      False       False        False                   False  \n1                      False       False        False                   False  \n2                      False       False        False                   False  \n3                      False       False        False                   False  \n4                      False       False        False                   False  \n\n[5 rows x 34 columns]",
      "text/html": "<div>\n<style scoped>\n    .dataframe tbody tr th:only-of-type {\n        vertical-align: middle;\n    }\n\n    .dataframe tbody tr th {\n        vertical-align: top;\n    }\n\n    .dataframe thead th {\n        text-align: right;\n    }\n</style>\n<table border=\"1\" class=\"dataframe\">\n  <thead>\n    <tr style=\"text-align: right;\">\n      <th></th>\n      <th>Patient ID</th>\n      <th>Age at Diagnosis</th>\n      <th>Type of Breast Surgery</th>\n      <th>Cancer Type</th>\n      <th>Cancer Type Detailed</th>\n      <th>Cellularity</th>\n      <th>Chemotherapy</th>\n      <th>Pam50 + Claudin-low subtype</th>\n      <th>Cohort</th>\n      <th>ER status measured by IHC</th>\n      <th>...</th>\n      <th>Overall Survival Status</th>\n      <th>PR Status</th>\n      <th>Radio Therapy</th>\n      <th>Relapse Free Status (Months)</th>\n      <th>Relapse Free Status</th>\n      <th>Sex</th>\n      <th>3-Gene classifier subtype</th>\n      <th>Tumor Size</th>\n      <th>Tumor Stage</th>\n      <th>Patient's Vital Status</th>\n    </tr>\n  </thead>\n  <tbody>\n    <tr>\n      <th>0</th>\n      <td>False</td>\n      <td>False</td>\n      <td>False</td>\n      <td>False</td>\n      <td>False</td>\n      <td>False</td>\n      <td>False</td>\n      <td>False</td>\n      <td>False</td>\n      <td>False</td>\n      <td>...</td>\n      <td>False</td>\n      <td>False</td>\n      <td>False</td>\n      <td>False</td>\n      <td>False</td>\n      <td>False</td>\n      <td>False</td>\n      <td>False</td>\n      <td>False</td>\n      <td>False</td>\n    </tr>\n    <tr>\n      <th>1</th>\n      <td>False</td>\n      <td>False</td>\n      <td>False</td>\n      <td>False</td>\n      <td>False</td>\n      <td>False</td>\n      <td>False</td>\n      <td>False</td>\n      <td>False</td>\n      <td>False</td>\n      <td>...</td>\n      <td>False</td>\n      <td>False</td>\n      <td>False</td>\n      <td>False</td>\n      <td>False</td>\n      <td>False</td>\n      <td>False</td>\n      <td>False</td>\n      <td>False</td>\n      <td>False</td>\n    </tr>\n    <tr>\n      <th>2</th>\n      <td>False</td>\n      <td>False</td>\n      <td>False</td>\n      <td>False</td>\n      <td>False</td>\n      <td>False</td>\n      <td>False</td>\n      <td>False</td>\n      <td>False</td>\n      <td>False</td>\n      <td>...</td>\n      <td>False</td>\n      <td>False</td>\n      <td>False</td>\n      <td>False</td>\n      <td>False</td>\n      <td>False</td>\n      <td>False</td>\n      <td>False</td>\n      <td>False</td>\n      <td>False</td>\n    </tr>\n    <tr>\n      <th>3</th>\n      <td>False</td>\n      <td>False</td>\n      <td>False</td>\n      <td>False</td>\n      <td>False</td>\n      <td>False</td>\n      <td>False</td>\n      <td>False</td>\n      <td>False</td>\n      <td>False</td>\n      <td>...</td>\n      <td>False</td>\n      <td>False</td>\n      <td>False</td>\n      <td>False</td>\n      <td>False</td>\n      <td>False</td>\n      <td>False</td>\n      <td>False</td>\n      <td>False</td>\n      <td>False</td>\n    </tr>\n    <tr>\n      <th>4</th>\n      <td>False</td>\n      <td>False</td>\n      <td>False</td>\n      <td>False</td>\n      <td>False</td>\n      <td>False</td>\n      <td>False</td>\n      <td>False</td>\n      <td>False</td>\n      <td>False</td>\n      <td>...</td>\n      <td>False</td>\n      <td>False</td>\n      <td>False</td>\n      <td>False</td>\n      <td>False</td>\n      <td>False</td>\n      <td>False</td>\n      <td>False</td>\n      <td>False</td>\n      <td>False</td>\n    </tr>\n  </tbody>\n</table>\n<p>5 rows × 34 columns</p>\n</div>"
     },
     "execution_count": 9,
     "metadata": {},
     "output_type": "execute_result"
    }
   ],
   "source": [
    "missing_data = df2.isnull()\n",
    "missing_data.head(5)"
   ]
  },
  {
   "cell_type": "markdown",
   "id": "37ab1f69-f20b-4d95-b750-e101f7e0650e",
   "metadata": {},
   "source": [
    "\"True\" means the value is a missing value while \"False\" means the value is not a missing value.\n"
   ]
  },
  {
   "cell_type": "markdown",
   "id": "24ddf6c3-028b-4f52-ac5b-f88421774681",
   "metadata": {},
   "source": [
    "<h4>Count missing values in each column</h4>\n",
    "<p>\n",
    "Using a for loop in Python, we can quickly figure out the number of missing values in each column. As mentioned above, \"True\" represents a missing value and \"False\" means the value is present in the dataset.  In the body of the for loop the method \".value_counts()\" counts the number of \"True\" values. \n",
    "</p>\n"
   ]
  },
  {
   "cell_type": "code",
   "execution_count": 10,
   "id": "c24ac4f0-c391-4f10-bebd-ab2695650cc9",
   "metadata": {
    "ExecuteTime": {
     "start_time": "2023-04-11T00:11:23.796524Z",
     "end_time": "2023-04-11T00:11:24.334647Z"
    }
   },
   "outputs": [
    {
     "name": "stdout",
     "output_type": "stream",
     "text": [
      "Patient ID\n",
      "False    1092\n",
      "Name: Patient ID, dtype: int64\n",
      "\n",
      "Age at Diagnosis\n",
      "False    1007\n",
      "True       85\n",
      "Name: Age at Diagnosis, dtype: int64\n",
      "\n",
      "Type of Breast Surgery\n",
      "False    1092\n",
      "Name: Type of Breast Surgery, dtype: int64\n",
      "\n",
      "Cancer Type\n",
      "False    1092\n",
      "Name: Cancer Type, dtype: int64\n",
      "\n",
      "Cancer Type Detailed\n",
      "False    1092\n",
      "Name: Cancer Type Detailed, dtype: int64\n",
      "\n",
      "Cellularity\n",
      "False    1092\n",
      "Name: Cellularity, dtype: int64\n",
      "\n",
      "Chemotherapy\n",
      "False    1092\n",
      "Name: Chemotherapy, dtype: int64\n",
      "\n",
      "Pam50 + Claudin-low subtype\n",
      "False    1092\n",
      "Name: Pam50 + Claudin-low subtype, dtype: int64\n",
      "\n",
      "Cohort\n",
      "False    1092\n",
      "Name: Cohort, dtype: int64\n",
      "\n",
      "ER status measured by IHC\n",
      "False    1092\n",
      "Name: ER status measured by IHC, dtype: int64\n",
      "\n",
      "ER Status\n",
      "False    1092\n",
      "Name: ER Status, dtype: int64\n",
      "\n",
      "Neoplasm Histologic Grade\n",
      "False    1092\n",
      "Name: Neoplasm Histologic Grade, dtype: int64\n",
      "\n",
      "HER2 status measured by SNP6\n",
      "False    1092\n",
      "Name: HER2 status measured by SNP6, dtype: int64\n",
      "\n",
      "HER2 Status\n",
      "False    1092\n",
      "Name: HER2 Status, dtype: int64\n",
      "\n",
      "Tumor Other Histologic Subtype\n",
      "False    1092\n",
      "Name: Tumor Other Histologic Subtype, dtype: int64\n",
      "\n",
      "Hormone Therapy\n",
      "False    1092\n",
      "Name: Hormone Therapy, dtype: int64\n",
      "\n",
      "Inferred Menopausal State\n",
      "False    1092\n",
      "Name: Inferred Menopausal State, dtype: int64\n",
      "\n",
      "Integrative Cluster\n",
      "False    1092\n",
      "Name: Integrative Cluster, dtype: int64\n",
      "\n",
      "Primary Tumor Laterality\n",
      "False    983\n",
      "True     109\n",
      "Name: Primary Tumor Laterality, dtype: int64\n",
      "\n",
      "Lymph nodes examined positive\n",
      "False    1092\n",
      "Name: Lymph nodes examined positive, dtype: int64\n",
      "\n",
      "Mutation Count\n",
      "False    1092\n",
      "Name: Mutation Count, dtype: int64\n",
      "\n",
      "Nottingham prognostic index\n",
      "False    1025\n",
      "True       67\n",
      "Name: Nottingham prognostic index, dtype: int64\n",
      "\n",
      "Oncotree Code\n",
      "False    1092\n",
      "Name: Oncotree Code, dtype: int64\n",
      "\n",
      "Overall Survival (Months)\n",
      "False    1051\n",
      "True       41\n",
      "Name: Overall Survival (Months), dtype: int64\n",
      "\n",
      "Overall Survival Status\n",
      "False    1092\n",
      "Name: Overall Survival Status, dtype: int64\n",
      "\n",
      "PR Status\n",
      "False    1092\n",
      "Name: PR Status, dtype: int64\n",
      "\n",
      "Radio Therapy\n",
      "False    1092\n",
      "Name: Radio Therapy, dtype: int64\n",
      "\n",
      "Relapse Free Status (Months)\n",
      "False    1092\n",
      "Name: Relapse Free Status (Months), dtype: int64\n",
      "\n",
      "Relapse Free Status\n",
      "False    1092\n",
      "Name: Relapse Free Status, dtype: int64\n",
      "\n",
      "Sex\n",
      "False    1092\n",
      "Name: Sex, dtype: int64\n",
      "\n",
      "3-Gene classifier subtype\n",
      "False    1092\n",
      "Name: 3-Gene classifier subtype, dtype: int64\n",
      "\n",
      "Tumor Size\n",
      "False    1092\n",
      "Name: Tumor Size, dtype: int64\n",
      "\n",
      "Tumor Stage\n",
      "False    1092\n",
      "Name: Tumor Stage, dtype: int64\n",
      "\n",
      "Patient's Vital Status\n",
      "False    1079\n",
      "True       13\n",
      "Name: Patient's Vital Status, dtype: int64\n",
      "\n"
     ]
    }
   ],
   "source": [
    "for column in missing_data.columns.values.tolist():\n",
    "    print(column)\n",
    "    print (missing_data[column].value_counts())\n",
    "    print(\"\")"
   ]
  },
  {
   "cell_type": "markdown",
   "id": "268cf5fa-daf2-4e2c-bbcb-698e350c92a4",
   "metadata": {},
   "source": [
    "Based on the summary above, each column contains more than 1000 rows of data and six of the columns containing missing data:\n",
    "\n",
    "<ol>\n",
    "    <li>\"Age at Diagnosis\"</li>\n",
    "    <li>\"Primary Tumor Laterality\"</li>\n",
    "    <li>\"Nottingham prognostic index\"</li>\n",
    "    <li>\"Overall Survival (Months)\"</li>\n",
    "    <li>\"Patient's Vital Status\"</li>\n",
    "</ol>\n"
   ]
  },
  {
   "cell_type": "markdown",
   "id": "b31f2108-da59-4be6-a299-525ce504d639",
   "metadata": {},
   "source": [
    "<h3 id=\"deal_missing_values\">Deal with missing data</h3>\n",
    "<b>How to deal with missing data?</b>\n",
    "\n",
    "<ol>\n",
    "    <li>Drop data<br>\n",
    "        a. Drop the whole row<br>\n",
    "        b. Drop the whole column\n",
    "    </li>\n",
    "    <li>Replace data<br>\n",
    "        a. Replace it by mean<br>\n",
    "        b. Replace it by frequency<br>\n",
    "        c. Replace it based on other functions\n",
    "    </li>\n",
    "</ol>\n"
   ]
  },
  {
   "cell_type": "markdown",
   "id": "67dabe6e-6295-42f4-b438-8b00807a3fb1",
   "metadata": {},
   "source": [
    "Whole columns should be dropped only if most entries in the column are empty. In our dataset, none of the columns are empty enough to drop entirely.\n",
    "We have some freedom in choosing which method to replace data; however, some methods may seem more reasonable than others. We will apply each method to many different columns:\n",
    "\n",
    "<b>Replace by mean:</b>\n",
    "\n",
    "<ul>\n",
    "    <li>\"Age at Diagnosis\": replace them with mean</li>\n",
    "    <li>\"Nottingham prognostic index\": replace them with mean</li>\n",
    "    <li>\"Overall Survival (Months)\": replace them with mean</li>\n",
    "</ul>\n",
    "\n",
    "<b>Replace by frequency:</b>\n",
    "\n",
    "<ul>\n",
    "    <li>\"Primary Tumor Laterality\": replace them with \"Left\".\n",
    "        <ul>\n",
    "            <li>Reason: More than half of the data is \"Left\". Since \"Left\" is the most common, this is the most likely</li>\n",
    "        </ul>\n",
    "    </li>\n",
    "</ul>\n",
    "\n",
    "<b>Drop the whole row:</b>\n",
    "\n",
    "<ul>\n",
    "    <li>\"Patient's Vital Status\": simply delete the whole row\n",
    "    </li>\n",
    "</ul>\n"
   ]
  },
  {
   "cell_type": "markdown",
   "id": "26277399-e3e0-428d-917d-559f70f6e296",
   "metadata": {},
   "source": [
    "<h4>Calculate the mean value for the \"Age at Diagnosis\" column </h4>\n"
   ]
  },
  {
   "cell_type": "code",
   "execution_count": 11,
   "id": "897902d4-eed5-4fe0-9c65-6e84c51c6b1d",
   "metadata": {
    "ExecuteTime": {
     "start_time": "2023-04-11T00:11:23.844536Z",
     "end_time": "2023-04-11T00:11:24.434672Z"
    }
   },
   "outputs": [
    {
     "name": "stdout",
     "output_type": "stream",
     "text": [
      "Age at Diagnosis: 60.24\n"
     ]
    }
   ],
   "source": [
    "avg_age_loss = df2[\"Age at Diagnosis\"].astype(\"float\").mean(axis=0)\n",
    "print(\"Age at Diagnosis:\", round(avg_age_loss, 2))"
   ]
  },
  {
   "cell_type": "markdown",
   "id": "06282729-3daa-42fc-abd2-1bf30e82d104",
   "metadata": {},
   "source": [
    "<h4>Replace \"NaN\" with mean value in \"Age at Diagnosis\" column</h4>\n"
   ]
  },
  {
   "cell_type": "code",
   "execution_count": 12,
   "id": "a72b4f9a-121d-429f-9ca6-0189e3f0d216",
   "metadata": {
    "ExecuteTime": {
     "start_time": "2023-04-11T00:11:23.881542Z",
     "end_time": "2023-04-11T00:11:24.555698Z"
    }
   },
   "outputs": [],
   "source": [
    "df2[\"Age at Diagnosis\"].replace(np.nan, avg_age_loss, inplace=True)"
   ]
  },
  {
   "cell_type": "markdown",
   "id": "5191f06d-3a2b-4eb9-b43f-e37ef100c606",
   "metadata": {},
   "source": [
    "<h4>Let's calculate the error between the replaced data and the original data</h4>"
   ]
  },
  {
   "cell_type": "code",
   "execution_count": 13,
   "id": "c4a241ec-af1c-47bd-9a5c-526b7f8a04c1",
   "metadata": {
    "ExecuteTime": {
     "start_time": "2023-04-11T00:11:23.913556Z",
     "end_time": "2023-04-11T00:11:24.559697Z"
    }
   },
   "outputs": [
    {
     "name": "stdout",
     "output_type": "stream",
     "text": [
      "Error of Age at Diagnosis:  1.0 %\n"
     ]
    }
   ],
   "source": [
    "mape_age = mean_absolute_percentage_error(cols['Age at Diagnosis'], df2['Age at Diagnosis'])\n",
    "print('Error of Age at Diagnosis: ', round(mape_age, 2) * 100, '%')"
   ]
  },
  {
   "cell_type": "markdown",
   "id": "42c5d6fa-4946-490c-9924-e824fcb642c8",
   "metadata": {},
   "source": [
    "<h4>Calculate the mean value for the \"Nottingham prognostic index\" column</h4>\n"
   ]
  },
  {
   "cell_type": "code",
   "execution_count": 14,
   "id": "c2ea2965-4ec8-4fd6-aabb-de3ad8272399",
   "metadata": {
    "ExecuteTime": {
     "start_time": "2023-04-11T00:11:23.938559Z",
     "end_time": "2023-04-11T00:11:24.581705Z"
    }
   },
   "outputs": [
    {
     "name": "stdout",
     "output_type": "stream",
     "text": [
      "Nottingham prognostic index: 4.12\n"
     ]
    }
   ],
   "source": [
    "avg_nottingham=df2['Nottingham prognostic index'].astype('float').mean(axis=0)\n",
    "print(\"Nottingham prognostic index:\", round(avg_nottingham, 2))"
   ]
  },
  {
   "cell_type": "markdown",
   "id": "4b337110-8e86-4b37-a106-bd933c4682d9",
   "metadata": {},
   "source": [
    "<h4>Replace \"NaN\" with the mean value in the \"Nottingham prognostic index\" column</h4>\n"
   ]
  },
  {
   "cell_type": "code",
   "execution_count": 15,
   "id": "3cc2a8b0-e582-45b9-9d97-6fe7dea3f780",
   "metadata": {
    "ExecuteTime": {
     "start_time": "2023-04-11T00:11:23.951561Z",
     "end_time": "2023-04-11T00:11:24.990794Z"
    }
   },
   "outputs": [],
   "source": [
    "df2[\"Nottingham prognostic index\"].replace(np.nan, avg_nottingham, inplace=True)"
   ]
  },
  {
   "cell_type": "markdown",
   "id": "78d7a2ca-b8cb-4e35-b66d-839aa432d9bf",
   "metadata": {},
   "source": [
    "<h4>Let's calculate the error between the replaced data and the original data</h4>"
   ]
  },
  {
   "cell_type": "code",
   "execution_count": 16,
   "id": "92b2c65a-4b0d-47a6-a1cc-89044dcaacd4",
   "metadata": {
    "ExecuteTime": {
     "start_time": "2023-04-11T00:11:23.972576Z",
     "end_time": "2023-04-11T00:11:24.990794Z"
    }
   },
   "outputs": [
    {
     "name": "stdout",
     "output_type": "stream",
     "text": [
      "Error of Nottingham prognostic index:  1.0 %\n"
     ]
    }
   ],
   "source": [
    "mape_nottingham = mean_absolute_percentage_error(cols['Nottingham prognostic index'], df2['Nottingham prognostic index'])\n",
    "print('Error of Nottingham prognostic index: ', round(mape_nottingham, 2) * 100, '%')"
   ]
  },
  {
   "cell_type": "markdown",
   "id": "da775146-df09-482c-b7a2-ddb04dbe6158",
   "metadata": {},
   "source": [
    "<div class=\"alert alert-danger alertdanger\" style=\"margin-top: 20px\">\n",
    "<h1> Question  #1: </h1>\n",
    "\n",
    "<b>Based on the example above, replace NaN in \"Overall Survival (Months)\" column with the mean value and calculate the error.</b>\n",
    "\n",
    "</div>\n"
   ]
  },
  {
   "cell_type": "code",
   "execution_count": 17,
   "id": "613ee8a8-20d4-4795-afdd-c2904b10548d",
   "metadata": {
    "ExecuteTime": {
     "start_time": "2023-04-11T00:11:24.003575Z",
     "end_time": "2023-04-11T00:11:24.991795Z"
    }
   },
   "outputs": [],
   "source": [
    "# Write your code below and press Shift+Enter to execute \n"
   ]
  },
  {
   "cell_type": "markdown",
   "id": "103615e2-e91a-4dc3-85b9-d605383f4b21",
   "metadata": {},
   "source": [
    "<details><summary>Click here for the solution</summary>\n",
    "\n",
    "```python\n",
    "#Calculate the mean value for \"stroke\" column\n",
    "avg_survival = df2['Overall Survival (Months)'].astype('float').mean(axis=0)\n",
    "print(\"Overall Survival (Months):\", avg_survival)\n",
    "\n",
    "# replace NaN by mean value in \"stroke\" column\n",
    "df2['Overall Survival (Months)'].replace(np.nan, avg_survival, inplace=True)\n",
    "\n",
    "#Let's calculate the error between the replaced data and the original data\n",
    "mape_survival = mean_absolute_percentage_error(cols['Overall Survival (Months)'], df2['Overall Survival (Months)'])\n",
    "print('Error of Overall Survival (Months): ', round(mape_survival, 2) * 100, '%')\n",
    "```\n",
    "\n",
    "</details>\n"
   ]
  },
  {
   "cell_type": "markdown",
   "id": "c366d932-3496-486f-86c1-fcea36a26faf",
   "metadata": {},
   "source": [
    "To see which values are present in a particular column, we can use the \".value_counts()\" method:\n"
   ]
  },
  {
   "cell_type": "code",
   "execution_count": 18,
   "id": "f9739df6-3689-4e04-b6f4-f0b2fb683ea3",
   "metadata": {
    "ExecuteTime": {
     "start_time": "2023-04-11T00:11:24.023575Z",
     "end_time": "2023-04-11T00:11:24.991795Z"
    }
   },
   "outputs": [
    {
     "data": {
      "text/plain": "Left     505\nRight    478\nName: Primary Tumor Laterality, dtype: int64"
     },
     "execution_count": 18,
     "metadata": {},
     "output_type": "execute_result"
    }
   ],
   "source": [
    "df2['Primary Tumor Laterality'].value_counts()"
   ]
  },
  {
   "cell_type": "markdown",
   "id": "dd231067-b32f-4f26-9e3f-3b6ab30e13eb",
   "metadata": {},
   "source": [
    "We can see that \"Left\" is the most common type. We can also use the \".idxmax()\" method to calculate the most common type automatically:\n"
   ]
  },
  {
   "cell_type": "code",
   "execution_count": 19,
   "id": "a38263cf-263a-41cb-8f4d-86338c1c8875",
   "metadata": {
    "ExecuteTime": {
     "start_time": "2023-04-11T00:11:24.048586Z",
     "end_time": "2023-04-11T00:11:25.130825Z"
    }
   },
   "outputs": [
    {
     "data": {
      "text/plain": "'Left'"
     },
     "execution_count": 19,
     "metadata": {},
     "output_type": "execute_result"
    }
   ],
   "source": [
    "df2['Primary Tumor Laterality'].value_counts().idxmax()"
   ]
  },
  {
   "cell_type": "markdown",
   "id": "587d2434-fc43-4bf7-a19c-0f3bea00609d",
   "metadata": {},
   "source": [
    "The replacement procedure is very similar to what we have seen previously:\n"
   ]
  },
  {
   "cell_type": "code",
   "execution_count": 20,
   "id": "d46c515c-70ea-4d9a-a951-ba2291890074",
   "metadata": {
    "ExecuteTime": {
     "start_time": "2023-04-11T00:11:24.078588Z",
     "end_time": "2023-04-11T00:11:25.130825Z"
    }
   },
   "outputs": [],
   "source": [
    "#replace the missing 'Primary Tumor Laterality' values by the most frequent\n",
    "df2[\"Primary Tumor Laterality\"].replace(np.nan, \"Left\", inplace=True)"
   ]
  },
  {
   "cell_type": "markdown",
   "id": "6617f452-a555-412f-b303-97e5fa1c4d94",
   "metadata": {},
   "source": [
    "<h4>Let's calculate the error between the replaced data and the original data</h4>"
   ]
  },
  {
   "cell_type": "code",
   "execution_count": 21,
   "id": "78d28b11-cb7a-4a5d-b781-0f076b04616b",
   "metadata": {
    "ExecuteTime": {
     "start_time": "2023-04-11T00:11:24.090597Z",
     "end_time": "2023-04-11T00:11:25.131828Z"
    }
   },
   "outputs": [
    {
     "name": "stdout",
     "output_type": "stream",
     "text": [
      "Error of Primary Tumor Laterality:  5.0 %\n"
     ]
    }
   ],
   "source": [
    "confusion_matrix(cols['Primary Tumor Laterality'], df2[['Primary Tumor Laterality']])\n",
    "\n",
    "mape_primary = recall_score(cols['Primary Tumor Laterality'], df2[['Primary Tumor Laterality']], average='macro')\n",
    "print('Error of Primary Tumor Laterality: ', round(1 - mape_primary, 2) * 100, '%')"
   ]
  },
  {
   "cell_type": "markdown",
   "id": "a33d1936-0bc8-4837-8335-f2754f1fbfa0",
   "metadata": {},
   "source": [
    "Finally, let's drop all rows that do not have Patient's Vital Status data:\n"
   ]
  },
  {
   "cell_type": "code",
   "execution_count": 22,
   "id": "e16e6064-7771-4feb-962d-e11c55a20a5c",
   "metadata": {
    "ExecuteTime": {
     "start_time": "2023-04-11T00:11:24.124599Z",
     "end_time": "2023-04-11T00:11:25.131828Z"
    }
   },
   "outputs": [],
   "source": [
    "# simply drop whole row with NaN in \"Patient's Vital Status\" column\n",
    "df2.dropna(subset=[\"Patient's Vital Status\"], axis=0, inplace=True)\n",
    "\n",
    "# reset index, because we droped two rows\n",
    "df2.reset_index(drop=True, inplace=True)"
   ]
  },
  {
   "cell_type": "code",
   "execution_count": 23,
   "id": "bc663d34-35c3-48fd-8f46-5d27c2632f85",
   "metadata": {
    "ExecuteTime": {
     "start_time": "2023-04-11T00:11:24.140607Z",
     "end_time": "2023-04-11T00:11:25.452903Z"
    }
   },
   "outputs": [
    {
     "data": {
      "text/plain": "  Patient ID  Age at Diagnosis Type of Breast Surgery    Cancer Type  \\\n0    MB-0002             43.19      Breast Conserving  Breast Cancer   \n1    MB-0008             76.97             Mastectomy  Breast Cancer   \n2    MB-0010             78.77             Mastectomy  Breast Cancer   \n3    MB-0028             86.41      Breast Conserving  Breast Cancer   \n4    MB-0035             84.22             Mastectomy  Breast Cancer   \n\n                        Cancer Type Detailed Cellularity Chemotherapy  \\\n0           Breast Invasive Ductal Carcinoma        High           No   \n1  Breast Mixed Ductal and Lobular Carcinoma        High          Yes   \n2           Breast Invasive Ductal Carcinoma    Moderate           No   \n3           Breast Invasive Ductal Carcinoma    Moderate           No   \n4          Breast Invasive Lobular Carcinoma        High           No   \n\n  Pam50 + Claudin-low subtype  Cohort ER status measured by IHC  ...  \\\n0                        LumA     1.0                   Positve  ...   \n1                        LumB     1.0                   Positve  ...   \n2                        LumB     1.0                   Positve  ...   \n3                        LumB     1.0                   Positve  ...   \n4                        Her2     1.0                  Negative  ...   \n\n  Overall Survival Status  PR Status Radio Therapy  \\\n0                  Living   Positive           Yes   \n1                Deceased   Positive           Yes   \n2                Deceased   Positive           Yes   \n3                Deceased   Negative           Yes   \n4                Deceased   Negative            No   \n\n  Relapse Free Status (Months) Relapse Free Status     Sex  \\\n0                        83.52        Not Recurred  Female   \n1                        18.55            Recurred  Female   \n2                         2.89            Recurred  Female   \n3                        36.09        Not Recurred  Female   \n4                        35.79            Recurred  Female   \n\n  3-Gene classifier subtype Tumor Size Tumor Stage  Patient's Vital Status  \n0     ER+/HER2- High Prolif       10.0         1.0                  Living  \n1     ER+/HER2- High Prolif       40.0         2.0         Died of Disease  \n2     ER+/HER2- High Prolif       31.0         4.0         Died of Disease  \n3     ER+/HER2- High Prolif       16.0         2.0    Died of Other Causes  \n4     ER+/HER2- High Prolif       28.0         2.0         Died of Disease  \n\n[5 rows x 34 columns]",
      "text/html": "<div>\n<style scoped>\n    .dataframe tbody tr th:only-of-type {\n        vertical-align: middle;\n    }\n\n    .dataframe tbody tr th {\n        vertical-align: top;\n    }\n\n    .dataframe thead th {\n        text-align: right;\n    }\n</style>\n<table border=\"1\" class=\"dataframe\">\n  <thead>\n    <tr style=\"text-align: right;\">\n      <th></th>\n      <th>Patient ID</th>\n      <th>Age at Diagnosis</th>\n      <th>Type of Breast Surgery</th>\n      <th>Cancer Type</th>\n      <th>Cancer Type Detailed</th>\n      <th>Cellularity</th>\n      <th>Chemotherapy</th>\n      <th>Pam50 + Claudin-low subtype</th>\n      <th>Cohort</th>\n      <th>ER status measured by IHC</th>\n      <th>...</th>\n      <th>Overall Survival Status</th>\n      <th>PR Status</th>\n      <th>Radio Therapy</th>\n      <th>Relapse Free Status (Months)</th>\n      <th>Relapse Free Status</th>\n      <th>Sex</th>\n      <th>3-Gene classifier subtype</th>\n      <th>Tumor Size</th>\n      <th>Tumor Stage</th>\n      <th>Patient's Vital Status</th>\n    </tr>\n  </thead>\n  <tbody>\n    <tr>\n      <th>0</th>\n      <td>MB-0002</td>\n      <td>43.19</td>\n      <td>Breast Conserving</td>\n      <td>Breast Cancer</td>\n      <td>Breast Invasive Ductal Carcinoma</td>\n      <td>High</td>\n      <td>No</td>\n      <td>LumA</td>\n      <td>1.0</td>\n      <td>Positve</td>\n      <td>...</td>\n      <td>Living</td>\n      <td>Positive</td>\n      <td>Yes</td>\n      <td>83.52</td>\n      <td>Not Recurred</td>\n      <td>Female</td>\n      <td>ER+/HER2- High Prolif</td>\n      <td>10.0</td>\n      <td>1.0</td>\n      <td>Living</td>\n    </tr>\n    <tr>\n      <th>1</th>\n      <td>MB-0008</td>\n      <td>76.97</td>\n      <td>Mastectomy</td>\n      <td>Breast Cancer</td>\n      <td>Breast Mixed Ductal and Lobular Carcinoma</td>\n      <td>High</td>\n      <td>Yes</td>\n      <td>LumB</td>\n      <td>1.0</td>\n      <td>Positve</td>\n      <td>...</td>\n      <td>Deceased</td>\n      <td>Positive</td>\n      <td>Yes</td>\n      <td>18.55</td>\n      <td>Recurred</td>\n      <td>Female</td>\n      <td>ER+/HER2- High Prolif</td>\n      <td>40.0</td>\n      <td>2.0</td>\n      <td>Died of Disease</td>\n    </tr>\n    <tr>\n      <th>2</th>\n      <td>MB-0010</td>\n      <td>78.77</td>\n      <td>Mastectomy</td>\n      <td>Breast Cancer</td>\n      <td>Breast Invasive Ductal Carcinoma</td>\n      <td>Moderate</td>\n      <td>No</td>\n      <td>LumB</td>\n      <td>1.0</td>\n      <td>Positve</td>\n      <td>...</td>\n      <td>Deceased</td>\n      <td>Positive</td>\n      <td>Yes</td>\n      <td>2.89</td>\n      <td>Recurred</td>\n      <td>Female</td>\n      <td>ER+/HER2- High Prolif</td>\n      <td>31.0</td>\n      <td>4.0</td>\n      <td>Died of Disease</td>\n    </tr>\n    <tr>\n      <th>3</th>\n      <td>MB-0028</td>\n      <td>86.41</td>\n      <td>Breast Conserving</td>\n      <td>Breast Cancer</td>\n      <td>Breast Invasive Ductal Carcinoma</td>\n      <td>Moderate</td>\n      <td>No</td>\n      <td>LumB</td>\n      <td>1.0</td>\n      <td>Positve</td>\n      <td>...</td>\n      <td>Deceased</td>\n      <td>Negative</td>\n      <td>Yes</td>\n      <td>36.09</td>\n      <td>Not Recurred</td>\n      <td>Female</td>\n      <td>ER+/HER2- High Prolif</td>\n      <td>16.0</td>\n      <td>2.0</td>\n      <td>Died of Other Causes</td>\n    </tr>\n    <tr>\n      <th>4</th>\n      <td>MB-0035</td>\n      <td>84.22</td>\n      <td>Mastectomy</td>\n      <td>Breast Cancer</td>\n      <td>Breast Invasive Lobular Carcinoma</td>\n      <td>High</td>\n      <td>No</td>\n      <td>Her2</td>\n      <td>1.0</td>\n      <td>Negative</td>\n      <td>...</td>\n      <td>Deceased</td>\n      <td>Negative</td>\n      <td>No</td>\n      <td>35.79</td>\n      <td>Recurred</td>\n      <td>Female</td>\n      <td>ER+/HER2- High Prolif</td>\n      <td>28.0</td>\n      <td>2.0</td>\n      <td>Died of Disease</td>\n    </tr>\n  </tbody>\n</table>\n<p>5 rows × 34 columns</p>\n</div>"
     },
     "execution_count": 23,
     "metadata": {},
     "output_type": "execute_result"
    }
   ],
   "source": [
    "df2.head()"
   ]
  },
  {
   "cell_type": "markdown",
   "id": "ab5bd1cb-d418-4482-ad0c-5d4b0462503c",
   "metadata": {},
   "source": [
    "We can notice that the errors we calculated are insignificant which is acceptable. So we can go back to our original <b>df</b> data and replace the empty values.\n",
    "\n",
    "Let's create two arrays in which we will write the names of the columns in which we will replace empty values. Data from the first array will be replaced by the mean. Data from the second array are replaced by the most frequent.\n"
   ]
  },
  {
   "cell_type": "code",
   "execution_count": 24,
   "id": "ba34bdd3-524b-4f18-a2bb-9dfd4d00ad87",
   "metadata": {
    "ExecuteTime": {
     "start_time": "2023-04-11T00:11:24.176611Z",
     "end_time": "2023-04-11T00:11:25.453899Z"
    }
   },
   "outputs": [],
   "source": [
    "col_mean = [\"Age at Diagnosis\", \"Nottingham prognostic index\", \"Overall Survival (Months)\",\n",
    "            \"Relapse Free Status (Months)\", \"Tumor Size\", ]\n",
    "col_freq = [\"Type of Breast Surgery\", \"Cellularity\", \"Chemotherapy\", \"Pam50 + Claudin-low subtype\", \"Cohort\",\n",
    "            \"ER status measured by IHC\", \"ER Status\", \"Neoplasm Histologic Grade\", \"HER2 status measured by SNP6\", \"HER2 Status\", \"Tumor Other Histologic Subtype\", \"Hormone Therapy\", \"Inferred Menopausal State\", \"Integrative Cluster\", \"Primary Tumor Laterality\", \"Lymph nodes examined positive\", \"Mutation Count\", \"Oncotree Code\", \"Overall Survival Status\", \"PR Status\", \"Radio Therapy\", \"Relapse Free Status\", \"3-Gene classifier subtype\", \"Tumor Stage\", \"Patient's Vital Status\"]"
   ]
  },
  {
   "cell_type": "markdown",
   "id": "f4f73fdd-50d7-4bb0-bbc2-00267bb72f95",
   "metadata": {},
   "source": [
    "Calculate the mean values for the <b>col_mean</b> array and replace them."
   ]
  },
  {
   "cell_type": "code",
   "execution_count": 25,
   "id": "4416832c-526a-4d30-9c13-3f5843b1ae7c",
   "metadata": {
    "ExecuteTime": {
     "start_time": "2023-04-11T00:11:24.188615Z",
     "end_time": "2023-04-11T00:11:25.454898Z"
    }
   },
   "outputs": [
    {
     "name": "stdout",
     "output_type": "stream",
     "text": [
      "Age at Diagnosis : 60.42\n",
      "Nottingham prognostic index : 4.03\n",
      "Overall Survival (Months) : 125.24\n",
      "Relapse Free Status (Months) : 108.84\n",
      "Tumor Size : 26.22\n"
     ]
    }
   ],
   "source": [
    "#Calculate the mean values for \"col_mean\" array\n",
    "\n",
    "for c in col_mean:\n",
    "    avg_c = df[c].astype('float').mean(axis=0)\n",
    "    print(c, \":\", round(avg_c, 2))\n",
    "    df[c].replace(np.nan, avg_c, inplace=True)\n"
   ]
  },
  {
   "cell_type": "markdown",
   "id": "68378043-7bbb-454c-80ba-669a966b8ed7",
   "metadata": {},
   "source": [
    "Let's determine the most common that value in the array using the \".idxmax()\" and replace them."
   ]
  },
  {
   "cell_type": "code",
   "execution_count": 26,
   "id": "be93e0fe-7c8a-4ca1-b6f8-7df7b9955ac2",
   "metadata": {
    "ExecuteTime": {
     "start_time": "2023-04-11T00:11:24.224621Z",
     "end_time": "2023-04-11T00:11:25.532921Z"
    }
   },
   "outputs": [
    {
     "data": {
      "text/plain": "  Patient ID  Age at Diagnosis Type of Breast Surgery    Cancer Type  \\\n0    MB-0000             75.65             Mastectomy  Breast Cancer   \n1    MB-0002             43.19      Breast Conserving  Breast Cancer   \n2    MB-0005             48.87             Mastectomy  Breast Cancer   \n3    MB-0006             47.68             Mastectomy  Breast Cancer   \n4    MB-0008             76.97             Mastectomy  Breast Cancer   \n\n                        Cancer Type Detailed Cellularity Chemotherapy  \\\n0           Breast Invasive Ductal Carcinoma        High           No   \n1           Breast Invasive Ductal Carcinoma        High           No   \n2           Breast Invasive Ductal Carcinoma        High          Yes   \n3  Breast Mixed Ductal and Lobular Carcinoma    Moderate          Yes   \n4  Breast Mixed Ductal and Lobular Carcinoma        High          Yes   \n\n  Pam50 + Claudin-low subtype  Cohort ER status measured by IHC  ...  \\\n0                 claudin-low     1.0                   Positve  ...   \n1                        LumA     1.0                   Positve  ...   \n2                        LumB     1.0                   Positve  ...   \n3                        LumB     1.0                   Positve  ...   \n4                        LumB     1.0                   Positve  ...   \n\n  Overall Survival Status  PR Status Radio Therapy  \\\n0                  Living   Negative           Yes   \n1                  Living   Positive           Yes   \n2                Deceased   Positive            No   \n3                  Living   Positive           Yes   \n4                Deceased   Positive           Yes   \n\n  Relapse Free Status (Months) Relapse Free Status     Sex  \\\n0                       138.65        Not Recurred  Female   \n1                        83.52        Not Recurred  Female   \n2                       151.28            Recurred  Female   \n3                       162.76        Not Recurred  Female   \n4                        18.55            Recurred  Female   \n\n  3-Gene classifier subtype Tumor Size Tumor Stage  Patient's Vital Status  \n0                 ER-/HER2-       22.0         2.0                  Living  \n1     ER+/HER2- High Prolif       10.0         1.0                  Living  \n2      ER+/HER2- Low Prolif       15.0         2.0         Died of Disease  \n3      ER+/HER2- Low Prolif       25.0         2.0                  Living  \n4     ER+/HER2- High Prolif       40.0         2.0         Died of Disease  \n\n[5 rows x 34 columns]",
      "text/html": "<div>\n<style scoped>\n    .dataframe tbody tr th:only-of-type {\n        vertical-align: middle;\n    }\n\n    .dataframe tbody tr th {\n        vertical-align: top;\n    }\n\n    .dataframe thead th {\n        text-align: right;\n    }\n</style>\n<table border=\"1\" class=\"dataframe\">\n  <thead>\n    <tr style=\"text-align: right;\">\n      <th></th>\n      <th>Patient ID</th>\n      <th>Age at Diagnosis</th>\n      <th>Type of Breast Surgery</th>\n      <th>Cancer Type</th>\n      <th>Cancer Type Detailed</th>\n      <th>Cellularity</th>\n      <th>Chemotherapy</th>\n      <th>Pam50 + Claudin-low subtype</th>\n      <th>Cohort</th>\n      <th>ER status measured by IHC</th>\n      <th>...</th>\n      <th>Overall Survival Status</th>\n      <th>PR Status</th>\n      <th>Radio Therapy</th>\n      <th>Relapse Free Status (Months)</th>\n      <th>Relapse Free Status</th>\n      <th>Sex</th>\n      <th>3-Gene classifier subtype</th>\n      <th>Tumor Size</th>\n      <th>Tumor Stage</th>\n      <th>Patient's Vital Status</th>\n    </tr>\n  </thead>\n  <tbody>\n    <tr>\n      <th>0</th>\n      <td>MB-0000</td>\n      <td>75.65</td>\n      <td>Mastectomy</td>\n      <td>Breast Cancer</td>\n      <td>Breast Invasive Ductal Carcinoma</td>\n      <td>High</td>\n      <td>No</td>\n      <td>claudin-low</td>\n      <td>1.0</td>\n      <td>Positve</td>\n      <td>...</td>\n      <td>Living</td>\n      <td>Negative</td>\n      <td>Yes</td>\n      <td>138.65</td>\n      <td>Not Recurred</td>\n      <td>Female</td>\n      <td>ER-/HER2-</td>\n      <td>22.0</td>\n      <td>2.0</td>\n      <td>Living</td>\n    </tr>\n    <tr>\n      <th>1</th>\n      <td>MB-0002</td>\n      <td>43.19</td>\n      <td>Breast Conserving</td>\n      <td>Breast Cancer</td>\n      <td>Breast Invasive Ductal Carcinoma</td>\n      <td>High</td>\n      <td>No</td>\n      <td>LumA</td>\n      <td>1.0</td>\n      <td>Positve</td>\n      <td>...</td>\n      <td>Living</td>\n      <td>Positive</td>\n      <td>Yes</td>\n      <td>83.52</td>\n      <td>Not Recurred</td>\n      <td>Female</td>\n      <td>ER+/HER2- High Prolif</td>\n      <td>10.0</td>\n      <td>1.0</td>\n      <td>Living</td>\n    </tr>\n    <tr>\n      <th>2</th>\n      <td>MB-0005</td>\n      <td>48.87</td>\n      <td>Mastectomy</td>\n      <td>Breast Cancer</td>\n      <td>Breast Invasive Ductal Carcinoma</td>\n      <td>High</td>\n      <td>Yes</td>\n      <td>LumB</td>\n      <td>1.0</td>\n      <td>Positve</td>\n      <td>...</td>\n      <td>Deceased</td>\n      <td>Positive</td>\n      <td>No</td>\n      <td>151.28</td>\n      <td>Recurred</td>\n      <td>Female</td>\n      <td>ER+/HER2- Low Prolif</td>\n      <td>15.0</td>\n      <td>2.0</td>\n      <td>Died of Disease</td>\n    </tr>\n    <tr>\n      <th>3</th>\n      <td>MB-0006</td>\n      <td>47.68</td>\n      <td>Mastectomy</td>\n      <td>Breast Cancer</td>\n      <td>Breast Mixed Ductal and Lobular Carcinoma</td>\n      <td>Moderate</td>\n      <td>Yes</td>\n      <td>LumB</td>\n      <td>1.0</td>\n      <td>Positve</td>\n      <td>...</td>\n      <td>Living</td>\n      <td>Positive</td>\n      <td>Yes</td>\n      <td>162.76</td>\n      <td>Not Recurred</td>\n      <td>Female</td>\n      <td>ER+/HER2- Low Prolif</td>\n      <td>25.0</td>\n      <td>2.0</td>\n      <td>Living</td>\n    </tr>\n    <tr>\n      <th>4</th>\n      <td>MB-0008</td>\n      <td>76.97</td>\n      <td>Mastectomy</td>\n      <td>Breast Cancer</td>\n      <td>Breast Mixed Ductal and Lobular Carcinoma</td>\n      <td>High</td>\n      <td>Yes</td>\n      <td>LumB</td>\n      <td>1.0</td>\n      <td>Positve</td>\n      <td>...</td>\n      <td>Deceased</td>\n      <td>Positive</td>\n      <td>Yes</td>\n      <td>18.55</td>\n      <td>Recurred</td>\n      <td>Female</td>\n      <td>ER+/HER2- High Prolif</td>\n      <td>40.0</td>\n      <td>2.0</td>\n      <td>Died of Disease</td>\n    </tr>\n  </tbody>\n</table>\n<p>5 rows × 34 columns</p>\n</div>"
     },
     "execution_count": 26,
     "metadata": {},
     "output_type": "execute_result"
    }
   ],
   "source": [
    "#replace the missing values for \"col_freq\" array by the most frequent\n",
    "\n",
    "for c in col_freq:\n",
    "    max_value = df[c].value_counts().idxmax()\n",
    "    #replace the missing values by the most frequent\n",
    "    df[c].replace(np.nan, max_value, inplace=True)\n",
    "\n",
    "df.head()"
   ]
  },
  {
   "cell_type": "markdown",
   "id": "f8df7058-1ff5-4350-b5b1-a15bc8960895",
   "metadata": {},
   "source": [
    "<b>Good!</b> Now, we have a dataset with no missing values.\n"
   ]
  },
  {
   "cell_type": "markdown",
   "id": "042cc9a4-0154-468a-bfa8-fe2c92a57bb4",
   "metadata": {},
   "source": [
    "<h3 id=\"correct_data_format\">Correct data format</h3>\n",
    "<b>We are almost there!</b>\n",
    "<p>The last step in data cleaning is checking and making sure that all data is in the correct format (int, float, text or other).</p>\n",
    "\n",
    "In Pandas, we use:\n",
    "\n",
    "<p><b>.dtype()</b> to check the data type</p>\n",
    "<p><b>.astype()</b> to change the data type</p>\n"
   ]
  },
  {
   "cell_type": "markdown",
   "id": "558a52cd-4718-45c0-84d3-cb976c90b1a3",
   "metadata": {},
   "source": [
    "<h4>Let's list the data types for each column</h4>\n"
   ]
  },
  {
   "cell_type": "code",
   "execution_count": 27,
   "id": "ada9f478-b396-4dc2-b536-1a87b4c49d80",
   "metadata": {
    "ExecuteTime": {
     "start_time": "2023-04-11T00:11:24.300643Z",
     "end_time": "2023-04-11T00:11:25.534916Z"
    }
   },
   "outputs": [
    {
     "data": {
      "text/plain": "Patient ID                         object\nAge at Diagnosis                  float64\nType of Breast Surgery             object\nCancer Type                        object\nCancer Type Detailed               object\nCellularity                        object\nChemotherapy                       object\nPam50 + Claudin-low subtype        object\nCohort                            float64\nER status measured by IHC          object\nER Status                          object\nNeoplasm Histologic Grade         float64\nHER2 status measured by SNP6       object\nHER2 Status                        object\nTumor Other Histologic Subtype     object\nHormone Therapy                    object\nInferred Menopausal State          object\nIntegrative Cluster                object\nPrimary Tumor Laterality           object\nLymph nodes examined positive     float64\nMutation Count                    float64\nNottingham prognostic index       float64\nOncotree Code                      object\nOverall Survival (Months)         float64\nOverall Survival Status            object\nPR Status                          object\nRadio Therapy                      object\nRelapse Free Status (Months)      float64\nRelapse Free Status                object\nSex                                object\n3-Gene classifier subtype          object\nTumor Size                        float64\nTumor Stage                       float64\nPatient's Vital Status             object\ndtype: object"
     },
     "execution_count": 27,
     "metadata": {},
     "output_type": "execute_result"
    }
   ],
   "source": [
    "df.dtypes"
   ]
  },
  {
   "cell_type": "markdown",
   "id": "7cfcba1f-9faf-49d0-b077-f342cc210de7",
   "metadata": {},
   "source": [
    "<p>As we can see above, some columns are not of the correct data type. Numerical variables should have type 'float' or 'int', and variables with strings such as categories should have type 'object'. For example, 'Cohort' and 'Neoplasm Histologic Grade' they are shown as type 'float', although they must be of type 'int'. We have to convert data types into a proper format for each column using the \"astype()\" method.</p>\n"
   ]
  },
  {
   "cell_type": "markdown",
   "id": "462a16eb-0854-41eb-a9dc-80f3c7e77487",
   "metadata": {},
   "source": [
    "<h4>Convert data types to proper format</h4>\n"
   ]
  },
  {
   "cell_type": "code",
   "execution_count": 28,
   "id": "2bdf11a5-b247-4d0f-82d3-621283eef6ea",
   "metadata": {
    "ExecuteTime": {
     "start_time": "2023-04-11T00:11:24.320656Z",
     "end_time": "2023-04-11T00:11:25.657945Z"
    }
   },
   "outputs": [],
   "source": [
    "col_int = [\"Cohort\", \"Neoplasm Histologic Grade\",\"Lymph nodes examined positive\", \"Mutation Count\", \"Tumor Stage\"]\n",
    "\n",
    "col_cat = list(df.select_dtypes(include=['object']).columns)\n",
    "#exceprt column \"Patient ID\"\n",
    "col_cat = col_cat[1:]\n",
    "\n",
    "col_bool = [\"Chemotherapy\", \"Hormone Therapy\", \"Radio Therapy\"]\n",
    "\n",
    "df[col_int] = df[col_int].astype(\"int\")\n",
    "df[col_cat] = df[col_cat].astype(\"category\")\n",
    "for c in col_bool:\n",
    "    df[c] = df[c].map({'Yes': True, 'No': False})\n",
    "\n",
    "df[col_bool] = df[col_bool].astype(\"bool\")"
   ]
  },
  {
   "cell_type": "markdown",
   "id": "36b62b02-8b53-421c-8ff5-494472a9e5c0",
   "metadata": {},
   "source": [
    "<h4>Let us list the columns after the conversion</h4>\n"
   ]
  },
  {
   "cell_type": "code",
   "execution_count": 29,
   "id": "26e38542-f6de-4940-a04c-247072c37036",
   "metadata": {
    "ExecuteTime": {
     "start_time": "2023-04-11T00:11:24.398670Z",
     "end_time": "2023-04-11T00:11:25.660947Z"
    }
   },
   "outputs": [
    {
     "data": {
      "text/plain": "Patient ID                          object\nAge at Diagnosis                   float64\nType of Breast Surgery            category\nCancer Type                       category\nCancer Type Detailed              category\nCellularity                       category\nChemotherapy                          bool\nPam50 + Claudin-low subtype       category\nCohort                               int32\nER status measured by IHC         category\nER Status                         category\nNeoplasm Histologic Grade            int32\nHER2 status measured by SNP6      category\nHER2 Status                       category\nTumor Other Histologic Subtype    category\nHormone Therapy                       bool\nInferred Menopausal State         category\nIntegrative Cluster               category\nPrimary Tumor Laterality          category\nLymph nodes examined positive        int32\nMutation Count                       int32\nNottingham prognostic index        float64\nOncotree Code                     category\nOverall Survival (Months)          float64\nOverall Survival Status           category\nPR Status                         category\nRadio Therapy                         bool\nRelapse Free Status (Months)       float64\nRelapse Free Status               category\nSex                               category\n3-Gene classifier subtype         category\nTumor Size                         float64\nTumor Stage                          int32\nPatient's Vital Status            category\ndtype: object"
     },
     "execution_count": 29,
     "metadata": {},
     "output_type": "execute_result"
    }
   ],
   "source": [
    "df.dtypes"
   ]
  },
  {
   "cell_type": "markdown",
   "id": "bb1669ed-53c0-4da5-a525-8aa50b9e8968",
   "metadata": {},
   "source": [
    "<b>Wonderful!</b>\n",
    "\n",
    "Now we have finally obtained the cleaned dataset with no missing values with all data in its proper format.\n"
   ]
  },
  {
   "cell_type": "markdown",
   "id": "38afe76b-8e4c-46ef-89da-9a5b197bec91",
   "metadata": {},
   "source": [
    "<h2 id=\"data_standardization\">Data Standardization</h2>\n",
    "<p>\n",
    "Data is usually collected from different agencies in different formats.\n",
    "(Data standardization is also a term for a particular type of data normalization where we subtract the mean and divide by the standard deviation.)\n",
    "</p>\n",
    "\n",
    "<b>What is standardization?</b>\n",
    "\n",
    "<p>Standardization is the process of transforming data into a common format, allowing the researcher to make the meaningful comparison.\n",
    "</p>\n",
    "\n",
    "<b>Example</b>\n",
    "\n",
    "<p>Transform months to years:</p>\n",
    "<p>In our dataset, there are two columns in which the values are presented in months.</p>\n",
    "<p>We will need to apply <b>data transformation</b> to transform months to years.</p>\n"
   ]
  },
  {
   "cell_type": "markdown",
   "id": "17738c4d-4786-4328-aa46-d2fa03fa954c",
   "metadata": {},
   "source": [
    "<p>We can do many mathematical operations directly in Pandas.</p>\n"
   ]
  },
  {
   "cell_type": "code",
   "execution_count": 30,
   "id": "b5eabd1b-0410-466d-b51a-c1468a04972d",
   "metadata": {
    "ExecuteTime": {
     "start_time": "2023-04-11T00:11:24.431666Z",
     "end_time": "2023-04-11T00:11:25.675949Z"
    }
   },
   "outputs": [
    {
     "data": {
      "text/plain": "  Patient ID  Age at Diagnosis Type of Breast Surgery    Cancer Type  \\\n0    MB-0000             75.65             Mastectomy  Breast Cancer   \n1    MB-0002             43.19      Breast Conserving  Breast Cancer   \n2    MB-0005             48.87             Mastectomy  Breast Cancer   \n3    MB-0006             47.68             Mastectomy  Breast Cancer   \n4    MB-0008             76.97             Mastectomy  Breast Cancer   \n\n                        Cancer Type Detailed Cellularity  Chemotherapy  \\\n0           Breast Invasive Ductal Carcinoma        High         False   \n1           Breast Invasive Ductal Carcinoma        High         False   \n2           Breast Invasive Ductal Carcinoma        High          True   \n3  Breast Mixed Ductal and Lobular Carcinoma    Moderate          True   \n4  Breast Mixed Ductal and Lobular Carcinoma        High          True   \n\n  Pam50 + Claudin-low subtype  Cohort ER status measured by IHC  ...  \\\n0                 claudin-low       1                   Positve  ...   \n1                        LumA       1                   Positve  ...   \n2                        LumB       1                   Positve  ...   \n3                        LumB       1                   Positve  ...   \n4                        LumB       1                   Positve  ...   \n\n  Overall Survival Status  PR Status Radio Therapy  \\\n0                  Living   Negative          True   \n1                  Living   Positive          True   \n2                Deceased   Positive         False   \n3                  Living   Positive          True   \n4                Deceased   Positive          True   \n\n  Relapse Free Status (Months) Relapse Free Status     Sex  \\\n0                       138.65        Not Recurred  Female   \n1                        83.52        Not Recurred  Female   \n2                       151.28            Recurred  Female   \n3                       162.76        Not Recurred  Female   \n4                        18.55            Recurred  Female   \n\n  3-Gene classifier subtype Tumor Size Tumor Stage  Patient's Vital Status  \n0                 ER-/HER2-       22.0           2                  Living  \n1     ER+/HER2- High Prolif       10.0           1                  Living  \n2      ER+/HER2- Low Prolif       15.0           2         Died of Disease  \n3      ER+/HER2- Low Prolif       25.0           2                  Living  \n4     ER+/HER2- High Prolif       40.0           2         Died of Disease  \n\n[5 rows x 34 columns]",
      "text/html": "<div>\n<style scoped>\n    .dataframe tbody tr th:only-of-type {\n        vertical-align: middle;\n    }\n\n    .dataframe tbody tr th {\n        vertical-align: top;\n    }\n\n    .dataframe thead th {\n        text-align: right;\n    }\n</style>\n<table border=\"1\" class=\"dataframe\">\n  <thead>\n    <tr style=\"text-align: right;\">\n      <th></th>\n      <th>Patient ID</th>\n      <th>Age at Diagnosis</th>\n      <th>Type of Breast Surgery</th>\n      <th>Cancer Type</th>\n      <th>Cancer Type Detailed</th>\n      <th>Cellularity</th>\n      <th>Chemotherapy</th>\n      <th>Pam50 + Claudin-low subtype</th>\n      <th>Cohort</th>\n      <th>ER status measured by IHC</th>\n      <th>...</th>\n      <th>Overall Survival Status</th>\n      <th>PR Status</th>\n      <th>Radio Therapy</th>\n      <th>Relapse Free Status (Months)</th>\n      <th>Relapse Free Status</th>\n      <th>Sex</th>\n      <th>3-Gene classifier subtype</th>\n      <th>Tumor Size</th>\n      <th>Tumor Stage</th>\n      <th>Patient's Vital Status</th>\n    </tr>\n  </thead>\n  <tbody>\n    <tr>\n      <th>0</th>\n      <td>MB-0000</td>\n      <td>75.65</td>\n      <td>Mastectomy</td>\n      <td>Breast Cancer</td>\n      <td>Breast Invasive Ductal Carcinoma</td>\n      <td>High</td>\n      <td>False</td>\n      <td>claudin-low</td>\n      <td>1</td>\n      <td>Positve</td>\n      <td>...</td>\n      <td>Living</td>\n      <td>Negative</td>\n      <td>True</td>\n      <td>138.65</td>\n      <td>Not Recurred</td>\n      <td>Female</td>\n      <td>ER-/HER2-</td>\n      <td>22.0</td>\n      <td>2</td>\n      <td>Living</td>\n    </tr>\n    <tr>\n      <th>1</th>\n      <td>MB-0002</td>\n      <td>43.19</td>\n      <td>Breast Conserving</td>\n      <td>Breast Cancer</td>\n      <td>Breast Invasive Ductal Carcinoma</td>\n      <td>High</td>\n      <td>False</td>\n      <td>LumA</td>\n      <td>1</td>\n      <td>Positve</td>\n      <td>...</td>\n      <td>Living</td>\n      <td>Positive</td>\n      <td>True</td>\n      <td>83.52</td>\n      <td>Not Recurred</td>\n      <td>Female</td>\n      <td>ER+/HER2- High Prolif</td>\n      <td>10.0</td>\n      <td>1</td>\n      <td>Living</td>\n    </tr>\n    <tr>\n      <th>2</th>\n      <td>MB-0005</td>\n      <td>48.87</td>\n      <td>Mastectomy</td>\n      <td>Breast Cancer</td>\n      <td>Breast Invasive Ductal Carcinoma</td>\n      <td>High</td>\n      <td>True</td>\n      <td>LumB</td>\n      <td>1</td>\n      <td>Positve</td>\n      <td>...</td>\n      <td>Deceased</td>\n      <td>Positive</td>\n      <td>False</td>\n      <td>151.28</td>\n      <td>Recurred</td>\n      <td>Female</td>\n      <td>ER+/HER2- Low Prolif</td>\n      <td>15.0</td>\n      <td>2</td>\n      <td>Died of Disease</td>\n    </tr>\n    <tr>\n      <th>3</th>\n      <td>MB-0006</td>\n      <td>47.68</td>\n      <td>Mastectomy</td>\n      <td>Breast Cancer</td>\n      <td>Breast Mixed Ductal and Lobular Carcinoma</td>\n      <td>Moderate</td>\n      <td>True</td>\n      <td>LumB</td>\n      <td>1</td>\n      <td>Positve</td>\n      <td>...</td>\n      <td>Living</td>\n      <td>Positive</td>\n      <td>True</td>\n      <td>162.76</td>\n      <td>Not Recurred</td>\n      <td>Female</td>\n      <td>ER+/HER2- Low Prolif</td>\n      <td>25.0</td>\n      <td>2</td>\n      <td>Living</td>\n    </tr>\n    <tr>\n      <th>4</th>\n      <td>MB-0008</td>\n      <td>76.97</td>\n      <td>Mastectomy</td>\n      <td>Breast Cancer</td>\n      <td>Breast Mixed Ductal and Lobular Carcinoma</td>\n      <td>High</td>\n      <td>True</td>\n      <td>LumB</td>\n      <td>1</td>\n      <td>Positve</td>\n      <td>...</td>\n      <td>Deceased</td>\n      <td>Positive</td>\n      <td>True</td>\n      <td>18.55</td>\n      <td>Recurred</td>\n      <td>Female</td>\n      <td>ER+/HER2- High Prolif</td>\n      <td>40.0</td>\n      <td>2</td>\n      <td>Died of Disease</td>\n    </tr>\n  </tbody>\n</table>\n<p>5 rows × 34 columns</p>\n</div>"
     },
     "execution_count": 30,
     "metadata": {},
     "output_type": "execute_result"
    }
   ],
   "source": [
    "df.head()"
   ]
  },
  {
   "cell_type": "code",
   "execution_count": 31,
   "id": "8a6d0063-5805-4e52-9f53-2d799ddbda7a",
   "metadata": {
    "ExecuteTime": {
     "start_time": "2023-04-11T00:11:24.475679Z",
     "end_time": "2023-04-11T00:11:25.681960Z"
    }
   },
   "outputs": [
    {
     "data": {
      "text/plain": "  Patient ID  Age at Diagnosis Type of Breast Surgery    Cancer Type  \\\n0    MB-0000             75.65             Mastectomy  Breast Cancer   \n1    MB-0002             43.19      Breast Conserving  Breast Cancer   \n2    MB-0005             48.87             Mastectomy  Breast Cancer   \n3    MB-0006             47.68             Mastectomy  Breast Cancer   \n4    MB-0008             76.97             Mastectomy  Breast Cancer   \n\n                        Cancer Type Detailed Cellularity  Chemotherapy  \\\n0           Breast Invasive Ductal Carcinoma        High         False   \n1           Breast Invasive Ductal Carcinoma        High         False   \n2           Breast Invasive Ductal Carcinoma        High          True   \n3  Breast Mixed Ductal and Lobular Carcinoma    Moderate          True   \n4  Breast Mixed Ductal and Lobular Carcinoma        High          True   \n\n  Pam50 + Claudin-low subtype  Cohort ER status measured by IHC  ...  \\\n0                 claudin-low       1                   Positve  ...   \n1                        LumA       1                   Positve  ...   \n2                        LumB       1                   Positve  ...   \n3                        LumB       1                   Positve  ...   \n4                        LumB       1                   Positve  ...   \n\n  PR Status  Radio Therapy Relapse Free Status (Months) Relapse Free Status  \\\n0  Negative           True                       138.65        Not Recurred   \n1  Positive           True                        83.52        Not Recurred   \n2  Positive          False                       151.28            Recurred   \n3  Positive           True                       162.76        Not Recurred   \n4  Positive           True                        18.55            Recurred   \n\n      Sex  3-Gene classifier subtype Tumor Size Tumor Stage  \\\n0  Female                  ER-/HER2-       22.0           2   \n1  Female      ER+/HER2- High Prolif       10.0           1   \n2  Female       ER+/HER2- Low Prolif       15.0           2   \n3  Female       ER+/HER2- Low Prolif       25.0           2   \n4  Female      ER+/HER2- High Prolif       40.0           2   \n\n  Patient's Vital Status  Overall Survival (Years)  \n0                 Living                 11.708333  \n1                 Living                  7.052778  \n2        Died of Disease                 13.641667  \n3                 Living                 13.744444  \n4        Died of Disease                  3.447222  \n\n[5 rows x 34 columns]",
      "text/html": "<div>\n<style scoped>\n    .dataframe tbody tr th:only-of-type {\n        vertical-align: middle;\n    }\n\n    .dataframe tbody tr th {\n        vertical-align: top;\n    }\n\n    .dataframe thead th {\n        text-align: right;\n    }\n</style>\n<table border=\"1\" class=\"dataframe\">\n  <thead>\n    <tr style=\"text-align: right;\">\n      <th></th>\n      <th>Patient ID</th>\n      <th>Age at Diagnosis</th>\n      <th>Type of Breast Surgery</th>\n      <th>Cancer Type</th>\n      <th>Cancer Type Detailed</th>\n      <th>Cellularity</th>\n      <th>Chemotherapy</th>\n      <th>Pam50 + Claudin-low subtype</th>\n      <th>Cohort</th>\n      <th>ER status measured by IHC</th>\n      <th>...</th>\n      <th>PR Status</th>\n      <th>Radio Therapy</th>\n      <th>Relapse Free Status (Months)</th>\n      <th>Relapse Free Status</th>\n      <th>Sex</th>\n      <th>3-Gene classifier subtype</th>\n      <th>Tumor Size</th>\n      <th>Tumor Stage</th>\n      <th>Patient's Vital Status</th>\n      <th>Overall Survival (Years)</th>\n    </tr>\n  </thead>\n  <tbody>\n    <tr>\n      <th>0</th>\n      <td>MB-0000</td>\n      <td>75.65</td>\n      <td>Mastectomy</td>\n      <td>Breast Cancer</td>\n      <td>Breast Invasive Ductal Carcinoma</td>\n      <td>High</td>\n      <td>False</td>\n      <td>claudin-low</td>\n      <td>1</td>\n      <td>Positve</td>\n      <td>...</td>\n      <td>Negative</td>\n      <td>True</td>\n      <td>138.65</td>\n      <td>Not Recurred</td>\n      <td>Female</td>\n      <td>ER-/HER2-</td>\n      <td>22.0</td>\n      <td>2</td>\n      <td>Living</td>\n      <td>11.708333</td>\n    </tr>\n    <tr>\n      <th>1</th>\n      <td>MB-0002</td>\n      <td>43.19</td>\n      <td>Breast Conserving</td>\n      <td>Breast Cancer</td>\n      <td>Breast Invasive Ductal Carcinoma</td>\n      <td>High</td>\n      <td>False</td>\n      <td>LumA</td>\n      <td>1</td>\n      <td>Positve</td>\n      <td>...</td>\n      <td>Positive</td>\n      <td>True</td>\n      <td>83.52</td>\n      <td>Not Recurred</td>\n      <td>Female</td>\n      <td>ER+/HER2- High Prolif</td>\n      <td>10.0</td>\n      <td>1</td>\n      <td>Living</td>\n      <td>7.052778</td>\n    </tr>\n    <tr>\n      <th>2</th>\n      <td>MB-0005</td>\n      <td>48.87</td>\n      <td>Mastectomy</td>\n      <td>Breast Cancer</td>\n      <td>Breast Invasive Ductal Carcinoma</td>\n      <td>High</td>\n      <td>True</td>\n      <td>LumB</td>\n      <td>1</td>\n      <td>Positve</td>\n      <td>...</td>\n      <td>Positive</td>\n      <td>False</td>\n      <td>151.28</td>\n      <td>Recurred</td>\n      <td>Female</td>\n      <td>ER+/HER2- Low Prolif</td>\n      <td>15.0</td>\n      <td>2</td>\n      <td>Died of Disease</td>\n      <td>13.641667</td>\n    </tr>\n    <tr>\n      <th>3</th>\n      <td>MB-0006</td>\n      <td>47.68</td>\n      <td>Mastectomy</td>\n      <td>Breast Cancer</td>\n      <td>Breast Mixed Ductal and Lobular Carcinoma</td>\n      <td>Moderate</td>\n      <td>True</td>\n      <td>LumB</td>\n      <td>1</td>\n      <td>Positve</td>\n      <td>...</td>\n      <td>Positive</td>\n      <td>True</td>\n      <td>162.76</td>\n      <td>Not Recurred</td>\n      <td>Female</td>\n      <td>ER+/HER2- Low Prolif</td>\n      <td>25.0</td>\n      <td>2</td>\n      <td>Living</td>\n      <td>13.744444</td>\n    </tr>\n    <tr>\n      <th>4</th>\n      <td>MB-0008</td>\n      <td>76.97</td>\n      <td>Mastectomy</td>\n      <td>Breast Cancer</td>\n      <td>Breast Mixed Ductal and Lobular Carcinoma</td>\n      <td>High</td>\n      <td>True</td>\n      <td>LumB</td>\n      <td>1</td>\n      <td>Positve</td>\n      <td>...</td>\n      <td>Positive</td>\n      <td>True</td>\n      <td>18.55</td>\n      <td>Recurred</td>\n      <td>Female</td>\n      <td>ER+/HER2- High Prolif</td>\n      <td>40.0</td>\n      <td>2</td>\n      <td>Died of Disease</td>\n      <td>3.447222</td>\n    </tr>\n  </tbody>\n</table>\n<p>5 rows × 34 columns</p>\n</div>"
     },
     "execution_count": 31,
     "metadata": {},
     "output_type": "execute_result"
    }
   ],
   "source": [
    "# Convert months to years by mathematical operation (Divide months by 12)\n",
    "df['Overall Survival (Years)'] = df[\"Overall Survival (Months)\"]/12\n",
    "\n",
    "df = df.drop(columns='Overall Survival (Months)')\n",
    "\n",
    "# check your transformed data\n",
    "df.head()"
   ]
  },
  {
   "cell_type": "markdown",
   "id": "ce12ab3f-2e8a-446a-a024-182f39eedffe",
   "metadata": {},
   "source": [
    "<div class=\"alert alert-danger alertdanger\" style=\"margin-top: 20px\">\n",
    "<h1> Question  #2: </h1>\n",
    "\n",
    "<b>According to the example above, transform months to years in the column of \"Relapse Free Status (Years)\".</b>\n",
    "\n",
    "</div>\n"
   ]
  },
  {
   "cell_type": "code",
   "execution_count": 32,
   "id": "f8e56592-d7dc-438f-bc2c-9eb7ff117d62",
   "metadata": {
    "ExecuteTime": {
     "start_time": "2023-04-11T00:11:24.520692Z",
     "end_time": "2023-04-11T00:11:25.683950Z"
    }
   },
   "outputs": [],
   "source": [
    "# Write your code below and press Shift+Enter to execute \n"
   ]
  },
  {
   "cell_type": "markdown",
   "id": "e967b932-0e04-46fd-a999-470ad97f3e22",
   "metadata": {},
   "source": [
    "<details><summary>Click here for the solution</summary>\n",
    "\n",
    "```python\n",
    "# Convert months to years by mathematical operation (Divide months by 12)\n",
    "df[\"Relapse Free Status (Years)\"] = df[\"Relapse Free Status (Months)\"]/12\n",
    "\n",
    "# check your transformed data\n",
    "df.head()\n",
    "\n",
    "```\n",
    "\n",
    "</details>\n"
   ]
  },
  {
   "cell_type": "markdown",
   "id": "d1f9969f-366f-4dfe-b39a-597d18d07686",
   "metadata": {},
   "source": [
    "<h2 id=\"data_normalization\">Data Normalization</h2>\n",
    "\n",
    "<b>Why normalization?</b>\n",
    "\n",
    "<p>Normalization is the process of transforming values of several variables into a similar range. Typical normalizations include scaling the variable so the variable average is 0, scaling the variable so the variance is 1, or scaling the variable so the variable values range from 0 to 1.\n",
    "</p>\n",
    "\n",
    "<b>Example</b>\n",
    "\n",
    "<p>To demonstrate normalization, let's say we want to scale the column \"Tumor Size\".</p>\n",
    "<p><b>Target:</b> would like to normalize this variable so their value ranges from 0 to 1</p>\n"
   ]
  },
  {
   "cell_type": "code",
   "execution_count": 33,
   "id": "1cd6bce1-40fa-4b00-8e1c-704fdbc14676",
   "metadata": {
    "ExecuteTime": {
     "start_time": "2023-04-11T00:11:24.541692Z",
     "end_time": "2023-04-11T00:11:25.685949Z"
    }
   },
   "outputs": [
    {
     "data": {
      "text/plain": "   Tumor Size\n0    0.116022\n1    0.049724\n2    0.077348\n3    0.132597\n4    0.215470",
      "text/html": "<div>\n<style scoped>\n    .dataframe tbody tr th:only-of-type {\n        vertical-align: middle;\n    }\n\n    .dataframe tbody tr th {\n        vertical-align: top;\n    }\n\n    .dataframe thead th {\n        text-align: right;\n    }\n</style>\n<table border=\"1\" class=\"dataframe\">\n  <thead>\n    <tr style=\"text-align: right;\">\n      <th></th>\n      <th>Tumor Size</th>\n    </tr>\n  </thead>\n  <tbody>\n    <tr>\n      <th>0</th>\n      <td>0.116022</td>\n    </tr>\n    <tr>\n      <th>1</th>\n      <td>0.049724</td>\n    </tr>\n    <tr>\n      <th>2</th>\n      <td>0.077348</td>\n    </tr>\n    <tr>\n      <th>3</th>\n      <td>0.132597</td>\n    </tr>\n    <tr>\n      <th>4</th>\n      <td>0.215470</td>\n    </tr>\n  </tbody>\n</table>\n</div>"
     },
     "execution_count": 33,
     "metadata": {},
     "output_type": "execute_result"
    }
   ],
   "source": [
    "# replace (original value) by MinMaxScaler values\n",
    "\n",
    "scaler = preprocessing.MinMaxScaler()\n",
    "df['Tumor Size']  = scaler.fit_transform(df[['Tumor Size']])\n",
    "\n",
    "# show the scaled column\n",
    "df[[\"Tumor Size\"]].head()"
   ]
  },
  {
   "cell_type": "markdown",
   "id": "b00ef013-d404-4586-859e-3d5115623a85",
   "metadata": {},
   "source": [
    "<div class=\"alert alert-danger alertdanger\" style=\"margin-top: 20px\">\n",
    "<h1> Question #3: </h1>\n",
    "\n",
    "<b>According to the task above, normalize the data by another method. Replace original value by (original value)/(maximum value)</b>\n",
    "\n",
    "</div>\n"
   ]
  },
  {
   "cell_type": "code",
   "execution_count": 34,
   "id": "b5339cb4-6972-4026-91f1-52771c88a998",
   "metadata": {
    "ExecuteTime": {
     "start_time": "2023-04-11T00:11:24.580702Z",
     "end_time": "2023-04-11T00:11:25.686951Z"
    }
   },
   "outputs": [],
   "source": [
    "# Write your code below and press Shift+Enter to execute\n"
   ]
  },
  {
   "cell_type": "markdown",
   "id": "e393371c-0b92-432b-9c2d-d3160935569e",
   "metadata": {},
   "source": [
    "<details><summary>Click here for the solution</summary>\n",
    "\n",
    "```python\n",
    "df['Tumor Size'] = df['Tumor Size']/df['Tumor Size'].max()\n",
    "\n",
    "# show the scaled column\n",
    "df[[\"Tumor Size\"]].head()\n",
    "\n",
    "\n",
    "```\n",
    "\n",
    "</details>\n"
   ]
  },
  {
   "cell_type": "markdown",
   "id": "c25dd29c-97a5-4c5b-a432-db3f86d147f6",
   "metadata": {},
   "source": [
    "Here we can see we've normalized column \"Tumor Size\" in the range of \\[0,1].\n"
   ]
  },
  {
   "cell_type": "markdown",
   "id": "6dba2d25-dee7-49a9-8a07-753da7224323",
   "metadata": {},
   "source": [
    "<h2 id=\"binning\">Binning</h2>\n",
    "<b>Why binning?</b>\n",
    "<p>\n",
    "    Binning is a process of transforming continuous numerical variables into discrete categorical 'bins' for grouped analysis.\n",
    "</p>\n",
    "\n",
    "<b>Example: </b>\n",
    "\n",
    "<p>In our dataset, \"Nottingham prognostic index\" is a real valued variable ranging from 1 to 7. What if we only care about the difference between patients with high index, medium index, and little index (3 types)? Can we rearrange them into three ‘bins' to simplify analysis? </p>\n",
    "\n",
    "<p>We will use the pandas method 'cut' to segment the 'Nottingham prognostic index' column into 3 bins.</p>\n"
   ]
  },
  {
   "cell_type": "markdown",
   "id": "d07947f8-025a-45c1-90b2-4bead8cd2a47",
   "metadata": {},
   "source": [
    "<h3>Example of Binning Data In Pandas</h3>\n"
   ]
  },
  {
   "cell_type": "markdown",
   "id": "a4a62fc6-8ae2-4622-b383-bff7919d9fb0",
   "metadata": {},
   "source": [
    "Convert data to correct format:\n"
   ]
  },
  {
   "cell_type": "code",
   "execution_count": 35,
   "id": "126d3479-cd6c-4d71-813a-3afc216e20d7",
   "metadata": {
    "ExecuteTime": {
     "start_time": "2023-04-11T00:11:24.595710Z",
     "end_time": "2023-04-11T00:11:25.688954Z"
    }
   },
   "outputs": [],
   "source": [
    "df[\"Nottingham prognostic index\"]=df[\"Nottingham prognostic index\"].astype(int, copy=True)"
   ]
  },
  {
   "cell_type": "markdown",
   "id": "e2c21a27-caf3-49db-9489-9d545fc20024",
   "metadata": {},
   "source": [
    "Let's plot the histogram of Nottingham prognostic index to see what the distribution of Nottingham prognostic index looks like.\n",
    "\n"
   ]
  },
  {
   "cell_type": "code",
   "execution_count": 36,
   "id": "b506f4ac-bbb0-4f05-8bbb-9eba46d04a9a",
   "metadata": {
    "ExecuteTime": {
     "start_time": "2023-04-11T00:11:24.611713Z",
     "end_time": "2023-04-11T00:11:25.938025Z"
    }
   },
   "outputs": [
    {
     "data": {
      "text/plain": "Text(0.5, 1.0, 'Nottingham prognostic index bins')"
     },
     "execution_count": 36,
     "metadata": {},
     "output_type": "execute_result"
    },
    {
     "data": {
      "text/plain": "<Figure size 640x480 with 1 Axes>",
      "image/png": "[encoded data removed]"
     },
     "metadata": {},
     "output_type": "display_data"
    }
   ],
   "source": [
    "plt.pyplot.hist(df[\"Nottingham prognostic index\"])\n",
    "\n",
    "# set x/y labels and plot title\n",
    "plt.pyplot.xlabel(\"Nottingham prognostic index\")\n",
    "plt.pyplot.ylabel(\"count\")\n",
    "plt.pyplot.title(\"Nottingham prognostic index bins\")"
   ]
  },
  {
   "cell_type": "markdown",
   "id": "5355f14e-4001-44bc-855f-1db0b5aeaf0b",
   "metadata": {},
   "source": [
    "<p>We would like 3 bins of equal size bandwidth so we use numpy's <code>linspace(start_value, end_value, numbers_generated</code> function.</p>\n",
    "<p>Since we want to include the minimum value of Nottingham prognostic index, we want to set start_value = min(df[\"Nottingham prognostic index\"]).</p>\n",
    "<p>Since we want to include the maximum value of Nottingham prognostic index, we want to set end_value = max(df[\"Nottingham prognostic index\"]).</p>\n",
    "<p>Since we are building 3 bins of equal length, there should be 4 dividers, so numbers_generated = 4.</p>\n"
   ]
  },
  {
   "cell_type": "markdown",
   "id": "a150fb4a-6371-4604-ac16-375170a34298",
   "metadata": {},
   "source": [
    "We build a bin array with a minimum value to a maximum value by using the bandwidth calculated above. The values will determine when one bin ends and another begins.\n"
   ]
  },
  {
   "cell_type": "code",
   "execution_count": 37,
   "id": "ef7fd844-dbf9-445b-8c80-3a527a4dd05f",
   "metadata": {
    "ExecuteTime": {
     "start_time": "2023-04-11T00:11:24.986797Z",
     "end_time": "2023-04-11T00:11:25.984015Z"
    }
   },
   "outputs": [
    {
     "data": {
      "text/plain": "array([1., 3., 5., 7.])"
     },
     "execution_count": 37,
     "metadata": {},
     "output_type": "execute_result"
    }
   ],
   "source": [
    "bins = np.linspace(min(df[\"Nottingham prognostic index\"]), max(df[\"Nottingham prognostic index\"]), 4)\n",
    "bins"
   ]
  },
  {
   "cell_type": "markdown",
   "id": "81e68dc8-c20d-480a-b05d-bbbebb752cda",
   "metadata": {},
   "source": [
    "We set group  names:\n"
   ]
  },
  {
   "cell_type": "code",
   "execution_count": 38,
   "id": "fb36f0f6-90c7-4ce1-ac5e-014708d85c76",
   "metadata": {
    "ExecuteTime": {
     "start_time": "2023-04-11T00:11:25.013798Z",
     "end_time": "2023-04-11T00:11:27.203484Z"
    }
   },
   "outputs": [],
   "source": [
    "group_names = ['Low', 'Medium', 'High']"
   ]
  },
  {
   "cell_type": "markdown",
   "id": "7d934690-3782-4686-9366-ad06df90b163",
   "metadata": {},
   "source": [
    "We apply the function \"cut\" to determine what each value of `df['Nottingham prognostic index']` belongs to.\n"
   ]
  },
  {
   "cell_type": "code",
   "execution_count": 39,
   "id": "82506260-c4ae-446a-9bb1-49cc2b639ad5",
   "metadata": {
    "ExecuteTime": {
     "start_time": "2023-04-11T00:11:25.028800Z",
     "end_time": "2023-04-11T00:11:27.257502Z"
    }
   },
   "outputs": [
    {
     "data": {
      "text/plain": "    Nottingham prognostic index Nottingham prognostic index-binned\n0                             6                               High\n1                             4                             Medium\n2                             4                             Medium\n3                             4                             Medium\n4                             6                               High\n5                             4                             Medium\n6                             4                             Medium\n7                             6                               High\n8                             4                             Medium\n9                             6                               High\n10                            5                             Medium\n11                            3                                Low\n12                            3                                Low\n13                            2                                Low\n14                            5                             Medium\n15                            6                               High\n16                            4                             Medium\n17                            4                             Medium\n18                            3                                Low\n19                            4                             Medium",
      "text/html": "<div>\n<style scoped>\n    .dataframe tbody tr th:only-of-type {\n        vertical-align: middle;\n    }\n\n    .dataframe tbody tr th {\n        vertical-align: top;\n    }\n\n    .dataframe thead th {\n        text-align: right;\n    }\n</style>\n<table border=\"1\" class=\"dataframe\">\n  <thead>\n    <tr style=\"text-align: right;\">\n      <th></th>\n      <th>Nottingham prognostic index</th>\n      <th>Nottingham prognostic index-binned</th>\n    </tr>\n  </thead>\n  <tbody>\n    <tr>\n      <th>0</th>\n      <td>6</td>\n      <td>High</td>\n    </tr>\n    <tr>\n      <th>1</th>\n      <td>4</td>\n      <td>Medium</td>\n    </tr>\n    <tr>\n      <th>2</th>\n      <td>4</td>\n      <td>Medium</td>\n    </tr>\n    <tr>\n      <th>3</th>\n      <td>4</td>\n      <td>Medium</td>\n    </tr>\n    <tr>\n      <th>4</th>\n      <td>6</td>\n      <td>High</td>\n    </tr>\n    <tr>\n      <th>5</th>\n      <td>4</td>\n      <td>Medium</td>\n    </tr>\n    <tr>\n      <th>6</th>\n      <td>4</td>\n      <td>Medium</td>\n    </tr>\n    <tr>\n      <th>7</th>\n      <td>6</td>\n      <td>High</td>\n    </tr>\n    <tr>\n      <th>8</th>\n      <td>4</td>\n      <td>Medium</td>\n    </tr>\n    <tr>\n      <th>9</th>\n      <td>6</td>\n      <td>High</td>\n    </tr>\n    <tr>\n      <th>10</th>\n      <td>5</td>\n      <td>Medium</td>\n    </tr>\n    <tr>\n      <th>11</th>\n      <td>3</td>\n      <td>Low</td>\n    </tr>\n    <tr>\n      <th>12</th>\n      <td>3</td>\n      <td>Low</td>\n    </tr>\n    <tr>\n      <th>13</th>\n      <td>2</td>\n      <td>Low</td>\n    </tr>\n    <tr>\n      <th>14</th>\n      <td>5</td>\n      <td>Medium</td>\n    </tr>\n    <tr>\n      <th>15</th>\n      <td>6</td>\n      <td>High</td>\n    </tr>\n    <tr>\n      <th>16</th>\n      <td>4</td>\n      <td>Medium</td>\n    </tr>\n    <tr>\n      <th>17</th>\n      <td>4</td>\n      <td>Medium</td>\n    </tr>\n    <tr>\n      <th>18</th>\n      <td>3</td>\n      <td>Low</td>\n    </tr>\n    <tr>\n      <th>19</th>\n      <td>4</td>\n      <td>Medium</td>\n    </tr>\n  </tbody>\n</table>\n</div>"
     },
     "execution_count": 39,
     "metadata": {},
     "output_type": "execute_result"
    }
   ],
   "source": [
    "df['Nottingham prognostic index-binned'] = pd.cut(df['Nottingham prognostic index'], bins, labels=group_names, include_lowest=True )\n",
    "df[['Nottingham prognostic index','Nottingham prognostic index-binned']].head(20)"
   ]
  },
  {
   "cell_type": "markdown",
   "id": "5b29f8bf-9fc0-4bec-80f0-75fe8d235380",
   "metadata": {},
   "source": [
    "Let's see the number of patients in each bin:\n"
   ]
  },
  {
   "cell_type": "code",
   "execution_count": 40,
   "id": "68a39008-947b-468c-815d-e684bc404a7c",
   "metadata": {
    "ExecuteTime": {
     "start_time": "2023-04-11T00:11:25.061810Z",
     "end_time": "2023-04-11T00:11:27.259493Z"
    }
   },
   "outputs": [
    {
     "data": {
      "text/plain": "Medium    1478\nLow        805\nHigh       226\nName: Nottingham prognostic index-binned, dtype: int64"
     },
     "execution_count": 40,
     "metadata": {},
     "output_type": "execute_result"
    }
   ],
   "source": [
    "df[\"Nottingham prognostic index-binned\"].value_counts()"
   ]
  },
  {
   "cell_type": "markdown",
   "id": "d4b00c28-f5e4-48ba-b806-b03c07c3da34",
   "metadata": {},
   "source": [
    "Let's plot the distribution of each bin:\n",
    "\n"
   ]
  },
  {
   "cell_type": "code",
   "execution_count": 41,
   "id": "5d6eee13-9aba-44ba-b21b-15d2db3f32fb",
   "metadata": {
    "ExecuteTime": {
     "start_time": "2023-04-11T00:11:25.083815Z",
     "end_time": "2023-04-11T00:11:27.276497Z"
    }
   },
   "outputs": [
    {
     "data": {
      "text/plain": "Text(0.5, 1.0, 'Nottingham prognostic index bins')"
     },
     "execution_count": 41,
     "metadata": {},
     "output_type": "execute_result"
    },
    {
     "data": {
      "text/plain": "<Figure size 640x480 with 1 Axes>",
      "image/png": "[encoded data removed]"
     },
     "metadata": {},
     "output_type": "display_data"
    }
   ],
   "source": [
    "pyplot.bar(group_names, df[\"Nottingham prognostic index-binned\"].value_counts())\n",
    "\n",
    "# set x/y labels and plot title\n",
    "plt.pyplot.xlabel(\"Nottingham prognostic index\")\n",
    "plt.pyplot.ylabel(\"count\")\n",
    "plt.pyplot.title(\"Nottingham prognostic index bins\")"
   ]
  },
  {
   "cell_type": "markdown",
   "id": "2d710ffb-69ad-4b42-97f8-dd2507f74374",
   "metadata": {},
   "source": [
    "<p>\n",
    "    Look at the dataframe above carefully. You will find that the last column provides the bins for \"Nottingham prognostic index\" based on 3 categories (\"Low\", \"Medium\" and \"High\").\n",
    "</p>\n"
   ]
  },
  {
   "cell_type": "markdown",
   "id": "ad781f1c-84cc-44c5-8d5d-cc7615fe76e5",
   "metadata": {},
   "source": [
    "<h3>Bins Visualization</h3>\n",
    "Normally, a histogram is used to visualize the distribution of bins we created above. \n",
    "\n",
    "\n"
   ]
  },
  {
   "cell_type": "code",
   "execution_count": 42,
   "id": "d8fd70a8-1808-4bc1-b320-c62a41166fa5",
   "metadata": {
    "ExecuteTime": {
     "start_time": "2023-04-11T00:11:25.338873Z",
     "end_time": "2023-04-11T00:11:27.290501Z"
    }
   },
   "outputs": [
    {
     "data": {
      "text/plain": "Text(0.5, 1.0, 'Nottingham prognostic index bins')"
     },
     "execution_count": 42,
     "metadata": {},
     "output_type": "execute_result"
    },
    {
     "data": {
      "text/plain": "<Figure size 640x480 with 1 Axes>",
      "image/png": "[encoded data removed]"
     },
     "metadata": {},
     "output_type": "display_data"
    }
   ],
   "source": [
    "# draw histogram of attribute \"Nottingham prognostic index\" with bins = 3\n",
    "plt.pyplot.hist(df[\"Nottingham prognostic index\"], bins = 3)\n",
    "\n",
    "# set x/y labels and plot title\n",
    "plt.pyplot.xlabel(\"Nottingham prognostic index\")\n",
    "plt.pyplot.ylabel(\"count\")\n",
    "plt.pyplot.title(\"Nottingham prognostic index bins\")"
   ]
  },
  {
   "cell_type": "markdown",
   "id": "7423a66d-1ad5-451d-923e-76cbba510802",
   "metadata": {},
   "source": [
    "The plot above shows the binning result for the attribute \"Nottingham prognostic index\".\n"
   ]
  },
  {
   "cell_type": "markdown",
   "id": "2b1463dc-e9b7-43c8-9d7e-93920790ac1a",
   "metadata": {},
   "source": [
    "<h2 id=\"indicator\">Indicator Variable (or Dummy Variable)</h2>\n",
    "<b>What is an indicator variable?</b>\n",
    "<p>\n",
    "    An indicator variable (or dummy variable) is a numerical variable used to label categories. They are called 'dummies' because the numbers themselves don't have inherent meaning. \n",
    "</p>\n",
    "\n",
    "<b>Why we use indicator variables?</b>\n",
    "\n",
    "<p>\n",
    "    We use indicator variables so we can use categorical variables for regression analysis in the later modules.\n",
    "</p>\n",
    "<b>Example</b>\n",
    "<p>\n",
    "    We see the column \"Inferred Menopausal State\" has two unique values: \"Post\" or \"Pre\". Regression doesn't understand words, only numbers. To use this attribute in regression analysis, we convert \"Inferred Menopausal State\" to indicator variables.\n",
    "</p>\n",
    "\n",
    "<p>\n",
    "    We will use pandas' method 'get_dummies' to assign numerical values to different categories of fuel type. \n",
    "</p>\n"
   ]
  },
  {
   "cell_type": "code",
   "execution_count": 43,
   "id": "40d2924c-ff7f-43a0-8ab8-0be3c5d18fc8",
   "metadata": {
    "ExecuteTime": {
     "start_time": "2023-04-11T00:11:25.602934Z",
     "end_time": "2023-04-11T00:11:27.291498Z"
    }
   },
   "outputs": [
    {
     "data": {
      "text/plain": "Index(['Patient ID', 'Age at Diagnosis', 'Type of Breast Surgery',\n       'Cancer Type', 'Cancer Type Detailed', 'Cellularity', 'Chemotherapy',\n       'Pam50 + Claudin-low subtype', 'Cohort', 'ER status measured by IHC',\n       'ER Status', 'Neoplasm Histologic Grade',\n       'HER2 status measured by SNP6', 'HER2 Status',\n       'Tumor Other Histologic Subtype', 'Hormone Therapy',\n       'Inferred Menopausal State', 'Integrative Cluster',\n       'Primary Tumor Laterality', 'Lymph nodes examined positive',\n       'Mutation Count', 'Nottingham prognostic index', 'Oncotree Code',\n       'Overall Survival Status', 'PR Status', 'Radio Therapy',\n       'Relapse Free Status (Months)', 'Relapse Free Status', 'Sex',\n       '3-Gene classifier subtype', 'Tumor Size', 'Tumor Stage',\n       'Patient's Vital Status', 'Overall Survival (Years)',\n       'Nottingham prognostic index-binned'],\n      dtype='object')"
     },
     "execution_count": 43,
     "metadata": {},
     "output_type": "execute_result"
    }
   ],
   "source": [
    "df.columns"
   ]
  },
  {
   "cell_type": "markdown",
   "id": "3f67f09a-f13a-4322-b2e1-2c37011ff4f9",
   "metadata": {},
   "source": [
    "Get the indicator variables and assign it to data frame \"dummy_variable\\_1\":\n"
   ]
  },
  {
   "cell_type": "code",
   "execution_count": 44,
   "id": "917dfabd-81f4-412e-bab1-138b896f3156",
   "metadata": {
    "ExecuteTime": {
     "start_time": "2023-04-11T00:11:25.620939Z",
     "end_time": "2023-04-11T00:11:27.291498Z"
    }
   },
   "outputs": [
    {
     "data": {
      "text/plain": "   Post  Pre\n0     1    0\n1     0    1\n2     0    1\n3     0    1\n4     1    0",
      "text/html": "<div>\n<style scoped>\n    .dataframe tbody tr th:only-of-type {\n        vertical-align: middle;\n    }\n\n    .dataframe tbody tr th {\n        vertical-align: top;\n    }\n\n    .dataframe thead th {\n        text-align: right;\n    }\n</style>\n<table border=\"1\" class=\"dataframe\">\n  <thead>\n    <tr style=\"text-align: right;\">\n      <th></th>\n      <th>Post</th>\n      <th>Pre</th>\n    </tr>\n  </thead>\n  <tbody>\n    <tr>\n      <th>0</th>\n      <td>1</td>\n      <td>0</td>\n    </tr>\n    <tr>\n      <th>1</th>\n      <td>0</td>\n      <td>1</td>\n    </tr>\n    <tr>\n      <th>2</th>\n      <td>0</td>\n      <td>1</td>\n    </tr>\n    <tr>\n      <th>3</th>\n      <td>0</td>\n      <td>1</td>\n    </tr>\n    <tr>\n      <th>4</th>\n      <td>1</td>\n      <td>0</td>\n    </tr>\n  </tbody>\n</table>\n</div>"
     },
     "execution_count": 44,
     "metadata": {},
     "output_type": "execute_result"
    }
   ],
   "source": [
    "dummy_variable_1 = pd.get_dummies(df[\"Inferred Menopausal State\"])\n",
    "dummy_variable_1.head()"
   ]
  },
  {
   "cell_type": "markdown",
   "id": "8d93aa97-e222-4cc8-825a-83ee7926ff7b",
   "metadata": {},
   "source": [
    "Change the column names for clarity:\n"
   ]
  },
  {
   "cell_type": "code",
   "execution_count": 45,
   "id": "35db5f80-f26a-44e7-9fef-61e6fe41bcca",
   "metadata": {
    "ExecuteTime": {
     "start_time": "2023-04-11T00:11:25.649942Z",
     "end_time": "2023-04-11T00:11:27.291498Z"
    }
   },
   "outputs": [
    {
     "data": {
      "text/plain": "   Inferred Menopausal State-Post  Inferred Menopausal State-Pre\n0                               1                              0\n1                               0                              1\n2                               0                              1\n3                               0                              1\n4                               1                              0",
      "text/html": "<div>\n<style scoped>\n    .dataframe tbody tr th:only-of-type {\n        vertical-align: middle;\n    }\n\n    .dataframe tbody tr th {\n        vertical-align: top;\n    }\n\n    .dataframe thead th {\n        text-align: right;\n    }\n</style>\n<table border=\"1\" class=\"dataframe\">\n  <thead>\n    <tr style=\"text-align: right;\">\n      <th></th>\n      <th>Inferred Menopausal State-Post</th>\n      <th>Inferred Menopausal State-Pre</th>\n    </tr>\n  </thead>\n  <tbody>\n    <tr>\n      <th>0</th>\n      <td>1</td>\n      <td>0</td>\n    </tr>\n    <tr>\n      <th>1</th>\n      <td>0</td>\n      <td>1</td>\n    </tr>\n    <tr>\n      <th>2</th>\n      <td>0</td>\n      <td>1</td>\n    </tr>\n    <tr>\n      <th>3</th>\n      <td>0</td>\n      <td>1</td>\n    </tr>\n    <tr>\n      <th>4</th>\n      <td>1</td>\n      <td>0</td>\n    </tr>\n  </tbody>\n</table>\n</div>"
     },
     "execution_count": 45,
     "metadata": {},
     "output_type": "execute_result"
    }
   ],
   "source": [
    "dummy_variable_1.rename(columns={'Post':'Inferred Menopausal State-Post',\n",
    "                                 'Pre':'Inferred Menopausal State-Pre'}, inplace=True)\n",
    "dummy_variable_1.head()"
   ]
  },
  {
   "cell_type": "markdown",
   "id": "f093a25d-ce0c-4916-9fe0-0336f8feb44f",
   "metadata": {},
   "source": [
    "In the dataframe, column 'Inferred Menopausal State' has values for 'Post' and 'Pre' as 0s and 1s now.\n"
   ]
  },
  {
   "cell_type": "code",
   "execution_count": 46,
   "id": "178580eb-8994-4137-ae48-ab2e58038eed",
   "metadata": {
    "ExecuteTime": {
     "start_time": "2023-04-11T00:11:25.694952Z",
     "end_time": "2023-04-11T00:11:27.374517Z"
    }
   },
   "outputs": [],
   "source": [
    "# merge data frame \"df\" and \"dummy_variable_1\" \n",
    "df = pd.concat([df, dummy_variable_1], axis=1)\n",
    "\n",
    "# drop original column \"Inferred Menopausal State\" from \"df\"\n",
    "df.drop(\"Inferred Menopausal State\", axis = 1, inplace=True)"
   ]
  },
  {
   "cell_type": "code",
   "execution_count": 47,
   "id": "0aaf00ac-f268-42a8-8b57-bb97bd0930b9",
   "metadata": {
    "ExecuteTime": {
     "start_time": "2023-04-11T00:11:25.711958Z",
     "end_time": "2023-04-11T00:11:27.434531Z"
    }
   },
   "outputs": [
    {
     "data": {
      "text/plain": "  Patient ID  Age at Diagnosis Type of Breast Surgery    Cancer Type  \\\n0    MB-0000             75.65             Mastectomy  Breast Cancer   \n1    MB-0002             43.19      Breast Conserving  Breast Cancer   \n2    MB-0005             48.87             Mastectomy  Breast Cancer   \n3    MB-0006             47.68             Mastectomy  Breast Cancer   \n4    MB-0008             76.97             Mastectomy  Breast Cancer   \n\n                        Cancer Type Detailed Cellularity  Chemotherapy  \\\n0           Breast Invasive Ductal Carcinoma        High         False   \n1           Breast Invasive Ductal Carcinoma        High         False   \n2           Breast Invasive Ductal Carcinoma        High          True   \n3  Breast Mixed Ductal and Lobular Carcinoma    Moderate          True   \n4  Breast Mixed Ductal and Lobular Carcinoma        High          True   \n\n  Pam50 + Claudin-low subtype  Cohort ER status measured by IHC  ...  \\\n0                 claudin-low       1                   Positve  ...   \n1                        LumA       1                   Positve  ...   \n2                        LumB       1                   Positve  ...   \n3                        LumB       1                   Positve  ...   \n4                        LumB       1                   Positve  ...   \n\n  Relapse Free Status     Sex 3-Gene classifier subtype Tumor Size  \\\n0        Not Recurred  Female                 ER-/HER2-   0.116022   \n1        Not Recurred  Female     ER+/HER2- High Prolif   0.049724   \n2            Recurred  Female      ER+/HER2- Low Prolif   0.077348   \n3        Not Recurred  Female      ER+/HER2- Low Prolif   0.132597   \n4            Recurred  Female     ER+/HER2- High Prolif   0.215470   \n\n  Tumor Stage  Patient's Vital Status Overall Survival (Years)  \\\n0           2                  Living                11.708333   \n1           1                  Living                 7.052778   \n2           2         Died of Disease                13.641667   \n3           2                  Living                13.744444   \n4           2         Died of Disease                 3.447222   \n\n  Nottingham prognostic index-binned  Inferred Menopausal State-Post  \\\n0                               High                               1   \n1                             Medium                               0   \n2                             Medium                               0   \n3                             Medium                               0   \n4                               High                               1   \n\n   Inferred Menopausal State-Pre  \n0                              0  \n1                              1  \n2                              1  \n3                              1  \n4                              0  \n\n[5 rows x 36 columns]",
      "text/html": "<div>\n<style scoped>\n    .dataframe tbody tr th:only-of-type {\n        vertical-align: middle;\n    }\n\n    .dataframe tbody tr th {\n        vertical-align: top;\n    }\n\n    .dataframe thead th {\n        text-align: right;\n    }\n</style>\n<table border=\"1\" class=\"dataframe\">\n  <thead>\n    <tr style=\"text-align: right;\">\n      <th></th>\n      <th>Patient ID</th>\n      <th>Age at Diagnosis</th>\n      <th>Type of Breast Surgery</th>\n      <th>Cancer Type</th>\n      <th>Cancer Type Detailed</th>\n      <th>Cellularity</th>\n      <th>Chemotherapy</th>\n      <th>Pam50 + Claudin-low subtype</th>\n      <th>Cohort</th>\n      <th>ER status measured by IHC</th>\n      <th>...</th>\n      <th>Relapse Free Status</th>\n      <th>Sex</th>\n      <th>3-Gene classifier subtype</th>\n      <th>Tumor Size</th>\n      <th>Tumor Stage</th>\n      <th>Patient's Vital Status</th>\n      <th>Overall Survival (Years)</th>\n      <th>Nottingham prognostic index-binned</th>\n      <th>Inferred Menopausal State-Post</th>\n      <th>Inferred Menopausal State-Pre</th>\n    </tr>\n  </thead>\n  <tbody>\n    <tr>\n      <th>0</th>\n      <td>MB-0000</td>\n      <td>75.65</td>\n      <td>Mastectomy</td>\n      <td>Breast Cancer</td>\n      <td>Breast Invasive Ductal Carcinoma</td>\n      <td>High</td>\n      <td>False</td>\n      <td>claudin-low</td>\n      <td>1</td>\n      <td>Positve</td>\n      <td>...</td>\n      <td>Not Recurred</td>\n      <td>Female</td>\n      <td>ER-/HER2-</td>\n      <td>0.116022</td>\n      <td>2</td>\n      <td>Living</td>\n      <td>11.708333</td>\n      <td>High</td>\n      <td>1</td>\n      <td>0</td>\n    </tr>\n    <tr>\n      <th>1</th>\n      <td>MB-0002</td>\n      <td>43.19</td>\n      <td>Breast Conserving</td>\n      <td>Breast Cancer</td>\n      <td>Breast Invasive Ductal Carcinoma</td>\n      <td>High</td>\n      <td>False</td>\n      <td>LumA</td>\n      <td>1</td>\n      <td>Positve</td>\n      <td>...</td>\n      <td>Not Recurred</td>\n      <td>Female</td>\n      <td>ER+/HER2- High Prolif</td>\n      <td>0.049724</td>\n      <td>1</td>\n      <td>Living</td>\n      <td>7.052778</td>\n      <td>Medium</td>\n      <td>0</td>\n      <td>1</td>\n    </tr>\n    <tr>\n      <th>2</th>\n      <td>MB-0005</td>\n      <td>48.87</td>\n      <td>Mastectomy</td>\n      <td>Breast Cancer</td>\n      <td>Breast Invasive Ductal Carcinoma</td>\n      <td>High</td>\n      <td>True</td>\n      <td>LumB</td>\n      <td>1</td>\n      <td>Positve</td>\n      <td>...</td>\n      <td>Recurred</td>\n      <td>Female</td>\n      <td>ER+/HER2- Low Prolif</td>\n      <td>0.077348</td>\n      <td>2</td>\n      <td>Died of Disease</td>\n      <td>13.641667</td>\n      <td>Medium</td>\n      <td>0</td>\n      <td>1</td>\n    </tr>\n    <tr>\n      <th>3</th>\n      <td>MB-0006</td>\n      <td>47.68</td>\n      <td>Mastectomy</td>\n      <td>Breast Cancer</td>\n      <td>Breast Mixed Ductal and Lobular Carcinoma</td>\n      <td>Moderate</td>\n      <td>True</td>\n      <td>LumB</td>\n      <td>1</td>\n      <td>Positve</td>\n      <td>...</td>\n      <td>Not Recurred</td>\n      <td>Female</td>\n      <td>ER+/HER2- Low Prolif</td>\n      <td>0.132597</td>\n      <td>2</td>\n      <td>Living</td>\n      <td>13.744444</td>\n      <td>Medium</td>\n      <td>0</td>\n      <td>1</td>\n    </tr>\n    <tr>\n      <th>4</th>\n      <td>MB-0008</td>\n      <td>76.97</td>\n      <td>Mastectomy</td>\n      <td>Breast Cancer</td>\n      <td>Breast Mixed Ductal and Lobular Carcinoma</td>\n      <td>High</td>\n      <td>True</td>\n      <td>LumB</td>\n      <td>1</td>\n      <td>Positve</td>\n      <td>...</td>\n      <td>Recurred</td>\n      <td>Female</td>\n      <td>ER+/HER2- High Prolif</td>\n      <td>0.215470</td>\n      <td>2</td>\n      <td>Died of Disease</td>\n      <td>3.447222</td>\n      <td>High</td>\n      <td>1</td>\n      <td>0</td>\n    </tr>\n  </tbody>\n</table>\n<p>5 rows × 36 columns</p>\n</div>"
     },
     "execution_count": 47,
     "metadata": {},
     "output_type": "execute_result"
    }
   ],
   "source": [
    "df.head()"
   ]
  },
  {
   "cell_type": "markdown",
   "id": "7309da53-a4c5-4cc5-b47d-b941b260cbdd",
   "metadata": {},
   "source": [
    "The last two columns are now the indicator variable representation of the Inferred Menopausal State variable. They're all 0s and 1s now.\n"
   ]
  },
  {
   "cell_type": "markdown",
   "id": "e46744bd-05dc-4963-b273-3ac2d5441519",
   "metadata": {},
   "source": [
    "<div class=\"alert alert-danger alertdanger\" style=\"margin-top: 20px\">\n",
    "<h1> Question  #4: </h1>\n",
    "\n",
    "<b>Similar to before, create an indicator variable for the column \"Relapse Free Status\"</b>\n",
    "\n",
    "</div>\n"
   ]
  },
  {
   "cell_type": "code",
   "execution_count": 48,
   "id": "c4bf4d33-4846-4d38-9297-07a32a006178",
   "metadata": {
    "ExecuteTime": {
     "start_time": "2023-04-11T00:11:25.758969Z",
     "end_time": "2023-04-11T00:11:27.524552Z"
    }
   },
   "outputs": [],
   "source": [
    "# Write your code below and press Shift+Enter to execute\n"
   ]
  },
  {
   "cell_type": "markdown",
   "id": "36b9ba11-9960-4cca-accd-cfbd5cf0cd93",
   "metadata": {},
   "source": [
    "<details><summary>Click here for the solution</summary>\n",
    "\n",
    "```python\n",
    "# get indicator variables of aspiration and assign it to data frame \"dummy_variable_2\"\n",
    "dummy_variable_2 = pd.get_dummies(df['Relapse Free Status'])\n",
    "\n",
    "# change column names for clarity\n",
    "dummy_variable_2.rename(columns={'Recurred':'Relapse Free Status-Recurred', 'Not Recurred': 'Relapse Free Status-Not Recurred'}, inplace=True)\n",
    "\n",
    "# show first 5 instances of data frame \"dummy_variable_1\"\n",
    "dummy_variable_2.head()\n",
    "```\n",
    "\n",
    "</details>\n"
   ]
  },
  {
   "cell_type": "markdown",
   "id": "37d6b28d-0f35-4dcf-b38a-1791df884798",
   "metadata": {},
   "source": [
    " <div class=\"alert alert-danger alertdanger\" style=\"margin-top: 20px\">\n",
    "<h1> Question  #5: </h1>\n",
    "\n",
    "<b>Merge the new dataframe to the original dataframe, then drop the column 'aspiration'.</b>\n",
    "\n",
    "</div>\n"
   ]
  },
  {
   "cell_type": "code",
   "execution_count": 49,
   "id": "5cb77b30-a8b0-43e5-b91b-1734985d07d6",
   "metadata": {
    "ExecuteTime": {
     "start_time": "2023-04-11T00:11:25.778974Z",
     "end_time": "2023-04-11T00:11:27.525556Z"
    }
   },
   "outputs": [],
   "source": [
    "# Write your code below and press Shift+Enter to execute \n"
   ]
  },
  {
   "cell_type": "markdown",
   "id": "ada99783-2af9-4176-b2ca-a1f63877a4e7",
   "metadata": {},
   "source": [
    "<details><summary>Click here for the solution</summary>\n",
    "\n",
    "```python\n",
    "# merge the new dataframe to the original datafram\n",
    "df = pd.concat([df, dummy_variable_2], axis=1)\n",
    "\n",
    "# drop original column \"aspiration\" from \"df\"\n",
    "df.drop('Relapse Free Status', axis = 1, inplace=True)\n",
    "```\n",
    "\n",
    "</details>\n"
   ]
  },
  {
   "cell_type": "code",
   "execution_count": 50,
   "id": "f5751068-703f-41ec-8600-b5f72d9cfa7d",
   "metadata": {
    "ExecuteTime": {
     "start_time": "2023-04-11T00:11:25.792977Z",
     "end_time": "2023-04-11T00:11:27.527554Z"
    }
   },
   "outputs": [],
   "source": [
    "df.to_csv('breast_cancer_clean')"
   ]
  },
  {
   "cell_type": "markdown",
   "id": "c02d1923-2c7b-46be-94fc-c3819b82ab72",
   "metadata": {},
   "source": [
    "Save the new csv:\n",
    "\n",
    "> Note : The  csv file cannot be viewed in the jupyterlite based SN labs environment.However you can Click <a href=\"https://cf-courses-data.s3.us.cloud-object-storage.appdomain.cloud/IBMDeveloperSkillsNetwork-DA0101EN-SkillsNetwork/labs/Module%202/DA0101EN-2-Review-Data-Wrangling.ipynb?utm_medium=Exinfluencer&utm_source=Exinfluencer&utm_content=000026UJ&utm_term=10006555&utm_id=NA-SkillsNetwork-Channel-SkillsNetworkCoursesIBMDeveloperSkillsNetworkDA0101ENSkillsNetwork20235326-2022-01-01\">HERE</a> to download the lab notebook (.ipynb) to your local machine and view the csv file once the notebook is executed.\n"
   ]
  },
  {
   "cell_type": "markdown",
   "id": "a3b90a40-451a-4625-9caa-afc8f0ec8657",
   "metadata": {},
   "source": [
    "### Thank you for completing this lab!\n",
    "\n",
    "## Author\n",
    "\n",
    "<a href=\"https://author.skills.network/instructors/dmytro_shliakhovskyi\">Dmytro Shliakhovskyi</a>\n",
    "\n",
    "### Other Contributors\n",
    "\n",
    "<a href=\"https://author.skills.network/instructors/yaroslav_vyklyuk_2\">Prof. Yaroslav Vyklyuk, DrSc, PhD</a>\n",
    "\n",
    "<a href=\"https://author.skills.network/instructors/nataliya_boyko\">Ass. Prof. Nataliya Boyko, PhD</a>\n",
    "\n",
    "\n",
    "## Change Log\n",
    "\n",
    "| Date (YYYY-MM-DD) | Version | Changed By | Change Description                                         |\n",
    "| ----------------- | ------- | ---------- | ---------------------------------------------------------- |\n",
    "|    2023-03-04     | 01 | Dmytro Shliakhovkyi | Lab created |\n",
    "\n",
    "\n",
    "\n",
    "<hr>\n",
    "\n",
    "## <h3 align=\"center\"> © IBM Corporation 2020. All rights reserved. <h3/>\n"
   ]
  }
 ],
 "metadata": {
  "kernelspec": {
   "display_name": "Python 3 (ipykernel)",
   "language": "python",
   "name": "python3"
  },
  "language_info": {
   "codemirror_mode": {
    "name": "ipython",
    "version": 3
   },
   "file_extension": ".py",
   "mimetype": "text/x-python",
   "name": "python",
   "nbconvert_exporter": "python",
   "pygments_lexer": "ipython3",
   "version": "3.10.9"
  }
 },
 "nbformat": 4,
 "nbformat_minor": 5
}
