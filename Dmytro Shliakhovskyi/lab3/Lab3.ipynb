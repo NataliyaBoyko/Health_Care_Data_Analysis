{
 "cells": [
  {
   "cell_type": "markdown",
   "id": "a3e85ae8-8915-4d59-953a-73d2c2fd1400",
   "metadata": {},
   "source": [
    "<center>\n",
    "    <img src=\"https://cf-courses-data.s3.us.cloud-object-storage.appdomain.cloud/assets/logos/SN_web_lightmode.png\" width=\"300\" alt=\"cognitiveclass.ai logo\"  />\n",
    "</center>\n",
    "\n",
    "# **Forecasting of Breast Cancer on medical measurement**\n",
    "\n",
    "# Lab 3. Data Analysis with Python\n",
    "\n",
    "Estimated time needed: **30** minutes\n",
    "\n",
    "## Objectives\n",
    "\n",
    "After completing this lab you will be able to:\n",
    "\n",
    "*   Explore features or charecteristics to predict Patient's Vital Status.\n"
   ]
  },
  {
   "cell_type": "markdown",
   "id": "ddad37ac-4818-4610-b931-ac33472ba564",
   "metadata": {},
   "source": [
    "<h2>Table of Contents</h2>\n",
    "\n",
    "<div class=\"alert alert-block alert-info\" style=\"margin-top: 20px\">\n",
    "<ol>\n",
    "    <li><a href=\"https://#import_data\">Import Data from Module</a></li>\n",
    "    <li><a href=\"https://#pattern_visualization\">Analyzing Individual Feature Patterns using Visualization</a></li>\n",
    "    <li><a href=\"https://#discriptive_statistics\">Descriptive Statistical Analysis</a></li>\n",
    "    <li><a href=\"https://#basic_grouping\">Basics of Grouping</a></li>\n",
    "    <li><a href=\"https://#correlation_causation\">Correlation and Causation</a></li>\n",
    "    <li><a href=\"https://#anova\">ANOVA</a></li>\n",
    "</ol>\n",
    "\n",
    "</div>\n",
    "\n",
    "<hr>\n"
   ]
  },
  {
   "cell_type": "markdown",
   "id": "5cf89daa-c287-42c6-b0df-e13b19868c0b",
   "metadata": {},
   "source": [
    "<h3>What are the main characteristics that have the most impact on a Patient's Vital Status?</h3>\n"
   ]
  },
  {
   "cell_type": "markdown",
   "id": "c1fc3285-e3a6-4fb2-b53b-4aa2b1085f83",
   "metadata": {},
   "source": [
    "<h2 id=\"import_data\">1. Import Data from Module 2</h2>\n"
   ]
  },
  {
   "cell_type": "markdown",
   "id": "a36ec54b-3c7f-4d16-9ef7-eaba2c2bd1d0",
   "metadata": {},
   "source": [
    "<h4>Setup</h4>\n"
   ]
  },
  {
   "cell_type": "markdown",
   "id": "833b40c3-8926-4ee8-ba28-b09c67fd6c72",
   "metadata": {},
   "source": [
    "To install Seaborn we use pip, the Python package manager.\n",
    "\n",
    "Import libraries:\n"
   ]
  },
  {
   "cell_type": "code",
   "execution_count": null,
   "id": "8802dab1-1278-44d2-8a9a-7c709fb93614",
   "metadata": {},
   "outputs": [],
   "source": [
    "# conda install -c anaconda scikit-learn"
   ]
  },
  {
   "cell_type": "code",
   "execution_count": null,
   "id": "28bfb816-24f2-46be-b85a-4421d6135bd5",
   "metadata": {},
   "outputs": [],
   "source": [
    "# !pip install dython\n",
    "# ! mamba install seaborn=0.9.0-y"
   ]
  },
  {
   "cell_type": "markdown",
   "id": "e5b7f3f9-6fc2-4bf4-9ec2-c9a355f50cb8",
   "metadata": {},
   "source": [
    "<div class=\"alert alert-danger alertdanger\" style=\"margin-top: 20px\">\n",
    "If error appeared, please restart kernel or run this block again.\n",
    "</div>\n"
   ]
  },
  {
   "cell_type": "code",
   "execution_count": null,
   "id": "7bf8cdfa-f492-429b-b8c4-107d574be184",
   "metadata": {},
   "outputs": [],
   "source": [
    "import pandas as pd\n",
    "import numpy as np\n",
    "\n",
    "import matplotlib.pyplot as plt\n",
    "import seaborn as sns\n",
    "%matplotlib inline\n",
    "\n",
    "from sklearn import preprocessing\n",
    "from dython.nominal import associations\n",
    "\n",
    "from scipy import stats\n",
    "\n",
    "import itertools"
   ]
  },
  {
   "cell_type": "markdown",
   "id": "9a77f457-f66a-4edf-9bdc-474f0e0b6d18",
   "metadata": {},
   "source": [
    "Load the data and store it in dataframe `df`:\n"
   ]
  },
  {
   "cell_type": "code",
   "execution_count": null,
   "id": "8a1263c3-a0f4-4654-bafe-511084c8142d",
   "metadata": {},
   "outputs": [],
   "source": [
    "path='https://cf-courses-data.s3.us.cloud-object-storage.appdomain.cloud/IBMSkillsNetwork-GPXX0VB7EN/breast_cancer_clean.csv'"
   ]
  },
  {
   "cell_type": "code",
   "execution_count": null,
   "id": "19b7bf40-693a-4598-8138-60f9b78f8543",
   "metadata": {},
   "outputs": [],
   "source": [
    "df = pd.read_csv(path, index_col=0)\n",
    "df.head()"
   ]
  },
  {
   "cell_type": "markdown",
   "id": "a0cbed38-30f4-4975-9f20-fddeeacaa813",
   "metadata": {},
   "source": [
    "Let's use \"pd.options.display.float_format = '{:,.2f}'.format\" for the display of float numbers in Pandas with two decimal places, separated by a comma."
   ]
  },
  {
   "cell_type": "code",
   "execution_count": null,
   "id": "495dbd96-77ea-4c6b-9c1b-06e1408c70a9",
   "metadata": {},
   "outputs": [],
   "source": [
    "pd.options.display.float_format = '{:,.2f}'.format\n"
   ]
  },
  {
   "cell_type": "markdown",
   "id": "2dd8997e-d9ba-4306-abc3-be04d7d7ccab",
   "metadata": {},
   "source": [
    "<h2 id=\"pattern_visualization\">2. Analyzing Individual Feature Patterns Using Visualization</h2>\n"
   ]
  },
  {
   "cell_type": "markdown",
   "id": "911a43f6-3872-479e-917a-1b148b499384",
   "metadata": {},
   "source": [
    "<h4>How to choose the right visualization method?</h4>\n",
    "<p>When visualizing individual variables, it is important to first understand what type of variable you are dealing with. This will help us find the right visualization method for that variable.</p>\n"
   ]
  },
  {
   "cell_type": "code",
   "execution_count": null,
   "id": "1b6e261b-8295-4e70-9f2e-900b835e5de0",
   "metadata": {},
   "outputs": [],
   "source": [
    "# list the data types for each column\n",
    "print(df.dtypes)"
   ]
  },
  {
   "cell_type": "markdown",
   "id": "c874ffa1-8907-4871-86d3-348d5ae117e8",
   "metadata": {},
   "source": [
    "We need to transform the categorical column \"Patient's Vital Status\" so that we can work with it as a column of type Int. The \"transform\" method is used to transform the original categorical column into an array of integers, which is assigned to the variable transformed_vital_stat. Finally, a new column is created in the dataframe called \"Patient's Vital Status - transformed\" and its values are set to the transformed categorical data."
   ]
  },
  {
   "cell_type": "code",
   "execution_count": null,
   "id": "079c57fd-9031-4f52-92df-0c1b89e458ed",
   "metadata": {},
   "outputs": [],
   "source": [
    "enc = preprocessing.OrdinalEncoder()\n",
    "enc.fit(df[[\"Patient's Vital Status\"]])\n",
    "\n",
    "#Write down to array\n",
    "transformed_vital_stat = enc.transform(df[[\"Patient's Vital Status\"]])\n",
    "\n",
    "#Create new column\n",
    "df[\"Patient's Vital Status - transformed\"] = transformed_vital_stat\n",
    "\n",
    "df"
   ]
  },
  {
   "cell_type": "markdown",
   "id": "b2d7c3a9-96de-49e5-89d2-9b5b1ccac789",
   "metadata": {},
   "source": [
    "Now we have a new column \"Vital status of the patient - changed\", which contains the following values: 0 - Died of Disease, 1 - Died of Other Causes, 2 - Living."
   ]
  },
  {
   "cell_type": "markdown",
   "id": "6761ac4b-9744-4215-ab3d-9931e00d492a",
   "metadata": {},
   "source": [
    "<div class=\"alert alert-danger alertdanger\" style=\"margin-top: 20px\">\n",
    "<h3>Question  #1:</h3>\n",
    "\n",
    "<b>What is the data type of the column \"Tumor Size\"? </b>\n",
    "\n",
    "</div>\n"
   ]
  },
  {
   "cell_type": "code",
   "execution_count": null,
   "id": "4cb90f07-fd9e-4213-8cb6-df7402aa378c",
   "metadata": {},
   "outputs": [],
   "source": [
    "# Write your code below and press Shift+Enter to execute\n"
   ]
  },
  {
   "cell_type": "markdown",
   "id": "78d6238c-0dec-4e15-9b10-e95546ae78ca",
   "metadata": {},
   "source": [
    "<details><summary>Click here for the solution</summary>\n",
    "\n",
    "```python\n",
    "df['Tumor Size'].dtypes\n",
    "```\n",
    "\n",
    "</details>\n"
   ]
  },
  {
   "cell_type": "markdown",
   "id": "7e52b44d-5bc7-4f7b-9945-3417bb36cf15",
   "metadata": {},
   "source": [
    "For example, we can calculate the correlation between variables  of type \"int64\" or \"float64\" using the method \"corr\":\n"
   ]
  },
  {
   "cell_type": "code",
   "execution_count": null,
   "id": "c89658cc-6650-4314-9abf-ff3f06ab47fb",
   "metadata": {},
   "outputs": [],
   "source": [
    "corr = df.corr()\n",
    "corr"
   ]
  },
  {
   "cell_type": "markdown",
   "id": "a516a283-d4ad-4a78-ba60-2e58479f8aa1",
   "metadata": {},
   "source": [
    "The diagonal elements are always one; we will study correlation more precisely Pearson correlation in-depth at the end of the notebook.\n"
   ]
  },
  {
   "cell_type": "markdown",
   "id": "0296465f-2125-4886-bdc3-033b31648bc5",
   "metadata": {},
   "source": [
    "Let's take a look on correlation heatmap of our data"
   ]
  },
  {
   "cell_type": "code",
   "execution_count": null,
   "id": "867067c6-62cf-48f7-979e-a49c45c96c43",
   "metadata": {},
   "outputs": [],
   "source": [
    "sns.heatmap(corr, linewidths=.5)"
   ]
  },
  {
   "cell_type": "markdown",
   "id": "106311d6-55a1-489b-9343-2d3df7e9fad8",
   "metadata": {},
   "source": [
    "The associations method from the dython.nominal library is used to calculate and visualize the association between the categorical variables in a Pandas dataframe."
   ]
  },
  {
   "cell_type": "code",
   "execution_count": null,
   "id": "341fb25a-12e1-4fc5-b7c1-96abd6b3fda0",
   "metadata": {},
   "outputs": [],
   "source": [
    "associations(df[[\"Type of Breast Surgery\", \"Cancer Type\", \"Cancer Type Detailed\", \"Cellularity\", \"Chemotherapy\", \"Pam50 + Claudin-low subtype\", \"ER status measured by IHC\", \"ER Status\", \"HER2 status measured by SNP6\", \"HER2 Status\", \"Tumor Other Histologic Subtype\", \"Hormone Therapy\", \"Integrative Cluster\", \"Primary Tumor Laterality\", \"Oncotree Code\", \"Overall Survival Status\", \"PR Status\", \"Radio Therapy\", \"3-Gene classifier subtype\", \"Patient's Vital Status\", \"Nottingham prognostic index-binned\", \"Patient's Vital Status - transformed\"]], annot=False)"
   ]
  },
  {
   "cell_type": "markdown",
   "id": "7872284d-d02f-4fd2-987a-43236a5dec32",
   "metadata": {},
   "source": [
    "<div class=\"alert alert-danger alertdanger\" style=\"margin-top: 20px\">\n",
    "<h3> Question  #2: </h3>\n",
    "\n",
    "<p>Find the correlation between the following columns: Tumor Size, Cohort, Neoplasm Histologic Grade, and Mutation Count.</p>\n",
    "<p>Hint: if you would like to select those columns, use the following syntax: df[['Tumor Size', 'Cohort', 'Neoplasm Histologic Grade', 'Mutation Count']]</p>\n",
    "</div>\n"
   ]
  },
  {
   "cell_type": "code",
   "execution_count": null,
   "id": "aaf8b3bc-3fd9-4bf2-8370-5582caa24d6d",
   "metadata": {},
   "outputs": [],
   "source": [
    "# Write your code below and press Shift+Enter to execute\n"
   ]
  },
  {
   "cell_type": "markdown",
   "id": "4e6843a6-7eb4-4465-8c52-3ce8518a962d",
   "metadata": {},
   "source": [
    "<details><summary>Click here for the solution</summary>\n",
    "\n",
    "```python\n",
    "df[['Tumor Size', 'Cohort', 'Neoplasm Histologic Grade', 'Mutation Count']].corr()\n",
    "```\n",
    "\n",
    "</details>\n"
   ]
  },
  {
   "cell_type": "markdown",
   "id": "2a169047-2e44-4c18-be2a-fbd999ca69c7",
   "metadata": {},
   "source": [
    "<h2>Continuous Numerical Variables:</h2> \n",
    "\n",
    "<p>Continuous numerical variables are variables that may contain any value within some range. They can be of type \"int64\" or \"float64\". A great way to visualize these variables is by using scatterplots with fitted lines.</p>\n",
    "\n",
    "<p>In order to start understanding the (linear) relationship between an individual variable and the price, we can use \"regplot\" which plots the scatterplot plus the fitted regression line for the data.</p>\n",
    "\n",
    "<p>For forecasting, we selected column \"Patient's Vital Status - transformed\", but this column has only 3 values. Therefore, we will take other columns in order to show what examples of graphs exist.</p>\n"
   ]
  },
  {
   "cell_type": "markdown",
   "id": "39fc5bb5-eb16-4e4b-be3d-f82afb021a50",
   "metadata": {},
   "source": [
    "Let's see several examples of different linear relationships:\n"
   ]
  },
  {
   "cell_type": "markdown",
   "id": "c6966798-3acb-43c1-b2fd-c390d0787150",
   "metadata": {},
   "source": [
    "<h3>Positive Linear Relationship</h4>\n"
   ]
  },
  {
   "cell_type": "markdown",
   "id": "c96b1623-3072-475e-b632-e6b6cc2fad48",
   "metadata": {},
   "source": [
    "Let's find the scatterplot of \"Lymph nodes examined positive\" and \"Nottingham prognostic index\".\n"
   ]
  },
  {
   "cell_type": "code",
   "execution_count": null,
   "id": "9b0cac12-8c0e-43c8-b672-d90c95a11829",
   "metadata": {},
   "outputs": [],
   "source": [
    "# Lymph nodes examined positive as potential predictor variable of Nottingham prognostic index\n",
    "sns.regplot(x=\"Lymph nodes examined positive\", y=\"Nottingham prognostic index\", data=df)\n",
    "plt.ylim(0,)"
   ]
  },
  {
   "cell_type": "markdown",
   "id": "8469470c-0311-4d15-a889-a6e0fc994ffa",
   "metadata": {},
   "source": [
    "<p>As the Lymph nodes examined positive goes up, the Nottingham prognostic index goes up: this indicates a positive direct correlation between these two variables. Lymph nodes examined positive seems like a pretty good predictor of Nottingham prognostic index since the regression line is almost a perfect diagonal line.</p>\n"
   ]
  },
  {
   "cell_type": "markdown",
   "id": "736b5992-b7d4-4073-8bde-b0ade065992d",
   "metadata": {},
   "source": [
    "We can examine the correlation between 'Lymph nodes examined positive' and 'Nottingham prognostic index' and see that it's approximately 0.52.\n"
   ]
  },
  {
   "cell_type": "code",
   "execution_count": null,
   "id": "6743ae2b-2e01-4362-bf4a-3ceb214716c4",
   "metadata": {},
   "outputs": [],
   "source": [
    "df[[\"Lymph nodes examined positive\", \"Nottingham prognostic index\"]].corr()"
   ]
  },
  {
   "cell_type": "markdown",
   "id": "b2257ab6-e4b6-4a0f-825f-90ba7569597b",
   "metadata": {},
   "source": [
    "Lymph nodes examined positive is a potential predictor variable of Relapse Free Status (Years). Let's find the scatterplot of \"Lymph nodes examined positive\" and \"Relapse Free Status (Years)\".\n"
   ]
  },
  {
   "cell_type": "code",
   "execution_count": null,
   "id": "3374c23e-44a7-4d6b-bd40-2a7a6816abdb",
   "metadata": {},
   "outputs": [],
   "source": [
    "sns.regplot(x=\"Lymph nodes examined positive\", y=\"Relapse Free Status (Years)\", data=df)"
   ]
  },
  {
   "cell_type": "markdown",
   "id": "51b05f77-100c-42aa-bb48-bbcc091ba0f1",
   "metadata": {},
   "source": [
    "<p>As Lymph nodes examined positive goes up, the Relapse Free Status (Years) goes down: this indicates an inverse/negative relationship between these two variables. Lymph nodes examined positive could potentially be a predictor of Relapse Free Status (Years).</p>\n"
   ]
  },
  {
   "cell_type": "markdown",
   "id": "9cb58647-0c81-4ed6-8214-073f629ade9a",
   "metadata": {},
   "source": [
    "We can examine the correlation between 'Lymph nodes examined positive' and 'Relapse Free Status (Years)' and see it's approximately -0.22.\n"
   ]
  },
  {
   "cell_type": "code",
   "execution_count": null,
   "id": "1ebcf8d3-422b-4536-afc4-b59dd150dbab",
   "metadata": {},
   "outputs": [],
   "source": [
    "df[[\"Lymph nodes examined positive\", \"Relapse Free Status (Years)\"]].corr()"
   ]
  },
  {
   "cell_type": "markdown",
   "id": "6a28e367-8956-45f3-830c-3437338bf2b3",
   "metadata": {},
   "source": [
    "<h3>Weak Linear Relationship</h3>\n"
   ]
  },
  {
   "cell_type": "markdown",
   "id": "eeae2cdf-5923-48db-93a9-d38faad68ef9",
   "metadata": {},
   "source": [
    "Let's see if \"Tumor Size\" is a predictor variable of \"Mutation Count\".\n"
   ]
  },
  {
   "cell_type": "code",
   "execution_count": null,
   "id": "06ba3a75-ebeb-4267-bbc6-2a321c3dda4c",
   "metadata": {},
   "outputs": [],
   "source": [
    "sns.regplot(x=\"Tumor Size\", y=\"Mutation Count\", data=df)"
   ]
  },
  {
   "cell_type": "markdown",
   "id": "0b2cdba7-bcec-4057-92f3-2c626a22a47e",
   "metadata": {},
   "source": [
    "<p>Tumor Size does not seem like a good predictor of the Mutation Count at all since the regression line is close to horizontal. Also, the data points are very scattered and far from the fitted line, showing lots of variability. Therefore, it's not a reliable variable.</p>\n"
   ]
  },
  {
   "cell_type": "markdown",
   "id": "bf38bd8d-4367-450c-b941-c2334827f8a3",
   "metadata": {},
   "source": [
    "We can examine the correlation between 'Tumor Size' and 'Mutation Count' and see it's approximately 0.02.\n"
   ]
  },
  {
   "cell_type": "code",
   "execution_count": null,
   "id": "9083057e-c283-435c-aa40-35b45927fd08",
   "metadata": {},
   "outputs": [],
   "source": [
    "df[[\"Tumor Size\", \"Mutation Count\"]].corr()"
   ]
  },
  {
   "cell_type": "markdown",
   "id": "a65cbb6d-7059-41d7-9b6e-a39c64695241",
   "metadata": {},
   "source": [
    " <div class=\"alert alert-danger alertdanger\" style=\"margin-top: 20px\">\n",
    "<h1> Question  3 a): </h1>\n",
    "\n",
    "<p>Find the correlation  between x=\"Relapse Free Status (Months)\" and y=\"Age at Diagnosis\".</p>\n",
    "<p>Hint: if you would like to select those columns, use the following syntax: df[[\"Relapse Free Status (Months)\", \"Age at Diagnosis\"]].  </p>\n",
    "</div>\n"
   ]
  },
  {
   "cell_type": "code",
   "execution_count": null,
   "id": "f90b2499-c4c4-4695-8dd4-4d1e959d9b19",
   "metadata": {},
   "outputs": [],
   "source": [
    "# Write your code below and press Shift+Enter to execute\n"
   ]
  },
  {
   "cell_type": "markdown",
   "id": "c8f6b71f-4bf4-4151-a15e-e71ad645e0e3",
   "metadata": {},
   "source": [
    "<details><summary>Click here for the solution</summary>\n",
    "\n",
    "```python\n",
    "\n",
    "#The correlation is -0.1, the non-diagonal elements of the table.\n",
    "\n",
    "df[[\"Relapse Free Status (Months)\",\"Age at Diagnosis\"]].corr()\n",
    "\n",
    "```\n",
    "\n",
    "</details>\n"
   ]
  },
  {
   "cell_type": "markdown",
   "id": "90b0827b-f2c1-479f-8cca-dd7f2d248a1d",
   "metadata": {},
   "source": [
    "<div class=\"alert alert-danger alertdanger\" style=\"margin-top: 20px\">\n",
    "<h1>Question  3 b):</h1>\n",
    "\n",
    "<p>Given the correlation results between \"Age at Diagnosis\" and \"Relapse Free Status (Months)\", do you expect a linear relationship?</p>\n",
    "<p>Verify your results using the function \"regplot()\".</p>\n",
    "</div>\n"
   ]
  },
  {
   "cell_type": "code",
   "execution_count": null,
   "id": "91742286-77b5-4c91-8ff1-b635fe70b6c2",
   "metadata": {},
   "outputs": [],
   "source": [
    "# Write your code below and press Shift+Enter to execute \n"
   ]
  },
  {
   "cell_type": "markdown",
   "id": "5fbb79e2-87ab-4eea-8db1-7305e6983dea",
   "metadata": {},
   "source": [
    "<details><summary>Click here for the solution</summary>\n",
    "\n",
    "```python\n",
    "\n",
    "#There is a weak correlation between the variable 'Relapse Free Status (Months)' and 'Age at Diagnosis' as such regression will not work well. We can see this using \"regplot\" to demonstrate this.\n",
    "\n",
    "#Code: \n",
    "sns.regplot(x=\"Relapse Free Status (Months)\", y=\"Age at Diagnosis\", data=df)\n",
    "\n",
    "```\n",
    "\n",
    "</details>\n"
   ]
  },
  {
   "cell_type": "markdown",
   "id": "89ab0fdb-e8a5-40b7-88bb-3c72ae2e703a",
   "metadata": {},
   "source": [
    "<h3>Categorical Variables</h3>\n",
    "\n",
    "<p>These are variables that describe a 'characteristic' of a data unit, and are selected from a small group of categories. The categorical variables can have the type \"object\" or \"int64\". A good way to visualize categorical variables is by using boxplots.</p>\n"
   ]
  },
  {
   "cell_type": "markdown",
   "id": "72b1b08d-9d3e-467c-b35b-21efc742307f",
   "metadata": {},
   "source": [
    "Let's look at the relationship between \"Integrative Cluster\" and \"Overall Survival (Years)\".\n"
   ]
  },
  {
   "cell_type": "code",
   "execution_count": null,
   "id": "ec980d7c-8da9-479c-be32-7f0866470c93",
   "metadata": {},
   "outputs": [],
   "source": [
    "sns.boxplot(x=\"Integrative Cluster\", y=\"Overall Survival (Years)\", data=df)"
   ]
  },
  {
   "cell_type": "markdown",
   "id": "b208df88-6dba-48d7-86e6-dcbf247a9753",
   "metadata": {},
   "source": [
    "<p>We see that the distributions of Overall Survival (Years) between the different Integrative Cluster categories have a significant overlap, so Integrative Cluster would not be a good predictor of Overall Survival (Years). If you have many points that are distributed along the Y axis in your boxplot, it suggests that the data in that column has a large spread or variability. It can be seen in cluster \"8\" that we have different from others.\n",
    "\n",
    "Let's examine engine \"Tumor Stage\" and \"Patient's Vital Status - transformed\":</p>\n"
   ]
  },
  {
   "cell_type": "code",
   "execution_count": null,
   "id": "54d00024-42d0-4f97-af6e-a6875075ce17",
   "metadata": {},
   "outputs": [],
   "source": [
    "sns.boxplot(x=\"Tumor Stage\", y=\"Patient's Vital Status - transformed\", data=df)"
   ]
  },
  {
   "cell_type": "markdown",
   "id": "05622cfa-1f4c-4fe7-9bd3-aebd587ba4a2",
   "metadata": {},
   "source": [
    "<p>Here we see that the categories are potentially distributed well, but with stages 0 and 4 there may be a question. Stage 0 is the lightest form of the tumor, so its mortality is the lowest, stage 4 is the most advanced stage of the tumor, so its survival rate is the lowest.</p>\n"
   ]
  },
  {
   "cell_type": "markdown",
   "id": "1cc30986-aada-415c-80ca-71a5227146fe",
   "metadata": {},
   "source": [
    "Let's examine \"Nottingham prognostic index-binned\" and \"Overall Survival (Years)\".\n"
   ]
  },
  {
   "cell_type": "code",
   "execution_count": null,
   "id": "e3487949-47fa-4fb4-a1b5-d2fb940acde6",
   "metadata": {},
   "outputs": [],
   "source": [
    "sns.boxplot(x=\"Nottingham prognostic index-binned\", y=\"Overall Survival (Years)\", data=df)"
   ]
  },
  {
   "cell_type": "markdown",
   "id": "b1d44648-7025-437c-85ac-640be1671cdc",
   "metadata": {},
   "source": [
    "<p>Here we see that the distribution of Overall Survival (Years) between the different Nottingham prognostic index-binned categories differs. As such, Nottingham prognostic index-binned could potentially be a predictor of Overall Survival (Years).</p>\n"
   ]
  },
  {
   "cell_type": "markdown",
   "id": "fdfb4513-bdca-4c95-b8d5-2d71f7071225",
   "metadata": {},
   "source": [
    "<h2 id=\"discriptive_statistics\">3. Descriptive Statistical Analysis</h2>\n"
   ]
  },
  {
   "cell_type": "markdown",
   "id": "52920137-1d94-4c43-9717-c50d8210a2a7",
   "metadata": {},
   "source": [
    "<p>Let's first take a look at the variables by utilizing a description method.</p>\n",
    "\n",
    "<p>The <b>describe</b> function automatically computes basic statistics for all continuous variables. Any NaN values are automatically skipped in these statistics.</p>\n",
    "\n",
    "This will show:\n",
    "\n",
    "<ul>\n",
    "    <li>the count of that variable</li>\n",
    "    <li>the mean</li>\n",
    "    <li>the standard deviation (std)</li> \n",
    "    <li>the minimum value</li>\n",
    "    <li>the IQR (Interquartile Range: 25%, 50% and 75%)</li>\n",
    "    <li>the maximum value</li>\n",
    "<ul>\n"
   ]
  },
  {
   "cell_type": "markdown",
   "id": "2d6cb825-e1ae-4bbc-b69c-8db691074709",
   "metadata": {},
   "source": [
    "We can apply the method \"describe\" as follows:\n"
   ]
  },
  {
   "cell_type": "code",
   "execution_count": null,
   "id": "2e25b19e-5a34-4bfe-8593-efc4aee2b6ae",
   "metadata": {},
   "outputs": [],
   "source": [
    "df.describe()"
   ]
  },
  {
   "cell_type": "markdown",
   "id": "8521b969-6bce-4d44-8db5-b0788ff25294",
   "metadata": {},
   "source": [
    "The default setting of \"describe\" skips variables of type object. We can apply the method \"describe\" on the variables of type 'object' as follows:\n"
   ]
  },
  {
   "cell_type": "code",
   "execution_count": null,
   "id": "fd003a0d-bb42-4f04-ae10-841d7bd5caba",
   "metadata": {},
   "outputs": [],
   "source": [
    "df.describe(include=['object'])"
   ]
  },
  {
   "cell_type": "markdown",
   "id": "44d95cf6-91c2-4a27-bcac-f4d868d83151",
   "metadata": {},
   "source": [
    "<h3>Value Counts</h3>\n"
   ]
  },
  {
   "cell_type": "markdown",
   "id": "fb5f4c74-0394-42f4-87ec-b856b4504cfb",
   "metadata": {},
   "source": [
    "<p>Value counts is a good way of understanding how many units of each characteristic/variable we have. We can apply the \"value_counts\" method on the column \"Radio Therapy\". Don’t forget the method \"value_counts\" only works on pandas series, not pandas dataframes. As a result, we only include one bracket <code>df['Radio Therapy']</code>, not two brackets <code>df[['Radio Therapy']]</code>.</p>\n"
   ]
  },
  {
   "cell_type": "code",
   "execution_count": null,
   "id": "62ed6f14-b999-4590-9b66-a59490a5f91b",
   "metadata": {},
   "outputs": [],
   "source": [
    "df['Radio Therapy'].value_counts()"
   ]
  },
  {
   "cell_type": "markdown",
   "id": "f0ac0360-3d60-4c24-9886-0cef7a77a260",
   "metadata": {},
   "source": [
    "We can convert the series to a dataframe as follows:\n"
   ]
  },
  {
   "cell_type": "code",
   "execution_count": null,
   "id": "c8c218ef-6c25-4c4a-8643-ffef20de8fe5",
   "metadata": {},
   "outputs": [],
   "source": [
    "df['Radio Therapy'].value_counts().to_frame()"
   ]
  },
  {
   "cell_type": "markdown",
   "id": "7973d664-fe2e-44d7-880f-8e7a0487c609",
   "metadata": {},
   "source": [
    "Let's repeat the above steps but save the results to the dataframe \"radio_therapy_counts\" and rename the column  'Radio Therapy' to 'value_counts'.\n"
   ]
  },
  {
   "cell_type": "code",
   "execution_count": null,
   "id": "cfb1c498-2c54-4aba-98dd-b87c8f80464c",
   "metadata": {},
   "outputs": [],
   "source": [
    "radio_therapy_counts = df['Radio Therapy'].value_counts().to_frame()\n",
    "radio_therapy_counts.rename(columns={'Radio Therapy': 'value_counts'}, inplace=True)\n",
    "radio_therapy_counts"
   ]
  },
  {
   "cell_type": "markdown",
   "id": "bcfc7119-302b-495b-b9f8-e6ade92e3856",
   "metadata": {},
   "source": [
    "Now let's rename the index to 'Radio Therapy':\n"
   ]
  },
  {
   "cell_type": "code",
   "execution_count": null,
   "id": "8f1b222e-006c-4a42-b0ac-fc8b3dccd812",
   "metadata": {},
   "outputs": [],
   "source": [
    "radio_therapy_counts.index.name = 'Radio Therapy'\n",
    "radio_therapy_counts"
   ]
  },
  {
   "cell_type": "markdown",
   "id": "9d04ffce-80a2-4b1c-947e-172088a2d769",
   "metadata": {},
   "source": [
    "We can repeat the above process for the variable 'Tumor Stage'.\n"
   ]
  },
  {
   "cell_type": "code",
   "execution_count": null,
   "id": "108cfe35-cfef-4a0b-b7d5-bf0ad052d53c",
   "metadata": {},
   "outputs": [],
   "source": [
    "# Tumor Stage as variable\n",
    "engine_loc_counts = df['Tumor Stage'].value_counts().to_frame()\n",
    "engine_loc_counts.rename(columns={'Tumor Stage': 'value_counts'}, inplace=True)\n",
    "engine_loc_counts.index.name = 'Tumor Stage'\n",
    "engine_loc_counts.head(10)"
   ]
  },
  {
   "cell_type": "markdown",
   "id": "e1f17820-6473-478d-a6e2-4456dd2f4e08",
   "metadata": {},
   "source": [
    "<p>After examining the value counts of the Tumor Stage, we see that Tumor Stage would not be a good predictor variable for the Patient's Vital Status. This is because we only have 11 patiets with 4th Tumor Stage and 24 patients with 0 Tumor Stage, so this result is skewed. Thus, we are not able to draw any conclusions about the Tumor Stage.</p>\n"
   ]
  },
  {
   "cell_type": "markdown",
   "id": "6619d799-1e2e-41fa-bf28-e1d124f9582d",
   "metadata": {},
   "source": [
    "<h2 id=\"basic_grouping\">4. Basics of Grouping</h2>\n"
   ]
  },
  {
   "cell_type": "markdown",
   "id": "795caf49-4e37-4714-803a-ef3f0809ea72",
   "metadata": {},
   "source": [
    "<p>The \"groupby\" method groups data by different categories. The data is grouped based on one or several variables, and analysis is performed on the individual groups.</p>\n",
    "\n",
    "<p>For example, let's group by the variable \"Nottingham prognostic index\". We see that there are 7 different categories of Nottingham prognostic index.</p>\n"
   ]
  },
  {
   "cell_type": "code",
   "execution_count": null,
   "id": "b86b5b22-c603-4b36-9603-2fa4dfa28db7",
   "metadata": {},
   "outputs": [],
   "source": [
    "df['Nottingham prognostic index'].unique()"
   ]
  },
  {
   "cell_type": "markdown",
   "id": "21ad1fdc-7c40-48a7-9cb6-7e7ebdef61dc",
   "metadata": {},
   "source": [
    "<p>If we want to know, on average, which type of Nottingham prognostic index is most valuable, we can group \"Nottingham prognostic index\" and then average them.</p>\n",
    "\n",
    "<p>We can select the columns 'Radio Therapy', 'Nottingham prognostic index' and 'Patient's Vital Status - transformed', then assign it to the variable \"df_group_one\".</p>\n"
   ]
  },
  {
   "cell_type": "code",
   "execution_count": null,
   "id": "393d13bd-24b2-4c7f-af28-047b3bb3a2eb",
   "metadata": {},
   "outputs": [],
   "source": [
    "df_group_one = df[['Radio Therapy','Nottingham prognostic index',\"Patient's Vital Status - transformed\"]]"
   ]
  },
  {
   "cell_type": "markdown",
   "id": "02e75dcd-f7ca-4f69-8666-af7488ddb792",
   "metadata": {},
   "source": [
    "We can then calculate the average Patient's Vital Status for each of the different categories of data.\n"
   ]
  },
  {
   "cell_type": "code",
   "execution_count": null,
   "id": "7a128424-1ea4-4062-ace8-4f0372e33cdd",
   "metadata": {},
   "outputs": [],
   "source": [
    "# grouping results\n",
    "df_group_one = df_group_one.groupby(['Radio Therapy'],as_index=False).mean()\n",
    "df_group_one"
   ]
  },
  {
   "cell_type": "markdown",
   "id": "1844502f-0871-4bd9-9654-4af2ca6e0781",
   "metadata": {},
   "source": [
    "<p>From our data, it seems \"True\" Radio Therapy are, on average, the highest survival rate.</p>\n",
    "\n",
    "<p>You can also group by multiple variables. For example, let's group by both 'Radio Therapy' and 'Nottingham prognostic index'. This groups the dataframe by the unique combination of 'Radio Therapy' and 'Nottingham prognostic index'. We can store the results in the variable 'grouped_test1'.</p>\n"
   ]
  },
  {
   "cell_type": "code",
   "execution_count": null,
   "id": "b13e40c8-58d1-477a-a8ad-cad2395edba5",
   "metadata": {},
   "outputs": [],
   "source": [
    "# grouping results\n",
    "df_gptest = df[['Radio Therapy','Nottingham prognostic index',\"Patient's Vital Status - transformed\"]]\n",
    "grouped_test1 = df_gptest.groupby(['Radio Therapy','Nottingham prognostic index'],as_index=False).mean()\n",
    "grouped_test1"
   ]
  },
  {
   "cell_type": "markdown",
   "id": "62840c33-b7b0-446e-8465-a363b18ea229",
   "metadata": {},
   "source": [
    "<p>This grouped data is much easier to visualize when it is made into a pivot table. A pivot table is like an Excel spreadsheet, with one variable along the column and another along the row. We can convert the dataframe to a pivot table using the method \"pivot\" to create a pivot table from the groups.</p>\n",
    "\n",
    "<p>In this case, we will leave the Radio Therapy variable as the rows of the table, and pivot Nottingham prognostic index to become the columns of the table:</p>\n"
   ]
  },
  {
   "cell_type": "code",
   "execution_count": null,
   "id": "e4dbb800-5c2e-4155-b99a-74713679f391",
   "metadata": {},
   "outputs": [],
   "source": [
    "grouped_pivot = grouped_test1.pivot(index='Radio Therapy',columns='Nottingham prognostic index')\n",
    "grouped_pivot"
   ]
  },
  {
   "cell_type": "markdown",
   "id": "a7b9d214-1147-42b3-9ebd-4ac6e8abedd1",
   "metadata": {},
   "source": [
    "<p>Often, we won't have data for some of the pivot cells. We can fill these missing cells with empty value, but any other value could potentially be used as well. It should be mentioned that missing data is quite a complex subject and is an entire course on its own.</p>\n"
   ]
  },
  {
   "cell_type": "code",
   "execution_count": null,
   "id": "bbca4836-04ef-41f3-8480-d8bb90f44794",
   "metadata": {},
   "outputs": [],
   "source": [
    "grouped_pivot = grouped_pivot.fillna('') #fill missing values with empty value\n",
    "grouped_pivot"
   ]
  },
  {
   "cell_type": "markdown",
   "id": "19c5a8e5-eecc-4d60-9e61-943f9d4689a3",
   "metadata": {},
   "source": [
    "<div class=\"alert alert-danger alertdanger\" style=\"margin-top: 20px\">\n",
    "<h1>Question 4:</h1>\n",
    "\n",
    "<p>Use the \"groupby\" function to find the average \"Patient's Vital Status\" of each patient based on \"Nottingham prognostic index\".</p>\n",
    "</div>\n"
   ]
  },
  {
   "cell_type": "code",
   "execution_count": null,
   "id": "18df5bab-f65e-468e-807b-b76346b7a24f",
   "metadata": {},
   "outputs": [],
   "source": [
    "# Write your code below and press Shift+Enter to execute \n"
   ]
  },
  {
   "cell_type": "markdown",
   "id": "71b99e87-1a79-4442-b596-26df71d81c33",
   "metadata": {},
   "source": [
    "<details><summary>Click here for the solution</summary>\n",
    "\n",
    "```python\n",
    "# grouping results\n",
    "df_gptest2 = df[['Nottingham prognostic index',\"Patient's Vital Status - transformed\"]]\n",
    "grouped_test_bodystyle = df_gptest2.groupby(['Nottingham prognostic index'],as_index= False).mean()\n",
    "grouped_test_bodystyle\n",
    "\n",
    "```\n",
    "\n",
    "</details>\n"
   ]
  },
  {
   "cell_type": "markdown",
   "id": "b2553ae4-242e-4857-8a4c-dcf0020f225b",
   "metadata": {},
   "source": [
    "<h4>Variables: Radio Therapy and Nottingham prognostic index vs. Patient's Vital Status</h4>\n"
   ]
  },
  {
   "cell_type": "markdown",
   "id": "e98fd67b-bb11-4e49-858d-cdb18849c8b2",
   "metadata": {},
   "source": [
    "Let's use a heat map to visualize the relationship between Radio Therapy and Nottingham prognostic index vs Patient's Vital Status.\n"
   ]
  },
  {
   "cell_type": "code",
   "execution_count": null,
   "id": "4b8c1f4c-1ff2-4cad-93e3-a1466d51ee18",
   "metadata": {},
   "outputs": [],
   "source": [
    "#use the grouped results\n",
    "grouped_pivot = grouped_test1.pivot(index='Radio Therapy',columns='Nottingham prognostic index').fillna(0)\n",
    "plt.pcolor(grouped_pivot, cmap='RdBu')\n",
    "plt.colorbar()\n",
    "plt.show()"
   ]
  },
  {
   "cell_type": "markdown",
   "id": "9455b875-6e2c-49bd-82ed-3f63fdbd6266",
   "metadata": {},
   "source": [
    "<p>The heatmap plots the target variable (Patient's Vital Status) proportional to colour with respect to the variables 'Radio Therapy' and 'Nottingham prognostic index' on the vertical and horizontal axis, respectively. This allows us to visualize how the Patient's Vital Status is related to 'Radio Therapy' and 'Nottingham prognostic index'.</p>\n",
    "\n",
    "<p>The default labels convey no useful information to us. Let's change that:</p>\n"
   ]
  },
  {
   "cell_type": "code",
   "execution_count": null,
   "id": "a75f1021-2970-4cdb-b188-8cd6018ee53e",
   "metadata": {},
   "outputs": [],
   "source": [
    "fig, ax = plt.subplots()\n",
    "im = ax.pcolor(grouped_pivot, cmap='RdBu')\n",
    "\n",
    "#label names\n",
    "row_labels = grouped_pivot.columns.levels[1]\n",
    "col_labels = grouped_pivot.index\n",
    "\n",
    "#move ticks and labels to the center\n",
    "ax.set_xticks(np.arange(grouped_pivot.shape[1]) + 0.5, minor=False)\n",
    "ax.set_yticks(np.arange(grouped_pivot.shape[0]) + 0.5, minor=False)\n",
    "\n",
    "#insert labels\n",
    "ax.set_xticklabels(row_labels, minor=False)\n",
    "ax.set_yticklabels(col_labels, minor=False)\n",
    "\n",
    "#rotate label if too long\n",
    "plt.xticks(rotation=90)\n",
    "\n",
    "fig.colorbar(im)\n",
    "plt.show()"
   ]
  },
  {
   "cell_type": "markdown",
   "id": "bdbf0caa-37bc-441c-997a-fc456f30d217",
   "metadata": {},
   "source": [
    "<p>Visualization is very important in data science, and Python visualization packages provide great freedom. We will go more in-depth in a separate Python visualizations course.</p>\n",
    "\n",
    "<p>The main question we want to answer in this module is, \"What are the main characteristics which have the most impact on the Patient's Vital Status?\".</p>\n",
    "\n",
    "<p>To get a better measure of the important characteristics, we look at the correlation of these variables with the Patient's Vital Status. In other words: how is the Patient's Vital Status dependent on this variable?</p>\n"
   ]
  },
  {
   "cell_type": "markdown",
   "id": "ce91035a-44f1-4211-8d0e-1387680bba69",
   "metadata": {},
   "source": [
    "<h2 id=\"correlation_causation\">5. Correlation and Causation</h2>\n"
   ]
  },
  {
   "cell_type": "markdown",
   "id": "29b6e838-0380-41b7-b10b-8fbf19323f5e",
   "metadata": {},
   "source": [
    "<p><b>Correlation</b>: a measure of the extent of interdependence between variables.</p>\n",
    "\n",
    "<p><b>Causation</b>: the relationship between cause and effect between two variables.</p>\n",
    "\n",
    "<p>It is important to know the difference between these two. Correlation does not imply causation. Determining correlation is much simpler  the determining causation as causation may require independent experimentation.</p>\n"
   ]
  },
  {
   "cell_type": "markdown",
   "id": "fcab5872-4349-422a-bd29-277d18feb908",
   "metadata": {},
   "source": [
    "<p><b>Pearson Correlation</b></p>\n",
    "<p>The Pearson Correlation measures the linear dependence between two variables X and Y.</p>\n",
    "<p>The resulting coefficient is a value between -1 and 1 inclusive, where:</p>\n",
    "<ul>\n",
    "    <li><b>1</b>: Perfect positive linear correlation.</li>\n",
    "    <li><b>0</b>: No linear correlation, the two variables most likely do not affect each other.</li>\n",
    "    <li><b>-1</b>: Perfect negative linear correlation.</li>\n",
    "</ul>\n"
   ]
  },
  {
   "cell_type": "markdown",
   "id": "659c270b-7caf-4b00-9c93-a068450a5e5a",
   "metadata": {},
   "source": [
    "<p>Pearson Correlation is the default method of the function \"corr\". Like before, we can calculate the Pearson Correlation of the of the 'int64' or 'float64'  variables.</p>\n"
   ]
  },
  {
   "cell_type": "code",
   "execution_count": null,
   "id": "07e13e63-ea62-42ea-9cce-64ad0520ce4b",
   "metadata": {},
   "outputs": [],
   "source": [
    "df.corr()"
   ]
  },
  {
   "cell_type": "markdown",
   "id": "165a4f29-ba7f-41fb-906f-260d68cb0e17",
   "metadata": {},
   "source": [
    "Sometimes we would like to know the significant of the correlation estimate.\n"
   ]
  },
  {
   "cell_type": "markdown",
   "id": "e1d59683-f34b-4744-8b2b-34bb3a44bf5d",
   "metadata": {},
   "source": [
    "<b>P-value</b>\n",
    "\n",
    "<p>What is this P-value? The P-value is the probability value that the correlation between these two variables is statistically significant. Normally, we choose a significance level of 0.05, which means that we are 95% confident that the correlation between the variables is significant.</p>\n",
    "\n",
    "By convention, when the\n",
    "\n",
    "<ul>\n",
    "    <li>p-value is $<$ 0.001: we say there is strong evidence that the correlation is significant.</li>\n",
    "    <li>the p-value is $<$ 0.05: there is moderate evidence that the correlation is significant.</li>\n",
    "    <li>the p-value is $<$ 0.1: there is weak evidence that the correlation is significant.</li>\n",
    "    <li>the p-value is $>$ 0.1: there is no evidence that the correlation is significant.</li>\n",
    "</ul>\n"
   ]
  },
  {
   "cell_type": "markdown",
   "id": "4a719972-b848-4fdb-9270-928cac416dcf",
   "metadata": {},
   "source": [
    "<h3>Each column vs. Patient's Vital Status</h3>\n"
   ]
  },
  {
   "cell_type": "markdown",
   "id": "11a46fc9-1aaf-40d7-b380-4c4d6c999cb0",
   "metadata": {},
   "source": [
    "Let's calculate the  Pearson Correlation Coefficient and P-value of different columns of float and int type and 'Patient's Vital Status'.\n"
   ]
  },
  {
   "cell_type": "code",
   "execution_count": null,
   "id": "fac2eba2-2264-4d02-9cdf-dea61b79ba91",
   "metadata": {},
   "outputs": [],
   "source": [
    "columns = df.select_dtypes(include=['int', 'float']).columns\n",
    "columns = columns[:-1]\n",
    "\n",
    "for c in columns:\n",
    "    pearson_coef, p_value = stats.pearsonr(df[c], df[\"Patient's Vital Status - transformed\"])\n",
    "    print(c, \":\\n Pearson Correlation Coefficient is\", round(pearson_coef, 2), \" with a P-value of P=\", \"{:.2e}\".format(p_value))\n"
   ]
  },
  {
   "cell_type": "markdown",
   "id": "224e9f30-0a51-46ca-a9f4-41b38b797e79",
   "metadata": {},
   "source": [
    "<h4>Conclusion:</h4>\n",
    "<p>Since the p-value is $<$ 0.001, the correlation between different columns and Patient's Vital Status is statistically significant, although the linear relationship isn't extremely strong. These columns are 'Overall Survival (Months)', 'Relapse Free Status (Months)', 'Relapse Free Status-Not Recurred', 'Relapse Free Status-Recurred', 'Lymph nodes examined positive'.\n",
    "</p>\n"
   ]
  },
  {
   "cell_type": "markdown",
   "id": "64181989-3f45-4896-8f2b-64cb6d1f1492",
   "metadata": {},
   "source": [
    "<h2 id=\"anova\">6. ANOVA</h2>\n"
   ]
  },
  {
   "cell_type": "markdown",
   "id": "b7898221-4a87-4b9c-9e0b-ae26d230f3d3",
   "metadata": {},
   "source": [
    "<h3>ANOVA: Analysis of Variance</h3>\n",
    "<p>The Analysis of Variance  (ANOVA) is a statistical method used to test whether there are significant differences between the means of two or more groups. ANOVA returns two parameters:</p>\n",
    "\n",
    "<p><b>F-test score</b>: ANOVA assumes the means of all groups are the same, calculates how much the actual means deviate from the assumption, and reports it as the F-test score. A larger score means there is a larger difference between the means.</p>\n",
    "\n",
    "<p><b>P-value</b>:  P-value tells how statistically significant our calculated score value is.</p>\n",
    "\n",
    "<p>If our price variable is strongly correlated with the variable we are analyzing, we expect ANOVA to return a sizeable F-test score and a small p-value.</p>\n"
   ]
  },
  {
   "cell_type": "markdown",
   "id": "829f7581-8c89-4215-ada5-86ecce05fea8",
   "metadata": {},
   "source": [
    "<h3>Nottingham prognostic index</h3>\n"
   ]
  },
  {
   "cell_type": "markdown",
   "id": "ff346aa3-ceee-4d34-aa0e-000a0d59a500",
   "metadata": {},
   "source": [
    "<p>Since ANOVA analyzes the difference between different groups of the same variable, the groupby function will come in handy. Because the ANOVA algorithm averages the data automatically, we do not need to take the average before hand.</p>\n",
    "\n",
    "<p>To see if different types of 'Nottingham prognostic index' impact  'Patient's Vital Status', we group the data.</p>\n"
   ]
  },
  {
   "cell_type": "code",
   "execution_count": null,
   "id": "7a5c14a8-422d-4730-90ae-3ba0d9555c39",
   "metadata": {},
   "outputs": [],
   "source": [
    "grouped_test2=df_gptest[['Nottingham prognostic index', \"Patient's Vital Status - transformed\"]].groupby(['Nottingham prognostic index'])\n",
    "grouped_test2.head(2)"
   ]
  },
  {
   "cell_type": "code",
   "execution_count": null,
   "id": "a4d2754a-b279-46b8-b63c-21d3ac59abed",
   "metadata": {},
   "outputs": [],
   "source": [
    "df_gptest"
   ]
  },
  {
   "cell_type": "markdown",
   "id": "f305e1a6-a558-47e5-bdb4-2b95ba15b528",
   "metadata": {},
   "source": [
    "We can obtain the values of the method group using the method \"get_group\".\n"
   ]
  },
  {
   "cell_type": "code",
   "execution_count": null,
   "id": "23c27c2a-027a-4194-9c2b-f173598260ab",
   "metadata": {},
   "outputs": [],
   "source": [
    "grouped_test2.get_group(1)[\"Patient's Vital Status - transformed\"]"
   ]
  },
  {
   "cell_type": "markdown",
   "id": "8aaa6738-4419-4a05-979e-f40f9a15a529",
   "metadata": {},
   "source": [
    "We can use the function 'f_oneway' in the module 'stats' to obtain the <b>F-test score</b> and <b>P-value</b>.\n"
   ]
  },
  {
   "cell_type": "code",
   "execution_count": null,
   "id": "bcc4f920-7b9a-4100-8909-aa2cdd08dc72",
   "metadata": {},
   "outputs": [],
   "source": [
    "# ANOVA\n",
    "f_val, p_val = stats.f_oneway(grouped_test2.get_group(1)[\"Patient's Vital Status - transformed\"], grouped_test2.get_group(2)[\"Patient's Vital Status - transformed\"], grouped_test2.get_group(3)[\"Patient's Vital Status - transformed\"], grouped_test2.get_group(4)[\"Patient's Vital Status - transformed\"], grouped_test2.get_group(5)[\"Patient's Vital Status - transformed\"], grouped_test2.get_group(6)[\"Patient's Vital Status - transformed\"], grouped_test2.get_group(7)[\"Patient's Vital Status - transformed\"])\n",
    " \n",
    "print( \"ANOVA results: F=\", round(f_val, 2), \", P =\", \"{:.2e}\".format(p_value))"
   ]
  },
  {
   "cell_type": "markdown",
   "id": "9a15344a-aad8-43ea-95ec-8884272ed39b",
   "metadata": {},
   "source": [
    "This is a great result with a large F-test score showing a strong correlation and a P-value of almost 0 implying almost certain statistical significance. But does this mean all seven tested groups are all this highly correlated?\n",
    "\n",
    "Let's examine them separately.\n"
   ]
  },
  {
   "cell_type": "markdown",
   "id": "21dae4db-222e-41ce-8433-d02cdbd91b85",
   "metadata": {},
   "source": [
    "To compare pairs of groups we can use `itertools`"
   ]
  },
  {
   "cell_type": "code",
   "execution_count": null,
   "id": "f26c9493-a19c-46f4-b7e1-876776696666",
   "metadata": {},
   "outputs": [],
   "source": [
    "values = [1, 2, 3, 4, 5, 6, 7]\n",
    "for a, b in itertools.combinations(values, 2):\n",
    "    f_val, p_val = stats.f_oneway(grouped_test2.get_group(a)[\"Patient's Vital Status - transformed\"], grouped_test2.get_group(b)[\"Patient's Vital Status - transformed\"])\n",
    "    print(a, \"and\", b, \"ANOVA results: F=\", round(f_val, 2), \", P =\", \"{:.2e}\".format(p_val))"
   ]
  },
  {
   "cell_type": "markdown",
   "id": "df49f48d-a01a-4fc3-8296-df545aeecd35",
   "metadata": {},
   "source": [
    "Results represent that some of separately compared pairs of groups have different F and P value from other pairs. So only some of them are highly correlated"
   ]
  },
  {
   "cell_type": "markdown",
   "id": "d1656c7d-a7b5-4ab2-ad80-1c925799bbec",
   "metadata": {},
   "source": [
    "<h3>Conclusion: Important Variables</h3>\n"
   ]
  },
  {
   "cell_type": "markdown",
   "id": "d5a89eb2-ee64-4712-9fa4-080da1563ce5",
   "metadata": {},
   "source": [
    "<p>We now have a better idea of what our data looks like and which variables are important to take into account when predicting the Patient's Vital Status. We have narrowed it down to the following variables:</p>\n",
    "\n",
    "Continuous numerical variables:\n",
    "\n",
    "<ul>\n",
    "    <li>Overall Survival (Months)</li>\n",
    "    <li>Relapse Free Status (Months)</li>\n",
    "    <li>Relapse Free Status-Not Recurred</li>\n",
    "    <li>Relapse Free Status-Recurred</li>\n",
    "    <li>Lymph nodes examined positive</li>\n",
    "    <li>Nottingham prognostic index</li>\n",
    "    <li>Tumor Stage</li>\n",
    "</ul>\n",
    "\n",
    "Categorical variables:\n",
    "\n",
    "<ul>\n",
    "    <li>Pam50 + Claudin-low subtype</li>\n",
    "    <li>Integrative Cluster</li>\n",
    "    <li>Overall Survival Status</li>\n",
    "</ul>\n",
    "\n",
    "<p>As we now move into building machine learning models to automate our analysis, feeding the model with variables that meaningfully affect our target variable will improve our model's prediction performance.</p>\n"
   ]
  },
  {
   "cell_type": "markdown",
   "id": "46dd5e0f-b0c8-470b-9cef-3bd7345d9a5a",
   "metadata": {},
   "source": [
    "Before saving the DataSet, let's remove the unnecessary columns.\n"
   ]
  },
  {
   "cell_type": "code",
   "execution_count": null,
   "id": "46c3c5ee-fe4a-4dc7-9a6d-94b4c2c7d680",
   "metadata": {},
   "outputs": [],
   "source": [
    "df[\"Cancer Type\"].value_counts()"
   ]
  },
  {
   "cell_type": "markdown",
   "id": "4f0bb83e-5f58-46b8-af5b-7352a807cccf",
   "metadata": {},
   "source": [
    "In this particular case, \"Breast Sarcoma\" only appears three times out of a total of 2509 cases, which is less than 0.1% of the total data. This means that it is unlikely that this value will have a significant impact on any predictions or decisions. Therefore, deleting this column may simplify our analysis and improve its accuracy and interpretability.\n",
    "We do not need \"Overall Survival Status\", because our predictive column is \"Patient's Vital Status\".\n",
    "The \"Sex\" column can also be removed because all patients are female."
   ]
  },
  {
   "cell_type": "code",
   "execution_count": null,
   "id": "d6eac355-c364-45ec-a1e3-9800e1487e81",
   "metadata": {},
   "outputs": [],
   "source": [
    "df = df.drop([\"Cancer Type\", \"Overall Survival Status\", \"Sex\", \"Patient\\'s Vital Status - transformed\"], axis=1)"
   ]
  },
  {
   "cell_type": "markdown",
   "id": "87451e05-500c-4ac6-8447-2dc85a948cad",
   "metadata": {},
   "source": [
    "Save the new csv:"
   ]
  },
  {
   "cell_type": "code",
   "execution_count": null,
   "id": "14cf214d-fd15-4ce3-b2ad-bddf6e61b56a",
   "metadata": {},
   "outputs": [],
   "source": [
    "df.to_csv('clean_df.csv')"
   ]
  },
  {
   "cell_type": "markdown",
   "id": "1383de6e-4c14-4f6e-92e4-d29087fe191c",
   "metadata": {},
   "source": [
    "### Thank you for completing this lab!\n",
    "\n",
    "## Author\n",
    "\n",
    "<a href=\"https://author.skills.network/instructors/dmytro_shliakhovskyi\">Dmytro Shliakhovskyi</a>\n",
    "\n",
    "### Other Contributors\n",
    "\n",
    "<a href=\"https://author.skills.network/instructors/yaroslav_vyklyuk_2\">Prof. Yaroslav Vyklyuk, DrSc, PhD</a>\n",
    "\n",
    "<a href=\"https://author.skills.network/instructors/nataliya_boyko\">Ass. Prof. Nataliya Boyko, PhD</a>\n",
    "\n",
    "\n",
    "## Change Log\n",
    "\n",
    "| Date (YYYY-MM-DD) | Version | Changed By | Change Description                                         |\n",
    "| ----------------- | ------- | ---------- | ---------------------------------------------------------- |\n",
    "|    2023-03-11     | 01 | Dmytro Shliakhovkyi | Lab created |\n",
    "\n",
    "\n",
    "\n",
    "<hr>\n",
    "\n",
    "## <h3 align=\"center\"> © IBM Corporation 2020. All rights reserved. <h3/>\n"
   ]
  }
 ],
 "metadata": {
  "kernelspec": {
   "display_name": "Python 3 (ipykernel)",
   "language": "python",
   "name": "python3"
  },
  "language_info": {
   "codemirror_mode": {
    "name": "ipython",
    "version": 3
   },
   "file_extension": ".py",
   "mimetype": "text/x-python",
   "name": "python",
   "nbconvert_exporter": "python",
   "pygments_lexer": "ipython3",
   "version": "3.10.9"
  }
 },
 "nbformat": 4,
 "nbformat_minor": 5
}
