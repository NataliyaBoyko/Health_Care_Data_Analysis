{
  "cells": [
    {
      "cell_type": "markdown",
      "id": "c0240487-fecc-478d-be88-6c8d534a9ffe",
      "metadata": {},
      "outputs": [],
      "source": [
        "<center>\n    <img src=\"https://cf-courses-data.s3.us.cloud-object-storage.appdomain.cloud/assets/logos/SN_web_lightmode.png\" width=\"300\" alt=\"SN_web_lightmode.png logo\"/>\n</center>\n\n# Investigation of diabetes patients readmission among US hospitals\n\n# Lab 3 Data Analysis with Python\n\nEstimated time needed: **30** minutes\n\n## Objectives\n\nAfter completing this lab you will be able to:\n\n*   Explore features or charecteristics to predict columns\n"
      ]
    },
    {
      "cell_type": "markdown",
      "id": "0ded874b-63e4-47a2-9bb4-47b1fe33db54",
      "metadata": {},
      "outputs": [],
      "source": [
        "<h2>Table of Contents</h2>\n\n<div class=\"alert alert-block alert-info\" style=\"margin-top: 20px\">\n<ol>\n    <li><a href=\"https://#import_data\">Import Data from Module</a></li>\n    <li><a href=\"https://#pattern_visualization\">Analyzing Individual Feature Patterns using Visualization</a></li>\n    <li><a href=\"https://#discriptive_statistics\">Descriptive Statistical Analysis</a></li>\n    <li><a href=\"https://#basic_grouping\">Basics of Grouping</a></li>\n    <li><a href=\"https://#correlation_causation\">Correlation and Causation</a></li>\n    <li><a href=\"https://#anova\">ANOVA</a></li>\n</ol>\n\n</div>\n\n<hr>\n"
      ]
    },
    {
      "cell_type": "markdown",
      "id": "4c697103-6b08-4d7e-9525-9bc176653e2c",
      "metadata": {},
      "outputs": [],
      "source": [
        "<h3>What are the main characteristics that have the most impact on the Readmitted column?</h3>\n"
      ]
    },
    {
      "cell_type": "markdown",
      "id": "43b2f946-5e14-40f5-bbaa-afe040413038",
      "metadata": {},
      "outputs": [],
      "source": [
        "<h2 id=\"import_data\">1. Import Data from Module 2</h2>\n"
      ]
    },
    {
      "cell_type": "markdown",
      "id": "9cf65229-1342-480d-b07a-939aa7321662",
      "metadata": {},
      "outputs": [],
      "source": [
        "To perform 3rd lab we will use created in 2nd lab DataSet."
      ]
    },
    {
      "cell_type": "markdown",
      "id": "027f4299-44dc-485d-920b-bd8450eaedb4",
      "metadata": {},
      "outputs": [],
      "source": [
        "<h4>Import needed libraries<h4>"
      ]
    },
    {
      "cell_type": "code",
      "id": "8d8345ef-b1b6-4aa7-baa3-5dad31aa851c",
      "metadata": {},
      "outputs": [],
      "source": [
        "!pip install dython"
      ]
    },
    {
      "cell_type": "markdown",
      "id": "eeff8ec9-e3ff-40ee-9cc1-db1c238e8b2b",
      "metadata": {},
      "outputs": [],
      "source": [
        "<div class=\"alert alert-danger alertdanger\" style=\"margin-top: 20px\">\nIf error appeared, please restart kernel and run this block again."
      ]
    },
    {
      "cell_type": "code",
      "id": "3b9702b0-4ece-4639-bbc1-db3e35667070",
      "metadata": {},
      "outputs": [],
      "source": [
        "import pandas as pd\nimport numpy as np\nimport matplotlib.pyplot as plt\nimport seaborn as sns\nimport sklearn as sklearn\nfrom dython.nominal import associations\nfrom scipy import stats\n%matplotlib inline"
      ]
    },
    {
      "cell_type": "markdown",
      "id": "9befd22c-8676-479d-888c-0f289251f8e7",
      "metadata": {},
      "outputs": [],
      "source": [
        "Now we will load the data and store it in dataframe `df`:"
      ]
    },
    {
      "cell_type": "markdown",
      "id": "7c936485-0480-4e08-9ac5-c58cfe816072",
      "metadata": {},
      "outputs": [],
      "source": [
        "This DataSet was hosted on IBM Cloud object. Click <a href=\"https://cocl.us/DA101EN_object_storage?utm_medium=Exinfluencer&utm_source=Exinfluencer&utm_content=000026UJ&utm_term=10006555&utm_id=NA-SkillsNetwork-Channel-SkillsNetworkCoursesIBMDeveloperSkillsNetworkDA0101ENSkillsNetwork20235326-2021-01-01\">HERE</a> for free storage.\n"
      ]
    },
    {
      "cell_type": "code",
      "id": "1b8d476a-e4af-4cc1-b71f-9ebea00ec024",
      "metadata": {},
      "outputs": [],
      "source": [
        "path='https://cf-courses-data.s3.us.cloud-object-storage.appdomain.cloud/IBMSkillsNetwork-GPXX0I3LEN/clean_df.csv'"
      ]
    },
    {
      "cell_type": "markdown",
      "id": "c5d8895b-816f-4de9-8f14-77c7012d94ad",
      "metadata": {},
      "outputs": [],
      "source": [
        "if you are running locally, please download the DataSet and change \"path\" to your downloaded DataSet."
      ]
    },
    {
      "cell_type": "code",
      "id": "ab962685-379f-4132-922f-2064e9143b7a",
      "metadata": {},
      "outputs": [],
      "source": [
        "df = pd.read_csv(path, index_col=0)\ndf.head()"
      ]
    },
    {
      "cell_type": "markdown",
      "id": "0b48bf60-27c6-4670-9be5-9c91a902c7ca",
      "metadata": {},
      "outputs": [],
      "source": [
        "<h2 id=\"pattern_visualization\">2. Analyzing Individual Feature Patterns Using Visualization</h2>\n"
      ]
    },
    {
      "cell_type": "markdown",
      "id": "54b967f5-b419-454b-8a5f-17280499742f",
      "metadata": {},
      "outputs": [],
      "source": [
        "<h4>How to choose the right visualization method?</h4>\n<p>When visualizing individual variables, it is important to first understand what type of variable you are dealing with. This will help us find the right visualization method for that variable.</p>"
      ]
    },
    {
      "cell_type": "code",
      "id": "3c8fafd2-a63b-41ca-aa68-44a4fa50fee9",
      "metadata": {},
      "outputs": [],
      "source": [
        "# list the data types for each column\nprint(df.dtypes)"
      ]
    },
    {
      "cell_type": "markdown",
      "id": "7aa8dfaa-9753-431c-a7db-e07e82e7d1b5",
      "metadata": {},
      "outputs": [],
      "source": [
        " <div class=\"alert alert-danger alertdanger\" style=\"margin-top: 20px\">\n<h1> Question  1: </h1>\n\n<b>What is the data type of the column \"Num Medications\"? </b>\n\n</div>\n"
      ]
    },
    {
      "cell_type": "code",
      "id": "64978676-1382-463b-8735-64ec255fc839",
      "metadata": {},
      "outputs": [],
      "source": [
        "# Write your code below and press Shift+Enter to execute"
      ]
    },
    {
      "cell_type": "markdown",
      "id": "4cb504ea-7484-4231-94f0-185de34e9b9f",
      "metadata": {},
      "outputs": [],
      "source": [
        "<details><summary>Click here for the solution</summary>\n\n```python\ndf['Num Medications'].dtypes\n```\n\n</details>\n"
      ]
    },
    {
      "cell_type": "markdown",
      "id": "b53caf8b-9b45-4cc6-b011-e06bebf912b3",
      "metadata": {},
      "outputs": [],
      "source": [
        "For example, we can calculate the correlation between variables  of type \"int64\" or \"float64\" using the method \"corr\".\nAlso, we can find association between objects/categories and correlation (int64 or float64) using associations from dython.nominal."
      ]
    },
    {
      "cell_type": "code",
      "id": "989958e5-d342-4cee-8c66-b30060570eed",
      "metadata": {},
      "outputs": [],
      "source": [
        "print(df.corr())"
      ]
    },
    {
      "cell_type": "markdown",
      "id": "c4ced2aa-da10-44fb-899c-02bb2fccb480",
      "metadata": {},
      "outputs": [],
      "source": [
        "The diagonal elements are always one; we will study correlation more precisely at the end of the notebook."
      ]
    },
    {
      "cell_type": "markdown",
      "id": "1d94c08c-3343-4cf8-a03c-26aa2fd7e067",
      "metadata": {},
      "outputs": [],
      "source": [
        " <div class=\"alert alert-danger alertdanger\" style=\"margin-top: 20px\">\n<h1> Question  2: </h1>\n\n<p>Find the correlation and association between \"Time In Hospital\", \"Num Procedures\", \"Age\", \"Num Medications\", \"Prescribed Diabetes Medication\",\"Insulin\",\"Readmitted\".</p>\n<p>Hint: if you would like to select those columns, use the following syntax: df[[\"Time In Hospital\",\"Num Procedures\", ...]].  </p>\n</div>"
      ]
    },
    {
      "cell_type": "code",
      "id": "eb997d52-3c7c-4f0e-bb9b-e55293eb765f",
      "metadata": {},
      "outputs": [],
      "source": [
        "# Write your code below and press Shift+Enter to execute"
      ]
    },
    {
      "cell_type": "markdown",
      "id": "ef28e1e4-8e2c-4471-a0f7-7188b374d21d",
      "metadata": {},
      "outputs": [],
      "source": [
        "<details><summary>Click here for the solution</summary>\n\n```python\n#example with .corr()\nprint(df[[\"Time In Hospital\",\"Num Procedures\"]].corr())\n#example with associations()\nprint(associations(df[['Time In Hospital','Num Procedures','Age', 'Num Medications', 'Prescribed Diabetes Medication','Insulin','Readmitted']]))\n\n```\n</details>"
      ]
    },
    {
      "cell_type": "markdown",
      "id": "9c1eb337-b513-4a97-8814-c0722f7ad52e",
      "metadata": {},
      "outputs": [],
      "source": [
        "As we can notice, most of the columns have values < 0.5, but there is nothing to be worried about. This is normal correlation for medical data, because it is difficult to predict."
      ]
    },
    {
      "cell_type": "markdown",
      "id": "8a1711c0-215c-4385-81fd-8a3aae805341",
      "metadata": {},
      "outputs": [],
      "source": [
        "<h2>Continuous Numerical Variables:</h2>\n\n<p>Continuous numerical variables are variables that may contain any value within some range. They can be of type \"int64\" or \"float64\". A great way to visualize these variables is by using scatterplots with fitted lines.</p>\n\n<p>In order to start understanding the (linear) relationship, we can use \"regplot\" which plots the scatterplot plus the fitted regression line for the data.</p>\n"
      ]
    },
    {
      "cell_type": "markdown",
      "id": "350c3bbd-d0f8-4056-ac2a-36863b8a7f4e",
      "metadata": {},
      "outputs": [],
      "source": [
        "Let's see several examples of different linear relationships:\n"
      ]
    },
    {
      "cell_type": "markdown",
      "id": "647eadfd-1070-4231-865d-622ebf2b2915",
      "metadata": {},
      "outputs": [],
      "source": [
        "<h3>Positive Linear Relationship</h4>\n"
      ]
    },
    {
      "cell_type": "markdown",
      "id": "7356a249-56cd-4b07-80e8-b50c86a579c2",
      "metadata": {},
      "outputs": [],
      "source": [
        "Let's find the scatterplot of \"Num Lab Procedures\" and \"Num Medications\".\n"
      ]
    },
    {
      "cell_type": "code",
      "id": "18c965e0-7f76-468f-8ca9-7fcc862bccc3",
      "metadata": {},
      "outputs": [],
      "source": [
        "sns.regplot(x=\"Num Lab Procedures\", y=\"Num Medications\", data=df, line_kws={\"color\": \"red\"})\nplt.ylim(0,)"
      ]
    },
    {
      "cell_type": "markdown",
      "id": "6893be15-09f8-4316-be1f-f6ef180febcf",
      "metadata": {},
      "outputs": [],
      "source": [
        "<p>As the Num Lab Procedures goes up, the Num Medications goes up: this indicates a positive direct correlation between these two variables.</p>\n"
      ]
    },
    {
      "cell_type": "markdown",
      "id": "be21aa3a-22e5-4681-9b6e-fa8dd5830955",
      "metadata": {},
      "outputs": [],
      "source": [
        "We can examine the correlation between 'Num Lab Procedures' and 'Num Medications' and see that it's approximately 0.26.\n"
      ]
    },
    {
      "cell_type": "code",
      "id": "11fa86c7-e06e-40ef-b1e5-c884822fa19a",
      "metadata": {},
      "outputs": [],
      "source": [
        "df[[\"Num Lab Procedures\",\"Num Medications\"]].corr()"
      ]
    },
    {
      "cell_type": "markdown",
      "id": "87592ce2-15af-43ad-bf70-a35ec20544ce",
      "metadata": {},
      "outputs": [],
      "source": [
        "Num Lab Procedures is a potential predictor variable of Num Medications. Let's find the scatterplot of \"Number Emergency\" and \"Num Lab Procedures\"."
      ]
    },
    {
      "cell_type": "code",
      "id": "d75b7315-01bd-462a-b6a1-1189d904ff04",
      "metadata": {},
      "outputs": [],
      "source": [
        "sns.regplot(x=\"Number Emergency\", y=\"Num Lab Procedures\", data=df, line_kws={\"color\": \"red\"})"
      ]
    },
    {
      "cell_type": "markdown",
      "id": "c793ba31-9525-4a68-8ed6-9093f01c73f4",
      "metadata": {},
      "outputs": [],
      "source": [
        "<p>As Number Emergency goes up, the Num Lab Procedures goes down: this indicates an inverse/negative relationship between these two variables. Number Emergency could potentially be a predictor of Num Lab Procedures.</p>"
      ]
    },
    {
      "cell_type": "markdown",
      "id": "f588d378-9883-46bf-99e4-477bd220c4d3",
      "metadata": {},
      "outputs": [],
      "source": [
        "We can examine the correlation between 'Number Emergency' and 'Num Lab Procedures' and see it's approximately -0.002252.\n"
      ]
    },
    {
      "cell_type": "code",
      "id": "c5ed46b3-2e6a-44f8-a9e5-a2e221cfd80f",
      "metadata": {},
      "outputs": [],
      "source": [
        "df[['Number Emergency', 'Num Lab Procedures']].corr()"
      ]
    },
    {
      "cell_type": "markdown",
      "id": "c0062866-410d-49ed-a7df-ed19ee665c8f",
      "metadata": {},
      "outputs": [],
      "source": [
        "<h3>Weak Linear Relationship</h3>\n"
      ]
    },
    {
      "cell_type": "markdown",
      "id": "28178b5b-1587-41f0-9f6d-c80e248f58a2",
      "metadata": {},
      "outputs": [],
      "source": [
        "Let's see if \"Age\" is a predictor variable of \"Weight\".\n"
      ]
    },
    {
      "cell_type": "code",
      "id": "0b4693e0-7705-425b-b6af-25d4c8b6668c",
      "metadata": {},
      "outputs": [],
      "source": [
        "associations(df[['Age','Weight']])"
      ]
    },
    {
      "cell_type": "markdown",
      "id": "9521c72b-72e8-4ad9-b1b7-12c4c2e9fac5",
      "metadata": {},
      "outputs": [],
      "source": [
        "<p>According to heatmap Age does not seem like a good predictor of the Weight at all."
      ]
    },
    {
      "cell_type": "markdown",
      "id": "f4ed8109-cb93-4396-9ce9-e9b8e9e112cd",
      "metadata": {},
      "outputs": [],
      "source": [
        "As we can notice the correlation between 'Age' and 'Weight' approximately 0.03.\n"
      ]
    },
    {
      "cell_type": "markdown",
      "id": "507da48d-7eab-4de0-addf-fd6cdf6bd98e",
      "metadata": {},
      "outputs": [],
      "source": [
        " <div class=\"alert alert-danger alertdanger\" style=\"margin-top: 20px\">\n<h1> Question  3 a): </h1>\n\n<p>Find the correlation  between x=\"Number Inpatient\" and y=\"Number Emergency\".</p>\n<p>Hint: if you would like to select those columns, use the following syntax: df[[\"Number Inpatient\",\"Number Emergency\"]].  </p>\n</div>\n"
      ]
    },
    {
      "cell_type": "code",
      "id": "15ece377-b91e-4c3c-a848-2ec1d79c0d66",
      "metadata": {},
      "outputs": [],
      "source": [
        "# Write your code below and press Shift+Enter to execute"
      ]
    },
    {
      "cell_type": "markdown",
      "id": "7fe13249-6b5a-4067-a09e-327220459a03",
      "metadata": {},
      "outputs": [],
      "source": [
        "<details><summary>Click here for the solution</summary>\n\n```python\ndf[['Number Inpatient', 'Number Emergency']].corr()\n\n```\n\n</details>\n"
      ]
    },
    {
      "cell_type": "markdown",
      "id": "a72ac289-a7b3-4fd0-b099-c6da509f186e",
      "metadata": {},
      "outputs": [],
      "source": [
        "<div class=\"alert alert-danger alertdanger\" style=\"margin-top: 20px\">\n<h1>Question  3 b):</h1>\n\n<p>Given the correlation results between \"Number Inpatient\" and \"Number Emergency\", do you expect a linear relationship?</p>\n<p>Verify your results using the function \"regplot()\".</p>\n</div>\n"
      ]
    },
    {
      "cell_type": "code",
      "id": "4a09ecda-7142-47e7-a903-2bd503564864",
      "metadata": {},
      "outputs": [],
      "source": [
        "# Write your code below and press Shift+Enter to execute"
      ]
    },
    {
      "cell_type": "markdown",
      "id": "65f662f2-47b2-4398-8c1a-2bf0eb044ee9",
      "metadata": {},
      "outputs": [],
      "source": [
        "<details><summary>Click here for the solution</summary>\n\n```python\n#There is a weak correlation between the variable 'Number Inpatient' and 'Number Emergency.' as such regression will not work well. We can see this using \"regplot\" to demonstrate this.\n#Code:\nsns.regplot(x=\"Number Inpatient\", y=\"Number Emergency\", data=df, line_kws={\"color\": \"red\"})\n\n```\n</details>\n"
      ]
    },
    {
      "cell_type": "markdown",
      "id": "52ab7343-6583-462e-beef-4da180edc2f0",
      "metadata": {},
      "outputs": [],
      "source": [
        "<h3>Categorical Variables</h3>\n\n<p>These are variables that describe a 'characteristic' of a data unit, and are selected from a small group of categories. The categorical variables can have the type \"object\" or \"int64\". A good way to visualize categorical variables is by using boxplots.</p>\n"
      ]
    },
    {
      "cell_type": "markdown",
      "id": "83889aa1-9c32-43b5-953f-03dc217f240c",
      "metadata": {},
      "outputs": [],
      "source": [
        "Let's look at the relationship between \"Weight\" and \"Num Procedures\".\n"
      ]
    },
    {
      "cell_type": "code",
      "id": "9725aafe-8bf4-4d8e-8ef7-589e23b74da1",
      "metadata": {},
      "outputs": [],
      "source": [
        "ax = sns.boxplot(x=\"Weight\", y=\"Num Procedures\", data=df)\nax.set_xticklabels(ax.get_xticklabels(),rotation=30)\nprint(ax)"
      ]
    },
    {
      "cell_type": "markdown",
      "id": "ba175d04-5419-414c-8ee1-f88e6e7162ff",
      "metadata": {},
      "outputs": [],
      "source": [
        "<p>We see that the distributions of Weight between the different NumProcedures categories have a significant overlap, so NumProcedures would not be a good predictor of Weight. Let's examine engine \"Age\" and \"NumProcedures\".</p>\n"
      ]
    },
    {
      "cell_type": "code",
      "id": "afc2f840-dfc8-4c07-9b35-dbf4588d2814",
      "metadata": {},
      "outputs": [],
      "source": [
        "ax = sns.boxplot(x=\"Age\", y=\"Num Procedures\", data=df)\nax.set_xticklabels(ax.get_xticklabels(),rotation=30)\nprint(ax)"
      ]
    },
    {
      "cell_type": "markdown",
      "id": "031213fd-f2cc-4358-bb5e-9df4d6818110",
      "metadata": {},
      "outputs": [],
      "source": [
        "<p>Here we see that the distribution of NumProcedures between Age categories. As you can see, the age column is not a good predictor for NumProcedures.</p>"
      ]
    },
    {
      "cell_type": "markdown",
      "id": "9072909f-00cb-4260-b85a-842046afd841",
      "metadata": {},
      "outputs": [],
      "source": [
        "Let's examine \"Time In Hospital\" and \"Num Medications\".\n"
      ]
    },
    {
      "cell_type": "code",
      "id": "5a15cbe3-1675-437f-a2cb-4946ec7b7326",
      "metadata": {},
      "outputs": [],
      "source": [
        "sns.boxplot(x=\"Time In Hospital\", y=\"Num Medications\", data=df)"
      ]
    },
    {
      "cell_type": "markdown",
      "id": "23ae35da-5ab4-4e7c-af11-d40a4f015a1c",
      "metadata": {},
      "outputs": [],
      "source": [
        "<p>Here we see that the distribution of Num Medications between the different Time In Hospital categories differs. As such, Time In Hospital could potentially be a predictor of Num Medications.</p>\n"
      ]
    },
    {
      "cell_type": "markdown",
      "id": "57a85ff0-123e-4ccb-8505-43cdca2b2390",
      "metadata": {},
      "outputs": [],
      "source": [
        "<h2 id=\"discriptive_statistics\">3. Descriptive Statistical Analysis</h2>\n"
      ]
    },
    {
      "cell_type": "markdown",
      "id": "f14258b6-4dbf-4a1c-ab74-0b551090aa9c",
      "metadata": {},
      "outputs": [],
      "source": [
        "<p>Let's first take a look at the variables by utilizing a description method.</p>\n\n<p>The <b>describe</b> function automatically computes basic statistics for all continuous variables. Any NaN values are automatically skipped in these statistics.</p>\n\nThis will show:\n\n<ul>\n    <li>the count of that variable</li>\n    <li>the mean</li>\n    <li>the standard deviation (std)</li>\n    <li>the minimum value</li>\n    <li>the IQR (Interquartile Range: 25%, 50% and 75%)</li>\n    <li>the maximum value</li>\n<ul>\n"
      ]
    },
    {
      "cell_type": "markdown",
      "id": "fc6350d8-5ac7-437f-99a1-25c0442d0dd1",
      "metadata": {},
      "outputs": [],
      "source": [
        "We can apply the method \"describe\" as follows:\n"
      ]
    },
    {
      "cell_type": "code",
      "id": "208eb925-b7e6-4093-ad0c-2becf284da82",
      "metadata": {},
      "outputs": [],
      "source": [
        "df.describe()"
      ]
    },
    {
      "cell_type": "markdown",
      "id": "726427cc-494c-4d8b-9387-4d1a7039616c",
      "metadata": {},
      "outputs": [],
      "source": [
        "The default setting of \"describe\" skips variables of type object. We can apply the method \"describe\" on the variables of type 'object' as follows:\n"
      ]
    },
    {
      "cell_type": "code",
      "id": "b2902620-c5d3-4af8-9f1f-63b6f43b5380",
      "metadata": {},
      "outputs": [],
      "source": [
        "df.describe(include=['object'])"
      ]
    },
    {
      "cell_type": "markdown",
      "id": "a686206e-dad5-46f0-afff-07cc78795a6b",
      "metadata": {},
      "outputs": [],
      "source": [
        "<h3>Value Counts</h3>\n"
      ]
    },
    {
      "cell_type": "markdown",
      "id": "759506d2-8426-4df4-93c3-9555613fe0ad",
      "metadata": {},
      "outputs": [],
      "source": [
        "<p>Value counts is a good way of understanding how many units of each characteristic/variable we have. We can apply the \"value_counts\" method on the column \"Readmitted\". Don’t forget the method \"value_counts\" only works on pandas series, not pandas dataframes. As a result, we only include one bracket <code>df['Readmitted]</code>, not two brackets <code>df[['Readmitted']]</code>.</p>\n"
      ]
    },
    {
      "cell_type": "code",
      "id": "e3b0180d-055b-4f0e-a980-dd8dfb015f64",
      "metadata": {},
      "outputs": [],
      "source": [
        "df['Readmitted'].value_counts()"
      ]
    },
    {
      "cell_type": "markdown",
      "id": "463a8005-23df-44e0-8cf8-b1777e2f79c6",
      "metadata": {},
      "outputs": [],
      "source": [
        "We can convert the series to a dataframe as follows:\n"
      ]
    },
    {
      "cell_type": "code",
      "id": "3b20d962-d49c-4a03-8011-4dde9613f328",
      "metadata": {},
      "outputs": [],
      "source": [
        "df['Readmitted'].value_counts().to_frame()"
      ]
    },
    {
      "cell_type": "markdown",
      "id": "71042537-a313-41f0-b4f7-005d2a55eaff",
      "metadata": {},
      "outputs": [],
      "source": [
        "Let's repeat the above steps but save the results to the dataframe \"Readmitted\" and rename the column  'Readmitted' to 'value_counts'.\n"
      ]
    },
    {
      "cell_type": "code",
      "id": "706aa078-fb02-4a8b-a256-1bf0a13e9fcc",
      "metadata": {},
      "outputs": [],
      "source": [
        "medical_seciality_counts = df['Readmitted'].value_counts().to_frame()\nmedical_seciality_counts.rename(columns={'Readmitted': 'value_counts'}, inplace=True)\nmedical_seciality_counts"
      ]
    },
    {
      "cell_type": "markdown",
      "id": "59e461e7-822f-4d66-88b2-8c40bcc3b36b",
      "metadata": {},
      "outputs": [],
      "source": [
        "Now let's rename the index to 'readmitted':"
      ]
    },
    {
      "cell_type": "code",
      "id": "9690de3e-7eb4-4c9b-a423-ec0862b7dd09",
      "metadata": {},
      "outputs": [],
      "source": [
        "medical_seciality_counts.index.name = 'readmitted'\nmedical_seciality_counts"
      ]
    },
    {
      "cell_type": "markdown",
      "id": "d8db2819-351f-41ef-860f-92e494dd4289",
      "metadata": {},
      "outputs": [],
      "source": [
        "We can  repeat the above process for the variable 'PayerCode'.\n"
      ]
    },
    {
      "cell_type": "code",
      "id": "48843ff6-40a8-42a8-8c6b-11f7639cda6d",
      "metadata": {},
      "outputs": [],
      "source": [
        "# Payer Code as variable\npayer_code_counts = df['Payer Code'].value_counts().to_frame()\npayer_code_counts.rename(columns={'Payer Code': 'value_counts'}, inplace=True)\npayer_code_counts.index.name = 'payer-code'\npayer_code_counts.head(10)"
      ]
    },
    {
      "cell_type": "markdown",
      "id": "488073c1-ffb9-47a5-9ad1-7926d8ae2968",
      "metadata": {},
      "outputs": [],
      "source": [
        "<p>After examining the value counts of the Payer Code location, we see that payer code would not be a good predictor variable for the medical speciality.</p>\n"
      ]
    },
    {
      "cell_type": "markdown",
      "id": "226b4451-916a-4c81-8a95-2f530de5750c",
      "metadata": {},
      "outputs": [],
      "source": [
        "<h2 id=\"basic_grouping\">4. Basics of Grouping</h2>\n"
      ]
    },
    {
      "cell_type": "markdown",
      "id": "65cc70c2-53c5-49ad-bce9-a9c0a7ee232a",
      "metadata": {},
      "outputs": [],
      "source": [
        "<p>The \"groupby\" method groups data by different categories. The data is grouped based on one or several variables, and analysis is performed on the individual groups.</p>\n\n<p>For example, let's group by the variable \"Readmitted\". We see that there are 4 different categories of Insulin.</p>\n"
      ]
    },
    {
      "cell_type": "code",
      "id": "71b63708-c859-4132-83a8-de8b001fb4f5",
      "metadata": {},
      "outputs": [],
      "source": [
        "df['Readmitted'].unique()"
      ]
    },
    {
      "cell_type": "markdown",
      "id": "be966a19-6d6f-49ac-b364-fbd670dc931a",
      "metadata": {},
      "outputs": [],
      "source": [
        "<p>If we want to know, on average, which type of Readmitted is most valuable, we can group \"Readmitted\" and then average them.</p>\n\n<p>We can select the columns 'Readmitted', 'Num Medications' and 'Prescribed Diabetes Medication', then assign it to the variable \"df_group_one\".</p>\n"
      ]
    },
    {
      "cell_type": "code",
      "id": "82fdae74-d045-4b0b-859d-d433ab56fab0",
      "metadata": {},
      "outputs": [],
      "source": [
        "df_group_one = df[['Num Medications','Readmitted','Prescribed Diabetes Medication']]"
      ]
    },
    {
      "cell_type": "markdown",
      "id": "be22237d-3dae-4d44-bcc9-d536e601a74f",
      "metadata": {},
      "outputs": [],
      "source": [
        "We can then calculate the average Readmitted rate for each of the different categories of data."
      ]
    },
    {
      "cell_type": "code",
      "id": "b37d23f8-ad29-4bee-a902-9e64a9cf5883",
      "metadata": {},
      "outputs": [],
      "source": [
        "# grouping results\ndf_group_one = df_group_one.groupby(['Readmitted'],as_index=False).mean()\ndf_group_one"
      ]
    },
    {
      "cell_type": "markdown",
      "id": "1b08b1e9-3696-43a6-8700-5023c2576c65",
      "metadata": {},
      "outputs": [],
      "source": [
        "<p>From our data, it seems Readmitted value \"<30 and \">30\" are, on average, the most frequent, among \"Num Medications\" and \"Prescribed Diabetes Medication\".</p>\n\n<p>You can also group by multiple variables. For example, let's group by both 'Readmitted' and 'Prescribed Diabetes Medication'. This groups the dataframe by the unique combination of 'Readmitted' and 'Prescribed Diabetes Medication'. We can store the results in the variable 'grouped_test1'.</p>"
      ]
    },
    {
      "cell_type": "code",
      "id": "2496d640-f907-44b4-9dc5-c2f2b8b6533a",
      "metadata": {},
      "outputs": [],
      "source": [
        "# grouping results\ndf_gptest = df[['Num Medications','Readmitted','Prescribed Diabetes Medication']]\ngrouped_test1 = df_gptest.groupby(['Readmitted','Prescribed Diabetes Medication'],as_index=False).mean()\ngrouped_test1"
      ]
    },
    {
      "cell_type": "markdown",
      "id": "05276bfd-1d0d-4231-a6ca-8a3f5e61a01e",
      "metadata": {},
      "outputs": [],
      "source": [
        "<p>This grouped data is much easier to visualize when it is made into a pivot table. A pivot table is like an Excel spreadsheet, with one variable along the column and another along the row. We can convert the dataframe to a pivot table using the method \"pivot\" to create a pivot table from the groups.</p>\n\n<p>In this case, we will leave the Readmitted variable as the rows of the table, and pivot Prescribed Diabetes Medication to become the columns of the table:</p>"
      ]
    },
    {
      "cell_type": "code",
      "id": "1ed08d69-8b00-4c54-a957-26d702477d76",
      "metadata": {},
      "outputs": [],
      "source": [
        "grouped_pivot = grouped_test1.pivot(index='Readmitted',columns='Prescribed Diabetes Medication')\ngrouped_pivot"
      ]
    },
    {
      "cell_type": "markdown",
      "id": "3800fee3-92c9-4534-b7ed-18d770c47562",
      "metadata": {},
      "outputs": [],
      "source": [
        "Often, we won't have data for some of the pivot cells. We can fill these missing cells with the value 0, but any other value could potentially be used as well. It should be mentioned that missing data is quite a complex subject and is an entire course on its own."
      ]
    },
    {
      "cell_type": "code",
      "id": "0311d08a-5379-4b85-bb0f-e042f0b91470",
      "metadata": {},
      "outputs": [],
      "source": [
        "grouped_pivot = grouped_pivot.fillna(0) #fill missing values with 0\ngrouped_pivot"
      ]
    },
    {
      "cell_type": "markdown",
      "id": "6e8d3fa2-126f-478e-a6cf-5751d89568c8",
      "metadata": {},
      "outputs": [],
      "source": [
        "<div class=\"alert alert-danger alertdanger\" style=\"margin-top: 20px\">\n<h1>Question 4:</h1>\n\n<p>Use the \"groupby\" function to find the average \"Readmitted\" based on \"Num Medications\".</p>\n</div>\n"
      ]
    },
    {
      "cell_type": "code",
      "id": "d6c26da6-d0f2-405c-90ee-3f8e3509761f",
      "metadata": {},
      "outputs": [],
      "source": [
        "# Write your code below and press Shift+Enter to execute"
      ]
    },
    {
      "cell_type": "markdown",
      "id": "ba88b3d9-44e9-47be-af42-c4689d04fcd8",
      "metadata": {},
      "outputs": [],
      "source": [
        "<details><summary>Click here for the solution</summary>\n\n```python\n# grouping results\n\ndf_gptest2 = df[['Readmitted','Num Medications']]\ngrouped_test_bodystyle = df_gptest2.groupby(['Readmitted'],as_index= False).mean()\ngrouped_test_bodystyle\n\n\n```\n\n</details>\n"
      ]
    },
    {
      "cell_type": "code",
      "id": "08352e59-fb98-4bb3-b018-2af1132d4567",
      "metadata": {},
      "outputs": [],
      "source": [
        "#use the grouped results\nplt.pcolor(grouped_pivot, cmap='RdBu')\nplt.colorbar()\nplt.show()"
      ]
    },
    {
      "cell_type": "markdown",
      "id": "65bd4ec8-a858-4666-8450-6d0e70cd0ab9",
      "metadata": {},
      "outputs": [],
      "source": [
        "<p>The heatmap plots the target variable (Readmitted) proportional to colour with respect to the variables 'Prescribed Diabetes Medication' and 'Num Medications' on the vertical and horizontal axis, respectively. This allows us to visualize how the Readmitted is related to 'Prescribed Diabetes Medication' and 'Num Medications'.</p>\n\n<p>The default labels convey no useful information to us. Let's change that:</p>\n"
      ]
    },
    {
      "cell_type": "code",
      "id": "453b21d5-109c-482e-b153-dcba06511d17",
      "metadata": {},
      "outputs": [],
      "source": [
        "fig, ax = plt.subplots()\nim = ax.pcolor(grouped_pivot, cmap='RdBu')\n\n#label names\nrow_labels = grouped_pivot.columns.levels[1]\ncol_labels = grouped_pivot.index\n\n#move ticks and labels to the center\nax.set_xticks(np.arange(grouped_pivot.shape[1]) + 0.5, minor=False)\nax.set_yticks(np.arange(grouped_pivot.shape[0]) + 0.5, minor=False)\n\n#insert labels\nax.set_xticklabels(row_labels, minor=False)\nax.set_yticklabels(col_labels, minor=False)\n\n#rotate label if too long\nplt.xticks(rotation=90)\n\nfig.colorbar(im)\nplt.show()"
      ]
    },
    {
      "cell_type": "markdown",
      "id": "b8359457-2d7e-44c5-8537-aebe00359d84",
      "metadata": {},
      "outputs": [],
      "source": [
        "<p>Visualization is very important in data science, and Python visualization packages provide great freedom. We will go more in-depth in a separate Python visualizations course.</p>\n\n<p>The main question we want to answer in this module is, \"How can we use columns to predict other columns?\".</p>\n\n<p>To get a better measure of the important characteristics, we look at the correlation of these variables. In other words: how is the column dependent on this variable?</p>\n"
      ]
    },
    {
      "cell_type": "markdown",
      "id": "30c4f305-d4a7-49f2-816d-d56e11b33747",
      "metadata": {},
      "outputs": [],
      "source": [
        "<h2 id=\"correlation_causation\">5. Correlation and Causation</h2>\n"
      ]
    },
    {
      "cell_type": "markdown",
      "id": "e5e9a130-8ed6-4132-ae56-759bb98846a3",
      "metadata": {},
      "outputs": [],
      "source": [
        "<p><b>Correlation</b>: a measure of the extent of interdependence between variables.</p>\n\n<p><b>Causation</b>: the relationship between cause and effect between two variables.</p>\n\n<p>It is important to know the difference between these two. Correlation does not imply causation. Determining correlation is much simpler  the determining causation as causation may require independent experimentation.</p>\n"
      ]
    },
    {
      "cell_type": "markdown",
      "id": "6a76d193-670e-4ca8-b889-03796f5935fd",
      "metadata": {},
      "outputs": [],
      "source": [
        "<p><b>Pearson Correlation</b></p>\n<p>The Pearson Correlation measures the linear dependence between two variables X and Y.</p>\n<p>The resulting coefficient is a value between -1 and 1 inclusive, where:</p>\n<ul>\n    <li><b>1</b>: Perfect positive linear correlation.</li>\n    <li><b>0</b>: No linear correlation, the two variables most likely do not affect each other.</li>\n    <li><b>-1</b>: Perfect negative linear correlation.</li>\n</ul>\n"
      ]
    },
    {
      "cell_type": "markdown",
      "id": "4bc1fe43-d66f-4994-ace9-cf1925bc8f04",
      "metadata": {},
      "outputs": [],
      "source": [
        "<p>Pearson Correlation is the default method of the function \"corr\". Like before, we can calculate the Pearson Correlation of the of the 'int64' or 'float64' variables.</p>\n"
      ]
    },
    {
      "cell_type": "code",
      "id": "dcf72637-10a1-47b9-9695-e8d7976541eb",
      "metadata": {},
      "outputs": [],
      "source": [
        "df.corr()"
      ]
    },
    {
      "cell_type": "markdown",
      "id": "00f30244-9153-445a-80e5-cbd6b3d9eff7",
      "metadata": {},
      "outputs": [],
      "source": [
        "Sometimes we would like to know the significant of the correlation estimate.\n"
      ]
    },
    {
      "cell_type": "markdown",
      "id": "b3a66bd1-649b-4b82-88ed-3651484eef8e",
      "metadata": {},
      "outputs": [],
      "source": [
        "<b>P-value</b>\n\n<p>What is this P-value? The P-value is the probability value that the correlation between these two variables is statistically significant. Normally, we choose a significance level of 0.05, which means that we are 95% confident that the correlation between the variables is significant.</p>\n\nBy convention, when the\n\n<ul>\n    <li>p-value is $<$ 0.001: we say there is strong evidence that the correlation is significant.</li>\n    <li>the p-value is $<$ 0.05: there is moderate evidence that the correlation is significant.</li>\n    <li>the p-value is $<$ 0.1: there is weak evidence that the correlation is significant.</li>\n    <li>the p-value is $>$ 0.1: there is no evidence that the correlation is significant.</li>\n</ul>\n"
      ]
    },
    {
      "cell_type": "markdown",
      "id": "d2283a4e-7df3-4ca6-8078-3fde0ff495d9",
      "metadata": {},
      "outputs": [],
      "source": [
        "<h3>Number Inpatient vs. Number Emergency</h3>\n"
      ]
    },
    {
      "cell_type": "markdown",
      "id": "7e33137b-5552-4838-8978-e5b3374b2148",
      "metadata": {},
      "outputs": [],
      "source": [
        "Let's calculate the  Pearson Correlation Coefficient and P-value of 'Number Inpatient' and 'Number Emergency'.\n"
      ]
    },
    {
      "cell_type": "code",
      "id": "98afb4af-10a2-421a-82f0-2381ca21ded8",
      "metadata": {},
      "outputs": [],
      "source": [
        "pearson_coef, p_value = stats.pearsonr(df['Number Inpatient'], df['Number Emergency'])\nprint(\"The Pearson Correlation Coefficient is\", round(pearson_coef,2), \" with a P-value of P =\", p_value)"
      ]
    },
    {
      "cell_type": "markdown",
      "id": "d85e102e-d069-4835-bec9-eb361910d863",
      "metadata": {},
      "outputs": [],
      "source": [
        "<h4>Conclusion:</h4>\n<p>Since the p-value is $<$ 0.001, the correlation between Number Inpatient and Number Emergency is statistically significant, although the linear relationship isn't extremely strong (~0.27).</p>\n"
      ]
    },
    {
      "cell_type": "markdown",
      "id": "67fb4f55-f1d5-4eb8-a7ac-ee9b6c8b1b8e",
      "metadata": {},
      "outputs": [],
      "source": [
        "<h3>Num Lab Procedures vs. Num Medications</h3>\n"
      ]
    },
    {
      "cell_type": "markdown",
      "id": "4476b57d-7df5-417a-8c61-d56fbb3d5388",
      "metadata": {},
      "outputs": [],
      "source": [
        "Let's calculate the  Pearson Correlation Coefficient and P-value of 'Num Lab Procedures' and 'Num Medications'.\n"
      ]
    },
    {
      "cell_type": "code",
      "id": "799f253b-3059-464e-84fe-24c1589d0d51",
      "metadata": {},
      "outputs": [],
      "source": [
        "pearson_coef, p_value = stats.pearsonr(df['Num Lab Procedures'], df['Num Medications'])\nprint(\"The Pearson Correlation Coefficient is\",  round(pearson_coef,2), \" with a P-value of P = \", p_value)"
      ]
    },
    {
      "cell_type": "markdown",
      "id": "7674af5a-0d8b-4fe9-882b-cbab99c198c4",
      "metadata": {},
      "outputs": [],
      "source": [
        "<h4>Conclusion:</h4>\n\n<p>Since the p-value is $<$ 0.001, the correlation between Num Lab Procedures and Num Medications is statistically significant, although the linear relationship isn't extremely strong (~0.27).</p>\n"
      ]
    },
    {
      "cell_type": "markdown",
      "id": "f536e09a-f011-478b-9436-edfec7eae38a",
      "metadata": {},
      "outputs": [],
      "source": [
        "<h3>Number Outpatient vs. Number Emergency</h3>\n\nLet's calculate the  Pearson Correlation Coefficient and P-value of 'Number Outpatient' and 'Number Emergency'.\n"
      ]
    },
    {
      "cell_type": "code",
      "id": "159886f5-19c6-446d-8457-58f82cd1e314",
      "metadata": {},
      "outputs": [],
      "source": [
        "pearson_coef, p_value = stats.pearsonr(df['Number Outpatient'], df['Number Emergency'])\nprint(\"The Pearson Correlation Coefficient is\", round(pearson_coef,2), \" with a P-value of P = \", round(p_value,2))"
      ]
    },
    {
      "cell_type": "markdown",
      "id": "27972479-cfc7-4d50-9356-4d0998004af4",
      "metadata": {},
      "outputs": [],
      "source": [
        "<h4>Conclusion:</h4>\n<p>Since the p-value is $<$ 0.001, the correlation between Number Outpatient and Number Emergency is statistically significant, and the linear relationship is not strong (~0.09).</p>\n"
      ]
    },
    {
      "cell_type": "markdown",
      "id": "f314da61-1bcc-451e-9303-72e1ad9a7fc5",
      "metadata": {},
      "outputs": [],
      "source": [
        "<h3>Number Inpatient vs. Number Emergency</h3>\n"
      ]
    },
    {
      "cell_type": "markdown",
      "id": "3453e925-e055-4cb0-a44f-d76d94eedb50",
      "metadata": {},
      "outputs": [],
      "source": [
        "Let's calculate the Pearson Correlation Coefficient and P-value of 'Number Inpatient' and 'Number Emergency':\n"
      ]
    },
    {
      "cell_type": "code",
      "id": "54643707-44a8-4261-9b7e-8d6fb2926e68",
      "metadata": {},
      "outputs": [],
      "source": [
        "pearson_coef, p_value = stats.pearsonr(df['Number Inpatient'], df['Number Emergency'])\nprint(\"The Pearson Correlation Coefficient is\", round(pearson_coef,2), \" with a P-value of P =\", p_value )"
      ]
    },
    {
      "cell_type": "markdown",
      "id": "55df0500-7e9e-464f-97e6-6345f161d5a3",
      "metadata": {},
      "outputs": [],
      "source": [
        "#### Conclusion:\n\nSince the p-value is < 0.001, the correlation between Number Inpatient and Number Emergency is statistically significant, and the linear relationship isn't extremely strong (~0.27)."
      ]
    },
    {
      "cell_type": "markdown",
      "id": "ac7389e3-176e-46bf-b36c-5c75757e80b1",
      "metadata": {},
      "outputs": [],
      "source": [
        "<h2 id=\"anova\">6. ANOVA</h2>\n"
      ]
    },
    {
      "cell_type": "markdown",
      "id": "1da30e73-b0d7-4184-9619-16beb2ceecfa",
      "metadata": {},
      "outputs": [],
      "source": [
        "<h3>ANOVA: Analysis of Variance</h3>\n<p>The Analysis of Variance  (ANOVA) is a statistical method used to test whether there are significant differences between the means of two or more groups. ANOVA returns two parameters:</p>\n\n<p><b>F-test score</b>: ANOVA assumes the means of all groups are the same, calculates how much the actual means deviate from the assumption, and reports it as the F-test score. A larger score means there is a larger difference between the means.</p>\n\n<p><b>P-value</b>:  P-value tells how statistically significant our calculated score value is.</p>\n\n<p>If our Readmitted variable is strongly correlated with the variable we are analyzing, we expect ANOVA to return a sizeable F-test score and a small p-value.</p>\n"
      ]
    },
    {
      "cell_type": "markdown",
      "id": "a6c3249b-dee2-497b-af7a-b8cb83bad4d3",
      "metadata": {},
      "outputs": [],
      "source": [
        "<h3>Num Medications</h3>\n"
      ]
    },
    {
      "cell_type": "markdown",
      "id": "fe652815-4c04-454d-9363-a4408b072870",
      "metadata": {},
      "outputs": [],
      "source": [
        "<p>Since ANOVA analyzes the difference between different groups of the same variable, the groupby function will come in handy. Because the ANOVA algorithm averages the data automatically, we do not need to take the average before hand.</p>\n\n<p>To see if different types of 'Num Medications' impact  'Readmitted', we group the data.</p>\n"
      ]
    },
    {
      "cell_type": "code",
      "id": "1812e472-1e17-4d67-9f48-e4277ce92a6c",
      "metadata": {},
      "outputs": [],
      "source": [
        "grouped_test2=df[['Readmitted','Num Medications']].groupby(['Readmitted'])\ngrouped_test2.head(2)"
      ]
    },
    {
      "cell_type": "code",
      "id": "41441c4a-325d-48cd-9b18-4ccdb50d80aa",
      "metadata": {},
      "outputs": [],
      "source": [
        "grouped_test2"
      ]
    },
    {
      "cell_type": "markdown",
      "id": "27b590df-6797-4cd1-8208-dfee9c9441a1",
      "metadata": {},
      "outputs": [],
      "source": [
        "We can obtain the values of the method group using the method \"get_group\".\n"
      ]
    },
    {
      "cell_type": "code",
      "id": "eedb9f59-57ba-425d-9236-26f0d76bd76c",
      "metadata": {},
      "outputs": [],
      "source": [
        "grouped_test2.get_group('NO')['Num Medications']\n"
      ]
    },
    {
      "cell_type": "markdown",
      "id": "f4a589b0-8c17-4d7a-b994-af75b1c5683f",
      "metadata": {},
      "outputs": [],
      "source": [
        "We can use the function 'f_oneway' in the module 'stats' to obtain the <b>F-test score</b> and <b>P-value</b>.\n"
      ]
    },
    {
      "cell_type": "code",
      "id": "4f6aca86-a3cb-4ae5-802f-f7c7ea1006fc",
      "metadata": {},
      "outputs": [],
      "source": [
        "# ANOVA\nf_val, p_val = stats.f_oneway(grouped_test2.get_group('>30')['Num Medications'],grouped_test2.get_group('NO')['Num Medications'], grouped_test2.get_group('<30')['Num Medications'])\n\nprint( \"ANOVA results: F=\", round(f_val,2), \", P =\", round(p_val,2))"
      ]
    },
    {
      "cell_type": "markdown",
      "id": "0e11f6b2-8fb4-4013-94c0-8f4bfe4a2852",
      "metadata": {},
      "outputs": [],
      "source": [
        "\nThis is a great result with a large F-test score showing a strong correlation and a P-value of almost 0 implying almost certain statistical significance. But does this mean all three tested groups are all this highly correlated?\n\nLet's examine them separately.\n"
      ]
    },
    {
      "cell_type": "markdown",
      "id": "237e8c26-b1ee-45ad-985d-f197dd929235",
      "metadata": {},
      "outputs": [],
      "source": [
        "#### >30 and NO"
      ]
    },
    {
      "cell_type": "code",
      "id": "86574130-1b0d-4c8c-8c0e-b1bafdba66cf",
      "metadata": {},
      "outputs": [],
      "source": [
        "f_val, p_val = stats.f_oneway(grouped_test2.get_group('>30')['Num Medications'], grouped_test2.get_group('NO')['Num Medications'])\n\nprint( \"ANOVA results: F=\", round(f_val,2), \", P =\", round(p_val,2))"
      ]
    },
    {
      "cell_type": "markdown",
      "id": "3da8e23a-ca80-4c7d-b805-e5c72bd65690",
      "metadata": {},
      "outputs": [],
      "source": [
        "Let's examine the other groups.\n"
      ]
    },
    {
      "cell_type": "markdown",
      "id": "338b590b-7c88-4927-9859-1b0c9ece00f7",
      "metadata": {},
      "outputs": [],
      "source": [
        "#### <30 and NO\n"
      ]
    },
    {
      "cell_type": "code",
      "id": "f279bda3-50bd-4f22-906e-fac1c0f22c4e",
      "metadata": {},
      "outputs": [],
      "source": [
        "f_val, p_val = stats.f_oneway(grouped_test2.get_group('<30')['Num Medications'], grouped_test2.get_group('NO')['Num Medications'])\n\nprint( \"ANOVA results: F=\", round(f_val,2), \", P =\", round(p_val,2))"
      ]
    },
    {
      "cell_type": "markdown",
      "id": "cc8cfdb8-17f3-4c9d-aea3-58412b15855e",
      "metadata": {},
      "outputs": [],
      "source": [
        "<h4>>30 and <30</h4>\n"
      ]
    },
    {
      "cell_type": "code",
      "id": "c42cefa8-3b3a-4c4a-b939-1d0a4842beff",
      "metadata": {},
      "outputs": [],
      "source": [
        "f_val, p_val = stats.f_oneway(grouped_test2.get_group('>30')['Num Medications'], grouped_test2.get_group('<30')['Num Medications'])\n\nprint(\"ANOVA results: F=\", round(f_val,2), \", P =\", round(p_val,2))"
      ]
    },
    {
      "cell_type": "markdown",
      "id": "b2591286-45bd-4cd0-874f-e64f49467813",
      "metadata": {},
      "outputs": [],
      "source": [
        "<h3>Conclusion: Important Variables</h3>\n"
      ]
    },
    {
      "cell_type": "markdown",
      "id": "0d0a77da-dbb4-4d2f-b167-67ee03999bc5",
      "metadata": {},
      "outputs": [],
      "source": [
        "<p>We now have a better idea of what our data looks like and which variables are important to take into account when predicting.</p>\n\n<p>As we now move into building machine learning models to automate our analysis, feeding the model with variables that meaningfully affect our target variable will improve our model's prediction performance.</p>\n"
      ]
    },
    {
      "cell_type": "markdown",
      "id": "f85b61c8-cd98-4970-a920-bb0c10acb70d",
      "metadata": {},
      "outputs": [],
      "source": [
        "### Thank you for completing this lab!\n\n## Author\n\n<a href=\"https://author.skills.network/instructors/dmytro_yesyp\" target=\"_blank\">Dmytro Yesyp</a>\n\n### Other Contributors\n\n<a href=\"https://author.skills.network/instructors/yaroslav_vyklyuk_2\">Prof. Yaroslav Vyklyuk, DrSc, PhD</a>\n\n<a href=\"https://author.skills.network/instructors/nataliya_boyko\">Ass. Prof. Nataliya Boyko, PhD</a>\n\n## Change Log\n\n| Date (YYYY-MM-DD) | Version | Changed By | Change Description                                         |\n| ----------------- | ------- | ---------- | ---------------------------------------------------------- |\n| 2023-03-11       | 01     | Dmytro Yesyp     | Lab created|\n<hr>\n\n## <h3 align=\"center\"> © IBM Corporation 2023. All rights reserved. <h3/>"
      ]
    },
    {
      "cell_type": "code",
      "id": "a9e8e3df-691a-4ffa-a767-f8958663c526",
      "metadata": {},
      "outputs": [],
      "source": [
        ""
      ]
    }
  ],
  "metadata": {
    "language_info": {
      "name": ""
    },
    "kernelspec": {
      "name": "",
      "display_name": ""
    }
  },
  "nbformat": 4,
  "nbformat_minor": 4
}