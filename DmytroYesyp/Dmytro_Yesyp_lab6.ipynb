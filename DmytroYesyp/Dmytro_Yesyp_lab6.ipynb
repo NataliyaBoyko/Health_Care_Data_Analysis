{
  "cells": [
    {
      "cell_type": "markdown",
      "id": "08788c99-9300-4d4e-b562-f0d07a67cd77",
      "metadata": {},
      "outputs": [],
      "source": [
        "<center>\n<img src=\"https://cf-courses-data.s3.us.cloud-object-storage.appdomain.cloud/assets/logos/SN_web_lightmode_vertical.png\" width=\"300\" alt=\"cognitiveclass.ai logo\"  />\n</center>"
      ]
    },
    {
      "cell_type": "markdown",
      "id": "41f6d360-18e1-483a-a641-246711e64688",
      "metadata": {},
      "outputs": [],
      "source": [
        "# Lab 6 Data Analysis with Python\n\nEstimated time needed: **30** minutes\n\n## Objectives\n\nAfter completing this lab you will be able to:\n\n*   Be confident about your data analysis skills"
      ]
    },
    {
      "cell_type": "markdown",
      "id": "b0f76ae0-8b58-4b17-8965-41538e7e364a",
      "metadata": {},
      "outputs": [],
      "source": [
        "The data that we are going to use for this is a subset of an open source diabetes in US DataSet: https://www.kaggle.com/datasets/akshaydattatraykhare/diabetes-dataset.\n\nThis dataset is from the National Institute of Diabetes and Digestive and Kidney Diseases. The objective of the dataset is to diagnostically predict whether a patient has diabetes based on certain diagnostic measurements included in the dataset. You will be asked to analyze the data and predict the diagnosis. At the end of the lab, you will be instructed on how you can share your notebook.\n"
      ]
    },
    {
      "cell_type": "markdown",
      "id": "84840cb4-472c-4360-9904-7e6eb44243ce",
      "metadata": {},
      "outputs": [],
      "source": [
        "## Table of Contents"
      ]
    },
    {
      "cell_type": "markdown",
      "id": "16646963-2014-44c7-97f5-46a0d264bc0b",
      "metadata": {},
      "outputs": [],
      "source": [
        "<div class=\"alert alert-block alert-info\" style=\"margin-top: 20px\">\n    <ul>\n        <li>Import libraries</li>\n        <li>Importing the Data</li>\n        <li>Question 1: Display the data types of each column using the attribute `dtypes`.</li>\n        <li>Question 2: change datatypes to the correct one</li>\n        <li>Question 3: build correlation heatmap</li>\n        <li>Question 4: separate dataset into two dataframes for the feature column and the target column</li>\n        <li>Question 5: separate DataSets for train and test DataSets for calculate accuracy of models.</li>\n        <li>Question 6: create transformer</li>\n        <li>Question 7: create logistic regression pipline</li>\n        <li>Question 8: fit logistic regression pipline</li>\n        <li>Question 9: get scores for train and test DataSets from pipline</li>\n        <li>Question 10: add cross-validation</li>\n        <li>Question 11: create ensemble of classifiers using</li>\n        <li>Question 12: show the train and test scores of an ensemble</li>\n        <li>Question 13: build decision tree</li>\n        <li>Question 14: show text representation of a built decision tree</li>\n        <li>Question 15: plot decision tree</li>\n        <li>Question 16: create a function that will predict patients diagnoses based on input data</li>\n    </ul>\n</div>"
      ]
    },
    {
      "cell_type": "markdown",
      "id": "f68abee6-9bcb-4cf7-867e-138808f82134",
      "metadata": {},
      "outputs": [],
      "source": [
        "You will need the following libraries:"
      ]
    },
    {
      "cell_type": "code",
      "id": "37494844-4daa-41a8-82f3-c62e87ec5d3b",
      "metadata": {},
      "outputs": [],
      "source": [
        "# import piplite\n# await piplite.install(['pandas'])\n# await piplite.install(['matplotlib'])\n# await piplite.install(['scipy'])\n# await piplite.install(['seaborn'])\n# await piplite.install(['ipywidgets'])\n# await piplite.install(['tqdm'])"
      ]
    },
    {
      "cell_type": "code",
      "id": "cda42938-b3dd-4e4d-a1e5-5187670b6cb5",
      "metadata": {},
      "outputs": [],
      "source": [
        "!pip install imblearn\n!pip install graphviz"
      ]
    },
    {
      "cell_type": "markdown",
      "id": "15c2dba8-0cfd-428e-91d2-6934a1e03dcd",
      "metadata": {},
      "outputs": [],
      "source": [
        "## Import libraries"
      ]
    },
    {
      "cell_type": "code",
      "id": "f2e40428-5f8f-49fe-adf6-0a3bcf2a9199",
      "metadata": {},
      "outputs": [],
      "source": [
        "import pandas as pd\nimport seaborn as sns\nimport numpy as np\nimport matplotlib.pyplot as plt\nimport matplotlib as mpl\nfrom sklearn.compose import make_column_transformer\nfrom sklearn.preprocessing import StandardScaler\nfrom sklearn import set_config\n\nfrom imblearn.pipeline import make_pipeline\nfrom sklearn.linear_model import LogisticRegression\nfrom sklearn.model_selection import cross_val_score\nfrom sklearn.model_selection import cross_val_predict\nfrom sklearn.model_selection import train_test_split\n\n\nfrom sklearn.tree import DecisionTreeClassifier\nfrom sklearn.ensemble import RandomForestClassifier, AdaBoostClassifier\nfrom sklearn.naive_bayes import GaussianNB\nfrom sklearn.ensemble import VotingClassifier\nfrom sklearn.metrics import recall_score, precision_score\nimport time\n\nfrom sklearn import tree\nimport graphviz\n"
      ]
    },
    {
      "cell_type": "markdown",
      "id": "4be95e4e-a1a4-43c3-88af-e94b17da9239",
      "metadata": {},
      "outputs": [],
      "source": [
        "This function will download the dataset into your browser \n"
      ]
    },
    {
      "cell_type": "markdown",
      "id": "b3acb4af-7e94-4638-86dd-462f49aaeffc",
      "metadata": {},
      "outputs": [],
      "source": [
        "## Importing the Data"
      ]
    },
    {
      "cell_type": "markdown",
      "id": "6f0bd2c1-4fc1-4e0b-863a-00c26d0509a0",
      "metadata": {},
      "outputs": [],
      "source": [
        "you will need to download the dataset; if you are running locally, please comment out the following \n"
      ]
    },
    {
      "cell_type": "code",
      "id": "15c929e0-3e67-4021-836e-45f9bab01a50",
      "metadata": {},
      "outputs": [],
      "source": [
        "path = 'https://cf-courses-data.s3.us.cloud-object-storage.appdomain.cloud/IBMSkillsNetwork-GPXX08R2EN/NewDiabetes.csv'"
      ]
    },
    {
      "cell_type": "markdown",
      "id": "f87a7cff-6430-4a29-b8e5-1da1bb1f1233",
      "metadata": {},
      "outputs": [],
      "source": [
        "Load the csv:\n"
      ]
    },
    {
      "cell_type": "code",
      "id": "3b684f51-3b74-4c49-b2be-9a539018b205",
      "metadata": {},
      "outputs": [],
      "source": [
        "df= pd.read_csv(path)"
      ]
    },
    {
      "cell_type": "markdown",
      "id": "4957759d-1bc1-423f-97e9-228fc5bea8a0",
      "metadata": {},
      "outputs": [],
      "source": [
        "We use the method  <code>head()</code>  to display the first 5 columns of the dataframe:\n"
      ]
    },
    {
      "cell_type": "code",
      "id": "626ddf0c-8909-4975-84a9-843a6e5349a6",
      "metadata": {},
      "outputs": [],
      "source": [
        "df.head()"
      ]
    },
    {
      "cell_type": "markdown",
      "id": "a858c929-663f-4d88-bbd8-8ccdd94fe547",
      "metadata": {},
      "outputs": [],
      "source": [
        "<details>\n<summary><b>Click to see attribute information</b></summary>\nInput features (column names):\n\n1. `Pregnancies` - express the Number of pregnancies . (int64)\n2. `Glucose` - express the Glucose level in blood. (int64)\n3. `BloodPressure` - express the Blood pressure measurement. (int64)\n4. `SkinThickness` - xpress the thickness of the skin. (int64)\n5. `Insulin` - express the Insulin level in blood. (int64)\n6. `BMI` - express the Body mass index. (float64)\n7. `DiabetesPedigreeFunction` - express the Diabetes percentage. (float64)\n8. `Age` - express the age. (int64)\n9. `Outcome`  [Target Column]  - express the final result 1 is Yes and 0 is No. (boolean)\n\n</details>"
      ]
    },
    {
      "cell_type": "code",
      "id": "bdc12123-9b26-4291-bba8-12762f4bc64b",
      "metadata": {},
      "outputs": [],
      "source": [
        "df.info()"
      ]
    },
    {
      "cell_type": "markdown",
      "id": "7ca9a70c-06f1-4044-afe2-d8ca2ef0abf0",
      "metadata": {},
      "outputs": [],
      "source": [
        "<b>Question 1</b>:  display the data types of each column using the attribute `dtypes`."
      ]
    },
    {
      "cell_type": "code",
      "id": "33aa13c9-20c8-467e-b7b3-a6e350b0bdbb",
      "metadata": {},
      "outputs": [],
      "source": [
        "df.dtypes"
      ]
    },
    {
      "cell_type": "markdown",
      "id": "589c3306-e766-46a1-ac56-a4df3b22b0cc",
      "metadata": {},
      "outputs": [],
      "source": [
        "<b>Question 2 </b>:  change datatypes to the correct one."
      ]
    },
    {
      "cell_type": "code",
      "id": "448ebd39-67b3-457f-a941-64c7251b4132",
      "metadata": {},
      "outputs": [],
      "source": [
        "df['Outcome'] = df['Outcome'].astype('bool')\ndf.dtypes"
      ]
    },
    {
      "cell_type": "markdown",
      "id": "13c1401a-bb6e-449a-9e09-2ff081343c80",
      "metadata": {},
      "outputs": [],
      "source": [
        "<b>Question 3 </b>:  build correlation heatmap."
      ]
    },
    {
      "cell_type": "markdown",
      "id": "abda2915-7bcd-4d8e-a5c8-1b4d20ea9160",
      "metadata": {},
      "outputs": [],
      "source": [
        ""
      ]
    },
    {
      "cell_type": "code",
      "id": "3994eb2f-6064-48b4-8714-6602ad9d4a40",
      "metadata": {},
      "outputs": [],
      "source": [
        "corrmat = df.corr()\ntop_corr_features = corrmat.index\nplt.figure(figsize=(8,7))\ng=sns.heatmap(df.corr(),annot=True,cmap=\"RdYlGn\")"
      ]
    },
    {
      "cell_type": "markdown",
      "id": "eec86df7-720f-47e6-9f3b-f00a495ddf03",
      "metadata": {},
      "outputs": [],
      "source": [
        "<b>Question 4 </b>: separate dataset into two dataframes for the feature column and the target column."
      ]
    },
    {
      "cell_type": "code",
      "id": "9150bebb-8c57-4934-84c3-7eeb22f1ba2e",
      "metadata": {},
      "outputs": [],
      "source": [
        "x = df.drop(columns = ['Outcome'])\ny = df['Outcome']"
      ]
    },
    {
      "cell_type": "markdown",
      "id": "cd11d681-034b-426d-a0e1-0e006238bd97",
      "metadata": {},
      "outputs": [],
      "source": [
        "<b>Question 5 </b>: separate DataSets for train and test DataSets for calculate accuracy of models."
      ]
    },
    {
      "cell_type": "code",
      "id": "c478c31f-08f3-4191-bcc4-fab06c02df77",
      "metadata": {},
      "outputs": [],
      "source": [
        "x_train,x_test,y_train,y_test = train_test_split(x,y,test_size = 0.33, shuffle=False)"
      ]
    },
    {
      "cell_type": "markdown",
      "id": "551daba1-1bb2-40a3-a44f-2a889e7d3d78",
      "metadata": {},
      "outputs": [],
      "source": [
        "<b>Question 6</b>: create transformer using **[make_column_transformer](https://scikit-learn.org/stable/modules/generated/sklearn.compose.make_column_transformer.html)**."
      ]
    },
    {
      "cell_type": "code",
      "id": "4e0934c8-10b9-4370-88bc-0ac48e94231e",
      "metadata": {},
      "outputs": [],
      "source": [
        "trans = make_column_transformer((StandardScaler(),x.columns))\nset_config(display = 'diagram')\ntrans"
      ]
    },
    {
      "cell_type": "markdown",
      "id": "b5e39226-e633-4719-89c5-19b5c58a9c5a",
      "metadata": {},
      "outputs": [],
      "source": [
        "<b>Question 7</b>: create logistic regression pipline."
      ]
    },
    {
      "cell_type": "code",
      "id": "d1ae9588-bfac-4251-9df1-51479ab2cc68",
      "metadata": {},
      "outputs": [],
      "source": [
        "lr = LogisticRegression()\npipe_lr = make_pipeline(trans,lr)\n"
      ]
    },
    {
      "cell_type": "markdown",
      "id": "228b6801-3f6b-492a-867d-5ed5299f243b",
      "metadata": {},
      "outputs": [],
      "source": [
        "<b>Question 8</b>: fit logistic regression pipline."
      ]
    },
    {
      "cell_type": "code",
      "id": "303865ea-991f-4f0c-bdd6-83d83577f88e",
      "metadata": {},
      "outputs": [],
      "source": [
        "pipe_lr.fit(x_train,y_train)"
      ]
    },
    {
      "cell_type": "markdown",
      "id": "399e4483-f2bf-460a-af9f-7502ba7a31da",
      "metadata": {},
      "outputs": [],
      "source": [
        "<b>Question 9</b>: get scores for train and test DataSets from pipline."
      ]
    },
    {
      "cell_type": "code",
      "id": "8d7931b6-5589-466c-8813-aeb4d5c57522",
      "metadata": {},
      "outputs": [],
      "source": [
        "scores_train = pipe_lr.score(x_train, y_train)\nscores_test = pipe_lr.score(x_test, y_test)\nprint('Training DataSet accuracy: {: .1%}'.format(scores_train), 'Test DataSet accuracy: {: .1%}'.format(scores_test))"
      ]
    },
    {
      "cell_type": "markdown",
      "id": "3cc1d708-70ad-493b-bcb8-00f4ce4d87db",
      "metadata": {},
      "outputs": [],
      "source": [
        "<b>Question 10</b>: add cross-validation."
      ]
    },
    {
      "cell_type": "code",
      "id": "c5c9c62e-8652-4e84-9933-6e157929c9ad",
      "metadata": {},
      "outputs": [],
      "source": [
        "Rcross = cross_val_score(pipe_lr,x ,y, cv = 4)\nprint(Rcross)\nprint(\"The mean of the folds are\", Rcross.mean(), \"and the standart deviation is\", Rcross.std())\n\nyhat = cross_val_predict(pipe_lr,x,y,cv = 4)\nyhat[0:5]"
      ]
    },
    {
      "cell_type": "markdown",
      "id": "e5174594-a237-4410-972b-5ab5acff9aa9",
      "metadata": {},
      "outputs": [],
      "source": [
        "<b>Question 11</b>: create ensemble of classifiers using."
      ]
    },
    {
      "cell_type": "code",
      "id": "3cc43358-57b6-4154-bb7c-9edad028306b",
      "metadata": {},
      "outputs": [],
      "source": [
        "\n\nnames = [\"Logistic Regression\",\n         \"Decision Tree\", \"Random Forest\",\"Gaussian Naive Bayes\"]\nclassifiers = [\n    LogisticRegression(),\n    DecisionTreeClassifier(max_depth=8),\n    RandomForestClassifier(n_estimators=10, max_features=1),\n    GaussianNB(),\n]\n\nscores_train = []\nscores_test = []\nscores_train_s = []\nscores_test_s = []"
      ]
    },
    {
      "cell_type": "code",
      "id": "3433a09a-492a-4ee4-9f5b-42df26ece970",
      "metadata": {},
      "outputs": [],
      "source": [
        "\n\nest = [(str(est), est) for est in classifiers]\neclf = [VotingClassifier(\n    estimators=est,\n    voting='hard')]\nnames += [\"Voting Classifier\"]\nclassifiers += eclf\nfor name, classif in zip(names, classifiers):\n    start_time = time.time()\n    print(name,'fitting.....',end = '')\n    clf = make_pipeline(trans, classif)\n    clf.fit(x_train,y_train)\n    score_train = recall_score(y_train, clf.predict(x_train), average='micro')\n    score_test = recall_score(y_test, clf.predict(x_test), average='micro')\n    scores_train.append(score_train)\n    scores_test.append(score_test)\n\n    # clf_s = make_pipeline(trans, classif)\n    # clf_s.fit(x_train,y_train)\n    # score_train_s = recall_score(y_train, clf_s.predict(x_train), average='micro')\n    # score_test_s = recall_score(y_test, clf_s.predict(x_test), average='micro')\n    # scores_train_s.append(score_train_s)\n    # scores_test_s.append(score_test_s)\n    end_time = time.time()\n    print(\" [\",round(end_time - start_time,2),\"s]\")"
      ]
    },
    {
      "cell_type": "markdown",
      "id": "4185b4d6-7b2b-46e7-8428-0fcdb2ead05a",
      "metadata": {},
      "outputs": [],
      "source": [
        "<b>Question 12</b>: show the train and test scores of an ensemble."
      ]
    },
    {
      "cell_type": "code",
      "id": "b6f66ad7-91d9-42c4-a73a-7c2c63292f4c",
      "metadata": {},
      "outputs": [],
      "source": [
        "res = pd.DataFrame(index = names)\nres['Train'] = np.array(scores_train)\nres['Test'] = np.array(scores_test)\nres.index.name = \"Classifier accuracy\"\npd.options.display.float_format = '{:,.2f}'.format\nres"
      ]
    },
    {
      "cell_type": "code",
      "id": "da1d12c5-f660-4998-bebf-21bd9788641f",
      "metadata": {},
      "outputs": [],
      "source": [
        "fig, ax = plt.subplots(figsize=(10,6))\nax.bar(names, scores_test)\n\nax.set_title('Calassifiers Accuracy')\nax.set_xlabel('Classifier')\nax.set_ylabel('Accuracy')\n\nplt.xticks(rotation=45)\nplt.show()"
      ]
    },
    {
      "cell_type": "code",
      "id": "776cb552-151c-4a06-afa0-a95ebf730151",
      "metadata": {},
      "outputs": [],
      "source": [
        "clf"
      ]
    },
    {
      "cell_type": "markdown",
      "id": "7624ad65-cc5e-4440-962b-28a1bacdaa92",
      "metadata": {},
      "outputs": [],
      "source": [
        "<b>Question 13</b>: build decision tree."
      ]
    },
    {
      "cell_type": "code",
      "id": "21302cff-19ca-48c8-a5cd-f70e601dd6b9",
      "metadata": {},
      "outputs": [],
      "source": [
        "model = DecisionTreeClassifier()\n\nDTC = make_pipeline(trans, model)\n\nDTC.fit(x_train, y_train)\n\nscores_test = DTC.score(x_test, y_test)\n\n# accuracy = accuracy_score(y_enc, yhat)\nprint('Accuracy: %.2f' % (scores_test * 100))\n\n\n"
      ]
    },
    {
      "cell_type": "markdown",
      "id": "566481d2-d7f2-489d-b8db-881a79007e84",
      "metadata": {},
      "outputs": [],
      "source": [
        "<b>Question 14</b>: show text representation of a built decision tree."
      ]
    },
    {
      "cell_type": "code",
      "id": "a1b3a169-5ad1-45b2-8067-67c99de3cd2a",
      "metadata": {},
      "outputs": [],
      "source": [
        "text_representation = tree.export_text(model)\nprint(text_representation)"
      ]
    },
    {
      "cell_type": "code",
      "id": "349cf7c4-7e39-4b0c-b350-4c40a6535501",
      "metadata": {},
      "outputs": [],
      "source": [
        "with open(\"decistion_tree.log\", \"w\") as fout:\n    fout.write(text_representation)"
      ]
    },
    {
      "cell_type": "markdown",
      "id": "ec04220c-34cc-41dd-8551-775e0ab208ea",
      "metadata": {},
      "outputs": [],
      "source": [
        "<b>Question 15</b>: plot decision tree using **[tree.plot_tree](https://scikit-learn.org/stable/modules/generated/sklearn.tree.plot_tree.html)**"
      ]
    },
    {
      "cell_type": "code",
      "id": "ce718e19-7a67-4cd5-8d9e-859099ad3fc9",
      "metadata": {},
      "outputs": [],
      "source": [
        "fig = plt.figure(figsize=(100,100))\n_ = tree.plot_tree(model,\n                   max_depth = 4,\n                   feature_names = x.columns,\n                   class_names = y.unique().astype(str),\n                   filled = True)"
      ]
    },
    {
      "cell_type": "code",
      "id": "9db02161-a751-4ced-b5ab-61d3eb22b893",
      "metadata": {},
      "outputs": [],
      "source": [
        "dot_data = tree.export_graphviz(model,\n                                max_depth = 7,\n                                feature_names = x.columns,\n                                class_names = y.unique().astype(str),\n                                filled=True)"
      ]
    },
    {
      "cell_type": "code",
      "id": "b6418ae5-ca55-43f6-9e50-7b97b6bc3ad5",
      "metadata": {},
      "outputs": [],
      "source": [
        "graph = graphviz.Source(dot_data, format=\"png\")\n"
      ]
    },
    {
      "cell_type": "code",
      "id": "c6aaac8d-0f69-41b6-961a-24a550aaae4b",
      "metadata": {},
      "outputs": [],
      "source": [
        "graph.render(\"decision_tree_graphivz\")"
      ]
    },
    {
      "cell_type": "markdown",
      "id": "5bc59eb1-5658-4403-aa7b-4969079ae1a8",
      "metadata": {},
      "outputs": [],
      "source": [
        "<b>Question 16</b>: create a function that will predict patients diagnoses based on input data."
      ]
    },
    {
      "cell_type": "code",
      "id": "e1d5a4db-4dcb-4aa4-82da-dfa9a55591d4",
      "metadata": {},
      "outputs": [],
      "source": [
        "print(x.columns)\n\ninput_df = pd.DataFrame(data=[[1,89,24,19,25,27.8,0.559,21]], columns=['Pregnancies', 'Glucose', 'BloodPressure', 'SkinThickness', 'Insulin', 'BMI', 'DiabetesPedigreeFunction', 'Age'])\n# Make predictions using the voting classifier\npredictions = clf.predict(input_df)\n\n\n# predict = DTC.predict(columns)\n\n\nprint(predictions)"
      ]
    },
    {
      "cell_type": "code",
      "id": "7aaf0465-c239-4a44-b5e8-20f206c2d4ae",
      "metadata": {},
      "outputs": [],
      "source": [
        "clf"
      ]
    },
    {
      "cell_type": "markdown",
      "id": "609e4bb4-45ac-452d-992c-91ae71c752bd",
      "metadata": {},
      "outputs": [],
      "source": [
        "### Thank you for completing this lab!\n\n## Author\n\n<a href=\"https://www.linkedin.com/in/joseph-s-50398b136/?utm_medium=Exinfluencer&utm_source=Exinfluencer&utm_content=000026UJ&utm_term=10006555&utm_id=NA-SkillsNetwork-Channel-SkillsNetworkCoursesIBMDeveloperSkillsNetworkDA0101ENSkillsNetwork20235326-2021-01-01\" target=\"_blank\">Joseph Santarcangelo</a>\n\n## Change Log\n\n| Date (YYYY-MM-DD) | Version | Changed By | Change Description                 |\n| ----------------- | ------- | ---------- | ---------------------------------- |\n\n<hr>\n\n## <h3 align=\"center\"> © IBM Corporation 2020. All rights reserved. <h3/>\n"
      ]
    }
  ],
  "metadata": {
    "language_info": {
      "name": ""
    },
    "kernelspec": {
      "name": "",
      "display_name": ""
    }
  },
  "nbformat": 4,
  "nbformat_minor": 4
}