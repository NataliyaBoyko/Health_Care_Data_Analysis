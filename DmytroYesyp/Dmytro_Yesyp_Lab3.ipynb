{
  "cells": [
    {
      "cell_type": "markdown",
      "id": "7757bad4-2d8f-447c-9fb1-ebeee0664318",
      "metadata": {},
      "outputs": [],
      "source": [
        "<center>\n    <img src=\"https://cf-courses-data.s3.us.cloud-object-storage.appdomain.cloud/assets/logos/SN_web_lightmode.png\" width=\"300\" alt=\"SN_web_lightmode.png logo\"/>\n</center>\n\n# Investigation of diabetes patients readmission among US hospitals\n\n# Lab 3 Data Analysis with Python\n\nEstimated time needed: **30** minutes\n\n## Objectives\n\nAfter completing this lab you will be able to:\n\n*   Explore features or charecteristics to predict columns\n"
      ]
    },
    {
      "cell_type": "markdown",
      "id": "13401c44-143d-4580-a3fe-f99df7400cac",
      "metadata": {},
      "outputs": [],
      "source": [
        "<h2>Table of Contents</h2>\n\n<div class=\"alert alert-block alert-info\" style=\"margin-top: 20px\">\n<ol>\n    <li><a href=\"https://#import_data\">Import Data from Module</a></li>\n    <li><a href=\"https://#pattern_visualization\">Analyzing Individual Feature Patterns using Visualization</a></li>\n    <li><a href=\"https://#discriptive_statistics\">Descriptive Statistical Analysis</a></li>\n    <li><a href=\"https://#basic_grouping\">Basics of Grouping</a></li>\n    <li><a href=\"https://#correlation_causation\">Correlation and Causation</a></li>\n    <li><a href=\"https://#anova\">ANOVA</a></li>\n</ol>\n\n</div>\n\n<hr>\n"
      ]
    },
    {
      "cell_type": "markdown",
      "id": "cf023b14-ef8f-4eb4-96db-4d00cb6089bb",
      "metadata": {},
      "outputs": [],
      "source": [
        "<h3>What are the main characteristics that have the most impact on the Readmitted column?</h3>\n"
      ]
    },
    {
      "cell_type": "markdown",
      "id": "aabb2ea5-cafa-4175-b1ba-2c4c7c768850",
      "metadata": {},
      "outputs": [],
      "source": [
        "<h2 id=\"import_data\">1. Import Data from Module 2</h2>\n"
      ]
    },
    {
      "cell_type": "markdown",
      "id": "52e18ad1-0cfe-4c99-b71e-3f72d79799f0",
      "metadata": {},
      "outputs": [],
      "source": [
        "To perform 3rd lab we will use created in 2nd lab DataSet."
      ]
    },
    {
      "cell_type": "markdown",
      "id": "f622d4a9-a8fc-4e6d-ad9b-0cb3be13c118",
      "metadata": {},
      "outputs": [],
      "source": [
        "<h4>Import needed libraries<h4>\n    \n<p>To run this lab, we need to import several libraries, such as Pandas, Python, SciPy, and Matplotlib.</p>"
      ]
    },
    {
      "cell_type": "code",
      "id": "8010ad59-ed96-42cc-b562-8007dd082a47",
      "metadata": {},
      "outputs": [],
      "source": [
        "#If you run the lab locally using Anaconda, you can load the correct library by uncommenting the following:\n#! mamba install pandas\n#! mamba install numpy\n#! mamba install matplotlib\n#! mamba install seaborn\n#! mamba install sklearn\n#! mamba install dython\n#! mamba install scipy"
      ]
    },
    {
      "cell_type": "code",
      "id": "342368b0-fae0-44ef-bf16-49e8d3905831",
      "metadata": {},
      "outputs": [],
      "source": [
        "!pip install dython"
      ]
    },
    {
      "cell_type": "markdown",
      "id": "0056cc9d-9938-4120-a993-711c5dcc4bb9",
      "metadata": {},
      "outputs": [],
      "source": [
        "<div class=\"alert alert-danger alertdanger\" style=\"margin-top: 20px\">\nIf error appeared, please restart kernel and run this block again."
      ]
    },
    {
      "cell_type": "code",
      "id": "0ba00369-28c1-4572-bad1-7f5eceddfd98",
      "metadata": {},
      "outputs": [],
      "source": [
        "import pandas as pd\nimport numpy as np\nimport matplotlib.pyplot as plt\nimport seaborn as sns\nimport sklearn as sklearn\nfrom dython.nominal import associations\nfrom scipy import stats\n%matplotlib inline"
      ]
    },
    {
      "cell_type": "markdown",
      "id": "5b1edce2-b962-423d-b700-ed6bb3d42b92",
      "metadata": {},
      "outputs": [],
      "source": [
        "Now we will load the data and store it in dataframe `df`:"
      ]
    },
    {
      "cell_type": "markdown",
      "id": "a60ae8b3-8707-4a53-9b03-48cae358374f",
      "metadata": {},
      "outputs": [],
      "source": [
        "This DataSet was hosted on IBM Cloud object. Click <a href=\"https://cocl.us/DA101EN_object_storage?utm_medium=Exinfluencer&utm_source=Exinfluencer&utm_content=000026UJ&utm_term=10006555&utm_id=NA-SkillsNetwork-Channel-SkillsNetworkCoursesIBMDeveloperSkillsNetworkDA0101ENSkillsNetwork20235326-2021-01-01\">HERE</a> for free storage.\n"
      ]
    },
    {
      "cell_type": "code",
      "id": "eb165ff9-7b46-4368-a357-758e4b9fd8ae",
      "metadata": {},
      "outputs": [],
      "source": [
        "path='https://cf-courses-data.s3.us.cloud-object-storage.appdomain.cloud/IBMSkillsNetwork-GPXX0I3LEN/clean_df.csv'"
      ]
    },
    {
      "cell_type": "markdown",
      "id": "2eb81491-7f4e-47f9-a6c2-d2e2a58df08e",
      "metadata": {},
      "outputs": [],
      "source": [
        "if you are running locally, please download the DataSet and change \"path\" to your downloaded DataSet."
      ]
    },
    {
      "cell_type": "code",
      "id": "4e887a4a-6d3e-4537-a5e4-6ebba69636ac",
      "metadata": {},
      "outputs": [],
      "source": [
        "df = pd.read_csv(path, index_col=0)\ndf.head()"
      ]
    },
    {
      "cell_type": "markdown",
      "id": "704f8504-19de-4a2c-af94-3c55906aff4a",
      "metadata": {},
      "outputs": [],
      "source": [
        "<h2 id=\"pattern_visualization\">2. Analyzing Individual Feature Patterns Using Visualization</h2>\n"
      ]
    },
    {
      "cell_type": "markdown",
      "id": "4ead6d69-dce8-4484-803e-31e32648b660",
      "metadata": {},
      "outputs": [],
      "source": [
        "<h4>How to choose the right visualization method?</h4>\n<p>When visualizing individual variables, it is important to first understand what type of variable you are dealing with. This will help us find the right visualization method for that variable.</p>"
      ]
    },
    {
      "cell_type": "code",
      "id": "5a8ad898-061c-4831-839a-a9e075e0a3f1",
      "metadata": {},
      "outputs": [],
      "source": [
        "# list the data types for each column\nprint(df.dtypes)"
      ]
    },
    {
      "cell_type": "markdown",
      "id": "12486501-8bec-45b6-ac6a-382a2316f447",
      "metadata": {},
      "outputs": [],
      "source": [
        " <div class=\"alert alert-danger alertdanger\" style=\"margin-top: 20px\">\n<h1> Question  1: </h1>\n\n<b>What is the data type of the column \"Num Medications\"? </b>\n\n</div>\n"
      ]
    },
    {
      "cell_type": "code",
      "id": "98a6d6a0-839c-453c-b663-3673f03f206a",
      "metadata": {},
      "outputs": [],
      "source": [
        "# Write your code below and press Shift+Enter to execute"
      ]
    },
    {
      "cell_type": "markdown",
      "id": "0ffcc65a-615a-4462-96fa-3f481e315d19",
      "metadata": {},
      "outputs": [],
      "source": [
        "<details><summary>Click here for the solution</summary>\n\n```python\ndf['Num Medications'].dtypes\n```\n\n</details>\n"
      ]
    },
    {
      "cell_type": "markdown",
      "id": "a27bd6e5-68fb-46b5-9457-e3471210fe5c",
      "metadata": {},
      "outputs": [],
      "source": [
        "For example, we can calculate the correlation between variables  of type \"int64\" or \"float64\" using the method \"corr\".\nAlso, we can find association between objects/categories and correlation (int64 or float64) using associations from dython.nominal."
      ]
    },
    {
      "cell_type": "code",
      "id": "71759d2f-a924-40f7-9e4d-0d645ea189ef",
      "metadata": {},
      "outputs": [],
      "source": [
        "print(df.corr())"
      ]
    },
    {
      "cell_type": "markdown",
      "id": "77f56b97-b553-451d-9975-355d9580c4d4",
      "metadata": {},
      "outputs": [],
      "source": [
        "The diagonal elements are always one; we will study correlation more precisely at the end of the notebook."
      ]
    },
    {
      "cell_type": "markdown",
      "id": "b621dc21-d3fb-46a8-a180-95096a251b71",
      "metadata": {},
      "outputs": [],
      "source": [
        " <div class=\"alert alert-danger alertdanger\" style=\"margin-top: 20px\">\n<h1> Question  2: </h1>\n\n<p>Find the correlation and association between \"Time In Hospital\", \"Num Procedures\", \"Age\", \"Num Medications\", \"Prescribed Diabetes Medication\",\"Insulin\",\"Readmitted\".</p>\n<p>Hint: if you would like to select those columns, use the following syntax: df[[\"Time In Hospital\",\"Num Procedures\", ...]].  </p>\n</div>"
      ]
    },
    {
      "cell_type": "code",
      "id": "0c2f0e6b-1afa-4141-97a2-569d78c30503",
      "metadata": {},
      "outputs": [],
      "source": [
        "# Write your code below and press Shift+Enter to execute"
      ]
    },
    {
      "cell_type": "markdown",
      "id": "db2fa7a0-da74-4cf1-81c3-e58585154866",
      "metadata": {},
      "outputs": [],
      "source": [
        "<details><summary>Click here for the solution</summary>\n\n```python\n#example with .corr()\nprint(df[[\"Time In Hospital\",\"Num Procedures\"]].corr())\n#example with associations()\nprint(associations(df[['Time In Hospital','Num Procedures','Age', 'Num Medications', 'Prescribed Diabetes Medication','Insulin','Readmitted']]))\n\n```\n</details>"
      ]
    },
    {
      "cell_type": "markdown",
      "id": "7697c008-ea4f-4a14-823c-fbae63c3d66f",
      "metadata": {},
      "outputs": [],
      "source": [
        "As we can notice, most of the columns have values < 0.5, but there is nothing to be worried about. This is normal correlation for medical data, because it is difficult to predict."
      ]
    },
    {
      "cell_type": "markdown",
      "id": "ebccc424-cce8-4c45-bf68-933a4bd25357",
      "metadata": {},
      "outputs": [],
      "source": [
        "<h2>Continuous Numerical Variables:</h2>\n\n<p>Continuous numerical variables are variables that may contain any value within some range. They can be of type \"int64\" or \"float64\". A great way to visualize these variables is by using scatterplots with fitted lines.</p>\n\n<p>In order to start understanding the (linear) relationship, we can use \"regplot\" which plots the scatterplot plus the fitted regression line for the data.</p>\n"
      ]
    },
    {
      "cell_type": "markdown",
      "id": "7a05ae1f-3465-47e2-a06a-4c9e45b1d3ed",
      "metadata": {},
      "outputs": [],
      "source": [
        "Let's see several examples of different linear relationships:\n"
      ]
    },
    {
      "cell_type": "markdown",
      "id": "52ac6db6-8dcf-4666-b912-ffd05c2f96b8",
      "metadata": {},
      "outputs": [],
      "source": [
        "<h3>Positive Linear Relationship</h4>\n"
      ]
    },
    {
      "cell_type": "markdown",
      "id": "aa2b56c3-79d0-4ce7-9a2f-f8eba36b50ef",
      "metadata": {},
      "outputs": [],
      "source": [
        "Let's find the scatterplot of \"Num Lab Procedures\" and \"Num Medications\".\n"
      ]
    },
    {
      "cell_type": "code",
      "id": "3be39269-d4ba-4b54-ad08-bf16d2e0ee2f",
      "metadata": {},
      "outputs": [],
      "source": [
        "sns.regplot(x=\"Num Lab Procedures\", y=\"Num Medications\", data=df, line_kws={\"color\": \"red\"})\nplt.ylim(0,)"
      ]
    },
    {
      "cell_type": "markdown",
      "id": "64761cd2-f653-43c9-bcb8-769b8663950b",
      "metadata": {},
      "outputs": [],
      "source": [
        "<p>As the Num Lab Procedures goes up, the Num Medications goes up: this indicates a positive direct correlation between these two variables.</p>\n"
      ]
    },
    {
      "cell_type": "markdown",
      "id": "c9be98e5-2cbe-4a84-b28b-52172bb87898",
      "metadata": {},
      "outputs": [],
      "source": [
        "We can examine the correlation between 'Num Lab Procedures' and 'Num Medications' and see that it's approximately 0.26.\n"
      ]
    },
    {
      "cell_type": "code",
      "id": "e15e324b-5b61-4d42-b6be-1f01e97104e5",
      "metadata": {},
      "outputs": [],
      "source": [
        "df[[\"Num Lab Procedures\",\"Num Medications\"]].corr()"
      ]
    },
    {
      "cell_type": "markdown",
      "id": "ca0cedcd-ffe1-4d4e-898e-7b6007bc4a05",
      "metadata": {},
      "outputs": [],
      "source": [
        "Num Lab Procedures is a potential predictor variable of Num Medications. Let's find the scatterplot of \"Number Emergency\" and \"Num Lab Procedures\"."
      ]
    },
    {
      "cell_type": "code",
      "id": "ee93dea9-ee0f-4cfa-9b8b-50cc9c20302a",
      "metadata": {},
      "outputs": [],
      "source": [
        "sns.regplot(x=\"Number Emergency\", y=\"Num Lab Procedures\", data=df, line_kws={\"color\": \"red\"})"
      ]
    },
    {
      "cell_type": "markdown",
      "id": "3f236e58-b70a-4415-9fd6-725fe8c0d9f8",
      "metadata": {},
      "outputs": [],
      "source": [
        "<p>As Number Emergency goes up, the Num Lab Procedures goes down: this indicates an inverse/negative relationship between these two variables. Number Emergency could potentially be a predictor of Num Lab Procedures.</p>"
      ]
    },
    {
      "cell_type": "markdown",
      "id": "d143ec0f-82e1-4ed7-8a8b-d1037cde163c",
      "metadata": {},
      "outputs": [],
      "source": [
        "We can examine the correlation between 'Number Emergency' and 'Num Lab Procedures' and see it's approximately -0.002252.\n"
      ]
    },
    {
      "cell_type": "code",
      "id": "eae6fff9-d083-4e48-ba1b-fa13d3afa094",
      "metadata": {},
      "outputs": [],
      "source": [
        "df[['Number Emergency', 'Num Lab Procedures']].corr()"
      ]
    },
    {
      "cell_type": "markdown",
      "id": "50ae3013-24d2-46ba-a08b-01d995c91a80",
      "metadata": {},
      "outputs": [],
      "source": [
        "<h3>Weak Linear Relationship</h3>\n"
      ]
    },
    {
      "cell_type": "markdown",
      "id": "6942b24f-2c26-4348-a098-8ec0ea57113d",
      "metadata": {},
      "outputs": [],
      "source": [
        "Let's see if \"Age\" is a predictor variable of \"Weight\".\n"
      ]
    },
    {
      "cell_type": "code",
      "id": "8cde5018-c959-44e7-906e-ac1add2bf8d5",
      "metadata": {},
      "outputs": [],
      "source": [
        "associations(df[['Age','Weight']])"
      ]
    },
    {
      "cell_type": "markdown",
      "id": "d09e1653-4caa-4eaa-9249-ae2a24afd610",
      "metadata": {},
      "outputs": [],
      "source": [
        "<p>According to heatmap Age does not seem like a good predictor of the Weight at all."
      ]
    },
    {
      "cell_type": "markdown",
      "id": "4d1b7ec9-9fd7-4c85-a066-b55b05e5d66a",
      "metadata": {},
      "outputs": [],
      "source": [
        "As we can notice the correlation between 'Age' and 'Weight' approximately 0.03.\n"
      ]
    },
    {
      "cell_type": "markdown",
      "id": "9d6ae7cf-c377-494c-bfbe-2fb79f3c25d4",
      "metadata": {},
      "outputs": [],
      "source": [
        " <div class=\"alert alert-danger alertdanger\" style=\"margin-top: 20px\">\n<h1> Question  3 a): </h1>\n\n<p>Find the correlation  between x=\"Number Inpatient\" and y=\"Number Emergency\".</p>\n<p>Hint: if you would like to select those columns, use the following syntax: df[[\"Number Inpatient\",\"Number Emergency\"]].  </p>\n</div>\n"
      ]
    },
    {
      "cell_type": "code",
      "id": "17630013-e65d-41bc-9a97-a7eec0c6452f",
      "metadata": {},
      "outputs": [],
      "source": [
        "# Write your code below and press Shift+Enter to execute"
      ]
    },
    {
      "cell_type": "markdown",
      "id": "c97dc93a-2790-4a00-bc90-f7dbf0bd0271",
      "metadata": {},
      "outputs": [],
      "source": [
        "<details><summary>Click here for the solution</summary>\n\n```python\ndf[['Number Inpatient', 'Number Emergency']].corr()\n\n```\n\n</details>\n"
      ]
    },
    {
      "cell_type": "markdown",
      "id": "c42d0903-974d-4c2d-97b0-11a116c0896e",
      "metadata": {},
      "outputs": [],
      "source": [
        "<div class=\"alert alert-danger alertdanger\" style=\"margin-top: 20px\">\n<h1>Question  3 b):</h1>\n\n<p>Given the correlation results between \"Number Inpatient\" and \"Number Emergency\", do you expect a linear relationship?</p>\n<p>Verify your results using the function \"regplot()\".</p>\n</div>\n"
      ]
    },
    {
      "cell_type": "code",
      "id": "5c0495eb-b983-4b83-b0e1-ed24d570a5ab",
      "metadata": {},
      "outputs": [],
      "source": [
        "# Write your code below and press Shift+Enter to execute"
      ]
    },
    {
      "cell_type": "markdown",
      "id": "a950ee7f-2865-4560-950a-8c18bdd103df",
      "metadata": {},
      "outputs": [],
      "source": [
        "<details><summary>Click here for the solution</summary>\n\n```python\n#There is a weak correlation between the variable 'Number Inpatient' and 'Number Emergency.' as such regression will not work well. We can see this using \"regplot\" to demonstrate this.\n#Code:\nsns.regplot(x=\"Number Inpatient\", y=\"Number Emergency\", data=df, line_kws={\"color\": \"red\"})\n\n```\n</details>\n"
      ]
    },
    {
      "cell_type": "markdown",
      "id": "9d315f36-15a4-438f-b40a-9627ec19d0d3",
      "metadata": {},
      "outputs": [],
      "source": [
        "<h3>Categorical Variables</h3>\n\n<p>These are variables that describe a 'characteristic' of a data unit, and are selected from a small group of categories. The categorical variables can have the type \"object\" or \"int64\". A good way to visualize categorical variables is by using boxplots.</p>\n"
      ]
    },
    {
      "cell_type": "markdown",
      "id": "621ae16b-b110-4f6a-b690-f4cdbf6c8324",
      "metadata": {},
      "outputs": [],
      "source": [
        "Let's look at the relationship between \"Weight\" and \"Num Procedures\".\n"
      ]
    },
    {
      "cell_type": "code",
      "id": "dd727f27-2ff0-4ada-b91b-76c03536170d",
      "metadata": {},
      "outputs": [],
      "source": [
        "ax = sns.boxplot(x=\"Weight\", y=\"Num Procedures\", data=df)\nax.set_xticklabels(ax.get_xticklabels(),rotation=30)\nprint(ax)"
      ]
    },
    {
      "cell_type": "markdown",
      "id": "a59f58a8-64d2-41fa-b68c-a9bf4fe7cff7",
      "metadata": {},
      "outputs": [],
      "source": [
        "<p>We see that the distributions of Weight between the different NumProcedures categories have a significant overlap, so NumProcedures would not be a good predictor of Weight. Let's examine engine \"Age\" and \"NumProcedures\".</p>\n"
      ]
    },
    {
      "cell_type": "code",
      "id": "d3313ed6-d766-4e5c-87d9-4edb9c054a13",
      "metadata": {},
      "outputs": [],
      "source": [
        "ax = sns.boxplot(x=\"Age\", y=\"Num Procedures\", data=df)\nax.set_xticklabels(ax.get_xticklabels(),rotation=30)\nprint(ax)"
      ]
    },
    {
      "cell_type": "markdown",
      "id": "5335e0ac-1c7c-4027-8737-ac821392e2a4",
      "metadata": {},
      "outputs": [],
      "source": [
        "<p>Here we see that the distribution of NumProcedures between Age categories, are distinct enough to take Age as a potential good predictor of NumProcedures.</p>\n"
      ]
    },
    {
      "cell_type": "markdown",
      "id": "66666cb3-6966-4f49-a36b-c21a474c133e",
      "metadata": {},
      "outputs": [],
      "source": [
        "Let's examine \"Time In Hospital\" and \"Num Medications\".\n"
      ]
    },
    {
      "cell_type": "code",
      "id": "fad24ffc-c0d4-4132-8ad0-a68e6ec75cad",
      "metadata": {},
      "outputs": [],
      "source": [
        "sns.boxplot(x=\"Time In Hospital\", y=\"Num Medications\", data=df)"
      ]
    },
    {
      "cell_type": "markdown",
      "id": "99b6b7a2-5904-418d-bc7a-d61b298dfba2",
      "metadata": {},
      "outputs": [],
      "source": [
        "<p>Here we see that the distribution of Num Medications between the different Time In Hospital categories differs. As such, Time In Hospital could potentially be a predictor of Num Medications.</p>\n"
      ]
    },
    {
      "cell_type": "markdown",
      "id": "f2750a88-27bf-4dbb-ba11-e5bda69d68e5",
      "metadata": {},
      "outputs": [],
      "source": [
        "<h2 id=\"discriptive_statistics\">3. Descriptive Statistical Analysis</h2>\n"
      ]
    },
    {
      "cell_type": "markdown",
      "id": "ffe09a69-b5a2-4389-afa6-bb84902cb1a3",
      "metadata": {},
      "outputs": [],
      "source": [
        "<p>Let's first take a look at the variables by utilizing a description method.</p>\n\n<p>The <b>describe</b> function automatically computes basic statistics for all continuous variables. Any NaN values are automatically skipped in these statistics.</p>\n\nThis will show:\n\n<ul>\n    <li>the count of that variable</li>\n    <li>the mean</li>\n    <li>the standard deviation (std)</li>\n    <li>the minimum value</li>\n    <li>the IQR (Interquartile Range: 25%, 50% and 75%)</li>\n    <li>the maximum value</li>\n<ul>\n"
      ]
    },
    {
      "cell_type": "markdown",
      "id": "d9d85e7f-5dce-48eb-b9b6-aa0d6e1bf7d3",
      "metadata": {},
      "outputs": [],
      "source": [
        "We can apply the method \"describe\" as follows:\n"
      ]
    },
    {
      "cell_type": "code",
      "id": "c1148eb1-08f9-4d91-8c21-2b43363502d2",
      "metadata": {},
      "outputs": [],
      "source": [
        "df.describe()"
      ]
    },
    {
      "cell_type": "markdown",
      "id": "a82c257b-6210-4e5a-9907-a2983b4640fd",
      "metadata": {},
      "outputs": [],
      "source": [
        "The default setting of \"describe\" skips variables of type object. We can apply the method \"describe\" on the variables of type 'object' as follows:\n"
      ]
    },
    {
      "cell_type": "code",
      "id": "10719c94-a942-4ac2-865d-1ea588544452",
      "metadata": {},
      "outputs": [],
      "source": [
        "df.describe(include=['object'])"
      ]
    },
    {
      "cell_type": "markdown",
      "id": "d6a79679-e474-4fdf-b675-5aa77f4711eb",
      "metadata": {},
      "outputs": [],
      "source": [
        "<h3>Value Counts</h3>\n"
      ]
    },
    {
      "cell_type": "markdown",
      "id": "82800e4c-ebaa-4d95-ab33-16ffe8e07808",
      "metadata": {},
      "outputs": [],
      "source": [
        "<p>Value counts is a good way of understanding how many units of each characteristic/variable we have. We can apply the \"value_counts\" method on the column \"Readmitted\". Don’t forget the method \"value_counts\" only works on pandas series, not pandas dataframes. As a result, we only include one bracket <code>df['Readmitted]</code>, not two brackets <code>df[['Readmitted']]</code>.</p>\n"
      ]
    },
    {
      "cell_type": "code",
      "id": "5d6db0ec-eb02-419e-9b0f-607473e54bef",
      "metadata": {},
      "outputs": [],
      "source": [
        "df['Readmitted'].value_counts()"
      ]
    },
    {
      "cell_type": "markdown",
      "id": "725154a0-33d5-4378-8b66-a5e2bd786a41",
      "metadata": {},
      "outputs": [],
      "source": [
        "We can convert the series to a dataframe as follows:\n"
      ]
    },
    {
      "cell_type": "code",
      "id": "099c0fb6-d301-4509-b6e2-6618469e0520",
      "metadata": {},
      "outputs": [],
      "source": [
        "df['Readmitted'].value_counts().to_frame()"
      ]
    },
    {
      "cell_type": "markdown",
      "id": "8661e328-98ec-4968-8d8b-5e7e252125fb",
      "metadata": {},
      "outputs": [],
      "source": [
        "Let's repeat the above steps but save the results to the dataframe \"Readmitted\" and rename the column  'Readmitted' to 'value_counts'.\n"
      ]
    },
    {
      "cell_type": "code",
      "id": "30069ac2-5789-4806-9315-396e7fba6e6d",
      "metadata": {},
      "outputs": [],
      "source": [
        "medical_seciality_counts = df['Readmitted'].value_counts().to_frame()\nmedical_seciality_counts.rename(columns={'Readmitted': 'value_counts'}, inplace=True)\nmedical_seciality_counts"
      ]
    },
    {
      "cell_type": "markdown",
      "id": "4715ccb3-1325-455f-b960-fc5ccca413bd",
      "metadata": {},
      "outputs": [],
      "source": [
        "Now let's rename the index to 'readmitted':"
      ]
    },
    {
      "cell_type": "code",
      "id": "0e1ef42d-5b4d-4786-91f6-76a9f4ed0d96",
      "metadata": {},
      "outputs": [],
      "source": [
        "medical_seciality_counts.index.name = 'readmitted'\nmedical_seciality_counts"
      ]
    },
    {
      "cell_type": "markdown",
      "id": "ff277851-1da9-4b93-987a-d6e49e0f3f5b",
      "metadata": {},
      "outputs": [],
      "source": [
        "We can  repeat the above process for the variable 'PayerCode'.\n"
      ]
    },
    {
      "cell_type": "code",
      "id": "b2ec8e50-d3b1-4817-b761-e10e7f28fd35",
      "metadata": {},
      "outputs": [],
      "source": [
        "# engine-location as variable\npayer_code_counts = df['Payer Code'].value_counts().to_frame()\npayer_code_counts.rename(columns={'Payer Code': 'value_counts'}, inplace=True)\npayer_code_counts.index.name = 'payer-code'\npayer_code_counts.head(10)"
      ]
    },
    {
      "cell_type": "markdown",
      "id": "cfcd0d8b-ea96-42d7-b3f7-78bffa2fd15b",
      "metadata": {},
      "outputs": [],
      "source": [
        "<p>After examining the value counts of the Payer Code location, we see that payer code would not be a good predictor variable for the medical speciality.</p>\n"
      ]
    },
    {
      "cell_type": "markdown",
      "id": "84449d71-9fb3-4e3b-83e5-c0cbdb093457",
      "metadata": {},
      "outputs": [],
      "source": [
        "<h2 id=\"basic_grouping\">4. Basics of Grouping</h2>\n"
      ]
    },
    {
      "cell_type": "markdown",
      "id": "5f2d09fb-594d-4981-a047-eaa9f1fabd9f",
      "metadata": {},
      "outputs": [],
      "source": [
        "<p>The \"groupby\" method groups data by different categories. The data is grouped based on one or several variables, and analysis is performed on the individual groups.</p>\n\n<p>For example, let's group by the variable \"Readmitted\". We see that there are 4 different categories of Insulin.</p>\n"
      ]
    },
    {
      "cell_type": "code",
      "id": "70f42f31-930e-455e-b51b-9243cbe09678",
      "metadata": {},
      "outputs": [],
      "source": [
        "df['Readmitted'].unique()"
      ]
    },
    {
      "cell_type": "markdown",
      "id": "45a65f37-d58a-4f79-8268-aca461fbc1e9",
      "metadata": {},
      "outputs": [],
      "source": [
        "<p>If we want to know, on average, which type of Readmitted is most valuable, we can group \"Readmitted\" and then average them.</p>\n\n<p>We can select the columns 'Readmitted', 'Num Medications' and 'Prescribed Diabetes Medication', then assign it to the variable \"df_group_one\".</p>\n"
      ]
    },
    {
      "cell_type": "code",
      "id": "62beb998-36ba-4826-b43e-34309e4af1cc",
      "metadata": {},
      "outputs": [],
      "source": [
        "df_group_one = df[['Num Medications','Readmitted','Prescribed Diabetes Medication']]"
      ]
    },
    {
      "cell_type": "markdown",
      "id": "8be67689-60a0-4463-8f4e-1fb5d4ad5803",
      "metadata": {},
      "outputs": [],
      "source": [
        "We can then calculate the average Readmitted rate for each of the different categories of data."
      ]
    },
    {
      "cell_type": "code",
      "id": "3e8ef575-806e-4a76-be10-be6f74082592",
      "metadata": {},
      "outputs": [],
      "source": [
        "# grouping results\ndf_group_one = df_group_one.groupby(['Readmitted'],as_index=False).mean()\ndf_group_one"
      ]
    },
    {
      "cell_type": "markdown",
      "id": "49909e76-7177-4f57-bbdb-d878a832555f",
      "metadata": {},
      "outputs": [],
      "source": [
        "<p>From our data, it seems Readmitted value \"<30 and \">30\" are, on average, the most frequent, among \"Num Medications\" and \"Prescribed Diabetes Medication\".</p>\n\n<p>You can also group by multiple variables. For example, let's group by both 'Readmitted' and 'Prescribed Diabetes Medication'. This groups the dataframe by the unique combination of 'Readmitted' and 'Prescribed Diabetes Medication'. We can store the results in the variable 'grouped_test1'.</p>"
      ]
    },
    {
      "cell_type": "code",
      "id": "19cacd67-93a0-468c-b2db-2ea7ce92ee1f",
      "metadata": {},
      "outputs": [],
      "source": [
        "# grouping results\ndf_gptest = df[['Num Medications','Readmitted','Prescribed Diabetes Medication']]\ngrouped_test1 = df_gptest.groupby(['Readmitted','Prescribed Diabetes Medication'],as_index=False).mean()\ngrouped_test1"
      ]
    },
    {
      "cell_type": "markdown",
      "id": "4a37b527-4c4b-40da-a0cc-8871cab836eb",
      "metadata": {},
      "outputs": [],
      "source": [
        "<p>This grouped data is much easier to visualize when it is made into a pivot table. A pivot table is like an Excel spreadsheet, with one variable along the column and another along the row. We can convert the dataframe to a pivot table using the method \"pivot\" to create a pivot table from the groups.</p>\n\n<p>In this case, we will leave the Readmitted variable as the rows of the table, and pivot Prescribed Diabetes Medication to become the columns of the table:</p>"
      ]
    },
    {
      "cell_type": "code",
      "id": "e9cc8342-ffec-40a6-aea8-4b9121bdcc61",
      "metadata": {},
      "outputs": [],
      "source": [
        "grouped_pivot = grouped_test1.pivot(index='Readmitted',columns='Prescribed Diabetes Medication')\ngrouped_pivot"
      ]
    },
    {
      "cell_type": "markdown",
      "id": "a357ae43-dc9f-4693-a6d6-86e3782a9bcd",
      "metadata": {},
      "outputs": [],
      "source": [
        "Often, we won't have data for some of the pivot cells. We can fill these missing cells with the value 0, but any other value could potentially be used as well. It should be mentioned that missing data is quite a complex subject and is an entire course on its own."
      ]
    },
    {
      "cell_type": "code",
      "id": "0d1df34f-f70f-4b62-92f4-ff2d020f4f02",
      "metadata": {},
      "outputs": [],
      "source": [
        "grouped_pivot = grouped_pivot.fillna(0) #fill missing values with 0\ngrouped_pivot"
      ]
    },
    {
      "cell_type": "markdown",
      "id": "f14eb00f-01be-4bb9-a7eb-b87957c17978",
      "metadata": {},
      "outputs": [],
      "source": [
        "<div class=\"alert alert-danger alertdanger\" style=\"margin-top: 20px\">\n<h1>Question 4:</h1>\n\n<p>Use the \"groupby\" function to find the average \"Readmitted\" based on \"Num Medications\".</p>\n</div>\n"
      ]
    },
    {
      "cell_type": "code",
      "id": "b6497c7a-4c6a-4187-a1a5-94ce7a51a553",
      "metadata": {},
      "outputs": [],
      "source": [
        "# Write your code below and press Shift+Enter to execute"
      ]
    },
    {
      "cell_type": "markdown",
      "id": "c1c8118d-043e-42e8-9f0e-e2f0a85d358e",
      "metadata": {},
      "outputs": [],
      "source": [
        "<details><summary>Click here for the solution</summary>\n\n```python\n# grouping results\n\ndf_gptest2 = df[['Readmitted','Num Medications']]\ngrouped_test_bodystyle = df_gptest2.groupby(['Readmitted'],as_index= False).mean()\ngrouped_test_bodystyle\n\n\n```\n\n</details>\n"
      ]
    },
    {
      "cell_type": "code",
      "id": "dee3ced7-eb66-4b19-9d6e-80fff521878c",
      "metadata": {},
      "outputs": [],
      "source": [
        "#use the grouped results\nplt.pcolor(grouped_pivot, cmap='RdBu')\nplt.colorbar()\nplt.show()"
      ]
    },
    {
      "cell_type": "markdown",
      "id": "ec1a0e31-b31a-4ca9-9c70-81d4deeeffc1",
      "metadata": {},
      "outputs": [],
      "source": [
        "<p>The heatmap plots the target variable (Readmitted) proportional to colour with respect to the variables 'Prescribed Diabetes Medication' and 'Num Medications' on the vertical and horizontal axis, respectively. This allows us to visualize how the Readmitted is related to 'Prescribed Diabetes Medication' and 'Num Medications'.</p>\n\n<p>The default labels convey no useful information to us. Let's change that:</p>\n"
      ]
    },
    {
      "cell_type": "code",
      "id": "6414076a-b039-4dc7-b728-b9bf582b1deb",
      "metadata": {},
      "outputs": [],
      "source": [
        "fig, ax = plt.subplots()\nim = ax.pcolor(grouped_pivot, cmap='RdBu')\n\n#label names\nrow_labels = grouped_pivot.columns.levels[1]\ncol_labels = grouped_pivot.index\n\n#move ticks and labels to the center\nax.set_xticks(np.arange(grouped_pivot.shape[1]) + 0.5, minor=False)\nax.set_yticks(np.arange(grouped_pivot.shape[0]) + 0.5, minor=False)\n\n#insert labels\nax.set_xticklabels(row_labels, minor=False)\nax.set_yticklabels(col_labels, minor=False)\n\n#rotate label if too long\nplt.xticks(rotation=90)\n\nfig.colorbar(im)\nplt.show()"
      ]
    },
    {
      "cell_type": "markdown",
      "id": "47a10864-5eb0-49d6-aa7f-8aa8e793d7c6",
      "metadata": {},
      "outputs": [],
      "source": [
        "<p>Visualization is very important in data science, and Python visualization packages provide great freedom. We will go more in-depth in a separate Python visualizations course.</p>\n\n<p>The main question we want to answer in this module is, \"How can we use columns to predict other columns?\".</p>\n\n<p>To get a better measure of the important characteristics, we look at the correlation of these variables. In other words: how is the column dependent on this variable?</p>\n"
      ]
    },
    {
      "cell_type": "markdown",
      "id": "91034115-4374-4ec4-944e-5217888524d3",
      "metadata": {},
      "outputs": [],
      "source": [
        "<h2 id=\"correlation_causation\">5. Correlation and Causation</h2>\n"
      ]
    },
    {
      "cell_type": "markdown",
      "id": "c629e17d-c217-485d-83ad-0ea956ff75a9",
      "metadata": {},
      "outputs": [],
      "source": [
        "<p><b>Correlation</b>: a measure of the extent of interdependence between variables.</p>\n\n<p><b>Causation</b>: the relationship between cause and effect between two variables.</p>\n\n<p>It is important to know the difference between these two. Correlation does not imply causation. Determining correlation is much simpler  the determining causation as causation may require independent experimentation.</p>\n"
      ]
    },
    {
      "cell_type": "markdown",
      "id": "68aa8fbe-c9bf-4fa4-9632-440fefb6a6d1",
      "metadata": {},
      "outputs": [],
      "source": [
        "<p><b>Pearson Correlation</b></p>\n<p>The Pearson Correlation measures the linear dependence between two variables X and Y.</p>\n<p>The resulting coefficient is a value between -1 and 1 inclusive, where:</p>\n<ul>\n    <li><b>1</b>: Perfect positive linear correlation.</li>\n    <li><b>0</b>: No linear correlation, the two variables most likely do not affect each other.</li>\n    <li><b>-1</b>: Perfect negative linear correlation.</li>\n</ul>\n"
      ]
    },
    {
      "cell_type": "markdown",
      "id": "0befe4da-c218-46e9-a2c6-866df1a4caf4",
      "metadata": {},
      "outputs": [],
      "source": [
        "<p>Pearson Correlation is the default method of the function \"corr\". Like before, we can calculate the Pearson Correlation of the of the 'int64' or 'float64' variables.</p>\n"
      ]
    },
    {
      "cell_type": "code",
      "id": "ff1f7f20-af19-4506-b2d5-09b4b6d353b0",
      "metadata": {},
      "outputs": [],
      "source": [
        "df.corr()"
      ]
    },
    {
      "cell_type": "markdown",
      "id": "cac551c9-0caf-4af3-844b-45dc1b3b80dc",
      "metadata": {},
      "outputs": [],
      "source": [
        "Sometimes we would like to know the significant of the correlation estimate.\n"
      ]
    },
    {
      "cell_type": "markdown",
      "id": "d6b87407-897a-4c85-8692-f74e9f0aea27",
      "metadata": {},
      "outputs": [],
      "source": [
        "<b>P-value</b>\n\n<p>What is this P-value? The P-value is the probability value that the correlation between these two variables is statistically significant. Normally, we choose a significance level of 0.05, which means that we are 95% confident that the correlation between the variables is significant.</p>\n\nBy convention, when the\n\n<ul>\n    <li>p-value is $<$ 0.001: we say there is strong evidence that the correlation is significant.</li>\n    <li>the p-value is $<$ 0.05: there is moderate evidence that the correlation is significant.</li>\n    <li>the p-value is $<$ 0.1: there is weak evidence that the correlation is significant.</li>\n    <li>the p-value is $>$ 0.1: there is no evidence that the correlation is significant.</li>\n</ul>\n"
      ]
    },
    {
      "cell_type": "markdown",
      "id": "291e757f-5e73-4396-8fc5-6f675b89c4f9",
      "metadata": {},
      "outputs": [],
      "source": [
        "<h3>Number Inpatient vs. Number Emergency</h3>\n"
      ]
    },
    {
      "cell_type": "markdown",
      "id": "9973970f-ac18-42f3-8eac-4ea81994eddb",
      "metadata": {},
      "outputs": [],
      "source": [
        "Let's calculate the  Pearson Correlation Coefficient and P-value of 'Number Inpatient' and 'Number Emergency'.\n"
      ]
    },
    {
      "cell_type": "code",
      "id": "3ce3a8f5-173c-4bde-9b4c-f48c4582ba87",
      "metadata": {},
      "outputs": [],
      "source": [
        "pearson_coef, p_value = stats.pearsonr(df['Number Inpatient'], df['Number Emergency'])\nprint(\"The Pearson Correlation Coefficient is\", round(pearson_coef,2), \" with a P-value of P =\", p_value)"
      ]
    },
    {
      "cell_type": "markdown",
      "id": "e02b862a-6542-47cf-bb2a-59155172148f",
      "metadata": {},
      "outputs": [],
      "source": [
        "<h4>Conclusion:</h4>\n<p>Since the p-value is $<$ 0.001, the correlation between Number Inpatient and Number Emergency is statistically significant, although the linear relationship isn't extremely strong (~0.27).</p>\n"
      ]
    },
    {
      "cell_type": "markdown",
      "id": "2761e027-5657-4ad8-8a78-449d737947c0",
      "metadata": {},
      "outputs": [],
      "source": [
        "<h3>Num Lab Procedures vs. Num Medications</h3>\n"
      ]
    },
    {
      "cell_type": "markdown",
      "id": "14a1ecf8-9bb4-4ebd-9f6b-11b686c1edae",
      "metadata": {},
      "outputs": [],
      "source": [
        "Let's calculate the  Pearson Correlation Coefficient and P-value of 'Num Lab Procedures' and 'Num Medications'.\n"
      ]
    },
    {
      "cell_type": "code",
      "id": "bc395220-5a87-403b-b265-d22ebf942421",
      "metadata": {},
      "outputs": [],
      "source": [
        "pearson_coef, p_value = stats.pearsonr(df['Num Lab Procedures'], df['Num Medications'])\nprint(\"The Pearson Correlation Coefficient is\",  round(pearson_coef,2), \" with a P-value of P = \", p_value)"
      ]
    },
    {
      "cell_type": "markdown",
      "id": "c23fbd11-cb4f-4d02-8768-d339ca3e1838",
      "metadata": {},
      "outputs": [],
      "source": [
        "<h4>Conclusion:</h4>\n\n<p>Since the p-value is $<$ 0.001, the correlation between Num Lab Procedures and Num Medications is statistically significant, although the linear relationship isn't extremely strong (~0.27).</p>\n"
      ]
    },
    {
      "cell_type": "markdown",
      "id": "1d7d7624-4080-4bd7-9515-96d5f847565a",
      "metadata": {},
      "outputs": [],
      "source": [
        "<h3>Number Outpatient vs. Number Emergency</h3>\n\nLet's calculate the  Pearson Correlation Coefficient and P-value of 'Number Outpatient' and 'Number Emergency'.\n"
      ]
    },
    {
      "cell_type": "code",
      "id": "3bdc86b1-f0ec-411c-be96-9f1b6f8c016f",
      "metadata": {},
      "outputs": [],
      "source": [
        "pearson_coef, p_value = stats.pearsonr(df['Number Outpatient'], df['Number Emergency'])\nprint(\"The Pearson Correlation Coefficient is\", round(pearson_coef,2), \" with a P-value of P = \", p_value)"
      ]
    },
    {
      "cell_type": "markdown",
      "id": "af2946e9-51f6-4955-8a77-28d9c42a0319",
      "metadata": {},
      "outputs": [],
      "source": [
        "<h4>Conclusion:</h4>\n<p>Since the p-value is $<$ 0.001, the correlation between Number Outpatient and Number Emergency is statistically significant, and the linear relationship is not strong (~0.09).</p>\n"
      ]
    },
    {
      "cell_type": "markdown",
      "id": "91e0a70f-d658-46eb-a724-74700f562a30",
      "metadata": {},
      "outputs": [],
      "source": [
        "<h3>Number Inpatient vs. Number Emergency</h3>\n"
      ]
    },
    {
      "cell_type": "markdown",
      "id": "4d61577a-c779-4794-84b2-daf9ddbf8806",
      "metadata": {},
      "outputs": [],
      "source": [
        "Let's calculate the Pearson Correlation Coefficient and P-value of 'Number Inpatient' and 'Number Emergency':\n"
      ]
    },
    {
      "cell_type": "code",
      "id": "7c283f1c-0f73-47eb-8a74-e4344acd8962",
      "metadata": {},
      "outputs": [],
      "source": [
        "pearson_coef, p_value = stats.pearsonr(df['Number Inpatient'], df['Number Emergency'])\nprint(\"The Pearson Correlation Coefficient is\", round(pearson_coef,2), \" with a P-value of P =\", p_value )"
      ]
    },
    {
      "cell_type": "markdown",
      "id": "aa49e083-2095-43f0-b65c-64580a05c274",
      "metadata": {},
      "outputs": [],
      "source": [
        "#### Conclusion:\n\nSince the p-value is < 0.001, the correlation between Number Inpatient and Number Emergency is statistically significant, and the linear relationship isn't extremely strong (~0.27)."
      ]
    },
    {
      "cell_type": "markdown",
      "id": "98ba845e-a9c0-4d5c-9cde-bc5ed4dfe89a",
      "metadata": {},
      "outputs": [],
      "source": [
        "<h2 id=\"anova\">6. ANOVA</h2>\n"
      ]
    },
    {
      "cell_type": "markdown",
      "id": "66ef0844-3661-4b05-b8eb-b779743f2735",
      "metadata": {},
      "outputs": [],
      "source": [
        "<h3>ANOVA: Analysis of Variance</h3>\n<p>The Analysis of Variance  (ANOVA) is a statistical method used to test whether there are significant differences between the means of two or more groups. ANOVA returns two parameters:</p>\n\n<p><b>F-test score</b>: ANOVA assumes the means of all groups are the same, calculates how much the actual means deviate from the assumption, and reports it as the F-test score. A larger score means there is a larger difference between the means.</p>\n\n<p><b>P-value</b>:  P-value tells how statistically significant our calculated score value is.</p>\n\n<p>If our Readmitted variable is strongly correlated with the variable we are analyzing, we expect ANOVA to return a sizeable F-test score and a small p-value.</p>\n"
      ]
    },
    {
      "cell_type": "markdown",
      "id": "74866dc3-a47e-4ff8-9b3f-39a000a815be",
      "metadata": {},
      "outputs": [],
      "source": [
        "<h3>Num Medications</h3>\n"
      ]
    },
    {
      "cell_type": "markdown",
      "id": "c4862472-35c8-4b38-8c4a-089d2fea40a7",
      "metadata": {},
      "outputs": [],
      "source": [
        "<p>Since ANOVA analyzes the difference between different groups of the same variable, the groupby function will come in handy. Because the ANOVA algorithm averages the data automatically, we do not need to take the average before hand.</p>\n\n<p>To see if different types of 'Num Medications' impact  'Readmitted', we group the data.</p>\n"
      ]
    },
    {
      "cell_type": "code",
      "id": "21f73d6f-c950-4c97-8ff2-b086cb13a004",
      "metadata": {},
      "outputs": [],
      "source": [
        "grouped_test2=df[['Readmitted','Num Medications']].groupby(['Readmitted'])\ngrouped_test2.head(2)"
      ]
    },
    {
      "cell_type": "code",
      "id": "9b60ee15-a0a7-4266-9515-825c94bd7370",
      "metadata": {},
      "outputs": [],
      "source": [
        "grouped_test2"
      ]
    },
    {
      "cell_type": "markdown",
      "id": "64a15d7d-191f-48c8-9096-e409eae41cd3",
      "metadata": {},
      "outputs": [],
      "source": [
        "We can obtain the values of the method group using the method \"get_group\".\n"
      ]
    },
    {
      "cell_type": "code",
      "id": "e8976bc7-2b4b-4c1d-a277-7295508e245e",
      "metadata": {},
      "outputs": [],
      "source": [
        "grouped_test2.get_group('NO')['Num Medications']\n"
      ]
    },
    {
      "cell_type": "markdown",
      "id": "8342cf9d-3022-4a59-9c45-2f54489880db",
      "metadata": {},
      "outputs": [],
      "source": [
        "We can use the function 'f_oneway' in the module 'stats' to obtain the <b>F-test score</b> and <b>P-value</b>.\n"
      ]
    },
    {
      "cell_type": "code",
      "id": "9c867be7-742d-46ba-945e-f1a53328cfa5",
      "metadata": {},
      "outputs": [],
      "source": [
        "# ANOVA\nf_val, p_val = stats.f_oneway(grouped_test2.get_group('>30')['Num Medications'],grouped_test2.get_group('NO')['Num Medications'], grouped_test2.get_group('<30')['Num Medications'])\n\nprint( \"ANOVA results: F=\", round(f_val,2), \", P =\", p_val)"
      ]
    },
    {
      "cell_type": "markdown",
      "id": "c982cd9a-8b82-4418-80a0-cf690e9acb74",
      "metadata": {},
      "outputs": [],
      "source": [
        "\nThis is a great result with a large F-test score showing a strong correlation and a P-value of almost 0 implying almost certain statistical significance. But does this mean all three tested groups are all this highly correlated?\n\nLet's examine them separately.\n"
      ]
    },
    {
      "cell_type": "markdown",
      "id": "3b8b8cea-6725-423f-b643-c1310791d9e8",
      "metadata": {},
      "outputs": [],
      "source": [
        "#### >30 and NO"
      ]
    },
    {
      "cell_type": "code",
      "id": "83359634-bbd7-4740-82b2-59009cecba1b",
      "metadata": {},
      "outputs": [],
      "source": [
        "f_val, p_val = stats.f_oneway(grouped_test2.get_group('>30')['Num Medications'], grouped_test2.get_group('NO')['Num Medications'])\n\nprint( \"ANOVA results: F=\", round(f_val,2), \", P =\", p_val )"
      ]
    },
    {
      "cell_type": "markdown",
      "id": "e7a0d39d-2a3b-4c36-bc60-33c9da5a2174",
      "metadata": {},
      "outputs": [],
      "source": [
        "Let's examine the other groups.\n"
      ]
    },
    {
      "cell_type": "markdown",
      "id": "ca46a7f5-b824-4670-867c-334ba772a993",
      "metadata": {},
      "outputs": [],
      "source": [
        "#### <30 and NO\n"
      ]
    },
    {
      "cell_type": "code",
      "id": "325de9cd-bfea-4755-9054-d3e0548cace5",
      "metadata": {},
      "outputs": [],
      "source": [
        "f_val, p_val = stats.f_oneway(grouped_test2.get_group('<30')['Num Medications'], grouped_test2.get_group('NO')['Num Medications'])\n\nprint( \"ANOVA results: F=\", round(f_val,2), \", P =\", p_val)"
      ]
    },
    {
      "cell_type": "markdown",
      "id": "f200423e-4cbb-4bd1-a703-6a008e6f0fba",
      "metadata": {},
      "outputs": [],
      "source": [
        "<h4>>30 and <30</h4>\n"
      ]
    },
    {
      "cell_type": "code",
      "id": "19a8f031-cf6b-49d3-b702-d4b1409a5232",
      "metadata": {},
      "outputs": [],
      "source": [
        "f_val, p_val = stats.f_oneway(grouped_test2.get_group('>30')['Num Medications'], grouped_test2.get_group('<30')['Num Medications'])\n\nprint(\"ANOVA results: F=\", round(f_val,2), \", P =\", p_val)"
      ]
    },
    {
      "cell_type": "markdown",
      "id": "b2a7cce4-17ef-4455-b552-2eec6fb34437",
      "metadata": {},
      "outputs": [],
      "source": [
        "<h3>Conclusion: Important Variables</h3>\n"
      ]
    },
    {
      "cell_type": "markdown",
      "id": "ae4cf6bc-6b84-4e6c-ae3a-b8ef0c3bb57f",
      "metadata": {},
      "outputs": [],
      "source": [
        "<p>We now have a better idea of what our data looks like and which variables are important to take into account when predicting.</p>\n\n<p>As we now move into building machine learning models to automate our analysis, feeding the model with variables that meaningfully affect our target variable will improve our model's prediction performance.</p>\n"
      ]
    },
    {
      "cell_type": "markdown",
      "id": "71b9e921-1cf9-4a09-b296-04534a9e5275",
      "metadata": {},
      "outputs": [],
      "source": [
        "### Thank you for completing this lab!\n\n## Author\n\n<a href=\"https://www.linkedin.com/in/joseph-s-50398b136/?utm_medium=Exinfluencer&utm_source=Exinfluencer&utm_content=000026UJ&utm_term=10006555&utm_id=NA-SkillsNetwork-Channel-SkillsNetworkCoursesIBMDeveloperSkillsNetworkDA0101ENSkillsNetwork20235326-2021-01-01\" target=\"_blank\">Joseph Santarcangelo</a>\n\n### Other Contributors\n\n<a href=\"https://www.linkedin.com/in/mahdi-noorian-58219234/?utm_medium=Exinfluencer&utm_source=Exinfluencer&utm_content=000026UJ&utm_term=10006555&utm_id=NA-SkillsNetwork-Channel-SkillsNetworkCoursesIBMDeveloperSkillsNetworkDA0101ENSkillsNetwork20235326-2021-01-01\" target=\"_blank\">Mahdi Noorian PhD</a>\n\nBahare Talayian\n\nEric Xiao\n\nSteven Dong\n\nParizad\n\nHima Vasudevan\n\n<a href=\"https://www.linkedin.com/in/fiorellawever/?utm_medium=Exinfluencer&utm_source=Exinfluencer&utm_content=000026UJ&utm_term=10006555&utm_id=NA-SkillsNetwork-Channel-SkillsNetworkCoursesIBMDeveloperSkillsNetworkDA0101ENSkillsNetwork20235326-2021-01-01\" target=\"_blank\">Fiorella Wenver</a>\n\n<a href=\"https:// https://www.linkedin.com/in/yi-leng-yao-84451275/ \" target=\"_blank\" >Yi Yao</a>.\n\n## Change Log\n\n| Date (YYYY-MM-DD) | Version | Changed By | Change Description                 |\n| ----------------- | ------- | ---------- | ---------------------------------- |\n\n<hr>\n\n## <h3 align=\"center\"> © IBM Corporation 2020. All rights reserved. <h3/>\n"
      ]
    }
  ],
  "metadata": {
    "language_info": {
      "name": ""
    },
    "kernelspec": {
      "name": "",
      "display_name": ""
    }
  },
  "nbformat": 4,
  "nbformat_minor": 4
}