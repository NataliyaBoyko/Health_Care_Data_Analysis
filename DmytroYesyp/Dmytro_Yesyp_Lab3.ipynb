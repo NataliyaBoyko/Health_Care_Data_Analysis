{
 "cells": [
  {
   "cell_type": "markdown",
   "metadata": {},
   "source": [
    "<center>\n",
    "    <img src=\"https://cf-courses-data.s3.us.cloud-object-storage.appdomain.cloud/IBMDeveloperSkillsNetwork-DA0101EN-SkillsNetwork/labs/Module%203/images/IDSNlogo.png\" width=\"300\" alt=\"cognitiveclass.ai logo\"  />\n",
    "</center>\n",
    "\n",
    "# Data Analysis with Python\n",
    "\n",
    "Estimated time needed: **30** minutes\n",
    "\n",
    "## Objectives\n",
    "\n",
    "After completing this lab you will be able to:\n",
    "\n",
    "*   Explore features or charecteristics to predict columns\n"
   ]
  },
  {
   "cell_type": "markdown",
   "metadata": {},
   "source": [
    "<h2>Table of Contents</h2>\n",
    "\n",
    "<div class=\"alert alert-block alert-info\" style=\"margin-top: 20px\">\n",
    "<ol>\n",
    "    <li><a href=\"https://#import_data\">Import Data from Module</a></li>\n",
    "    <li><a href=\"https://#pattern_visualization\">Analyzing Individual Feature Patterns using Visualization</a></li>\n",
    "    <li><a href=\"https://#discriptive_statistics\">Descriptive Statistical Analysis</a></li>\n",
    "    <li><a href=\"https://#basic_grouping\">Basics of Grouping</a></li>\n",
    "    <li><a href=\"https://#correlation_causation\">Correlation and Causation</a></li>\n",
    "    <li><a href=\"https://#anova\">ANOVA</a></li>\n",
    "</ol>\n",
    "\n",
    "</div>\n",
    "\n",
    "<hr>\n"
   ]
  },
  {
   "cell_type": "markdown",
   "metadata": {},
   "source": [
    "<h3>What are the main characteristics that have the most impact on the car price?</h3>\n"
   ]
  },
  {
   "cell_type": "markdown",
   "metadata": {},
   "source": [
    "<h2 id=\"import_data\">1. Import Data from Module 2</h2>\n"
   ]
  },
  {
   "cell_type": "markdown",
   "metadata": {},
   "source": [
    "<h4>Setup</h4>\n"
   ]
  },
  {
   "cell_type": "markdown",
   "metadata": {},
   "source": [
    "you are running the lab in your  browser, so we will install the libraries using `piplite`\n"
   ]
  },
  {
   "cell_type": "code",
   "execution_count": 1,
   "metadata": {
    "pycharm": {
     "name": "#%%\n"
    }
   },
   "outputs": [],
   "source": [
    "#you are running the lab in your  browser, so we will install the libraries using ``piplite``\n",
    "# import piplite\n",
    "# await piplite.install(['pandas'])\n",
    "# await piplite.install(['matplotlib'])\n",
    "# await piplite.install(['scipy'])\n",
    "# await piplite.install(['seaborn'])\n"
   ]
  },
  {
   "cell_type": "markdown",
   "metadata": {},
   "source": [
    "Import libraries:\n"
   ]
  },
  {
   "cell_type": "markdown",
   "metadata": {},
   "source": [
    "If you run the lab locally using Anaconda, you can load the correct library and versions by uncommenting the following:\n"
   ]
  },
  {
   "cell_type": "code",
   "execution_count": 2,
   "metadata": {
    "pycharm": {
     "name": "#%%\n"
    }
   },
   "outputs": [],
   "source": [
    "#If you run the lab locally using Anaconda, you can load the correct library and versions by uncommenting the following:\n",
    "#install specific version of libraries used in lab\n",
    "#! mamba install pandas==1.3.3\n",
    "#! mamba install numpy=1.21.2\n",
    "#! mamba install scipy=1.7.1-y\n",
    "#!  mamba install seaborn=0.9.0-y"
   ]
  },
  {
   "cell_type": "code",
   "execution_count": 3,
   "metadata": {
    "pycharm": {
     "name": "#%%\n"
    }
   },
   "outputs": [],
   "source": [
    "import pandas as pd\n",
    "import numpy as np"
   ]
  },
  {
   "cell_type": "markdown",
   "metadata": {},
   "source": [
    "This function will download the dataset into your browser\n"
   ]
  },
  {
   "cell_type": "code",
   "execution_count": 4,
   "metadata": {
    "pycharm": {
     "name": "#%%\n"
    }
   },
   "outputs": [],
   "source": [
    "#This function will download the dataset into your browser\n",
    "\n",
    "# from pyodide.http import pyfetch\n",
    "#\n",
    "# async def download(url, filename):\n",
    "#     response = await pyfetch(url)\n",
    "#     if response.status == 200:\n",
    "#         with open(filename, \"wb\") as f:\n",
    "#             f.write(await response.bytes())\n"
   ]
  },
  {
   "cell_type": "markdown",
   "metadata": {},
   "source": [
    "Load the data and store it in dataframe `df`:\n"
   ]
  },
  {
   "cell_type": "markdown",
   "metadata": {},
   "source": [
    "This dataset was hosted on IBM Cloud object. Click <a href=\"https://cocl.us/DA101EN_object_storage?utm_medium=Exinfluencer&utm_source=Exinfluencer&utm_content=000026UJ&utm_term=10006555&utm_id=NA-SkillsNetwork-Channel-SkillsNetworkCoursesIBMDeveloperSkillsNetworkDA0101ENSkillsNetwork20235326-2021-01-01\">HERE</a> for free storage.\n"
   ]
  },
  {
   "cell_type": "code",
   "execution_count": 5,
   "metadata": {
    "pycharm": {
     "name": "#%%\n"
    }
   },
   "outputs": [],
   "source": [
    "path='clean_df.csv'"
   ]
  },
  {
   "cell_type": "markdown",
   "metadata": {},
   "source": [
    "you will need to download the dataset; if you are running locally, please comment out the following\n"
   ]
  },
  {
   "cell_type": "markdown",
   "metadata": {},
   "source": [
    "\\#you will need to download the dataset; if you are running locally, please comment out the following\n",
    "await download(path, \"auto.csv\")\n",
    "path=\"auto.csv\"\n"
   ]
  },
  {
   "cell_type": "code",
   "execution_count": 6,
   "metadata": {
    "pycharm": {
     "name": "#%%\n"
    }
   },
   "outputs": [],
   "source": [
    "# await download(path, \"auto.csv\")\n",
    "# filename=\"auto.csv\""
   ]
  },
  {
   "cell_type": "code",
   "execution_count": 7,
   "metadata": {
    "pycharm": {
     "name": "#%%\n"
    }
   },
   "outputs": [
    {
     "data": {
      "text/plain": "   Unnamed: 0  EncounterId  PatientNbr             Race  Gender      Age  \\\n0           0      2278392     8222157        Caucasian  Female   [0-10)   \n1           1       149190    55629189        Caucasian  Female  [10-20)   \n2           2        64410    86047875  AfricanAmerican  Female  [20-30)   \n3           3       500364    82442376        Caucasian    Male  [30-40)   \n4           4        16680    42519267        Caucasian    Male  [40-50)   \n\n  Weight  AdmissionTypeId  DischargeDispositionId  AdmissionSourceId  ...  \\\n0    NaN                6                      25                  1  ...   \n1    NaN                1                       1                  7  ...   \n2    NaN                1                       1                  7  ...   \n3    NaN                1                       1                  7  ...   \n4    NaN                1                       1                  7  ...   \n\n   Metformin-pioglitazone DiabetesMedication Readmitted         ages-binned  \\\n0                      No              False         NO               Child   \n1                      No               True        >30               Child   \n2                      No               True         NO        Young Adults   \n3                      No               True         NO  Middle-Aged Adults   \n4                      No               True         NO  Middle-Aged Adults   \n\n   change_yes  change_no  Increased  No  Steady Decreased  \n0           0          1          0   1       0         0  \n1           1          0          0   1       0         0  \n2           0          1          0   1       0         0  \n3           1          0          0   1       0         0  \n4           1          0          0   1       0         0  \n\n[5 rows x 56 columns]",
      "text/html": "<div>\n<style scoped>\n    .dataframe tbody tr th:only-of-type {\n        vertical-align: middle;\n    }\n\n    .dataframe tbody tr th {\n        vertical-align: top;\n    }\n\n    .dataframe thead th {\n        text-align: right;\n    }\n</style>\n<table border=\"1\" class=\"dataframe\">\n  <thead>\n    <tr style=\"text-align: right;\">\n      <th></th>\n      <th>Unnamed: 0</th>\n      <th>EncounterId</th>\n      <th>PatientNbr</th>\n      <th>Race</th>\n      <th>Gender</th>\n      <th>Age</th>\n      <th>Weight</th>\n      <th>AdmissionTypeId</th>\n      <th>DischargeDispositionId</th>\n      <th>AdmissionSourceId</th>\n      <th>...</th>\n      <th>Metformin-pioglitazone</th>\n      <th>DiabetesMedication</th>\n      <th>Readmitted</th>\n      <th>ages-binned</th>\n      <th>change_yes</th>\n      <th>change_no</th>\n      <th>Increased</th>\n      <th>No</th>\n      <th>Steady</th>\n      <th>Decreased</th>\n    </tr>\n  </thead>\n  <tbody>\n    <tr>\n      <th>0</th>\n      <td>0</td>\n      <td>2278392</td>\n      <td>8222157</td>\n      <td>Caucasian</td>\n      <td>Female</td>\n      <td>[0-10)</td>\n      <td>NaN</td>\n      <td>6</td>\n      <td>25</td>\n      <td>1</td>\n      <td>...</td>\n      <td>No</td>\n      <td>False</td>\n      <td>NO</td>\n      <td>Child</td>\n      <td>0</td>\n      <td>1</td>\n      <td>0</td>\n      <td>1</td>\n      <td>0</td>\n      <td>0</td>\n    </tr>\n    <tr>\n      <th>1</th>\n      <td>1</td>\n      <td>149190</td>\n      <td>55629189</td>\n      <td>Caucasian</td>\n      <td>Female</td>\n      <td>[10-20)</td>\n      <td>NaN</td>\n      <td>1</td>\n      <td>1</td>\n      <td>7</td>\n      <td>...</td>\n      <td>No</td>\n      <td>True</td>\n      <td>&gt;30</td>\n      <td>Child</td>\n      <td>1</td>\n      <td>0</td>\n      <td>0</td>\n      <td>1</td>\n      <td>0</td>\n      <td>0</td>\n    </tr>\n    <tr>\n      <th>2</th>\n      <td>2</td>\n      <td>64410</td>\n      <td>86047875</td>\n      <td>AfricanAmerican</td>\n      <td>Female</td>\n      <td>[20-30)</td>\n      <td>NaN</td>\n      <td>1</td>\n      <td>1</td>\n      <td>7</td>\n      <td>...</td>\n      <td>No</td>\n      <td>True</td>\n      <td>NO</td>\n      <td>Young Adults</td>\n      <td>0</td>\n      <td>1</td>\n      <td>0</td>\n      <td>1</td>\n      <td>0</td>\n      <td>0</td>\n    </tr>\n    <tr>\n      <th>3</th>\n      <td>3</td>\n      <td>500364</td>\n      <td>82442376</td>\n      <td>Caucasian</td>\n      <td>Male</td>\n      <td>[30-40)</td>\n      <td>NaN</td>\n      <td>1</td>\n      <td>1</td>\n      <td>7</td>\n      <td>...</td>\n      <td>No</td>\n      <td>True</td>\n      <td>NO</td>\n      <td>Middle-Aged Adults</td>\n      <td>1</td>\n      <td>0</td>\n      <td>0</td>\n      <td>1</td>\n      <td>0</td>\n      <td>0</td>\n    </tr>\n    <tr>\n      <th>4</th>\n      <td>4</td>\n      <td>16680</td>\n      <td>42519267</td>\n      <td>Caucasian</td>\n      <td>Male</td>\n      <td>[40-50)</td>\n      <td>NaN</td>\n      <td>1</td>\n      <td>1</td>\n      <td>7</td>\n      <td>...</td>\n      <td>No</td>\n      <td>True</td>\n      <td>NO</td>\n      <td>Middle-Aged Adults</td>\n      <td>1</td>\n      <td>0</td>\n      <td>0</td>\n      <td>1</td>\n      <td>0</td>\n      <td>0</td>\n    </tr>\n  </tbody>\n</table>\n<p>5 rows × 56 columns</p>\n</div>"
     },
     "execution_count": 7,
     "metadata": {},
     "output_type": "execute_result"
    }
   ],
   "source": [
    "\n",
    "df = pd.read_csv(path)\n",
    "df.head()"
   ]
  },
  {
   "cell_type": "markdown",
   "metadata": {},
   "source": [
    "<h2 id=\"pattern_visualization\">2. Analyzing Individual Feature Patterns Using Visualization</h2>\n"
   ]
  },
  {
   "cell_type": "markdown",
   "metadata": {},
   "source": [
    "To install Seaborn we use pip, the Python package manager.\n"
   ]
  },
  {
   "cell_type": "markdown",
   "metadata": {},
   "source": [
    "Import visualization packages \"Matplotlib\", \"Seaborn\" and \"Dython\". Don't forget about \"%matplotlib inline\" to plot in a Jupyter notebook.\n"
   ]
  },
  {
   "cell_type": "code",
   "execution_count": 8,
   "metadata": {
    "pycharm": {
     "name": "#%%\n"
    }
   },
   "outputs": [],
   "source": [
    "import matplotlib.pyplot as plt\n",
    "import seaborn as sns\n",
    "from dython.nominal import associations\n",
    "%matplotlib inline"
   ]
  },
  {
   "cell_type": "markdown",
   "metadata": {},
   "source": [
    "<h4>How to choose the right visualization method?</h4>\n",
    "<p>When visualizing individual variables, it is important to first understand what type of variable you are dealing with. This will help us find the right visualization method for that variable.</p>\n"
   ]
  },
  {
   "cell_type": "code",
   "execution_count": 9,
   "metadata": {
    "pycharm": {
     "name": "#%%\n"
    }
   },
   "outputs": [
    {
     "name": "stdout",
     "output_type": "stream",
     "text": [
      "Unnamed: 0                    int64\n",
      "EncounterId                   int64\n",
      "PatientNbr                    int64\n",
      "Race                         object\n",
      "Gender                       object\n",
      "Age                          object\n",
      "Weight                       object\n",
      "AdmissionTypeId               int64\n",
      "DischargeDispositionId        int64\n",
      "AdmissionSourceId             int64\n",
      "TimeInHospital                int64\n",
      "PayerCode                    object\n",
      "MedicalSpecialty             object\n",
      "NumLabProcedures            float64\n",
      "NumProcedures                 int64\n",
      "NumMedications                int64\n",
      "NumberOutpatient              int64\n",
      "NumberEmergency               int64\n",
      "NumberInpatient               int64\n",
      "Diagnosis1                   object\n",
      "Diagnosis2                   object\n",
      "Diagnosis3                   object\n",
      "NumberDiagnoses             float64\n",
      "MaxGluSerum                  object\n",
      "A1Cresult                    object\n",
      "Metformin                    object\n",
      "Repaglinide                  object\n",
      "Nateglinide                  object\n",
      "Chlorpropamide               object\n",
      "Glimepiride                  object\n",
      "Acetohexamide                object\n",
      "Glipizide                    object\n",
      "Glyburide                    object\n",
      "Tolbutamide                  object\n",
      "Pioglitazone                 object\n",
      "Acarbose                     object\n",
      "Miglitol                     object\n",
      "Troglitazone                 object\n",
      "Tolazamide                   object\n",
      "Examide                      object\n",
      "Citoglipton                  object\n",
      "Insulin                      object\n",
      "Glyburide-metformin          object\n",
      "Glipizide-metformin          object\n",
      "Glimepiride-pioglitazone     object\n",
      "Metformin-rosiglitazone      object\n",
      "Metformin-pioglitazone       object\n",
      "DiabetesMedication             bool\n",
      "Readmitted                   object\n",
      "ages-binned                  object\n",
      "change_yes                    int64\n",
      "change_no                     int64\n",
      "Increased                     int64\n",
      "No                            int64\n",
      "Steady                        int64\n",
      "Decreased                     int64\n",
      "dtype: object\n"
     ]
    }
   ],
   "source": [
    "# list the data types for each column\n",
    "print(df.dtypes)"
   ]
  },
  {
   "cell_type": "markdown",
   "metadata": {},
   "source": [
    "<div class=\"alert alert-danger alertdanger\" style=\"margin-top: 20px\">\n",
    "<h3>Question  #1:</h3>\n",
    "\n",
    "<b>What is the data type of the column \"NumMedications\"? </b>\n",
    "\n",
    "</div>\n"
   ]
  },
  {
   "cell_type": "code",
   "execution_count": 10,
   "metadata": {
    "pycharm": {
     "name": "#%%\n"
    }
   },
   "outputs": [
    {
     "data": {
      "text/plain": "dtype('int64')"
     },
     "execution_count": 10,
     "metadata": {},
     "output_type": "execute_result"
    }
   ],
   "source": [
    "# Write your code below and press Shift+Enter to execute"
   ]
  },
  {
   "cell_type": "markdown",
   "metadata": {},
   "source": [
    "<details><summary>Click here for the solution</summary>\n",
    "\n",
    "```python\n",
    "df['NumMedications'].dtypes\n",
    "```\n",
    "\n",
    "</details>\n"
   ]
  },
  {
   "cell_type": "markdown",
   "metadata": {},
   "source": [
    "For example, we can calculate the correlation between variables  of type \"int64\" or \"float64\" using the method \"corr\".\n",
    "Also, we can find association between objects/categories and correlation (int64 or float64) using associations from dython.nominal."
   ]
  },
  {
   "cell_type": "code",
   "execution_count": 11,
   "metadata": {
    "pycharm": {
     "name": "#%%\n"
    }
   },
   "outputs": [
    {
     "name": "stderr",
     "output_type": "stream",
     "text": [
      "C:\\Users\\s\\AppData\\Local\\Temp\\ipykernel_24256\\2013331542.py:1: FutureWarning: The default value of numeric_only in DataFrame.corr is deprecated. In a future version, it will default to False. Select only valid columns or specify the value of numeric_only to silence this warning.\n",
      "  print(df.corr())\n"
     ]
    },
    {
     "name": "stdout",
     "output_type": "stream",
     "text": [
      "                        Unnamed: 0  EncounterId  PatientNbr  AdmissionTypeId  \\\n",
      "Unnamed: 0                1.000000     0.967811    0.527170        -0.164707   \n",
      "EncounterId               0.967811     1.000000    0.512027        -0.158898   \n",
      "PatientNbr                0.527170     0.512027    1.000000        -0.011062   \n",
      "AdmissionTypeId          -0.164707    -0.158898   -0.011062         1.000000   \n",
      "DischargeDispositionId   -0.147778    -0.132869   -0.136744         0.083411   \n",
      "AdmissionSourceId        -0.136904    -0.112487   -0.032641         0.106753   \n",
      "TimeInHospital           -0.066272    -0.062267   -0.024129        -0.012486   \n",
      "NumLabProcedures         -0.023444    -0.026036    0.015841        -0.143732   \n",
      "NumProcedures            -0.019350    -0.014214   -0.015605         0.129870   \n",
      "NumMedications            0.082677     0.076151    0.020628         0.079529   \n",
      "NumberOutpatient          0.117342     0.103720    0.103352         0.026529   \n",
      "NumberEmergency           0.091349     0.082756    0.062321        -0.019082   \n",
      "NumberInpatient           0.036221     0.030985    0.012498        -0.038118   \n",
      "NumberDiagnoses           0.278626     0.265148    0.226842        -0.117079   \n",
      "DiabetesMedication        0.058262     0.051783    0.017163        -0.000246   \n",
      "change_yes                0.111152     0.096416    0.054861         0.007262   \n",
      "change_no                -0.111152    -0.096416   -0.054861        -0.007262   \n",
      "Increased                -0.008682    -0.008362   -0.002075         0.007656   \n",
      "No                        0.038581     0.049700    0.006695        -0.022306   \n",
      "Steady                   -0.035814    -0.046969   -0.005814         0.021074   \n",
      "Decreased                -0.014047    -0.015333   -0.004318         0.004186   \n",
      "\n",
      "                        DischargeDispositionId  AdmissionSourceId  \\\n",
      "Unnamed: 0                           -0.147778          -0.136904   \n",
      "EncounterId                          -0.132869          -0.112487   \n",
      "PatientNbr                           -0.136744          -0.032641   \n",
      "AdmissionTypeId                       0.083411           0.106753   \n",
      "DischargeDispositionId                1.000000           0.018227   \n",
      "AdmissionSourceId                     0.018227           1.000000   \n",
      "TimeInHospital                        0.162754          -0.006997   \n",
      "NumLabProcedures                      0.023418           0.048837   \n",
      "NumProcedures                         0.015952          -0.135441   \n",
      "NumMedications                        0.108808          -0.054515   \n",
      "NumberOutpatient                     -0.008698           0.027220   \n",
      "NumberEmergency                      -0.024457           0.059859   \n",
      "NumberInpatient                       0.020768           0.036319   \n",
      "NumberDiagnoses                       0.047010           0.072029   \n",
      "DiabetesMedication                   -0.028798           0.001541   \n",
      "change_yes                           -0.012278           0.002469   \n",
      "change_no                             0.012278          -0.002469   \n",
      "Increased                             0.003170          -0.002040   \n",
      "No                                    0.004855           0.009345   \n",
      "Steady                               -0.005693          -0.009553   \n",
      "Decreased                             0.001990           0.001543   \n",
      "\n",
      "                        TimeInHospital  NumLabProcedures  NumProcedures  \\\n",
      "Unnamed: 0                   -0.066272         -0.023444      -0.019350   \n",
      "EncounterId                  -0.062267         -0.026036      -0.014214   \n",
      "PatientNbr                   -0.024129          0.015841      -0.015605   \n",
      "AdmissionTypeId              -0.012486         -0.143732       0.129870   \n",
      "DischargeDispositionId        0.162754          0.023418       0.015952   \n",
      "AdmissionSourceId            -0.006997          0.048837      -0.135441   \n",
      "TimeInHospital                1.000000          0.318464       0.191475   \n",
      "NumLabProcedures              0.318464          1.000000       0.058066   \n",
      "NumProcedures                 0.191475          0.058066       1.000000   \n",
      "NumMedications                0.466136          0.268149       0.385767   \n",
      "NumberOutpatient             -0.008918         -0.007604      -0.024836   \n",
      "NumberEmergency              -0.009675         -0.002252      -0.038178   \n",
      "NumberInpatient               0.073610          0.039226      -0.066208   \n",
      "NumberDiagnoses               0.220191          0.152779       0.073738   \n",
      "DiabetesMedication            0.062515          0.033054      -0.006803   \n",
      "change_yes                    0.109131          0.063911       0.004457   \n",
      "change_no                    -0.109131         -0.063911      -0.004457   \n",
      "Increased                     0.013577          0.005633       0.007772   \n",
      "No                           -0.005740          0.010350      -0.014270   \n",
      "Steady                       -0.000818         -0.013710       0.013272   \n",
      "Decreased                     0.028401          0.013959       0.001861   \n",
      "\n",
      "                        NumMedications  ...  NumberEmergency  NumberInpatient  \\\n",
      "Unnamed: 0                    0.082677  ...         0.091349         0.036221   \n",
      "EncounterId                   0.076151  ...         0.082756         0.030985   \n",
      "PatientNbr                    0.020628  ...         0.062321         0.012498   \n",
      "AdmissionTypeId               0.079529  ...        -0.019082        -0.038118   \n",
      "DischargeDispositionId        0.108808  ...        -0.024457         0.020768   \n",
      "AdmissionSourceId            -0.054515  ...         0.059859         0.036319   \n",
      "TimeInHospital                0.466136  ...        -0.009675         0.073610   \n",
      "NumLabProcedures              0.268149  ...        -0.002252         0.039226   \n",
      "NumProcedures                 0.385767  ...        -0.038178        -0.066208   \n",
      "NumMedications                1.000000  ...         0.013195         0.064173   \n",
      "NumberOutpatient              0.045193  ...         0.091429         0.107360   \n",
      "NumberEmergency               0.013195  ...         1.000000         0.266600   \n",
      "NumberInpatient               0.064173  ...         0.266600         1.000000   \n",
      "NumberDiagnoses               0.261537  ...         0.055524         0.104702   \n",
      "DiabetesMedication            0.186865  ...         0.025918         0.026004   \n",
      "change_yes                    0.246786  ...         0.038865         0.024010   \n",
      "change_no                    -0.246786  ...        -0.038865        -0.024010   \n",
      "Increased                     0.011131  ...        -0.005135        -0.004337   \n",
      "No                           -0.053043  ...         0.008838         0.021380   \n",
      "Steady                        0.049594  ...        -0.008017        -0.020910   \n",
      "Decreased                     0.017854  ...        -0.002076        -0.002071   \n",
      "\n",
      "                        NumberDiagnoses  DiabetesMedication  change_yes  \\\n",
      "Unnamed: 0                     0.278626            0.058262    0.111152   \n",
      "EncounterId                    0.265148            0.051783    0.096416   \n",
      "PatientNbr                     0.226842            0.017163    0.054861   \n",
      "AdmissionTypeId               -0.117079           -0.000246    0.007262   \n",
      "DischargeDispositionId         0.047010           -0.028798   -0.012278   \n",
      "AdmissionSourceId              0.072029            0.001541    0.002469   \n",
      "TimeInHospital                 0.220191            0.062515    0.109131   \n",
      "NumLabProcedures               0.152779            0.033054    0.063911   \n",
      "NumProcedures                  0.073738           -0.006803    0.004457   \n",
      "NumMedications                 0.261537            0.186865    0.246786   \n",
      "NumberOutpatient               0.094132            0.016438    0.024809   \n",
      "NumberEmergency                0.055524            0.025918    0.038865   \n",
      "NumberInpatient                0.104702            0.026004    0.024010   \n",
      "NumberDiagnoses                1.000000            0.021114    0.053063   \n",
      "DiabetesMedication             0.021114            1.000000    0.506371   \n",
      "change_yes                     0.053063            0.506371    1.000000   \n",
      "change_no                     -0.053063           -0.506371   -1.000000   \n",
      "Increased                     -0.000309            0.015987    0.031571   \n",
      "No                             0.008256           -0.141133   -0.195661   \n",
      "Steady                        -0.007907            0.137971    0.187748   \n",
      "Decreased                     -0.002705            0.022877    0.045178   \n",
      "\n",
      "                        change_no  Increased        No    Steady  Decreased  \n",
      "Unnamed: 0              -0.111152  -0.008682  0.038581 -0.035814  -0.014047  \n",
      "EncounterId             -0.096416  -0.008362  0.049700 -0.046969  -0.015333  \n",
      "PatientNbr              -0.054861  -0.002075  0.006695 -0.005814  -0.004318  \n",
      "AdmissionTypeId         -0.007262   0.007656 -0.022306  0.021074   0.004186  \n",
      "DischargeDispositionId   0.012278   0.003170  0.004855 -0.005693   0.001990  \n",
      "AdmissionSourceId       -0.002469  -0.002040  0.009345 -0.009553   0.001543  \n",
      "TimeInHospital          -0.109131   0.013577 -0.005740 -0.000818   0.028401  \n",
      "NumLabProcedures        -0.063911   0.005633  0.010350 -0.013710   0.013959  \n",
      "NumProcedures           -0.004457   0.007772 -0.014270  0.013272   0.001861  \n",
      "NumMedications          -0.246786   0.011131 -0.053043  0.049594   0.017854  \n",
      "NumberOutpatient        -0.024809   0.002086  0.002535 -0.002099  -0.004222  \n",
      "NumberEmergency         -0.038865  -0.005135  0.008838 -0.008017  -0.002076  \n",
      "NumberInpatient         -0.024010  -0.004337  0.021380 -0.020910  -0.002071  \n",
      "NumberDiagnoses         -0.053063  -0.000309  0.008256 -0.007907  -0.002705  \n",
      "DiabetesMedication      -0.506371   0.015987 -0.141133  0.137971   0.022877  \n",
      "change_yes              -1.000000   0.031571 -0.195661  0.187748   0.045178  \n",
      "change_no                1.000000  -0.031571  0.195661 -0.187748  -0.045178  \n",
      "Increased               -0.031571   1.000000 -0.113273 -0.007386  -0.001225  \n",
      "No                       0.195661  -0.113273  1.000000 -0.977595  -0.162096  \n",
      "Steady                  -0.187748  -0.007386 -0.977595  1.000000  -0.010569  \n",
      "Decreased               -0.045178  -0.001225 -0.162096 -0.010569   1.000000  \n",
      "\n",
      "[21 rows x 21 columns]\n"
     ]
    },
    {
     "data": {
      "text/plain": "<Figure size 640x480 with 2 Axes>",
      "image/png": "[encoded data removed]"
     },
     "metadata": {},
     "output_type": "display_data"
    },
    {
     "name": "stdout",
     "output_type": "stream",
     "text": [
      "{'corr':              Age    Weight\n",
      "Age     1.000000  0.025992\n",
      "Weight  0.025992  1.000000, 'ax': <AxesSubplot: >}\n"
     ]
    }
   ],
   "source": [
    "print(df.corr())\n",
    "#As an example we will select \"Age\" and \"Weight\" columns\n",
    "print(associations(df[['Age','Weight']]))"
   ]
  },
  {
   "cell_type": "markdown",
   "metadata": {},
   "source": [
    "The diagonal elements are always one; we will study correlation more precisely Pearson correlation in-depth at the end of the notebook.\n"
   ]
  },
  {
   "cell_type": "markdown",
   "metadata": {},
   "source": [
    "<div class=\"alert alert-danger alertdanger\" style=\"margin-top: 20px\">\n",
    "<h3> Question  #2: </h3>\n",
    "\n",
    "<p>Find the correlation between the following columns: TimeInHospital, NumProcedures, Age, NumMedications, DiabetesMedication and Insulin.</p>\n",
    "<p>Hint: if you would like to select those columns, use the following syntax: df[['TimeInHospital','NumProcedures']. For int64 and float64, you can use associations instead of.corr(). It works the same way.</p>\n",
    "</div>\n"
   ]
  },
  {
   "cell_type": "code",
   "execution_count": 12,
   "metadata": {
    "pycharm": {
     "name": "#%%\n"
    }
   },
   "outputs": [],
   "source": [
    "# Write your code below and press Shift+Enter to execute"
   ]
  },
  {
   "cell_type": "markdown",
   "metadata": {},
   "source": [
    "<details><summary>Click here for the solution</summary>\n",
    "\n",
    "```python\n",
    "#example with .corr()\n",
    "print(df[[\"TimeInHospital\",\"NumProcedures\"]].corr())\n",
    "#example with associations()\n",
    "print(associations(df[['TimeInHospital','NumProcedures','Age', 'NumMedications', 'DiabetesMedication','Insulin']]))\n",
    "```\n",
    "</details>"
   ]
  },
  {
   "cell_type": "markdown",
   "metadata": {},
   "source": [
    "As we can notice, most of the columns have values < 0.5, but there is nothing to be worried about. This is normal correlation for medical data, because it is difficult to predict."
   ]
  },
  {
   "cell_type": "markdown",
   "metadata": {},
   "source": [
    "<h2>Continuous Numerical Variables:</h2>\n",
    "\n",
    "<p>Continuous numerical variables are variables that may contain any value within some range. They can be of type \"int64\" or \"float64\". A great way to visualize these variables is by using scatterplots with fitted lines.</p>\n",
    "\n",
    "<p>In order to start understanding the (linear) relationship between an individual variable and the price, we can use \"regplot\" which plots the scatterplot plus the fitted regression line for the data.</p>\n"
   ]
  },
  {
   "cell_type": "markdown",
   "metadata": {},
   "source": [
    "Let's see several examples of different linear relationships:\n"
   ]
  },
  {
   "cell_type": "markdown",
   "metadata": {},
   "source": [
    "<h3>Positive Linear Relationship</h4>\n"
   ]
  },
  {
   "cell_type": "markdown",
   "metadata": {},
   "source": [
    "Let's find the scatterplot of \"NumLabProcedures\" and \"NumMedications\".\n"
   ]
  },
  {
   "cell_type": "code",
   "execution_count": 13,
   "metadata": {
    "pycharm": {
     "name": "#%%\n"
    }
   },
   "outputs": [
    {
     "data": {
      "text/plain": "(0.0, 85.0)"
     },
     "execution_count": 13,
     "metadata": {},
     "output_type": "execute_result"
    },
    {
     "data": {
      "text/plain": "<Figure size 640x480 with 1 Axes>",
      "image/png": "[encoded data removed]"
     },
     "metadata": {},
     "output_type": "display_data"
    }
   ],
   "source": [
    "sns.regplot(x=\"NumLabProcedures\", y=\"NumMedications\", data=df, line_kws={\"color\": \"red\"})\n",
    "plt.ylim(0,)"
   ]
  },
  {
   "cell_type": "markdown",
   "metadata": {},
   "source": [
    "<p>As the NumLabProcedures goes up, the NumMedications goes up: this indicates a positive direct correlation between these two variables.</p>\n"
   ]
  },
  {
   "cell_type": "markdown",
   "metadata": {},
   "source": [
    "We can examine the correlation between 'NumLabProcedures' and 'NumMedications' and see that it's approximately 0.26.\n"
   ]
  },
  {
   "cell_type": "code",
   "execution_count": 14,
   "metadata": {
    "pycharm": {
     "name": "#%%\n"
    }
   },
   "outputs": [
    {
     "data": {
      "text/plain": "                  NumLabProcedures  NumMedications\nNumLabProcedures          1.000000        0.268149\nNumMedications            0.268149        1.000000",
      "text/html": "<div>\n<style scoped>\n    .dataframe tbody tr th:only-of-type {\n        vertical-align: middle;\n    }\n\n    .dataframe tbody tr th {\n        vertical-align: top;\n    }\n\n    .dataframe thead th {\n        text-align: right;\n    }\n</style>\n<table border=\"1\" class=\"dataframe\">\n  <thead>\n    <tr style=\"text-align: right;\">\n      <th></th>\n      <th>NumLabProcedures</th>\n      <th>NumMedications</th>\n    </tr>\n  </thead>\n  <tbody>\n    <tr>\n      <th>NumLabProcedures</th>\n      <td>1.000000</td>\n      <td>0.268149</td>\n    </tr>\n    <tr>\n      <th>NumMedications</th>\n      <td>0.268149</td>\n      <td>1.000000</td>\n    </tr>\n  </tbody>\n</table>\n</div>"
     },
     "execution_count": 14,
     "metadata": {},
     "output_type": "execute_result"
    }
   ],
   "source": [
    "df[[\"NumLabProcedures\",\"NumMedications\"]].corr()"
   ]
  },
  {
   "cell_type": "markdown",
   "metadata": {},
   "source": [
    "NumLabProcedures is a potential predictor variable of NumMedications. Let's find the scatterplot of \"hNumberEmergency\" and \"NumLabProcedures\"."
   ]
  },
  {
   "cell_type": "code",
   "execution_count": 15,
   "metadata": {
    "pycharm": {
     "name": "#%%\n"
    }
   },
   "outputs": [
    {
     "data": {
      "text/plain": "<AxesSubplot: xlabel='NumberEmergency', ylabel='NumLabProcedures'>"
     },
     "execution_count": 15,
     "metadata": {},
     "output_type": "execute_result"
    },
    {
     "data": {
      "text/plain": "<Figure size 640x480 with 1 Axes>",
      "image/png": "[encoded data removed]"
     },
     "metadata": {},
     "output_type": "display_data"
    }
   ],
   "source": [
    "sns.regplot(x=\"NumberEmergency\", y=\"NumLabProcedures\", data=df, line_kws={\"color\": \"red\"})"
   ]
  },
  {
   "cell_type": "markdown",
   "metadata": {},
   "source": [
    "<p>As NumberEmergency goes up, the NumLabProcedures goes down: this indicates an inverse/negative relationship between these two variables. NumberEmergency could potentially be a predictor of NumLabProcedures.</p>"
   ]
  },
  {
   "cell_type": "markdown",
   "metadata": {},
   "source": [
    "We can examine the correlation between 'NumberEmergency' and 'NumLabProcedures' and see it's approximately -0.002252.\n"
   ]
  },
  {
   "cell_type": "code",
   "execution_count": 16,
   "metadata": {
    "pycharm": {
     "name": "#%%\n"
    }
   },
   "outputs": [
    {
     "data": {
      "text/plain": "                  NumberEmergency  NumLabProcedures\nNumberEmergency          1.000000         -0.002252\nNumLabProcedures        -0.002252          1.000000",
      "text/html": "<div>\n<style scoped>\n    .dataframe tbody tr th:only-of-type {\n        vertical-align: middle;\n    }\n\n    .dataframe tbody tr th {\n        vertical-align: top;\n    }\n\n    .dataframe thead th {\n        text-align: right;\n    }\n</style>\n<table border=\"1\" class=\"dataframe\">\n  <thead>\n    <tr style=\"text-align: right;\">\n      <th></th>\n      <th>NumberEmergency</th>\n      <th>NumLabProcedures</th>\n    </tr>\n  </thead>\n  <tbody>\n    <tr>\n      <th>NumberEmergency</th>\n      <td>1.000000</td>\n      <td>-0.002252</td>\n    </tr>\n    <tr>\n      <th>NumLabProcedures</th>\n      <td>-0.002252</td>\n      <td>1.000000</td>\n    </tr>\n  </tbody>\n</table>\n</div>"
     },
     "execution_count": 16,
     "metadata": {},
     "output_type": "execute_result"
    }
   ],
   "source": [
    "df[['NumberEmergency', 'NumLabProcedures']].corr()"
   ]
  },
  {
   "cell_type": "markdown",
   "metadata": {},
   "source": [
    "<h3>Weak Linear Relationship</h3>\n"
   ]
  },
  {
   "cell_type": "markdown",
   "metadata": {},
   "source": [
    "Let's see if \"Age\" is a predictor variable of \"Weight\".\n"
   ]
  },
  {
   "cell_type": "code",
   "execution_count": 17,
   "metadata": {
    "pycharm": {
     "name": "#%%\n"
    }
   },
   "outputs": [
    {
     "data": {
      "text/plain": "<Figure size 640x480 with 2 Axes>",
      "image/png": "[encoded data removed]"
     },
     "metadata": {},
     "output_type": "display_data"
    },
    {
     "data": {
      "text/plain": "{'corr':              Age    Weight\n Age     1.000000  0.025992\n Weight  0.025992  1.000000,\n 'ax': <AxesSubplot: >}"
     },
     "execution_count": 17,
     "metadata": {},
     "output_type": "execute_result"
    }
   ],
   "source": [
    "associations(df[[\"Age\",\"Weight\"]])"
   ]
  },
  {
   "cell_type": "markdown",
   "metadata": {},
   "source": [
    "<p>According to heatmap Age does not seem like a good predictor of the Weight at all."
   ]
  },
  {
   "cell_type": "markdown",
   "metadata": {},
   "source": [
    "As we can notice the correlation between 'Age' and 'Weight' approximately 0.03.\n"
   ]
  },
  {
   "cell_type": "markdown",
   "metadata": {},
   "source": [
    " <div class=\"alert alert-danger alertdanger\" style=\"margin-top: 20px\">\n",
    "<h1> Question  3 a): </h1>\n",
    "\n",
    "<p>Find the correlation  between x=\"NumberInpatient\" and y=\"NumberEmergency\".</p>\n",
    "<p>Hint: if you would like to select those columns, use the following syntax: df[[\"NumberInpatient\",\"NumberEmergency\"]].  </p>\n",
    "</div>\n"
   ]
  },
  {
   "cell_type": "code",
   "execution_count": 18,
   "metadata": {
    "pycharm": {
     "name": "#%%\n"
    }
   },
   "outputs": [
    {
     "data": {
      "text/plain": "                 NumberInpatient  NumberEmergency\nNumberInpatient           1.0000           0.2666\nNumberEmergency           0.2666           1.0000",
      "text/html": "<div>\n<style scoped>\n    .dataframe tbody tr th:only-of-type {\n        vertical-align: middle;\n    }\n\n    .dataframe tbody tr th {\n        vertical-align: top;\n    }\n\n    .dataframe thead th {\n        text-align: right;\n    }\n</style>\n<table border=\"1\" class=\"dataframe\">\n  <thead>\n    <tr style=\"text-align: right;\">\n      <th></th>\n      <th>NumberInpatient</th>\n      <th>NumberEmergency</th>\n    </tr>\n  </thead>\n  <tbody>\n    <tr>\n      <th>NumberInpatient</th>\n      <td>1.0000</td>\n      <td>0.2666</td>\n    </tr>\n    <tr>\n      <th>NumberEmergency</th>\n      <td>0.2666</td>\n      <td>1.0000</td>\n    </tr>\n  </tbody>\n</table>\n</div>"
     },
     "execution_count": 18,
     "metadata": {},
     "output_type": "execute_result"
    }
   ],
   "source": [
    "# Write your code below and press Shift+Enter to execute"
   ]
  },
  {
   "cell_type": "markdown",
   "metadata": {},
   "source": [
    "<details><summary>Click here for the solution</summary>\n",
    "\n",
    "```python\n",
    "\n",
    "df[['NumberInpatient', 'NumberEmergency']].corr()\n",
    "\n",
    "```\n",
    "\n",
    "</details>\n"
   ]
  },
  {
   "cell_type": "markdown",
   "metadata": {},
   "source": [
    "<div class=\"alert alert-danger alertdanger\" style=\"margin-top: 20px\">\n",
    "<h1>Question  3 b):</h1>\n",
    "\n",
    "<p>Given the correlation results between \"NumberInpatient\" and \"NumberEmergency\", do you expect a linear relationship?</p>\n",
    "<p>Verify your results using the function \"regplot()\".</p>\n",
    "</div>\n"
   ]
  },
  {
   "cell_type": "code",
   "execution_count": 19,
   "metadata": {
    "pycharm": {
     "name": "#%%\n"
    }
   },
   "outputs": [
    {
     "data": {
      "text/plain": "<AxesSubplot: xlabel='NumberInpatient', ylabel='NumberEmergency'>"
     },
     "execution_count": 19,
     "metadata": {},
     "output_type": "execute_result"
    },
    {
     "data": {
      "text/plain": "<Figure size 640x480 with 1 Axes>",
      "image/png": "[encoded data removed]"
     },
     "metadata": {},
     "output_type": "display_data"
    }
   ],
   "source": [
    "# Write your code below and press Shift+Enter to execute"
   ]
  },
  {
   "cell_type": "markdown",
   "metadata": {},
   "source": [
    "<details><summary>Click here for the solution</summary>\n",
    "\n",
    "```python\n",
    "#There is a weak correlation between the variable 'NumberInpatient' and 'NumberEmergency.' as such regression will not work well. We can see this using \"regplot\" to demonstrate this.\n",
    "#Code:\n",
    "sns.regplot(x=\"NumberInpatient\", y=\"NumberEmergency\", data=df, line_kws={\"color\": \"red\"})\n",
    "\n",
    "```\n",
    "</details>\n"
   ]
  },
  {
   "cell_type": "markdown",
   "metadata": {},
   "source": [
    "<h3>Categorical Variables</h3>\n",
    "\n",
    "<p>These are variables that describe a 'characteristic' of a data unit, and are selected from a small group of categories. The categorical variables can have the type \"object\" or \"int64\". A good way to visualize categorical variables is by using boxplots.</p>\n"
   ]
  },
  {
   "cell_type": "markdown",
   "metadata": {},
   "source": [
    "Let's look at the relationship between \"Weight\" and \"NumProcedures\".\n"
   ]
  },
  {
   "cell_type": "code",
   "execution_count": 20,
   "metadata": {
    "pycharm": {
     "name": "#%%\n"
    }
   },
   "outputs": [
    {
     "name": "stdout",
     "output_type": "stream",
     "text": [
      "AxesSubplot(0.125,0.11;0.775x0.77)\n"
     ]
    },
    {
     "data": {
      "text/plain": "<Figure size 640x480 with 1 Axes>",
      "image/png": "[encoded data removed]"
     },
     "metadata": {},
     "output_type": "display_data"
    }
   ],
   "source": [
    "ax = sns.boxplot(x=\"Weight\", y=\"NumProcedures\", data=df)\n",
    "ax.set_xticklabels(ax.get_xticklabels(),rotation=30)\n",
    "print(ax)"
   ]
  },
  {
   "cell_type": "markdown",
   "metadata": {},
   "source": [
    "<p>We see that the distributions of price between the different NumProcedures categories have a significant overlap, so body-style would not be a good predictor of price. Let's examine engine \"Age\" and \"NumProcedures\".</p>\n"
   ]
  },
  {
   "cell_type": "code",
   "execution_count": 21,
   "metadata": {
    "pycharm": {
     "name": "#%%\n"
    }
   },
   "outputs": [
    {
     "name": "stdout",
     "output_type": "stream",
     "text": [
      "AxesSubplot(0.125,0.11;0.775x0.77)\n"
     ]
    },
    {
     "data": {
      "text/plain": "<Figure size 640x480 with 1 Axes>",
      "image/png": "[encoded data removed]"
     },
     "metadata": {},
     "output_type": "display_data"
    }
   ],
   "source": [
    "ax = sns.boxplot(x=\"Age\", y=\"NumProcedures\", data=df)\n",
    "ax.set_xticklabels(ax.get_xticklabels(),rotation=30)\n",
    "print(ax)"
   ]
  },
  {
   "cell_type": "markdown",
   "metadata": {},
   "source": [
    "<p>Here we see that the distribution of NumProcedures between Age categories, are distinct enough to take Age as a potential good predictor of NumProcedures.</p>\n"
   ]
  },
  {
   "cell_type": "markdown",
   "metadata": {},
   "source": [
    "Let's examine \"TimeInHospital\" and \"NumMedications\".\n"
   ]
  },
  {
   "cell_type": "code",
   "execution_count": 22,
   "metadata": {
    "pycharm": {
     "name": "#%%\n"
    }
   },
   "outputs": [
    {
     "data": {
      "text/plain": "<AxesSubplot: xlabel='TimeInHospital', ylabel='NumMedications'>"
     },
     "execution_count": 22,
     "metadata": {},
     "output_type": "execute_result"
    },
    {
     "data": {
      "text/plain": "<Figure size 640x480 with 1 Axes>",
      "image/png": "[encoded data removed]"
     },
     "metadata": {},
     "output_type": "display_data"
    }
   ],
   "source": [
    "sns.boxplot(x=\"TimeInHospital\", y=\"NumMedications\", data=df)"
   ]
  },
  {
   "cell_type": "markdown",
   "metadata": {},
   "source": [
    "<p>Here we see that the distribution of NumMedications between the different TimeInHospital categories differs. As such, TimeInHospital could potentially be a predictor of NumMedications.</p>\n"
   ]
  },
  {
   "cell_type": "markdown",
   "metadata": {},
   "source": [
    "<h2 id=\"discriptive_statistics\">3. Descriptive Statistical Analysis</h2>\n"
   ]
  },
  {
   "cell_type": "markdown",
   "metadata": {},
   "source": [
    "<p>Let's first take a look at the variables by utilizing a description method.</p>\n",
    "\n",
    "<p>The <b>describe</b> function automatically computes basic statistics for all continuous variables. Any NaN values are automatically skipped in these statistics.</p>\n",
    "\n",
    "This will show:\n",
    "\n",
    "<ul>\n",
    "    <li>the count of that variable</li>\n",
    "    <li>the mean</li>\n",
    "    <li>the standard deviation (std)</li>\n",
    "    <li>the minimum value</li>\n",
    "    <li>the IQR (Interquartile Range: 25%, 50% and 75%)</li>\n",
    "    <li>the maximum value</li>\n",
    "<ul>\n"
   ]
  },
  {
   "cell_type": "markdown",
   "metadata": {},
   "source": [
    "We can apply the method \"describe\" as follows:\n"
   ]
  },
  {
   "cell_type": "code",
   "execution_count": 23,
   "metadata": {
    "pycharm": {
     "name": "#%%\n"
    }
   },
   "outputs": [
    {
     "data": {
      "text/plain": "          Unnamed: 0   EncounterId    PatientNbr  AdmissionTypeId  \\\ncount  101745.000000  1.017450e+05  1.017450e+05    101745.000000   \nmean    50872.000000  1.652090e+08  5.433508e+07         2.024011   \nstd     29371.395907  1.026392e+08  3.869649e+07         1.445436   \nmin         0.000000  1.252200e+04  1.350000e+02         1.000000   \n25%     25436.000000  8.496543e+07  2.341348e+07         1.000000   \n50%     50872.000000  1.523897e+08  4.550679e+07         1.000000   \n75%     76308.000000  2.302720e+08  8.754689e+07         3.000000   \nmax    101744.000000  4.438672e+08  1.895026e+08         8.000000   \n\n       DischargeDispositionId  AdmissionSourceId  TimeInHospital  \\\ncount           101745.000000      101745.000000   101745.000000   \nmean                 3.715259           5.754720        4.396088   \nstd                  5.279940           4.064055        2.985306   \nmin                  1.000000           1.000000        1.000000   \n25%                  1.000000           1.000000        2.000000   \n50%                  1.000000           7.000000        4.000000   \n75%                  4.000000           7.000000        6.000000   \nmax                 28.000000          25.000000       14.000000   \n\n       NumLabProcedures  NumProcedures  NumMedications  NumberOutpatient  \\\ncount     101745.000000  101745.000000   101745.000000     101745.000000   \nmean           0.326493       1.339879       16.022271          0.369404   \nstd            0.149047       1.705914        8.127941          1.267374   \nmin            0.007576       0.000000        1.000000          0.000000   \n25%            0.234848       0.000000       10.000000          0.000000   \n50%            0.333333       1.000000       15.000000          0.000000   \n75%            0.431818       2.000000       20.000000          0.000000   \nmax            1.000000       6.000000       81.000000         42.000000   \n\n       NumberEmergency  NumberInpatient  NumberDiagnoses     change_yes  \\\ncount    101745.000000    101745.000000    101745.000000  101745.000000   \nmean          0.197828         0.635510         0.463919       0.461969   \nstd           0.930537         1.262895         0.120853       0.498554   \nmin           0.000000         0.000000         0.062500       0.000000   \n25%           0.000000         0.000000         0.375000       0.000000   \n50%           0.000000         0.000000         0.500000       0.000000   \n75%           0.000000         1.000000         0.562500       1.000000   \nmax          76.000000        21.000000         1.000000       1.000000   \n\n           change_no      Increased             No         Steady  \\\ncount  101745.000000  101745.000000  101745.000000  101745.000000   \nmean        0.538031       0.000855       0.937471       0.059924   \nstd         0.498554       0.029229       0.242115       0.237348   \nmin         0.000000       0.000000       0.000000       0.000000   \n25%         0.000000       0.000000       1.000000       0.000000   \n50%         1.000000       0.000000       1.000000       0.000000   \n75%         1.000000       0.000000       1.000000       0.000000   \nmax         1.000000       1.000000       1.000000       1.000000   \n\n           Decreased  \ncount  101745.000000  \nmean        0.001749  \nstd         0.041790  \nmin         0.000000  \n25%         0.000000  \n50%         0.000000  \n75%         0.000000  \nmax         1.000000  ",
      "text/html": "<div>\n<style scoped>\n    .dataframe tbody tr th:only-of-type {\n        vertical-align: middle;\n    }\n\n    .dataframe tbody tr th {\n        vertical-align: top;\n    }\n\n    .dataframe thead th {\n        text-align: right;\n    }\n</style>\n<table border=\"1\" class=\"dataframe\">\n  <thead>\n    <tr style=\"text-align: right;\">\n      <th></th>\n      <th>Unnamed: 0</th>\n      <th>EncounterId</th>\n      <th>PatientNbr</th>\n      <th>AdmissionTypeId</th>\n      <th>DischargeDispositionId</th>\n      <th>AdmissionSourceId</th>\n      <th>TimeInHospital</th>\n      <th>NumLabProcedures</th>\n      <th>NumProcedures</th>\n      <th>NumMedications</th>\n      <th>NumberOutpatient</th>\n      <th>NumberEmergency</th>\n      <th>NumberInpatient</th>\n      <th>NumberDiagnoses</th>\n      <th>change_yes</th>\n      <th>change_no</th>\n      <th>Increased</th>\n      <th>No</th>\n      <th>Steady</th>\n      <th>Decreased</th>\n    </tr>\n  </thead>\n  <tbody>\n    <tr>\n      <th>count</th>\n      <td>101745.000000</td>\n      <td>1.017450e+05</td>\n      <td>1.017450e+05</td>\n      <td>101745.000000</td>\n      <td>101745.000000</td>\n      <td>101745.000000</td>\n      <td>101745.000000</td>\n      <td>101745.000000</td>\n      <td>101745.000000</td>\n      <td>101745.000000</td>\n      <td>101745.000000</td>\n      <td>101745.000000</td>\n      <td>101745.000000</td>\n      <td>101745.000000</td>\n      <td>101745.000000</td>\n      <td>101745.000000</td>\n      <td>101745.000000</td>\n      <td>101745.000000</td>\n      <td>101745.000000</td>\n      <td>101745.000000</td>\n    </tr>\n    <tr>\n      <th>mean</th>\n      <td>50872.000000</td>\n      <td>1.652090e+08</td>\n      <td>5.433508e+07</td>\n      <td>2.024011</td>\n      <td>3.715259</td>\n      <td>5.754720</td>\n      <td>4.396088</td>\n      <td>0.326493</td>\n      <td>1.339879</td>\n      <td>16.022271</td>\n      <td>0.369404</td>\n      <td>0.197828</td>\n      <td>0.635510</td>\n      <td>0.463919</td>\n      <td>0.461969</td>\n      <td>0.538031</td>\n      <td>0.000855</td>\n      <td>0.937471</td>\n      <td>0.059924</td>\n      <td>0.001749</td>\n    </tr>\n    <tr>\n      <th>std</th>\n      <td>29371.395907</td>\n      <td>1.026392e+08</td>\n      <td>3.869649e+07</td>\n      <td>1.445436</td>\n      <td>5.279940</td>\n      <td>4.064055</td>\n      <td>2.985306</td>\n      <td>0.149047</td>\n      <td>1.705914</td>\n      <td>8.127941</td>\n      <td>1.267374</td>\n      <td>0.930537</td>\n      <td>1.262895</td>\n      <td>0.120853</td>\n      <td>0.498554</td>\n      <td>0.498554</td>\n      <td>0.029229</td>\n      <td>0.242115</td>\n      <td>0.237348</td>\n      <td>0.041790</td>\n    </tr>\n    <tr>\n      <th>min</th>\n      <td>0.000000</td>\n      <td>1.252200e+04</td>\n      <td>1.350000e+02</td>\n      <td>1.000000</td>\n      <td>1.000000</td>\n      <td>1.000000</td>\n      <td>1.000000</td>\n      <td>0.007576</td>\n      <td>0.000000</td>\n      <td>1.000000</td>\n      <td>0.000000</td>\n      <td>0.000000</td>\n      <td>0.000000</td>\n      <td>0.062500</td>\n      <td>0.000000</td>\n      <td>0.000000</td>\n      <td>0.000000</td>\n      <td>0.000000</td>\n      <td>0.000000</td>\n      <td>0.000000</td>\n    </tr>\n    <tr>\n      <th>25%</th>\n      <td>25436.000000</td>\n      <td>8.496543e+07</td>\n      <td>2.341348e+07</td>\n      <td>1.000000</td>\n      <td>1.000000</td>\n      <td>1.000000</td>\n      <td>2.000000</td>\n      <td>0.234848</td>\n      <td>0.000000</td>\n      <td>10.000000</td>\n      <td>0.000000</td>\n      <td>0.000000</td>\n      <td>0.000000</td>\n      <td>0.375000</td>\n      <td>0.000000</td>\n      <td>0.000000</td>\n      <td>0.000000</td>\n      <td>1.000000</td>\n      <td>0.000000</td>\n      <td>0.000000</td>\n    </tr>\n    <tr>\n      <th>50%</th>\n      <td>50872.000000</td>\n      <td>1.523897e+08</td>\n      <td>4.550679e+07</td>\n      <td>1.000000</td>\n      <td>1.000000</td>\n      <td>7.000000</td>\n      <td>4.000000</td>\n      <td>0.333333</td>\n      <td>1.000000</td>\n      <td>15.000000</td>\n      <td>0.000000</td>\n      <td>0.000000</td>\n      <td>0.000000</td>\n      <td>0.500000</td>\n      <td>0.000000</td>\n      <td>1.000000</td>\n      <td>0.000000</td>\n      <td>1.000000</td>\n      <td>0.000000</td>\n      <td>0.000000</td>\n    </tr>\n    <tr>\n      <th>75%</th>\n      <td>76308.000000</td>\n      <td>2.302720e+08</td>\n      <td>8.754689e+07</td>\n      <td>3.000000</td>\n      <td>4.000000</td>\n      <td>7.000000</td>\n      <td>6.000000</td>\n      <td>0.431818</td>\n      <td>2.000000</td>\n      <td>20.000000</td>\n      <td>0.000000</td>\n      <td>0.000000</td>\n      <td>1.000000</td>\n      <td>0.562500</td>\n      <td>1.000000</td>\n      <td>1.000000</td>\n      <td>0.000000</td>\n      <td>1.000000</td>\n      <td>0.000000</td>\n      <td>0.000000</td>\n    </tr>\n    <tr>\n      <th>max</th>\n      <td>101744.000000</td>\n      <td>4.438672e+08</td>\n      <td>1.895026e+08</td>\n      <td>8.000000</td>\n      <td>28.000000</td>\n      <td>25.000000</td>\n      <td>14.000000</td>\n      <td>1.000000</td>\n      <td>6.000000</td>\n      <td>81.000000</td>\n      <td>42.000000</td>\n      <td>76.000000</td>\n      <td>21.000000</td>\n      <td>1.000000</td>\n      <td>1.000000</td>\n      <td>1.000000</td>\n      <td>1.000000</td>\n      <td>1.000000</td>\n      <td>1.000000</td>\n      <td>1.000000</td>\n    </tr>\n  </tbody>\n</table>\n</div>"
     },
     "execution_count": 23,
     "metadata": {},
     "output_type": "execute_result"
    }
   ],
   "source": [
    "df.describe()"
   ]
  },
  {
   "cell_type": "markdown",
   "metadata": {},
   "source": [
    "The default setting of \"describe\" skips variables of type object. We can apply the method \"describe\" on the variables of type 'object' as follows:\n"
   ]
  },
  {
   "cell_type": "code",
   "execution_count": 24,
   "metadata": {
    "pycharm": {
     "name": "#%%\n"
    }
   },
   "outputs": [
    {
     "data": {
      "text/plain": "             Race  Gender      Age    Weight PayerCode  MedicalSpecialty  \\\ncount      101745  101745   101745      3197    101745            101745   \nunique          5       3       10         9        17                72   \ntop     Caucasian  Female  [70-80)  [75-100)        MC  InternalMedicine   \nfreq        78363   54703    26064      1336     72677             64572   \n\n       Diagnosis1 Diagnosis2 Diagnosis3 MaxGluSerum  ... Examide Citoglipton  \\\ncount      101745     101745     101745      101745  ...  101745      101745   \nunique        716        748        789           4  ...       1           1   \ntop           428        276        250        None  ...      No          No   \nfreq         6862       7106      12976       96400  ...  101745      101745   \n\n       Insulin Glyburide-metformin Glipizide-metformin  \\\ncount   101745              101745              101745   \nunique       4                   4                   2   \ntop         No                  No                  No   \nfreq     47371              101039              101732   \n\n       Glimepiride-pioglitazone Metformin-rosiglitazone  \\\ncount                    101745                  101745   \nunique                        2                       2   \ntop                          No                      No   \nfreq                     101744                  101743   \n\n       Metformin-pioglitazone Readmitted      ages-binned  \ncount                  101745     101745           101745  \nunique                      2          3                4  \ntop                        No         NO  Old-Aged Adults  \nfreq                   101744      54852            85779  \n\n[4 rows x 35 columns]",
      "text/html": "<div>\n<style scoped>\n    .dataframe tbody tr th:only-of-type {\n        vertical-align: middle;\n    }\n\n    .dataframe tbody tr th {\n        vertical-align: top;\n    }\n\n    .dataframe thead th {\n        text-align: right;\n    }\n</style>\n<table border=\"1\" class=\"dataframe\">\n  <thead>\n    <tr style=\"text-align: right;\">\n      <th></th>\n      <th>Race</th>\n      <th>Gender</th>\n      <th>Age</th>\n      <th>Weight</th>\n      <th>PayerCode</th>\n      <th>MedicalSpecialty</th>\n      <th>Diagnosis1</th>\n      <th>Diagnosis2</th>\n      <th>Diagnosis3</th>\n      <th>MaxGluSerum</th>\n      <th>...</th>\n      <th>Examide</th>\n      <th>Citoglipton</th>\n      <th>Insulin</th>\n      <th>Glyburide-metformin</th>\n      <th>Glipizide-metformin</th>\n      <th>Glimepiride-pioglitazone</th>\n      <th>Metformin-rosiglitazone</th>\n      <th>Metformin-pioglitazone</th>\n      <th>Readmitted</th>\n      <th>ages-binned</th>\n    </tr>\n  </thead>\n  <tbody>\n    <tr>\n      <th>count</th>\n      <td>101745</td>\n      <td>101745</td>\n      <td>101745</td>\n      <td>3197</td>\n      <td>101745</td>\n      <td>101745</td>\n      <td>101745</td>\n      <td>101745</td>\n      <td>101745</td>\n      <td>101745</td>\n      <td>...</td>\n      <td>101745</td>\n      <td>101745</td>\n      <td>101745</td>\n      <td>101745</td>\n      <td>101745</td>\n      <td>101745</td>\n      <td>101745</td>\n      <td>101745</td>\n      <td>101745</td>\n      <td>101745</td>\n    </tr>\n    <tr>\n      <th>unique</th>\n      <td>5</td>\n      <td>3</td>\n      <td>10</td>\n      <td>9</td>\n      <td>17</td>\n      <td>72</td>\n      <td>716</td>\n      <td>748</td>\n      <td>789</td>\n      <td>4</td>\n      <td>...</td>\n      <td>1</td>\n      <td>1</td>\n      <td>4</td>\n      <td>4</td>\n      <td>2</td>\n      <td>2</td>\n      <td>2</td>\n      <td>2</td>\n      <td>3</td>\n      <td>4</td>\n    </tr>\n    <tr>\n      <th>top</th>\n      <td>Caucasian</td>\n      <td>Female</td>\n      <td>[70-80)</td>\n      <td>[75-100)</td>\n      <td>MC</td>\n      <td>InternalMedicine</td>\n      <td>428</td>\n      <td>276</td>\n      <td>250</td>\n      <td>None</td>\n      <td>...</td>\n      <td>No</td>\n      <td>No</td>\n      <td>No</td>\n      <td>No</td>\n      <td>No</td>\n      <td>No</td>\n      <td>No</td>\n      <td>No</td>\n      <td>NO</td>\n      <td>Old-Aged Adults</td>\n    </tr>\n    <tr>\n      <th>freq</th>\n      <td>78363</td>\n      <td>54703</td>\n      <td>26064</td>\n      <td>1336</td>\n      <td>72677</td>\n      <td>64572</td>\n      <td>6862</td>\n      <td>7106</td>\n      <td>12976</td>\n      <td>96400</td>\n      <td>...</td>\n      <td>101745</td>\n      <td>101745</td>\n      <td>47371</td>\n      <td>101039</td>\n      <td>101732</td>\n      <td>101744</td>\n      <td>101743</td>\n      <td>101744</td>\n      <td>54852</td>\n      <td>85779</td>\n    </tr>\n  </tbody>\n</table>\n<p>4 rows × 35 columns</p>\n</div>"
     },
     "execution_count": 24,
     "metadata": {},
     "output_type": "execute_result"
    }
   ],
   "source": [
    "df.describe(include=['object'])"
   ]
  },
  {
   "cell_type": "markdown",
   "metadata": {},
   "source": [
    "<h3>Value Counts</h3>\n"
   ]
  },
  {
   "cell_type": "markdown",
   "metadata": {},
   "source": [
    "<p>Value counts is a good way of understanding how many units of each characteristic/variable we have. We can apply the \"value_counts\" method on the column \"MedicalSpecialty\". Don’t forget the method \"value_counts\" only works on pandas series, not pandas dataframes. As a result, we only include one bracket <code>df['MedicalSpecialty]</code>, not two brackets <code>df[['MedicalSpecialty']]</code>.</p>\n"
   ]
  },
  {
   "cell_type": "code",
   "execution_count": 25,
   "metadata": {
    "pycharm": {
     "name": "#%%\n"
    }
   },
   "outputs": [
    {
     "data": {
      "text/plain": "InternalMedicine                    64572\nEmergency/Trauma                     7564\nFamily/GeneralPractice               7440\nCardiology                           5352\nSurgery-General                      3099\n                                    ...  \nPerinatology                            1\nNeurophysiology                         1\nPsychiatry-Addictive                    1\nPediatrics-InfectiousDiseases           1\nSurgery-PlasticwithinHeadandNeck        1\nName: MedicalSpecialty, Length: 72, dtype: int64"
     },
     "execution_count": 25,
     "metadata": {},
     "output_type": "execute_result"
    }
   ],
   "source": [
    "df['MedicalSpecialty'].value_counts()"
   ]
  },
  {
   "cell_type": "markdown",
   "metadata": {},
   "source": [
    "We can convert the series to a dataframe as follows:\n"
   ]
  },
  {
   "cell_type": "code",
   "execution_count": 26,
   "metadata": {
    "pycharm": {
     "name": "#%%\n"
    }
   },
   "outputs": [
    {
     "data": {
      "text/plain": "                                  MedicalSpecialty\nInternalMedicine                             64572\nEmergency/Trauma                              7564\nFamily/GeneralPractice                        7440\nCardiology                                    5352\nSurgery-General                               3099\n...                                            ...\nPerinatology                                     1\nNeurophysiology                                  1\nPsychiatry-Addictive                             1\nPediatrics-InfectiousDiseases                    1\nSurgery-PlasticwithinHeadandNeck                 1\n\n[72 rows x 1 columns]",
      "text/html": "<div>\n<style scoped>\n    .dataframe tbody tr th:only-of-type {\n        vertical-align: middle;\n    }\n\n    .dataframe tbody tr th {\n        vertical-align: top;\n    }\n\n    .dataframe thead th {\n        text-align: right;\n    }\n</style>\n<table border=\"1\" class=\"dataframe\">\n  <thead>\n    <tr style=\"text-align: right;\">\n      <th></th>\n      <th>MedicalSpecialty</th>\n    </tr>\n  </thead>\n  <tbody>\n    <tr>\n      <th>InternalMedicine</th>\n      <td>64572</td>\n    </tr>\n    <tr>\n      <th>Emergency/Trauma</th>\n      <td>7564</td>\n    </tr>\n    <tr>\n      <th>Family/GeneralPractice</th>\n      <td>7440</td>\n    </tr>\n    <tr>\n      <th>Cardiology</th>\n      <td>5352</td>\n    </tr>\n    <tr>\n      <th>Surgery-General</th>\n      <td>3099</td>\n    </tr>\n    <tr>\n      <th>...</th>\n      <td>...</td>\n    </tr>\n    <tr>\n      <th>Perinatology</th>\n      <td>1</td>\n    </tr>\n    <tr>\n      <th>Neurophysiology</th>\n      <td>1</td>\n    </tr>\n    <tr>\n      <th>Psychiatry-Addictive</th>\n      <td>1</td>\n    </tr>\n    <tr>\n      <th>Pediatrics-InfectiousDiseases</th>\n      <td>1</td>\n    </tr>\n    <tr>\n      <th>Surgery-PlasticwithinHeadandNeck</th>\n      <td>1</td>\n    </tr>\n  </tbody>\n</table>\n<p>72 rows × 1 columns</p>\n</div>"
     },
     "execution_count": 26,
     "metadata": {},
     "output_type": "execute_result"
    }
   ],
   "source": [
    "df['MedicalSpecialty'].value_counts().to_frame()"
   ]
  },
  {
   "cell_type": "markdown",
   "metadata": {},
   "source": [
    "Let's repeat the above steps but save the results to the dataframe \"MedicalSpecialty\" and rename the column  'drive-wheels' to 'value_counts'.\n"
   ]
  },
  {
   "cell_type": "code",
   "execution_count": 27,
   "metadata": {
    "pycharm": {
     "name": "#%%\n"
    }
   },
   "outputs": [
    {
     "data": {
      "text/plain": "                                  value_counts\nInternalMedicine                         64572\nEmergency/Trauma                          7564\nFamily/GeneralPractice                    7440\nCardiology                                5352\nSurgery-General                           3099\n...                                        ...\nPerinatology                                 1\nNeurophysiology                              1\nPsychiatry-Addictive                         1\nPediatrics-InfectiousDiseases                1\nSurgery-PlasticwithinHeadandNeck             1\n\n[72 rows x 1 columns]",
      "text/html": "<div>\n<style scoped>\n    .dataframe tbody tr th:only-of-type {\n        vertical-align: middle;\n    }\n\n    .dataframe tbody tr th {\n        vertical-align: top;\n    }\n\n    .dataframe thead th {\n        text-align: right;\n    }\n</style>\n<table border=\"1\" class=\"dataframe\">\n  <thead>\n    <tr style=\"text-align: right;\">\n      <th></th>\n      <th>value_counts</th>\n    </tr>\n  </thead>\n  <tbody>\n    <tr>\n      <th>InternalMedicine</th>\n      <td>64572</td>\n    </tr>\n    <tr>\n      <th>Emergency/Trauma</th>\n      <td>7564</td>\n    </tr>\n    <tr>\n      <th>Family/GeneralPractice</th>\n      <td>7440</td>\n    </tr>\n    <tr>\n      <th>Cardiology</th>\n      <td>5352</td>\n    </tr>\n    <tr>\n      <th>Surgery-General</th>\n      <td>3099</td>\n    </tr>\n    <tr>\n      <th>...</th>\n      <td>...</td>\n    </tr>\n    <tr>\n      <th>Perinatology</th>\n      <td>1</td>\n    </tr>\n    <tr>\n      <th>Neurophysiology</th>\n      <td>1</td>\n    </tr>\n    <tr>\n      <th>Psychiatry-Addictive</th>\n      <td>1</td>\n    </tr>\n    <tr>\n      <th>Pediatrics-InfectiousDiseases</th>\n      <td>1</td>\n    </tr>\n    <tr>\n      <th>Surgery-PlasticwithinHeadandNeck</th>\n      <td>1</td>\n    </tr>\n  </tbody>\n</table>\n<p>72 rows × 1 columns</p>\n</div>"
     },
     "execution_count": 27,
     "metadata": {},
     "output_type": "execute_result"
    }
   ],
   "source": [
    "medical_seciality_counts = df['MedicalSpecialty'].value_counts().to_frame()\n",
    "medical_seciality_counts.rename(columns={'MedicalSpecialty': 'value_counts'}, inplace=True)\n",
    "medical_seciality_counts"
   ]
  },
  {
   "cell_type": "markdown",
   "metadata": {},
   "source": [
    "Now let's rename the index to 'drive-wheels':\n"
   ]
  },
  {
   "cell_type": "code",
   "execution_count": 28,
   "metadata": {
    "pycharm": {
     "name": "#%%\n"
    }
   },
   "outputs": [
    {
     "data": {
      "text/plain": "                                  value_counts\nmedical-speciality                            \nInternalMedicine                         64572\nEmergency/Trauma                          7564\nFamily/GeneralPractice                    7440\nCardiology                                5352\nSurgery-General                           3099\n...                                        ...\nPerinatology                                 1\nNeurophysiology                              1\nPsychiatry-Addictive                         1\nPediatrics-InfectiousDiseases                1\nSurgery-PlasticwithinHeadandNeck             1\n\n[72 rows x 1 columns]",
      "text/html": "<div>\n<style scoped>\n    .dataframe tbody tr th:only-of-type {\n        vertical-align: middle;\n    }\n\n    .dataframe tbody tr th {\n        vertical-align: top;\n    }\n\n    .dataframe thead th {\n        text-align: right;\n    }\n</style>\n<table border=\"1\" class=\"dataframe\">\n  <thead>\n    <tr style=\"text-align: right;\">\n      <th></th>\n      <th>value_counts</th>\n    </tr>\n    <tr>\n      <th>medical-speciality</th>\n      <th></th>\n    </tr>\n  </thead>\n  <tbody>\n    <tr>\n      <th>InternalMedicine</th>\n      <td>64572</td>\n    </tr>\n    <tr>\n      <th>Emergency/Trauma</th>\n      <td>7564</td>\n    </tr>\n    <tr>\n      <th>Family/GeneralPractice</th>\n      <td>7440</td>\n    </tr>\n    <tr>\n      <th>Cardiology</th>\n      <td>5352</td>\n    </tr>\n    <tr>\n      <th>Surgery-General</th>\n      <td>3099</td>\n    </tr>\n    <tr>\n      <th>...</th>\n      <td>...</td>\n    </tr>\n    <tr>\n      <th>Perinatology</th>\n      <td>1</td>\n    </tr>\n    <tr>\n      <th>Neurophysiology</th>\n      <td>1</td>\n    </tr>\n    <tr>\n      <th>Psychiatry-Addictive</th>\n      <td>1</td>\n    </tr>\n    <tr>\n      <th>Pediatrics-InfectiousDiseases</th>\n      <td>1</td>\n    </tr>\n    <tr>\n      <th>Surgery-PlasticwithinHeadandNeck</th>\n      <td>1</td>\n    </tr>\n  </tbody>\n</table>\n<p>72 rows × 1 columns</p>\n</div>"
     },
     "execution_count": 28,
     "metadata": {},
     "output_type": "execute_result"
    }
   ],
   "source": [
    "medical_seciality_counts.index.name = 'medical-speciality'\n",
    "medical_seciality_counts"
   ]
  },
  {
   "cell_type": "markdown",
   "metadata": {},
   "source": [
    "We can repeat the above process for the variable 'PayerCode'.\n"
   ]
  },
  {
   "cell_type": "code",
   "execution_count": 29,
   "metadata": {
    "pycharm": {
     "name": "#%%\n"
    }
   },
   "outputs": [
    {
     "data": {
      "text/plain": "            value_counts\npayer-code              \nMC                 72677\nHM                  6273\nSP                  5007\nBC                  4655\nMD                  3532\nCP                  2533\nUN                  2448\nCM                  1936\nOG                  1032\nPO                   592",
      "text/html": "<div>\n<style scoped>\n    .dataframe tbody tr th:only-of-type {\n        vertical-align: middle;\n    }\n\n    .dataframe tbody tr th {\n        vertical-align: top;\n    }\n\n    .dataframe thead th {\n        text-align: right;\n    }\n</style>\n<table border=\"1\" class=\"dataframe\">\n  <thead>\n    <tr style=\"text-align: right;\">\n      <th></th>\n      <th>value_counts</th>\n    </tr>\n    <tr>\n      <th>payer-code</th>\n      <th></th>\n    </tr>\n  </thead>\n  <tbody>\n    <tr>\n      <th>MC</th>\n      <td>72677</td>\n    </tr>\n    <tr>\n      <th>HM</th>\n      <td>6273</td>\n    </tr>\n    <tr>\n      <th>SP</th>\n      <td>5007</td>\n    </tr>\n    <tr>\n      <th>BC</th>\n      <td>4655</td>\n    </tr>\n    <tr>\n      <th>MD</th>\n      <td>3532</td>\n    </tr>\n    <tr>\n      <th>CP</th>\n      <td>2533</td>\n    </tr>\n    <tr>\n      <th>UN</th>\n      <td>2448</td>\n    </tr>\n    <tr>\n      <th>CM</th>\n      <td>1936</td>\n    </tr>\n    <tr>\n      <th>OG</th>\n      <td>1032</td>\n    </tr>\n    <tr>\n      <th>PO</th>\n      <td>592</td>\n    </tr>\n  </tbody>\n</table>\n</div>"
     },
     "execution_count": 29,
     "metadata": {},
     "output_type": "execute_result"
    }
   ],
   "source": [
    "# engine-location as variable\n",
    "payer_code_counts = df['PayerCode'].value_counts().to_frame()\n",
    "payer_code_counts.rename(columns={'PayerCode': 'value_counts'}, inplace=True)\n",
    "payer_code_counts.index.name = 'payer-code'\n",
    "payer_code_counts.head(10)"
   ]
  },
  {
   "cell_type": "markdown",
   "metadata": {},
   "source": [
    "<p>After examining the value counts of the PayerCode location, we see that payer code would not be a good predictor variable for the medical speciality.</p>\n"
   ]
  },
  {
   "cell_type": "markdown",
   "metadata": {},
   "source": [
    "<h2 id=\"basic_grouping\">4. Basics of Grouping</h2>\n"
   ]
  },
  {
   "cell_type": "markdown",
   "metadata": {},
   "source": [
    "<p>The \"groupby\" method groups data by different categories. The data is grouped based on one or several variables, and analysis is performed on the individual groups.</p>\n",
    "\n",
    "<p>For example, let's group by the variable \"Insulin\". We see that there are 4 different categories of Insulin.</p>\n"
   ]
  },
  {
   "cell_type": "code",
   "execution_count": 30,
   "metadata": {
    "pycharm": {
     "name": "#%%\n"
    }
   },
   "outputs": [
    {
     "data": {
      "text/plain": "array(['No', 'Up', 'Steady', 'Down'], dtype=object)"
     },
     "execution_count": 30,
     "metadata": {},
     "output_type": "execute_result"
    }
   ],
   "source": [
    "df['Insulin'].unique()"
   ]
  },
  {
   "cell_type": "markdown",
   "metadata": {},
   "source": [
    "<p>If we want to know, on average, which type of drive wheel is most valuable, we can group \"Insulin\" and then average them.</p>\n",
    "\n",
    "<p>We can select the columns 'Insulin', 'NumMedications' and 'DiabetesMedication', then assign it to the variable \"df_group_one\".</p>\n"
   ]
  },
  {
   "cell_type": "code",
   "execution_count": 31,
   "metadata": {
    "pycharm": {
     "name": "#%%\n"
    }
   },
   "outputs": [],
   "source": [
    "df_group_one = df[['NumMedications','Insulin','DiabetesMedication']]"
   ]
  },
  {
   "cell_type": "markdown",
   "metadata": {},
   "source": [
    "We can then calculate the average price for each of the different categories of data.\n"
   ]
  },
  {
   "cell_type": "code",
   "execution_count": 32,
   "metadata": {
    "pycharm": {
     "name": "#%%\n"
    }
   },
   "outputs": [
    {
     "data": {
      "text/plain": "  Insulin  NumMedications  DiabetesMedication\n0    Down       19.018991             1.00000\n1      No       14.209770             0.50609\n2  Steady       16.294005             1.00000\n3      Up       19.634379             1.00000",
      "text/html": "<div>\n<style scoped>\n    .dataframe tbody tr th:only-of-type {\n        vertical-align: middle;\n    }\n\n    .dataframe tbody tr th {\n        vertical-align: top;\n    }\n\n    .dataframe thead th {\n        text-align: right;\n    }\n</style>\n<table border=\"1\" class=\"dataframe\">\n  <thead>\n    <tr style=\"text-align: right;\">\n      <th></th>\n      <th>Insulin</th>\n      <th>NumMedications</th>\n      <th>DiabetesMedication</th>\n    </tr>\n  </thead>\n  <tbody>\n    <tr>\n      <th>0</th>\n      <td>Down</td>\n      <td>19.018991</td>\n      <td>1.00000</td>\n    </tr>\n    <tr>\n      <th>1</th>\n      <td>No</td>\n      <td>14.209770</td>\n      <td>0.50609</td>\n    </tr>\n    <tr>\n      <th>2</th>\n      <td>Steady</td>\n      <td>16.294005</td>\n      <td>1.00000</td>\n    </tr>\n    <tr>\n      <th>3</th>\n      <td>Up</td>\n      <td>19.634379</td>\n      <td>1.00000</td>\n    </tr>\n  </tbody>\n</table>\n</div>"
     },
     "execution_count": 32,
     "metadata": {},
     "output_type": "execute_result"
    }
   ],
   "source": [
    "# grouping results\n",
    "df_group_one = df_group_one.groupby(['Insulin'],as_index=False).mean()\n",
    "df_group_one"
   ]
  },
  {
   "cell_type": "markdown",
   "metadata": {},
   "source": [
    "<p>From our data, it seems \"Down\" and \"Up\" patients are, given the most amount of medicine, while \"No\" and \"Steady\" are approximately the same in number medications.</p>\n",
    "\n",
    "<p>You can also group by multiple variables. For example, let's group by both 'Insulin' and 'DiabetesMedication'. This groups the dataframe by the unique combination of 'Insulin' and 'DiabetesMedication'. We can store the results in the variable 'grouped_test1'.</p>\n"
   ]
  },
  {
   "cell_type": "code",
   "execution_count": 33,
   "metadata": {
    "pycharm": {
     "name": "#%%\n"
    }
   },
   "outputs": [
    {
     "data": {
      "text/plain": "  Insulin  DiabetesMedication  NumMedications\n0    Down                True       19.018991\n1      No               False       13.242937\n2      No                True       15.153333\n3  Steady                True       16.294005\n4      Up                True       19.634379",
      "text/html": "<div>\n<style scoped>\n    .dataframe tbody tr th:only-of-type {\n        vertical-align: middle;\n    }\n\n    .dataframe tbody tr th {\n        vertical-align: top;\n    }\n\n    .dataframe thead th {\n        text-align: right;\n    }\n</style>\n<table border=\"1\" class=\"dataframe\">\n  <thead>\n    <tr style=\"text-align: right;\">\n      <th></th>\n      <th>Insulin</th>\n      <th>DiabetesMedication</th>\n      <th>NumMedications</th>\n    </tr>\n  </thead>\n  <tbody>\n    <tr>\n      <th>0</th>\n      <td>Down</td>\n      <td>True</td>\n      <td>19.018991</td>\n    </tr>\n    <tr>\n      <th>1</th>\n      <td>No</td>\n      <td>False</td>\n      <td>13.242937</td>\n    </tr>\n    <tr>\n      <th>2</th>\n      <td>No</td>\n      <td>True</td>\n      <td>15.153333</td>\n    </tr>\n    <tr>\n      <th>3</th>\n      <td>Steady</td>\n      <td>True</td>\n      <td>16.294005</td>\n    </tr>\n    <tr>\n      <th>4</th>\n      <td>Up</td>\n      <td>True</td>\n      <td>19.634379</td>\n    </tr>\n  </tbody>\n</table>\n</div>"
     },
     "execution_count": 33,
     "metadata": {},
     "output_type": "execute_result"
    }
   ],
   "source": [
    "# grouping results\n",
    "df_gptest = df[['NumMedications','Insulin','DiabetesMedication']]\n",
    "grouped_test1 = df_gptest.groupby(['Insulin','DiabetesMedication'],as_index=False).mean()\n",
    "grouped_test1"
   ]
  },
  {
   "cell_type": "markdown",
   "metadata": {},
   "source": [
    "<p>This grouped data is much easier to visualize when it is made into a pivot table. A pivot table is like an Excel spreadsheet, with one variable along the column and another along the row. We can convert the dataframe to a pivot table using the method \"pivot\" to create a pivot table from the groups.</p>\n",
    "\n",
    "<p>In this case, we will leave the Insulin variable as the rows of the table, and pivot DiabetesMedication to become the columns of the table:</p>\n"
   ]
  },
  {
   "cell_type": "code",
   "execution_count": 34,
   "metadata": {
    "pycharm": {
     "name": "#%%\n"
    }
   },
   "outputs": [
    {
     "data": {
      "text/plain": "                   NumMedications           \nDiabetesMedication          False      True \nInsulin                                     \nDown                          NaN  19.018991\nNo                      13.242937  15.153333\nSteady                        NaN  16.294005\nUp                            NaN  19.634379",
      "text/html": "<div>\n<style scoped>\n    .dataframe tbody tr th:only-of-type {\n        vertical-align: middle;\n    }\n\n    .dataframe tbody tr th {\n        vertical-align: top;\n    }\n\n    .dataframe thead tr th {\n        text-align: left;\n    }\n\n    .dataframe thead tr:last-of-type th {\n        text-align: right;\n    }\n</style>\n<table border=\"1\" class=\"dataframe\">\n  <thead>\n    <tr>\n      <th></th>\n      <th colspan=\"2\" halign=\"left\">NumMedications</th>\n    </tr>\n    <tr>\n      <th>DiabetesMedication</th>\n      <th>False</th>\n      <th>True</th>\n    </tr>\n    <tr>\n      <th>Insulin</th>\n      <th></th>\n      <th></th>\n    </tr>\n  </thead>\n  <tbody>\n    <tr>\n      <th>Down</th>\n      <td>NaN</td>\n      <td>19.018991</td>\n    </tr>\n    <tr>\n      <th>No</th>\n      <td>13.242937</td>\n      <td>15.153333</td>\n    </tr>\n    <tr>\n      <th>Steady</th>\n      <td>NaN</td>\n      <td>16.294005</td>\n    </tr>\n    <tr>\n      <th>Up</th>\n      <td>NaN</td>\n      <td>19.634379</td>\n    </tr>\n  </tbody>\n</table>\n</div>"
     },
     "execution_count": 34,
     "metadata": {},
     "output_type": "execute_result"
    }
   ],
   "source": [
    "grouped_pivot = grouped_test1.pivot(index='Insulin',columns='DiabetesMedication')\n",
    "grouped_pivot"
   ]
  },
  {
   "cell_type": "markdown",
   "source": [
    "Often, we won't have data for some of the pivot cells. We can fill these missing cells with the value 0, but any other value could potentially be used as well. It should be mentioned that missing data is quite a complex subject and is an entire course on its own."
   ],
   "metadata": {
    "collapsed": false
   }
  },
  {
   "cell_type": "code",
   "execution_count": 35,
   "outputs": [
    {
     "data": {
      "text/plain": "                   NumMedications           \nDiabetesMedication          False      True \nInsulin                                     \nDown                     0.000000  19.018991\nNo                      13.242937  15.153333\nSteady                   0.000000  16.294005\nUp                       0.000000  19.634379",
      "text/html": "<div>\n<style scoped>\n    .dataframe tbody tr th:only-of-type {\n        vertical-align: middle;\n    }\n\n    .dataframe tbody tr th {\n        vertical-align: top;\n    }\n\n    .dataframe thead tr th {\n        text-align: left;\n    }\n\n    .dataframe thead tr:last-of-type th {\n        text-align: right;\n    }\n</style>\n<table border=\"1\" class=\"dataframe\">\n  <thead>\n    <tr>\n      <th></th>\n      <th colspan=\"2\" halign=\"left\">NumMedications</th>\n    </tr>\n    <tr>\n      <th>DiabetesMedication</th>\n      <th>False</th>\n      <th>True</th>\n    </tr>\n    <tr>\n      <th>Insulin</th>\n      <th></th>\n      <th></th>\n    </tr>\n  </thead>\n  <tbody>\n    <tr>\n      <th>Down</th>\n      <td>0.000000</td>\n      <td>19.018991</td>\n    </tr>\n    <tr>\n      <th>No</th>\n      <td>13.242937</td>\n      <td>15.153333</td>\n    </tr>\n    <tr>\n      <th>Steady</th>\n      <td>0.000000</td>\n      <td>16.294005</td>\n    </tr>\n    <tr>\n      <th>Up</th>\n      <td>0.000000</td>\n      <td>19.634379</td>\n    </tr>\n  </tbody>\n</table>\n</div>"
     },
     "execution_count": 35,
     "metadata": {},
     "output_type": "execute_result"
    }
   ],
   "source": [
    "grouped_pivot = grouped_pivot.fillna(0) #fill missing values with 0\n",
    "grouped_pivot"
   ],
   "metadata": {
    "collapsed": false,
    "pycharm": {
     "name": "#%%\n"
    }
   }
  },
  {
   "cell_type": "markdown",
   "metadata": {},
   "source": [
    "<div class=\"alert alert-danger alertdanger\" style=\"margin-top: 20px\">\n",
    "<h1>Question 4:</h1>\n",
    "\n",
    "<p>Use the \"groupby\" function to find the average \"NumMedications\" of each car based on \"Insulin\".</p>\n",
    "</div>\n"
   ]
  },
  {
   "cell_type": "code",
   "execution_count": 36,
   "metadata": {
    "pycharm": {
     "name": "#%%\n"
    }
   },
   "outputs": [
    {
     "data": {
      "text/plain": "  Insulin  NumMedications\n0    Down       19.018991\n1      No       14.209770\n2  Steady       16.294005\n3      Up       19.634379",
      "text/html": "<div>\n<style scoped>\n    .dataframe tbody tr th:only-of-type {\n        vertical-align: middle;\n    }\n\n    .dataframe tbody tr th {\n        vertical-align: top;\n    }\n\n    .dataframe thead th {\n        text-align: right;\n    }\n</style>\n<table border=\"1\" class=\"dataframe\">\n  <thead>\n    <tr style=\"text-align: right;\">\n      <th></th>\n      <th>Insulin</th>\n      <th>NumMedications</th>\n    </tr>\n  </thead>\n  <tbody>\n    <tr>\n      <th>0</th>\n      <td>Down</td>\n      <td>19.018991</td>\n    </tr>\n    <tr>\n      <th>1</th>\n      <td>No</td>\n      <td>14.209770</td>\n    </tr>\n    <tr>\n      <th>2</th>\n      <td>Steady</td>\n      <td>16.294005</td>\n    </tr>\n    <tr>\n      <th>3</th>\n      <td>Up</td>\n      <td>19.634379</td>\n    </tr>\n  </tbody>\n</table>\n</div>"
     },
     "execution_count": 36,
     "metadata": {},
     "output_type": "execute_result"
    }
   ],
   "source": [
    "# Write your code below and press Shift+Enter to execute"
   ]
  },
  {
   "cell_type": "markdown",
   "metadata": {},
   "source": [
    "<details><summary>Click here for the solution</summary>\n",
    "\n",
    "```python\n",
    "# grouping results\n",
    "\n",
    "df_gptest2 = df[['Insulin','NumMedications']]\n",
    "grouped_test_bodystyle = df_gptest2.groupby(['Insulin'],as_index= False).mean()\n",
    "grouped_test_bodystyle\n",
    "\n",
    "\n",
    "```\n",
    "\n",
    "</details>\n"
   ]
  },
  {
   "cell_type": "markdown",
   "metadata": {},
   "source": [
    "If you did not import \"pyplot\", let's do it again.\n"
   ]
  },
  {
   "cell_type": "code",
   "execution_count": 37,
   "metadata": {
    "pycharm": {
     "name": "#%%\n"
    }
   },
   "outputs": [],
   "source": [
    "import matplotlib.pyplot as plt\n",
    "%matplotlib inline"
   ]
  },
  {
   "cell_type": "markdown",
   "metadata": {},
   "source": [
    "<h4>Variables: NumMedications and Insulin vs. DiabetesMedication</h4>\n"
   ]
  },
  {
   "cell_type": "markdown",
   "metadata": {},
   "source": [
    "Let's use a heat map to visualize the relationship between Insulin vs DiabetesMedication.\n"
   ]
  },
  {
   "cell_type": "code",
   "execution_count": 38,
   "metadata": {
    "pycharm": {
     "name": "#%%\n"
    }
   },
   "outputs": [
    {
     "data": {
      "text/plain": "<Figure size 640x480 with 2 Axes>",
      "image/png": "[encoded data removed]"
     },
     "metadata": {},
     "output_type": "display_data"
    }
   ],
   "source": [
    "#use the grouped results\n",
    "plt.pcolor(grouped_pivot, cmap='RdBu')\n",
    "plt.colorbar()\n",
    "plt.show()"
   ]
  },
  {
   "cell_type": "markdown",
   "metadata": {},
   "source": [
    "<p>The heatmap plots the target variable (price) proportional to colour with respect to the variables 'drive-wheel' and 'body-style' on the vertical and horizontal axis, respectively. This allows us to visualize how the price is related to 'drive-wheel' and 'body-style'.</p>\n",
    "\n",
    "<p>The default labels convey no useful information to us. Let's change that:</p>\n"
   ]
  },
  {
   "cell_type": "code",
   "execution_count": 39,
   "metadata": {
    "pycharm": {
     "name": "#%%\n"
    }
   },
   "outputs": [
    {
     "data": {
      "text/plain": "<Figure size 640x480 with 2 Axes>",
      "image/png": "[encoded data removed]"
     },
     "metadata": {},
     "output_type": "display_data"
    }
   ],
   "source": [
    "fig, ax = plt.subplots()\n",
    "im = ax.pcolor(grouped_pivot, cmap='RdBu')\n",
    "\n",
    "#label names\n",
    "row_labels = grouped_pivot.columns.levels[1]\n",
    "col_labels = grouped_pivot.index\n",
    "\n",
    "#move ticks and labels to the center\n",
    "ax.set_xticks(np.arange(grouped_pivot.shape[1]) + 0.5, minor=False)\n",
    "ax.set_yticks(np.arange(grouped_pivot.shape[0]) + 0.5, minor=False)\n",
    "\n",
    "#insert labels\n",
    "ax.set_xticklabels(row_labels, minor=False)\n",
    "ax.set_yticklabels(col_labels, minor=False)\n",
    "\n",
    "#rotate label if too long\n",
    "plt.xticks(rotation=90)\n",
    "\n",
    "fig.colorbar(im)\n",
    "plt.show()"
   ]
  },
  {
   "cell_type": "markdown",
   "metadata": {},
   "source": [
    "<p>Visualization is very important in data science, and Python visualization packages provide great freedom. We will go more in-depth in a separate Python visualizations course.</p>\n",
    "\n",
    "<p>The main question we want to answer in this module is, \"How can we use columns to predict other columns?\".</p>\n",
    "\n",
    "<p>To get a better measure of the important characteristics, we look at the correlation of these variables. In other words: how is the column dependent on this variable?</p>\n"
   ]
  },
  {
   "cell_type": "markdown",
   "metadata": {},
   "source": [
    "<h2 id=\"correlation_causation\">5. Correlation and Causation</h2>\n"
   ]
  },
  {
   "cell_type": "markdown",
   "metadata": {},
   "source": [
    "<p><b>Correlation</b>: a measure of the extent of interdependence between variables.</p>\n",
    "\n",
    "<p><b>Causation</b>: the relationship between cause and effect between two variables.</p>\n",
    "\n",
    "<p>It is important to know the difference between these two. Correlation does not imply causation. Determining correlation is much simpler  the determining causation as causation may require independent experimentation.</p>\n"
   ]
  },
  {
   "cell_type": "markdown",
   "metadata": {},
   "source": [
    "<p><b>Pearson Correlation</b></p>\n",
    "<p>The Pearson Correlation measures the linear dependence between two variables X and Y.</p>\n",
    "<p>The resulting coefficient is a value between -1 and 1 inclusive, where:</p>\n",
    "<ul>\n",
    "    <li><b>1</b>: Perfect positive linear correlation.</li>\n",
    "    <li><b>0</b>: No linear correlation, the two variables most likely do not affect each other.</li>\n",
    "    <li><b>-1</b>: Perfect negative linear correlation.</li>\n",
    "</ul>\n"
   ]
  },
  {
   "cell_type": "markdown",
   "metadata": {},
   "source": [
    "<p>Pearson Correlation is the default method of the function \"corr\". Like before, we can calculate the Pearson Correlation of the of the 'int64' or 'float64' variables.</p>\n"
   ]
  },
  {
   "cell_type": "code",
   "execution_count": 40,
   "metadata": {
    "pycharm": {
     "name": "#%%\n"
    }
   },
   "outputs": [
    {
     "name": "stderr",
     "output_type": "stream",
     "text": [
      "C:\\Users\\s\\AppData\\Local\\Temp\\ipykernel_24256\\947522479.py:1: FutureWarning: The default value of numeric_only in DataFrame.corr is deprecated. In a future version, it will default to False. Select only valid columns or specify the value of numeric_only to silence this warning.\n",
      "  df.corr()\n"
     ]
    },
    {
     "data": {
      "text/plain": "                        Unnamed: 0  EncounterId  PatientNbr  AdmissionTypeId  \\\nUnnamed: 0                1.000000     0.967811    0.527170        -0.164707   \nEncounterId               0.967811     1.000000    0.512027        -0.158898   \nPatientNbr                0.527170     0.512027    1.000000        -0.011062   \nAdmissionTypeId          -0.164707    -0.158898   -0.011062         1.000000   \nDischargeDispositionId   -0.147778    -0.132869   -0.136744         0.083411   \nAdmissionSourceId        -0.136904    -0.112487   -0.032641         0.106753   \nTimeInHospital           -0.066272    -0.062267   -0.024129        -0.012486   \nNumLabProcedures         -0.023444    -0.026036    0.015841        -0.143732   \nNumProcedures            -0.019350    -0.014214   -0.015605         0.129870   \nNumMedications            0.082677     0.076151    0.020628         0.079529   \nNumberOutpatient          0.117342     0.103720    0.103352         0.026529   \nNumberEmergency           0.091349     0.082756    0.062321        -0.019082   \nNumberInpatient           0.036221     0.030985    0.012498        -0.038118   \nNumberDiagnoses           0.278626     0.265148    0.226842        -0.117079   \nDiabetesMedication        0.058262     0.051783    0.017163        -0.000246   \nchange_yes                0.111152     0.096416    0.054861         0.007262   \nchange_no                -0.111152    -0.096416   -0.054861        -0.007262   \nIncreased                -0.008682    -0.008362   -0.002075         0.007656   \nNo                        0.038581     0.049700    0.006695        -0.022306   \nSteady                   -0.035814    -0.046969   -0.005814         0.021074   \nDecreased                -0.014047    -0.015333   -0.004318         0.004186   \n\n                        DischargeDispositionId  AdmissionSourceId  \\\nUnnamed: 0                           -0.147778          -0.136904   \nEncounterId                          -0.132869          -0.112487   \nPatientNbr                           -0.136744          -0.032641   \nAdmissionTypeId                       0.083411           0.106753   \nDischargeDispositionId                1.000000           0.018227   \nAdmissionSourceId                     0.018227           1.000000   \nTimeInHospital                        0.162754          -0.006997   \nNumLabProcedures                      0.023418           0.048837   \nNumProcedures                         0.015952          -0.135441   \nNumMedications                        0.108808          -0.054515   \nNumberOutpatient                     -0.008698           0.027220   \nNumberEmergency                      -0.024457           0.059859   \nNumberInpatient                       0.020768           0.036319   \nNumberDiagnoses                       0.047010           0.072029   \nDiabetesMedication                   -0.028798           0.001541   \nchange_yes                           -0.012278           0.002469   \nchange_no                             0.012278          -0.002469   \nIncreased                             0.003170          -0.002040   \nNo                                    0.004855           0.009345   \nSteady                               -0.005693          -0.009553   \nDecreased                             0.001990           0.001543   \n\n                        TimeInHospital  NumLabProcedures  NumProcedures  \\\nUnnamed: 0                   -0.066272         -0.023444      -0.019350   \nEncounterId                  -0.062267         -0.026036      -0.014214   \nPatientNbr                   -0.024129          0.015841      -0.015605   \nAdmissionTypeId              -0.012486         -0.143732       0.129870   \nDischargeDispositionId        0.162754          0.023418       0.015952   \nAdmissionSourceId            -0.006997          0.048837      -0.135441   \nTimeInHospital                1.000000          0.318464       0.191475   \nNumLabProcedures              0.318464          1.000000       0.058066   \nNumProcedures                 0.191475          0.058066       1.000000   \nNumMedications                0.466136          0.268149       0.385767   \nNumberOutpatient             -0.008918         -0.007604      -0.024836   \nNumberEmergency              -0.009675         -0.002252      -0.038178   \nNumberInpatient               0.073610          0.039226      -0.066208   \nNumberDiagnoses               0.220191          0.152779       0.073738   \nDiabetesMedication            0.062515          0.033054      -0.006803   \nchange_yes                    0.109131          0.063911       0.004457   \nchange_no                    -0.109131         -0.063911      -0.004457   \nIncreased                     0.013577          0.005633       0.007772   \nNo                           -0.005740          0.010350      -0.014270   \nSteady                       -0.000818         -0.013710       0.013272   \nDecreased                     0.028401          0.013959       0.001861   \n\n                        NumMedications  ...  NumberEmergency  NumberInpatient  \\\nUnnamed: 0                    0.082677  ...         0.091349         0.036221   \nEncounterId                   0.076151  ...         0.082756         0.030985   \nPatientNbr                    0.020628  ...         0.062321         0.012498   \nAdmissionTypeId               0.079529  ...        -0.019082        -0.038118   \nDischargeDispositionId        0.108808  ...        -0.024457         0.020768   \nAdmissionSourceId            -0.054515  ...         0.059859         0.036319   \nTimeInHospital                0.466136  ...        -0.009675         0.073610   \nNumLabProcedures              0.268149  ...        -0.002252         0.039226   \nNumProcedures                 0.385767  ...        -0.038178        -0.066208   \nNumMedications                1.000000  ...         0.013195         0.064173   \nNumberOutpatient              0.045193  ...         0.091429         0.107360   \nNumberEmergency               0.013195  ...         1.000000         0.266600   \nNumberInpatient               0.064173  ...         0.266600         1.000000   \nNumberDiagnoses               0.261537  ...         0.055524         0.104702   \nDiabetesMedication            0.186865  ...         0.025918         0.026004   \nchange_yes                    0.246786  ...         0.038865         0.024010   \nchange_no                    -0.246786  ...        -0.038865        -0.024010   \nIncreased                     0.011131  ...        -0.005135        -0.004337   \nNo                           -0.053043  ...         0.008838         0.021380   \nSteady                        0.049594  ...        -0.008017        -0.020910   \nDecreased                     0.017854  ...        -0.002076        -0.002071   \n\n                        NumberDiagnoses  DiabetesMedication  change_yes  \\\nUnnamed: 0                     0.278626            0.058262    0.111152   \nEncounterId                    0.265148            0.051783    0.096416   \nPatientNbr                     0.226842            0.017163    0.054861   \nAdmissionTypeId               -0.117079           -0.000246    0.007262   \nDischargeDispositionId         0.047010           -0.028798   -0.012278   \nAdmissionSourceId              0.072029            0.001541    0.002469   \nTimeInHospital                 0.220191            0.062515    0.109131   \nNumLabProcedures               0.152779            0.033054    0.063911   \nNumProcedures                  0.073738           -0.006803    0.004457   \nNumMedications                 0.261537            0.186865    0.246786   \nNumberOutpatient               0.094132            0.016438    0.024809   \nNumberEmergency                0.055524            0.025918    0.038865   \nNumberInpatient                0.104702            0.026004    0.024010   \nNumberDiagnoses                1.000000            0.021114    0.053063   \nDiabetesMedication             0.021114            1.000000    0.506371   \nchange_yes                     0.053063            0.506371    1.000000   \nchange_no                     -0.053063           -0.506371   -1.000000   \nIncreased                     -0.000309            0.015987    0.031571   \nNo                             0.008256           -0.141133   -0.195661   \nSteady                        -0.007907            0.137971    0.187748   \nDecreased                     -0.002705            0.022877    0.045178   \n\n                        change_no  Increased        No    Steady  Decreased  \nUnnamed: 0              -0.111152  -0.008682  0.038581 -0.035814  -0.014047  \nEncounterId             -0.096416  -0.008362  0.049700 -0.046969  -0.015333  \nPatientNbr              -0.054861  -0.002075  0.006695 -0.005814  -0.004318  \nAdmissionTypeId         -0.007262   0.007656 -0.022306  0.021074   0.004186  \nDischargeDispositionId   0.012278   0.003170  0.004855 -0.005693   0.001990  \nAdmissionSourceId       -0.002469  -0.002040  0.009345 -0.009553   0.001543  \nTimeInHospital          -0.109131   0.013577 -0.005740 -0.000818   0.028401  \nNumLabProcedures        -0.063911   0.005633  0.010350 -0.013710   0.013959  \nNumProcedures           -0.004457   0.007772 -0.014270  0.013272   0.001861  \nNumMedications          -0.246786   0.011131 -0.053043  0.049594   0.017854  \nNumberOutpatient        -0.024809   0.002086  0.002535 -0.002099  -0.004222  \nNumberEmergency         -0.038865  -0.005135  0.008838 -0.008017  -0.002076  \nNumberInpatient         -0.024010  -0.004337  0.021380 -0.020910  -0.002071  \nNumberDiagnoses         -0.053063  -0.000309  0.008256 -0.007907  -0.002705  \nDiabetesMedication      -0.506371   0.015987 -0.141133  0.137971   0.022877  \nchange_yes              -1.000000   0.031571 -0.195661  0.187748   0.045178  \nchange_no                1.000000  -0.031571  0.195661 -0.187748  -0.045178  \nIncreased               -0.031571   1.000000 -0.113273 -0.007386  -0.001225  \nNo                       0.195661  -0.113273  1.000000 -0.977595  -0.162096  \nSteady                  -0.187748  -0.007386 -0.977595  1.000000  -0.010569  \nDecreased               -0.045178  -0.001225 -0.162096 -0.010569   1.000000  \n\n[21 rows x 21 columns]",
      "text/html": "<div>\n<style scoped>\n    .dataframe tbody tr th:only-of-type {\n        vertical-align: middle;\n    }\n\n    .dataframe tbody tr th {\n        vertical-align: top;\n    }\n\n    .dataframe thead th {\n        text-align: right;\n    }\n</style>\n<table border=\"1\" class=\"dataframe\">\n  <thead>\n    <tr style=\"text-align: right;\">\n      <th></th>\n      <th>Unnamed: 0</th>\n      <th>EncounterId</th>\n      <th>PatientNbr</th>\n      <th>AdmissionTypeId</th>\n      <th>DischargeDispositionId</th>\n      <th>AdmissionSourceId</th>\n      <th>TimeInHospital</th>\n      <th>NumLabProcedures</th>\n      <th>NumProcedures</th>\n      <th>NumMedications</th>\n      <th>...</th>\n      <th>NumberEmergency</th>\n      <th>NumberInpatient</th>\n      <th>NumberDiagnoses</th>\n      <th>DiabetesMedication</th>\n      <th>change_yes</th>\n      <th>change_no</th>\n      <th>Increased</th>\n      <th>No</th>\n      <th>Steady</th>\n      <th>Decreased</th>\n    </tr>\n  </thead>\n  <tbody>\n    <tr>\n      <th>Unnamed: 0</th>\n      <td>1.000000</td>\n      <td>0.967811</td>\n      <td>0.527170</td>\n      <td>-0.164707</td>\n      <td>-0.147778</td>\n      <td>-0.136904</td>\n      <td>-0.066272</td>\n      <td>-0.023444</td>\n      <td>-0.019350</td>\n      <td>0.082677</td>\n      <td>...</td>\n      <td>0.091349</td>\n      <td>0.036221</td>\n      <td>0.278626</td>\n      <td>0.058262</td>\n      <td>0.111152</td>\n      <td>-0.111152</td>\n      <td>-0.008682</td>\n      <td>0.038581</td>\n      <td>-0.035814</td>\n      <td>-0.014047</td>\n    </tr>\n    <tr>\n      <th>EncounterId</th>\n      <td>0.967811</td>\n      <td>1.000000</td>\n      <td>0.512027</td>\n      <td>-0.158898</td>\n      <td>-0.132869</td>\n      <td>-0.112487</td>\n      <td>-0.062267</td>\n      <td>-0.026036</td>\n      <td>-0.014214</td>\n      <td>0.076151</td>\n      <td>...</td>\n      <td>0.082756</td>\n      <td>0.030985</td>\n      <td>0.265148</td>\n      <td>0.051783</td>\n      <td>0.096416</td>\n      <td>-0.096416</td>\n      <td>-0.008362</td>\n      <td>0.049700</td>\n      <td>-0.046969</td>\n      <td>-0.015333</td>\n    </tr>\n    <tr>\n      <th>PatientNbr</th>\n      <td>0.527170</td>\n      <td>0.512027</td>\n      <td>1.000000</td>\n      <td>-0.011062</td>\n      <td>-0.136744</td>\n      <td>-0.032641</td>\n      <td>-0.024129</td>\n      <td>0.015841</td>\n      <td>-0.015605</td>\n      <td>0.020628</td>\n      <td>...</td>\n      <td>0.062321</td>\n      <td>0.012498</td>\n      <td>0.226842</td>\n      <td>0.017163</td>\n      <td>0.054861</td>\n      <td>-0.054861</td>\n      <td>-0.002075</td>\n      <td>0.006695</td>\n      <td>-0.005814</td>\n      <td>-0.004318</td>\n    </tr>\n    <tr>\n      <th>AdmissionTypeId</th>\n      <td>-0.164707</td>\n      <td>-0.158898</td>\n      <td>-0.011062</td>\n      <td>1.000000</td>\n      <td>0.083411</td>\n      <td>0.106753</td>\n      <td>-0.012486</td>\n      <td>-0.143732</td>\n      <td>0.129870</td>\n      <td>0.079529</td>\n      <td>...</td>\n      <td>-0.019082</td>\n      <td>-0.038118</td>\n      <td>-0.117079</td>\n      <td>-0.000246</td>\n      <td>0.007262</td>\n      <td>-0.007262</td>\n      <td>0.007656</td>\n      <td>-0.022306</td>\n      <td>0.021074</td>\n      <td>0.004186</td>\n    </tr>\n    <tr>\n      <th>DischargeDispositionId</th>\n      <td>-0.147778</td>\n      <td>-0.132869</td>\n      <td>-0.136744</td>\n      <td>0.083411</td>\n      <td>1.000000</td>\n      <td>0.018227</td>\n      <td>0.162754</td>\n      <td>0.023418</td>\n      <td>0.015952</td>\n      <td>0.108808</td>\n      <td>...</td>\n      <td>-0.024457</td>\n      <td>0.020768</td>\n      <td>0.047010</td>\n      <td>-0.028798</td>\n      <td>-0.012278</td>\n      <td>0.012278</td>\n      <td>0.003170</td>\n      <td>0.004855</td>\n      <td>-0.005693</td>\n      <td>0.001990</td>\n    </tr>\n    <tr>\n      <th>AdmissionSourceId</th>\n      <td>-0.136904</td>\n      <td>-0.112487</td>\n      <td>-0.032641</td>\n      <td>0.106753</td>\n      <td>0.018227</td>\n      <td>1.000000</td>\n      <td>-0.006997</td>\n      <td>0.048837</td>\n      <td>-0.135441</td>\n      <td>-0.054515</td>\n      <td>...</td>\n      <td>0.059859</td>\n      <td>0.036319</td>\n      <td>0.072029</td>\n      <td>0.001541</td>\n      <td>0.002469</td>\n      <td>-0.002469</td>\n      <td>-0.002040</td>\n      <td>0.009345</td>\n      <td>-0.009553</td>\n      <td>0.001543</td>\n    </tr>\n    <tr>\n      <th>TimeInHospital</th>\n      <td>-0.066272</td>\n      <td>-0.062267</td>\n      <td>-0.024129</td>\n      <td>-0.012486</td>\n      <td>0.162754</td>\n      <td>-0.006997</td>\n      <td>1.000000</td>\n      <td>0.318464</td>\n      <td>0.191475</td>\n      <td>0.466136</td>\n      <td>...</td>\n      <td>-0.009675</td>\n      <td>0.073610</td>\n      <td>0.220191</td>\n      <td>0.062515</td>\n      <td>0.109131</td>\n      <td>-0.109131</td>\n      <td>0.013577</td>\n      <td>-0.005740</td>\n      <td>-0.000818</td>\n      <td>0.028401</td>\n    </tr>\n    <tr>\n      <th>NumLabProcedures</th>\n      <td>-0.023444</td>\n      <td>-0.026036</td>\n      <td>0.015841</td>\n      <td>-0.143732</td>\n      <td>0.023418</td>\n      <td>0.048837</td>\n      <td>0.318464</td>\n      <td>1.000000</td>\n      <td>0.058066</td>\n      <td>0.268149</td>\n      <td>...</td>\n      <td>-0.002252</td>\n      <td>0.039226</td>\n      <td>0.152779</td>\n      <td>0.033054</td>\n      <td>0.063911</td>\n      <td>-0.063911</td>\n      <td>0.005633</td>\n      <td>0.010350</td>\n      <td>-0.013710</td>\n      <td>0.013959</td>\n    </tr>\n    <tr>\n      <th>NumProcedures</th>\n      <td>-0.019350</td>\n      <td>-0.014214</td>\n      <td>-0.015605</td>\n      <td>0.129870</td>\n      <td>0.015952</td>\n      <td>-0.135441</td>\n      <td>0.191475</td>\n      <td>0.058066</td>\n      <td>1.000000</td>\n      <td>0.385767</td>\n      <td>...</td>\n      <td>-0.038178</td>\n      <td>-0.066208</td>\n      <td>0.073738</td>\n      <td>-0.006803</td>\n      <td>0.004457</td>\n      <td>-0.004457</td>\n      <td>0.007772</td>\n      <td>-0.014270</td>\n      <td>0.013272</td>\n      <td>0.001861</td>\n    </tr>\n    <tr>\n      <th>NumMedications</th>\n      <td>0.082677</td>\n      <td>0.076151</td>\n      <td>0.020628</td>\n      <td>0.079529</td>\n      <td>0.108808</td>\n      <td>-0.054515</td>\n      <td>0.466136</td>\n      <td>0.268149</td>\n      <td>0.385767</td>\n      <td>1.000000</td>\n      <td>...</td>\n      <td>0.013195</td>\n      <td>0.064173</td>\n      <td>0.261537</td>\n      <td>0.186865</td>\n      <td>0.246786</td>\n      <td>-0.246786</td>\n      <td>0.011131</td>\n      <td>-0.053043</td>\n      <td>0.049594</td>\n      <td>0.017854</td>\n    </tr>\n    <tr>\n      <th>NumberOutpatient</th>\n      <td>0.117342</td>\n      <td>0.103720</td>\n      <td>0.103352</td>\n      <td>0.026529</td>\n      <td>-0.008698</td>\n      <td>0.027220</td>\n      <td>-0.008918</td>\n      <td>-0.007604</td>\n      <td>-0.024836</td>\n      <td>0.045193</td>\n      <td>...</td>\n      <td>0.091429</td>\n      <td>0.107360</td>\n      <td>0.094132</td>\n      <td>0.016438</td>\n      <td>0.024809</td>\n      <td>-0.024809</td>\n      <td>0.002086</td>\n      <td>0.002535</td>\n      <td>-0.002099</td>\n      <td>-0.004222</td>\n    </tr>\n    <tr>\n      <th>NumberEmergency</th>\n      <td>0.091349</td>\n      <td>0.082756</td>\n      <td>0.062321</td>\n      <td>-0.019082</td>\n      <td>-0.024457</td>\n      <td>0.059859</td>\n      <td>-0.009675</td>\n      <td>-0.002252</td>\n      <td>-0.038178</td>\n      <td>0.013195</td>\n      <td>...</td>\n      <td>1.000000</td>\n      <td>0.266600</td>\n      <td>0.055524</td>\n      <td>0.025918</td>\n      <td>0.038865</td>\n      <td>-0.038865</td>\n      <td>-0.005135</td>\n      <td>0.008838</td>\n      <td>-0.008017</td>\n      <td>-0.002076</td>\n    </tr>\n    <tr>\n      <th>NumberInpatient</th>\n      <td>0.036221</td>\n      <td>0.030985</td>\n      <td>0.012498</td>\n      <td>-0.038118</td>\n      <td>0.020768</td>\n      <td>0.036319</td>\n      <td>0.073610</td>\n      <td>0.039226</td>\n      <td>-0.066208</td>\n      <td>0.064173</td>\n      <td>...</td>\n      <td>0.266600</td>\n      <td>1.000000</td>\n      <td>0.104702</td>\n      <td>0.026004</td>\n      <td>0.024010</td>\n      <td>-0.024010</td>\n      <td>-0.004337</td>\n      <td>0.021380</td>\n      <td>-0.020910</td>\n      <td>-0.002071</td>\n    </tr>\n    <tr>\n      <th>NumberDiagnoses</th>\n      <td>0.278626</td>\n      <td>0.265148</td>\n      <td>0.226842</td>\n      <td>-0.117079</td>\n      <td>0.047010</td>\n      <td>0.072029</td>\n      <td>0.220191</td>\n      <td>0.152779</td>\n      <td>0.073738</td>\n      <td>0.261537</td>\n      <td>...</td>\n      <td>0.055524</td>\n      <td>0.104702</td>\n      <td>1.000000</td>\n      <td>0.021114</td>\n      <td>0.053063</td>\n      <td>-0.053063</td>\n      <td>-0.000309</td>\n      <td>0.008256</td>\n      <td>-0.007907</td>\n      <td>-0.002705</td>\n    </tr>\n    <tr>\n      <th>DiabetesMedication</th>\n      <td>0.058262</td>\n      <td>0.051783</td>\n      <td>0.017163</td>\n      <td>-0.000246</td>\n      <td>-0.028798</td>\n      <td>0.001541</td>\n      <td>0.062515</td>\n      <td>0.033054</td>\n      <td>-0.006803</td>\n      <td>0.186865</td>\n      <td>...</td>\n      <td>0.025918</td>\n      <td>0.026004</td>\n      <td>0.021114</td>\n      <td>1.000000</td>\n      <td>0.506371</td>\n      <td>-0.506371</td>\n      <td>0.015987</td>\n      <td>-0.141133</td>\n      <td>0.137971</td>\n      <td>0.022877</td>\n    </tr>\n    <tr>\n      <th>change_yes</th>\n      <td>0.111152</td>\n      <td>0.096416</td>\n      <td>0.054861</td>\n      <td>0.007262</td>\n      <td>-0.012278</td>\n      <td>0.002469</td>\n      <td>0.109131</td>\n      <td>0.063911</td>\n      <td>0.004457</td>\n      <td>0.246786</td>\n      <td>...</td>\n      <td>0.038865</td>\n      <td>0.024010</td>\n      <td>0.053063</td>\n      <td>0.506371</td>\n      <td>1.000000</td>\n      <td>-1.000000</td>\n      <td>0.031571</td>\n      <td>-0.195661</td>\n      <td>0.187748</td>\n      <td>0.045178</td>\n    </tr>\n    <tr>\n      <th>change_no</th>\n      <td>-0.111152</td>\n      <td>-0.096416</td>\n      <td>-0.054861</td>\n      <td>-0.007262</td>\n      <td>0.012278</td>\n      <td>-0.002469</td>\n      <td>-0.109131</td>\n      <td>-0.063911</td>\n      <td>-0.004457</td>\n      <td>-0.246786</td>\n      <td>...</td>\n      <td>-0.038865</td>\n      <td>-0.024010</td>\n      <td>-0.053063</td>\n      <td>-0.506371</td>\n      <td>-1.000000</td>\n      <td>1.000000</td>\n      <td>-0.031571</td>\n      <td>0.195661</td>\n      <td>-0.187748</td>\n      <td>-0.045178</td>\n    </tr>\n    <tr>\n      <th>Increased</th>\n      <td>-0.008682</td>\n      <td>-0.008362</td>\n      <td>-0.002075</td>\n      <td>0.007656</td>\n      <td>0.003170</td>\n      <td>-0.002040</td>\n      <td>0.013577</td>\n      <td>0.005633</td>\n      <td>0.007772</td>\n      <td>0.011131</td>\n      <td>...</td>\n      <td>-0.005135</td>\n      <td>-0.004337</td>\n      <td>-0.000309</td>\n      <td>0.015987</td>\n      <td>0.031571</td>\n      <td>-0.031571</td>\n      <td>1.000000</td>\n      <td>-0.113273</td>\n      <td>-0.007386</td>\n      <td>-0.001225</td>\n    </tr>\n    <tr>\n      <th>No</th>\n      <td>0.038581</td>\n      <td>0.049700</td>\n      <td>0.006695</td>\n      <td>-0.022306</td>\n      <td>0.004855</td>\n      <td>0.009345</td>\n      <td>-0.005740</td>\n      <td>0.010350</td>\n      <td>-0.014270</td>\n      <td>-0.053043</td>\n      <td>...</td>\n      <td>0.008838</td>\n      <td>0.021380</td>\n      <td>0.008256</td>\n      <td>-0.141133</td>\n      <td>-0.195661</td>\n      <td>0.195661</td>\n      <td>-0.113273</td>\n      <td>1.000000</td>\n      <td>-0.977595</td>\n      <td>-0.162096</td>\n    </tr>\n    <tr>\n      <th>Steady</th>\n      <td>-0.035814</td>\n      <td>-0.046969</td>\n      <td>-0.005814</td>\n      <td>0.021074</td>\n      <td>-0.005693</td>\n      <td>-0.009553</td>\n      <td>-0.000818</td>\n      <td>-0.013710</td>\n      <td>0.013272</td>\n      <td>0.049594</td>\n      <td>...</td>\n      <td>-0.008017</td>\n      <td>-0.020910</td>\n      <td>-0.007907</td>\n      <td>0.137971</td>\n      <td>0.187748</td>\n      <td>-0.187748</td>\n      <td>-0.007386</td>\n      <td>-0.977595</td>\n      <td>1.000000</td>\n      <td>-0.010569</td>\n    </tr>\n    <tr>\n      <th>Decreased</th>\n      <td>-0.014047</td>\n      <td>-0.015333</td>\n      <td>-0.004318</td>\n      <td>0.004186</td>\n      <td>0.001990</td>\n      <td>0.001543</td>\n      <td>0.028401</td>\n      <td>0.013959</td>\n      <td>0.001861</td>\n      <td>0.017854</td>\n      <td>...</td>\n      <td>-0.002076</td>\n      <td>-0.002071</td>\n      <td>-0.002705</td>\n      <td>0.022877</td>\n      <td>0.045178</td>\n      <td>-0.045178</td>\n      <td>-0.001225</td>\n      <td>-0.162096</td>\n      <td>-0.010569</td>\n      <td>1.000000</td>\n    </tr>\n  </tbody>\n</table>\n<p>21 rows × 21 columns</p>\n</div>"
     },
     "execution_count": 40,
     "metadata": {},
     "output_type": "execute_result"
    }
   ],
   "source": [
    "df.corr()"
   ]
  },
  {
   "cell_type": "markdown",
   "metadata": {},
   "source": [
    "Sometimes we would like to know the significant of the correlation estimate.\n"
   ]
  },
  {
   "cell_type": "markdown",
   "metadata": {},
   "source": [
    "<b>P-value</b>\n",
    "\n",
    "<p>What is this P-value? The P-value is the probability value that the correlation between these two variables is statistically significant. Normally, we choose a significance level of 0.05, which means that we are 95% confident that the correlation between the variables is significant.</p>\n",
    "\n",
    "By convention, when the\n",
    "\n",
    "<ul>\n",
    "    <li>p-value is $<$ 0.001: we say there is strong evidence that the correlation is significant.</li>\n",
    "    <li>the p-value is $<$ 0.05: there is moderate evidence that the correlation is significant.</li>\n",
    "    <li>the p-value is $<$ 0.1: there is weak evidence that the correlation is significant.</li>\n",
    "    <li>the p-value is $>$ 0.1: there is no evidence that the correlation is significant.</li>\n",
    "</ul>\n"
   ]
  },
  {
   "cell_type": "markdown",
   "metadata": {},
   "source": [
    "We can obtain this information using  \"stats\" module in the \"scipy\"  library.\n"
   ]
  },
  {
   "cell_type": "code",
   "execution_count": 41,
   "metadata": {
    "pycharm": {
     "name": "#%%\n"
    }
   },
   "outputs": [],
   "source": [
    "from scipy import stats"
   ]
  },
  {
   "cell_type": "markdown",
   "metadata": {},
   "source": [
    "<h3>NumberInpatient vs. NumberEmergency</h3>\n"
   ]
  },
  {
   "cell_type": "markdown",
   "metadata": {},
   "source": [
    "Let's calculate the  Pearson Correlation Coefficient and P-value of 'NumberInpatient' and 'NumberEmergency'.\n"
   ]
  },
  {
   "cell_type": "code",
   "execution_count": 42,
   "metadata": {
    "pycharm": {
     "name": "#%%\n"
    }
   },
   "outputs": [
    {
     "name": "stdout",
     "output_type": "stream",
     "text": [
      "The Pearson Correlation Coefficient is 0.27  with a P-value of P = 0.0\n"
     ]
    }
   ],
   "source": [
    "pearson_coef, p_value = stats.pearsonr(df['NumberInpatient'], df['NumberEmergency'])\n",
    "print(\"The Pearson Correlation Coefficient is\", round(pearson_coef,2), \" with a P-value of P =\", p_value)"
   ]
  },
  {
   "cell_type": "markdown",
   "metadata": {},
   "source": [
    "<h4>Conclusion:</h4>\n",
    "<p>Since the p-value is $<$ 0.001, the correlation between wheel-base and price is statistically significant, although the linear relationship isn't extremely strong (~0.27).</p>\n"
   ]
  },
  {
   "cell_type": "markdown",
   "metadata": {},
   "source": [
    "<h3>NumLabProcedures vs. NumMedications</h3>\n"
   ]
  },
  {
   "cell_type": "markdown",
   "metadata": {},
   "source": [
    "Let's calculate the  Pearson Correlation Coefficient and P-value of 'NumLabProcedures' and 'NumMedications'.\n"
   ]
  },
  {
   "cell_type": "code",
   "execution_count": 43,
   "metadata": {
    "pycharm": {
     "name": "#%%\n"
    }
   },
   "outputs": [
    {
     "name": "stdout",
     "output_type": "stream",
     "text": [
      "The Pearson Correlation Coefficient is 0.27  with a P-value of P =  0.0\n"
     ]
    }
   ],
   "source": [
    "pearson_coef, p_value = stats.pearsonr(df['NumLabProcedures'], df['NumMedications'])\n",
    "print(\"The Pearson Correlation Coefficient is\",  round(pearson_coef,2), \" with a P-value of P = \", p_value)"
   ]
  },
  {
   "cell_type": "markdown",
   "metadata": {},
   "source": [
    "<h4>Conclusion:</h4>\n",
    "\n",
    "<p>Since the p-value is $<$ 0.001, the correlation between NumLabProcedures and NumMedications is statistically significant, although the linear relationship isn't extremely strong (~0.27).</p>\n"
   ]
  },
  {
   "cell_type": "markdown",
   "metadata": {},
   "source": [
    "<h3>NumberOutpatient vs. NumberEmergency</h3>\n",
    "\n",
    "Let's calculate the  Pearson Correlation Coefficient and P-value of 'NumberOutpatient' and 'NumberEmergency'.\n"
   ]
  },
  {
   "cell_type": "code",
   "execution_count": 44,
   "metadata": {
    "pycharm": {
     "name": "#%%\n"
    }
   },
   "outputs": [
    {
     "name": "stdout",
     "output_type": "stream",
     "text": [
      "The Pearson Correlation Coefficient is 0.09  with a P-value of P =  9.484096344226214e-188\n"
     ]
    }
   ],
   "source": [
    "pearson_coef, p_value = stats.pearsonr(df['NumberOutpatient'], df['NumberEmergency'])\n",
    "print(\"The Pearson Correlation Coefficient is\", round(pearson_coef,2), \" with a P-value of P = \", p_value)"
   ]
  },
  {
   "cell_type": "markdown",
   "metadata": {},
   "source": [
    "<h4>Conclusion:</h4>\n",
    "<p>Since the p-value is $<$ 0.001, the correlation between length and price is statistically significant, and the linear relationship is not strong (~0.09).</p>\n"
   ]
  },
  {
   "cell_type": "markdown",
   "metadata": {},
   "source": [
    "<h3>Width vs. Price</h3>\n"
   ]
  },
  {
   "cell_type": "markdown",
   "metadata": {},
   "source": [
    "Let's calculate the Pearson Correlation Coefficient and P-value of 'width' and 'price':\n"
   ]
  },
  {
   "cell_type": "code",
   "execution_count": 45,
   "metadata": {
    "pycharm": {
     "name": "#%%\n"
    }
   },
   "outputs": [
    {
     "name": "stdout",
     "output_type": "stream",
     "text": [
      "The Pearson Correlation Coefficient is 0.27  with a P-value of P = 0.0\n"
     ]
    }
   ],
   "source": [
    "pearson_coef, p_value = stats.pearsonr(df['NumberInpatient'], df['NumberEmergency'])\n",
    "print(\"The Pearson Correlation Coefficient is\", round(pearson_coef,2), \" with a P-value of P =\", p_value )"
   ]
  },
  {
   "cell_type": "markdown",
   "metadata": {},
   "source": [
    "#### Conclusion:\n",
    "\n",
    "Since the p-value is < 0.001, the correlation between width and price is statistically significant, and the linear relationship isn't extremely strong (~0.27)."
   ]
  },
  {
   "cell_type": "markdown",
   "metadata": {},
   "source": [
    "<h2 id=\"anova\">6. ANOVA</h2>\n"
   ]
  },
  {
   "cell_type": "markdown",
   "metadata": {},
   "source": [
    "<h3>ANOVA: Analysis of Variance</h3>\n",
    "<p>The Analysis of Variance  (ANOVA) is a statistical method used to test whether there are significant differences between the means of two or more groups. ANOVA returns two parameters:</p>\n",
    "\n",
    "<p><b>F-test score</b>: ANOVA assumes the means of all groups are the same, calculates how much the actual means deviate from the assumption, and reports it as the F-test score. A larger score means there is a larger difference between the means.</p>\n",
    "\n",
    "<p><b>P-value</b>:  P-value tells how statistically significant our calculated score value is.</p>\n",
    "\n",
    "<p>If our price variable is strongly correlated with the variable we are analyzing, we expect ANOVA to return a sizeable F-test score and a small p-value.</p>\n"
   ]
  },
  {
   "cell_type": "markdown",
   "metadata": {},
   "source": [
    "<h3>NumMedications</h3>\n"
   ]
  },
  {
   "cell_type": "markdown",
   "metadata": {},
   "source": [
    "<p>Since ANOVA analyzes the difference between different groups of the same variable, the groupby function will come in handy. Because the ANOVA algorithm averages the data automatically, we do not need to take the average before hand.</p>\n",
    "\n",
    "<p>To see if different types of 'NumMedications' impact  'Insulin', we group the data.</p>\n"
   ]
  },
  {
   "cell_type": "code",
   "execution_count": 46,
   "metadata": {
    "pycharm": {
     "name": "#%%\n"
    }
   },
   "outputs": [
    {
     "data": {
      "text/plain": "   Insulin  NumMedications\n0       No               1\n1       Up              18\n2       No              13\n3       Up              16\n4   Steady               8\n5   Steady              16\n12    Down              15\n20    Down              19",
      "text/html": "<div>\n<style scoped>\n    .dataframe tbody tr th:only-of-type {\n        vertical-align: middle;\n    }\n\n    .dataframe tbody tr th {\n        vertical-align: top;\n    }\n\n    .dataframe thead th {\n        text-align: right;\n    }\n</style>\n<table border=\"1\" class=\"dataframe\">\n  <thead>\n    <tr style=\"text-align: right;\">\n      <th></th>\n      <th>Insulin</th>\n      <th>NumMedications</th>\n    </tr>\n  </thead>\n  <tbody>\n    <tr>\n      <th>0</th>\n      <td>No</td>\n      <td>1</td>\n    </tr>\n    <tr>\n      <th>1</th>\n      <td>Up</td>\n      <td>18</td>\n    </tr>\n    <tr>\n      <th>2</th>\n      <td>No</td>\n      <td>13</td>\n    </tr>\n    <tr>\n      <th>3</th>\n      <td>Up</td>\n      <td>16</td>\n    </tr>\n    <tr>\n      <th>4</th>\n      <td>Steady</td>\n      <td>8</td>\n    </tr>\n    <tr>\n      <th>5</th>\n      <td>Steady</td>\n      <td>16</td>\n    </tr>\n    <tr>\n      <th>12</th>\n      <td>Down</td>\n      <td>15</td>\n    </tr>\n    <tr>\n      <th>20</th>\n      <td>Down</td>\n      <td>19</td>\n    </tr>\n  </tbody>\n</table>\n</div>"
     },
     "execution_count": 46,
     "metadata": {},
     "output_type": "execute_result"
    }
   ],
   "source": [
    "grouped_test2=df[['Insulin','NumMedications']].groupby(['Insulin'])\n",
    "grouped_test2.head(2)"
   ]
  },
  {
   "cell_type": "code",
   "execution_count": 47,
   "metadata": {
    "pycharm": {
     "name": "#%%\n"
    }
   },
   "outputs": [
    {
     "data": {
      "text/plain": "<pandas.core.groupby.generic.DataFrameGroupBy object at 0x0000028F6A1649D0>"
     },
     "execution_count": 47,
     "metadata": {},
     "output_type": "execute_result"
    }
   ],
   "source": [
    "grouped_test2"
   ]
  },
  {
   "cell_type": "markdown",
   "metadata": {},
   "source": [
    "We can obtain the values of the method group using the method \"get_group\".\n"
   ]
  },
  {
   "cell_type": "code",
   "execution_count": 48,
   "metadata": {
    "pycharm": {
     "name": "#%%\n"
    }
   },
   "outputs": [
    {
     "data": {
      "text/plain": "1         18\n3         16\n15        13\n48        19\n62        15\n          ..\n101730    65\n101734    26\n101737    22\n101738    15\n101743    21\nName: NumMedications, Length: 11315, dtype: int64"
     },
     "execution_count": 48,
     "metadata": {},
     "output_type": "execute_result"
    }
   ],
   "source": [
    "grouped_test2.get_group('Up')['NumMedications']\n"
   ]
  },
  {
   "cell_type": "markdown",
   "metadata": {},
   "source": [
    "We can use the function 'f_oneway' in the module 'stats' to obtain the <b>F-test score</b> and <b>P-value</b>.\n"
   ]
  },
  {
   "cell_type": "code",
   "execution_count": 49,
   "metadata": {
    "pycharm": {
     "name": "#%%\n"
    }
   },
   "outputs": [
    {
     "name": "stdout",
     "output_type": "stream",
     "text": [
      "ANOVA results: F= 3294.02 , P = 0.0\n"
     ]
    }
   ],
   "source": [
    "# ANOVA\n",
    "f_val, p_val = stats.f_oneway(grouped_test2.get_group('Up')['NumMedications'],grouped_test2.get_group('No')['NumMedications'], grouped_test2.get_group('Down')['NumMedications'])\n",
    "\n",
    "print( \"ANOVA results: F=\", round(f_val,2), \", P =\", p_val)"
   ]
  },
  {
   "cell_type": "markdown",
   "metadata": {},
   "source": [
    "\n",
    "This is a great result with a large F-test score showing a strong correlation and a P-value of almost 0 implying almost certain statistical significance. But does this mean all three tested groups are all this highly correlated?\n",
    "\n",
    "Let's examine them separately.\n"
   ]
  },
  {
   "cell_type": "markdown",
   "metadata": {},
   "source": [
    "#### Up and Down"
   ]
  },
  {
   "cell_type": "code",
   "execution_count": 50,
   "metadata": {
    "pycharm": {
     "name": "#%%\n"
    }
   },
   "outputs": [
    {
     "name": "stdout",
     "output_type": "stream",
     "text": [
      "ANOVA results: F= 25.76 , P = 3.8881767310355405e-07\n"
     ]
    }
   ],
   "source": [
    "f_val, p_val = stats.f_oneway(grouped_test2.get_group('Up')['NumMedications'], grouped_test2.get_group('Down')['NumMedications'])\n",
    "\n",
    "print( \"ANOVA results: F=\", round(f_val,2), \", P =\", p_val )"
   ]
  },
  {
   "cell_type": "markdown",
   "metadata": {},
   "source": [
    "Let's examine the other groups.\n"
   ]
  },
  {
   "cell_type": "markdown",
   "metadata": {},
   "source": [
    "#### No and Up\n"
   ]
  },
  {
   "cell_type": "code",
   "execution_count": 51,
   "metadata": {
    "pycharm": {
     "name": "#%%\n"
    }
   },
   "outputs": [
    {
     "name": "stdout",
     "output_type": "stream",
     "text": [
      "ANOVA results: F= 4561.21 , P = 0.0\n"
     ]
    }
   ],
   "source": [
    "f_val, p_val = stats.f_oneway(grouped_test2.get_group('No')['NumMedications'], grouped_test2.get_group('Up')['NumMedications'])\n",
    "\n",
    "print( \"ANOVA results: F=\", round(f_val,2), \", P =\", p_val)"
   ]
  },
  {
   "cell_type": "markdown",
   "metadata": {},
   "source": [
    "<h4>No and Down</h4>\n"
   ]
  },
  {
   "cell_type": "code",
   "execution_count": 52,
   "metadata": {
    "pycharm": {
     "name": "#%%\n"
    }
   },
   "outputs": [
    {
     "name": "stdout",
     "output_type": "stream",
     "text": [
      "ANOVA results: F= 3962.64 , P = 0.0\n"
     ]
    }
   ],
   "source": [
    "f_val, p_val = stats.f_oneway(grouped_test2.get_group('No')['NumMedications'], grouped_test2.get_group('Down')['NumMedications'])\n",
    "\n",
    "print(\"ANOVA results: F=\", round(f_val,2), \", P =\", p_val)"
   ]
  },
  {
   "cell_type": "markdown",
   "metadata": {},
   "source": [
    "<h3>Conclusion: Important Variables</h3>\n"
   ]
  },
  {
   "cell_type": "markdown",
   "metadata": {},
   "source": [
    "<p>We now have a better idea of what our data looks like and which variables are important to take into account when predicting.</p>\n",
    "\n",
    "<p>As we now move into building machine learning models to automate our analysis, feeding the model with variables that meaningfully affect our target variable will improve our model's prediction performance.</p>\n"
   ]
  },
  {
   "cell_type": "markdown",
   "metadata": {},
   "source": [
    "### Thank you for completing this lab!\n",
    "\n",
    "## Author\n",
    "\n",
    "<a href=\"https://www.linkedin.com/in/joseph-s-50398b136/?utm_medium=Exinfluencer&utm_source=Exinfluencer&utm_content=000026UJ&utm_term=10006555&utm_id=NA-SkillsNetwork-Channel-SkillsNetworkCoursesIBMDeveloperSkillsNetworkDA0101ENSkillsNetwork20235326-2021-01-01\" target=\"_blank\">Joseph Santarcangelo</a>\n",
    "\n",
    "### Other Contributors\n",
    "\n",
    "<a href=\"https://www.linkedin.com/in/mahdi-noorian-58219234/?utm_medium=Exinfluencer&utm_source=Exinfluencer&utm_content=000026UJ&utm_term=10006555&utm_id=NA-SkillsNetwork-Channel-SkillsNetworkCoursesIBMDeveloperSkillsNetworkDA0101ENSkillsNetwork20235326-2021-01-01\" target=\"_blank\">Mahdi Noorian PhD</a>\n",
    "\n",
    "Bahare Talayian\n",
    "\n",
    "Eric Xiao\n",
    "\n",
    "Steven Dong\n",
    "\n",
    "Parizad\n",
    "\n",
    "Hima Vasudevan\n",
    "\n",
    "<a href=\"https://www.linkedin.com/in/fiorellawever/?utm_medium=Exinfluencer&utm_source=Exinfluencer&utm_content=000026UJ&utm_term=10006555&utm_id=NA-SkillsNetwork-Channel-SkillsNetworkCoursesIBMDeveloperSkillsNetworkDA0101ENSkillsNetwork20235326-2021-01-01\" target=\"_blank\">Fiorella Wenver</a>\n",
    "\n",
    "<a href=\"https:// https://www.linkedin.com/in/yi-leng-yao-84451275/ \" target=\"_blank\" >Yi Yao</a>.\n",
    "\n",
    "## Change Log\n",
    "\n",
    "| Date (YYYY-MM-DD) | Version | Changed By | Change Description                 |\n",
    "| ----------------- | ------- | ---------- | ---------------------------------- |\n",
    "| 2020-10-30        | 2.1     | Lakshmi    | changed URL of csv                 |\n",
    "| 2020-08-27        | 2.0     | Lavanya    | Moved lab to course repo in GitLab |\n",
    "\n",
    "<hr>\n",
    "\n",
    "## <h3 align=\"center\"> © IBM Corporation 2020. All rights reserved. <h3/>\n"
   ]
  },
  {
   "cell_type": "code",
   "execution_count": 52,
   "metadata": {
    "pycharm": {
     "name": "#%%\n"
    }
   },
   "outputs": [],
   "source": []
  },
  {
   "cell_type": "code",
   "execution_count": 52,
   "metadata": {
    "pycharm": {
     "name": "#%%\n"
    }
   },
   "outputs": [],
   "source": []
  }
 ],
 "metadata": {
  "anaconda-cloud": {},
  "kernelspec": {
   "display_name": "Python 3 (ipykernel)",
   "language": "python",
   "name": "python3"
  },
  "language_info": {
   "codemirror_mode": {
    "name": "ipython",
    "version": 3
   },
   "file_extension": ".py",
   "mimetype": "text/x-python",
   "name": "python",
   "nbconvert_exporter": "python",
   "pygments_lexer": "ipython3",
   "version": "3.9.13"
  }
 },
 "nbformat": 4,
 "nbformat_minor": 4
}