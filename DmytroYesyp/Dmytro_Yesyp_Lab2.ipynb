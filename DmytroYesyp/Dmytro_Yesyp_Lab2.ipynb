{
  "cells": [
    {
      "cell_type": "markdown",
      "id": "07903c1d-913d-4265-b107-7ece733934f4",
      "metadata": {},
      "outputs": [],
      "source": [
        "<center>\n    <img src=\"https://cf-courses-data.s3.us.cloud-object-storage.appdomain.cloud/assets/logos/SN_web_lightmode.png\" width=\"300\" alt=\"SN_web_lightmode.png logo\"/>\n</center>\n\n# Investigation of diabetes patients readmission among US hospitals\n\n\n# Lab 2. Data Wrangling\n\nEstimated time needed: **30** minutes\n\n## Objectives\n\nAfter completing this lab you will be able to:\n\n*   Handle missing values\n*   Correct data format\n*   Standardize and normalize data\n"
      ]
    },
    {
      "cell_type": "markdown",
      "id": "f38de998-a6d0-4b64-b063-9a81dcbbfeb4",
      "metadata": {},
      "outputs": [],
      "source": [
        "<h2>Table of Contents</h2>\n\n<div class=\"alert alert-block alert-info\" style=\"margin-top: 20px\">\n<ul>\n    <li><a href=\"https://#identify_handle_missing_values\">Identify and handle missing values</a>\n        <ul>\n            <li><a href=\"https://#identify_missing_values\">Identify missing values</a></li>\n            <li><a href=\"https://#deal_missing_values\">Deal with missing values</a></li>\n            <li><a href=\"https://#correct_data_format\">Correct data format</a></li>\n        </ul>\n    </li>\n    <li><a href=\"https://#data_standardization\">Data standardization</a></li>\n    <li><a href=\"https://#data_normalization\">Data normalization (centering/scaling)</a></li>\n    <li><a href=\"https://#binning\">Binning</a></li>\n    <li><a href=\"https://#indicator\">Indicator variable</a></li>\n</ul>\n\n</div>\n\n<hr>\n"
      ]
    },
    {
      "cell_type": "markdown",
      "id": "12c71499-40fd-44a2-864c-a5fef63224d7",
      "metadata": {},
      "outputs": [],
      "source": [
        "<h2>What is the purpose of data wrangling?</h2>\n"
      ]
    },
    {
      "cell_type": "markdown",
      "id": "5667e73e-26ef-4389-bef0-937746722f7c",
      "metadata": {},
      "outputs": [],
      "source": [
        "Data wrangling is the process of converting data from the initial format to a format that may be better for analysis.\n"
      ]
    },
    {
      "cell_type": "markdown",
      "id": "c5793faf-b9f2-4f34-8c0f-2b3eb65f2dcb",
      "metadata": {},
      "outputs": [],
      "source": [
        "<h3>How to change \"Yes\" and \"No\" to True and False?</h3>\n"
      ]
    },
    {
      "cell_type": "markdown",
      "id": "b2982539-155a-4791-b184-c59ef95d2ca4",
      "metadata": {},
      "outputs": [],
      "source": [
        "<h3>Import data</h3>\n<p>\nYou can find the \"Diabetes\" from the following link: <a href=\"https://www.kaggle.com/datasets/brandao/diabetes\">https://www.kaggle.com/datasets/brandao/diabetes</a>.\nWe will be using this dataset throughout this course.\n</p>\n"
      ]
    },
    {
      "cell_type": "markdown",
      "id": "c498d1a3-1506-4c01-8de6-d717c063774a",
      "metadata": {},
      "outputs": [],
      "source": [
        "<h4>Import needed libraries</h4> \n"
      ]
    },
    {
      "cell_type": "markdown",
      "id": "865a259e-4444-4b16-9c2d-f6b66885328d",
      "metadata": {},
      "outputs": [],
      "source": [
        "If you run the lab locally using Anaconda, you can load the correct library and versions by uncommenting the following:\n"
      ]
    },
    {
      "cell_type": "code",
      "id": "236ee6d3-f7ce-4371-9429-e4cae6f32054",
      "metadata": {},
      "outputs": [],
      "source": [
        "#If you run the lab locally using Anaconda, you can load the correct library and versions by uncommenting the following:\n#install specific version of libraries used in lab\n#! mamba install pandas==1.3.3\n#! mamba install numpy=1.21.2"
      ]
    },
    {
      "cell_type": "code",
      "id": "a17d0390-c0c4-4ff0-be1b-ffaad10765e8",
      "metadata": {},
      "outputs": [],
      "source": [
        "conda install -c anaconda scikit-learn"
      ]
    },
    {
      "cell_type": "code",
      "id": "a2db216b-edb6-4a12-a0fe-8d9c7dc8291b",
      "metadata": {},
      "outputs": [],
      "source": [
        "%matplotlib inline\nimport matplotlib.pylab as plt\nfrom matplotlib import pyplot\nimport pandas as pd\nimport sklearn as sklearn\nimport scipy.stats as stats\nfrom sklearn.metrics import recall_score\nfrom sklearn.metrics import mean_absolute_percentage_error\nimport math\nimport numpy as np"
      ]
    },
    {
      "cell_type": "markdown",
      "id": "cde64c88-b4bd-4274-8bcd-ea3f783df0a2",
      "metadata": {},
      "outputs": [],
      "source": [
        "<h2>Reading the dataset from the URL and adding the related headers</h2>\n"
      ]
    },
    {
      "cell_type": "markdown",
      "id": "8ac3f497-a21c-4bc9-bcc2-ed22ac6df1b5",
      "metadata": {},
      "outputs": [],
      "source": [
        "First, we assign the URL of the dataset to \"filename\".\n"
      ]
    },
    {
      "cell_type": "markdown",
      "id": "e1c9fbe4-96f4-4e9f-8d0b-5b4ae83f275f",
      "metadata": {},
      "outputs": [],
      "source": [
        "This dataset was hosted on IBM Cloud object. Click <a href=\"https://cocl.us/corsera_da0101en_notebook_bottom?utm_medium=Exinfluencer&utm_source=Exinfluencer&utm_content=000026UJ&utm_term=10006555&utm_id=NA-SkillsNetwork-Channel-SkillsNetworkCoursesIBMDeveloperSkillsNetworkDA0101ENSkillsNetwork20235326-2021-01-01\">HERE</a> for free storage.\n"
      ]
    },
    {
      "cell_type": "code",
      "id": "cf2e1b0b-e95a-4703-bfed-425c542e9369",
      "metadata": {},
      "outputs": [],
      "source": [
        "filename = \"https://cf-courses-data.s3.us.cloud-object-storage.appdomain.cloud/IBMSkillsNetwork-GPXX09J0EN/diabetes.csv\""
      ]
    },
    {
      "cell_type": "markdown",
      "id": "b8c4cb66-76b0-48d6-8bdf-585ac1dbc8ec",
      "metadata": {},
      "outputs": [],
      "source": [
        "Then, we create a Python list <b>headers</b> containing name of headers.\n"
      ]
    },
    {
      "cell_type": "markdown",
      "id": "155268da-f753-4269-a11d-cc2a67dd647a",
      "metadata": {},
      "outputs": [],
      "source": [
        "you will need to download the dataset; if you are running locally, please comment out the following\n"
      ]
    },
    {
      "cell_type": "markdown",
      "id": "59a09de8-ab68-4b05-b48b-caf0a7c41147",
      "metadata": {},
      "outputs": [],
      "source": [
        "Use the Pandas method <b>read_csv()</b> to load the data from the web address. Set \"df.columns\" equal to the Python list \"headers\".\n"
      ]
    },
    {
      "cell_type": "code",
      "id": "5e671ee4-1bd0-4f0e-98c6-2fb4fe0fa8c6",
      "metadata": {},
      "outputs": [],
      "source": [
        "df = pd.read_csv(filename)"
      ]
    },
    {
      "cell_type": "code",
      "id": "a6da653a-e11a-4abe-97b9-aa7b9ecdc462",
      "metadata": {},
      "outputs": [],
      "source": [
        "headers = [\"Encounter Id\",\"Patient Number\",\"Race\",\"Gender\",\"Age\",\"Weight\",\"Admission Type Id\",\n           \"Discharge Disposition Id\",\"Admission Source Id\",\"Time In Hospital\",\"Payer Code\",\n           \"Medical Specialty\",\"Num Lab Procedures\",\"Num Procedures\",\"Num Medications\",\n           \"Number Outpatient\",\"Number Emergency\",\"Number Inpatient\",\"Diagnosis1\",\"Diagnosis2\",\n           \"Diagnosis3\",\"Number Diagnoses\",\"Max Glu Serum\",\"A1c Result\",\"Metformin\",\"Repaglinide\",\n           \"Nateglinide\",\"Chlorpropamide\",\"Glimepiride\",\"Acetohexamide\",\"Glipizide\",\n           \"Glyburide\",\"Tolbutamide\",\"Pioglitazone\",\"Rosiglitazone\",\"Acarbose\",\"Miglitol\",\n           \"Troglitazone\",\"Tolazamide\",\"Examide\",\"Citoglipton\",\"Insulin\",\"Glyburide-metformin\",\n           \"Glipizide-metformin\",\"Glimepiride-pioglitazone\",\"Metformin-rosiglitazone\",\"Metformin-pioglitazone\",\n           \"Change\",\"Diabetes Medication\",\"Readmitted\"]\ndf.columns = headers"
      ]
    },
    {
      "cell_type": "markdown",
      "id": "6d592c62-002c-4b4f-ab57-b63cfaee11a4",
      "metadata": {},
      "outputs": [],
      "source": [
        "Use the method <b>head()</b> to display the first five rows of the dataframe.\n"
      ]
    },
    {
      "cell_type": "code",
      "id": "63b9205b-403a-463f-9e53-5301331c894e",
      "metadata": {},
      "outputs": [],
      "source": [
        "# To see what the data set looks like, we'll use the head() method.\ndf.head()"
      ]
    },
    {
      "cell_type": "markdown",
      "id": "0c5127f7-0ff1-4316-8ac2-f44dcd324783",
      "metadata": {},
      "outputs": [],
      "source": [
        "As we can see, several question marks appeared in the dataframe; those are missing values which may hinder our further analysis.\n\n<div>So, how do we identify all those missing values and deal with them?</div> \n\n<b>How to work with missing data?</b>\n\nSteps for working with missing data:\n\n<ol>\n    <li>Identify missing data</li>\n    <li>Deal with missing data</li>\n    <li>Correct data format</li>\n</ol>\n"
      ]
    },
    {
      "cell_type": "markdown",
      "id": "f83a058e-3203-4ce0-835a-6a223f14c19c",
      "metadata": {},
      "outputs": [],
      "source": [
        "<h2 id=\"identify_handle_missing_values\">Identify and handle missing values</h2>\n\n<h3 id=\"identify_missing_values\">Identify missing values</h3>\n<h4>Convert \"?\" to NaN</h4>\nIn the diabetes dataset, missing data comes with the question mark \"?\".\nWe replace \"?\" with NaN (Not a Number), Python's default missing value marker for reasons of computational speed and convenience. Here we use the function: \n <pre>.replace(A, B, inplace = True) </pre>\nto replace A by B.\n"
      ]
    },
    {
      "cell_type": "code",
      "id": "7943076d-2886-4654-bf04-cf8f106c4c6a",
      "metadata": {},
      "outputs": [],
      "source": [
        "df.replace(\"?\", np.nan, inplace = True)\ndf.head(5)"
      ]
    },
    {
      "cell_type": "markdown",
      "id": "f36e73d0-5ca4-45d1-9145-70023efa6e73",
      "metadata": {},
      "outputs": [],
      "source": [
        "<h4>Evaluating for Missing Data</h4>\n\nThe missing values are converted by default. We use the following functions to identify these missing values. There are two methods to detect missing data:\n<ol>\n    <li><b>.isnull()</b></li>\n    <li><b>.notnull()</b></li>\n</ol>\nThe output is a boolean value indicating whether the value that is passed into the argument is in fact missing data.\n"
      ]
    },
    {
      "cell_type": "code",
      "id": "8fa54e9d-74ef-498d-baed-e6c980e9a5cf",
      "metadata": {},
      "outputs": [],
      "source": [
        "missing_data = df.isnull()\nmissing_data.head(5)"
      ]
    },
    {
      "cell_type": "markdown",
      "id": "7414ce82-4989-46ba-836d-f312a9c07fba",
      "metadata": {},
      "outputs": [],
      "source": [
        "\"True\" means the value is a missing value while \"False\" means the value is not a missing value.\n"
      ]
    },
    {
      "cell_type": "markdown",
      "id": "0314d714-fed9-4b49-86ce-5d9ceeef8a82",
      "metadata": {},
      "outputs": [],
      "source": [
        "<h4>Count missing values in each column</h4>\n<p>\nUsing a for loop in Python, we can quickly figure out the number of missing values in each column. As mentioned above, \"True\" represents a missing value and \"False\" means the value is present in the dataset.  In the body of the for loop the method \".value_counts()\" counts the number of \"True\" values. \n</p>\n"
      ]
    },
    {
      "cell_type": "code",
      "id": "c2fc543d-0e43-4515-871b-578b45dd1c8a",
      "metadata": {},
      "outputs": [],
      "source": [
        "for column in missing_data.columns.values.tolist():\n    print(column)\n    print (missing_data[column].value_counts())\n    print(\"\")    "
      ]
    },
    {
      "cell_type": "markdown",
      "id": "14f89417-db00-4ce8-880a-01c430ffec29",
      "metadata": {},
      "outputs": [],
      "source": [
        "Based on the summary above, each column has 101766 rows of data and seven of the columns containing missing data:\n\n<ol>\n    <li>\"Race\": 2273 missing data</li>\n    <li>\"Weight\": 98569 missing data</li>\n    <li>\"PayerCode\": 40256 missing data</li>\n    <li>\"MedicalSpecialty\" : 49949 missing data</li>\n    <li>\"Diagnosis1\": 21 missing data</li>\n    <li>\"Diagnosis2\": 358 missing data</li>\n    <li>\"Diagnosis3\": 1423 missing data</li>\n</ol>\n"
      ]
    },
    {
      "cell_type": "markdown",
      "id": "ec3967fb-922d-4e5d-a74a-084d7f7bb4a5",
      "metadata": {},
      "outputs": [],
      "source": [
        "<h3 id=\"deal_missing_values\">Deal with missing data</h3>\n<b>How to deal with missing data?</b>\n\n<ol>\n    <li>Drop data<br>\n        a. Drop the whole row<br>\n        b. Drop the whole column\n    </li>\n    <li>Replace data<br>\n        a. Replace it by mean<br>\n        b. Replace it by frequency<br>\n        c. Replace it based on other functions\n    </li>\n</ol>\n"
      ]
    },
    {
      "cell_type": "markdown",
      "id": "5eb53443-17a8-40b2-b0f8-f592256f7a39",
      "metadata": {},
      "outputs": [],
      "source": [
        "Whole columns should be dropped only if most entries in the column are empty. In our dataset, none of the columns are empty enough to drop entirely.\nWe have some freedom in choosing which method to replace data; however, some methods may seem more reasonable than others. We will apply some of these methods to different columns:\n\n<b>Replace by frequency:</b>\n<ul>\n    <li>\"Race\": 2273 missing data\n        <ul>\n            <li>Reason: \"Race\" column cannot be replaced by mean value, so the obvious decision would be to find the most frequent value and replace Nan data.</li>\n        </ul>\n    </li>\n    <li>\"PayerCode\": 40256 missing data\n        <ul>\n            <li>Reason: \"PayerCode\" column cannot be replaced by mean value, and 40256 rows are too much to simply throw away. So just replace empty rows with the most frequent value.</li>\n        </ul>\n    </li>\n    <li>\"MedicalSpecialty\" : 49949 missing data</li>\n     <ul>\n            <li>Reason: \"MedicalSpecialty\" column cannot be replaced by mean value, and thrown away. So replace them with the most frequent value.</li>\n        </ul>\n    <li>\"Diagnosis2\": 358 missing data, replace it with the most frequent value.</li>\n    <li>\"Diagnosis3\": 1423 missing data, replace it with the most frequent value.</li>\n    <li>\"Weight\": 98569 missing data, replace it with the most frequent value.</li>\n</ul>\n<b>Drop the whole row:</b>\n<ul>\n    <li>\"Diagnosis1\": 21 missing rows is not much, so simply delete them.</li>\n</ul>"
      ]
    },
    {
      "cell_type": "markdown",
      "id": "ae7e7fdf-5fb4-4383-8172-d21246b2984e",
      "metadata": {},
      "outputs": [],
      "source": [
        "<div class=\"alert alert-danger alertdanger\" style=\"margin-top: 20px\">\n<h1> Question  #1: </h1>\n\n<b>Based on the example above, replace NaN in \"PayerCode\" column with the most frequent value.</b>\n\n</div>"
      ]
    },
    {
      "cell_type": "code",
      "id": "ccbb7863-f934-4295-ba8e-60345cd46b90",
      "metadata": {},
      "outputs": [],
      "source": [
        "# Write your code below and press Shift+Enter to execute"
      ]
    },
    {
      "cell_type": "markdown",
      "id": "338fdc36-eec7-4a67-b6c8-39206c438333",
      "metadata": {},
      "outputs": [],
      "source": [
        "<details><summary>Click here for the solution</summary>\n\n```python\n#Calculate the most frequent vaule for \"PayerCode\" column\navg_payer_code = df[\"Payer Code\"].value_counts().idxmax()\nprint(\"Average payer code:\", avg_payer_code)\n\n# Replace \"NaN\" with the mean value in the \"PayerCode\" column</h4>\n\ndf['Payer Code'].replace(np.nan, avg_payer_code, inplace=True)\n```\n</details>"
      ]
    },
    {
      "cell_type": "markdown",
      "id": "5d486b94-81f1-4b29-baf6-d831aeb45edc",
      "metadata": {},
      "outputs": [],
      "source": [
        "<h4>Calculating the mean value for column</h4>"
      ]
    },
    {
      "cell_type": "raw",
      "id": "b124ff5e-7dd1-441d-81df-623f39b85bd7",
      "metadata": {},
      "outputs": [],
      "source": [
        "avg_column = df['column'].astype('float').mean(axis=0)\nprint(\"Average column:\", avg_column)"
      ]
    },
    {
      "cell_type": "markdown",
      "id": "4123c928-8b1d-49ec-9cc4-878981d15ecc",
      "metadata": {},
      "outputs": [],
      "source": [
        "<h4>Replace \"NaN\" with the mean value in the column</h4>"
      ]
    },
    {
      "cell_type": "raw",
      "id": "c8171d5d-9a1e-4fc4-9438-926b120a85d0",
      "metadata": {},
      "outputs": [],
      "source": [
        "df['column'].replace(np.nan, avg_column, inplace=True)"
      ]
    },
    {
      "cell_type": "markdown",
      "id": "85cf55b5-2640-4a29-a8f6-66388173ce1c",
      "metadata": {},
      "outputs": [],
      "source": [
        "<h4>Calculate the most frequent value for the \"Race\",Diagnosis2\",\"Diagnosis3\",\"Weight\" column</h4>"
      ]
    },
    {
      "cell_type": "code",
      "id": "1fda61b4-80d5-486a-8621-550942716804",
      "metadata": {},
      "outputs": [],
      "source": [
        "avg_race = df['Race'].value_counts().idxmax()\navg_diagnosis_2 = df['Diagnosis2'].value_counts().idxmax()\navg_diagnosis_3 = df['Diagnosis3'].value_counts().idxmax()\navg_weight = df['Weight'].value_counts().idxmax()\n\nprint(\"Average Race:\", avg_race)\nprint(\"Average second diagnosis:\", avg_diagnosis_2)\nprint(\"Average third diagnosis:\", avg_diagnosis_3)\nprint(\"Average weight:\", avg_weight)"
      ]
    },
    {
      "cell_type": "markdown",
      "id": "b7064d57-f53a-4318-b2e1-95dc4fbfe40c",
      "metadata": {},
      "outputs": [],
      "source": [
        "<h4>Replace \"NaN\" with the mean value in the \"Race\",Diagnosis2\",\"Diagnosis3\",\"Weight\" column</h4>\n"
      ]
    },
    {
      "cell_type": "code",
      "id": "0e844403-8d1a-4cdb-8eac-0af92582edfa",
      "metadata": {},
      "outputs": [],
      "source": [
        "df['Race'].replace(np.nan, avg_race, inplace=True)\ndf['Diagnosis2'].replace(np.nan, avg_diagnosis_2, inplace=True)\ndf['Diagnosis3'].replace(np.nan, avg_diagnosis_3, inplace=True)\ndf['Weight'].replace(np.nan, avg_weight, inplace=True)"
      ]
    },
    {
      "cell_type": "markdown",
      "id": "b71b1417-5775-42bf-9c66-7894980665d1",
      "metadata": {},
      "outputs": [],
      "source": [
        "<h4>Calculate the most frequent value for \"PayerCode\" column</h4>\n"
      ]
    },
    {
      "cell_type": "code",
      "id": "387bae31-1de3-482f-b32c-9e9fa376e0e4",
      "metadata": {},
      "outputs": [],
      "source": [
        "avg_payer_code = df[\"Payer Code\"].value_counts().idxmax()\nprint(\"Average payer code:\", avg_payer_code)\nprint(df[\"Payer Code\"].value_counts())"
      ]
    },
    {
      "cell_type": "markdown",
      "id": "3cb2939c-466e-4d0a-9238-4eaaf73aee68",
      "metadata": {},
      "outputs": [],
      "source": [
        "<h4>Replace \"NaN\" with the mean value in the \"PayerCode\" column</h4>\n"
      ]
    },
    {
      "cell_type": "code",
      "id": "e24f0713-d21a-4ff2-b456-868376409520",
      "metadata": {},
      "outputs": [],
      "source": [
        "df['Payer Code'].replace(np.nan, avg_payer_code, inplace=True)"
      ]
    },
    {
      "cell_type": "markdown",
      "id": "e40197f5-325e-4af5-b22f-a4ab5b6a973d",
      "metadata": {},
      "outputs": [],
      "source": [
        "To see which values are present in a particular column, we can use the \".value_counts()\" method:\n"
      ]
    },
    {
      "cell_type": "code",
      "id": "500cc865-46ec-4361-ac37-2ac56cdff706",
      "metadata": {},
      "outputs": [],
      "source": [
        "df['Medical Specialty'].value_counts()"
      ]
    },
    {
      "cell_type": "markdown",
      "id": "a47deb12-fc25-4897-84d6-e5aa0269b3a1",
      "metadata": {},
      "outputs": [],
      "source": [
        "We can see that four doors are the most common type. We can also use the \".idxmax()\" method to calculate the most common type automatically:\n"
      ]
    },
    {
      "cell_type": "code",
      "id": "c4a256bd-ae12-4226-bd18-8eebed673f3e",
      "metadata": {},
      "outputs": [],
      "source": [
        "df['Medical Specialty'].value_counts().idxmax()"
      ]
    },
    {
      "cell_type": "markdown",
      "id": "449fb8ec-0b51-4645-b0a4-1da0345cb1e1",
      "metadata": {},
      "outputs": [],
      "source": [
        "The replacement procedure is very similar to what we have seen previously:\n"
      ]
    },
    {
      "cell_type": "code",
      "id": "7ee8adfd-babd-4c26-ace9-2198f539577a",
      "metadata": {},
      "outputs": [],
      "source": [
        "#replace the missing \"MedicalSpecialty' values by the most frequent\ndf[\"Medical Specialty\"].replace(np.nan, \"InternalMedicine\", inplace=True)"
      ]
    },
    {
      "cell_type": "markdown",
      "id": "25fe020a-1a3a-47be-8d14-ec448624a466",
      "metadata": {},
      "outputs": [],
      "source": [
        "Finally, let's drop all rows that do not have \"Diagnosis1\" data:"
      ]
    },
    {
      "cell_type": "code",
      "id": "71df16e4-79fc-4bf4-b714-c12c9f3d6435",
      "metadata": {},
      "outputs": [],
      "source": [
        "# simply drop whole row with NaN in \"Diagnosis1\" column\ndf.dropna(subset=[\"Diagnosis1\"], axis=0, inplace=True)\n\n# reset index, because we droped two rows\ndf.reset_index(drop=True, inplace=True)"
      ]
    },
    {
      "cell_type": "code",
      "id": "19f34fc6-a71f-4110-a6c3-358897ebcae5",
      "metadata": {},
      "outputs": [],
      "source": [
        "df.head()"
      ]
    },
    {
      "cell_type": "markdown",
      "id": "b7351ba8-4334-4ff1-80d0-19d4b5caacdf",
      "metadata": {},
      "outputs": [],
      "source": [
        "<b>Good!</b> Now, we have a dataset with no missing values.\n"
      ]
    },
    {
      "cell_type": "markdown",
      "id": "be1ea692-4a13-44d2-b0ee-672d1bcc38c3",
      "metadata": {},
      "outputs": [],
      "source": [
        "<h2>Analyze data loss among restored dataframe.</h2>\n\nHere we will investigate how much data we will lose after replacing it by mean and the most frequent value."
      ]
    },
    {
      "cell_type": "code",
      "id": "007de859-56d2-4e29-9172-f2888d795893",
      "metadata": {},
      "outputs": [],
      "source": [
        "#this code creates new dataframes df2 df3_clean removes all nan values from columns\ndf2 = pd.read_csv(filename)\ndf2.columns = headers\ndf2.replace(\"?\", np.nan, inplace = True)\n#here we drops nan data in mentioned columns\ndf2.dropna(subset=[\"Race\"], axis=0, inplace=True)\ndf2.dropna(subset=[\"Time In Hospital\"], axis=0, inplace=True)\ndf2.dropna(subset=[\"Gender\"], axis=0, inplace=True)\ndf2.dropna(subset=[\"Num Lab Procedures\"], axis=0, inplace=True)\ndf2.dropna(subset=[\"Diabetes Medication\"], axis=0, inplace=True)\ndf3_clean = df2.copy()\n\n#this part generates nan values among columns\nl = [0.15, 0.1, 0.12, 0.1, 0.01]\ncol = ['Race', 'Time In Hospital', 'Gender', 'Num Lab Procedures', 'Diabetes Med']\nfor i in range(len(l)):\n    m = np.random.rand(len(df2))\n    mask = m < l[i]\n    df2.loc[mask, col[i]] = np.NaN\n"
      ]
    },
    {
      "cell_type": "markdown",
      "id": "8a7c943b-824d-4c25-9c3b-fe0b432a0ea3",
      "metadata": {},
      "outputs": [],
      "source": [
        "After adding nan values we need to restore columns by different methods."
      ]
    },
    {
      "cell_type": "code",
      "id": "4786ca1b-d4b4-417c-9a4e-2e1c82e308d8",
      "metadata": {},
      "outputs": [],
      "source": [
        "# replacing nan values by the most frequent value\navg_race = df2['Race'].value_counts().idxmax()\ndf2['Race'].replace(np.nan, avg_race, inplace=True)\n\navg_gender = df2['Gender'].value_counts().idxmax()\ndf2['Gender'].replace(np.nan, avg_gender, inplace=True)\n\ndiabetes_meds = df2['Diabetes Medication'].value_counts().idxmax()\ndf2['Diabetes Medication'].replace(np.nan, diabetes_meds, inplace=True)\n\n# replacing nan values mean value\nlab_procedures = df2['Num Lab Procedures'].astype('float').mean(axis=0)\ndf2['Num Lab Procedures'].replace(np.nan, lab_procedures, inplace=True)\n\navg_time_in_hospital = df2['Time In Hospital'].astype('float').mean(axis=0)\ndf2['Time In Hospital'].replace(np.nan, avg_time_in_hospital, inplace=True)"
      ]
    },
    {
      "cell_type": "markdown",
      "id": "86b38f37-2b88-4470-90db-e7ad3d934576",
      "metadata": {},
      "outputs": [],
      "source": [
        "To find error we will use sklearn.metrics, .mean_absolute_percentage_error for float variables and .recall_score for object values."
      ]
    },
    {
      "cell_type": "code",
      "id": "8ec3954e-9056-44c8-aa3f-856a867f42a3",
      "metadata": {},
      "outputs": [],
      "source": [
        "cm = recall_score(df3_clean['Race'],df2['Race'],average='micro')\nprint(\"Error of Race :\", math.trunc((1 - cm)*100),'%')\n\ncm = recall_score(df3_clean['Gender'],df2['Gender'],average='micro')\nprint(\"Error of Gender :\", math.trunc((1 - cm)*100),'%')\n\ncm = recall_score(df3_clean['Diabetes Medication'],df2['Diabetes Medication'],average='micro')\nprint(\"Error of Diabetes Medication : \", math.trunc((1 - cm)*100),'%')\n\nnum_lab_procedures_error = mean_absolute_percentage_error(df2['Num Lab Procedures'], df3_clean['Num Lab Procedures'])\nprint('Error of NumLabProcedures: ', math.trunc(num_lab_procedures_error*100),'%')\n\ntime_in_hospital_error = mean_absolute_percentage_error(df2['Time In Hospital'], df3_clean['Time In Hospital'])\nprint('Error of TimeInHospital: ', math.trunc(time_in_hospital_error*100),'%')"
      ]
    },
    {
      "cell_type": "markdown",
      "id": "d0bf47d0-2dd7-4c5c-8045-d095463e6a30",
      "metadata": {},
      "outputs": [],
      "source": [
        "As we can notice error is low, from 0.2% to 5.3%. So we can rely on this type of data recovering."
      ]
    },
    {
      "cell_type": "markdown",
      "id": "3cadb833-abd2-44f0-ab75-c1a290bd73a4",
      "metadata": {},
      "outputs": [],
      "source": [
        "<h3 id=\"correct_data_format\">Correct data format</h3>\n<b>We are almost there!</b>\n<p>The last step in data cleaning is checking and making sure that all data is in the correct format (int, float, text or other).</p>\n\nIn Pandas, we use:\n\n<p><b>.dtype()</b> to check the data type</p>\n<p><b>.astype()</b> to change the data type</p>\n"
      ]
    },
    {
      "cell_type": "markdown",
      "id": "fd18369a-116c-47b1-a605-3bc472fed8e2",
      "metadata": {},
      "outputs": [],
      "source": [
        "<h4>Let's list the data types for each column</h4>\n"
      ]
    },
    {
      "cell_type": "code",
      "id": "498bdd3d-8e0c-4ea4-bda2-4be41eab06db",
      "metadata": {},
      "outputs": [],
      "source": [
        "df.dtypes"
      ]
    },
    {
      "cell_type": "markdown",
      "id": "d90bcd6e-c05e-40ba-9f1b-bf43f2981145",
      "metadata": {},
      "outputs": [],
      "source": [
        "<p>As we can see above, some columns are not of the correct data type. Numerical variables should have type 'float' or 'int', and variables with strings should have type 'object'. For example, 'Gender', 'Age' variables are Object values that descraibes categorical data, so we should expect them to be 'category' type. We have to convert data types into a proper format for each column using the \"astype()\" method.</p>\n"
      ]
    },
    {
      "cell_type": "markdown",
      "id": "0dd7941d-5349-472b-897c-426cacc0c3c0",
      "metadata": {},
      "outputs": [],
      "source": [
        "<h4>Convert data types to proper format</h4>\n"
      ]
    },
    {
      "cell_type": "code",
      "id": "d203cb55-3c70-4fde-a404-f8663b88a081",
      "metadata": {},
      "outputs": [],
      "source": [
        "df[[\"Gender\", \"Age\"]] = df[[\"Gender\", \"Age\"]].astype(\"category\")"
      ]
    },
    {
      "cell_type": "markdown",
      "id": "92ad171c-36e7-4e15-83e9-8412137b4e82",
      "metadata": {},
      "outputs": [],
      "source": [
        "<h4>Let us list the columns after the conversion</h4>\n"
      ]
    },
    {
      "cell_type": "code",
      "id": "5bf58c5c-9547-4e5f-9da5-c19091da559c",
      "metadata": {},
      "outputs": [],
      "source": [
        "df.dtypes"
      ]
    },
    {
      "cell_type": "markdown",
      "id": "a460e33d-ec48-43b5-9da2-62d55e976664",
      "metadata": {},
      "outputs": [],
      "source": [
        "<b>Wonderful!</b>\n\nNow we have finally obtained the cleaned dataset with no missing values with all data in its proper format.\n"
      ]
    },
    {
      "cell_type": "markdown",
      "id": "1c48fa50-eed6-4e69-8f07-12de90134ecd",
      "metadata": {},
      "outputs": [],
      "source": [
        "<h2 id=\"data_standardization\">Data Standardization</h2>\n<p>\nData is usually collected from different agencies in different formats.\n(Data standardization is also a term for a particular type of data normalization where we subtract the mean and divide by the standard deviation.)\n</p>\n\n<b>What is standardization?</b>\n\n<p>Standardization is the process of transforming data into a common format, allowing the researcher to make the meaningful comparison.\n</p>\n\n<b>Example</b>\n\n<p>Transform Diabetes Medication to Prescribed Diabetes Medication:</p>\n<p>We will need to apply <b>data transformation</b> to transform Diabetes Medication into Prescribed Diabetes Medication.</p>\n\n"
      ]
    },
    {
      "cell_type": "markdown",
      "id": "0c4e35bb-dad7-4f87-ae8f-45617e0b5e5a",
      "metadata": {},
      "outputs": [],
      "source": [
        "<p>The code for unit conversion is:<p>\ndf[\"Diabetes Medication\"] = 'Yes' == df[\"Diabetes Medication\"]\n<p>If we need to, we can do many mathematical operations directly in Pandas.</p>\n"
      ]
    },
    {
      "cell_type": "code",
      "id": "a005c73a-b9bd-4253-9ec6-ca0078ef31eb",
      "metadata": {},
      "outputs": [],
      "source": [
        "df['Diabetes Medication'].head()"
      ]
    },
    {
      "cell_type": "markdown",
      "id": "a2089681-c5aa-47d9-8a9f-530e63b5a65e",
      "metadata": {},
      "outputs": [],
      "source": [
        "<div class=\"alert alert-danger alertdanger\" style=\"margin-top: 20px\">\n<h1> Question  #2: </h1>\n\n<b>According to the example above, transform \"Yes\" \"No\" to True False in the column of \"Diabetes Medication\" and change the name of column to \"Prescribed Diabetes Medication\".</b>\n\n</div>\n"
      ]
    },
    {
      "cell_type": "code",
      "id": "0a832237-c715-40c5-9ffd-6e1bee510e7e",
      "metadata": {},
      "outputs": [],
      "source": [
        "# Write your code below and press Shift+Enter to execute "
      ]
    },
    {
      "cell_type": "markdown",
      "id": "d1cf89c0-b7c9-4903-a2dc-04c5e905c402",
      "metadata": {},
      "outputs": [],
      "source": [
        "<details><summary>Click here for the solution</summary>\n\n```python\n# Convert Yes, No values to Boolean True, False\ndf['Diabetes Medication'] = 'Yes' == df[\"Diabetes Medication\"]\n# rename column name from \"Diabetes Medication\" to \"Prescribed Diabetes Medication\"\n\ndf.rename(columns={'Diabetes Medication':'Prescribed Diabetes Medication'}, inplace=True)\n\n# check your transformed data\ndf['Diabetes Medication'].head()\n\n```\n\n</details>\n"
      ]
    },
    {
      "cell_type": "markdown",
      "id": "9d11a7a9-c2e9-4f7f-8405-1de19c2612a1",
      "metadata": {},
      "outputs": [],
      "source": [
        "<h2 id=\"data_normalization\">Data Normalization</h2>\n\n<b>Why normalization?</b>\n\n<p>Normalization is the process of transforming values of several variables into a similar range. Typical normalizations include scaling the variable so the variable average is 0, scaling the variable so the variance is 1, or scaling the variable so the variable values range from 0 to 1.\n</p>\n\n<b>Example</b>\n\n<p>To demonstrate normalization, let's say we want to scale the columns \"NumberDiagnoses\" and \"NumLabProcedures\".</p>\n<p><b>Target:</b> would like to normalize those variables so their value ranges from 0 to 1</p>\n<p><b>Approach:</b> replace original value by (original value)/(maximum value)</p>\n"
      ]
    },
    {
      "cell_type": "code",
      "id": "084ce3fc-ccd1-4344-bb1b-d5fb62c31616",
      "metadata": {},
      "outputs": [],
      "source": [
        "df['Number Diagnoses'] = df['Number Diagnoses']/df['Number Diagnoses'].max()"
      ]
    },
    {
      "cell_type": "markdown",
      "id": "e9d7ab91-e1e9-45d6-b9f2-f995d552315e",
      "metadata": {},
      "outputs": [],
      "source": [
        "<h2>Testing for normality using statistical tests</h2>\n\nHere we will check the normality of the sample distribution using such tests as: the Shapiro–Wilk test, the Kolmogorov–Smirnov test, and the D'Agostino's test."
      ]
    },
    {
      "cell_type": "code",
      "id": "4e9117bc-9186-4304-bd6a-5d67fae21133",
      "metadata": {},
      "outputs": [],
      "source": [
        "values = df[\"Number Diagnoses\"]\n\nresults = {\n    \"Shapiro–Wilk test\" : stats.shapiro(values),\n    \"Kolmogorov–Smirnov\" : stats.kstest(values, \"norm\"),\n    \"D'Agostino's test\" : stats.normaltest(values)\n}\n\npd.DataFrame.from_dict(results, orient = \"index\", columns = [\"Test statistics\", \"Value p\"])"
      ]
    },
    {
      "cell_type": "markdown",
      "id": "0201b394-36fd-411d-9ed8-62bb35b1ace6",
      "metadata": {},
      "outputs": [],
      "source": [
        "According to the results of the tests, it can be reliably stated that this sample does not have a normal distribution law."
      ]
    },
    {
      "cell_type": "markdown",
      "id": "1ace1613-71a9-485e-aac1-7edabd0786e5",
      "metadata": {},
      "outputs": [],
      "source": [
        "<div class=\"alert alert-danger alertdanger\" style=\"margin-top: 20px\">\n<h1> Question #3: </h1>\n\n<b>According to the example above, normalize the column \"NumLabProcedures\".</b>\n\n</div>\n"
      ]
    },
    {
      "cell_type": "code",
      "id": "89468571-2afa-4ddc-91f9-70d0efe80f0f",
      "metadata": {},
      "outputs": [],
      "source": [
        "# Write your code below and press Shift+Enter to execute"
      ]
    },
    {
      "cell_type": "markdown",
      "id": "a0739c08-7eeb-49f6-b828-e09ce5075a55",
      "metadata": {},
      "outputs": [],
      "source": [
        "<details><summary>Click here for the solution</summary>\n\n```python\ndf['Num Lab Procedures'] = df['Num Lab Procedures']/df['Num Lab Procedures'].max()\n\n# show the scaled columns\ndf[[\"Number Diagnoses\",\"Num Lab Procedures\"]].head()\n\n```\n\n</details>"
      ]
    },
    {
      "cell_type": "markdown",
      "id": "81fcf69f-2ea8-493c-8847-e2d77ef24f63",
      "metadata": {},
      "outputs": [],
      "source": [
        "Here we can see we've normalized \"NumberDiagnoses\" and \"NumLabProcedures\" in the range of \\[0,1].\n"
      ]
    },
    {
      "cell_type": "markdown",
      "id": "23b16021-7eb9-474d-bcc8-318992e29506",
      "metadata": {},
      "outputs": [],
      "source": [
        "<h2 id=\"binning\">Binning</h2>\n<b>Why binning?</b>\n<p>\n    Binning is a process of transforming continuous numerical variables into discrete categorical 'bins' for grouped analysis.\n</p>\n\n<b>Example: </b>\n\n<p>In our dataset, \"Age\" is a real valued variable ranging from 0 to 100 and it has 10 unique values. What if we only care about the diabetes among 4 age groups child, young adults, middle-aged adults and old-aged adults? Can we rearrange them into four ‘bins' to simplify analysis? </p>\n\n<p>We will use the pandas method 'cut' to segment the 'Age' column into 4 bins.</p>\n"
      ]
    },
    {
      "cell_type": "markdown",
      "id": "53f7ea7f-d0e6-4895-b629-6080956c0629",
      "metadata": {},
      "outputs": [],
      "source": [
        "<h3>Example of Binning Data In Pandas</h3>\n"
      ]
    },
    {
      "cell_type": "markdown",
      "id": "3b767442-5f8d-4b5a-9119-590c9308e68a",
      "metadata": {},
      "outputs": [],
      "source": [
        "Convert data to correct format:\n"
      ]
    },
    {
      "cell_type": "code",
      "id": "8138a3c0-aab7-460e-9324-f186f2d99612",
      "metadata": {},
      "outputs": [],
      "source": [
        "df[\"Age\"]=df[\"Age\"].astype('category', copy=True)"
      ]
    },
    {
      "cell_type": "markdown",
      "id": "bf25eff3-c0c5-4486-9be7-2c4e5079e89a",
      "metadata": {},
      "outputs": [],
      "source": [
        "Let's plot the histogram of age to see what the distribution of age looks like.\n"
      ]
    },
    {
      "cell_type": "code",
      "id": "a192e56e-cd2c-40f9-89e5-085f255e0048",
      "metadata": {},
      "outputs": [],
      "source": [
        "plt.hist(df[\"Age\"])\n\n# set x/y labels and plot title\nplt.xlabel(\"age\")\nplt.ylabel(\"count\")\nplt.title(\"age distribution\")"
      ]
    },
    {
      "cell_type": "markdown",
      "id": "4a347d8a-720d-4060-97c9-8c840020a9ba",
      "metadata": {},
      "outputs": [],
      "source": [
        "<p>Since we are building 4 bins, there should be 5 dividers, so numbers_generated = 5.</p>\n"
      ]
    },
    {
      "cell_type": "markdown",
      "id": "c6460cd8-1d83-4595-9823-bfe8110ca686",
      "metadata": {},
      "outputs": [],
      "source": [
        "We build a bin array with a minimum value to a maximum value by using the bandwidth calculated above. The values will determine when one bin ends and another begins.\n\n"
      ]
    },
    {
      "cell_type": "markdown",
      "id": "1628d0bd-e65f-46a6-ab67-d65e439d756c",
      "metadata": {},
      "outputs": [],
      "source": [
        "We set group  names:\n"
      ]
    },
    {
      "cell_type": "code",
      "id": "be50540a-3e8c-4885-a931-39595df01ca9",
      "metadata": {},
      "outputs": [],
      "source": [
        "group_names = ['Child', 'Young Adults', 'Middle-Aged Adults',\n            'Old-Aged Adults']"
      ]
    },
    {
      "cell_type": "markdown",
      "id": "ba037c62-c9a6-428f-8164-c76a0c2cf8a2",
      "metadata": {},
      "outputs": [],
      "source": [
        "We apply the function \"cut\" to determine what each value of `df['Age']` belongs to.\n"
      ]
    },
    {
      "cell_type": "code",
      "id": "da5a93f3-dfbf-44ca-848b-51c8445e3a81",
      "metadata": {},
      "outputs": [],
      "source": [
        "df['ages-binned'] = pd.cut(df['Age'].astype('string').str[1:2].astype('int64'), bins=[0,1,2,4,10], labels=group_names, include_lowest=True)\ndf[['Age','ages-binned']].head(20)"
      ]
    },
    {
      "cell_type": "raw",
      "id": "9619307f-bb19-412d-a062-e5a6eb08a967",
      "metadata": {},
      "outputs": [],
      "source": [
        "df['Age'].astype('string').str[1:2].astype('int64') -"
      ]
    },
    {
      "cell_type": "markdown",
      "id": "c158af36-dff7-43dd-8e74-67282fa08d2a",
      "metadata": {},
      "outputs": [],
      "source": [
        "This code fragment is used, because \"Age\" is a category. So that we will select 1 element of string from each occurrence. As a result we are able to represent category as 1d array for function to proceed.\n\nLet's see the number of patients in each bin:"
      ]
    },
    {
      "cell_type": "code",
      "id": "6e47f32f-8a23-443f-ba3d-9fb26401bbef",
      "metadata": {},
      "outputs": [],
      "source": [
        "df[\"ages-binned\"].value_counts()"
      ]
    },
    {
      "cell_type": "markdown",
      "id": "b3cd5f34-6848-4242-a55f-84c3598325fe",
      "metadata": {},
      "outputs": [],
      "source": [
        "Let's plot the distribution of each bin:"
      ]
    },
    {
      "cell_type": "code",
      "id": "e23372db-16a1-4a62-9e0c-d284e5913c3d",
      "metadata": {},
      "outputs": [],
      "source": [
        "pyplot.bar(['Old-Aged', 'Middle-Aged', 'Young','Child'], df[\"ages-binned\"].value_counts())\n\n# set x/y labels and plot title\nplt.xlabel(\"age groups\")\nplt.ylabel(\"count\")\nplt.title(\"age groups bins\")"
      ]
    },
    {
      "cell_type": "markdown",
      "id": "18d7ad2c-bd94-419c-9095-c4643c4615ff",
      "metadata": {},
      "outputs": [],
      "source": [
        "<p>\n    Look at the dataframe above carefully. You will find that the last column provides the bins for \"Age\" based on 4 categories (\"Old-Aged\", \"Middle-Aged\", \"Young\",\"Child\").\n</p>\n<p>\n    We successfully narrowed down the intervals from 10 to 4!\n</p>\n"
      ]
    },
    {
      "cell_type": "markdown",
      "id": "443e9905-e946-4ce7-af55-db94fae6cd17",
      "metadata": {},
      "outputs": [],
      "source": [
        "<h3>Bins Visualization</h3>\nNormally, a histogram is used to visualize the distribution of bins we created above. \n"
      ]
    },
    {
      "cell_type": "code",
      "id": "bc5b41b4-3d4b-470a-93ae-f84e0ec1dee1",
      "metadata": {},
      "outputs": [],
      "source": [
        "# draw historgram of attribute \"age\" with 4 selected bins (0,1,2,4,10)\nplt.hist(df[\"Age\"], bins = [0,1,2,4,10])\n\n# set x/y labels and plot title\nplt.xlabel(\"age\")\nplt.ylabel(\"count\")\nplt.title(\"age groups bins\")"
      ]
    },
    {
      "cell_type": "markdown",
      "id": "acaafcf9-63eb-4234-8781-5578d296e546",
      "metadata": {},
      "outputs": [],
      "source": [
        "The plot above shows the binning result for the attribute \"Age\".\n"
      ]
    },
    {
      "cell_type": "markdown",
      "id": "700cfa82-7cef-4d24-8e68-5df18adcb3c7",
      "metadata": {},
      "outputs": [],
      "source": [
        "<h2 id=\"indicator\">Indicator Variable (or Dummy Variable)</h2>\n<b>What is an indicator variable?</b>\n<p>\n    An indicator variable (or dummy variable) is a numerical variable used to label categories. They are called 'dummies' because the numbers themselves don't have inherent meaning. \n</p>\n\n<b>Why we use indicator variables?</b>\n\n<p>\n    We use indicator variables so we can use categorical variables for regression analysis in the later modules.\n</p>\n<b>Example</b>\n<p>\n    We see the column \"Change\" has two unique values: \"Ch\" or \"No\". Regression doesn't understand words, only numbers. To use this attribute in regression analysis, we convert \"change\" to indicator variables.\n</p>\n\n<p>\n    We will use pandas' method 'get_dummies' to assign numerical values to different categories of change type.\n</p>\n"
      ]
    },
    {
      "cell_type": "code",
      "id": "6c6ce0c7-9f3f-4860-82c5-74a747360658",
      "metadata": {},
      "outputs": [],
      "source": [
        "df.columns"
      ]
    },
    {
      "cell_type": "markdown",
      "id": "9511d55a-ae39-468e-bf45-e72ba31ede04",
      "metadata": {},
      "outputs": [],
      "source": [
        "Get the indicator variables and assign it to data frame \"dummy_variable_1\":\n"
      ]
    },
    {
      "cell_type": "code",
      "id": "60a0236f-2885-442a-83b2-648e79ce3bb4",
      "metadata": {},
      "outputs": [],
      "source": [
        "dummy_variable_1 = pd.get_dummies(df[\"Change\"])\ndummy_variable_1.head()"
      ]
    },
    {
      "cell_type": "markdown",
      "id": "c2063452-ebc5-4c04-84f9-7ddb3f3fc8a3",
      "metadata": {},
      "outputs": [],
      "source": [
        "Change the column names for clarity:\n"
      ]
    },
    {
      "cell_type": "code",
      "id": "a218ea38-4dcb-46fd-ab09-ce0b4658adb7",
      "metadata": {},
      "outputs": [],
      "source": [
        "dummy_variable_1.rename(columns={'Ch':'change_yes', 'No':'change_no'}, inplace=True)\ndummy_variable_1.head()"
      ]
    },
    {
      "cell_type": "markdown",
      "id": "7b505199-4014-479c-8109-17a0cff74adc",
      "metadata": {},
      "outputs": [],
      "source": [
        "In the dataframe, column 'change' has values for 'yes' and 'no' as 0s and 1s now.\n"
      ]
    },
    {
      "cell_type": "code",
      "id": "683d9903-115a-43e1-b79e-fb42b23dff57",
      "metadata": {},
      "outputs": [],
      "source": [
        "# merge data frame \"df\" and \"dummy_variable_1\" \ndf = pd.concat([df, dummy_variable_1], axis=1)\n\n# drop original column \"change\" from \"df\"\ndf.drop(\"Change\", axis = 1, inplace=True)"
      ]
    },
    {
      "cell_type": "code",
      "id": "71de1f80-a97a-4be5-bdd4-16624a3aff67",
      "metadata": {},
      "outputs": [],
      "source": [
        "df.head()"
      ]
    },
    {
      "cell_type": "markdown",
      "id": "9c260fb3-0832-486b-a1b6-28fe8c7a9a84",
      "metadata": {},
      "outputs": [],
      "source": [
        "The last two columns are now the indicator variable representation of the change variable. They're all 0s and 1s now.\n"
      ]
    },
    {
      "cell_type": "markdown",
      "id": "96d977a3-cf0b-4234-93a5-215d7b4d56cb",
      "metadata": {},
      "outputs": [],
      "source": [
        "<div class=\"alert alert-danger alertdanger\" style=\"margin-top: 20px\">\n<h1> Question  #4: </h1>\n\n<b>Similar to before, create an indicator variable for the column \"Rosiglitazone\"</b>\n\n</div>\n"
      ]
    },
    {
      "cell_type": "code",
      "id": "8015af87-157c-4932-ac73-eb3347224906",
      "metadata": {},
      "outputs": [],
      "source": [
        "# Write your code below and press Shift+Enter to execute"
      ]
    },
    {
      "cell_type": "markdown",
      "id": "f5dcfbff-52a7-402f-83b4-9158650382bc",
      "metadata": {},
      "outputs": [],
      "source": [
        "<details><summary>Click here for the solution</summary>\n\n```python\n# get indicator variables of aspiration and assign it to data frame \"dummy_variable_2\"\ndummy_variable_2 = pd.get_dummies(df['Rosiglitazone'])\n\n# change column names for clarity\ndummy_variable_2.rename(columns={'Down':'Increased', 'Up': 'Decreased'}, inplace=True)\n\n# show first 5 instances of data frame \"dummy_variable_1\"\ndummy_variable_2.head()\n\n```\n</details>\n"
      ]
    },
    {
      "cell_type": "markdown",
      "id": "ee7d72fd-199f-4a26-987f-45ba53c8f473",
      "metadata": {},
      "outputs": [],
      "source": [
        " <div class=\"alert alert-danger alertdanger\" style=\"margin-top: 20px\">\n<h1> Question  #5: </h1>\n\n<b>Merge the new dataframe to the original dataframe, then drop the column 'Rosiglitazone'.</b>\n\n</div>\n"
      ]
    },
    {
      "cell_type": "code",
      "id": "6a5b6009-f845-4fc7-9fd9-510a03c650c9",
      "metadata": {},
      "outputs": [],
      "source": [
        "# Write your code below and press Shift+Enter to execute"
      ]
    },
    {
      "cell_type": "markdown",
      "id": "bac041dc-dd1c-416f-9bea-c7a410202cd3",
      "metadata": {},
      "outputs": [],
      "source": [
        "<details><summary>Click here for the solution</summary>\n\n```python\n# merge the new dataframe to the original datafram\ndf = pd.concat([df, dummy_variable_2], axis=1)\n\n# drop original column \"Rosiglitazone\" from \"df\"\ndf.drop('Rosiglitazone', axis = 1, inplace=True)\n\n```\n</details>\n"
      ]
    },
    {
      "cell_type": "code",
      "id": "f18460a7-a0e9-4f7f-a8ad-5754e198525e",
      "metadata": {},
      "outputs": [],
      "source": [
        "df.to_csv('clean_df.csv')"
      ]
    },
    {
      "cell_type": "markdown",
      "id": "df9f0f7a-9c81-4230-a556-95c779da2d02",
      "metadata": {},
      "outputs": [],
      "source": [
        "Save the new csv:\n\n> Note : The  csv file cannot be viewed in the jupyterlite based SN labs environment.However you can Click <a href=\"https://cf-courses-data.s3.us.cloud-object-storage.appdomain.cloud/IBMDeveloperSkillsNetwork-DA0101EN-SkillsNetwork/labs/Module%202/DA0101EN-2-Review-Data-Wrangling.ipynb?utm_medium=Exinfluencer&utm_source=Exinfluencer&utm_content=000026UJ&utm_term=10006555&utm_id=NA-SkillsNetwork-Channel-SkillsNetworkCoursesIBMDeveloperSkillsNetworkDA0101ENSkillsNetwork20235326-2022-01-01\">HERE</a> to download the lab notebook (.ipynb) to your local machine and view the csv file once the notebook is executed.\n"
      ]
    },
    {
      "cell_type": "markdown",
      "id": "8f12a913-98f6-4b64-8d53-94962a88db5b",
      "metadata": {},
      "outputs": [],
      "source": [
        "### Thank you for completing this lab!\n\n## Author\n\n<a href=\"https://www.linkedin.com/in/joseph-s-50398b136/?utm_medium=Exinfluencer&utm_source=Exinfluencer&utm_content=000026UJ&utm_term=10006555&utm_id=NA-SkillsNetwork-Channel-SkillsNetworkCoursesIBMDeveloperSkillsNetworkDA0101ENSkillsNetwork20235326-2021-01-01\" target=\"_blank\">Joseph Santarcangelo</a>\n\n### Other Contributors\n\n<a href=\"https://www.linkedin.com/in/mahdi-noorian-58219234/?utm_medium=Exinfluencer&utm_source=Exinfluencer&utm_content=000026UJ&utm_term=10006555&utm_id=NA-SkillsNetwork-Channel-SkillsNetworkCoursesIBMDeveloperSkillsNetworkDA0101ENSkillsNetwork20235326-2021-01-01\" target=\"_blank\">Mahdi Noorian PhD</a>\n\nBahare Talayian\n\nEric Xiao\n\nSteven Dong\n\nParizad\n\nHima Vasudevan\n\n<a href=\"https://www.linkedin.com/in/fiorellawever/?utm_medium=Exinfluencer&utm_source=Exinfluencer&utm_content=000026UJ&utm_term=10006555&utm_id=NA-SkillsNetwork-Channel-SkillsNetworkCoursesIBMDeveloperSkillsNetworkDA0101ENSkillsNetwork20235326-2021-01-01\" target=\"_blank\">Fiorella Wenver</a>\n\n<a href=\"https:// https://www.linkedin.com/in/yi-leng-yao-84451275/ \" target=\"_blank\" >Yi Yao</a>.\n\n## Change Log\n\n| Date (YYYY-MM-DD) | Version | Changed By | Change Description                  |\n| ----------------- | ------- | ---------- | ----------------------------------- |\n| 2022-04-22        | 2.3     | Lakshmi    | Made changes in markdown file       |\n| 2020-10-30        | 2.2     | Lakshmi    | Changed URL of csv                  |\n| 2020-09-09        | 2.1     | Lakshmi    | Updated Indicator Variables section |\n| 2020-08-27        | 2.0     | Lavanya    | Moved lab to course repo in GitLab  |\n\n<hr>\n\n## <h3 align=\"center\"> © IBM Corporation 2020. All rights reserved. <h3/>\n"
      ]
    },
    {
      "cell_type": "code",
      "id": "e418d801-e189-4aba-9690-b919acb2bc6b",
      "metadata": {},
      "outputs": [],
      "source": [
        ""
      ]
    }
  ],
  "metadata": {
    "language_info": {
      "name": ""
    },
    "kernelspec": {
      "name": "",
      "display_name": ""
    }
  },
  "nbformat": 4,
  "nbformat_minor": 4
}