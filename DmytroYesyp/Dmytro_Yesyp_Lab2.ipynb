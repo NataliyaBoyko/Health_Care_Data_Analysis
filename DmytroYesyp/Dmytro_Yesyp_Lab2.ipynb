{
 "cells": [
  {
   "cell_type": "markdown",
   "metadata": {},
   "source": [
    "<center>\n",
    "    <img src=\"https://cf-courses-data.s3.us.cloud-object-storage.appdomain.cloud/IBMDeveloperSkillsNetwork-DA0101EN-SkillsNetwork/labs/Module%202/images/IDSNlogo.png\" width=\"300\" alt=\"cognitiveclass.ai logo\"  />\n",
    "</center>\n",
    "\n",
    "# Data Wrangling\n",
    "\n",
    "Estimated time needed: **30** minutes\n",
    "\n",
    "## Objectives\n",
    "\n",
    "After completing this lab you will be able to:\n",
    "\n",
    "*   Handle missing values\n",
    "*   Correct data format\n",
    "*   Standardize and normalize data\n"
   ]
  },
  {
   "cell_type": "markdown",
   "metadata": {},
   "source": [
    "<h2>Table of Contents</h2>\n",
    "\n",
    "<div class=\"alert alert-block alert-info\" style=\"margin-top: 20px\">\n",
    "<ul>\n",
    "    <li><a href=\"https://#identify_handle_missing_values\">Identify and handle missing values</a>\n",
    "        <ul>\n",
    "            <li><a href=\"https://#identify_missing_values\">Identify missing values</a></li>\n",
    "            <li><a href=\"https://#deal_missing_values\">Deal with missing values</a></li>\n",
    "            <li><a href=\"https://#correct_data_format\">Correct data format</a></li>\n",
    "        </ul>\n",
    "    </li>\n",
    "    <li><a href=\"https://#data_standardization\">Data standardization</a></li>\n",
    "    <li><a href=\"https://#data_normalization\">Data normalization (centering/scaling)</a></li>\n",
    "    <li><a href=\"https://#binning\">Binning</a></li>\n",
    "    <li><a href=\"https://#indicator\">Indicator variable</a></li>\n",
    "</ul>\n",
    "\n",
    "</div>\n",
    "\n",
    "<hr>\n"
   ]
  },
  {
   "cell_type": "markdown",
   "metadata": {},
   "source": [
    "<h2>What is the purpose of data wrangling?</h2>\n"
   ]
  },
  {
   "cell_type": "markdown",
   "metadata": {},
   "source": [
    "Data wrangling is the process of converting data from the initial format to a format that may be better for analysis.\n"
   ]
  },
  {
   "cell_type": "markdown",
   "metadata": {},
   "source": [
    "<h3>How to change \"Yes\" and \"No\" to True and False?</h3>\n"
   ]
  },
  {
   "cell_type": "markdown",
   "metadata": {},
   "source": [
    "<h3>Import data</h3>\n",
    "<p>\n",
    "You can find the \"Diabetes\" from the following link: <a href=\"https://www.kaggle.com/datasets/brandao/diabetes\">https://www.kaggle.com/datasets/brandao/diabetes</a>.\n",
    "We will be using this dataset throughout this course.\n",
    "</p>\n"
   ]
  },
  {
   "cell_type": "markdown",
   "metadata": {},
   "source": [
    "<h4>Import pandas</h4> \n"
   ]
  },
  {
   "cell_type": "markdown",
   "metadata": {},
   "source": [
    "you are running the lab in your  browser, so we will install the libraries using `piplite`\n"
   ]
  },
  {
   "cell_type": "code",
   "execution_count": 158,
   "metadata": {},
   "outputs": [],
   "source": [
    "# import piplite\n",
    "# await piplite.install(['pandas'])\n",
    "# await piplite.install(['matplotlib'])"
   ]
  },
  {
   "cell_type": "markdown",
   "metadata": {},
   "source": [
    "If you run the lab locally using Anaconda, you can load the correct library and versions by uncommenting the following:\n"
   ]
  },
  {
   "cell_type": "code",
   "execution_count": 159,
   "metadata": {},
   "outputs": [],
   "source": [
    "#If you run the lab locally using Anaconda, you can load the correct library and versions by uncommenting the following:\n",
    "#install specific version of libraries used in lab\n",
    "#! mamba install pandas==1.3.3\n",
    "#! mamba install numpy=1.21.2\n"
   ]
  },
  {
   "cell_type": "code",
   "execution_count": 160,
   "metadata": {},
   "outputs": [],
   "source": [
    "import pandas as pd\n",
    "import matplotlib.pylab as plt"
   ]
  },
  {
   "cell_type": "markdown",
   "metadata": {},
   "source": [
    "This function will download the dataset into your browser\n"
   ]
  },
  {
   "cell_type": "code",
   "execution_count": 161,
   "metadata": {},
   "outputs": [],
   "source": [
    "#This function will download the dataset into your browser \n",
    "# from pyodide.http import pyfetch\n",
    "#\n",
    "# async def download(url, filename):\n",
    "#     response = await pyfetch(url)\n",
    "#     if response.status == 200:\n",
    "#         with open(filename, \"wb\") as f:\n",
    "#             f.write(await response.bytes())\n",
    "\n"
   ]
  },
  {
   "cell_type": "markdown",
   "metadata": {},
   "source": [
    "<h2>Reading the dataset from the URL and adding the related headers</h2>\n"
   ]
  },
  {
   "cell_type": "markdown",
   "metadata": {},
   "source": [
    "First, we assign the URL of the dataset to \"filename\".\n"
   ]
  },
  {
   "cell_type": "markdown",
   "metadata": {},
   "source": [
    "This dataset was hosted on IBM Cloud object. Click <a href=\"https://cocl.us/corsera_da0101en_notebook_bottom?utm_medium=Exinfluencer&utm_source=Exinfluencer&utm_content=000026UJ&utm_term=10006555&utm_id=NA-SkillsNetwork-Channel-SkillsNetworkCoursesIBMDeveloperSkillsNetworkDA0101ENSkillsNetwork20235326-2021-01-01\">HERE</a> for free storage.\n"
   ]
  },
  {
   "cell_type": "code",
   "execution_count": 162,
   "metadata": {},
   "outputs": [],
   "source": [
    "import sklearn as sklearn\n",
    "\n",
    "filename = \"diabetic_data.csv\""
   ]
  },
  {
   "cell_type": "markdown",
   "metadata": {},
   "source": [
    "Then, we create a Python list <b>headers</b> containing name of headers.\n"
   ]
  },
  {
   "cell_type": "code",
   "execution_count": 163,
   "metadata": {},
   "outputs": [],
   "source": [
    "headers = [\"EncounterId\",\"PatientNbr\",\"Race\",\"Gender\",\"Age\",\"Weight\",\"AdmissionTypeId\",\n",
    "           \"DischargeDispositionId\",\"AdmissionSourceId\",\"TimeInHospital\",\"PayerCode\",\n",
    "           \"MedicalSpecialty\",\"NumLabProcedures\",\"NumProcedures\",\"NumMedications\",\n",
    "           \"NumberOutpatient\",\"NumberEmergency\",\"NumberInpatient\",\"Diagnosis1\",\"Diagnosis2\",\n",
    "           \"Diagnosis3\",\"NumberDiagnoses\",\"MaxGluSerum\",\"A1Cresult\",\"Metformin\",\"Repaglinide\",\n",
    "           \"Nateglinide\",\"Chlorpropamide\",\"Glimepiride\",\"Acetohexamide\",\"Glipizide\",\n",
    "           \"Glyburide\",\"Tolbutamide\",\"Pioglitazone\",\"Rosiglitazone\",\"Acarbose\",\"Miglitol\",\n",
    "           \"Troglitazone\",\"Tolazamide\",\"Examide\",\"Citoglipton\",\"Insulin\",\"Glyburide-metformin\",\n",
    "           \"Glipizide-metformin\",\"Glimepiride-pioglitazone\",\"Metformin-rosiglitazone\",\"Metformin-pioglitazone\",\n",
    "           \"Change\",\"DiabetesMed\",\"Readmitted\"]"
   ]
  },
  {
   "cell_type": "markdown",
   "metadata": {},
   "source": [
    "you will need to download the dataset; if you are running locally, please comment out the following\n"
   ]
  },
  {
   "cell_type": "code",
   "execution_count": 164,
   "metadata": {},
   "outputs": [],
   "source": [
    "# await download(filename, \"auto.csv\")\n",
    "# filename=\"auto.csv\""
   ]
  },
  {
   "cell_type": "markdown",
   "metadata": {},
   "source": [
    "Use the Pandas method <b>read_csv()</b> to load the data from the web address. Set \"df.columns\" equal to the Python list \"headers\".\n"
   ]
  },
  {
   "cell_type": "code",
   "execution_count": 165,
   "metadata": {},
   "outputs": [],
   "source": [
    "df = pd.read_csv(filename)\n",
    "df.columns = headers"
   ]
  },
  {
   "cell_type": "markdown",
   "metadata": {},
   "source": [
    "Use the method <b>head()</b> to display the first five rows of the dataframe.\n"
   ]
  },
  {
   "cell_type": "code",
   "execution_count": 166,
   "metadata": {},
   "outputs": [
    {
     "data": {
      "text/plain": "   EncounterId  PatientNbr             Race  Gender      Age Weight  \\\n0      2278392     8222157        Caucasian  Female   [0-10)      ?   \n1       149190    55629189        Caucasian  Female  [10-20)      ?   \n2        64410    86047875  AfricanAmerican  Female  [20-30)      ?   \n3       500364    82442376        Caucasian    Male  [30-40)      ?   \n4        16680    42519267        Caucasian    Male  [40-50)      ?   \n\n   AdmissionTypeId  DischargeDispositionId  AdmissionSourceId  TimeInHospital  \\\n0                6                      25                  1               1   \n1                1                       1                  7               3   \n2                1                       1                  7               2   \n3                1                       1                  7               2   \n4                1                       1                  7               1   \n\n   ... Citoglipton Insulin  Glyburide-metformin  Glipizide-metformin  \\\n0  ...          No      No                   No                   No   \n1  ...          No      Up                   No                   No   \n2  ...          No      No                   No                   No   \n3  ...          No      Up                   No                   No   \n4  ...          No  Steady                   No                   No   \n\n   Glimepiride-pioglitazone  Metformin-rosiglitazone  Metformin-pioglitazone  \\\n0                        No                       No                      No   \n1                        No                       No                      No   \n2                        No                       No                      No   \n3                        No                       No                      No   \n4                        No                       No                      No   \n\n   Change DiabetesMed Readmitted  \n0      No          No         NO  \n1      Ch         Yes        >30  \n2      No         Yes         NO  \n3      Ch         Yes         NO  \n4      Ch         Yes         NO  \n\n[5 rows x 50 columns]",
      "text/html": "<div>\n<style scoped>\n    .dataframe tbody tr th:only-of-type {\n        vertical-align: middle;\n    }\n\n    .dataframe tbody tr th {\n        vertical-align: top;\n    }\n\n    .dataframe thead th {\n        text-align: right;\n    }\n</style>\n<table border=\"1\" class=\"dataframe\">\n  <thead>\n    <tr style=\"text-align: right;\">\n      <th></th>\n      <th>EncounterId</th>\n      <th>PatientNbr</th>\n      <th>Race</th>\n      <th>Gender</th>\n      <th>Age</th>\n      <th>Weight</th>\n      <th>AdmissionTypeId</th>\n      <th>DischargeDispositionId</th>\n      <th>AdmissionSourceId</th>\n      <th>TimeInHospital</th>\n      <th>...</th>\n      <th>Citoglipton</th>\n      <th>Insulin</th>\n      <th>Glyburide-metformin</th>\n      <th>Glipizide-metformin</th>\n      <th>Glimepiride-pioglitazone</th>\n      <th>Metformin-rosiglitazone</th>\n      <th>Metformin-pioglitazone</th>\n      <th>Change</th>\n      <th>DiabetesMed</th>\n      <th>Readmitted</th>\n    </tr>\n  </thead>\n  <tbody>\n    <tr>\n      <th>0</th>\n      <td>2278392</td>\n      <td>8222157</td>\n      <td>Caucasian</td>\n      <td>Female</td>\n      <td>[0-10)</td>\n      <td>?</td>\n      <td>6</td>\n      <td>25</td>\n      <td>1</td>\n      <td>1</td>\n      <td>...</td>\n      <td>No</td>\n      <td>No</td>\n      <td>No</td>\n      <td>No</td>\n      <td>No</td>\n      <td>No</td>\n      <td>No</td>\n      <td>No</td>\n      <td>No</td>\n      <td>NO</td>\n    </tr>\n    <tr>\n      <th>1</th>\n      <td>149190</td>\n      <td>55629189</td>\n      <td>Caucasian</td>\n      <td>Female</td>\n      <td>[10-20)</td>\n      <td>?</td>\n      <td>1</td>\n      <td>1</td>\n      <td>7</td>\n      <td>3</td>\n      <td>...</td>\n      <td>No</td>\n      <td>Up</td>\n      <td>No</td>\n      <td>No</td>\n      <td>No</td>\n      <td>No</td>\n      <td>No</td>\n      <td>Ch</td>\n      <td>Yes</td>\n      <td>&gt;30</td>\n    </tr>\n    <tr>\n      <th>2</th>\n      <td>64410</td>\n      <td>86047875</td>\n      <td>AfricanAmerican</td>\n      <td>Female</td>\n      <td>[20-30)</td>\n      <td>?</td>\n      <td>1</td>\n      <td>1</td>\n      <td>7</td>\n      <td>2</td>\n      <td>...</td>\n      <td>No</td>\n      <td>No</td>\n      <td>No</td>\n      <td>No</td>\n      <td>No</td>\n      <td>No</td>\n      <td>No</td>\n      <td>No</td>\n      <td>Yes</td>\n      <td>NO</td>\n    </tr>\n    <tr>\n      <th>3</th>\n      <td>500364</td>\n      <td>82442376</td>\n      <td>Caucasian</td>\n      <td>Male</td>\n      <td>[30-40)</td>\n      <td>?</td>\n      <td>1</td>\n      <td>1</td>\n      <td>7</td>\n      <td>2</td>\n      <td>...</td>\n      <td>No</td>\n      <td>Up</td>\n      <td>No</td>\n      <td>No</td>\n      <td>No</td>\n      <td>No</td>\n      <td>No</td>\n      <td>Ch</td>\n      <td>Yes</td>\n      <td>NO</td>\n    </tr>\n    <tr>\n      <th>4</th>\n      <td>16680</td>\n      <td>42519267</td>\n      <td>Caucasian</td>\n      <td>Male</td>\n      <td>[40-50)</td>\n      <td>?</td>\n      <td>1</td>\n      <td>1</td>\n      <td>7</td>\n      <td>1</td>\n      <td>...</td>\n      <td>No</td>\n      <td>Steady</td>\n      <td>No</td>\n      <td>No</td>\n      <td>No</td>\n      <td>No</td>\n      <td>No</td>\n      <td>Ch</td>\n      <td>Yes</td>\n      <td>NO</td>\n    </tr>\n  </tbody>\n</table>\n<p>5 rows × 50 columns</p>\n</div>"
     },
     "execution_count": 166,
     "metadata": {},
     "output_type": "execute_result"
    }
   ],
   "source": [
    "# To see what the data set looks like, we'll use the head() method.\n",
    "df.head()"
   ]
  },
  {
   "cell_type": "markdown",
   "metadata": {},
   "source": [
    "As we can see, several question marks appeared in the dataframe; those are missing values which may hinder our further analysis.\n",
    "\n",
    "<div>So, how do we identify all those missing values and deal with them?</div> \n",
    "\n",
    "<b>How to work with missing data?</b>\n",
    "\n",
    "Steps for working with missing data:\n",
    "\n",
    "<ol>\n",
    "    <li>Identify missing data</li>\n",
    "    <li>Deal with missing data</li>\n",
    "    <li>Correct data format</li>\n",
    "</ol>\n"
   ]
  },
  {
   "cell_type": "markdown",
   "metadata": {},
   "source": [
    "<h2 id=\"identify_handle_missing_values\">Identify and handle missing values</h2>\n",
    "\n",
    "<h3 id=\"identify_missing_values\">Identify missing values</h3>\n",
    "<h4>Convert \"?\" to NaN</h4>\n",
    "In the diabetes dataset, missing data comes with the question mark \"?\".\n",
    "We replace \"?\" with NaN (Not a Number), Python's default missing value marker for reasons of computational speed and convenience. Here we use the function: \n",
    " <pre>.replace(A, B, inplace = True) </pre>\n",
    "to replace A by B.\n"
   ]
  },
  {
   "cell_type": "code",
   "execution_count": 167,
   "metadata": {},
   "outputs": [
    {
     "data": {
      "text/plain": "   EncounterId  PatientNbr             Race  Gender      Age Weight  \\\n0      2278392     8222157        Caucasian  Female   [0-10)    NaN   \n1       149190    55629189        Caucasian  Female  [10-20)    NaN   \n2        64410    86047875  AfricanAmerican  Female  [20-30)    NaN   \n3       500364    82442376        Caucasian    Male  [30-40)    NaN   \n4        16680    42519267        Caucasian    Male  [40-50)    NaN   \n\n   AdmissionTypeId  DischargeDispositionId  AdmissionSourceId  TimeInHospital  \\\n0                6                      25                  1               1   \n1                1                       1                  7               3   \n2                1                       1                  7               2   \n3                1                       1                  7               2   \n4                1                       1                  7               1   \n\n   ... Citoglipton Insulin  Glyburide-metformin  Glipizide-metformin  \\\n0  ...          No      No                   No                   No   \n1  ...          No      Up                   No                   No   \n2  ...          No      No                   No                   No   \n3  ...          No      Up                   No                   No   \n4  ...          No  Steady                   No                   No   \n\n   Glimepiride-pioglitazone  Metformin-rosiglitazone  Metformin-pioglitazone  \\\n0                        No                       No                      No   \n1                        No                       No                      No   \n2                        No                       No                      No   \n3                        No                       No                      No   \n4                        No                       No                      No   \n\n   Change DiabetesMed Readmitted  \n0      No          No         NO  \n1      Ch         Yes        >30  \n2      No         Yes         NO  \n3      Ch         Yes         NO  \n4      Ch         Yes         NO  \n\n[5 rows x 50 columns]",
      "text/html": "<div>\n<style scoped>\n    .dataframe tbody tr th:only-of-type {\n        vertical-align: middle;\n    }\n\n    .dataframe tbody tr th {\n        vertical-align: top;\n    }\n\n    .dataframe thead th {\n        text-align: right;\n    }\n</style>\n<table border=\"1\" class=\"dataframe\">\n  <thead>\n    <tr style=\"text-align: right;\">\n      <th></th>\n      <th>EncounterId</th>\n      <th>PatientNbr</th>\n      <th>Race</th>\n      <th>Gender</th>\n      <th>Age</th>\n      <th>Weight</th>\n      <th>AdmissionTypeId</th>\n      <th>DischargeDispositionId</th>\n      <th>AdmissionSourceId</th>\n      <th>TimeInHospital</th>\n      <th>...</th>\n      <th>Citoglipton</th>\n      <th>Insulin</th>\n      <th>Glyburide-metformin</th>\n      <th>Glipizide-metformin</th>\n      <th>Glimepiride-pioglitazone</th>\n      <th>Metformin-rosiglitazone</th>\n      <th>Metformin-pioglitazone</th>\n      <th>Change</th>\n      <th>DiabetesMed</th>\n      <th>Readmitted</th>\n    </tr>\n  </thead>\n  <tbody>\n    <tr>\n      <th>0</th>\n      <td>2278392</td>\n      <td>8222157</td>\n      <td>Caucasian</td>\n      <td>Female</td>\n      <td>[0-10)</td>\n      <td>NaN</td>\n      <td>6</td>\n      <td>25</td>\n      <td>1</td>\n      <td>1</td>\n      <td>...</td>\n      <td>No</td>\n      <td>No</td>\n      <td>No</td>\n      <td>No</td>\n      <td>No</td>\n      <td>No</td>\n      <td>No</td>\n      <td>No</td>\n      <td>No</td>\n      <td>NO</td>\n    </tr>\n    <tr>\n      <th>1</th>\n      <td>149190</td>\n      <td>55629189</td>\n      <td>Caucasian</td>\n      <td>Female</td>\n      <td>[10-20)</td>\n      <td>NaN</td>\n      <td>1</td>\n      <td>1</td>\n      <td>7</td>\n      <td>3</td>\n      <td>...</td>\n      <td>No</td>\n      <td>Up</td>\n      <td>No</td>\n      <td>No</td>\n      <td>No</td>\n      <td>No</td>\n      <td>No</td>\n      <td>Ch</td>\n      <td>Yes</td>\n      <td>&gt;30</td>\n    </tr>\n    <tr>\n      <th>2</th>\n      <td>64410</td>\n      <td>86047875</td>\n      <td>AfricanAmerican</td>\n      <td>Female</td>\n      <td>[20-30)</td>\n      <td>NaN</td>\n      <td>1</td>\n      <td>1</td>\n      <td>7</td>\n      <td>2</td>\n      <td>...</td>\n      <td>No</td>\n      <td>No</td>\n      <td>No</td>\n      <td>No</td>\n      <td>No</td>\n      <td>No</td>\n      <td>No</td>\n      <td>No</td>\n      <td>Yes</td>\n      <td>NO</td>\n    </tr>\n    <tr>\n      <th>3</th>\n      <td>500364</td>\n      <td>82442376</td>\n      <td>Caucasian</td>\n      <td>Male</td>\n      <td>[30-40)</td>\n      <td>NaN</td>\n      <td>1</td>\n      <td>1</td>\n      <td>7</td>\n      <td>2</td>\n      <td>...</td>\n      <td>No</td>\n      <td>Up</td>\n      <td>No</td>\n      <td>No</td>\n      <td>No</td>\n      <td>No</td>\n      <td>No</td>\n      <td>Ch</td>\n      <td>Yes</td>\n      <td>NO</td>\n    </tr>\n    <tr>\n      <th>4</th>\n      <td>16680</td>\n      <td>42519267</td>\n      <td>Caucasian</td>\n      <td>Male</td>\n      <td>[40-50)</td>\n      <td>NaN</td>\n      <td>1</td>\n      <td>1</td>\n      <td>7</td>\n      <td>1</td>\n      <td>...</td>\n      <td>No</td>\n      <td>Steady</td>\n      <td>No</td>\n      <td>No</td>\n      <td>No</td>\n      <td>No</td>\n      <td>No</td>\n      <td>Ch</td>\n      <td>Yes</td>\n      <td>NO</td>\n    </tr>\n  </tbody>\n</table>\n<p>5 rows × 50 columns</p>\n</div>"
     },
     "execution_count": 167,
     "metadata": {},
     "output_type": "execute_result"
    }
   ],
   "source": [
    "import numpy as np\n",
    "\n",
    "df.replace(\"?\", np.nan, inplace = True)\n",
    "df.head(5)"
   ]
  },
  {
   "cell_type": "markdown",
   "source": [
    "<h2>Analyze data loss among restored dataframe.</h2>\n",
    "\n",
    "Here we will investigate how much data we will lose after replacing it by mean and the most frequent value."
   ],
   "metadata": {
    "collapsed": false
   }
  },
  {
   "cell_type": "code",
   "execution_count": 168,
   "outputs": [],
   "source": [
    "#this code creates new dataframes df2 df3_clean removes all nan values from columns\n",
    "df2 = pd.read_csv(filename)\n",
    "df2.columns = headers\n",
    "df2.replace(\"?\", np.nan, inplace = True)\n",
    "#here we drops nan data in mentioned columns\n",
    "df2.dropna(subset=[\"Race\"], axis=0, inplace=True)\n",
    "df2.dropna(subset=[\"TimeInHospital\"], axis=0, inplace=True)\n",
    "df2.dropna(subset=[\"Gender\"], axis=0, inplace=True)\n",
    "df2.dropna(subset=[\"NumLabProcedures\"], axis=0, inplace=True)\n",
    "df2.dropna(subset=[\"DiabetesMed\"], axis=0, inplace=True)\n",
    "df2.to_csv('toCheck.csv1')\n",
    "df3_clean = df2.copy()\n",
    "\n",
    "#this part generates nan values among columns\n",
    "l = [0.15, 0.1, 0.12, 0.1, 0.01]\n",
    "col = ['Race', 'TimeInHospital', 'Gender', 'NumLabProcedures', 'DiabetesMed']\n",
    "for i in range(len(l)):\n",
    "    m = np.random.rand(len(df2))\n",
    "    mask = m < l[i]\n",
    "    df2.loc[mask, col[i]] = np.NaN\n"
   ],
   "metadata": {
    "collapsed": false,
    "pycharm": {
     "name": "#%%\n"
    }
   }
  },
  {
   "cell_type": "markdown",
   "source": [
    "After adding nan values we need to restore columns by different methods."
   ],
   "metadata": {
    "collapsed": false,
    "pycharm": {
     "name": "#%% md\n"
    }
   }
  },
  {
   "cell_type": "code",
   "execution_count": 169,
   "outputs": [],
   "source": [
    "# replacing nan values by the most frequent value\n",
    "avg_race = df2['Race'].value_counts().idxmax()\n",
    "df2['Race'].replace(np.nan, avg_race, inplace=True)\n",
    "\n",
    "avg_gender = df2['Gender'].value_counts().idxmax()\n",
    "df2['Gender'].replace(np.nan, avg_gender, inplace=True)\n",
    "\n",
    "diabetes_meds = df2['DiabetesMed'].value_counts().idxmax()\n",
    "df2['DiabetesMed'].replace(np.nan, diabetes_meds, inplace=True)\n",
    "\n",
    "# replacing nan values mean value\n",
    "lab_procedures = df2['NumLabProcedures'].astype('float').mean(axis=0)\n",
    "df2['NumLabProcedures'].replace(np.nan, lab_procedures, inplace=True)\n",
    "\n",
    "avg_time_in_hospital = df2['TimeInHospital'].astype('float').mean(axis=0)\n",
    "df2['TimeInHospital'].replace(np.nan, avg_time_in_hospital, inplace=True)"
   ],
   "metadata": {
    "collapsed": false,
    "pycharm": {
     "name": "#%%\n"
    }
   }
  },
  {
   "cell_type": "markdown",
   "source": [
    "To find error we will use sklearn.metrics, .mean_absolute_percentage_error for float variables and .recall_score for object values."
   ],
   "metadata": {
    "collapsed": false,
    "pycharm": {
     "name": "#%% md\n"
    }
   }
  },
  {
   "cell_type": "code",
   "execution_count": 170,
   "outputs": [
    {
     "name": "stdout",
     "output_type": "stream",
     "text": [
      "Error of Race : 3 %\n",
      "Error of Gender : 5 %\n",
      "Error of DiabetesMed :  0 %\n",
      "Error of NumLabProcedures:  3 %\n",
      "Error of TimeInHospital:  5 %\n"
     ]
    }
   ],
   "source": [
    "from sklearn.metrics import mean_absolute_percentage_error\n",
    "from sklearn.metrics import recall_score\n",
    "import math\n",
    "\n",
    "cm = recall_score(df3_clean['Race'],df2['Race'],average='micro')\n",
    "print(\"Error of Race :\", math.trunc((1 - cm)*100),'%')\n",
    "\n",
    "cm = recall_score(df3_clean['Gender'],df2['Gender'],average='micro')\n",
    "print(\"Error of Gender :\", math.trunc((1 - cm)*100),'%')\n",
    "\n",
    "cm = recall_score(df3_clean['DiabetesMed'],df2['DiabetesMed'],average='micro')\n",
    "print(\"Error of DiabetesMed : \", math.trunc((1 - cm)*100),'%')\n",
    "\n",
    "num_lab_procedures_error = mean_absolute_percentage_error(df2['NumLabProcedures'], df3_clean['NumLabProcedures'])\n",
    "print('Error of NumLabProcedures: ', math.trunc(num_lab_procedures_error*100),'%')\n",
    "\n",
    "time_in_hospital_error = mean_absolute_percentage_error(df2['TimeInHospital'], df3_clean['TimeInHospital'])\n",
    "print('Error of TimeInHospital: ', math.trunc(time_in_hospital_error*100),'%')"
   ],
   "metadata": {
    "collapsed": false,
    "pycharm": {
     "name": "#%%\n"
    }
   }
  },
  {
   "cell_type": "markdown",
   "source": [
    "As we can notice error is low, from 0.2% to 5.3%. So we can rely on this type of data recovering."
   ],
   "metadata": {
    "collapsed": false,
    "pycharm": {
     "name": "#%% md\n"
    }
   }
  },
  {
   "cell_type": "markdown",
   "metadata": {},
   "source": [
    "<h4>Evaluating for Missing Data</h4>\n",
    "\n",
    "The missing values are converted by default. We use the following functions to identify these missing values. There are two methods to detect missing data:\n",
    "<ol>\n",
    "    <li><b>.isnull()</b></li>\n",
    "    <li><b>.notnull()</b></li>\n",
    "</ol>\n",
    "The output is a boolean value indicating whether the value that is passed into the argument is in fact missing data.\n"
   ]
  },
  {
   "cell_type": "code",
   "execution_count": 171,
   "metadata": {},
   "outputs": [
    {
     "data": {
      "text/plain": "   EncounterId  PatientNbr   Race  Gender    Age  Weight  AdmissionTypeId  \\\n0        False       False  False   False  False    True            False   \n1        False       False  False   False  False    True            False   \n2        False       False  False   False  False    True            False   \n3        False       False  False   False  False    True            False   \n4        False       False  False   False  False    True            False   \n\n   DischargeDispositionId  AdmissionSourceId  TimeInHospital  ...  \\\n0                   False              False           False  ...   \n1                   False              False           False  ...   \n2                   False              False           False  ...   \n3                   False              False           False  ...   \n4                   False              False           False  ...   \n\n   Citoglipton  Insulin  Glyburide-metformin  Glipizide-metformin  \\\n0        False    False                False                False   \n1        False    False                False                False   \n2        False    False                False                False   \n3        False    False                False                False   \n4        False    False                False                False   \n\n   Glimepiride-pioglitazone  Metformin-rosiglitazone  Metformin-pioglitazone  \\\n0                     False                    False                   False   \n1                     False                    False                   False   \n2                     False                    False                   False   \n3                     False                    False                   False   \n4                     False                    False                   False   \n\n   Change  DiabetesMed  Readmitted  \n0   False        False       False  \n1   False        False       False  \n2   False        False       False  \n3   False        False       False  \n4   False        False       False  \n\n[5 rows x 50 columns]",
      "text/html": "<div>\n<style scoped>\n    .dataframe tbody tr th:only-of-type {\n        vertical-align: middle;\n    }\n\n    .dataframe tbody tr th {\n        vertical-align: top;\n    }\n\n    .dataframe thead th {\n        text-align: right;\n    }\n</style>\n<table border=\"1\" class=\"dataframe\">\n  <thead>\n    <tr style=\"text-align: right;\">\n      <th></th>\n      <th>EncounterId</th>\n      <th>PatientNbr</th>\n      <th>Race</th>\n      <th>Gender</th>\n      <th>Age</th>\n      <th>Weight</th>\n      <th>AdmissionTypeId</th>\n      <th>DischargeDispositionId</th>\n      <th>AdmissionSourceId</th>\n      <th>TimeInHospital</th>\n      <th>...</th>\n      <th>Citoglipton</th>\n      <th>Insulin</th>\n      <th>Glyburide-metformin</th>\n      <th>Glipizide-metformin</th>\n      <th>Glimepiride-pioglitazone</th>\n      <th>Metformin-rosiglitazone</th>\n      <th>Metformin-pioglitazone</th>\n      <th>Change</th>\n      <th>DiabetesMed</th>\n      <th>Readmitted</th>\n    </tr>\n  </thead>\n  <tbody>\n    <tr>\n      <th>0</th>\n      <td>False</td>\n      <td>False</td>\n      <td>False</td>\n      <td>False</td>\n      <td>False</td>\n      <td>True</td>\n      <td>False</td>\n      <td>False</td>\n      <td>False</td>\n      <td>False</td>\n      <td>...</td>\n      <td>False</td>\n      <td>False</td>\n      <td>False</td>\n      <td>False</td>\n      <td>False</td>\n      <td>False</td>\n      <td>False</td>\n      <td>False</td>\n      <td>False</td>\n      <td>False</td>\n    </tr>\n    <tr>\n      <th>1</th>\n      <td>False</td>\n      <td>False</td>\n      <td>False</td>\n      <td>False</td>\n      <td>False</td>\n      <td>True</td>\n      <td>False</td>\n      <td>False</td>\n      <td>False</td>\n      <td>False</td>\n      <td>...</td>\n      <td>False</td>\n      <td>False</td>\n      <td>False</td>\n      <td>False</td>\n      <td>False</td>\n      <td>False</td>\n      <td>False</td>\n      <td>False</td>\n      <td>False</td>\n      <td>False</td>\n    </tr>\n    <tr>\n      <th>2</th>\n      <td>False</td>\n      <td>False</td>\n      <td>False</td>\n      <td>False</td>\n      <td>False</td>\n      <td>True</td>\n      <td>False</td>\n      <td>False</td>\n      <td>False</td>\n      <td>False</td>\n      <td>...</td>\n      <td>False</td>\n      <td>False</td>\n      <td>False</td>\n      <td>False</td>\n      <td>False</td>\n      <td>False</td>\n      <td>False</td>\n      <td>False</td>\n      <td>False</td>\n      <td>False</td>\n    </tr>\n    <tr>\n      <th>3</th>\n      <td>False</td>\n      <td>False</td>\n      <td>False</td>\n      <td>False</td>\n      <td>False</td>\n      <td>True</td>\n      <td>False</td>\n      <td>False</td>\n      <td>False</td>\n      <td>False</td>\n      <td>...</td>\n      <td>False</td>\n      <td>False</td>\n      <td>False</td>\n      <td>False</td>\n      <td>False</td>\n      <td>False</td>\n      <td>False</td>\n      <td>False</td>\n      <td>False</td>\n      <td>False</td>\n    </tr>\n    <tr>\n      <th>4</th>\n      <td>False</td>\n      <td>False</td>\n      <td>False</td>\n      <td>False</td>\n      <td>False</td>\n      <td>True</td>\n      <td>False</td>\n      <td>False</td>\n      <td>False</td>\n      <td>False</td>\n      <td>...</td>\n      <td>False</td>\n      <td>False</td>\n      <td>False</td>\n      <td>False</td>\n      <td>False</td>\n      <td>False</td>\n      <td>False</td>\n      <td>False</td>\n      <td>False</td>\n      <td>False</td>\n    </tr>\n  </tbody>\n</table>\n<p>5 rows × 50 columns</p>\n</div>"
     },
     "execution_count": 171,
     "metadata": {},
     "output_type": "execute_result"
    }
   ],
   "source": [
    "missing_data = df.isnull()\n",
    "missing_data.head(5)"
   ]
  },
  {
   "cell_type": "markdown",
   "metadata": {},
   "source": [
    "\"True\" means the value is a missing value while \"False\" means the value is not a missing value.\n"
   ]
  },
  {
   "cell_type": "markdown",
   "metadata": {},
   "source": [
    "<h4>Count missing values in each column</h4>\n",
    "<p>\n",
    "Using a for loop in Python, we can quickly figure out the number of missing values in each column. As mentioned above, \"True\" represents a missing value and \"False\" means the value is present in the dataset.  In the body of the for loop the method \".value_counts()\" counts the number of \"True\" values. \n",
    "</p>\n"
   ]
  },
  {
   "cell_type": "code",
   "execution_count": 172,
   "metadata": {},
   "outputs": [
    {
     "name": "stdout",
     "output_type": "stream",
     "text": [
      "EncounterId\n",
      "False    101766\n",
      "Name: EncounterId, dtype: int64\n",
      "\n",
      "PatientNbr\n",
      "False    101766\n",
      "Name: PatientNbr, dtype: int64\n",
      "\n",
      "Race\n",
      "False    99493\n",
      "True      2273\n",
      "Name: Race, dtype: int64\n",
      "\n",
      "Gender\n",
      "False    101766\n",
      "Name: Gender, dtype: int64\n",
      "\n",
      "Age\n",
      "False    101766\n",
      "Name: Age, dtype: int64\n",
      "\n",
      "Weight\n",
      "True     98569\n",
      "False     3197\n",
      "Name: Weight, dtype: int64\n",
      "\n",
      "AdmissionTypeId\n",
      "False    101766\n",
      "Name: AdmissionTypeId, dtype: int64\n",
      "\n",
      "DischargeDispositionId\n",
      "False    101766\n",
      "Name: DischargeDispositionId, dtype: int64\n",
      "\n",
      "AdmissionSourceId\n",
      "False    101766\n",
      "Name: AdmissionSourceId, dtype: int64\n",
      "\n",
      "TimeInHospital\n",
      "False    101766\n",
      "Name: TimeInHospital, dtype: int64\n",
      "\n",
      "PayerCode\n",
      "False    61510\n",
      "True     40256\n",
      "Name: PayerCode, dtype: int64\n",
      "\n",
      "MedicalSpecialty\n",
      "False    51817\n",
      "True     49949\n",
      "Name: MedicalSpecialty, dtype: int64\n",
      "\n",
      "NumLabProcedures\n",
      "False    101766\n",
      "Name: NumLabProcedures, dtype: int64\n",
      "\n",
      "NumProcedures\n",
      "False    101766\n",
      "Name: NumProcedures, dtype: int64\n",
      "\n",
      "NumMedications\n",
      "False    101766\n",
      "Name: NumMedications, dtype: int64\n",
      "\n",
      "NumberOutpatient\n",
      "False    101766\n",
      "Name: NumberOutpatient, dtype: int64\n",
      "\n",
      "NumberEmergency\n",
      "False    101766\n",
      "Name: NumberEmergency, dtype: int64\n",
      "\n",
      "NumberInpatient\n",
      "False    101766\n",
      "Name: NumberInpatient, dtype: int64\n",
      "\n",
      "Diagnosis1\n",
      "False    101745\n",
      "True         21\n",
      "Name: Diagnosis1, dtype: int64\n",
      "\n",
      "Diagnosis2\n",
      "False    101408\n",
      "True        358\n",
      "Name: Diagnosis2, dtype: int64\n",
      "\n",
      "Diagnosis3\n",
      "False    100343\n",
      "True       1423\n",
      "Name: Diagnosis3, dtype: int64\n",
      "\n",
      "NumberDiagnoses\n",
      "False    101766\n",
      "Name: NumberDiagnoses, dtype: int64\n",
      "\n",
      "MaxGluSerum\n",
      "False    101766\n",
      "Name: MaxGluSerum, dtype: int64\n",
      "\n",
      "A1Cresult\n",
      "False    101766\n",
      "Name: A1Cresult, dtype: int64\n",
      "\n",
      "Metformin\n",
      "False    101766\n",
      "Name: Metformin, dtype: int64\n",
      "\n",
      "Repaglinide\n",
      "False    101766\n",
      "Name: Repaglinide, dtype: int64\n",
      "\n",
      "Nateglinide\n",
      "False    101766\n",
      "Name: Nateglinide, dtype: int64\n",
      "\n",
      "Chlorpropamide\n",
      "False    101766\n",
      "Name: Chlorpropamide, dtype: int64\n",
      "\n",
      "Glimepiride\n",
      "False    101766\n",
      "Name: Glimepiride, dtype: int64\n",
      "\n",
      "Acetohexamide\n",
      "False    101766\n",
      "Name: Acetohexamide, dtype: int64\n",
      "\n",
      "Glipizide\n",
      "False    101766\n",
      "Name: Glipizide, dtype: int64\n",
      "\n",
      "Glyburide\n",
      "False    101766\n",
      "Name: Glyburide, dtype: int64\n",
      "\n",
      "Tolbutamide\n",
      "False    101766\n",
      "Name: Tolbutamide, dtype: int64\n",
      "\n",
      "Pioglitazone\n",
      "False    101766\n",
      "Name: Pioglitazone, dtype: int64\n",
      "\n",
      "Rosiglitazone\n",
      "False    101766\n",
      "Name: Rosiglitazone, dtype: int64\n",
      "\n",
      "Acarbose\n",
      "False    101766\n",
      "Name: Acarbose, dtype: int64\n",
      "\n",
      "Miglitol\n",
      "False    101766\n",
      "Name: Miglitol, dtype: int64\n",
      "\n",
      "Troglitazone\n",
      "False    101766\n",
      "Name: Troglitazone, dtype: int64\n",
      "\n",
      "Tolazamide\n",
      "False    101766\n",
      "Name: Tolazamide, dtype: int64\n",
      "\n",
      "Examide\n",
      "False    101766\n",
      "Name: Examide, dtype: int64\n",
      "\n",
      "Citoglipton\n",
      "False    101766\n",
      "Name: Citoglipton, dtype: int64\n",
      "\n",
      "Insulin\n",
      "False    101766\n",
      "Name: Insulin, dtype: int64\n",
      "\n",
      "Glyburide-metformin\n",
      "False    101766\n",
      "Name: Glyburide-metformin, dtype: int64\n",
      "\n",
      "Glipizide-metformin\n",
      "False    101766\n",
      "Name: Glipizide-metformin, dtype: int64\n",
      "\n",
      "Glimepiride-pioglitazone\n",
      "False    101766\n",
      "Name: Glimepiride-pioglitazone, dtype: int64\n",
      "\n",
      "Metformin-rosiglitazone\n",
      "False    101766\n",
      "Name: Metformin-rosiglitazone, dtype: int64\n",
      "\n",
      "Metformin-pioglitazone\n",
      "False    101766\n",
      "Name: Metformin-pioglitazone, dtype: int64\n",
      "\n",
      "Change\n",
      "False    101766\n",
      "Name: Change, dtype: int64\n",
      "\n",
      "DiabetesMed\n",
      "False    101766\n",
      "Name: DiabetesMed, dtype: int64\n",
      "\n",
      "Readmitted\n",
      "False    101766\n",
      "Name: Readmitted, dtype: int64\n",
      "\n"
     ]
    }
   ],
   "source": [
    "for column in missing_data.columns.values.tolist():\n",
    "    print(column)\n",
    "    print (missing_data[column].value_counts())\n",
    "    print(\"\")    "
   ]
  },
  {
   "cell_type": "markdown",
   "metadata": {},
   "source": [
    "Based on the summary above, each column has 101766 rows of data and seven of the columns containing missing data:\n",
    "\n",
    "<ol>\n",
    "    <li>\"Race\": 2273 missing data</li>\n",
    "    <li>\"Weights\": 98569 missing data</li>\n",
    "    <li>\"PayerCode\": 40256 missing data</li>\n",
    "    <li>\"MedicalSpecialty\" : 49949 missing data</li>\n",
    "    <li>\"Diagnosis1\": 21 missing data</li>\n",
    "    <li>\"Diagnosis2\": 358 missing data</li>\n",
    "    <li>\"Diagnosis3\": 1423 missing data</li>\n",
    "</ol>\n"
   ]
  },
  {
   "cell_type": "markdown",
   "metadata": {},
   "source": [
    "<h3 id=\"deal_missing_values\">Deal with missing data</h3>\n",
    "<b>How to deal with missing data?</b>\n",
    "\n",
    "<ol>\n",
    "    <li>Drop data<br>\n",
    "        a. Drop the whole row<br>\n",
    "        b. Drop the whole column\n",
    "    </li>\n",
    "    <li>Replace data<br>\n",
    "        a. Replace it by mean<br>\n",
    "        b. Replace it by frequency<br>\n",
    "        c. Replace it based on other functions\n",
    "    </li>\n",
    "</ol>\n"
   ]
  },
  {
   "cell_type": "markdown",
   "metadata": {},
   "source": [
    "Whole columns should be dropped only if most entries in the column are empty. In our dataset, none of the columns are empty enough to drop entirely.\n",
    "We have some freedom in choosing which method to replace data; however, some methods may seem more reasonable than others. We will apply some of these methods to different columns:\n",
    "\n",
    "<b>Replace by frequency:</b>\n",
    "<ul>\n",
    "    <li>\"Race\": 2273 missing data\n",
    "        <ul>\n",
    "            <li>Reason: \"Race\" column cannot be replaced by mean value, so the obvious decision would be to find the most frequent value and replace Nan data.</li>\n",
    "        </ul>\n",
    "    </li>\n",
    "    <li>\"PayerCode\": 40256 missing data\n",
    "        <ul>\n",
    "            <li>Reason: \"PayerCode\" column cannot be replaced by mean value, and 40256 rows are too much to simply throw away. So just replace empty rows with the most frequent value.</li>\n",
    "        </ul>\n",
    "    </li>\n",
    "    <li>\"MedicalSpecialty\" : 49949 missing data</li>\n",
    "     <ul>\n",
    "            <li>Reason: \"MedicalSpecialty\" column cannot be replaced by mean value, and thrown away. So replace them with the most frequent value.</li>\n",
    "        </ul>\n",
    "    <li>\"Diagnosis2\": 358 missing data, replace it with the most frequent value.</li>\n",
    "    <li>\"Diagnosis3\": 1423 missing data, replace it with the most frequent value.</li>\n",
    "</ul>\n",
    "<b>Drop the whole row:</b>\n",
    "<ul>\n",
    "    <li>\"Diagnosis1\": 21 missing rows is not much, so simply delete them.</li>\n",
    "</ul>"
   ]
  },
  {
   "cell_type": "markdown",
   "metadata": {},
   "source": [
    "<div class=\"alert alert-danger alertdanger\" style=\"margin-top: 20px\">\n",
    "<h1> Question  #1: </h1>\n",
    "\n",
    "<b>Based on the example above, replace NaN in \"PayerCode\" column with the most frequent value.</b>\n",
    "\n",
    "</div>"
   ]
  },
  {
   "cell_type": "code",
   "execution_count": 173,
   "metadata": {
    "collapsed": false,
    "jupyter": {
     "outputs_hidden": false
    },
    "pycharm": {
     "name": "#%%\n"
    }
   },
   "outputs": [],
   "source": [
    "# Write your code below and press Shift+Enter to execute\n"
   ]
  },
  {
   "cell_type": "markdown",
   "metadata": {},
   "source": [
    "<details><summary>Click here for the solution</summary>\n",
    "\n",
    "```python\n",
    "#Calculate the most frequent vaule for \"PayerCode\" column\n",
    "avg_payer_code = df[\"PayerCode\"].value_counts().idxmax()\n",
    "print(\"Average payer code:\", avg_payer_code)\n",
    "\n",
    "# Replace \"NaN\" with the mean value in the \"PayerCode\" column</h4>\n",
    "\n",
    "df['PayerCode'].replace(np.nan, avg_payer_code, inplace=True)\n",
    "```\n",
    "</details>"
   ]
  },
  {
   "cell_type": "markdown",
   "metadata": {
    "pycharm": {
     "name": "#%% md\n"
    }
   },
   "source": [
    "<h4>Calculating the mean value for column</h4>"
   ]
  },
  {
   "cell_type": "raw",
   "metadata": {
    "pycharm": {
     "name": "#%% raw\n"
    }
   },
   "source": [
    "avg_column = df['column'].astype('float').mean(axis=0)\n",
    "print(\"Average column:\", avg_column)"
   ]
  },
  {
   "cell_type": "markdown",
   "metadata": {},
   "source": [
    "<h4>Replace \"NaN\" with the mean value in the column</h4>"
   ]
  },
  {
   "cell_type": "raw",
   "metadata": {
    "pycharm": {
     "name": "#%% raw\n"
    }
   },
   "source": [
    "df['column'].replace(np.nan, avg_column, inplace=True)"
   ]
  },
  {
   "cell_type": "markdown",
   "metadata": {},
   "source": [
    "<h4>Calculate the most frequent value for the \"Race\",Diagnosis2\",\"Diagnosis3\" column</h4>"
   ]
  },
  {
   "cell_type": "code",
   "execution_count": 174,
   "metadata": {
    "pycharm": {
     "name": "#%%\n"
    }
   },
   "outputs": [
    {
     "name": "stdout",
     "output_type": "stream",
     "text": [
      "Average Race: Caucasian\n",
      "Average second diagnosis: 276\n",
      "Average third diagnosis: 250\n"
     ]
    }
   ],
   "source": [
    "avg_race = df['Race'].value_counts().idxmax()\n",
    "avg_diagnosis_2 = df['Diagnosis2'].value_counts().idxmax()\n",
    "avg_diagnosis_3 = df['Diagnosis3'].value_counts().idxmax()\n",
    "\n",
    "print(\"Average Race:\", avg_race)\n",
    "print(\"Average second diagnosis:\", avg_diagnosis_2)\n",
    "print(\"Average third diagnosis:\", avg_diagnosis_3)\n"
   ]
  },
  {
   "cell_type": "markdown",
   "metadata": {},
   "source": [
    "<h4>Replace \"NaN\" with the mean value in the \"Race\",Diagnosis2\",\"Diagnosis3\" column</h4>\n"
   ]
  },
  {
   "cell_type": "code",
   "execution_count": 175,
   "metadata": {
    "collapsed": false,
    "jupyter": {
     "outputs_hidden": false
    },
    "pycharm": {
     "name": "#%%\n"
    }
   },
   "outputs": [],
   "source": [
    "df['Race'].replace(np.nan, avg_race, inplace=True)\n",
    "df['Diagnosis2'].replace(np.nan, avg_diagnosis_2, inplace=True)\n",
    "df['Diagnosis3'].replace(np.nan, avg_diagnosis_3, inplace=True)"
   ]
  },
  {
   "cell_type": "markdown",
   "metadata": {},
   "source": [
    "<h4>Calculate the most frequent value for \"PayerCode\" column</h4>\n"
   ]
  },
  {
   "cell_type": "code",
   "execution_count": 176,
   "metadata": {
    "collapsed": false,
    "jupyter": {
     "outputs_hidden": false
    },
    "pycharm": {
     "name": "#%%\n"
    }
   },
   "outputs": [
    {
     "name": "stdout",
     "output_type": "stream",
     "text": [
      "Average payer code: MC\n",
      "MC    32439\n",
      "HM     6274\n",
      "SP     5007\n",
      "BC     4655\n",
      "MD     3532\n",
      "CP     2533\n",
      "UN     2448\n",
      "CM     1937\n",
      "OG     1033\n",
      "PO      592\n",
      "DM      549\n",
      "CH      146\n",
      "WC      135\n",
      "OT       95\n",
      "MP       79\n",
      "SI       55\n",
      "FR        1\n",
      "Name: PayerCode, dtype: int64\n"
     ]
    }
   ],
   "source": [
    "avg_payer_code = df[\"PayerCode\"].value_counts().idxmax()\n",
    "print(\"Average payer code:\", avg_payer_code)\n",
    "print(df[\"PayerCode\"].value_counts())\n"
   ]
  },
  {
   "cell_type": "markdown",
   "metadata": {},
   "source": [
    "<h4>Replace \"NaN\" with the mean value in the \"PayerCode\" column</h4>\n"
   ]
  },
  {
   "cell_type": "code",
   "execution_count": 177,
   "metadata": {
    "collapsed": false,
    "jupyter": {
     "outputs_hidden": false
    },
    "pycharm": {
     "name": "#%%\n"
    }
   },
   "outputs": [],
   "source": [
    "df['PayerCode'].replace(np.nan, avg_payer_code, inplace=True)"
   ]
  },
  {
   "cell_type": "markdown",
   "metadata": {},
   "source": [
    "To see which values are present in a particular column, we can use the \".value_counts()\" method:\n"
   ]
  },
  {
   "cell_type": "code",
   "execution_count": 178,
   "metadata": {},
   "outputs": [
    {
     "data": {
      "text/plain": "InternalMedicine                    14635\nEmergency/Trauma                     7565\nFamily/GeneralPractice               7440\nCardiology                           5352\nSurgery-General                      3099\n                                    ...  \nPerinatology                            1\nNeurophysiology                         1\nPsychiatry-Addictive                    1\nPediatrics-InfectiousDiseases           1\nSurgery-PlasticwithinHeadandNeck        1\nName: MedicalSpecialty, Length: 72, dtype: int64"
     },
     "execution_count": 178,
     "metadata": {},
     "output_type": "execute_result"
    }
   ],
   "source": [
    "df['MedicalSpecialty'].value_counts()"
   ]
  },
  {
   "cell_type": "markdown",
   "metadata": {},
   "source": [
    "We can see that four doors are the most common type. We can also use the \".idxmax()\" method to calculate the most common type automatically:\n"
   ]
  },
  {
   "cell_type": "code",
   "execution_count": 179,
   "metadata": {},
   "outputs": [
    {
     "data": {
      "text/plain": "'InternalMedicine'"
     },
     "execution_count": 179,
     "metadata": {},
     "output_type": "execute_result"
    }
   ],
   "source": [
    "df['MedicalSpecialty'].value_counts().idxmax()"
   ]
  },
  {
   "cell_type": "markdown",
   "metadata": {},
   "source": [
    "The replacement procedure is very similar to what we have seen previously:\n"
   ]
  },
  {
   "cell_type": "code",
   "execution_count": 180,
   "metadata": {},
   "outputs": [],
   "source": [
    "#replace the missing \"MedicalSpecialty' values by the most frequent\n",
    "df[\"MedicalSpecialty\"].replace(np.nan, \"InternalMedicine\", inplace=True)"
   ]
  },
  {
   "cell_type": "markdown",
   "metadata": {},
   "source": [
    "Finally, let's drop all rows that do not have \"Diagnosis1\" data:"
   ]
  },
  {
   "cell_type": "code",
   "execution_count": 181,
   "metadata": {
    "pycharm": {
     "name": "#%%\n"
    }
   },
   "outputs": [],
   "source": [
    "# simply drop whole row with NaN in \"Diagnosis1\" column\n",
    "df.dropna(subset=[\"Diagnosis1\"], axis=0, inplace=True)\n",
    "\n",
    "# reset index, because we droped two rows\n",
    "df.reset_index(drop=True, inplace=True)"
   ]
  },
  {
   "cell_type": "code",
   "execution_count": 182,
   "metadata": {
    "collapsed": false,
    "jupyter": {
     "outputs_hidden": false
    },
    "pycharm": {
     "name": "#%%\n"
    }
   },
   "outputs": [
    {
     "data": {
      "text/plain": "   EncounterId  PatientNbr             Race  Gender      Age Weight  \\\n0      2278392     8222157        Caucasian  Female   [0-10)    NaN   \n1       149190    55629189        Caucasian  Female  [10-20)    NaN   \n2        64410    86047875  AfricanAmerican  Female  [20-30)    NaN   \n3       500364    82442376        Caucasian    Male  [30-40)    NaN   \n4        16680    42519267        Caucasian    Male  [40-50)    NaN   \n\n   AdmissionTypeId  DischargeDispositionId  AdmissionSourceId  TimeInHospital  \\\n0                6                      25                  1               1   \n1                1                       1                  7               3   \n2                1                       1                  7               2   \n3                1                       1                  7               2   \n4                1                       1                  7               1   \n\n   ... Citoglipton Insulin  Glyburide-metformin  Glipizide-metformin  \\\n0  ...          No      No                   No                   No   \n1  ...          No      Up                   No                   No   \n2  ...          No      No                   No                   No   \n3  ...          No      Up                   No                   No   \n4  ...          No  Steady                   No                   No   \n\n   Glimepiride-pioglitazone  Metformin-rosiglitazone  Metformin-pioglitazone  \\\n0                        No                       No                      No   \n1                        No                       No                      No   \n2                        No                       No                      No   \n3                        No                       No                      No   \n4                        No                       No                      No   \n\n   Change DiabetesMed Readmitted  \n0      No          No         NO  \n1      Ch         Yes        >30  \n2      No         Yes         NO  \n3      Ch         Yes         NO  \n4      Ch         Yes         NO  \n\n[5 rows x 50 columns]",
      "text/html": "<div>\n<style scoped>\n    .dataframe tbody tr th:only-of-type {\n        vertical-align: middle;\n    }\n\n    .dataframe tbody tr th {\n        vertical-align: top;\n    }\n\n    .dataframe thead th {\n        text-align: right;\n    }\n</style>\n<table border=\"1\" class=\"dataframe\">\n  <thead>\n    <tr style=\"text-align: right;\">\n      <th></th>\n      <th>EncounterId</th>\n      <th>PatientNbr</th>\n      <th>Race</th>\n      <th>Gender</th>\n      <th>Age</th>\n      <th>Weight</th>\n      <th>AdmissionTypeId</th>\n      <th>DischargeDispositionId</th>\n      <th>AdmissionSourceId</th>\n      <th>TimeInHospital</th>\n      <th>...</th>\n      <th>Citoglipton</th>\n      <th>Insulin</th>\n      <th>Glyburide-metformin</th>\n      <th>Glipizide-metformin</th>\n      <th>Glimepiride-pioglitazone</th>\n      <th>Metformin-rosiglitazone</th>\n      <th>Metformin-pioglitazone</th>\n      <th>Change</th>\n      <th>DiabetesMed</th>\n      <th>Readmitted</th>\n    </tr>\n  </thead>\n  <tbody>\n    <tr>\n      <th>0</th>\n      <td>2278392</td>\n      <td>8222157</td>\n      <td>Caucasian</td>\n      <td>Female</td>\n      <td>[0-10)</td>\n      <td>NaN</td>\n      <td>6</td>\n      <td>25</td>\n      <td>1</td>\n      <td>1</td>\n      <td>...</td>\n      <td>No</td>\n      <td>No</td>\n      <td>No</td>\n      <td>No</td>\n      <td>No</td>\n      <td>No</td>\n      <td>No</td>\n      <td>No</td>\n      <td>No</td>\n      <td>NO</td>\n    </tr>\n    <tr>\n      <th>1</th>\n      <td>149190</td>\n      <td>55629189</td>\n      <td>Caucasian</td>\n      <td>Female</td>\n      <td>[10-20)</td>\n      <td>NaN</td>\n      <td>1</td>\n      <td>1</td>\n      <td>7</td>\n      <td>3</td>\n      <td>...</td>\n      <td>No</td>\n      <td>Up</td>\n      <td>No</td>\n      <td>No</td>\n      <td>No</td>\n      <td>No</td>\n      <td>No</td>\n      <td>Ch</td>\n      <td>Yes</td>\n      <td>&gt;30</td>\n    </tr>\n    <tr>\n      <th>2</th>\n      <td>64410</td>\n      <td>86047875</td>\n      <td>AfricanAmerican</td>\n      <td>Female</td>\n      <td>[20-30)</td>\n      <td>NaN</td>\n      <td>1</td>\n      <td>1</td>\n      <td>7</td>\n      <td>2</td>\n      <td>...</td>\n      <td>No</td>\n      <td>No</td>\n      <td>No</td>\n      <td>No</td>\n      <td>No</td>\n      <td>No</td>\n      <td>No</td>\n      <td>No</td>\n      <td>Yes</td>\n      <td>NO</td>\n    </tr>\n    <tr>\n      <th>3</th>\n      <td>500364</td>\n      <td>82442376</td>\n      <td>Caucasian</td>\n      <td>Male</td>\n      <td>[30-40)</td>\n      <td>NaN</td>\n      <td>1</td>\n      <td>1</td>\n      <td>7</td>\n      <td>2</td>\n      <td>...</td>\n      <td>No</td>\n      <td>Up</td>\n      <td>No</td>\n      <td>No</td>\n      <td>No</td>\n      <td>No</td>\n      <td>No</td>\n      <td>Ch</td>\n      <td>Yes</td>\n      <td>NO</td>\n    </tr>\n    <tr>\n      <th>4</th>\n      <td>16680</td>\n      <td>42519267</td>\n      <td>Caucasian</td>\n      <td>Male</td>\n      <td>[40-50)</td>\n      <td>NaN</td>\n      <td>1</td>\n      <td>1</td>\n      <td>7</td>\n      <td>1</td>\n      <td>...</td>\n      <td>No</td>\n      <td>Steady</td>\n      <td>No</td>\n      <td>No</td>\n      <td>No</td>\n      <td>No</td>\n      <td>No</td>\n      <td>Ch</td>\n      <td>Yes</td>\n      <td>NO</td>\n    </tr>\n  </tbody>\n</table>\n<p>5 rows × 50 columns</p>\n</div>"
     },
     "execution_count": 182,
     "metadata": {},
     "output_type": "execute_result"
    }
   ],
   "source": [
    "df.head()\n"
   ]
  },
  {
   "cell_type": "markdown",
   "metadata": {},
   "source": [
    "<b>Good!</b> Now, we have a dataset with no missing values.\n"
   ]
  },
  {
   "cell_type": "markdown",
   "metadata": {},
   "source": [
    "<h3 id=\"correct_data_format\">Correct data format</h3>\n",
    "<b>We are almost there!</b>\n",
    "<p>The last step in data cleaning is checking and making sure that all data is in the correct format (int, float, text or other).</p>\n",
    "\n",
    "In Pandas, we use:\n",
    "\n",
    "<p><b>.dtype()</b> to check the data type</p>\n",
    "<p><b>.astype()</b> to change the data type</p>\n"
   ]
  },
  {
   "cell_type": "markdown",
   "metadata": {},
   "source": [
    "<h4>Let's list the data types for each column</h4>\n"
   ]
  },
  {
   "cell_type": "code",
   "execution_count": 183,
   "metadata": {},
   "outputs": [
    {
     "data": {
      "text/plain": "EncounterId                  int64\nPatientNbr                   int64\nRace                        object\nGender                      object\nAge                         object\nWeight                      object\nAdmissionTypeId              int64\nDischargeDispositionId       int64\nAdmissionSourceId            int64\nTimeInHospital               int64\nPayerCode                   object\nMedicalSpecialty            object\nNumLabProcedures             int64\nNumProcedures                int64\nNumMedications               int64\nNumberOutpatient             int64\nNumberEmergency              int64\nNumberInpatient              int64\nDiagnosis1                  object\nDiagnosis2                  object\nDiagnosis3                  object\nNumberDiagnoses              int64\nMaxGluSerum                 object\nA1Cresult                   object\nMetformin                   object\nRepaglinide                 object\nNateglinide                 object\nChlorpropamide              object\nGlimepiride                 object\nAcetohexamide               object\nGlipizide                   object\nGlyburide                   object\nTolbutamide                 object\nPioglitazone                object\nRosiglitazone               object\nAcarbose                    object\nMiglitol                    object\nTroglitazone                object\nTolazamide                  object\nExamide                     object\nCitoglipton                 object\nInsulin                     object\nGlyburide-metformin         object\nGlipizide-metformin         object\nGlimepiride-pioglitazone    object\nMetformin-rosiglitazone     object\nMetformin-pioglitazone      object\nChange                      object\nDiabetesMed                 object\nReadmitted                  object\ndtype: object"
     },
     "execution_count": 183,
     "metadata": {},
     "output_type": "execute_result"
    }
   ],
   "source": [
    "df.dtypes"
   ]
  },
  {
   "cell_type": "markdown",
   "metadata": {},
   "source": [
    "<p>As we can see above, some columns are not of the correct data type. Numerical variables should have type 'float' or 'int', and variables with strings should have type 'object'. For example, 'Gender', 'Age' variables are Object values that descraibes categorical data, so we should expect them to be 'category' type. We have to convert data types into a proper format for each column using the \"astype()\" method.</p>\n"
   ]
  },
  {
   "cell_type": "markdown",
   "metadata": {},
   "source": [
    "<h4>Convert data types to proper format</h4>\n"
   ]
  },
  {
   "cell_type": "code",
   "execution_count": 184,
   "metadata": {},
   "outputs": [],
   "source": [
    "df[[\"Gender\", \"Age\"]] = df[[\"Gender\", \"Age\"]].astype(\"category\")"
   ]
  },
  {
   "cell_type": "markdown",
   "metadata": {},
   "source": [
    "<h4>Let us list the columns after the conversion</h4>\n"
   ]
  },
  {
   "cell_type": "code",
   "execution_count": 185,
   "metadata": {},
   "outputs": [
    {
     "data": {
      "text/plain": "EncounterId                    int64\nPatientNbr                     int64\nRace                          object\nGender                      category\nAge                         category\nWeight                        object\nAdmissionTypeId                int64\nDischargeDispositionId         int64\nAdmissionSourceId              int64\nTimeInHospital                 int64\nPayerCode                     object\nMedicalSpecialty              object\nNumLabProcedures               int64\nNumProcedures                  int64\nNumMedications                 int64\nNumberOutpatient               int64\nNumberEmergency                int64\nNumberInpatient                int64\nDiagnosis1                    object\nDiagnosis2                    object\nDiagnosis3                    object\nNumberDiagnoses                int64\nMaxGluSerum                   object\nA1Cresult                     object\nMetformin                     object\nRepaglinide                   object\nNateglinide                   object\nChlorpropamide                object\nGlimepiride                   object\nAcetohexamide                 object\nGlipizide                     object\nGlyburide                     object\nTolbutamide                   object\nPioglitazone                  object\nRosiglitazone                 object\nAcarbose                      object\nMiglitol                      object\nTroglitazone                  object\nTolazamide                    object\nExamide                       object\nCitoglipton                   object\nInsulin                       object\nGlyburide-metformin           object\nGlipizide-metformin           object\nGlimepiride-pioglitazone      object\nMetformin-rosiglitazone       object\nMetformin-pioglitazone        object\nChange                        object\nDiabetesMed                   object\nReadmitted                    object\ndtype: object"
     },
     "execution_count": 185,
     "metadata": {},
     "output_type": "execute_result"
    }
   ],
   "source": [
    "df.dtypes"
   ]
  },
  {
   "cell_type": "markdown",
   "metadata": {},
   "source": [
    "<b>Wonderful!</b>\n",
    "\n",
    "Now we have finally obtained the cleaned dataset with no missing values with all data in its proper format.\n"
   ]
  },
  {
   "cell_type": "markdown",
   "metadata": {},
   "source": [
    "<h2 id=\"data_standardization\">Data Standardization</h2>\n",
    "<p>\n",
    "Data is usually collected from different agencies in different formats.\n",
    "(Data standardization is also a term for a particular type of data normalization where we subtract the mean and divide by the standard deviation.)\n",
    "</p>\n",
    "\n",
    "<b>What is standardization?</b>\n",
    "\n",
    "<p>Standardization is the process of transforming data into a common format, allowing the researcher to make the meaningful comparison.\n",
    "</p>\n",
    "\n",
    "<b>Example</b>\n",
    "\n",
    "<p>Transform mpg to L/100km:</p>\n",
    "<p>In our dataset, the fuel consumption columns \"city-mpg\" and \"highway-mpg\" are represented by mpg (miles per gallon) unit. Assume we are developing an application in a country that accepts the fuel consumption with L/100km standard.</p>\n",
    "<p>We will need to apply <b>data transformation</b> to transform mpg into L/100km.</p>\n"
   ]
  },
  {
   "cell_type": "markdown",
   "metadata": {},
   "source": [
    "<p>The code for unit conversion is:<p>\n",
    "df['DiabetesMed'] = 'Yes' == df[\"DiabetesMed\"]\n",
    "<p>If we need to, we can do many mathematical operations directly in Pandas.</p>\n"
   ]
  },
  {
   "cell_type": "code",
   "execution_count": 186,
   "metadata": {},
   "outputs": [
    {
     "data": {
      "text/plain": "   EncounterId  PatientNbr             Race  Gender      Age Weight  \\\n0      2278392     8222157        Caucasian  Female   [0-10)    NaN   \n1       149190    55629189        Caucasian  Female  [10-20)    NaN   \n2        64410    86047875  AfricanAmerican  Female  [20-30)    NaN   \n3       500364    82442376        Caucasian    Male  [30-40)    NaN   \n4        16680    42519267        Caucasian    Male  [40-50)    NaN   \n\n   AdmissionTypeId  DischargeDispositionId  AdmissionSourceId  TimeInHospital  \\\n0                6                      25                  1               1   \n1                1                       1                  7               3   \n2                1                       1                  7               2   \n3                1                       1                  7               2   \n4                1                       1                  7               1   \n\n   ... Citoglipton Insulin  Glyburide-metformin  Glipizide-metformin  \\\n0  ...          No      No                   No                   No   \n1  ...          No      Up                   No                   No   \n2  ...          No      No                   No                   No   \n3  ...          No      Up                   No                   No   \n4  ...          No  Steady                   No                   No   \n\n   Glimepiride-pioglitazone  Metformin-rosiglitazone  Metformin-pioglitazone  \\\n0                        No                       No                      No   \n1                        No                       No                      No   \n2                        No                       No                      No   \n3                        No                       No                      No   \n4                        No                       No                      No   \n\n   Change DiabetesMed Readmitted  \n0      No          No         NO  \n1      Ch         Yes        >30  \n2      No         Yes         NO  \n3      Ch         Yes         NO  \n4      Ch         Yes         NO  \n\n[5 rows x 50 columns]",
      "text/html": "<div>\n<style scoped>\n    .dataframe tbody tr th:only-of-type {\n        vertical-align: middle;\n    }\n\n    .dataframe tbody tr th {\n        vertical-align: top;\n    }\n\n    .dataframe thead th {\n        text-align: right;\n    }\n</style>\n<table border=\"1\" class=\"dataframe\">\n  <thead>\n    <tr style=\"text-align: right;\">\n      <th></th>\n      <th>EncounterId</th>\n      <th>PatientNbr</th>\n      <th>Race</th>\n      <th>Gender</th>\n      <th>Age</th>\n      <th>Weight</th>\n      <th>AdmissionTypeId</th>\n      <th>DischargeDispositionId</th>\n      <th>AdmissionSourceId</th>\n      <th>TimeInHospital</th>\n      <th>...</th>\n      <th>Citoglipton</th>\n      <th>Insulin</th>\n      <th>Glyburide-metformin</th>\n      <th>Glipizide-metformin</th>\n      <th>Glimepiride-pioglitazone</th>\n      <th>Metformin-rosiglitazone</th>\n      <th>Metformin-pioglitazone</th>\n      <th>Change</th>\n      <th>DiabetesMed</th>\n      <th>Readmitted</th>\n    </tr>\n  </thead>\n  <tbody>\n    <tr>\n      <th>0</th>\n      <td>2278392</td>\n      <td>8222157</td>\n      <td>Caucasian</td>\n      <td>Female</td>\n      <td>[0-10)</td>\n      <td>NaN</td>\n      <td>6</td>\n      <td>25</td>\n      <td>1</td>\n      <td>1</td>\n      <td>...</td>\n      <td>No</td>\n      <td>No</td>\n      <td>No</td>\n      <td>No</td>\n      <td>No</td>\n      <td>No</td>\n      <td>No</td>\n      <td>No</td>\n      <td>No</td>\n      <td>NO</td>\n    </tr>\n    <tr>\n      <th>1</th>\n      <td>149190</td>\n      <td>55629189</td>\n      <td>Caucasian</td>\n      <td>Female</td>\n      <td>[10-20)</td>\n      <td>NaN</td>\n      <td>1</td>\n      <td>1</td>\n      <td>7</td>\n      <td>3</td>\n      <td>...</td>\n      <td>No</td>\n      <td>Up</td>\n      <td>No</td>\n      <td>No</td>\n      <td>No</td>\n      <td>No</td>\n      <td>No</td>\n      <td>Ch</td>\n      <td>Yes</td>\n      <td>&gt;30</td>\n    </tr>\n    <tr>\n      <th>2</th>\n      <td>64410</td>\n      <td>86047875</td>\n      <td>AfricanAmerican</td>\n      <td>Female</td>\n      <td>[20-30)</td>\n      <td>NaN</td>\n      <td>1</td>\n      <td>1</td>\n      <td>7</td>\n      <td>2</td>\n      <td>...</td>\n      <td>No</td>\n      <td>No</td>\n      <td>No</td>\n      <td>No</td>\n      <td>No</td>\n      <td>No</td>\n      <td>No</td>\n      <td>No</td>\n      <td>Yes</td>\n      <td>NO</td>\n    </tr>\n    <tr>\n      <th>3</th>\n      <td>500364</td>\n      <td>82442376</td>\n      <td>Caucasian</td>\n      <td>Male</td>\n      <td>[30-40)</td>\n      <td>NaN</td>\n      <td>1</td>\n      <td>1</td>\n      <td>7</td>\n      <td>2</td>\n      <td>...</td>\n      <td>No</td>\n      <td>Up</td>\n      <td>No</td>\n      <td>No</td>\n      <td>No</td>\n      <td>No</td>\n      <td>No</td>\n      <td>Ch</td>\n      <td>Yes</td>\n      <td>NO</td>\n    </tr>\n    <tr>\n      <th>4</th>\n      <td>16680</td>\n      <td>42519267</td>\n      <td>Caucasian</td>\n      <td>Male</td>\n      <td>[40-50)</td>\n      <td>NaN</td>\n      <td>1</td>\n      <td>1</td>\n      <td>7</td>\n      <td>1</td>\n      <td>...</td>\n      <td>No</td>\n      <td>Steady</td>\n      <td>No</td>\n      <td>No</td>\n      <td>No</td>\n      <td>No</td>\n      <td>No</td>\n      <td>Ch</td>\n      <td>Yes</td>\n      <td>NO</td>\n    </tr>\n  </tbody>\n</table>\n<p>5 rows × 50 columns</p>\n</div>"
     },
     "execution_count": 186,
     "metadata": {},
     "output_type": "execute_result"
    }
   ],
   "source": [
    "df.head()"
   ]
  },
  {
   "cell_type": "markdown",
   "metadata": {},
   "source": [
    "<div class=\"alert alert-danger alertdanger\" style=\"margin-top: 20px\">\n",
    "<h1> Question  #2: </h1>\n",
    "\n",
    "<b>According to the example above, transform mpg to L/100km in the column of \"highway-mpg\" and change the name of column to \"highway-L/100km\".</b>\n",
    "\n",
    "</div>\n"
   ]
  },
  {
   "cell_type": "code",
   "execution_count": 187,
   "metadata": {},
   "outputs": [],
   "source": [
    "# Write your code below and press Shift+Enter to execute \n"
   ]
  },
  {
   "cell_type": "markdown",
   "metadata": {},
   "source": [
    "<details><summary>Click here for the solution</summary>\n",
    "\n",
    "```python\n",
    "# Convert Yes, No values to Boolean True, False\n",
    "df['DiabetesMed'] = 'Yes' == df[\"DiabetesMed\"]\n",
    "# rename column name from \"DiabetesMed\" to \"DiabetesMedication\"\n",
    "\n",
    "df.rename(columns={'DiabetesMed':'DiabetesMedication'}, inplace=True)\n",
    "\n",
    "# check your transformed data\n",
    "df.head()\n",
    "\n",
    "```\n",
    "\n",
    "</details>\n"
   ]
  },
  {
   "cell_type": "markdown",
   "metadata": {},
   "source": [
    "<h2 id=\"data_normalization\">Data Normalization</h2>\n",
    "\n",
    "<b>Why normalization?</b>\n",
    "\n",
    "<p>Normalization is the process of transforming values of several variables into a similar range. Typical normalizations include scaling the variable so the variable average is 0, scaling the variable so the variance is 1, or scaling the variable so the variable values range from 0 to 1.\n",
    "</p>\n",
    "\n",
    "<b>Example</b>\n",
    "\n",
    "<p>To demonstrate normalization, let's say we want to scale the columns \"NumberDiagnoses\" and \"NumLabProcedures\".</p>\n",
    "<p><b>Target:</b> would like to normalize those variables so their value ranges from 0 to 1</p>\n",
    "<p><b>Approach:</b> replace original value by (original value)/(maximum value)</p>\n"
   ]
  },
  {
   "cell_type": "code",
   "execution_count": 188,
   "metadata": {},
   "outputs": [],
   "source": [
    "import scipy.stats as stats\n",
    "\n",
    "df['NumberDiagnoses'] = df['NumberDiagnoses']/df['NumberDiagnoses'].max()\n"
   ]
  },
  {
   "cell_type": "markdown",
   "source": [
    "<h2>Testing for normality using statistical tests</h2>\n",
    "\n",
    "Here we will check the normality of the sample distribution using such tests as: the Shapiro–Wilk test, the Kolmogorov–Smirnov test, and the D'Agostino's test."
   ],
   "metadata": {
    "collapsed": false,
    "pycharm": {
     "name": "#%% md\n"
    }
   }
  },
  {
   "cell_type": "code",
   "execution_count": 189,
   "outputs": [
    {
     "name": "stderr",
     "output_type": "stream",
     "text": [
      "c:\\users\\s\\pycharmprojects\\pythonproject2\\venv\\lib\\site-packages\\scipy\\stats\\_morestats.py:1816: UserWarning: p-value may not be accurate for N > 5000.\n",
      "  warnings.warn(\"p-value may not be accurate for N > 5000.\")\n"
     ]
    },
    {
     "data": {
      "text/plain": "                    Test statistics  Value p\nShapiro–Wilk test          0.805627      0.0\nKolmogorov–Smirnov         0.562159      0.0\nD'Agostino's test       9864.112639      0.0",
      "text/html": "<div>\n<style scoped>\n    .dataframe tbody tr th:only-of-type {\n        vertical-align: middle;\n    }\n\n    .dataframe tbody tr th {\n        vertical-align: top;\n    }\n\n    .dataframe thead th {\n        text-align: right;\n    }\n</style>\n<table border=\"1\" class=\"dataframe\">\n  <thead>\n    <tr style=\"text-align: right;\">\n      <th></th>\n      <th>Test statistics</th>\n      <th>Value p</th>\n    </tr>\n  </thead>\n  <tbody>\n    <tr>\n      <th>Shapiro–Wilk test</th>\n      <td>0.805627</td>\n      <td>0.0</td>\n    </tr>\n    <tr>\n      <th>Kolmogorov–Smirnov</th>\n      <td>0.562159</td>\n      <td>0.0</td>\n    </tr>\n    <tr>\n      <th>D'Agostino's test</th>\n      <td>9864.112639</td>\n      <td>0.0</td>\n    </tr>\n  </tbody>\n</table>\n</div>"
     },
     "execution_count": 189,
     "metadata": {},
     "output_type": "execute_result"
    }
   ],
   "source": [
    "values = df[\"NumberDiagnoses\"]\n",
    "\n",
    "results = {\n",
    "    \"Shapiro–Wilk test\" : stats.shapiro(values),\n",
    "    \"Kolmogorov–Smirnov\" : stats.kstest(values, \"norm\"),\n",
    "    \"D'Agostino's test\" : stats.normaltest(values)\n",
    "}\n",
    "\n",
    "pd.DataFrame.from_dict(results, orient = \"index\", columns = [\"Test statistics\", \"Value p\"])"
   ],
   "metadata": {
    "collapsed": false,
    "pycharm": {
     "name": "#%%\n"
    }
   }
  },
  {
   "cell_type": "markdown",
   "source": [
    "According to the results of the tests, it can be reliably stated that this sample does not have a normal distribution law."
   ],
   "metadata": {
    "collapsed": false,
    "pycharm": {
     "name": "#%% md\n"
    }
   }
  },
  {
   "cell_type": "markdown",
   "metadata": {},
   "source": [
    "<div class=\"alert alert-danger alertdanger\" style=\"margin-top: 20px\">\n",
    "<h1> Question #3: </h1>\n",
    "\n",
    "<b>According to the example above, normalize the column \"NumLabProcedures\".</b>\n",
    "\n",
    "</div>\n"
   ]
  },
  {
   "cell_type": "code",
   "execution_count": 190,
   "metadata": {},
   "outputs": [],
   "source": [
    "# Write your code below and press Shift+Enter to execute"
   ]
  },
  {
   "cell_type": "markdown",
   "metadata": {},
   "source": [
    "<details><summary>Click here for the solution</summary>\n",
    "\n",
    "```python\n",
    "df['NumLabProcedures'] = df['NumLabProcedures']/df['NumLabProcedures'].max()\n",
    "\n",
    "# show the scaled columns\n",
    "df[[\"NumberDiagnoses\",\"NumLabProcedures\"]].head()\n",
    "\n",
    "```\n",
    "\n",
    "</details>"
   ]
  },
  {
   "cell_type": "markdown",
   "metadata": {},
   "source": [
    "Here we can see we've normalized \"NumberDiagnoses\" and \"NumLabProcedures\" in the range of \\[0,1].\n"
   ]
  },
  {
   "cell_type": "markdown",
   "metadata": {},
   "source": [
    "<h2 id=\"binning\">Binning</h2>\n",
    "<b>Why binning?</b>\n",
    "<p>\n",
    "    Binning is a process of transforming continuous numerical variables into discrete categorical 'bins' for grouped analysis.\n",
    "</p>\n",
    "\n",
    "<b>Example: </b>\n",
    "\n",
    "<p>In our dataset, \"Age\" is a real valued variable ranging from 0 to 100 and it has 10 unique values. What if we only care about the diabetes among 4 age groups child, young adults, middle-aged adults and old-aged adults? Can we rearrange them into four ‘bins' to simplify analysis? </p>\n",
    "\n",
    "<p>We will use the pandas method 'cut' to segment the 'Age' column into 4 bins.</p>\n"
   ]
  },
  {
   "cell_type": "markdown",
   "metadata": {},
   "source": [
    "<h3>Example of Binning Data In Pandas</h3>\n"
   ]
  },
  {
   "cell_type": "markdown",
   "metadata": {},
   "source": [
    "Convert data to correct format:\n"
   ]
  },
  {
   "cell_type": "code",
   "execution_count": 191,
   "metadata": {},
   "outputs": [],
   "source": [
    "df[\"Age\"]=df[\"Age\"].astype('category', copy=True)"
   ]
  },
  {
   "cell_type": "markdown",
   "metadata": {},
   "source": [
    "Let's plot the histogram of age to see what the distribution of age looks like.\n"
   ]
  },
  {
   "cell_type": "code",
   "execution_count": 192,
   "metadata": {},
   "outputs": [
    {
     "data": {
      "text/plain": "Text(0.5, 1.0, 'age distribution')"
     },
     "execution_count": 192,
     "metadata": {},
     "output_type": "execute_result"
    },
    {
     "data": {
      "text/plain": "<Figure size 640x480 with 1 Axes>",
      "image/png": "[encoded data removed]"
     },
     "metadata": {},
     "output_type": "display_data"
    }
   ],
   "source": [
    "%matplotlib inline\n",
    "import matplotlib as plt\n",
    "from matplotlib import pyplot\n",
    "plt.pyplot.hist(df[\"Age\"])\n",
    "\n",
    "# set x/y labels and plot title\n",
    "plt.pyplot.xlabel(\"age\")\n",
    "plt.pyplot.ylabel(\"count\")\n",
    "plt.pyplot.title(\"age distribution\")"
   ]
  },
  {
   "cell_type": "markdown",
   "metadata": {},
   "source": [
    "<p>Since we are building 4 bins, there should be 5 dividers, so numbers_generated = 5.</p>\n"
   ]
  },
  {
   "cell_type": "markdown",
   "metadata": {},
   "source": [
    "We build a bin array with a minimum value to a maximum value by using the bandwidth calculated above. The values will determine when one bin ends and another begins.\n",
    "\n"
   ]
  },
  {
   "cell_type": "markdown",
   "metadata": {},
   "source": [
    "We set group  names:\n"
   ]
  },
  {
   "cell_type": "code",
   "execution_count": 193,
   "metadata": {},
   "outputs": [],
   "source": [
    "group_names = ['Child', 'Young Adults', 'Middle-Aged Adults',\n",
    "            'Old-Aged Adults']"
   ]
  },
  {
   "cell_type": "markdown",
   "metadata": {},
   "source": [
    "We apply the function \"cut\" to determine what each value of `df['Age']` belongs to.\n"
   ]
  },
  {
   "cell_type": "code",
   "execution_count": 194,
   "metadata": {},
   "outputs": [
    {
     "data": {
      "text/plain": "         Age         ages-binned\n0     [0-10)               Child\n1    [10-20)               Child\n2    [20-30)        Young Adults\n3    [30-40)  Middle-Aged Adults\n4    [40-50)  Middle-Aged Adults\n5    [50-60)     Old-Aged Adults\n6    [60-70)     Old-Aged Adults\n7    [70-80)     Old-Aged Adults\n8    [80-90)     Old-Aged Adults\n9   [90-100)     Old-Aged Adults\n10   [40-50)  Middle-Aged Adults\n11   [60-70)     Old-Aged Adults\n12   [40-50)  Middle-Aged Adults\n13   [80-90)     Old-Aged Adults\n14   [60-70)     Old-Aged Adults\n15   [60-70)     Old-Aged Adults\n16   [50-60)     Old-Aged Adults\n17   [50-60)     Old-Aged Adults\n18   [70-80)     Old-Aged Adults\n19   [70-80)     Old-Aged Adults",
      "text/html": "<div>\n<style scoped>\n    .dataframe tbody tr th:only-of-type {\n        vertical-align: middle;\n    }\n\n    .dataframe tbody tr th {\n        vertical-align: top;\n    }\n\n    .dataframe thead th {\n        text-align: right;\n    }\n</style>\n<table border=\"1\" class=\"dataframe\">\n  <thead>\n    <tr style=\"text-align: right;\">\n      <th></th>\n      <th>Age</th>\n      <th>ages-binned</th>\n    </tr>\n  </thead>\n  <tbody>\n    <tr>\n      <th>0</th>\n      <td>[0-10)</td>\n      <td>Child</td>\n    </tr>\n    <tr>\n      <th>1</th>\n      <td>[10-20)</td>\n      <td>Child</td>\n    </tr>\n    <tr>\n      <th>2</th>\n      <td>[20-30)</td>\n      <td>Young Adults</td>\n    </tr>\n    <tr>\n      <th>3</th>\n      <td>[30-40)</td>\n      <td>Middle-Aged Adults</td>\n    </tr>\n    <tr>\n      <th>4</th>\n      <td>[40-50)</td>\n      <td>Middle-Aged Adults</td>\n    </tr>\n    <tr>\n      <th>5</th>\n      <td>[50-60)</td>\n      <td>Old-Aged Adults</td>\n    </tr>\n    <tr>\n      <th>6</th>\n      <td>[60-70)</td>\n      <td>Old-Aged Adults</td>\n    </tr>\n    <tr>\n      <th>7</th>\n      <td>[70-80)</td>\n      <td>Old-Aged Adults</td>\n    </tr>\n    <tr>\n      <th>8</th>\n      <td>[80-90)</td>\n      <td>Old-Aged Adults</td>\n    </tr>\n    <tr>\n      <th>9</th>\n      <td>[90-100)</td>\n      <td>Old-Aged Adults</td>\n    </tr>\n    <tr>\n      <th>10</th>\n      <td>[40-50)</td>\n      <td>Middle-Aged Adults</td>\n    </tr>\n    <tr>\n      <th>11</th>\n      <td>[60-70)</td>\n      <td>Old-Aged Adults</td>\n    </tr>\n    <tr>\n      <th>12</th>\n      <td>[40-50)</td>\n      <td>Middle-Aged Adults</td>\n    </tr>\n    <tr>\n      <th>13</th>\n      <td>[80-90)</td>\n      <td>Old-Aged Adults</td>\n    </tr>\n    <tr>\n      <th>14</th>\n      <td>[60-70)</td>\n      <td>Old-Aged Adults</td>\n    </tr>\n    <tr>\n      <th>15</th>\n      <td>[60-70)</td>\n      <td>Old-Aged Adults</td>\n    </tr>\n    <tr>\n      <th>16</th>\n      <td>[50-60)</td>\n      <td>Old-Aged Adults</td>\n    </tr>\n    <tr>\n      <th>17</th>\n      <td>[50-60)</td>\n      <td>Old-Aged Adults</td>\n    </tr>\n    <tr>\n      <th>18</th>\n      <td>[70-80)</td>\n      <td>Old-Aged Adults</td>\n    </tr>\n    <tr>\n      <th>19</th>\n      <td>[70-80)</td>\n      <td>Old-Aged Adults</td>\n    </tr>\n  </tbody>\n</table>\n</div>"
     },
     "execution_count": 194,
     "metadata": {},
     "output_type": "execute_result"
    }
   ],
   "source": [
    "df['ages-binned'] = pd.cut(df['Age'].astype('string').str[1:2].astype('int64'), bins=[0,1,2,4,10], labels=group_names, include_lowest=True)\n",
    "df[['Age','ages-binned']].head(20)"
   ]
  },
  {
   "cell_type": "raw",
   "metadata": {
    "pycharm": {
     "name": "#%% raw\n"
    }
   },
   "source": [
    "df['Age'].astype('string').str[1:2].astype('int64') -"
   ]
  },
  {
   "cell_type": "markdown",
   "metadata": {},
   "source": [
    "This code fragment is used, because \"Age\" is a category. So that we will select 1 element of string from each occurrence. As a result we are able to represent category as 1d array for function to proceed.\n",
    "\n",
    "Let's see the number of patients in each bin:"
   ]
  },
  {
   "cell_type": "code",
   "execution_count": 195,
   "metadata": {},
   "outputs": [
    {
     "data": {
      "text/plain": "Old-Aged Adults       85779\nMiddle-Aged Adults    13458\nYoung Adults           1656\nChild                   852\nName: ages-binned, dtype: int64"
     },
     "execution_count": 195,
     "metadata": {},
     "output_type": "execute_result"
    }
   ],
   "source": [
    "df[\"ages-binned\"].value_counts()"
   ]
  },
  {
   "cell_type": "markdown",
   "metadata": {},
   "source": [
    "Let's plot the distribution of each bin:\n"
   ]
  },
  {
   "cell_type": "code",
   "execution_count": 196,
   "metadata": {},
   "outputs": [
    {
     "data": {
      "text/plain": "Text(0.5, 1.0, 'age groups bins')"
     },
     "execution_count": 196,
     "metadata": {},
     "output_type": "execute_result"
    },
    {
     "data": {
      "text/plain": "<Figure size 640x480 with 1 Axes>",
      "image/png": "[encoded data removed]"
     },
     "metadata": {},
     "output_type": "display_data"
    }
   ],
   "source": [
    "import matplotlib as plt\n",
    "from matplotlib import pyplot\n",
    "pyplot.bar(['Old-Aged', 'Middle-Aged', 'Young','Child'], df[\"ages-binned\"].value_counts())\n",
    "\n",
    "# set x/y labels and plot title\n",
    "plt.pyplot.xlabel(\"age groups\")\n",
    "plt.pyplot.ylabel(\"count\")\n",
    "plt.pyplot.title(\"age groups bins\")"
   ]
  },
  {
   "cell_type": "markdown",
   "metadata": {},
   "source": [
    "<p>\n",
    "    Look at the dataframe above carefully. You will find that the last column provides the bins for \"Age\" based on 4 categories (\"Old-Aged\", \"Middle-Aged\", \"Young\",\"Child\").\n",
    "</p>\n",
    "<p>\n",
    "    We successfully narrowed down the intervals from 10 to 4!\n",
    "</p>\n"
   ]
  },
  {
   "cell_type": "markdown",
   "metadata": {},
   "source": [
    "<h3>Bins Visualization</h3>\n",
    "Normally, a histogram is used to visualize the distribution of bins we created above. \n"
   ]
  },
  {
   "cell_type": "code",
   "execution_count": 206,
   "metadata": {},
   "outputs": [
    {
     "data": {
      "text/plain": "Text(0.5, 1.0, 'age groups bins')"
     },
     "execution_count": 206,
     "metadata": {},
     "output_type": "execute_result"
    },
    {
     "data": {
      "text/plain": "<Figure size 640x480 with 1 Axes>",
      "image/png": "[encoded data removed]"
     },
     "metadata": {},
     "output_type": "display_data"
    }
   ],
   "source": [
    "# age group bins переробити на мої ті групи в плані ті що вище\n",
    "%matplotlib inline\n",
    "import matplotlib as plt\n",
    "\n",
    "# draw historgram of attribute \"age\" with 4 selected bins (0,1,2,4,10)\n",
    "plt.pyplot.hist(df[\"Age\"], bins = [0,1,2,4,10])\n",
    "\n",
    "# set x/y labels and plot title\n",
    "plt.pyplot.xlabel(\"age\")\n",
    "plt.pyplot.ylabel(\"count\")\n",
    "plt.pyplot.title(\"age groups bins\")"
   ]
  },
  {
   "cell_type": "markdown",
   "metadata": {},
   "source": [
    "The plot above shows the binning result for the attribute \"Age\".\n"
   ]
  },
  {
   "cell_type": "markdown",
   "metadata": {},
   "source": [
    "<h2 id=\"indicator\">Indicator Variable (or Dummy Variable)</h2>\n",
    "<b>What is an indicator variable?</b>\n",
    "<p>\n",
    "    An indicator variable (or dummy variable) is a numerical variable used to label categories. They are called 'dummies' because the numbers themselves don't have inherent meaning. \n",
    "</p>\n",
    "\n",
    "<b>Why we use indicator variables?</b>\n",
    "\n",
    "<p>\n",
    "    We use indicator variables so we can use categorical variables for regression analysis in the later modules.\n",
    "</p>\n",
    "<b>Example</b>\n",
    "<p>\n",
    "    We see the column \"Change\" has two unique values: \"Ch\" or \"No\". Regression doesn't understand words, only numbers. To use this attribute in regression analysis, we convert \"change\" to indicator variables.\n",
    "</p>\n",
    "\n",
    "<p>\n",
    "    We will use pandas' method 'get_dummies' to assign numerical values to different categories of change type.\n",
    "</p>\n"
   ]
  },
  {
   "cell_type": "code",
   "execution_count": 198,
   "metadata": {},
   "outputs": [
    {
     "data": {
      "text/plain": "Index(['EncounterId', 'PatientNbr', 'Race', 'Gender', 'Age', 'Weight',\n       'AdmissionTypeId', 'DischargeDispositionId', 'AdmissionSourceId',\n       'TimeInHospital', 'PayerCode', 'MedicalSpecialty', 'NumLabProcedures',\n       'NumProcedures', 'NumMedications', 'NumberOutpatient',\n       'NumberEmergency', 'NumberInpatient', 'Diagnosis1', 'Diagnosis2',\n       'Diagnosis3', 'NumberDiagnoses', 'MaxGluSerum', 'A1Cresult',\n       'Metformin', 'Repaglinide', 'Nateglinide', 'Chlorpropamide',\n       'Glimepiride', 'Acetohexamide', 'Glipizide', 'Glyburide', 'Tolbutamide',\n       'Pioglitazone', 'Rosiglitazone', 'Acarbose', 'Miglitol', 'Troglitazone',\n       'Tolazamide', 'Examide', 'Citoglipton', 'Insulin',\n       'Glyburide-metformin', 'Glipizide-metformin',\n       'Glimepiride-pioglitazone', 'Metformin-rosiglitazone',\n       'Metformin-pioglitazone', 'Change', 'DiabetesMed', 'Readmitted',\n       'ages-binned'],\n      dtype='object')"
     },
     "execution_count": 198,
     "metadata": {},
     "output_type": "execute_result"
    }
   ],
   "source": [
    "df.columns"
   ]
  },
  {
   "cell_type": "markdown",
   "metadata": {},
   "source": [
    "Get the indicator variables and assign it to data frame \"dummy_variable_1\":\n"
   ]
  },
  {
   "cell_type": "code",
   "execution_count": 199,
   "metadata": {},
   "outputs": [
    {
     "data": {
      "text/plain": "   Ch  No\n0   0   1\n1   1   0\n2   0   1\n3   1   0\n4   1   0",
      "text/html": "<div>\n<style scoped>\n    .dataframe tbody tr th:only-of-type {\n        vertical-align: middle;\n    }\n\n    .dataframe tbody tr th {\n        vertical-align: top;\n    }\n\n    .dataframe thead th {\n        text-align: right;\n    }\n</style>\n<table border=\"1\" class=\"dataframe\">\n  <thead>\n    <tr style=\"text-align: right;\">\n      <th></th>\n      <th>Ch</th>\n      <th>No</th>\n    </tr>\n  </thead>\n  <tbody>\n    <tr>\n      <th>0</th>\n      <td>0</td>\n      <td>1</td>\n    </tr>\n    <tr>\n      <th>1</th>\n      <td>1</td>\n      <td>0</td>\n    </tr>\n    <tr>\n      <th>2</th>\n      <td>0</td>\n      <td>1</td>\n    </tr>\n    <tr>\n      <th>3</th>\n      <td>1</td>\n      <td>0</td>\n    </tr>\n    <tr>\n      <th>4</th>\n      <td>1</td>\n      <td>0</td>\n    </tr>\n  </tbody>\n</table>\n</div>"
     },
     "execution_count": 199,
     "metadata": {},
     "output_type": "execute_result"
    }
   ],
   "source": [
    "dummy_variable_1 = pd.get_dummies(df[\"Change\"])\n",
    "dummy_variable_1.head()"
   ]
  },
  {
   "cell_type": "markdown",
   "metadata": {},
   "source": [
    "Change the column names for clarity:\n"
   ]
  },
  {
   "cell_type": "code",
   "execution_count": 200,
   "metadata": {},
   "outputs": [
    {
     "data": {
      "text/plain": "   change_yes  change_no\n0           0          1\n1           1          0\n2           0          1\n3           1          0\n4           1          0",
      "text/html": "<div>\n<style scoped>\n    .dataframe tbody tr th:only-of-type {\n        vertical-align: middle;\n    }\n\n    .dataframe tbody tr th {\n        vertical-align: top;\n    }\n\n    .dataframe thead th {\n        text-align: right;\n    }\n</style>\n<table border=\"1\" class=\"dataframe\">\n  <thead>\n    <tr style=\"text-align: right;\">\n      <th></th>\n      <th>change_yes</th>\n      <th>change_no</th>\n    </tr>\n  </thead>\n  <tbody>\n    <tr>\n      <th>0</th>\n      <td>0</td>\n      <td>1</td>\n    </tr>\n    <tr>\n      <th>1</th>\n      <td>1</td>\n      <td>0</td>\n    </tr>\n    <tr>\n      <th>2</th>\n      <td>0</td>\n      <td>1</td>\n    </tr>\n    <tr>\n      <th>3</th>\n      <td>1</td>\n      <td>0</td>\n    </tr>\n    <tr>\n      <th>4</th>\n      <td>1</td>\n      <td>0</td>\n    </tr>\n  </tbody>\n</table>\n</div>"
     },
     "execution_count": 200,
     "metadata": {},
     "output_type": "execute_result"
    }
   ],
   "source": [
    "dummy_variable_1.rename(columns={'Ch':'change_yes', 'No':'change_no'}, inplace=True)\n",
    "dummy_variable_1.head()"
   ]
  },
  {
   "cell_type": "markdown",
   "metadata": {},
   "source": [
    "In the dataframe, column 'change' has values for 'yes' and 'no' as 0s and 1s now.\n"
   ]
  },
  {
   "cell_type": "code",
   "execution_count": 201,
   "metadata": {},
   "outputs": [],
   "source": [
    "# merge data frame \"df\" and \"dummy_variable_1\" \n",
    "df = pd.concat([df, dummy_variable_1], axis=1)\n",
    "\n",
    "# drop original column \"change\" from \"df\"\n",
    "df.drop(\"Change\", axis = 1, inplace=True)"
   ]
  },
  {
   "cell_type": "code",
   "execution_count": 202,
   "metadata": {},
   "outputs": [
    {
     "data": {
      "text/plain": "   EncounterId  PatientNbr             Race  Gender      Age Weight  \\\n0      2278392     8222157        Caucasian  Female   [0-10)    NaN   \n1       149190    55629189        Caucasian  Female  [10-20)    NaN   \n2        64410    86047875  AfricanAmerican  Female  [20-30)    NaN   \n3       500364    82442376        Caucasian    Male  [30-40)    NaN   \n4        16680    42519267        Caucasian    Male  [40-50)    NaN   \n\n   AdmissionTypeId  DischargeDispositionId  AdmissionSourceId  TimeInHospital  \\\n0                6                      25                  1               1   \n1                1                       1                  7               3   \n2                1                       1                  7               2   \n3                1                       1                  7               2   \n4                1                       1                  7               1   \n\n   ... Glyburide-metformin Glipizide-metformin  Glimepiride-pioglitazone  \\\n0  ...                  No                  No                        No   \n1  ...                  No                  No                        No   \n2  ...                  No                  No                        No   \n3  ...                  No                  No                        No   \n4  ...                  No                  No                        No   \n\n   Metformin-rosiglitazone  Metformin-pioglitazone  DiabetesMed  Readmitted  \\\n0                       No                      No           No          NO   \n1                       No                      No          Yes         >30   \n2                       No                      No          Yes          NO   \n3                       No                      No          Yes          NO   \n4                       No                      No          Yes          NO   \n\n          ages-binned change_yes change_no  \n0               Child          0         1  \n1               Child          1         0  \n2        Young Adults          0         1  \n3  Middle-Aged Adults          1         0  \n4  Middle-Aged Adults          1         0  \n\n[5 rows x 52 columns]",
      "text/html": "<div>\n<style scoped>\n    .dataframe tbody tr th:only-of-type {\n        vertical-align: middle;\n    }\n\n    .dataframe tbody tr th {\n        vertical-align: top;\n    }\n\n    .dataframe thead th {\n        text-align: right;\n    }\n</style>\n<table border=\"1\" class=\"dataframe\">\n  <thead>\n    <tr style=\"text-align: right;\">\n      <th></th>\n      <th>EncounterId</th>\n      <th>PatientNbr</th>\n      <th>Race</th>\n      <th>Gender</th>\n      <th>Age</th>\n      <th>Weight</th>\n      <th>AdmissionTypeId</th>\n      <th>DischargeDispositionId</th>\n      <th>AdmissionSourceId</th>\n      <th>TimeInHospital</th>\n      <th>...</th>\n      <th>Glyburide-metformin</th>\n      <th>Glipizide-metformin</th>\n      <th>Glimepiride-pioglitazone</th>\n      <th>Metformin-rosiglitazone</th>\n      <th>Metformin-pioglitazone</th>\n      <th>DiabetesMed</th>\n      <th>Readmitted</th>\n      <th>ages-binned</th>\n      <th>change_yes</th>\n      <th>change_no</th>\n    </tr>\n  </thead>\n  <tbody>\n    <tr>\n      <th>0</th>\n      <td>2278392</td>\n      <td>8222157</td>\n      <td>Caucasian</td>\n      <td>Female</td>\n      <td>[0-10)</td>\n      <td>NaN</td>\n      <td>6</td>\n      <td>25</td>\n      <td>1</td>\n      <td>1</td>\n      <td>...</td>\n      <td>No</td>\n      <td>No</td>\n      <td>No</td>\n      <td>No</td>\n      <td>No</td>\n      <td>No</td>\n      <td>NO</td>\n      <td>Child</td>\n      <td>0</td>\n      <td>1</td>\n    </tr>\n    <tr>\n      <th>1</th>\n      <td>149190</td>\n      <td>55629189</td>\n      <td>Caucasian</td>\n      <td>Female</td>\n      <td>[10-20)</td>\n      <td>NaN</td>\n      <td>1</td>\n      <td>1</td>\n      <td>7</td>\n      <td>3</td>\n      <td>...</td>\n      <td>No</td>\n      <td>No</td>\n      <td>No</td>\n      <td>No</td>\n      <td>No</td>\n      <td>Yes</td>\n      <td>&gt;30</td>\n      <td>Child</td>\n      <td>1</td>\n      <td>0</td>\n    </tr>\n    <tr>\n      <th>2</th>\n      <td>64410</td>\n      <td>86047875</td>\n      <td>AfricanAmerican</td>\n      <td>Female</td>\n      <td>[20-30)</td>\n      <td>NaN</td>\n      <td>1</td>\n      <td>1</td>\n      <td>7</td>\n      <td>2</td>\n      <td>...</td>\n      <td>No</td>\n      <td>No</td>\n      <td>No</td>\n      <td>No</td>\n      <td>No</td>\n      <td>Yes</td>\n      <td>NO</td>\n      <td>Young Adults</td>\n      <td>0</td>\n      <td>1</td>\n    </tr>\n    <tr>\n      <th>3</th>\n      <td>500364</td>\n      <td>82442376</td>\n      <td>Caucasian</td>\n      <td>Male</td>\n      <td>[30-40)</td>\n      <td>NaN</td>\n      <td>1</td>\n      <td>1</td>\n      <td>7</td>\n      <td>2</td>\n      <td>...</td>\n      <td>No</td>\n      <td>No</td>\n      <td>No</td>\n      <td>No</td>\n      <td>No</td>\n      <td>Yes</td>\n      <td>NO</td>\n      <td>Middle-Aged Adults</td>\n      <td>1</td>\n      <td>0</td>\n    </tr>\n    <tr>\n      <th>4</th>\n      <td>16680</td>\n      <td>42519267</td>\n      <td>Caucasian</td>\n      <td>Male</td>\n      <td>[40-50)</td>\n      <td>NaN</td>\n      <td>1</td>\n      <td>1</td>\n      <td>7</td>\n      <td>1</td>\n      <td>...</td>\n      <td>No</td>\n      <td>No</td>\n      <td>No</td>\n      <td>No</td>\n      <td>No</td>\n      <td>Yes</td>\n      <td>NO</td>\n      <td>Middle-Aged Adults</td>\n      <td>1</td>\n      <td>0</td>\n    </tr>\n  </tbody>\n</table>\n<p>5 rows × 52 columns</p>\n</div>"
     },
     "execution_count": 202,
     "metadata": {},
     "output_type": "execute_result"
    }
   ],
   "source": [
    "df.head()"
   ]
  },
  {
   "cell_type": "markdown",
   "metadata": {},
   "source": [
    "The last two columns are now the indicator variable representation of the change variable. They're all 0s and 1s now.\n"
   ]
  },
  {
   "cell_type": "markdown",
   "metadata": {},
   "source": [
    "<div class=\"alert alert-danger alertdanger\" style=\"margin-top: 20px\">\n",
    "<h1> Question  #4: </h1>\n",
    "\n",
    "<b>Similar to before, create an indicator variable for the column \"Rosiglitazone\"</b>\n",
    "\n",
    "</div>\n"
   ]
  },
  {
   "cell_type": "code",
   "execution_count": 203,
   "metadata": {},
   "outputs": [],
   "source": [
    "# Write your code below and press Shift+Enter to execute\n"
   ]
  },
  {
   "cell_type": "markdown",
   "metadata": {},
   "source": [
    "<details><summary>Click here for the solution</summary>\n",
    "\n",
    "```python\n",
    "# get indicator variables of aspiration and assign it to data frame \"dummy_variable_2\"\n",
    "dummy_variable_2 = pd.get_dummies(df['Rosiglitazone'])\n",
    "\n",
    "# change column names for clarity\n",
    "dummy_variable_2.rename(columns={'Down':'Increased', 'Up': 'Decreased'}, inplace=True)\n",
    "\n",
    "# show first 5 instances of data frame \"dummy_variable_1\"\n",
    "dummy_variable_2.head()\n",
    "\n",
    "```\n",
    "</details>\n"
   ]
  },
  {
   "cell_type": "markdown",
   "metadata": {},
   "source": [
    " <div class=\"alert alert-danger alertdanger\" style=\"margin-top: 20px\">\n",
    "<h1> Question  #5: </h1>\n",
    "\n",
    "<b>Merge the new dataframe to the original dataframe, then drop the column 'Rosiglitazone'.</b>\n",
    "\n",
    "</div>\n"
   ]
  },
  {
   "cell_type": "code",
   "execution_count": 204,
   "metadata": {},
   "outputs": [],
   "source": [
    "# Write your code below and press Shift+Enter to execute\n"
   ]
  },
  {
   "cell_type": "markdown",
   "metadata": {},
   "source": [
    "<details><summary>Click here for the solution</summary>\n",
    "\n",
    "```python\n",
    "# merge the new dataframe to the original datafram\n",
    "df = pd.concat([df, dummy_variable_2], axis=1)\n",
    "\n",
    "# drop original column \"Rosiglitazone\" from \"df\"\n",
    "df.drop('Rosiglitazone', axis = 1, inplace=True)\n",
    "\n",
    "```\n",
    "</details>\n"
   ]
  },
  {
   "cell_type": "code",
   "execution_count": 205,
   "metadata": {},
   "outputs": [],
   "source": [
    "df.to_csv('clean_df.csv')"
   ]
  },
  {
   "cell_type": "markdown",
   "metadata": {},
   "source": [
    "Save the new csv:\n",
    "\n",
    "> Note : The  csv file cannot be viewed in the jupyterlite based SN labs environment.However you can Click <a href=\"https://cf-courses-data.s3.us.cloud-object-storage.appdomain.cloud/IBMDeveloperSkillsNetwork-DA0101EN-SkillsNetwork/labs/Module%202/DA0101EN-2-Review-Data-Wrangling.ipynb?utm_medium=Exinfluencer&utm_source=Exinfluencer&utm_content=000026UJ&utm_term=10006555&utm_id=NA-SkillsNetwork-Channel-SkillsNetworkCoursesIBMDeveloperSkillsNetworkDA0101ENSkillsNetwork20235326-2022-01-01\">HERE</a> to download the lab notebook (.ipynb) to your local machine and view the csv file once the notebook is executed.\n"
   ]
  },
  {
   "cell_type": "markdown",
   "metadata": {},
   "source": [
    "### Thank you for completing this lab!\n",
    "\n",
    "## Author\n",
    "\n",
    "<a href=\"https://www.linkedin.com/in/joseph-s-50398b136/?utm_medium=Exinfluencer&utm_source=Exinfluencer&utm_content=000026UJ&utm_term=10006555&utm_id=NA-SkillsNetwork-Channel-SkillsNetworkCoursesIBMDeveloperSkillsNetworkDA0101ENSkillsNetwork20235326-2021-01-01\" target=\"_blank\">Joseph Santarcangelo</a>\n",
    "\n",
    "### Other Contributors\n",
    "\n",
    "<a href=\"https://www.linkedin.com/in/mahdi-noorian-58219234/?utm_medium=Exinfluencer&utm_source=Exinfluencer&utm_content=000026UJ&utm_term=10006555&utm_id=NA-SkillsNetwork-Channel-SkillsNetworkCoursesIBMDeveloperSkillsNetworkDA0101ENSkillsNetwork20235326-2021-01-01\" target=\"_blank\">Mahdi Noorian PhD</a>\n",
    "\n",
    "Bahare Talayian\n",
    "\n",
    "Eric Xiao\n",
    "\n",
    "Steven Dong\n",
    "\n",
    "Parizad\n",
    "\n",
    "Hima Vasudevan\n",
    "\n",
    "<a href=\"https://www.linkedin.com/in/fiorellawever/?utm_medium=Exinfluencer&utm_source=Exinfluencer&utm_content=000026UJ&utm_term=10006555&utm_id=NA-SkillsNetwork-Channel-SkillsNetworkCoursesIBMDeveloperSkillsNetworkDA0101ENSkillsNetwork20235326-2021-01-01\" target=\"_blank\">Fiorella Wenver</a>\n",
    "\n",
    "<a href=\"https:// https://www.linkedin.com/in/yi-leng-yao-84451275/ \" target=\"_blank\" >Yi Yao</a>.\n",
    "\n",
    "## Change Log\n",
    "\n",
    "| Date (YYYY-MM-DD) | Version | Changed By | Change Description                  |\n",
    "| ----------------- | ------- | ---------- | ----------------------------------- |\n",
    "| 2022-04-22        | 2.3     | Lakshmi    | Made changes in markdown file       |\n",
    "| 2020-10-30        | 2.2     | Lakshmi    | Changed URL of csv                  |\n",
    "| 2020-09-09        | 2.1     | Lakshmi    | Updated Indicator Variables section |\n",
    "| 2020-08-27        | 2.0     | Lavanya    | Moved lab to course repo in GitLab  |\n",
    "\n",
    "<hr>\n",
    "\n",
    "## <h3 align=\"center\"> © IBM Corporation 2020. All rights reserved. <h3/>\n"
   ]
  }
 ],
 "metadata": {
  "anaconda-cloud": {},
  "kernelspec": {
   "display_name": "Python 3 (ipykernel)",
   "language": "python",
   "name": "python3"
  },
  "language_info": {
   "codemirror_mode": {
    "name": "ipython",
    "version": 3
   },
   "file_extension": ".py",
   "mimetype": "text/x-python",
   "name": "python",
   "nbconvert_exporter": "python",
   "pygments_lexer": "ipython3",
   "version": "3.9.13"
  }
 },
 "nbformat": 4,
 "nbformat_minor": 4
}