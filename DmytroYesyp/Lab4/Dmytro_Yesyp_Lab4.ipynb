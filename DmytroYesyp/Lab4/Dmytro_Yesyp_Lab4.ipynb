{
  "cells": [
    {
      "cell_type": "markdown",
      "id": "156d6ee3-5766-4079-a396-f344240b8ded",
      "metadata": {},
      "outputs": [],
      "source": [
        "<center>\n    <img src=\"https://cf-courses-data.s3.us.cloud-object-storage.appdomain.cloud/assets/logos/SN_web_lightmode_vertical.png\" width=\"300\" alt=\"cognitiveclass.ai logo\"  />\n</center>"
      ]
    },
    {
      "cell_type": "markdown",
      "id": "e5a44b1f-84c7-43fb-b518-7109b13b98f2",
      "metadata": {},
      "outputs": [],
      "source": [
        "# **Investigation of diabetes patients readmission among US hospitals**"
      ]
    },
    {
      "cell_type": "markdown",
      "id": "240a84c4-aa58-4382-bb28-aaac51fc9457",
      "metadata": {},
      "outputs": [],
      "source": [
        "# Lab 4 Data Analysis with Python\n\nEstimated time needed: **30** minutes\n\n## Objectives\n\n1. preprocess (normilize and transform categorical data) and create DataSet\n2. select features \n3. make classification of patients\n4. visualize decision tree of classification model  "
      ]
    },
    {
      "cell_type": "markdown",
      "id": "1d0aecf6-0ecc-4b6a-8e46-ae80523ab91f",
      "metadata": {},
      "outputs": [],
      "source": [
        "## Table of Contents"
      ]
    },
    {
      "cell_type": "markdown",
      "id": "09dcccc9-6151-417c-b1d0-c083ad18dee2",
      "metadata": {},
      "outputs": [],
      "source": [
        "\n<div class=\"alert alert-block alert-info\" style=\"margin-top: 20px\">\n    <ol>\n        <li>Materials and Methods</li>\n        <li>Import Libraries</li>\n        <li>Load the Dataset</li>\n        <li>Data preparation\n            <ul>\n                <li>Data transformation</li>\n                <li>Encoding and Normalization</li>\n            </ul>\n        </li>\n        <li>Features selection\n             <ul>\n                <li>Chi-Squared Statistic</li>\n                <li>Mutual Information Statistic</li>\n                <li>Feature Importance</li>\n                <li>Correlation Matrix with Heatmap</li>\n            </ul>\n        </li>\n         <li>Tasks</li>\n        <li>Classification models\n            <ul>\n                <li>Train and Test DataSets creation</li>\n                <li>Extra Trees Classifier</li>\n                <li>Logistic regression </li>\n            </ul>\n        </li>\n        <li>Decision tree\n            <ul>\n                <li>Build model</li>\n                <li>Visualization of decision tree</li>\n            </ul>\n        </li>\n        <li>Conclusions</li>\n    </ol>\n</div>\n"
      ]
    },
    {
      "cell_type": "markdown",
      "id": "8734e9e9-fc83-4ef5-9335-ef17e0a17fe4",
      "metadata": {},
      "outputs": [],
      "source": [
        "----"
      ]
    },
    {
      "cell_type": "markdown",
      "id": "72fc5000-7f2d-4257-9a4b-57da6b51b5cf",
      "metadata": {},
      "outputs": [],
      "source": [
        "## 1. Materials and Methods"
      ]
    },
    {
      "cell_type": "markdown",
      "id": "139d841e-66fd-4093-ad17-b81a6324aaeb",
      "metadata": {},
      "outputs": [],
      "source": [
        "The data that we are going to use for this is a subset of an open source diabetes in US DataSet: https://www.kaggle.com/datasets/brandao/diabetes.\n\n> This DataSet is public available for research.\nPlease include this citation if you plan to use this database:\nThe DataSet represents 10 years (1999-2008) of clinical care at 130 US hospitals and integrated delivery networks.\n\nIt is important to know if a patient will be readmitted in some hospital. The reason is that you can change the treatment, in order to avoid a readmission.\n\nIn this lesson, we will try to give answers to a set of questions that may be relevant when analyzing diabetes data:\n\n1. What are the most useful Python libraries for classification analysis?\n2. How to transform category data?\n3. How to create DataSet?\n4. How to do features selection?\n5. How to make, fit and visualize classification model?\n\nIn addition, we will make the conclusions for the obtained results of our classification analysis to predict if a patient will be readmitted."
      ]
    },
    {
      "cell_type": "markdown",
      "id": "a923b565-b026-4153-913c-e9c13d12dd73",
      "metadata": {},
      "outputs": [],
      "source": [
        "[Scikit-learn](https://scikit-learn.org/stable/)  (formerly scikits.learn and also known as sklearn) is a free software machine learning library for the Python programming language. It features various classification, regression and clustering algorithms, including support vector machines, random forests, gradient boosting, k-means, and DBSCAN, and is designed to interoperate with the Python numerical and scientific libraries NumPy and SciPy."
      ]
    },
    {
      "cell_type": "markdown",
      "id": "0da7a77a-0d71-4fa2-82bd-c4c98091e0af",
      "metadata": {},
      "outputs": [],
      "source": [
        "## 2. Import Libraries"
      ]
    },
    {
      "cell_type": "markdown",
      "id": "35770bd0-f803-47c2-9974-c07591678cd8",
      "metadata": {},
      "outputs": [],
      "source": [
        "Import the libraries necessary to use in this lab. We can add some aliases to make the libraries easier to use in our code and set a default figure size for further plots. Ignore the warnings.\n"
      ]
    },
    {
      "cell_type": "code",
      "id": "20bae180-1613-4207-83ac-2af78a7ddd91",
      "metadata": {},
      "outputs": [],
      "source": [
        "!conda install --yes scikit-learn==0.24.2\n!conda install --yes python-graphviz"
      ]
    },
    {
      "cell_type": "code",
      "id": "63c13b1c-9e91-421f-ac41-3e5c6e3bda1c",
      "metadata": {},
      "outputs": [],
      "source": [
        "import pandas as pd\nimport matplotlib.pyplot as plt\nimport seaborn as sns\nimport numpy as np\n%matplotlib inline\nplt.rcParams[\"figure.figsize\"] = (8, 6)\n# Data transformation\nfrom sklearn.preprocessing import LabelEncoder, OrdinalEncoder\nfrom sklearn.preprocessing import MinMaxScaler\n# Features Selection\nfrom sklearn.feature_selection import SelectKBest\nfrom sklearn.feature_selection import chi2, mutual_info_classif\n# Classificators\nfrom sklearn.model_selection import train_test_split\nfrom sklearn.ensemble import ExtraTreesClassifier\nfrom sklearn.linear_model import LogisticRegression\nfrom sklearn.metrics import accuracy_score\nfrom sklearn.tree import DecisionTreeClassifier \nfrom sklearn import tree\n# warnings deactivate\nimport warnings\nwarnings.filterwarnings('ignore')"
      ]
    },
    {
      "cell_type": "markdown",
      "id": "54597e52-59cd-4bd4-b0a1-9d85a57b6ca2",
      "metadata": {},
      "outputs": [],
      "source": [
        "## 3 .Load the Dataset"
      ]
    },
    {
      "cell_type": "markdown",
      "id": "f1fbf8e1-77c9-4f5d-b62e-776c28677483",
      "metadata": {},
      "outputs": [],
      "source": [
        "We will use the same DataSet like in previous labs. Therefore next steps will be the same"
      ]
    },
    {
      "cell_type": "code",
      "id": "1fa04f22-144e-4919-ba32-f6617febd07e",
      "metadata": {},
      "outputs": [],
      "source": [
        "df = pd.read_csv('https://cf-courses-data.s3.us.cloud-object-storage.appdomain.cloud/IBMSkillsNetwork-GPXX027CEN/clean_df.csv', index_col=0)\ndf.head(5)"
      ]
    },
    {
      "cell_type": "code",
      "id": "3f757cb1-9706-48ab-bbd0-7025acfa024d",
      "metadata": {},
      "outputs": [],
      "source": [
        "df.shape"
      ]
    },
    {
      "cell_type": "markdown",
      "id": "f1d4becf-9e7b-42d8-9f53-4c96770a8536",
      "metadata": {},
      "outputs": [],
      "source": [
        "As you can see DataSet consist of 55 columns. Target column is \"Readmitted\". Also DataSet consist 101388 rows. In previous labs we investigated these columns."
      ]
    },
    {
      "cell_type": "markdown",
      "id": "bb3beac2-a3c3-4934-a5ea-b233425a7290",
      "metadata": {},
      "outputs": [],
      "source": [
        "<details>\n<summary><b>Click to see attribute information</b></summary>\nInput features (column names):\n\n1. `Encounter Id` - Unique identifier of an encounter  (int64)\n2. `Patient Number` - Unique identifier of a patient (int64)\n3. `Race` - (categorical: `Caucasian` `AfricanAmerican` `Other` `Asian` `Hispanic`)\n4. `Gender` - (categorical: `Female` `Male` `Unknown/Invalid`)\n5. `Age` -  Grouped in 10-year intervals (categorical: `[0-10)` `[10-20)` `[20-30)` `[30-40)` `[40-50)` `[50-60)` `[60-70)` `[70-80)` `[80-90)` `[90-100)`)\n6. `Weight` -  Weight in pounds (categorical: `[75-100)` `[50-75)` `[0-25)` `[100-125)` `[25-50)` `[125-150)` `[175-200)` `[150-175)` `>200`)\n7. `Admission Type Id` - Integer identifier corresponding to 9 distinct values, for example, emergency, urgent, elective, newborn, and not available (int64)\n8. `Discharge Disposition Id` - Integer identifier corresponding to 29 distinct values, for example, discharged to home, expired, and not available (int64)\n9. `Admission Source Id` - Integer identifier corresponding to 21 distinct values, for example, physician referral, emergency room, and transfer from a hospital (int64)\n10. `Time In Hospital` - Integer number of days between admission and discharge (int64)\n11. `Payer Code` - Integer identifier corresponding to 23 distinct values, for example, Blue Cross\\Blue Shield, Medicare, and self-pay (categorical)\n12. `Medical Specialty` - Integer identifier of a specialty of the admitting physician, corresponding to 84 distinct values, for example, cardiology, internal medicine, family\\general practice, and surgeon (categorical)\n13. `Num Lab Procedures` - Number of lab tests performed during the encounter (float64)\n14. `Num Procedures` -  Number of procedures (other than lab tests) performed during the encounter (int64)\n15. `Num Medications` - Number of distinct generic names administered during the encounter (int64)\n16. `Number Outpatient` - Number of outpatient visits of the patient in the year preceding the encounter (int64)\n17. `Number Emergency` - Number of emergency visits of the patient in the year preceding the encounter (int64)\n18. `Number Inpatient` - Number of inpatient visits of the patient in the year preceding the encounter(int64)\n19. `Diagnosis1` - The primary diagnosis (coded as first three digits of ICD9) (categorical)\n20. `Diagnosis2` - Secondary diagnosis (coded as first three digits of ICD9) (categorical)\n21. `Diagnosis3` - Additional secondary diagnosis (coded as first three digits of ICD9) (categorical)\n22. `Number Diagnoses` - Number of diagnoses entered to the system (float64)\n23. `Max Glu Serum` - Indicates the range of the result or if the test was not taken. Values: `>200`, `>300`, `normal`, and `none` if not measured (categorical)\n24. `A1c Result` - Indicates the range of the result or if the test was not taken. Values: `>8` if the result was greater than 8%, `>7` if the result was greater than 7% but less than 8%, `normal` if the result was less than 7%, and “none” if not measured (categorical)\n25. `Metformin` - patient medications (categorical)\n26. `Repaglinide` - patient medications (categorical)\n27. `Nateglinide` - patient medications (categorical)\n28. `Chlorpropamide` - patient medications (categorical)\n29. `Glimepiride` - patient medications (categorical)\n30. `Acetohexamide` - patient medications (categorical)\n31. `Glipizide` - patient medications (categorical)\n32. `Glyburide` - patient medications (categorical)\n33. `Tolbutamide` - patient medications (categorical)\n34. `Pioglitazone` - patient medications (categorical)\n35. `Acarbose` - patient medications (categorical)\n36. `Miglitol` - patient medications (categorical)\n37. `Troglitazone` - patient medications (categorical)\n38. `Tolazamide` - patient medications (categorical)\n39. `Examide` - patient medications (categorical)\n40. `Citoglipton` - patient medications (categorical)\n41. `Insulin` - patient medications (categorical)\n42. `Glyburide-metformin` - patient medications (categorical)\n43. `Glipizide-metformin` - patient medications (categorical)\n44. `Glimepiride-pioglitazone` - patient medications (categorical)\n45. `Metformin-rosiglitazone` - patient medications (categorical)\n46. `Metformin-pioglitazone` - patient medications (categorical)\n47. `Diabetes Medication` -  Indicates if there was any diabetic medication prescribed. Values: `True` and `False` (bool)\n48. **`Readmitted` [Target Column]** - Days to inpatient readmission. Values: `<30` if the patient was readmitted in less than 30 days, `>30` if the patient was readmitted in more than 30 days, and `No` for no record of readmission (categorical)\n49. `ages-binned`(categorical)\n50. `change_yes` - columns created in previous labs (int64)\n51. `change_no` - columns created in previous labs (int64)\n52. `Increased` - columns created in previous labs (int64)\n53. `No` - columns created in previous labs (int64)\n54. `Steady` - columns created in previous labs (int64)\n55. `Decreased` - columns created in previous labs (int64)\n\n</details>"
      ]
    },
    {
      "cell_type": "markdown",
      "id": "24bb1f6e-eefa-4007-b89d-f085272ec2e0",
      "metadata": {},
      "outputs": [],
      "source": [
        "Our goal is to create a classification model that can predict if the patient will be readmitted or not? To do this, we must analyze and prepare data for such a model."
      ]
    },
    {
      "cell_type": "markdown",
      "id": "b5ad8e93-f998-45c3-8bbe-5d291c1f186b",
      "metadata": {},
      "outputs": [],
      "source": [
        "## 4. Data preparation"
      ]
    },
    {
      "cell_type": "markdown",
      "id": "6e452420-2d3f-4b83-a7ca-c18a9b192ecb",
      "metadata": {},
      "outputs": [],
      "source": [
        "### Data transformation"
      ]
    },
    {
      "cell_type": "markdown",
      "id": "87e338db-ff98-4d56-baea-07a29d889bdf",
      "metadata": {},
      "outputs": [],
      "source": [
        "First of all we should investigate how pandas recognized types of features."
      ]
    },
    {
      "cell_type": "code",
      "id": "79394a51-285a-46cb-a57e-b3ac52017b56",
      "metadata": {},
      "outputs": [],
      "source": [
        "df.info()"
      ]
    },
    {
      "cell_type": "markdown",
      "id": "91dd5d73-9608-488c-bf17-01151cda237b",
      "metadata": {},
      "outputs": [],
      "source": [
        "As you can see all categorical features was recognized like object. We must change their type to \"categorical\". "
      ]
    },
    {
      "cell_type": "code",
      "id": "aeab8ca9-e1d2-4717-bce4-3d5822030e65",
      "metadata": {},
      "outputs": [],
      "source": [
        "col_cat = list(df.select_dtypes(include=['object']).columns)\ncol_cat"
      ]
    },
    {
      "cell_type": "markdown",
      "id": "4538b8bd-f1a4-4847-8d8a-6db1f6d1f11a",
      "metadata": {},
      "outputs": [],
      "source": [
        "Let's look at the DataSet size."
      ]
    },
    {
      "cell_type": "code",
      "id": "89d4fb57-a717-47f2-8650-77ca7c0c30f4",
      "metadata": {},
      "outputs": [],
      "source": [
        "df.loc[:, col_cat] = df[col_cat].astype('category')\ndf.info()"
      ]
    },
    {
      "cell_type": "markdown",
      "id": "866fd3f7-2a2b-43d3-b978-c5695bbad815",
      "metadata": {},
      "outputs": [],
      "source": [
        "To see the unique values of exact feature (column) we can use:"
      ]
    },
    {
      "cell_type": "code",
      "id": "bc5eee22-ab1d-4c0f-b551-61da8808429e",
      "metadata": {},
      "outputs": [],
      "source": [
        "df['Race'].unique()"
      ]
    },
    {
      "cell_type": "markdown",
      "id": "ebb4cc10-38bc-48ba-b80f-f6a58ec3b5b5",
      "metadata": {},
      "outputs": [],
      "source": [
        "As was signed earlier, the DataSet contains 101388 objects (rows), for each of which 55 features are set (columns), including 1 target feature (Readmitted). 37 features, including the target, are categorical. These types of values cannot be used for classification. We must transform it to an int or a float. To do this, we can use **[LabelEncoder](https://scikit-learn.org/stable/modules/generated/sklearn.preprocessing.LabelEncoder.html)** and **[OrdinalEncoder](https://scikit-learn.org/stable/modules/generated/sklearn.preprocessing.OrdinalEncoder.html)**. These functions can encode categorical features to an integer array.\n\nFirst of all, we separate DataSet on input and output (target) DataSets."
      ]
    },
    {
      "cell_type": "markdown",
      "id": "fe32a36e-ead1-4775-9839-f5e700297dcc",
      "metadata": {},
      "outputs": [],
      "source": [
        "### Excluding columns that do not affect target columns\nColumns that do not affect the result be can excluded.\nIn our case such columns are  - `Encounter Id`, `Patient Number` and `Payer Code`."
      ]
    },
    {
      "cell_type": "code",
      "id": "b9ad132b-3c07-438e-a2e6-95f3071ee485",
      "metadata": {},
      "outputs": [],
      "source": [
        "df.drop(['Encounter Id','Patient Number','Payer Code'], inplace=True, axis=1)"
      ]
    },
    {
      "cell_type": "code",
      "id": "ae1d8324-6c42-43c2-ac12-009ef9a40d21",
      "metadata": {},
      "outputs": [],
      "source": [
        "# from X we have to remove target column (Readmitted).\nX = df.iloc[:,df.columns != 'Readmitted']\ny = df[\"Readmitted\"]\nprint(X)"
      ]
    },
    {
      "cell_type": "markdown",
      "id": "1c69a603-9770-4c49-a398-7b5c74141fad",
      "metadata": {},
      "outputs": [],
      "source": [
        "### Encoding and Normalization"
      ]
    },
    {
      "cell_type": "markdown",
      "id": "ec132c31-4e00-4a7c-81c5-cf9ca8048f57",
      "metadata": {},
      "outputs": [],
      "source": [
        "Then create a list of categorical fields and transform their values to an int array."
      ]
    },
    {
      "cell_type": "markdown",
      "id": "8327fa6f-19e2-435e-8873-799df55e8d0e",
      "metadata": {},
      "outputs": [],
      "source": [
        " <div class=\"alert alert-danger alertdanger\" style=\"margin-top: 20px\">\n<h1> Question  1: </h1>\n\n<b>Сreate list of categorical fields and transform their values to int arrays.</b>\n\n</div>"
      ]
    },
    {
      "cell_type": "code",
      "id": "856e8292-57ca-45f6-98d3-62960ad11493",
      "metadata": {},
      "outputs": [],
      "source": [
        "# Write your code below and press Shift+Enter to execute"
      ]
    },
    {
      "cell_type": "markdown",
      "id": "bc5fec9b-6dca-4e08-b6a0-01b5a6bcbd27",
      "metadata": {},
      "outputs": [],
      "source": [
        "<details><summary>Click <b>here</b> for the solution</summary>\n\n```python\ncol_cat =df.iloc[:,df.columns != 'Readmitted'].select_dtypes(include=['category']).columns\n\noe = OrdinalEncoder()\noe.fit(X[col_cat])\nX_cat_enc = oe.transform(X[col_cat])\n```\n\n</details>"
      ]
    },
    {
      "cell_type": "code",
      "id": "1736be35-cd2e-40c7-a384-0594cd11eecc",
      "metadata": {},
      "outputs": [],
      "source": [
        "X_cat_enc"
      ]
    },
    {
      "cell_type": "markdown",
      "id": "d61e0634-097d-428e-a570-3938d3d7f36a",
      "metadata": {},
      "outputs": [],
      "source": [
        "Then we must transform arrays back into DataFrame:"
      ]
    },
    {
      "cell_type": "code",
      "id": "19f581b4-cdcd-4482-8d1d-35abcfb51ae1",
      "metadata": {},
      "outputs": [],
      "source": [
        "X_cat_enc = pd.DataFrame(X_cat_enc)\nX_cat_enc.columns = col_cat\nX_cat_enc"
      ]
    },
    {
      "cell_type": "markdown",
      "id": "0d7b8523-d13c-4863-bf29-201de8f0b538",
      "metadata": {},
      "outputs": [],
      "source": [
        "Numerical fields can have different scales and can contain negative values. This will lead to rounding errors and exceptions for some AI methods. To avoid it, these features must be normalized.\n\nLet's create a list of numerical fields and normalize it using **[MinMaxScaler](https://scikit-learn.org/stable/modules/generated/sklearn.preprocessing.MinMaxScaler.html)**."
      ]
    },
    {
      "cell_type": "markdown",
      "id": "f41e16d3-145f-42c8-8630-13e63757ceb0",
      "metadata": {},
      "outputs": [],
      "source": [
        " <div class=\"alert alert-danger alertdanger\" style=\"margin-top: 20px\">\n<h1> Question  2: </h1>\n\n<b>Create list of numerical, float and boolean fields and normilize it using by MinMaxScaler.</b>\n\n</div>"
      ]
    },
    {
      "cell_type": "code",
      "id": "c4ef47d2-26a0-4f3c-9d17-11ed1fba534a",
      "metadata": {},
      "outputs": [],
      "source": [
        "# Write your code below and press Shift+Enter to execute"
      ]
    },
    {
      "cell_type": "markdown",
      "id": "c191a5d7-0114-4991-9468-89443b41d117",
      "metadata": {},
      "outputs": [],
      "source": [
        "<details><summary>Click <b>here</b> for the solution</summary>\n    \n```python\ncol_num = df.select_dtypes(include=['int64','float','boolean']).columns\n\nscaler = MinMaxScaler(feature_range=(0, 1))\nX_num_enc = scaler.fit_transform(X[col_num])\n```\n\n</details>"
      ]
    },
    {
      "cell_type": "code",
      "id": "987aab8a-6533-480f-bab0-d61943b6f018",
      "metadata": {},
      "outputs": [],
      "source": [
        "X_num_enc"
      ]
    },
    {
      "cell_type": "markdown",
      "id": "32f4da40-a811-4cc2-af6f-17353cd58d83",
      "metadata": {},
      "outputs": [],
      "source": [
        "Like in previous case transform back obtained arrays into DataFrame"
      ]
    },
    {
      "cell_type": "code",
      "id": "f8826304-60ab-41ca-b2d5-69f62cacc62b",
      "metadata": {},
      "outputs": [],
      "source": [
        "X_num_enc = pd.DataFrame(X_num_enc)\nX_num_enc.columns = col_num\nX_num_enc"
      ]
    },
    {
      "cell_type": "markdown",
      "id": "4c6173ab-6ce3-43ed-bef4-4349b0c2f6f3",
      "metadata": {},
      "outputs": [],
      "source": [
        "Then we should concatenate these DataFrames in one input DataFrame"
      ]
    },
    {
      "cell_type": "markdown",
      "id": "3a6300ff-28ad-4537-a122-5d95965268e5",
      "metadata": {},
      "outputs": [],
      "source": [
        " <div class=\"alert alert-danger alertdanger\" style=\"margin-top: 20px\">\n<h1> Question  3: </h1>\n\n<b>Concatenate these DataFrames in one input DataFrame.</b>\n\n</div>"
      ]
    },
    {
      "cell_type": "code",
      "id": "cd2d8f72-7951-4190-960f-892550085519",
      "metadata": {},
      "outputs": [],
      "source": [
        "# Write your code below and press Shift+Enter to execute"
      ]
    },
    {
      "cell_type": "markdown",
      "id": "14b854be-e60a-47e7-a470-e8481b89462d",
      "metadata": {},
      "outputs": [],
      "source": [
        "<details><summary>Click <b>here</b> for the solution</summary> \n\n```python  \nx_enc = pd.concat([X_cat_enc, X_num_enc], axis=1)\nx_enc\n```\n    \n</details>"
      ]
    },
    {
      "cell_type": "markdown",
      "id": "3b0b7224-c784-4d31-a8ff-05590b5dc1c2",
      "metadata": {},
      "outputs": [],
      "source": [
        "The same transformation we must do for target field."
      ]
    },
    {
      "cell_type": "code",
      "id": "4004a11a-99c3-496a-8616-23339a4c7da8",
      "metadata": {},
      "outputs": [],
      "source": [
        "le = LabelEncoder()\nle.fit(y)\ny_enc = le.transform(y)\ny_enc = pd.Series(y_enc)\ny_enc.columns = y.name"
      ]
    },
    {
      "cell_type": "code",
      "id": "19b38cb0-1104-42c3-8709-d1b1b0fb7027",
      "metadata": {},
      "outputs": [],
      "source": [
        "y"
      ]
    },
    {
      "cell_type": "code",
      "id": "fe92bb6f-1e93-4327-a18e-51eb8ebe5cd7",
      "metadata": {},
      "outputs": [],
      "source": [
        "y_enc"
      ]
    },
    {
      "cell_type": "markdown",
      "id": "d711d281-abfb-4a19-b3fb-0db87be9af6a",
      "metadata": {},
      "outputs": [],
      "source": [
        "As you can see values '<30' was changed to 0, '>30' to 1 and 'NO' to 2"
      ]
    },
    {
      "cell_type": "markdown",
      "id": "37d215f9-2e1e-4f1c-882b-d34cb7302c02",
      "metadata": {},
      "outputs": [],
      "source": [
        "## 5. Features selection"
      ]
    },
    {
      "cell_type": "markdown",
      "id": "3f7d14c7-1fd1-4063-a42e-47cef610fce9",
      "metadata": {},
      "outputs": [],
      "source": [
        "As was written above, input fields consist of 37 features. Of course, some of them are more significant for classification.\n\nThere are two popular feature selection techniques that can be used for categorical input data and a categorical (class) target variable.\n\nThey are:\n\n* Chi-Squared Statistic.\n* Mutual Information Statistic.\n\nLet's take a closer look at each in turn.\n\nTo do this we can use **[SelectKBest](https://scikit-learn.org/stable/modules/generated/sklearn.feature_selection.SelectKBest.html)**"
      ]
    },
    {
      "cell_type": "markdown",
      "id": "958a4be8-d96f-4016-bedd-d552e5219ece",
      "metadata": {},
      "outputs": [],
      "source": [
        "### Chi-Squared Statistic"
      ]
    },
    {
      "cell_type": "markdown",
      "id": "2f9ef1ed-d4dd-40cd-93e4-45e55ac21a2e",
      "metadata": {},
      "outputs": [],
      "source": [
        "Pearson's chi-squared statistical hypothesis test is an example of a test for independence between categorical variables.\n\nYou can learn more about this statistical test in the tutorial:\n\n[A Gentle Introduction to the Chi-Squared Test for Machine Learning](https://machinelearningmastery.com/chi-squared-test-for-machine-learning/)\nThe results of this test can be used for feature selection, where those features that are independent of the target variable can be removed from the DataSet.\n\nThe scikit-learn machine library provides an implementation of the chi-squared test in the **[chi2()](https://scikit-learn.org/stable/modules/generated/sklearn.feature_selection.chi2.html#sklearn.feature_selection.chi2)** function. This function can be used in a feature selection strategy, such as selecting the top k most relevant features (largest values) via the SelectKBest class.\n\nFor example, we can define the SelectKBest class to use the chi2() function and select all (or most significant) features, than transform the train and test sets."
      ]
    },
    {
      "cell_type": "markdown",
      "id": "4887cabc-99c2-47b2-8e98-ad0b0bc6ac3b",
      "metadata": {},
      "outputs": [],
      "source": [
        "Apply SelectKBest class to extract top 5 best features"
      ]
    },
    {
      "cell_type": "code",
      "id": "11369245-7cec-4e93-938a-ab5a4cfda967",
      "metadata": {},
      "outputs": [],
      "source": [
        "bestfeatures = SelectKBest(score_func=chi2, k=5)\nfit = bestfeatures.fit(x_enc,y_enc)\ndfscores = pd.DataFrame(fit.scores_)\ndfcolumns = pd.DataFrame(X.columns)"
      ]
    },
    {
      "cell_type": "markdown",
      "id": "282d0852-2f6e-4de1-b906-8a45cdd72197",
      "metadata": {},
      "outputs": [],
      "source": [
        "concatenate two DataFrames for better visualization "
      ]
    },
    {
      "cell_type": "code",
      "id": "fcbede0e-1cb5-4e08-bfae-0f1a2a2acd67",
      "metadata": {},
      "outputs": [],
      "source": [
        "featureScores = pd.concat([dfcolumns, dfscores],axis=1).dropna()\nfeatureScores.columns = ['Specs','Score']  #naming the dataframe columns\nprint(round(featureScores.nlargest(5,'Score'),2))  #print 5 best features"
      ]
    },
    {
      "cell_type": "markdown",
      "id": "dc60ef03-9926-441f-ada6-8c7f3d6dc40b",
      "metadata": {},
      "outputs": [],
      "source": [
        "### Mutual Information Statistic"
      ]
    },
    {
      "cell_type": "markdown",
      "id": "17fbfca1-6838-42e4-b778-07494d10dcfe",
      "metadata": {},
      "outputs": [],
      "source": [
        "Mutual information from the field of information theory is the application of information gain (typically used in the construction of decision trees) to feature selection.\n\nMutual information is calculated between two variables and measures the reduction in uncertainty for one variable given a known value of the other variable.\n\n[You can learn more about mutual information in the following tutorial.](https://machinelearningmastery.com/information-gain-and-mutual-information)\n\nThe scikit-learn machine learning library provides an implementation of mutual information for feature selection via the **[mutual_info_classif()](https://scikit-learn.org/stable/modules/generated/sklearn.feature_selection.mutual_info_classif.html#sklearn.feature_selection.mutual_info_classif)** function.\n\nLike chi2(), it can be used in the SelectKBest feature selection strategy (and other strategies)."
      ]
    },
    {
      "cell_type": "markdown",
      "id": "c91cea7b-9b55-4640-b267-65bc8e29d852",
      "metadata": {},
      "outputs": [],
      "source": [
        " <div class=\"alert alert-danger alertdanger\" style=\"margin-top: 20px\">\n<h1> Question  4: </h1>\n\n<b>Build a plot that shows the accuracy of a defined model as a function of the number of input features (using most important features).</b>\n\n</div>"
      ]
    },
    {
      "cell_type": "code",
      "id": "4f0af19d-e9e1-4170-9790-6625fb632fd3",
      "metadata": {},
      "outputs": [],
      "source": [
        "# Write your code below and press Shift+Enter to execute"
      ]
    },
    {
      "cell_type": "markdown",
      "id": "7a40640c-2ccf-4cfa-88f6-f445261c6351",
      "metadata": {},
      "outputs": [],
      "source": [
        "<details><summary>Click <b>here</b> for the solution</summary>\n\n```python\nbestfeatures = SelectKBest(score_func=mutual_info_classif, k=5)\nfit = bestfeatures.fit(x_enc,y_enc)\ndfscores = pd.DataFrame(fit.scores_)\ndfcolumns = pd.DataFrame(X.columns)\nfeatureScores = pd.concat([dfcolumns, dfscores],axis=1)\nfeatureScores.columns = ['Specs','Score']  #naming the dataframe columns\nprint(round(featureScores.nlargest(5,'Score'),2))  #print 5 best features\n```\n    \n</details>"
      ]
    },
    {
      "cell_type": "markdown",
      "id": "4bfabe30-2646-47ef-bb4a-d5c7ba2201bc",
      "metadata": {},
      "outputs": [],
      "source": [
        "As you can see these 2 function select different significant features."
      ]
    },
    {
      "cell_type": "markdown",
      "id": "371bd858-bdae-4523-8b28-e30a8273aecc",
      "metadata": {},
      "outputs": [],
      "source": [
        "### Feature Importance"
      ]
    },
    {
      "cell_type": "markdown",
      "id": "38149666-1909-4624-a0a4-4f95b8a80ead",
      "metadata": {},
      "outputs": [],
      "source": [
        "You can get the feature importance of each feature of your DataFrame by using the feature importance property of the exact classification model.\nFeature importance gives you a score for each feature of your data, the higher the score more important or relevant is the feature towards your output variable.\nFor example:\nFeature importance is an inbuilt class that comes with **[Tree Based Classifiers](https://scikit-learn.org/stable/modules/generated/sklearn.ensemble.ExtraTreesClassifier.html)**, we will be using Extra Tree Classifier for extracting the top 5 features for the DataSet."
      ]
    },
    {
      "cell_type": "markdown",
      "id": "20b83bd5-a26a-4547-b046-8fbc349300f6",
      "metadata": {},
      "outputs": [],
      "source": [
        "Let's create and fit the model:"
      ]
    },
    {
      "cell_type": "code",
      "id": "267128de-89cc-48a9-ac85-f9cd81df2a95",
      "metadata": {},
      "outputs": [],
      "source": [
        "model = ExtraTreesClassifier()\nmodel.fit(x_enc,y_enc)"
      ]
    },
    {
      "cell_type": "markdown",
      "id": "8664ca25-d362-4693-8683-a3a81d1e8833",
      "metadata": {},
      "outputs": [],
      "source": [
        "use inbuilt class feature_importances of tree based classifiers"
      ]
    },
    {
      "cell_type": "code",
      "id": "fb44c3f8-6bc3-4214-90c0-aa29a39590cc",
      "metadata": {},
      "outputs": [],
      "source": [
        "print(model.feature_importances_)"
      ]
    },
    {
      "cell_type": "markdown",
      "id": "37f6d464-9dc5-4f7c-86c9-6de23c7a0b1c",
      "metadata": {},
      "outputs": [],
      "source": [
        "Let's transform it into Series and plot graph of feature_importances for better visualization"
      ]
    },
    {
      "cell_type": "code",
      "id": "90fef431-81bb-40c3-ad03-ac77a6faa574",
      "metadata": {},
      "outputs": [],
      "source": [
        "feat_importances = pd.Series(model.feature_importances_, index=x_enc.columns)\nfeat_importances.nlargest(5).plot(kind='barh')\nplt.show()"
      ]
    },
    {
      "cell_type": "markdown",
      "id": "5e1b0e72-190a-45cc-b015-3932d159bbe6",
      "metadata": {},
      "outputs": [],
      "source": [
        "You can see that for Extra Tree Classifier importance of features are different than in previous cases. It means that there are not exact rules for features selection. And their importance strictly dependence on model."
      ]
    },
    {
      "cell_type": "markdown",
      "id": "8abdaf28-bbbb-4866-bb57-7be2c57f54c5",
      "metadata": {},
      "outputs": [],
      "source": [
        "### Correlation Matrix with Heatmap"
      ]
    },
    {
      "cell_type": "markdown",
      "id": "dee548cd-b8f5-4c6c-815e-226962808ef2",
      "metadata": {},
      "outputs": [],
      "source": [
        "Correlation states how the features are related to each other.\nCorrelation can be positive (increase in one value of feature increases the value of the other variable) or negative (increase in one value of feature decreases the value of the other variable)\nHeatMap makes it easy to identify which features are most related to the other variable, we will plot HeatMap of correlated features using the seaborn library."
      ]
    },
    {
      "cell_type": "code",
      "id": "1b1ca56f-a2f6-4f3e-833b-00596b734ec3",
      "metadata": {},
      "outputs": [],
      "source": [
        "corrmat = x_enc.corr()\ntop_corr_features = corrmat.index\nplt.figure(figsize=(10,10))\ng=sns.heatmap(x_enc[top_corr_features].corr(),annot=False,cmap=\"RdYlGn\")"
      ]
    },
    {
      "cell_type": "markdown",
      "id": "7e11bbf1-aec5-4690-ae59-01135d7dc36f",
      "metadata": {},
      "outputs": [],
      "source": [
        "We can notice that \"Examide\" and \"Citoglipton\" columns have no correlation on our HeatMap. So let's examine these columns."
      ]
    },
    {
      "cell_type": "code",
      "id": "9defcd8d-8930-4a1c-9cb8-3a4cd8d2ffa3",
      "metadata": {},
      "outputs": [],
      "source": [
        "x_enc[['Examide', 'Citoglipton']]"
      ]
    },
    {
      "cell_type": "markdown",
      "id": "c76db066-513d-43f5-9728-0455521dd6ce",
      "metadata": {},
      "outputs": [],
      "source": [
        "Now examine each column closely."
      ]
    },
    {
      "cell_type": "code",
      "id": "1085ed0d-7f1d-43d5-ac4f-3ce207039999",
      "metadata": {},
      "outputs": [],
      "source": [
        "x_enc['Examide'].value_counts()"
      ]
    },
    {
      "cell_type": "code",
      "id": "0ac53fed-019e-4783-93f2-992e293caa38",
      "metadata": {},
      "outputs": [],
      "source": [
        "x_enc['Citoglipton'].value_counts()"
      ]
    },
    {
      "cell_type": "markdown",
      "id": "0d048db4-ab7a-4fbd-9a8f-108f6def1ce4",
      "metadata": {},
      "outputs": [],
      "source": [
        "As we can see, these rows have a constant value of 0.0. We can't find a correlation between constant values, and it will have zero impact on our model, so the best decision is to remove \"Examide\" and \"Citoglipton\" columns."
      ]
    },
    {
      "cell_type": "code",
      "id": "e476d592-e4d1-4498-8cb1-f9f11a52c81f",
      "metadata": {},
      "outputs": [],
      "source": [
        "x_enc = x_enc.iloc[:,~x_enc.columns.isin(['Examide', 'Citoglipton'])]"
      ]
    },
    {
      "cell_type": "markdown",
      "id": "06ee2ca0-0889-41fc-a879-ca5f4df2e1e2",
      "metadata": {},
      "outputs": [],
      "source": [
        "## 6.Tasks"
      ]
    },
    {
      "cell_type": "code",
      "id": "30c9864a-da2e-4ae0-9fea-4e434f1d5d7e",
      "metadata": {},
      "outputs": [],
      "source": [
        "model = DecisionTreeClassifier"
      ]
    },
    {
      "cell_type": "markdown",
      "id": "81415013-cfcb-4928-a7a6-d1712fbdd8b3",
      "metadata": {},
      "outputs": [],
      "source": [
        " <div class=\"alert alert-danger alertdanger\" style=\"margin-top: 20px\">\n<h1> Question  5: </h1>\n\n<b>Create user function that will calculate accuracy of defined classificator model.</b>\n\n</div>"
      ]
    },
    {
      "cell_type": "code",
      "id": "157b3151-67c2-4972-add1-b83c172ccabe",
      "metadata": {},
      "outputs": [],
      "source": [
        "def model_ac(x_enc, y_enc, clf):\n    # Write your code below and press Shift+Enter to execute"
      ]
    },
    {
      "cell_type": "markdown",
      "id": "81b32a09-8c49-42b2-b4d9-b01fea7a6638",
      "metadata": {},
      "outputs": [],
      "source": [
        "<details><summary>Click <b>here</b> for the solution</summary> \n\n```python\n    model = clf()\n    model.fit(x_enc, y_enc)\n    yhat = model.predict(x_enc)\n    accuracy_train = accuracy_score(y_enc, yhat)\n    return accuracy_train\n```\n\n</details>"
      ]
    },
    {
      "cell_type": "code",
      "id": "8fd7d196-99d3-4346-acb6-5979f902ba9b",
      "metadata": {},
      "outputs": [],
      "source": [
        "print('Accuracy: %.2f' % (model_ac(x_enc, y_enc, model) * 100))"
      ]
    },
    {
      "cell_type": "markdown",
      "id": "35b4d19e-501d-4a68-ac49-049e108ddf1f",
      "metadata": {},
      "outputs": [],
      "source": [
        "<div class=\"alert alert-danger alertdanger\" style=\"margin-top: 20px\">\n<h1> Question  6: </h1>\n\n<b>Create user function that will calculate features impotance of defined classificator model.</b>\n\n</div>"
      ]
    },
    {
      "cell_type": "code",
      "id": "9ec5e23c-8f62-4a0a-9006-8ca4028d7373",
      "metadata": {},
      "outputs": [],
      "source": [
        "def model_imp(x_enc, y_enc, clf):\n    # Write your code below and press Shift+Enter to execute"
      ]
    },
    {
      "cell_type": "markdown",
      "id": "6909f0c5-685f-490c-85e9-7a157fec5aeb",
      "metadata": {},
      "outputs": [],
      "source": [
        "<details><summary>Click <b>here</b> for the solution</summary>\n    \n```python\n    model = clf()\n    model.fit(x_enc, y_enc)\n    feat_importances = pd.Series(model.feature_importances_, index=x_enc.columns)\n    return feat_importances.sort_values(ascending=False)\n```\n\n</details>"
      ]
    },
    {
      "cell_type": "code",
      "id": "90afab4c-9c83-4773-a8b9-07b2656e91ab",
      "metadata": {},
      "outputs": [],
      "source": [
        "imp = model_imp(x_enc, y_enc, model)\nprint(imp)"
      ]
    },
    {
      "cell_type": "markdown",
      "id": "fef9407b-586e-45df-a770-3624383adc40",
      "metadata": {},
      "outputs": [],
      "source": [
        "<div class=\"alert alert-danger alertdanger\" style=\"margin-top: 20px\">\n<h1> Question  7: </h1>\n\n<b>Build plot that show accuracy of defined model dependence on numbers of input features.</b>\n\n</div>"
      ]
    },
    {
      "cell_type": "code",
      "id": "95f6c67d-0bae-426a-b974-5594dd68b099",
      "metadata": {},
      "outputs": [],
      "source": [
        "# Write your code below and press Shift+Enter to execute"
      ]
    },
    {
      "cell_type": "markdown",
      "id": "0372b783-84ab-40ab-9d4f-da00d266a665",
      "metadata": {},
      "outputs": [],
      "source": [
        "<details><summary>Click <b>here</b> for the solution</summary>\n    \n```python\n\ncol = []\nac = []\nfor c in imp.index:\n    col.append(c)\n    ac.append(model_ac(x_enc[col], y_enc, model))\n    print('Input fields: ', len(col), 'Accuracy: %.2f' % (ac[-1] * 100))\nac = pd.Series(ac)\nac.plot()\n```\n    \n</details>"
      ]
    },
    {
      "cell_type": "markdown",
      "id": "1caa80a3-25ed-4618-943a-d1c009f6e5ba",
      "metadata": {},
      "outputs": [],
      "source": [
        "## 7. Classification models"
      ]
    },
    {
      "cell_type": "markdown",
      "id": "1bfcc572-a298-4688-8755-39d930bab7a4",
      "metadata": {},
      "outputs": [],
      "source": [
        "### Extra Trees Classifier"
      ]
    },
    {
      "cell_type": "markdown",
      "id": "69ae11f8-6d84-4eb5-b614-7ed622ec0f97",
      "metadata": {},
      "outputs": [],
      "source": [
        "<div class=\"alert alert-danger alertdanger\" style=\"margin-top: 20px\">\n<h1> Question  8: </h1>\n\n<b>Build ExtraTreesClassifier model.</b>\n\n</div>"
      ]
    },
    {
      "cell_type": "code",
      "id": "98078e7b-dde9-4f01-934e-af4fabf79cf0",
      "metadata": {},
      "outputs": [],
      "source": [
        "# Write your code below and press Shift+Enter to execute"
      ]
    },
    {
      "cell_type": "markdown",
      "id": "4510d85f-4f88-4570-991f-c631df964e5c",
      "metadata": {},
      "outputs": [],
      "source": [
        "<details><summary>Click <b>here</b> for the solution</summary>\n\n```python\nmodel = ExtraTreesClassifier()\nmodel.fit(x_enc, y_enc)\n```\n    \n</details>"
      ]
    },
    {
      "cell_type": "markdown",
      "id": "3c4cfacf-c50f-446b-9a9a-55ee56ea99d6",
      "metadata": {},
      "outputs": [],
      "source": [
        "Evaluate the model on data to obtain predictions"
      ]
    },
    {
      "cell_type": "code",
      "id": "caf5c908-fbd4-4845-a5a4-5567e4581d18",
      "metadata": {},
      "outputs": [],
      "source": [
        "yhat = model.predict(x_enc)\nprint(yhat)"
      ]
    },
    {
      "cell_type": "markdown",
      "id": "2d0076fc-78a2-421d-8264-94caa599209d",
      "metadata": {},
      "outputs": [],
      "source": [
        "Evaluate accuracy:"
      ]
    },
    {
      "cell_type": "code",
      "id": "3b327e39-fc3d-46a6-a29a-0c59bde09edf",
      "metadata": {},
      "outputs": [],
      "source": [
        "accuracy = accuracy_score(y_enc, yhat)\nprint('Accuracy: %.2f' % (accuracy*100))"
      ]
    },
    {
      "cell_type": "markdown",
      "id": "24f30cb2-1ce1-489c-a931-a0dd55856a29",
      "metadata": {},
      "outputs": [],
      "source": [
        "### Logistic regression"
      ]
    },
    {
      "cell_type": "markdown",
      "id": "aacd9de9-e8cb-4d1f-aa6a-2112b179c861",
      "metadata": {},
      "outputs": [],
      "source": [
        "There are many different techniques for scoring features and selecting features based on scores; how do you know which one to use?\n\nA robust approach is to evaluate models using different feature selection methods (and numbers of features) and select the method that results in a model with the best performance.\n\n**[Logistic regression](https://scikit-learn.org/stable/modules/generated/sklearn.linear_model.LogisticRegression.html)** is a good model for testing feature selection methods as it can perform better if irrelevant features are removed from the model. We will use this model in an absolutely similar way to the previous one."
      ]
    },
    {
      "cell_type": "markdown",
      "id": "9d9e7ec3-a486-450b-a71b-1a0e2096b6db",
      "metadata": {},
      "outputs": [],
      "source": [
        "<div class=\"alert alert-danger alertdanger\" style=\"margin-top: 20px\">\n<h1> Question  9: </h1>\n\n<b>Build LogisticRegression model.</b>\n\n</div>"
      ]
    },
    {
      "cell_type": "code",
      "id": "9ec4549b-47e6-4b6d-aca5-949ca6c2a677",
      "metadata": {},
      "outputs": [],
      "source": [
        "# Write your code below and press Shift+Enter to execute"
      ]
    },
    {
      "cell_type": "markdown",
      "id": "6ea649c6-09a0-4612-8b89-39177e6232c2",
      "metadata": {},
      "outputs": [],
      "source": [
        "<details><summary>Click <b>here</b> for the solution</summary>\n    \n```python\ncol = imp.nlargest(5).index\nmodel = LogisticRegression(solver='lbfgs')\nmodel.fit(x_enc[col], y_enc)\nyhat = model.predict(x_enc[col])\naccuracy = accuracy_score(y_enc, yhat)\nprint('Accuracy: %.2f' % (accuracy*100))\n```\n\n</details>"
      ]
    },
    {
      "cell_type": "markdown",
      "id": "f490412a-30fc-4221-84de-252a75cf3e2b",
      "metadata": {},
      "outputs": [],
      "source": [
        "As you can see on this DataSet this method is less accurate."
      ]
    },
    {
      "cell_type": "markdown",
      "id": "5c2afd72-a9e4-4f5b-9056-626dd92ec253",
      "metadata": {},
      "outputs": [],
      "source": [
        "## 8. Decision tree"
      ]
    },
    {
      "cell_type": "markdown",
      "id": "a46a934f-a85e-411f-92f1-1af3d0d7b061",
      "metadata": {},
      "outputs": [],
      "source": [
        "### Build model"
      ]
    },
    {
      "cell_type": "markdown",
      "id": "55ef5a21-ea97-4d94-ad1e-50fb9452471b",
      "metadata": {},
      "outputs": [],
      "source": [
        "As shown, the previous methods have high for medical data accuracy. However, the biggest drawback is the inability to visualize or justify the decision."
      ]
    },
    {
      "cell_type": "markdown",
      "id": "1cc584ea-2d61-4fd1-9344-94827501b18a",
      "metadata": {},
      "outputs": [],
      "source": [
        "Decision trees are a popular supervised learning method for a variety of reasons. Benefits of decision trees include that they can be used for both regression and classification, they don't require feature scaling, and they are relatively easy to interpret as you can visualize decision trees. This is not only a powerful way to understand your model, but also to communicate how your model works. Consequently, it would help to know how to make a visualization based on your model."
      ]
    },
    {
      "cell_type": "markdown",
      "id": "7ea8807e-7d26-4b29-a12b-fe6cbb73640c",
      "metadata": {},
      "outputs": [],
      "source": [
        "A **[Decision Tree](https://scikit-learn.org/stable/modules/generated/sklearn.tree.DecisionTreeClassifier.html)** is a supervised algorithm used in machine learning. It is using a binary tree graph (each node has two children) to assign for each data sample a target value. The target values are presented in the tree leaves. To reach to the leaf, the sample is propagated through nodes, starting at the root node. In each node a decision is made, to which descendant node it should go. A decision is made based on the selected sample's feature. Decision Tree learning is a process of finding the optimal rules in each internal tree node according to the selected metric."
      ]
    },
    {
      "cell_type": "markdown",
      "id": "a4732780-26de-4e9a-bd20-500b19a84528",
      "metadata": {},
      "outputs": [],
      "source": [
        "This method allows also to calculate features importance.\nLet's calculate them. Choice best 5 of them. Refit the model and visualize decision tree.\n\nBy, using the graph above, select max_depth to find the value that best fits DecisionTreeClassifier().\ncorrect syntax : DecisionTreeClassifier(max_depth=value)"
      ]
    },
    {
      "cell_type": "code",
      "id": "192b8632-99fb-460f-8a97-ccb2c5a12277",
      "metadata": {},
      "outputs": [],
      "source": [
        "print(imp.nlargest(5))"
      ]
    },
    {
      "cell_type": "markdown",
      "id": "67553995-fbd4-4cfb-8482-7d0ab7d92742",
      "metadata": {},
      "outputs": [],
      "source": [
        "<div class=\"alert alert-danger alertdanger\" style=\"margin-top: 20px\">\n<h1> Question  10: </h1>\n\n<b>Build a DecisionTreeClassifier model and fit it with the most important features from above.</b>\n\n</div>"
      ]
    },
    {
      "cell_type": "code",
      "id": "495cca8b-d3ce-4fa9-8d55-476159db4a23",
      "metadata": {},
      "outputs": [],
      "source": [
        "# Write your code below and press Shift+Enter to execute"
      ]
    },
    {
      "cell_type": "markdown",
      "id": "19a4a973-60b5-41ff-b819-da8a8d36af10",
      "metadata": {},
      "outputs": [],
      "source": [
        "<details><summary>Click <b>here</b> for the solution</summary>\n    \n```python\nmodel = DecisionTreeClassifier()\nX_most_important = x_enc[col]\n\nmodel.fit(X_most_important, y_enc)\nyhat = model.predict(X_most_important)\naccuracy = accuracy_score(y_enc, yhat)\nprint('Accuracy: %.2f' % (accuracy * 100))\n```\n    \n</details>"
      ]
    },
    {
      "cell_type": "markdown",
      "id": "692e00e9-a70a-4d9e-94d3-f429de2cac08",
      "metadata": {},
      "outputs": [],
      "source": [
        "### Visualization of decision tree"
      ]
    },
    {
      "cell_type": "markdown",
      "id": "5aed0d25-5745-4a34-9ccd-471e42334c8d",
      "metadata": {},
      "outputs": [],
      "source": [
        "Let's visualize decision tree.\nThere are some ways to do it."
      ]
    },
    {
      "cell_type": "markdown",
      "id": "4f1ff151-ea74-4d4c-ba59-945daee25b55",
      "metadata": {},
      "outputs": [],
      "source": [
        "### _Text visualization_"
      ]
    },
    {
      "cell_type": "code",
      "id": "57e7d933-06bf-4705-87cc-b7087b98840a",
      "metadata": {},
      "outputs": [],
      "source": [
        "text_representation = tree.export_text(model)\nprint(text_representation)"
      ]
    },
    {
      "cell_type": "markdown",
      "id": "646f5ee5-3701-450b-b7af-8e2a0e5aa344",
      "metadata": {},
      "outputs": [],
      "source": [
        "You can save it into file:"
      ]
    },
    {
      "cell_type": "code",
      "id": "8c898c79-0b90-4f64-870e-a9dcb488d222",
      "metadata": {},
      "outputs": [],
      "source": [
        "with open(\"decistion_tree.log\", \"w\") as fout:\n    fout.write(text_representation)"
      ]
    },
    {
      "cell_type": "markdown",
      "id": "895864ca-cb1e-4045-aef7-c559334f7dac",
      "metadata": {},
      "outputs": [],
      "source": [
        "### _Plot tree_"
      ]
    },
    {
      "cell_type": "markdown",
      "id": "cd46cf82-6499-49df-a43a-cd0230564d92",
      "metadata": {},
      "outputs": [],
      "source": [
        "You can plot tree using by two different way:"
      ]
    },
    {
      "cell_type": "markdown",
      "id": "6e46e6d4-cf99-468c-a6d0-871e1ecb8da2",
      "metadata": {},
      "outputs": [],
      "source": [
        "**[plot_tree](https://scikit-learn.org/stable/modules/generated/sklearn.tree.plot_tree.html)** (slow render - this can take some time):"
      ]
    },
    {
      "cell_type": "code",
      "id": "9862eca1-cc3e-4d7b-9bec-b64b2c01df11",
      "metadata": {},
      "outputs": [],
      "source": [
        "fig = plt.figure(figsize=(100,100))\n_ = tree.plot_tree(model,\n            max_depth = 7,\n            feature_names = col,\n            class_names = y.unique(),\n            filled = True)"
      ]
    },
    {
      "cell_type": "code",
      "id": "5ae7d742-023c-4764-8f85-7579d2b7917e",
      "metadata": {},
      "outputs": [],
      "source": [
        "fig.savefig('decision_tree.png')"
      ]
    },
    {
      "cell_type": "markdown",
      "id": "209fda62-930b-4e63-8a91-ae11fe7f9978",
      "metadata": {},
      "outputs": [],
      "source": [
        "Or you can use **[python-graphviz](https://scikit-learn.org/stable/modules/generated/sklearn.tree.export_graphviz.html)** library. This is more fast function"
      ]
    },
    {
      "cell_type": "code",
      "id": "452c0d2e-0002-419d-a28b-8bf02109d281",
      "metadata": {},
      "outputs": [],
      "source": [
        "import graphviz\ndot_data = tree.export_graphviz(model,\n               max_depth = 7,\n               feature_names = col,\n               class_names = y.unique(),\n                                filled=True)"
      ]
    },
    {
      "cell_type": "markdown",
      "id": "019253c0-0d05-4bc3-b1aa-afb35616fb03",
      "metadata": {},
      "outputs": [],
      "source": [
        "After creation you can draw graph"
      ]
    },
    {
      "cell_type": "code",
      "id": "53dec504-3579-4401-820a-b8b0923b0a2e",
      "metadata": {},
      "outputs": [],
      "source": [
        "graph = graphviz.Source(dot_data, format=\"png\")\ngraph"
      ]
    },
    {
      "cell_type": "markdown",
      "id": "24a94567-aefb-4b3a-baab-a7725fe08c8f",
      "metadata": {},
      "outputs": [],
      "source": [
        "And render it into file:"
      ]
    },
    {
      "cell_type": "code",
      "id": "a8769fd8-6ff7-44fa-98c6-b8f4ba0abf7f",
      "metadata": {},
      "outputs": [],
      "source": [
        "graph.render(\"decision_tree_graphivz\")"
      ]
    },
    {
      "cell_type": "markdown",
      "id": "4e02bbd1-835c-40c2-bf62-a2d10caabf7c",
      "metadata": {},
      "outputs": [],
      "source": [
        "Now let's try out our model."
      ]
    },
    {
      "cell_type": "markdown",
      "id": "5bb98f2c-b369-439d-946f-d6f913b87490",
      "metadata": {},
      "outputs": [],
      "source": [
        "### Select patient with index 1 and using build up diagram above try to predict will patient be readmitted or not."
      ]
    },
    {
      "cell_type": "markdown",
      "id": "e62ba19b-fef2-4f3f-bf6b-edcbdd03843e",
      "metadata": {},
      "outputs": [],
      "source": [
        "Num Medications <= 0.119(0.15) --> false | Diagnosis1 <= 95.5(454) --> false | Diagnosis3 <= 86.5(766) --> false | Diagnosis2 <= 78.5(78) --> true | Diagnosis2 <= 53.5(78) --> false | Num Lab Procedures <= 0.195(0.076) --> true | Num Medications <= 0.144(0.15) --> false ==> **result is <30 , in DataSet Readmitted value is NO. Prediction is wrong because tree diagram is not fully build and prediction is not as persistent as it have to.**"
      ]
    },
    {
      "cell_type": "markdown",
      "id": "0ede48bb-aca4-4c24-8a8d-9666d808ee38",
      "metadata": {},
      "outputs": [],
      "source": [
        "### Now select patient with index 0."
      ]
    },
    {
      "cell_type": "markdown",
      "id": "bd0691ae-3995-4809-96d0-3a6e91519800",
      "metadata": {},
      "outputs": [],
      "source": [
        "Num Medications <= 0.119(0.2) --> false | Diagnosis1 <= 95.5(259) --> false | Diagnosis3 <= 86.5(256) --> false | Diagnosis2 <= 78.5(246) --> false | Num Medications <= 0.469(0.2) --> true | Diagnosis1 <= 338.5(259) --> true | Diagnosis1 <= 275.5(259) --> true ==> **the result is <30, which matches the value in the DataSet. So we correctly predicted the patient's value.**"
      ]
    },
    {
      "cell_type": "markdown",
      "id": "8f9345c6-5afb-41d6-8547-923e28f1b0a4",
      "metadata": {},
      "outputs": [],
      "source": [
        "## 9. Conclusions"
      ]
    },
    {
      "cell_type": "markdown",
      "id": "95b02006-ea74-4beb-815e-a99d4177aae1",
      "metadata": {},
      "outputs": [],
      "source": [
        "In this lab we learned to do preliminary data processing. In particular, change data types, normalize and process categorical data. It was shown how to make feature selection by different methods. Learned how to build training and test DataSets. Shows how to work with different classifiers. It was also shown how to visualize a decision tree.\nAs a result of lab it was shown how on the basis of a statistical database predict."
      ]
    },
    {
      "cell_type": "markdown",
      "id": "3f5e10e9-c989-4de6-a62b-c7f7ba670e39",
      "metadata": {},
      "outputs": [],
      "source": [
        "### Thank you for completing this lab!\n\n## Author\n\n<a href=\"https://author.skills.network/instructors/dmytro_yesyp\" target=\"_blank\">Dmytro Yesyp</a>\n\n### Other Contributors\n\n<a href=\"https://author.skills.network/instructors/yaroslav_vyklyuk_2\">Prof. Yaroslav Vyklyuk, DrSc, PhD</a>\n\n<a href=\"https://author.skills.network/instructors/nataliya_boyko\">Ass. Prof. Nataliya Boyko, PhD</a>\n\n## Change Log\n\n| Date (YYYY-MM-DD) | Version | Changed By | Change Description                                         |\n| ----------------- | ------- | ---------- | ---------------------------------------------------------- |\n| 2023-03-18       | 01     | Dmytro Yesyp     | Lab created|\n<hr>\n\n## <h3 align=\"center\"> © IBM Corporation 2023. All rights reserved. <h3/>\n"
      ]
    },
    {
      "cell_type": "code",
      "id": "7baf174f-04b9-40fd-869b-af543ed985d8",
      "metadata": {},
      "outputs": [],
      "source": [
        ""
      ]
    }
  ],
  "metadata": {
    "language_info": {
      "name": ""
    },
    "kernelspec": {
      "name": "",
      "display_name": ""
    }
  },
  "nbformat": 4,
  "nbformat_minor": 4
}