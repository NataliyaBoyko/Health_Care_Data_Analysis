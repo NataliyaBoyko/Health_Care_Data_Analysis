{
  "cells": [
    {
      "cell_type": "markdown",
      "id": "ef65007d-db73-4a8c-9c81-2504d02cfd23",
      "metadata": {},
      "outputs": [],
      "source": [
        "<center>\n    <img src=\"https://cf-courses-data.s3.us.cloud-object-storage.appdomain.cloud/assets/logos/SN_web_lightmode.png\" width=\"300\" alt=\"SN_web_lightmode.png logo\"/>\n</center>\n\n# Investigation of diabetes patients readmission among US hospitals\n\n\n# Lab 2. Data Wrangling\n\nEstimated time needed: **30** minutes\n\n## Objectives\n\nAfter completing this lab you will be able to:\n\n*   Handle missing values\n*   Correct data format\n*   Standardize and normalize data"
      ]
    },
    {
      "cell_type": "markdown",
      "id": "69914141-b316-48d9-8aa5-640b2d58bf38",
      "metadata": {},
      "outputs": [],
      "source": [
        "<h2>Table of Contents</h2>\n\n<div class=\"alert alert-block alert-info\" style=\"margin-top: 20px\">\n<ul>\n    <li><a href=\"https://#identify_handle_missing_values\">Identify and handle missing values</a>\n        <ul>\n            <li><a href=\"https://#identify_missing_values\">Identify missing values</a></li>\n            <li><a href=\"https://#deal_missing_values\">Deal with missing values</a></li>\n            <li><a href=\"https://#correct_data_format\">Correct data format</a></li>\n        </ul>\n    </li>\n    <li><a href=\"https://#data_standardization\">Data standardization</a></li>\n    <li><a href=\"https://#data_normalization\">Data normalization (centering/scaling)</a></li>\n    <li><a href=\"https://#binning\">Binning</a></li>\n    <li><a href=\"https://#indicator\">Indicator variable</a></li>\n</ul>\n\n</div>\n\n<hr>\n"
      ]
    },
    {
      "cell_type": "markdown",
      "id": "85d5d706-9222-4eb0-be4e-ed3b7f08b00f",
      "metadata": {},
      "outputs": [],
      "source": [
        "<h2>What is the purpose of data wrangling?</h2>\n"
      ]
    },
    {
      "cell_type": "markdown",
      "id": "bd2df614-e542-42e8-8263-2d79039dec14",
      "metadata": {},
      "outputs": [],
      "source": [
        "Data wrangling is the process of converting data from the initial format to a format that may be better for analysis.\n"
      ]
    },
    {
      "cell_type": "markdown",
      "id": "1c82f89b-b6c3-4c16-99eb-12a0a2cbb52d",
      "metadata": {},
      "outputs": [],
      "source": [
        "<h3>How to change \"Yes\" and \"No\" to True and False?</h3>\n"
      ]
    },
    {
      "cell_type": "markdown",
      "id": "e0bdabb8-1da0-4c8a-9167-65c4688abdc5",
      "metadata": {},
      "outputs": [],
      "source": [
        "<h3>Import data</h3>\n<p>\nYou can find the \"Diabetes\" from the following link: <a href=\"https://www.kaggle.com/datasets/brandao/diabetes\">https://www.kaggle.com/datasets/brandao/diabetes</a>.\nWe will be using this dataset throughout this course.\n</p>\n"
      ]
    },
    {
      "cell_type": "markdown",
      "id": "c9059d11-94bc-4dde-8934-3d35e7e6e5c3",
      "metadata": {},
      "outputs": [],
      "source": [
        "<h4>Import needed libraries</h4> \n"
      ]
    },
    {
      "cell_type": "code",
      "id": "cab6943f-2053-4fcb-9791-4169f7adb5dc",
      "metadata": {},
      "outputs": [],
      "source": [
        "conda install -c anaconda scikit-learn"
      ]
    },
    {
      "cell_type": "code",
      "id": "4d01509c-1478-4986-8b02-0dcb65bf15c7",
      "metadata": {},
      "outputs": [],
      "source": [
        "%matplotlib inline\nimport matplotlib.pylab as plt\nfrom matplotlib import pyplot\nimport pandas as pd\nimport sklearn as sklearn\nimport scipy.stats as stats\nfrom sklearn.metrics import recall_score\nfrom sklearn.metrics import mean_absolute_percentage_error\nimport math\nimport numpy as np"
      ]
    },
    {
      "cell_type": "markdown",
      "id": "fcbfce29-d217-4ada-ada3-00e766b0c23a",
      "metadata": {},
      "outputs": [],
      "source": [
        "<h2>Reading the dataset from the URL and adding the related headers</h2>\n"
      ]
    },
    {
      "cell_type": "markdown",
      "id": "035f31ff-b08f-4d40-b951-de945f5ca510",
      "metadata": {},
      "outputs": [],
      "source": [
        "First, we assign the URL of the dataset to \"filename\".\n"
      ]
    },
    {
      "cell_type": "code",
      "id": "94b29d9f-ab54-41d8-bcd1-ec897345f01c",
      "metadata": {},
      "outputs": [],
      "source": [
        "filename = \"https://cf-courses-data.s3.us.cloud-object-storage.appdomain.cloud/IBMSkillsNetwork-GPXX09J0EN/diabetes.csv\""
      ]
    },
    {
      "cell_type": "markdown",
      "id": "c2d964e9-23d0-4bfb-80f4-45f17e86630c",
      "metadata": {},
      "outputs": [],
      "source": [
        "Then, we create a Python list <b>headers</b> containing name of headers.\n"
      ]
    },
    {
      "cell_type": "markdown",
      "id": "b957b814-45f9-4e63-896d-0633e6999b1b",
      "metadata": {},
      "outputs": [],
      "source": [
        "Use the Pandas method <b>read_csv()</b> to load the data from the web address. Set \"df.columns\" equal to the Python list \"headers\".\n"
      ]
    },
    {
      "cell_type": "code",
      "id": "8564ddf0-d95f-4ee5-9e68-0c8a272b9959",
      "metadata": {},
      "outputs": [],
      "source": [
        "df = pd.read_csv(filename)"
      ]
    },
    {
      "cell_type": "code",
      "id": "98d4728c-fa67-40f7-b6fc-42ba2220e918",
      "metadata": {},
      "outputs": [],
      "source": [
        "headers = [\"Encounter Id\",\"Patient Number\",\"Race\",\"Gender\",\"Age\",\"Weight\",\"Admission Type Id\",\n           \"Discharge Disposition Id\",\"Admission Source Id\",\"Time In Hospital\",\"Payer Code\",\n           \"Medical Specialty\",\"Num Lab Procedures\",\"Num Procedures\",\"Num Medications\",\n           \"Number Outpatient\",\"Number Emergency\",\"Number Inpatient\",\"Diagnosis1\",\"Diagnosis2\",\n           \"Diagnosis3\",\"Number Diagnoses\",\"Max Glu Serum\",\"A1c Result\",\"Metformin\",\"Repaglinide\",\n           \"Nateglinide\",\"Chlorpropamide\",\"Glimepiride\",\"Acetohexamide\",\"Glipizide\",\n           \"Glyburide\",\"Tolbutamide\",\"Pioglitazone\",\"Rosiglitazone\",\"Acarbose\",\"Miglitol\",\n           \"Troglitazone\",\"Tolazamide\",\"Examide\",\"Citoglipton\",\"Insulin\",\"Glyburide-metformin\",\n           \"Glipizide-metformin\",\"Glimepiride-pioglitazone\",\"Metformin-rosiglitazone\",\"Metformin-pioglitazone\",\n           \"Change\",\"Diabetes Medication\",\"Readmitted\"]\ndf.columns = headers"
      ]
    },
    {
      "cell_type": "markdown",
      "id": "a4d8c3f9-ea71-49d7-a2d3-c0f3b80a21f4",
      "metadata": {},
      "outputs": [],
      "source": [
        "Use the method <b>head()</b> to display the first five rows of the dataframe.\n"
      ]
    },
    {
      "cell_type": "code",
      "id": "b9db7534-4621-471c-96ef-325389ca06c8",
      "metadata": {},
      "outputs": [],
      "source": [
        "# To see what the data set looks like, we'll use the head() method.\ndf.head()"
      ]
    },
    {
      "cell_type": "markdown",
      "id": "185d47a0-724c-46b1-a4e1-e1e78b95e370",
      "metadata": {},
      "outputs": [],
      "source": [
        "As we can see, several question marks appeared in the dataframe; those are missing values which may hinder our further analysis.\n\n<div>So, how do we identify all those missing values and deal with them?</div> \n\n<b>How to work with missing data?</b>\n\nSteps for working with missing data:\n\n<ol>\n    <li>Identify missing data</li>\n    <li>Deal with missing data</li>\n    <li>Correct data format</li>\n</ol>\n"
      ]
    },
    {
      "cell_type": "markdown",
      "id": "3b79c957-bd64-479d-8a01-fb1b8c08e3e3",
      "metadata": {},
      "outputs": [],
      "source": [
        "<h2 id=\"identify_handle_missing_values\">Identify and handle missing values</h2>\n\n<h3 id=\"identify_missing_values\">Identify missing values</h3>\n<h4>Convert \"?\" to NaN</h4>\nIn the diabetes dataset, missing data comes with the question mark \"?\".\nWe replace \"?\" with NaN (Not a Number), Python's default missing value marker for reasons of computational speed and convenience. Here we use the function: \n <pre>.replace(A, B, inplace = True) </pre>\nto replace A by B.\n"
      ]
    },
    {
      "cell_type": "code",
      "id": "17d469bb-7e20-49e8-93cd-4fe1dcd3924e",
      "metadata": {},
      "outputs": [],
      "source": [
        "df.replace(\"?\", np.nan, inplace = True)\ndf.head(5)"
      ]
    },
    {
      "cell_type": "markdown",
      "id": "14f59c3f-b98c-49d3-b41f-4f54ae37d465",
      "metadata": {},
      "outputs": [],
      "source": [
        "<h4>Evaluating for Missing Data</h4>\n\nThe missing values are converted by default. We use the following functions to identify these missing values. There are two methods to detect missing data:\n<ol>\n    <li><b>.isnull()</b></li>\n    <li><b>.notnull()</b></li>\n</ol>\nThe output is a boolean value indicating whether the value that is passed into the argument is in fact missing data.\n"
      ]
    },
    {
      "cell_type": "code",
      "id": "86cbe4c7-9ef8-4a1a-8df2-9cd3977971a1",
      "metadata": {},
      "outputs": [],
      "source": [
        "missing_data = df.isnull()\nmissing_data.head(5)"
      ]
    },
    {
      "cell_type": "markdown",
      "id": "a09d260d-32f1-427f-adc9-7efcf92a56c3",
      "metadata": {},
      "outputs": [],
      "source": [
        "\"True\" means the value is a missing value while \"False\" means the value is not a missing value.\n"
      ]
    },
    {
      "cell_type": "markdown",
      "id": "aec3587f-6c2b-4b90-addf-9bd60c11a7c3",
      "metadata": {},
      "outputs": [],
      "source": [
        "<h4>Count missing values in each column</h4>\n<p>\nUsing a for loop in Python, we can quickly figure out the number of missing values in each column. As mentioned above, \"True\" represents a missing value and \"False\" means the value is present in the dataset.  In the body of the for loop the method \".value_counts()\" counts the number of \"True\" values. \n</p>\n"
      ]
    },
    {
      "cell_type": "code",
      "id": "ee07d5ae-4625-43ff-ac03-1e20a9e6b7b5",
      "metadata": {},
      "outputs": [],
      "source": [
        "for column in missing_data.columns.values.tolist():\n    print(column)\n    print (missing_data[column].value_counts())\n    print(\"\")    "
      ]
    },
    {
      "cell_type": "markdown",
      "id": "2a16e024-cd66-45cf-84da-971ba7f0a0a4",
      "metadata": {},
      "outputs": [],
      "source": [
        "Based on the summary above, each column has 101766 rows of data and seven of the columns containing missing data:\n\n<ol>\n    <li>\"Race\": 2273 missing data</li>\n    <li>\"Weight\": 98569 missing data</li>\n    <li>\"PayerCode\": 40256 missing data</li>\n    <li>\"MedicalSpecialty\" : 49949 missing data</li>\n    <li>\"Diagnosis1\": 21 missing data</li>\n    <li>\"Diagnosis2\": 358 missing data</li>\n    <li>\"Diagnosis3\": 1423 missing data</li>\n</ol>\n"
      ]
    },
    {
      "cell_type": "markdown",
      "id": "4ee4978b-5455-4ae4-b486-045dd7521242",
      "metadata": {},
      "outputs": [],
      "source": [
        "<h3 id=\"deal_missing_values\">Deal with missing data</h3>\n<b>How to deal with missing data?</b>\n\n<ol>\n    <li>Drop data<br>\n        a. Drop the whole row<br>\n        b. Drop the whole column\n    </li>\n    <li>Replace data<br>\n        a. Replace it by mean<br>\n        b. Replace it by frequency<br>\n        c. Replace it based on other functions\n    </li>\n</ol>\n"
      ]
    },
    {
      "cell_type": "markdown",
      "id": "1663a78d-144f-4a3a-b1b8-edd314f5562e",
      "metadata": {},
      "outputs": [],
      "source": [
        "Whole columns should be dropped only if most entries in the column are empty. In our dataset, none of the columns are empty enough to drop entirely.\nWe have some freedom in choosing which method to replace data; however, some methods may seem more reasonable than others. We will apply some of these methods to different columns:\n\n<b>Replace by frequency:</b>\n<ul>\n    <li>\"Race\": 2273 missing data\n        <ul>\n            <li>Reason: \"Race\" column cannot be replaced by mean value, so the obvious decision would be to find the most frequent value and replace Nan data.</li>\n        </ul>\n    </li>\n    <li>\"PayerCode\": 40256 missing data\n        <ul>\n            <li>Reason: \"PayerCode\" column cannot be replaced by mean value, and 40256 rows are too much to simply throw away. So just replace empty rows with the most frequent value.</li>\n        </ul>\n    </li>\n    <li>\"MedicalSpecialty\" : 49949 missing data</li>\n     <ul>\n            <li>Reason: \"MedicalSpecialty\" column cannot be replaced by mean value, and thrown away. So replace them with the most frequent value.</li>\n        </ul>\n    <li>\"Diagnosis2\": 358 missing data, replace it with the most frequent value.</li>\n    <li>\"Diagnosis3\": 1423 missing data, replace it with the most frequent value.</li>\n    <li>\"Weight\": 98569 missing data, replace it with the most frequent value.</li>\n</ul>\n<b>Drop the whole row:</b>\n<ul>\n    <li>\"Diagnosis1\": 21 missing rows is not much, so simply delete them.</li>\n</ul>"
      ]
    },
    {
      "cell_type": "markdown",
      "id": "e0f81d19-2904-48e9-a6cb-e629efb8f8ef",
      "metadata": {},
      "outputs": [],
      "source": [
        "<div class=\"alert alert-danger alertdanger\" style=\"margin-top: 20px\">\n<h1> Question  #1: </h1>\n\n<b>Based on the example above, replace NaN in \"PayerCode\" column with the most frequent value.</b>\n\n</div>"
      ]
    },
    {
      "cell_type": "code",
      "id": "7c247adb-719a-4e6a-8528-f5d4659560e2",
      "metadata": {},
      "outputs": [],
      "source": [
        "# Write your code below and press Shift+Enter to execute"
      ]
    },
    {
      "cell_type": "markdown",
      "id": "39014cde-3f3d-4094-a0fb-03bb21f915a3",
      "metadata": {},
      "outputs": [],
      "source": [
        "<details><summary>Click here for the solution</summary>\n\n```python\n#Calculate the most frequent vaule for \"PayerCode\" column\nmost_frequent_payer_code = df[\"Payer Code\"].value_counts().idxmax()\nprint(\"Average payer code:\", most_frequent_payer_code)\n\n# Replace \"NaN\" with the mean value in the \"PayerCode\" column</h4>\n\ndf['Payer Code'].replace(np.nan, most_frequent_payer_code, inplace=True)\n```\n</details>"
      ]
    },
    {
      "cell_type": "markdown",
      "id": "6a4cf371-dfe7-45da-99e6-3c102336b20a",
      "metadata": {},
      "outputs": [],
      "source": [
        "<h4>Calculating the mean value for column</h4>"
      ]
    },
    {
      "cell_type": "raw",
      "id": "971895bb-53af-44a2-a2db-2cd86272046c",
      "metadata": {},
      "outputs": [],
      "source": [
        "avg_column = df['column'].astype('float').mean(axis=0)\nprint(\"Average column:\", avg_column)"
      ]
    },
    {
      "cell_type": "markdown",
      "id": "343c0bce-5b3a-4e63-bb41-5592334a2177",
      "metadata": {},
      "outputs": [],
      "source": [
        "<h4>Replace \"NaN\" with the mean value in the column</h4>"
      ]
    },
    {
      "cell_type": "raw",
      "id": "fb014137-13f2-4804-82c8-e69076527224",
      "metadata": {},
      "outputs": [],
      "source": [
        "df['column'].replace(np.nan, avg_column, inplace=True)"
      ]
    },
    {
      "cell_type": "markdown",
      "id": "ee46d87e-be1f-4839-af82-54ee8204e79d",
      "metadata": {},
      "outputs": [],
      "source": [
        "<h4>Calculate the most frequent value for the \"Race\",Diagnosis2\",\"Diagnosis3\",\"Weight\" column</h4>"
      ]
    },
    {
      "cell_type": "code",
      "id": "20478dc3-1ae2-4d00-b9ad-65b69ae1230c",
      "metadata": {},
      "outputs": [],
      "source": [
        "avg_race = df['Race'].value_counts().idxmax()\navg_diagnosis_2 = df['Diagnosis2'].value_counts().idxmax()\navg_diagnosis_3 = df['Diagnosis3'].value_counts().idxmax()\navg_weight = df['Weight'].value_counts().idxmax()\n\nprint(\"Average Race:\", avg_race)\nprint(\"Average second diagnosis:\", avg_diagnosis_2)\nprint(\"Average third diagnosis:\", avg_diagnosis_3)\nprint(\"Average weight:\", avg_weight)"
      ]
    },
    {
      "cell_type": "markdown",
      "id": "c4f3c3af-085f-47ac-a251-a98a81e82908",
      "metadata": {},
      "outputs": [],
      "source": [
        "<h4>Replace \"NaN\" with the mean value in the \"Race\",Diagnosis2\",\"Diagnosis3\",\"Weight\" column</h4>\n"
      ]
    },
    {
      "cell_type": "code",
      "id": "07741986-d0a7-46c5-9c91-507cc1d2dbbe",
      "metadata": {},
      "outputs": [],
      "source": [
        "df['Race'].replace(np.nan, avg_race, inplace=True)\ndf['Diagnosis2'].replace(np.nan, avg_diagnosis_2, inplace=True)\ndf['Diagnosis3'].replace(np.nan, avg_diagnosis_3, inplace=True)\ndf['Weight'].replace(np.nan, avg_weight, inplace=True)"
      ]
    },
    {
      "cell_type": "markdown",
      "id": "b276f4c8-fde7-411c-909b-bda34f6be22a",
      "metadata": {},
      "outputs": [],
      "source": [
        "<h4>Calculate the most frequent value for \"PayerCode\" column</h4>\n"
      ]
    },
    {
      "cell_type": "code",
      "id": "497ef5f3-dcbc-4d7a-926b-6c803dbfb70e",
      "metadata": {},
      "outputs": [],
      "source": [
        "most_frequent_payer_code = df[\"Payer Code\"].value_counts().idxmax()\nprint(\"Most frequent payer code:\", most_frequent_payer_code)\nprint(df[\"Payer Code\"].value_counts())"
      ]
    },
    {
      "cell_type": "markdown",
      "id": "9cbb47c2-ca4e-4314-b16b-ab8b269d4c5a",
      "metadata": {},
      "outputs": [],
      "source": [
        "<h4>Replace \"NaN\" with the mean value in the \"PayerCode\" column</h4>\n"
      ]
    },
    {
      "cell_type": "code",
      "id": "d9a2b1ca-fa7d-413f-ae3a-e3c790a8a9b2",
      "metadata": {},
      "outputs": [],
      "source": [
        "df['Payer Code'].replace(np.nan, most_frequent_payer_code, inplace=True)"
      ]
    },
    {
      "cell_type": "markdown",
      "id": "af6bb150-379c-4347-b4da-da409c3762fc",
      "metadata": {},
      "outputs": [],
      "source": [
        "To see which values are present in a particular column, we can use the \".value_counts()\" method:\n"
      ]
    },
    {
      "cell_type": "code",
      "id": "69c34145-7387-4033-8c99-1621139aa639",
      "metadata": {},
      "outputs": [],
      "source": [
        "df['Medical Specialty'].value_counts()"
      ]
    },
    {
      "cell_type": "markdown",
      "id": "c535a5ae-2d56-4f36-8fa0-1df748186465",
      "metadata": {},
      "outputs": [],
      "source": [
        "We can see that InternalMedicine are the most common type. We can also use the \".idxmax()\" method to calculate the most common type automatically:\n"
      ]
    },
    {
      "cell_type": "code",
      "id": "1dfde798-b0d9-4488-974a-51e4a0ff46c5",
      "metadata": {},
      "outputs": [],
      "source": [
        "df['Medical Specialty'].value_counts().idxmax()"
      ]
    },
    {
      "cell_type": "markdown",
      "id": "3fc0d550-a9f3-4976-b048-5d76a451fbe0",
      "metadata": {},
      "outputs": [],
      "source": [
        "The replacement procedure is very similar to what we have seen previously:\n"
      ]
    },
    {
      "cell_type": "code",
      "id": "7b35cbe9-5c24-43a9-9395-c998bfbac63d",
      "metadata": {},
      "outputs": [],
      "source": [
        "#replace the missing \"MedicalSpecialty' values by the most frequent\ndf[\"Medical Specialty\"].replace(np.nan, \"InternalMedicine\", inplace=True)"
      ]
    },
    {
      "cell_type": "markdown",
      "id": "81dd99f2-9df6-43e2-a2d1-b379b634a529",
      "metadata": {},
      "outputs": [],
      "source": [
        "Finally, let's drop all rows that do not have \"Diagnosis1\" data:"
      ]
    },
    {
      "cell_type": "code",
      "id": "b7ff0594-42c5-43b0-8c22-f10776217a90",
      "metadata": {},
      "outputs": [],
      "source": [
        "# simply drop whole row with NaN in \"Diagnosis1\" column\ndf.dropna(subset=[\"Diagnosis1\"], axis=0, inplace=True)\n\n# reset index, because we droped two rows\ndf.reset_index(drop=True, inplace=True)"
      ]
    },
    {
      "cell_type": "code",
      "id": "d1d9b606-080f-471d-99cf-fe7e88d56025",
      "metadata": {},
      "outputs": [],
      "source": [
        "df.head()"
      ]
    },
    {
      "cell_type": "markdown",
      "id": "4068027d-19a1-43c1-8e49-8b0a0ec9b861",
      "metadata": {},
      "outputs": [],
      "source": [
        "<b>Good!</b> Now, we have a dataset with no missing values.\n"
      ]
    },
    {
      "cell_type": "markdown",
      "id": "60c648e1-426b-40d3-bec7-bc5d8998cb64",
      "metadata": {},
      "outputs": [],
      "source": [
        "<h2>Analyze data loss among restored dataframe.</h2>\n\nHere we will investigate how much data we will lose after replacing it by mean and the most frequent value."
      ]
    },
    {
      "cell_type": "code",
      "id": "8acb1b00-40ce-470c-9d31-a060c2dfe2df",
      "metadata": {},
      "outputs": [],
      "source": [
        "#this code creates new dataframes df2 df3_clean removes all nan values from columns\ndf2 = pd.read_csv(filename)\ndf2.columns = headers\ndf2.replace(\"?\", np.nan, inplace = True)\n#here we drops nan data in mentioned columns\ndf2.dropna(subset=[\"Race\"], axis=0, inplace=True)\ndf2.dropna(subset=[\"Time In Hospital\"], axis=0, inplace=True)\ndf2.dropna(subset=[\"Gender\"], axis=0, inplace=True)\ndf2.dropna(subset=[\"Num Lab Procedures\"], axis=0, inplace=True)\ndf2.dropna(subset=[\"Diabetes Medication\"], axis=0, inplace=True)\ndf3_clean = df2.copy()\n\n#this part generates nan values among columns\nl = [0.15, 0.1, 0.12, 0.1, 0.01]\ncol = ['Race', 'Time In Hospital', 'Gender', 'Num Lab Procedures', 'Diabetes Med']\nfor i in range(len(l)):\n    m = np.random.rand(len(df2))\n    mask = m < l[i]\n    df2.loc[mask, col[i]] = np.NaN\n"
      ]
    },
    {
      "cell_type": "markdown",
      "id": "4e9ee0af-b28f-4498-ae6e-d7814ff63181",
      "metadata": {},
      "outputs": [],
      "source": [
        "After adding nan values we need to restore columns by different methods."
      ]
    },
    {
      "cell_type": "code",
      "id": "ad0461dd-4b64-4f18-b52c-3aa0bbe809c6",
      "metadata": {},
      "outputs": [],
      "source": [
        "# replacing nan values by the most frequent value\navg_race = df2['Race'].value_counts().idxmax()\ndf2['Race'].replace(np.nan, avg_race, inplace=True)\n\navg_gender = df2['Gender'].value_counts().idxmax()\ndf2['Gender'].replace(np.nan, avg_gender, inplace=True)\n\ndiabetes_meds = df2['Diabetes Medication'].value_counts().idxmax()\ndf2['Diabetes Medication'].replace(np.nan, diabetes_meds, inplace=True)\n\n# replacing nan values mean value\nlab_procedures = df2['Num Lab Procedures'].astype('float').mean(axis=0)\ndf2['Num Lab Procedures'].replace(np.nan, lab_procedures, inplace=True)\n\navg_time_in_hospital = df2['Time In Hospital'].astype('float').mean(axis=0)\ndf2['Time In Hospital'].replace(np.nan, avg_time_in_hospital, inplace=True)"
      ]
    },
    {
      "cell_type": "markdown",
      "id": "5e0221d1-dc96-472c-bbf7-06d59ffe8dbf",
      "metadata": {},
      "outputs": [],
      "source": [
        "To find error we will use sklearn.metrics, .mean_absolute_percentage_error for float variables and .recall_score for object values."
      ]
    },
    {
      "cell_type": "code",
      "id": "348d7722-346c-410e-9144-8cea2f1864a9",
      "metadata": {},
      "outputs": [],
      "source": [
        "cm = recall_score(df3_clean['Race'],df2['Race'],average='micro')\nprint(\"Error of Race :\", math.trunc((1 - cm)*100),'%')\n\ncm = recall_score(df3_clean['Gender'],df2['Gender'],average='micro')\nprint(\"Error of Gender :\", math.trunc((1 - cm)*100),'%')\n\ncm = recall_score(df3_clean['Diabetes Medication'],df2['Diabetes Medication'],average='micro')\nprint(\"Error of Diabetes Medication : \", math.trunc((1 - cm)*100),'%')\n\nnum_lab_procedures_error = mean_absolute_percentage_error(df2['Num Lab Procedures'], df3_clean['Num Lab Procedures'])\nprint('Error of NumLabProcedures: ', math.trunc(num_lab_procedures_error*100),'%')\n\ntime_in_hospital_error = mean_absolute_percentage_error(df2['Time In Hospital'], df3_clean['Time In Hospital'])\nprint('Error of TimeInHospital: ', math.trunc(time_in_hospital_error*100),'%')"
      ]
    },
    {
      "cell_type": "markdown",
      "id": "fae0de97-19a4-4496-87fd-b1de154bfd8e",
      "metadata": {},
      "outputs": [],
      "source": [
        "As we can notice error is low, from 0.2% to 5.3%. So we can rely on this type of data recovering."
      ]
    },
    {
      "cell_type": "markdown",
      "id": "2f683f2d-a54b-4367-b0c2-ae15bb9b89fe",
      "metadata": {},
      "outputs": [],
      "source": [
        "<h3 id=\"correct_data_format\">Correct data format</h3>\n<b>We are almost there!</b>\n<p>The last step in data cleaning is checking and making sure that all data is in the correct format (int, float, text or other).</p>\n\nIn Pandas, we use:\n\n<p><b>.dtype()</b> to check the data type</p>\n<p><b>.astype()</b> to change the data type</p>\n"
      ]
    },
    {
      "cell_type": "markdown",
      "id": "f5e21712-59a3-45ba-8545-692626e5d2c6",
      "metadata": {},
      "outputs": [],
      "source": [
        "<h4>Let's list the data types for each column</h4>\n"
      ]
    },
    {
      "cell_type": "code",
      "id": "24299a5c-a650-47e8-b62d-a46288c94d1d",
      "metadata": {},
      "outputs": [],
      "source": [
        "df.dtypes"
      ]
    },
    {
      "cell_type": "markdown",
      "id": "e1f87112-8586-413c-9d4d-813e377c8a9d",
      "metadata": {},
      "outputs": [],
      "source": [
        "<p>As we can see above, some columns are not of the correct data type. Numerical variables should have type 'float' or 'int', and variables with strings should have type 'object'. For example, 'Gender', 'Age' variables are Object values that descraibes categorical data, so we should expect them to be 'category' type. We have to convert data types into a proper format for each column using the \"astype()\" method.</p>\n"
      ]
    },
    {
      "cell_type": "markdown",
      "id": "4e1bfb75-ce94-4ada-b7a2-ba9c6f65a0be",
      "metadata": {},
      "outputs": [],
      "source": [
        "<h4>Convert data types to proper format</h4>\n"
      ]
    },
    {
      "cell_type": "code",
      "id": "9480579d-fec2-4145-9de5-9c644b4b00fc",
      "metadata": {},
      "outputs": [],
      "source": [
        "df[[\"Gender\", \"Age\"]] = df[[\"Gender\", \"Age\"]].astype(\"category\")"
      ]
    },
    {
      "cell_type": "markdown",
      "id": "6d852310-41a3-435b-9cda-945548b2330a",
      "metadata": {},
      "outputs": [],
      "source": [
        "<h4>Let us list the columns after the conversion</h4>\n"
      ]
    },
    {
      "cell_type": "code",
      "id": "432ebaa0-3706-44d4-a40e-4a4d0287102b",
      "metadata": {},
      "outputs": [],
      "source": [
        "df.dtypes"
      ]
    },
    {
      "cell_type": "markdown",
      "id": "2b13161d-b185-41f6-a490-dd39e192c968",
      "metadata": {},
      "outputs": [],
      "source": [
        "<b>Wonderful!</b>\n\nNow we have finally obtained the cleaned dataset with no missing values with all data in its proper format.\n"
      ]
    },
    {
      "cell_type": "markdown",
      "id": "d8131981-93f6-48e3-a453-9aa29dfcba38",
      "metadata": {},
      "outputs": [],
      "source": [
        "<h2 id=\"data_standardization\">Data Standardization</h2>\n<p>\nData is usually collected from different agencies in different formats.\n(Data standardization is also a term for a particular type of data normalization where we subtract the mean and divide by the standard deviation.)\n</p>\n\n<b>What is standardization?</b>\n\n<p>Standardization is the process of transforming data into a common format, allowing the researcher to make the meaningful comparison.\n</p>\n\n<b>Example</b>\n\n<p>Transform Diabetes Medication to Prescribed Diabetes Medication:</p>\n<p>We will need to apply <b>data transformation</b> to transform Diabetes Medication into Prescribed Diabetes Medication.</p>\n\n"
      ]
    },
    {
      "cell_type": "markdown",
      "id": "c2f58fd6-dadf-489b-9ba2-aec7a6d662c2",
      "metadata": {},
      "outputs": [],
      "source": [
        "<p>The code for unit conversion is:<p>\ndf[\"Diabetes Medication\"] = 'Yes' == df[\"Diabetes Medication\"]\n<p>If we need to, we can do many mathematical operations directly in Pandas.</p>\n"
      ]
    },
    {
      "cell_type": "code",
      "id": "a5b91423-fdc2-4abb-b370-ac7359986175",
      "metadata": {},
      "outputs": [],
      "source": [
        "df['Diabetes Medication'].head()"
      ]
    },
    {
      "cell_type": "markdown",
      "id": "3df20c90-aa8e-4eae-92e7-b2576ef73f8b",
      "metadata": {},
      "outputs": [],
      "source": [
        "<div class=\"alert alert-danger alertdanger\" style=\"margin-top: 20px\">\n<h1> Question  #2: </h1>\n\n<b>According to the example above, transform \"Yes\" \"No\" to True False in the column of \"Diabetes Medication\" and change the name of column to \"Prescribed Diabetes Medication\".</b>\n\n</div>\n"
      ]
    },
    {
      "cell_type": "code",
      "id": "05d149d3-cd42-49d7-b514-0e69f9db6927",
      "metadata": {},
      "outputs": [],
      "source": [
        "# Write your code below and press Shift+Enter to execute"
      ]
    },
    {
      "cell_type": "markdown",
      "id": "dbc6a86f-7605-4224-b825-8f7e8de6879a",
      "metadata": {},
      "outputs": [],
      "source": [
        "<details><summary>Click here for the solution</summary>\n\n```python\n# Convert Yes, No values to Boolean True, False\ndf['Diabetes Medication'] = 'Yes' == df[\"Diabetes Medication\"]\n# rename column name from \"Diabetes Medication\" to \"Prescribed Diabetes Medication\"\n\ndf.rename(columns={'Diabetes Medication':'Prescribed Diabetes Medication'}, inplace=True)\n\n# check your transformed data\ndf['Prescribed Diabetes Medication'].head()\n\n```\n\n</details>\n"
      ]
    },
    {
      "cell_type": "markdown",
      "id": "9d5c41d8-3d16-49d9-aa17-d23b5cd28c9e",
      "metadata": {},
      "outputs": [],
      "source": [
        "<h2 id=\"data_normalization\">Data Normalization</h2>\n\n<b>Why normalization?</b>\n\n<p>Normalization is the process of transforming values of several variables into a similar range. Typical normalizations include scaling the variable so the variable average is 0, scaling the variable so the variance is 1, or scaling the variable so the variable values range from 0 to 1.\n</p>\n\n<b>Example</b>\n\n<p>To demonstrate normalization, let's say we want to scale the columns \"NumberDiagnoses\" and \"NumLabProcedures\".</p>\n<p><b>Target:</b> would like to normalize those variables so their value ranges from 0 to 1</p>\n<p><b>Approach:</b> replace original value by (original value)/(maximum value)</p>\n"
      ]
    },
    {
      "cell_type": "code",
      "id": "5a8e0f9d-0266-4b78-959e-e8633d632970",
      "metadata": {},
      "outputs": [],
      "source": [
        "df['Number Diagnoses'] = df['Number Diagnoses']/df['Number Diagnoses'].max()"
      ]
    },
    {
      "cell_type": "markdown",
      "id": "71d75eee-2711-47fa-8cc6-a68c474390b5",
      "metadata": {},
      "outputs": [],
      "source": [
        "<h2>Testing for normality using statistical tests</h2>\n\nHere we will check the normality of the sample distribution using such tests as: the Shapiro–Wilk test, the Kolmogorov–Smirnov test, and the D'Agostino's test."
      ]
    },
    {
      "cell_type": "code",
      "id": "72da402f-6a75-4f4c-8cf9-873c699e34f9",
      "metadata": {},
      "outputs": [],
      "source": [
        "values = df[\"Number Diagnoses\"]\n\nresults = {\n    \"Shapiro–Wilk test\" : stats.shapiro(values),\n    \"Kolmogorov–Smirnov\" : stats.kstest(values, \"norm\"),\n    \"D'Agostino's test\" : stats.normaltest(values)\n}\n\npd.DataFrame.from_dict(results, orient = \"index\", columns = [\"Test statistics\", \"Value p\"])"
      ]
    },
    {
      "cell_type": "markdown",
      "id": "a3df254d-a3cc-4dde-bc97-c4290ca3c82e",
      "metadata": {},
      "outputs": [],
      "source": [
        "According to the results of the tests, it can be reliably stated that this sample does not have a normal distribution law."
      ]
    },
    {
      "cell_type": "markdown",
      "id": "53aa013d-54e6-4900-bfcf-8567f398b247",
      "metadata": {},
      "outputs": [],
      "source": [
        "<div class=\"alert alert-danger alertdanger\" style=\"margin-top: 20px\">\n<h1> Question #3: </h1>\n\n<b>According to the example above, normalize the column \"NumLabProcedures\".</b>\n\n</div>\n"
      ]
    },
    {
      "cell_type": "code",
      "id": "43b8c8f8-b1c9-437a-8ac6-75aca2a1076a",
      "metadata": {},
      "outputs": [],
      "source": [
        "# Write your code below and press Shift+Enter to execute"
      ]
    },
    {
      "cell_type": "markdown",
      "id": "792a5735-62a8-4d96-a87b-923b04b5d104",
      "metadata": {},
      "outputs": [],
      "source": [
        "<details><summary>Click here for the solution</summary>\n\n```python\ndf['Num Lab Procedures'] = df['Num Lab Procedures']/df['Num Lab Procedures'].max()\n\n# show the scaled columns\ndf[[\"Number Diagnoses\",\"Num Lab Procedures\"]].head()\n\n```\n\n</details>"
      ]
    },
    {
      "cell_type": "markdown",
      "id": "e1bff56b-a5c5-4d4d-bdc6-f584ef145399",
      "metadata": {},
      "outputs": [],
      "source": [
        "Here we can see we've normalized \"NumberDiagnoses\" and \"NumLabProcedures\" in the range of \\[0,1].\n"
      ]
    },
    {
      "cell_type": "markdown",
      "id": "6b0a3bc3-41ac-4ed0-8392-36d4c7914d39",
      "metadata": {},
      "outputs": [],
      "source": [
        "<h2 id=\"binning\">Binning</h2>\n<b>Why binning?</b>\n<p>\n    Binning is a process of transforming continuous numerical variables into discrete categorical 'bins' for grouped analysis.\n</p>\n\n<b>Example: </b>\n\n<p>In our dataset, \"Age\" is a real valued variable ranging from 0 to 100 and it has 10 unique values. What if we only care about the diabetes among 4 age groups child, young adults, middle-aged adults and old-aged adults? Can we rearrange them into four ‘bins' to simplify analysis? </p>\n\n<p>We will use the pandas method 'cut' to segment the 'Age' column into 4 bins.</p>\n"
      ]
    },
    {
      "cell_type": "markdown",
      "id": "4822b41c-dd13-424c-a5cc-574adafde3a0",
      "metadata": {},
      "outputs": [],
      "source": [
        "<h3>Example of Binning Data In Pandas</h3>\n"
      ]
    },
    {
      "cell_type": "markdown",
      "id": "80628b0d-38f4-4b33-9590-0d6d4b8f0c40",
      "metadata": {},
      "outputs": [],
      "source": [
        "Convert data to correct format:\n"
      ]
    },
    {
      "cell_type": "code",
      "id": "04faa26b-6f9a-4472-8158-276b93b82e78",
      "metadata": {},
      "outputs": [],
      "source": [
        "df[\"Age\"]=df[\"Age\"].astype('category', copy=True)"
      ]
    },
    {
      "cell_type": "markdown",
      "id": "092c43f7-3ebd-4968-9f29-315bb9118cdb",
      "metadata": {},
      "outputs": [],
      "source": [
        "Let's plot the histogram of age to see what the distribution of age looks like.\n"
      ]
    },
    {
      "cell_type": "code",
      "id": "47c4d2a3-53cd-4c28-ba9d-fe0e0bd64903",
      "metadata": {},
      "outputs": [],
      "source": [
        "plt.hist(df[\"Age\"])\n\n# set x/y labels and plot title\nplt.xlabel(\"age\")\nplt.ylabel(\"count\")\nplt.title(\"age distribution\")"
      ]
    },
    {
      "cell_type": "markdown",
      "id": "1de3ae6e-135e-458f-8a3e-f0e0dfa22971",
      "metadata": {},
      "outputs": [],
      "source": [
        "<p>Since we are building 4 bins, there should be 5 dividers, so numbers_generated = 5.</p>\n"
      ]
    },
    {
      "cell_type": "markdown",
      "id": "9ab0e00c-72e0-4f1e-8904-edee42c36387",
      "metadata": {},
      "outputs": [],
      "source": [
        "We build a bin array with a minimum value to a maximum value by using the bandwidth calculated above. The values will determine when one bin ends and another begins.\n\n"
      ]
    },
    {
      "cell_type": "markdown",
      "id": "6a5cadb7-b0e5-4e09-98a0-5f85bf521a30",
      "metadata": {},
      "outputs": [],
      "source": [
        "We set group  names:\n"
      ]
    },
    {
      "cell_type": "code",
      "id": "c2f87f78-5399-404c-a319-366f2de447c0",
      "metadata": {},
      "outputs": [],
      "source": [
        "group_names = ['Child', 'Young Adults', 'Middle-Aged Adults',\n            'Old-Aged Adults']"
      ]
    },
    {
      "cell_type": "markdown",
      "id": "6412d385-e08b-4715-a263-d48b1ac66b47",
      "metadata": {},
      "outputs": [],
      "source": [
        "We apply the function \"cut\" to determine what each value of `df['Age']` belongs to.\n"
      ]
    },
    {
      "cell_type": "code",
      "id": "8c2ff64b-1741-42d7-bf2a-326555a9bd45",
      "metadata": {},
      "outputs": [],
      "source": [
        "df['ages-binned'] = pd.cut(df['Age'].astype('string').str[1:2].astype('int64'), bins=[0,1,2,4,10], labels=group_names, include_lowest=True)\ndf[['Age','ages-binned']].head(20)"
      ]
    },
    {
      "cell_type": "raw",
      "id": "f568cbf6-54cf-481e-84ab-3d362cddd5e7",
      "metadata": {},
      "outputs": [],
      "source": [
        "df['Age'].astype('string').str[1:2].astype('int64') -"
      ]
    },
    {
      "cell_type": "markdown",
      "id": "baf8df12-6803-43ab-93f9-5b44ecd98eb2",
      "metadata": {},
      "outputs": [],
      "source": [
        "This code fragment is used, because \"Age\" is a category. So that we will select 1 element of string from each occurrence. As a result we are able to represent category as 1d array for function to proceed.\n\nLet's see the number of patients in each bin:"
      ]
    },
    {
      "cell_type": "code",
      "id": "11b31877-e670-4c81-a62a-7b9ed6215be3",
      "metadata": {},
      "outputs": [],
      "source": [
        "df[\"ages-binned\"].value_counts()"
      ]
    },
    {
      "cell_type": "markdown",
      "id": "8f3a419c-1a54-4959-baac-b5f7d91c08c3",
      "metadata": {},
      "outputs": [],
      "source": [
        "Let's plot the distribution of each bin:"
      ]
    },
    {
      "cell_type": "code",
      "id": "53eb62af-043b-4ece-8b2f-de06173d4e88",
      "metadata": {},
      "outputs": [],
      "source": [
        "pyplot.bar(['Old-Aged', 'Middle-Aged', 'Young','Child'], df[\"ages-binned\"].value_counts())\n\n# set x/y labels and plot title\nplt.xlabel(\"age groups\")\nplt.ylabel(\"count\")\nplt.title(\"age groups bins\")"
      ]
    },
    {
      "cell_type": "markdown",
      "id": "d128473a-c1b4-4969-818c-1ee8fbe0e5d4",
      "metadata": {},
      "outputs": [],
      "source": [
        "<p>\n    Look at the dataframe above carefully. You will find that the last column provides the bins for \"Age\" based on 4 categories (\"Old-Aged\", \"Middle-Aged\", \"Young\",\"Child\").\n</p>\n<p>\n    We successfully narrowed down the intervals from 10 to 4!\n</p>\n"
      ]
    },
    {
      "cell_type": "markdown",
      "id": "5e40ac9e-9676-4c9c-ae95-95435cd690aa",
      "metadata": {},
      "outputs": [],
      "source": [
        "<h3>Bins Visualization</h3>\nNormally, a histogram is used to visualize the distribution of bins we created above. \n"
      ]
    },
    {
      "cell_type": "code",
      "id": "c3fd4636-0e00-43b7-87d6-bf978742a9e1",
      "metadata": {},
      "outputs": [],
      "source": [
        "# draw historgram of attribute \"age\" with 4 selected bins (0,1,2,4,10)\nplt.hist(df[\"Age\"], bins = [0,1,2,4,10])\n\n# set x/y labels and plot title\nplt.xlabel(\"age\")\nplt.ylabel(\"count\")\nplt.title(\"age groups bins\")"
      ]
    },
    {
      "cell_type": "markdown",
      "id": "1f269a7f-fb15-4068-b076-d7ef3e554f88",
      "metadata": {},
      "outputs": [],
      "source": [
        "The plot above shows the binning result for the attribute \"Age\".\n"
      ]
    },
    {
      "cell_type": "markdown",
      "id": "d0d5b439-74b8-49a3-af8d-40bba830bfb6",
      "metadata": {},
      "outputs": [],
      "source": [
        "<h2 id=\"indicator\">Indicator Variable (or Dummy Variable)</h2>\n<b>What is an indicator variable?</b>\n<p>\n    An indicator variable (or dummy variable) is a numerical variable used to label categories. They are called 'dummies' because the numbers themselves don't have inherent meaning. \n</p>\n\n<b>Why we use indicator variables?</b>\n\n<p>\n    We use indicator variables so we can use categorical variables for regression analysis in the later modules.\n</p>\n<b>Example</b>\n<p>\n    We see the column \"Change\" has two unique values: \"Ch\" or \"No\". Regression doesn't understand words, only numbers. To use this attribute in regression analysis, we convert \"change\" to indicator variables.\n</p>\n\n<p>\n    We will use pandas' method 'get_dummies' to assign numerical values to different categories of change type.\n</p>\n"
      ]
    },
    {
      "cell_type": "code",
      "id": "de7b2c7e-802c-4659-9514-82cad1f7c202",
      "metadata": {},
      "outputs": [],
      "source": [
        "df.columns"
      ]
    },
    {
      "cell_type": "markdown",
      "id": "50075a35-59a3-42c7-8bff-db35b08c2011",
      "metadata": {},
      "outputs": [],
      "source": [
        "Get the indicator variables and assign it to data frame \"dummy_variable_1\":\n"
      ]
    },
    {
      "cell_type": "code",
      "id": "6c1bd91c-289d-4220-86b1-1c44c4ffa4e2",
      "metadata": {},
      "outputs": [],
      "source": [
        "dummy_variable_1 = pd.get_dummies(df[\"Change\"])\ndummy_variable_1.head()"
      ]
    },
    {
      "cell_type": "markdown",
      "id": "750c46e4-1664-4a30-a15a-af14d5e7e977",
      "metadata": {},
      "outputs": [],
      "source": [
        "Change the column names for clarity:\n"
      ]
    },
    {
      "cell_type": "code",
      "id": "89d4a69c-22b4-4aba-bfab-557a328efe4b",
      "metadata": {},
      "outputs": [],
      "source": [
        "dummy_variable_1.rename(columns={'Ch':'change_yes', 'No':'change_no'}, inplace=True)\ndummy_variable_1.head()"
      ]
    },
    {
      "cell_type": "markdown",
      "id": "6d28a545-d680-4226-9ee8-9420723b2816",
      "metadata": {},
      "outputs": [],
      "source": [
        "In the dataframe, column 'change' has values for 'yes' and 'no' as 0s and 1s now.\n"
      ]
    },
    {
      "cell_type": "code",
      "id": "b59ea1ac-820b-4a2c-8174-89804339fa95",
      "metadata": {},
      "outputs": [],
      "source": [
        "# merge data frame \"df\" and \"dummy_variable_1\" \ndf = pd.concat([df, dummy_variable_1], axis=1)\n\n# drop original column \"change\" from \"df\"\ndf.drop(\"Change\", axis = 1, inplace=True)"
      ]
    },
    {
      "cell_type": "code",
      "id": "808d0006-3d09-424a-b4e1-87fb16765130",
      "metadata": {},
      "outputs": [],
      "source": [
        "df.head()"
      ]
    },
    {
      "cell_type": "markdown",
      "id": "8bc99496-2b70-48c6-a5b8-639135144ec7",
      "metadata": {},
      "outputs": [],
      "source": [
        "The last two columns are now the indicator variable representation of the change variable. They're all 0s and 1s now.\n"
      ]
    },
    {
      "cell_type": "markdown",
      "id": "e47a0079-7420-4dd8-a78e-e0b982a30fab",
      "metadata": {},
      "outputs": [],
      "source": [
        "<div class=\"alert alert-danger alertdanger\" style=\"margin-top: 20px\">\n<h1> Question  #4: </h1>\n\n<b>Similar to before, create an indicator variable for the column \"Rosiglitazone\"</b>\n\n</div>\n"
      ]
    },
    {
      "cell_type": "code",
      "id": "d50ba85c-8aec-4f3a-b09a-3b1829f6c1f6",
      "metadata": {},
      "outputs": [],
      "source": [
        "# Write your code below and press Shift+Enter to execute"
      ]
    },
    {
      "cell_type": "markdown",
      "id": "d3c0bc7a-3228-478f-a3aa-8a8eb58dc522",
      "metadata": {},
      "outputs": [],
      "source": [
        "<details><summary>Click here for the solution</summary>\n\n```python\n# get indicator variables of aspiration and assign it to data frame \"dummy_variable_2\"\ndummy_variable_2 = pd.get_dummies(df['Rosiglitazone'])\n\n# change column names for clarity\ndummy_variable_2.rename(columns={'Down':'Increased', 'Up': 'Decreased'}, inplace=True)\n\n# show first 5 instances of data frame \"dummy_variable_1\"\ndummy_variable_2.head()\n\n```\n</details>\n"
      ]
    },
    {
      "cell_type": "markdown",
      "id": "23f6fb4a-7170-437e-ab03-b9627e73becf",
      "metadata": {},
      "outputs": [],
      "source": [
        " <div class=\"alert alert-danger alertdanger\" style=\"margin-top: 20px\">\n<h1> Question  #5: </h1>\n\n<b>Merge the new dataframe to the original dataframe, then drop the column 'Rosiglitazone'.</b>\n\n</div>\n"
      ]
    },
    {
      "cell_type": "code",
      "id": "20e0690b-70c7-4cfb-adb3-e525cc6dd36f",
      "metadata": {},
      "outputs": [],
      "source": [
        "# Write your code below and press Shift+Enter to execute"
      ]
    },
    {
      "cell_type": "markdown",
      "id": "29eda007-0593-4f65-ab2d-86d161ed1769",
      "metadata": {},
      "outputs": [],
      "source": [
        "<details><summary>Click here for the solution</summary>\n\n```python\n# merge the new dataframe to the original datafram\ndf = pd.concat([df, dummy_variable_2], axis=1)\n\n# drop original column \"Rosiglitazone\" from \"df\"\ndf.drop('Rosiglitazone', axis = 1, inplace=True)\n\n```\n</details>\n"
      ]
    },
    {
      "cell_type": "code",
      "id": "fd116ac7-bc54-401c-8a56-82f6671e5d50",
      "metadata": {},
      "outputs": [],
      "source": [
        "df.to_csv('clean_df.csv')"
      ]
    },
    {
      "cell_type": "markdown",
      "id": "6d2ebbbc-1a59-423d-895c-26ba09d43596",
      "metadata": {},
      "outputs": [],
      "source": [
        "Save the new csv:\n\n> Note : The  csv file cannot be viewed in the jupyterlite based SN labs environment.\n"
      ]
    },
    {
      "cell_type": "markdown",
      "id": "32f86ae7-e231-4dd1-a15d-be72abdf53be",
      "metadata": {},
      "outputs": [],
      "source": [
        "### Thank you for completing this lab!\n\n## Author\n\n<a href=\"https://author.skills.network/instructors/dmytro_yesyp\" target=\"_blank\">Dmytro Yesyp</a>\n\n### Other Contributors\n\n<a href=\"https://author.skills.network/instructors/yaroslav_vyklyuk_2\">Prof. Yaroslav Vyklyuk, DrSc, PhD</a>\n\n<a href=\"https://author.skills.network/instructors/nataliya_boyko\">Ass. Prof. Nataliya Boyko, PhD</a>\n\n## Change Log\n\n| Date (YYYY-MM-DD) | Version | Changed By | Change Description                                         |\n| ----------------- | ------- | ---------- | ---------------------------------------------------------- |\n| 2023-03-04       | 01| Dmytro Yesyp     | Lab created|\n<hr>\n\n## <h3 align=\"center\"> © IBM Corporation 2023. All rights reserved. <h3/>\n"
      ]
    },
    {
      "cell_type": "code",
      "id": "835201ea-caea-4b42-9dba-66bec79a7a2e",
      "metadata": {},
      "outputs": [],
      "source": [
        ""
      ]
    }
  ],
  "metadata": {
    "language_info": {
      "name": ""
    },
    "kernelspec": {
      "name": "",
      "display_name": ""
    }
  },
  "nbformat": 4,
  "nbformat_minor": 4
}