{
  "cells": [
    {
      "cell_type": "markdown",
      "id": "4af97dfd-9da4-464f-a662-51850f47b48d",
      "metadata": {},
      "outputs": [],
      "source": [
        "<center>\n    <img src=\"https://cf-courses-data.s3.us.cloud-object-storage.appdomain.cloud/assets/logos/SN_web_lightmode.png\" width=\"300\" alt=\"SN_web_lightmode.png logo\"/>\n</center>\n\n# Investigation of diabetes patients readmission among US hospitals\n\n# Lab 1 Dataset Creation\n\nEstimated time needed: **10** minutes\n\n\nYou will use the Python programming language and the Pandas data analysis tool to examine data from the Centers for Disease Control and Prevention. Here you will learn how to work with *.csv files (comma separated values) and create DataFrame using python programming language and Pandas package. This project will help you improve your data analysis skills and learn more about the Python programming language.\n\n\n## Objectives\n\nAfter completing this lab you will be able to:\n\n*   Acquire data in various ways\n*   Obtain insights from data with Pandas library\n"
      ]
    },
    {
      "cell_type": "markdown",
      "id": "3422edb2-5c0a-45ef-8bcc-d9f790034f63",
      "metadata": {},
      "outputs": [],
      "source": [
        "<h2>Table of Contents</h2>\n\n<div class=\"alert alert-block alert-info\" style=\"margin-top: 20px\">\n<ol>\n    <li><a href=\"https://#data_acquisition\">Data Acquisition</a>\n    <li><a href=\"https://#basic_insight\">Basic Insight of Dataset</a></li>\n</ol>\n\n</div>\n<hr>\n"
      ]
    },
    {
      "cell_type": "markdown",
      "id": "f8bd9fce-425e-4a02-bc5b-b0bef17f0361",
      "metadata": {},
      "outputs": [],
      "source": [
        "<h1 id=\"data_acquisition\">Data Acquisition</h1>\n<p>\nThere are various formats for a dataset: .csv, .json, .xlsx  etc. The dataset can be stored in different places, on your local machine or sometimes online.<br>\n\nIn this section, you will learn how to load a dataset into our Jupyter Notebook.<br>\n\nIn our case, the Diabetes Dataset is an online source, and it is in a CSV (comma separated value) format. Let's use this dataset as an example to practice data reading.\n\n<ul>\n    <li>Data source: <a href=\"https://www.kaggle.com/datasets/brandao/diabetes\" target=\"_blank\">https://www.kaggle.com/datasets/brandao/diabetes</a></li>\n    <li>Data type: csv</li>\n</ul>\n\nThe statistical data obtained from https://www.kaggle.com/datasets/brandao/diabetes under [CC0: Public Domain](https://creativecommons.org/publicdomain/zero/1.0/) license.\n\nDataset output column is \"Readmitted\" with values \"<30\",\">30\",\"NO\". The rest of the columns (49) are input columns.\n\nThe Pandas Library is a useful tool that enables us to read various datasets into a dataframe; our Jupyter notebook platforms have a built-in <b>Pandas Library</b> so that all we need to do is import Pandas without installing.\n</p>\n"
      ]
    },
    {
      "cell_type": "code",
      "id": "f389bc2e-bb62-4842-9c27-a94d13488d7e",
      "metadata": {},
      "outputs": [],
      "source": [
        "#install specific version of libraries used in  lab\n#! mamba install pandas  -y\n#! mamba install numpy -y"
      ]
    },
    {
      "cell_type": "code",
      "id": "2f8a7ff8-ceb9-4627-aef4-ce390abab5a7",
      "metadata": {},
      "outputs": [],
      "source": [
        "# import pandas library\nimport pandas as pd\nimport numpy as np"
      ]
    },
    {
      "cell_type": "markdown",
      "id": "b33656fa-5319-4e9d-9e6f-df375ab9209e",
      "metadata": {},
      "outputs": [],
      "source": [
        "This function will download the dataset into your browser\n"
      ]
    },
    {
      "cell_type": "markdown",
      "id": "c21b9202-73ea-40cb-8729-fb4e8d2c1560",
      "metadata": {},
      "outputs": [],
      "source": [
        "<h2>Read Data</h2>\n<p>\nWe use <code>pandas.read_csv()</code> function to read the csv file. In the brackets, we put the file path along with a quotation mark so that pandas will read the file into a dataframe from that address. The file path can be either an URL or your local file address.<br>\n\nYou can also assign the dataset to any variable you create.\n\n</p>\n"
      ]
    },
    {
      "cell_type": "code",
      "id": "3c0bd144-aac2-4e1d-b06b-5699270be7a3",
      "metadata": {},
      "outputs": [],
      "source": [
        "path = \"https://cf-courses-data.s3.us.cloud-object-storage.appdomain.cloud/IBMSkillsNetwork-GPXX022XEN/diabetes.csv\""
      ]
    },
    {
      "cell_type": "code",
      "id": "a4f4aad8-9188-4cd1-8194-48f1aa945e05",
      "metadata": {},
      "outputs": [],
      "source": [
        "# Read the online file by the URL provides above, and assign it to variable \"df\"\n\ndf = pd.read_csv(path)"
      ]
    },
    {
      "cell_type": "markdown",
      "id": "e0030205-06a5-4ad1-9883-eb11c3286acf",
      "metadata": {},
      "outputs": [],
      "source": [
        "After reading the dataset, we can use the <code>dataframe.head(n)</code> method to check the top n rows of the dataframe, where n is an integer. Contrary to <code>dataframe.head(n)</code>, <code>dataframe.tail(n)</code> will show you the bottom n rows of the dataframe.\n"
      ]
    },
    {
      "cell_type": "code",
      "id": "58ff1f8f-5aab-4a9e-90f4-b0a917339bd7",
      "metadata": {},
      "outputs": [],
      "source": [
        "# show the first 5 rows using dataframe.head() method\nprint(\"The first 5 rows of the dataframe\") \ndf.head(5)"
      ]
    },
    {
      "cell_type": "markdown",
      "id": "a8af7a05-02a0-4d46-b245-c661c5dc073a",
      "metadata": {},
      "outputs": [],
      "source": [
        "<div class=\"alert alert-danger alertdanger\" style=\"margin-top: 20px\">\n<h1> Question #1: </h1>\n<b>Check the bottom 10 rows of data frame \"df\".</b>\n</div>\n"
      ]
    },
    {
      "cell_type": "code",
      "id": "bf759acd-078a-4364-a1ac-36ead49b4d30",
      "metadata": {},
      "outputs": [],
      "source": [
        "# Write your code below and press Shift+Enter to execute "
      ]
    },
    {
      "cell_type": "markdown",
      "id": "acbea202-5900-46c9-862f-7dc22803b337",
      "metadata": {},
      "outputs": [],
      "source": [
        "<details><summary>Click here for the solution</summary>\n\n```python\n    print(\"The last 10 rows of the dataframe\\n\")\n    df.tail(10)\n```"
      ]
    },
    {
      "cell_type": "markdown",
      "id": "37372d4d-0812-4c6f-9676-90e7562d6ad9",
      "metadata": {},
      "outputs": [],
      "source": [
        "<h3>Add Headers</h3>\n<p>\nTake a look at our dataset. Pandas automatically set the header with an integer starting from 0.\n</p>\n<p>\nTo better describe our data, we can introduce a header. This information is available at:  <a href=\"https://www.kaggle.com/datasets/brandao/diabetes\" target=\"_blank\">https://www.kaggle.com/datasets/brandao/diabetes</a>.\n</p>\n<p>\nTo make our header look better, we can override it.\n</p>\n<p>\nFirst, we create a list \"headers\" that include all column names in order.\nThen, we use <code>dataframe.columns = headers</code> to replace the headers with the list we created.\n</p>"
      ]
    },
    {
      "cell_type": "code",
      "id": "72396b38-5e1a-477e-9134-7f7d0d44bc64",
      "metadata": {},
      "outputs": [],
      "source": [
        "# create headers list\nheaders = [\"Encounter Id\",\"Patient Number\",\"Race\",\"Gender\",\"Age\",\"Weight\",\"Admission Type Id\",\n           \"Discharge Disposition Id\",\"Admission Source Id\",\"Time In Hospital\",\"Payer Code\",\n           \"Medical Specialty\",\"Num Lab Procedures\",\"Num Procedures\",\"Num Medications\",\n           \"Number Outpatient\",\"Number Emergency\",\"Number Inpatient\",\"Diagnosis1\",\"Diagnosis2\",\n           \"Diagnosis3\",\"Number Diagnoses\",\"Max Glu Serum\",\"A1c Result\",\"Metformin\",\"Repaglinide\",\n           \"Nateglinide\",\"Chlorpropamide\",\"Glimepiride\",\"Acetohexamide\",\"Glipizide\",\n           \"Glyburide\",\"Tolbutamide\",\"Pioglitazone\",\"Rosiglitazone\",\"Acarbose\",\"Miglitol\",\n           \"Troglitazone\",\"Tolazamide\",\"Examide\",\"Citoglipton\",\"Insulin\",\"Glyburide-metformin\",\n           \"Glipizide-metformin\",\"Glimepiride-pioglitazone\",\"Metformin-rosiglitazone\",\"Metformin-pioglitazone\",\n           \"Change\",\"Diabetes Medication\",\"Readmitted\"]\nprint(\"headers\\n\", headers)"
      ]
    },
    {
      "cell_type": "code",
      "id": "5f3d3afb-0ec1-498a-b10e-36aea643ec24",
      "metadata": {},
      "outputs": [],
      "source": [
        "df.columns = headers\ndf.head(10)"
      ]
    },
    {
      "cell_type": "markdown",
      "id": "dcf7222b-1991-420d-88fa-a345b5129571",
      "metadata": {},
      "outputs": [],
      "source": [
        "We need to replace the \"?\" symbol with NaN so the dropna() can remove the missing values:\n"
      ]
    },
    {
      "cell_type": "code",
      "id": "cabeb44e-c74c-4805-ba61-4e98fcca14f7",
      "metadata": {},
      "outputs": [],
      "source": [
        "df1=df.replace('?',np.NaN)\n"
      ]
    },
    {
      "cell_type": "markdown",
      "id": "20a7e154-6fa1-46b4-8ee2-b22b9777ce77",
      "metadata": {},
      "outputs": [],
      "source": [
        "We can drop missing values along the column \"weight\" as follows:\n"
      ]
    },
    {
      "cell_type": "code",
      "id": "53049467-cc57-4a7a-a5a7-dc75a46517c8",
      "metadata": {},
      "outputs": [],
      "source": [
        "df=df1.dropna(subset=[\"Weight\"], axis=0)\ndf.head(20)"
      ]
    },
    {
      "cell_type": "markdown",
      "id": "86b0bee5-afa1-4a9c-9a95-3062a08ff26c",
      "metadata": {},
      "outputs": [],
      "source": [
        "Now, we have successfully read the raw dataset and added the correct headers into the dataframe.\n"
      ]
    },
    {
      "cell_type": "markdown",
      "id": "787db0ef-3cb1-4475-8836-06c359923429",
      "metadata": {},
      "outputs": [],
      "source": [
        " <div class=\"alert alert-danger alertdanger\" style=\"margin-top: 20px\">\n<h1> Question #2: </h1>\n<b>Find the name of the columns of the dataframe.</b>\n</div>\n"
      ]
    },
    {
      "cell_type": "code",
      "id": "38e8650d-5e51-4cce-921c-38168b569750",
      "metadata": {},
      "outputs": [],
      "source": [
        "# Write your code below and press Shift+Enter to execute"
      ]
    },
    {
      "cell_type": "markdown",
      "id": "cae9eb78-e2c7-4d29-9f32-2e41e3e7872d",
      "metadata": {},
      "outputs": [],
      "source": [
        "<details><summary>Click here for the solution</summary>\n\n```python\n    print(df.columns)\n```\n</details>\n"
      ]
    },
    {
      "cell_type": "markdown",
      "id": "5fdab8a1-5c8f-431c-b942-c953c84398c1",
      "metadata": {},
      "outputs": [],
      "source": [
        "<h2>Save Dataset</h2>\n<p>\nCorrespondingly, Pandas enables us to save the dataset to csv. By using the <code>dataframe.to_csv()</code> method, you can add the file path and name along with quotation marks in the brackets.\n</p>\n<p>\nFor example, if you would save the dataframe <b>df</b> as <b>diabetes.csv</b> to your local machine, you may use the syntax below, where <code>index = False</code> means the row names will not be written.\n</p>\n"
      ]
    },
    {
      "cell_type": "code",
      "id": "9712e06c-9c27-495f-b651-9d75b1196cb8",
      "metadata": {},
      "outputs": [],
      "source": [
        "df.to_csv(\"diabetes.csv\", index=False)"
      ]
    },
    {
      "cell_type": "markdown",
      "id": "ad7d397f-7feb-47ba-bae0-4080c103494d",
      "metadata": {},
      "outputs": [],
      "source": [
        "We can also read and save other file formats. We can use similar functions like **`pd.read_csv()`** and **`df.to_csv()`** for other data formats. The functions are listed in the following table:\n"
      ]
    },
    {
      "cell_type": "markdown",
      "id": "9bb219c7-4713-4fdc-a46b-4cdf5e17cac3",
      "metadata": {},
      "outputs": [],
      "source": [
        "<h2>Read/Save Other Data Formats</h2>\n\n| Data Formate |        Read       |            Save |\n| ------------ | :---------------: | --------------: |\n| csv          |  `pd.read_csv()`  |   `df.to_csv()` |\n| json         |  `pd.read_json()` |  `df.to_json()` |\n| excel        | `pd.read_excel()` | `df.to_excel()` |\n| hdf          |  `pd.read_hdf()`  |   `df.to_hdf()` |\n| sql          |  `pd.read_sql()`  |   `df.to_sql()` |\n| ...          |        ...        |             ... |\n"
      ]
    },
    {
      "cell_type": "markdown",
      "id": "1769952e-42d7-4a29-a84b-03edd3f46640",
      "metadata": {},
      "outputs": [],
      "source": [
        "<h1 id=\"basic_insight\">Basic Insight of Dataset</h1>\n<p>\nAfter reading data into Pandas dataframe, it is time for us to explore the dataset.<br>\n\nThere are several ways to obtain essential insights of the data to help us better understand our dataset.\n\n</p>\n"
      ]
    },
    {
      "cell_type": "markdown",
      "id": "769be827-eb17-4693-bb22-4472b065f88f",
      "metadata": {},
      "outputs": [],
      "source": [
        "<h2>Data Types</h2>\n<p>\nData has a variety of types.<br>\n\nThe main types stored in Pandas dataframes are <b>object</b>, <b>float</b>, <b>int</b>, <b>bool</b> and <b>datetime64</b>. In order to better learn about each attribute, it is always good for us to know the data type of each column. In Pandas:\n\n</p>\n"
      ]
    },
    {
      "cell_type": "code",
      "id": "73bf2c12-8709-47c1-998c-ab9d2647941c",
      "metadata": {},
      "outputs": [],
      "source": [
        "df.dtypes\n"
      ]
    },
    {
      "cell_type": "markdown",
      "id": "6c490935-8a8f-43c9-94b5-d64c3a14c9b3",
      "metadata": {},
      "outputs": [],
      "source": [
        "A series with the data type of each column is returned.\n"
      ]
    },
    {
      "cell_type": "code",
      "id": "a5f53a0b-a98f-4e2e-886e-f096b12ce60f",
      "metadata": {},
      "outputs": [],
      "source": [
        "# check the data type of data frame \"df\" by .dtypes\nprint(df.dtypes)"
      ]
    },
    {
      "cell_type": "markdown",
      "id": "cdd24b38-0557-40bf-a3c0-343fe64da627",
      "metadata": {},
      "outputs": [],
      "source": [
        "<p>\nAs shown above, it is clear to see that the data type of \"EncounterId\" and \"PatientNbr\" are <code>int64</code>, \"Race\" is <code>object</code>, etc.\n</p>\n<p>\nThese data types can be changed; we will learn how to accomplish this in a later module.\n</p>\n"
      ]
    },
    {
      "cell_type": "markdown",
      "id": "2804dc48-b840-497f-b58e-bd1cb6587f02",
      "metadata": {},
      "outputs": [],
      "source": [
        "<h2>Describe</h2>\nIf we would like to get a statistical summary of each column e.g. count, column mean value, column standard deviation, etc., we use the describe method:\n"
      ]
    },
    {
      "cell_type": "raw",
      "id": "170bf070-cf75-483f-9513-dcfed4d82917",
      "metadata": {},
      "outputs": [],
      "source": [
        "dataframe.describe()"
      ]
    },
    {
      "cell_type": "markdown",
      "id": "994b0c00-ce18-480d-9b89-b3e17647fef3",
      "metadata": {},
      "outputs": [],
      "source": [
        "This method will provide various summary statistics, excluding <code>NaN</code> (Not a Number) values.\n"
      ]
    },
    {
      "cell_type": "code",
      "id": "edaa860e-956e-473e-96cf-643769ad3f30",
      "metadata": {},
      "outputs": [],
      "source": [
        "df.describe()"
      ]
    },
    {
      "cell_type": "markdown",
      "id": "13eb6b6d-24a5-4a96-b8b0-04880170389b",
      "metadata": {},
      "outputs": [],
      "source": [
        "<p>\nThis shows the statistical summary of all numeric-typed (int, float) columns.<br>\n\nFor example, the attribute \"DischargeDispositionId\" has 3197 counts, the mean value of this column is 2.71, the standard deviation is 2.85, the minimum value is 1, 25th percentile is 1, 50th percentile is 1, 75th percentile is 3, and the maximum value is 18. <br>\n\nHowever, what if we would also like to check all the columns including those that are of type object? <br><br>\n\nYou can add an argument <code>include = \"all\"</code> inside the bracket. Let's try it again.\n\n</p>\n"
      ]
    },
    {
      "cell_type": "code",
      "id": "a29d2ecb-cf3f-46bf-be49-61877513cb9a",
      "metadata": {},
      "outputs": [],
      "source": [
        "# describe all the columns in \"df\" \ndf.describe(include = \"all\")"
      ]
    },
    {
      "cell_type": "markdown",
      "id": "16fc7adc-1eea-4efa-8acc-f578482fec9c",
      "metadata": {},
      "outputs": [],
      "source": [
        "<p>\nNow it provides the statistical summary of all the columns, including object-typed attributes.<br>\n\nWe can now see how many unique values there, which one is the top value and the frequency of top value in the object-typed columns.<br>\n\nSome values in the table above show as \"NaN\". This is because those numbers are not available regarding a particular column type.<br>\n\n</p>"
      ]
    },
    {
      "cell_type": "markdown",
      "id": "d35f0d9d-545c-4f16-9c42-5836112db4fe",
      "metadata": {},
      "outputs": [],
      "source": [
        "<div class=\"alert alert-danger alertdanger\" style=\"margin-top: 20px\">\n<h1> Question #3: </h1>\n\n<p>\nYou can select the columns of a dataframe by indicating the name of each column. For example, you can select the three columns as follows:\n</p>\n<p>\n    <code>dataframe[[' column 1 ',column 2', 'column 3']]</code>\n</p>\n<p>\nWhere \"column\" is the name of the column, you can apply the method  \".describe()\" to get the statistics of those columns as follows:\n</p>\n<p>\n    <code>dataframe[[' column 1 ',column 2', 'column 3'] ].describe()</code>\n</p>\n\nApply the  method to \".describe()\" to the columns 'Age' and 'Weight'.\n\n</div>\n"
      ]
    },
    {
      "cell_type": "code",
      "id": "4b8ddc26-7323-46ae-a6bd-7bd886973ff0",
      "metadata": {},
      "outputs": [],
      "source": [
        "# Write your code below and press Shift+Enter to execute"
      ]
    },
    {
      "cell_type": "markdown",
      "id": "948a5de6-f248-42ce-bcf3-1c30bdbc25fa",
      "metadata": {},
      "outputs": [],
      "source": [
        "<details><summary>Click here for the solution</summary>\n\n```python\n    df[['Age', 'Weight']].describe()\n```\n</details>"
      ]
    },
    {
      "cell_type": "markdown",
      "id": "a4473b89-2c75-49e1-a516-ec2e71a2de88",
      "metadata": {},
      "outputs": [],
      "source": [
        "<h2>Info</h2>\nAnother method you can use to check your dataset is:\n"
      ]
    },
    {
      "cell_type": "raw",
      "id": "58f2352b-3a90-4200-b4ec-2e841fda6038",
      "metadata": {},
      "outputs": [],
      "source": [
        "dataframe.info()"
      ]
    },
    {
      "cell_type": "markdown",
      "id": "e95a1618-2d01-4f56-98b9-25c775b9a8d8",
      "metadata": {},
      "outputs": [],
      "source": [
        "It provides a concise summary of your DataFrame.\n\nThis method prints information about a DataFrame including the index dtype and columns, non-null values and memory usage.\n"
      ]
    },
    {
      "cell_type": "code",
      "id": "976f7e43-c691-482b-b3ad-a3286b643201",
      "metadata": {},
      "outputs": [],
      "source": [
        "# look at the info of \"df\"\ndf.info()"
      ]
    },
    {
      "cell_type": "markdown",
      "id": "34b63539-67ee-4adc-a1e5-0a374b35a34d",
      "metadata": {},
      "outputs": [],
      "source": [
        "<h1>Excellent! You have just completed the  Introduction Notebook!</h1>\n"
      ]
    },
    {
      "cell_type": "markdown",
      "id": "e3eabcce-8276-4198-b2c0-56a493a1897b",
      "metadata": {},
      "outputs": [],
      "source": [
        "### Thank you for completing this lab!\n\n## Author\n\n<a href=\"https://www.linkedin.com/in/joseph-s-50398b136/?utm_medium=Exinfluencer&utm_source=Exinfluencer&utm_content=000026UJ&utm_term=10006555&utm_id=NA-SkillsNetwork-Channel-SkillsNetworkCoursesIBMDeveloperSkillsNetworkDA0101ENSkillsNetwork20235326-2021-01-01\" target=\"_blank\">Joseph Santarcangelo</a>\n\n### Other Contributors\n\n<a href=\"https://www.linkedin.com/in/mahdi-noorian-58219234/?utm_medium=Exinfluencer&utm_source=Exinfluencer&utm_content=000026UJ&utm_term=10006555&utm_id=NA-SkillsNetwork-Channel-SkillsNetworkCoursesIBMDeveloperSkillsNetworkDA0101ENSkillsNetwork20235326-2021-01-01\" target=\"_blank\">Mahdi Noorian PhD</a>\n\nBahare Talayian\n\nEric Xiao\n\nSteven Dong\n\nParizad\n\nHima Vasudevan\n\n<a href=\"https://www.linkedin.com/in/fiorellawever/?utm_medium=Exinfluencer&utm_source=Exinfluencer&utm_content=000026UJ&utm_term=10006555&utm_id=NA-SkillsNetwork-Channel-SkillsNetworkCoursesIBMDeveloperSkillsNetworkDA0101ENSkillsNetwork20235326-2021-01-01\" target=\"_blank\">Fiorella Wenver</a>\n\n<a href=\"https:// https://www.linkedin.com/in/yi-leng-yao-84451275/ \" target=\"_blank\" >Yi Yao</a>.\n\n## Change Log\n\n| Date (YYYY-MM-DD) | Version | Changed By | Change Description                                         |\n| ----------------- | ------- | ---------- | ---------------------------------------------------------- |\n| 2022-08-23        | 2.4     | Malika     | Import micropip added and parameter for ipwidgets and tqdm |\n| 2020-10-30        | 2.3     | Lakshmi    | Changed URL of the csv                                     |\n| 2020-09-22        | 2.2     | Nayef      | Added replace() method to remove '?'                       |\n| 2020-09-09        | 2.1     | Lakshmi    | Made changes in info method of dataframe                   |\n| 2020-08-27        | 2.0     | Lavanya    | Moved lab to course repo in GitLab                         |\n\n<hr>\n\n## <h3 align=\"center\"> © IBM Corporation 2020. All rights reserved. <h3/>\n"
      ]
    }
  ],
  "metadata": {
    "language_info": {
      "name": ""
    },
    "kernelspec": {
      "name": "",
      "display_name": ""
    }
  },
  "nbformat": 4,
  "nbformat_minor": 4
}