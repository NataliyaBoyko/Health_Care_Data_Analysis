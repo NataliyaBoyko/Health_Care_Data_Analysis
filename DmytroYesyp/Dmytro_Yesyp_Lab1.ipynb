{
 "cells": [
  {
   "cell_type": "markdown",
   "metadata": {},
   "source": [
    "<center>\n",
    "    <img src=\"https://cf-courses-data.s3.us.cloud-object-storage.appdomain.cloud/IBMDeveloperSkillsNetwork-DA0101EN-SkillsNetwork/labs/Module%201/images/IDSNlogo.png\" width=\"300\" alt=\"cognitiveclass.ai logo\"  />\n",
    "</center>\n",
    "\n",
    "# Introduction  Notebook\n",
    "\n",
    "Estimated time needed: **10** minutes\n",
    "\n",
    "## Objectives\n",
    "\n",
    "After completing this lab you will be able to:\n",
    "\n",
    "*   Acquire data in various ways\n",
    "*   Obtain insights from data with Pandas library\n"
   ]
  },
  {
   "cell_type": "markdown",
   "metadata": {},
   "source": [
    "<h2>Table of Contents</h2>\n",
    "\n",
    "<div class=\"alert alert-block alert-info\" style=\"margin-top: 20px\">\n",
    "<ol>\n",
    "    <li><a href=\"https://#data_acquisition\">Data Acquisition</a>\n",
    "    <li><a href=\"https://#data_acquisition\">Data Acquisition</a>\n",
    "    <li><a href=\"https://#basic_insight\">Basic Insight of Dataset</a></li>\n",
    "</ol>\n",
    "\n",
    "</div>\n",
    "<hr>\n"
   ]
  },
  {
   "cell_type": "markdown",
   "metadata": {},
   "source": [
    "<h1 id=\"data_acquisition\">Data Acquisition</h1>\n",
    "<p>\n",
    "There are various formats for a dataset: .csv, .json, .xlsx  etc. The dataset can be stored in different places, on your local machine or sometimes online.<br>\n",
    "\n",
    "In this section, you will learn how to load a dataset into our Jupyter Notebook.<br>\n",
    "\n",
    "In our case, the Diabetes Dataset is an online source, and it is in a CSV (comma separated value) format. Let's use this dataset as an example to practice data reading.\n",
    "\n",
    "<ul>\n",
    "    <li>Data source: <a href=\"https://www.kaggle.com/datasets/brandao/diabetes\" target=\"_blank\">https://www.kaggle.com/datasets/brandao/diabetes</a></li>\n",
    "    <li>Data type: csv</li>\n",
    "</ul>\n",
    "\n",
    "The statistical data obtained from https://www.kaggle.com/datasets/brandao/diabetes under [CC0: Public Domain](https://creativecommons.org/publicdomain/zero/1.0/) license.\n",
    "\n",
    "The Pandas Library is a useful tool that enables us to read various datasets into a dataframe; our Jupyter notebook platforms have a built-in <b>Pandas Library</b> so that all we need to do is import Pandas without installing.\n",
    "</p>\n"
   ]
  },
  {
   "cell_type": "markdown",
   "metadata": {},
   "source": [
    "you are running the lab in your  browser, so we will install the libraries using `piplite`\n"
   ]
  },
  {
   "cell_type": "code",
   "execution_count": 349,
   "metadata": {},
   "outputs": [],
   "source": [
    "#you are running the lab in your  browser, so we will install the libraries using ``piplite``\n",
    "#import piplite\n",
    "#import micropip\n",
    "#await piplite.install(['pandas'])\n",
    "#await piplite.install(['matplotlib'])\n",
    "#await piplite.install(['scipy'])\n",
    "#await piplite.install(['seaborn'])\n",
    "#await micropip.install(['ipywidgets'],keep_going=True)\n",
    "#await micropip.install(['tqdm'],keep_going=True)\n"
   ]
  },
  {
   "cell_type": "markdown",
   "metadata": {},
   "source": [
    "If you run the lab locally using Anaconda, you can load the correct library and versions by uncommenting the following:\n"
   ]
  },
  {
   "cell_type": "code",
   "execution_count": 350,
   "metadata": {},
   "outputs": [],
   "source": [
    "#install specific version of libraries used in  lab\n",
    "#! mamba install pandas==1.3.3  -y\n",
    "#! mamba install numpy=1.21.2 -y"
   ]
  },
  {
   "cell_type": "code",
   "execution_count": 351,
   "metadata": {},
   "outputs": [],
   "source": [
    "# import pandas library\n",
    "import pandas as pd\n",
    "import numpy as np"
   ]
  },
  {
   "cell_type": "markdown",
   "metadata": {},
   "source": [
    "This function will download the dataset into your browser\n"
   ]
  },
  {
   "cell_type": "code",
   "execution_count": 352,
   "metadata": {},
   "outputs": [],
   "source": [
    "#This function will download the dataset into your browser \n",
    "\n",
    "#from pyodide.http import pyfetch\n",
    "#\n",
    "#async def download(url, filename):\n",
    "#    response = await pyfetch(url)\n",
    "#    if response.status == 200:\n",
    "#        with open(filename, \"wb\") as f:\n",
    "#            f.write(await response.bytes())"
   ]
  },
  {
   "cell_type": "markdown",
   "metadata": {},
   "source": [
    "<h2>Read Data</h2>\n",
    "<p>\n",
    "We use <code>pandas.read_csv()</code> function to read the csv file. In the brackets, we put the file path along with a quotation mark so that pandas will read the file into a dataframe from that address. The file path can be either an URL or your local file address.<br>\n",
    "\n",
    "You can also assign the dataset to any variable you create.\n",
    "\n",
    "</p>\n"
   ]
  },
  {
   "cell_type": "code",
   "execution_count": 353,
   "metadata": {},
   "outputs": [],
   "source": [
    "path = \"diabetic_data.csv\""
   ]
  },
  {
   "cell_type": "markdown",
   "metadata": {},
   "source": [
    "you will need to download the dataset; if you are running locally, please comment out the following\n"
   ]
  },
  {
   "cell_type": "code",
   "execution_count": 354,
   "metadata": {},
   "outputs": [],
   "source": [
    "#you will need to download the dataset; if you are running locally, please comment out the following \n",
    "# await download(path, \"diabetic_data.csv\")\n",
    "# path=\"diabetic_data.csv\""
   ]
  },
  {
   "cell_type": "code",
   "execution_count": 355,
   "metadata": {},
   "outputs": [],
   "source": [
    "# Import pandas library\n",
    "import pandas as pd\n",
    "\n",
    "# Read the online file by the URL provides above, and assign it to variable \"df\"\n",
    "\n",
    "df = pd.read_csv(path)"
   ]
  },
  {
   "cell_type": "markdown",
   "metadata": {},
   "source": [
    "After reading the dataset, we can use the <code>dataframe.head(n)</code> method to check the top n rows of the dataframe, where n is an integer. Contrary to <code>dataframe.head(n)</code>, <code>dataframe.tail(n)</code> will show you the bottom n rows of the dataframe.\n"
   ]
  },
  {
   "cell_type": "code",
   "execution_count": 356,
   "metadata": {},
   "outputs": [
    {
     "name": "stdout",
     "output_type": "stream",
     "text": [
      "The first 5 rows of the dataframe\n"
     ]
    },
    {
     "data": {
      "text/plain": "   encounter_id  patient_nbr             race  gender      age weight  \\\n0       2278392      8222157        Caucasian  Female   [0-10)      ?   \n1        149190     55629189        Caucasian  Female  [10-20)      ?   \n2         64410     86047875  AfricanAmerican  Female  [20-30)      ?   \n3        500364     82442376        Caucasian    Male  [30-40)      ?   \n4         16680     42519267        Caucasian    Male  [40-50)      ?   \n\n   admission_type_id  discharge_disposition_id  admission_source_id  \\\n0                  6                        25                    1   \n1                  1                         1                    7   \n2                  1                         1                    7   \n3                  1                         1                    7   \n4                  1                         1                    7   \n\n   time_in_hospital  ... citoglipton insulin  glyburide-metformin  \\\n0                 1  ...          No      No                   No   \n1                 3  ...          No      Up                   No   \n2                 2  ...          No      No                   No   \n3                 2  ...          No      Up                   No   \n4                 1  ...          No  Steady                   No   \n\n   glipizide-metformin  glimepiride-pioglitazone  metformin-rosiglitazone  \\\n0                   No                        No                       No   \n1                   No                        No                       No   \n2                   No                        No                       No   \n3                   No                        No                       No   \n4                   No                        No                       No   \n\n   metformin-pioglitazone  change diabetesMed readmitted  \n0                      No      No          No         NO  \n1                      No      Ch         Yes        >30  \n2                      No      No         Yes         NO  \n3                      No      Ch         Yes         NO  \n4                      No      Ch         Yes         NO  \n\n[5 rows x 50 columns]",
      "text/html": "<div>\n<style scoped>\n    .dataframe tbody tr th:only-of-type {\n        vertical-align: middle;\n    }\n\n    .dataframe tbody tr th {\n        vertical-align: top;\n    }\n\n    .dataframe thead th {\n        text-align: right;\n    }\n</style>\n<table border=\"1\" class=\"dataframe\">\n  <thead>\n    <tr style=\"text-align: right;\">\n      <th></th>\n      <th>encounter_id</th>\n      <th>patient_nbr</th>\n      <th>race</th>\n      <th>gender</th>\n      <th>age</th>\n      <th>weight</th>\n      <th>admission_type_id</th>\n      <th>discharge_disposition_id</th>\n      <th>admission_source_id</th>\n      <th>time_in_hospital</th>\n      <th>...</th>\n      <th>citoglipton</th>\n      <th>insulin</th>\n      <th>glyburide-metformin</th>\n      <th>glipizide-metformin</th>\n      <th>glimepiride-pioglitazone</th>\n      <th>metformin-rosiglitazone</th>\n      <th>metformin-pioglitazone</th>\n      <th>change</th>\n      <th>diabetesMed</th>\n      <th>readmitted</th>\n    </tr>\n  </thead>\n  <tbody>\n    <tr>\n      <th>0</th>\n      <td>2278392</td>\n      <td>8222157</td>\n      <td>Caucasian</td>\n      <td>Female</td>\n      <td>[0-10)</td>\n      <td>?</td>\n      <td>6</td>\n      <td>25</td>\n      <td>1</td>\n      <td>1</td>\n      <td>...</td>\n      <td>No</td>\n      <td>No</td>\n      <td>No</td>\n      <td>No</td>\n      <td>No</td>\n      <td>No</td>\n      <td>No</td>\n      <td>No</td>\n      <td>No</td>\n      <td>NO</td>\n    </tr>\n    <tr>\n      <th>1</th>\n      <td>149190</td>\n      <td>55629189</td>\n      <td>Caucasian</td>\n      <td>Female</td>\n      <td>[10-20)</td>\n      <td>?</td>\n      <td>1</td>\n      <td>1</td>\n      <td>7</td>\n      <td>3</td>\n      <td>...</td>\n      <td>No</td>\n      <td>Up</td>\n      <td>No</td>\n      <td>No</td>\n      <td>No</td>\n      <td>No</td>\n      <td>No</td>\n      <td>Ch</td>\n      <td>Yes</td>\n      <td>&gt;30</td>\n    </tr>\n    <tr>\n      <th>2</th>\n      <td>64410</td>\n      <td>86047875</td>\n      <td>AfricanAmerican</td>\n      <td>Female</td>\n      <td>[20-30)</td>\n      <td>?</td>\n      <td>1</td>\n      <td>1</td>\n      <td>7</td>\n      <td>2</td>\n      <td>...</td>\n      <td>No</td>\n      <td>No</td>\n      <td>No</td>\n      <td>No</td>\n      <td>No</td>\n      <td>No</td>\n      <td>No</td>\n      <td>No</td>\n      <td>Yes</td>\n      <td>NO</td>\n    </tr>\n    <tr>\n      <th>3</th>\n      <td>500364</td>\n      <td>82442376</td>\n      <td>Caucasian</td>\n      <td>Male</td>\n      <td>[30-40)</td>\n      <td>?</td>\n      <td>1</td>\n      <td>1</td>\n      <td>7</td>\n      <td>2</td>\n      <td>...</td>\n      <td>No</td>\n      <td>Up</td>\n      <td>No</td>\n      <td>No</td>\n      <td>No</td>\n      <td>No</td>\n      <td>No</td>\n      <td>Ch</td>\n      <td>Yes</td>\n      <td>NO</td>\n    </tr>\n    <tr>\n      <th>4</th>\n      <td>16680</td>\n      <td>42519267</td>\n      <td>Caucasian</td>\n      <td>Male</td>\n      <td>[40-50)</td>\n      <td>?</td>\n      <td>1</td>\n      <td>1</td>\n      <td>7</td>\n      <td>1</td>\n      <td>...</td>\n      <td>No</td>\n      <td>Steady</td>\n      <td>No</td>\n      <td>No</td>\n      <td>No</td>\n      <td>No</td>\n      <td>No</td>\n      <td>Ch</td>\n      <td>Yes</td>\n      <td>NO</td>\n    </tr>\n  </tbody>\n</table>\n<p>5 rows × 50 columns</p>\n</div>"
     },
     "execution_count": 356,
     "metadata": {},
     "output_type": "execute_result"
    }
   ],
   "source": [
    "# show the first 5 rows using dataframe.head() method\n",
    "print(\"The first 5 rows of the dataframe\") \n",
    "df.head(5)"
   ]
  },
  {
   "cell_type": "markdown",
   "metadata": {},
   "source": [
    "<div class=\"alert alert-danger alertdanger\" style=\"margin-top: 20px\">\n",
    "<h1> Question #1: </h1>\n",
    "<b>Check the bottom 10 rows of data frame \"df\".</b>\n",
    "</div>\n"
   ]
  },
  {
   "cell_type": "code",
   "execution_count": 357,
   "metadata": {},
   "outputs": [],
   "source": [
    "# Write your code below and press Shift+Enter to execute \n"
   ]
  },
  {
   "cell_type": "markdown",
   "metadata": {},
   "source": [
    "<details><summary>Click here for the solution</summary>\n",
    "\n",
    "```python\n",
    "    print(\"The last 10 rows of the dataframe\\n\")\n",
    "    df.tail(10)\n",
    "```"
   ]
  },
  {
   "cell_type": "markdown",
   "metadata": {},
   "source": [
    "<h3>Add Headers</h3>\n",
    "<p>\n",
    "Take a look at our dataset. Pandas automatically set the header with an integer starting from 0.\n",
    "</p>\n",
    "<p>\n",
    "To better describe our data, we can introduce a header. This information is available at:  <a href=\"https://www.kaggle.com/datasets/brandao/diabetes\" target=\"_blank\">https://www.kaggle.com/datasets/brandao/diabetes</a>.\n",
    "</p>\n",
    "<p>\n",
    "To make our header look better, we can override it.\n",
    "</p>\n",
    "<p>\n",
    "First, we create a list \"headers\" that include all column names in order.\n",
    "Then, we use <code>dataframe.columns = headers</code> to replace the headers with the list we created.\n",
    "</p>"
   ]
  },
  {
   "cell_type": "code",
   "source": [
    "# create headers list\n",
    "headers = [\"EncounterId\",\"PatientNbr\",\"Race\",\"Gender\",\"Age\",\"Weight\",\"AdmissionTypeId\",\n",
    "           \"DischargeDispositionId\",\"AdmissionSourceId\",\"TimeInHospital\",\"PayerCode\",\n",
    "           \"MedicalSpecialty\",\"NumLabProcedures\",\"NumProcedures\",\"NumMedications\",\n",
    "           \"NumberOutpatient\",\"NumberEmergency\",\"NumberInpatient\",\"Diagnosis1\",\"Diagnosis2\",\n",
    "           \"Diagnosis3\",\"NumberDiagnoses\",\"MaxGluSerum\",\"A1Cresult\",\"Metformin\",\"Repaglinide\",\n",
    "           \"Nateglinide\",\"Chlorpropamide\",\"Glimepiride\",\"Acetohexamide\",\"Glipizide\",\n",
    "           \"Glyburide\",\"Tolbutamide\",\"Pioglitazone\",\"Rosiglitazone\",\"Acarbose\",\"Miglitol\",\n",
    "           \"Troglitazone\",\"Tolazamide\",\"Examide\",\"Citoglipton\",\"Insulin\",\"Glyburide-metformin\",\n",
    "           \"Glipizide-metformin\",\"Glimepiride-pioglitazone\",\"Metformin-rosiglitazone\",\"Metformin-pioglitazone\",\n",
    "           \"Change\",\"DiabetesMed\",\"Readmitted\"]\n",
    "print(\"headers\\n\", headers)"
   ],
   "metadata": {
    "collapsed": false,
    "pycharm": {
     "name": "#%%\n"
    }
   },
   "execution_count": 358,
   "outputs": [
    {
     "name": "stdout",
     "output_type": "stream",
     "text": [
      "headers\n",
      " ['EncounterId', 'PatientNbr', 'Race', 'Gender', 'Age', 'Weight', 'AdmissionTypeId', 'DischargeDispositionId', 'AdmissionSourceId', 'TimeInHospital', 'PayerCode', 'MedicalSpecialty', 'NumLabProcedures', 'NumProcedures', 'NumMedications', 'NumberOutpatient', 'NumberEmergency', 'NumberInpatient', 'Diagnosis1', 'Diagnosis2', 'Diagnosis3', 'NumberDiagnoses', 'MaxGluSerum', 'A1Cresult', 'Metformin', 'Repaglinide', 'Nateglinide', 'Chlorpropamide', 'Glimepiride', 'Acetohexamide', 'Glipizide', 'Glyburide', 'Tolbutamide', 'Pioglitazone', 'Rosiglitazone', 'Acarbose', 'Miglitol', 'Troglitazone', 'Tolazamide', 'Examide', 'Citoglipton', 'Insulin', 'Glyburide-metformin', 'Glipizide-metformin', 'Glimepiride-pioglitazone', 'Metformin-rosiglitazone', 'Metformin-pioglitazone', 'Change', 'DiabetesMed', 'Readmitted']\n"
     ]
    }
   ]
  },
  {
   "cell_type": "code",
   "execution_count": 359,
   "metadata": {},
   "outputs": [
    {
     "data": {
      "text/plain": "   EncounterId  PatientNbr             Race  Gender       Age Weight  \\\n0      2278392     8222157        Caucasian  Female    [0-10)      ?   \n1       149190    55629189        Caucasian  Female   [10-20)      ?   \n2        64410    86047875  AfricanAmerican  Female   [20-30)      ?   \n3       500364    82442376        Caucasian    Male   [30-40)      ?   \n4        16680    42519267        Caucasian    Male   [40-50)      ?   \n5        35754    82637451        Caucasian    Male   [50-60)      ?   \n6        55842    84259809        Caucasian    Male   [60-70)      ?   \n7        63768   114882984        Caucasian    Male   [70-80)      ?   \n8        12522    48330783        Caucasian  Female   [80-90)      ?   \n9        15738    63555939        Caucasian  Female  [90-100)      ?   \n\n   AdmissionTypeId  DischargeDispositionId  AdmissionSourceId  TimeInHospital  \\\n0                6                      25                  1               1   \n1                1                       1                  7               3   \n2                1                       1                  7               2   \n3                1                       1                  7               2   \n4                1                       1                  7               1   \n5                2                       1                  2               3   \n6                3                       1                  2               4   \n7                1                       1                  7               5   \n8                2                       1                  4              13   \n9                3                       3                  4              12   \n\n   ... Citoglipton Insulin  Glyburide-metformin  Glipizide-metformin  \\\n0  ...          No      No                   No                   No   \n1  ...          No      Up                   No                   No   \n2  ...          No      No                   No                   No   \n3  ...          No      Up                   No                   No   \n4  ...          No  Steady                   No                   No   \n5  ...          No  Steady                   No                   No   \n6  ...          No  Steady                   No                   No   \n7  ...          No      No                   No                   No   \n8  ...          No  Steady                   No                   No   \n9  ...          No  Steady                   No                   No   \n\n   Glimepiride-pioglitazone  Metformin-rosiglitazone  Metformin-pioglitazone  \\\n0                        No                       No                      No   \n1                        No                       No                      No   \n2                        No                       No                      No   \n3                        No                       No                      No   \n4                        No                       No                      No   \n5                        No                       No                      No   \n6                        No                       No                      No   \n7                        No                       No                      No   \n8                        No                       No                      No   \n9                        No                       No                      No   \n\n   Change DiabetesMed Readmitted  \n0      No          No         NO  \n1      Ch         Yes        >30  \n2      No         Yes         NO  \n3      Ch         Yes         NO  \n4      Ch         Yes         NO  \n5      No         Yes        >30  \n6      Ch         Yes         NO  \n7      No         Yes        >30  \n8      Ch         Yes         NO  \n9      Ch         Yes         NO  \n\n[10 rows x 50 columns]",
      "text/html": "<div>\n<style scoped>\n    .dataframe tbody tr th:only-of-type {\n        vertical-align: middle;\n    }\n\n    .dataframe tbody tr th {\n        vertical-align: top;\n    }\n\n    .dataframe thead th {\n        text-align: right;\n    }\n</style>\n<table border=\"1\" class=\"dataframe\">\n  <thead>\n    <tr style=\"text-align: right;\">\n      <th></th>\n      <th>EncounterId</th>\n      <th>PatientNbr</th>\n      <th>Race</th>\n      <th>Gender</th>\n      <th>Age</th>\n      <th>Weight</th>\n      <th>AdmissionTypeId</th>\n      <th>DischargeDispositionId</th>\n      <th>AdmissionSourceId</th>\n      <th>TimeInHospital</th>\n      <th>...</th>\n      <th>Citoglipton</th>\n      <th>Insulin</th>\n      <th>Glyburide-metformin</th>\n      <th>Glipizide-metformin</th>\n      <th>Glimepiride-pioglitazone</th>\n      <th>Metformin-rosiglitazone</th>\n      <th>Metformin-pioglitazone</th>\n      <th>Change</th>\n      <th>DiabetesMed</th>\n      <th>Readmitted</th>\n    </tr>\n  </thead>\n  <tbody>\n    <tr>\n      <th>0</th>\n      <td>2278392</td>\n      <td>8222157</td>\n      <td>Caucasian</td>\n      <td>Female</td>\n      <td>[0-10)</td>\n      <td>?</td>\n      <td>6</td>\n      <td>25</td>\n      <td>1</td>\n      <td>1</td>\n      <td>...</td>\n      <td>No</td>\n      <td>No</td>\n      <td>No</td>\n      <td>No</td>\n      <td>No</td>\n      <td>No</td>\n      <td>No</td>\n      <td>No</td>\n      <td>No</td>\n      <td>NO</td>\n    </tr>\n    <tr>\n      <th>1</th>\n      <td>149190</td>\n      <td>55629189</td>\n      <td>Caucasian</td>\n      <td>Female</td>\n      <td>[10-20)</td>\n      <td>?</td>\n      <td>1</td>\n      <td>1</td>\n      <td>7</td>\n      <td>3</td>\n      <td>...</td>\n      <td>No</td>\n      <td>Up</td>\n      <td>No</td>\n      <td>No</td>\n      <td>No</td>\n      <td>No</td>\n      <td>No</td>\n      <td>Ch</td>\n      <td>Yes</td>\n      <td>&gt;30</td>\n    </tr>\n    <tr>\n      <th>2</th>\n      <td>64410</td>\n      <td>86047875</td>\n      <td>AfricanAmerican</td>\n      <td>Female</td>\n      <td>[20-30)</td>\n      <td>?</td>\n      <td>1</td>\n      <td>1</td>\n      <td>7</td>\n      <td>2</td>\n      <td>...</td>\n      <td>No</td>\n      <td>No</td>\n      <td>No</td>\n      <td>No</td>\n      <td>No</td>\n      <td>No</td>\n      <td>No</td>\n      <td>No</td>\n      <td>Yes</td>\n      <td>NO</td>\n    </tr>\n    <tr>\n      <th>3</th>\n      <td>500364</td>\n      <td>82442376</td>\n      <td>Caucasian</td>\n      <td>Male</td>\n      <td>[30-40)</td>\n      <td>?</td>\n      <td>1</td>\n      <td>1</td>\n      <td>7</td>\n      <td>2</td>\n      <td>...</td>\n      <td>No</td>\n      <td>Up</td>\n      <td>No</td>\n      <td>No</td>\n      <td>No</td>\n      <td>No</td>\n      <td>No</td>\n      <td>Ch</td>\n      <td>Yes</td>\n      <td>NO</td>\n    </tr>\n    <tr>\n      <th>4</th>\n      <td>16680</td>\n      <td>42519267</td>\n      <td>Caucasian</td>\n      <td>Male</td>\n      <td>[40-50)</td>\n      <td>?</td>\n      <td>1</td>\n      <td>1</td>\n      <td>7</td>\n      <td>1</td>\n      <td>...</td>\n      <td>No</td>\n      <td>Steady</td>\n      <td>No</td>\n      <td>No</td>\n      <td>No</td>\n      <td>No</td>\n      <td>No</td>\n      <td>Ch</td>\n      <td>Yes</td>\n      <td>NO</td>\n    </tr>\n    <tr>\n      <th>5</th>\n      <td>35754</td>\n      <td>82637451</td>\n      <td>Caucasian</td>\n      <td>Male</td>\n      <td>[50-60)</td>\n      <td>?</td>\n      <td>2</td>\n      <td>1</td>\n      <td>2</td>\n      <td>3</td>\n      <td>...</td>\n      <td>No</td>\n      <td>Steady</td>\n      <td>No</td>\n      <td>No</td>\n      <td>No</td>\n      <td>No</td>\n      <td>No</td>\n      <td>No</td>\n      <td>Yes</td>\n      <td>&gt;30</td>\n    </tr>\n    <tr>\n      <th>6</th>\n      <td>55842</td>\n      <td>84259809</td>\n      <td>Caucasian</td>\n      <td>Male</td>\n      <td>[60-70)</td>\n      <td>?</td>\n      <td>3</td>\n      <td>1</td>\n      <td>2</td>\n      <td>4</td>\n      <td>...</td>\n      <td>No</td>\n      <td>Steady</td>\n      <td>No</td>\n      <td>No</td>\n      <td>No</td>\n      <td>No</td>\n      <td>No</td>\n      <td>Ch</td>\n      <td>Yes</td>\n      <td>NO</td>\n    </tr>\n    <tr>\n      <th>7</th>\n      <td>63768</td>\n      <td>114882984</td>\n      <td>Caucasian</td>\n      <td>Male</td>\n      <td>[70-80)</td>\n      <td>?</td>\n      <td>1</td>\n      <td>1</td>\n      <td>7</td>\n      <td>5</td>\n      <td>...</td>\n      <td>No</td>\n      <td>No</td>\n      <td>No</td>\n      <td>No</td>\n      <td>No</td>\n      <td>No</td>\n      <td>No</td>\n      <td>No</td>\n      <td>Yes</td>\n      <td>&gt;30</td>\n    </tr>\n    <tr>\n      <th>8</th>\n      <td>12522</td>\n      <td>48330783</td>\n      <td>Caucasian</td>\n      <td>Female</td>\n      <td>[80-90)</td>\n      <td>?</td>\n      <td>2</td>\n      <td>1</td>\n      <td>4</td>\n      <td>13</td>\n      <td>...</td>\n      <td>No</td>\n      <td>Steady</td>\n      <td>No</td>\n      <td>No</td>\n      <td>No</td>\n      <td>No</td>\n      <td>No</td>\n      <td>Ch</td>\n      <td>Yes</td>\n      <td>NO</td>\n    </tr>\n    <tr>\n      <th>9</th>\n      <td>15738</td>\n      <td>63555939</td>\n      <td>Caucasian</td>\n      <td>Female</td>\n      <td>[90-100)</td>\n      <td>?</td>\n      <td>3</td>\n      <td>3</td>\n      <td>4</td>\n      <td>12</td>\n      <td>...</td>\n      <td>No</td>\n      <td>Steady</td>\n      <td>No</td>\n      <td>No</td>\n      <td>No</td>\n      <td>No</td>\n      <td>No</td>\n      <td>Ch</td>\n      <td>Yes</td>\n      <td>NO</td>\n    </tr>\n  </tbody>\n</table>\n<p>10 rows × 50 columns</p>\n</div>"
     },
     "execution_count": 359,
     "metadata": {},
     "output_type": "execute_result"
    }
   ],
   "source": [
    "df.columns = headers\n",
    "df.head(10)"
   ]
  },
  {
   "cell_type": "markdown",
   "metadata": {},
   "source": [
    "We need to replace the \"?\" symbol with NaN so the dropna() can remove the missing values:\n"
   ]
  },
  {
   "cell_type": "code",
   "execution_count": 360,
   "metadata": {},
   "outputs": [],
   "source": [
    "df1=df.replace('?',np.NaN)\n"
   ]
  },
  {
   "cell_type": "markdown",
   "metadata": {},
   "source": [
    "We can drop missing values along the column \"weight\" as follows:\n"
   ]
  },
  {
   "cell_type": "code",
   "execution_count": 361,
   "metadata": {},
   "outputs": [
    {
     "data": {
      "text/plain": "      EncounterId  PatientNbr             Race  Gender      Age     Weight  \\\n1102      8042082    94466574        Caucasian    Male  [50-60)   [75-100)   \n1108      8057670    96198543              NaN  Female  [80-90)    [50-75)   \n1132      8235036    79874631        Caucasian  Female  [60-70)     [0-25)   \n1136      8274126    90421380        Caucasian  Female  [40-50)   [75-100)   \n1190      8421486    55628172        Caucasian  Female  [70-80)   [75-100)   \n1204      8576406    80041266        Caucasian  Female  [80-90)    [50-75)   \n1214      8620524    93126573        Caucasian  Female  [50-60)   [75-100)   \n1230      8753532    10648701        Caucasian    Male  [70-80)   [75-100)   \n1256      8866632   103586670        Caucasian    Male  [70-80)  [100-125)   \n1294      9075132    96007464  AfricanAmerican  Female  [60-70)   [75-100)   \n1295      9076452    67852377              NaN    Male  [50-60)   [75-100)   \n1298      9089646    42912702        Caucasian  Female  [60-70)    [50-75)   \n1313      9198750    81133947        Caucasian    Male  [50-60)   [75-100)   \n1332      9327402    78871527  AfricanAmerican    Male  [40-50)   [75-100)   \n1433      9813246    42516765        Caucasian    Male  [70-80)   [75-100)   \n1515     10320138    50444955        Caucasian    Male  [50-60)   [75-100)   \n1678     11190414    25739460        Caucasian    Male  [60-70)   [75-100)   \n1683     11194338   100526274        Caucasian    Male  [70-80)   [75-100)   \n2465     16173522    54126873        Caucasian  Female  [70-80)    [50-75)   \n2485     16203084   105841233        Caucasian    Male  [70-80)   [75-100)   \n\n      AdmissionTypeId  DischargeDispositionId  AdmissionSourceId  \\\n1102                6                       1                 17   \n1108                6                       5                 17   \n1132                6                       1                 17   \n1136                6                       1                 17   \n1190                6                       6                 17   \n1204                6                       1                 17   \n1214                6                       1                 17   \n1230                6                       3                 17   \n1256                6                       1                 17   \n1294                6                       3                 17   \n1295                6                       6                 17   \n1298                6                       1                 17   \n1313                6                       1                 17   \n1332                6                       1                 17   \n1433                6                       6                 17   \n1515                6                       1                 17   \n1678                6                       1                 17   \n1683                6                       6                 17   \n2465                6                       6                 17   \n2485                6                       1                 17   \n\n      TimeInHospital  ... Citoglipton Insulin  Glyburide-metformin  \\\n1102               2  ...          No  Steady                   No   \n1108               9  ...          No  Steady                   No   \n1132               5  ...          No  Steady                   No   \n1136               3  ...          No  Steady                   No   \n1190              11  ...          No  Steady                   No   \n1204               9  ...          No  Steady                   No   \n1214               6  ...          No      No                   No   \n1230               6  ...          No      No                   No   \n1256               6  ...          No  Steady                   No   \n1294               9  ...          No  Steady                   No   \n1295               6  ...          No  Steady                   No   \n1298               7  ...          No  Steady                   No   \n1313               2  ...          No      No                   No   \n1332               3  ...          No      No                   No   \n1433               6  ...          No  Steady                   No   \n1515               9  ...          No  Steady                   No   \n1678               1  ...          No      No                   No   \n1683               9  ...          No  Steady                   No   \n2465               5  ...          No  Steady                   No   \n2485               3  ...          No  Steady                   No   \n\n      Glipizide-metformin  Glimepiride-pioglitazone  Metformin-rosiglitazone  \\\n1102                   No                        No                       No   \n1108                   No                        No                       No   \n1132                   No                        No                       No   \n1136                   No                        No                       No   \n1190                   No                        No                       No   \n1204                   No                        No                       No   \n1214                   No                        No                       No   \n1230                   No                        No                       No   \n1256                   No                        No                       No   \n1294                   No                        No                       No   \n1295                   No                        No                       No   \n1298                   No                        No                       No   \n1313                   No                        No                       No   \n1332                   No                        No                       No   \n1433                   No                        No                       No   \n1515                   No                        No                       No   \n1678                   No                        No                       No   \n1683                   No                        No                       No   \n2465                   No                        No                       No   \n2485                   No                        No                       No   \n\n      Metformin-pioglitazone  Change DiabetesMed Readmitted  \n1102                      No      No         Yes        >30  \n1108                      No      Ch         Yes        >30  \n1132                      No      Ch         Yes        >30  \n1136                      No      Ch         Yes         NO  \n1190                      No      Ch         Yes         NO  \n1204                      No      Ch         Yes        >30  \n1214                      No      No          No        >30  \n1230                      No      No         Yes         NO  \n1256                      No      No         Yes        >30  \n1294                      No      No         Yes        >30  \n1295                      No      Ch         Yes        >30  \n1298                      No      Ch         Yes        >30  \n1313                      No      No          No        <30  \n1332                      No      No          No        >30  \n1433                      No      Ch         Yes        >30  \n1515                      No      No         Yes        >30  \n1678                      No      No          No        >30  \n1683                      No      No         Yes        >30  \n2465                      No      No         Yes         NO  \n2485                      No      No         Yes        >30  \n\n[20 rows x 50 columns]",
      "text/html": "<div>\n<style scoped>\n    .dataframe tbody tr th:only-of-type {\n        vertical-align: middle;\n    }\n\n    .dataframe tbody tr th {\n        vertical-align: top;\n    }\n\n    .dataframe thead th {\n        text-align: right;\n    }\n</style>\n<table border=\"1\" class=\"dataframe\">\n  <thead>\n    <tr style=\"text-align: right;\">\n      <th></th>\n      <th>EncounterId</th>\n      <th>PatientNbr</th>\n      <th>Race</th>\n      <th>Gender</th>\n      <th>Age</th>\n      <th>Weight</th>\n      <th>AdmissionTypeId</th>\n      <th>DischargeDispositionId</th>\n      <th>AdmissionSourceId</th>\n      <th>TimeInHospital</th>\n      <th>...</th>\n      <th>Citoglipton</th>\n      <th>Insulin</th>\n      <th>Glyburide-metformin</th>\n      <th>Glipizide-metformin</th>\n      <th>Glimepiride-pioglitazone</th>\n      <th>Metformin-rosiglitazone</th>\n      <th>Metformin-pioglitazone</th>\n      <th>Change</th>\n      <th>DiabetesMed</th>\n      <th>Readmitted</th>\n    </tr>\n  </thead>\n  <tbody>\n    <tr>\n      <th>1102</th>\n      <td>8042082</td>\n      <td>94466574</td>\n      <td>Caucasian</td>\n      <td>Male</td>\n      <td>[50-60)</td>\n      <td>[75-100)</td>\n      <td>6</td>\n      <td>1</td>\n      <td>17</td>\n      <td>2</td>\n      <td>...</td>\n      <td>No</td>\n      <td>Steady</td>\n      <td>No</td>\n      <td>No</td>\n      <td>No</td>\n      <td>No</td>\n      <td>No</td>\n      <td>No</td>\n      <td>Yes</td>\n      <td>&gt;30</td>\n    </tr>\n    <tr>\n      <th>1108</th>\n      <td>8057670</td>\n      <td>96198543</td>\n      <td>NaN</td>\n      <td>Female</td>\n      <td>[80-90)</td>\n      <td>[50-75)</td>\n      <td>6</td>\n      <td>5</td>\n      <td>17</td>\n      <td>9</td>\n      <td>...</td>\n      <td>No</td>\n      <td>Steady</td>\n      <td>No</td>\n      <td>No</td>\n      <td>No</td>\n      <td>No</td>\n      <td>No</td>\n      <td>Ch</td>\n      <td>Yes</td>\n      <td>&gt;30</td>\n    </tr>\n    <tr>\n      <th>1132</th>\n      <td>8235036</td>\n      <td>79874631</td>\n      <td>Caucasian</td>\n      <td>Female</td>\n      <td>[60-70)</td>\n      <td>[0-25)</td>\n      <td>6</td>\n      <td>1</td>\n      <td>17</td>\n      <td>5</td>\n      <td>...</td>\n      <td>No</td>\n      <td>Steady</td>\n      <td>No</td>\n      <td>No</td>\n      <td>No</td>\n      <td>No</td>\n      <td>No</td>\n      <td>Ch</td>\n      <td>Yes</td>\n      <td>&gt;30</td>\n    </tr>\n    <tr>\n      <th>1136</th>\n      <td>8274126</td>\n      <td>90421380</td>\n      <td>Caucasian</td>\n      <td>Female</td>\n      <td>[40-50)</td>\n      <td>[75-100)</td>\n      <td>6</td>\n      <td>1</td>\n      <td>17</td>\n      <td>3</td>\n      <td>...</td>\n      <td>No</td>\n      <td>Steady</td>\n      <td>No</td>\n      <td>No</td>\n      <td>No</td>\n      <td>No</td>\n      <td>No</td>\n      <td>Ch</td>\n      <td>Yes</td>\n      <td>NO</td>\n    </tr>\n    <tr>\n      <th>1190</th>\n      <td>8421486</td>\n      <td>55628172</td>\n      <td>Caucasian</td>\n      <td>Female</td>\n      <td>[70-80)</td>\n      <td>[75-100)</td>\n      <td>6</td>\n      <td>6</td>\n      <td>17</td>\n      <td>11</td>\n      <td>...</td>\n      <td>No</td>\n      <td>Steady</td>\n      <td>No</td>\n      <td>No</td>\n      <td>No</td>\n      <td>No</td>\n      <td>No</td>\n      <td>Ch</td>\n      <td>Yes</td>\n      <td>NO</td>\n    </tr>\n    <tr>\n      <th>1204</th>\n      <td>8576406</td>\n      <td>80041266</td>\n      <td>Caucasian</td>\n      <td>Female</td>\n      <td>[80-90)</td>\n      <td>[50-75)</td>\n      <td>6</td>\n      <td>1</td>\n      <td>17</td>\n      <td>9</td>\n      <td>...</td>\n      <td>No</td>\n      <td>Steady</td>\n      <td>No</td>\n      <td>No</td>\n      <td>No</td>\n      <td>No</td>\n      <td>No</td>\n      <td>Ch</td>\n      <td>Yes</td>\n      <td>&gt;30</td>\n    </tr>\n    <tr>\n      <th>1214</th>\n      <td>8620524</td>\n      <td>93126573</td>\n      <td>Caucasian</td>\n      <td>Female</td>\n      <td>[50-60)</td>\n      <td>[75-100)</td>\n      <td>6</td>\n      <td>1</td>\n      <td>17</td>\n      <td>6</td>\n      <td>...</td>\n      <td>No</td>\n      <td>No</td>\n      <td>No</td>\n      <td>No</td>\n      <td>No</td>\n      <td>No</td>\n      <td>No</td>\n      <td>No</td>\n      <td>No</td>\n      <td>&gt;30</td>\n    </tr>\n    <tr>\n      <th>1230</th>\n      <td>8753532</td>\n      <td>10648701</td>\n      <td>Caucasian</td>\n      <td>Male</td>\n      <td>[70-80)</td>\n      <td>[75-100)</td>\n      <td>6</td>\n      <td>3</td>\n      <td>17</td>\n      <td>6</td>\n      <td>...</td>\n      <td>No</td>\n      <td>No</td>\n      <td>No</td>\n      <td>No</td>\n      <td>No</td>\n      <td>No</td>\n      <td>No</td>\n      <td>No</td>\n      <td>Yes</td>\n      <td>NO</td>\n    </tr>\n    <tr>\n      <th>1256</th>\n      <td>8866632</td>\n      <td>103586670</td>\n      <td>Caucasian</td>\n      <td>Male</td>\n      <td>[70-80)</td>\n      <td>[100-125)</td>\n      <td>6</td>\n      <td>1</td>\n      <td>17</td>\n      <td>6</td>\n      <td>...</td>\n      <td>No</td>\n      <td>Steady</td>\n      <td>No</td>\n      <td>No</td>\n      <td>No</td>\n      <td>No</td>\n      <td>No</td>\n      <td>No</td>\n      <td>Yes</td>\n      <td>&gt;30</td>\n    </tr>\n    <tr>\n      <th>1294</th>\n      <td>9075132</td>\n      <td>96007464</td>\n      <td>AfricanAmerican</td>\n      <td>Female</td>\n      <td>[60-70)</td>\n      <td>[75-100)</td>\n      <td>6</td>\n      <td>3</td>\n      <td>17</td>\n      <td>9</td>\n      <td>...</td>\n      <td>No</td>\n      <td>Steady</td>\n      <td>No</td>\n      <td>No</td>\n      <td>No</td>\n      <td>No</td>\n      <td>No</td>\n      <td>No</td>\n      <td>Yes</td>\n      <td>&gt;30</td>\n    </tr>\n    <tr>\n      <th>1295</th>\n      <td>9076452</td>\n      <td>67852377</td>\n      <td>NaN</td>\n      <td>Male</td>\n      <td>[50-60)</td>\n      <td>[75-100)</td>\n      <td>6</td>\n      <td>6</td>\n      <td>17</td>\n      <td>6</td>\n      <td>...</td>\n      <td>No</td>\n      <td>Steady</td>\n      <td>No</td>\n      <td>No</td>\n      <td>No</td>\n      <td>No</td>\n      <td>No</td>\n      <td>Ch</td>\n      <td>Yes</td>\n      <td>&gt;30</td>\n    </tr>\n    <tr>\n      <th>1298</th>\n      <td>9089646</td>\n      <td>42912702</td>\n      <td>Caucasian</td>\n      <td>Female</td>\n      <td>[60-70)</td>\n      <td>[50-75)</td>\n      <td>6</td>\n      <td>1</td>\n      <td>17</td>\n      <td>7</td>\n      <td>...</td>\n      <td>No</td>\n      <td>Steady</td>\n      <td>No</td>\n      <td>No</td>\n      <td>No</td>\n      <td>No</td>\n      <td>No</td>\n      <td>Ch</td>\n      <td>Yes</td>\n      <td>&gt;30</td>\n    </tr>\n    <tr>\n      <th>1313</th>\n      <td>9198750</td>\n      <td>81133947</td>\n      <td>Caucasian</td>\n      <td>Male</td>\n      <td>[50-60)</td>\n      <td>[75-100)</td>\n      <td>6</td>\n      <td>1</td>\n      <td>17</td>\n      <td>2</td>\n      <td>...</td>\n      <td>No</td>\n      <td>No</td>\n      <td>No</td>\n      <td>No</td>\n      <td>No</td>\n      <td>No</td>\n      <td>No</td>\n      <td>No</td>\n      <td>No</td>\n      <td>&lt;30</td>\n    </tr>\n    <tr>\n      <th>1332</th>\n      <td>9327402</td>\n      <td>78871527</td>\n      <td>AfricanAmerican</td>\n      <td>Male</td>\n      <td>[40-50)</td>\n      <td>[75-100)</td>\n      <td>6</td>\n      <td>1</td>\n      <td>17</td>\n      <td>3</td>\n      <td>...</td>\n      <td>No</td>\n      <td>No</td>\n      <td>No</td>\n      <td>No</td>\n      <td>No</td>\n      <td>No</td>\n      <td>No</td>\n      <td>No</td>\n      <td>No</td>\n      <td>&gt;30</td>\n    </tr>\n    <tr>\n      <th>1433</th>\n      <td>9813246</td>\n      <td>42516765</td>\n      <td>Caucasian</td>\n      <td>Male</td>\n      <td>[70-80)</td>\n      <td>[75-100)</td>\n      <td>6</td>\n      <td>6</td>\n      <td>17</td>\n      <td>6</td>\n      <td>...</td>\n      <td>No</td>\n      <td>Steady</td>\n      <td>No</td>\n      <td>No</td>\n      <td>No</td>\n      <td>No</td>\n      <td>No</td>\n      <td>Ch</td>\n      <td>Yes</td>\n      <td>&gt;30</td>\n    </tr>\n    <tr>\n      <th>1515</th>\n      <td>10320138</td>\n      <td>50444955</td>\n      <td>Caucasian</td>\n      <td>Male</td>\n      <td>[50-60)</td>\n      <td>[75-100)</td>\n      <td>6</td>\n      <td>1</td>\n      <td>17</td>\n      <td>9</td>\n      <td>...</td>\n      <td>No</td>\n      <td>Steady</td>\n      <td>No</td>\n      <td>No</td>\n      <td>No</td>\n      <td>No</td>\n      <td>No</td>\n      <td>No</td>\n      <td>Yes</td>\n      <td>&gt;30</td>\n    </tr>\n    <tr>\n      <th>1678</th>\n      <td>11190414</td>\n      <td>25739460</td>\n      <td>Caucasian</td>\n      <td>Male</td>\n      <td>[60-70)</td>\n      <td>[75-100)</td>\n      <td>6</td>\n      <td>1</td>\n      <td>17</td>\n      <td>1</td>\n      <td>...</td>\n      <td>No</td>\n      <td>No</td>\n      <td>No</td>\n      <td>No</td>\n      <td>No</td>\n      <td>No</td>\n      <td>No</td>\n      <td>No</td>\n      <td>No</td>\n      <td>&gt;30</td>\n    </tr>\n    <tr>\n      <th>1683</th>\n      <td>11194338</td>\n      <td>100526274</td>\n      <td>Caucasian</td>\n      <td>Male</td>\n      <td>[70-80)</td>\n      <td>[75-100)</td>\n      <td>6</td>\n      <td>6</td>\n      <td>17</td>\n      <td>9</td>\n      <td>...</td>\n      <td>No</td>\n      <td>Steady</td>\n      <td>No</td>\n      <td>No</td>\n      <td>No</td>\n      <td>No</td>\n      <td>No</td>\n      <td>No</td>\n      <td>Yes</td>\n      <td>&gt;30</td>\n    </tr>\n    <tr>\n      <th>2465</th>\n      <td>16173522</td>\n      <td>54126873</td>\n      <td>Caucasian</td>\n      <td>Female</td>\n      <td>[70-80)</td>\n      <td>[50-75)</td>\n      <td>6</td>\n      <td>6</td>\n      <td>17</td>\n      <td>5</td>\n      <td>...</td>\n      <td>No</td>\n      <td>Steady</td>\n      <td>No</td>\n      <td>No</td>\n      <td>No</td>\n      <td>No</td>\n      <td>No</td>\n      <td>No</td>\n      <td>Yes</td>\n      <td>NO</td>\n    </tr>\n    <tr>\n      <th>2485</th>\n      <td>16203084</td>\n      <td>105841233</td>\n      <td>Caucasian</td>\n      <td>Male</td>\n      <td>[70-80)</td>\n      <td>[75-100)</td>\n      <td>6</td>\n      <td>1</td>\n      <td>17</td>\n      <td>3</td>\n      <td>...</td>\n      <td>No</td>\n      <td>Steady</td>\n      <td>No</td>\n      <td>No</td>\n      <td>No</td>\n      <td>No</td>\n      <td>No</td>\n      <td>No</td>\n      <td>Yes</td>\n      <td>&gt;30</td>\n    </tr>\n  </tbody>\n</table>\n<p>20 rows × 50 columns</p>\n</div>"
     },
     "execution_count": 361,
     "metadata": {},
     "output_type": "execute_result"
    }
   ],
   "source": [
    "df=df1.dropna(subset=[\"Weight\"], axis=0)\n",
    "df.head(20)"
   ]
  },
  {
   "cell_type": "markdown",
   "metadata": {},
   "source": [
    "Now, we have successfully read the raw dataset and added the correct headers into the dataframe.\n"
   ]
  },
  {
   "cell_type": "markdown",
   "metadata": {},
   "source": [
    " <div class=\"alert alert-danger alertdanger\" style=\"margin-top: 20px\">\n",
    "<h1> Question #2: </h1>\n",
    "<b>Find the name of the columns of the dataframe.</b>\n",
    "</div>\n"
   ]
  },
  {
   "cell_type": "code",
   "execution_count": 362,
   "metadata": {},
   "outputs": [],
   "source": [
    "# Write your code below and press Shift+Enter to execute\n"
   ]
  },
  {
   "cell_type": "markdown",
   "metadata": {},
   "source": [
    "<details><summary>Click here for the solution</summary>\n",
    "\n",
    "```python\n",
    "    print(df.columns)\n",
    "```\n",
    "</details>\n"
   ]
  },
  {
   "cell_type": "markdown",
   "metadata": {},
   "source": [
    "<h2>Save Dataset</h2>\n",
    "<p>\n",
    "Correspondingly, Pandas enables us to save the dataset to csv. By using the <code>dataframe.to_csv()</code> method, you can add the file path and name along with quotation marks in the brackets.\n",
    "</p>\n",
    "<p>\n",
    "For example, if you would save the dataframe <b>df</b> as <b>diabetes.csv</b> to your local machine, you may use the syntax below, where <code>index = False</code> means the row names will not be written.\n",
    "</p>\n"
   ]
  },
  {
   "cell_type": "raw",
   "source": [
    "df.to_csv(\"diabetes.csv\", index=False)"
   ],
   "metadata": {
    "collapsed": false
   }
  },
  {
   "cell_type": "markdown",
   "metadata": {},
   "source": [
    "We can also read and save other file formats. We can use similar functions like **`pd.read_csv()`** and **`df.to_csv()`** for other data formats. The functions are listed in the following table:\n"
   ]
  },
  {
   "cell_type": "markdown",
   "metadata": {},
   "source": [
    "<h2>Read/Save Other Data Formats</h2>\n",
    "\n",
    "| Data Formate |        Read       |            Save |\n",
    "| ------------ | :---------------: | --------------: |\n",
    "| csv          |  `pd.read_csv()`  |   `df.to_csv()` |\n",
    "| json         |  `pd.read_json()` |  `df.to_json()` |\n",
    "| excel        | `pd.read_excel()` | `df.to_excel()` |\n",
    "| hdf          |  `pd.read_hdf()`  |   `df.to_hdf()` |\n",
    "| sql          |  `pd.read_sql()`  |   `df.to_sql()` |\n",
    "| ...          |        ...        |             ... |\n"
   ]
  },
  {
   "cell_type": "markdown",
   "metadata": {},
   "source": [
    "<h1 id=\"basic_insight\">Basic Insight of Dataset</h1>\n",
    "<p>\n",
    "After reading data into Pandas dataframe, it is time for us to explore the dataset.<br>\n",
    "\n",
    "There are several ways to obtain essential insights of the data to help us better understand our dataset.\n",
    "\n",
    "</p>\n"
   ]
  },
  {
   "cell_type": "markdown",
   "metadata": {},
   "source": [
    "<h2>Data Types</h2>\n",
    "<p>\n",
    "Data has a variety of types.<br>\n",
    "\n",
    "The main types stored in Pandas dataframes are <b>object</b>, <b>float</b>, <b>int</b>, <b>bool</b> and <b>datetime64</b>. In order to better learn about each attribute, it is always good for us to know the data type of each column. In Pandas:\n",
    "\n",
    "</p>\n"
   ]
  },
  {
   "cell_type": "code",
   "execution_count": 363,
   "metadata": {},
   "outputs": [
    {
     "data": {
      "text/plain": "EncounterId                  int64\nPatientNbr                   int64\nRace                        object\nGender                      object\nAge                         object\nWeight                      object\nAdmissionTypeId              int64\nDischargeDispositionId       int64\nAdmissionSourceId            int64\nTimeInHospital               int64\nPayerCode                   object\nMedicalSpecialty            object\nNumLabProcedures             int64\nNumProcedures                int64\nNumMedications               int64\nNumberOutpatient             int64\nNumberEmergency              int64\nNumberInpatient              int64\nDiagnosis1                  object\nDiagnosis2                  object\nDiagnosis3                  object\nNumberDiagnoses              int64\nMaxGluSerum                 object\nA1Cresult                   object\nMetformin                   object\nRepaglinide                 object\nNateglinide                 object\nChlorpropamide              object\nGlimepiride                 object\nAcetohexamide               object\nGlipizide                   object\nGlyburide                   object\nTolbutamide                 object\nPioglitazone                object\nRosiglitazone               object\nAcarbose                    object\nMiglitol                    object\nTroglitazone                object\nTolazamide                  object\nExamide                     object\nCitoglipton                 object\nInsulin                     object\nGlyburide-metformin         object\nGlipizide-metformin         object\nGlimepiride-pioglitazone    object\nMetformin-rosiglitazone     object\nMetformin-pioglitazone      object\nChange                      object\nDiabetesMed                 object\nReadmitted                  object\ndtype: object"
     },
     "execution_count": 363,
     "metadata": {},
     "output_type": "execute_result"
    }
   ],
   "source": [
    "df.dtypes\n"
   ]
  },
  {
   "cell_type": "markdown",
   "metadata": {},
   "source": [
    "A series with the data type of each column is returned.\n"
   ]
  },
  {
   "cell_type": "code",
   "execution_count": 364,
   "metadata": {},
   "outputs": [
    {
     "name": "stdout",
     "output_type": "stream",
     "text": [
      "EncounterId                  int64\n",
      "PatientNbr                   int64\n",
      "Race                        object\n",
      "Gender                      object\n",
      "Age                         object\n",
      "Weight                      object\n",
      "AdmissionTypeId              int64\n",
      "DischargeDispositionId       int64\n",
      "AdmissionSourceId            int64\n",
      "TimeInHospital               int64\n",
      "PayerCode                   object\n",
      "MedicalSpecialty            object\n",
      "NumLabProcedures             int64\n",
      "NumProcedures                int64\n",
      "NumMedications               int64\n",
      "NumberOutpatient             int64\n",
      "NumberEmergency              int64\n",
      "NumberInpatient              int64\n",
      "Diagnosis1                  object\n",
      "Diagnosis2                  object\n",
      "Diagnosis3                  object\n",
      "NumberDiagnoses              int64\n",
      "MaxGluSerum                 object\n",
      "A1Cresult                   object\n",
      "Metformin                   object\n",
      "Repaglinide                 object\n",
      "Nateglinide                 object\n",
      "Chlorpropamide              object\n",
      "Glimepiride                 object\n",
      "Acetohexamide               object\n",
      "Glipizide                   object\n",
      "Glyburide                   object\n",
      "Tolbutamide                 object\n",
      "Pioglitazone                object\n",
      "Rosiglitazone               object\n",
      "Acarbose                    object\n",
      "Miglitol                    object\n",
      "Troglitazone                object\n",
      "Tolazamide                  object\n",
      "Examide                     object\n",
      "Citoglipton                 object\n",
      "Insulin                     object\n",
      "Glyburide-metformin         object\n",
      "Glipizide-metformin         object\n",
      "Glimepiride-pioglitazone    object\n",
      "Metformin-rosiglitazone     object\n",
      "Metformin-pioglitazone      object\n",
      "Change                      object\n",
      "DiabetesMed                 object\n",
      "Readmitted                  object\n",
      "dtype: object\n"
     ]
    }
   ],
   "source": [
    "# check the data type of data frame \"df\" by .dtypes\n",
    "print(df.dtypes)"
   ]
  },
  {
   "cell_type": "markdown",
   "metadata": {},
   "source": [
    "<p>\n",
    "As shown above, it is clear to see that the data type of \"EncounterId\" and \"PatientNbr\" are <code>int64</code>, \"Race\" is <code>object</code>, etc.\n",
    "</p>\n",
    "<p>\n",
    "These data types can be changed; we will learn how to accomplish this in a later module.\n",
    "</p>\n"
   ]
  },
  {
   "cell_type": "markdown",
   "metadata": {},
   "source": [
    "<h2>Describe</h2>\n",
    "If we would like to get a statistical summary of each column e.g. count, column mean value, column standard deviation, etc., we use the describe method:\n"
   ]
  },
  {
   "cell_type": "raw",
   "metadata": {},
   "source": [
    "dataframe.describe()"
   ]
  },
  {
   "cell_type": "markdown",
   "metadata": {},
   "source": [
    "This method will provide various summary statistics, excluding <code>NaN</code> (Not a Number) values.\n"
   ]
  },
  {
   "cell_type": "code",
   "execution_count": 365,
   "metadata": {},
   "outputs": [
    {
     "data": {
      "text/plain": "        EncounterId    PatientNbr  AdmissionTypeId  DischargeDispositionId  \\\ncount  3.197000e+03  3.197000e+03      3197.000000             3197.000000   \nmean   1.559442e+08  7.121929e+07         2.388176                2.712230   \nstd    1.010020e+08  3.112114e+07         1.748526                2.850754   \nmin    8.042082e+06  1.629000e+03         1.000000                1.000000   \n25%    8.323027e+07  5.422239e+07         1.000000                1.000000   \n50%    1.277816e+08  7.670522e+07         2.000000                1.000000   \n75%    2.127792e+08  9.572209e+07         3.000000                3.000000   \nmax    4.436958e+08  1.867680e+08         6.000000               18.000000   \n\n       AdmissionSourceId  TimeInHospital  NumLabProcedures  NumProcedures  \\\ncount        3197.000000     3197.000000       3197.000000    3197.000000   \nmean            6.112293        4.803253         53.142321       1.491711   \nstd             4.962522        2.991919         18.970172       1.783584   \nmin             1.000000        1.000000          1.000000       0.000000   \n25%             1.000000        3.000000         41.000000       0.000000   \n50%             7.000000        4.000000         55.000000       1.000000   \n75%             7.000000        6.000000         68.000000       2.000000   \nmax            17.000000       14.000000        105.000000       6.000000   \n\n       NumMedications  NumberOutpatient  NumberEmergency  NumberInpatient  \\\ncount     3197.000000       3197.000000      3197.000000      3197.000000   \nmean        16.351580          1.089459         0.233969         0.574601   \nstd          7.885302          1.874539         0.758141         1.219299   \nmin          1.000000          0.000000         0.000000         0.000000   \n25%         11.000000          0.000000         0.000000         0.000000   \n50%         15.000000          0.000000         0.000000         0.000000   \n75%         20.000000          2.000000         0.000000         1.000000   \nmax         65.000000         21.000000        13.000000        21.000000   \n\n       NumberDiagnoses  \ncount      3197.000000  \nmean          7.975915  \nstd           1.526276  \nmin           1.000000  \n25%           7.000000  \n50%           9.000000  \n75%           9.000000  \nmax           9.000000  ",
      "text/html": "<div>\n<style scoped>\n    .dataframe tbody tr th:only-of-type {\n        vertical-align: middle;\n    }\n\n    .dataframe tbody tr th {\n        vertical-align: top;\n    }\n\n    .dataframe thead th {\n        text-align: right;\n    }\n</style>\n<table border=\"1\" class=\"dataframe\">\n  <thead>\n    <tr style=\"text-align: right;\">\n      <th></th>\n      <th>EncounterId</th>\n      <th>PatientNbr</th>\n      <th>AdmissionTypeId</th>\n      <th>DischargeDispositionId</th>\n      <th>AdmissionSourceId</th>\n      <th>TimeInHospital</th>\n      <th>NumLabProcedures</th>\n      <th>NumProcedures</th>\n      <th>NumMedications</th>\n      <th>NumberOutpatient</th>\n      <th>NumberEmergency</th>\n      <th>NumberInpatient</th>\n      <th>NumberDiagnoses</th>\n    </tr>\n  </thead>\n  <tbody>\n    <tr>\n      <th>count</th>\n      <td>3.197000e+03</td>\n      <td>3.197000e+03</td>\n      <td>3197.000000</td>\n      <td>3197.000000</td>\n      <td>3197.000000</td>\n      <td>3197.000000</td>\n      <td>3197.000000</td>\n      <td>3197.000000</td>\n      <td>3197.000000</td>\n      <td>3197.000000</td>\n      <td>3197.000000</td>\n      <td>3197.000000</td>\n      <td>3197.000000</td>\n    </tr>\n    <tr>\n      <th>mean</th>\n      <td>1.559442e+08</td>\n      <td>7.121929e+07</td>\n      <td>2.388176</td>\n      <td>2.712230</td>\n      <td>6.112293</td>\n      <td>4.803253</td>\n      <td>53.142321</td>\n      <td>1.491711</td>\n      <td>16.351580</td>\n      <td>1.089459</td>\n      <td>0.233969</td>\n      <td>0.574601</td>\n      <td>7.975915</td>\n    </tr>\n    <tr>\n      <th>std</th>\n      <td>1.010020e+08</td>\n      <td>3.112114e+07</td>\n      <td>1.748526</td>\n      <td>2.850754</td>\n      <td>4.962522</td>\n      <td>2.991919</td>\n      <td>18.970172</td>\n      <td>1.783584</td>\n      <td>7.885302</td>\n      <td>1.874539</td>\n      <td>0.758141</td>\n      <td>1.219299</td>\n      <td>1.526276</td>\n    </tr>\n    <tr>\n      <th>min</th>\n      <td>8.042082e+06</td>\n      <td>1.629000e+03</td>\n      <td>1.000000</td>\n      <td>1.000000</td>\n      <td>1.000000</td>\n      <td>1.000000</td>\n      <td>1.000000</td>\n      <td>0.000000</td>\n      <td>1.000000</td>\n      <td>0.000000</td>\n      <td>0.000000</td>\n      <td>0.000000</td>\n      <td>1.000000</td>\n    </tr>\n    <tr>\n      <th>25%</th>\n      <td>8.323027e+07</td>\n      <td>5.422239e+07</td>\n      <td>1.000000</td>\n      <td>1.000000</td>\n      <td>1.000000</td>\n      <td>3.000000</td>\n      <td>41.000000</td>\n      <td>0.000000</td>\n      <td>11.000000</td>\n      <td>0.000000</td>\n      <td>0.000000</td>\n      <td>0.000000</td>\n      <td>7.000000</td>\n    </tr>\n    <tr>\n      <th>50%</th>\n      <td>1.277816e+08</td>\n      <td>7.670522e+07</td>\n      <td>2.000000</td>\n      <td>1.000000</td>\n      <td>7.000000</td>\n      <td>4.000000</td>\n      <td>55.000000</td>\n      <td>1.000000</td>\n      <td>15.000000</td>\n      <td>0.000000</td>\n      <td>0.000000</td>\n      <td>0.000000</td>\n      <td>9.000000</td>\n    </tr>\n    <tr>\n      <th>75%</th>\n      <td>2.127792e+08</td>\n      <td>9.572209e+07</td>\n      <td>3.000000</td>\n      <td>3.000000</td>\n      <td>7.000000</td>\n      <td>6.000000</td>\n      <td>68.000000</td>\n      <td>2.000000</td>\n      <td>20.000000</td>\n      <td>2.000000</td>\n      <td>0.000000</td>\n      <td>1.000000</td>\n      <td>9.000000</td>\n    </tr>\n    <tr>\n      <th>max</th>\n      <td>4.436958e+08</td>\n      <td>1.867680e+08</td>\n      <td>6.000000</td>\n      <td>18.000000</td>\n      <td>17.000000</td>\n      <td>14.000000</td>\n      <td>105.000000</td>\n      <td>6.000000</td>\n      <td>65.000000</td>\n      <td>21.000000</td>\n      <td>13.000000</td>\n      <td>21.000000</td>\n      <td>9.000000</td>\n    </tr>\n  </tbody>\n</table>\n</div>"
     },
     "execution_count": 365,
     "metadata": {},
     "output_type": "execute_result"
    }
   ],
   "source": [
    "df.describe()"
   ]
  },
  {
   "cell_type": "markdown",
   "metadata": {},
   "source": [
    "<p>\n",
    "This shows the statistical summary of all numeric-typed (int, float) columns.<br>\n",
    "\n",
    "For example, the attribute \"DischargeDispositionId\" has 3197 counts, the mean value of this column is 2.71, the standard deviation is 2.85, the minimum value is 1, 25th percentile is 1, 50th percentile is 1, 75th percentile is 3, and the maximum value is 18. <br>\n",
    "\n",
    "However, what if we would also like to check all the columns including those that are of type object? <br><br>\n",
    "\n",
    "You can add an argument <code>include = \"all\"</code> inside the bracket. Let's try it again.\n",
    "\n",
    "</p>\n"
   ]
  },
  {
   "cell_type": "code",
   "execution_count": 366,
   "metadata": {},
   "outputs": [
    {
     "data": {
      "text/plain": "         EncounterId    PatientNbr       Race  Gender      Age    Weight  \\\ncount   3.197000e+03  3.197000e+03       3059    3197     3197      3197   \nunique           NaN           NaN          4       2       10         9   \ntop              NaN           NaN  Caucasian  Female  [70-80)  [75-100)   \nfreq             NaN           NaN       2907    1648      938      1336   \nmean    1.559442e+08  7.121929e+07        NaN     NaN      NaN       NaN   \nstd     1.010020e+08  3.112114e+07        NaN     NaN      NaN       NaN   \nmin     8.042082e+06  1.629000e+03        NaN     NaN      NaN       NaN   \n25%     8.323027e+07  5.422239e+07        NaN     NaN      NaN       NaN   \n50%     1.277816e+08  7.670522e+07        NaN     NaN      NaN       NaN   \n75%     2.127792e+08  9.572209e+07        NaN     NaN      NaN       NaN   \nmax     4.436958e+08  1.867680e+08        NaN     NaN      NaN       NaN   \n\n        AdmissionTypeId  DischargeDispositionId  AdmissionSourceId  \\\ncount       3197.000000             3197.000000        3197.000000   \nunique              NaN                     NaN                NaN   \ntop                 NaN                     NaN                NaN   \nfreq                NaN                     NaN                NaN   \nmean           2.388176                2.712230           6.112293   \nstd            1.748526                2.850754           4.962522   \nmin            1.000000                1.000000           1.000000   \n25%            1.000000                1.000000           1.000000   \n50%            2.000000                1.000000           7.000000   \n75%            3.000000                3.000000           7.000000   \nmax            6.000000               18.000000          17.000000   \n\n        TimeInHospital  ... Citoglipton Insulin  Glyburide-metformin  \\\ncount      3197.000000  ...        3197    3197                 3197   \nunique             NaN  ...           1       4                    1   \ntop                NaN  ...          No      No                   No   \nfreq               NaN  ...        3197    2288                 3197   \nmean          4.803253  ...         NaN     NaN                  NaN   \nstd           2.991919  ...         NaN     NaN                  NaN   \nmin           1.000000  ...         NaN     NaN                  NaN   \n25%           3.000000  ...         NaN     NaN                  NaN   \n50%           4.000000  ...         NaN     NaN                  NaN   \n75%           6.000000  ...         NaN     NaN                  NaN   \nmax          14.000000  ...         NaN     NaN                  NaN   \n\n        Glipizide-metformin  Glimepiride-pioglitazone  \\\ncount                  3197                      3197   \nunique                    1                         1   \ntop                      No                        No   \nfreq                   3197                      3197   \nmean                    NaN                       NaN   \nstd                     NaN                       NaN   \nmin                     NaN                       NaN   \n25%                     NaN                       NaN   \n50%                     NaN                       NaN   \n75%                     NaN                       NaN   \nmax                     NaN                       NaN   \n\n        Metformin-rosiglitazone  Metformin-pioglitazone  Change DiabetesMed  \\\ncount                      3197                    3197    3197        3197   \nunique                        1                       1       2           2   \ntop                          No                      No      No         Yes   \nfreq                       3197                    3197    2131        2201   \nmean                        NaN                     NaN     NaN         NaN   \nstd                         NaN                     NaN     NaN         NaN   \nmin                         NaN                     NaN     NaN         NaN   \n25%                         NaN                     NaN     NaN         NaN   \n50%                         NaN                     NaN     NaN         NaN   \n75%                         NaN                     NaN     NaN         NaN   \nmax                         NaN                     NaN     NaN         NaN   \n\n       Readmitted  \ncount        3197  \nunique          3  \ntop           >30  \nfreq         1510  \nmean          NaN  \nstd           NaN  \nmin           NaN  \n25%           NaN  \n50%           NaN  \n75%           NaN  \nmax           NaN  \n\n[11 rows x 50 columns]",
      "text/html": "<div>\n<style scoped>\n    .dataframe tbody tr th:only-of-type {\n        vertical-align: middle;\n    }\n\n    .dataframe tbody tr th {\n        vertical-align: top;\n    }\n\n    .dataframe thead th {\n        text-align: right;\n    }\n</style>\n<table border=\"1\" class=\"dataframe\">\n  <thead>\n    <tr style=\"text-align: right;\">\n      <th></th>\n      <th>EncounterId</th>\n      <th>PatientNbr</th>\n      <th>Race</th>\n      <th>Gender</th>\n      <th>Age</th>\n      <th>Weight</th>\n      <th>AdmissionTypeId</th>\n      <th>DischargeDispositionId</th>\n      <th>AdmissionSourceId</th>\n      <th>TimeInHospital</th>\n      <th>...</th>\n      <th>Citoglipton</th>\n      <th>Insulin</th>\n      <th>Glyburide-metformin</th>\n      <th>Glipizide-metformin</th>\n      <th>Glimepiride-pioglitazone</th>\n      <th>Metformin-rosiglitazone</th>\n      <th>Metformin-pioglitazone</th>\n      <th>Change</th>\n      <th>DiabetesMed</th>\n      <th>Readmitted</th>\n    </tr>\n  </thead>\n  <tbody>\n    <tr>\n      <th>count</th>\n      <td>3.197000e+03</td>\n      <td>3.197000e+03</td>\n      <td>3059</td>\n      <td>3197</td>\n      <td>3197</td>\n      <td>3197</td>\n      <td>3197.000000</td>\n      <td>3197.000000</td>\n      <td>3197.000000</td>\n      <td>3197.000000</td>\n      <td>...</td>\n      <td>3197</td>\n      <td>3197</td>\n      <td>3197</td>\n      <td>3197</td>\n      <td>3197</td>\n      <td>3197</td>\n      <td>3197</td>\n      <td>3197</td>\n      <td>3197</td>\n      <td>3197</td>\n    </tr>\n    <tr>\n      <th>unique</th>\n      <td>NaN</td>\n      <td>NaN</td>\n      <td>4</td>\n      <td>2</td>\n      <td>10</td>\n      <td>9</td>\n      <td>NaN</td>\n      <td>NaN</td>\n      <td>NaN</td>\n      <td>NaN</td>\n      <td>...</td>\n      <td>1</td>\n      <td>4</td>\n      <td>1</td>\n      <td>1</td>\n      <td>1</td>\n      <td>1</td>\n      <td>1</td>\n      <td>2</td>\n      <td>2</td>\n      <td>3</td>\n    </tr>\n    <tr>\n      <th>top</th>\n      <td>NaN</td>\n      <td>NaN</td>\n      <td>Caucasian</td>\n      <td>Female</td>\n      <td>[70-80)</td>\n      <td>[75-100)</td>\n      <td>NaN</td>\n      <td>NaN</td>\n      <td>NaN</td>\n      <td>NaN</td>\n      <td>...</td>\n      <td>No</td>\n      <td>No</td>\n      <td>No</td>\n      <td>No</td>\n      <td>No</td>\n      <td>No</td>\n      <td>No</td>\n      <td>No</td>\n      <td>Yes</td>\n      <td>&gt;30</td>\n    </tr>\n    <tr>\n      <th>freq</th>\n      <td>NaN</td>\n      <td>NaN</td>\n      <td>2907</td>\n      <td>1648</td>\n      <td>938</td>\n      <td>1336</td>\n      <td>NaN</td>\n      <td>NaN</td>\n      <td>NaN</td>\n      <td>NaN</td>\n      <td>...</td>\n      <td>3197</td>\n      <td>2288</td>\n      <td>3197</td>\n      <td>3197</td>\n      <td>3197</td>\n      <td>3197</td>\n      <td>3197</td>\n      <td>2131</td>\n      <td>2201</td>\n      <td>1510</td>\n    </tr>\n    <tr>\n      <th>mean</th>\n      <td>1.559442e+08</td>\n      <td>7.121929e+07</td>\n      <td>NaN</td>\n      <td>NaN</td>\n      <td>NaN</td>\n      <td>NaN</td>\n      <td>2.388176</td>\n      <td>2.712230</td>\n      <td>6.112293</td>\n      <td>4.803253</td>\n      <td>...</td>\n      <td>NaN</td>\n      <td>NaN</td>\n      <td>NaN</td>\n      <td>NaN</td>\n      <td>NaN</td>\n      <td>NaN</td>\n      <td>NaN</td>\n      <td>NaN</td>\n      <td>NaN</td>\n      <td>NaN</td>\n    </tr>\n    <tr>\n      <th>std</th>\n      <td>1.010020e+08</td>\n      <td>3.112114e+07</td>\n      <td>NaN</td>\n      <td>NaN</td>\n      <td>NaN</td>\n      <td>NaN</td>\n      <td>1.748526</td>\n      <td>2.850754</td>\n      <td>4.962522</td>\n      <td>2.991919</td>\n      <td>...</td>\n      <td>NaN</td>\n      <td>NaN</td>\n      <td>NaN</td>\n      <td>NaN</td>\n      <td>NaN</td>\n      <td>NaN</td>\n      <td>NaN</td>\n      <td>NaN</td>\n      <td>NaN</td>\n      <td>NaN</td>\n    </tr>\n    <tr>\n      <th>min</th>\n      <td>8.042082e+06</td>\n      <td>1.629000e+03</td>\n      <td>NaN</td>\n      <td>NaN</td>\n      <td>NaN</td>\n      <td>NaN</td>\n      <td>1.000000</td>\n      <td>1.000000</td>\n      <td>1.000000</td>\n      <td>1.000000</td>\n      <td>...</td>\n      <td>NaN</td>\n      <td>NaN</td>\n      <td>NaN</td>\n      <td>NaN</td>\n      <td>NaN</td>\n      <td>NaN</td>\n      <td>NaN</td>\n      <td>NaN</td>\n      <td>NaN</td>\n      <td>NaN</td>\n    </tr>\n    <tr>\n      <th>25%</th>\n      <td>8.323027e+07</td>\n      <td>5.422239e+07</td>\n      <td>NaN</td>\n      <td>NaN</td>\n      <td>NaN</td>\n      <td>NaN</td>\n      <td>1.000000</td>\n      <td>1.000000</td>\n      <td>1.000000</td>\n      <td>3.000000</td>\n      <td>...</td>\n      <td>NaN</td>\n      <td>NaN</td>\n      <td>NaN</td>\n      <td>NaN</td>\n      <td>NaN</td>\n      <td>NaN</td>\n      <td>NaN</td>\n      <td>NaN</td>\n      <td>NaN</td>\n      <td>NaN</td>\n    </tr>\n    <tr>\n      <th>50%</th>\n      <td>1.277816e+08</td>\n      <td>7.670522e+07</td>\n      <td>NaN</td>\n      <td>NaN</td>\n      <td>NaN</td>\n      <td>NaN</td>\n      <td>2.000000</td>\n      <td>1.000000</td>\n      <td>7.000000</td>\n      <td>4.000000</td>\n      <td>...</td>\n      <td>NaN</td>\n      <td>NaN</td>\n      <td>NaN</td>\n      <td>NaN</td>\n      <td>NaN</td>\n      <td>NaN</td>\n      <td>NaN</td>\n      <td>NaN</td>\n      <td>NaN</td>\n      <td>NaN</td>\n    </tr>\n    <tr>\n      <th>75%</th>\n      <td>2.127792e+08</td>\n      <td>9.572209e+07</td>\n      <td>NaN</td>\n      <td>NaN</td>\n      <td>NaN</td>\n      <td>NaN</td>\n      <td>3.000000</td>\n      <td>3.000000</td>\n      <td>7.000000</td>\n      <td>6.000000</td>\n      <td>...</td>\n      <td>NaN</td>\n      <td>NaN</td>\n      <td>NaN</td>\n      <td>NaN</td>\n      <td>NaN</td>\n      <td>NaN</td>\n      <td>NaN</td>\n      <td>NaN</td>\n      <td>NaN</td>\n      <td>NaN</td>\n    </tr>\n    <tr>\n      <th>max</th>\n      <td>4.436958e+08</td>\n      <td>1.867680e+08</td>\n      <td>NaN</td>\n      <td>NaN</td>\n      <td>NaN</td>\n      <td>NaN</td>\n      <td>6.000000</td>\n      <td>18.000000</td>\n      <td>17.000000</td>\n      <td>14.000000</td>\n      <td>...</td>\n      <td>NaN</td>\n      <td>NaN</td>\n      <td>NaN</td>\n      <td>NaN</td>\n      <td>NaN</td>\n      <td>NaN</td>\n      <td>NaN</td>\n      <td>NaN</td>\n      <td>NaN</td>\n      <td>NaN</td>\n    </tr>\n  </tbody>\n</table>\n<p>11 rows × 50 columns</p>\n</div>"
     },
     "execution_count": 366,
     "metadata": {},
     "output_type": "execute_result"
    }
   ],
   "source": [
    "# describe all the columns in \"df\" \n",
    "df.describe(include = \"all\")"
   ]
  },
  {
   "cell_type": "markdown",
   "metadata": {},
   "source": [
    "<p>\n",
    "Now it provides the statistical summary of all the columns, including object-typed attributes.<br>\n",
    "\n",
    "We can now see how many unique values there, which one is the top value and the frequency of top value in the object-typed columns.<br>\n",
    "\n",
    "Some values in the table above show as \"NaN\". This is because those numbers are not available regarding a particular column type.<br>\n",
    "\n",
    "</p>"
   ]
  },
  {
   "cell_type": "markdown",
   "metadata": {},
   "source": [
    "<div class=\"alert alert-danger alertdanger\" style=\"margin-top: 20px\">\n",
    "<h1> Question #3: </h1>\n",
    "\n",
    "<p>\n",
    "You can select the columns of a dataframe by indicating the name of each column. For example, you can select the three columns as follows:\n",
    "</p>\n",
    "<p>\n",
    "    <code>dataframe[[' column 1 ',column 2', 'column 3']]</code>\n",
    "</p>\n",
    "<p>\n",
    "Where \"column\" is the name of the column, you can apply the method  \".describe()\" to get the statistics of those columns as follows:\n",
    "</p>\n",
    "<p>\n",
    "    <code>dataframe[[' column 1 ',column 2', 'column 3'] ].describe()</code>\n",
    "</p>\n",
    "\n",
    "Apply the  method to \".describe()\" to the columns 'Age' and 'Weight'.\n",
    "\n",
    "</div>\n"
   ]
  },
  {
   "cell_type": "code",
   "execution_count": 367,
   "metadata": {},
   "outputs": [],
   "source": [
    "# Write your code below and press Shift+Enter to execute"
   ]
  },
  {
   "cell_type": "markdown",
   "metadata": {},
   "source": [
    "<details><summary>Click here for the solution</summary>\n",
    "\n",
    "```python\n",
    "    df[['Age', 'Weight']].describe()\n",
    "```\n",
    "</details>"
   ]
  },
  {
   "cell_type": "markdown",
   "metadata": {},
   "source": [
    "<h2>Info</h2>\n",
    "Another method you can use to check your dataset is:\n"
   ]
  },
  {
   "cell_type": "raw",
   "metadata": {},
   "source": [
    "dataframe.info()"
   ]
  },
  {
   "cell_type": "markdown",
   "metadata": {},
   "source": [
    "It provides a concise summary of your DataFrame.\n",
    "\n",
    "This method prints information about a DataFrame including the index dtype and columns, non-null values and memory usage.\n"
   ]
  },
  {
   "cell_type": "code",
   "execution_count": 368,
   "metadata": {},
   "outputs": [
    {
     "name": "stdout",
     "output_type": "stream",
     "text": [
      "<class 'pandas.core.frame.DataFrame'>\n",
      "Int64Index: 3197 entries, 1102 to 101723\n",
      "Data columns (total 50 columns):\n",
      " #   Column                    Non-Null Count  Dtype \n",
      "---  ------                    --------------  ----- \n",
      " 0   EncounterId               3197 non-null   int64 \n",
      " 1   PatientNbr                3197 non-null   int64 \n",
      " 2   Race                      3059 non-null   object\n",
      " 3   Gender                    3197 non-null   object\n",
      " 4   Age                       3197 non-null   object\n",
      " 5   Weight                    3197 non-null   object\n",
      " 6   AdmissionTypeId           3197 non-null   int64 \n",
      " 7   DischargeDispositionId    3197 non-null   int64 \n",
      " 8   AdmissionSourceId         3197 non-null   int64 \n",
      " 9   TimeInHospital            3197 non-null   int64 \n",
      " 10  PayerCode                 2315 non-null   object\n",
      " 11  MedicalSpecialty          1646 non-null   object\n",
      " 12  NumLabProcedures          3197 non-null   int64 \n",
      " 13  NumProcedures             3197 non-null   int64 \n",
      " 14  NumMedications            3197 non-null   int64 \n",
      " 15  NumberOutpatient          3197 non-null   int64 \n",
      " 16  NumberEmergency           3197 non-null   int64 \n",
      " 17  NumberInpatient           3197 non-null   int64 \n",
      " 18  Diagnosis1                3197 non-null   object\n",
      " 19  Diagnosis2                3185 non-null   object\n",
      " 20  Diagnosis3                3173 non-null   object\n",
      " 21  NumberDiagnoses           3197 non-null   int64 \n",
      " 22  MaxGluSerum               3197 non-null   object\n",
      " 23  A1Cresult                 3197 non-null   object\n",
      " 24  Metformin                 3197 non-null   object\n",
      " 25  Repaglinide               3197 non-null   object\n",
      " 26  Nateglinide               3197 non-null   object\n",
      " 27  Chlorpropamide            3197 non-null   object\n",
      " 28  Glimepiride               3197 non-null   object\n",
      " 29  Acetohexamide             3197 non-null   object\n",
      " 30  Glipizide                 3197 non-null   object\n",
      " 31  Glyburide                 3197 non-null   object\n",
      " 32  Tolbutamide               3197 non-null   object\n",
      " 33  Pioglitazone              3197 non-null   object\n",
      " 34  Rosiglitazone             3197 non-null   object\n",
      " 35  Acarbose                  3197 non-null   object\n",
      " 36  Miglitol                  3197 non-null   object\n",
      " 37  Troglitazone              3197 non-null   object\n",
      " 38  Tolazamide                3197 non-null   object\n",
      " 39  Examide                   3197 non-null   object\n",
      " 40  Citoglipton               3197 non-null   object\n",
      " 41  Insulin                   3197 non-null   object\n",
      " 42  Glyburide-metformin       3197 non-null   object\n",
      " 43  Glipizide-metformin       3197 non-null   object\n",
      " 44  Glimepiride-pioglitazone  3197 non-null   object\n",
      " 45  Metformin-rosiglitazone   3197 non-null   object\n",
      " 46  Metformin-pioglitazone    3197 non-null   object\n",
      " 47  Change                    3197 non-null   object\n",
      " 48  DiabetesMed               3197 non-null   object\n",
      " 49  Readmitted                3197 non-null   object\n",
      "dtypes: int64(13), object(37)\n",
      "memory usage: 1.2+ MB\n"
     ]
    }
   ],
   "source": [
    "# look at the info of \"df\"\n",
    "df.info()"
   ]
  },
  {
   "cell_type": "markdown",
   "metadata": {},
   "source": [
    "<h1>Excellent! You have just completed the  Introduction Notebook!</h1>\n"
   ]
  },
  {
   "cell_type": "markdown",
   "metadata": {},
   "source": [
    "### Thank you for completing this lab!\n",
    "\n",
    "## Author\n",
    "\n",
    "<a href=\"https://www.linkedin.com/in/joseph-s-50398b136/?utm_medium=Exinfluencer&utm_source=Exinfluencer&utm_content=000026UJ&utm_term=10006555&utm_id=NA-SkillsNetwork-Channel-SkillsNetworkCoursesIBMDeveloperSkillsNetworkDA0101ENSkillsNetwork20235326-2021-01-01\" target=\"_blank\">Joseph Santarcangelo</a>\n",
    "\n",
    "### Other Contributors\n",
    "\n",
    "<a href=\"https://www.linkedin.com/in/mahdi-noorian-58219234/?utm_medium=Exinfluencer&utm_source=Exinfluencer&utm_content=000026UJ&utm_term=10006555&utm_id=NA-SkillsNetwork-Channel-SkillsNetworkCoursesIBMDeveloperSkillsNetworkDA0101ENSkillsNetwork20235326-2021-01-01\" target=\"_blank\">Mahdi Noorian PhD</a>\n",
    "\n",
    "Bahare Talayian\n",
    "\n",
    "Eric Xiao\n",
    "\n",
    "Steven Dong\n",
    "\n",
    "Parizad\n",
    "\n",
    "Hima Vasudevan\n",
    "\n",
    "<a href=\"https://www.linkedin.com/in/fiorellawever/?utm_medium=Exinfluencer&utm_source=Exinfluencer&utm_content=000026UJ&utm_term=10006555&utm_id=NA-SkillsNetwork-Channel-SkillsNetworkCoursesIBMDeveloperSkillsNetworkDA0101ENSkillsNetwork20235326-2021-01-01\" target=\"_blank\">Fiorella Wenver</a>\n",
    "\n",
    "<a href=\"https:// https://www.linkedin.com/in/yi-leng-yao-84451275/ \" target=\"_blank\" >Yi Yao</a>.\n",
    "\n",
    "## Change Log\n",
    "\n",
    "| Date (YYYY-MM-DD) | Version | Changed By | Change Description                                         |\n",
    "| ----------------- | ------- | ---------- | ---------------------------------------------------------- |\n",
    "| 2022-08-23        | 2.4     | Malika     | Import micropip added and parameter for ipwidgets and tqdm |\n",
    "| 2020-10-30        | 2.3     | Lakshmi    | Changed URL of the csv                                     |\n",
    "| 2020-09-22        | 2.2     | Nayef      | Added replace() method to remove '?'                       |\n",
    "| 2020-09-09        | 2.1     | Lakshmi    | Made changes in info method of dataframe                   |\n",
    "| 2020-08-27        | 2.0     | Lavanya    | Moved lab to course repo in GitLab                         |\n",
    "\n",
    "<hr>\n",
    "\n",
    "## <h3 align=\"center\"> © IBM Corporation 2020. All rights reserved. <h3/>\n"
   ]
  }
 ],
 "metadata": {
  "anaconda-cloud": {},
  "kernelspec": {
   "display_name": "Python 3",
   "language": "python",
   "name": "python3"
  },
  "language_info": {
   "codemirror_mode": {
    "name": "ipython",
    "version": 3
   },
   "file_extension": ".py",
   "mimetype": "text/x-python",
   "name": "python",
   "nbconvert_exporter": "python",
   "pygments_lexer": "ipython3",
   "version": "3.7.6"
  }
 },
 "nbformat": 4,
 "nbformat_minor": 4
}