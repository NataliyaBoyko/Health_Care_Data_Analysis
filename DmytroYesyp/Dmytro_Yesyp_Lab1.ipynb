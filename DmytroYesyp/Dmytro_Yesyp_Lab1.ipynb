{
 "cells": [
  {
   "cell_type": "markdown",
   "source": [
    "<center>\n",
    "    <img src=\"https://cf-courses-data.s3.us.cloud-object-storage.appdomain.cloud/assets/logos/SN_web_lightmode.png\" width=\"300\" alt=\"SN_web_lightmode.png logo\"/>\n",
    "</center>\n",
    "\n",
    "# Investigation of diabetes patients readmission among US hospitals\n",
    "\n",
    "# Lab 1 Dataset Creation\n",
    "\n",
    "Estimated time needed: **10** minutes\n",
    "\n",
    "## Objectives\n",
    "\n",
    "After completing this lab you will be able to:\n",
    "\n",
    "*   Acquire data in various ways\n",
    "*   Obtain insights from data with Pandas library\n"
   ],
   "metadata": {
    "collapsed": false
   }
  },
  {
   "cell_type": "markdown",
   "source": [
    "<h2>Table of Contents</h2>\n",
    "\n",
    "<div class=\"alert alert-block alert-info\" style=\"margin-top: 20px\">\n",
    "<ol>\n",
    "    <li><a href=\"https://#data_acquisition\">Data Acquisition</a>\n",
    "    <li><a href=\"https://#data_acquisition\">Data Acquisition</a>\n",
    "    <li><a href=\"https://#basic_insight\">Basic Insight of Dataset</a></li>\n",
    "</ol>\n",
    "\n",
    "</div>\n",
    "<hr>\n"
   ],
   "metadata": {
    "collapsed": false
   }
  },
  {
   "cell_type": "markdown",
   "metadata": {},
   "source": [
    "<h1 id=\"data_acquisition\">Data Acquisition</h1>\n",
    "<p>\n",
    "There are various formats for a dataset: .csv, .json, .xlsx  etc. The dataset can be stored in different places, on your local machine or sometimes online.<br>\n",
    "\n",
    "In this section, you will learn how to load a dataset into our Jupyter Notebook.<br>\n",
    "\n",
    "In our case, the Diabetes Dataset is an online source, and it is in a CSV (comma separated value) format. Let's use this dataset as an example to practice data reading.\n",
    "\n",
    "<ul>\n",
    "    <li>Data source: <a href=\"https://www.kaggle.com/datasets/brandao/diabetes\" target=\"_blank\">https://www.kaggle.com/datasets/brandao/diabetes</a></li>\n",
    "    <li>Data type: csv</li>\n",
    "</ul>\n",
    "\n",
    "The statistical data obtained from https://www.kaggle.com/datasets/brandao/diabetes under [CC0: Public Domain](https://creativecommons.org/publicdomain/zero/1.0/) license.\n",
    "\n",
    "The Pandas Library is a useful tool that enables us to read various datasets into a dataframe; our Jupyter notebook platforms have a built-in <b>Pandas Library</b> so that all we need to do is import Pandas without installing.\n",
    "</p>\n"
   ]
  },
  {
   "cell_type": "markdown",
   "metadata": {},
   "source": [
    "you are running the lab in your  browser, so we will install the libraries using `piplite`\n"
   ]
  },
  {
   "cell_type": "code",
   "execution_count": 3,
   "metadata": {},
   "outputs": [],
   "source": [
    "#you are running the lab in your  browser, so we will install the libraries using ``piplite``\n",
    "#import piplite\n",
    "#import micropip\n",
    "#await piplite.install(['pandas'])\n",
    "#await piplite.install(['matplotlib'])\n",
    "#await piplite.install(['scipy'])\n",
    "#await piplite.install(['seaborn'])\n",
    "#await micropip.install(['ipywidgets'],keep_going=True)\n",
    "#await micropip.install(['tqdm'],keep_going=True)\n"
   ]
  },
  {
   "cell_type": "markdown",
   "metadata": {},
   "source": [
    "If you run the lab locally using Anaconda, you can load the correct library and versions by uncommenting the following:\n"
   ]
  },
  {
   "cell_type": "code",
   "execution_count": 4,
   "metadata": {},
   "outputs": [],
   "source": [
    "#install specific version of libraries used in  lab\n",
    "#! mamba install pandas==1.3.3  -y\n",
    "#! mamba install numpy=1.21.2 -y"
   ]
  },
  {
   "cell_type": "code",
   "execution_count": 5,
   "metadata": {},
   "outputs": [],
   "source": [
    "# import pandas library\n",
    "import pandas as pd\n",
    "import numpy as np"
   ]
  },
  {
   "cell_type": "markdown",
   "metadata": {},
   "source": [
    "This function will download the dataset into your browser\n"
   ]
  },
  {
   "cell_type": "code",
   "execution_count": 6,
   "metadata": {},
   "outputs": [],
   "source": [
    "#This function will download the dataset into your browser \n",
    "\n",
    "#from pyodide.http import pyfetch\n",
    "#\n",
    "#async def download(url, filename):\n",
    "#    response = await pyfetch(url)\n",
    "#    if response.status == 200:\n",
    "#        with open(filename, \"wb\") as f:\n",
    "#            f.write(await response.bytes())"
   ]
  },
  {
   "cell_type": "markdown",
   "metadata": {},
   "source": [
    "<h2>Read Data</h2>\n",
    "<p>\n",
    "We use <code>pandas.read_csv()</code> function to read the csv file. In the brackets, we put the file path along with a quotation mark so that pandas will read the file into a dataframe from that address. The file path can be either an URL or your local file address.<br>\n",
    "\n",
    "You can also assign the dataset to any variable you create.\n",
    "\n",
    "</p>\n"
   ]
  },
  {
   "cell_type": "code",
   "execution_count": 7,
   "metadata": {},
   "outputs": [],
   "source": [
    "path = \"diabetic_data.csv\""
   ]
  },
  {
   "cell_type": "markdown",
   "metadata": {},
   "source": [
    "you will need to download the dataset; if you are running locally, please comment out the following\n"
   ]
  },
  {
   "cell_type": "code",
   "execution_count": 8,
   "metadata": {},
   "outputs": [],
   "source": [
    "#you will need to download the dataset; if you are running locally, please comment out the following \n",
    "# await download(path, \"diabetic_data.csv\")\n",
    "# path=\"diabetic_data.csv\""
   ]
  },
  {
   "cell_type": "code",
   "execution_count": 9,
   "metadata": {},
   "outputs": [],
   "source": [
    "# Import pandas library\n",
    "import pandas as pd\n",
    "\n",
    "# Read the online file by the URL provides above, and assign it to variable \"df\"\n",
    "\n",
    "df = pd.read_csv(path)"
   ]
  },
  {
   "cell_type": "markdown",
   "metadata": {},
   "source": [
    "After reading the dataset, we can use the <code>dataframe.head(n)</code> method to check the top n rows of the dataframe, where n is an integer. Contrary to <code>dataframe.head(n)</code>, <code>dataframe.tail(n)</code> will show you the bottom n rows of the dataframe.\n"
   ]
  },
  {
   "cell_type": "code",
   "execution_count": 10,
   "metadata": {},
   "outputs": [
    {
     "name": "stdout",
     "output_type": "stream",
     "text": [
      "The first 5 rows of the dataframe\n"
     ]
    },
    {
     "data": {
      "text/plain": "   encounter_id  patient_nbr             race  gender      age weight  \\\n0       2278392      8222157        Caucasian  Female   [0-10)      ?   \n1        149190     55629189        Caucasian  Female  [10-20)      ?   \n2         64410     86047875  AfricanAmerican  Female  [20-30)      ?   \n3        500364     82442376        Caucasian    Male  [30-40)      ?   \n4         16680     42519267        Caucasian    Male  [40-50)      ?   \n\n   admission_type_id  discharge_disposition_id  admission_source_id  \\\n0                  6                        25                    1   \n1                  1                         1                    7   \n2                  1                         1                    7   \n3                  1                         1                    7   \n4                  1                         1                    7   \n\n   time_in_hospital  ... citoglipton insulin  glyburide-metformin  \\\n0                 1  ...          No      No                   No   \n1                 3  ...          No      Up                   No   \n2                 2  ...          No      No                   No   \n3                 2  ...          No      Up                   No   \n4                 1  ...          No  Steady                   No   \n\n   glipizide-metformin  glimepiride-pioglitazone  metformin-rosiglitazone  \\\n0                   No                        No                       No   \n1                   No                        No                       No   \n2                   No                        No                       No   \n3                   No                        No                       No   \n4                   No                        No                       No   \n\n   metformin-pioglitazone  change diabetesMed readmitted  \n0                      No      No          No         NO  \n1                      No      Ch         Yes        >30  \n2                      No      No         Yes         NO  \n3                      No      Ch         Yes         NO  \n4                      No      Ch         Yes         NO  \n\n[5 rows x 50 columns]",
      "text/html": "<div>\n<style scoped>\n    .dataframe tbody tr th:only-of-type {\n        vertical-align: middle;\n    }\n\n    .dataframe tbody tr th {\n        vertical-align: top;\n    }\n\n    .dataframe thead th {\n        text-align: right;\n    }\n</style>\n<table border=\"1\" class=\"dataframe\">\n  <thead>\n    <tr style=\"text-align: right;\">\n      <th></th>\n      <th>encounter_id</th>\n      <th>patient_nbr</th>\n      <th>race</th>\n      <th>gender</th>\n      <th>age</th>\n      <th>weight</th>\n      <th>admission_type_id</th>\n      <th>discharge_disposition_id</th>\n      <th>admission_source_id</th>\n      <th>time_in_hospital</th>\n      <th>...</th>\n      <th>citoglipton</th>\n      <th>insulin</th>\n      <th>glyburide-metformin</th>\n      <th>glipizide-metformin</th>\n      <th>glimepiride-pioglitazone</th>\n      <th>metformin-rosiglitazone</th>\n      <th>metformin-pioglitazone</th>\n      <th>change</th>\n      <th>diabetesMed</th>\n      <th>readmitted</th>\n    </tr>\n  </thead>\n  <tbody>\n    <tr>\n      <th>0</th>\n      <td>2278392</td>\n      <td>8222157</td>\n      <td>Caucasian</td>\n      <td>Female</td>\n      <td>[0-10)</td>\n      <td>?</td>\n      <td>6</td>\n      <td>25</td>\n      <td>1</td>\n      <td>1</td>\n      <td>...</td>\n      <td>No</td>\n      <td>No</td>\n      <td>No</td>\n      <td>No</td>\n      <td>No</td>\n      <td>No</td>\n      <td>No</td>\n      <td>No</td>\n      <td>No</td>\n      <td>NO</td>\n    </tr>\n    <tr>\n      <th>1</th>\n      <td>149190</td>\n      <td>55629189</td>\n      <td>Caucasian</td>\n      <td>Female</td>\n      <td>[10-20)</td>\n      <td>?</td>\n      <td>1</td>\n      <td>1</td>\n      <td>7</td>\n      <td>3</td>\n      <td>...</td>\n      <td>No</td>\n      <td>Up</td>\n      <td>No</td>\n      <td>No</td>\n      <td>No</td>\n      <td>No</td>\n      <td>No</td>\n      <td>Ch</td>\n      <td>Yes</td>\n      <td>&gt;30</td>\n    </tr>\n    <tr>\n      <th>2</th>\n      <td>64410</td>\n      <td>86047875</td>\n      <td>AfricanAmerican</td>\n      <td>Female</td>\n      <td>[20-30)</td>\n      <td>?</td>\n      <td>1</td>\n      <td>1</td>\n      <td>7</td>\n      <td>2</td>\n      <td>...</td>\n      <td>No</td>\n      <td>No</td>\n      <td>No</td>\n      <td>No</td>\n      <td>No</td>\n      <td>No</td>\n      <td>No</td>\n      <td>No</td>\n      <td>Yes</td>\n      <td>NO</td>\n    </tr>\n    <tr>\n      <th>3</th>\n      <td>500364</td>\n      <td>82442376</td>\n      <td>Caucasian</td>\n      <td>Male</td>\n      <td>[30-40)</td>\n      <td>?</td>\n      <td>1</td>\n      <td>1</td>\n      <td>7</td>\n      <td>2</td>\n      <td>...</td>\n      <td>No</td>\n      <td>Up</td>\n      <td>No</td>\n      <td>No</td>\n      <td>No</td>\n      <td>No</td>\n      <td>No</td>\n      <td>Ch</td>\n      <td>Yes</td>\n      <td>NO</td>\n    </tr>\n    <tr>\n      <th>4</th>\n      <td>16680</td>\n      <td>42519267</td>\n      <td>Caucasian</td>\n      <td>Male</td>\n      <td>[40-50)</td>\n      <td>?</td>\n      <td>1</td>\n      <td>1</td>\n      <td>7</td>\n      <td>1</td>\n      <td>...</td>\n      <td>No</td>\n      <td>Steady</td>\n      <td>No</td>\n      <td>No</td>\n      <td>No</td>\n      <td>No</td>\n      <td>No</td>\n      <td>Ch</td>\n      <td>Yes</td>\n      <td>NO</td>\n    </tr>\n  </tbody>\n</table>\n<p>5 rows × 50 columns</p>\n</div>"
     },
     "execution_count": 10,
     "metadata": {},
     "output_type": "execute_result"
    }
   ],
   "source": [
    "# show the first 5 rows using dataframe.head() method\n",
    "print(\"The first 5 rows of the dataframe\") \n",
    "df.head(5)"
   ]
  },
  {
   "cell_type": "markdown",
   "metadata": {},
   "source": [
    "<div class=\"alert alert-danger alertdanger\" style=\"margin-top: 20px\">\n",
    "    <h1> Question #1: </h1>\n",
    "    <b>Check the bottom 10 rows of data frame \"df\".</b>\n",
    "</div>\n"
   ]
  },
  {
   "cell_type": "code",
   "execution_count": 11,
   "metadata": {},
   "outputs": [],
   "source": [
    "# Write your code below and press Shift+Enter to execute"
   ]
  },
  {
   "cell_type": "markdown",
   "metadata": {},
   "source": [
    "<details><summary>Click here for the solution</summary>\n",
    "\n",
    "```python\n",
    "    print(\"The last 10 rows of the dataframe\\n\")\n",
    "    df.tail(10)\n",
    "```"
   ]
  },
  {
   "cell_type": "markdown",
   "metadata": {},
   "source": [
    "<h3>Add Headers</h3>\n",
    "<p>\n",
    "Take a look at our dataset. Pandas automatically set the header with an integer starting from 0.\n",
    "</p>\n",
    "<p>\n",
    "To better describe our data, we can introduce a header. This information is available at:  <a href=\"https://www.kaggle.com/datasets/brandao/diabetes\" target=\"_blank\">https://www.kaggle.com/datasets/brandao/diabetes</a>.\n",
    "</p>\n",
    "<p>\n",
    "To make our header look better, we can override it.\n",
    "</p>\n",
    "<p>\n",
    "First, we create a list \"headers\" that include all column names in order.\n",
    "Then, we use <code>dataframe.columns = headers</code> to replace the headers with the list we created.\n",
    "</p>"
   ]
  },
  {
   "cell_type": "code",
   "source": [
    "# create headers list\n",
    "headers = [\"Encounter Id\",\"Patient Number\",\"Race\",\"Gender\",\"Age\",\"Weight\",\"Admission Type Id\",\n",
    "           \"Discharge Disposition Id\",\"Admission Source Id\",\"Time In Hospital\",\"Payer Code\",\n",
    "           \"Medical Specialty\",\"Num Lab Procedures\",\"Num Procedures\",\"Num Medications\",\n",
    "           \"Number Outpatient\",\"Number Emergency\",\"Number Inpatient\",\"Diagnosis1\",\"Diagnosis2\",\n",
    "           \"Diagnosis3\",\"Number Diagnoses\",\"Max Glu Serum\",\"A1c Result\",\"Metformin\",\"Repaglinide\",\n",
    "           \"Nateglinide\",\"Chlorpropamide\",\"Glimepiride\",\"Acetohexamide\",\"Glipizide\",\n",
    "           \"Glyburide\",\"Tolbutamide\",\"Pioglitazone\",\"Rosiglitazone\",\"Acarbose\",\"Miglitol\",\n",
    "           \"Troglitazone\",\"Tolazamide\",\"Examide\",\"Citoglipton\",\"Insulin\",\"Glyburide-metformin\",\n",
    "           \"Glipizide-metformin\",\"Glimepiride-pioglitazone\",\"Metformin-rosiglitazone\",\"Metformin-pioglitazone\",\n",
    "           \"Change\",\"Diabetes Medication\",\"Readmitted\"]\n",
    "print(\"headers\\n\", headers)"
   ],
   "metadata": {
    "collapsed": false
   },
   "execution_count": 12,
   "outputs": [
    {
     "name": "stdout",
     "output_type": "stream",
     "text": [
      "headers\n",
      " ['Encounter Id', 'Patient Number', 'Race', 'Gender', 'Age', 'Weight', 'Admission Type Id', 'Discharge Disposition Id', 'Admission Source Id', 'Time In Hospital', 'Payer Code', 'Medical Specialty', 'Num Lab Procedures', 'Num Procedures', 'Num Medications', 'Number Outpatient', 'Number Emergency', 'Number Inpatient', 'Diagnosis1', 'Diagnosis2', 'Diagnosis3', 'Number Diagnoses', 'Max Glu Serum', 'A1c Result', 'Metformin', 'Repaglinide', 'Nateglinide', 'Chlorpropamide', 'Glimepiride', 'Acetohexamide', 'Glipizide', 'Glyburide', 'Tolbutamide', 'Pioglitazone', 'Rosiglitazone', 'Acarbose', 'Miglitol', 'Troglitazone', 'Tolazamide', 'Examide', 'Citoglipton', 'Insulin', 'Glyburide-metformin', 'Glipizide-metformin', 'Glimepiride-pioglitazone', 'Metformin-rosiglitazone', 'Metformin-pioglitazone', 'Change', 'Diabetes Medication', 'Readmitted']\n"
     ]
    }
   ]
  },
  {
   "cell_type": "code",
   "execution_count": 13,
   "metadata": {},
   "outputs": [
    {
     "data": {
      "text/plain": "   Encounter Id  Patient Number             Race  Gender       Age Weight  \\\n0       2278392         8222157        Caucasian  Female    [0-10)      ?   \n1        149190        55629189        Caucasian  Female   [10-20)      ?   \n2         64410        86047875  AfricanAmerican  Female   [20-30)      ?   \n3        500364        82442376        Caucasian    Male   [30-40)      ?   \n4         16680        42519267        Caucasian    Male   [40-50)      ?   \n5         35754        82637451        Caucasian    Male   [50-60)      ?   \n6         55842        84259809        Caucasian    Male   [60-70)      ?   \n7         63768       114882984        Caucasian    Male   [70-80)      ?   \n8         12522        48330783        Caucasian  Female   [80-90)      ?   \n9         15738        63555939        Caucasian  Female  [90-100)      ?   \n\n   Admission Type Id  Discharge Disposition Id  Admission Source Id  \\\n0                  6                        25                    1   \n1                  1                         1                    7   \n2                  1                         1                    7   \n3                  1                         1                    7   \n4                  1                         1                    7   \n5                  2                         1                    2   \n6                  3                         1                    2   \n7                  1                         1                    7   \n8                  2                         1                    4   \n9                  3                         3                    4   \n\n   Time In Hospital  ... Citoglipton Insulin  Glyburide-metformin  \\\n0                 1  ...          No      No                   No   \n1                 3  ...          No      Up                   No   \n2                 2  ...          No      No                   No   \n3                 2  ...          No      Up                   No   \n4                 1  ...          No  Steady                   No   \n5                 3  ...          No  Steady                   No   \n6                 4  ...          No  Steady                   No   \n7                 5  ...          No      No                   No   \n8                13  ...          No  Steady                   No   \n9                12  ...          No  Steady                   No   \n\n   Glipizide-metformin  Glimepiride-pioglitazone  Metformin-rosiglitazone  \\\n0                   No                        No                       No   \n1                   No                        No                       No   \n2                   No                        No                       No   \n3                   No                        No                       No   \n4                   No                        No                       No   \n5                   No                        No                       No   \n6                   No                        No                       No   \n7                   No                        No                       No   \n8                   No                        No                       No   \n9                   No                        No                       No   \n\n   Metformin-pioglitazone  Change Diabetes Medication Readmitted  \n0                      No      No                  No         NO  \n1                      No      Ch                 Yes        >30  \n2                      No      No                 Yes         NO  \n3                      No      Ch                 Yes         NO  \n4                      No      Ch                 Yes         NO  \n5                      No      No                 Yes        >30  \n6                      No      Ch                 Yes         NO  \n7                      No      No                 Yes        >30  \n8                      No      Ch                 Yes         NO  \n9                      No      Ch                 Yes         NO  \n\n[10 rows x 50 columns]",
      "text/html": "<div>\n<style scoped>\n    .dataframe tbody tr th:only-of-type {\n        vertical-align: middle;\n    }\n\n    .dataframe tbody tr th {\n        vertical-align: top;\n    }\n\n    .dataframe thead th {\n        text-align: right;\n    }\n</style>\n<table border=\"1\" class=\"dataframe\">\n  <thead>\n    <tr style=\"text-align: right;\">\n      <th></th>\n      <th>Encounter Id</th>\n      <th>Patient Number</th>\n      <th>Race</th>\n      <th>Gender</th>\n      <th>Age</th>\n      <th>Weight</th>\n      <th>Admission Type Id</th>\n      <th>Discharge Disposition Id</th>\n      <th>Admission Source Id</th>\n      <th>Time In Hospital</th>\n      <th>...</th>\n      <th>Citoglipton</th>\n      <th>Insulin</th>\n      <th>Glyburide-metformin</th>\n      <th>Glipizide-metformin</th>\n      <th>Glimepiride-pioglitazone</th>\n      <th>Metformin-rosiglitazone</th>\n      <th>Metformin-pioglitazone</th>\n      <th>Change</th>\n      <th>Diabetes Medication</th>\n      <th>Readmitted</th>\n    </tr>\n  </thead>\n  <tbody>\n    <tr>\n      <th>0</th>\n      <td>2278392</td>\n      <td>8222157</td>\n      <td>Caucasian</td>\n      <td>Female</td>\n      <td>[0-10)</td>\n      <td>?</td>\n      <td>6</td>\n      <td>25</td>\n      <td>1</td>\n      <td>1</td>\n      <td>...</td>\n      <td>No</td>\n      <td>No</td>\n      <td>No</td>\n      <td>No</td>\n      <td>No</td>\n      <td>No</td>\n      <td>No</td>\n      <td>No</td>\n      <td>No</td>\n      <td>NO</td>\n    </tr>\n    <tr>\n      <th>1</th>\n      <td>149190</td>\n      <td>55629189</td>\n      <td>Caucasian</td>\n      <td>Female</td>\n      <td>[10-20)</td>\n      <td>?</td>\n      <td>1</td>\n      <td>1</td>\n      <td>7</td>\n      <td>3</td>\n      <td>...</td>\n      <td>No</td>\n      <td>Up</td>\n      <td>No</td>\n      <td>No</td>\n      <td>No</td>\n      <td>No</td>\n      <td>No</td>\n      <td>Ch</td>\n      <td>Yes</td>\n      <td>&gt;30</td>\n    </tr>\n    <tr>\n      <th>2</th>\n      <td>64410</td>\n      <td>86047875</td>\n      <td>AfricanAmerican</td>\n      <td>Female</td>\n      <td>[20-30)</td>\n      <td>?</td>\n      <td>1</td>\n      <td>1</td>\n      <td>7</td>\n      <td>2</td>\n      <td>...</td>\n      <td>No</td>\n      <td>No</td>\n      <td>No</td>\n      <td>No</td>\n      <td>No</td>\n      <td>No</td>\n      <td>No</td>\n      <td>No</td>\n      <td>Yes</td>\n      <td>NO</td>\n    </tr>\n    <tr>\n      <th>3</th>\n      <td>500364</td>\n      <td>82442376</td>\n      <td>Caucasian</td>\n      <td>Male</td>\n      <td>[30-40)</td>\n      <td>?</td>\n      <td>1</td>\n      <td>1</td>\n      <td>7</td>\n      <td>2</td>\n      <td>...</td>\n      <td>No</td>\n      <td>Up</td>\n      <td>No</td>\n      <td>No</td>\n      <td>No</td>\n      <td>No</td>\n      <td>No</td>\n      <td>Ch</td>\n      <td>Yes</td>\n      <td>NO</td>\n    </tr>\n    <tr>\n      <th>4</th>\n      <td>16680</td>\n      <td>42519267</td>\n      <td>Caucasian</td>\n      <td>Male</td>\n      <td>[40-50)</td>\n      <td>?</td>\n      <td>1</td>\n      <td>1</td>\n      <td>7</td>\n      <td>1</td>\n      <td>...</td>\n      <td>No</td>\n      <td>Steady</td>\n      <td>No</td>\n      <td>No</td>\n      <td>No</td>\n      <td>No</td>\n      <td>No</td>\n      <td>Ch</td>\n      <td>Yes</td>\n      <td>NO</td>\n    </tr>\n    <tr>\n      <th>5</th>\n      <td>35754</td>\n      <td>82637451</td>\n      <td>Caucasian</td>\n      <td>Male</td>\n      <td>[50-60)</td>\n      <td>?</td>\n      <td>2</td>\n      <td>1</td>\n      <td>2</td>\n      <td>3</td>\n      <td>...</td>\n      <td>No</td>\n      <td>Steady</td>\n      <td>No</td>\n      <td>No</td>\n      <td>No</td>\n      <td>No</td>\n      <td>No</td>\n      <td>No</td>\n      <td>Yes</td>\n      <td>&gt;30</td>\n    </tr>\n    <tr>\n      <th>6</th>\n      <td>55842</td>\n      <td>84259809</td>\n      <td>Caucasian</td>\n      <td>Male</td>\n      <td>[60-70)</td>\n      <td>?</td>\n      <td>3</td>\n      <td>1</td>\n      <td>2</td>\n      <td>4</td>\n      <td>...</td>\n      <td>No</td>\n      <td>Steady</td>\n      <td>No</td>\n      <td>No</td>\n      <td>No</td>\n      <td>No</td>\n      <td>No</td>\n      <td>Ch</td>\n      <td>Yes</td>\n      <td>NO</td>\n    </tr>\n    <tr>\n      <th>7</th>\n      <td>63768</td>\n      <td>114882984</td>\n      <td>Caucasian</td>\n      <td>Male</td>\n      <td>[70-80)</td>\n      <td>?</td>\n      <td>1</td>\n      <td>1</td>\n      <td>7</td>\n      <td>5</td>\n      <td>...</td>\n      <td>No</td>\n      <td>No</td>\n      <td>No</td>\n      <td>No</td>\n      <td>No</td>\n      <td>No</td>\n      <td>No</td>\n      <td>No</td>\n      <td>Yes</td>\n      <td>&gt;30</td>\n    </tr>\n    <tr>\n      <th>8</th>\n      <td>12522</td>\n      <td>48330783</td>\n      <td>Caucasian</td>\n      <td>Female</td>\n      <td>[80-90)</td>\n      <td>?</td>\n      <td>2</td>\n      <td>1</td>\n      <td>4</td>\n      <td>13</td>\n      <td>...</td>\n      <td>No</td>\n      <td>Steady</td>\n      <td>No</td>\n      <td>No</td>\n      <td>No</td>\n      <td>No</td>\n      <td>No</td>\n      <td>Ch</td>\n      <td>Yes</td>\n      <td>NO</td>\n    </tr>\n    <tr>\n      <th>9</th>\n      <td>15738</td>\n      <td>63555939</td>\n      <td>Caucasian</td>\n      <td>Female</td>\n      <td>[90-100)</td>\n      <td>?</td>\n      <td>3</td>\n      <td>3</td>\n      <td>4</td>\n      <td>12</td>\n      <td>...</td>\n      <td>No</td>\n      <td>Steady</td>\n      <td>No</td>\n      <td>No</td>\n      <td>No</td>\n      <td>No</td>\n      <td>No</td>\n      <td>Ch</td>\n      <td>Yes</td>\n      <td>NO</td>\n    </tr>\n  </tbody>\n</table>\n<p>10 rows × 50 columns</p>\n</div>"
     },
     "execution_count": 13,
     "metadata": {},
     "output_type": "execute_result"
    }
   ],
   "source": [
    "df.columns = headers\n",
    "df.head(10)"
   ]
  },
  {
   "cell_type": "markdown",
   "metadata": {},
   "source": [
    "We need to replace the \"?\" symbol with NaN so the dropna() can remove the missing values:\n"
   ]
  },
  {
   "cell_type": "code",
   "execution_count": 14,
   "metadata": {},
   "outputs": [],
   "source": [
    "df1=df.replace('?',np.NaN)\n"
   ]
  },
  {
   "cell_type": "markdown",
   "metadata": {},
   "source": [
    "We can drop missing values along the column \"weight\" as follows:\n"
   ]
  },
  {
   "cell_type": "code",
   "execution_count": 15,
   "metadata": {},
   "outputs": [
    {
     "data": {
      "text/plain": "    Encounter Id  Patient Number             Race  Gender       Age Weight  \\\n1         149190        55629189        Caucasian  Female   [10-20)    NaN   \n2          64410        86047875  AfricanAmerican  Female   [20-30)    NaN   \n3         500364        82442376        Caucasian    Male   [30-40)    NaN   \n4          16680        42519267        Caucasian    Male   [40-50)    NaN   \n5          35754        82637451        Caucasian    Male   [50-60)    NaN   \n6          55842        84259809        Caucasian    Male   [60-70)    NaN   \n7          63768       114882984        Caucasian    Male   [70-80)    NaN   \n8          12522        48330783        Caucasian  Female   [80-90)    NaN   \n9          15738        63555939        Caucasian  Female  [90-100)    NaN   \n10         28236        89869032  AfricanAmerican  Female   [40-50)    NaN   \n11         36900        77391171  AfricanAmerican    Male   [60-70)    NaN   \n12         40926        85504905        Caucasian  Female   [40-50)    NaN   \n13         42570        77586282        Caucasian    Male   [80-90)    NaN   \n14         62256        49726791  AfricanAmerican  Female   [60-70)    NaN   \n15         73578        86328819  AfricanAmerican    Male   [60-70)    NaN   \n16         77076        92519352  AfricanAmerican    Male   [50-60)    NaN   \n17         84222       108662661        Caucasian  Female   [50-60)    NaN   \n18         89682       107389323  AfricanAmerican    Male   [70-80)    NaN   \n19        148530        69422211              NaN    Male   [70-80)    NaN   \n20        150006        22864131              NaN  Female   [50-60)    NaN   \n\n    Admission Type Id  Discharge Disposition Id  Admission Source Id  \\\n1                   1                         1                    7   \n2                   1                         1                    7   \n3                   1                         1                    7   \n4                   1                         1                    7   \n5                   2                         1                    2   \n6                   3                         1                    2   \n7                   1                         1                    7   \n8                   2                         1                    4   \n9                   3                         3                    4   \n10                  1                         1                    7   \n11                  2                         1                    4   \n12                  1                         3                    7   \n13                  1                         6                    7   \n14                  3                         1                    2   \n15                  1                         3                    7   \n16                  1                         1                    7   \n17                  1                         1                    7   \n18                  1                         1                    7   \n19                  3                         6                    2   \n20                  2                         1                    4   \n\n    Time In Hospital  ... Citoglipton Insulin  Glyburide-metformin  \\\n1                  3  ...          No      Up                   No   \n2                  2  ...          No      No                   No   \n3                  2  ...          No      Up                   No   \n4                  1  ...          No  Steady                   No   \n5                  3  ...          No  Steady                   No   \n6                  4  ...          No  Steady                   No   \n7                  5  ...          No      No                   No   \n8                 13  ...          No  Steady                   No   \n9                 12  ...          No  Steady                   No   \n10                 9  ...          No  Steady                   No   \n11                 7  ...          No  Steady                   No   \n12                 7  ...          No    Down                   No   \n13                10  ...          No  Steady                   No   \n14                 1  ...          No  Steady                   No   \n15                12  ...          No      Up                   No   \n16                 4  ...          No  Steady                   No   \n17                 3  ...          No      No                   No   \n18                 5  ...          No  Steady                   No   \n19                 6  ...          No  Steady                   No   \n20                 2  ...          No    Down                   No   \n\n    Glipizide-metformin  Glimepiride-pioglitazone  Metformin-rosiglitazone  \\\n1                    No                        No                       No   \n2                    No                        No                       No   \n3                    No                        No                       No   \n4                    No                        No                       No   \n5                    No                        No                       No   \n6                    No                        No                       No   \n7                    No                        No                       No   \n8                    No                        No                       No   \n9                    No                        No                       No   \n10                   No                        No                       No   \n11                   No                        No                       No   \n12                   No                        No                       No   \n13                   No                        No                       No   \n14                   No                        No                       No   \n15                   No                        No                       No   \n16                   No                        No                       No   \n17                   No                        No                       No   \n18                   No                        No                       No   \n19                   No                        No                       No   \n20                   No                        No                       No   \n\n    Metformin-pioglitazone  Change Diabetes Medication Readmitted  \n1                       No      Ch                 Yes        >30  \n2                       No      No                 Yes         NO  \n3                       No      Ch                 Yes         NO  \n4                       No      Ch                 Yes         NO  \n5                       No      No                 Yes        >30  \n6                       No      Ch                 Yes         NO  \n7                       No      No                 Yes        >30  \n8                       No      Ch                 Yes         NO  \n9                       No      Ch                 Yes         NO  \n10                      No      No                 Yes        >30  \n11                      No      Ch                 Yes        <30  \n12                      No      Ch                 Yes        <30  \n13                      No      No                 Yes         NO  \n14                      No      No                 Yes        >30  \n15                      No      Ch                 Yes         NO  \n16                      No      Ch                 Yes        <30  \n17                      No      No                 Yes         NO  \n18                      No      No                 Yes        >30  \n19                      No      Ch                 Yes         NO  \n20                      No      Ch                 Yes         NO  \n\n[20 rows x 50 columns]",
      "text/html": "<div>\n<style scoped>\n    .dataframe tbody tr th:only-of-type {\n        vertical-align: middle;\n    }\n\n    .dataframe tbody tr th {\n        vertical-align: top;\n    }\n\n    .dataframe thead th {\n        text-align: right;\n    }\n</style>\n<table border=\"1\" class=\"dataframe\">\n  <thead>\n    <tr style=\"text-align: right;\">\n      <th></th>\n      <th>Encounter Id</th>\n      <th>Patient Number</th>\n      <th>Race</th>\n      <th>Gender</th>\n      <th>Age</th>\n      <th>Weight</th>\n      <th>Admission Type Id</th>\n      <th>Discharge Disposition Id</th>\n      <th>Admission Source Id</th>\n      <th>Time In Hospital</th>\n      <th>...</th>\n      <th>Citoglipton</th>\n      <th>Insulin</th>\n      <th>Glyburide-metformin</th>\n      <th>Glipizide-metformin</th>\n      <th>Glimepiride-pioglitazone</th>\n      <th>Metformin-rosiglitazone</th>\n      <th>Metformin-pioglitazone</th>\n      <th>Change</th>\n      <th>Diabetes Medication</th>\n      <th>Readmitted</th>\n    </tr>\n  </thead>\n  <tbody>\n    <tr>\n      <th>1</th>\n      <td>149190</td>\n      <td>55629189</td>\n      <td>Caucasian</td>\n      <td>Female</td>\n      <td>[10-20)</td>\n      <td>NaN</td>\n      <td>1</td>\n      <td>1</td>\n      <td>7</td>\n      <td>3</td>\n      <td>...</td>\n      <td>No</td>\n      <td>Up</td>\n      <td>No</td>\n      <td>No</td>\n      <td>No</td>\n      <td>No</td>\n      <td>No</td>\n      <td>Ch</td>\n      <td>Yes</td>\n      <td>&gt;30</td>\n    </tr>\n    <tr>\n      <th>2</th>\n      <td>64410</td>\n      <td>86047875</td>\n      <td>AfricanAmerican</td>\n      <td>Female</td>\n      <td>[20-30)</td>\n      <td>NaN</td>\n      <td>1</td>\n      <td>1</td>\n      <td>7</td>\n      <td>2</td>\n      <td>...</td>\n      <td>No</td>\n      <td>No</td>\n      <td>No</td>\n      <td>No</td>\n      <td>No</td>\n      <td>No</td>\n      <td>No</td>\n      <td>No</td>\n      <td>Yes</td>\n      <td>NO</td>\n    </tr>\n    <tr>\n      <th>3</th>\n      <td>500364</td>\n      <td>82442376</td>\n      <td>Caucasian</td>\n      <td>Male</td>\n      <td>[30-40)</td>\n      <td>NaN</td>\n      <td>1</td>\n      <td>1</td>\n      <td>7</td>\n      <td>2</td>\n      <td>...</td>\n      <td>No</td>\n      <td>Up</td>\n      <td>No</td>\n      <td>No</td>\n      <td>No</td>\n      <td>No</td>\n      <td>No</td>\n      <td>Ch</td>\n      <td>Yes</td>\n      <td>NO</td>\n    </tr>\n    <tr>\n      <th>4</th>\n      <td>16680</td>\n      <td>42519267</td>\n      <td>Caucasian</td>\n      <td>Male</td>\n      <td>[40-50)</td>\n      <td>NaN</td>\n      <td>1</td>\n      <td>1</td>\n      <td>7</td>\n      <td>1</td>\n      <td>...</td>\n      <td>No</td>\n      <td>Steady</td>\n      <td>No</td>\n      <td>No</td>\n      <td>No</td>\n      <td>No</td>\n      <td>No</td>\n      <td>Ch</td>\n      <td>Yes</td>\n      <td>NO</td>\n    </tr>\n    <tr>\n      <th>5</th>\n      <td>35754</td>\n      <td>82637451</td>\n      <td>Caucasian</td>\n      <td>Male</td>\n      <td>[50-60)</td>\n      <td>NaN</td>\n      <td>2</td>\n      <td>1</td>\n      <td>2</td>\n      <td>3</td>\n      <td>...</td>\n      <td>No</td>\n      <td>Steady</td>\n      <td>No</td>\n      <td>No</td>\n      <td>No</td>\n      <td>No</td>\n      <td>No</td>\n      <td>No</td>\n      <td>Yes</td>\n      <td>&gt;30</td>\n    </tr>\n    <tr>\n      <th>6</th>\n      <td>55842</td>\n      <td>84259809</td>\n      <td>Caucasian</td>\n      <td>Male</td>\n      <td>[60-70)</td>\n      <td>NaN</td>\n      <td>3</td>\n      <td>1</td>\n      <td>2</td>\n      <td>4</td>\n      <td>...</td>\n      <td>No</td>\n      <td>Steady</td>\n      <td>No</td>\n      <td>No</td>\n      <td>No</td>\n      <td>No</td>\n      <td>No</td>\n      <td>Ch</td>\n      <td>Yes</td>\n      <td>NO</td>\n    </tr>\n    <tr>\n      <th>7</th>\n      <td>63768</td>\n      <td>114882984</td>\n      <td>Caucasian</td>\n      <td>Male</td>\n      <td>[70-80)</td>\n      <td>NaN</td>\n      <td>1</td>\n      <td>1</td>\n      <td>7</td>\n      <td>5</td>\n      <td>...</td>\n      <td>No</td>\n      <td>No</td>\n      <td>No</td>\n      <td>No</td>\n      <td>No</td>\n      <td>No</td>\n      <td>No</td>\n      <td>No</td>\n      <td>Yes</td>\n      <td>&gt;30</td>\n    </tr>\n    <tr>\n      <th>8</th>\n      <td>12522</td>\n      <td>48330783</td>\n      <td>Caucasian</td>\n      <td>Female</td>\n      <td>[80-90)</td>\n      <td>NaN</td>\n      <td>2</td>\n      <td>1</td>\n      <td>4</td>\n      <td>13</td>\n      <td>...</td>\n      <td>No</td>\n      <td>Steady</td>\n      <td>No</td>\n      <td>No</td>\n      <td>No</td>\n      <td>No</td>\n      <td>No</td>\n      <td>Ch</td>\n      <td>Yes</td>\n      <td>NO</td>\n    </tr>\n    <tr>\n      <th>9</th>\n      <td>15738</td>\n      <td>63555939</td>\n      <td>Caucasian</td>\n      <td>Female</td>\n      <td>[90-100)</td>\n      <td>NaN</td>\n      <td>3</td>\n      <td>3</td>\n      <td>4</td>\n      <td>12</td>\n      <td>...</td>\n      <td>No</td>\n      <td>Steady</td>\n      <td>No</td>\n      <td>No</td>\n      <td>No</td>\n      <td>No</td>\n      <td>No</td>\n      <td>Ch</td>\n      <td>Yes</td>\n      <td>NO</td>\n    </tr>\n    <tr>\n      <th>10</th>\n      <td>28236</td>\n      <td>89869032</td>\n      <td>AfricanAmerican</td>\n      <td>Female</td>\n      <td>[40-50)</td>\n      <td>NaN</td>\n      <td>1</td>\n      <td>1</td>\n      <td>7</td>\n      <td>9</td>\n      <td>...</td>\n      <td>No</td>\n      <td>Steady</td>\n      <td>No</td>\n      <td>No</td>\n      <td>No</td>\n      <td>No</td>\n      <td>No</td>\n      <td>No</td>\n      <td>Yes</td>\n      <td>&gt;30</td>\n    </tr>\n    <tr>\n      <th>11</th>\n      <td>36900</td>\n      <td>77391171</td>\n      <td>AfricanAmerican</td>\n      <td>Male</td>\n      <td>[60-70)</td>\n      <td>NaN</td>\n      <td>2</td>\n      <td>1</td>\n      <td>4</td>\n      <td>7</td>\n      <td>...</td>\n      <td>No</td>\n      <td>Steady</td>\n      <td>No</td>\n      <td>No</td>\n      <td>No</td>\n      <td>No</td>\n      <td>No</td>\n      <td>Ch</td>\n      <td>Yes</td>\n      <td>&lt;30</td>\n    </tr>\n    <tr>\n      <th>12</th>\n      <td>40926</td>\n      <td>85504905</td>\n      <td>Caucasian</td>\n      <td>Female</td>\n      <td>[40-50)</td>\n      <td>NaN</td>\n      <td>1</td>\n      <td>3</td>\n      <td>7</td>\n      <td>7</td>\n      <td>...</td>\n      <td>No</td>\n      <td>Down</td>\n      <td>No</td>\n      <td>No</td>\n      <td>No</td>\n      <td>No</td>\n      <td>No</td>\n      <td>Ch</td>\n      <td>Yes</td>\n      <td>&lt;30</td>\n    </tr>\n    <tr>\n      <th>13</th>\n      <td>42570</td>\n      <td>77586282</td>\n      <td>Caucasian</td>\n      <td>Male</td>\n      <td>[80-90)</td>\n      <td>NaN</td>\n      <td>1</td>\n      <td>6</td>\n      <td>7</td>\n      <td>10</td>\n      <td>...</td>\n      <td>No</td>\n      <td>Steady</td>\n      <td>No</td>\n      <td>No</td>\n      <td>No</td>\n      <td>No</td>\n      <td>No</td>\n      <td>No</td>\n      <td>Yes</td>\n      <td>NO</td>\n    </tr>\n    <tr>\n      <th>14</th>\n      <td>62256</td>\n      <td>49726791</td>\n      <td>AfricanAmerican</td>\n      <td>Female</td>\n      <td>[60-70)</td>\n      <td>NaN</td>\n      <td>3</td>\n      <td>1</td>\n      <td>2</td>\n      <td>1</td>\n      <td>...</td>\n      <td>No</td>\n      <td>Steady</td>\n      <td>No</td>\n      <td>No</td>\n      <td>No</td>\n      <td>No</td>\n      <td>No</td>\n      <td>No</td>\n      <td>Yes</td>\n      <td>&gt;30</td>\n    </tr>\n    <tr>\n      <th>15</th>\n      <td>73578</td>\n      <td>86328819</td>\n      <td>AfricanAmerican</td>\n      <td>Male</td>\n      <td>[60-70)</td>\n      <td>NaN</td>\n      <td>1</td>\n      <td>3</td>\n      <td>7</td>\n      <td>12</td>\n      <td>...</td>\n      <td>No</td>\n      <td>Up</td>\n      <td>No</td>\n      <td>No</td>\n      <td>No</td>\n      <td>No</td>\n      <td>No</td>\n      <td>Ch</td>\n      <td>Yes</td>\n      <td>NO</td>\n    </tr>\n    <tr>\n      <th>16</th>\n      <td>77076</td>\n      <td>92519352</td>\n      <td>AfricanAmerican</td>\n      <td>Male</td>\n      <td>[50-60)</td>\n      <td>NaN</td>\n      <td>1</td>\n      <td>1</td>\n      <td>7</td>\n      <td>4</td>\n      <td>...</td>\n      <td>No</td>\n      <td>Steady</td>\n      <td>No</td>\n      <td>No</td>\n      <td>No</td>\n      <td>No</td>\n      <td>No</td>\n      <td>Ch</td>\n      <td>Yes</td>\n      <td>&lt;30</td>\n    </tr>\n    <tr>\n      <th>17</th>\n      <td>84222</td>\n      <td>108662661</td>\n      <td>Caucasian</td>\n      <td>Female</td>\n      <td>[50-60)</td>\n      <td>NaN</td>\n      <td>1</td>\n      <td>1</td>\n      <td>7</td>\n      <td>3</td>\n      <td>...</td>\n      <td>No</td>\n      <td>No</td>\n      <td>No</td>\n      <td>No</td>\n      <td>No</td>\n      <td>No</td>\n      <td>No</td>\n      <td>No</td>\n      <td>Yes</td>\n      <td>NO</td>\n    </tr>\n    <tr>\n      <th>18</th>\n      <td>89682</td>\n      <td>107389323</td>\n      <td>AfricanAmerican</td>\n      <td>Male</td>\n      <td>[70-80)</td>\n      <td>NaN</td>\n      <td>1</td>\n      <td>1</td>\n      <td>7</td>\n      <td>5</td>\n      <td>...</td>\n      <td>No</td>\n      <td>Steady</td>\n      <td>No</td>\n      <td>No</td>\n      <td>No</td>\n      <td>No</td>\n      <td>No</td>\n      <td>No</td>\n      <td>Yes</td>\n      <td>&gt;30</td>\n    </tr>\n    <tr>\n      <th>19</th>\n      <td>148530</td>\n      <td>69422211</td>\n      <td>NaN</td>\n      <td>Male</td>\n      <td>[70-80)</td>\n      <td>NaN</td>\n      <td>3</td>\n      <td>6</td>\n      <td>2</td>\n      <td>6</td>\n      <td>...</td>\n      <td>No</td>\n      <td>Steady</td>\n      <td>No</td>\n      <td>No</td>\n      <td>No</td>\n      <td>No</td>\n      <td>No</td>\n      <td>Ch</td>\n      <td>Yes</td>\n      <td>NO</td>\n    </tr>\n    <tr>\n      <th>20</th>\n      <td>150006</td>\n      <td>22864131</td>\n      <td>NaN</td>\n      <td>Female</td>\n      <td>[50-60)</td>\n      <td>NaN</td>\n      <td>2</td>\n      <td>1</td>\n      <td>4</td>\n      <td>2</td>\n      <td>...</td>\n      <td>No</td>\n      <td>Down</td>\n      <td>No</td>\n      <td>No</td>\n      <td>No</td>\n      <td>No</td>\n      <td>No</td>\n      <td>Ch</td>\n      <td>Yes</td>\n      <td>NO</td>\n    </tr>\n  </tbody>\n</table>\n<p>20 rows × 50 columns</p>\n</div>"
     },
     "execution_count": 15,
     "metadata": {},
     "output_type": "execute_result"
    }
   ],
   "source": [
    "df=df1.dropna(subset=[\"Diagnosis2\"], axis=0)\n",
    "df.head(20)"
   ]
  },
  {
   "cell_type": "markdown",
   "metadata": {},
   "source": [
    "Now, we have successfully read the raw dataset and added the correct headers into the dataframe.\n"
   ]
  },
  {
   "cell_type": "markdown",
   "metadata": {},
   "source": [
    " <div class=\"alert alert-danger alertdanger\" style=\"margin-top: 20px\">\n",
    "<h1> Question #2: </h1>\n",
    "<b>Find the name of the columns of the dataframe.</b>\n",
    "</div>\n"
   ]
  },
  {
   "cell_type": "code",
   "execution_count": 16,
   "metadata": {},
   "outputs": [],
   "source": [
    "# Write your code below and press Shift+Enter to execute"
   ]
  },
  {
   "cell_type": "markdown",
   "metadata": {},
   "source": [
    "<details><summary>Click here for the solution</summary>\n",
    "\n",
    "```python\n",
    "    print(df.columns)\n",
    "```\n",
    "</details>\n"
   ]
  },
  {
   "cell_type": "markdown",
   "metadata": {},
   "source": [
    "<h2>Save Dataset</h2>\n",
    "<p>\n",
    "Correspondingly, Pandas enables us to save the dataset to csv. By using the <code>dataframe.to_csv()</code> method, you can add the file path and name along with quotation marks in the brackets.\n",
    "</p>\n",
    "<p>\n",
    "For example, if you would save the dataframe <b>df</b> as <b>diabetes.csv</b> to your local machine, you may use the syntax below, where <code>index = False</code> means the row names will not be written.\n",
    "</p>\n"
   ]
  },
  {
   "cell_type": "code",
   "execution_count": 17,
   "outputs": [],
   "source": [
    "df.to_csv(\"diabetes.csv\", index=False)"
   ],
   "metadata": {
    "collapsed": false
   }
  },
  {
   "cell_type": "markdown",
   "metadata": {},
   "source": [
    "We can also read and save other file formats. We can use similar functions like **`pd.read_csv()`** and **`df.to_csv()`** for other data formats. The functions are listed in the following table:\n"
   ]
  },
  {
   "cell_type": "markdown",
   "metadata": {},
   "source": [
    "<h2>Read/Save Other Data Formats</h2>\n",
    "\n",
    "| Data Formate |        Read       |            Save |\n",
    "| ------------ | :---------------: | --------------: |\n",
    "| csv          |  `pd.read_csv()`  |   `df.to_csv()` |\n",
    "| json         |  `pd.read_json()` |  `df.to_json()` |\n",
    "| excel        | `pd.read_excel()` | `df.to_excel()` |\n",
    "| hdf          |  `pd.read_hdf()`  |   `df.to_hdf()` |\n",
    "| sql          |  `pd.read_sql()`  |   `df.to_sql()` |\n",
    "| ...          |        ...        |             ... |\n"
   ]
  },
  {
   "cell_type": "markdown",
   "metadata": {},
   "source": [
    "<h1 id=\"basic_insight\">Basic Insight of Dataset</h1>\n",
    "<p>\n",
    "After reading data into Pandas dataframe, it is time for us to explore the dataset.<br>\n",
    "\n",
    "There are several ways to obtain essential insights of the data to help us better understand our dataset.\n",
    "\n",
    "</p>\n"
   ]
  },
  {
   "cell_type": "markdown",
   "metadata": {},
   "source": [
    "<h2>Data Types</h2>\n",
    "<p>\n",
    "Data has a variety of types.<br>\n",
    "\n",
    "The main types stored in Pandas dataframes are <b>object</b>, <b>float</b>, <b>int</b>, <b>bool</b> and <b>datetime64</b>. In order to better learn about each attribute, it is always good for us to know the data type of each column. In Pandas:\n",
    "\n",
    "</p>\n"
   ]
  },
  {
   "cell_type": "code",
   "execution_count": 18,
   "metadata": {},
   "outputs": [
    {
     "data": {
      "text/plain": "Encounter Id                 int64\nPatient Number               int64\nRace                        object\nGender                      object\nAge                         object\nWeight                      object\nAdmission Type Id            int64\nDischarge Disposition Id     int64\nAdmission Source Id          int64\nTime In Hospital             int64\nPayer Code                  object\nMedical Specialty           object\nNum Lab Procedures           int64\nNum Procedures               int64\nNum Medications              int64\nNumber Outpatient            int64\nNumber Emergency             int64\nNumber Inpatient             int64\nDiagnosis1                  object\nDiagnosis2                  object\nDiagnosis3                  object\nNumber Diagnoses             int64\nMax Glu Serum               object\nA1c Result                  object\nMetformin                   object\nRepaglinide                 object\nNateglinide                 object\nChlorpropamide              object\nGlimepiride                 object\nAcetohexamide               object\nGlipizide                   object\nGlyburide                   object\nTolbutamide                 object\nPioglitazone                object\nRosiglitazone               object\nAcarbose                    object\nMiglitol                    object\nTroglitazone                object\nTolazamide                  object\nExamide                     object\nCitoglipton                 object\nInsulin                     object\nGlyburide-metformin         object\nGlipizide-metformin         object\nGlimepiride-pioglitazone    object\nMetformin-rosiglitazone     object\nMetformin-pioglitazone      object\nChange                      object\nDiabetes Medication         object\nReadmitted                  object\ndtype: object"
     },
     "execution_count": 18,
     "metadata": {},
     "output_type": "execute_result"
    }
   ],
   "source": [
    "df.dtypes\n"
   ]
  },
  {
   "cell_type": "markdown",
   "metadata": {},
   "source": [
    "A series with the data type of each column is returned.\n"
   ]
  },
  {
   "cell_type": "code",
   "execution_count": 19,
   "metadata": {},
   "outputs": [
    {
     "name": "stdout",
     "output_type": "stream",
     "text": [
      "Encounter Id                 int64\n",
      "Patient Number               int64\n",
      "Race                        object\n",
      "Gender                      object\n",
      "Age                         object\n",
      "Weight                      object\n",
      "Admission Type Id            int64\n",
      "Discharge Disposition Id     int64\n",
      "Admission Source Id          int64\n",
      "Time In Hospital             int64\n",
      "Payer Code                  object\n",
      "Medical Specialty           object\n",
      "Num Lab Procedures           int64\n",
      "Num Procedures               int64\n",
      "Num Medications              int64\n",
      "Number Outpatient            int64\n",
      "Number Emergency             int64\n",
      "Number Inpatient             int64\n",
      "Diagnosis1                  object\n",
      "Diagnosis2                  object\n",
      "Diagnosis3                  object\n",
      "Number Diagnoses             int64\n",
      "Max Glu Serum               object\n",
      "A1c Result                  object\n",
      "Metformin                   object\n",
      "Repaglinide                 object\n",
      "Nateglinide                 object\n",
      "Chlorpropamide              object\n",
      "Glimepiride                 object\n",
      "Acetohexamide               object\n",
      "Glipizide                   object\n",
      "Glyburide                   object\n",
      "Tolbutamide                 object\n",
      "Pioglitazone                object\n",
      "Rosiglitazone               object\n",
      "Acarbose                    object\n",
      "Miglitol                    object\n",
      "Troglitazone                object\n",
      "Tolazamide                  object\n",
      "Examide                     object\n",
      "Citoglipton                 object\n",
      "Insulin                     object\n",
      "Glyburide-metformin         object\n",
      "Glipizide-metformin         object\n",
      "Glimepiride-pioglitazone    object\n",
      "Metformin-rosiglitazone     object\n",
      "Metformin-pioglitazone      object\n",
      "Change                      object\n",
      "Diabetes Medication         object\n",
      "Readmitted                  object\n",
      "dtype: object\n"
     ]
    }
   ],
   "source": [
    "# check the data type of data frame \"df\" by .dtypes\n",
    "print(df.dtypes)"
   ]
  },
  {
   "cell_type": "markdown",
   "metadata": {},
   "source": [
    "<p>\n",
    "As shown above, it is clear to see that the data type of \"EncounterId\" and \"PatientNbr\" are <code>int64</code>, \"Race\" is <code>object</code>, etc.\n",
    "</p>\n",
    "<p>\n",
    "These data types can be changed; we will learn how to accomplish this in a later module.\n",
    "</p>\n"
   ]
  },
  {
   "cell_type": "markdown",
   "metadata": {},
   "source": [
    "<h2>Describe</h2>\n",
    "If we would like to get a statistical summary of each column e.g. count, column mean value, column standard deviation, etc., we use the describe method:\n"
   ]
  },
  {
   "cell_type": "raw",
   "metadata": {},
   "source": [
    "dataframe.describe()"
   ]
  },
  {
   "cell_type": "markdown",
   "metadata": {},
   "source": [
    "This method will provide various summary statistics, excluding <code>NaN</code> (Not a Number) values.\n"
   ]
  },
  {
   "cell_type": "code",
   "execution_count": 20,
   "metadata": {},
   "outputs": [
    {
     "data": {
      "text/plain": "       Encounter Id  Patient Number  Admission Type Id  \\\ncount  1.014080e+05    1.014080e+05      101408.000000   \nmean   1.653798e+08    5.441447e+07           2.025146   \nstd    1.026549e+08    3.869626e+07           1.446063   \nmin    1.252200e+04    1.350000e+02           1.000000   \n25%    8.508277e+07    2.342905e+07           1.000000   \n50%    1.525413e+08    4.562748e+07           1.000000   \n75%    2.304963e+08    8.762756e+07           3.000000   \nmax    4.438672e+08    1.895026e+08           8.000000   \n\n       Discharge Disposition Id  Admission Source Id  Time In Hospital  \\\ncount             101408.000000        101408.000000     101408.000000   \nmean                   3.719618             5.756163          4.401369   \nstd                    5.281755             4.066608          2.986794   \nmin                    1.000000             1.000000          1.000000   \n25%                    1.000000             1.000000          2.000000   \n50%                    1.000000             7.000000          4.000000   \n75%                    4.000000             7.000000          6.000000   \nmax                   28.000000            25.000000         14.000000   \n\n       Num Lab Procedures  Num Procedures  Num Medications  Number Outpatient  \\\ncount       101408.000000   101408.000000    101408.000000      101408.000000   \nmean            43.102201        1.342862        16.048892           0.370326   \nstd             19.684696        1.706917         8.122657           1.269159   \nmin              1.000000        0.000000         1.000000           0.000000   \n25%             31.000000        0.000000        10.000000           0.000000   \n50%             44.000000        1.000000        15.000000           0.000000   \n75%             57.000000        2.000000        20.000000           0.000000   \nmax            132.000000        6.000000        81.000000          42.000000   \n\n       Number Emergency  Number Inpatient  Number Diagnoses  \ncount     101408.000000     101408.000000     101408.000000  \nmean           0.198199          0.636439          7.439117  \nstd            0.931316          1.262910          1.911536  \nmin            0.000000          0.000000          2.000000  \n25%            0.000000          0.000000          6.000000  \n50%            0.000000          0.000000          8.000000  \n75%            0.000000          1.000000          9.000000  \nmax           76.000000         21.000000         16.000000  ",
      "text/html": "<div>\n<style scoped>\n    .dataframe tbody tr th:only-of-type {\n        vertical-align: middle;\n    }\n\n    .dataframe tbody tr th {\n        vertical-align: top;\n    }\n\n    .dataframe thead th {\n        text-align: right;\n    }\n</style>\n<table border=\"1\" class=\"dataframe\">\n  <thead>\n    <tr style=\"text-align: right;\">\n      <th></th>\n      <th>Encounter Id</th>\n      <th>Patient Number</th>\n      <th>Admission Type Id</th>\n      <th>Discharge Disposition Id</th>\n      <th>Admission Source Id</th>\n      <th>Time In Hospital</th>\n      <th>Num Lab Procedures</th>\n      <th>Num Procedures</th>\n      <th>Num Medications</th>\n      <th>Number Outpatient</th>\n      <th>Number Emergency</th>\n      <th>Number Inpatient</th>\n      <th>Number Diagnoses</th>\n    </tr>\n  </thead>\n  <tbody>\n    <tr>\n      <th>count</th>\n      <td>1.014080e+05</td>\n      <td>1.014080e+05</td>\n      <td>101408.000000</td>\n      <td>101408.000000</td>\n      <td>101408.000000</td>\n      <td>101408.000000</td>\n      <td>101408.000000</td>\n      <td>101408.000000</td>\n      <td>101408.000000</td>\n      <td>101408.000000</td>\n      <td>101408.000000</td>\n      <td>101408.000000</td>\n      <td>101408.000000</td>\n    </tr>\n    <tr>\n      <th>mean</th>\n      <td>1.653798e+08</td>\n      <td>5.441447e+07</td>\n      <td>2.025146</td>\n      <td>3.719618</td>\n      <td>5.756163</td>\n      <td>4.401369</td>\n      <td>43.102201</td>\n      <td>1.342862</td>\n      <td>16.048892</td>\n      <td>0.370326</td>\n      <td>0.198199</td>\n      <td>0.636439</td>\n      <td>7.439117</td>\n    </tr>\n    <tr>\n      <th>std</th>\n      <td>1.026549e+08</td>\n      <td>3.869626e+07</td>\n      <td>1.446063</td>\n      <td>5.281755</td>\n      <td>4.066608</td>\n      <td>2.986794</td>\n      <td>19.684696</td>\n      <td>1.706917</td>\n      <td>8.122657</td>\n      <td>1.269159</td>\n      <td>0.931316</td>\n      <td>1.262910</td>\n      <td>1.911536</td>\n    </tr>\n    <tr>\n      <th>min</th>\n      <td>1.252200e+04</td>\n      <td>1.350000e+02</td>\n      <td>1.000000</td>\n      <td>1.000000</td>\n      <td>1.000000</td>\n      <td>1.000000</td>\n      <td>1.000000</td>\n      <td>0.000000</td>\n      <td>1.000000</td>\n      <td>0.000000</td>\n      <td>0.000000</td>\n      <td>0.000000</td>\n      <td>2.000000</td>\n    </tr>\n    <tr>\n      <th>25%</th>\n      <td>8.508277e+07</td>\n      <td>2.342905e+07</td>\n      <td>1.000000</td>\n      <td>1.000000</td>\n      <td>1.000000</td>\n      <td>2.000000</td>\n      <td>31.000000</td>\n      <td>0.000000</td>\n      <td>10.000000</td>\n      <td>0.000000</td>\n      <td>0.000000</td>\n      <td>0.000000</td>\n      <td>6.000000</td>\n    </tr>\n    <tr>\n      <th>50%</th>\n      <td>1.525413e+08</td>\n      <td>4.562748e+07</td>\n      <td>1.000000</td>\n      <td>1.000000</td>\n      <td>7.000000</td>\n      <td>4.000000</td>\n      <td>44.000000</td>\n      <td>1.000000</td>\n      <td>15.000000</td>\n      <td>0.000000</td>\n      <td>0.000000</td>\n      <td>0.000000</td>\n      <td>8.000000</td>\n    </tr>\n    <tr>\n      <th>75%</th>\n      <td>2.304963e+08</td>\n      <td>8.762756e+07</td>\n      <td>3.000000</td>\n      <td>4.000000</td>\n      <td>7.000000</td>\n      <td>6.000000</td>\n      <td>57.000000</td>\n      <td>2.000000</td>\n      <td>20.000000</td>\n      <td>0.000000</td>\n      <td>0.000000</td>\n      <td>1.000000</td>\n      <td>9.000000</td>\n    </tr>\n    <tr>\n      <th>max</th>\n      <td>4.438672e+08</td>\n      <td>1.895026e+08</td>\n      <td>8.000000</td>\n      <td>28.000000</td>\n      <td>25.000000</td>\n      <td>14.000000</td>\n      <td>132.000000</td>\n      <td>6.000000</td>\n      <td>81.000000</td>\n      <td>42.000000</td>\n      <td>76.000000</td>\n      <td>21.000000</td>\n      <td>16.000000</td>\n    </tr>\n  </tbody>\n</table>\n</div>"
     },
     "execution_count": 20,
     "metadata": {},
     "output_type": "execute_result"
    }
   ],
   "source": [
    "df.describe()"
   ]
  },
  {
   "cell_type": "markdown",
   "metadata": {},
   "source": [
    "<p>\n",
    "This shows the statistical summary of all numeric-typed (int, float) columns.<br>\n",
    "\n",
    "For example, the attribute \"DischargeDispositionId\" has 3197 counts, the mean value of this column is 2.71, the standard deviation is 2.85, the minimum value is 1, 25th percentile is 1, 50th percentile is 1, 75th percentile is 3, and the maximum value is 18. <br>\n",
    "\n",
    "However, what if we would also like to check all the columns including those that are of type object? <br><br>\n",
    "\n",
    "You can add an argument <code>include = \"all\"</code> inside the bracket. Let's try it again.\n",
    "\n",
    "</p>\n"
   ]
  },
  {
   "cell_type": "code",
   "execution_count": 21,
   "metadata": {},
   "outputs": [
    {
     "data": {
      "text/plain": "        Encounter Id  Patient Number       Race  Gender      Age    Weight  \\\ncount   1.014080e+05    1.014080e+05      99157  101408   101408      3185   \nunique           NaN             NaN          5       3       10         9   \ntop              NaN             NaN  Caucasian  Female  [70-80)  [75-100)   \nfreq             NaN             NaN      75839   54528    26033      1336   \nmean    1.653798e+08    5.441447e+07        NaN     NaN      NaN       NaN   \nstd     1.026549e+08    3.869626e+07        NaN     NaN      NaN       NaN   \nmin     1.252200e+04    1.350000e+02        NaN     NaN      NaN       NaN   \n25%     8.508277e+07    2.342905e+07        NaN     NaN      NaN       NaN   \n50%     1.525413e+08    4.562748e+07        NaN     NaN      NaN       NaN   \n75%     2.304963e+08    8.762756e+07        NaN     NaN      NaN       NaN   \nmax     4.438672e+08    1.895026e+08        NaN     NaN      NaN       NaN   \n\n        Admission Type Id  Discharge Disposition Id  Admission Source Id  \\\ncount       101408.000000             101408.000000        101408.000000   \nunique                NaN                       NaN                  NaN   \ntop                   NaN                       NaN                  NaN   \nfreq                  NaN                       NaN                  NaN   \nmean             2.025146                  3.719618             5.756163   \nstd              1.446063                  5.281755             4.066608   \nmin              1.000000                  1.000000             1.000000   \n25%              1.000000                  1.000000             1.000000   \n50%              1.000000                  1.000000             7.000000   \n75%              3.000000                  4.000000             7.000000   \nmax              8.000000                 28.000000            25.000000   \n\n        Time In Hospital  ... Citoglipton Insulin  Glyburide-metformin  \\\ncount      101408.000000  ...      101408  101408               101408   \nunique               NaN  ...           1       4                    4   \ntop                  NaN  ...          No      No                   No   \nfreq                 NaN  ...      101408   47282               100705   \nmean            4.401369  ...         NaN     NaN                  NaN   \nstd             2.986794  ...         NaN     NaN                  NaN   \nmin             1.000000  ...         NaN     NaN                  NaN   \n25%             2.000000  ...         NaN     NaN                  NaN   \n50%             4.000000  ...         NaN     NaN                  NaN   \n75%             6.000000  ...         NaN     NaN                  NaN   \nmax            14.000000  ...         NaN     NaN                  NaN   \n\n        Glipizide-metformin  Glimepiride-pioglitazone  \\\ncount                101408                    101408   \nunique                    2                         2   \ntop                      No                        No   \nfreq                 101395                    101407   \nmean                    NaN                       NaN   \nstd                     NaN                       NaN   \nmin                     NaN                       NaN   \n25%                     NaN                       NaN   \n50%                     NaN                       NaN   \n75%                     NaN                       NaN   \nmax                     NaN                       NaN   \n\n        Metformin-rosiglitazone  Metformin-pioglitazone  Change  \\\ncount                    101408                  101408  101408   \nunique                        2                       2       2   \ntop                          No                      No      No   \nfreq                     101406                  101407   54553   \nmean                        NaN                     NaN     NaN   \nstd                         NaN                     NaN     NaN   \nmin                         NaN                     NaN     NaN   \n25%                         NaN                     NaN     NaN   \n50%                         NaN                     NaN     NaN   \n75%                         NaN                     NaN     NaN   \nmax                         NaN                     NaN     NaN   \n\n       Diabetes Medication Readmitted  \ncount               101408     101408  \nunique                   2          3  \ntop                    Yes         NO  \nfreq                 78062      54609  \nmean                   NaN        NaN  \nstd                    NaN        NaN  \nmin                    NaN        NaN  \n25%                    NaN        NaN  \n50%                    NaN        NaN  \n75%                    NaN        NaN  \nmax                    NaN        NaN  \n\n[11 rows x 50 columns]",
      "text/html": "<div>\n<style scoped>\n    .dataframe tbody tr th:only-of-type {\n        vertical-align: middle;\n    }\n\n    .dataframe tbody tr th {\n        vertical-align: top;\n    }\n\n    .dataframe thead th {\n        text-align: right;\n    }\n</style>\n<table border=\"1\" class=\"dataframe\">\n  <thead>\n    <tr style=\"text-align: right;\">\n      <th></th>\n      <th>Encounter Id</th>\n      <th>Patient Number</th>\n      <th>Race</th>\n      <th>Gender</th>\n      <th>Age</th>\n      <th>Weight</th>\n      <th>Admission Type Id</th>\n      <th>Discharge Disposition Id</th>\n      <th>Admission Source Id</th>\n      <th>Time In Hospital</th>\n      <th>...</th>\n      <th>Citoglipton</th>\n      <th>Insulin</th>\n      <th>Glyburide-metformin</th>\n      <th>Glipizide-metformin</th>\n      <th>Glimepiride-pioglitazone</th>\n      <th>Metformin-rosiglitazone</th>\n      <th>Metformin-pioglitazone</th>\n      <th>Change</th>\n      <th>Diabetes Medication</th>\n      <th>Readmitted</th>\n    </tr>\n  </thead>\n  <tbody>\n    <tr>\n      <th>count</th>\n      <td>1.014080e+05</td>\n      <td>1.014080e+05</td>\n      <td>99157</td>\n      <td>101408</td>\n      <td>101408</td>\n      <td>3185</td>\n      <td>101408.000000</td>\n      <td>101408.000000</td>\n      <td>101408.000000</td>\n      <td>101408.000000</td>\n      <td>...</td>\n      <td>101408</td>\n      <td>101408</td>\n      <td>101408</td>\n      <td>101408</td>\n      <td>101408</td>\n      <td>101408</td>\n      <td>101408</td>\n      <td>101408</td>\n      <td>101408</td>\n      <td>101408</td>\n    </tr>\n    <tr>\n      <th>unique</th>\n      <td>NaN</td>\n      <td>NaN</td>\n      <td>5</td>\n      <td>3</td>\n      <td>10</td>\n      <td>9</td>\n      <td>NaN</td>\n      <td>NaN</td>\n      <td>NaN</td>\n      <td>NaN</td>\n      <td>...</td>\n      <td>1</td>\n      <td>4</td>\n      <td>4</td>\n      <td>2</td>\n      <td>2</td>\n      <td>2</td>\n      <td>2</td>\n      <td>2</td>\n      <td>2</td>\n      <td>3</td>\n    </tr>\n    <tr>\n      <th>top</th>\n      <td>NaN</td>\n      <td>NaN</td>\n      <td>Caucasian</td>\n      <td>Female</td>\n      <td>[70-80)</td>\n      <td>[75-100)</td>\n      <td>NaN</td>\n      <td>NaN</td>\n      <td>NaN</td>\n      <td>NaN</td>\n      <td>...</td>\n      <td>No</td>\n      <td>No</td>\n      <td>No</td>\n      <td>No</td>\n      <td>No</td>\n      <td>No</td>\n      <td>No</td>\n      <td>No</td>\n      <td>Yes</td>\n      <td>NO</td>\n    </tr>\n    <tr>\n      <th>freq</th>\n      <td>NaN</td>\n      <td>NaN</td>\n      <td>75839</td>\n      <td>54528</td>\n      <td>26033</td>\n      <td>1336</td>\n      <td>NaN</td>\n      <td>NaN</td>\n      <td>NaN</td>\n      <td>NaN</td>\n      <td>...</td>\n      <td>101408</td>\n      <td>47282</td>\n      <td>100705</td>\n      <td>101395</td>\n      <td>101407</td>\n      <td>101406</td>\n      <td>101407</td>\n      <td>54553</td>\n      <td>78062</td>\n      <td>54609</td>\n    </tr>\n    <tr>\n      <th>mean</th>\n      <td>1.653798e+08</td>\n      <td>5.441447e+07</td>\n      <td>NaN</td>\n      <td>NaN</td>\n      <td>NaN</td>\n      <td>NaN</td>\n      <td>2.025146</td>\n      <td>3.719618</td>\n      <td>5.756163</td>\n      <td>4.401369</td>\n      <td>...</td>\n      <td>NaN</td>\n      <td>NaN</td>\n      <td>NaN</td>\n      <td>NaN</td>\n      <td>NaN</td>\n      <td>NaN</td>\n      <td>NaN</td>\n      <td>NaN</td>\n      <td>NaN</td>\n      <td>NaN</td>\n    </tr>\n    <tr>\n      <th>std</th>\n      <td>1.026549e+08</td>\n      <td>3.869626e+07</td>\n      <td>NaN</td>\n      <td>NaN</td>\n      <td>NaN</td>\n      <td>NaN</td>\n      <td>1.446063</td>\n      <td>5.281755</td>\n      <td>4.066608</td>\n      <td>2.986794</td>\n      <td>...</td>\n      <td>NaN</td>\n      <td>NaN</td>\n      <td>NaN</td>\n      <td>NaN</td>\n      <td>NaN</td>\n      <td>NaN</td>\n      <td>NaN</td>\n      <td>NaN</td>\n      <td>NaN</td>\n      <td>NaN</td>\n    </tr>\n    <tr>\n      <th>min</th>\n      <td>1.252200e+04</td>\n      <td>1.350000e+02</td>\n      <td>NaN</td>\n      <td>NaN</td>\n      <td>NaN</td>\n      <td>NaN</td>\n      <td>1.000000</td>\n      <td>1.000000</td>\n      <td>1.000000</td>\n      <td>1.000000</td>\n      <td>...</td>\n      <td>NaN</td>\n      <td>NaN</td>\n      <td>NaN</td>\n      <td>NaN</td>\n      <td>NaN</td>\n      <td>NaN</td>\n      <td>NaN</td>\n      <td>NaN</td>\n      <td>NaN</td>\n      <td>NaN</td>\n    </tr>\n    <tr>\n      <th>25%</th>\n      <td>8.508277e+07</td>\n      <td>2.342905e+07</td>\n      <td>NaN</td>\n      <td>NaN</td>\n      <td>NaN</td>\n      <td>NaN</td>\n      <td>1.000000</td>\n      <td>1.000000</td>\n      <td>1.000000</td>\n      <td>2.000000</td>\n      <td>...</td>\n      <td>NaN</td>\n      <td>NaN</td>\n      <td>NaN</td>\n      <td>NaN</td>\n      <td>NaN</td>\n      <td>NaN</td>\n      <td>NaN</td>\n      <td>NaN</td>\n      <td>NaN</td>\n      <td>NaN</td>\n    </tr>\n    <tr>\n      <th>50%</th>\n      <td>1.525413e+08</td>\n      <td>4.562748e+07</td>\n      <td>NaN</td>\n      <td>NaN</td>\n      <td>NaN</td>\n      <td>NaN</td>\n      <td>1.000000</td>\n      <td>1.000000</td>\n      <td>7.000000</td>\n      <td>4.000000</td>\n      <td>...</td>\n      <td>NaN</td>\n      <td>NaN</td>\n      <td>NaN</td>\n      <td>NaN</td>\n      <td>NaN</td>\n      <td>NaN</td>\n      <td>NaN</td>\n      <td>NaN</td>\n      <td>NaN</td>\n      <td>NaN</td>\n    </tr>\n    <tr>\n      <th>75%</th>\n      <td>2.304963e+08</td>\n      <td>8.762756e+07</td>\n      <td>NaN</td>\n      <td>NaN</td>\n      <td>NaN</td>\n      <td>NaN</td>\n      <td>3.000000</td>\n      <td>4.000000</td>\n      <td>7.000000</td>\n      <td>6.000000</td>\n      <td>...</td>\n      <td>NaN</td>\n      <td>NaN</td>\n      <td>NaN</td>\n      <td>NaN</td>\n      <td>NaN</td>\n      <td>NaN</td>\n      <td>NaN</td>\n      <td>NaN</td>\n      <td>NaN</td>\n      <td>NaN</td>\n    </tr>\n    <tr>\n      <th>max</th>\n      <td>4.438672e+08</td>\n      <td>1.895026e+08</td>\n      <td>NaN</td>\n      <td>NaN</td>\n      <td>NaN</td>\n      <td>NaN</td>\n      <td>8.000000</td>\n      <td>28.000000</td>\n      <td>25.000000</td>\n      <td>14.000000</td>\n      <td>...</td>\n      <td>NaN</td>\n      <td>NaN</td>\n      <td>NaN</td>\n      <td>NaN</td>\n      <td>NaN</td>\n      <td>NaN</td>\n      <td>NaN</td>\n      <td>NaN</td>\n      <td>NaN</td>\n      <td>NaN</td>\n    </tr>\n  </tbody>\n</table>\n<p>11 rows × 50 columns</p>\n</div>"
     },
     "execution_count": 21,
     "metadata": {},
     "output_type": "execute_result"
    }
   ],
   "source": [
    "# describe all the columns in \"df\" \n",
    "df.describe(include = \"all\")"
   ]
  },
  {
   "cell_type": "markdown",
   "metadata": {},
   "source": [
    "<p>\n",
    "Now it provides the statistical summary of all the columns, including object-typed attributes.<br>\n",
    "\n",
    "We can now see how many unique values there, which one is the top value and the frequency of top value in the object-typed columns.<br>\n",
    "\n",
    "Some values in the table above show as \"NaN\". This is because those numbers are not available regarding a particular column type.<br>\n",
    "\n",
    "</p>"
   ]
  },
  {
   "cell_type": "markdown",
   "metadata": {},
   "source": [
    "<div class=\"alert alert-danger alertdanger\" style=\"margin-top: 20px\">\n",
    "<h1> Question #3: </h1>\n",
    "\n",
    "<p>\n",
    "You can select the columns of a dataframe by indicating the name of each column. For example, you can select the three columns as follows:\n",
    "</p>\n",
    "<p>\n",
    "    <code>dataframe[[' column 1 ',column 2', 'column 3']]</code>\n",
    "</p>\n",
    "<p>\n",
    "Where \"column\" is the name of the column, you can apply the method  \".describe()\" to get the statistics of those columns as follows:\n",
    "</p>\n",
    "<p>\n",
    "    <code>dataframe[[' column 1 ',column 2', 'column 3'] ].describe()</code>\n",
    "</p>\n",
    "\n",
    "Apply the  method to \".describe()\" to the columns 'Age' and 'Weight'.\n",
    "\n",
    "</div>\n"
   ]
  },
  {
   "cell_type": "code",
   "execution_count": 22,
   "metadata": {},
   "outputs": [],
   "source": [
    "# Write your code below and press Shift+Enter to execute"
   ]
  },
  {
   "cell_type": "markdown",
   "metadata": {},
   "source": [
    "<details><summary>Click here for the solution</summary>\n",
    "\n",
    "```python\n",
    "    df[['Age', 'Weight']].describe()\n",
    "```\n",
    "</details>"
   ]
  },
  {
   "cell_type": "markdown",
   "metadata": {},
   "source": [
    "<h2>Info</h2>\n",
    "Another method you can use to check your dataset is:\n"
   ]
  },
  {
   "cell_type": "raw",
   "metadata": {},
   "source": [
    "dataframe.info()"
   ]
  },
  {
   "cell_type": "markdown",
   "metadata": {},
   "source": [
    "It provides a concise summary of your DataFrame.\n",
    "\n",
    "This method prints information about a DataFrame including the index dtype and columns, non-null values and memory usage.\n"
   ]
  },
  {
   "cell_type": "code",
   "execution_count": 23,
   "metadata": {},
   "outputs": [
    {
     "name": "stdout",
     "output_type": "stream",
     "text": [
      "<class 'pandas.core.frame.DataFrame'>\n",
      "Int64Index: 101408 entries, 1 to 101765\n",
      "Data columns (total 50 columns):\n",
      " #   Column                    Non-Null Count   Dtype \n",
      "---  ------                    --------------   ----- \n",
      " 0   Encounter Id              101408 non-null  int64 \n",
      " 1   Patient Number            101408 non-null  int64 \n",
      " 2   Race                      99157 non-null   object\n",
      " 3   Gender                    101408 non-null  object\n",
      " 4   Age                       101408 non-null  object\n",
      " 5   Weight                    3185 non-null    object\n",
      " 6   Admission Type Id         101408 non-null  int64 \n",
      " 7   Discharge Disposition Id  101408 non-null  int64 \n",
      " 8   Admission Source Id       101408 non-null  int64 \n",
      " 9   Time In Hospital          101408 non-null  int64 \n",
      " 10  Payer Code                61314 non-null   object\n",
      " 11  Medical Specialty         51557 non-null   object\n",
      " 12  Num Lab Procedures        101408 non-null  int64 \n",
      " 13  Num Procedures            101408 non-null  int64 \n",
      " 14  Num Medications           101408 non-null  int64 \n",
      " 15  Number Outpatient         101408 non-null  int64 \n",
      " 16  Number Emergency          101408 non-null  int64 \n",
      " 17  Number Inpatient          101408 non-null  int64 \n",
      " 18  Diagnosis1                101388 non-null  object\n",
      " 19  Diagnosis2                101408 non-null  object\n",
      " 20  Diagnosis3                100264 non-null  object\n",
      " 21  Number Diagnoses          101408 non-null  int64 \n",
      " 22  Max Glu Serum             101408 non-null  object\n",
      " 23  A1c Result                101408 non-null  object\n",
      " 24  Metformin                 101408 non-null  object\n",
      " 25  Repaglinide               101408 non-null  object\n",
      " 26  Nateglinide               101408 non-null  object\n",
      " 27  Chlorpropamide            101408 non-null  object\n",
      " 28  Glimepiride               101408 non-null  object\n",
      " 29  Acetohexamide             101408 non-null  object\n",
      " 30  Glipizide                 101408 non-null  object\n",
      " 31  Glyburide                 101408 non-null  object\n",
      " 32  Tolbutamide               101408 non-null  object\n",
      " 33  Pioglitazone              101408 non-null  object\n",
      " 34  Rosiglitazone             101408 non-null  object\n",
      " 35  Acarbose                  101408 non-null  object\n",
      " 36  Miglitol                  101408 non-null  object\n",
      " 37  Troglitazone              101408 non-null  object\n",
      " 38  Tolazamide                101408 non-null  object\n",
      " 39  Examide                   101408 non-null  object\n",
      " 40  Citoglipton               101408 non-null  object\n",
      " 41  Insulin                   101408 non-null  object\n",
      " 42  Glyburide-metformin       101408 non-null  object\n",
      " 43  Glipizide-metformin       101408 non-null  object\n",
      " 44  Glimepiride-pioglitazone  101408 non-null  object\n",
      " 45  Metformin-rosiglitazone   101408 non-null  object\n",
      " 46  Metformin-pioglitazone    101408 non-null  object\n",
      " 47  Change                    101408 non-null  object\n",
      " 48  Diabetes Medication       101408 non-null  object\n",
      " 49  Readmitted                101408 non-null  object\n",
      "dtypes: int64(13), object(37)\n",
      "memory usage: 39.5+ MB\n"
     ]
    }
   ],
   "source": [
    "# look at the info of \"df\"\n",
    "df.info()"
   ]
  },
  {
   "cell_type": "markdown",
   "metadata": {},
   "source": [
    "<h1>Excellent! You have just completed the  Introduction Notebook!</h1>\n"
   ]
  },
  {
   "cell_type": "markdown",
   "metadata": {},
   "source": [
    "### Thank you for completing this lab!\n",
    "\n",
    "## Author\n",
    "\n",
    "<a href=\"https://www.linkedin.com/in/joseph-s-50398b136/?utm_medium=Exinfluencer&utm_source=Exinfluencer&utm_content=000026UJ&utm_term=10006555&utm_id=NA-SkillsNetwork-Channel-SkillsNetworkCoursesIBMDeveloperSkillsNetworkDA0101ENSkillsNetwork20235326-2021-01-01\" target=\"_blank\">Joseph Santarcangelo</a>\n",
    "\n",
    "### Other Contributors\n",
    "\n",
    "<a href=\"https://www.linkedin.com/in/mahdi-noorian-58219234/?utm_medium=Exinfluencer&utm_source=Exinfluencer&utm_content=000026UJ&utm_term=10006555&utm_id=NA-SkillsNetwork-Channel-SkillsNetworkCoursesIBMDeveloperSkillsNetworkDA0101ENSkillsNetwork20235326-2021-01-01\" target=\"_blank\">Mahdi Noorian PhD</a>\n",
    "\n",
    "Bahare Talayian\n",
    "\n",
    "Eric Xiao\n",
    "\n",
    "Steven Dong\n",
    "\n",
    "Parizad\n",
    "\n",
    "Hima Vasudevan\n",
    "\n",
    "<a href=\"https://www.linkedin.com/in/fiorellawever/?utm_medium=Exinfluencer&utm_source=Exinfluencer&utm_content=000026UJ&utm_term=10006555&utm_id=NA-SkillsNetwork-Channel-SkillsNetworkCoursesIBMDeveloperSkillsNetworkDA0101ENSkillsNetwork20235326-2021-01-01\" target=\"_blank\">Fiorella Wenver</a>\n",
    "\n",
    "<a href=\"https:// https://www.linkedin.com/in/yi-leng-yao-84451275/ \" target=\"_blank\" >Yi Yao</a>.\n",
    "\n",
    "## Change Log\n",
    "\n",
    "| Date (YYYY-MM-DD) | Version | Changed By | Change Description                                         |\n",
    "| ----------------- | ------- | ---------- | ---------------------------------------------------------- |\n",
    "| 2022-08-23        | 2.4     | Malika     | Import micropip added and parameter for ipwidgets and tqdm |\n",
    "| 2020-10-30        | 2.3     | Lakshmi    | Changed URL of the csv                                     |\n",
    "| 2020-09-22        | 2.2     | Nayef      | Added replace() method to remove '?'                       |\n",
    "| 2020-09-09        | 2.1     | Lakshmi    | Made changes in info method of dataframe                   |\n",
    "| 2020-08-27        | 2.0     | Lavanya    | Moved lab to course repo in GitLab                         |\n",
    "\n",
    "<hr>\n",
    "\n",
    "## <h3 align=\"center\"> © IBM Corporation 2020. All rights reserved. <h3/>\n"
   ]
  }
 ],
 "metadata": {
  "anaconda-cloud": {},
  "kernelspec": {
   "display_name": "Python 3",
   "language": "python",
   "name": "python3"
  },
  "language_info": {
   "codemirror_mode": {
    "name": "ipython",
    "version": 3
   },
   "file_extension": ".py",
   "mimetype": "text/x-python",
   "name": "python",
   "nbconvert_exporter": "python",
   "pygments_lexer": "ipython3",
   "version": "3.7.6"
  }
 },
 "nbformat": 4,
 "nbformat_minor": 4
}